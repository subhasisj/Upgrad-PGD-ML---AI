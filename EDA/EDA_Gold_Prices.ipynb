{
 "metadata": {
  "language_info": {
   "codemirror_mode": {
    "name": "ipython",
    "version": 3
   },
   "file_extension": ".py",
   "mimetype": "text/x-python",
   "name": "python",
   "nbconvert_exporter": "python",
   "pygments_lexer": "ipython3",
   "version": "3.8.5-final"
  },
  "orig_nbformat": 2,
  "kernelspec": {
   "name": "python_defaultSpec_1599076806477",
   "display_name": "Python 3.8.5 64-bit ('upgradpy': conda)"
  }
 },
 "nbformat": 4,
 "nbformat_minor": 2,
 "cells": [
  {
   "cell_type": "code",
   "execution_count": 1,
   "metadata": {},
   "outputs": [],
   "source": [
    "import pandas as pd\n",
    "import matplotlib.pyplot as plt"
   ]
  },
  {
   "cell_type": "code",
   "execution_count": 2,
   "metadata": {},
   "outputs": [
    {
     "output_type": "execute_result",
     "data": {
      "text/plain": "    Month  SilverPrice  GoldPrice\n0  Mar-97       186.48   12619.24\n1  Apr-97       170.65   12338.59\n2  May-97       170.44   12314.94\n3  Jun-97       169.96   12202.78\n4  Jul-97       155.80   11582.07",
      "text/html": "<div>\n<style scoped>\n    .dataframe tbody tr th:only-of-type {\n        vertical-align: middle;\n    }\n\n    .dataframe tbody tr th {\n        vertical-align: top;\n    }\n\n    .dataframe thead th {\n        text-align: right;\n    }\n</style>\n<table border=\"1\" class=\"dataframe\">\n  <thead>\n    <tr style=\"text-align: right;\">\n      <th></th>\n      <th>Month</th>\n      <th>SilverPrice</th>\n      <th>GoldPrice</th>\n    </tr>\n  </thead>\n  <tbody>\n    <tr>\n      <th>0</th>\n      <td>Mar-97</td>\n      <td>186.48</td>\n      <td>12619.24</td>\n    </tr>\n    <tr>\n      <th>1</th>\n      <td>Apr-97</td>\n      <td>170.65</td>\n      <td>12338.59</td>\n    </tr>\n    <tr>\n      <th>2</th>\n      <td>May-97</td>\n      <td>170.44</td>\n      <td>12314.94</td>\n    </tr>\n    <tr>\n      <th>3</th>\n      <td>Jun-97</td>\n      <td>169.96</td>\n      <td>12202.78</td>\n    </tr>\n    <tr>\n      <th>4</th>\n      <td>Jul-97</td>\n      <td>155.80</td>\n      <td>11582.07</td>\n    </tr>\n  </tbody>\n</table>\n</div>"
     },
     "metadata": {},
     "execution_count": 2
    }
   ],
   "source": [
    "df = pd.read_csv('./Data/EDA_Gold_Silver_prices.csv')\n",
    "df.head()"
   ]
  },
  {
   "cell_type": "code",
   "execution_count": 4,
   "metadata": {},
   "outputs": [
    {
     "output_type": "execute_result",
     "data": {
      "text/plain": "0.9542559570539783"
     },
     "metadata": {},
     "execution_count": 4
    }
   ],
   "source": [
    "df.SilverPrice.corr(df.GoldPrice)"
   ]
  },
  {
   "cell_type": "code",
   "execution_count": 6,
   "metadata": {},
   "outputs": [],
   "source": [
    "df['only_month'] = df.Month.apply(lambda x: x.split('-')[0])"
   ]
  },
  {
   "cell_type": "code",
   "execution_count": 8,
   "metadata": {},
   "outputs": [],
   "source": [
    "df['only_year'] = df.Month.apply(lambda x: x.split('-')[1])"
   ]
  },
  {
   "cell_type": "code",
   "execution_count": 10,
   "metadata": {},
   "outputs": [
    {
     "output_type": "execute_result",
     "data": {
      "text/plain": "      Month  SilverPrice  GoldPrice only_month only_year\n236  Nov-16      1175.45   83622.54        Nov        16\n237  Dec-16      1115.72   78583.48        Dec        16\n238  Jan-17      1151.15   81191.05        Jan        17\n239  Feb-17      1203.35   82818.17        Feb        17\n240  Mar-17      1162.15   81169.45        Mar        17",
      "text/html": "<div>\n<style scoped>\n    .dataframe tbody tr th:only-of-type {\n        vertical-align: middle;\n    }\n\n    .dataframe tbody tr th {\n        vertical-align: top;\n    }\n\n    .dataframe thead th {\n        text-align: right;\n    }\n</style>\n<table border=\"1\" class=\"dataframe\">\n  <thead>\n    <tr style=\"text-align: right;\">\n      <th></th>\n      <th>Month</th>\n      <th>SilverPrice</th>\n      <th>GoldPrice</th>\n      <th>only_month</th>\n      <th>only_year</th>\n    </tr>\n  </thead>\n  <tbody>\n    <tr>\n      <th>236</th>\n      <td>Nov-16</td>\n      <td>1175.45</td>\n      <td>83622.54</td>\n      <td>Nov</td>\n      <td>16</td>\n    </tr>\n    <tr>\n      <th>237</th>\n      <td>Dec-16</td>\n      <td>1115.72</td>\n      <td>78583.48</td>\n      <td>Dec</td>\n      <td>16</td>\n    </tr>\n    <tr>\n      <th>238</th>\n      <td>Jan-17</td>\n      <td>1151.15</td>\n      <td>81191.05</td>\n      <td>Jan</td>\n      <td>17</td>\n    </tr>\n    <tr>\n      <th>239</th>\n      <td>Feb-17</td>\n      <td>1203.35</td>\n      <td>82818.17</td>\n      <td>Feb</td>\n      <td>17</td>\n    </tr>\n    <tr>\n      <th>240</th>\n      <td>Mar-17</td>\n      <td>1162.15</td>\n      <td>81169.45</td>\n      <td>Mar</td>\n      <td>17</td>\n    </tr>\n  </tbody>\n</table>\n</div>"
     },
     "metadata": {},
     "execution_count": 10
    }
   ],
   "source": [
    "df.tail()"
   ]
  },
  {
   "cell_type": "code",
   "execution_count": 13,
   "metadata": {},
   "outputs": [],
   "source": [
    "df_2008 = df[df['only_year']=='08']"
   ]
  },
  {
   "cell_type": "code",
   "execution_count": 15,
   "metadata": {},
   "outputs": [
    {
     "output_type": "execute_result",
     "data": {
      "text/plain": "0.009583757463369393"
     },
     "metadata": {},
     "execution_count": 15
    }
   ],
   "source": [
    "df_2008.SilverPrice.corr(df.GoldPrice)"
   ]
  },
  {
   "cell_type": "code",
   "execution_count": null,
   "metadata": {},
   "outputs": [],
   "source": []
  }
 ]
}