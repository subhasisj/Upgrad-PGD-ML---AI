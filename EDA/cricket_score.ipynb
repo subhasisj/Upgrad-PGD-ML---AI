{
 "metadata": {
  "language_info": {
   "codemirror_mode": {
    "name": "ipython",
    "version": 3
   },
   "file_extension": ".py",
   "mimetype": "text/x-python",
   "name": "python",
   "nbconvert_exporter": "python",
   "pygments_lexer": "ipython3",
   "version": "3.8.5-final"
  },
  "orig_nbformat": 2,
  "kernelspec": {
   "name": "python_defaultSpec_1599160742013",
   "display_name": "Python 3.8.5 64-bit ('upgradpy': conda)"
  }
 },
 "nbformat": 4,
 "nbformat_minor": 2,
 "cells": [
  {
   "cell_type": "code",
   "execution_count": 1,
   "metadata": {},
   "outputs": [],
   "source": [
    "import pandas as pd\n",
    "import numpy as np\n"
   ]
  },
  {
   "cell_type": "code",
   "execution_count": 2,
   "metadata": {},
   "outputs": [],
   "source": [
    "df = pd.read_csv('./Data/odi-batting.csv')"
   ]
  },
  {
   "cell_type": "code",
   "execution_count": 3,
   "metadata": {},
   "outputs": [
    {
     "output_type": "execute_result",
     "data": {
      "text/plain": "       Country            Player  Runs   MatchDate Weekday  \\\n0  Afghanistan  Mohammad Shahzad   118  16-02-2010     Tue   \n1  Afghanistan  Mohammad Shahzad   110  01-09-2009     Tue   \n2  Afghanistan  Mohammad Shahzad   100  16-08-2010     Mon   \n3  Afghanistan  Mohammad Shahzad    82  10-07-2010     Sat   \n4  Afghanistan  Mohammad Shahzad    57  01-07-2010     Thu   \n\n                  Ground       Versus  Balls  \n0     Sharjah CA Stadium       Canada    121  \n1             VRA Ground  Netherlands    111  \n2  Cambusdoon New Ground     Scotland     72  \n3            Hazelaarweg  Netherlands    108  \n4    Sportpark Westvliet       Canada     57  ",
      "text/html": "<div>\n<style scoped>\n    .dataframe tbody tr th:only-of-type {\n        vertical-align: middle;\n    }\n\n    .dataframe tbody tr th {\n        vertical-align: top;\n    }\n\n    .dataframe thead th {\n        text-align: right;\n    }\n</style>\n<table border=\"1\" class=\"dataframe\">\n  <thead>\n    <tr style=\"text-align: right;\">\n      <th></th>\n      <th>Country</th>\n      <th>Player</th>\n      <th>Runs</th>\n      <th>MatchDate</th>\n      <th>Weekday</th>\n      <th>Ground</th>\n      <th>Versus</th>\n      <th>Balls</th>\n    </tr>\n  </thead>\n  <tbody>\n    <tr>\n      <th>0</th>\n      <td>Afghanistan</td>\n      <td>Mohammad Shahzad</td>\n      <td>118</td>\n      <td>16-02-2010</td>\n      <td>Tue</td>\n      <td>Sharjah CA Stadium</td>\n      <td>Canada</td>\n      <td>121</td>\n    </tr>\n    <tr>\n      <th>1</th>\n      <td>Afghanistan</td>\n      <td>Mohammad Shahzad</td>\n      <td>110</td>\n      <td>01-09-2009</td>\n      <td>Tue</td>\n      <td>VRA Ground</td>\n      <td>Netherlands</td>\n      <td>111</td>\n    </tr>\n    <tr>\n      <th>2</th>\n      <td>Afghanistan</td>\n      <td>Mohammad Shahzad</td>\n      <td>100</td>\n      <td>16-08-2010</td>\n      <td>Mon</td>\n      <td>Cambusdoon New Ground</td>\n      <td>Scotland</td>\n      <td>72</td>\n    </tr>\n    <tr>\n      <th>3</th>\n      <td>Afghanistan</td>\n      <td>Mohammad Shahzad</td>\n      <td>82</td>\n      <td>10-07-2010</td>\n      <td>Sat</td>\n      <td>Hazelaarweg</td>\n      <td>Netherlands</td>\n      <td>108</td>\n    </tr>\n    <tr>\n      <th>4</th>\n      <td>Afghanistan</td>\n      <td>Mohammad Shahzad</td>\n      <td>57</td>\n      <td>01-07-2010</td>\n      <td>Thu</td>\n      <td>Sportpark Westvliet</td>\n      <td>Canada</td>\n      <td>57</td>\n    </tr>\n  </tbody>\n</table>\n</div>"
     },
     "metadata": {},
     "execution_count": 3
    }
   ],
   "source": [
    "df.head()"
   ]
  },
  {
   "cell_type": "code",
   "execution_count": 4,
   "metadata": {},
   "outputs": [
    {
     "output_type": "execute_result",
     "data": {
      "text/plain": "               Runs         Balls\ncount  50284.000000  50284.000000\nmean      24.725141     34.019052\nstd       25.783347     30.773306\nmin        1.000000      1.000000\n25%        6.000000     11.000000\n50%       16.000000     24.000000\n75%       35.000000     48.000000\nmax      200.000000    210.000000",
      "text/html": "<div>\n<style scoped>\n    .dataframe tbody tr th:only-of-type {\n        vertical-align: middle;\n    }\n\n    .dataframe tbody tr th {\n        vertical-align: top;\n    }\n\n    .dataframe thead th {\n        text-align: right;\n    }\n</style>\n<table border=\"1\" class=\"dataframe\">\n  <thead>\n    <tr style=\"text-align: right;\">\n      <th></th>\n      <th>Runs</th>\n      <th>Balls</th>\n    </tr>\n  </thead>\n  <tbody>\n    <tr>\n      <th>count</th>\n      <td>50284.000000</td>\n      <td>50284.000000</td>\n    </tr>\n    <tr>\n      <th>mean</th>\n      <td>24.725141</td>\n      <td>34.019052</td>\n    </tr>\n    <tr>\n      <th>std</th>\n      <td>25.783347</td>\n      <td>30.773306</td>\n    </tr>\n    <tr>\n      <th>min</th>\n      <td>1.000000</td>\n      <td>1.000000</td>\n    </tr>\n    <tr>\n      <th>25%</th>\n      <td>6.000000</td>\n      <td>11.000000</td>\n    </tr>\n    <tr>\n      <th>50%</th>\n      <td>16.000000</td>\n      <td>24.000000</td>\n    </tr>\n    <tr>\n      <th>75%</th>\n      <td>35.000000</td>\n      <td>48.000000</td>\n    </tr>\n    <tr>\n      <th>max</th>\n      <td>200.000000</td>\n      <td>210.000000</td>\n    </tr>\n  </tbody>\n</table>\n</div>"
     },
     "metadata": {},
     "execution_count": 4
    }
   ],
   "source": [
    "df.describe()"
   ]
  },
  {
   "cell_type": "code",
   "execution_count": 5,
   "metadata": {},
   "outputs": [
    {
     "output_type": "execute_result",
     "data": {
      "text/plain": "Country      0\nPlayer       0\nRuns         0\nMatchDate    0\nWeekday      0\nGround       0\nVersus       0\nBalls        0\ndtype: int64"
     },
     "metadata": {},
     "execution_count": 5
    }
   ],
   "source": [
    "df.isna().sum()"
   ]
  },
  {
   "cell_type": "code",
   "execution_count": 6,
   "metadata": {},
   "outputs": [],
   "source": [
    "df['Centuries'] = df.Runs.apply(lambda x : x //100 )"
   ]
  },
  {
   "cell_type": "code",
   "execution_count": 7,
   "metadata": {},
   "outputs": [
    {
     "output_type": "execute_result",
     "data": {
      "text/plain": "       Country            Player  Runs   MatchDate Weekday  \\\n0  Afghanistan  Mohammad Shahzad   118  16-02-2010     Tue   \n1  Afghanistan  Mohammad Shahzad   110  01-09-2009     Tue   \n2  Afghanistan  Mohammad Shahzad   100  16-08-2010     Mon   \n3  Afghanistan  Mohammad Shahzad    82  10-07-2010     Sat   \n4  Afghanistan  Mohammad Shahzad    57  01-07-2010     Thu   \n\n                  Ground       Versus  Balls  Centuries  \n0     Sharjah CA Stadium       Canada    121          1  \n1             VRA Ground  Netherlands    111          1  \n2  Cambusdoon New Ground     Scotland     72          1  \n3            Hazelaarweg  Netherlands    108          0  \n4    Sportpark Westvliet       Canada     57          0  ",
      "text/html": "<div>\n<style scoped>\n    .dataframe tbody tr th:only-of-type {\n        vertical-align: middle;\n    }\n\n    .dataframe tbody tr th {\n        vertical-align: top;\n    }\n\n    .dataframe thead th {\n        text-align: right;\n    }\n</style>\n<table border=\"1\" class=\"dataframe\">\n  <thead>\n    <tr style=\"text-align: right;\">\n      <th></th>\n      <th>Country</th>\n      <th>Player</th>\n      <th>Runs</th>\n      <th>MatchDate</th>\n      <th>Weekday</th>\n      <th>Ground</th>\n      <th>Versus</th>\n      <th>Balls</th>\n      <th>Centuries</th>\n    </tr>\n  </thead>\n  <tbody>\n    <tr>\n      <th>0</th>\n      <td>Afghanistan</td>\n      <td>Mohammad Shahzad</td>\n      <td>118</td>\n      <td>16-02-2010</td>\n      <td>Tue</td>\n      <td>Sharjah CA Stadium</td>\n      <td>Canada</td>\n      <td>121</td>\n      <td>1</td>\n    </tr>\n    <tr>\n      <th>1</th>\n      <td>Afghanistan</td>\n      <td>Mohammad Shahzad</td>\n      <td>110</td>\n      <td>01-09-2009</td>\n      <td>Tue</td>\n      <td>VRA Ground</td>\n      <td>Netherlands</td>\n      <td>111</td>\n      <td>1</td>\n    </tr>\n    <tr>\n      <th>2</th>\n      <td>Afghanistan</td>\n      <td>Mohammad Shahzad</td>\n      <td>100</td>\n      <td>16-08-2010</td>\n      <td>Mon</td>\n      <td>Cambusdoon New Ground</td>\n      <td>Scotland</td>\n      <td>72</td>\n      <td>1</td>\n    </tr>\n    <tr>\n      <th>3</th>\n      <td>Afghanistan</td>\n      <td>Mohammad Shahzad</td>\n      <td>82</td>\n      <td>10-07-2010</td>\n      <td>Sat</td>\n      <td>Hazelaarweg</td>\n      <td>Netherlands</td>\n      <td>108</td>\n      <td>0</td>\n    </tr>\n    <tr>\n      <th>4</th>\n      <td>Afghanistan</td>\n      <td>Mohammad Shahzad</td>\n      <td>57</td>\n      <td>01-07-2010</td>\n      <td>Thu</td>\n      <td>Sportpark Westvliet</td>\n      <td>Canada</td>\n      <td>57</td>\n      <td>0</td>\n    </tr>\n  </tbody>\n</table>\n</div>"
     },
     "metadata": {},
     "execution_count": 7
    }
   ],
   "source": [
    "df.head()"
   ]
  },
  {
   "cell_type": "code",
   "execution_count": 11,
   "metadata": {},
   "outputs": [
    {
     "output_type": "execute_result",
     "data": {
      "text/plain": "      Country              Player  Runs   MatchDate Weekday  \\\n13601   India  Sachin R Tendulkar   200  24-02-2010     Wed   \n\n                           Ground        Versus  Balls  Centuries  \n13601  Captain Roop Singh Stadium  South Africa    147          2  ",
      "text/html": "<div>\n<style scoped>\n    .dataframe tbody tr th:only-of-type {\n        vertical-align: middle;\n    }\n\n    .dataframe tbody tr th {\n        vertical-align: top;\n    }\n\n    .dataframe thead th {\n        text-align: right;\n    }\n</style>\n<table border=\"1\" class=\"dataframe\">\n  <thead>\n    <tr style=\"text-align: right;\">\n      <th></th>\n      <th>Country</th>\n      <th>Player</th>\n      <th>Runs</th>\n      <th>MatchDate</th>\n      <th>Weekday</th>\n      <th>Ground</th>\n      <th>Versus</th>\n      <th>Balls</th>\n      <th>Centuries</th>\n    </tr>\n  </thead>\n  <tbody>\n    <tr>\n      <th>13601</th>\n      <td>India</td>\n      <td>Sachin R Tendulkar</td>\n      <td>200</td>\n      <td>24-02-2010</td>\n      <td>Wed</td>\n      <td>Captain Roop Singh Stadium</td>\n      <td>South Africa</td>\n      <td>147</td>\n      <td>2</td>\n    </tr>\n  </tbody>\n</table>\n</div>"
     },
     "metadata": {},
     "execution_count": 11
    }
   ],
   "source": [
    "df[df.Runs==200]"
   ]
  },
  {
   "cell_type": "code",
   "execution_count": 14,
   "metadata": {},
   "outputs": [],
   "source": [
    "centuries_df = pd.DataFrame(df.groupby('Player').agg({'Centuries':'sum'}))"
   ]
  },
  {
   "cell_type": "code",
   "execution_count": 18,
   "metadata": {},
   "outputs": [
    {
     "output_type": "execute_result",
     "data": {
      "text/plain": "                     Centuries\nPlayer                        \nSachin R Tendulkar          49\nRicky T Ponting             30\nSanath T Jayasuriya         28\nSourav C Ganguly            22\nHerschelle H Gibbs          21\n...                        ...\nHasan Raza                   0\nHasan Jamil                  0\nHasan Durham                 0\nHarvir S Baidwan             0\nZulquarnain                  0\n\n[1883 rows x 1 columns]",
      "text/html": "<div>\n<style scoped>\n    .dataframe tbody tr th:only-of-type {\n        vertical-align: middle;\n    }\n\n    .dataframe tbody tr th {\n        vertical-align: top;\n    }\n\n    .dataframe thead th {\n        text-align: right;\n    }\n</style>\n<table border=\"1\" class=\"dataframe\">\n  <thead>\n    <tr style=\"text-align: right;\">\n      <th></th>\n      <th>Centuries</th>\n    </tr>\n    <tr>\n      <th>Player</th>\n      <th></th>\n    </tr>\n  </thead>\n  <tbody>\n    <tr>\n      <th>Sachin R Tendulkar</th>\n      <td>49</td>\n    </tr>\n    <tr>\n      <th>Ricky T Ponting</th>\n      <td>30</td>\n    </tr>\n    <tr>\n      <th>Sanath T Jayasuriya</th>\n      <td>28</td>\n    </tr>\n    <tr>\n      <th>Sourav C Ganguly</th>\n      <td>22</td>\n    </tr>\n    <tr>\n      <th>Herschelle H Gibbs</th>\n      <td>21</td>\n    </tr>\n    <tr>\n      <th>...</th>\n      <td>...</td>\n    </tr>\n    <tr>\n      <th>Hasan Raza</th>\n      <td>0</td>\n    </tr>\n    <tr>\n      <th>Hasan Jamil</th>\n      <td>0</td>\n    </tr>\n    <tr>\n      <th>Hasan Durham</th>\n      <td>0</td>\n    </tr>\n    <tr>\n      <th>Harvir S Baidwan</th>\n      <td>0</td>\n    </tr>\n    <tr>\n      <th>Zulquarnain</th>\n      <td>0</td>\n    </tr>\n  </tbody>\n</table>\n<p>1883 rows × 1 columns</p>\n</div>"
     },
     "metadata": {},
     "execution_count": 18
    }
   ],
   "source": [
    "centuries_df.sort_values(by='Centuries',ascending=False)"
   ]
  },
  {
   "cell_type": "code",
   "execution_count": null,
   "metadata": {},
   "outputs": [],
   "source": [
    "df['']"
   ]
  },
  {
   "cell_type": "code",
   "execution_count": 19,
   "metadata": {},
   "outputs": [],
   "source": [
    "df['sr'] = df.Runs / (df.Balls / 100)"
   ]
  },
  {
   "cell_type": "code",
   "execution_count": 20,
   "metadata": {},
   "outputs": [
    {
     "output_type": "execute_result",
     "data": {
      "text/plain": "       Country            Player  Runs   MatchDate Weekday  \\\n0  Afghanistan  Mohammad Shahzad   118  16-02-2010     Tue   \n1  Afghanistan  Mohammad Shahzad   110  01-09-2009     Tue   \n2  Afghanistan  Mohammad Shahzad   100  16-08-2010     Mon   \n3  Afghanistan  Mohammad Shahzad    82  10-07-2010     Sat   \n4  Afghanistan  Mohammad Shahzad    57  01-07-2010     Thu   \n\n                  Ground       Versus  Balls  Centuries          sr  \n0     Sharjah CA Stadium       Canada    121          1   97.520661  \n1             VRA Ground  Netherlands    111          1   99.099099  \n2  Cambusdoon New Ground     Scotland     72          1  138.888889  \n3            Hazelaarweg  Netherlands    108          0   75.925926  \n4    Sportpark Westvliet       Canada     57          0  100.000000  ",
      "text/html": "<div>\n<style scoped>\n    .dataframe tbody tr th:only-of-type {\n        vertical-align: middle;\n    }\n\n    .dataframe tbody tr th {\n        vertical-align: top;\n    }\n\n    .dataframe thead th {\n        text-align: right;\n    }\n</style>\n<table border=\"1\" class=\"dataframe\">\n  <thead>\n    <tr style=\"text-align: right;\">\n      <th></th>\n      <th>Country</th>\n      <th>Player</th>\n      <th>Runs</th>\n      <th>MatchDate</th>\n      <th>Weekday</th>\n      <th>Ground</th>\n      <th>Versus</th>\n      <th>Balls</th>\n      <th>Centuries</th>\n      <th>sr</th>\n    </tr>\n  </thead>\n  <tbody>\n    <tr>\n      <th>0</th>\n      <td>Afghanistan</td>\n      <td>Mohammad Shahzad</td>\n      <td>118</td>\n      <td>16-02-2010</td>\n      <td>Tue</td>\n      <td>Sharjah CA Stadium</td>\n      <td>Canada</td>\n      <td>121</td>\n      <td>1</td>\n      <td>97.520661</td>\n    </tr>\n    <tr>\n      <th>1</th>\n      <td>Afghanistan</td>\n      <td>Mohammad Shahzad</td>\n      <td>110</td>\n      <td>01-09-2009</td>\n      <td>Tue</td>\n      <td>VRA Ground</td>\n      <td>Netherlands</td>\n      <td>111</td>\n      <td>1</td>\n      <td>99.099099</td>\n    </tr>\n    <tr>\n      <th>2</th>\n      <td>Afghanistan</td>\n      <td>Mohammad Shahzad</td>\n      <td>100</td>\n      <td>16-08-2010</td>\n      <td>Mon</td>\n      <td>Cambusdoon New Ground</td>\n      <td>Scotland</td>\n      <td>72</td>\n      <td>1</td>\n      <td>138.888889</td>\n    </tr>\n    <tr>\n      <th>3</th>\n      <td>Afghanistan</td>\n      <td>Mohammad Shahzad</td>\n      <td>82</td>\n      <td>10-07-2010</td>\n      <td>Sat</td>\n      <td>Hazelaarweg</td>\n      <td>Netherlands</td>\n      <td>108</td>\n      <td>0</td>\n      <td>75.925926</td>\n    </tr>\n    <tr>\n      <th>4</th>\n      <td>Afghanistan</td>\n      <td>Mohammad Shahzad</td>\n      <td>57</td>\n      <td>01-07-2010</td>\n      <td>Thu</td>\n      <td>Sportpark Westvliet</td>\n      <td>Canada</td>\n      <td>57</td>\n      <td>0</td>\n      <td>100.000000</td>\n    </tr>\n  </tbody>\n</table>\n</div>"
     },
     "metadata": {},
     "execution_count": 20
    }
   ],
   "source": [
    "df.head()"
   ]
  },
  {
   "cell_type": "code",
   "execution_count": 24,
   "metadata": {},
   "outputs": [
    {
     "output_type": "execute_result",
     "data": {
      "text/plain": "                             sr\nPlayer                         \nShahid Afridi        255.000000\nMark V Boucher       216.176471\nSanath T Jayasuriya  206.153846\nShane R Watson       192.708333\nBrian C Lara         188.709677\n...                         ...\nBruce A Edgar         72.340426\nStuart C Williams     70.469799\nDouglas A Marillier   68.027211\nDavid L Hemp          67.105263\nTom L W Cooper        65.161290\n\n[280 rows x 1 columns]",
      "text/html": "<div>\n<style scoped>\n    .dataframe tbody tr th:only-of-type {\n        vertical-align: middle;\n    }\n\n    .dataframe tbody tr th {\n        vertical-align: top;\n    }\n\n    .dataframe thead th {\n        text-align: right;\n    }\n</style>\n<table border=\"1\" class=\"dataframe\">\n  <thead>\n    <tr style=\"text-align: right;\">\n      <th></th>\n      <th>sr</th>\n    </tr>\n    <tr>\n      <th>Player</th>\n      <th></th>\n    </tr>\n  </thead>\n  <tbody>\n    <tr>\n      <th>Shahid Afridi</th>\n      <td>255.000000</td>\n    </tr>\n    <tr>\n      <th>Mark V Boucher</th>\n      <td>216.176471</td>\n    </tr>\n    <tr>\n      <th>Sanath T Jayasuriya</th>\n      <td>206.153846</td>\n    </tr>\n    <tr>\n      <th>Shane R Watson</th>\n      <td>192.708333</td>\n    </tr>\n    <tr>\n      <th>Brian C Lara</th>\n      <td>188.709677</td>\n    </tr>\n    <tr>\n      <th>...</th>\n      <td>...</td>\n    </tr>\n    <tr>\n      <th>Bruce A Edgar</th>\n      <td>72.340426</td>\n    </tr>\n    <tr>\n      <th>Stuart C Williams</th>\n      <td>70.469799</td>\n    </tr>\n    <tr>\n      <th>Douglas A Marillier</th>\n      <td>68.027211</td>\n    </tr>\n    <tr>\n      <th>David L Hemp</th>\n      <td>67.105263</td>\n    </tr>\n    <tr>\n      <th>Tom L W Cooper</th>\n      <td>65.161290</td>\n    </tr>\n  </tbody>\n</table>\n<p>280 rows × 1 columns</p>\n</div>"
     },
     "metadata": {},
     "execution_count": 24
    }
   ],
   "source": [
    "df[df.Centuries >= 1].groupby('Player').agg({'sr':'max'}).sort_values(by='sr',ascending=False)"
   ]
  },
  {
   "cell_type": "code",
   "execution_count": 28,
   "metadata": {},
   "outputs": [],
   "source": [
    "df['year'] = pd.to_datetime(df.MatchDate).dt.year"
   ]
  },
  {
   "cell_type": "code",
   "execution_count": 30,
   "metadata": {},
   "outputs": [
    {
     "output_type": "execute_result",
     "data": {
      "text/plain": "       Country            Player  Runs   MatchDate Weekday  \\\n0  Afghanistan  Mohammad Shahzad   118  16-02-2010     Tue   \n1  Afghanistan  Mohammad Shahzad   110  01-09-2009     Tue   \n2  Afghanistan  Mohammad Shahzad   100  16-08-2010     Mon   \n3  Afghanistan  Mohammad Shahzad    82  10-07-2010     Sat   \n4  Afghanistan  Mohammad Shahzad    57  01-07-2010     Thu   \n\n                  Ground       Versus  Balls  Centuries          sr  year  \n0     Sharjah CA Stadium       Canada    121          1   97.520661  2010  \n1             VRA Ground  Netherlands    111          1   99.099099  2009  \n2  Cambusdoon New Ground     Scotland     72          1  138.888889  2010  \n3            Hazelaarweg  Netherlands    108          0   75.925926  2010  \n4    Sportpark Westvliet       Canada     57          0  100.000000  2010  ",
      "text/html": "<div>\n<style scoped>\n    .dataframe tbody tr th:only-of-type {\n        vertical-align: middle;\n    }\n\n    .dataframe tbody tr th {\n        vertical-align: top;\n    }\n\n    .dataframe thead th {\n        text-align: right;\n    }\n</style>\n<table border=\"1\" class=\"dataframe\">\n  <thead>\n    <tr style=\"text-align: right;\">\n      <th></th>\n      <th>Country</th>\n      <th>Player</th>\n      <th>Runs</th>\n      <th>MatchDate</th>\n      <th>Weekday</th>\n      <th>Ground</th>\n      <th>Versus</th>\n      <th>Balls</th>\n      <th>Centuries</th>\n      <th>sr</th>\n      <th>year</th>\n    </tr>\n  </thead>\n  <tbody>\n    <tr>\n      <th>0</th>\n      <td>Afghanistan</td>\n      <td>Mohammad Shahzad</td>\n      <td>118</td>\n      <td>16-02-2010</td>\n      <td>Tue</td>\n      <td>Sharjah CA Stadium</td>\n      <td>Canada</td>\n      <td>121</td>\n      <td>1</td>\n      <td>97.520661</td>\n      <td>2010</td>\n    </tr>\n    <tr>\n      <th>1</th>\n      <td>Afghanistan</td>\n      <td>Mohammad Shahzad</td>\n      <td>110</td>\n      <td>01-09-2009</td>\n      <td>Tue</td>\n      <td>VRA Ground</td>\n      <td>Netherlands</td>\n      <td>111</td>\n      <td>1</td>\n      <td>99.099099</td>\n      <td>2009</td>\n    </tr>\n    <tr>\n      <th>2</th>\n      <td>Afghanistan</td>\n      <td>Mohammad Shahzad</td>\n      <td>100</td>\n      <td>16-08-2010</td>\n      <td>Mon</td>\n      <td>Cambusdoon New Ground</td>\n      <td>Scotland</td>\n      <td>72</td>\n      <td>1</td>\n      <td>138.888889</td>\n      <td>2010</td>\n    </tr>\n    <tr>\n      <th>3</th>\n      <td>Afghanistan</td>\n      <td>Mohammad Shahzad</td>\n      <td>82</td>\n      <td>10-07-2010</td>\n      <td>Sat</td>\n      <td>Hazelaarweg</td>\n      <td>Netherlands</td>\n      <td>108</td>\n      <td>0</td>\n      <td>75.925926</td>\n      <td>2010</td>\n    </tr>\n    <tr>\n      <th>4</th>\n      <td>Afghanistan</td>\n      <td>Mohammad Shahzad</td>\n      <td>57</td>\n      <td>01-07-2010</td>\n      <td>Thu</td>\n      <td>Sportpark Westvliet</td>\n      <td>Canada</td>\n      <td>57</td>\n      <td>0</td>\n      <td>100.000000</td>\n      <td>2010</td>\n    </tr>\n  </tbody>\n</table>\n</div>"
     },
     "metadata": {},
     "execution_count": 30
    }
   ],
   "source": [
    "df.head()"
   ]
  },
  {
   "cell_type": "code",
   "execution_count": 34,
   "metadata": {},
   "outputs": [
    {
     "output_type": "execute_result",
     "data": {
      "text/plain": "      Centuries\nyear           \n1998         18\n1999         15\n2010         13\n2009         13\n2005         11\n2003         10\n2008         10\n2000         10\n2002          9\n2001          9\n2011          8\n1996          8\n2004          7\n1994          7\n1997          7\n1988          5\n2006          5\n2007          5\n1987          4\n1984          3\n1990          3\n1993          2\n1991          2\n1989          2\n1986          2\n1995          1\n1992          1\n1983          1\n1975          0\n1985          0\n1982          0\n1981          0\n1980          0\n1979          0\n1978          0\n1976          0\n1974          0",
      "text/html": "<div>\n<style scoped>\n    .dataframe tbody tr th:only-of-type {\n        vertical-align: middle;\n    }\n\n    .dataframe tbody tr th {\n        vertical-align: top;\n    }\n\n    .dataframe thead th {\n        text-align: right;\n    }\n</style>\n<table border=\"1\" class=\"dataframe\">\n  <thead>\n    <tr style=\"text-align: right;\">\n      <th></th>\n      <th>Centuries</th>\n    </tr>\n    <tr>\n      <th>year</th>\n      <th></th>\n    </tr>\n  </thead>\n  <tbody>\n    <tr>\n      <th>1998</th>\n      <td>18</td>\n    </tr>\n    <tr>\n      <th>1999</th>\n      <td>15</td>\n    </tr>\n    <tr>\n      <th>2010</th>\n      <td>13</td>\n    </tr>\n    <tr>\n      <th>2009</th>\n      <td>13</td>\n    </tr>\n    <tr>\n      <th>2005</th>\n      <td>11</td>\n    </tr>\n    <tr>\n      <th>2003</th>\n      <td>10</td>\n    </tr>\n    <tr>\n      <th>2008</th>\n      <td>10</td>\n    </tr>\n    <tr>\n      <th>2000</th>\n      <td>10</td>\n    </tr>\n    <tr>\n      <th>2002</th>\n      <td>9</td>\n    </tr>\n    <tr>\n      <th>2001</th>\n      <td>9</td>\n    </tr>\n    <tr>\n      <th>2011</th>\n      <td>8</td>\n    </tr>\n    <tr>\n      <th>1996</th>\n      <td>8</td>\n    </tr>\n    <tr>\n      <th>2004</th>\n      <td>7</td>\n    </tr>\n    <tr>\n      <th>1994</th>\n      <td>7</td>\n    </tr>\n    <tr>\n      <th>1997</th>\n      <td>7</td>\n    </tr>\n    <tr>\n      <th>1988</th>\n      <td>5</td>\n    </tr>\n    <tr>\n      <th>2006</th>\n      <td>5</td>\n    </tr>\n    <tr>\n      <th>2007</th>\n      <td>5</td>\n    </tr>\n    <tr>\n      <th>1987</th>\n      <td>4</td>\n    </tr>\n    <tr>\n      <th>1984</th>\n      <td>3</td>\n    </tr>\n    <tr>\n      <th>1990</th>\n      <td>3</td>\n    </tr>\n    <tr>\n      <th>1993</th>\n      <td>2</td>\n    </tr>\n    <tr>\n      <th>1991</th>\n      <td>2</td>\n    </tr>\n    <tr>\n      <th>1989</th>\n      <td>2</td>\n    </tr>\n    <tr>\n      <th>1986</th>\n      <td>2</td>\n    </tr>\n    <tr>\n      <th>1995</th>\n      <td>1</td>\n    </tr>\n    <tr>\n      <th>1992</th>\n      <td>1</td>\n    </tr>\n    <tr>\n      <th>1983</th>\n      <td>1</td>\n    </tr>\n    <tr>\n      <th>1975</th>\n      <td>0</td>\n    </tr>\n    <tr>\n      <th>1985</th>\n      <td>0</td>\n    </tr>\n    <tr>\n      <th>1982</th>\n      <td>0</td>\n    </tr>\n    <tr>\n      <th>1981</th>\n      <td>0</td>\n    </tr>\n    <tr>\n      <th>1980</th>\n      <td>0</td>\n    </tr>\n    <tr>\n      <th>1979</th>\n      <td>0</td>\n    </tr>\n    <tr>\n      <th>1978</th>\n      <td>0</td>\n    </tr>\n    <tr>\n      <th>1976</th>\n      <td>0</td>\n    </tr>\n    <tr>\n      <th>1974</th>\n      <td>0</td>\n    </tr>\n  </tbody>\n</table>\n</div>"
     },
     "metadata": {},
     "execution_count": 34
    }
   ],
   "source": [
    "df[df.Country == 'India'].groupby('year').agg({'Centuries':'sum'}).sort_values(by ='Centuries',ascending=False)"
   ]
  },
  {
   "cell_type": "code",
   "execution_count": null,
   "metadata": {},
   "outputs": [],
   "source": []
  }
 ]
}