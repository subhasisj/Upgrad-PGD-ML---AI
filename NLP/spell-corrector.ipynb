{
 "cells": [
  {
   "cell_type": "code",
   "execution_count": 1,
   "metadata": {
    "collapsed": true
   },
   "outputs": [],
   "source": [
    "import re\n",
    "from collections import Counter"
   ]
  },
  {
   "cell_type": "code",
   "execution_count": 2,
   "metadata": {
    "collapsed": true
   },
   "outputs": [],
   "source": [
    "# function to tokenise words\n",
    "def words(document):\n",
    "    \"Convert text to lower case and tokenise the document\"\n",
    "    return re.findall(r'\\w+', document.lower())"
   ]
  },
  {
   "cell_type": "code",
   "execution_count": 3,
   "metadata": {
    "collapsed": true
   },
   "outputs": [],
   "source": [
    "# create a frequency table of all the words of the document\n",
    "all_words = Counter(words(open('big.txt').read()))"
   ]
  },
  {
   "cell_type": "code",
   "execution_count": 4,
   "metadata": {},
   "outputs": [
    {
     "output_type": "execute_result",
     "data": {
      "text/plain": [
       "135"
      ]
     },
     "metadata": {},
     "execution_count": 4
    }
   ],
   "source": [
    "# check frequency of a random word, say, 'chair'\n",
    "all_words['chair']"
   ]
  },
  {
   "cell_type": "code",
   "execution_count": 5,
   "metadata": {},
   "outputs": [
    {
     "output_type": "execute_result",
     "data": {
      "text/plain": [
       "[('the', 79809),\n",
       " ('of', 40024),\n",
       " ('and', 38312),\n",
       " ('to', 28765),\n",
       " ('in', 22023),\n",
       " ('a', 21124),\n",
       " ('that', 12512),\n",
       " ('he', 12401),\n",
       " ('was', 11410),\n",
       " ('it', 10681)]"
      ]
     },
     "metadata": {},
     "execution_count": 5
    }
   ],
   "source": [
    "# look at top 10 frequent words\n",
    "all_words.most_common(10)"
   ]
  },
  {
   "cell_type": "code",
   "execution_count": 6,
   "metadata": {
    "collapsed": true
   },
   "outputs": [],
   "source": [
    "def edits_one(word):\n",
    "    \"Create all edits that are one edit away from `word`.\"\n",
    "    alphabets    = 'abcdefghijklmnopqrstuvwxyz'\n",
    "    splits     = [(word[:i], word[i:])                   for i in range(len(word) + 1)]\n",
    "    deletes    = [left + right[1:]                       for left, right in splits if right]\n",
    "    inserts    = [left + c + right                       for left, right in splits for c in alphabets]\n",
    "    replaces   = [left + c + right[1:]                   for left, right in splits if right for c in alphabets]\n",
    "    transposes = [left + right[1] + right[0] + right[2:] for left, right in splits if len(right)>1]\n",
    "    return set(deletes + inserts + replaces + transposes)"
   ]
  },
  {
   "cell_type": "code",
   "execution_count": 7,
   "metadata": {
    "collapsed": true
   },
   "outputs": [],
   "source": [
    "def edits_two(word):\n",
    "    \"Create all edits that are two edits away from `word`.\"\n",
    "    return (e2 for e1 in edits_one(word) for e2 in edits_one(e1))"
   ]
  },
  {
   "cell_type": "code",
   "execution_count": 8,
   "metadata": {
    "collapsed": true
   },
   "outputs": [],
   "source": [
    "def known(words):\n",
    "    \"The subset of `words` that appear in the `all_words`.\"\n",
    "    return set(word for word in words if word in all_words)"
   ]
  },
  {
   "cell_type": "code",
   "execution_count": 9,
   "metadata": {
    "collapsed": true
   },
   "outputs": [],
   "source": [
    "def possible_corrections(word):\n",
    "    \"Generate possible spelling corrections for word.\"\n",
    "    return (known([word]) or known(edits_one(word)) or known(edits_two(word)) or [word])"
   ]
  },
  {
   "cell_type": "code",
   "execution_count": 10,
   "metadata": {
    "collapsed": true
   },
   "outputs": [],
   "source": [
    "def prob(word, N=sum(all_words.values())): \n",
    "    \"Probability of `word`: Number of appearances of 'word' / total number of tokens\"\n",
    "    return all_words[word] / N"
   ]
  },
  {
   "cell_type": "code",
   "execution_count": 11,
   "metadata": {},
   "outputs": [
    {
     "output_type": "stream",
     "name": "stdout",
     "text": [
      "336\n{'msnney', 'mouney', 'molnney', 'molney', 'monsey', 'monne', 'monfney', 'monnpy', 'monneu', 'monnbey', 'amonney', 'monnmey', 'monwney', 'aonney', 'ponney', 'monneyf', 'mponney', 'oonney', 'monnvey', 'moenney', 'mcnney', 'momney', 'monnem', 'mknney', 'motnney', 'monnesy', 'monnoy', 'monsney', 'xonney', 'mohnney', 'monneyv', 'monnek', 'mnnney', 'monnhy', 'monneyi', 'monneyq', 'pmonney', 'bmonney', 'eonney', 'monhey', 'monrney', 'donney', 'monneyz', 'uonney', 'vonney', 'moknney', 'mwonney', 'monnely', 'monncy', 'moqney', 'mojney', 'mfnney', 'monnea', 'jmonney', 'monnwy', 'emonney', 'monned', 'monpey', 'mokney', 'monuey', 'monney', 'meonney', 'monlney', 'monxey', 'monvey', 'morney', 'moonney', 'mofnney', 'mmnney', 'sonney', 'monnes', 'moneney', 'lonney', 'bonney', 'mqonney', 'monnqey', 'monnehy', 'monnye', 'monley', 'menney', 'monnzey', 'mounney', 'monneyk', 'mnonney', 'monnpey', 'mjnney', 'tonney', 'monneyn', 'qmonney', 'moniney', 'mbonney', 'mdonney', 'monneby', 'monnevy', 'monnecy', 'monneyp', 'monneyt', 'monntey', 'monneey', 'monneyx', 'monnjey', 'mownney', 'monkney', 'monner', 'mohney', 'monnexy', 'monneuy', 'monnezy', 'monneye', 'monnfy', 'mmonney', 'monnemy', 'jonney', 'monncey', 'monneay', 'monnegy', 'monyey', 'monnxy', 'manney', 'monhney', 'myonney', 'monnkey', 'momnney', 'msonney', 'monnef', 'monnen', 'mznney', 'monndy', 'mognney', 'monoey', 'monnet', 'mronney', 'nmonney', 'moyney', 'mogney', 'wmonney', 'monnrey', 'monnew', 'monnez', 'monjey', 'monmney', 'ronney', 'mofney', 'mopney', 'monneyu', 'qonney', 'monyney', 'monqey', 'monnhey', 'tmonney', 'monnewy', 'mosney', 'monzey', 'zmonney', 'monwey', 'moaney', 'moiney', 'mwnney', 'monniey', 'monnzy', 'monneo', 'money', 'mdnney', 'mgnney', 'mfonney', 'ionney', 'monnej', 'monnepy', 'hmonney', 'monnefy', 'mooney', 'monnel', 'monnety', 'monnery', 'xmonney', 'monnwey', 'monfey', 'moneny', 'mbnney', 'monnee', 'mrnney', 'mnney', 'mononey', 'moneey', 'cmonney', 'monneny', 'monnvy', 'moncey', 'monngy', 'mopnney', 'mobney', 'muonney', 'mosnney', 'kmonney', 'smonney', 'omonney', 'monneyc', 'mqnney', 'maonney', 'monnejy', 'konney', 'mobnney', 'monnuy', 'moinney', 'monneyl', 'monny', 'monnny', 'moniey', 'monnyy', 'monuney', 'monneyy', 'monnyey', 'moeney', 'gonney', 'monneb', 'monneh', 'ymonney', 'monnly', 'movney', 'monneyr', 'moxnney', 'monxney', 'monnay', 'monnney', 'monngey', 'monnsy', 'modnney', 'imonney', 'monneyw', 'mzonney', 'mojnney', 'monnry', 'moqnney', 'monvney', 'mtnney', 'gmonney', 'yonney', 'mionney', 'monneoy', 'nonney', 'monaney', 'mkonney', 'monneyd', 'mnoney', 'monneyj', 'mpnney', 'fonney', 'onney', 'mozney', 'honney', 'monnep', 'minney', 'umonney', 'monnqy', 'monnoey', 'mxnney', 'moynney', 'mvonney', 'mocnney', 'monnjy', 'monneky', 'monneyh', 'monaey', 'mlonney', 'monnaey', 'zonney', 'monnky', 'monneqy', 'montney', 'monneiy', 'mhnney', 'mondney', 'movnney', 'monnmy', 'mongney', 'monneyb', 'montey', 'mondey', 'moznney', 'mhonney', 'moncney', 'mynney', 'mornney', 'lmonney', 'monneg', 'rmonney', 'moxney', 'monnty', 'conney', 'monneq', 'mongey', 'monneya', 'mowney', 'monnby', 'mlnney', 'mvnney', 'monbey', 'monnxey', 'monnedy', 'monneys', 'mgonney', 'monbney', 'monnex', 'moanney', 'monzney', 'monmey', 'monneym', 'wonney', 'mjonney', 'monniy', 'monnei', 'mxonney', 'mtonney', 'modney', 'monnfey', 'mconney', 'dmonney', 'monnuey', 'monneyg', 'monnsey', 'monjney', 'monkey', 'monneyo', 'monnley', 'monpney', 'vmonney', 'monnec', 'omnney', 'motney', 'mocney', 'monndey', 'munney', 'monrey', 'fmonney', 'monnev', 'monqney'}\n"
     ]
    }
   ],
   "source": [
    "print(len(set(edits_one(\"monney\"))))\n",
    "print(edits_one(\"monney\"))"
   ]
  },
  {
   "cell_type": "code",
   "execution_count": 12,
   "metadata": {},
   "outputs": [
    {
     "output_type": "stream",
     "name": "stdout",
     "text": [
      "{'money', 'monkey'}\n"
     ]
    }
   ],
   "source": [
    "print(known(edits_one(\"monney\")))"
   ]
  },
  {
   "cell_type": "code",
   "execution_count": 13,
   "metadata": {},
   "outputs": [
    {
     "output_type": "stream",
     "name": "stdout",
     "text": [
      "51013\n{'money', 'monkey'}\n"
     ]
    }
   ],
   "source": [
    "# Let's look at words that are two edits away\n",
    "print(len(set(edits_two(\"monney\"))))\n",
    "print(known(edits_one(\"monney\")))"
   ]
  },
  {
   "cell_type": "code",
   "execution_count": 14,
   "metadata": {},
   "outputs": [
    {
     "output_type": "stream",
     "name": "stdout",
     "text": [
      "{'money', 'monkey'}\n"
     ]
    }
   ],
   "source": [
    "# Let's look at possible corrections of a word\n",
    "print(possible_corrections(\"monney\"))"
   ]
  },
  {
   "cell_type": "code",
   "execution_count": 15,
   "metadata": {},
   "outputs": [
    {
     "output_type": "stream",
     "name": "stdout",
     "text": [
      "0.0002922233626303688\n5.378344097491451e-06\n"
     ]
    }
   ],
   "source": [
    "# Let's look at probability of a word\n",
    "print(prob(\"money\"))\n",
    "print(prob(\"monkey\"))"
   ]
  },
  {
   "cell_type": "code",
   "execution_count": 16,
   "metadata": {},
   "outputs": [],
   "source": [
    "def spell_check(word):\n",
    "    \"Print the most probable spelling correction for `word` out of all the `possible_corrections`\"\n",
    "    correct_word = max(possible_corrections(word), key=prob)\n",
    "    if correct_word != word:\n",
    "        return \"Did you mean \" + correct_word + \"?\"\n",
    "    else:\n",
    "        return \"Correct spelling.\""
   ]
  },
  {
   "cell_type": "code",
   "execution_count": 17,
   "metadata": {},
   "outputs": [
    {
     "output_type": "stream",
     "name": "stdout",
     "text": [
      "Did you mean money?\n"
     ]
    }
   ],
   "source": [
    "# test spell check\n",
    "print(spell_check(\"monney\"))"
   ]
  },
  {
   "cell_type": "code",
   "execution_count": 18,
   "metadata": {},
   "outputs": [
    {
     "output_type": "stream",
     "name": "stdout",
     "text": [
      "Did you mean emphasize?\n"
     ]
    }
   ],
   "source": [
    "print(spell_check('emfasize'))"
   ]
  },
  {
   "cell_type": "code",
   "execution_count": 20,
   "metadata": {},
   "outputs": [
    {
     "output_type": "execute_result",
     "data": {
      "text/plain": [
       "442"
      ]
     },
     "metadata": {},
     "execution_count": 20
    }
   ],
   "source": [
    "len(edits_one('emfasize'))"
   ]
  },
  {
   "cell_type": "code",
   "execution_count": 24,
   "metadata": {},
   "outputs": [],
   "source": [
    "count = 0\n",
    "for i  in edits_two('emfasize'):\n",
    "    count+=1"
   ]
  },
  {
   "cell_type": "code",
   "execution_count": 25,
   "metadata": {},
   "outputs": [
    {
     "output_type": "execute_result",
     "data": {
      "text/plain": [
       "206656"
      ]
     },
     "metadata": {},
     "execution_count": 25
    }
   ],
   "source": [
    "count"
   ]
  },
  {
   "cell_type": "code",
   "execution_count": 26,
   "metadata": {},
   "outputs": [
    {
     "output_type": "execute_result",
     "data": {
      "text/plain": [
       "{'emphasize'}"
      ]
     },
     "metadata": {},
     "execution_count": 26
    }
   ],
   "source": [
    "possible_corrections('emfasize')"
   ]
  },
  {
   "cell_type": "code",
   "execution_count": null,
   "metadata": {},
   "outputs": [],
   "source": []
  }
 ],
 "metadata": {
  "kernelspec": {
   "display_name": "Python 3",
   "language": "python",
   "name": "python3"
  },
  "language_info": {
   "codemirror_mode": {
    "name": "ipython",
    "version": 3
   },
   "file_extension": ".py",
   "mimetype": "text/x-python",
   "name": "python",
   "nbconvert_exporter": "python",
   "pygments_lexer": "ipython3",
   "version": "3.8.5-final"
  }
 },
 "nbformat": 4,
 "nbformat_minor": 2
}