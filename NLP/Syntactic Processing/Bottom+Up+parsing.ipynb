{
 "cells": [
  {
   "cell_type": "code",
   "execution_count": 2,
   "metadata": {},
   "outputs": [],
   "source": [
    "import nltk \n",
    "\n",
    "grammar=nltk.CFG.fromstring(\"\"\"\n",
    "S -> NP VP\n",
    "VP -> V NP\n",
    "V -> \"saw\" | \"ate\"\n",
    "NP -> \"John\" | \"Mary\" | \"Bob\" | Det N | Det N PP\n",
    "Det -> \"a\" | \"an\" | \" the\" | \"my\"\n",
    "N -> \"dog\"| \"cat\" | \"cookie\" | \"park\" \n",
    "PP -> P NP \n",
    "P -> \"in\" | \"on\" \n",
    "\"\"\")"
   ]
  },
  {
   "cell_type": "code",
   "execution_count": 3,
   "metadata": {},
   "outputs": [
    {
     "output_type": "stream",
     "name": "stdout",
     "text": [
      "(S (NP Mary) (VP (V saw) (NP (Det a) (N cat))))\n"
     ]
    }
   ],
   "source": [
    "str = \"Mary saw a cat\"\n",
    "\n",
    "# ShiftReduce Parser is a bottom up parser\n",
    "from nltk.parse import ShiftReduceParser\n",
    "srp = ShiftReduceParser(grammar)\n",
    "\n",
    "for t in srp.parse(str.split()):\n",
    "    print(t)\n",
    "\n",
    "# Shift Reduce parser tries to aggregate the string to the start symbol, since it's a bottom-up parser\n",
    "# It is not able to find the parse tree even if it exists "
   ]
  },
  {
   "cell_type": "code",
   "execution_count": 4,
   "metadata": {},
   "outputs": [
    {
     "output_type": "stream",
     "name": "stdout",
     "text": [
      "Warning: VP -> V NP PP will never be used\n",
      "[('dog',)]\n",
      "[('statue',)]\n",
      "[('park',)]\n",
      "[('dog',), ('statue',)]\n",
      "[('in',)]\n",
      "[('with',)]\n",
      "[('the',)]\n",
      "[('a',)]\n",
      "[(V, NP, PP)]\n",
      "[(V, NP)]\n",
      "[(VP, PP)]\n",
      "[(V, NP, PP), (V, NP)]\n",
      "[(Det, N)]\n",
      "[(NP, PP)]\n",
      "S [(NP, VP)]\n",
      "NP [(Det, N), (NP, PP)]\n",
      "VP [(VP, PP), (V, NP, PP), (V, NP)]\n",
      "PP [(P, NP)]\n",
      "NP [('I',)]\n",
      "Det [('the',), ('a',)]\n",
      "N [('man',)]\n",
      "V [('saw',)]\n",
      "P [('in',), ('with',)]\n",
      "N [('park',), ('dog',), ('statue',)]\n",
      "Det [('my',)]\n"
     ]
    }
   ],
   "source": [
    "nltk.app.srparser()\n",
    "# once the shift reduce parser application opens, \n",
    "# you can edit the 'Text' and 'Grammar' according to your requirements"
   ]
  },
  {
   "cell_type": "code",
   "execution_count": null,
   "metadata": {},
   "outputs": [],
   "source": []
  }
 ],
 "metadata": {
  "kernelspec": {
   "name": "python3",
   "display_name": "Python 3.8.6 64-bit ('env')",
   "metadata": {
    "interpreter": {
     "hash": "fc5490c528836e1ddd0af3c74a60760eb1bf71c4669a2afabea412d5c4b2abd1"
    }
   }
  },
  "language_info": {
   "codemirror_mode": {
    "name": "ipython",
    "version": 3
   },
   "file_extension": ".py",
   "mimetype": "text/x-python",
   "name": "python",
   "nbconvert_exporter": "python",
   "pygments_lexer": "ipython3",
   "version": "3.8.6-final"
  }
 },
 "nbformat": 4,
 "nbformat_minor": 2
}