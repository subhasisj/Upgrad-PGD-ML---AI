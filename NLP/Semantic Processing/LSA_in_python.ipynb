{
 "cells": [
  {
   "cell_type": "code",
   "execution_count": 3,
   "metadata": {},
   "outputs": [
    {
     "name": "stderr",
     "output_type": "stream",
     "text": [
      "[nltk_data] Downloading package brown to\n",
      "[nltk_data]     C:\\Users\\U6083443\\AppData\\Roaming\\nltk_data...\n",
      "[nltk_data]   Unzipping corpora\\brown.zip.\n"
     ]
    }
   ],
   "source": [
    "import nltk\r\n",
    "\r\n",
    "nltk.download('brown')\r\n",
    "from nltk.corpus import brown\r\n",
    "#nltk.download()\r\n",
    "#install 'brown' corpus"
   ]
  },
  {
   "cell_type": "code",
   "execution_count": 4,
   "metadata": {},
   "outputs": [
    {
     "data": {
      "text/plain": "['The', 'Fulton', 'County', 'Grand', 'Jury', 'said', ...]"
     },
     "execution_count": 4,
     "metadata": {},
     "output_type": "execute_result"
    }
   ],
   "source": [
    "brown.words(categories='news')"
   ]
  },
  {
   "cell_type": "code",
   "execution_count": 5,
   "metadata": {},
   "outputs": [],
   "source": [
    "from sklearn.feature_extraction.text import TfidfVectorizer"
   ]
  },
  {
   "cell_type": "code",
   "execution_count": 6,
   "metadata": {},
   "outputs": [],
   "source": [
    "# Read the data from the Brown corpus\n",
    "data = ' '.join(brown.words()[:10000])"
   ]
  },
  {
   "cell_type": "code",
   "execution_count": null,
   "metadata": {},
   "outputs": [],
   "source": []
  },
  {
   "cell_type": "code",
   "execution_count": 7,
   "metadata": {},
   "outputs": [
    {
     "name": "stdout",
     "output_type": "stream",
     "text": [
      "[['Seven', 'continent', 'planet'], ['Five', 'ocean', 'planet'], ['Asia', 'largest', 'continent'], ['Pacific', 'Ocean', 'largest'], ['Ocean', 'saline', 'water']]\n"
     ]
    }
   ],
   "source": [
    "TextCorpus = ['Seven continent planet',\n",
    "'Five ocean planet', \n",
    "'Asia largest continent', \n",
    "'Pacific Ocean largest', \n",
    "'Ocean saline water']\n",
    "\n",
    "text_tokens = [sent.split() for sent in TextCorpus]\n",
    "print(text_tokens)\n"
   ]
  },
  {
   "cell_type": "code",
   "execution_count": 8,
   "metadata": {},
   "outputs": [],
   "source": [
    "from sklearn.feature_extraction.text import TfidfVectorizer"
   ]
  },
  {
   "cell_type": "code",
   "execution_count": 9,
   "metadata": {},
   "outputs": [],
   "source": [
    "transformer = TfidfVectorizer()\n",
    "tfidf = transformer.fit_transform(TextCorpus) "
   ]
  },
  {
   "cell_type": "code",
   "execution_count": 10,
   "metadata": {},
   "outputs": [
    {
     "name": "stdout",
     "output_type": "stream",
     "text": [
      "  (0, 6)\t0.5317722537280788\n",
      "  (0, 1)\t0.5317722537280788\n",
      "  (0, 8)\t0.6591180018251055\n",
      "  (1, 4)\t0.46220770413113277\n",
      "  (1, 2)\t0.6901592662889633\n",
      "  (1, 6)\t0.5568161504458247\n",
      "  (2, 3)\t0.5317722537280788\n",
      "  (2, 0)\t0.6591180018251055\n",
      "  (2, 1)\t0.5317722537280788\n",
      "  (3, 5)\t0.6901592662889633\n",
      "  (3, 3)\t0.5568161504458247\n",
      "  (3, 4)\t0.46220770413113277\n",
      "  (4, 9)\t0.6390704413963749\n",
      "  (4, 7)\t0.6390704413963749\n",
      "  (4, 4)\t0.42799292268317357\n"
     ]
    }
   ],
   "source": [
    "print(tfidf)\n",
    "# (document number, term number)"
   ]
  },
  {
   "cell_type": "code",
   "execution_count": 11,
   "metadata": {},
   "outputs": [],
   "source": [
    "from sklearn.decomposition import TruncatedSVD\n",
    "svd = TruncatedSVD(n_components = 3)\n",
    "lsa = svd.fit_transform(tfidf)"
   ]
  },
  {
   "cell_type": "code",
   "execution_count": 12,
   "metadata": {},
   "outputs": [
    {
     "data": {
      "text/plain": "array([[ 5.69995606e-01, -5.21026572e-01,  4.81700519e-01],\n       [ 6.29788097e-01,  2.47716942e-01,  5.41216825e-01],\n       [ 5.69995606e-01, -5.21026572e-01, -4.81700519e-01],\n       [ 6.29788097e-01,  2.47716942e-01, -5.41216825e-01],\n       [ 4.08516626e-01,  6.90173499e-01,  1.02541427e-15]])"
     },
     "execution_count": 12,
     "metadata": {},
     "output_type": "execute_result"
    }
   ],
   "source": [
    "lsa"
   ]
  },
  {
   "cell_type": "code",
   "execution_count": null,
   "metadata": {},
   "outputs": [],
   "source": []
  },
  {
   "cell_type": "code",
   "execution_count": null,
   "metadata": {},
   "outputs": [],
   "source": []
  }
 ],
 "metadata": {
  "kernelspec": {
   "display_name": "Python 3.8.6 64-bit ('env')",
   "metadata": {
    "interpreter": {
     "hash": "fc5490c528836e1ddd0af3c74a60760eb1bf71c4669a2afabea412d5c4b2abd1"
    }
   },
   "name": "python3"
  },
  "language_info": {
   "codemirror_mode": {
    "name": "ipython",
    "version": 3
   },
   "file_extension": ".py",
   "mimetype": "text/x-python",
   "name": "python",
   "nbconvert_exporter": "python",
   "pygments_lexer": "ipython3",
   "version": "3.8.6"
  }
 },
 "nbformat": 4,
 "nbformat_minor": 2
}