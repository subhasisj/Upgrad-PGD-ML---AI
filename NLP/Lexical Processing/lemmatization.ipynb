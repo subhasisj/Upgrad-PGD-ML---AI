{
 "cells": [
  {
   "cell_type": "markdown",
   "metadata": {},
   "source": [
    "## Lemmatization"
   ]
  },
  {
   "cell_type": "code",
   "execution_count": 1,
   "metadata": {
    "collapsed": true
   },
   "outputs": [],
   "source": [
    "### import necessary libraries\n",
    "from nltk.stem import WordNetLemmatizer\n",
    "from nltk.tokenize import word_tokenize"
   ]
  },
  {
   "cell_type": "code",
   "execution_count": 2,
   "metadata": {},
   "outputs": [
    {
     "output_type": "stream",
     "name": "stdout",
     "text": [
      "Very orderly and methodical he looked happily, with a hand on each knee, and a loud watch ticking a sonorous sermon under his flapped newly bought waist-coat, as though it pitted its gravity and longevity against the levity and evanescence of the brisk fire.\n"
     ]
    }
   ],
   "source": [
    "text = \"Very orderly and methodical he looked happily, with a hand on each knee, and a loud watch ticking a sonorous sermon under his flapped newly bought waist-coat, as though it pitted its gravity and longevity against the levity and evanescence of the brisk fire.\"\n",
    "print(text)"
   ]
  },
  {
   "cell_type": "code",
   "execution_count": 3,
   "metadata": {
    "collapsed": true
   },
   "outputs": [],
   "source": [
    "# tokenise text\n",
    "tokens = word_tokenize(text)"
   ]
  },
  {
   "cell_type": "code",
   "execution_count": 4,
   "metadata": {},
   "outputs": [
    {
     "output_type": "stream",
     "name": "stdout",
     "text": [
      "['Very', 'orderly', 'and', 'methodical', 'he', 'looked', 'happily', ',', 'with', 'a', 'hand', 'on', 'each', 'knee', ',', 'and', 'a', 'loud', 'watch', 'ticking', 'a', 'sonorous', 'sermon', 'under', 'his', 'flapped', 'newly', 'bought', 'waist-coat', ',', 'a', 'though', 'it', 'pitted', 'it', 'gravity', 'and', 'longevity', 'against', 'the', 'levity', 'and', 'evanescence', 'of', 'the', 'brisk', 'fire', '.']\n"
     ]
    }
   ],
   "source": [
    "wordnet_lemmatizer = WordNetLemmatizer()\n",
    "lemmatized = [wordnet_lemmatizer.lemmatize(token) for token in tokens]\n",
    "print(lemmatized)"
   ]
  },
  {
   "cell_type": "markdown",
   "metadata": {},
   "source": [
    "### Let's compare stemming and lemmatization"
   ]
  },
  {
   "cell_type": "code",
   "execution_count": 5,
   "metadata": {},
   "outputs": [
    {
     "output_type": "stream",
     "name": "stdout",
     "text": [
      "['veri', 'orderli', 'and', 'method', 'he', 'look', 'happili', ',', 'with', 'a', 'hand', 'on', 'each', 'knee', ',', 'and', 'a', 'loud', 'watch', 'tick', 'a', 'sonor', 'sermon', 'under', 'hi', 'flap', 'newli', 'bought', 'waist-coat', ',', 'as', 'though', 'it', 'pit', 'it', 'graviti', 'and', 'longev', 'against', 'the', 'leviti', 'and', 'evanesc', 'of', 'the', 'brisk', 'fire', '.']\n"
     ]
    }
   ],
   "source": [
    "from nltk.stem.porter import PorterStemmer\n",
    "stemmer = PorterStemmer()\n",
    "stemmed = [stemmer.stem(token) for token in tokens]\n",
    "print(stemmed)"
   ]
  },
  {
   "cell_type": "code",
   "execution_count": 7,
   "metadata": {},
   "outputs": [
    {
     "output_type": "execute_result",
     "data": {
      "text/plain": [
       "          token  stemmed   lemmatized\n",
       "0          Very     veri         Very\n",
       "1       orderly  orderli      orderly\n",
       "3    methodical   method   methodical\n",
       "5        looked     look       looked\n",
       "18      ticking     tick      ticking\n",
       "20     sonorous    sonor     sonorous\n",
       "23          his       hi          his\n",
       "24      flapped     flap      flapped\n",
       "25        newly    newli        newly\n",
       "29           as       as            a\n",
       "32       pitted      pit       pitted\n",
       "33          its       it           it\n",
       "34      gravity  graviti      gravity\n",
       "36    longevity   longev    longevity\n",
       "39       levity   leviti       levity\n",
       "41  evanescence  evanesc  evanescence"
      ],
      "text/html": "<div>\n<style scoped>\n    .dataframe tbody tr th:only-of-type {\n        vertical-align: middle;\n    }\n\n    .dataframe tbody tr th {\n        vertical-align: top;\n    }\n\n    .dataframe thead th {\n        text-align: right;\n    }\n</style>\n<table border=\"1\" class=\"dataframe\">\n  <thead>\n    <tr style=\"text-align: right;\">\n      <th></th>\n      <th>token</th>\n      <th>stemmed</th>\n      <th>lemmatized</th>\n    </tr>\n  </thead>\n  <tbody>\n    <tr>\n      <th>0</th>\n      <td>Very</td>\n      <td>veri</td>\n      <td>Very</td>\n    </tr>\n    <tr>\n      <th>1</th>\n      <td>orderly</td>\n      <td>orderli</td>\n      <td>orderly</td>\n    </tr>\n    <tr>\n      <th>3</th>\n      <td>methodical</td>\n      <td>method</td>\n      <td>methodical</td>\n    </tr>\n    <tr>\n      <th>5</th>\n      <td>looked</td>\n      <td>look</td>\n      <td>looked</td>\n    </tr>\n    <tr>\n      <th>18</th>\n      <td>ticking</td>\n      <td>tick</td>\n      <td>ticking</td>\n    </tr>\n    <tr>\n      <th>20</th>\n      <td>sonorous</td>\n      <td>sonor</td>\n      <td>sonorous</td>\n    </tr>\n    <tr>\n      <th>23</th>\n      <td>his</td>\n      <td>hi</td>\n      <td>his</td>\n    </tr>\n    <tr>\n      <th>24</th>\n      <td>flapped</td>\n      <td>flap</td>\n      <td>flapped</td>\n    </tr>\n    <tr>\n      <th>25</th>\n      <td>newly</td>\n      <td>newli</td>\n      <td>newly</td>\n    </tr>\n    <tr>\n      <th>29</th>\n      <td>as</td>\n      <td>as</td>\n      <td>a</td>\n    </tr>\n    <tr>\n      <th>32</th>\n      <td>pitted</td>\n      <td>pit</td>\n      <td>pitted</td>\n    </tr>\n    <tr>\n      <th>33</th>\n      <td>its</td>\n      <td>it</td>\n      <td>it</td>\n    </tr>\n    <tr>\n      <th>34</th>\n      <td>gravity</td>\n      <td>graviti</td>\n      <td>gravity</td>\n    </tr>\n    <tr>\n      <th>36</th>\n      <td>longevity</td>\n      <td>longev</td>\n      <td>longevity</td>\n    </tr>\n    <tr>\n      <th>39</th>\n      <td>levity</td>\n      <td>leviti</td>\n      <td>levity</td>\n    </tr>\n    <tr>\n      <th>41</th>\n      <td>evanescence</td>\n      <td>evanesc</td>\n      <td>evanescence</td>\n    </tr>\n  </tbody>\n</table>\n</div>"
     },
     "metadata": {},
     "execution_count": 7
    }
   ],
   "source": [
    "import pandas as pd\n",
    "df = pd.DataFrame(data={'token': tokens, 'stemmed': stemmed, 'lemmatized': lemmatized})\n",
    "df = df[['token', 'stemmed', 'lemmatized']]\n",
    "df[(df.token != df.stemmed) | (df.token != df.lemmatized)]"
   ]
  },
  {
   "cell_type": "markdown",
   "metadata": {},
   "source": [
    "Let's compare the speed of both techniques"
   ]
  },
  {
   "cell_type": "code",
   "execution_count": 8,
   "metadata": {
    "tags": [
     "outputPrepend"
    ]
   },
   "outputs": [
    {
     "output_type": "stream",
     "name": "stdout",
     "text": [
      "ld be only rustling in the\nwind, and the pool rippling to the waving of the reedsâthe rattling\nteacups would change to tinkling sheep-bells, and the Queenâs shrill\ncries to the voice of the shepherd boyâand the sneeze of the baby, the\nshriek of the Gryphon, and all the other queer noises, would change\n(she knew) to the confused clamour of the busy farm-yardâwhile the\nlowing of the cattle in the distance would take the place of the Mock\nTurtleâs heavy sobs.\n\nLastly, she pictured to herself how this same little sister of hers\nwould, in the after-time, be herself a grown woman; and how she would\nkeep, through all her riper years, the simple and loving heart of her\nchildhood: and how she would gather about her other little children,\nand make _their_ eyes bright and eager with many a strange tale,\nperhaps even with the dream of Wonderland of long ago: and how she\nwould feel with all their simple sorrows, and find a pleasure in all\ntheir simple joys, remembering her own child-life, and the happy summer\ndays.\n\nTHE END \n\n\n\n\nEnd of Project Gutenbergâs Aliceâs Adventures in Wonderland, by Lewis Carroll\n\n*** END OF THIS PROJECT GUTENBERG EBOOK ALICEâS ADVENTURES IN WONDERLAND ***\n\n***** This file should be named 11-0.txt or 11-0.zip *****\nThis and all associated files of various formats will be found in:\n        http://www.gutenberg.org/1/11/\n\nProduced by Arthur DiBianca and David Widger\n\nUpdated editions will replace the previous one--the old editions will\nbe renamed.\n\nCreating the works from print editions not protected by U.S. copyright\nlaw means that no one owns a United States copyright in these works,\nso the Foundation (and you!) can copy and distribute it in the United\nStates without permission and without paying copyright\nroyalties. Special rules, set forth in the General Terms of Use part\nof this license, apply to copying and distributing Project\nGutenberg-tm electronic works to protect the PROJECT GUTENBERG-tm\nconcept and trademark. Project Gutenberg is a registered trademark,\nand may not be used if you charge for the eBooks, unless you receive\nspecific permission. If you do not charge anything for copies of this\neBook, complying with the rules is very easy. You may use this eBook\nfor nearly any purpose such as creation of derivative works, reports,\nperformances and research. They may be modified and printed and given\naway--you may do practically ANYTHING in the United States with eBooks\nnot protected by U.S. copyright law. Redistribution is subject to the\ntrademark license, especially commercial redistribution.\n\nSTART: FULL LICENSE\n\nTHE FULL PROJECT GUTENBERG LICENSE\nPLEASE READ THIS BEFORE YOU DISTRIBUTE OR USE THIS WORK\n\nTo protect the Project Gutenberg-tm mission of promoting the free\ndistribution of electronic works, by using or distributing this work\n(or any other work associated in any way with the phrase \"Project\nGutenberg\"), you agree to comply with all the terms of the Full\nProject Gutenberg-tm License available with this file or online at\nwww.gutenberg.org/license.\n\nSection 1. General Terms of Use and Redistributing Project\nGutenberg-tm electronic works\n\n1.A. By reading or using any part of this Project Gutenberg-tm\nelectronic work, you indicate that you have read, understand, agree to\nand accept all the terms of this license and intellectual property\n(trademark/copyright) agreement. If you do not agree to abide by all\nthe terms of this agreement, you must cease using and return or\ndestroy all copies of Project Gutenberg-tm electronic works in your\npossession. If you paid a fee for obtaining a copy of or access to a\nProject Gutenberg-tm electronic work and you do not agree to be bound\nby the terms of this agreement, you may obtain a refund from the\nperson or entity to whom you paid the fee as set forth in paragraph\n1.E.8.\n\n1.B. \"Project Gutenberg\" is a registered trademark. It may only be\nused on or associated in any way with an electronic work by people who\nagree to be bound by the terms of this agreement. There are a few\nthings that you can do with most Project Gutenberg-tm electronic works\neven without complying with the full terms of this agreement. See\nparagraph 1.C below. There are a lot of things you can do with Project\nGutenberg-tm electronic works if you follow the terms of this\nagreement and help preserve free future access to Project Gutenberg-tm\nelectronic works. See paragraph 1.E below.\n\n1.C. The Project Gutenberg Literary Archive Foundation (\"the\nFoundation\" or PGLAF), owns a compilation copyright in the collection\nof Project Gutenberg-tm electronic works. Nearly all the individual\nworks in the collection are in the public domain in the United\nStates. If an individual work is unprotected by copyright law in the\nUnited States and you are located in the United States, we do not\nclaim a right to prevent you from copying, distributing, performing,\ndisplaying or creating derivative works based on the work as long as\nall references to Project Gutenberg are removed. Of course, we hope\nthat you will support the Project Gutenberg-tm mission of promoting\nfree access to electronic works by freely sharing Project Gutenberg-tm\nworks in compliance with the terms of this agreement for keeping the\nProject Gutenberg-tm name associated with the work. You can easily\ncomply with the terms of this agreement by keeping this work in the\nsame format with its attached full Project Gutenberg-tm License when\nyou share it without charge with others.\n\n1.D. The copyright laws of the place where you are located also govern\nwhat you can do with this work. Copyright laws in most countries are\nin a constant state of change. If you are outside the United States,\ncheck the laws of your country in addition to the terms of this\nagreement before downloading, copying, displaying, performing,\ndistributing or creating derivative works based on this work or any\nother Project Gutenberg-tm work. The Foundation makes no\nrepresentations concerning the copyright status of any work in any\ncountry outside the United States.\n\n1.E. Unless you have removed all references to Project Gutenberg:\n\n1.E.1. The following sentence, with active links to, or other\nimmediate access to, the full Project Gutenberg-tm License must appear\nprominently whenever any copy of a Project Gutenberg-tm work (any work\non which the phrase \"Project Gutenberg\" appears, or with which the\nphrase \"Project Gutenberg\" is associated) is accessed, displayed,\nperformed, viewed, copied or distributed:\n\n  This eBook is for the use of anyone anywhere in the United States and\n  most other parts of the world at no cost and with almost no\n  restrictions whatsoever. You may copy it, give it away or re-use it\n  under the terms of the Project Gutenberg License included with this\n  eBook or online at www.gutenberg.org. If you are not located in the\n  United States, you'll have to check the laws of the country where you\n  are located before using this ebook.\n\n1.E.2. If an individual Project Gutenberg-tm electronic work is\nderived from texts not protected by U.S. copyright law (does not\ncontain a notice indicating that it is posted with permission of the\ncopyright holder), the work can be copied and distributed to anyone in\nthe United States without paying any fees or charges. If you are\nredistributing or providing access to a work with the phrase \"Project\nGutenberg\" associated with or appearing on the work, you must comply\neither with the requirements of paragraphs 1.E.1 through 1.E.7 or\nobtain permission for the use of the work and the Project Gutenberg-tm\ntrademark as set forth in paragraphs 1.E.8 or 1.E.9.\n\n1.E.3. If an individual Project Gutenberg-tm electronic work is posted\nwith the permission of the copyright holder, your use and distribution\nmust comply with both paragraphs 1.E.1 through 1.E.7 and any\nadditional terms imposed by the copyright holder. Additional terms\nwill be linked to the Project Gutenberg-tm License for all works\nposted with the permission of the copyright holder found at the\nbeginning of this work.\n\n1.E.4. Do not unlink or detach or remove the full Project Gutenberg-tm\nLicense terms from this work, or any files containing a part of this\nwork or any other work associated with Project Gutenberg-tm.\n\n1.E.5. Do not copy, display, perform, distribute or redistribute this\nelectronic work, or any part of this electronic work, without\nprominently displaying the sentence set forth in paragraph 1.E.1 with\nactive links or immediate access to the full terms of the Project\nGutenberg-tm License.\n\n1.E.6. You may convert to and distribute this work in any binary,\ncompressed, marked up, nonproprietary or proprietary form, including\nany word processing or hypertext form. However, if you provide access\nto or distribute copies of a Project Gutenberg-tm work in a format\nother than \"Plain Vanilla ASCII\" or other format used in the official\nversion posted on the official Project Gutenberg-tm web site\n(www.gutenberg.org), you must, at no additional cost, fee or expense\nto the user, provide a copy, a means of exporting a copy, or a means\nof obtaining a copy upon request, of the work in its original \"Plain\nVanilla ASCII\" or other form. Any alternate format must include the\nfull Project Gutenberg-tm License as specified in paragraph 1.E.1.\n\n1.E.7. Do not charge a fee for access to, viewing, displaying,\nperforming, copying or distributing any Project Gutenberg-tm works\nunless you comply with paragraph 1.E.8 or 1.E.9.\n\n1.E.8. You may charge a reasonable fee for copies of or providing\naccess to or distributing Project Gutenberg-tm electronic works\nprovided that\n\n* You pay a royalty fee of 20% of the gross profits you derive from\n  the use of Project Gutenberg-tm works calculated using the method\n  you already use to calculate your applicable taxes. The fee is owed\n  to the owner of the Project Gutenberg-tm trademark, but he has\n  agreed to donate royalties under this paragraph to the Project\n  Gutenberg Literary Archive Foundation. Royalty payments must be paid\n  within 60 days following each date on which you prepare (or are\n  legally required to prepare) your periodic tax returns. Royalty\n  payments should be clearly marked as such and sent to the Project\n  Gutenberg Literary Archive Foundation at the address specified in\n  Section 4, \"Information about donations to the Project Gutenberg\n  Literary Archive Foundation.\"\n\n* You provide a full refund of any money paid by a user who notifies\n  you in writing (or by e-mail) within 30 days of receipt that s/he\n  does not agree to the terms of the full Project Gutenberg-tm\n  License. You must require such a user to return or destroy all\n  copies of the works possessed in a physical medium and discontinue\n  all use of and all access to other copies of Project Gutenberg-tm\n  works.\n\n* You provide, in accordance with paragraph 1.F.3, a full refund of\n  any money paid for a work or a replacement copy, if a defect in the\n  electronic work is discovered and reported to you within 90 days of\n  receipt of the work.\n\n* You comply with all other terms of this agreement for free\n  distribution of Project Gutenberg-tm works.\n\n1.E.9. If you wish to charge a fee or distribute a Project\nGutenberg-tm electronic work or group of works on different terms than\nare set forth in this agreement, you must obtain permission in writing\nfrom both the Project Gutenberg Literary Archive Foundation and The\nProject Gutenberg Trademark LLC, the owner of the Project Gutenberg-tm\ntrademark. Contact the Foundation as set forth in Section 3 below.\n\n1.F.\n\n1.F.1. Project Gutenberg volunteers and employees expend considerable\neffort to identify, do copyright research on, transcribe and proofread\nworks not protected by U.S. copyright law in creating the Project\nGutenberg-tm collection. Despite these efforts, Project Gutenberg-tm\nelectronic works, and the medium on which they may be stored, may\ncontain \"Defects,\" such as, but not limited to, incomplete, inaccurate\nor corrupt data, transcription errors, a copyright or other\nintellectual property infringement, a defective or damaged disk or\nother medium, a computer virus, or computer codes that damage or\ncannot be read by your equipment.\n\n1.F.2. LIMITED WARRANTY, DISCLAIMER OF DAMAGES - Except for the \"Right\nof Replacement or Refund\" described in paragraph 1.F.3, the Project\nGutenberg Literary Archive Foundation, the owner of the Project\nGutenberg-tm trademark, and any other party distributing a Project\nGutenberg-tm electronic work under this agreement, disclaim all\nliability to you for damages, costs and expenses, including legal\nfees. YOU AGREE THAT YOU HAVE NO REMEDIES FOR NEGLIGENCE, STRICT\nLIABILITY, BREACH OF WARRANTY OR BREACH OF CONTRACT EXCEPT THOSE\nPROVIDED IN PARAGRAPH 1.F.3. YOU AGREE THAT THE FOUNDATION, THE\nTRADEMARK OWNER, AND ANY DISTRIBUTOR UNDER THIS AGREEMENT WILL NOT BE\nLIABLE TO YOU FOR ACTUAL, DIRECT, INDIRECT, CONSEQUENTIAL, PUNITIVE OR\nINCIDENTAL DAMAGES EVEN IF YOU GIVE NOTICE OF THE POSSIBILITY OF SUCH\nDAMAGE.\n\n1.F.3. LIMITED RIGHT OF REPLACEMENT OR REFUND - If you discover a\ndefect in this electronic work within 90 days of receiving it, you can\nreceive a refund of the money (if any) you paid for it by sending a\nwritten explanation to the person you received the work from. If you\nreceived the work on a physical medium, you must return the medium\nwith your written explanation. The person or entity that provided you\nwith the defective work may elect to provide a replacement copy in\nlieu of a refund. If you received the work electronically, the person\nor entity providing it to you may choose to give you a second\nopportunity to receive the work electronically in lieu of a refund. If\nthe second copy is also defective, you may demand a refund in writing\nwithout further opportunities to fix the problem.\n\n1.F.4. Except for the limited right of replacement or refund set forth\nin paragraph 1.F.3, this work is provided to you 'AS-IS', WITH NO\nOTHER WARRANTIES OF ANY KIND, EXPRESS OR IMPLIED, INCLUDING BUT NOT\nLIMITED TO WARRANTIES OF MERCHANTABILITY OR FITNESS FOR ANY PURPOSE.\n\n1.F.5. Some states do not allow disclaimers of certain implied\nwarranties or the exclusion or limitation of certain types of\ndamages. If any disclaimer or limitation set forth in this agreement\nviolates the law of the state applicable to this agreement, the\nagreement shall be interpreted to make the maximum disclaimer or\nlimitation permitted by the applicable state law. The invalidity or\nunenforceability of any provision of this agreement shall not void the\nremaining provisions.\n\n1.F.6. INDEMNITY - You agree to indemnify and hold the Foundation, the\ntrademark owner, any agent or employee of the Foundation, anyone\nproviding copies of Project Gutenberg-tm electronic works in\naccordance with this agreement, and any volunteers associated with the\nproduction, promotion and distribution of Project Gutenberg-tm\nelectronic works, harmless from all liability, costs and expenses,\nincluding legal fees, that arise directly or indirectly from any of\nthe following which you do or cause to occur: (a) distribution of this\nor any Project Gutenberg-tm work, (b) alteration, modification, or\nadditions or deletions to any Project Gutenberg-tm work, and (c) any\nDefect you cause.\n\nSection 2. Information about the Mission of Project Gutenberg-tm\n\nProject Gutenberg-tm is synonymous with the free distribution of\nelectronic works in formats readable by the widest variety of\ncomputers including obsolete, old, middle-aged and new computers. It\nexists because of the efforts of hundreds of volunteers and donations\nfrom people in all walks of life.\n\nVolunteers and financial support to provide volunteers with the\nassistance they need are critical to reaching Project Gutenberg-tm's\ngoals and ensuring that the Project Gutenberg-tm collection will\nremain freely available for generations to come. In 2001, the Project\nGutenberg Literary Archive Foundation was created to provide a secure\nand permanent future for Project Gutenberg-tm and future\ngenerations. To learn more about the Project Gutenberg Literary\nArchive Foundation and how your efforts and donations can help, see\nSections 3 and 4 and the Foundation information page at\nwww.gutenberg.org\n\n\n\nSection 3. Information about the Project Gutenberg Literary Archive Foundation\n\nThe Project Gutenberg Literary Archive Foundation is a non profit\n501(c)(3) educational corporation organized under the laws of the\nstate of Mississippi and granted tax exempt status by the Internal\nRevenue Service. The Foundation's EIN or federal tax identification\nnumber is 64-6221541. Contributions to the Project Gutenberg Literary\nArchive Foundation are tax deductible to the full extent permitted by\nU.S. federal laws and your state's laws.\n\nThe Foundation's principal office is in Fairbanks, Alaska, with the\nmailing address: PO Box 750175, Fairbanks, AK 99775, but its\nvolunteers and employees are scattered throughout numerous\nlocations. Its business office is located at 809 North 1500 West, Salt\nLake City, UT 84116, (801) 596-1887. Email contact links and up to\ndate contact information can be found at the Foundation's web site and\nofficial page at www.gutenberg.org/contact\n\nFor additional contact information:\n\n    Dr. Gregory B. Newby\n    Chief Executive and Director\n    gbnewby@pglaf.org\n\nSection 4. Information about Donations to the Project Gutenberg\nLiterary Archive Foundation\n\nProject Gutenberg-tm depends upon and cannot survive without wide\nspread public support and donations to carry out its mission of\nincreasing the number of public domain and licensed works that can be\nfreely distributed in machine readable form accessible by the widest\narray of equipment including outdated equipment. Many small donations\n($1 to $5,000) are particularly important to maintaining tax exempt\nstatus with the IRS.\n\nThe Foundation is committed to complying with the laws regulating\ncharities and charitable donations in all 50 states of the United\nStates. Compliance requirements are not uniform and it takes a\nconsiderable effort, much paperwork and many fees to meet and keep up\nwith these requirements. We do not solicit donations in locations\nwhere we have not received written confirmation of compliance. To SEND\nDONATIONS or determine the status of compliance for any particular\nstate visit www.gutenberg.org/donate\n\nWhile we cannot and do not solicit contributions from states where we\nhave not met the solicitation requirements, we know of no prohibition\nagainst accepting unsolicited donations from donors in such states who\napproach us with offers to donate.\n\nInternational donations are gratefully accepted, but we cannot make\nany statements concerning tax treatment of donations received from\noutside the United States. U.S. laws alone swamp our small staff.\n\nPlease check the Project Gutenberg Web pages for current donation\nmethods and addresses. Donations are accepted in a number of other\nways including checks, online payments and credit card donations. To\ndonate, please visit: www.gutenberg.org/donate\n\nSection 5. General Information About Project Gutenberg-tm electronic works.\n\nProfessor Michael S. Hart was the originator of the Project\nGutenberg-tm concept of a library of electronic works that could be\nfreely shared with anyone. For forty years, he produced and\ndistributed Project Gutenberg-tm eBooks with only a loose network of\nvolunteer support.\n\nProject Gutenberg-tm eBooks are often created from several printed\neditions, all of which are confirmed as not protected by copyright in\nthe U.S. unless a copyright notice is included. Thus, we do not\nnecessarily keep eBooks in compliance with any particular paper\nedition.\n\nMost people start at our Web site which has the main PG search\nfacility: www.gutenberg.org\n\nThis Web site includes information about Project Gutenberg-tm,\nincluding how to make donations to the Project Gutenberg Literary\nArchive Foundation, how to help produce our new eBooks, and how to\nsubscribe to our email newsletter to hear about new eBooks.\n\n\n\n"
     ]
    }
   ],
   "source": [
    "import requests\n",
    "url = \"https://www.gutenberg.org/files/11/11-0.txt\"\n",
    "alice = requests.get(url)\n",
    "print(alice.text)"
   ]
  },
  {
   "cell_type": "code",
   "execution_count": 9,
   "metadata": {},
   "outputs": [
    {
     "output_type": "execute_result",
     "data": {
      "text/plain": [
       "'having'"
      ]
     },
     "metadata": {},
     "execution_count": 9
    }
   ],
   "source": [
    "wordnet_lemmatizer = WordNetLemmatizer()\n",
    "wordnet_lemmatizer.lemmatize(\"having\")"
   ]
  },
  {
   "cell_type": "code",
   "execution_count": 10,
   "metadata": {},
   "outputs": [
    {
     "output_type": "stream",
     "name": "stdout",
     "text": [
      "Wall time: 320 ms\n"
     ]
    }
   ],
   "source": [
    "%%time\n",
    "_ = [wordnet_lemmatizer.lemmatize(token, pos='n') for token in word_tokenize(alice.text)]"
   ]
  },
  {
   "cell_type": "code",
   "execution_count": 11,
   "metadata": {},
   "outputs": [
    {
     "output_type": "stream",
     "name": "stdout",
     "text": [
      "Wall time: 745 ms\n"
     ]
    }
   ],
   "source": [
    "%%time\n",
    "_ = [stemmer.stem(token) for token in word_tokenize(alice.text)]"
   ]
  },
  {
   "cell_type": "markdown",
   "metadata": {},
   "source": [
    "* Lemmatising is faster than stemming in this case because the nltk lemmatiser also takes another argument called the part-of-speech (POS) tag of the input word.\n",
    "* The default part-of-speech tag is 'noun'..\n",
    "* You will learn more about part-of-speech tagging later in this course.\n",
    "* Right now, the stemmer will have more accuracy than the lemmatiser because each word is lemmatised assuming it's a noun. To lemmatise efficiently, you need to pass it's POS tag manually."
   ]
  }
 ],
 "metadata": {
  "kernelspec": {
   "display_name": "Python 3",
   "language": "python",
   "name": "python3"
  },
  "language_info": {
   "codemirror_mode": {
    "name": "ipython",
    "version": 3
   },
   "file_extension": ".py",
   "mimetype": "text/x-python",
   "name": "python",
   "nbconvert_exporter": "python",
   "pygments_lexer": "ipython3",
   "version": "3.8.5-final"
  }
 },
 "nbformat": 4,
 "nbformat_minor": 2
}