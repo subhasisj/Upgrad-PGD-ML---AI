{
 "metadata": {
  "language_info": {
   "codemirror_mode": {
    "name": "ipython",
    "version": 3
   },
   "file_extension": ".py",
   "mimetype": "text/x-python",
   "name": "python",
   "nbconvert_exporter": "python",
   "pygments_lexer": "ipython3",
   "version": "3.8.6-final"
  },
  "orig_nbformat": 2,
  "kernelspec": {
   "name": "python3",
   "display_name": "Python 3",
   "language": "python"
  }
 },
 "nbformat": 4,
 "nbformat_minor": 2,
 "cells": [
  {
   "cell_type": "code",
   "execution_count": 49,
   "metadata": {},
   "outputs": [],
   "source": [
    "import pandas as pd \n",
    "from sklearn.feature_extraction.text import TfidfVectorizer"
   ]
  },
  {
   "cell_type": "code",
   "execution_count": 50,
   "metadata": {},
   "outputs": [],
   "source": [
    "Document1= [\"Vapour, Bangalore has a really great terrace seating and an awesome view of the Bangalore skyline\",\"The beer at Vapour, Bangalore was amazing. My favourites are the wheat beer and the ale beer.\", \"Vapour, Bangalore has the best view in Bangalore.\" ]"
   ]
  },
  {
   "cell_type": "code",
   "execution_count": 51,
   "metadata": {},
   "outputs": [],
   "source": [
    "df = pd.DataFrame(Document1,columns=['text'])"
   ]
  },
  {
   "cell_type": "code",
   "execution_count": 52,
   "metadata": {},
   "outputs": [],
   "source": [
    "tfidf = TfidfVectorizer(stop_words = 'english',smooth_idf=False)"
   ]
  },
  {
   "cell_type": "code",
   "execution_count": 53,
   "metadata": {},
   "outputs": [],
   "source": [
    "X_trans = tfidf.fit_transform(df.text)"
   ]
  },
  {
   "cell_type": "code",
   "execution_count": 54,
   "metadata": {},
   "outputs": [
    {
     "output_type": "stream",
     "name": "stdout",
     "text": [
      "        ale   amazing   awesome  bangalore      beer      best  favourites  \\\n0  0.000000  0.000000  0.363125   0.346062  0.000000  0.000000    0.000000   \n1  0.272629  0.272629  0.000000   0.129909  0.817888  0.000000    0.272629   \n2  0.000000  0.000000  0.000000   0.592882  0.000000  0.622115    0.000000   \n\n      great    really   seating   skyline   terrace    vapour      view  \\\n0  0.363125  0.363125  0.363125  0.363125  0.363125  0.173031  0.243189   \n1  0.000000  0.000000  0.000000  0.000000  0.000000  0.129909  0.000000   \n2  0.000000  0.000000  0.000000  0.000000  0.000000  0.296441  0.416638   \n\n      wheat  \n0  0.000000  \n1  0.272629  \n2  0.000000  \n"
     ]
    }
   ],
   "source": [
    "df = pd.DataFrame(X_trans.toarray(), columns = tfidf.get_feature_names())\n",
    "print(df)"
   ]
  },
  {
   "cell_type": "code",
   "execution_count": null,
   "metadata": {},
   "outputs": [],
   "source": []
  },
  {
   "cell_type": "code",
   "execution_count": null,
   "metadata": {},
   "outputs": [],
   "source": []
  }
 ]
}