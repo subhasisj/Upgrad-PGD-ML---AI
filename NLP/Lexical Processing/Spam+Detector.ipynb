{
 "cells": [
  {
   "cell_type": "markdown",
   "metadata": {},
   "source": [
    "### SPAM Ham Detection"
   ]
  },
  {
   "cell_type": "code",
   "execution_count": 1,
   "metadata": {
    "collapsed": true
   },
   "outputs": [],
   "source": [
    "import random\n",
    "import nltk\n",
    "import pandas as pd\n",
    "from nltk.tokenize import word_tokenize\n",
    "from nltk.corpus import stopwords\n",
    "from nltk.stem.porter import PorterStemmer\n",
    "from nltk.stem import WordNetLemmatizer"
   ]
  },
  {
   "cell_type": "code",
   "execution_count": 2,
   "metadata": {
    "collapsed": true
   },
   "outputs": [],
   "source": [
    "## Reading the given dataset\n",
    "spam = pd.read_csv(\"SMSSpamCollection.txt\", sep = \"\\t\", names=[\"label\", \"message\"])"
   ]
  },
  {
   "cell_type": "code",
   "execution_count": 3,
   "metadata": {},
   "outputs": [
    {
     "output_type": "stream",
     "name": "stdout",
     "text": [
      "  label                                            message\n0   ham  Go until jurong point, crazy.. Available only ...\n1   ham                      Ok lar... Joking wif u oni...\n2  spam  Free entry in 2 a wkly comp to win FA Cup fina...\n3   ham  U dun say so early hor... U c already then say...\n4   ham  Nah I don't think he goes to usf, he lives aro...\n"
     ]
    }
   ],
   "source": [
    "print(spam.head())"
   ]
  },
  {
   "cell_type": "code",
   "execution_count": 4,
   "metadata": {
    "collapsed": true
   },
   "outputs": [],
   "source": [
    "## Converting the read dataset in to a list of tuples, each tuple(row) contianing the message and it's label\n",
    "data_set = []\n",
    "for index,row in spam.iterrows():\n",
    "    data_set.append((row['message'], row['label']))"
   ]
  },
  {
   "cell_type": "code",
   "execution_count": 5,
   "metadata": {},
   "outputs": [
    {
     "output_type": "stream",
     "name": "stdout",
     "text": [
      "[('Go until jurong point, crazy.. Available only in bugis n great world la e buffet... Cine there got amore wat...', 'ham'), ('Ok lar... Joking wif u oni...', 'ham'), (\"Free entry in 2 a wkly comp to win FA Cup final tkts 21st May 2005. Text FA to 87121 to receive entry question(std txt rate)T&C's apply 08452810075over18's\", 'spam'), ('U dun say so early hor... U c already then say...', 'ham'), (\"Nah I don't think he goes to usf, he lives around here though\", 'ham')]\n"
     ]
    }
   ],
   "source": [
    "print(data_set[:5])"
   ]
  },
  {
   "cell_type": "code",
   "execution_count": 6,
   "metadata": {},
   "outputs": [
    {
     "output_type": "stream",
     "name": "stdout",
     "text": [
      "5572\n"
     ]
    }
   ],
   "source": [
    "print(len(data_set))"
   ]
  },
  {
   "cell_type": "markdown",
   "metadata": {},
   "source": [
    "### Preprocessing"
   ]
  },
  {
   "cell_type": "code",
   "execution_count": 7,
   "metadata": {
    "collapsed": true
   },
   "outputs": [],
   "source": [
    "## initialise the inbuilt Stemmer and the Lemmatizer\n",
    "stemmer = PorterStemmer()\n",
    "wordnet_lemmatizer = WordNetLemmatizer()"
   ]
  },
  {
   "cell_type": "code",
   "execution_count": 8,
   "metadata": {
    "collapsed": true
   },
   "outputs": [],
   "source": [
    "def preprocess(document, stem=True):\n",
    "    'changes document to lower case, removes stopwords and lemmatizes/stems the remainder of the sentence'\n",
    "\n",
    "    # change sentence to lower case\n",
    "    document = document.lower()\n",
    "\n",
    "    # tokenize into words\n",
    "    words = word_tokenize(document)\n",
    "\n",
    "    # remove stop words\n",
    "    words = [word for word in words if word not in stopwords.words(\"english\")]\n",
    "\n",
    "    if stem:\n",
    "        words = [stemmer.stem(word) for word in words]\n",
    "    else:\n",
    "        words = [wordnet_lemmatizer.lemmatize(word, pos='v') for word in words]\n",
    "\n",
    "    # join words to make sentence\n",
    "    document = \" \".join(words)\n",
    "\n",
    "    return document"
   ]
  },
  {
   "cell_type": "code",
   "execution_count": 9,
   "metadata": {
    "collapsed": true
   },
   "outputs": [],
   "source": [
    "## - Performing the preprocessing steps on all messages\n",
    "messages_set = []\n",
    "for (message, label) in data_set:\n",
    "    words_filtered = [e.lower() for e in preprocess(message, stem=False).split() if len(e) >= 3]\n",
    "    messages_set.append((words_filtered, label))"
   ]
  },
  {
   "cell_type": "code",
   "execution_count": 10,
   "metadata": {},
   "outputs": [
    {
     "output_type": "stream",
     "name": "stdout",
     "text": [
      "[(['jurong', 'point', 'crazy', 'available', 'bugis', 'great', 'world', 'buffet', '...', 'cine', 'get', 'amore', 'wat', '...'], 'ham'), (['lar', '...', 'joke', 'wif', 'oni', '...'], 'ham'), (['free', 'entry', 'wkly', 'comp', 'win', 'cup', 'final', 'tkts', '21st', 'may', '2005.', 'text', '87121', 'receive', 'entry', 'question', 'std', 'txt', 'rate', 'apply', '08452810075over18'], 'spam'), (['dun', 'say', 'early', 'hor', '...', 'already', 'say', '...'], 'ham'), (['nah', \"n't\", 'think', 'usf', 'live', 'around', 'though'], 'ham')]\n"
     ]
    }
   ],
   "source": [
    "print(messages_set[:5])"
   ]
  },
  {
   "cell_type": "markdown",
   "metadata": {},
   "source": [
    "### Preparing to create features"
   ]
  },
  {
   "cell_type": "code",
   "execution_count": 11,
   "metadata": {
    "collapsed": true
   },
   "outputs": [],
   "source": [
    "## - creating a single list of all words in the entire dataset for feature list creation\n",
    "\n",
    "def get_words_in_messages(messages):\n",
    "    all_words = []\n",
    "    for (message, label) in messages:\n",
    "      all_words.extend(message)\n",
    "    return all_words"
   ]
  },
  {
   "cell_type": "code",
   "execution_count": 12,
   "metadata": {
    "collapsed": true
   },
   "outputs": [],
   "source": [
    "## - creating a final feature list using an intuitive FreqDist, to eliminate all the duplicate words\n",
    "## Note : we can use the Frequency Distribution of the entire dataset to calculate Tf-Idf scores like we did earlier.\n",
    "\n",
    "def get_word_features(wordlist):\n",
    "\n",
    "    #print(wordlist[:10])\n",
    "    wordlist = nltk.FreqDist(wordlist)\n",
    "    word_features = wordlist.keys()\n",
    "    return word_features"
   ]
  },
  {
   "cell_type": "code",
   "execution_count": 13,
   "metadata": {},
   "outputs": [
    {
     "output_type": "stream",
     "name": "stdout",
     "text": [
      "7995\n"
     ]
    }
   ],
   "source": [
    "## - creating the word features for the entire dataset\n",
    "word_features = get_word_features(get_words_in_messages(messages_set))\n",
    "print(len(word_features))"
   ]
  },
  {
   "cell_type": "markdown",
   "metadata": {},
   "source": [
    "### Preparing to create a train and test set"
   ]
  },
  {
   "cell_type": "code",
   "execution_count": 14,
   "metadata": {
    "collapsed": true
   },
   "outputs": [],
   "source": [
    "## - creating slicing index at 80% threshold\n",
    "sliceIndex = int((len(messages_set)*.8))"
   ]
  },
  {
   "cell_type": "code",
   "execution_count": 15,
   "metadata": {
    "collapsed": true
   },
   "outputs": [],
   "source": [
    "## - shuffle the pack to create a random and unbiased split of the dataset\n",
    "random.shuffle(messages_set)"
   ]
  },
  {
   "cell_type": "code",
   "execution_count": 16,
   "metadata": {
    "collapsed": true
   },
   "outputs": [],
   "source": [
    "train_messages, test_messages = messages_set[:sliceIndex], messages_set[sliceIndex:]"
   ]
  },
  {
   "cell_type": "code",
   "execution_count": 18,
   "metadata": {},
   "outputs": [
    {
     "output_type": "stream",
     "name": "stdout",
     "text": [
      "4457\n1115\n"
     ]
    }
   ],
   "source": [
    "print(len(train_messages))\n",
    "print(len(test_messages))"
   ]
  },
  {
   "cell_type": "markdown",
   "metadata": {},
   "source": [
    "### Preparing to create feature maps for train and test data"
   ]
  },
  {
   "cell_type": "code",
   "execution_count": 19,
   "metadata": {
    "collapsed": true
   },
   "outputs": [],
   "source": [
    "## creating a LazyMap of feature presence for each of the 8K+ features with respect to each of the SMS messages\n",
    "def extract_features(document):\n",
    "    document_words = set(document)\n",
    "    features = {}\n",
    "    for word in word_features:\n",
    "        features['contains(%s)' % word] = (word in document_words)\n",
    "    return features"
   ]
  },
  {
   "cell_type": "code",
   "execution_count": 20,
   "metadata": {
    "collapsed": true
   },
   "outputs": [],
   "source": [
    "## - creating the feature map of train and test data\n",
    "\n",
    "training_set = nltk.classify.apply_features(extract_features, train_messages)\n",
    "testing_set = nltk.classify.apply_features(extract_features, test_messages)"
   ]
  },
  {
   "cell_type": "code",
   "execution_count": 21,
   "metadata": {
    "tags": [
     "outputPrepend"
    ]
   },
   "outputs": [
    {
     "output_type": "stream",
     "name": "stdout",
     "text": [
      "contains(phonebook)': False, 'contains(ash)': False, 'contains(shijutta)': False, 'contains(offense)': False, 'contains(dvg)': False, 'contains(vinobanagar)': False, 'contains(ovulate.when)': False, 'contains(3wks)': False, 'contains(woah)': False, 'contains(orh)': False, 'contains(secrets)': False, 'contains(soon.xxx)': False, 'contains(cool-mob)': False, 'contains(frog-axel)': False, 'contains(akon-lonely)': False, 'contains(eyed-dont)': False, 'contains(cashbin.co.uk)': False, 'contains(www.cashbin.co.uk)': False, 'contains(canteen)': False, 'contains(stressfull)': False, 'contains(president)': False, 'contains(140)': False, 'contains(180)': False, 'contains(bedrm)': False, 'contains(pleasured)': False, 'contains(support.providing)': False, 'contains(assistance)': False, 'contains(whens)': False, 'contains(1172.)': False, 'contains(lonlines)': False, 'contains(lotz)': False, 'contains(memories)': False, 'contains(gailxx)': False, 'contains(complacent)': False, 'contains(denis)': False, 'contains(mina)': False, 'contains(miwa)': False, 'contains(hsbc)': False, 'contains(woulda)': False, 'contains(-call)': False, 'contains(09066649731from)': False, 'contains(mth)': False, 'contains(opposite)': False, 'contains(heavily)': False, 'contains(dolls)': False, 'contains(patrick)': False, 'contains(swayze)': False, 'contains(09061702893)': False, 'contains(santa)': False, 'contains(09077818151)': False, 'contains(calls1.50ppm)': False, 'contains(30s)': False, 'contains(www.santacalling.com)': False, 'contains(miserable)': False, 'contains(quarter)': False, 'contains(nervous)': False, 'contains(limp)': False, 'contains(078498)': False, 'contains(08719180219)': False, 'contains(06.05.05)': False, 'contains(oga)': False, 'contains(poorly)': False, 'contains(punishment)': False, 'contains(brb)': False, 'contains(predicte)': False, 'contains(situations)': False, 'contains(first-)': False, 'contains(second-)': False, 'contains(smaller)': False, 'contains(capacity)': False, 'contains(videos)': False, 'contains(sms.shsex.netun)': False, 'contains(fgkslpopw)': False, 'contains(fgkslpo)': False, 'contains(0871277810710p/min)': False, 'contains(defer)': False, 'contains(admission)': False, 'contains(checkmate)': False, 'contains(chess)': False, 'contains(persian)': False, 'contains(phrase)': False, 'contains(shah)': False, 'contains(maat)': False, 'contains(pee)': False, 'contains(week+)': False, 'contains(photoshop)': False, 'contains(manageable)': False, 'contains(08715203652)': False, 'contains(42810)': False, 'contains(29/10/0)': False, 'contains(shoppin)': False, 'contains(too.pray)': False, 'contains(inshah)': False, 'contains(s.this)': False, 'contains(increase)': False, 'contains(wife.dont)': False, 'contains(it.i)': False, 'contains(too.lets)': False, 'contains(north)': False, 'contains(carolina)': False, 'contains(texas)': False, 'contains(gre)': False, 'contains(bomb)': False, 'contains(powerful)': False, 'contains(weapon)': False, \"contains('heart)\": False, 'contains(lovly)': False, 'contains(150p/msgrcvd)': False, 'contains(customercare)': False, 'contains(08718726270)': False, 'contains(clas)': False, 'contains(loooooool)': False, 'contains(couch)': False, 'contains(celebration)': False, 'contains(swashbuckling)': False, 'contains(5.terror)': False, 'contains(6.cruel)': False, 'contains(7.romantic)': False, 'contains(8.lovable)': False, 'contains(9.decent)': False, 'contains(.joker)': False, 'contains(dip)': False, 'contains(gek1510)': False, 'contains(nuther)': False, 'contains(lyricalladie)': False, 'contains(21/f)': False, 'contains(yes-910)': False, 'contains(no-910)': False, 'contains(www.sms.ac/u/hmmross)': False, 'contains(happiest)': False, 'contains(differences)': False, 'contains(when/where)': False, 'contains(antibiotic)': False, 'contains(abdomen)': False, 'contains(gynae)': False, 'contains(infections)': False, 'contains(6times)': False, 'contains(chastity)': False, 'contains(device)': False, 'contains(beat)': False, 'contains(gut)': False, 'contains(tallahassee)': False, 'contains(taka)': False, 'contains(pobox202)': False, 'contains(nr31)': False, 'contains(7zs)': False, 'contains(450pw)': False, 'contains(ritten)': False, 'contains(fold)': False, 'contains(etc.)': False, 'contains(warner)': False, 'contains(83118)': False, 'contains(colin)': False, 'contains(farrell)': False, 'contains(swat)': False, 'contains(msg+ticket)': False, 'contains(kiosk.valid)': False, 'contains(4-7/12)': False, 'contains(kiosk)': False, 'contains(mre)': False, 'contains(solihull)': False, 'contains(nhs)': False, 'contains(mistake.u)': False, 'contains(born.please)': False, 'contains(terminated.we)': False, 'contains(inconvenience)': False, 'contains(dentists)': False, 'contains(henry)': False, 'contains(yards)': False, 'contains(bergkamp)': False, 'contains(margin)': False, \"contains(it'snot)\": False, 'contains(unintentional)': False, 'contains(nonetheless)': False, 'contains(hooch)': False, 'contains(toaday)': False, 'contains(splat)': False, 'contains(graze)': False, 'contains(knees)': False, 'contains(confirm/deny)': False, 'contains(hearin)': False, 'contains(yah)': False, 'contains(torture)': False, 'contains(sisters)': False, 'contains(sexychat)': False, 'contains(lips)': False, 'contains(started.india)': False, 'contains(congratulation)': False, 'contains(court)': False, 'contains(chapel)': False, 'contains(frontierville)': False, 'contains(mountain)': False, 'contains(deer)': False, 'contains(mail.i)': False, 'contains(varma)': False, 'contains(membership.take)': False, 'contains(care.insha)': False, 'contains(fart)': False, 'contains(7:30)': False, 'contains(ortxt)': False, 'contains(advisors)': False, 'contains(402)': False, 'contains(woot)': False, 'contains(ahhhh)': False, 'contains(9-6)': False, 'contains(experiencehttp)': False, 'contains(//www.vouch4me.com/etlp/dining.asp)': False, 'contains(kaila)': False, 'contains(09058094507)': False, 'contains(donate)': False, 'contains(£2.50)': False, 'contains(unicef)': False, 'contains(asian)': False, 'contains(tsunami)': False, 'contains(disaster)': False, 'contains(fund)': False, 'contains(864233)': False, 'contains(cme)': False, 'contains(hos)': False, 'contains(collapse)': False, 'contains(cumming)': False, 'contains(jade)': False, 'contains(paul)': False, 'contains(barmed)': False, 'contains(thinkthis)': False, 'contains(dangerous)': False, 'contains(goldviking)': False, 'contains(29/m)': False, 'contains(yes-762)': False, 'contains(no-762)': False, 'contains(www.sms.ac/u/goldviking)': False, 'contains(coulda)': False, 'contains(phony)': False, 'contains(12:30)': False, 'contains(okday)': False, 'contains(-xx)': False, 'contains(buz)': False, 'contains(wedlunch)': False, 'contains(outsomewhere)': False, 'contains(adrink)': False, 'contains(2watershd)': False, 'contains(fromwrk)': False, 'contains(bthere)': False, 'contains(petexxx)': False, 'contains(hmph)': False, 'contains(baller)': False, 'contains(punto)': False, 'contains(ayo)': False, 'contains(£125)': False, 'contains(freeentry)': False, 'contains(toyota)': False, 'contains(camry)': False, 'contains(olayiwola)': False, 'contains(mileage)': False, 'contains(k.its)': False, 'contains(clover)': False, 'contains(number.pls)': False, 'contains(id.convey)': False, 'contains(achan)': False, 'contains(amma.rakhesh.qatar)': False, \"contains('rencontre)\": False, 'contains(mountains)': False, 'contains(08714712412)': False, 'contains(nìte)': False, 'contains(puppy)': False, 'contains(noise)': False, 'contains(sarasota)': False, 'contains(150p/meg)': False, 'contains(08715203685)': False, 'contains(code:4xx26)': False, 'contains(13/10/04)': False, 'contains(deepest)': False, 'contains(darkest)': False, 'contains(09094646631)': False, 'contains(inconvenient)': False, 'contains(adsense)': False, 'contains(dudette)': False, 'contains(perumbavoor)': False, 'contains(stage)': False, 'contains(cherish)': False, 'contains(clarify)': False, 'contains(preponed)': False, 'contains(natalie)': False, 'contains(20/f)': False, 'contains(yes-165)': False, 'contains(no-165)': False, 'contains(www.sms.ac/u/natalie2k9)': False, 'contains(younger)': False, 'contains(wallpaper)': False, 'contains(08701213186)': False, 'contains(desires-)': False, 'contains(liver)': False, 'contains(hmmm.still)': False, 'contains(opener)': False, 'contains(loneliness)': False, 'contains(skyving)': False, 'contains(onwords)': False, 'contains(mtnl)': False, 'contains(mumbai)': False, 'contains(83039)': False, 'contains(62735=£450)': False, 'contains(accommodationvouchers)': False, 'contains(mustprovide)': False, 'contains(15541)': False, 'contains(rajitha)': False, 'contains(ranju)': False, 'contains(88039.)': False, 'contains(tscs08714740323)': False, 'contains(1winawk)': False, 'contains(£1.50perweeksub)': False, 'contains(slp)': False, 'contains(muah)': False, 'contains(09066361921)': False, 'contains(disagreeable)': False, 'contains(afterwards)': False, \"contains(b'coz)\": False, 'contains(battle)': False, 'contains(-vivekanand-)': False, 'contains(uawake)': False, 'contains(feellikw)': False, 'contains(shit.justfound)': False, 'contains(aletter)': False, 'contains(thatmum)': False, 'contains(gotmarried)': False, 'contains(4thnov.behind)': False, 'contains(ourbacks)': False, 'contains(fuckinnice)': False, 'contains(deviousbitch.anyway)': False, 'contains(i\\x92l)': False, 'contains(rearrange)': False, 'contains(dormitory)': False, 'contains(astronomer)': False, 'contains(starer)': False, 'contains(election)': False, 'contains(recount)': False, 'contains(mother-in-law)': False, 'contains(hitler)': False, 'contains(eleven)': False, 'contains(=twelve)': False, 'contains(worm)': False, 'contains(dysentry)': False, 'contains(andre)': False, 'contains(virgil)': False, 'contains(gokila)': False, 'contains(shanil)': False, 'contains(here.thanks)': False, 'contains(exchange)': False, 'contains(uncut)': False, 'contains(diamond)': False, 'contains(stuff.leaving)': False, 'contains(dino)': False, 'contains(k.k.this)': False, 'contains(kotees)': False, 'contains(panther)': False, 'contains(sugababes)': False, 'contains(zebra)': False, 'contains(badass)': False, 'contains(hoody)': False, 'contains(wallpaper-all)': False, 'contains(-tho)': False, 'contains(resent)': False, 'contains(query)': False, 'contains(customersqueries)': False, 'contains(netvision.uk.com)': False, 'contains(hassle)': False, 'contains(andres)': False, 'contains(haughaighgtujhyguj)': False, 'contains(fassyole)': False, 'contains(blacko)': False, 'contains(londn)': False, 'contains(4eva)': False, 'contains(responsibilities)': False, 'contains(08715205273)': False, 'contains(vco)': False, 'contains(humanities)': False, 'contains(reassurance)': False, 'contains(aslamalaikkum)': False, 'contains(tohar)': False, 'contains(beeen)': False, 'contains(muht)': False, 'contains(albi)': False, 'contains(mufti)': False, 'contains(mahfuuz)': False, 'contains(078)': False, 'contains(enufcredeit)': False, 'contains(tocall.shall)': False, 'contains(ileave)': False, 'contains(+get)': False, 'contains(okors)': False, 'contains(ibored)': False, 'contains(zero)': False, 'contains(goigng)': False, 'contains(perfume)': False, 'contains(sday)': False, 'contains(joined.so)': False, 'contains(grocers)': False, 'contains(pubs)': False, 'contains(frankie)': False, 'contains(bennys)': False, 'contains(diapers)': False, 'contains(unlike)': False, 'contains(patients)': False, 'contains(turkeys)': False, 'contains(helens)': False, 'contains(princes)': False, 'contains(unintentionally)': False, 'contains(garden)': False, 'contains(bulbs)': False, 'contains(seed)': False, 'contains(£33:50)': False, 'contains(scotsman)': False, 'contains(go2)': False, 'contains(notxt.co.uk)': False, 'contains(wenever)': False, 'contains(stability)': False, 'contains(tranquility)': False, 'contains(vibrant)': False, 'contains(colourful)': False, 'contains(bawl)': False, 'contains(failure)': False, 'contains(velusamy)': False, 'contains(facilities)': False, 'contains(karnan)': False, 'contains(bluray)': False, 'contains(salt)': False, 'contains(wound)': False, 'contains(geoenvironmental)': False, 'contains(implications)': False, 'contains(fuuuuck)': False, 'contains(salmon)': False, 'contains(wrkin)': False, 'contains(ree)': False, 'contains(compensation)': False, 'contains(awkward)': False, 'contains(splash)': False, 'contains(leg)': False, 'contains(musta)': False, 'contains(overdo)': False, 'contains(www.telediscount.co.uk)': False, 'contains(hi.what)': False, 'contains(gastroenteritis)': False, 'contains(reduce)': False, 'contains(illness)': False, 'contains(k.k.how)': False, 'contains(foned)': False, 'contains(chuck)': False, 'contains(port)': False, 'contains(juswoke)': False, 'contains(boatin)': False, 'contains(spinout)': False, 'contains(re-met)': False, 'contains(08715203656)': False, 'contains(42049)': False, 'contains(26/10/04)': False, 'contains(uworld)': False, 'contains(qbank)': False, 'contains(assessment)': False, 'contains(someonone)': False, 'contains(09064015307)': False, 'contains(tke)': False, 'contains(temales)': False, 'contains(finishd)': False, 'contains(09061213237)': False, 'contains(177)': False, 'contains(m227xy)': False, 'contains(dull)': False, 'contains(anyones)': False, 'contains(treadmill)': False, 'contains(craigslist)': False, 'contains(absolutely)': False, 'contains(ni8.swt)': False, 'contains(drms.take)': False, 'contains(swan)': False, 'contains(sall)': False, 'contains(hehe)': False, 'contains(shexy)': False, 'contains(asap.ok)': False, 'contains(hello.how)': False, 'contains(lamp)': False, 'contains(k.wish)': False, 'contains(foward)': False, 'contains(09061790126)': False, 'contains(misundrstud)': False, 'contains(2u2)': False, 'contains(177.)': False, 'contains(genes)': False, 'contains(www.ldew.com1win150ppmx3age16subscription)': False, 'contains(reapply)': False, 'contains(treatin)': False, 'contains(treacle)': False, 'contains(mumhas)': False, 'contains(beendropping)': False, 'contains(theplace)': False, 'contains(adress)': False, 'contains(7.30.)': False, 'contains(.so)': False, 'contains(money.i)': False, 'contains(favorite)': False, 'contains(oyster)': False, 'contains(sashimi)': False, 'contains(rumble)': False, 'contains(marandratha)': False, 'contains(correctly)': False, 'contains(alaikkum.pride)': False, 'contains(shop.we)': False, 'contains(qatar.rakhesh)': False, 'contains(indian.pls)': False, 'contains(number.respectful)': False, 'contains(gal-can)': False, 'contains(boy-y)': False, 'contains(gal-no)': False, 'contains(heaven)': False, 'contains(pisces)': False, 'contains(aquarius)': False, 'contains(2yrs)': False, 'contains(steyn)': False, 'contains(wicket)': False, 'contains(sterm)': False, 'contains(resolve)': False, 'contains(hannaford)': False, 'contains(wheat)': False, 'contains(chex)': False, 'contains(pride)': False, 'contains(grownup)': False, 'contains(jerk)': False, 'contains(stink)': False, 'contains(textcomp)': False, 'contains(subsequent)': False, 'contains(150p/msg.2)': False, 'contains(upcharge)': False, 'contains(8-hr)': False, 'contains(guai)': False, 'contains(bottle)': False, 'contains(amuse)': False, 'contains(astrology)': False, 'contains(slack)': False, 'contains(forms.don)': False, 'contains(mentor)': False, 'contains(percent)': False, 'contains(09095350301)': False, 'contains(erotic)': False, 'contains(ecstacy)': False, 'contains(dept)': False, 'contains(13/4/04)': False, 'contains(08717507382)': False, 'contains(coincidence)': False, 'contains(sane)': False, 'contains(151.)': False, 'contains(pause)': False, 'contains(gr8prizes)': False, 'contains(8800)': False, 'contains(psp)': False, 'contains(wk.txt)': False, 'contains(80878)': False, 'contains(http//www.gr8prizes.com)': False, 'contains(spacebucks)': False, 'contains(0207-083-6089)': False, 'contains(squeeze)': False, 'contains(me.remove)': False, 'contains(5.i\\x92m)': False, 'contains(dread)': False, 'contains(thou)': False, 'contains(suggestion)': False, 'contains(forgt)': False, 'contains(ajith)': False, 'contains(ooooooh)': False, 'contains(yoville)': False, 'contains(mega)': False, 'contains(asda)': False, 'contains(officer)': False, 'contains(respectful)': False, 'contains(bffs)': False, 'contains(carly)': False, 'contains(seperated)': False, 'contains(〨ud)': False, 'contains(brolly)': False, 'contains(franxx)': False, 'contains(prometazine)': False, 'contains(syrup)': False, 'contains(5mls)': False, 'contains(shu)': False, 'contains(singapore)': False, 'contains(victoria)': False, 'contains(island)': False, 'contains(pocay)': False, 'contains(wocay)': False, 'contains(2morrowxxxx)': False, 'contains(broth)': False, 'contains(ramen)': False, 'contains(fowler)': False, 'contains(09058094583)': False, 'contains(15:26)': False, 'contains(pub/cafe)': False, 'contains(attention)': False, 'contains(tix)': False, 'contains(fne)': False, 'contains(youdoing)': False, 'contains(worc)': False, 'contains(foregate)': False, 'contains(shrub)': False, 'contains(get4an18th)': False, 'contains(32000)': False, 'contains(legitimat)': False, 'contains(efreefone)': False, 'contains(pendent)': False, 'contains(toilet)': False, 'contains(navigate)': False, 'contains(guidance)': False, 'contains(chick)': False, 'contains(boob)': False, 'contains(sparkle)': False, 'contains(0121)': False, 'contains(2025050)': False, 'contains(www.shortbreaks.org.uk)': False, 'contains(gyno)': False, 'contains(www.gamb.tv)': False, 'contains(treasure)': False, 'contains(http//tms)': False, 'contains(id=820554ad0a1705572711)': False, 'contains(first=true¡c)': False, 'contains(ringtone¡)': False, 'contains(09050000332)': False, 'contains(positive)': False, 'contains(negative)': False, 'contains(hmmmm)': False, 'contains(title.so)': False, 'contains(command)': False, 'contains(stressful)': False, 'contains(holby)': False, 'contains(09064017295)': False, 'contains(lecturer)': False, 'contains(yeovil)': False, 'contains(motor)': False, 'contains(max)': False, 'contains(rhode)': False, 'contains(bong)': False, 'contains(ofcourse)': False, 'contains(08448350055)': False, 'contains(planettalkinstant.com)': False, 'contains(marvel)': False, 'contains(ultimate)': False, 'contains(spider-man)': False, 'contains(spider)': False, 'contains(83338)': False, 'contains(8ball)': False, 'contains(tamilnadu)': False, 'contains(07808247860)': False, 'contains(08719899229)': False, 'contains(40411)': False, 'contains(06/11/04)': False, 'contains(identification)': False, 'contains(boundaries)': False, 'contains(endless)': False, 'contains(reassure)': False, 'contains(young)': False, 'contains(referin)': False, 'contains(saibaba)': False, 'contains(colany)': False, 'contains(chic)': False, 'contains(declare)': False, 'contains(49557)': False, 'contains(26/11/04)': False, 'contains(disappointment)': False, 'contains(irritation)': False, 'contains(tantrum)': False, 'contains(compliment)': False, 'contains(chief)': False, 'contains(gsex)': False, 'contains(2667)': False, 'contains(wc1n)': False, 'contains(3xx)': False, 'contains(3mobile)': False, 'contains(chatlines)': False, 'contains(inclu)': False, 'contains(servs)': False, 'contains(l8er)': False, 'contains(bailiff)': False, 'contains(mouse)': False, 'contains(desk)': False, 'contains(childporn)': False, 'contains(jumpers)': False, 'contains(belt)': False, 'contains(cribbs)': False, 'contains(spiritual)': False, 'contains(sudden)': False, 'contains(influx)': False, 'contains(kane)': False, 'contains(shud)': False, 'contains(pshew)': False, 'contains(units)': False, 'contains(accent)': False, 'contains(4years)': False, 'contains(dental)': False, 'contains(nmde)': False, 'contains(dump)': False, 'contains(heap)': False, 'contains(salesman)': False, 'contains(2.50)': False, 'contains(£750)': False, 'contains(087187272008)': False, 'contains(now1)': False, 'contains(pity)': False, 'contains(suggestions)': False}, 'ham'), ...]\n"
     ]
    }
   ],
   "source": [
    "print(training_set[:5])"
   ]
  },
  {
   "cell_type": "code",
   "execution_count": 22,
   "metadata": {},
   "outputs": [
    {
     "output_type": "stream",
     "name": "stdout",
     "text": [
      "Training set size :  4457\nTest set size :  1115\n"
     ]
    }
   ],
   "source": [
    "print('Training set size : ', len(training_set))\n",
    "print('Test set size : ', len(testing_set))"
   ]
  },
  {
   "cell_type": "markdown",
   "metadata": {},
   "source": [
    "### Training"
   ]
  },
  {
   "cell_type": "code",
   "execution_count": 23,
   "metadata": {
    "collapsed": true
   },
   "outputs": [],
   "source": [
    "## Training the classifier with NaiveBayes algorithm\n",
    "spamClassifier = nltk.NaiveBayesClassifier.train(training_set)"
   ]
  },
  {
   "cell_type": "markdown",
   "metadata": {},
   "source": [
    "### Evaluation"
   ]
  },
  {
   "cell_type": "code",
   "execution_count": 24,
   "metadata": {},
   "outputs": [
    {
     "output_type": "stream",
     "name": "stdout",
     "text": [
      "0.9921471842046219\n"
     ]
    }
   ],
   "source": [
    "## - Analyzing the accuracy of the test set\n",
    "print(nltk.classify.accuracy(spamClassifier, training_set))"
   ]
  },
  {
   "cell_type": "code",
   "execution_count": 25,
   "metadata": {},
   "outputs": [
    {
     "output_type": "stream",
     "name": "stdout",
     "text": [
      "0.9829596412556054\n"
     ]
    }
   ],
   "source": [
    "## Analyzing the accuracy of the test set\n",
    "print(nltk.classify.accuracy(spamClassifier, testing_set))"
   ]
  },
  {
   "cell_type": "code",
   "execution_count": 26,
   "metadata": {},
   "outputs": [
    {
     "output_type": "stream",
     "name": "stdout",
     "text": [
      "Classification result :  spam\n"
     ]
    }
   ],
   "source": [
    "## Testing a example message with our newly trained classifier\n",
    "m = 'CONGRATULATIONS!! As a valued account holder you have been selected to receive a £900 prize reward! Valid 12 hours only.'\n",
    "print('Classification result : ', spamClassifier.classify(extract_features(m.split())))"
   ]
  },
  {
   "cell_type": "code",
   "execution_count": 27,
   "metadata": {},
   "outputs": [
    {
     "output_type": "stream",
     "name": "stdout",
     "text": [
      "Most Informative Features\n         contains(award) = True             spam : ham    =    202.1 : 1.0\n        contains(urgent) = True             spam : ham    =    131.5 : 1.0\n         contains(nokia) = True             spam : ham    =    105.9 : 1.0\n         contains(await) = True             spam : ham    =    100.0 : 1.0\n          contains(code) = True             spam : ham    =    100.0 : 1.0\n        contains(camera) = True             spam : ham    =     91.5 : 1.0\n          contains(rate) = True             spam : ham    =     83.0 : 1.0\n         contains(video) = True             spam : ham    =     83.0 : 1.0\n       contains(attempt) = True             spam : ham    =     78.7 : 1.0\n        contains(expire) = True             spam : ham    =     70.2 : 1.0\n       contains(private) = True             spam : ham    =     70.2 : 1.0\n       contains(service) = True             spam : ham    =     68.8 : 1.0\n      contains(landline) = True             spam : ham    =     67.7 : 1.0\n           contains(txt) = True             spam : ham    =     59.0 : 1.0\n          contains(club) = True             spam : ham    =     57.4 : 1.0\n           contains(100) = True             spam : ham    =     53.2 : 1.0\n          contains(quiz) = True             spam : ham    =     53.2 : 1.0\ncontains(congratulations) = True             spam : ham    =     48.9 : 1.0\n       contains(voucher) = True             spam : ham    =     48.9 : 1.0\n           contains(box) = True             spam : ham    =     47.5 : 1.0\n        contains(latest) = True             spam : ham    =     46.5 : 1.0\n        contains(mobile) = True             spam : ham    =     44.7 : 1.0\n          contains(info) = True             spam : ham    =     44.7 : 1.0\n           contains(opt) = True             spam : ham    =     44.7 : 1.0\n         contains(apply) = True             spam : ham    =     42.9 : 1.0\n        contains(orange) = True             spam : ham    =     42.9 : 1.0\n          contains(land) = True             spam : ham    =     42.1 : 1.0\n      contains(motorola) = True             spam : ham    =     40.4 : 1.0\n         contains(offer) = True             spam : ham    =     38.9 : 1.0\n           contains(del) = True             spam : ham    =     36.2 : 1.0\n       contains(england) = True             spam : ham    =     36.2 : 1.0\n           contains(rat) = True             spam : ham    =     36.2 : 1.0\n       contains(receive) = True             spam : ham    =     36.2 : 1.0\n        contains(txting) = True             spam : ham    =     36.2 : 1.0\n         contains(pound) = True             spam : ham    =     35.6 : 1.0\n          contains(draw) = True             spam : ham    =     35.4 : 1.0\n         contains(final) = True             spam : ham    =     31.9 : 1.0\n         contains(worth) = True             spam : ham    =     31.9 : 1.0\n          contains(comp) = True             spam : ham    =     31.9 : 1.0\n           contains(sex) = True             spam : ham    =     31.9 : 1.0\n      contains(sunshine) = True             spam : ham    =     31.9 : 1.0\n          contains(cash) = True             spam : ham    =     31.3 : 1.0\n         contains(music) = True             spam : ham    =     30.1 : 1.0\n           contains(dvd) = True             spam : ham    =     27.7 : 1.0\n        contains(flight) = True             spam : ham    =     27.7 : 1.0\n        contains(summer) = True             spam : ham    =     27.7 : 1.0\n        contains(player) = True             spam : ham    =     26.8 : 1.0\n        contains(todays) = True             spam : ham    =     26.4 : 1.0\n       contains(contact) = True             spam : ham    =     25.8 : 1.0\n       contains(network) = True             spam : ham    =     24.9 : 1.0\nNone\n"
     ]
    }
   ],
   "source": [
    "## Priting the most informative features in the classifier\n",
    "print(spamClassifier.show_most_informative_features(50))"
   ]
  },
  {
   "cell_type": "code",
   "execution_count": 28,
   "metadata": {},
   "outputs": [
    {
     "output_type": "stream",
     "name": "stdout",
     "text": [
      "Classifier stored at  nb_spam_classifier.pickle\n"
     ]
    }
   ],
   "source": [
    "## storing the classifier on disk for later usage\n",
    "import pickle\n",
    "f = open('nb_spam_classifier.pickle', 'wb')\n",
    "pickle.dump(spamClassifier,f)\n",
    "print('Classifier stored at ', f.name)\n",
    "f.close()"
   ]
  },
  {
   "cell_type": "code",
   "execution_count": null,
   "metadata": {},
   "outputs": [],
   "source": []
  }
 ],
 "metadata": {
  "kernelspec": {
   "name": "python3",
   "display_name": "Python 3.8.6 64-bit ('env')",
   "metadata": {
    "interpreter": {
     "hash": "fc5490c528836e1ddd0af3c74a60760eb1bf71c4669a2afabea412d5c4b2abd1"
    }
   }
  },
  "language_info": {
   "codemirror_mode": {
    "name": "ipython",
    "version": 3
   },
   "file_extension": ".py",
   "mimetype": "text/x-python",
   "name": "python",
   "nbconvert_exporter": "python",
   "pygments_lexer": "ipython3",
   "version": "3.8.6-final"
  }
 },
 "nbformat": 4,
 "nbformat_minor": 2
}