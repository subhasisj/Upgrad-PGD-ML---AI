{
 "cells": [
  {
   "cell_type": "markdown",
   "source": [
    "## Flask Methods"
   ],
   "metadata": {}
  },
  {
   "cell_type": "markdown",
   "source": [
    "### GET"
   ],
   "metadata": {}
  },
  {
   "cell_type": "code",
   "execution_count": 1,
   "source": [
    "import requests\r\n",
    "response = requests.get(\"http://127.0.0.1:5000\")\r\n",
    "response.json()"
   ],
   "outputs": [
    {
     "output_type": "execute_result",
     "data": {
      "text/plain": [
       "{'message': 'Hello, World!'}"
      ]
     },
     "metadata": {},
     "execution_count": 1
    }
   ],
   "metadata": {}
  },
  {
   "cell_type": "code",
   "execution_count": 2,
   "source": [
    "response = requests.get(\"http://127.0.0.1:5000/marks\")\r\n",
    "response.json()"
   ],
   "outputs": [
    {
     "output_type": "execute_result",
     "data": {
      "text/plain": [
       "{'marks': [{'maths': '88', 'name': 'Rahul'},\n",
       "  {'maths': '80', 'name': 'Sachin'},\n",
       "  {'maths': '96', 'name': 'Virat'},\n",
       "  {'maths': '70', 'name': 'Shikhar'}]}"
      ]
     },
     "metadata": {},
     "execution_count": 2
    }
   ],
   "metadata": {}
  },
  {
   "cell_type": "code",
   "execution_count": 3,
   "source": [
    "response = requests.get(\"http://127.0.0.1:5000/marks/Rohit\")\r\n",
    "response.json()"
   ],
   "outputs": [
    {
     "output_type": "execute_result",
     "data": {
      "text/plain": [
       "{'marks': {'maths': '88', 'name': 'Rahul'}}"
      ]
     },
     "metadata": {},
     "execution_count": 3
    }
   ],
   "metadata": {}
  },
  {
   "cell_type": "markdown",
   "source": [
    "### POST"
   ],
   "metadata": {}
  },
  {
   "cell_type": "code",
   "execution_count": 4,
   "source": [
    "response = requests.post(\"http://127.0.0.1:5000/marks\", json={\"name\":\"Shikhar\",\"maths\":\"70\"})\r\n",
    "response.json()"
   ],
   "outputs": [
    {
     "output_type": "execute_result",
     "data": {
      "text/plain": [
       "{'marks': [{'maths': '88', 'name': 'Rahul'},\n",
       "  {'maths': '80', 'name': 'Sachin'},\n",
       "  {'maths': '96', 'name': 'Virat'},\n",
       "  {'maths': '70', 'name': 'Shikhar'},\n",
       "  {'maths': '70', 'name': 'Shikhar'}]}"
      ]
     },
     "metadata": {},
     "execution_count": 4
    }
   ],
   "metadata": {}
  },
  {
   "cell_type": "markdown",
   "source": [
    "### PUT"
   ],
   "metadata": {}
  },
  {
   "cell_type": "code",
   "execution_count": 6,
   "source": [
    "response = requests.put(\"http://127.0.0.1:5000/marks/Rohit\", json={\"name\":\"Rohit\",\"maths\":\"64\"})\r\n",
    "response.json()\r\n",
    "\r\n"
   ],
   "outputs": [
    {
     "output_type": "execute_result",
     "data": {
      "text/plain": [
       "{'marks': [{'maths': '88', 'name': 'Rahul'},\n",
       "  {'maths': '80', 'name': 'Sachin'},\n",
       "  {'maths': '96', 'name': 'Virat'},\n",
       "  {'maths': '70', 'name': 'Shikhar'},\n",
       "  {'maths': '70', 'name': 'Shikhar'}]}"
      ]
     },
     "metadata": {},
     "execution_count": 6
    }
   ],
   "metadata": {}
  },
  {
   "cell_type": "markdown",
   "source": [
    "### DELETE"
   ],
   "metadata": {}
  },
  {
   "cell_type": "code",
   "execution_count": 10,
   "source": [
    "response = requests.delete(\"http://127.0.0.1:5000/marks/Rohit\")\r\n",
    "response.json()\r\n"
   ],
   "outputs": [
    {
     "output_type": "execute_result",
     "data": {
      "text/plain": [
       "{'marks': [{'maths': '88', 'name': 'Rahul'},\n",
       "  {'maths': '80', 'name': 'Sachin'},\n",
       "  {'maths': '96', 'name': 'Virat'},\n",
       "  {'maths': '70', 'name': 'Shikhar'}]}"
      ]
     },
     "metadata": {},
     "execution_count": 10
    }
   ],
   "metadata": {}
  },
  {
   "cell_type": "code",
   "execution_count": null,
   "source": [],
   "outputs": [],
   "metadata": {}
  }
 ],
 "metadata": {
  "kernelspec": {
   "name": "python3",
   "display_name": "Python 3.8.5 64-bit ('upgradpy': conda)"
  },
  "language_info": {
   "codemirror_mode": {
    "name": "ipython",
    "version": 3
   },
   "file_extension": ".py",
   "mimetype": "text/x-python",
   "name": "python",
   "nbconvert_exporter": "python",
   "pygments_lexer": "ipython3",
   "version": "3.8.5"
  },
  "interpreter": {
   "hash": "66529af4e939b7bcbc41896c5279ef4fbdc287bfb9e46b131d571964c5c60b3e"
  }
 },
 "nbformat": 4,
 "nbformat_minor": 2
}