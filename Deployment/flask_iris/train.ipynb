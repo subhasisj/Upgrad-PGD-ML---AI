{
 "cells": [
  {
   "cell_type": "code",
   "execution_count": 1,
   "source": [
    "# Import libraries and packages\r\n",
    "from sklearn import svm, datasets\r\n",
    "import pickle \r\n",
    "import numpy as np"
   ],
   "outputs": [],
   "metadata": {}
  },
  {
   "cell_type": "code",
   "execution_count": 2,
   "source": [
    "# Load Iris Data\r\n",
    "iris = datasets.load_iris()"
   ],
   "outputs": [],
   "metadata": {}
  },
  {
   "cell_type": "code",
   "execution_count": 3,
   "source": [
    "# Split dataset into features and target variable\r\n",
    "X = iris.data  \r\n",
    "y = iris.target"
   ],
   "outputs": [],
   "metadata": {}
  },
  {
   "cell_type": "code",
   "execution_count": 4,
   "source": [
    "# Train Support Vector Machine (SVM) model with all data \r\n",
    "iris_model = svm.SVC(kernel='poly', degree=3, C=1.0).fit(X, y)"
   ],
   "outputs": [],
   "metadata": {}
  },
  {
   "cell_type": "code",
   "execution_count": 6,
   "source": [
    "# Save the Model\r\n",
    "# from sklearn.externals import joblib\r\n",
    "import joblib\r\n",
    "\r\n",
    "# Save the model as a pickle in a file \r\n",
    "joblib.dump(iris_model, 'model/iris_model.pkl') \r\n",
    "\r\n",
    "# Load the model from the file \r\n",
    "iris_model = joblib.load('model/iris_model.pkl')\r\n"
   ],
   "outputs": [],
   "metadata": {}
  },
  {
   "cell_type": "code",
   "execution_count": null,
   "source": [],
   "outputs": [],
   "metadata": {}
  }
 ],
 "metadata": {
  "kernelspec": {
   "name": "python3",
   "display_name": "Python 3.8.5 64-bit ('upgradpy': conda)"
  },
  "language_info": {
   "codemirror_mode": {
    "name": "ipython",
    "version": 3
   },
   "file_extension": ".py",
   "mimetype": "text/x-python",
   "name": "python",
   "nbconvert_exporter": "python",
   "pygments_lexer": "ipython3",
   "version": "3.8.5"
  },
  "interpreter": {
   "hash": "66529af4e939b7bcbc41896c5279ef4fbdc287bfb9e46b131d571964c5c60b3e"
  }
 },
 "nbformat": 4,
 "nbformat_minor": 2
}