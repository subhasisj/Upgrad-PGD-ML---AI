{
 "cells": [
  {
   "cell_type": "markdown",
   "source": [
    "### Cab-Driver Agent"
   ],
   "metadata": {}
  },
  {
   "cell_type": "code",
   "execution_count": 1,
   "source": [
    "# Importing libraries\r\n",
    "import numpy as np\r\n",
    "import random\r\n",
    "import math\r\n",
    "from collections import deque\r\n",
    "import collections\r\n",
    "import pickle\r\n",
    "\r\n",
    "# for building DQN model\r\n",
    "import tensorflow as tf\r\n",
    "from tensorflow.keras import layers\r\n",
    "from tensorflow.keras import Sequential\r\n",
    "from tensorflow.keras.layers import Dense, Activation, Flatten\r\n",
    "from tensorflow.keras.optimizers import Adam\r\n",
    "\r\n",
    "# for plotting graphs\r\n",
    "import matplotlib.pyplot as plt\r\n",
    "\r\n",
    "# Import the environment\r\n",
    "from Env import CabDriver"
   ],
   "outputs": [],
   "metadata": {}
  },
  {
   "cell_type": "code",
   "execution_count": 2,
   "source": [
    "tf.test.is_gpu_available(\r\n",
    "    cuda_only=False, min_cuda_compute_capability=None\r\n",
    ")"
   ],
   "outputs": [
    {
     "output_type": "stream",
     "name": "stdout",
     "text": [
      "WARNING:tensorflow:From <ipython-input-2-8012f377b620>:1: is_gpu_available (from tensorflow.python.framework.test_util) is deprecated and will be removed in a future version.\n",
      "Instructions for updating:\n",
      "Use `tf.config.list_physical_devices('GPU')` instead.\n"
     ]
    },
    {
     "output_type": "execute_result",
     "data": {
      "text/plain": [
       "True"
      ]
     },
     "metadata": {},
     "execution_count": 2
    }
   ],
   "metadata": {}
  },
  {
   "cell_type": "code",
   "execution_count": 3,
   "source": [
    "tf.config.list_physical_devices('GPU')"
   ],
   "outputs": [
    {
     "output_type": "execute_result",
     "data": {
      "text/plain": [
       "[PhysicalDevice(name='/physical_device:GPU:0', device_type='GPU')]"
      ]
     },
     "metadata": {},
     "execution_count": 3
    }
   ],
   "metadata": {}
  },
  {
   "cell_type": "markdown",
   "source": [
    "#### Defining Time Matrix"
   ],
   "metadata": {}
  },
  {
   "cell_type": "code",
   "execution_count": 4,
   "source": [
    "# Loading the time matrix provided\r\n",
    "Time_matrix = np.load(\"TM.npy\")\r\n",
    "Time_matrix[1,2,:,6]"
   ],
   "outputs": [
    {
     "output_type": "execute_result",
     "data": {
      "text/plain": [
       "array([7., 7., 7., 7., 7., 7., 4., 4., 4., 4., 4., 4., 2., 2., 2., 2., 2.,\n",
       "       2., 8., 8., 8., 8., 8., 8.])"
      ]
     },
     "metadata": {},
     "execution_count": 4
    }
   ],
   "metadata": {}
  },
  {
   "cell_type": "markdown",
   "source": [
    "#### Tracking the state-action pairs for checking convergence\n"
   ],
   "metadata": {}
  },
  {
   "cell_type": "code",
   "execution_count": 5,
   "source": [
    "States_track = collections.defaultdict(dict)\r\n",
    "print(len(States_track))"
   ],
   "outputs": [
    {
     "output_type": "stream",
     "name": "stdout",
     "text": [
      "0\n"
     ]
    }
   ],
   "metadata": {}
  },
  {
   "cell_type": "code",
   "execution_count": 6,
   "source": [
    "# Initialise states to be tracked\r\n",
    "def initialise_tracking_states():\r\n",
    "    sample_q_values = [((0, 0, 0), (0,1)), ((0, 0, 0), (0,2))]    \r\n",
    "    for q_values in sample_q_values:\r\n",
    "        state = q_values[0]\r\n",
    "        action = q_values[1]\r\n",
    "        States_track[state][action] = [] "
   ],
   "outputs": [],
   "metadata": {}
  },
  {
   "cell_type": "code",
   "execution_count": 7,
   "source": [
    "#Defining a function to save the Q-dictionary as a pickle file\r\n",
    "def save_obj(obj, name ):\r\n",
    "    with open(name + '.pkl', 'wb') as f:\r\n",
    "        pickle.dump(obj, f, pickle.HIGHEST_PROTOCOL)"
   ],
   "outputs": [],
   "metadata": {}
  },
  {
   "cell_type": "markdown",
   "source": [
    "### Agent Class\n",
    "\n",
    "If you are using this framework, you need to fill the following to complete the following code block:\n",
    "1. State and Action Size\n",
    "2. Hyperparameters\n",
    "3. Create a neural-network model in function 'build_model()'\n",
    "4. Define epsilon-greedy strategy in function 'get_action()'\n",
    "5. Complete the function 'append_sample()'. This function appends the recent experience tuple <state, action, reward, new-state> to the memory\n",
    "6. Complete the 'train_model()' function with following logic:\n",
    "   - If the memory size is greater than mini-batch size, you randomly sample experiences from memory as per the mini-batch size and do the following:\n",
    "      - Initialise your input and output batch for training the model\n",
    "      - Calculate the target Q value for each sample: reward + gamma*max(Q(s'a,))\n",
    "      - Get Q(s', a) values from the last trained model\n",
    "      - Update the input batch as your encoded state and output batch as your Q-values\n",
    "      - Then fit your DQN model using the updated input and output batch."
   ],
   "metadata": {}
  },
  {
   "cell_type": "code",
   "execution_count": null,
   "source": [
    "class DQNAgent:\r\n",
    "    def __init__(self, state_size, action_size, discount_factor=0.95, learning_rate=0.006,\r\n",
    "                 epsilon=1, epsilon_decay=0.0003, epsilon_min=0.00001):\r\n",
    "        # Define size of state and action\r\n",
    "        self.state_size = state_size\r\n",
    "        self.action_size = action_size\r\n",
    "\r\n",
    "        # Write here: Specify you hyper parameters for the DQN\r\n",
    "        # Increase batch size and decrease learning rate\r\n",
    "        self.discount_factor = discount_factor\r\n",
    "        self.learning_rate = learning_rate\r\n",
    "        self.epsilon_max = epsilon\r\n",
    "        self.epsilon = epsilon\r\n",
    "        self.epsilon_decay = epsilon_decay\r\n",
    "        self.epsilon_min = epsilon_min\r\n",
    "        \r\n",
    "        self.batch_size = 256     \r\n",
    "        # create replay memory using deque\r\n",
    "        self.memory = deque(maxlen=2000)\r\n",
    "\r\n",
    "        # Initialize the value of the states tracked\r\n",
    "        self.states_tracked = []\r\n",
    "        self.track_state = np.array(env.state_encod_arch1([0,0,0])).reshape(1, 36)\r\n",
    "\r\n",
    "\r\n",
    "        # create main model and target model\r\n",
    "        self.model = self.build_model()\r\n",
    "\r\n",
    "    # approximate Q function using Neural Network\r\n",
    "    def build_model(self):\r\n",
    "        model = Sequential()\r\n",
    "        # Write your code here: Add layers to your neural nets       \r\n",
    "        model.add(Dense(50, input_dim=self.state_size, activation='relu',\r\n",
    "                        kernel_initializer='he_uniform'))\r\n",
    "        model.add(Dense(self.action_size, activation='relu', kernel_initializer='he_uniform'))\r\n",
    "        model.compile(loss='mse',optimizer=Adam(lr=self.learning_rate))\r\n",
    "        model.summary\r\n",
    "        return model\r\n",
    "\r\n",
    "\r\n",
    "\r\n",
    "    def get_action(self, state, action_space, possible_actions_indexate):\r\n",
    "    # Write your code here:\r\n",
    "    # get action from model using epsilon-greedy policy\r\n",
    "    # Decay in ε after we generate each sample from the environment       \r\n",
    "        \r\n",
    "        if np.random.rand() <= self.epsilon:\r\n",
    "            # explore: choose a random action from all possible actions\r\n",
    "            # in case of cartpole this will randomly choose an action between 0 and 1\r\n",
    "            index = random.randrange(len(possible_actions_index))\r\n",
    "            action_index = possible_actions_index[index]\r\n",
    "            action = action_space[action_index]\r\n",
    "            return action_index, action\r\n",
    "\r\n",
    "        else:\r\n",
    "            # choose the action with the highest q(s, a)\r\n",
    "            # the first index corresponds to the batch size, so\r\n",
    "            # reshape state to (1, state_size) so that the first index corresponds to the batch size\r\n",
    "\r\n",
    "            state = np.array(state).reshape(1, self.state_size)\r\n",
    "            q_value = self.model.predict(state)\r\n",
    "            #print(\"action picked from compile model = {}\".format(q_value))\r\n",
    "\r\n",
    "            return np.argmax(q_value[0]), action_space[np.argmax(q_value[0])]   \r\n",
    "        \r\n",
    "        \r\n",
    "        \r\n",
    "\r\n",
    "\r\n",
    "    def append_sample(self, state, action, reward, next_state):\r\n",
    "    # Write your code here:\r\n",
    "    # save sample <s,a,r,s'> to the replay memory\r\n",
    "        self.memory.append((state, action, reward, next_state))\r\n",
    "\r\n",
    "    \r\n",
    "    \r\n",
    "    \r\n",
    "    # pick samples randomly from replay memory (with batch_size) and train the network\r\n",
    "    def train_model(self):\r\n",
    "        \r\n",
    "        if len(self.memory) > self.batch_size:\r\n",
    "            # Sample batch from the memory\r\n",
    "            mini_batch = random.sample(self.memory, self.batch_size)\r\n",
    "            update_output = np.zeros((self.batch_size, self.state_size))  # write here\r\n",
    "            update_input = np.zeros((self.batch_size, self.state_size))  # write here\r\n",
    "\r\n",
    "            action, rewards = [], []\r\n",
    "            \r\n",
    "            for i in range(self.batch_size):\r\n",
    "                state, action, reward, next_state = mini_batch[i]\r\n",
    "                update_input[i] = state\r\n",
    "                actions.append(action)\r\n",
    "                rewards.append(reward)\r\n",
    "                update_output[i] = next_state\r\n",
    "                \r\n",
    "                # Write your code from here\r\n",
    "                # 1. Predict the target from earlier model\r\n",
    "                target = self.model.predict(update_input)\r\n",
    "                \r\n",
    "                # 2. Get the target for the Q-network\r\n",
    "                target_qval = self.model.predict(update_output)\r\n",
    "                \r\n",
    "                #3. Update your 'update_output' and 'update_input' batch\r\n",
    "            for i in range(self.batch_size):\r\n",
    "                ### do we need to handle terminal state. termination function here is independent\r\n",
    "                #  from actions and state so we can ignore it\r\n",
    "                print(target)\r\n",
    "                print(target.shape)\r\n",
    "                target[i][actions[i]] = rewards[i] + self.discount_factor * np.max(target_qval[i])\r\n",
    "                \r\n",
    "                \r\n",
    "            # 4. Fit your model and track the loss values\r\n",
    "            self.model.fit(update_input, target, batch_size=self.batch_size, epochs=1, verbose=0)\r\n",
    "        \r\n",
    "    def store_q_values(self):\r\n",
    "        \"\"\" We are keeping track of q value for state [0,0,0] and action (0,2)\"\"\"\r\n",
    "        q_value = self.model.predict(self.track_state)\r\n",
    "        self.states_tracked.append(q_value[0][2])\r\n",
    "\r\n",
    "    def save(self, name):\r\n",
    "        self.model.save(name)"
   ],
   "outputs": [],
   "metadata": {}
  },
  {
   "cell_type": "code",
   "execution_count": 13,
   "source": [
    "Episodes = 1500"
   ],
   "outputs": [],
   "metadata": {}
  },
  {
   "cell_type": "markdown",
   "source": [
    "### DQN block"
   ],
   "metadata": {}
  },
  {
   "cell_type": "code",
   "execution_count": 14,
   "source": [
    "# for episode in range(Episodes):\r\n",
    "\r\n",
    "#     # Write code here\r\n",
    "#     # Call the environment\r\n",
    "#     # Call all the initialised variables of the environment\r\n",
    "    \r\n",
    "\r\n",
    "#     #Call the DQN agent\r\n",
    "    \r\n",
    "    \r\n",
    "#     while !terminal_state:\r\n",
    "        \r\n",
    "#         # Write your code here\r\n",
    "#         # 1. Pick epsilon-greedy action from possible actions for the current state\r\n",
    "#         # 2. Evaluate your reward and next state\r\n",
    "#         # 3. Append the experience to the memory\r\n",
    "#         # 4. Train the model by calling function agent.train_model\r\n",
    "#         # 5. Keep a track of rewards, Q-values, loss\r\n",
    "        "
   ],
   "outputs": [],
   "metadata": {}
  },
  {
   "cell_type": "code",
   "execution_count": 15,
   "source": [
    "import time\r\n",
    "\r\n",
    "start_time = time.time()\r\n",
    "rewards_per_episode, episodes, avg_rewards_per_episode = [], [], []\r\n",
    "\r\n",
    "env = CabDriver()\r\n",
    "agent = DQNAgent(action_size=len(env.action_space), state_size=len(env.state_encod_arch1(\r\n",
    "    env.state_init)))\r\n",
    "\r\n",
    "for episode in range(Episodes):\r\n",
    "\r\n",
    "    # Write code here\r\n",
    "    # Call the environment\r\n",
    "    env = CabDriver()\r\n",
    "    score = 0\r\n",
    "    # Call all the initialised variables of the environment\r\n",
    "    action_space, state_space, state = env.reset()\r\n",
    "\r\n",
    "    terminal_state = False\r\n",
    "    t = 0\r\n",
    "    count = 1\r\n",
    "    while not terminal_state:\r\n",
    "        #print(\"count = {}\".format(count))\r\n",
    "        count += 1\r\n",
    "        # Write your code here\r\n",
    "        # 1. Pick epsilon-greedy action from possible actions for the current state\r\n",
    "        possible_actions_index, actions = env.requests(state)\r\n",
    "        action_index, action = agent.get_action(env.state_encod_arch1(state), env.action_space, possible_actions_index)\r\n",
    "        # 2. Evaluate your reward and next state\r\n",
    "        next_state, wait_time, transit_time, ride_time = env.next_state_func(state, action,\r\n",
    "                                                                             Time_matrix)\r\n",
    "        reward = env.reward_func(state, action, Time_matrix)\r\n",
    "        # 3. Append the experience to the memory\r\n",
    "        agent.append_sample(env.state_encod_arch1(state), action_index,\r\n",
    "                            reward, env.state_encod_arch1(next_state))\r\n",
    "        # 4. Train the model by calling function agent.train_model\r\n",
    "        agent.train_model()\r\n",
    "        # 5. Keep a track of rewards, Q-values, loss\r\n",
    "        score += reward\r\n",
    "        state = next_state\r\n",
    "        t += wait_time + transit_time + ride_time\r\n",
    "        #print(t)\r\n",
    "        # TODO Do we need a logic to make sure that total time never goes more than 30 days. Which\r\n",
    "        # TODO requires last ride to be less than the time left\r\n",
    "        # TODO OR we not very hard strict with 30 days, driver can even work extra few hour just\r\n",
    "        # TODO because of last ride\r\n",
    "        if t >= 24 * 30:\r\n",
    "            print(\"state terminated\")\r\n",
    "            terminal_state = True\r\n",
    "\r\n",
    "    # store total reward obtained in this episode\r\n",
    "    rewards_per_episode.append(score)\r\n",
    "    episodes.append(episode)\r\n",
    "\r\n",
    "    # epsilon decay\r\n",
    "    if agent.epsilon > agent.epsilon_min:\r\n",
    "        agent.epsilon = agent.epsilon_min + (agent.epsilon_max - agent.epsilon_min) * np.exp(-agent.epsilon_decay*episode)\r\n",
    "\r\n",
    "    # every episode:\r\n",
    "    print(\"episode {0}, reward {1}, memory_length {2}, epsilon {3}\".format(episode,\r\n",
    "                                                                           score,\r\n",
    "                                                                           len(agent.memory),\r\n",
    "                                                                           agent.epsilon))\r\n",
    "    # every few episodes:\r\n",
    "    if episode % 10 == 0:\r\n",
    "        # store q-values of some prespecified state-action pairs\r\n",
    "        agent.store_q_values()\r\n",
    "    if episode % 1000 == 0:\r\n",
    "        agent.save(name=\"model.pkl\")\r\n",
    "        elapsed_time = time.time() - start_time\r\n",
    "        print('Total time taken ',elapsed_time)"
   ],
   "outputs": [
    {
     "output_type": "stream",
     "name": "stdout",
     "text": [
      "state terminated\n",
      "episode 0, reward 36.0, memory_length 148, epsilon 1.0\n",
      "INFO:tensorflow:Assets written to: model.pkl\\assets\n",
      "Total time taken  0.6081342697143555\n",
      "[[0.         0.         0.         ... 0.         0.10619685 0.        ]\n",
      " [0.         0.         0.         ... 0.         0.         0.        ]\n",
      " [0.         0.         0.         ... 0.03883085 0.8405152  0.4317799 ]\n",
      " ...\n",
      " [0.         0.         0.         ... 0.05763133 0.         0.        ]\n",
      " [0.         0.         0.         ... 0.10479211 0.28953436 0.        ]\n",
      " [0.23885635 0.         0.         ... 0.         0.46669087 0.30088735]]\n",
      "<class 'numpy.ndarray'>\n"
     ]
    },
    {
     "output_type": "error",
     "ename": "IndexError",
     "evalue": "too many indices for array: array is 1-dimensional, but 2 were indexed",
     "traceback": [
      "\u001b[1;31m---------------------------------------------------------------------------\u001b[0m",
      "\u001b[1;31mIndexError\u001b[0m                                Traceback (most recent call last)",
      "\u001b[1;32m<ipython-input-15-59507d474135>\u001b[0m in \u001b[0;36m<module>\u001b[1;34m\u001b[0m\n\u001b[0;32m     35\u001b[0m                             reward, env.state_encod_arch1(next_state))\n\u001b[0;32m     36\u001b[0m         \u001b[1;31m# 4. Train the model by calling function agent.train_model\u001b[0m\u001b[1;33m\u001b[0m\u001b[1;33m\u001b[0m\u001b[1;33m\u001b[0m\u001b[0m\n\u001b[1;32m---> 37\u001b[1;33m         \u001b[0magent\u001b[0m\u001b[1;33m.\u001b[0m\u001b[0mtrain_model\u001b[0m\u001b[1;33m(\u001b[0m\u001b[1;33m)\u001b[0m\u001b[1;33m\u001b[0m\u001b[1;33m\u001b[0m\u001b[0m\n\u001b[0m\u001b[0;32m     38\u001b[0m         \u001b[1;31m# 5. Keep a track of rewards, Q-values, loss\u001b[0m\u001b[1;33m\u001b[0m\u001b[1;33m\u001b[0m\u001b[1;33m\u001b[0m\u001b[0m\n\u001b[0;32m     39\u001b[0m         \u001b[0mscore\u001b[0m \u001b[1;33m+=\u001b[0m \u001b[0mreward\u001b[0m\u001b[1;33m\u001b[0m\u001b[1;33m\u001b[0m\u001b[0m\n",
      "\u001b[1;32m<ipython-input-12-7e88c0f69371>\u001b[0m in \u001b[0;36mtrain_model\u001b[1;34m(self)\u001b[0m\n\u001b[0;32m    107\u001b[0m                 \u001b[0mprint\u001b[0m\u001b[1;33m(\u001b[0m\u001b[0mtarget\u001b[0m\u001b[1;33m)\u001b[0m\u001b[1;33m\u001b[0m\u001b[1;33m\u001b[0m\u001b[0m\n\u001b[0;32m    108\u001b[0m                 \u001b[0mprint\u001b[0m\u001b[1;33m(\u001b[0m\u001b[0mtype\u001b[0m\u001b[1;33m(\u001b[0m\u001b[0mtarget\u001b[0m\u001b[1;33m)\u001b[0m\u001b[1;33m)\u001b[0m\u001b[1;33m\u001b[0m\u001b[1;33m\u001b[0m\u001b[0m\n\u001b[1;32m--> 109\u001b[1;33m                 \u001b[0mtarget\u001b[0m\u001b[1;33m[\u001b[0m\u001b[0mi\u001b[0m\u001b[1;33m]\u001b[0m\u001b[1;33m[\u001b[0m\u001b[0mactions\u001b[0m\u001b[1;33m[\u001b[0m\u001b[0mi\u001b[0m\u001b[1;33m]\u001b[0m\u001b[1;33m]\u001b[0m \u001b[1;33m=\u001b[0m \u001b[0mrewards\u001b[0m\u001b[1;33m[\u001b[0m\u001b[0mi\u001b[0m\u001b[1;33m]\u001b[0m \u001b[1;33m+\u001b[0m \u001b[0mself\u001b[0m\u001b[1;33m.\u001b[0m\u001b[0mdiscount_factor\u001b[0m \u001b[1;33m*\u001b[0m \u001b[0mnp\u001b[0m\u001b[1;33m.\u001b[0m\u001b[0mmax\u001b[0m\u001b[1;33m(\u001b[0m\u001b[0mtarget_qval\u001b[0m\u001b[1;33m[\u001b[0m\u001b[0mi\u001b[0m\u001b[1;33m]\u001b[0m\u001b[1;33m)\u001b[0m\u001b[1;33m\u001b[0m\u001b[1;33m\u001b[0m\u001b[0m\n\u001b[0m\u001b[0;32m    110\u001b[0m \u001b[1;33m\u001b[0m\u001b[0m\n\u001b[0;32m    111\u001b[0m \u001b[1;33m\u001b[0m\u001b[0m\n",
      "\u001b[1;31mIndexError\u001b[0m: too many indices for array: array is 1-dimensional, but 2 were indexed"
     ]
    }
   ],
   "metadata": {}
  },
  {
   "cell_type": "code",
   "execution_count": null,
   "source": [
    "# https://nbviewer.jupyter.org/github/debraj92/IIITB_ML/blob/master/IIITB-ML-CaseStudies/case%20study%209%20-%20Reinforcement%20Learning/Cab%20driver%20assignment/DQN_Agent_Group_Case_Study.ipynb\r\n",
    "\r\n",
    "# https://github.com/keensam04/upgrad_pgdmlai/blob/master/SuperCabs/Agent_Architecture2.ipynb"
   ],
   "outputs": [],
   "metadata": {}
  },
  {
   "cell_type": "markdown",
   "source": [
    "### Tracking Convergence"
   ],
   "metadata": {}
  },
  {
   "cell_type": "code",
   "execution_count": null,
   "source": [],
   "outputs": [],
   "metadata": {}
  },
  {
   "cell_type": "code",
   "execution_count": null,
   "source": [],
   "outputs": [],
   "metadata": {}
  },
  {
   "cell_type": "code",
   "execution_count": null,
   "source": [],
   "outputs": [],
   "metadata": {}
  },
  {
   "cell_type": "markdown",
   "source": [
    "#### Epsilon-decay sample function"
   ],
   "metadata": {}
  },
  {
   "cell_type": "markdown",
   "source": [
    "<div class=\"alert alert-block alert-info\">\n",
    "Try building a similar epsilon-decay function for your model.\n",
    "</div>"
   ],
   "metadata": {}
  },
  {
   "cell_type": "code",
   "execution_count": null,
   "source": [
    "time = np.arange(0,10000)\r\n",
    "epsilon = []\r\n",
    "for i in range(0,10000):\r\n",
    "    epsilon.append(0 + (1 - 0) * np.exp(-0.0009*i))"
   ],
   "outputs": [],
   "metadata": {}
  },
  {
   "cell_type": "code",
   "execution_count": null,
   "source": [
    "plt.plot(time, epsilon)\r\n",
    "plt.show()"
   ],
   "outputs": [],
   "metadata": {}
  },
  {
   "cell_type": "code",
   "execution_count": null,
   "source": [],
   "outputs": [],
   "metadata": {}
  }
 ],
 "metadata": {
  "kernelspec": {
   "display_name": "Python 3",
   "language": "python",
   "name": "python3"
  },
  "language_info": {
   "codemirror_mode": {
    "name": "ipython",
    "version": 3
   },
   "file_extension": ".py",
   "mimetype": "text/x-python",
   "name": "python",
   "nbconvert_exporter": "python",
   "pygments_lexer": "ipython3",
   "version": "3.6.5"
  }
 },
 "nbformat": 4,
 "nbformat_minor": 2
}