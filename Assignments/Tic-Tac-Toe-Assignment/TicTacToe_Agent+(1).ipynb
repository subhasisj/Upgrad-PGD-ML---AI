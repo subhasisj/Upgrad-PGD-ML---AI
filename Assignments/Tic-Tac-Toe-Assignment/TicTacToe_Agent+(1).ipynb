{
  "nbformat": 4,
  "nbformat_minor": 2,
  "metadata": {
    "colab": {
      "name": "TicTacToe_Agent.ipynb",
      "version": "0.3.2",
      "provenance": [],
      "collapsed_sections": []
    },
    "kernelspec": {
      "display_name": "Python 3",
      "language": "python",
      "name": "python3"
    }
  },
  "cells": [
    {
      "cell_type": "markdown",
      "source": [
        "## Tic-Tac-Toe Agent\n",
        "​\n",
        "In this notebook, you will learn to build an RL agent (using Q-learning) that learns to play Numerical Tic-Tac-Toe with odd numbers. The environment is playing randomly with the agent, i.e. its strategy is to put an even number randomly in an empty cell. The following is the layout of the notebook:\n",
        "        - Defining epsilon-greedy strategy\n",
        "        - Tracking state-action pairs for convergence\n",
        "        - Define hyperparameters for the Q-learning algorithm\n",
        "        - Generating episode and applying Q-update equation\n",
        "        - Checking convergence in Q-values"
      ],
      "metadata": {
        "id": "rznSDgbvGggG",
        "colab_type": "text"
      }
    },
    {
      "cell_type": "markdown",
      "source": [
        "#### Importing libraries\n",
        "Write the code to import Tic-Tac-Toe class from the environment file"
      ],
      "metadata": {
        "id": "8eDb8PxBGggH",
        "colab_type": "text"
      }
    },
    {
      "cell_type": "code",
      "execution_count": 1,
      "source": [
        "from TCGame_Env1 import TicTacToe \r\n",
        "import collections\r\n",
        "import numpy as np\r\n",
        "import random\r\n",
        "import pickle\r\n",
        "import time\r\n",
        "from matplotlib import pyplot as plt"
      ],
      "outputs": [],
      "metadata": {
        "id": "6SFNYceFGggJ",
        "colab_type": "code",
        "colab": {}
      }
    },
    {
      "cell_type": "code",
      "execution_count": 2,
      "source": [
        "env = TicTacToe() # Defining the MDP*"
      ],
      "outputs": [],
      "metadata": {}
    },
    {
      "cell_type": "code",
      "execution_count": 3,
      "source": [
        "# Function to convert state array into a string to store it as keys in the dictionary\r\n",
        "# states in Q-dictionary will be of form: x-4-5-3-8-x-x-x-x\r\n",
        "#   x | 4 | 5\r\n",
        "#   ----------\r\n",
        "#   3 | 8 | x\r\n",
        "#   ----------\r\n",
        "#   x | x | x\r\n",
        " \r\n",
        "def Q_state(state):\r\n",
        "\r\n",
        "    return ('-'.join(str(e) for e in state)).replace('nan','x')"
      ],
      "outputs": [],
      "metadata": {
        "id": "wYLQyopEG8nz",
        "colab_type": "code",
        "colab": {}
      }
    },
    {
      "cell_type": "code",
      "execution_count": 4,
      "source": [
        "# Defining a function which will return valid (all possible actions) actions corresponding to a state\r\n",
        "# Important to avoid errors during deployment.\r\n",
        "\r\n",
        "def valid_actions(state):\r\n",
        "\r\n",
        "    valid_Actions = []\r\n",
        "    \r\n",
        "    valid_Actions = [i for i in env.action_space(state)[0]] ###### -------please call your environment as env\r\n",
        "    return valid_Actions"
      ],
      "outputs": [],
      "metadata": {
        "id": "ZebMOoiVHBBr",
        "colab_type": "code",
        "colab": {}
      }
    },
    {
      "cell_type": "code",
      "execution_count": 5,
      "source": [
        "# Defining a function which will add new Q-values to the Q-dictionary. \r\n",
        "def add_to_dict(state):\r\n",
        "    state1 = Q_state(state)\r\n",
        "    \r\n",
        "    valid_act = valid_actions(state)\r\n",
        "    if state1 not in Q_dict.keys():\r\n",
        "        for action in valid_act:\r\n",
        "            Q_dict[state1][action]=0"
      ],
      "outputs": [],
      "metadata": {
        "id": "IRciPUkYHDWf",
        "colab_type": "code",
        "colab": {}
      }
    },
    {
      "cell_type": "markdown",
      "source": [
        "#### Epsilon-greedy strategy - Write your code here\n",
        "\n",
        "(you can build your epsilon-decay function similar to the one given at the end of the notebook)"
      ],
      "metadata": {
        "id": "fNNi_EfHGggM",
        "colab_type": "text"
      }
    },
    {
      "cell_type": "code",
      "execution_count": 6,
      "source": [
        "# Defining epsilon-greedy policy. You can choose any function epsilon-decay strategy\r\n",
        "\r\n",
        "def epsilon_greedy(state, time):\r\n",
        "    epsilon = MIN_EPSILON + (MAX_EPSILON - MIN_EPSILON) * np.exp(-DECAY_RATE*time)\r\n",
        "    z = np.random.random()\r\n",
        "        \r\n",
        "    if z > epsilon:\r\n",
        "        state1 = Q_state(state)\r\n",
        "        action = max(Q_dict[state],key=Q_dict[state].get)   #Exploitation: this gets the action corresponding to max q-value of current state\r\n",
        "    else:\r\n",
        "        agent_actions, env_actions = env.action_space(state) #Exploration: randomly choosing and action\r\n",
        "        action = random.choice(list(agent_actions))\r\n",
        "    return action"
      ],
      "outputs": [],
      "metadata": {
        "id": "m0lMfqiJGggN",
        "colab_type": "code",
        "colab": {}
      }
    },
    {
      "cell_type": "markdown",
      "source": [
        "#### Tracking the state-action pairs for checking convergence - write your code here"
      ],
      "metadata": {
        "id": "H2kyQHOMGggR",
        "colab_type": "text"
      }
    },
    {
      "cell_type": "code",
      "execution_count": 7,
      "source": [
        "# Initialise Q_dictionary as 'Q_dict' and States_tracked as 'States_track' (for convergence)\r\n",
        "Q_dict = collections.defaultdict(dict)\r\n",
        "States_track = collections.defaultdict(dict)"
      ],
      "outputs": [],
      "metadata": {
        "id": "qcxZ29vdGggS",
        "colab_type": "code",
        "colab": {}
      }
    },
    {
      "cell_type": "code",
      "execution_count": 8,
      "source": [
        "# Initialise states to be tracked\r\n",
        "def initialise_tracking_states():\r\n",
        "    sample_q_values = [('x-6-x-x-8-x-x-x-x', (7,1)), \\\r\n",
        "                       ('7-x-x-5-x-x-x-x-x', (6,3)), \\\r\n",
        "                       ('x-1-x-3-x-2-x-x-4',(2, 9)), \\\r\n",
        "                       ('x-x-5-x-8-9-x-x-4',(0, 3))]    #select some 4 Q-values\r\n",
        "    for q_values in sample_q_values:\r\n",
        "        state = q_values[0]\r\n",
        "        action = q_values[1]\r\n",
        "        States_track[state][action] = []\r\n",
        "  "
      ],
      "outputs": [],
      "metadata": {
        "id": "vs73iv8fHOxV",
        "colab_type": "code",
        "colab": {}
      }
    },
    {
      "cell_type": "code",
      "execution_count": 9,
      "source": [
        "#Defining a function to save the Q-dictionary as a pickle file\r\n",
        "\r\n",
        "def save_obj(obj, name ):\r\n",
        "    with open(name + '.pkl', 'wb') as f:\r\n",
        "        pickle.dump(obj, f, pickle.HIGHEST_PROTOCOL)"
      ],
      "outputs": [],
      "metadata": {
        "id": "dAbwJDMVHpwl",
        "colab_type": "code",
        "colab": {}
      }
    },
    {
      "cell_type": "code",
      "execution_count": 10,
      "source": [
        "def save_tracking_states():\r\n",
        "    for state in States_track.keys():\r\n",
        "        for action in States_track[state].keys():\r\n",
        "            if state in Q_dict and action in Q_dict[state]:\r\n",
        "                States_track[state][action].append(Q_dict[state][action])"
      ],
      "outputs": [],
      "metadata": {
        "id": "6Pyj7nMVHsBi",
        "colab_type": "code",
        "colab": {}
      }
    },
    {
      "cell_type": "code",
      "execution_count": 11,
      "source": [
        "initialise_tracking_states()"
      ],
      "outputs": [],
      "metadata": {
        "id": "B_8xSluUHvew",
        "colab_type": "code",
        "colab": {}
      }
    },
    {
      "cell_type": "markdown",
      "source": [
        "#### Define hyperparameters  ---write your code here"
      ],
      "metadata": {
        "id": "-iPt--E9GggV",
        "colab_type": "text"
      }
    },
    {
      "cell_type": "code",
      "execution_count": 12,
      "source": [
        "EPISODES = 30000\r\n",
        "LR = 0.1\r\n",
        "GAMMA = 0.91\r\n",
        "MAX_EPSILON = 1.0\r\n",
        "MIN_EPSILON = 0.004\r\n",
        "DECAY_RATE = 0.001      \r\n",
        "THRESHOLD = 3000\r\n",
        "POLICY_THRESHOLD = 300 "
      ],
      "outputs": [],
      "metadata": {
        "id": "G0_f5czFGggW",
        "colab_type": "code",
        "colab": {}
      }
    },
    {
      "cell_type": "markdown",
      "source": [
        "### Q-update loop ---write your code here"
      ],
      "metadata": {
        "id": "Md6twJ7wGggh",
        "colab_type": "text"
      }
    },
    {
      "cell_type": "code",
      "execution_count": null,
      "source": [
        "# https://github.com/krsna540/RL_TicTacToe/blob/master/TicTacToe_Agent.ipynb\r\n",
        "# https://github.com/iamurali/upgrad_ml_ai/blob/master/RL/Tic_Toc_Toe/TicTacToe_Agent.ipynb\r\n",
        "# https://github.com/keensam04/upgrad_pgdmlai/blob/master/Tic-Tac-Toe/TicTacToe_Agent.ipynb\r\n",
        "# https://github.com/debraj92/IIITB_ML/blob/master/IIITB-ML-CaseStudies/case%20study%209%20-%20Reinforcement%20Learning/TICTACTOE/TicTacToe_Agent.ipynb"
      ],
      "outputs": [],
      "metadata": {}
    },
    {
      "cell_type": "code",
      "execution_count": 13,
      "source": [
        "start_time = time.time()\r\n",
        "\r\n",
        "for episode in range(EPISODES):\r\n",
        "    ##### Start writing your code from the next line\r\n",
        "    env = TicTacToe()\r\n",
        "    curr_state = env.state \r\n",
        "    add_to_dict(curr_state)\r\n",
        "\r\n",
        "    done = False        \r\n",
        "\r\n",
        "    if episode % 5000 == 0:\r\n",
        "        print(\"Episode: {}\".format(episode))\r\n",
        "        \r\n",
        "    while not done:\r\n",
        "\r\n",
        "        action = epsilon_greedy(curr_state, episode)\r\n",
        "        \r\n",
        "        # Take the action and observe the new state and reward\r\n",
        "        new_state, reward, done = env.step(curr_state,action)\r\n",
        "        curr_q_state = Q_state(curr_state)        \r\n",
        "        new_q_state = Q_state(new_state)\r\n",
        "        add_to_dict(new_state)\r\n",
        "                \r\n",
        "        # UPDATE RULE\r\n",
        "        if not done:\r\n",
        "            max_next = max(Q_dict[new_q_state],key=Q_dict[new_q_state].get)   #this gets the action corresponding to max q-value of next state\r\n",
        "            Q_dict[curr_q_state][action] += LR * ((reward + (GAMMA*(Q_dict[new_q_state][max_next])))\r\n",
        "                                                      - Q_dict[curr_q_state][action] ) \r\n",
        "        else:\r\n",
        "            Q_dict[curr_q_state][action] += LR * ((reward - Q_dict[curr_q_state][action]))\r\n",
        "\r\n",
        "        curr_state = new_state\r\n",
        "\r\n",
        "      \r\n",
        "    if ((episode+1) % THRESHOLD) == 0:   #every 3000th episode save states \r\n",
        "        save_tracking_states()\r\n",
        "        save_obj(States_track,'States_tracked')   \r\n",
        "    \r\n",
        "    #SAVING POLICY\r\n",
        "    if ((episode+1)% POLICY_THRESHOLD ) == 0:  #every 1000th episodes, the Q-dict will be saved\r\n",
        "        save_obj(Q_dict,'Policy')  \r\n",
        "\r\n",
        "    \r\n",
        "    \r\n",
        "elapsed_time = time.time() - start_time\r\n",
        "print(\"Time taken in seconds: \", elapsed_time)\r\n",
        "\r\n",
        "save_obj(States_track,'States_tracked')   \r\n",
        "save_obj(Q_dict,'Policy')"
      ],
      "outputs": [
        {
          "output_type": "stream",
          "name": "stdout",
          "text": [
            "Episode: 0\n"
          ]
        },
        {
          "output_type": "error",
          "ename": "KeyError",
          "evalue": "(0, 9)",
          "traceback": [
            "\u001b[1;31m---------------------------------------------------------------------------\u001b[0m",
            "\u001b[1;31mKeyError\u001b[0m                                  Traceback (most recent call last)",
            "\u001b[1;32m<ipython-input-13-d152bad47eae>\u001b[0m in \u001b[0;36m<module>\u001b[1;34m\u001b[0m\n\u001b[0;32m     25\u001b[0m         \u001b[1;32mif\u001b[0m \u001b[1;32mnot\u001b[0m \u001b[0mdone\u001b[0m\u001b[1;33m:\u001b[0m\u001b[1;33m\u001b[0m\u001b[1;33m\u001b[0m\u001b[0m\n\u001b[0;32m     26\u001b[0m             \u001b[0mmax_next\u001b[0m \u001b[1;33m=\u001b[0m \u001b[0mmax\u001b[0m\u001b[1;33m(\u001b[0m\u001b[0mQ_dict\u001b[0m\u001b[1;33m[\u001b[0m\u001b[0mnew_q_state\u001b[0m\u001b[1;33m]\u001b[0m\u001b[1;33m,\u001b[0m\u001b[0mkey\u001b[0m\u001b[1;33m=\u001b[0m\u001b[0mQ_dict\u001b[0m\u001b[1;33m[\u001b[0m\u001b[0mnew_q_state\u001b[0m\u001b[1;33m]\u001b[0m\u001b[1;33m.\u001b[0m\u001b[0mget\u001b[0m\u001b[1;33m)\u001b[0m   \u001b[1;31m#this gets the action corresponding to max q-value of next state\u001b[0m\u001b[1;33m\u001b[0m\u001b[1;33m\u001b[0m\u001b[0m\n\u001b[1;32m---> 27\u001b[1;33m             Q_dict[curr_q_state][action] += LR * ((reward + (GAMMA*(Q_dict[new_q_state][max_next])))\n\u001b[0m\u001b[0;32m     28\u001b[0m                                                       - Q_dict[curr_q_state][action] ) \n\u001b[0;32m     29\u001b[0m         \u001b[1;32melse\u001b[0m\u001b[1;33m:\u001b[0m\u001b[1;33m\u001b[0m\u001b[1;33m\u001b[0m\u001b[0m\n",
            "\u001b[1;31mKeyError\u001b[0m: (0, 9)"
          ]
        }
      ],
      "metadata": {
        "id": "ldCgQuDNGggj",
        "colab_type": "code",
        "colab": {}
      }
    },
    {
      "cell_type": "code",
      "execution_count": null,
      "source": [],
      "outputs": [],
      "metadata": {
        "id": "hhdWewc4Gggo",
        "colab_type": "code",
        "colab": {}
      }
    },
    {
      "cell_type": "code",
      "execution_count": null,
      "source": [],
      "outputs": [],
      "metadata": {
        "id": "8LfSgVuHGggu",
        "colab_type": "code",
        "colab": {}
      }
    },
    {
      "cell_type": "markdown",
      "source": [
        "#### Check the Q-dictionary"
      ],
      "metadata": {
        "id": "t6eMFbb8Ggg2",
        "colab_type": "text"
      }
    },
    {
      "cell_type": "code",
      "execution_count": null,
      "source": [
        "Q_dict"
      ],
      "outputs": [],
      "metadata": {
        "id": "fr9d2fcVGgg4",
        "colab_type": "code",
        "colab": {}
      }
    },
    {
      "cell_type": "code",
      "execution_count": null,
      "source": [
        "len(Q_dict)"
      ],
      "outputs": [],
      "metadata": {
        "id": "F1tnDJWkGgg9",
        "colab_type": "code",
        "colab": {}
      }
    },
    {
      "cell_type": "code",
      "execution_count": null,
      "source": [
        "# try checking for one of the states - that which action your agent thinks is the best  -----This will not be evaluated"
      ],
      "outputs": [],
      "metadata": {
        "id": "cFgUqfcQGghB",
        "colab_type": "code",
        "colab": {}
      }
    },
    {
      "cell_type": "markdown",
      "source": [
        "#### Check the states tracked for Q-values convergence\n",
        "(non-evaluative)"
      ],
      "metadata": {
        "id": "KGPZEQDFGghG",
        "colab_type": "text"
      }
    },
    {
      "cell_type": "code",
      "execution_count": null,
      "source": [
        "# Write the code for plotting the graphs for state-action pairs tracked"
      ],
      "outputs": [],
      "metadata": {
        "id": "9s1Tvz8HGghH",
        "colab_type": "code",
        "colab": {}
      }
    },
    {
      "cell_type": "code",
      "execution_count": null,
      "source": [],
      "outputs": [],
      "metadata": {
        "id": "pVQInsg7GghL",
        "colab_type": "code",
        "colab": {}
      }
    },
    {
      "cell_type": "markdown",
      "source": [
        "### Epsilon - decay check"
      ],
      "metadata": {
        "id": "b2Opp8_NITkC",
        "colab_type": "text"
      }
    },
    {
      "cell_type": "code",
      "execution_count": null,
      "source": [
        "max_epsilon = 1.0\r\n",
        "min_epsilon = 0.001\r\n",
        "time = np.arange(0,5000000)\r\n",
        "epsilon = []\r\n",
        "for i in range(0,5000000):\r\n",
        "    epsilon.append(min_epsilon + (max_epsilon - min_epsilon) * np.exp(-0.000001*i))"
      ],
      "outputs": [],
      "metadata": {
        "id": "gQ_D_JsuGghR",
        "colab_type": "code",
        "colab": {}
      }
    },
    {
      "cell_type": "code",
      "execution_count": null,
      "source": [
        "plt.plot(time, epsilon)\r\n",
        "plt.show()"
      ],
      "outputs": [],
      "metadata": {
        "id": "J7c2xADQGghV",
        "colab_type": "code",
        "outputId": "cb60fce3-570b-45fb-bd83-abde3d13b273",
        "colab": {
          "base_uri": "https://localhost:8080/",
          "height": 347
        }
      }
    },
    {
      "cell_type": "code",
      "execution_count": null,
      "source": [],
      "outputs": [],
      "metadata": {
        "id": "59BRf43IJiQ1",
        "colab_type": "code",
        "colab": {}
      }
    }
  ]
}