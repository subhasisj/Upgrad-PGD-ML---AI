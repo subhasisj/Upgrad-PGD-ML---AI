{
 "cells": [
  {
   "cell_type": "markdown",
   "metadata": {},
   "source": [
    "## POS tagging using modified Viterbi"
   ]
  },
  {
   "cell_type": "markdown",
   "metadata": {},
   "source": [
    "### Data Preparation"
   ]
  },
  {
   "cell_type": "code",
   "execution_count": 1,
   "metadata": {},
   "outputs": [
    {
     "output_type": "stream",
     "name": "stdout",
     "text": [
      "Requirement already satisfied: Jinja2 in c:\\users\\u6083443\\documents\\repositories\\personal\\upgrad-pgd-ml---ai\\env\\lib\\site-packages (2.11.3)\n",
      "Requirement already satisfied: MarkupSafe>=0.23 in c:\\users\\u6083443\\documents\\repositories\\personal\\upgrad-pgd-ml---ai\\env\\lib\\site-packages (from Jinja2) (1.1.1)\n",
      "[nltk_data] Downloading package universal_tagset to\n",
      "[nltk_data]     C:\\Users\\U6083443\\AppData\\Roaming\\nltk_data...\n",
      "[nltk_data]   Package universal_tagset is already up-to-date!\n"
     ]
    },
    {
     "output_type": "execute_result",
     "data": {
      "text/plain": [
       "True"
      ]
     },
     "metadata": {},
     "execution_count": 1
    }
   ],
   "source": [
    "!pip install Jinja2\n",
    "\n",
    "#Importing libraries\n",
    "import nltk\n",
    "import random\n",
    "import numpy as np\n",
    "import pandas as pd\n",
    "import matplotlib.pyplot as plt\n",
    "import seaborn as sns\n",
    "import collections\n",
    "from tqdm import tqdm\n",
    "\n",
    "from sklearn.model_selection import train_test_split\n",
    "import warnings\n",
    "warnings.filterwarnings('ignore')\n",
    "\n",
    "nltk.download('universal_tagset')"
   ]
  },
  {
   "cell_type": "code",
   "execution_count": 2,
   "metadata": {},
   "outputs": [],
   "source": [
    "# reading the Treebank tagged sentences\n",
    "nltk_data = list(nltk.corpus.treebank.tagged_sents(tagset='universal'))"
   ]
  },
  {
   "cell_type": "code",
   "execution_count": 3,
   "metadata": {},
   "outputs": [
    {
     "output_type": "stream",
     "name": "stdout",
     "text": [
      "[[('Pierre', 'NOUN'), ('Vinken', 'NOUN'), (',', '.'), ('61', 'NUM'), ('years', 'NOUN'), ('old', 'ADJ'), (',', '.'), ('will', 'VERB'), ('join', 'VERB'), ('the', 'DET'), ('board', 'NOUN'), ('as', 'ADP'), ('a', 'DET'), ('nonexecutive', 'ADJ'), ('director', 'NOUN'), ('Nov.', 'NOUN'), ('29', 'NUM'), ('.', '.')], [('Mr.', 'NOUN'), ('Vinken', 'NOUN'), ('is', 'VERB'), ('chairman', 'NOUN'), ('of', 'ADP'), ('Elsevier', 'NOUN'), ('N.V.', 'NOUN'), (',', '.'), ('the', 'DET'), ('Dutch', 'NOUN'), ('publishing', 'VERB'), ('group', 'NOUN'), ('.', '.')], [('Rudolph', 'NOUN'), ('Agnew', 'NOUN'), (',', '.'), ('55', 'NUM'), ('years', 'NOUN'), ('old', 'ADJ'), ('and', 'CONJ'), ('former', 'ADJ'), ('chairman', 'NOUN'), ('of', 'ADP'), ('Consolidated', 'NOUN'), ('Gold', 'NOUN'), ('Fields', 'NOUN'), ('PLC', 'NOUN'), (',', '.'), ('was', 'VERB'), ('named', 'VERB'), ('*-1', 'X'), ('a', 'DET'), ('nonexecutive', 'ADJ'), ('director', 'NOUN'), ('of', 'ADP'), ('this', 'DET'), ('British', 'ADJ'), ('industrial', 'ADJ'), ('conglomerate', 'NOUN'), ('.', '.')], [('A', 'DET'), ('form', 'NOUN'), ('of', 'ADP'), ('asbestos', 'NOUN'), ('once', 'ADV'), ('used', 'VERB'), ('*', 'X'), ('*', 'X'), ('to', 'PRT'), ('make', 'VERB'), ('Kent', 'NOUN'), ('cigarette', 'NOUN'), ('filters', 'NOUN'), ('has', 'VERB'), ('caused', 'VERB'), ('a', 'DET'), ('high', 'ADJ'), ('percentage', 'NOUN'), ('of', 'ADP'), ('cancer', 'NOUN'), ('deaths', 'NOUN'), ('among', 'ADP'), ('a', 'DET'), ('group', 'NOUN'), ('of', 'ADP'), ('workers', 'NOUN'), ('exposed', 'VERB'), ('*', 'X'), ('to', 'PRT'), ('it', 'PRON'), ('more', 'ADV'), ('than', 'ADP'), ('30', 'NUM'), ('years', 'NOUN'), ('ago', 'ADP'), (',', '.'), ('researchers', 'NOUN'), ('reported', 'VERB'), ('0', 'X'), ('*T*-1', 'X'), ('.', '.')], [('The', 'DET'), ('asbestos', 'NOUN'), ('fiber', 'NOUN'), (',', '.'), ('crocidolite', 'NOUN'), (',', '.'), ('is', 'VERB'), ('unusually', 'ADV'), ('resilient', 'ADJ'), ('once', 'ADP'), ('it', 'PRON'), ('enters', 'VERB'), ('the', 'DET'), ('lungs', 'NOUN'), (',', '.'), ('with', 'ADP'), ('even', 'ADV'), ('brief', 'ADJ'), ('exposures', 'NOUN'), ('to', 'PRT'), ('it', 'PRON'), ('causing', 'VERB'), ('symptoms', 'NOUN'), ('that', 'DET'), ('*T*-1', 'X'), ('show', 'VERB'), ('up', 'PRT'), ('decades', 'NOUN'), ('later', 'ADJ'), (',', '.'), ('researchers', 'NOUN'), ('said', 'VERB'), ('0', 'X'), ('*T*-2', 'X'), ('.', '.')], [('Lorillard', 'NOUN'), ('Inc.', 'NOUN'), (',', '.'), ('the', 'DET'), ('unit', 'NOUN'), ('of', 'ADP'), ('New', 'ADJ'), ('York-based', 'ADJ'), ('Loews', 'NOUN'), ('Corp.', 'NOUN'), ('that', 'DET'), ('*T*-2', 'X'), ('makes', 'VERB'), ('Kent', 'NOUN'), ('cigarettes', 'NOUN'), (',', '.'), ('stopped', 'VERB'), ('using', 'VERB'), ('crocidolite', 'NOUN'), ('in', 'ADP'), ('its', 'PRON'), ('Micronite', 'NOUN'), ('cigarette', 'NOUN'), ('filters', 'NOUN'), ('in', 'ADP'), ('1956', 'NUM'), ('.', '.')], [('Although', 'ADP'), ('preliminary', 'ADJ'), ('findings', 'NOUN'), ('were', 'VERB'), ('reported', 'VERB'), ('*-2', 'X'), ('more', 'ADV'), ('than', 'ADP'), ('a', 'DET'), ('year', 'NOUN'), ('ago', 'ADP'), (',', '.'), ('the', 'DET'), ('latest', 'ADJ'), ('results', 'NOUN'), ('appear', 'VERB'), ('in', 'ADP'), ('today', 'NOUN'), (\"'s\", 'PRT'), ('New', 'NOUN'), ('England', 'NOUN'), ('Journal', 'NOUN'), ('of', 'ADP'), ('Medicine', 'NOUN'), (',', '.'), ('a', 'DET'), ('forum', 'NOUN'), ('likely', 'ADJ'), ('*', 'X'), ('to', 'PRT'), ('bring', 'VERB'), ('new', 'ADJ'), ('attention', 'NOUN'), ('to', 'PRT'), ('the', 'DET'), ('problem', 'NOUN'), ('.', '.')], [('A', 'DET'), ('Lorillard', 'NOUN'), ('spokewoman', 'NOUN'), ('said', 'VERB'), (',', '.'), ('``', '.'), ('This', 'DET'), ('is', 'VERB'), ('an', 'DET'), ('old', 'ADJ'), ('story', 'NOUN'), ('.', '.')], [('We', 'PRON'), (\"'re\", 'VERB'), ('talking', 'VERB'), ('about', 'ADP'), ('years', 'NOUN'), ('ago', 'ADP'), ('before', 'ADP'), ('anyone', 'NOUN'), ('heard', 'VERB'), ('of', 'ADP'), ('asbestos', 'NOUN'), ('having', 'VERB'), ('any', 'DET'), ('questionable', 'ADJ'), ('properties', 'NOUN'), ('.', '.')], [('There', 'DET'), ('is', 'VERB'), ('no', 'DET'), ('asbestos', 'NOUN'), ('in', 'ADP'), ('our', 'PRON'), ('products', 'NOUN'), ('now', 'ADV'), ('.', '.'), (\"''\", '.')], [('Neither', 'DET'), ('Lorillard', 'NOUN'), ('nor', 'CONJ'), ('the', 'DET'), ('researchers', 'NOUN'), ('who', 'PRON'), ('*T*-3', 'X'), ('studied', 'VERB'), ('the', 'DET'), ('workers', 'NOUN'), ('were', 'VERB'), ('aware', 'ADJ'), ('of', 'ADP'), ('any', 'DET'), ('research', 'NOUN'), ('on', 'ADP'), ('smokers', 'NOUN'), ('of', 'ADP'), ('the', 'DET'), ('Kent', 'NOUN'), ('cigarettes', 'NOUN'), ('.', '.')], [('``', '.'), ('We', 'PRON'), ('have', 'VERB'), ('no', 'DET'), ('useful', 'ADJ'), ('information', 'NOUN'), ('on', 'ADP'), ('whether', 'ADP'), ('users', 'NOUN'), ('are', 'VERB'), ('at', 'ADP'), ('risk', 'NOUN'), (',', '.'), (\"''\", '.'), ('said', 'VERB'), ('*T*-1', 'X'), ('James', 'NOUN'), ('A.', 'NOUN'), ('Talcott', 'NOUN'), ('of', 'ADP'), ('Boston', 'NOUN'), (\"'s\", 'PRT'), ('Dana-Farber', 'NOUN'), ('Cancer', 'NOUN'), ('Institute', 'NOUN'), ('.', '.')], [('Dr.', 'NOUN'), ('Talcott', 'NOUN'), ('led', 'VERB'), ('a', 'DET'), ('team', 'NOUN'), ('of', 'ADP'), ('researchers', 'NOUN'), ('from', 'ADP'), ('the', 'DET'), ('National', 'NOUN'), ('Cancer', 'NOUN'), ('Institute', 'NOUN'), ('and', 'CONJ'), ('the', 'DET'), ('medical', 'ADJ'), ('schools', 'NOUN'), ('of', 'ADP'), ('Harvard', 'NOUN'), ('University', 'NOUN'), ('and', 'CONJ'), ('Boston', 'NOUN'), ('University', 'NOUN'), ('.', '.')], [('The', 'DET'), ('Lorillard', 'NOUN'), ('spokeswoman', 'NOUN'), ('said', 'VERB'), ('0', 'X'), ('asbestos', 'NOUN'), ('was', 'VERB'), ('used', 'VERB'), ('*-1', 'X'), ('in', 'ADP'), ('``', '.'), ('very', 'ADV'), ('modest', 'ADJ'), ('amounts', 'NOUN'), (\"''\", '.'), ('in', 'ADP'), ('*', 'X'), ('making', 'VERB'), ('paper', 'NOUN'), ('for', 'ADP'), ('the', 'DET'), ('filters', 'NOUN'), ('in', 'ADP'), ('the', 'DET'), ('early', 'ADJ'), ('1950s', 'NUM'), ('and', 'CONJ'), ('replaced', 'VERB'), ('*-1', 'X'), ('with', 'ADP'), ('a', 'DET'), ('different', 'ADJ'), ('type', 'NOUN'), ('of', 'ADP'), ('filter', 'NOUN'), ('in', 'ADP'), ('1956', 'NUM'), ('.', '.')], [('From', 'ADP'), ('1953', 'NUM'), ('to', 'PRT'), ('1955', 'NUM'), (',', '.'), ('9.8', 'NUM'), ('billion', 'NUM'), ('Kent', 'NOUN'), ('cigarettes', 'NOUN'), ('with', 'ADP'), ('the', 'DET'), ('filters', 'NOUN'), ('were', 'VERB'), ('sold', 'VERB'), ('*-3', 'X'), (',', '.'), ('the', 'DET'), ('company', 'NOUN'), ('said', 'VERB'), ('0', 'X'), ('*T*-1', 'X'), ('.', '.')], [('Among', 'ADP'), ('33', 'NUM'), ('men', 'NOUN'), ('who', 'PRON'), ('*T*-4', 'X'), ('worked', 'VERB'), ('closely', 'ADV'), ('with', 'ADP'), ('the', 'DET'), ('substance', 'NOUN'), (',', '.'), ('28', 'NUM'), ('*ICH*-1', 'X'), ('have', 'VERB'), ('died', 'VERB'), ('--', '.'), ('more', 'ADJ'), ('than', 'ADP'), ('three', 'NUM'), ('times', 'NOUN'), ('the', 'DET'), ('expected', 'VERB'), ('number', 'NOUN'), ('.', '.')], [('Four', 'NUM'), ('of', 'ADP'), ('the', 'DET'), ('five', 'NUM'), ('surviving', 'VERB'), ('workers', 'NOUN'), ('have', 'VERB'), ('asbestos-related', 'ADJ'), ('diseases', 'NOUN'), (',', '.'), ('including', 'VERB'), ('three', 'NUM'), ('with', 'ADP'), ('recently', 'ADV'), ('diagnosed', 'VERB'), ('cancer', 'NOUN'), ('.', '.')], [('The', 'DET'), ('total', 'NOUN'), ('of', 'ADP'), ('18', 'NUM'), ('deaths', 'NOUN'), ('from', 'ADP'), ('malignant', 'ADJ'), ('mesothelioma', 'NOUN'), (',', '.'), ('lung', 'NOUN'), ('cancer', 'NOUN'), ('and', 'CONJ'), ('asbestosis', 'NOUN'), ('was', 'VERB'), ('far', 'ADV'), ('higher', 'ADJ'), ('than', 'ADP'), ('*', 'X'), ('expected', 'VERB'), ('*?*', 'X'), (',', '.'), ('the', 'DET'), ('researchers', 'NOUN'), ('said', 'VERB'), ('0', 'X'), ('*T*-1', 'X'), ('.', '.')], [('``', '.'), ('The', 'DET'), ('morbidity', 'NOUN'), ('rate', 'NOUN'), ('is', 'VERB'), ('a', 'DET'), ('striking', 'ADJ'), ('finding', 'NOUN'), ('among', 'ADP'), ('those', 'DET'), ('of', 'ADP'), ('us', 'PRON'), ('who', 'PRON'), ('*T*-5', 'X'), ('study', 'VERB'), ('asbestos-related', 'ADJ'), ('diseases', 'NOUN'), (',', '.'), (\"''\", '.'), ('said', 'VERB'), ('*T*-1', 'X'), ('Dr.', 'NOUN'), ('Talcott', 'NOUN'), ('.', '.')], [('The', 'DET'), ('percentage', 'NOUN'), ('of', 'ADP'), ('lung', 'NOUN'), ('cancer', 'NOUN'), ('deaths', 'NOUN'), ('among', 'ADP'), ('the', 'DET'), ('workers', 'NOUN'), ('at', 'ADP'), ('the', 'DET'), ('West', 'NOUN'), ('Groton', 'NOUN'), (',', '.'), ('Mass.', 'NOUN'), (',', '.'), ('paper', 'NOUN'), ('factory', 'NOUN'), ('appears', 'VERB'), ('*-1', 'X'), ('to', 'PRT'), ('be', 'VERB'), ('the', 'DET'), ('highest', 'ADJ'), ('for', 'ADP'), ('any', 'DET'), ('asbestos', 'NOUN'), ('workers', 'NOUN'), ('studied', 'VERB'), ('*', 'X'), ('in', 'ADP'), ('Western', 'ADJ'), ('industrialized', 'VERB'), ('countries', 'NOUN'), (',', '.'), ('he', 'PRON'), ('said', 'VERB'), ('0', 'X'), ('*T*-2', 'X'), ('.', '.')], [('The', 'DET'), ('plant', 'NOUN'), (',', '.'), ('which', 'DET'), ('*T*-1', 'X'), ('is', 'VERB'), ('owned', 'VERB'), ('*-4', 'X'), ('by', 'ADP'), ('Hollingsworth', 'NOUN'), ('&', 'CONJ'), ('Vose', 'NOUN'), ('Co.', 'NOUN'), (',', '.'), ('was', 'VERB'), ('under', 'ADP'), ('contract', 'NOUN'), ('*ICH*-2', 'X'), ('with', 'ADP'), ('Lorillard', 'NOUN'), ('*', 'X'), ('to', 'PRT'), ('make', 'VERB'), ('the', 'DET'), ('cigarette', 'NOUN'), ('filters', 'NOUN'), ('.', '.')], [('The', 'DET'), ('finding', 'NOUN'), ('probably', 'ADV'), ('will', 'VERB'), ('support', 'VERB'), ('those', 'DET'), ('who', 'PRON'), ('*T*-6', 'X'), ('argue', 'VERB'), ('that', 'ADP'), ('the', 'DET'), ('U.S.', 'NOUN'), ('should', 'VERB'), ('regulate', 'VERB'), ('the', 'DET'), ('class', 'NOUN'), ('of', 'ADP'), ('asbestos', 'NOUN'), ('including', 'VERB'), ('crocidolite', 'NOUN'), ('more', 'ADV'), ('stringently', 'ADV'), ('than', 'ADP'), ('the', 'DET'), ('common', 'ADJ'), ('kind', 'NOUN'), ('of', 'ADP'), ('asbestos', 'NOUN'), (',', '.'), ('chrysotile', 'NOUN'), (',', '.'), ('found', 'VERB'), ('*', 'X'), ('in', 'ADP'), ('most', 'ADJ'), ('schools', 'NOUN'), ('and', 'CONJ'), ('other', 'ADJ'), ('buildings', 'NOUN'), (',', '.'), ('Dr.', 'NOUN'), ('Talcott', 'NOUN'), ('said', 'VERB'), ('0', 'X'), ('*T*-1', 'X'), ('.', '.')], [('The', 'DET'), ('U.S.', 'NOUN'), ('is', 'VERB'), ('one', 'NUM'), ('of', 'ADP'), ('the', 'DET'), ('few', 'ADJ'), ('industrialized', 'VERB'), ('nations', 'NOUN'), ('that', 'DET'), ('*T*-7', 'X'), ('does', 'VERB'), (\"n't\", 'ADV'), ('have', 'VERB'), ('a', 'DET'), ('higher', 'ADJ'), ('standard', 'NOUN'), ('of', 'ADP'), ('regulation', 'NOUN'), ('for', 'ADP'), ('the', 'DET'), ('smooth', 'ADJ'), (',', '.'), ('needle-like', 'ADJ'), ('fibers', 'NOUN'), ('such', 'ADJ'), ('as', 'ADP'), ('crocidolite', 'NOUN'), ('that', 'DET'), ('*T*-1', 'X'), ('are', 'VERB'), ('classified', 'VERB'), ('*-5', 'X'), ('as', 'ADP'), ('amphobiles', 'NOUN'), (',', '.'), ('according', 'VERB'), ('to', 'PRT'), ('Brooke', 'NOUN'), ('T.', 'NOUN'), ('Mossman', 'NOUN'), (',', '.'), ('a', 'DET'), ('professor', 'NOUN'), ('of', 'ADP'), ('pathlogy', 'NOUN'), ('at', 'ADP'), ('the', 'DET'), ('University', 'NOUN'), ('of', 'ADP'), ('Vermont', 'NOUN'), ('College', 'NOUN'), ('of', 'ADP'), ('Medicine', 'NOUN'), ('.', '.')], [('More', 'ADV'), ('common', 'ADJ'), ('chrysotile', 'NOUN'), ('fibers', 'NOUN'), ('are', 'VERB'), ('curly', 'ADJ'), ('and', 'CONJ'), ('are', 'VERB'), ('more', 'ADV'), ('easily', 'ADV'), ('rejected', 'VERB'), ('*-1', 'X'), ('by', 'ADP'), ('the', 'DET'), ('body', 'NOUN'), (',', '.'), ('Dr.', 'NOUN'), ('Mossman', 'NOUN'), ('explained', 'VERB'), ('0', 'X'), ('*T*-2', 'X'), ('.', '.')], [('In', 'ADP'), ('July', 'NOUN'), (',', '.'), ('the', 'DET'), ('Environmental', 'NOUN'), ('Protection', 'NOUN'), ('Agency', 'NOUN'), ('imposed', 'VERB'), ('a', 'DET'), ('gradual', 'ADJ'), ('ban', 'NOUN'), ('on', 'ADP'), ('virtually', 'ADV'), ('all', 'DET'), ('uses', 'NOUN'), ('of', 'ADP'), ('asbestos', 'NOUN'), ('.', '.')], [('By', 'ADP'), ('1997', 'NUM'), (',', '.'), ('almost', 'ADV'), ('all', 'DET'), ('remaining', 'VERB'), ('uses', 'NOUN'), ('of', 'ADP'), ('cancer-causing', 'ADJ'), ('asbestos', 'NOUN'), ('will', 'VERB'), ('be', 'VERB'), ('outlawed', 'VERB'), ('*-6', 'X'), ('.', '.')], [('About', 'ADP'), ('160', 'NUM'), ('workers', 'NOUN'), ('at', 'ADP'), ('a', 'DET'), ('factory', 'NOUN'), ('that', 'DET'), ('*T*-8', 'X'), ('made', 'VERB'), ('paper', 'NOUN'), ('for', 'ADP'), ('the', 'DET'), ('Kent', 'NOUN'), ('filters', 'NOUN'), ('were', 'VERB'), ('exposed', 'VERB'), ('*-7', 'X'), ('to', 'PRT'), ('asbestos', 'NOUN'), ('in', 'ADP'), ('the', 'DET'), ('1950s', 'NUM'), ('.', '.')], [('Areas', 'NOUN'), ('of', 'ADP'), ('the', 'DET'), ('factory', 'NOUN'), ('*ICH*-2', 'X'), ('were', 'VERB'), ('particularly', 'ADV'), ('dusty', 'ADJ'), ('where', 'ADV'), ('the', 'DET'), ('crocidolite', 'NOUN'), ('was', 'VERB'), ('used', 'VERB'), ('*-8', 'X'), ('*T*-1', 'X'), ('.', '.')], [('Workers', 'NOUN'), ('dumped', 'VERB'), ('large', 'ADJ'), ('burlap', 'NOUN'), ('sacks', 'NOUN'), ('of', 'ADP'), ('the', 'DET'), ('imported', 'VERB'), ('material', 'NOUN'), ('into', 'ADP'), ('a', 'DET'), ('huge', 'ADJ'), ('bin', 'NOUN'), (',', '.'), ('poured', 'VERB'), ('in', 'PRT'), ('cotton', 'NOUN'), ('and', 'CONJ'), ('acetate', 'NOUN'), ('fibers', 'NOUN'), ('and', 'CONJ'), ('mechanically', 'ADV'), ('mixed', 'VERB'), ('the', 'DET'), ('dry', 'ADJ'), ('fibers', 'NOUN'), ('in', 'ADP'), ('a', 'DET'), ('process', 'NOUN'), ('used', 'VERB'), ('*', 'X'), ('*', 'X'), ('to', 'PRT'), ('make', 'VERB'), ('filters', 'NOUN'), ('.', '.')], [('Workers', 'NOUN'), ('described', 'VERB'), ('``', '.'), ('clouds', 'NOUN'), ('of', 'ADP'), ('blue', 'ADJ'), ('dust', 'NOUN'), (\"''\", '.'), ('that', 'DET'), ('*T*-1', 'X'), ('hung', 'VERB'), ('over', 'ADP'), ('parts', 'NOUN'), ('of', 'ADP'), ('the', 'DET'), ('factory', 'NOUN'), (',', '.'), ('even', 'ADV'), ('though', 'ADP'), ('exhaust', 'NOUN'), ('fans', 'NOUN'), ('ventilated', 'VERB'), ('the', 'DET'), ('area', 'NOUN'), ('.', '.')], [('``', '.'), ('There', 'DET'), (\"'s\", 'VERB'), ('no', 'DET'), ('question', 'NOUN'), ('that', 'ADP'), ('some', 'DET'), ('of', 'ADP'), ('those', 'DET'), ('workers', 'NOUN'), ('and', 'CONJ'), ('managers', 'NOUN'), ('contracted', 'VERB'), ('asbestos-related', 'ADJ'), ('diseases', 'NOUN'), (',', '.'), (\"''\", '.'), ('said', 'VERB'), ('*T*-1', 'X'), ('Darrell', 'NOUN'), ('Phillips', 'NOUN'), (',', '.'), ('vice', 'NOUN'), ('president', 'NOUN'), ('of', 'ADP'), ('human', 'ADJ'), ('resources', 'NOUN'), ('for', 'ADP'), ('Hollingsworth', 'NOUN'), ('&', 'CONJ'), ('Vose', 'NOUN'), ('.', '.')], [('``', '.'), ('But', 'CONJ'), ('you', 'PRON'), ('have', 'VERB'), ('*-1', 'X'), ('to', 'PRT'), ('recognize', 'VERB'), ('that', 'ADP'), ('these', 'DET'), ('events', 'NOUN'), ('took', 'VERB'), ('place', 'NOUN'), ('35', 'NUM'), ('years', 'NOUN'), ('ago', 'ADP'), ('.', '.')], [('It', 'PRON'), ('has', 'VERB'), ('no', 'DET'), ('bearing', 'NOUN'), ('on', 'ADP'), ('our', 'PRON'), ('work', 'NOUN'), ('force', 'NOUN'), ('today', 'NOUN'), ('.', '.')], [('Yields', 'NOUN'), ('on', 'ADP'), ('money-market', 'ADJ'), ('mutual', 'ADJ'), ('funds', 'NOUN'), ('continued', 'VERB'), ('*-1', 'X'), ('to', 'PRT'), ('slide', 'VERB'), (',', '.'), ('amid', 'ADP'), ('signs', 'NOUN'), ('that', 'ADP'), ('portfolio', 'NOUN'), ('managers', 'NOUN'), ('expect', 'VERB'), ('further', 'ADJ'), ('declines', 'NOUN'), ('in', 'ADP'), ('interest', 'NOUN'), ('rates', 'NOUN'), ('.', '.')], [('The', 'DET'), ('average', 'ADJ'), ('seven-day', 'ADJ'), ('compound', 'NOUN'), ('yield', 'NOUN'), ('of', 'ADP'), ('the', 'DET'), ('400', 'NUM'), ('taxable', 'ADJ'), ('funds', 'NOUN'), ('tracked', 'VERB'), ('*', 'X'), ('by', 'ADP'), ('IBC', 'NOUN'), (\"'s\", 'PRT'), ('Money', 'NOUN'), ('Fund', 'NOUN'), ('Report', 'NOUN'), ('eased', 'VERB'), ('a', 'DET'), ('fraction', 'NOUN'), ('of', 'ADP'), ('a', 'DET'), ('percentage', 'NOUN'), ('point', 'NOUN'), ('to', 'PRT'), ('8.45', 'NUM'), ('%', 'NOUN'), ('from', 'ADP'), ('8.47', 'NUM'), ('%', 'NOUN'), ('for', 'ADP'), ('the', 'DET'), ('week', 'NOUN'), ('ended', 'VERB'), ('Tuesday', 'NOUN'), ('.', '.')], [('Compound', 'NOUN'), ('yields', 'NOUN'), ('assume', 'VERB'), ('reinvestment', 'NOUN'), ('of', 'ADP'), ('dividends', 'NOUN'), ('and', 'CONJ'), ('that', 'ADP'), ('the', 'DET'), ('current', 'ADJ'), ('yield', 'NOUN'), ('continues', 'VERB'), ('for', 'ADP'), ('a', 'DET'), ('year', 'NOUN'), ('.', '.')], [('Average', 'ADJ'), ('maturity', 'NOUN'), ('of', 'ADP'), ('the', 'DET'), ('funds', 'NOUN'), (\"'\", 'PRT'), ('investments', 'NOUN'), ('lengthened', 'VERB'), ('by', 'ADP'), ('a', 'DET'), ('day', 'NOUN'), ('to', 'PRT'), ('41', 'NUM'), ('days', 'NOUN'), (',', '.'), ('the', 'DET'), ('longest', 'ADJ'), ('since', 'ADP'), ('early', 'ADJ'), ('August', 'NOUN'), (',', '.'), ('according', 'VERB'), ('to', 'PRT'), ('Donoghue', 'NOUN'), (\"'s\", 'PRT'), ('.', '.')], [('Longer', 'ADJ'), ('maturities', 'NOUN'), ('are', 'VERB'), ('thought', 'VERB'), ('*-1', 'X'), ('to', 'PRT'), ('indicate', 'VERB'), ('declining', 'VERB'), ('interest', 'NOUN'), ('rates', 'NOUN'), ('because', 'ADP'), ('they', 'PRON'), ('permit', 'VERB'), ('portfolio', 'NOUN'), ('managers', 'NOUN'), ('to', 'PRT'), ('retain', 'VERB'), ('relatively', 'ADV'), ('higher', 'ADJ'), ('rates', 'NOUN'), ('for', 'ADP'), ('a', 'DET'), ('longer', 'ADJ'), ('period', 'NOUN'), ('.', '.')], [('Shorter', 'ADJ'), ('maturities', 'NOUN'), ('are', 'VERB'), ('considered', 'VERB'), ('*-9', 'X'), ('a', 'DET'), ('sign', 'NOUN'), ('of', 'ADP'), ('rising', 'VERB'), ('rates', 'NOUN'), ('because', 'ADP'), ('portfolio', 'NOUN'), ('managers', 'NOUN'), ('can', 'VERB'), ('capture', 'VERB'), ('higher', 'ADJ'), ('rates', 'NOUN'), ('sooner', 'ADV'), ('.', '.')], [('The', 'DET'), ('average', 'ADJ'), ('maturity', 'NOUN'), ('for', 'ADP'), ('funds', 'NOUN'), ('open', 'ADJ'), ('only', 'ADV'), ('to', 'PRT'), ('institutions', 'NOUN'), (',', '.'), ('considered', 'VERB'), ('by', 'ADP'), ('some', 'DET'), ('*', 'X'), ('to', 'PRT'), ('be', 'VERB'), ('a', 'DET'), ('stronger', 'ADJ'), ('indicator', 'NOUN'), ('because', 'ADP'), ('those', 'DET'), ('managers', 'NOUN'), ('watch', 'VERB'), ('the', 'DET'), ('market', 'NOUN'), ('closely', 'ADV'), (',', '.'), ('reached', 'VERB'), ('a', 'DET'), ('high', 'ADJ'), ('point', 'NOUN'), ('for', 'ADP'), ('the', 'DET'), ('year', 'NOUN'), ('--', '.'), ('33', 'NUM'), ('days', 'NOUN'), ('.', '.')]]\n"
     ]
    }
   ],
   "source": [
    "# first few tagged sentences\n",
    "print(nltk_data[:40])"
   ]
  },
  {
   "cell_type": "code",
   "execution_count": 4,
   "metadata": {},
   "outputs": [
    {
     "output_type": "stream",
     "name": "stdout",
     "text": [
      "Length of Training Set: 3718\nLength of Test Set: 196\n[[('Wellcome', 'NOUN'), ('gained', 'VERB'), ('18', 'NUM'), ('to', 'PRT'), ('666', 'NUM'), ('on', 'ADP'), ('a', 'DET'), ('modest', 'ADJ'), ('1.1', 'NUM'), ('million', 'NUM'), ('shares', 'NOUN'), ('.', '.')], [('Why', 'ADV'), ('did', 'VERB'), (\"n't\", 'ADV'), ('you', 'PRON'), ('mention', 'VERB'), ('the', 'DET'), ('YMCA', 'NOUN'), ('or', 'CONJ'), ('the', 'DET'), ('YWCA', 'NOUN'), ('or', 'CONJ'), ('Catholic', 'NOUN'), ('Charities', 'NOUN'), ('USA', 'NOUN'), ('or', 'CONJ'), ('a', 'DET'), ('hundred', 'NUM'), ('other', 'ADJ'), ('nonprofit', 'ADJ'), ('organizations', 'NOUN'), ('that', 'DET'), ('*T*-17', 'X'), ('participated', 'VERB'), ('in', 'ADP'), ('the', 'DET'), ('march', 'NOUN'), ('*T*-1', 'X'), ('?', '.')], [('With', 'ADP'), ('prices', 'NOUN'), ('soaring', 'VERB'), (',', '.'), ('they', 'PRON'), ('were', 'VERB'), ('able', 'ADJ'), ('*-1', 'X'), ('to', 'PRT'), ('sell', 'VERB'), ('the', 'DET'), ('reclaimed', 'VERB'), ('commodities', 'NOUN'), ('at', 'ADP'), ('``', '.'), ('considerable', 'ADJ'), ('profit', 'NOUN'), (',', '.'), (\"''\", '.'), ('the', 'DET'), ('agency', 'NOUN'), (\"'s\", 'PRT'), ('240-page', 'ADJ'), ('report', 'NOUN'), ('said', 'VERB'), ('0', 'X'), ('*T*-2', 'X'), ('.', '.')], [('Saudi', 'NOUN'), ('Arabia', 'NOUN'), (',', '.'), ('for', 'ADP'), ('its', 'PRON'), ('part', 'NOUN'), (',', '.'), ('has', 'VERB'), ('vowed', 'VERB'), ('*-2', 'X'), ('to', 'PRT'), ('enact', 'VERB'), ('a', 'DET'), ('copyright', 'NOUN'), ('law', 'NOUN'), ('compatible', 'ADJ'), ('with', 'ADP'), ('international', 'ADJ'), ('standards', 'NOUN'), ('and', 'CONJ'), ('*-2', 'X'), ('to', 'PRT'), ('apply', 'VERB'), ('the', 'DET'), ('law', 'NOUN'), ('to', 'PRT'), ('computer', 'NOUN'), ('software', 'NOUN'), ('as', 'ADV'), ('well', 'ADV'), ('as', 'ADP'), ('to', 'PRT'), ('literary', 'ADJ'), ('works', 'NOUN'), (',', '.'), ('Mrs.', 'NOUN'), ('Hills', 'NOUN'), ('said', 'VERB'), ('0', 'X'), ('*T*-1', 'X'), ('.', '.')], [('Says', 'VERB'), ('0', 'X'), ('*ICH*-3', 'X'), ('the', 'DET'), ('organization', 'NOUN'), (\"'s\", 'PRT'), ('founder', 'NOUN'), (',', '.'), ('John', 'NOUN'), ('Cannell', 'NOUN'), (',', '.'), ('*', 'X'), ('prosecuting', 'VERB'), ('Mrs.', 'NOUN'), ('Yeargin', 'NOUN'), ('is', 'VERB'), ('``', '.'), ('a', 'DET'), ('way', 'NOUN'), ('for', 'ADP'), ('0', 'X'), ('administrators', 'NOUN'), ('to', 'PRT'), ('protect', 'VERB'), ('themselves', 'PRON'), ('*T*-4', 'X'), ('and', 'CONJ'), ('look', 'VERB'), ('like', 'ADP'), ('they', 'PRON'), ('take', 'VERB'), ('cheating', 'NOUN'), ('seriously', 'ADV'), ('*T*-4', 'X'), (',', '.'), ('when', 'ADV'), ('in', 'ADP'), ('fact', 'NOUN'), ('they', 'PRON'), ('do', 'VERB'), (\"n't\", 'ADV'), ('take', 'VERB'), ('it', 'PRON'), ('seriously', 'ADV'), ('at', 'ADP'), ('all', 'DET'), ('*T*-1', 'X'), ('.', '.'), (\"''\", '.')], [('Among', 'ADP'), ('other', 'ADJ'), ('things', 'NOUN'), (',', '.'), ('the', 'DET'), ('survey', 'NOUN'), ('found', 'VERB'), ('that', 'ADP'), ('manufacturing', 'NOUN'), ('activity', 'NOUN'), ('varied', 'VERB'), ('considerably', 'ADV'), ('across', 'ADP'), ('districts', 'NOUN'), ('and', 'CONJ'), ('among', 'ADP'), ('industries', 'NOUN'), ('.', '.')], [('South', 'NOUN'), ('Korea', 'NOUN'), ('has', 'VERB'), ('opened', 'VERB'), ('its', 'PRON'), ('market', 'NOUN'), ('to', 'PRT'), ('foreign', 'ADJ'), ('cigarettes', 'NOUN'), ('but', 'CONJ'), ('restricts', 'VERB'), ('advertising', 'NOUN'), ('to', 'PRT'), ('designated', 'VERB'), ('places', 'NOUN'), ('.', '.')], [('In', 'ADP'), ('*', 'X'), ('investing', 'VERB'), ('on', 'ADP'), ('the', 'DET'), ('basis', 'NOUN'), ('of', 'ADP'), ('future', 'ADJ'), ('transactions', 'NOUN'), (',', '.'), ('a', 'DET'), ('role', 'NOUN'), ('often', 'ADV'), ('performed', 'VERB'), ('*', 'X'), ('by', 'ADP'), ('merchant', 'NOUN'), ('banks', 'NOUN'), (',', '.'), ('trading', 'NOUN'), ('companies', 'NOUN'), ('can', 'VERB'), ('cut', 'VERB'), ('through', 'ADP'), ('the', 'DET'), ('logjam', 'NOUN'), ('that', 'ADP'), ('small-company', 'NOUN'), ('owners', 'NOUN'), ('often', 'ADV'), ('face', 'VERB'), ('*T*-1', 'X'), ('with', 'ADP'), ('their', 'PRON'), ('local', 'ADJ'), ('commercial', 'ADJ'), ('banks', 'NOUN'), ('.', '.')], [('The', 'DET'), ('insurer', 'NOUN'), (\"'s\", 'PRT'), ('earnings', 'NOUN'), ('from', 'ADP'), ('commercial', 'ADJ'), ('property\\\\/casualty', 'NOUN'), ('lines', 'NOUN'), ('fell', 'VERB'), ('59', 'NUM'), ('%', 'NOUN'), ('in', 'ADP'), ('the', 'DET'), ('latest', 'ADJ'), ('quarter', 'NOUN'), (',', '.'), ('while', 'ADP'), ('it', 'PRON'), ('lost', 'VERB'), ('$', '.'), ('7.2', 'NUM'), ('million', 'NUM'), ('*U*', 'X'), ('in', 'ADP'), ('its', 'PRON'), ('personal', 'ADJ'), ('property\\\\/casualty', 'NOUN'), ('business', 'NOUN'), (',', '.'), ('compared', 'VERB'), ('with', 'ADP'), ('earnings', 'NOUN'), ('of', 'ADP'), ('$', '.'), ('6.1', 'NUM'), ('million', 'NUM'), ('*U*', 'X'), ('a', 'DET'), ('year', 'NOUN'), ('ago', 'ADP'), ('.', '.')], [('-LRB-', '.'), ('Fewer', 'ADJ'), ('said', 'VERB'), ('0', 'X'), ('conditions', 'NOUN'), ('wo', 'VERB'), (\"n't\", 'ADV'), ('change', 'VERB'), ('.', '.'), ('-RRB-', '.')], [('At', 'ADP'), ('Greenville', 'NOUN'), ('High', 'NOUN'), ('School', 'NOUN'), (',', '.'), ('meanwhile', 'ADV'), (',', '.'), ('some', 'DET'), ('students', 'NOUN'), ('--', '.'), ('especially', 'ADV'), ('on', 'ADP'), ('the', 'DET'), ('cheerleading', 'NOUN'), ('squad', 'NOUN'), ('--', '.'), ('were', 'VERB'), ('crushed', 'ADJ'), ('*-1', 'X'), ('.', '.')], [('The', 'DET'), ('Senate', 'NOUN'), ('plans', 'VERB'), ('*-1', 'X'), ('to', 'PRT'), ('take', 'VERB'), ('up', 'PRT'), ('the', 'DET'), ('measure', 'NOUN'), ('quickly', 'ADV'), ('and', 'CONJ'), ('is', 'VERB'), ('expected', 'VERB'), ('*-1', 'X'), ('to', 'PRT'), ('pass', 'VERB'), ('it', 'PRON'), ('.', '.')], [('W.R.', 'NOUN'), ('Grace', 'NOUN'), ('holds', 'VERB'), ('three', 'NUM'), ('of', 'ADP'), ('Grace', 'NOUN'), ('Energy', 'NOUN'), (\"'s\", 'PRT'), ('seven', 'NUM'), ('board', 'NOUN'), ('seats', 'NOUN'), ('.', '.')], [('Bush', 'NOUN'), ('administration', 'NOUN'), ('officials', 'NOUN'), ('are', 'VERB'), ('looking', 'VERB'), ('to', 'PRT'), ('the', 'DET'), ('Fed', 'NOUN'), ('*-1', 'X'), ('to', 'PRT'), ('bring', 'VERB'), ('down', 'PRT'), ('rates', 'NOUN'), (',', '.'), ('and', 'CONJ'), ('financial', 'ADJ'), ('markets', 'NOUN'), ('seem', 'VERB'), ('*-2', 'X'), ('to', 'PRT'), ('be', 'VERB'), ('expecting', 'VERB'), ('easier', 'ADJ'), ('credit', 'NOUN'), ('as', 'ADV'), ('well', 'ADV'), ('.', '.')], [('``', '.'), ('*', 'X'), ('Compare', 'VERB'), ('two', 'NUM'), ('candidates', 'NOUN'), ('for', 'ADP'), ('mayor', 'NOUN'), (',', '.'), (\"''\", '.'), ('says', 'VERB'), ('*T*-1', 'X'), ('the', 'DET'), ('announcer', 'NOUN'), ('.', '.')], [('Finmeccanica', 'NOUN'), ('is', 'VERB'), ('an', 'DET'), ('Italian', 'ADJ'), ('state-owned', 'ADJ'), ('holding', 'VERB'), ('company', 'NOUN'), ('with', 'ADP'), ('interests', 'NOUN'), ('in', 'ADP'), ('the', 'DET'), ('mechanical', 'ADJ'), ('engineering', 'NOUN'), ('industry', 'NOUN'), ('.', '.')], [('The', 'DET'), ('bulk', 'NOUN'), ('of', 'ADP'), ('the', 'DET'), ('pretax', 'NOUN'), ('charge', 'NOUN'), ('is', 'VERB'), ('a', 'DET'), ('$', '.'), ('62', 'NUM'), ('million', 'NUM'), ('*U*', 'X'), ('write-off', 'NOUN'), ('of', 'ADP'), ('capitalized', 'VERB'), ('servicing', 'NOUN'), ('at', 'ADP'), ('the', 'DET'), ('mobile', 'ADJ'), ('home', 'NOUN'), ('financing', 'VERB'), ('subsidiary', 'NOUN'), (',', '.'), ('which', 'DET'), ('the', 'DET'), ('company', 'NOUN'), ('said', 'VERB'), ('0', 'X'), ('*T*-1', 'X'), ('had', 'VERB'), ('been', 'VERB'), ('a', 'DET'), ('big', 'ADJ'), ('drain', 'NOUN'), ('on', 'ADP'), ('earnings', 'NOUN'), ('.', '.')], [('The', 'DET'), ('following', 'VERB'), ('*ICH*-2', 'X'), ('were', 'VERB'), ('neither', 'DET'), ('barred', 'VERB'), ('nor', 'CONJ'), ('suspended', 'VERB'), ('*-1', 'X'), (':', '.'), ('Stephanie', 'NOUN'), ('Veselich', 'NOUN'), ('Enright', 'NOUN'), (',', '.'), ('Rolling', 'NOUN'), ('Hills', 'NOUN'), (',', '.'), ('Calif.', 'NOUN'), (',', '.'), ('fined', 'VERB'), ('*-3', 'X'), ('$', '.'), ('2,500', 'NUM'), ('*U*', 'X'), ('and', 'CONJ'), ('ordered', 'VERB'), ('*-3', 'X'), ('*-4', 'X'), ('to', 'PRT'), ('disgorge', 'VERB'), ('$', '.'), ('11,762', 'NUM'), ('*U*', 'X'), (';', '.'), ('Stuart', 'NOUN'), ('Lane', 'NOUN'), ('Russel', 'NOUN'), (',', '.'), ('Glendale', 'NOUN'), (',', '.'), ('Calif.', 'NOUN'), (',', '.'), ('fined', 'VERB'), ('*-5', 'X'), ('$', '.'), ('2,500', 'NUM'), ('*U*', 'X'), ('and', 'CONJ'), ('ordered', 'VERB'), ('*-5', 'X'), ('*-6', 'X'), ('to', 'PRT'), ('disgorge', 'VERB'), ('$', '.'), ('14,821', 'NUM'), ('*U*', 'X'), (';', '.'), ('Devon', 'NOUN'), ('Nilson', 'NOUN'), ('Dahl', 'NOUN'), (',', '.'), ('Fountain', 'NOUN'), ('Valley', 'NOUN'), (',', '.'), ('Calif.', 'NOUN'), (',', '.'), ('fined', 'VERB'), ('*-7', 'X'), ('$', '.'), ('82,389', 'NUM'), ('*U*', 'X'), ('.', '.')], [('DD', 'NOUN'), ('Acquisition', 'NOUN'), ('Corp.', 'NOUN'), (',', '.'), ('a', 'DET'), ('partnership', 'NOUN'), ('of', 'ADP'), ('Unicorp', 'NOUN'), ('Canada', 'NOUN'), ('Corp.', 'NOUN'), (\"'s\", 'PRT'), ('Kingsbridge', 'NOUN'), ('Capital', 'NOUN'), ('Group', 'NOUN'), ('and', 'CONJ'), ('Cara', 'NOUN'), ('Operations', 'NOUN'), ('Ltd.', 'NOUN'), (',', '.'), ('extended', 'VERB'), ('to', 'PRT'), ('Nov.', 'NOUN'), ('20', 'NUM'), ('its', 'PRON'), ('$', '.'), ('45-a-share', 'ADJ'), ('offer', 'NOUN'), ('for', 'ADP'), ('all', 'DET'), (\"Dunkin'\", 'NOUN'), ('Donuts', 'NOUN'), ('Inc.', 'NOUN'), ('shares', 'NOUN'), ('outstanding', 'ADJ'), ('.', '.')], [('Shipments', 'NOUN'), ('have', 'VERB'), ('been', 'VERB'), ('relatively', 'ADV'), ('level', 'ADJ'), ('since', 'ADP'), ('January', 'NOUN'), (',', '.'), ('the', 'DET'), ('Commerce', 'NOUN'), ('Department', 'NOUN'), ('noted', 'VERB'), ('0', 'X'), ('*T*-1', 'X'), ('.', '.')], [('In', 'ADP'), ('addition', 'NOUN'), (',', '.'), ('Hadson', 'NOUN'), ('said', 'VERB'), ('0', 'X'), ('it', 'PRON'), ('will', 'VERB'), ('write', 'VERB'), ('off', 'PRT'), ('about', 'ADP'), ('$', '.'), ('3.5', 'NUM'), ('million', 'NUM'), ('*U*', 'X'), ('in', 'ADP'), ('costs', 'NOUN'), ('related', 'VERB'), ('*', 'X'), ('to', 'PRT'), ('international', 'ADJ'), ('exploration', 'NOUN'), ('leases', 'NOUN'), ('where', 'ADV'), ('exploration', 'NOUN'), ('efforts', 'NOUN'), ('have', 'VERB'), ('been', 'VERB'), ('unsuccessful', 'ADJ'), ('*T*-1', 'X'), ('.', '.')], [('Corporations', 'NOUN'), ('like', 'ADP'), ('Contel', 'NOUN'), ('denounce', 'VERB'), ('program', 'NOUN'), ('trading', 'NOUN'), (',', '.'), ('yet', 'CONJ'), ('Contel', 'NOUN'), ('has', 'VERB'), ('in', 'ADP'), ('the', 'DET'), ('past', 'NOUN'), ('hired', 'VERB'), ('pension', 'NOUN'), ('fund', 'NOUN'), ('managers', 'NOUN'), ('like', 'ADP'), ('Bankers', 'NOUN'), ('Trust', 'NOUN'), ('Co.', 'NOUN'), ('that', 'DET'), ('*T*-1', 'X'), ('are', 'VERB'), ('also', 'ADV'), ('big', 'ADJ'), ('program', 'NOUN'), ('traders', 'NOUN'), ('.', '.')], [('``', '.'), ('There', 'DET'), ('is', 'VERB'), ('always', 'ADV'), ('a', 'DET'), ('chance', 'NOUN'), ('of', 'ADP'), ('recession', 'NOUN'), (',', '.'), (\"''\", '.'), ('added', 'VERB'), ('*T*-2', 'X'), ('Mr.', 'NOUN'), ('Guffey', 'NOUN'), (',', '.'), ('``', '.'), ('but', 'CONJ'), ('if', 'ADP'), ('you', 'PRON'), ('ask', 'VERB'), ('me', 'PRON'), ('*-3', 'X'), ('to', 'PRT'), ('put', 'VERB'), ('a', 'DET'), ('percentage', 'NOUN'), ('on', 'ADP'), ('it', 'PRON'), (',', '.'), ('I', 'PRON'), ('would', 'VERB'), ('think', 'VERB'), ('0', 'X'), ('it', 'PRON'), (\"'s\", 'VERB'), ('well', 'ADV'), ('below', 'ADP'), ('a', 'DET'), ('50', 'NUM'), ('%', 'NOUN'), ('chance', 'NOUN'), ('.', '.')], [('In', 'ADP'), ('lieu', 'NOUN'), ('of', 'ADP'), ('the', 'DET'), ('vacation', 'NOUN'), (',', '.'), ('buyers', 'NOUN'), ('can', 'VERB'), ('choose', 'VERB'), ('among', 'ADP'), ('several', 'ADJ'), ('prizes', 'NOUN'), (',', '.'), ('including', 'VERB'), ('a', 'DET'), ('grandfather', 'NOUN'), ('clock', 'NOUN'), ('or', 'CONJ'), ('a', 'DET'), ('stereo', 'NOUN'), ('videocassette', 'NOUN'), ('recorder', 'NOUN'), ('.', '.')], [('It', 'PRON'), ('also', 'ADV'), ('hopes', 'VERB'), ('for', 'ADP'), ('ultimate', 'ADJ'), ('gains', 'NOUN'), ('of', 'ADP'), ('as', 'ADV'), ('much', 'ADJ'), ('as', 'ADP'), ('$', '.'), ('300', 'NUM'), ('million', 'NUM'), ('*U*', 'X'), ('on', 'ADP'), ('equity', 'NOUN'), ('investments', 'NOUN'), ('in', 'ADP'), ('buy-outs', 'NOUN'), ('and', 'CONJ'), ('restructurings', 'NOUN'), ('.', '.')], [('The', 'DET'), ('House', 'NOUN'), ('has', 'VERB'), ('voted', 'VERB'), ('*-1', 'X'), ('to', 'PRT'), ('raise', 'VERB'), ('the', 'DET'), ('ceiling', 'NOUN'), ('to', 'PRT'), ('$', '.'), ('3.1', 'NUM'), ('trillion', 'NUM'), ('*U*', 'X'), (',', '.'), ('but', 'CONJ'), ('the', 'DET'), ('Senate', 'NOUN'), ('is', 'VERB'), (\"n't\", 'ADV'), ('expected', 'VERB'), ('*-2', 'X'), ('to', 'PRT'), ('act', 'VERB'), ('until', 'ADP'), ('next', 'ADJ'), ('week', 'NOUN'), ('at', 'ADP'), ('the', 'DET'), ('earliest', 'ADJ'), ('.', '.')], [('The', 'DET'), ('event', 'NOUN'), ('continues', 'VERB'), ('into', 'ADP'), ('next', 'ADJ'), ('year', 'NOUN'), ('and', 'CONJ'), ('includes', 'VERB'), ('an', 'DET'), ('exchange', 'NOUN'), ('program', 'NOUN'), ('*', 'X'), ('to', 'PRT'), ('swap', 'VERB'), ('design', 'NOUN'), ('teachers', 'NOUN'), ('at', 'ADP'), ('Carnegie-Mellon', 'NOUN'), ('and', 'CONJ'), ('Leningrad', 'NOUN'), (\"'s\", 'PRT'), ('Mutchin', 'NOUN'), ('Institute', 'NOUN'), ('.', '.')], [('Government', 'NOUN'), ('press', 'NOUN'), ('releases', 'NOUN'), (',', '.'), ('speeches', 'NOUN'), (',', '.'), ('briefings', 'NOUN'), (',', '.'), ('tours', 'NOUN'), ('of', 'ADP'), ('military', 'ADJ'), ('facilities', 'NOUN'), (',', '.'), ('publications', 'NOUN'), ('are', 'VERB'), ('all', 'DET'), ('propaganda', 'NOUN'), ('of', 'ADP'), ('sorts', 'NOUN'), ('.', '.')], [('The', 'DET'), ('Pennsylvania', 'NOUN'), ('bank', 'NOUN'), ('agreed', 'VERB'), ('*-1', 'X'), ('to', 'PRT'), ('be', 'VERB'), ('acquired', 'VERB'), ('*-2', 'X'), ('in', 'ADP'), ('a', 'DET'), ('merger', 'NOUN'), ('with', 'ADP'), ('Univest', 'NOUN'), ('Corp.', 'NOUN'), ('of', 'ADP'), ('Pennsylvania', 'NOUN'), ('for', 'ADP'), ('$', '.'), ('25.50', 'NUM'), ('*U*', 'X'), ('a', 'DET'), ('share', 'NOUN'), ('.', '.')], [('``', '.'), ('The', 'DET'), ('Herald', 'NOUN'), ('was', 'VERB'), ('a', 'DET'), ('survivor', 'NOUN'), ('from', 'ADP'), ('a', 'DET'), ('bygone', 'ADJ'), ('age', 'NOUN'), (',', '.'), (\"''\", '.'), ('said', 'VERB'), ('*T*-1', 'X'), ('J.', 'NOUN'), ('Kendrick', 'NOUN'), ('Noble', 'NOUN'), (',', '.'), ('a', 'DET'), ('media', 'NOUN'), ('analyst', 'NOUN'), ('with', 'ADP'), ('PaineWebber', 'NOUN'), ('Inc', 'NOUN'), ('.', '.')], [('At', 'ADP'), ('least', 'ADJ'), (',', '.'), ('that', 'DET'), (\"'s\", 'VERB'), ('the', 'DET'), ('way', 'NOUN'), ('0', 'X'), ('it', 'PRON'), ('was', 'VERB'), ('reported', 'VERB'), ('*-32', 'X'), ('*T*-1', 'X'), ('.', '.')], [('When', 'ADV'), ('Scoring', 'NOUN'), ('High', 'NOUN'), ('first', 'ADV'), ('came', 'VERB'), ('out', 'ADV'), ('in', 'ADP'), ('1979', 'NUM'), ('*T*-1', 'X'), (',', '.'), ('it', 'PRON'), ('was', 'VERB'), ('a', 'DET'), ('publication', 'NOUN'), ('of', 'ADP'), ('Random', 'NOUN'), ('House', 'NOUN'), ('.', '.')], [('Prices', 'NOUN'), ('also', 'ADV'), ('were', 'VERB'), ('boosted', 'VERB'), ('*-1', 'X'), ('by', 'ADP'), ('another', 'DET'), ('rumor', 'NOUN'), ('that', 'ADP'), ('Mexico', 'NOUN'), (',', '.'), ('usually', 'ADV'), ('a', 'DET'), ('large', 'ADJ'), ('producer', 'NOUN'), ('and', 'CONJ'), ('exporter', 'NOUN'), (',', '.'), ('might', 'VERB'), ('have', 'VERB'), ('*-2', 'X'), ('to', 'PRT'), ('buy', 'VERB'), ('a', 'DET'), ('large', 'ADJ'), ('quantity', 'NOUN'), ('of', 'ADP'), ('sugar', 'NOUN'), ('.', '.')], [('The', 'DET'), ('Austin', 'NOUN'), (',', '.'), ('Texas-based', 'ADJ'), ('company', 'NOUN'), (',', '.'), ('which', 'DET'), ('*T*-1', 'X'), ('specializes', 'VERB'), ('in', 'ADP'), ('the', 'DET'), ('direct', 'ADJ'), ('sale', 'NOUN'), ('of', 'ADP'), ('personal', 'ADJ'), ('computers', 'NOUN'), ('and', 'CONJ'), ('accessories', 'NOUN'), (',', '.'), ('said', 'VERB'), ('0', 'X'), ('its', 'PRON'), ('price', 'NOUN'), ('cuts', 'NOUN'), ('include', 'VERB'), ('a', 'DET'), ('$', '.'), ('100', 'NUM'), ('*U*', 'X'), ('reduction', 'NOUN'), ('on', 'ADP'), ('its', 'PRON'), ('System', 'NOUN'), ('210', 'NUM'), ('computer', 'NOUN'), ('with', 'ADP'), ('512', 'NUM'), ('kilobytes', 'NOUN'), ('of', 'ADP'), ('memory', 'NOUN'), (',', '.'), ('a', 'DET'), ('40-megabyte', 'ADJ'), ('hard', 'ADJ'), ('disk', 'NOUN'), ('and', 'CONJ'), ('a', 'DET'), ('color', 'NOUN'), ('monitor', 'NOUN'), ('.', '.')], [('Many', 'ADJ'), ('institutional', 'ADJ'), ('index', 'NOUN'), ('funds', 'NOUN'), ('are', 'VERB'), ('active', 'ADJ'), ('program', 'NOUN'), ('traders', 'NOUN'), (',', '.'), ('*-1', 'X'), ('swapping', 'VERB'), ('their', 'PRON'), ('stocks', 'NOUN'), ('for', 'ADP'), ('futures', 'NOUN'), ('when', 'ADV'), ('profitable', 'ADJ'), ('*', 'X'), ('to', 'PRT'), ('do', 'VERB'), ('so', 'ADV'), ('*T*-2', 'X'), ('.', '.')], [('Advocates', 'NOUN'), ('said', 'VERB'), ('0', 'X'), ('the', 'DET'), ('90-cent-an-hour', 'ADJ'), ('rise', 'NOUN'), (',', '.'), ('to', 'PRT'), ('$', '.'), ('4.25', 'NUM'), ('*U*', 'X'), ('an', 'DET'), ('hour', 'NOUN'), ('by', 'ADP'), ('April', 'NOUN'), ('1991', 'NUM'), (',', '.'), ('is', 'VERB'), ('too', 'ADV'), ('small', 'ADJ'), ('for', 'ADP'), ('the', 'DET'), ('working', 'VERB'), ('poor', 'NOUN'), (',', '.'), ('while', 'ADP'), ('opponents', 'NOUN'), ('argued', 'VERB'), ('that', 'ADP'), ('the', 'DET'), ('increase', 'NOUN'), ('will', 'VERB'), ('still', 'ADV'), ('hurt', 'VERB'), ('small', 'ADJ'), ('business', 'NOUN'), ('and', 'CONJ'), ('cost', 'VERB'), ('many', 'ADJ'), ('thousands', 'NOUN'), ('of', 'ADP'), ('jobs', 'NOUN'), ('.', '.')], [('In', 'ADP'), ('an', 'DET'), ('interview', 'NOUN'), (',', '.'), ('Mr.', 'NOUN'), ('Bernstein', 'NOUN'), ('said', 'VERB'), ('0', 'X'), ('his', 'PRON'), ('departure', 'NOUN'), ('``', '.'), ('evolved', 'VERB'), ('out', 'ADP'), ('of', 'ADP'), ('discussions', 'NOUN'), ('with', 'ADP'), ('Si', 'NOUN'), ('Newhouse', 'NOUN'), ('and', 'CONJ'), ('that', 'DET'), (\"'s\", 'VERB'), ('the', 'DET'), ('decision', 'NOUN'), ('0', 'X'), ('I', 'PRON'), ('reached', 'VERB'), ('*T*-1', 'X'), ('.', '.'), (\"''\", '.')], [('Sometimes', 'ADV'), ('the', 'DET'), ('bribed', 'VERB'), ('became', 'VERB'), ('partners', 'NOUN'), ('in', 'ADP'), ('the', 'DET'), ('company', 'NOUN'), ('.', '.')], [('The', 'DET'), ('British', 'NOUN'), ('Department', 'NOUN'), ('of', 'ADP'), ('Trade', 'NOUN'), ('and', 'CONJ'), ('Industry', 'NOUN'), ('ordered', 'VERB'), ('an', 'DET'), ('investigation', 'NOUN'), ('of', 'ADP'), ('the', 'DET'), ('competitive', 'ADJ'), ('impact', 'NOUN'), ('of', 'ADP'), ('Michelin', 'NOUN'), ('Tyre', 'NOUN'), ('PLC', 'NOUN'), (\"'s\", 'PRT'), ('planned', 'VERB'), ('acquisition', 'NOUN'), ('of', 'ADP'), ('National', 'NOUN'), ('Tyre', 'NOUN'), ('Service', 'NOUN'), ('Ltd', 'NOUN'), ('.', '.')], [('Analysts', 'NOUN'), ('calculate', 'VERB'), ('Cray', 'NOUN'), ('Computer', 'NOUN'), (\"'s\", 'PRT'), ('initial', 'ADJ'), ('book', 'NOUN'), ('value', 'NOUN'), ('at', 'ADP'), ('about', 'ADP'), ('$', '.'), ('4.75', 'NUM'), ('*U*', 'X'), ('a', 'DET'), ('share', 'NOUN'), ('.', '.')]]\n"
     ]
    }
   ],
   "source": [
    "# Splitting into train and test\n",
    "random.seed(42)\n",
    "train_set, test_set = train_test_split(nltk_data,test_size=0.05)\n",
    "\n",
    "print(f'Length of Training Set: {len(train_set)}')\n",
    "print(f'Length of Test Set: {len(test_set)}')\n",
    "print(train_set[:40])"
   ]
  },
  {
   "cell_type": "code",
   "execution_count": 5,
   "metadata": {},
   "outputs": [],
   "source": [
    " train_tagged_words = [tup for sent in train_set for tup in sent]"
   ]
  },
  {
   "cell_type": "code",
   "execution_count": 6,
   "metadata": {},
   "outputs": [
    {
     "output_type": "execute_result",
     "data": {
      "text/plain": [
       "95522"
      ]
     },
     "metadata": {},
     "execution_count": 6
    }
   ],
   "source": [
    "len(train_tagged_words)"
   ]
  },
  {
   "cell_type": "code",
   "execution_count": 7,
   "metadata": {},
   "outputs": [
    {
     "output_type": "stream",
     "name": "stdout",
     "text": [
      "The five most common tags are [('NOUN', 27400), ('VERB', 12877), ('.', 11123), ('ADP', 9360), ('DET', 8285)]\n"
     ]
    }
   ],
   "source": [
    "pos_counts = collections.Counter((subl[1] for subl in train_tagged_words))\n",
    "print(\"The five most common tags are\", pos_counts.most_common(5))"
   ]
  },
  {
   "cell_type": "code",
   "execution_count": 8,
   "metadata": {},
   "outputs": [
    {
     "output_type": "execute_result",
     "data": {
      "text/plain": [
       "['Wellcome',\n",
       " 'gained',\n",
       " '18',\n",
       " 'to',\n",
       " '666',\n",
       " 'on',\n",
       " 'a',\n",
       " 'modest',\n",
       " '1.1',\n",
       " 'million']"
      ]
     },
     "metadata": {},
     "execution_count": 8
    }
   ],
   "source": [
    "# tokens \n",
    "tokens = [pair[0] for pair in train_tagged_words]\n",
    "tokens[:10]"
   ]
  },
  {
   "cell_type": "code",
   "execution_count": 9,
   "metadata": {},
   "outputs": [
    {
     "output_type": "stream",
     "name": "stdout",
     "text": [
      "Total Words in Vocabulary: 12083\n"
     ]
    }
   ],
   "source": [
    "# vocabulary\n",
    "V = set(tokens)\n",
    "print(f'Total Words in Vocabulary: {len(V)}')"
   ]
  },
  {
   "cell_type": "code",
   "execution_count": 10,
   "metadata": {},
   "outputs": [
    {
     "output_type": "stream",
     "name": "stdout",
     "text": [
      "Total Tags : 12\n"
     ]
    }
   ],
   "source": [
    "# number of tags\n",
    "T = set([pair[1] for pair in train_tagged_words])\n",
    "print(f'Total Tags : {len(T)}')"
   ]
  },
  {
   "cell_type": "markdown",
   "metadata": {},
   "source": [
    "### Build the vanilla Viterbi based POS tagger"
   ]
  },
  {
   "source": [
    "#### Emission Probabilities"
   ],
   "cell_type": "markdown",
   "metadata": {}
  },
  {
   "cell_type": "code",
   "execution_count": 11,
   "metadata": {},
   "outputs": [],
   "source": [
    "# computing P(w/t) and storing in T x V matrix\n",
    "t = len(T)\n",
    "v = len(V)\n",
    "w_given_t = np.zeros((t, v))"
   ]
  },
  {
   "cell_type": "code",
   "execution_count": 12,
   "metadata": {},
   "outputs": [],
   "source": [
    "# compute word given tag: Emission Probability\n",
    "def word_given_tag(word, tag, train_bag = train_tagged_words):\n",
    "    tag_list = [pair for pair in train_bag if pair[1]==tag]\n",
    "    count_tag = len(tag_list)\n",
    "    w_given_tag_list = [pair[0] for pair in tag_list if pair[0]==word]\n",
    "    count_w_given_tag = len(w_given_tag_list)\n",
    "    \n",
    "    return (count_w_given_tag, count_tag)"
   ]
  },
  {
   "cell_type": "code",
   "execution_count": 13,
   "metadata": {},
   "outputs": [
    {
     "output_type": "stream",
     "name": "stdout",
     "text": [
      "(74, 6069)\n(3, 27400)\n\n book\n(7, 27400)\n(1, 12877)\n"
     ]
    }
   ],
   "source": [
    "print(word_given_tag('Japanese','ADJ'))\n",
    "print(word_given_tag('Minister','NOUN'))\n",
    "\n",
    "# book\n",
    "print(\"\\n\", \"book\")\n",
    "print(word_given_tag('book', 'NOUN'))\n",
    "print(word_given_tag('book', 'VERB'))"
   ]
  },
  {
   "cell_type": "code",
   "execution_count": 14,
   "metadata": {},
   "outputs": [],
   "source": [
    "def t2_given_t1(t2, t1, train_bag = train_tagged_words):\n",
    "    tags = [pair[1] for pair in train_bag]\n",
    "    count_t1 = len([t for t in tags if t==t1])\n",
    "    count_t2_t1 = 0\n",
    "    for index in range(len(tags)-1):\n",
    "        if tags[index]==t1 and tags[index+1] == t2:\n",
    "            count_t2_t1 += 1\n",
    "    return (count_t2_t1, count_t1)"
   ]
  },
  {
   "cell_type": "code",
   "execution_count": 15,
   "metadata": {},
   "outputs": [
    {
     "output_type": "stream",
     "name": "stdout",
     "text": [
      "(4248, 6069)\n(1427, 12877)\n(454, 12877)\n"
     ]
    }
   ],
   "source": [
    "print(t2_given_t1(t2='NOUN', t1='ADJ'))\n",
    "print(t2_given_t1(t2='NOUN', t1='VERB'))\n",
    "print(t2_given_t1(t2='PRON', t1='VERB'))"
   ]
  },
  {
   "cell_type": "code",
   "execution_count": 16,
   "metadata": {},
   "outputs": [],
   "source": [
    "# creating t x t transition matrix of tags\n",
    "# each column is t2, each row is t1\n",
    "# thus M(i, j) represents P(tj given ti)\n",
    "\n",
    "tags_matrix = np.zeros((len(T), len(T)), dtype='float32')\n",
    "for i, t1 in enumerate(list(T)):\n",
    "    for j, t2 in enumerate(list(T)): \n",
    "        tags_matrix[i, j] = t2_given_t1(t2, t1)[0]/t2_given_t1(t2, t1)[1]"
   ]
  },
  {
   "cell_type": "code",
   "execution_count": 17,
   "metadata": {},
   "outputs": [
    {
     "output_type": "execute_result",
     "data": {
      "text/plain": [
       "          VERB      NOUN       DET       ADJ       ADV       NUM         X  \\\n",
       "VERB  0.169372  0.110818  0.134193  0.064844  0.081230  0.023297  0.218684   \n",
       "NOUN  0.146350  0.264672  0.012993  0.012299  0.017299  0.009635  0.028431   \n",
       "DET   0.039831  0.638865  0.005432  0.204224  0.012794  0.022571  0.045625   \n",
       "ADJ   0.011864  0.699951  0.004943  0.067392  0.004778  0.021091  0.020432   \n",
       "ADV   0.348015  0.029696  0.067734  0.128128  0.080414  0.031698  0.023357   \n",
       "NUM   0.018784  0.353309  0.002683  0.033095  0.002683  0.181276  0.211688   \n",
       "X     0.205140  0.061462  0.055556  0.016922  0.026022  0.001916  0.073755   \n",
       "PRON  0.485000  0.208077  0.009615  0.072692  0.034231  0.007308  0.094231   \n",
       "PRT   0.403353  0.245233  0.104208  0.085470  0.009204  0.055227  0.013807   \n",
       "ADP   0.008226  0.321047  0.323825  0.106197  0.013355  0.063462  0.034295   \n",
       "\n",
       "          PRON       PRT       ADP      CONJ         .  \n",
       "VERB  0.035257  0.031374  0.090238  0.005591  0.035101  \n",
       "NOUN  0.004891  0.043467  0.177226  0.042409  0.240328  \n",
       "DET   0.003621  0.000241  0.009294  0.000362  0.017139  \n",
       "ADJ   0.000659  0.010710  0.077608  0.017136  0.063437  \n",
       "ADV   0.015349  0.014014  0.118118  0.006673  0.136803  \n",
       "NUM   0.001491  0.027132  0.036374  0.013715  0.117770  \n",
       "X     0.056194  0.185026  0.144955  0.010217  0.162835  \n",
       "PRON  0.006923  0.012308  0.022692  0.005385  0.041538  \n",
       "PRT   0.016108  0.001972  0.020053  0.002301  0.043064  \n",
       "ADP   0.069979  0.001496  0.017415  0.000855  0.039850  "
      ],
      "text/html": "<div>\n<style scoped>\n    .dataframe tbody tr th:only-of-type {\n        vertical-align: middle;\n    }\n\n    .dataframe tbody tr th {\n        vertical-align: top;\n    }\n\n    .dataframe thead th {\n        text-align: right;\n    }\n</style>\n<table border=\"1\" class=\"dataframe\">\n  <thead>\n    <tr style=\"text-align: right;\">\n      <th></th>\n      <th>VERB</th>\n      <th>NOUN</th>\n      <th>DET</th>\n      <th>ADJ</th>\n      <th>ADV</th>\n      <th>NUM</th>\n      <th>X</th>\n      <th>PRON</th>\n      <th>PRT</th>\n      <th>ADP</th>\n      <th>CONJ</th>\n      <th>.</th>\n    </tr>\n  </thead>\n  <tbody>\n    <tr>\n      <th>VERB</th>\n      <td>0.169372</td>\n      <td>0.110818</td>\n      <td>0.134193</td>\n      <td>0.064844</td>\n      <td>0.081230</td>\n      <td>0.023297</td>\n      <td>0.218684</td>\n      <td>0.035257</td>\n      <td>0.031374</td>\n      <td>0.090238</td>\n      <td>0.005591</td>\n      <td>0.035101</td>\n    </tr>\n    <tr>\n      <th>NOUN</th>\n      <td>0.146350</td>\n      <td>0.264672</td>\n      <td>0.012993</td>\n      <td>0.012299</td>\n      <td>0.017299</td>\n      <td>0.009635</td>\n      <td>0.028431</td>\n      <td>0.004891</td>\n      <td>0.043467</td>\n      <td>0.177226</td>\n      <td>0.042409</td>\n      <td>0.240328</td>\n    </tr>\n    <tr>\n      <th>DET</th>\n      <td>0.039831</td>\n      <td>0.638865</td>\n      <td>0.005432</td>\n      <td>0.204224</td>\n      <td>0.012794</td>\n      <td>0.022571</td>\n      <td>0.045625</td>\n      <td>0.003621</td>\n      <td>0.000241</td>\n      <td>0.009294</td>\n      <td>0.000362</td>\n      <td>0.017139</td>\n    </tr>\n    <tr>\n      <th>ADJ</th>\n      <td>0.011864</td>\n      <td>0.699951</td>\n      <td>0.004943</td>\n      <td>0.067392</td>\n      <td>0.004778</td>\n      <td>0.021091</td>\n      <td>0.020432</td>\n      <td>0.000659</td>\n      <td>0.010710</td>\n      <td>0.077608</td>\n      <td>0.017136</td>\n      <td>0.063437</td>\n    </tr>\n    <tr>\n      <th>ADV</th>\n      <td>0.348015</td>\n      <td>0.029696</td>\n      <td>0.067734</td>\n      <td>0.128128</td>\n      <td>0.080414</td>\n      <td>0.031698</td>\n      <td>0.023357</td>\n      <td>0.015349</td>\n      <td>0.014014</td>\n      <td>0.118118</td>\n      <td>0.006673</td>\n      <td>0.136803</td>\n    </tr>\n    <tr>\n      <th>NUM</th>\n      <td>0.018784</td>\n      <td>0.353309</td>\n      <td>0.002683</td>\n      <td>0.033095</td>\n      <td>0.002683</td>\n      <td>0.181276</td>\n      <td>0.211688</td>\n      <td>0.001491</td>\n      <td>0.027132</td>\n      <td>0.036374</td>\n      <td>0.013715</td>\n      <td>0.117770</td>\n    </tr>\n    <tr>\n      <th>X</th>\n      <td>0.205140</td>\n      <td>0.061462</td>\n      <td>0.055556</td>\n      <td>0.016922</td>\n      <td>0.026022</td>\n      <td>0.001916</td>\n      <td>0.073755</td>\n      <td>0.056194</td>\n      <td>0.185026</td>\n      <td>0.144955</td>\n      <td>0.010217</td>\n      <td>0.162835</td>\n    </tr>\n    <tr>\n      <th>PRON</th>\n      <td>0.485000</td>\n      <td>0.208077</td>\n      <td>0.009615</td>\n      <td>0.072692</td>\n      <td>0.034231</td>\n      <td>0.007308</td>\n      <td>0.094231</td>\n      <td>0.006923</td>\n      <td>0.012308</td>\n      <td>0.022692</td>\n      <td>0.005385</td>\n      <td>0.041538</td>\n    </tr>\n    <tr>\n      <th>PRT</th>\n      <td>0.403353</td>\n      <td>0.245233</td>\n      <td>0.104208</td>\n      <td>0.085470</td>\n      <td>0.009204</td>\n      <td>0.055227</td>\n      <td>0.013807</td>\n      <td>0.016108</td>\n      <td>0.001972</td>\n      <td>0.020053</td>\n      <td>0.002301</td>\n      <td>0.043064</td>\n    </tr>\n    <tr>\n      <th>ADP</th>\n      <td>0.008226</td>\n      <td>0.321047</td>\n      <td>0.323825</td>\n      <td>0.106197</td>\n      <td>0.013355</td>\n      <td>0.063462</td>\n      <td>0.034295</td>\n      <td>0.069979</td>\n      <td>0.001496</td>\n      <td>0.017415</td>\n      <td>0.000855</td>\n      <td>0.039850</td>\n    </tr>\n  </tbody>\n</table>\n</div>"
     },
     "metadata": {},
     "execution_count": 17
    }
   ],
   "source": [
    "# convert the matrix to a df for better readability\n",
    "tags_df = pd.DataFrame(tags_matrix, columns = list(T), index=list(T))\n",
    "tags_df.head(10)"
   ]
  },
  {
   "cell_type": "code",
   "execution_count": 18,
   "metadata": {},
   "outputs": [
    {
     "output_type": "display_data",
     "data": {
      "text/plain": "<Figure size 1296x864 with 2 Axes>",
      "image/svg+xml": "<?xml version=\"1.0\" encoding=\"utf-8\" standalone=\"no\"?>\r\n<!DOCTYPE svg PUBLIC \"-//W3C//DTD SVG 1.1//EN\"\r\n  \"http://www.w3.org/Graphics/SVG/1.1/DTD/svg11.dtd\">\r\n<!-- Created with matplotlib (https://matplotlib.org/) -->\r\n<svg height=\"683.398125pt\" version=\"1.1\" viewBox=\"0 0 940.33725 683.398125\" width=\"940.33725pt\" xmlns=\"http://www.w3.org/2000/svg\" xmlns:xlink=\"http://www.w3.org/1999/xlink\">\r\n <metadata>\r\n  <rdf:RDF xmlns:cc=\"http://creativecommons.org/ns#\" xmlns:dc=\"http://purl.org/dc/elements/1.1/\" xmlns:rdf=\"http://www.w3.org/1999/02/22-rdf-syntax-ns#\">\r\n   <cc:Work>\r\n    <dc:type rdf:resource=\"http://purl.org/dc/dcmitype/StillImage\"/>\r\n    <dc:date>2021-02-25T02:11:15.761781</dc:date>\r\n    <dc:format>image/svg+xml</dc:format>\r\n    <dc:creator>\r\n     <cc:Agent>\r\n      <dc:title>Matplotlib v3.3.4, https://matplotlib.org/</dc:title>\r\n     </cc:Agent>\r\n    </dc:creator>\r\n   </cc:Work>\r\n  </rdf:RDF>\r\n </metadata>\r\n <defs>\r\n  <style type=\"text/css\">*{stroke-linecap:butt;stroke-linejoin:round;}</style>\r\n </defs>\r\n <g id=\"figure_1\">\r\n  <g id=\"patch_1\">\r\n   <path d=\"M 0 683.398125 \r\nL 940.33725 683.398125 \r\nL 940.33725 0 \r\nL 0 0 \r\nz\r\n\" style=\"fill:none;\"/>\r\n  </g>\r\n  <g id=\"axes_1\">\r\n   <g id=\"patch_2\">\r\n    <path d=\"M 23.878125 659.52 \r\nL 827.398125 659.52 \r\nL 827.398125 7.2 \r\nL 23.878125 7.2 \r\nz\r\n\" style=\"fill:#ffffff;\"/>\r\n   </g>\r\n   <g id=\"QuadMesh_1\">\r\n    <path clip-path=\"url(#p905b50c6e9)\" d=\"M 23.878125 7.2 \r\nL 90.838125 7.2 \r\nL 90.838125 61.56 \r\nL 23.878125 61.56 \r\nL 23.878125 7.2 \r\n\" style=\"fill:#5c1e51;\"/>\r\n    <path clip-path=\"url(#p905b50c6e9)\" d=\"M 90.838125 7.2 \r\nL 157.798125 7.2 \r\nL 157.798125 61.56 \r\nL 90.838125 61.56 \r\nL 90.838125 7.2 \r\n\" style=\"fill:#3c1a42;\"/>\r\n    <path clip-path=\"url(#p905b50c6e9)\" d=\"M 157.798125 7.2 \r\nL 224.758125 7.2 \r\nL 224.758125 61.56 \r\nL 157.798125 61.56 \r\nL 157.798125 7.2 \r\n\" style=\"fill:#491d49;\"/>\r\n    <path clip-path=\"url(#p905b50c6e9)\" d=\"M 224.758125 7.2 \r\nL 291.718125 7.2 \r\nL 291.718125 61.56 \r\nL 224.758125 61.56 \r\nL 224.758125 7.2 \r\n\" style=\"fill:#221331;\"/>\r\n    <path clip-path=\"url(#p905b50c6e9)\" d=\"M 291.718125 7.2 \r\nL 358.678125 7.2 \r\nL 358.678125 61.56 \r\nL 291.718125 61.56 \r\nL 291.718125 7.2 \r\n\" style=\"fill:#2b1637;\"/>\r\n    <path clip-path=\"url(#p905b50c6e9)\" d=\"M 358.678125 7.2 \r\nL 425.638125 7.2 \r\nL 425.638125 61.56 \r\nL 358.678125 61.56 \r\nL 358.678125 7.2 \r\n\" style=\"fill:#0d0a21;\"/>\r\n    <path clip-path=\"url(#p905b50c6e9)\" d=\"M 425.638125 7.2 \r\nL 492.598125 7.2 \r\nL 492.598125 61.56 \r\nL 425.638125 61.56 \r\nL 425.638125 7.2 \r\n\" style=\"fill:#7a1f59;\"/>\r\n    <path clip-path=\"url(#p905b50c6e9)\" d=\"M 492.598125 7.2 \r\nL 559.558125 7.2 \r\nL 559.558125 61.56 \r\nL 492.598125 61.56 \r\nL 492.598125 7.2 \r\n\" style=\"fill:#130d25;\"/>\r\n    <path clip-path=\"url(#p905b50c6e9)\" d=\"M 559.558125 7.2 \r\nL 626.518125 7.2 \r\nL 626.518125 61.56 \r\nL 559.558125 61.56 \r\nL 559.558125 7.2 \r\n\" style=\"fill:#110c24;\"/>\r\n    <path clip-path=\"url(#p905b50c6e9)\" d=\"M 626.518125 7.2 \r\nL 693.478125 7.2 \r\nL 693.478125 61.56 \r\nL 626.518125 61.56 \r\nL 626.518125 7.2 \r\n\" style=\"fill:#30173a;\"/>\r\n    <path clip-path=\"url(#p905b50c6e9)\" d=\"M 693.478125 7.2 \r\nL 760.438125 7.2 \r\nL 760.438125 61.56 \r\nL 693.478125 61.56 \r\nL 693.478125 7.2 \r\n\" style=\"fill:#04051a;\"/>\r\n    <path clip-path=\"url(#p905b50c6e9)\" d=\"M 760.438125 7.2 \r\nL 827.398125 7.2 \r\nL 827.398125 61.56 \r\nL 760.438125 61.56 \r\nL 760.438125 7.2 \r\n\" style=\"fill:#130d25;\"/>\r\n    <path clip-path=\"url(#p905b50c6e9)\" d=\"M 23.878125 61.56 \r\nL 90.838125 61.56 \r\nL 90.838125 115.92 \r\nL 23.878125 115.92 \r\nL 23.878125 61.56 \r\n\" style=\"fill:#501d4c;\"/>\r\n    <path clip-path=\"url(#p905b50c6e9)\" d=\"M 90.838125 61.56 \r\nL 157.798125 61.56 \r\nL 157.798125 115.92 \r\nL 90.838125 115.92 \r\nL 90.838125 61.56 \r\n\" style=\"fill:#971c5b;\"/>\r\n    <path clip-path=\"url(#p905b50c6e9)\" d=\"M 157.798125 61.56 \r\nL 224.758125 61.56 \r\nL 224.758125 115.92 \r\nL 157.798125 115.92 \r\nL 157.798125 61.56 \r\n\" style=\"fill:#07071d;\"/>\r\n    <path clip-path=\"url(#p905b50c6e9)\" d=\"M 224.758125 61.56 \r\nL 291.718125 61.56 \r\nL 291.718125 115.92 \r\nL 224.758125 115.92 \r\nL 224.758125 61.56 \r\n\" style=\"fill:#07071d;\"/>\r\n    <path clip-path=\"url(#p905b50c6e9)\" d=\"M 291.718125 61.56 \r\nL 358.678125 61.56 \r\nL 358.678125 115.92 \r\nL 291.718125 115.92 \r\nL 291.718125 61.56 \r\n\" style=\"fill:#0a091f;\"/>\r\n    <path clip-path=\"url(#p905b50c6e9)\" d=\"M 358.678125 61.56 \r\nL 425.638125 61.56 \r\nL 425.638125 115.92 \r\nL 358.678125 115.92 \r\nL 358.678125 61.56 \r\n\" style=\"fill:#06071c;\"/>\r\n    <path clip-path=\"url(#p905b50c6e9)\" d=\"M 425.638125 61.56 \r\nL 492.598125 61.56 \r\nL 492.598125 115.92 \r\nL 425.638125 115.92 \r\nL 425.638125 61.56 \r\n\" style=\"fill:#100b23;\"/>\r\n    <path clip-path=\"url(#p905b50c6e9)\" d=\"M 492.598125 61.56 \r\nL 559.558125 61.56 \r\nL 559.558125 115.92 \r\nL 492.598125 115.92 \r\nL 492.598125 61.56 \r\n\" style=\"fill:#04051a;\"/>\r\n    <path clip-path=\"url(#p905b50c6e9)\" d=\"M 559.558125 61.56 \r\nL 626.518125 61.56 \r\nL 626.518125 115.92 \r\nL 559.558125 115.92 \r\nL 559.558125 61.56 \r\n\" style=\"fill:#170f28;\"/>\r\n    <path clip-path=\"url(#p905b50c6e9)\" d=\"M 626.518125 61.56 \r\nL 693.478125 61.56 \r\nL 693.478125 115.92 \r\nL 626.518125 115.92 \r\nL 626.518125 61.56 \r\n\" style=\"fill:#611f53;\"/>\r\n    <path clip-path=\"url(#p905b50c6e9)\" d=\"M 693.478125 61.56 \r\nL 760.438125 61.56 \r\nL 760.438125 115.92 \r\nL 693.478125 115.92 \r\nL 693.478125 61.56 \r\n\" style=\"fill:#170f28;\"/>\r\n    <path clip-path=\"url(#p905b50c6e9)\" d=\"M 760.438125 61.56 \r\nL 827.398125 61.56 \r\nL 827.398125 115.92 \r\nL 760.438125 115.92 \r\nL 760.438125 61.56 \r\n\" style=\"fill:#871e5b;\"/>\r\n    <path clip-path=\"url(#p905b50c6e9)\" d=\"M 23.878125 115.92 \r\nL 90.838125 115.92 \r\nL 90.838125 170.28 \r\nL 23.878125 170.28 \r\nL 23.878125 115.92 \r\n\" style=\"fill:#160e27;\"/>\r\n    <path clip-path=\"url(#p905b50c6e9)\" d=\"M 90.838125 115.92 \r\nL 157.798125 115.92 \r\nL 157.798125 170.28 \r\nL 90.838125 170.28 \r\nL 90.838125 115.92 \r\n\" style=\"fill:#f7caac;\"/>\r\n    <path clip-path=\"url(#p905b50c6e9)\" d=\"M 157.798125 115.92 \r\nL 224.758125 115.92 \r\nL 224.758125 170.28 \r\nL 157.798125 170.28 \r\nL 157.798125 115.92 \r\n\" style=\"fill:#04051a;\"/>\r\n    <path clip-path=\"url(#p905b50c6e9)\" d=\"M 224.758125 115.92 \r\nL 291.718125 115.92 \r\nL 291.718125 170.28 \r\nL 224.758125 170.28 \r\nL 224.758125 115.92 \r\n\" style=\"fill:#711f57;\"/>\r\n    <path clip-path=\"url(#p905b50c6e9)\" d=\"M 291.718125 115.92 \r\nL 358.678125 115.92 \r\nL 358.678125 170.28 \r\nL 291.718125 170.28 \r\nL 291.718125 115.92 \r\n\" style=\"fill:#07071d;\"/>\r\n    <path clip-path=\"url(#p905b50c6e9)\" d=\"M 358.678125 115.92 \r\nL 425.638125 115.92 \r\nL 425.638125 170.28 \r\nL 358.678125 170.28 \r\nL 358.678125 115.92 \r\n\" style=\"fill:#0d0a21;\"/>\r\n    <path clip-path=\"url(#p905b50c6e9)\" d=\"M 425.638125 115.92 \r\nL 492.598125 115.92 \r\nL 492.598125 170.28 \r\nL 425.638125 170.28 \r\nL 425.638125 115.92 \r\n\" style=\"fill:#180f29;\"/>\r\n    <path clip-path=\"url(#p905b50c6e9)\" d=\"M 492.598125 115.92 \r\nL 559.558125 115.92 \r\nL 559.558125 170.28 \r\nL 492.598125 170.28 \r\nL 492.598125 115.92 \r\n\" style=\"fill:#04051a;\"/>\r\n    <path clip-path=\"url(#p905b50c6e9)\" d=\"M 559.558125 115.92 \r\nL 626.518125 115.92 \r\nL 626.518125 170.28 \r\nL 559.558125 170.28 \r\nL 559.558125 115.92 \r\n\" style=\"fill:#03051a;\"/>\r\n    <path clip-path=\"url(#p905b50c6e9)\" d=\"M 626.518125 115.92 \r\nL 693.478125 115.92 \r\nL 693.478125 170.28 \r\nL 626.518125 170.28 \r\nL 626.518125 115.92 \r\n\" style=\"fill:#06071c;\"/>\r\n    <path clip-path=\"url(#p905b50c6e9)\" d=\"M 693.478125 115.92 \r\nL 760.438125 115.92 \r\nL 760.438125 170.28 \r\nL 693.478125 170.28 \r\nL 693.478125 115.92 \r\n\" style=\"fill:#03051a;\"/>\r\n    <path clip-path=\"url(#p905b50c6e9)\" d=\"M 760.438125 115.92 \r\nL 827.398125 115.92 \r\nL 827.398125 170.28 \r\nL 760.438125 170.28 \r\nL 760.438125 115.92 \r\n\" style=\"fill:#0a091f;\"/>\r\n    <path clip-path=\"url(#p905b50c6e9)\" d=\"M 23.878125 170.28 \r\nL 90.838125 170.28 \r\nL 90.838125 224.64 \r\nL 23.878125 224.64 \r\nL 23.878125 170.28 \r\n\" style=\"fill:#07071d;\"/>\r\n    <path clip-path=\"url(#p905b50c6e9)\" d=\"M 90.838125 170.28 \r\nL 157.798125 170.28 \r\nL 157.798125 224.64 \r\nL 90.838125 224.64 \r\nL 90.838125 170.28 \r\n\" style=\"fill:#faebdd;\"/>\r\n    <path clip-path=\"url(#p905b50c6e9)\" d=\"M 157.798125 170.28 \r\nL 224.758125 170.28 \r\nL 224.758125 224.64 \r\nL 157.798125 224.64 \r\nL 157.798125 170.28 \r\n\" style=\"fill:#04051a;\"/>\r\n    <path clip-path=\"url(#p905b50c6e9)\" d=\"M 224.758125 170.28 \r\nL 291.718125 170.28 \r\nL 291.718125 224.64 \r\nL 224.758125 224.64 \r\nL 224.758125 170.28 \r\n\" style=\"fill:#241432;\"/>\r\n    <path clip-path=\"url(#p905b50c6e9)\" d=\"M 291.718125 170.28 \r\nL 358.678125 170.28 \r\nL 358.678125 224.64 \r\nL 291.718125 224.64 \r\nL 291.718125 170.28 \r\n\" style=\"fill:#04051a;\"/>\r\n    <path clip-path=\"url(#p905b50c6e9)\" d=\"M 358.678125 170.28 \r\nL 425.638125 170.28 \r\nL 425.638125 224.64 \r\nL 358.678125 224.64 \r\nL 358.678125 170.28 \r\n\" style=\"fill:#0b0920;\"/>\r\n    <path clip-path=\"url(#p905b50c6e9)\" d=\"M 425.638125 170.28 \r\nL 492.598125 170.28 \r\nL 492.598125 224.64 \r\nL 425.638125 224.64 \r\nL 425.638125 170.28 \r\n\" style=\"fill:#0b0920;\"/>\r\n    <path clip-path=\"url(#p905b50c6e9)\" d=\"M 492.598125 170.28 \r\nL 559.558125 170.28 \r\nL 559.558125 224.64 \r\nL 492.598125 224.64 \r\nL 492.598125 170.28 \r\n\" style=\"fill:#03051a;\"/>\r\n    <path clip-path=\"url(#p905b50c6e9)\" d=\"M 559.558125 170.28 \r\nL 626.518125 170.28 \r\nL 626.518125 224.64 \r\nL 559.558125 224.64 \r\nL 559.558125 170.28 \r\n\" style=\"fill:#06071c;\"/>\r\n    <path clip-path=\"url(#p905b50c6e9)\" d=\"M 626.518125 170.28 \r\nL 693.478125 170.28 \r\nL 693.478125 224.64 \r\nL 626.518125 224.64 \r\nL 626.518125 170.28 \r\n\" style=\"fill:#2a1636;\"/>\r\n    <path clip-path=\"url(#p905b50c6e9)\" d=\"M 693.478125 170.28 \r\nL 760.438125 170.28 \r\nL 760.438125 224.64 \r\nL 693.478125 224.64 \r\nL 693.478125 170.28 \r\n\" style=\"fill:#0a091f;\"/>\r\n    <path clip-path=\"url(#p905b50c6e9)\" d=\"M 760.438125 170.28 \r\nL 827.398125 170.28 \r\nL 827.398125 224.64 \r\nL 760.438125 224.64 \r\nL 760.438125 170.28 \r\n\" style=\"fill:#221331;\"/>\r\n    <path clip-path=\"url(#p905b50c6e9)\" d=\"M 23.878125 224.64 \r\nL 90.838125 224.64 \r\nL 90.838125 279 \r\nL 23.878125 279 \r\nL 23.878125 224.64 \r\n\" style=\"fill:#ca1a50;\"/>\r\n    <path clip-path=\"url(#p905b50c6e9)\" d=\"M 90.838125 224.64 \r\nL 157.798125 224.64 \r\nL 157.798125 279 \r\nL 90.838125 279 \r\nL 90.838125 224.64 \r\n\" style=\"fill:#100b23;\"/>\r\n    <path clip-path=\"url(#p905b50c6e9)\" d=\"M 157.798125 224.64 \r\nL 224.758125 224.64 \r\nL 224.758125 279 \r\nL 157.798125 279 \r\nL 157.798125 224.64 \r\n\" style=\"fill:#241432;\"/>\r\n    <path clip-path=\"url(#p905b50c6e9)\" d=\"M 224.758125 224.64 \r\nL 291.718125 224.64 \r\nL 291.718125 279 \r\nL 224.758125 279 \r\nL 224.758125 224.64 \r\n\" style=\"fill:#451c47;\"/>\r\n    <path clip-path=\"url(#p905b50c6e9)\" d=\"M 291.718125 224.64 \r\nL 358.678125 224.64 \r\nL 358.678125 279 \r\nL 291.718125 279 \r\nL 291.718125 224.64 \r\n\" style=\"fill:#2b1637;\"/>\r\n    <path clip-path=\"url(#p905b50c6e9)\" d=\"M 358.678125 224.64 \r\nL 425.638125 224.64 \r\nL 425.638125 279 \r\nL 358.678125 279 \r\nL 358.678125 224.64 \r\n\" style=\"fill:#110c24;\"/>\r\n    <path clip-path=\"url(#p905b50c6e9)\" d=\"M 425.638125 224.64 \r\nL 492.598125 224.64 \r\nL 492.598125 279 \r\nL 425.638125 279 \r\nL 425.638125 224.64 \r\n\" style=\"fill:#0d0a21;\"/>\r\n    <path clip-path=\"url(#p905b50c6e9)\" d=\"M 492.598125 224.64 \r\nL 559.558125 224.64 \r\nL 559.558125 279 \r\nL 492.598125 279 \r\nL 492.598125 224.64 \r\n\" style=\"fill:#08081e;\"/>\r\n    <path clip-path=\"url(#p905b50c6e9)\" d=\"M 559.558125 224.64 \r\nL 626.518125 224.64 \r\nL 626.518125 279 \r\nL 559.558125 279 \r\nL 559.558125 224.64 \r\n\" style=\"fill:#08081e;\"/>\r\n    <path clip-path=\"url(#p905b50c6e9)\" d=\"M 626.518125 224.64 \r\nL 693.478125 224.64 \r\nL 693.478125 279 \r\nL 626.518125 279 \r\nL 626.518125 224.64 \r\n\" style=\"fill:#401b44;\"/>\r\n    <path clip-path=\"url(#p905b50c6e9)\" d=\"M 693.478125 224.64 \r\nL 760.438125 224.64 \r\nL 760.438125 279 \r\nL 693.478125 279 \r\nL 693.478125 224.64 \r\n\" style=\"fill:#05061b;\"/>\r\n    <path clip-path=\"url(#p905b50c6e9)\" d=\"M 760.438125 224.64 \r\nL 827.398125 224.64 \r\nL 827.398125 279 \r\nL 760.438125 279 \r\nL 760.438125 224.64 \r\n\" style=\"fill:#491d49;\"/>\r\n    <path clip-path=\"url(#p905b50c6e9)\" d=\"M 23.878125 279 \r\nL 90.838125 279 \r\nL 90.838125 333.36 \r\nL 23.878125 333.36 \r\nL 23.878125 279 \r\n\" style=\"fill:#0a091f;\"/>\r\n    <path clip-path=\"url(#p905b50c6e9)\" d=\"M 90.838125 279 \r\nL 157.798125 279 \r\nL 157.798125 333.36 \r\nL 90.838125 333.36 \r\nL 90.838125 279 \r\n\" style=\"fill:#cd1c4e;\"/>\r\n    <path clip-path=\"url(#p905b50c6e9)\" d=\"M 157.798125 279 \r\nL 224.758125 279 \r\nL 224.758125 333.36 \r\nL 157.798125 333.36 \r\nL 157.798125 279 \r\n\" style=\"fill:#03051a;\"/>\r\n    <path clip-path=\"url(#p905b50c6e9)\" d=\"M 224.758125 279 \r\nL 291.718125 279 \r\nL 291.718125 333.36 \r\nL 224.758125 333.36 \r\nL 224.758125 279 \r\n\" style=\"fill:#130d25;\"/>\r\n    <path clip-path=\"url(#p905b50c6e9)\" d=\"M 291.718125 279 \r\nL 358.678125 279 \r\nL 358.678125 333.36 \r\nL 291.718125 333.36 \r\nL 291.718125 279 \r\n\" style=\"fill:#03051a;\"/>\r\n    <path clip-path=\"url(#p905b50c6e9)\" d=\"M 358.678125 279 \r\nL 425.638125 279 \r\nL 425.638125 333.36 \r\nL 358.678125 333.36 \r\nL 358.678125 279 \r\n\" style=\"fill:#641f54;\"/>\r\n    <path clip-path=\"url(#p905b50c6e9)\" d=\"M 425.638125 279 \r\nL 492.598125 279 \r\nL 492.598125 333.36 \r\nL 425.638125 333.36 \r\nL 425.638125 279 \r\n\" style=\"fill:#761f58;\"/>\r\n    <path clip-path=\"url(#p905b50c6e9)\" d=\"M 492.598125 279 \r\nL 559.558125 279 \r\nL 559.558125 333.36 \r\nL 492.598125 333.36 \r\nL 492.598125 279 \r\n\" style=\"fill:#03051a;\"/>\r\n    <path clip-path=\"url(#p905b50c6e9)\" d=\"M 559.558125 279 \r\nL 626.518125 279 \r\nL 626.518125 333.36 \r\nL 559.558125 333.36 \r\nL 559.558125 279 \r\n\" style=\"fill:#0e0b22;\"/>\r\n    <path clip-path=\"url(#p905b50c6e9)\" d=\"M 626.518125 279 \r\nL 693.478125 279 \r\nL 693.478125 333.36 \r\nL 626.518125 333.36 \r\nL 626.518125 279 \r\n\" style=\"fill:#140e26;\"/>\r\n    <path clip-path=\"url(#p905b50c6e9)\" d=\"M 693.478125 279 \r\nL 760.438125 279 \r\nL 760.438125 333.36 \r\nL 693.478125 333.36 \r\nL 693.478125 279 \r\n\" style=\"fill:#07071d;\"/>\r\n    <path clip-path=\"url(#p905b50c6e9)\" d=\"M 760.438125 279 \r\nL 827.398125 279 \r\nL 827.398125 333.36 \r\nL 760.438125 333.36 \r\nL 760.438125 279 \r\n\" style=\"fill:#3f1b43;\"/>\r\n    <path clip-path=\"url(#p905b50c6e9)\" d=\"M 23.878125 333.36 \r\nL 90.838125 333.36 \r\nL 90.838125 387.72 \r\nL 23.878125 387.72 \r\nL 23.878125 333.36 \r\n\" style=\"fill:#711f57;\"/>\r\n    <path clip-path=\"url(#p905b50c6e9)\" d=\"M 90.838125 333.36 \r\nL 157.798125 333.36 \r\nL 157.798125 387.72 \r\nL 90.838125 387.72 \r\nL 90.838125 333.36 \r\n\" style=\"fill:#211330;\"/>\r\n    <path clip-path=\"url(#p905b50c6e9)\" d=\"M 157.798125 333.36 \r\nL 224.758125 333.36 \r\nL 224.758125 387.72 \r\nL 157.798125 387.72 \r\nL 157.798125 333.36 \r\n\" style=\"fill:#1e122d;\"/>\r\n    <path clip-path=\"url(#p905b50c6e9)\" d=\"M 224.758125 333.36 \r\nL 291.718125 333.36 \r\nL 291.718125 387.72 \r\nL 224.758125 387.72 \r\nL 224.758125 333.36 \r\n\" style=\"fill:#0a091f;\"/>\r\n    <path clip-path=\"url(#p905b50c6e9)\" d=\"M 291.718125 333.36 \r\nL 358.678125 333.36 \r\nL 358.678125 387.72 \r\nL 291.718125 387.72 \r\nL 291.718125 333.36 \r\n\" style=\"fill:#0e0b22;\"/>\r\n    <path clip-path=\"url(#p905b50c6e9)\" d=\"M 358.678125 333.36 \r\nL 425.638125 333.36 \r\nL 425.638125 387.72 \r\nL 358.678125 387.72 \r\nL 358.678125 333.36 \r\n\" style=\"fill:#03051a;\"/>\r\n    <path clip-path=\"url(#p905b50c6e9)\" d=\"M 425.638125 333.36 \r\nL 492.598125 333.36 \r\nL 492.598125 387.72 \r\nL 425.638125 387.72 \r\nL 425.638125 333.36 \r\n\" style=\"fill:#271534;\"/>\r\n    <path clip-path=\"url(#p905b50c6e9)\" d=\"M 492.598125 333.36 \r\nL 559.558125 333.36 \r\nL 559.558125 387.72 \r\nL 492.598125 387.72 \r\nL 492.598125 333.36 \r\n\" style=\"fill:#1e122d;\"/>\r\n    <path clip-path=\"url(#p905b50c6e9)\" d=\"M 559.558125 333.36 \r\nL 626.518125 333.36 \r\nL 626.518125 387.72 \r\nL 559.558125 387.72 \r\nL 559.558125 333.36 \r\n\" style=\"fill:#661f54;\"/>\r\n    <path clip-path=\"url(#p905b50c6e9)\" d=\"M 626.518125 333.36 \r\nL 693.478125 333.36 \r\nL 693.478125 387.72 \r\nL 626.518125 387.72 \r\nL 626.518125 333.36 \r\n\" style=\"fill:#4e1d4b;\"/>\r\n    <path clip-path=\"url(#p905b50c6e9)\" d=\"M 693.478125 333.36 \r\nL 760.438125 333.36 \r\nL 760.438125 387.72 \r\nL 693.478125 387.72 \r\nL 693.478125 333.36 \r\n\" style=\"fill:#06071c;\"/>\r\n    <path clip-path=\"url(#p905b50c6e9)\" d=\"M 760.438125 333.36 \r\nL 827.398125 333.36 \r\nL 827.398125 387.72 \r\nL 760.438125 387.72 \r\nL 760.438125 333.36 \r\n\" style=\"fill:#591e50;\"/>\r\n    <path clip-path=\"url(#p905b50c6e9)\" d=\"M 23.878125 387.72 \r\nL 90.838125 387.72 \r\nL 90.838125 442.08 \r\nL 23.878125 442.08 \r\nL 23.878125 387.72 \r\n\" style=\"fill:#f26d4b;\"/>\r\n    <path clip-path=\"url(#p905b50c6e9)\" d=\"M 90.838125 387.72 \r\nL 157.798125 387.72 \r\nL 157.798125 442.08 \r\nL 90.838125 442.08 \r\nL 90.838125 387.72 \r\n\" style=\"fill:#751f58;\"/>\r\n    <path clip-path=\"url(#p905b50c6e9)\" d=\"M 157.798125 387.72 \r\nL 224.758125 387.72 \r\nL 224.758125 442.08 \r\nL 157.798125 442.08 \r\nL 157.798125 387.72 \r\n\" style=\"fill:#06071c;\"/>\r\n    <path clip-path=\"url(#p905b50c6e9)\" d=\"M 224.758125 387.72 \r\nL 291.718125 387.72 \r\nL 291.718125 442.08 \r\nL 224.758125 442.08 \r\nL 224.758125 387.72 \r\n\" style=\"fill:#271534;\"/>\r\n    <path clip-path=\"url(#p905b50c6e9)\" d=\"M 291.718125 387.72 \r\nL 358.678125 387.72 \r\nL 358.678125 442.08 \r\nL 291.718125 442.08 \r\nL 291.718125 387.72 \r\n\" style=\"fill:#130d25;\"/>\r\n    <path clip-path=\"url(#p905b50c6e9)\" d=\"M 358.678125 387.72 \r\nL 425.638125 387.72 \r\nL 425.638125 442.08 \r\nL 358.678125 442.08 \r\nL 358.678125 387.72 \r\n\" style=\"fill:#05061b;\"/>\r\n    <path clip-path=\"url(#p905b50c6e9)\" d=\"M 425.638125 387.72 \r\nL 492.598125 387.72 \r\nL 492.598125 442.08 \r\nL 425.638125 442.08 \r\nL 425.638125 387.72 \r\n\" style=\"fill:#33183c;\"/>\r\n    <path clip-path=\"url(#p905b50c6e9)\" d=\"M 492.598125 387.72 \r\nL 559.558125 387.72 \r\nL 559.558125 442.08 \r\nL 492.598125 442.08 \r\nL 492.598125 387.72 \r\n\" style=\"fill:#05061b;\"/>\r\n    <path clip-path=\"url(#p905b50c6e9)\" d=\"M 559.558125 387.72 \r\nL 626.518125 387.72 \r\nL 626.518125 442.08 \r\nL 559.558125 442.08 \r\nL 559.558125 387.72 \r\n\" style=\"fill:#07071d;\"/>\r\n    <path clip-path=\"url(#p905b50c6e9)\" d=\"M 626.518125 387.72 \r\nL 693.478125 387.72 \r\nL 693.478125 442.08 \r\nL 626.518125 442.08 \r\nL 626.518125 387.72 \r\n\" style=\"fill:#0d0a21;\"/>\r\n    <path clip-path=\"url(#p905b50c6e9)\" d=\"M 693.478125 387.72 \r\nL 760.438125 387.72 \r\nL 760.438125 442.08 \r\nL 693.478125 442.08 \r\nL 693.478125 387.72 \r\n\" style=\"fill:#04051a;\"/>\r\n    <path clip-path=\"url(#p905b50c6e9)\" d=\"M 760.438125 387.72 \r\nL 827.398125 387.72 \r\nL 827.398125 442.08 \r\nL 760.438125 442.08 \r\nL 760.438125 387.72 \r\n\" style=\"fill:#170f28;\"/>\r\n    <path clip-path=\"url(#p905b50c6e9)\" d=\"M 23.878125 442.08 \r\nL 90.838125 442.08 \r\nL 90.838125 496.44 \r\nL 23.878125 496.44 \r\nL 23.878125 442.08 \r\n\" style=\"fill:#e23442;\"/>\r\n    <path clip-path=\"url(#p905b50c6e9)\" d=\"M 90.838125 442.08 \r\nL 157.798125 442.08 \r\nL 157.798125 496.44 \r\nL 90.838125 496.44 \r\nL 90.838125 442.08 \r\n\" style=\"fill:#8b1d5b;\"/>\r\n    <path clip-path=\"url(#p905b50c6e9)\" d=\"M 157.798125 442.08 \r\nL 224.758125 442.08 \r\nL 224.758125 496.44 \r\nL 157.798125 496.44 \r\nL 157.798125 442.08 \r\n\" style=\"fill:#381a40;\"/>\r\n    <path clip-path=\"url(#p905b50c6e9)\" d=\"M 224.758125 442.08 \r\nL 291.718125 442.08 \r\nL 291.718125 496.44 \r\nL 224.758125 496.44 \r\nL 224.758125 442.08 \r\n\" style=\"fill:#2e1739;\"/>\r\n    <path clip-path=\"url(#p905b50c6e9)\" d=\"M 291.718125 442.08 \r\nL 358.678125 442.08 \r\nL 358.678125 496.44 \r\nL 291.718125 496.44 \r\nL 291.718125 442.08 \r\n\" style=\"fill:#06071c;\"/>\r\n    <path clip-path=\"url(#p905b50c6e9)\" d=\"M 358.678125 442.08 \r\nL 425.638125 442.08 \r\nL 425.638125 496.44 \r\nL 358.678125 496.44 \r\nL 358.678125 442.08 \r\n\" style=\"fill:#1e122d;\"/>\r\n    <path clip-path=\"url(#p905b50c6e9)\" d=\"M 425.638125 442.08 \r\nL 492.598125 442.08 \r\nL 492.598125 496.44 \r\nL 425.638125 496.44 \r\nL 425.638125 442.08 \r\n\" style=\"fill:#07071d;\"/>\r\n    <path clip-path=\"url(#p905b50c6e9)\" d=\"M 492.598125 442.08 \r\nL 559.558125 442.08 \r\nL 559.558125 496.44 \r\nL 492.598125 496.44 \r\nL 492.598125 442.08 \r\n\" style=\"fill:#08081e;\"/>\r\n    <path clip-path=\"url(#p905b50c6e9)\" d=\"M 559.558125 442.08 \r\nL 626.518125 442.08 \r\nL 626.518125 496.44 \r\nL 559.558125 496.44 \r\nL 559.558125 442.08 \r\n\" style=\"fill:#03051a;\"/>\r\n    <path clip-path=\"url(#p905b50c6e9)\" d=\"M 626.518125 442.08 \r\nL 693.478125 442.08 \r\nL 693.478125 496.44 \r\nL 626.518125 496.44 \r\nL 626.518125 442.08 \r\n\" style=\"fill:#0b0920;\"/>\r\n    <path clip-path=\"url(#p905b50c6e9)\" d=\"M 693.478125 442.08 \r\nL 760.438125 442.08 \r\nL 760.438125 496.44 \r\nL 693.478125 496.44 \r\nL 693.478125 442.08 \r\n\" style=\"fill:#03051a;\"/>\r\n    <path clip-path=\"url(#p905b50c6e9)\" d=\"M 760.438125 442.08 \r\nL 827.398125 442.08 \r\nL 827.398125 496.44 \r\nL 760.438125 496.44 \r\nL 760.438125 442.08 \r\n\" style=\"fill:#170f28;\"/>\r\n    <path clip-path=\"url(#p905b50c6e9)\" d=\"M 23.878125 496.44 \r\nL 90.838125 496.44 \r\nL 90.838125 550.8 \r\nL 23.878125 550.8 \r\nL 23.878125 496.44 \r\n\" style=\"fill:#05061b;\"/>\r\n    <path clip-path=\"url(#p905b50c6e9)\" d=\"M 90.838125 496.44 \r\nL 157.798125 496.44 \r\nL 157.798125 550.8 \r\nL 90.838125 550.8 \r\nL 90.838125 496.44 \r\n\" style=\"fill:#ba1656;\"/>\r\n    <path clip-path=\"url(#p905b50c6e9)\" d=\"M 157.798125 496.44 \r\nL 224.758125 496.44 \r\nL 224.758125 550.8 \r\nL 157.798125 550.8 \r\nL 157.798125 496.44 \r\n\" style=\"fill:#bc1656;\"/>\r\n    <path clip-path=\"url(#p905b50c6e9)\" d=\"M 224.758125 496.44 \r\nL 291.718125 496.44 \r\nL 291.718125 550.8 \r\nL 224.758125 550.8 \r\nL 224.758125 496.44 \r\n\" style=\"fill:#381a40;\"/>\r\n    <path clip-path=\"url(#p905b50c6e9)\" d=\"M 291.718125 496.44 \r\nL 358.678125 496.44 \r\nL 358.678125 550.8 \r\nL 291.718125 550.8 \r\nL 291.718125 496.44 \r\n\" style=\"fill:#07071d;\"/>\r\n    <path clip-path=\"url(#p905b50c6e9)\" d=\"M 358.678125 496.44 \r\nL 425.638125 496.44 \r\nL 425.638125 550.8 \r\nL 358.678125 550.8 \r\nL 358.678125 496.44 \r\n\" style=\"fill:#221331;\"/>\r\n    <path clip-path=\"url(#p905b50c6e9)\" d=\"M 425.638125 496.44 \r\nL 492.598125 496.44 \r\nL 492.598125 550.8 \r\nL 425.638125 550.8 \r\nL 425.638125 496.44 \r\n\" style=\"fill:#130d25;\"/>\r\n    <path clip-path=\"url(#p905b50c6e9)\" d=\"M 492.598125 496.44 \r\nL 559.558125 496.44 \r\nL 559.558125 550.8 \r\nL 492.598125 550.8 \r\nL 492.598125 496.44 \r\n\" style=\"fill:#251433;\"/>\r\n    <path clip-path=\"url(#p905b50c6e9)\" d=\"M 559.558125 496.44 \r\nL 626.518125 496.44 \r\nL 626.518125 550.8 \r\nL 559.558125 550.8 \r\nL 559.558125 496.44 \r\n\" style=\"fill:#03051a;\"/>\r\n    <path clip-path=\"url(#p905b50c6e9)\" d=\"M 626.518125 496.44 \r\nL 693.478125 496.44 \r\nL 693.478125 550.8 \r\nL 626.518125 550.8 \r\nL 626.518125 496.44 \r\n\" style=\"fill:#0a091f;\"/>\r\n    <path clip-path=\"url(#p905b50c6e9)\" d=\"M 693.478125 496.44 \r\nL 760.438125 496.44 \r\nL 760.438125 550.8 \r\nL 693.478125 550.8 \r\nL 693.478125 496.44 \r\n\" style=\"fill:#03051a;\"/>\r\n    <path clip-path=\"url(#p905b50c6e9)\" d=\"M 760.438125 496.44 \r\nL 827.398125 496.44 \r\nL 827.398125 550.8 \r\nL 760.438125 550.8 \r\nL 760.438125 496.44 \r\n\" style=\"fill:#160e27;\"/>\r\n    <path clip-path=\"url(#p905b50c6e9)\" d=\"M 23.878125 550.8 \r\nL 90.838125 550.8 \r\nL 90.838125 605.16 \r\nL 23.878125 605.16 \r\nL 23.878125 550.8 \r\n\" style=\"fill:#561e4f;\"/>\r\n    <path clip-path=\"url(#p905b50c6e9)\" d=\"M 90.838125 550.8 \r\nL 157.798125 550.8 \r\nL 157.798125 605.16 \r\nL 90.838125 605.16 \r\nL 90.838125 550.8 \r\n\" style=\"fill:#cb1b4f;\"/>\r\n    <path clip-path=\"url(#p905b50c6e9)\" d=\"M 157.798125 550.8 \r\nL 224.758125 550.8 \r\nL 224.758125 605.16 \r\nL 157.798125 605.16 \r\nL 157.798125 550.8 \r\n\" style=\"fill:#3f1b43;\"/>\r\n    <path clip-path=\"url(#p905b50c6e9)\" d=\"M 224.758125 550.8 \r\nL 291.718125 550.8 \r\nL 291.718125 605.16 \r\nL 224.758125 605.16 \r\nL 224.758125 550.8 \r\n\" style=\"fill:#401b44;\"/>\r\n    <path clip-path=\"url(#p905b50c6e9)\" d=\"M 291.718125 550.8 \r\nL 358.678125 550.8 \r\nL 358.678125 605.16 \r\nL 291.718125 605.16 \r\nL 291.718125 550.8 \r\n\" style=\"fill:#1d112c;\"/>\r\n    <path clip-path=\"url(#p905b50c6e9)\" d=\"M 358.678125 550.8 \r\nL 425.638125 550.8 \r\nL 425.638125 605.16 \r\nL 358.678125 605.16 \r\nL 358.678125 550.8 \r\n\" style=\"fill:#160e27;\"/>\r\n    <path clip-path=\"url(#p905b50c6e9)\" d=\"M 425.638125 550.8 \r\nL 492.598125 550.8 \r\nL 492.598125 605.16 \r\nL 425.638125 605.16 \r\nL 425.638125 550.8 \r\n\" style=\"fill:#05061b;\"/>\r\n    <path clip-path=\"url(#p905b50c6e9)\" d=\"M 492.598125 550.8 \r\nL 559.558125 550.8 \r\nL 559.558125 605.16 \r\nL 492.598125 605.16 \r\nL 492.598125 550.8 \r\n\" style=\"fill:#20122e;\"/>\r\n    <path clip-path=\"url(#p905b50c6e9)\" d=\"M 559.558125 550.8 \r\nL 626.518125 550.8 \r\nL 626.518125 605.16 \r\nL 559.558125 605.16 \r\nL 559.558125 550.8 \r\n\" style=\"fill:#04051a;\"/>\r\n    <path clip-path=\"url(#p905b50c6e9)\" d=\"M 626.518125 550.8 \r\nL 693.478125 550.8 \r\nL 693.478125 605.16 \r\nL 626.518125 605.16 \r\nL 626.518125 550.8 \r\n\" style=\"fill:#1e122d;\"/>\r\n    <path clip-path=\"url(#p905b50c6e9)\" d=\"M 693.478125 550.8 \r\nL 760.438125 550.8 \r\nL 760.438125 605.16 \r\nL 693.478125 605.16 \r\nL 693.478125 550.8 \r\n\" style=\"fill:#03051a;\"/>\r\n    <path clip-path=\"url(#p905b50c6e9)\" d=\"M 760.438125 550.8 \r\nL 827.398125 550.8 \r\nL 827.398125 605.16 \r\nL 760.438125 605.16 \r\nL 760.438125 550.8 \r\n\" style=\"fill:#130d25;\"/>\r\n    <path clip-path=\"url(#p905b50c6e9)\" d=\"M 23.878125 605.16 \r\nL 90.838125 605.16 \r\nL 90.838125 659.52 \r\nL 23.878125 659.52 \r\nL 23.878125 605.16 \r\n\" style=\"fill:#30173a;\"/>\r\n    <path clip-path=\"url(#p905b50c6e9)\" d=\"M 90.838125 605.16 \r\nL 157.798125 605.16 \r\nL 157.798125 659.52 \r\nL 90.838125 659.52 \r\nL 90.838125 605.16 \r\n\" style=\"fill:#7d1f5a;\"/>\r\n    <path clip-path=\"url(#p905b50c6e9)\" d=\"M 157.798125 605.16 \r\nL 224.758125 605.16 \r\nL 224.758125 659.52 \r\nL 157.798125 659.52 \r\nL 157.798125 605.16 \r\n\" style=\"fill:#601f52;\"/>\r\n    <path clip-path=\"url(#p905b50c6e9)\" d=\"M 224.758125 605.16 \r\nL 291.718125 605.16 \r\nL 291.718125 659.52 \r\nL 224.758125 659.52 \r\nL 224.758125 605.16 \r\n\" style=\"fill:#180f29;\"/>\r\n    <path clip-path=\"url(#p905b50c6e9)\" d=\"M 291.718125 605.16 \r\nL 358.678125 605.16 \r\nL 358.678125 659.52 \r\nL 291.718125 659.52 \r\nL 291.718125 605.16 \r\n\" style=\"fill:#1b112b;\"/>\r\n    <path clip-path=\"url(#p905b50c6e9)\" d=\"M 358.678125 605.16 \r\nL 425.638125 605.16 \r\nL 425.638125 659.52 \r\nL 358.678125 659.52 \r\nL 358.678125 605.16 \r\n\" style=\"fill:#2b1637;\"/>\r\n    <path clip-path=\"url(#p905b50c6e9)\" d=\"M 425.638125 605.16 \r\nL 492.598125 605.16 \r\nL 492.598125 659.52 \r\nL 425.638125 659.52 \r\nL 425.638125 605.16 \r\n\" style=\"fill:#0e0b22;\"/>\r\n    <path clip-path=\"url(#p905b50c6e9)\" d=\"M 492.598125 605.16 \r\nL 559.558125 605.16 \r\nL 559.558125 659.52 \r\nL 492.598125 659.52 \r\nL 492.598125 605.16 \r\n\" style=\"fill:#221331;\"/>\r\n    <path clip-path=\"url(#p905b50c6e9)\" d=\"M 559.558125 605.16 \r\nL 626.518125 605.16 \r\nL 626.518125 659.52 \r\nL 559.558125 659.52 \r\nL 559.558125 605.16 \r\n\" style=\"fill:#03051a;\"/>\r\n    <path clip-path=\"url(#p905b50c6e9)\" d=\"M 626.518125 605.16 \r\nL 693.478125 605.16 \r\nL 693.478125 659.52 \r\nL 626.518125 659.52 \r\nL 626.518125 605.16 \r\n\" style=\"fill:#31183b;\"/>\r\n    <path clip-path=\"url(#p905b50c6e9)\" d=\"M 693.478125 605.16 \r\nL 760.438125 605.16 \r\nL 760.438125 659.52 \r\nL 693.478125 659.52 \r\nL 693.478125 605.16 \r\n\" style=\"fill:#20122e;\"/>\r\n    <path clip-path=\"url(#p905b50c6e9)\" d=\"M 760.438125 605.16 \r\nL 827.398125 605.16 \r\nL 827.398125 659.52 \r\nL 760.438125 659.52 \r\nL 760.438125 605.16 \r\n\" style=\"fill:#33183c;\"/>\r\n   </g>\r\n   <g id=\"matplotlib.axis_1\">\r\n    <g id=\"xtick_1\">\r\n     <g id=\"line2d_1\">\r\n      <defs>\r\n       <path d=\"M 0 0 \r\nL 0 3.5 \r\n\" id=\"mf43f3fa4b8\" style=\"stroke:#000000;stroke-width:0.8;\"/>\r\n      </defs>\r\n      <g>\r\n       <use style=\"stroke:#000000;stroke-width:0.8;\" x=\"57.358125\" xlink:href=\"#mf43f3fa4b8\" y=\"659.52\"/>\r\n      </g>\r\n     </g>\r\n     <g id=\"text_1\">\r\n      <!-- VERB -->\r\n      <g transform=\"translate(43.87375 674.118438)scale(0.1 -0.1)\">\r\n       <defs>\r\n        <path d=\"M 28.609375 0 \r\nL 0.78125 72.90625 \r\nL 11.078125 72.90625 \r\nL 34.1875 11.53125 \r\nL 57.328125 72.90625 \r\nL 67.578125 72.90625 \r\nL 39.796875 0 \r\nz\r\n\" id=\"DejaVuSans-86\"/>\r\n        <path d=\"M 9.8125 72.90625 \r\nL 55.90625 72.90625 \r\nL 55.90625 64.59375 \r\nL 19.671875 64.59375 \r\nL 19.671875 43.015625 \r\nL 54.390625 43.015625 \r\nL 54.390625 34.71875 \r\nL 19.671875 34.71875 \r\nL 19.671875 8.296875 \r\nL 56.78125 8.296875 \r\nL 56.78125 0 \r\nL 9.8125 0 \r\nz\r\n\" id=\"DejaVuSans-69\"/>\r\n        <path d=\"M 44.390625 34.1875 \r\nQ 47.5625 33.109375 50.5625 29.59375 \r\nQ 53.5625 26.078125 56.59375 19.921875 \r\nL 66.609375 0 \r\nL 56 0 \r\nL 46.6875 18.703125 \r\nQ 43.0625 26.03125 39.671875 28.421875 \r\nQ 36.28125 30.8125 30.421875 30.8125 \r\nL 19.671875 30.8125 \r\nL 19.671875 0 \r\nL 9.8125 0 \r\nL 9.8125 72.90625 \r\nL 32.078125 72.90625 \r\nQ 44.578125 72.90625 50.734375 67.671875 \r\nQ 56.890625 62.453125 56.890625 51.90625 \r\nQ 56.890625 45.015625 53.6875 40.46875 \r\nQ 50.484375 35.9375 44.390625 34.1875 \r\nz\r\nM 19.671875 64.796875 \r\nL 19.671875 38.921875 \r\nL 32.078125 38.921875 \r\nQ 39.203125 38.921875 42.84375 42.21875 \r\nQ 46.484375 45.515625 46.484375 51.90625 \r\nQ 46.484375 58.296875 42.84375 61.546875 \r\nQ 39.203125 64.796875 32.078125 64.796875 \r\nz\r\n\" id=\"DejaVuSans-82\"/>\r\n        <path d=\"M 19.671875 34.8125 \r\nL 19.671875 8.109375 \r\nL 35.5 8.109375 \r\nQ 43.453125 8.109375 47.28125 11.40625 \r\nQ 51.125 14.703125 51.125 21.484375 \r\nQ 51.125 28.328125 47.28125 31.5625 \r\nQ 43.453125 34.8125 35.5 34.8125 \r\nz\r\nM 19.671875 64.796875 \r\nL 19.671875 42.828125 \r\nL 34.28125 42.828125 \r\nQ 41.5 42.828125 45.03125 45.53125 \r\nQ 48.578125 48.25 48.578125 53.8125 \r\nQ 48.578125 59.328125 45.03125 62.0625 \r\nQ 41.5 64.796875 34.28125 64.796875 \r\nz\r\nM 9.8125 72.90625 \r\nL 35.015625 72.90625 \r\nQ 46.296875 72.90625 52.390625 68.21875 \r\nQ 58.5 63.53125 58.5 54.890625 \r\nQ 58.5 48.1875 55.375 44.234375 \r\nQ 52.25 40.28125 46.1875 39.3125 \r\nQ 53.46875 37.75 57.5 32.78125 \r\nQ 61.53125 27.828125 61.53125 20.40625 \r\nQ 61.53125 10.640625 54.890625 5.3125 \r\nQ 48.25 0 35.984375 0 \r\nL 9.8125 0 \r\nz\r\n\" id=\"DejaVuSans-66\"/>\r\n       </defs>\r\n       <use xlink:href=\"#DejaVuSans-86\"/>\r\n       <use x=\"68.408203\" xlink:href=\"#DejaVuSans-69\"/>\r\n       <use x=\"131.591797\" xlink:href=\"#DejaVuSans-82\"/>\r\n       <use x=\"201.074219\" xlink:href=\"#DejaVuSans-66\"/>\r\n      </g>\r\n     </g>\r\n    </g>\r\n    <g id=\"xtick_2\">\r\n     <g id=\"line2d_2\">\r\n      <g>\r\n       <use style=\"stroke:#000000;stroke-width:0.8;\" x=\"124.318125\" xlink:href=\"#mf43f3fa4b8\" y=\"659.52\"/>\r\n      </g>\r\n     </g>\r\n     <g id=\"text_2\">\r\n      <!-- NOUN -->\r\n      <g transform=\"translate(109.241562 674.118438)scale(0.1 -0.1)\">\r\n       <defs>\r\n        <path d=\"M 9.8125 72.90625 \r\nL 23.09375 72.90625 \r\nL 55.421875 11.921875 \r\nL 55.421875 72.90625 \r\nL 64.984375 72.90625 \r\nL 64.984375 0 \r\nL 51.703125 0 \r\nL 19.390625 60.984375 \r\nL 19.390625 0 \r\nL 9.8125 0 \r\nz\r\n\" id=\"DejaVuSans-78\"/>\r\n        <path d=\"M 39.40625 66.21875 \r\nQ 28.65625 66.21875 22.328125 58.203125 \r\nQ 16.015625 50.203125 16.015625 36.375 \r\nQ 16.015625 22.609375 22.328125 14.59375 \r\nQ 28.65625 6.59375 39.40625 6.59375 \r\nQ 50.140625 6.59375 56.421875 14.59375 \r\nQ 62.703125 22.609375 62.703125 36.375 \r\nQ 62.703125 50.203125 56.421875 58.203125 \r\nQ 50.140625 66.21875 39.40625 66.21875 \r\nz\r\nM 39.40625 74.21875 \r\nQ 54.734375 74.21875 63.90625 63.9375 \r\nQ 73.09375 53.65625 73.09375 36.375 \r\nQ 73.09375 19.140625 63.90625 8.859375 \r\nQ 54.734375 -1.421875 39.40625 -1.421875 \r\nQ 24.03125 -1.421875 14.8125 8.828125 \r\nQ 5.609375 19.09375 5.609375 36.375 \r\nQ 5.609375 53.65625 14.8125 63.9375 \r\nQ 24.03125 74.21875 39.40625 74.21875 \r\nz\r\n\" id=\"DejaVuSans-79\"/>\r\n        <path d=\"M 8.6875 72.90625 \r\nL 18.609375 72.90625 \r\nL 18.609375 28.609375 \r\nQ 18.609375 16.890625 22.84375 11.734375 \r\nQ 27.09375 6.59375 36.625 6.59375 \r\nQ 46.09375 6.59375 50.34375 11.734375 \r\nQ 54.59375 16.890625 54.59375 28.609375 \r\nL 54.59375 72.90625 \r\nL 64.5 72.90625 \r\nL 64.5 27.390625 \r\nQ 64.5 13.140625 57.4375 5.859375 \r\nQ 50.390625 -1.421875 36.625 -1.421875 \r\nQ 22.796875 -1.421875 15.734375 5.859375 \r\nQ 8.6875 13.140625 8.6875 27.390625 \r\nz\r\n\" id=\"DejaVuSans-85\"/>\r\n       </defs>\r\n       <use xlink:href=\"#DejaVuSans-78\"/>\r\n       <use x=\"74.804688\" xlink:href=\"#DejaVuSans-79\"/>\r\n       <use x=\"153.515625\" xlink:href=\"#DejaVuSans-85\"/>\r\n       <use x=\"226.708984\" xlink:href=\"#DejaVuSans-78\"/>\r\n      </g>\r\n     </g>\r\n    </g>\r\n    <g id=\"xtick_3\">\r\n     <g id=\"line2d_3\">\r\n      <g>\r\n       <use style=\"stroke:#000000;stroke-width:0.8;\" x=\"191.278125\" xlink:href=\"#mf43f3fa4b8\" y=\"659.52\"/>\r\n      </g>\r\n     </g>\r\n     <g id=\"text_3\">\r\n      <!-- DET -->\r\n      <g transform=\"translate(181.214844 674.118438)scale(0.1 -0.1)\">\r\n       <defs>\r\n        <path d=\"M 19.671875 64.796875 \r\nL 19.671875 8.109375 \r\nL 31.59375 8.109375 \r\nQ 46.6875 8.109375 53.6875 14.9375 \r\nQ 60.6875 21.78125 60.6875 36.53125 \r\nQ 60.6875 51.171875 53.6875 57.984375 \r\nQ 46.6875 64.796875 31.59375 64.796875 \r\nz\r\nM 9.8125 72.90625 \r\nL 30.078125 72.90625 \r\nQ 51.265625 72.90625 61.171875 64.09375 \r\nQ 71.09375 55.28125 71.09375 36.53125 \r\nQ 71.09375 17.671875 61.125 8.828125 \r\nQ 51.171875 0 30.078125 0 \r\nL 9.8125 0 \r\nz\r\n\" id=\"DejaVuSans-68\"/>\r\n        <path d=\"M -0.296875 72.90625 \r\nL 61.375 72.90625 \r\nL 61.375 64.59375 \r\nL 35.5 64.59375 \r\nL 35.5 0 \r\nL 25.59375 0 \r\nL 25.59375 64.59375 \r\nL -0.296875 64.59375 \r\nz\r\n\" id=\"DejaVuSans-84\"/>\r\n       </defs>\r\n       <use xlink:href=\"#DejaVuSans-68\"/>\r\n       <use x=\"77.001953\" xlink:href=\"#DejaVuSans-69\"/>\r\n       <use x=\"140.185547\" xlink:href=\"#DejaVuSans-84\"/>\r\n      </g>\r\n     </g>\r\n    </g>\r\n    <g id=\"xtick_4\">\r\n     <g id=\"line2d_4\">\r\n      <g>\r\n       <use style=\"stroke:#000000;stroke-width:0.8;\" x=\"258.238125\" xlink:href=\"#mf43f3fa4b8\" y=\"659.52\"/>\r\n      </g>\r\n     </g>\r\n     <g id=\"text_4\">\r\n      <!-- ADJ -->\r\n      <g transform=\"translate(249.492812 674.118438)scale(0.1 -0.1)\">\r\n       <defs>\r\n        <path d=\"M 34.1875 63.1875 \r\nL 20.796875 26.90625 \r\nL 47.609375 26.90625 \r\nz\r\nM 28.609375 72.90625 \r\nL 39.796875 72.90625 \r\nL 67.578125 0 \r\nL 57.328125 0 \r\nL 50.6875 18.703125 \r\nL 17.828125 18.703125 \r\nL 11.1875 0 \r\nL 0.78125 0 \r\nz\r\n\" id=\"DejaVuSans-65\"/>\r\n        <path d=\"M 9.8125 72.90625 \r\nL 19.671875 72.90625 \r\nL 19.671875 5.078125 \r\nQ 19.671875 -8.109375 14.671875 -14.0625 \r\nQ 9.671875 -20.015625 -1.421875 -20.015625 \r\nL -5.171875 -20.015625 \r\nL -5.171875 -11.71875 \r\nL -2.09375 -11.71875 \r\nQ 4.4375 -11.71875 7.125 -8.046875 \r\nQ 9.8125 -4.390625 9.8125 5.078125 \r\nz\r\n\" id=\"DejaVuSans-74\"/>\r\n       </defs>\r\n       <use xlink:href=\"#DejaVuSans-65\"/>\r\n       <use x=\"68.408203\" xlink:href=\"#DejaVuSans-68\"/>\r\n       <use x=\"145.410156\" xlink:href=\"#DejaVuSans-74\"/>\r\n      </g>\r\n     </g>\r\n    </g>\r\n    <g id=\"xtick_5\">\r\n     <g id=\"line2d_5\">\r\n      <g>\r\n       <use style=\"stroke:#000000;stroke-width:0.8;\" x=\"325.198125\" xlink:href=\"#mf43f3fa4b8\" y=\"659.52\"/>\r\n      </g>\r\n     </g>\r\n     <g id=\"text_5\">\r\n      <!-- ADV -->\r\n      <g transform=\"translate(314.595 674.118438)scale(0.1 -0.1)\">\r\n       <use xlink:href=\"#DejaVuSans-65\"/>\r\n       <use x=\"68.408203\" xlink:href=\"#DejaVuSans-68\"/>\r\n       <use x=\"143.660156\" xlink:href=\"#DejaVuSans-86\"/>\r\n      </g>\r\n     </g>\r\n    </g>\r\n    <g id=\"xtick_6\">\r\n     <g id=\"line2d_6\">\r\n      <g>\r\n       <use style=\"stroke:#000000;stroke-width:0.8;\" x=\"392.158125\" xlink:href=\"#mf43f3fa4b8\" y=\"659.52\"/>\r\n      </g>\r\n     </g>\r\n     <g id=\"text_6\">\r\n      <!-- NUM -->\r\n      <g transform=\"translate(380.444063 674.118438)scale(0.1 -0.1)\">\r\n       <defs>\r\n        <path d=\"M 9.8125 72.90625 \r\nL 24.515625 72.90625 \r\nL 43.109375 23.296875 \r\nL 61.8125 72.90625 \r\nL 76.515625 72.90625 \r\nL 76.515625 0 \r\nL 66.890625 0 \r\nL 66.890625 64.015625 \r\nL 48.09375 14.015625 \r\nL 38.1875 14.015625 \r\nL 19.390625 64.015625 \r\nL 19.390625 0 \r\nL 9.8125 0 \r\nz\r\n\" id=\"DejaVuSans-77\"/>\r\n       </defs>\r\n       <use xlink:href=\"#DejaVuSans-78\"/>\r\n       <use x=\"74.804688\" xlink:href=\"#DejaVuSans-85\"/>\r\n       <use x=\"147.998047\" xlink:href=\"#DejaVuSans-77\"/>\r\n      </g>\r\n     </g>\r\n    </g>\r\n    <g id=\"xtick_7\">\r\n     <g id=\"line2d_7\">\r\n      <g>\r\n       <use style=\"stroke:#000000;stroke-width:0.8;\" x=\"459.118125\" xlink:href=\"#mf43f3fa4b8\" y=\"659.52\"/>\r\n      </g>\r\n     </g>\r\n     <g id=\"text_7\">\r\n      <!-- X -->\r\n      <g transform=\"translate(455.693125 674.118438)scale(0.1 -0.1)\">\r\n       <defs>\r\n        <path d=\"M 6.296875 72.90625 \r\nL 16.890625 72.90625 \r\nL 35.015625 45.796875 \r\nL 53.21875 72.90625 \r\nL 63.8125 72.90625 \r\nL 40.375 37.890625 \r\nL 65.375 0 \r\nL 54.78125 0 \r\nL 34.28125 31 \r\nL 13.625 0 \r\nL 2.984375 0 \r\nL 29 38.921875 \r\nz\r\n\" id=\"DejaVuSans-88\"/>\r\n       </defs>\r\n       <use xlink:href=\"#DejaVuSans-88\"/>\r\n      </g>\r\n     </g>\r\n    </g>\r\n    <g id=\"xtick_8\">\r\n     <g id=\"line2d_8\">\r\n      <g>\r\n       <use style=\"stroke:#000000;stroke-width:0.8;\" x=\"526.078125\" xlink:href=\"#mf43f3fa4b8\" y=\"659.52\"/>\r\n      </g>\r\n     </g>\r\n     <g id=\"text_8\">\r\n      <!-- PRON -->\r\n      <g transform=\"translate(511.9125 674.118438)scale(0.1 -0.1)\">\r\n       <defs>\r\n        <path d=\"M 19.671875 64.796875 \r\nL 19.671875 37.40625 \r\nL 32.078125 37.40625 \r\nQ 38.96875 37.40625 42.71875 40.96875 \r\nQ 46.484375 44.53125 46.484375 51.125 \r\nQ 46.484375 57.671875 42.71875 61.234375 \r\nQ 38.96875 64.796875 32.078125 64.796875 \r\nz\r\nM 9.8125 72.90625 \r\nL 32.078125 72.90625 \r\nQ 44.34375 72.90625 50.609375 67.359375 \r\nQ 56.890625 61.8125 56.890625 51.125 \r\nQ 56.890625 40.328125 50.609375 34.8125 \r\nQ 44.34375 29.296875 32.078125 29.296875 \r\nL 19.671875 29.296875 \r\nL 19.671875 0 \r\nL 9.8125 0 \r\nz\r\n\" id=\"DejaVuSans-80\"/>\r\n       </defs>\r\n       <use xlink:href=\"#DejaVuSans-80\"/>\r\n       <use x=\"60.302734\" xlink:href=\"#DejaVuSans-82\"/>\r\n       <use x=\"129.785156\" xlink:href=\"#DejaVuSans-79\"/>\r\n       <use x=\"208.496094\" xlink:href=\"#DejaVuSans-78\"/>\r\n      </g>\r\n     </g>\r\n    </g>\r\n    <g id=\"xtick_9\">\r\n     <g id=\"line2d_9\">\r\n      <g>\r\n       <use style=\"stroke:#000000;stroke-width:0.8;\" x=\"593.038125\" xlink:href=\"#mf43f3fa4b8\" y=\"659.52\"/>\r\n      </g>\r\n     </g>\r\n     <g id=\"text_9\">\r\n      <!-- PRT -->\r\n      <g transform=\"translate(583.857656 674.118438)scale(0.1 -0.1)\">\r\n       <use xlink:href=\"#DejaVuSans-80\"/>\r\n       <use x=\"60.302734\" xlink:href=\"#DejaVuSans-82\"/>\r\n       <use x=\"122.535156\" xlink:href=\"#DejaVuSans-84\"/>\r\n      </g>\r\n     </g>\r\n    </g>\r\n    <g id=\"xtick_10\">\r\n     <g id=\"line2d_10\">\r\n      <g>\r\n       <use style=\"stroke:#000000;stroke-width:0.8;\" x=\"659.998125\" xlink:href=\"#mf43f3fa4b8\" y=\"659.52\"/>\r\n      </g>\r\n     </g>\r\n     <g id=\"text_10\">\r\n      <!-- ADP -->\r\n      <g transform=\"translate(649.712969 674.118438)scale(0.1 -0.1)\">\r\n       <use xlink:href=\"#DejaVuSans-65\"/>\r\n       <use x=\"68.408203\" xlink:href=\"#DejaVuSans-68\"/>\r\n       <use x=\"145.410156\" xlink:href=\"#DejaVuSans-80\"/>\r\n      </g>\r\n     </g>\r\n    </g>\r\n    <g id=\"xtick_11\">\r\n     <g id=\"line2d_11\">\r\n      <g>\r\n       <use style=\"stroke:#000000;stroke-width:0.8;\" x=\"726.958125\" xlink:href=\"#mf43f3fa4b8\" y=\"659.52\"/>\r\n      </g>\r\n     </g>\r\n     <g id=\"text_11\">\r\n      <!-- CONJ -->\r\n      <g transform=\"translate(714.315156 674.118438)scale(0.1 -0.1)\">\r\n       <defs>\r\n        <path d=\"M 64.40625 67.28125 \r\nL 64.40625 56.890625 \r\nQ 59.421875 61.53125 53.78125 63.8125 \r\nQ 48.140625 66.109375 41.796875 66.109375 \r\nQ 29.296875 66.109375 22.65625 58.46875 \r\nQ 16.015625 50.828125 16.015625 36.375 \r\nQ 16.015625 21.96875 22.65625 14.328125 \r\nQ 29.296875 6.6875 41.796875 6.6875 \r\nQ 48.140625 6.6875 53.78125 8.984375 \r\nQ 59.421875 11.28125 64.40625 15.921875 \r\nL 64.40625 5.609375 \r\nQ 59.234375 2.09375 53.4375 0.328125 \r\nQ 47.65625 -1.421875 41.21875 -1.421875 \r\nQ 24.65625 -1.421875 15.125 8.703125 \r\nQ 5.609375 18.84375 5.609375 36.375 \r\nQ 5.609375 53.953125 15.125 64.078125 \r\nQ 24.65625 74.21875 41.21875 74.21875 \r\nQ 47.75 74.21875 53.53125 72.484375 \r\nQ 59.328125 70.75 64.40625 67.28125 \r\nz\r\n\" id=\"DejaVuSans-67\"/>\r\n       </defs>\r\n       <use xlink:href=\"#DejaVuSans-67\"/>\r\n       <use x=\"69.824219\" xlink:href=\"#DejaVuSans-79\"/>\r\n       <use x=\"148.535156\" xlink:href=\"#DejaVuSans-78\"/>\r\n       <use x=\"223.339844\" xlink:href=\"#DejaVuSans-74\"/>\r\n      </g>\r\n     </g>\r\n    </g>\r\n    <g id=\"xtick_12\">\r\n     <g id=\"line2d_12\">\r\n      <g>\r\n       <use style=\"stroke:#000000;stroke-width:0.8;\" x=\"793.918125\" xlink:href=\"#mf43f3fa4b8\" y=\"659.52\"/>\r\n      </g>\r\n     </g>\r\n     <g id=\"text_12\">\r\n      <!-- . -->\r\n      <g transform=\"translate(792.329063 674.118438)scale(0.1 -0.1)\">\r\n       <defs>\r\n        <path d=\"M 10.6875 12.40625 \r\nL 21 12.40625 \r\nL 21 0 \r\nL 10.6875 0 \r\nz\r\n\" id=\"DejaVuSans-46\"/>\r\n       </defs>\r\n       <use xlink:href=\"#DejaVuSans-46\"/>\r\n      </g>\r\n     </g>\r\n    </g>\r\n   </g>\r\n   <g id=\"matplotlib.axis_2\">\r\n    <g id=\"ytick_1\">\r\n     <g id=\"line2d_13\">\r\n      <defs>\r\n       <path d=\"M 0 0 \r\nL -3.5 0 \r\n\" id=\"mac70160111\" style=\"stroke:#000000;stroke-width:0.8;\"/>\r\n      </defs>\r\n      <g>\r\n       <use style=\"stroke:#000000;stroke-width:0.8;\" x=\"23.878125\" xlink:href=\"#mac70160111\" y=\"34.38\"/>\r\n      </g>\r\n     </g>\r\n     <g id=\"text_13\">\r\n      <!-- VERB -->\r\n      <g transform=\"translate(14.798437 57.549531)rotate(-90)scale(0.1 -0.1)\">\r\n       <use xlink:href=\"#DejaVuSans-86\"/>\r\n       <use x=\"68.408203\" xlink:href=\"#DejaVuSans-69\"/>\r\n       <use x=\"131.591797\" xlink:href=\"#DejaVuSans-82\"/>\r\n       <use x=\"201.074219\" xlink:href=\"#DejaVuSans-66\"/>\r\n      </g>\r\n     </g>\r\n    </g>\r\n    <g id=\"ytick_2\">\r\n     <g id=\"line2d_14\">\r\n      <g>\r\n       <use style=\"stroke:#000000;stroke-width:0.8;\" x=\"23.878125\" xlink:href=\"#mac70160111\" y=\"88.74\"/>\r\n      </g>\r\n     </g>\r\n     <g id=\"text_14\">\r\n      <!-- NOUN -->\r\n      <g transform=\"translate(14.798437 115.093906)rotate(-90)scale(0.1 -0.1)\">\r\n       <use xlink:href=\"#DejaVuSans-78\"/>\r\n       <use x=\"74.804688\" xlink:href=\"#DejaVuSans-79\"/>\r\n       <use x=\"153.515625\" xlink:href=\"#DejaVuSans-85\"/>\r\n       <use x=\"226.708984\" xlink:href=\"#DejaVuSans-78\"/>\r\n      </g>\r\n     </g>\r\n    </g>\r\n    <g id=\"ytick_3\">\r\n     <g id=\"line2d_15\">\r\n      <g>\r\n       <use style=\"stroke:#000000;stroke-width:0.8;\" x=\"23.878125\" xlink:href=\"#mac70160111\" y=\"143.1\"/>\r\n      </g>\r\n     </g>\r\n     <g id=\"text_15\">\r\n      <!-- DET -->\r\n      <g transform=\"translate(14.798437 159.427344)rotate(-90)scale(0.1 -0.1)\">\r\n       <use xlink:href=\"#DejaVuSans-68\"/>\r\n       <use x=\"77.001953\" xlink:href=\"#DejaVuSans-69\"/>\r\n       <use x=\"140.185547\" xlink:href=\"#DejaVuSans-84\"/>\r\n      </g>\r\n     </g>\r\n    </g>\r\n    <g id=\"ytick_4\">\r\n     <g id=\"line2d_16\">\r\n      <g>\r\n       <use style=\"stroke:#000000;stroke-width:0.8;\" x=\"23.878125\" xlink:href=\"#mac70160111\" y=\"197.46\"/>\r\n      </g>\r\n     </g>\r\n     <g id=\"text_16\">\r\n      <!-- ADJ -->\r\n      <g transform=\"translate(14.798437 211.151406)rotate(-90)scale(0.1 -0.1)\">\r\n       <use xlink:href=\"#DejaVuSans-65\"/>\r\n       <use x=\"68.408203\" xlink:href=\"#DejaVuSans-68\"/>\r\n       <use x=\"145.410156\" xlink:href=\"#DejaVuSans-74\"/>\r\n      </g>\r\n     </g>\r\n    </g>\r\n    <g id=\"ytick_5\">\r\n     <g id=\"line2d_17\">\r\n      <g>\r\n       <use style=\"stroke:#000000;stroke-width:0.8;\" x=\"23.878125\" xlink:href=\"#mac70160111\" y=\"251.82\"/>\r\n      </g>\r\n     </g>\r\n     <g id=\"text_17\">\r\n      <!-- ADV -->\r\n      <g transform=\"translate(14.798437 269.227031)rotate(-90)scale(0.1 -0.1)\">\r\n       <use xlink:href=\"#DejaVuSans-65\"/>\r\n       <use x=\"68.408203\" xlink:href=\"#DejaVuSans-68\"/>\r\n       <use x=\"143.660156\" xlink:href=\"#DejaVuSans-86\"/>\r\n      </g>\r\n     </g>\r\n    </g>\r\n    <g id=\"ytick_6\">\r\n     <g id=\"line2d_18\">\r\n      <g>\r\n       <use style=\"stroke:#000000;stroke-width:0.8;\" x=\"23.878125\" xlink:href=\"#mac70160111\" y=\"306.18\"/>\r\n      </g>\r\n     </g>\r\n     <g id=\"text_18\">\r\n      <!-- NUM -->\r\n      <g transform=\"translate(14.798437 325.808906)rotate(-90)scale(0.1 -0.1)\">\r\n       <use xlink:href=\"#DejaVuSans-78\"/>\r\n       <use x=\"74.804688\" xlink:href=\"#DejaVuSans-85\"/>\r\n       <use x=\"147.998047\" xlink:href=\"#DejaVuSans-77\"/>\r\n      </g>\r\n     </g>\r\n    </g>\r\n    <g id=\"ytick_7\">\r\n     <g id=\"line2d_19\">\r\n      <g>\r\n       <use style=\"stroke:#000000;stroke-width:0.8;\" x=\"23.878125\" xlink:href=\"#mac70160111\" y=\"360.54\"/>\r\n      </g>\r\n     </g>\r\n     <g id=\"text_19\">\r\n      <!-- X -->\r\n      <g transform=\"translate(14.798437 363.590781)rotate(-90)scale(0.1 -0.1)\">\r\n       <use xlink:href=\"#DejaVuSans-88\"/>\r\n      </g>\r\n     </g>\r\n    </g>\r\n    <g id=\"ytick_8\">\r\n     <g id=\"line2d_20\">\r\n      <g>\r\n       <use style=\"stroke:#000000;stroke-width:0.8;\" x=\"23.878125\" xlink:href=\"#mac70160111\" y=\"414.9\"/>\r\n      </g>\r\n     </g>\r\n     <g id=\"text_20\">\r\n      <!-- PRON -->\r\n      <g transform=\"translate(14.798437 439.432031)rotate(-90)scale(0.1 -0.1)\">\r\n       <use xlink:href=\"#DejaVuSans-80\"/>\r\n       <use x=\"60.302734\" xlink:href=\"#DejaVuSans-82\"/>\r\n       <use x=\"129.785156\" xlink:href=\"#DejaVuSans-79\"/>\r\n       <use x=\"208.496094\" xlink:href=\"#DejaVuSans-78\"/>\r\n      </g>\r\n     </g>\r\n    </g>\r\n    <g id=\"ytick_9\">\r\n     <g id=\"line2d_21\">\r\n      <g>\r\n       <use style=\"stroke:#000000;stroke-width:0.8;\" x=\"23.878125\" xlink:href=\"#mac70160111\" y=\"469.26\"/>\r\n      </g>\r\n     </g>\r\n     <g id=\"text_21\">\r\n      <!-- PRT -->\r\n      <g transform=\"translate(14.798437 483.821719)rotate(-90)scale(0.1 -0.1)\">\r\n       <use xlink:href=\"#DejaVuSans-80\"/>\r\n       <use x=\"60.302734\" xlink:href=\"#DejaVuSans-82\"/>\r\n       <use x=\"122.535156\" xlink:href=\"#DejaVuSans-84\"/>\r\n      </g>\r\n     </g>\r\n    </g>\r\n    <g id=\"ytick_10\">\r\n     <g id=\"line2d_22\">\r\n      <g>\r\n       <use style=\"stroke:#000000;stroke-width:0.8;\" x=\"23.878125\" xlink:href=\"#mac70160111\" y=\"523.62\"/>\r\n      </g>\r\n     </g>\r\n     <g id=\"text_22\">\r\n      <!-- ADP -->\r\n      <g transform=\"translate(14.798437 540.391094)rotate(-90)scale(0.1 -0.1)\">\r\n       <use xlink:href=\"#DejaVuSans-65\"/>\r\n       <use x=\"68.408203\" xlink:href=\"#DejaVuSans-68\"/>\r\n       <use x=\"145.410156\" xlink:href=\"#DejaVuSans-80\"/>\r\n      </g>\r\n     </g>\r\n    </g>\r\n    <g id=\"ytick_11\">\r\n     <g id=\"line2d_23\">\r\n      <g>\r\n       <use style=\"stroke:#000000;stroke-width:0.8;\" x=\"23.878125\" xlink:href=\"#mac70160111\" y=\"577.98\"/>\r\n      </g>\r\n     </g>\r\n     <g id=\"text_23\">\r\n      <!-- CONJ -->\r\n      <g transform=\"translate(14.798437 599.466719)rotate(-90)scale(0.1 -0.1)\">\r\n       <use xlink:href=\"#DejaVuSans-67\"/>\r\n       <use x=\"69.824219\" xlink:href=\"#DejaVuSans-79\"/>\r\n       <use x=\"148.535156\" xlink:href=\"#DejaVuSans-78\"/>\r\n       <use x=\"223.339844\" xlink:href=\"#DejaVuSans-74\"/>\r\n      </g>\r\n     </g>\r\n    </g>\r\n    <g id=\"ytick_12\">\r\n     <g id=\"line2d_24\">\r\n      <g>\r\n       <use style=\"stroke:#000000;stroke-width:0.8;\" x=\"23.878125\" xlink:href=\"#mac70160111\" y=\"632.34\"/>\r\n      </g>\r\n     </g>\r\n     <g id=\"text_24\">\r\n      <!-- . -->\r\n      <g transform=\"translate(14.798437 631.718906)rotate(-90)scale(0.1 -0.1)\">\r\n       <use xlink:href=\"#DejaVuSans-46\"/>\r\n      </g>\r\n     </g>\r\n    </g>\r\n   </g>\r\n  </g>\r\n  <g id=\"axes_2\">\r\n   <g id=\"patch_3\">\r\n    <path clip-path=\"url(#p799c748187)\" d=\"M 877.618125 659.52 \r\nL 877.618125 656.971875 \r\nL 877.618125 9.748125 \r\nL 877.618125 7.2 \r\nL 910.234125 7.2 \r\nL 910.234125 9.748125 \r\nL 910.234125 656.971875 \r\nL 910.234125 659.52 \r\nz\r\n\" style=\"fill:#ffffff;stroke:#ffffff;stroke-linejoin:miter;stroke-width:0.01;\"/>\r\n   </g>\r\n   <image height=\"652\" id=\"imagea1c15e9f73\" transform=\"scale(1 -1)translate(0 -652)\" width=\"32\" x=\"878\" xlink:href=\"data:image/png;base64,\r\niVBORw0KGgoAAAANSUhEUgAAACAAAAKMCAYAAACKO7pIAAADKklEQVR4nO3di20kMQwEUVHmJXH552mHUQPoKYEtUMUmZ8ef+fn3//eE55Yffs45OzHAByowbQ3yCuQAriAH2DmPXwEJc4C9r1+BNswBSCgJc4C9r+cACXMASZgD6AJJmAOQ0FqeAxhG2jAHMIxImAOQcGdahrwCOYCNKAewEZEwByAhCXMAEpIwByAhCXMAz4a+oMgBSJgD6ALDKAeQA9owByChCuQAfsvG03EOYCOShDmAjSgH0AWSMAfYmqD+fEnYA0hCSZgDSEJtmAMYRjmAHDCMcgBRrA1zADmgDXMAr2y8sskBDCOzIAcgYQ6gC0iYA1hK7YQ5AAklYQ5gHJMwBzCMzIIcQA7kAHJADuQAckAb5gByYG/634w+UIEcQBJKwhyAhDmAYSQHcgA5YCPKAeSANswBXIEkzAEkoTbMAVxBDrDzehSTMAdwBTaiHMBGpA1zADmgDXOAvae18AMVeL0NcwDDKAcQxXt/H0/CHEAOaMMcwEZkI8oBdkgYA9Sf3wO4ghxADpAwByChnTAH2Bs/GvUVeL4NcwDDaCf+IZK8AjnA3tevwLdkOQAJcwBRTMIcYOM/1vuJCpCwPXJAG+YAckAb5gA78bvbD1RAEsaHhDmAYWQY5QA7McIHKkDC+BhGNqIcgIQqkAPIgRxAF9gJcwBLKQlzAElIwhxgjyQkYXxcgQrkAFsj5BXIAXQBCXMAEpIwB9iJf9err0CNkFcgByAhCXOAPc9L+Hwb5gByIAeQA3IgByChCuQAO/FPsfQVIGEN4Ar23JYhr0AOQEI7YQ5AwhxgT/zO5gMVIGF8XMGOjSg+JDQLcgASejbMAUiYA4hiEuYAllIS5gCSkIQ5gKV0z+tvTnMAEqpADmAY5QA2IjmQA3h7rg1zADmgAjmAJyMS5gCGEQlzAFeQAxhGJMwBXIFxnAOQkIQ5AAlJmAOQMAdwBXIgByAhCXMAEpIwByDhzvykAHkFcgASqkAOYBjlALqAhDnAnvv4PkDCHEASkjAH8GSkDXMAOUDCHICEOYC1nIQ5gCjeIWF8SCgJcwDjmIQ5gCTMAewDJMwBRLFxnAP8AaqnMNcomXVLAAAAAElFTkSuQmCC\" y=\"-7\"/>\r\n   <g id=\"matplotlib.axis_3\"/>\r\n   <g id=\"matplotlib.axis_4\">\r\n    <g id=\"ytick_13\">\r\n     <g id=\"line2d_25\">\r\n      <defs>\r\n       <path d=\"M 0 0 \r\nL 3.5 0 \r\n\" id=\"m3ef31934a3\" style=\"stroke:#000000;stroke-width:0.8;\"/>\r\n      </defs>\r\n      <g>\r\n       <use style=\"stroke:#000000;stroke-width:0.8;\" x=\"910.234125\" xlink:href=\"#m3ef31934a3\" y=\"566.517747\"/>\r\n      </g>\r\n     </g>\r\n     <g id=\"text_25\">\r\n      <!-- 0.1 -->\r\n      <g transform=\"translate(917.234125 570.316966)scale(0.1 -0.1)\">\r\n       <defs>\r\n        <path d=\"M 31.78125 66.40625 \r\nQ 24.171875 66.40625 20.328125 58.90625 \r\nQ 16.5 51.421875 16.5 36.375 \r\nQ 16.5 21.390625 20.328125 13.890625 \r\nQ 24.171875 6.390625 31.78125 6.390625 \r\nQ 39.453125 6.390625 43.28125 13.890625 \r\nQ 47.125 21.390625 47.125 36.375 \r\nQ 47.125 51.421875 43.28125 58.90625 \r\nQ 39.453125 66.40625 31.78125 66.40625 \r\nz\r\nM 31.78125 74.21875 \r\nQ 44.046875 74.21875 50.515625 64.515625 \r\nQ 56.984375 54.828125 56.984375 36.375 \r\nQ 56.984375 17.96875 50.515625 8.265625 \r\nQ 44.046875 -1.421875 31.78125 -1.421875 \r\nQ 19.53125 -1.421875 13.0625 8.265625 \r\nQ 6.59375 17.96875 6.59375 36.375 \r\nQ 6.59375 54.828125 13.0625 64.515625 \r\nQ 19.53125 74.21875 31.78125 74.21875 \r\nz\r\n\" id=\"DejaVuSans-48\"/>\r\n        <path d=\"M 12.40625 8.296875 \r\nL 28.515625 8.296875 \r\nL 28.515625 63.921875 \r\nL 10.984375 60.40625 \r\nL 10.984375 69.390625 \r\nL 28.421875 72.90625 \r\nL 38.28125 72.90625 \r\nL 38.28125 8.296875 \r\nL 54.390625 8.296875 \r\nL 54.390625 0 \r\nL 12.40625 0 \r\nz\r\n\" id=\"DejaVuSans-49\"/>\r\n       </defs>\r\n       <use xlink:href=\"#DejaVuSans-48\"/>\r\n       <use x=\"63.623047\" xlink:href=\"#DejaVuSans-46\"/>\r\n       <use x=\"95.410156\" xlink:href=\"#DejaVuSans-49\"/>\r\n      </g>\r\n     </g>\r\n    </g>\r\n    <g id=\"ytick_14\">\r\n     <g id=\"line2d_26\">\r\n      <g>\r\n       <use style=\"stroke:#000000;stroke-width:0.8;\" x=\"910.234125\" xlink:href=\"#m3ef31934a3\" y=\"473.290443\"/>\r\n      </g>\r\n     </g>\r\n     <g id=\"text_26\">\r\n      <!-- 0.2 -->\r\n      <g transform=\"translate(917.234125 477.089662)scale(0.1 -0.1)\">\r\n       <defs>\r\n        <path d=\"M 19.1875 8.296875 \r\nL 53.609375 8.296875 \r\nL 53.609375 0 \r\nL 7.328125 0 \r\nL 7.328125 8.296875 \r\nQ 12.9375 14.109375 22.625 23.890625 \r\nQ 32.328125 33.6875 34.8125 36.53125 \r\nQ 39.546875 41.84375 41.421875 45.53125 \r\nQ 43.3125 49.21875 43.3125 52.78125 \r\nQ 43.3125 58.59375 39.234375 62.25 \r\nQ 35.15625 65.921875 28.609375 65.921875 \r\nQ 23.96875 65.921875 18.8125 64.3125 \r\nQ 13.671875 62.703125 7.8125 59.421875 \r\nL 7.8125 69.390625 \r\nQ 13.765625 71.78125 18.9375 73 \r\nQ 24.125 74.21875 28.421875 74.21875 \r\nQ 39.75 74.21875 46.484375 68.546875 \r\nQ 53.21875 62.890625 53.21875 53.421875 \r\nQ 53.21875 48.921875 51.53125 44.890625 \r\nQ 49.859375 40.875 45.40625 35.40625 \r\nQ 44.1875 33.984375 37.640625 27.21875 \r\nQ 31.109375 20.453125 19.1875 8.296875 \r\nz\r\n\" id=\"DejaVuSans-50\"/>\r\n       </defs>\r\n       <use xlink:href=\"#DejaVuSans-48\"/>\r\n       <use x=\"63.623047\" xlink:href=\"#DejaVuSans-46\"/>\r\n       <use x=\"95.410156\" xlink:href=\"#DejaVuSans-50\"/>\r\n      </g>\r\n     </g>\r\n    </g>\r\n    <g id=\"ytick_15\">\r\n     <g id=\"line2d_27\">\r\n      <g>\r\n       <use style=\"stroke:#000000;stroke-width:0.8;\" x=\"910.234125\" xlink:href=\"#m3ef31934a3\" y=\"380.063139\"/>\r\n      </g>\r\n     </g>\r\n     <g id=\"text_27\">\r\n      <!-- 0.3 -->\r\n      <g transform=\"translate(917.234125 383.862358)scale(0.1 -0.1)\">\r\n       <defs>\r\n        <path d=\"M 40.578125 39.3125 \r\nQ 47.65625 37.796875 51.625 33 \r\nQ 55.609375 28.21875 55.609375 21.1875 \r\nQ 55.609375 10.40625 48.1875 4.484375 \r\nQ 40.765625 -1.421875 27.09375 -1.421875 \r\nQ 22.515625 -1.421875 17.65625 -0.515625 \r\nQ 12.796875 0.390625 7.625 2.203125 \r\nL 7.625 11.71875 \r\nQ 11.71875 9.328125 16.59375 8.109375 \r\nQ 21.484375 6.890625 26.8125 6.890625 \r\nQ 36.078125 6.890625 40.9375 10.546875 \r\nQ 45.796875 14.203125 45.796875 21.1875 \r\nQ 45.796875 27.640625 41.28125 31.265625 \r\nQ 36.765625 34.90625 28.71875 34.90625 \r\nL 20.21875 34.90625 \r\nL 20.21875 43.015625 \r\nL 29.109375 43.015625 \r\nQ 36.375 43.015625 40.234375 45.921875 \r\nQ 44.09375 48.828125 44.09375 54.296875 \r\nQ 44.09375 59.90625 40.109375 62.90625 \r\nQ 36.140625 65.921875 28.71875 65.921875 \r\nQ 24.65625 65.921875 20.015625 65.03125 \r\nQ 15.375 64.15625 9.8125 62.3125 \r\nL 9.8125 71.09375 \r\nQ 15.4375 72.65625 20.34375 73.4375 \r\nQ 25.25 74.21875 29.59375 74.21875 \r\nQ 40.828125 74.21875 47.359375 69.109375 \r\nQ 53.90625 64.015625 53.90625 55.328125 \r\nQ 53.90625 49.265625 50.4375 45.09375 \r\nQ 46.96875 40.921875 40.578125 39.3125 \r\nz\r\n\" id=\"DejaVuSans-51\"/>\r\n       </defs>\r\n       <use xlink:href=\"#DejaVuSans-48\"/>\r\n       <use x=\"63.623047\" xlink:href=\"#DejaVuSans-46\"/>\r\n       <use x=\"95.410156\" xlink:href=\"#DejaVuSans-51\"/>\r\n      </g>\r\n     </g>\r\n    </g>\r\n    <g id=\"ytick_16\">\r\n     <g id=\"line2d_28\">\r\n      <g>\r\n       <use style=\"stroke:#000000;stroke-width:0.8;\" x=\"910.234125\" xlink:href=\"#m3ef31934a3\" y=\"286.835835\"/>\r\n      </g>\r\n     </g>\r\n     <g id=\"text_28\">\r\n      <!-- 0.4 -->\r\n      <g transform=\"translate(917.234125 290.635054)scale(0.1 -0.1)\">\r\n       <defs>\r\n        <path d=\"M 37.796875 64.3125 \r\nL 12.890625 25.390625 \r\nL 37.796875 25.390625 \r\nz\r\nM 35.203125 72.90625 \r\nL 47.609375 72.90625 \r\nL 47.609375 25.390625 \r\nL 58.015625 25.390625 \r\nL 58.015625 17.1875 \r\nL 47.609375 17.1875 \r\nL 47.609375 0 \r\nL 37.796875 0 \r\nL 37.796875 17.1875 \r\nL 4.890625 17.1875 \r\nL 4.890625 26.703125 \r\nz\r\n\" id=\"DejaVuSans-52\"/>\r\n       </defs>\r\n       <use xlink:href=\"#DejaVuSans-48\"/>\r\n       <use x=\"63.623047\" xlink:href=\"#DejaVuSans-46\"/>\r\n       <use x=\"95.410156\" xlink:href=\"#DejaVuSans-52\"/>\r\n      </g>\r\n     </g>\r\n    </g>\r\n    <g id=\"ytick_17\">\r\n     <g id=\"line2d_29\">\r\n      <g>\r\n       <use style=\"stroke:#000000;stroke-width:0.8;\" x=\"910.234125\" xlink:href=\"#m3ef31934a3\" y=\"193.608531\"/>\r\n      </g>\r\n     </g>\r\n     <g id=\"text_29\">\r\n      <!-- 0.5 -->\r\n      <g transform=\"translate(917.234125 197.40775)scale(0.1 -0.1)\">\r\n       <defs>\r\n        <path d=\"M 10.796875 72.90625 \r\nL 49.515625 72.90625 \r\nL 49.515625 64.59375 \r\nL 19.828125 64.59375 \r\nL 19.828125 46.734375 \r\nQ 21.96875 47.46875 24.109375 47.828125 \r\nQ 26.265625 48.1875 28.421875 48.1875 \r\nQ 40.625 48.1875 47.75 41.5 \r\nQ 54.890625 34.8125 54.890625 23.390625 \r\nQ 54.890625 11.625 47.5625 5.09375 \r\nQ 40.234375 -1.421875 26.90625 -1.421875 \r\nQ 22.3125 -1.421875 17.546875 -0.640625 \r\nQ 12.796875 0.140625 7.71875 1.703125 \r\nL 7.71875 11.625 \r\nQ 12.109375 9.234375 16.796875 8.0625 \r\nQ 21.484375 6.890625 26.703125 6.890625 \r\nQ 35.15625 6.890625 40.078125 11.328125 \r\nQ 45.015625 15.765625 45.015625 23.390625 \r\nQ 45.015625 31 40.078125 35.4375 \r\nQ 35.15625 39.890625 26.703125 39.890625 \r\nQ 22.75 39.890625 18.8125 39.015625 \r\nQ 14.890625 38.140625 10.796875 36.28125 \r\nz\r\n\" id=\"DejaVuSans-53\"/>\r\n       </defs>\r\n       <use xlink:href=\"#DejaVuSans-48\"/>\r\n       <use x=\"63.623047\" xlink:href=\"#DejaVuSans-46\"/>\r\n       <use x=\"95.410156\" xlink:href=\"#DejaVuSans-53\"/>\r\n      </g>\r\n     </g>\r\n    </g>\r\n    <g id=\"ytick_18\">\r\n     <g id=\"line2d_30\">\r\n      <g>\r\n       <use style=\"stroke:#000000;stroke-width:0.8;\" x=\"910.234125\" xlink:href=\"#m3ef31934a3\" y=\"100.381227\"/>\r\n      </g>\r\n     </g>\r\n     <g id=\"text_30\">\r\n      <!-- 0.6 -->\r\n      <g transform=\"translate(917.234125 104.180446)scale(0.1 -0.1)\">\r\n       <defs>\r\n        <path d=\"M 33.015625 40.375 \r\nQ 26.375 40.375 22.484375 35.828125 \r\nQ 18.609375 31.296875 18.609375 23.390625 \r\nQ 18.609375 15.53125 22.484375 10.953125 \r\nQ 26.375 6.390625 33.015625 6.390625 \r\nQ 39.65625 6.390625 43.53125 10.953125 \r\nQ 47.40625 15.53125 47.40625 23.390625 \r\nQ 47.40625 31.296875 43.53125 35.828125 \r\nQ 39.65625 40.375 33.015625 40.375 \r\nz\r\nM 52.59375 71.296875 \r\nL 52.59375 62.3125 \r\nQ 48.875 64.0625 45.09375 64.984375 \r\nQ 41.3125 65.921875 37.59375 65.921875 \r\nQ 27.828125 65.921875 22.671875 59.328125 \r\nQ 17.53125 52.734375 16.796875 39.40625 \r\nQ 19.671875 43.65625 24.015625 45.921875 \r\nQ 28.375 48.1875 33.59375 48.1875 \r\nQ 44.578125 48.1875 50.953125 41.515625 \r\nQ 57.328125 34.859375 57.328125 23.390625 \r\nQ 57.328125 12.15625 50.6875 5.359375 \r\nQ 44.046875 -1.421875 33.015625 -1.421875 \r\nQ 20.359375 -1.421875 13.671875 8.265625 \r\nQ 6.984375 17.96875 6.984375 36.375 \r\nQ 6.984375 53.65625 15.1875 63.9375 \r\nQ 23.390625 74.21875 37.203125 74.21875 \r\nQ 40.921875 74.21875 44.703125 73.484375 \r\nQ 48.484375 72.75 52.59375 71.296875 \r\nz\r\n\" id=\"DejaVuSans-54\"/>\r\n       </defs>\r\n       <use xlink:href=\"#DejaVuSans-48\"/>\r\n       <use x=\"63.623047\" xlink:href=\"#DejaVuSans-46\"/>\r\n       <use x=\"95.410156\" xlink:href=\"#DejaVuSans-54\"/>\r\n      </g>\r\n     </g>\r\n    </g>\r\n   </g>\r\n   <g id=\"patch_4\">\r\n    <path d=\"M 877.618125 659.52 \r\nL 877.618125 656.971875 \r\nL 877.618125 9.748125 \r\nL 877.618125 7.2 \r\nL 910.234125 7.2 \r\nL 910.234125 9.748125 \r\nL 910.234125 656.971875 \r\nL 910.234125 659.52 \r\nz\r\n\" style=\"fill:none;\"/>\r\n   </g>\r\n  </g>\r\n </g>\r\n <defs>\r\n  <clipPath id=\"p905b50c6e9\">\r\n   <rect height=\"652.32\" width=\"803.52\" x=\"23.878125\" y=\"7.2\"/>\r\n  </clipPath>\r\n  <clipPath id=\"p799c748187\">\r\n   <rect height=\"652.32\" width=\"32.616\" x=\"877.618125\" y=\"7.2\"/>\r\n  </clipPath>\r\n </defs>\r\n</svg>\r\n",
      "image/png": "[encoded data removed]"
     },
     "metadata": {
      "needs_background": "light"
     }
    }
   ],
   "source": [
    "# heatmap of tags matrix\n",
    "# T(i, j) means P(tag j given tag i)\n",
    "plt.figure(figsize=(18, 12))\n",
    "sns.heatmap(tags_df)\n",
    "plt.show()"
   ]
  },
  {
   "cell_type": "code",
   "execution_count": 19,
   "metadata": {},
   "outputs": [
    {
     "output_type": "display_data",
     "data": {
      "text/plain": "<Figure size 1296x864 with 2 Axes>",
      "image/svg+xml": "<?xml version=\"1.0\" encoding=\"utf-8\" standalone=\"no\"?>\r\n<!DOCTYPE svg PUBLIC \"-//W3C//DTD SVG 1.1//EN\"\r\n  \"http://www.w3.org/Graphics/SVG/1.1/DTD/svg11.dtd\">\r\n<!-- Created with matplotlib (https://matplotlib.org/) -->\r\n<svg height=\"683.398125pt\" version=\"1.1\" viewBox=\"0 0 946.69975 683.398125\" width=\"946.69975pt\" xmlns=\"http://www.w3.org/2000/svg\" xmlns:xlink=\"http://www.w3.org/1999/xlink\">\r\n <metadata>\r\n  <rdf:RDF xmlns:cc=\"http://creativecommons.org/ns#\" xmlns:dc=\"http://purl.org/dc/elements/1.1/\" xmlns:rdf=\"http://www.w3.org/1999/02/22-rdf-syntax-ns#\">\r\n   <cc:Work>\r\n    <dc:type rdf:resource=\"http://purl.org/dc/dcmitype/StillImage\"/>\r\n    <dc:date>2021-02-25T02:11:16.233779</dc:date>\r\n    <dc:format>image/svg+xml</dc:format>\r\n    <dc:creator>\r\n     <cc:Agent>\r\n      <dc:title>Matplotlib v3.3.4, https://matplotlib.org/</dc:title>\r\n     </cc:Agent>\r\n    </dc:creator>\r\n   </cc:Work>\r\n  </rdf:RDF>\r\n </metadata>\r\n <defs>\r\n  <style type=\"text/css\">*{stroke-linecap:butt;stroke-linejoin:round;}</style>\r\n </defs>\r\n <g id=\"figure_1\">\r\n  <g id=\"patch_1\">\r\n   <path d=\"M 0 683.398125 \r\nL 946.69975 683.398125 \r\nL 946.69975 0 \r\nL 0 0 \r\nz\r\n\" style=\"fill:none;\"/>\r\n  </g>\r\n  <g id=\"axes_1\">\r\n   <g id=\"patch_2\">\r\n    <path d=\"M 23.878125 659.52 \r\nL 827.398125 659.52 \r\nL 827.398125 7.2 \r\nL 23.878125 7.2 \r\nz\r\n\" style=\"fill:#ffffff;\"/>\r\n   </g>\r\n   <g id=\"QuadMesh_1\">\r\n    <path clip-path=\"url(#pbef88667c5)\" d=\"M 23.878125 7.2 \r\nL 90.838125 7.2 \r\nL 90.838125 61.56 \r\nL 23.878125 61.56 \r\nL 23.878125 7.2 \r\n\" style=\"fill:none;\"/>\r\n    <path clip-path=\"url(#pbef88667c5)\" d=\"M 90.838125 7.2 \r\nL 157.798125 7.2 \r\nL 157.798125 61.56 \r\nL 90.838125 61.56 \r\nL 90.838125 7.2 \r\n\" style=\"fill:none;\"/>\r\n    <path clip-path=\"url(#pbef88667c5)\" d=\"M 157.798125 7.2 \r\nL 224.758125 7.2 \r\nL 224.758125 61.56 \r\nL 157.798125 61.56 \r\nL 157.798125 7.2 \r\n\" style=\"fill:none;\"/>\r\n    <path clip-path=\"url(#pbef88667c5)\" d=\"M 224.758125 7.2 \r\nL 291.718125 7.2 \r\nL 291.718125 61.56 \r\nL 224.758125 61.56 \r\nL 224.758125 7.2 \r\n\" style=\"fill:none;\"/>\r\n    <path clip-path=\"url(#pbef88667c5)\" d=\"M 291.718125 7.2 \r\nL 358.678125 7.2 \r\nL 358.678125 61.56 \r\nL 291.718125 61.56 \r\nL 291.718125 7.2 \r\n\" style=\"fill:none;\"/>\r\n    <path clip-path=\"url(#pbef88667c5)\" d=\"M 358.678125 7.2 \r\nL 425.638125 7.2 \r\nL 425.638125 61.56 \r\nL 358.678125 61.56 \r\nL 358.678125 7.2 \r\n\" style=\"fill:none;\"/>\r\n    <path clip-path=\"url(#pbef88667c5)\" d=\"M 425.638125 7.2 \r\nL 492.598125 7.2 \r\nL 492.598125 61.56 \r\nL 425.638125 61.56 \r\nL 425.638125 7.2 \r\n\" style=\"fill:none;\"/>\r\n    <path clip-path=\"url(#pbef88667c5)\" d=\"M 492.598125 7.2 \r\nL 559.558125 7.2 \r\nL 559.558125 61.56 \r\nL 492.598125 61.56 \r\nL 492.598125 7.2 \r\n\" style=\"fill:none;\"/>\r\n    <path clip-path=\"url(#pbef88667c5)\" d=\"M 559.558125 7.2 \r\nL 626.518125 7.2 \r\nL 626.518125 61.56 \r\nL 559.558125 61.56 \r\nL 559.558125 7.2 \r\n\" style=\"fill:none;\"/>\r\n    <path clip-path=\"url(#pbef88667c5)\" d=\"M 626.518125 7.2 \r\nL 693.478125 7.2 \r\nL 693.478125 61.56 \r\nL 626.518125 61.56 \r\nL 626.518125 7.2 \r\n\" style=\"fill:none;\"/>\r\n    <path clip-path=\"url(#pbef88667c5)\" d=\"M 693.478125 7.2 \r\nL 760.438125 7.2 \r\nL 760.438125 61.56 \r\nL 693.478125 61.56 \r\nL 693.478125 7.2 \r\n\" style=\"fill:none;\"/>\r\n    <path clip-path=\"url(#pbef88667c5)\" d=\"M 760.438125 7.2 \r\nL 827.398125 7.2 \r\nL 827.398125 61.56 \r\nL 760.438125 61.56 \r\nL 760.438125 7.2 \r\n\" style=\"fill:none;\"/>\r\n    <path clip-path=\"url(#pbef88667c5)\" d=\"M 23.878125 61.56 \r\nL 90.838125 61.56 \r\nL 90.838125 115.92 \r\nL 23.878125 115.92 \r\nL 23.878125 61.56 \r\n\" style=\"fill:none;\"/>\r\n    <path clip-path=\"url(#pbef88667c5)\" d=\"M 90.838125 61.56 \r\nL 157.798125 61.56 \r\nL 157.798125 115.92 \r\nL 90.838125 115.92 \r\nL 90.838125 61.56 \r\n\" style=\"fill:none;\"/>\r\n    <path clip-path=\"url(#pbef88667c5)\" d=\"M 157.798125 61.56 \r\nL 224.758125 61.56 \r\nL 224.758125 115.92 \r\nL 157.798125 115.92 \r\nL 157.798125 61.56 \r\n\" style=\"fill:none;\"/>\r\n    <path clip-path=\"url(#pbef88667c5)\" d=\"M 224.758125 61.56 \r\nL 291.718125 61.56 \r\nL 291.718125 115.92 \r\nL 224.758125 115.92 \r\nL 224.758125 61.56 \r\n\" style=\"fill:none;\"/>\r\n    <path clip-path=\"url(#pbef88667c5)\" d=\"M 291.718125 61.56 \r\nL 358.678125 61.56 \r\nL 358.678125 115.92 \r\nL 291.718125 115.92 \r\nL 291.718125 61.56 \r\n\" style=\"fill:none;\"/>\r\n    <path clip-path=\"url(#pbef88667c5)\" d=\"M 358.678125 61.56 \r\nL 425.638125 61.56 \r\nL 425.638125 115.92 \r\nL 358.678125 115.92 \r\nL 358.678125 61.56 \r\n\" style=\"fill:none;\"/>\r\n    <path clip-path=\"url(#pbef88667c5)\" d=\"M 425.638125 61.56 \r\nL 492.598125 61.56 \r\nL 492.598125 115.92 \r\nL 425.638125 115.92 \r\nL 425.638125 61.56 \r\n\" style=\"fill:none;\"/>\r\n    <path clip-path=\"url(#pbef88667c5)\" d=\"M 492.598125 61.56 \r\nL 559.558125 61.56 \r\nL 559.558125 115.92 \r\nL 492.598125 115.92 \r\nL 492.598125 61.56 \r\n\" style=\"fill:none;\"/>\r\n    <path clip-path=\"url(#pbef88667c5)\" d=\"M 559.558125 61.56 \r\nL 626.518125 61.56 \r\nL 626.518125 115.92 \r\nL 559.558125 115.92 \r\nL 559.558125 61.56 \r\n\" style=\"fill:none;\"/>\r\n    <path clip-path=\"url(#pbef88667c5)\" d=\"M 626.518125 61.56 \r\nL 693.478125 61.56 \r\nL 693.478125 115.92 \r\nL 626.518125 115.92 \r\nL 626.518125 61.56 \r\n\" style=\"fill:none;\"/>\r\n    <path clip-path=\"url(#pbef88667c5)\" d=\"M 693.478125 61.56 \r\nL 760.438125 61.56 \r\nL 760.438125 115.92 \r\nL 693.478125 115.92 \r\nL 693.478125 61.56 \r\n\" style=\"fill:none;\"/>\r\n    <path clip-path=\"url(#pbef88667c5)\" d=\"M 760.438125 61.56 \r\nL 827.398125 61.56 \r\nL 827.398125 115.92 \r\nL 760.438125 115.92 \r\nL 760.438125 61.56 \r\n\" style=\"fill:none;\"/>\r\n    <path clip-path=\"url(#pbef88667c5)\" d=\"M 23.878125 115.92 \r\nL 90.838125 115.92 \r\nL 90.838125 170.28 \r\nL 23.878125 170.28 \r\nL 23.878125 115.92 \r\n\" style=\"fill:none;\"/>\r\n    <path clip-path=\"url(#pbef88667c5)\" d=\"M 90.838125 115.92 \r\nL 157.798125 115.92 \r\nL 157.798125 170.28 \r\nL 90.838125 170.28 \r\nL 90.838125 115.92 \r\n\" style=\"fill:#03051a;\"/>\r\n    <path clip-path=\"url(#pbef88667c5)\" d=\"M 157.798125 115.92 \r\nL 224.758125 115.92 \r\nL 224.758125 170.28 \r\nL 157.798125 170.28 \r\nL 157.798125 115.92 \r\n\" style=\"fill:none;\"/>\r\n    <path clip-path=\"url(#pbef88667c5)\" d=\"M 224.758125 115.92 \r\nL 291.718125 115.92 \r\nL 291.718125 170.28 \r\nL 224.758125 170.28 \r\nL 224.758125 115.92 \r\n\" style=\"fill:none;\"/>\r\n    <path clip-path=\"url(#pbef88667c5)\" d=\"M 291.718125 115.92 \r\nL 358.678125 115.92 \r\nL 358.678125 170.28 \r\nL 291.718125 170.28 \r\nL 291.718125 115.92 \r\n\" style=\"fill:none;\"/>\r\n    <path clip-path=\"url(#pbef88667c5)\" d=\"M 358.678125 115.92 \r\nL 425.638125 115.92 \r\nL 425.638125 170.28 \r\nL 358.678125 170.28 \r\nL 358.678125 115.92 \r\n\" style=\"fill:none;\"/>\r\n    <path clip-path=\"url(#pbef88667c5)\" d=\"M 425.638125 115.92 \r\nL 492.598125 115.92 \r\nL 492.598125 170.28 \r\nL 425.638125 170.28 \r\nL 425.638125 115.92 \r\n\" style=\"fill:none;\"/>\r\n    <path clip-path=\"url(#pbef88667c5)\" d=\"M 492.598125 115.92 \r\nL 559.558125 115.92 \r\nL 559.558125 170.28 \r\nL 492.598125 170.28 \r\nL 492.598125 115.92 \r\n\" style=\"fill:none;\"/>\r\n    <path clip-path=\"url(#pbef88667c5)\" d=\"M 559.558125 115.92 \r\nL 626.518125 115.92 \r\nL 626.518125 170.28 \r\nL 559.558125 170.28 \r\nL 559.558125 115.92 \r\n\" style=\"fill:none;\"/>\r\n    <path clip-path=\"url(#pbef88667c5)\" d=\"M 626.518125 115.92 \r\nL 693.478125 115.92 \r\nL 693.478125 170.28 \r\nL 626.518125 170.28 \r\nL 626.518125 115.92 \r\n\" style=\"fill:none;\"/>\r\n    <path clip-path=\"url(#pbef88667c5)\" d=\"M 693.478125 115.92 \r\nL 760.438125 115.92 \r\nL 760.438125 170.28 \r\nL 693.478125 170.28 \r\nL 693.478125 115.92 \r\n\" style=\"fill:none;\"/>\r\n    <path clip-path=\"url(#pbef88667c5)\" d=\"M 760.438125 115.92 \r\nL 827.398125 115.92 \r\nL 827.398125 170.28 \r\nL 760.438125 170.28 \r\nL 760.438125 115.92 \r\n\" style=\"fill:none;\"/>\r\n    <path clip-path=\"url(#pbef88667c5)\" d=\"M 23.878125 170.28 \r\nL 90.838125 170.28 \r\nL 90.838125 224.64 \r\nL 23.878125 224.64 \r\nL 23.878125 170.28 \r\n\" style=\"fill:none;\"/>\r\n    <path clip-path=\"url(#pbef88667c5)\" d=\"M 90.838125 170.28 \r\nL 157.798125 170.28 \r\nL 157.798125 224.64 \r\nL 90.838125 224.64 \r\nL 90.838125 170.28 \r\n\" style=\"fill:#faebdd;\"/>\r\n    <path clip-path=\"url(#pbef88667c5)\" d=\"M 157.798125 170.28 \r\nL 224.758125 170.28 \r\nL 224.758125 224.64 \r\nL 157.798125 224.64 \r\nL 157.798125 170.28 \r\n\" style=\"fill:none;\"/>\r\n    <path clip-path=\"url(#pbef88667c5)\" d=\"M 224.758125 170.28 \r\nL 291.718125 170.28 \r\nL 291.718125 224.64 \r\nL 224.758125 224.64 \r\nL 224.758125 170.28 \r\n\" style=\"fill:none;\"/>\r\n    <path clip-path=\"url(#pbef88667c5)\" d=\"M 291.718125 170.28 \r\nL 358.678125 170.28 \r\nL 358.678125 224.64 \r\nL 291.718125 224.64 \r\nL 291.718125 170.28 \r\n\" style=\"fill:none;\"/>\r\n    <path clip-path=\"url(#pbef88667c5)\" d=\"M 358.678125 170.28 \r\nL 425.638125 170.28 \r\nL 425.638125 224.64 \r\nL 358.678125 224.64 \r\nL 358.678125 170.28 \r\n\" style=\"fill:none;\"/>\r\n    <path clip-path=\"url(#pbef88667c5)\" d=\"M 425.638125 170.28 \r\nL 492.598125 170.28 \r\nL 492.598125 224.64 \r\nL 425.638125 224.64 \r\nL 425.638125 170.28 \r\n\" style=\"fill:none;\"/>\r\n    <path clip-path=\"url(#pbef88667c5)\" d=\"M 492.598125 170.28 \r\nL 559.558125 170.28 \r\nL 559.558125 224.64 \r\nL 492.598125 224.64 \r\nL 492.598125 170.28 \r\n\" style=\"fill:none;\"/>\r\n    <path clip-path=\"url(#pbef88667c5)\" d=\"M 559.558125 170.28 \r\nL 626.518125 170.28 \r\nL 626.518125 224.64 \r\nL 559.558125 224.64 \r\nL 559.558125 170.28 \r\n\" style=\"fill:none;\"/>\r\n    <path clip-path=\"url(#pbef88667c5)\" d=\"M 626.518125 170.28 \r\nL 693.478125 170.28 \r\nL 693.478125 224.64 \r\nL 626.518125 224.64 \r\nL 626.518125 170.28 \r\n\" style=\"fill:none;\"/>\r\n    <path clip-path=\"url(#pbef88667c5)\" d=\"M 693.478125 170.28 \r\nL 760.438125 170.28 \r\nL 760.438125 224.64 \r\nL 693.478125 224.64 \r\nL 693.478125 170.28 \r\n\" style=\"fill:none;\"/>\r\n    <path clip-path=\"url(#pbef88667c5)\" d=\"M 760.438125 170.28 \r\nL 827.398125 170.28 \r\nL 827.398125 224.64 \r\nL 760.438125 224.64 \r\nL 760.438125 170.28 \r\n\" style=\"fill:none;\"/>\r\n    <path clip-path=\"url(#pbef88667c5)\" d=\"M 23.878125 224.64 \r\nL 90.838125 224.64 \r\nL 90.838125 279 \r\nL 23.878125 279 \r\nL 23.878125 224.64 \r\n\" style=\"fill:none;\"/>\r\n    <path clip-path=\"url(#pbef88667c5)\" d=\"M 90.838125 224.64 \r\nL 157.798125 224.64 \r\nL 157.798125 279 \r\nL 90.838125 279 \r\nL 90.838125 224.64 \r\n\" style=\"fill:none;\"/>\r\n    <path clip-path=\"url(#pbef88667c5)\" d=\"M 157.798125 224.64 \r\nL 224.758125 224.64 \r\nL 224.758125 279 \r\nL 157.798125 279 \r\nL 157.798125 224.64 \r\n\" style=\"fill:none;\"/>\r\n    <path clip-path=\"url(#pbef88667c5)\" d=\"M 224.758125 224.64 \r\nL 291.718125 224.64 \r\nL 291.718125 279 \r\nL 224.758125 279 \r\nL 224.758125 224.64 \r\n\" style=\"fill:none;\"/>\r\n    <path clip-path=\"url(#pbef88667c5)\" d=\"M 291.718125 224.64 \r\nL 358.678125 224.64 \r\nL 358.678125 279 \r\nL 291.718125 279 \r\nL 291.718125 224.64 \r\n\" style=\"fill:none;\"/>\r\n    <path clip-path=\"url(#pbef88667c5)\" d=\"M 358.678125 224.64 \r\nL 425.638125 224.64 \r\nL 425.638125 279 \r\nL 358.678125 279 \r\nL 358.678125 224.64 \r\n\" style=\"fill:none;\"/>\r\n    <path clip-path=\"url(#pbef88667c5)\" d=\"M 425.638125 224.64 \r\nL 492.598125 224.64 \r\nL 492.598125 279 \r\nL 425.638125 279 \r\nL 425.638125 224.64 \r\n\" style=\"fill:none;\"/>\r\n    <path clip-path=\"url(#pbef88667c5)\" d=\"M 492.598125 224.64 \r\nL 559.558125 224.64 \r\nL 559.558125 279 \r\nL 492.598125 279 \r\nL 492.598125 224.64 \r\n\" style=\"fill:none;\"/>\r\n    <path clip-path=\"url(#pbef88667c5)\" d=\"M 559.558125 224.64 \r\nL 626.518125 224.64 \r\nL 626.518125 279 \r\nL 559.558125 279 \r\nL 559.558125 224.64 \r\n\" style=\"fill:none;\"/>\r\n    <path clip-path=\"url(#pbef88667c5)\" d=\"M 626.518125 224.64 \r\nL 693.478125 224.64 \r\nL 693.478125 279 \r\nL 626.518125 279 \r\nL 626.518125 224.64 \r\n\" style=\"fill:none;\"/>\r\n    <path clip-path=\"url(#pbef88667c5)\" d=\"M 693.478125 224.64 \r\nL 760.438125 224.64 \r\nL 760.438125 279 \r\nL 693.478125 279 \r\nL 693.478125 224.64 \r\n\" style=\"fill:none;\"/>\r\n    <path clip-path=\"url(#pbef88667c5)\" d=\"M 760.438125 224.64 \r\nL 827.398125 224.64 \r\nL 827.398125 279 \r\nL 760.438125 279 \r\nL 760.438125 224.64 \r\n\" style=\"fill:none;\"/>\r\n    <path clip-path=\"url(#pbef88667c5)\" d=\"M 23.878125 279 \r\nL 90.838125 279 \r\nL 90.838125 333.36 \r\nL 23.878125 333.36 \r\nL 23.878125 279 \r\n\" style=\"fill:none;\"/>\r\n    <path clip-path=\"url(#pbef88667c5)\" d=\"M 90.838125 279 \r\nL 157.798125 279 \r\nL 157.798125 333.36 \r\nL 90.838125 333.36 \r\nL 90.838125 279 \r\n\" style=\"fill:none;\"/>\r\n    <path clip-path=\"url(#pbef88667c5)\" d=\"M 157.798125 279 \r\nL 224.758125 279 \r\nL 224.758125 333.36 \r\nL 157.798125 333.36 \r\nL 157.798125 279 \r\n\" style=\"fill:none;\"/>\r\n    <path clip-path=\"url(#pbef88667c5)\" d=\"M 224.758125 279 \r\nL 291.718125 279 \r\nL 291.718125 333.36 \r\nL 224.758125 333.36 \r\nL 224.758125 279 \r\n\" style=\"fill:none;\"/>\r\n    <path clip-path=\"url(#pbef88667c5)\" d=\"M 291.718125 279 \r\nL 358.678125 279 \r\nL 358.678125 333.36 \r\nL 291.718125 333.36 \r\nL 291.718125 279 \r\n\" style=\"fill:none;\"/>\r\n    <path clip-path=\"url(#pbef88667c5)\" d=\"M 358.678125 279 \r\nL 425.638125 279 \r\nL 425.638125 333.36 \r\nL 358.678125 333.36 \r\nL 358.678125 279 \r\n\" style=\"fill:none;\"/>\r\n    <path clip-path=\"url(#pbef88667c5)\" d=\"M 425.638125 279 \r\nL 492.598125 279 \r\nL 492.598125 333.36 \r\nL 425.638125 333.36 \r\nL 425.638125 279 \r\n\" style=\"fill:none;\"/>\r\n    <path clip-path=\"url(#pbef88667c5)\" d=\"M 492.598125 279 \r\nL 559.558125 279 \r\nL 559.558125 333.36 \r\nL 492.598125 333.36 \r\nL 492.598125 279 \r\n\" style=\"fill:none;\"/>\r\n    <path clip-path=\"url(#pbef88667c5)\" d=\"M 559.558125 279 \r\nL 626.518125 279 \r\nL 626.518125 333.36 \r\nL 559.558125 333.36 \r\nL 559.558125 279 \r\n\" style=\"fill:none;\"/>\r\n    <path clip-path=\"url(#pbef88667c5)\" d=\"M 626.518125 279 \r\nL 693.478125 279 \r\nL 693.478125 333.36 \r\nL 626.518125 333.36 \r\nL 626.518125 279 \r\n\" style=\"fill:none;\"/>\r\n    <path clip-path=\"url(#pbef88667c5)\" d=\"M 693.478125 279 \r\nL 760.438125 279 \r\nL 760.438125 333.36 \r\nL 693.478125 333.36 \r\nL 693.478125 279 \r\n\" style=\"fill:none;\"/>\r\n    <path clip-path=\"url(#pbef88667c5)\" d=\"M 760.438125 279 \r\nL 827.398125 279 \r\nL 827.398125 333.36 \r\nL 760.438125 333.36 \r\nL 760.438125 279 \r\n\" style=\"fill:none;\"/>\r\n    <path clip-path=\"url(#pbef88667c5)\" d=\"M 23.878125 333.36 \r\nL 90.838125 333.36 \r\nL 90.838125 387.72 \r\nL 23.878125 387.72 \r\nL 23.878125 333.36 \r\n\" style=\"fill:none;\"/>\r\n    <path clip-path=\"url(#pbef88667c5)\" d=\"M 90.838125 333.36 \r\nL 157.798125 333.36 \r\nL 157.798125 387.72 \r\nL 90.838125 387.72 \r\nL 90.838125 333.36 \r\n\" style=\"fill:none;\"/>\r\n    <path clip-path=\"url(#pbef88667c5)\" d=\"M 157.798125 333.36 \r\nL 224.758125 333.36 \r\nL 224.758125 387.72 \r\nL 157.798125 387.72 \r\nL 157.798125 333.36 \r\n\" style=\"fill:none;\"/>\r\n    <path clip-path=\"url(#pbef88667c5)\" d=\"M 224.758125 333.36 \r\nL 291.718125 333.36 \r\nL 291.718125 387.72 \r\nL 224.758125 387.72 \r\nL 224.758125 333.36 \r\n\" style=\"fill:none;\"/>\r\n    <path clip-path=\"url(#pbef88667c5)\" d=\"M 291.718125 333.36 \r\nL 358.678125 333.36 \r\nL 358.678125 387.72 \r\nL 291.718125 387.72 \r\nL 291.718125 333.36 \r\n\" style=\"fill:none;\"/>\r\n    <path clip-path=\"url(#pbef88667c5)\" d=\"M 358.678125 333.36 \r\nL 425.638125 333.36 \r\nL 425.638125 387.72 \r\nL 358.678125 387.72 \r\nL 358.678125 333.36 \r\n\" style=\"fill:none;\"/>\r\n    <path clip-path=\"url(#pbef88667c5)\" d=\"M 425.638125 333.36 \r\nL 492.598125 333.36 \r\nL 492.598125 387.72 \r\nL 425.638125 387.72 \r\nL 425.638125 333.36 \r\n\" style=\"fill:none;\"/>\r\n    <path clip-path=\"url(#pbef88667c5)\" d=\"M 492.598125 333.36 \r\nL 559.558125 333.36 \r\nL 559.558125 387.72 \r\nL 492.598125 387.72 \r\nL 492.598125 333.36 \r\n\" style=\"fill:none;\"/>\r\n    <path clip-path=\"url(#pbef88667c5)\" d=\"M 559.558125 333.36 \r\nL 626.518125 333.36 \r\nL 626.518125 387.72 \r\nL 559.558125 387.72 \r\nL 559.558125 333.36 \r\n\" style=\"fill:none;\"/>\r\n    <path clip-path=\"url(#pbef88667c5)\" d=\"M 626.518125 333.36 \r\nL 693.478125 333.36 \r\nL 693.478125 387.72 \r\nL 626.518125 387.72 \r\nL 626.518125 333.36 \r\n\" style=\"fill:none;\"/>\r\n    <path clip-path=\"url(#pbef88667c5)\" d=\"M 693.478125 333.36 \r\nL 760.438125 333.36 \r\nL 760.438125 387.72 \r\nL 693.478125 387.72 \r\nL 693.478125 333.36 \r\n\" style=\"fill:none;\"/>\r\n    <path clip-path=\"url(#pbef88667c5)\" d=\"M 760.438125 333.36 \r\nL 827.398125 333.36 \r\nL 827.398125 387.72 \r\nL 760.438125 387.72 \r\nL 760.438125 333.36 \r\n\" style=\"fill:none;\"/>\r\n    <path clip-path=\"url(#pbef88667c5)\" d=\"M 23.878125 387.72 \r\nL 90.838125 387.72 \r\nL 90.838125 442.08 \r\nL 23.878125 442.08 \r\nL 23.878125 387.72 \r\n\" style=\"fill:none;\"/>\r\n    <path clip-path=\"url(#pbef88667c5)\" d=\"M 90.838125 387.72 \r\nL 157.798125 387.72 \r\nL 157.798125 442.08 \r\nL 90.838125 442.08 \r\nL 90.838125 387.72 \r\n\" style=\"fill:none;\"/>\r\n    <path clip-path=\"url(#pbef88667c5)\" d=\"M 157.798125 387.72 \r\nL 224.758125 387.72 \r\nL 224.758125 442.08 \r\nL 157.798125 442.08 \r\nL 157.798125 387.72 \r\n\" style=\"fill:none;\"/>\r\n    <path clip-path=\"url(#pbef88667c5)\" d=\"M 224.758125 387.72 \r\nL 291.718125 387.72 \r\nL 291.718125 442.08 \r\nL 224.758125 442.08 \r\nL 224.758125 387.72 \r\n\" style=\"fill:none;\"/>\r\n    <path clip-path=\"url(#pbef88667c5)\" d=\"M 291.718125 387.72 \r\nL 358.678125 387.72 \r\nL 358.678125 442.08 \r\nL 291.718125 442.08 \r\nL 291.718125 387.72 \r\n\" style=\"fill:none;\"/>\r\n    <path clip-path=\"url(#pbef88667c5)\" d=\"M 358.678125 387.72 \r\nL 425.638125 387.72 \r\nL 425.638125 442.08 \r\nL 358.678125 442.08 \r\nL 358.678125 387.72 \r\n\" style=\"fill:none;\"/>\r\n    <path clip-path=\"url(#pbef88667c5)\" d=\"M 425.638125 387.72 \r\nL 492.598125 387.72 \r\nL 492.598125 442.08 \r\nL 425.638125 442.08 \r\nL 425.638125 387.72 \r\n\" style=\"fill:none;\"/>\r\n    <path clip-path=\"url(#pbef88667c5)\" d=\"M 492.598125 387.72 \r\nL 559.558125 387.72 \r\nL 559.558125 442.08 \r\nL 492.598125 442.08 \r\nL 492.598125 387.72 \r\n\" style=\"fill:none;\"/>\r\n    <path clip-path=\"url(#pbef88667c5)\" d=\"M 559.558125 387.72 \r\nL 626.518125 387.72 \r\nL 626.518125 442.08 \r\nL 559.558125 442.08 \r\nL 559.558125 387.72 \r\n\" style=\"fill:none;\"/>\r\n    <path clip-path=\"url(#pbef88667c5)\" d=\"M 626.518125 387.72 \r\nL 693.478125 387.72 \r\nL 693.478125 442.08 \r\nL 626.518125 442.08 \r\nL 626.518125 387.72 \r\n\" style=\"fill:none;\"/>\r\n    <path clip-path=\"url(#pbef88667c5)\" d=\"M 693.478125 387.72 \r\nL 760.438125 387.72 \r\nL 760.438125 442.08 \r\nL 693.478125 442.08 \r\nL 693.478125 387.72 \r\n\" style=\"fill:none;\"/>\r\n    <path clip-path=\"url(#pbef88667c5)\" d=\"M 760.438125 387.72 \r\nL 827.398125 387.72 \r\nL 827.398125 442.08 \r\nL 760.438125 442.08 \r\nL 760.438125 387.72 \r\n\" style=\"fill:none;\"/>\r\n    <path clip-path=\"url(#pbef88667c5)\" d=\"M 23.878125 442.08 \r\nL 90.838125 442.08 \r\nL 90.838125 496.44 \r\nL 23.878125 496.44 \r\nL 23.878125 442.08 \r\n\" style=\"fill:none;\"/>\r\n    <path clip-path=\"url(#pbef88667c5)\" d=\"M 90.838125 442.08 \r\nL 157.798125 442.08 \r\nL 157.798125 496.44 \r\nL 90.838125 496.44 \r\nL 90.838125 442.08 \r\n\" style=\"fill:none;\"/>\r\n    <path clip-path=\"url(#pbef88667c5)\" d=\"M 157.798125 442.08 \r\nL 224.758125 442.08 \r\nL 224.758125 496.44 \r\nL 157.798125 496.44 \r\nL 157.798125 442.08 \r\n\" style=\"fill:none;\"/>\r\n    <path clip-path=\"url(#pbef88667c5)\" d=\"M 224.758125 442.08 \r\nL 291.718125 442.08 \r\nL 291.718125 496.44 \r\nL 224.758125 496.44 \r\nL 224.758125 442.08 \r\n\" style=\"fill:none;\"/>\r\n    <path clip-path=\"url(#pbef88667c5)\" d=\"M 291.718125 442.08 \r\nL 358.678125 442.08 \r\nL 358.678125 496.44 \r\nL 291.718125 496.44 \r\nL 291.718125 442.08 \r\n\" style=\"fill:none;\"/>\r\n    <path clip-path=\"url(#pbef88667c5)\" d=\"M 358.678125 442.08 \r\nL 425.638125 442.08 \r\nL 425.638125 496.44 \r\nL 358.678125 496.44 \r\nL 358.678125 442.08 \r\n\" style=\"fill:none;\"/>\r\n    <path clip-path=\"url(#pbef88667c5)\" d=\"M 425.638125 442.08 \r\nL 492.598125 442.08 \r\nL 492.598125 496.44 \r\nL 425.638125 496.44 \r\nL 425.638125 442.08 \r\n\" style=\"fill:none;\"/>\r\n    <path clip-path=\"url(#pbef88667c5)\" d=\"M 492.598125 442.08 \r\nL 559.558125 442.08 \r\nL 559.558125 496.44 \r\nL 492.598125 496.44 \r\nL 492.598125 442.08 \r\n\" style=\"fill:none;\"/>\r\n    <path clip-path=\"url(#pbef88667c5)\" d=\"M 559.558125 442.08 \r\nL 626.518125 442.08 \r\nL 626.518125 496.44 \r\nL 559.558125 496.44 \r\nL 559.558125 442.08 \r\n\" style=\"fill:none;\"/>\r\n    <path clip-path=\"url(#pbef88667c5)\" d=\"M 626.518125 442.08 \r\nL 693.478125 442.08 \r\nL 693.478125 496.44 \r\nL 626.518125 496.44 \r\nL 626.518125 442.08 \r\n\" style=\"fill:none;\"/>\r\n    <path clip-path=\"url(#pbef88667c5)\" d=\"M 693.478125 442.08 \r\nL 760.438125 442.08 \r\nL 760.438125 496.44 \r\nL 693.478125 496.44 \r\nL 693.478125 442.08 \r\n\" style=\"fill:none;\"/>\r\n    <path clip-path=\"url(#pbef88667c5)\" d=\"M 760.438125 442.08 \r\nL 827.398125 442.08 \r\nL 827.398125 496.44 \r\nL 760.438125 496.44 \r\nL 760.438125 442.08 \r\n\" style=\"fill:none;\"/>\r\n    <path clip-path=\"url(#pbef88667c5)\" d=\"M 23.878125 496.44 \r\nL 90.838125 496.44 \r\nL 90.838125 550.8 \r\nL 23.878125 550.8 \r\nL 23.878125 496.44 \r\n\" style=\"fill:none;\"/>\r\n    <path clip-path=\"url(#pbef88667c5)\" d=\"M 90.838125 496.44 \r\nL 157.798125 496.44 \r\nL 157.798125 550.8 \r\nL 90.838125 550.8 \r\nL 90.838125 496.44 \r\n\" style=\"fill:none;\"/>\r\n    <path clip-path=\"url(#pbef88667c5)\" d=\"M 157.798125 496.44 \r\nL 224.758125 496.44 \r\nL 224.758125 550.8 \r\nL 157.798125 550.8 \r\nL 157.798125 496.44 \r\n\" style=\"fill:none;\"/>\r\n    <path clip-path=\"url(#pbef88667c5)\" d=\"M 224.758125 496.44 \r\nL 291.718125 496.44 \r\nL 291.718125 550.8 \r\nL 224.758125 550.8 \r\nL 224.758125 496.44 \r\n\" style=\"fill:none;\"/>\r\n    <path clip-path=\"url(#pbef88667c5)\" d=\"M 291.718125 496.44 \r\nL 358.678125 496.44 \r\nL 358.678125 550.8 \r\nL 291.718125 550.8 \r\nL 291.718125 496.44 \r\n\" style=\"fill:none;\"/>\r\n    <path clip-path=\"url(#pbef88667c5)\" d=\"M 358.678125 496.44 \r\nL 425.638125 496.44 \r\nL 425.638125 550.8 \r\nL 358.678125 550.8 \r\nL 358.678125 496.44 \r\n\" style=\"fill:none;\"/>\r\n    <path clip-path=\"url(#pbef88667c5)\" d=\"M 425.638125 496.44 \r\nL 492.598125 496.44 \r\nL 492.598125 550.8 \r\nL 425.638125 550.8 \r\nL 425.638125 496.44 \r\n\" style=\"fill:none;\"/>\r\n    <path clip-path=\"url(#pbef88667c5)\" d=\"M 492.598125 496.44 \r\nL 559.558125 496.44 \r\nL 559.558125 550.8 \r\nL 492.598125 550.8 \r\nL 492.598125 496.44 \r\n\" style=\"fill:none;\"/>\r\n    <path clip-path=\"url(#pbef88667c5)\" d=\"M 559.558125 496.44 \r\nL 626.518125 496.44 \r\nL 626.518125 550.8 \r\nL 559.558125 550.8 \r\nL 559.558125 496.44 \r\n\" style=\"fill:none;\"/>\r\n    <path clip-path=\"url(#pbef88667c5)\" d=\"M 626.518125 496.44 \r\nL 693.478125 496.44 \r\nL 693.478125 550.8 \r\nL 626.518125 550.8 \r\nL 626.518125 496.44 \r\n\" style=\"fill:none;\"/>\r\n    <path clip-path=\"url(#pbef88667c5)\" d=\"M 693.478125 496.44 \r\nL 760.438125 496.44 \r\nL 760.438125 550.8 \r\nL 693.478125 550.8 \r\nL 693.478125 496.44 \r\n\" style=\"fill:none;\"/>\r\n    <path clip-path=\"url(#pbef88667c5)\" d=\"M 760.438125 496.44 \r\nL 827.398125 496.44 \r\nL 827.398125 550.8 \r\nL 760.438125 550.8 \r\nL 760.438125 496.44 \r\n\" style=\"fill:none;\"/>\r\n    <path clip-path=\"url(#pbef88667c5)\" d=\"M 23.878125 550.8 \r\nL 90.838125 550.8 \r\nL 90.838125 605.16 \r\nL 23.878125 605.16 \r\nL 23.878125 550.8 \r\n\" style=\"fill:none;\"/>\r\n    <path clip-path=\"url(#pbef88667c5)\" d=\"M 90.838125 550.8 \r\nL 157.798125 550.8 \r\nL 157.798125 605.16 \r\nL 90.838125 605.16 \r\nL 90.838125 550.8 \r\n\" style=\"fill:none;\"/>\r\n    <path clip-path=\"url(#pbef88667c5)\" d=\"M 157.798125 550.8 \r\nL 224.758125 550.8 \r\nL 224.758125 605.16 \r\nL 157.798125 605.16 \r\nL 157.798125 550.8 \r\n\" style=\"fill:none;\"/>\r\n    <path clip-path=\"url(#pbef88667c5)\" d=\"M 224.758125 550.8 \r\nL 291.718125 550.8 \r\nL 291.718125 605.16 \r\nL 224.758125 605.16 \r\nL 224.758125 550.8 \r\n\" style=\"fill:none;\"/>\r\n    <path clip-path=\"url(#pbef88667c5)\" d=\"M 291.718125 550.8 \r\nL 358.678125 550.8 \r\nL 358.678125 605.16 \r\nL 291.718125 605.16 \r\nL 291.718125 550.8 \r\n\" style=\"fill:none;\"/>\r\n    <path clip-path=\"url(#pbef88667c5)\" d=\"M 358.678125 550.8 \r\nL 425.638125 550.8 \r\nL 425.638125 605.16 \r\nL 358.678125 605.16 \r\nL 358.678125 550.8 \r\n\" style=\"fill:none;\"/>\r\n    <path clip-path=\"url(#pbef88667c5)\" d=\"M 425.638125 550.8 \r\nL 492.598125 550.8 \r\nL 492.598125 605.16 \r\nL 425.638125 605.16 \r\nL 425.638125 550.8 \r\n\" style=\"fill:none;\"/>\r\n    <path clip-path=\"url(#pbef88667c5)\" d=\"M 492.598125 550.8 \r\nL 559.558125 550.8 \r\nL 559.558125 605.16 \r\nL 492.598125 605.16 \r\nL 492.598125 550.8 \r\n\" style=\"fill:none;\"/>\r\n    <path clip-path=\"url(#pbef88667c5)\" d=\"M 559.558125 550.8 \r\nL 626.518125 550.8 \r\nL 626.518125 605.16 \r\nL 559.558125 605.16 \r\nL 559.558125 550.8 \r\n\" style=\"fill:none;\"/>\r\n    <path clip-path=\"url(#pbef88667c5)\" d=\"M 626.518125 550.8 \r\nL 693.478125 550.8 \r\nL 693.478125 605.16 \r\nL 626.518125 605.16 \r\nL 626.518125 550.8 \r\n\" style=\"fill:none;\"/>\r\n    <path clip-path=\"url(#pbef88667c5)\" d=\"M 693.478125 550.8 \r\nL 760.438125 550.8 \r\nL 760.438125 605.16 \r\nL 693.478125 605.16 \r\nL 693.478125 550.8 \r\n\" style=\"fill:none;\"/>\r\n    <path clip-path=\"url(#pbef88667c5)\" d=\"M 760.438125 550.8 \r\nL 827.398125 550.8 \r\nL 827.398125 605.16 \r\nL 760.438125 605.16 \r\nL 760.438125 550.8 \r\n\" style=\"fill:none;\"/>\r\n    <path clip-path=\"url(#pbef88667c5)\" d=\"M 23.878125 605.16 \r\nL 90.838125 605.16 \r\nL 90.838125 659.52 \r\nL 23.878125 659.52 \r\nL 23.878125 605.16 \r\n\" style=\"fill:none;\"/>\r\n    <path clip-path=\"url(#pbef88667c5)\" d=\"M 90.838125 605.16 \r\nL 157.798125 605.16 \r\nL 157.798125 659.52 \r\nL 90.838125 659.52 \r\nL 90.838125 605.16 \r\n\" style=\"fill:none;\"/>\r\n    <path clip-path=\"url(#pbef88667c5)\" d=\"M 157.798125 605.16 \r\nL 224.758125 605.16 \r\nL 224.758125 659.52 \r\nL 157.798125 659.52 \r\nL 157.798125 605.16 \r\n\" style=\"fill:none;\"/>\r\n    <path clip-path=\"url(#pbef88667c5)\" d=\"M 224.758125 605.16 \r\nL 291.718125 605.16 \r\nL 291.718125 659.52 \r\nL 224.758125 659.52 \r\nL 224.758125 605.16 \r\n\" style=\"fill:none;\"/>\r\n    <path clip-path=\"url(#pbef88667c5)\" d=\"M 291.718125 605.16 \r\nL 358.678125 605.16 \r\nL 358.678125 659.52 \r\nL 291.718125 659.52 \r\nL 291.718125 605.16 \r\n\" style=\"fill:none;\"/>\r\n    <path clip-path=\"url(#pbef88667c5)\" d=\"M 358.678125 605.16 \r\nL 425.638125 605.16 \r\nL 425.638125 659.52 \r\nL 358.678125 659.52 \r\nL 358.678125 605.16 \r\n\" style=\"fill:none;\"/>\r\n    <path clip-path=\"url(#pbef88667c5)\" d=\"M 425.638125 605.16 \r\nL 492.598125 605.16 \r\nL 492.598125 659.52 \r\nL 425.638125 659.52 \r\nL 425.638125 605.16 \r\n\" style=\"fill:none;\"/>\r\n    <path clip-path=\"url(#pbef88667c5)\" d=\"M 492.598125 605.16 \r\nL 559.558125 605.16 \r\nL 559.558125 659.52 \r\nL 492.598125 659.52 \r\nL 492.598125 605.16 \r\n\" style=\"fill:none;\"/>\r\n    <path clip-path=\"url(#pbef88667c5)\" d=\"M 559.558125 605.16 \r\nL 626.518125 605.16 \r\nL 626.518125 659.52 \r\nL 559.558125 659.52 \r\nL 559.558125 605.16 \r\n\" style=\"fill:none;\"/>\r\n    <path clip-path=\"url(#pbef88667c5)\" d=\"M 626.518125 605.16 \r\nL 693.478125 605.16 \r\nL 693.478125 659.52 \r\nL 626.518125 659.52 \r\nL 626.518125 605.16 \r\n\" style=\"fill:none;\"/>\r\n    <path clip-path=\"url(#pbef88667c5)\" d=\"M 693.478125 605.16 \r\nL 760.438125 605.16 \r\nL 760.438125 659.52 \r\nL 693.478125 659.52 \r\nL 693.478125 605.16 \r\n\" style=\"fill:none;\"/>\r\n    <path clip-path=\"url(#pbef88667c5)\" d=\"M 760.438125 605.16 \r\nL 827.398125 605.16 \r\nL 827.398125 659.52 \r\nL 760.438125 659.52 \r\nL 760.438125 605.16 \r\n\" style=\"fill:none;\"/>\r\n   </g>\r\n   <g id=\"matplotlib.axis_1\">\r\n    <g id=\"xtick_1\">\r\n     <g id=\"line2d_1\">\r\n      <defs>\r\n       <path d=\"M 0 0 \r\nL 0 3.5 \r\n\" id=\"mf3125375db\" style=\"stroke:#000000;stroke-width:0.8;\"/>\r\n      </defs>\r\n      <g>\r\n       <use style=\"stroke:#000000;stroke-width:0.8;\" x=\"57.358125\" xlink:href=\"#mf3125375db\" y=\"659.52\"/>\r\n      </g>\r\n     </g>\r\n     <g id=\"text_1\">\r\n      <!-- VERB -->\r\n      <g transform=\"translate(43.87375 674.118438)scale(0.1 -0.1)\">\r\n       <defs>\r\n        <path d=\"M 28.609375 0 \r\nL 0.78125 72.90625 \r\nL 11.078125 72.90625 \r\nL 34.1875 11.53125 \r\nL 57.328125 72.90625 \r\nL 67.578125 72.90625 \r\nL 39.796875 0 \r\nz\r\n\" id=\"DejaVuSans-86\"/>\r\n        <path d=\"M 9.8125 72.90625 \r\nL 55.90625 72.90625 \r\nL 55.90625 64.59375 \r\nL 19.671875 64.59375 \r\nL 19.671875 43.015625 \r\nL 54.390625 43.015625 \r\nL 54.390625 34.71875 \r\nL 19.671875 34.71875 \r\nL 19.671875 8.296875 \r\nL 56.78125 8.296875 \r\nL 56.78125 0 \r\nL 9.8125 0 \r\nz\r\n\" id=\"DejaVuSans-69\"/>\r\n        <path d=\"M 44.390625 34.1875 \r\nQ 47.5625 33.109375 50.5625 29.59375 \r\nQ 53.5625 26.078125 56.59375 19.921875 \r\nL 66.609375 0 \r\nL 56 0 \r\nL 46.6875 18.703125 \r\nQ 43.0625 26.03125 39.671875 28.421875 \r\nQ 36.28125 30.8125 30.421875 30.8125 \r\nL 19.671875 30.8125 \r\nL 19.671875 0 \r\nL 9.8125 0 \r\nL 9.8125 72.90625 \r\nL 32.078125 72.90625 \r\nQ 44.578125 72.90625 50.734375 67.671875 \r\nQ 56.890625 62.453125 56.890625 51.90625 \r\nQ 56.890625 45.015625 53.6875 40.46875 \r\nQ 50.484375 35.9375 44.390625 34.1875 \r\nz\r\nM 19.671875 64.796875 \r\nL 19.671875 38.921875 \r\nL 32.078125 38.921875 \r\nQ 39.203125 38.921875 42.84375 42.21875 \r\nQ 46.484375 45.515625 46.484375 51.90625 \r\nQ 46.484375 58.296875 42.84375 61.546875 \r\nQ 39.203125 64.796875 32.078125 64.796875 \r\nz\r\n\" id=\"DejaVuSans-82\"/>\r\n        <path d=\"M 19.671875 34.8125 \r\nL 19.671875 8.109375 \r\nL 35.5 8.109375 \r\nQ 43.453125 8.109375 47.28125 11.40625 \r\nQ 51.125 14.703125 51.125 21.484375 \r\nQ 51.125 28.328125 47.28125 31.5625 \r\nQ 43.453125 34.8125 35.5 34.8125 \r\nz\r\nM 19.671875 64.796875 \r\nL 19.671875 42.828125 \r\nL 34.28125 42.828125 \r\nQ 41.5 42.828125 45.03125 45.53125 \r\nQ 48.578125 48.25 48.578125 53.8125 \r\nQ 48.578125 59.328125 45.03125 62.0625 \r\nQ 41.5 64.796875 34.28125 64.796875 \r\nz\r\nM 9.8125 72.90625 \r\nL 35.015625 72.90625 \r\nQ 46.296875 72.90625 52.390625 68.21875 \r\nQ 58.5 63.53125 58.5 54.890625 \r\nQ 58.5 48.1875 55.375 44.234375 \r\nQ 52.25 40.28125 46.1875 39.3125 \r\nQ 53.46875 37.75 57.5 32.78125 \r\nQ 61.53125 27.828125 61.53125 20.40625 \r\nQ 61.53125 10.640625 54.890625 5.3125 \r\nQ 48.25 0 35.984375 0 \r\nL 9.8125 0 \r\nz\r\n\" id=\"DejaVuSans-66\"/>\r\n       </defs>\r\n       <use xlink:href=\"#DejaVuSans-86\"/>\r\n       <use x=\"68.408203\" xlink:href=\"#DejaVuSans-69\"/>\r\n       <use x=\"131.591797\" xlink:href=\"#DejaVuSans-82\"/>\r\n       <use x=\"201.074219\" xlink:href=\"#DejaVuSans-66\"/>\r\n      </g>\r\n     </g>\r\n    </g>\r\n    <g id=\"xtick_2\">\r\n     <g id=\"line2d_2\">\r\n      <g>\r\n       <use style=\"stroke:#000000;stroke-width:0.8;\" x=\"124.318125\" xlink:href=\"#mf3125375db\" y=\"659.52\"/>\r\n      </g>\r\n     </g>\r\n     <g id=\"text_2\">\r\n      <!-- NOUN -->\r\n      <g transform=\"translate(109.241562 674.118438)scale(0.1 -0.1)\">\r\n       <defs>\r\n        <path d=\"M 9.8125 72.90625 \r\nL 23.09375 72.90625 \r\nL 55.421875 11.921875 \r\nL 55.421875 72.90625 \r\nL 64.984375 72.90625 \r\nL 64.984375 0 \r\nL 51.703125 0 \r\nL 19.390625 60.984375 \r\nL 19.390625 0 \r\nL 9.8125 0 \r\nz\r\n\" id=\"DejaVuSans-78\"/>\r\n        <path d=\"M 39.40625 66.21875 \r\nQ 28.65625 66.21875 22.328125 58.203125 \r\nQ 16.015625 50.203125 16.015625 36.375 \r\nQ 16.015625 22.609375 22.328125 14.59375 \r\nQ 28.65625 6.59375 39.40625 6.59375 \r\nQ 50.140625 6.59375 56.421875 14.59375 \r\nQ 62.703125 22.609375 62.703125 36.375 \r\nQ 62.703125 50.203125 56.421875 58.203125 \r\nQ 50.140625 66.21875 39.40625 66.21875 \r\nz\r\nM 39.40625 74.21875 \r\nQ 54.734375 74.21875 63.90625 63.9375 \r\nQ 73.09375 53.65625 73.09375 36.375 \r\nQ 73.09375 19.140625 63.90625 8.859375 \r\nQ 54.734375 -1.421875 39.40625 -1.421875 \r\nQ 24.03125 -1.421875 14.8125 8.828125 \r\nQ 5.609375 19.09375 5.609375 36.375 \r\nQ 5.609375 53.65625 14.8125 63.9375 \r\nQ 24.03125 74.21875 39.40625 74.21875 \r\nz\r\n\" id=\"DejaVuSans-79\"/>\r\n        <path d=\"M 8.6875 72.90625 \r\nL 18.609375 72.90625 \r\nL 18.609375 28.609375 \r\nQ 18.609375 16.890625 22.84375 11.734375 \r\nQ 27.09375 6.59375 36.625 6.59375 \r\nQ 46.09375 6.59375 50.34375 11.734375 \r\nQ 54.59375 16.890625 54.59375 28.609375 \r\nL 54.59375 72.90625 \r\nL 64.5 72.90625 \r\nL 64.5 27.390625 \r\nQ 64.5 13.140625 57.4375 5.859375 \r\nQ 50.390625 -1.421875 36.625 -1.421875 \r\nQ 22.796875 -1.421875 15.734375 5.859375 \r\nQ 8.6875 13.140625 8.6875 27.390625 \r\nz\r\n\" id=\"DejaVuSans-85\"/>\r\n       </defs>\r\n       <use xlink:href=\"#DejaVuSans-78\"/>\r\n       <use x=\"74.804688\" xlink:href=\"#DejaVuSans-79\"/>\r\n       <use x=\"153.515625\" xlink:href=\"#DejaVuSans-85\"/>\r\n       <use x=\"226.708984\" xlink:href=\"#DejaVuSans-78\"/>\r\n      </g>\r\n     </g>\r\n    </g>\r\n    <g id=\"xtick_3\">\r\n     <g id=\"line2d_3\">\r\n      <g>\r\n       <use style=\"stroke:#000000;stroke-width:0.8;\" x=\"191.278125\" xlink:href=\"#mf3125375db\" y=\"659.52\"/>\r\n      </g>\r\n     </g>\r\n     <g id=\"text_3\">\r\n      <!-- DET -->\r\n      <g transform=\"translate(181.214844 674.118438)scale(0.1 -0.1)\">\r\n       <defs>\r\n        <path d=\"M 19.671875 64.796875 \r\nL 19.671875 8.109375 \r\nL 31.59375 8.109375 \r\nQ 46.6875 8.109375 53.6875 14.9375 \r\nQ 60.6875 21.78125 60.6875 36.53125 \r\nQ 60.6875 51.171875 53.6875 57.984375 \r\nQ 46.6875 64.796875 31.59375 64.796875 \r\nz\r\nM 9.8125 72.90625 \r\nL 30.078125 72.90625 \r\nQ 51.265625 72.90625 61.171875 64.09375 \r\nQ 71.09375 55.28125 71.09375 36.53125 \r\nQ 71.09375 17.671875 61.125 8.828125 \r\nQ 51.171875 0 30.078125 0 \r\nL 9.8125 0 \r\nz\r\n\" id=\"DejaVuSans-68\"/>\r\n        <path d=\"M -0.296875 72.90625 \r\nL 61.375 72.90625 \r\nL 61.375 64.59375 \r\nL 35.5 64.59375 \r\nL 35.5 0 \r\nL 25.59375 0 \r\nL 25.59375 64.59375 \r\nL -0.296875 64.59375 \r\nz\r\n\" id=\"DejaVuSans-84\"/>\r\n       </defs>\r\n       <use xlink:href=\"#DejaVuSans-68\"/>\r\n       <use x=\"77.001953\" xlink:href=\"#DejaVuSans-69\"/>\r\n       <use x=\"140.185547\" xlink:href=\"#DejaVuSans-84\"/>\r\n      </g>\r\n     </g>\r\n    </g>\r\n    <g id=\"xtick_4\">\r\n     <g id=\"line2d_4\">\r\n      <g>\r\n       <use style=\"stroke:#000000;stroke-width:0.8;\" x=\"258.238125\" xlink:href=\"#mf3125375db\" y=\"659.52\"/>\r\n      </g>\r\n     </g>\r\n     <g id=\"text_4\">\r\n      <!-- ADJ -->\r\n      <g transform=\"translate(249.492812 674.118438)scale(0.1 -0.1)\">\r\n       <defs>\r\n        <path d=\"M 34.1875 63.1875 \r\nL 20.796875 26.90625 \r\nL 47.609375 26.90625 \r\nz\r\nM 28.609375 72.90625 \r\nL 39.796875 72.90625 \r\nL 67.578125 0 \r\nL 57.328125 0 \r\nL 50.6875 18.703125 \r\nL 17.828125 18.703125 \r\nL 11.1875 0 \r\nL 0.78125 0 \r\nz\r\n\" id=\"DejaVuSans-65\"/>\r\n        <path d=\"M 9.8125 72.90625 \r\nL 19.671875 72.90625 \r\nL 19.671875 5.078125 \r\nQ 19.671875 -8.109375 14.671875 -14.0625 \r\nQ 9.671875 -20.015625 -1.421875 -20.015625 \r\nL -5.171875 -20.015625 \r\nL -5.171875 -11.71875 \r\nL -2.09375 -11.71875 \r\nQ 4.4375 -11.71875 7.125 -8.046875 \r\nQ 9.8125 -4.390625 9.8125 5.078125 \r\nz\r\n\" id=\"DejaVuSans-74\"/>\r\n       </defs>\r\n       <use xlink:href=\"#DejaVuSans-65\"/>\r\n       <use x=\"68.408203\" xlink:href=\"#DejaVuSans-68\"/>\r\n       <use x=\"145.410156\" xlink:href=\"#DejaVuSans-74\"/>\r\n      </g>\r\n     </g>\r\n    </g>\r\n    <g id=\"xtick_5\">\r\n     <g id=\"line2d_5\">\r\n      <g>\r\n       <use style=\"stroke:#000000;stroke-width:0.8;\" x=\"325.198125\" xlink:href=\"#mf3125375db\" y=\"659.52\"/>\r\n      </g>\r\n     </g>\r\n     <g id=\"text_5\">\r\n      <!-- ADV -->\r\n      <g transform=\"translate(314.595 674.118438)scale(0.1 -0.1)\">\r\n       <use xlink:href=\"#DejaVuSans-65\"/>\r\n       <use x=\"68.408203\" xlink:href=\"#DejaVuSans-68\"/>\r\n       <use x=\"143.660156\" xlink:href=\"#DejaVuSans-86\"/>\r\n      </g>\r\n     </g>\r\n    </g>\r\n    <g id=\"xtick_6\">\r\n     <g id=\"line2d_6\">\r\n      <g>\r\n       <use style=\"stroke:#000000;stroke-width:0.8;\" x=\"392.158125\" xlink:href=\"#mf3125375db\" y=\"659.52\"/>\r\n      </g>\r\n     </g>\r\n     <g id=\"text_6\">\r\n      <!-- NUM -->\r\n      <g transform=\"translate(380.444063 674.118438)scale(0.1 -0.1)\">\r\n       <defs>\r\n        <path d=\"M 9.8125 72.90625 \r\nL 24.515625 72.90625 \r\nL 43.109375 23.296875 \r\nL 61.8125 72.90625 \r\nL 76.515625 72.90625 \r\nL 76.515625 0 \r\nL 66.890625 0 \r\nL 66.890625 64.015625 \r\nL 48.09375 14.015625 \r\nL 38.1875 14.015625 \r\nL 19.390625 64.015625 \r\nL 19.390625 0 \r\nL 9.8125 0 \r\nz\r\n\" id=\"DejaVuSans-77\"/>\r\n       </defs>\r\n       <use xlink:href=\"#DejaVuSans-78\"/>\r\n       <use x=\"74.804688\" xlink:href=\"#DejaVuSans-85\"/>\r\n       <use x=\"147.998047\" xlink:href=\"#DejaVuSans-77\"/>\r\n      </g>\r\n     </g>\r\n    </g>\r\n    <g id=\"xtick_7\">\r\n     <g id=\"line2d_7\">\r\n      <g>\r\n       <use style=\"stroke:#000000;stroke-width:0.8;\" x=\"459.118125\" xlink:href=\"#mf3125375db\" y=\"659.52\"/>\r\n      </g>\r\n     </g>\r\n     <g id=\"text_7\">\r\n      <!-- X -->\r\n      <g transform=\"translate(455.693125 674.118438)scale(0.1 -0.1)\">\r\n       <defs>\r\n        <path d=\"M 6.296875 72.90625 \r\nL 16.890625 72.90625 \r\nL 35.015625 45.796875 \r\nL 53.21875 72.90625 \r\nL 63.8125 72.90625 \r\nL 40.375 37.890625 \r\nL 65.375 0 \r\nL 54.78125 0 \r\nL 34.28125 31 \r\nL 13.625 0 \r\nL 2.984375 0 \r\nL 29 38.921875 \r\nz\r\n\" id=\"DejaVuSans-88\"/>\r\n       </defs>\r\n       <use xlink:href=\"#DejaVuSans-88\"/>\r\n      </g>\r\n     </g>\r\n    </g>\r\n    <g id=\"xtick_8\">\r\n     <g id=\"line2d_8\">\r\n      <g>\r\n       <use style=\"stroke:#000000;stroke-width:0.8;\" x=\"526.078125\" xlink:href=\"#mf3125375db\" y=\"659.52\"/>\r\n      </g>\r\n     </g>\r\n     <g id=\"text_8\">\r\n      <!-- PRON -->\r\n      <g transform=\"translate(511.9125 674.118438)scale(0.1 -0.1)\">\r\n       <defs>\r\n        <path d=\"M 19.671875 64.796875 \r\nL 19.671875 37.40625 \r\nL 32.078125 37.40625 \r\nQ 38.96875 37.40625 42.71875 40.96875 \r\nQ 46.484375 44.53125 46.484375 51.125 \r\nQ 46.484375 57.671875 42.71875 61.234375 \r\nQ 38.96875 64.796875 32.078125 64.796875 \r\nz\r\nM 9.8125 72.90625 \r\nL 32.078125 72.90625 \r\nQ 44.34375 72.90625 50.609375 67.359375 \r\nQ 56.890625 61.8125 56.890625 51.125 \r\nQ 56.890625 40.328125 50.609375 34.8125 \r\nQ 44.34375 29.296875 32.078125 29.296875 \r\nL 19.671875 29.296875 \r\nL 19.671875 0 \r\nL 9.8125 0 \r\nz\r\n\" id=\"DejaVuSans-80\"/>\r\n       </defs>\r\n       <use xlink:href=\"#DejaVuSans-80\"/>\r\n       <use x=\"60.302734\" xlink:href=\"#DejaVuSans-82\"/>\r\n       <use x=\"129.785156\" xlink:href=\"#DejaVuSans-79\"/>\r\n       <use x=\"208.496094\" xlink:href=\"#DejaVuSans-78\"/>\r\n      </g>\r\n     </g>\r\n    </g>\r\n    <g id=\"xtick_9\">\r\n     <g id=\"line2d_9\">\r\n      <g>\r\n       <use style=\"stroke:#000000;stroke-width:0.8;\" x=\"593.038125\" xlink:href=\"#mf3125375db\" y=\"659.52\"/>\r\n      </g>\r\n     </g>\r\n     <g id=\"text_9\">\r\n      <!-- PRT -->\r\n      <g transform=\"translate(583.857656 674.118438)scale(0.1 -0.1)\">\r\n       <use xlink:href=\"#DejaVuSans-80\"/>\r\n       <use x=\"60.302734\" xlink:href=\"#DejaVuSans-82\"/>\r\n       <use x=\"122.535156\" xlink:href=\"#DejaVuSans-84\"/>\r\n      </g>\r\n     </g>\r\n    </g>\r\n    <g id=\"xtick_10\">\r\n     <g id=\"line2d_10\">\r\n      <g>\r\n       <use style=\"stroke:#000000;stroke-width:0.8;\" x=\"659.998125\" xlink:href=\"#mf3125375db\" y=\"659.52\"/>\r\n      </g>\r\n     </g>\r\n     <g id=\"text_10\">\r\n      <!-- ADP -->\r\n      <g transform=\"translate(649.712969 674.118438)scale(0.1 -0.1)\">\r\n       <use xlink:href=\"#DejaVuSans-65\"/>\r\n       <use x=\"68.408203\" xlink:href=\"#DejaVuSans-68\"/>\r\n       <use x=\"145.410156\" xlink:href=\"#DejaVuSans-80\"/>\r\n      </g>\r\n     </g>\r\n    </g>\r\n    <g id=\"xtick_11\">\r\n     <g id=\"line2d_11\">\r\n      <g>\r\n       <use style=\"stroke:#000000;stroke-width:0.8;\" x=\"726.958125\" xlink:href=\"#mf3125375db\" y=\"659.52\"/>\r\n      </g>\r\n     </g>\r\n     <g id=\"text_11\">\r\n      <!-- CONJ -->\r\n      <g transform=\"translate(714.315156 674.118438)scale(0.1 -0.1)\">\r\n       <defs>\r\n        <path d=\"M 64.40625 67.28125 \r\nL 64.40625 56.890625 \r\nQ 59.421875 61.53125 53.78125 63.8125 \r\nQ 48.140625 66.109375 41.796875 66.109375 \r\nQ 29.296875 66.109375 22.65625 58.46875 \r\nQ 16.015625 50.828125 16.015625 36.375 \r\nQ 16.015625 21.96875 22.65625 14.328125 \r\nQ 29.296875 6.6875 41.796875 6.6875 \r\nQ 48.140625 6.6875 53.78125 8.984375 \r\nQ 59.421875 11.28125 64.40625 15.921875 \r\nL 64.40625 5.609375 \r\nQ 59.234375 2.09375 53.4375 0.328125 \r\nQ 47.65625 -1.421875 41.21875 -1.421875 \r\nQ 24.65625 -1.421875 15.125 8.703125 \r\nQ 5.609375 18.84375 5.609375 36.375 \r\nQ 5.609375 53.953125 15.125 64.078125 \r\nQ 24.65625 74.21875 41.21875 74.21875 \r\nQ 47.75 74.21875 53.53125 72.484375 \r\nQ 59.328125 70.75 64.40625 67.28125 \r\nz\r\n\" id=\"DejaVuSans-67\"/>\r\n       </defs>\r\n       <use xlink:href=\"#DejaVuSans-67\"/>\r\n       <use x=\"69.824219\" xlink:href=\"#DejaVuSans-79\"/>\r\n       <use x=\"148.535156\" xlink:href=\"#DejaVuSans-78\"/>\r\n       <use x=\"223.339844\" xlink:href=\"#DejaVuSans-74\"/>\r\n      </g>\r\n     </g>\r\n    </g>\r\n    <g id=\"xtick_12\">\r\n     <g id=\"line2d_12\">\r\n      <g>\r\n       <use style=\"stroke:#000000;stroke-width:0.8;\" x=\"793.918125\" xlink:href=\"#mf3125375db\" y=\"659.52\"/>\r\n      </g>\r\n     </g>\r\n     <g id=\"text_12\">\r\n      <!-- . -->\r\n      <g transform=\"translate(792.329063 674.118438)scale(0.1 -0.1)\">\r\n       <defs>\r\n        <path d=\"M 10.6875 12.40625 \r\nL 21 12.40625 \r\nL 21 0 \r\nL 10.6875 0 \r\nz\r\n\" id=\"DejaVuSans-46\"/>\r\n       </defs>\r\n       <use xlink:href=\"#DejaVuSans-46\"/>\r\n      </g>\r\n     </g>\r\n    </g>\r\n   </g>\r\n   <g id=\"matplotlib.axis_2\">\r\n    <g id=\"ytick_1\">\r\n     <g id=\"line2d_13\">\r\n      <defs>\r\n       <path d=\"M 0 0 \r\nL -3.5 0 \r\n\" id=\"m5cd48474d4\" style=\"stroke:#000000;stroke-width:0.8;\"/>\r\n      </defs>\r\n      <g>\r\n       <use style=\"stroke:#000000;stroke-width:0.8;\" x=\"23.878125\" xlink:href=\"#m5cd48474d4\" y=\"34.38\"/>\r\n      </g>\r\n     </g>\r\n     <g id=\"text_13\">\r\n      <!-- VERB -->\r\n      <g transform=\"translate(14.798437 57.549531)rotate(-90)scale(0.1 -0.1)\">\r\n       <use xlink:href=\"#DejaVuSans-86\"/>\r\n       <use x=\"68.408203\" xlink:href=\"#DejaVuSans-69\"/>\r\n       <use x=\"131.591797\" xlink:href=\"#DejaVuSans-82\"/>\r\n       <use x=\"201.074219\" xlink:href=\"#DejaVuSans-66\"/>\r\n      </g>\r\n     </g>\r\n    </g>\r\n    <g id=\"ytick_2\">\r\n     <g id=\"line2d_14\">\r\n      <g>\r\n       <use style=\"stroke:#000000;stroke-width:0.8;\" x=\"23.878125\" xlink:href=\"#m5cd48474d4\" y=\"88.74\"/>\r\n      </g>\r\n     </g>\r\n     <g id=\"text_14\">\r\n      <!-- NOUN -->\r\n      <g transform=\"translate(14.798437 115.093906)rotate(-90)scale(0.1 -0.1)\">\r\n       <use xlink:href=\"#DejaVuSans-78\"/>\r\n       <use x=\"74.804688\" xlink:href=\"#DejaVuSans-79\"/>\r\n       <use x=\"153.515625\" xlink:href=\"#DejaVuSans-85\"/>\r\n       <use x=\"226.708984\" xlink:href=\"#DejaVuSans-78\"/>\r\n      </g>\r\n     </g>\r\n    </g>\r\n    <g id=\"ytick_3\">\r\n     <g id=\"line2d_15\">\r\n      <g>\r\n       <use style=\"stroke:#000000;stroke-width:0.8;\" x=\"23.878125\" xlink:href=\"#m5cd48474d4\" y=\"143.1\"/>\r\n      </g>\r\n     </g>\r\n     <g id=\"text_15\">\r\n      <!-- DET -->\r\n      <g transform=\"translate(14.798437 159.427344)rotate(-90)scale(0.1 -0.1)\">\r\n       <use xlink:href=\"#DejaVuSans-68\"/>\r\n       <use x=\"77.001953\" xlink:href=\"#DejaVuSans-69\"/>\r\n       <use x=\"140.185547\" xlink:href=\"#DejaVuSans-84\"/>\r\n      </g>\r\n     </g>\r\n    </g>\r\n    <g id=\"ytick_4\">\r\n     <g id=\"line2d_16\">\r\n      <g>\r\n       <use style=\"stroke:#000000;stroke-width:0.8;\" x=\"23.878125\" xlink:href=\"#m5cd48474d4\" y=\"197.46\"/>\r\n      </g>\r\n     </g>\r\n     <g id=\"text_16\">\r\n      <!-- ADJ -->\r\n      <g transform=\"translate(14.798437 211.151406)rotate(-90)scale(0.1 -0.1)\">\r\n       <use xlink:href=\"#DejaVuSans-65\"/>\r\n       <use x=\"68.408203\" xlink:href=\"#DejaVuSans-68\"/>\r\n       <use x=\"145.410156\" xlink:href=\"#DejaVuSans-74\"/>\r\n      </g>\r\n     </g>\r\n    </g>\r\n    <g id=\"ytick_5\">\r\n     <g id=\"line2d_17\">\r\n      <g>\r\n       <use style=\"stroke:#000000;stroke-width:0.8;\" x=\"23.878125\" xlink:href=\"#m5cd48474d4\" y=\"251.82\"/>\r\n      </g>\r\n     </g>\r\n     <g id=\"text_17\">\r\n      <!-- ADV -->\r\n      <g transform=\"translate(14.798437 269.227031)rotate(-90)scale(0.1 -0.1)\">\r\n       <use xlink:href=\"#DejaVuSans-65\"/>\r\n       <use x=\"68.408203\" xlink:href=\"#DejaVuSans-68\"/>\r\n       <use x=\"143.660156\" xlink:href=\"#DejaVuSans-86\"/>\r\n      </g>\r\n     </g>\r\n    </g>\r\n    <g id=\"ytick_6\">\r\n     <g id=\"line2d_18\">\r\n      <g>\r\n       <use style=\"stroke:#000000;stroke-width:0.8;\" x=\"23.878125\" xlink:href=\"#m5cd48474d4\" y=\"306.18\"/>\r\n      </g>\r\n     </g>\r\n     <g id=\"text_18\">\r\n      <!-- NUM -->\r\n      <g transform=\"translate(14.798437 325.808906)rotate(-90)scale(0.1 -0.1)\">\r\n       <use xlink:href=\"#DejaVuSans-78\"/>\r\n       <use x=\"74.804688\" xlink:href=\"#DejaVuSans-85\"/>\r\n       <use x=\"147.998047\" xlink:href=\"#DejaVuSans-77\"/>\r\n      </g>\r\n     </g>\r\n    </g>\r\n    <g id=\"ytick_7\">\r\n     <g id=\"line2d_19\">\r\n      <g>\r\n       <use style=\"stroke:#000000;stroke-width:0.8;\" x=\"23.878125\" xlink:href=\"#m5cd48474d4\" y=\"360.54\"/>\r\n      </g>\r\n     </g>\r\n     <g id=\"text_19\">\r\n      <!-- X -->\r\n      <g transform=\"translate(14.798437 363.590781)rotate(-90)scale(0.1 -0.1)\">\r\n       <use xlink:href=\"#DejaVuSans-88\"/>\r\n      </g>\r\n     </g>\r\n    </g>\r\n    <g id=\"ytick_8\">\r\n     <g id=\"line2d_20\">\r\n      <g>\r\n       <use style=\"stroke:#000000;stroke-width:0.8;\" x=\"23.878125\" xlink:href=\"#m5cd48474d4\" y=\"414.9\"/>\r\n      </g>\r\n     </g>\r\n     <g id=\"text_20\">\r\n      <!-- PRON -->\r\n      <g transform=\"translate(14.798437 439.432031)rotate(-90)scale(0.1 -0.1)\">\r\n       <use xlink:href=\"#DejaVuSans-80\"/>\r\n       <use x=\"60.302734\" xlink:href=\"#DejaVuSans-82\"/>\r\n       <use x=\"129.785156\" xlink:href=\"#DejaVuSans-79\"/>\r\n       <use x=\"208.496094\" xlink:href=\"#DejaVuSans-78\"/>\r\n      </g>\r\n     </g>\r\n    </g>\r\n    <g id=\"ytick_9\">\r\n     <g id=\"line2d_21\">\r\n      <g>\r\n       <use style=\"stroke:#000000;stroke-width:0.8;\" x=\"23.878125\" xlink:href=\"#m5cd48474d4\" y=\"469.26\"/>\r\n      </g>\r\n     </g>\r\n     <g id=\"text_21\">\r\n      <!-- PRT -->\r\n      <g transform=\"translate(14.798437 483.821719)rotate(-90)scale(0.1 -0.1)\">\r\n       <use xlink:href=\"#DejaVuSans-80\"/>\r\n       <use x=\"60.302734\" xlink:href=\"#DejaVuSans-82\"/>\r\n       <use x=\"122.535156\" xlink:href=\"#DejaVuSans-84\"/>\r\n      </g>\r\n     </g>\r\n    </g>\r\n    <g id=\"ytick_10\">\r\n     <g id=\"line2d_22\">\r\n      <g>\r\n       <use style=\"stroke:#000000;stroke-width:0.8;\" x=\"23.878125\" xlink:href=\"#m5cd48474d4\" y=\"523.62\"/>\r\n      </g>\r\n     </g>\r\n     <g id=\"text_22\">\r\n      <!-- ADP -->\r\n      <g transform=\"translate(14.798437 540.391094)rotate(-90)scale(0.1 -0.1)\">\r\n       <use xlink:href=\"#DejaVuSans-65\"/>\r\n       <use x=\"68.408203\" xlink:href=\"#DejaVuSans-68\"/>\r\n       <use x=\"145.410156\" xlink:href=\"#DejaVuSans-80\"/>\r\n      </g>\r\n     </g>\r\n    </g>\r\n    <g id=\"ytick_11\">\r\n     <g id=\"line2d_23\">\r\n      <g>\r\n       <use style=\"stroke:#000000;stroke-width:0.8;\" x=\"23.878125\" xlink:href=\"#m5cd48474d4\" y=\"577.98\"/>\r\n      </g>\r\n     </g>\r\n     <g id=\"text_23\">\r\n      <!-- CONJ -->\r\n      <g transform=\"translate(14.798437 599.466719)rotate(-90)scale(0.1 -0.1)\">\r\n       <use xlink:href=\"#DejaVuSans-67\"/>\r\n       <use x=\"69.824219\" xlink:href=\"#DejaVuSans-79\"/>\r\n       <use x=\"148.535156\" xlink:href=\"#DejaVuSans-78\"/>\r\n       <use x=\"223.339844\" xlink:href=\"#DejaVuSans-74\"/>\r\n      </g>\r\n     </g>\r\n    </g>\r\n    <g id=\"ytick_12\">\r\n     <g id=\"line2d_24\">\r\n      <g>\r\n       <use style=\"stroke:#000000;stroke-width:0.8;\" x=\"23.878125\" xlink:href=\"#m5cd48474d4\" y=\"632.34\"/>\r\n      </g>\r\n     </g>\r\n     <g id=\"text_24\">\r\n      <!-- . -->\r\n      <g transform=\"translate(14.798437 631.718906)rotate(-90)scale(0.1 -0.1)\">\r\n       <use xlink:href=\"#DejaVuSans-46\"/>\r\n      </g>\r\n     </g>\r\n    </g>\r\n   </g>\r\n  </g>\r\n  <g id=\"axes_2\">\r\n   <g id=\"patch_3\">\r\n    <path clip-path=\"url(#p8a84be3973)\" d=\"M 877.618125 659.52 \r\nL 877.618125 656.971875 \r\nL 877.618125 9.748125 \r\nL 877.618125 7.2 \r\nL 910.234125 7.2 \r\nL 910.234125 9.748125 \r\nL 910.234125 656.971875 \r\nL 910.234125 659.52 \r\nz\r\n\" style=\"fill:#ffffff;stroke:#ffffff;stroke-linejoin:miter;stroke-width:0.01;\"/>\r\n   </g>\r\n   <image height=\"652\" id=\"image0b6f99eec5\" transform=\"scale(1 -1)translate(0 -652)\" width=\"32\" x=\"878\" xlink:href=\"data:image/png;base64,\r\niVBORw0KGgoAAAANSUhEUgAAACAAAAKMCAYAAACKO7pIAAADKklEQVR4nO3di20kMQwEUVHmJXH552mHUQPoKYEtUMUmZ8ef+fn3//eE55Yffs45OzHAByowbQ3yCuQAriAH2DmPXwEJc4C9r1+BNswBSCgJc4C9r+cACXMASZgD6AJJmAOQ0FqeAxhG2jAHMIxImAOQcGdahrwCOYCNKAewEZEwByAhCXMAEpIwByAhCXMAz4a+oMgBSJgD6ALDKAeQA9owByChCuQAfsvG03EOYCOShDmAjSgH0AWSMAfYmqD+fEnYA0hCSZgDSEJtmAMYRjmAHDCMcgBRrA1zADmgDXMAr2y8sskBDCOzIAcgYQ6gC0iYA1hK7YQ5AAklYQ5gHJMwBzCMzIIcQA7kAHJADuQAckAb5gByYG/634w+UIEcQBJKwhyAhDmAYSQHcgA5YCPKAeSANswBXIEkzAEkoTbMAVxBDrDzehSTMAdwBTaiHMBGpA1zADmgDXOAvae18AMVeL0NcwDDKAcQxXt/H0/CHEAOaMMcwEZkI8oBdkgYA9Sf3wO4ghxADpAwByChnTAH2Bs/GvUVeL4NcwDDaCf+IZK8AjnA3tevwLdkOQAJcwBRTMIcYOM/1vuJCpCwPXJAG+YAckAb5gA78bvbD1RAEsaHhDmAYWQY5QA7McIHKkDC+BhGNqIcgIQqkAPIgRxAF9gJcwBLKQlzAElIwhxgjyQkYXxcgQrkAFsj5BXIAXQBCXMAEpIwB9iJf9err0CNkFcgByAhCXOAPc9L+Hwb5gByIAeQA3IgByChCuQAO/FPsfQVIGEN4Ar23JYhr0AOQEI7YQ5AwhxgT/zO5gMVIGF8XMGOjSg+JDQLcgASejbMAUiYA4hiEuYAllIS5gCSkIQ5gKV0z+tvTnMAEqpADmAY5QA2IjmQA3h7rg1zADmgAjmAJyMS5gCGEQlzAFeQAxhGJMwBXIFxnAOQkIQ5AAlJmAOQMAdwBXIgByAhCXMAEpIwByDhzvykAHkFcgASqkAOYBjlALqAhDnAnvv4PkDCHEASkjAH8GSkDXMAOUDCHICEOYC1nIQ5gCjeIWF8SCgJcwDjmIQ5gCTMAewDJMwBRLFxnAP8AaqnMNcomXVLAAAAAElFTkSuQmCC\" y=\"-7\"/>\r\n   <g id=\"matplotlib.axis_3\"/>\r\n   <g id=\"matplotlib.axis_4\">\r\n    <g id=\"ytick_13\">\r\n     <g id=\"line2d_25\">\r\n      <defs>\r\n       <path d=\"M 0 0 \r\nL 3.5 0 \r\n\" id=\"m9a7296b264\" style=\"stroke:#000000;stroke-width:0.8;\"/>\r\n      </defs>\r\n      <g>\r\n       <use style=\"stroke:#000000;stroke-width:0.8;\" x=\"910.234125\" xlink:href=\"#m9a7296b264\" y=\"647.403884\"/>\r\n      </g>\r\n     </g>\r\n     <g id=\"text_25\">\r\n      <!-- 0.64 -->\r\n      <g transform=\"translate(917.234125 651.203103)scale(0.1 -0.1)\">\r\n       <defs>\r\n        <path d=\"M 31.78125 66.40625 \r\nQ 24.171875 66.40625 20.328125 58.90625 \r\nQ 16.5 51.421875 16.5 36.375 \r\nQ 16.5 21.390625 20.328125 13.890625 \r\nQ 24.171875 6.390625 31.78125 6.390625 \r\nQ 39.453125 6.390625 43.28125 13.890625 \r\nQ 47.125 21.390625 47.125 36.375 \r\nQ 47.125 51.421875 43.28125 58.90625 \r\nQ 39.453125 66.40625 31.78125 66.40625 \r\nz\r\nM 31.78125 74.21875 \r\nQ 44.046875 74.21875 50.515625 64.515625 \r\nQ 56.984375 54.828125 56.984375 36.375 \r\nQ 56.984375 17.96875 50.515625 8.265625 \r\nQ 44.046875 -1.421875 31.78125 -1.421875 \r\nQ 19.53125 -1.421875 13.0625 8.265625 \r\nQ 6.59375 17.96875 6.59375 36.375 \r\nQ 6.59375 54.828125 13.0625 64.515625 \r\nQ 19.53125 74.21875 31.78125 74.21875 \r\nz\r\n\" id=\"DejaVuSans-48\"/>\r\n        <path d=\"M 33.015625 40.375 \r\nQ 26.375 40.375 22.484375 35.828125 \r\nQ 18.609375 31.296875 18.609375 23.390625 \r\nQ 18.609375 15.53125 22.484375 10.953125 \r\nQ 26.375 6.390625 33.015625 6.390625 \r\nQ 39.65625 6.390625 43.53125 10.953125 \r\nQ 47.40625 15.53125 47.40625 23.390625 \r\nQ 47.40625 31.296875 43.53125 35.828125 \r\nQ 39.65625 40.375 33.015625 40.375 \r\nz\r\nM 52.59375 71.296875 \r\nL 52.59375 62.3125 \r\nQ 48.875 64.0625 45.09375 64.984375 \r\nQ 41.3125 65.921875 37.59375 65.921875 \r\nQ 27.828125 65.921875 22.671875 59.328125 \r\nQ 17.53125 52.734375 16.796875 39.40625 \r\nQ 19.671875 43.65625 24.015625 45.921875 \r\nQ 28.375 48.1875 33.59375 48.1875 \r\nQ 44.578125 48.1875 50.953125 41.515625 \r\nQ 57.328125 34.859375 57.328125 23.390625 \r\nQ 57.328125 12.15625 50.6875 5.359375 \r\nQ 44.046875 -1.421875 33.015625 -1.421875 \r\nQ 20.359375 -1.421875 13.671875 8.265625 \r\nQ 6.984375 17.96875 6.984375 36.375 \r\nQ 6.984375 53.65625 15.1875 63.9375 \r\nQ 23.390625 74.21875 37.203125 74.21875 \r\nQ 40.921875 74.21875 44.703125 73.484375 \r\nQ 48.484375 72.75 52.59375 71.296875 \r\nz\r\n\" id=\"DejaVuSans-54\"/>\r\n        <path d=\"M 37.796875 64.3125 \r\nL 12.890625 25.390625 \r\nL 37.796875 25.390625 \r\nz\r\nM 35.203125 72.90625 \r\nL 47.609375 72.90625 \r\nL 47.609375 25.390625 \r\nL 58.015625 25.390625 \r\nL 58.015625 17.1875 \r\nL 47.609375 17.1875 \r\nL 47.609375 0 \r\nL 37.796875 0 \r\nL 37.796875 17.1875 \r\nL 4.890625 17.1875 \r\nL 4.890625 26.703125 \r\nz\r\n\" id=\"DejaVuSans-52\"/>\r\n       </defs>\r\n       <use xlink:href=\"#DejaVuSans-48\"/>\r\n       <use x=\"63.623047\" xlink:href=\"#DejaVuSans-46\"/>\r\n       <use x=\"95.410156\" xlink:href=\"#DejaVuSans-54\"/>\r\n       <use x=\"159.033203\" xlink:href=\"#DejaVuSans-52\"/>\r\n      </g>\r\n     </g>\r\n    </g>\r\n    <g id=\"ytick_14\">\r\n     <g id=\"line2d_26\">\r\n      <g>\r\n       <use style=\"stroke:#000000;stroke-width:0.8;\" x=\"910.234125\" xlink:href=\"#m9a7296b264\" y=\"540.615271\"/>\r\n      </g>\r\n     </g>\r\n     <g id=\"text_26\">\r\n      <!-- 0.65 -->\r\n      <g transform=\"translate(917.234125 544.41449)scale(0.1 -0.1)\">\r\n       <defs>\r\n        <path d=\"M 10.796875 72.90625 \r\nL 49.515625 72.90625 \r\nL 49.515625 64.59375 \r\nL 19.828125 64.59375 \r\nL 19.828125 46.734375 \r\nQ 21.96875 47.46875 24.109375 47.828125 \r\nQ 26.265625 48.1875 28.421875 48.1875 \r\nQ 40.625 48.1875 47.75 41.5 \r\nQ 54.890625 34.8125 54.890625 23.390625 \r\nQ 54.890625 11.625 47.5625 5.09375 \r\nQ 40.234375 -1.421875 26.90625 -1.421875 \r\nQ 22.3125 -1.421875 17.546875 -0.640625 \r\nQ 12.796875 0.140625 7.71875 1.703125 \r\nL 7.71875 11.625 \r\nQ 12.109375 9.234375 16.796875 8.0625 \r\nQ 21.484375 6.890625 26.703125 6.890625 \r\nQ 35.15625 6.890625 40.078125 11.328125 \r\nQ 45.015625 15.765625 45.015625 23.390625 \r\nQ 45.015625 31 40.078125 35.4375 \r\nQ 35.15625 39.890625 26.703125 39.890625 \r\nQ 22.75 39.890625 18.8125 39.015625 \r\nQ 14.890625 38.140625 10.796875 36.28125 \r\nz\r\n\" id=\"DejaVuSans-53\"/>\r\n       </defs>\r\n       <use xlink:href=\"#DejaVuSans-48\"/>\r\n       <use x=\"63.623047\" xlink:href=\"#DejaVuSans-46\"/>\r\n       <use x=\"95.410156\" xlink:href=\"#DejaVuSans-54\"/>\r\n       <use x=\"159.033203\" xlink:href=\"#DejaVuSans-53\"/>\r\n      </g>\r\n     </g>\r\n    </g>\r\n    <g id=\"ytick_15\">\r\n     <g id=\"line2d_27\">\r\n      <g>\r\n       <use style=\"stroke:#000000;stroke-width:0.8;\" x=\"910.234125\" xlink:href=\"#m9a7296b264\" y=\"433.826658\"/>\r\n      </g>\r\n     </g>\r\n     <g id=\"text_27\">\r\n      <!-- 0.66 -->\r\n      <g transform=\"translate(917.234125 437.625877)scale(0.1 -0.1)\">\r\n       <use xlink:href=\"#DejaVuSans-48\"/>\r\n       <use x=\"63.623047\" xlink:href=\"#DejaVuSans-46\"/>\r\n       <use x=\"95.410156\" xlink:href=\"#DejaVuSans-54\"/>\r\n       <use x=\"159.033203\" xlink:href=\"#DejaVuSans-54\"/>\r\n      </g>\r\n     </g>\r\n    </g>\r\n    <g id=\"ytick_16\">\r\n     <g id=\"line2d_28\">\r\n      <g>\r\n       <use style=\"stroke:#000000;stroke-width:0.8;\" x=\"910.234125\" xlink:href=\"#m9a7296b264\" y=\"327.038045\"/>\r\n      </g>\r\n     </g>\r\n     <g id=\"text_28\">\r\n      <!-- 0.67 -->\r\n      <g transform=\"translate(917.234125 330.837264)scale(0.1 -0.1)\">\r\n       <defs>\r\n        <path d=\"M 8.203125 72.90625 \r\nL 55.078125 72.90625 \r\nL 55.078125 68.703125 \r\nL 28.609375 0 \r\nL 18.3125 0 \r\nL 43.21875 64.59375 \r\nL 8.203125 64.59375 \r\nz\r\n\" id=\"DejaVuSans-55\"/>\r\n       </defs>\r\n       <use xlink:href=\"#DejaVuSans-48\"/>\r\n       <use x=\"63.623047\" xlink:href=\"#DejaVuSans-46\"/>\r\n       <use x=\"95.410156\" xlink:href=\"#DejaVuSans-54\"/>\r\n       <use x=\"159.033203\" xlink:href=\"#DejaVuSans-55\"/>\r\n      </g>\r\n     </g>\r\n    </g>\r\n    <g id=\"ytick_17\">\r\n     <g id=\"line2d_29\">\r\n      <g>\r\n       <use style=\"stroke:#000000;stroke-width:0.8;\" x=\"910.234125\" xlink:href=\"#m9a7296b264\" y=\"220.249432\"/>\r\n      </g>\r\n     </g>\r\n     <g id=\"text_29\">\r\n      <!-- 0.68 -->\r\n      <g transform=\"translate(917.234125 224.048651)scale(0.1 -0.1)\">\r\n       <defs>\r\n        <path d=\"M 31.78125 34.625 \r\nQ 24.75 34.625 20.71875 30.859375 \r\nQ 16.703125 27.09375 16.703125 20.515625 \r\nQ 16.703125 13.921875 20.71875 10.15625 \r\nQ 24.75 6.390625 31.78125 6.390625 \r\nQ 38.8125 6.390625 42.859375 10.171875 \r\nQ 46.921875 13.96875 46.921875 20.515625 \r\nQ 46.921875 27.09375 42.890625 30.859375 \r\nQ 38.875 34.625 31.78125 34.625 \r\nz\r\nM 21.921875 38.8125 \r\nQ 15.578125 40.375 12.03125 44.71875 \r\nQ 8.5 49.078125 8.5 55.328125 \r\nQ 8.5 64.0625 14.71875 69.140625 \r\nQ 20.953125 74.21875 31.78125 74.21875 \r\nQ 42.671875 74.21875 48.875 69.140625 \r\nQ 55.078125 64.0625 55.078125 55.328125 \r\nQ 55.078125 49.078125 51.53125 44.71875 \r\nQ 48 40.375 41.703125 38.8125 \r\nQ 48.828125 37.15625 52.796875 32.3125 \r\nQ 56.78125 27.484375 56.78125 20.515625 \r\nQ 56.78125 9.90625 50.3125 4.234375 \r\nQ 43.84375 -1.421875 31.78125 -1.421875 \r\nQ 19.734375 -1.421875 13.25 4.234375 \r\nQ 6.78125 9.90625 6.78125 20.515625 \r\nQ 6.78125 27.484375 10.78125 32.3125 \r\nQ 14.796875 37.15625 21.921875 38.8125 \r\nz\r\nM 18.3125 54.390625 \r\nQ 18.3125 48.734375 21.84375 45.5625 \r\nQ 25.390625 42.390625 31.78125 42.390625 \r\nQ 38.140625 42.390625 41.71875 45.5625 \r\nQ 45.3125 48.734375 45.3125 54.390625 \r\nQ 45.3125 60.0625 41.71875 63.234375 \r\nQ 38.140625 66.40625 31.78125 66.40625 \r\nQ 25.390625 66.40625 21.84375 63.234375 \r\nQ 18.3125 60.0625 18.3125 54.390625 \r\nz\r\n\" id=\"DejaVuSans-56\"/>\r\n       </defs>\r\n       <use xlink:href=\"#DejaVuSans-48\"/>\r\n       <use x=\"63.623047\" xlink:href=\"#DejaVuSans-46\"/>\r\n       <use x=\"95.410156\" xlink:href=\"#DejaVuSans-54\"/>\r\n       <use x=\"159.033203\" xlink:href=\"#DejaVuSans-56\"/>\r\n      </g>\r\n     </g>\r\n    </g>\r\n    <g id=\"ytick_18\">\r\n     <g id=\"line2d_30\">\r\n      <g>\r\n       <use style=\"stroke:#000000;stroke-width:0.8;\" x=\"910.234125\" xlink:href=\"#m9a7296b264\" y=\"113.460819\"/>\r\n      </g>\r\n     </g>\r\n     <g id=\"text_30\">\r\n      <!-- 0.69 -->\r\n      <g transform=\"translate(917.234125 117.260038)scale(0.1 -0.1)\">\r\n       <defs>\r\n        <path d=\"M 10.984375 1.515625 \r\nL 10.984375 10.5 \r\nQ 14.703125 8.734375 18.5 7.8125 \r\nQ 22.3125 6.890625 25.984375 6.890625 \r\nQ 35.75 6.890625 40.890625 13.453125 \r\nQ 46.046875 20.015625 46.78125 33.40625 \r\nQ 43.953125 29.203125 39.59375 26.953125 \r\nQ 35.25 24.703125 29.984375 24.703125 \r\nQ 19.046875 24.703125 12.671875 31.3125 \r\nQ 6.296875 37.9375 6.296875 49.421875 \r\nQ 6.296875 60.640625 12.9375 67.421875 \r\nQ 19.578125 74.21875 30.609375 74.21875 \r\nQ 43.265625 74.21875 49.921875 64.515625 \r\nQ 56.59375 54.828125 56.59375 36.375 \r\nQ 56.59375 19.140625 48.40625 8.859375 \r\nQ 40.234375 -1.421875 26.421875 -1.421875 \r\nQ 22.703125 -1.421875 18.890625 -0.6875 \r\nQ 15.09375 0.046875 10.984375 1.515625 \r\nz\r\nM 30.609375 32.421875 \r\nQ 37.25 32.421875 41.125 36.953125 \r\nQ 45.015625 41.5 45.015625 49.421875 \r\nQ 45.015625 57.28125 41.125 61.84375 \r\nQ 37.25 66.40625 30.609375 66.40625 \r\nQ 23.96875 66.40625 20.09375 61.84375 \r\nQ 16.21875 57.28125 16.21875 49.421875 \r\nQ 16.21875 41.5 20.09375 36.953125 \r\nQ 23.96875 32.421875 30.609375 32.421875 \r\nz\r\n\" id=\"DejaVuSans-57\"/>\r\n       </defs>\r\n       <use xlink:href=\"#DejaVuSans-48\"/>\r\n       <use x=\"63.623047\" xlink:href=\"#DejaVuSans-46\"/>\r\n       <use x=\"95.410156\" xlink:href=\"#DejaVuSans-54\"/>\r\n       <use x=\"159.033203\" xlink:href=\"#DejaVuSans-57\"/>\r\n      </g>\r\n     </g>\r\n    </g>\r\n   </g>\r\n   <g id=\"patch_4\">\r\n    <path d=\"M 877.618125 659.52 \r\nL 877.618125 656.971875 \r\nL 877.618125 9.748125 \r\nL 877.618125 7.2 \r\nL 910.234125 7.2 \r\nL 910.234125 9.748125 \r\nL 910.234125 656.971875 \r\nL 910.234125 659.52 \r\nz\r\n\" style=\"fill:none;\"/>\r\n   </g>\r\n  </g>\r\n </g>\r\n <defs>\r\n  <clipPath id=\"pbef88667c5\">\r\n   <rect height=\"652.32\" width=\"803.52\" x=\"23.878125\" y=\"7.2\"/>\r\n  </clipPath>\r\n  <clipPath id=\"p8a84be3973\">\r\n   <rect height=\"652.32\" width=\"32.616\" x=\"877.618125\" y=\"7.2\"/>\r\n  </clipPath>\r\n </defs>\r\n</svg>\r\n",
      "image/png": "[encoded data removed]"
     },
     "metadata": {
      "needs_background": "light"
     }
    }
   ],
   "source": [
    "# frequent tags\n",
    "# filter the df to get P(t2, t1) > 0.5\n",
    "tags_frequent = tags_df[tags_df>0.5]\n",
    "plt.figure(figsize=(18, 12))\n",
    "sns.heatmap(tags_frequent)\n",
    "plt.show()"
   ]
  },
  {
   "cell_type": "code",
   "execution_count": 20,
   "metadata": {},
   "outputs": [],
   "source": [
    "import functools\n",
    "import time\n",
    "def timer(func):\n",
    "    @functools.wraps(func)\n",
    "    def wrapper_timer(*args, **kwargs):\n",
    "        start = time.time()\n",
    "        value = func(*args, **kwargs)\n",
    "        print(f'{func.__name__} processsing finished in {time.time()-start} seconds')\n",
    "        return value \n",
    "    wrapper_timer._original = func\n",
    "    return wrapper_timer\n",
    "\n",
    "# Viterbi Heuristic\n",
    "@timer\n",
    "def Viterbi(words, train_bag = train_tagged_words):\n",
    "    state = []\n",
    "    T = list(set([pair[1] for pair in train_bag]))\n",
    "    \n",
    "    for key, word in enumerate(words):\n",
    "        #initialise list of probability column for a given observation\n",
    "        p = [] \n",
    "        for tag in T:\n",
    "            if key == 0:\n",
    "                transition_p = tags_df.loc['.', tag]\n",
    "            else:\n",
    "                transition_p = tags_df.loc[state[-1], tag]\n",
    "                \n",
    "            # compute emission and state probabilities\n",
    "            emission_p = word_given_tag(words[key], tag)[0]/word_given_tag(words[key], tag)[1]\n",
    "            state_probability = emission_p * transition_p    \n",
    "            p.append(state_probability)\n",
    "            \n",
    "        pmax = max(p)\n",
    "        # getting state for which probability is maximum\n",
    "        state_max = T[p.index(pmax)] \n",
    "        state.append(state_max)\n",
    "    return list(zip(words, state))"
   ]
  },
  {
   "cell_type": "code",
   "execution_count": 21,
   "metadata": {},
   "outputs": [
    {
     "output_type": "execute_result",
     "data": {
      "text/plain": [
       "[[('Profit', 'NOUN'),\n",
       "  ('for', 'ADP'),\n",
       "  ('the', 'DET'),\n",
       "  ('nine', 'NUM'),\n",
       "  ('months', 'NOUN'),\n",
       "  ('jumped', 'VERB'),\n",
       "  ('21', 'NUM'),\n",
       "  ('%', 'NOUN'),\n",
       "  ('to', 'PRT'),\n",
       "  ('$', '.'),\n",
       "  ('721', 'NUM'),\n",
       "  ('million', 'NUM'),\n",
       "  ('*U*', 'X'),\n",
       "  (',', '.'),\n",
       "  ('or', 'CONJ'),\n",
       "  ('$', '.'),\n",
       "  ('2.62', 'NUM'),\n",
       "  ('*U*', 'X'),\n",
       "  ('a', 'DET'),\n",
       "  ('share', 'NOUN'),\n",
       "  (',', '.'),\n",
       "  ('from', 'ADP'),\n",
       "  ('$', '.'),\n",
       "  ('598', 'NUM'),\n",
       "  ('million', 'NUM'),\n",
       "  ('*U*', 'X'),\n",
       "  (',', '.'),\n",
       "  ('or', 'CONJ'),\n",
       "  ('$', '.'),\n",
       "  ('2.07', 'NUM'),\n",
       "  ('*U*', 'X'),\n",
       "  ('a', 'DET'),\n",
       "  ('share', 'NOUN'),\n",
       "  ('.', '.')],\n",
       " [('J.L.', 'NOUN'),\n",
       "  ('Henry', 'NOUN'),\n",
       "  ('has', 'VERB'),\n",
       "  (\"n't\", 'ADV'),\n",
       "  ('any', 'DET'),\n",
       "  ('Miami', 'NOUN'),\n",
       "  ('telephone', 'NOUN'),\n",
       "  ('listing', 'NOUN'),\n",
       "  (',', '.'),\n",
       "  ('an', 'DET'),\n",
       "  ('operator', 'NOUN'),\n",
       "  ('said', 'VERB'),\n",
       "  ('0', 'X'),\n",
       "  ('*T*-1', 'X'),\n",
       "  ('.', '.')],\n",
       " [('Triton', 'NOUN'),\n",
       "  ('Securities', 'NOUN'),\n",
       "  (',', '.'),\n",
       "  ('of', 'ADP'),\n",
       "  ('Danville', 'NOUN'),\n",
       "  (',', '.'),\n",
       "  ('Calif.', 'NOUN'),\n",
       "  (',', '.'),\n",
       "  ('and', 'CONJ'),\n",
       "  ('a', 'DET'),\n",
       "  ('principal', 'NOUN'),\n",
       "  ('of', 'ADP'),\n",
       "  ('the', 'DET'),\n",
       "  ('firm', 'NOUN'),\n",
       "  (',', '.'),\n",
       "  ('Delwin', 'NOUN'),\n",
       "  ('George', 'NOUN'),\n",
       "  ('Chase', 'NOUN'),\n",
       "  (',', '.'),\n",
       "  ('also', 'ADV'),\n",
       "  ('of', 'ADP'),\n",
       "  ('Danville', 'NOUN'),\n",
       "  (',', '.'),\n",
       "  ('were', 'VERB'),\n",
       "  ('jointly', 'ADV'),\n",
       "  ('fined', 'VERB'),\n",
       "  ('*-1', 'X'),\n",
       "  ('$', '.'),\n",
       "  ('10,000', 'NUM'),\n",
       "  ('*U*', 'X'),\n",
       "  ('and', 'CONJ'),\n",
       "  ('given', 'VERB'),\n",
       "  ('*-1', 'X'),\n",
       "  ('30-day', 'ADJ'),\n",
       "  ('suspensions', 'NOUN'),\n",
       "  ('as', 'ADP'),\n",
       "  ('part', 'NOUN'),\n",
       "  ('of', 'ADP'),\n",
       "  ('a', 'DET'),\n",
       "  ('settlement', 'NOUN'),\n",
       "  ('.', '.')],\n",
       " [('*', 'X'),\n",
       "  ('Pick', 'VERB'),\n",
       "  ('a', 'DET'),\n",
       "  ('country', 'NOUN'),\n",
       "  (',', '.'),\n",
       "  ('any', 'DET'),\n",
       "  ('country', 'NOUN'),\n",
       "  ('.', '.')],\n",
       " [('The', 'DET'),\n",
       "  ('Nicaraguan', 'ADJ'),\n",
       "  ('president', 'NOUN'),\n",
       "  (',', '.'),\n",
       "  ('*-1', 'X'),\n",
       "  ('citing', 'VERB'),\n",
       "  ('attacks', 'NOUN'),\n",
       "  ('by', 'ADP'),\n",
       "  ('the', 'DET'),\n",
       "  ('U.S.-backed', 'ADJ'),\n",
       "  ('rebels', 'NOUN'),\n",
       "  (',', '.'),\n",
       "  ('suspended', 'VERB'),\n",
       "  ('a', 'DET'),\n",
       "  ('19-month-old', 'ADJ'),\n",
       "  ('cease-fire', 'NOUN'),\n",
       "  ('and', 'CONJ'),\n",
       "  ('accused', 'VERB'),\n",
       "  ('Bush', 'NOUN'),\n",
       "  ('of', 'ADP'),\n",
       "  ('``', '.'),\n",
       "  ('*', 'X'),\n",
       "  ('promoting', 'VERB'),\n",
       "  ('death', 'NOUN'),\n",
       "  ('.', '.'),\n",
       "  (\"''\", '.')]]"
      ]
     },
     "metadata": {},
     "execution_count": 21
    }
   ],
   "source": [
    "# Running on entire test dataset would take more than 3-4hrs. \n",
    "# Let's test our Viterbi algorithm on a few sample sentences of test dataset\n",
    "\n",
    "random.seed(42)\n",
    "\n",
    "# choose random 5 sents\n",
    "rndom = [random.randint(1,len(test_set)) for x in range(5)]\n",
    "\n",
    "# list of sents\n",
    "test_run = [test_set[i] for i in rndom]\n",
    "\n",
    "# list of tagged words\n",
    "test_run_base = [tup for sent in test_run for tup in sent]\n",
    "\n",
    "# list of untagged words\n",
    "test_tagged_words = [tup[0] for sent in test_run for tup in sent]\n",
    "test_run"
   ]
  },
  {
   "cell_type": "code",
   "execution_count": 22,
   "metadata": {},
   "outputs": [
    {
     "output_type": "stream",
     "name": "stdout",
     "text": [
      "Viterbi processsing finished in 16.11767840385437 seconds\n"
     ]
    }
   ],
   "source": [
    "# tagging the test sentences\n",
    "tagged_seq = Viterbi(test_tagged_words)"
   ]
  },
  {
   "cell_type": "code",
   "execution_count": 23,
   "metadata": {},
   "outputs": [
    {
     "output_type": "execute_result",
     "data": {
      "text/plain": [
       "[('Profit', 'NOUN'),\n",
       " ('for', 'ADP'),\n",
       " ('the', 'DET'),\n",
       " ('nine', 'NUM'),\n",
       " ('months', 'NOUN'),\n",
       " ('jumped', 'VERB'),\n",
       " ('21', 'NUM'),\n",
       " ('%', 'NOUN'),\n",
       " ('to', 'PRT'),\n",
       " ('$', '.')]"
      ]
     },
     "metadata": {},
     "execution_count": 23
    }
   ],
   "source": [
    "tagged_seq[:10]"
   ]
  },
  {
   "cell_type": "code",
   "execution_count": 24,
   "metadata": {},
   "outputs": [
    {
     "output_type": "stream",
     "name": "stdout",
     "text": [
      "Accuracy using Vanilla Viterbi Algorithm on Test Set: 90.32%\n"
     ]
    }
   ],
   "source": [
    "# accuracy\n",
    "check = [i for i, j in zip(tagged_seq, test_run_base) if i == j] \n",
    "vanilla_accuracy = len(check)/len(tagged_seq)\n",
    "print(f'Accuracy using Vanilla Viterbi Algorithm on Test Set: {vanilla_accuracy*100:.2f}%')"
   ]
  },
  {
   "cell_type": "code",
   "execution_count": 25,
   "metadata": {},
   "outputs": [
    {
     "output_type": "execute_result",
     "data": {
      "text/plain": [
       "[[('$', '.'), (('721', 'VERB'), ('721', 'NUM'))],\n",
       " [('$', '.'), (('2.62', 'VERB'), ('2.62', 'NUM'))],\n",
       " [('$', '.'), (('598', 'VERB'), ('598', 'NUM'))],\n",
       " [('$', '.'), (('2.07', 'VERB'), ('2.07', 'NUM'))],\n",
       " [('.', '.'), (('J.L.', 'VERB'), ('J.L.', 'NOUN'))],\n",
       " [('of', 'ADP'), (('Danville', 'VERB'), ('Danville', 'NOUN'))],\n",
       " [(',', '.'), (('Delwin', 'VERB'), ('Delwin', 'NOUN'))],\n",
       " [('of', 'ADP'), (('Danville', 'VERB'), ('Danville', 'NOUN'))],\n",
       " [('The', 'DET'), (('Nicaraguan', 'VERB'), ('Nicaraguan', 'ADJ'))],\n",
       " [('the', 'DET'), (('U.S.-backed', 'VERB'), ('U.S.-backed', 'ADJ'))],\n",
       " [('a', 'DET'), (('19-month-old', 'VERB'), ('19-month-old', 'ADJ'))],\n",
       " [('19-month-old', 'ADJ'), (('cease-fire', 'VERB'), ('cease-fire', 'NOUN'))]]"
      ]
     },
     "metadata": {},
     "execution_count": 25
    }
   ],
   "source": [
    "incorrect_tagged_cases = [[test_run_base[i-1],j] for i, j in enumerate(zip(tagged_seq, test_run_base)) if j[0]!=j[1]]\n",
    "incorrect_tagged_cases"
   ]
  },
  {
   "cell_type": "code",
   "execution_count": 26,
   "metadata": {},
   "outputs": [
    {
     "output_type": "execute_result",
     "data": {
      "text/plain": [
       "['721',\n",
       " '2.62',\n",
       " '598',\n",
       " '2.07',\n",
       " 'J.L.',\n",
       " 'Danville',\n",
       " 'Delwin',\n",
       " 'Danville',\n",
       " 'Nicaraguan',\n",
       " 'U.S.-backed',\n",
       " '19-month-old',\n",
       " 'cease-fire']"
      ]
     },
     "metadata": {},
     "execution_count": 26
    }
   ],
   "source": [
    "wrong_tagged_words = [j[0][0] for i, j in enumerate(zip(tagged_seq, test_run_base)) if j[0] != j[1]]\n",
    "wrong_tagged_words"
   ]
  },
  {
   "source": [
    "## Test Sentences"
   ],
   "cell_type": "markdown",
   "metadata": {}
  },
  {
   "cell_type": "code",
   "execution_count": 27,
   "metadata": {},
   "outputs": [
    {
     "output_type": "execute_result",
     "data": {
      "text/plain": [
       "                                            sentences\n",
       "0   Android is a mobile operating system developed...\n",
       "1   Android has been the best-selling OS worldwide...\n",
       "2   Google and Twitter made a deal in 2015 that ga...\n",
       "3   Twitter is an online news and social networkin...\n",
       "4   Before entering politics, Donald Trump was a d...\n",
       "5   The 2018 FIFA World Cup is the 21st FIFA World...\n",
       "6   This is the first World Cup to be held in East...\n",
       "7   Show me the cheapest round trips from Dallas t...\n",
       "8   I would like to see flights from Denver to Phi...\n",
       "9   Show me the price of the flights leaving Atlan...\n",
       "10  NASA invited social media users to experience ..."
      ],
      "text/html": "<div>\n<style scoped>\n    .dataframe tbody tr th:only-of-type {\n        vertical-align: middle;\n    }\n\n    .dataframe tbody tr th {\n        vertical-align: top;\n    }\n\n    .dataframe thead th {\n        text-align: right;\n    }\n</style>\n<table border=\"1\" class=\"dataframe\">\n  <thead>\n    <tr style=\"text-align: right;\">\n      <th></th>\n      <th>sentences</th>\n    </tr>\n  </thead>\n  <tbody>\n    <tr>\n      <th>0</th>\n      <td>Android is a mobile operating system developed...</td>\n    </tr>\n    <tr>\n      <th>1</th>\n      <td>Android has been the best-selling OS worldwide...</td>\n    </tr>\n    <tr>\n      <th>2</th>\n      <td>Google and Twitter made a deal in 2015 that ga...</td>\n    </tr>\n    <tr>\n      <th>3</th>\n      <td>Twitter is an online news and social networkin...</td>\n    </tr>\n    <tr>\n      <th>4</th>\n      <td>Before entering politics, Donald Trump was a d...</td>\n    </tr>\n    <tr>\n      <th>5</th>\n      <td>The 2018 FIFA World Cup is the 21st FIFA World...</td>\n    </tr>\n    <tr>\n      <th>6</th>\n      <td>This is the first World Cup to be held in East...</td>\n    </tr>\n    <tr>\n      <th>7</th>\n      <td>Show me the cheapest round trips from Dallas t...</td>\n    </tr>\n    <tr>\n      <th>8</th>\n      <td>I would like to see flights from Denver to Phi...</td>\n    </tr>\n    <tr>\n      <th>9</th>\n      <td>Show me the price of the flights leaving Atlan...</td>\n    </tr>\n    <tr>\n      <th>10</th>\n      <td>NASA invited social media users to experience ...</td>\n    </tr>\n  </tbody>\n</table>\n</div>"
     },
     "metadata": {},
     "execution_count": 27
    }
   ],
   "source": [
    "# load test sentences\n",
    "test_sentences_df = pd.read_csv('https://cdn.upgrad.com/UpGrad/temp/9dca5f3b-53c3-47e1-86d5-5ec5dafad6f0/Test_sentences.txt',header=None, delimiter='\\n',names=  ['sentences'])\n",
    "test_sentences_df"
   ]
  },
  {
   "cell_type": "code",
   "execution_count": 28,
   "metadata": {},
   "outputs": [],
   "source": [
    "test_sentences_df['tokenized'] = test_sentences_df.sentences.apply(nltk.word_tokenize)"
   ]
  },
  {
   "cell_type": "code",
   "execution_count": 29,
   "metadata": {},
   "outputs": [
    {
     "output_type": "stream",
     "name": "stderr",
     "text": [
      "Tagging using Vanilla Viterbi: 100%|██████████| 11/11 [00:21<00:00,  2.00s/it]\n"
     ]
    }
   ],
   "source": [
    "tqdm.pandas(desc='Tagging using Vanilla Viterbi')\n",
    "test_sentences_df['tagged_vanilla_viterbi'] = test_sentences_df.tokenized.progress_apply(Viterbi._original)"
   ]
  },
  {
   "cell_type": "code",
   "execution_count": 30,
   "metadata": {},
   "outputs": [
    {
     "output_type": "execute_result",
     "data": {
      "text/plain": [
       "                                            sentences  \\\n",
       "0   Android is a mobile operating system developed...   \n",
       "1   Android has been the best-selling OS worldwide...   \n",
       "2   Google and Twitter made a deal in 2015 that ga...   \n",
       "3   Twitter is an online news and social networkin...   \n",
       "4   Before entering politics, Donald Trump was a d...   \n",
       "5   The 2018 FIFA World Cup is the 21st FIFA World...   \n",
       "6   This is the first World Cup to be held in East...   \n",
       "7   Show me the cheapest round trips from Dallas t...   \n",
       "8   I would like to see flights from Denver to Phi...   \n",
       "9   Show me the price of the flights leaving Atlan...   \n",
       "10  NASA invited social media users to experience ...   \n",
       "\n",
       "                                            tokenized  \\\n",
       "0   [Android, is, a, mobile, operating, system, de...   \n",
       "1   [Android, has, been, the, best-selling, OS, wo...   \n",
       "2   [Google, and, Twitter, made, a, deal, in, 2015...   \n",
       "3   [Twitter, is, an, online, news, and, social, n...   \n",
       "4   [Before, entering, politics, ,, Donald, Trump,...   \n",
       "5   [The, 2018, FIFA, World, Cup, is, the, 21st, F...   \n",
       "6   [This, is, the, first, World, Cup, to, be, hel...   \n",
       "7   [Show, me, the, cheapest, round, trips, from, ...   \n",
       "8   [I, would, like, to, see, flights, from, Denve...   \n",
       "9   [Show, me, the, price, of, the, flights, leavi...   \n",
       "10  [NASA, invited, social, media, users, to, expe...   \n",
       "\n",
       "                               tagged_vanilla_viterbi  \n",
       "0   [(Android, VERB), (is, VERB), (a, DET), (mobil...  \n",
       "1   [(Android, VERB), (has, VERB), (been, VERB), (...  \n",
       "2   [(Google, VERB), (and, CONJ), (Twitter, VERB),...  \n",
       "3   [(Twitter, VERB), (is, VERB), (an, DET), (onli...  \n",
       "4   [(Before, ADP), (entering, VERB), (politics, N...  \n",
       "5   [(The, DET), (2018, VERB), (FIFA, VERB), (Worl...  \n",
       "6   [(This, DET), (is, VERB), (the, DET), (first, ...  \n",
       "7   [(Show, NOUN), (me, PRON), (the, DET), (cheape...  \n",
       "8   [(I, PRON), (would, VERB), (like, ADP), (to, P...  \n",
       "9   [(Show, NOUN), (me, PRON), (the, DET), (price,...  \n",
       "10  [(NASA, VERB), (invited, VERB), (social, ADJ),...  "
      ],
      "text/html": "<div>\n<style scoped>\n    .dataframe tbody tr th:only-of-type {\n        vertical-align: middle;\n    }\n\n    .dataframe tbody tr th {\n        vertical-align: top;\n    }\n\n    .dataframe thead th {\n        text-align: right;\n    }\n</style>\n<table border=\"1\" class=\"dataframe\">\n  <thead>\n    <tr style=\"text-align: right;\">\n      <th></th>\n      <th>sentences</th>\n      <th>tokenized</th>\n      <th>tagged_vanilla_viterbi</th>\n    </tr>\n  </thead>\n  <tbody>\n    <tr>\n      <th>0</th>\n      <td>Android is a mobile operating system developed...</td>\n      <td>[Android, is, a, mobile, operating, system, de...</td>\n      <td>[(Android, VERB), (is, VERB), (a, DET), (mobil...</td>\n    </tr>\n    <tr>\n      <th>1</th>\n      <td>Android has been the best-selling OS worldwide...</td>\n      <td>[Android, has, been, the, best-selling, OS, wo...</td>\n      <td>[(Android, VERB), (has, VERB), (been, VERB), (...</td>\n    </tr>\n    <tr>\n      <th>2</th>\n      <td>Google and Twitter made a deal in 2015 that ga...</td>\n      <td>[Google, and, Twitter, made, a, deal, in, 2015...</td>\n      <td>[(Google, VERB), (and, CONJ), (Twitter, VERB),...</td>\n    </tr>\n    <tr>\n      <th>3</th>\n      <td>Twitter is an online news and social networkin...</td>\n      <td>[Twitter, is, an, online, news, and, social, n...</td>\n      <td>[(Twitter, VERB), (is, VERB), (an, DET), (onli...</td>\n    </tr>\n    <tr>\n      <th>4</th>\n      <td>Before entering politics, Donald Trump was a d...</td>\n      <td>[Before, entering, politics, ,, Donald, Trump,...</td>\n      <td>[(Before, ADP), (entering, VERB), (politics, N...</td>\n    </tr>\n    <tr>\n      <th>5</th>\n      <td>The 2018 FIFA World Cup is the 21st FIFA World...</td>\n      <td>[The, 2018, FIFA, World, Cup, is, the, 21st, F...</td>\n      <td>[(The, DET), (2018, VERB), (FIFA, VERB), (Worl...</td>\n    </tr>\n    <tr>\n      <th>6</th>\n      <td>This is the first World Cup to be held in East...</td>\n      <td>[This, is, the, first, World, Cup, to, be, hel...</td>\n      <td>[(This, DET), (is, VERB), (the, DET), (first, ...</td>\n    </tr>\n    <tr>\n      <th>7</th>\n      <td>Show me the cheapest round trips from Dallas t...</td>\n      <td>[Show, me, the, cheapest, round, trips, from, ...</td>\n      <td>[(Show, NOUN), (me, PRON), (the, DET), (cheape...</td>\n    </tr>\n    <tr>\n      <th>8</th>\n      <td>I would like to see flights from Denver to Phi...</td>\n      <td>[I, would, like, to, see, flights, from, Denve...</td>\n      <td>[(I, PRON), (would, VERB), (like, ADP), (to, P...</td>\n    </tr>\n    <tr>\n      <th>9</th>\n      <td>Show me the price of the flights leaving Atlan...</td>\n      <td>[Show, me, the, price, of, the, flights, leavi...</td>\n      <td>[(Show, NOUN), (me, PRON), (the, DET), (price,...</td>\n    </tr>\n    <tr>\n      <th>10</th>\n      <td>NASA invited social media users to experience ...</td>\n      <td>[NASA, invited, social, media, users, to, expe...</td>\n      <td>[(NASA, VERB), (invited, VERB), (social, ADJ),...</td>\n    </tr>\n  </tbody>\n</table>\n</div>"
     },
     "metadata": {},
     "execution_count": 30
    }
   ],
   "source": [
    "test_sentences_df"
   ]
  },
  {
   "cell_type": "code",
   "execution_count": 31,
   "metadata": {},
   "outputs": [
    {
     "output_type": "execute_result",
     "data": {
      "text/plain": [
       "          word     .  ADJ  ADP  ADV  CONJ  DET  NOUN  NUM  PRON  PRT  VERB  X\n",
       "0           's     0    0    0    0     0    0     0    0     0  717    93  0\n",
       "1            ,  4639    0    0    0     0    0     0    0     0    0     0  0\n",
       "2            .  3637    0    0    0     0    0     0    0     0    0     0  0\n",
       "3         11th     0    1    0    0     0    0     0    0     0    0     0  0\n",
       "4         2011     0    0    0    0     0    0     0    0     0    0     0  0\n",
       "..         ...   ...  ...  ...  ...   ...  ...   ...  ...   ...  ...   ... ..\n",
       "110      which     0    0    1    0     0  218     0    0     0    0     0  0\n",
       "111       with     0    0  370    0     0    0     0    0     0    0     0  0\n",
       "112  worldwide     0    0    0    0     0    0     0    0     0    0     0  0\n",
       "113      would     0    0    0    0     0    0     0    0     0    0   197  0\n",
       "114      years     0    0    0    0     0    0   108    0     0    0     0  0\n",
       "\n",
       "[115 rows x 13 columns]"
      ],
      "text/html": "<div>\n<style scoped>\n    .dataframe tbody tr th:only-of-type {\n        vertical-align: middle;\n    }\n\n    .dataframe tbody tr th {\n        vertical-align: top;\n    }\n\n    .dataframe thead th {\n        text-align: right;\n    }\n</style>\n<table border=\"1\" class=\"dataframe\">\n  <thead>\n    <tr style=\"text-align: right;\">\n      <th></th>\n      <th>word</th>\n      <th>.</th>\n      <th>ADJ</th>\n      <th>ADP</th>\n      <th>ADV</th>\n      <th>CONJ</th>\n      <th>DET</th>\n      <th>NOUN</th>\n      <th>NUM</th>\n      <th>PRON</th>\n      <th>PRT</th>\n      <th>VERB</th>\n      <th>X</th>\n    </tr>\n  </thead>\n  <tbody>\n    <tr>\n      <th>0</th>\n      <td>'s</td>\n      <td>0</td>\n      <td>0</td>\n      <td>0</td>\n      <td>0</td>\n      <td>0</td>\n      <td>0</td>\n      <td>0</td>\n      <td>0</td>\n      <td>0</td>\n      <td>717</td>\n      <td>93</td>\n      <td>0</td>\n    </tr>\n    <tr>\n      <th>1</th>\n      <td>,</td>\n      <td>4639</td>\n      <td>0</td>\n      <td>0</td>\n      <td>0</td>\n      <td>0</td>\n      <td>0</td>\n      <td>0</td>\n      <td>0</td>\n      <td>0</td>\n      <td>0</td>\n      <td>0</td>\n      <td>0</td>\n    </tr>\n    <tr>\n      <th>2</th>\n      <td>.</td>\n      <td>3637</td>\n      <td>0</td>\n      <td>0</td>\n      <td>0</td>\n      <td>0</td>\n      <td>0</td>\n      <td>0</td>\n      <td>0</td>\n      <td>0</td>\n      <td>0</td>\n      <td>0</td>\n      <td>0</td>\n    </tr>\n    <tr>\n      <th>3</th>\n      <td>11th</td>\n      <td>0</td>\n      <td>1</td>\n      <td>0</td>\n      <td>0</td>\n      <td>0</td>\n      <td>0</td>\n      <td>0</td>\n      <td>0</td>\n      <td>0</td>\n      <td>0</td>\n      <td>0</td>\n      <td>0</td>\n    </tr>\n    <tr>\n      <th>4</th>\n      <td>2011</td>\n      <td>0</td>\n      <td>0</td>\n      <td>0</td>\n      <td>0</td>\n      <td>0</td>\n      <td>0</td>\n      <td>0</td>\n      <td>0</td>\n      <td>0</td>\n      <td>0</td>\n      <td>0</td>\n      <td>0</td>\n    </tr>\n    <tr>\n      <th>...</th>\n      <td>...</td>\n      <td>...</td>\n      <td>...</td>\n      <td>...</td>\n      <td>...</td>\n      <td>...</td>\n      <td>...</td>\n      <td>...</td>\n      <td>...</td>\n      <td>...</td>\n      <td>...</td>\n      <td>...</td>\n      <td>...</td>\n    </tr>\n    <tr>\n      <th>110</th>\n      <td>which</td>\n      <td>0</td>\n      <td>0</td>\n      <td>1</td>\n      <td>0</td>\n      <td>0</td>\n      <td>218</td>\n      <td>0</td>\n      <td>0</td>\n      <td>0</td>\n      <td>0</td>\n      <td>0</td>\n      <td>0</td>\n    </tr>\n    <tr>\n      <th>111</th>\n      <td>with</td>\n      <td>0</td>\n      <td>0</td>\n      <td>370</td>\n      <td>0</td>\n      <td>0</td>\n      <td>0</td>\n      <td>0</td>\n      <td>0</td>\n      <td>0</td>\n      <td>0</td>\n      <td>0</td>\n      <td>0</td>\n    </tr>\n    <tr>\n      <th>112</th>\n      <td>worldwide</td>\n      <td>0</td>\n      <td>0</td>\n      <td>0</td>\n      <td>0</td>\n      <td>0</td>\n      <td>0</td>\n      <td>0</td>\n      <td>0</td>\n      <td>0</td>\n      <td>0</td>\n      <td>0</td>\n      <td>0</td>\n    </tr>\n    <tr>\n      <th>113</th>\n      <td>would</td>\n      <td>0</td>\n      <td>0</td>\n      <td>0</td>\n      <td>0</td>\n      <td>0</td>\n      <td>0</td>\n      <td>0</td>\n      <td>0</td>\n      <td>0</td>\n      <td>0</td>\n      <td>197</td>\n      <td>0</td>\n    </tr>\n    <tr>\n      <th>114</th>\n      <td>years</td>\n      <td>0</td>\n      <td>0</td>\n      <td>0</td>\n      <td>0</td>\n      <td>0</td>\n      <td>0</td>\n      <td>108</td>\n      <td>0</td>\n      <td>0</td>\n      <td>0</td>\n      <td>0</td>\n      <td>0</td>\n    </tr>\n  </tbody>\n</table>\n<p>115 rows × 13 columns</p>\n</div>"
     },
     "metadata": {},
     "execution_count": 31
    }
   ],
   "source": [
    "# count of words vs tags from test file\n",
    "test_words = set(np.concatenate(test_sentences_df.tokenized))\n",
    "word_tag_count = [(word, tag, word_given_tag(word, tag)[0]) for word in test_words for tag in T]\n",
    "word_tag_count_df = pd.DataFrame.from_records(word_tag_count, columns=['word','tag','count'])\n",
    "word_tag_count_df = word_tag_count_df.pivot(index='word', columns='tag', values=['count']).reset_index()\n",
    "word_tag_count_df.columns = [col[1] if col[0] != 'word' else col[0] for col in word_tag_count_df.columns.values]\n",
    "word_tag_count_df"
   ]
  },
  {
   "cell_type": "code",
   "execution_count": 32,
   "metadata": {},
   "outputs": [],
   "source": [
    "word_tag_count_df.set_index('word',inplace=True,drop=True)\n",
    "unknown_words = word_tag_count_df.loc[(word_tag_count_df==0).all(axis=1)].index"
   ]
  },
  {
   "cell_type": "code",
   "execution_count": 33,
   "metadata": {},
   "outputs": [
    {
     "output_type": "stream",
     "name": "stdout",
     "text": [
      "There are 28 unknown words in the Test Sentences. And they are: \n2011\n2013\n2015\n2018\n21st\nAndroid\nCup\nFIFA\nGoogle\nICESAT-2\nNASA\nOS\nSatellite\nTwitter\narriving\ncontested\ndomineering\nfirehose\ninteract\ninvited\nmessages\nonline\npersonality\nsmartphones\ntournament\ntrips\ntweets\nworldwide\n"
     ]
    }
   ],
   "source": [
    "print(f'There are {len(unknown_words)} unknown words in the Test Sentences. And they are: \\n{os.linesep.join(unknown_words)}')"
   ]
  },
  {
   "cell_type": "code",
   "execution_count": 34,
   "metadata": {},
   "outputs": [
    {
     "output_type": "execute_result",
     "data": {
      "text/plain": [
       "[('Android', 'VERB'),\n",
       " ('Google', 'VERB'),\n",
       " ('Android', 'VERB'),\n",
       " ('OS', 'VERB'),\n",
       " ('worldwide', 'VERB'),\n",
       " ('smartphones', 'VERB'),\n",
       " ('2011', 'VERB'),\n",
       " ('2013', 'VERB'),\n",
       " ('Google', 'VERB'),\n",
       " ('Twitter', 'VERB'),\n",
       " ('2015', 'VERB'),\n",
       " ('Google', 'VERB'),\n",
       " ('Twitter', 'VERB'),\n",
       " ('firehose', 'VERB'),\n",
       " ('Twitter', 'VERB'),\n",
       " ('online', 'VERB'),\n",
       " ('interact', 'VERB'),\n",
       " ('messages', 'VERB'),\n",
       " ('tweets', 'VERB'),\n",
       " ('domineering', 'VERB'),\n",
       " ('personality', 'VERB'),\n",
       " ('2018', 'VERB'),\n",
       " ('FIFA', 'VERB'),\n",
       " ('Cup', 'VERB'),\n",
       " ('21st', 'VERB'),\n",
       " ('FIFA', 'VERB'),\n",
       " ('Cup', 'VERB'),\n",
       " ('tournament', 'VERB'),\n",
       " ('contested', 'VERB'),\n",
       " ('Cup', 'VERB'),\n",
       " ('trips', 'VERB'),\n",
       " ('arriving', 'VERB'),\n",
       " ('NASA', 'VERB'),\n",
       " ('invited', 'VERB'),\n",
       " ('ICESAT-2', 'VERB'),\n",
       " ('Satellite', 'VERB')]"
      ]
     },
     "metadata": {},
     "execution_count": 34
    }
   ],
   "source": [
    "# Check how the unknown words are being tagged by the Vanilla Viterbi Algorithm\n",
    "\n",
    "tagged_unknown_words_vanilla =  [ word for word in test_sentences_df.tagged_vanilla_viterbi.sum() if word[0] in unknown_words]\n",
    "tagged_unknown_words_vanilla"
   ]
  },
  {
   "source": [
    "_All of the unknown words have been tagged as PRT_"
   ],
   "cell_type": "markdown",
   "metadata": {}
  },
  {
   "source": [
    "https://nbviewer.jupyter.org/github/keensam04/upgrad_pgdmlai/blob/master/HMM-based_POS_tagger/Syntactic_Analysis_Assignment.ipynb\n",
    "\n",
    "https://github.com/iamurali/upgrad_ml_ai/blob/master/NLP/HMM%2B-based%2BPOS%2Btagging-%2BAssignment.ipynb"
   ],
   "cell_type": "markdown",
   "metadata": {}
  },
  {
   "cell_type": "markdown",
   "metadata": {},
   "source": [
    "### Solve the problem of unknown words"
   ]
  },
  {
   "source": [
    "We can take two approaches in solving the problem of unknown words.\n",
    "\n",
    "1.  Rule Based:\n",
    "    -   By assigning the most frequent tag in the corpus\n",
    "    -   By using a Combined tagger Based on Morphological Features (such as words ending with `-ed / -ing` are VERB usually), Unigram and Bigram Taggers\n",
    "2.  Probability Based\n",
    "    -   For all words in the corpus, State Probability = Transition Probability * Emission Probability\n",
    "    -   For words not in the corpus, State Probability = Transition Probability"
   ],
   "cell_type": "markdown",
   "metadata": {}
  },
  {
   "source": [
    "### Viterbi with Rule Based Tagging"
   ],
   "cell_type": "markdown",
   "metadata": {}
  },
  {
   "cell_type": "code",
   "execution_count": 35,
   "metadata": {},
   "outputs": [],
   "source": [
    "# Define Regex tag patterns\n",
    "patterns = [\n",
    "    (r'.*ing$', 'VERB'),              # gerund\n",
    "    (r'.*ed$', 'VERB'),               # past tense\n",
    "    (r'.*es$', 'VERB'),               # 3rd singular present\n",
    "    (r'.*ould$', 'VERB'),              # modals\n",
    "    (r'.*\\'s$', 'NOUN'),              # possessive nouns\n",
    "    (r'.*s$', 'NOUN'),                # plural nouns\n",
    "    (r'\\*T?\\*?-[0-9]+$', 'X'),        # X\n",
    "    (r'^-?[0-9]+(.[0-9]+)?$', 'NUM'), # cardinal numbers\n",
    "    (r'.*', 'NOUN')                    # nouns\n",
    "]\n",
    "\n",
    "regex_tagger = nltk.RegexpTagger(patterns)\n",
    "# Build a combined tagger Regex Tagging, Unigram and Bigram Tagging\n",
    "def combined_tagger(train_data,taggers,backoff=None):\n",
    "    for tagger in taggers:\n",
    "        backoff = tagger(train_data,backoff=backoff)\n",
    "    return backoff\n",
    "\n",
    "com_tagger = combined_tagger(train_set,\n",
    "                            taggers = [nltk.UnigramTagger,nltk.BigramTagger],\n",
    "                            backoff = regex_tagger\n",
    "                )"
   ]
  },
  {
   "cell_type": "code",
   "execution_count": 36,
   "metadata": {},
   "outputs": [],
   "source": [
    "@timer\n",
    "def ViterbiWithBackoffTaggers(words,backoff_tagger = com_tagger,train_bag = train_tagged_words):\n",
    "    state = []\n",
    "    T = list(set([pair[1] for pair in train_bag]))\n",
    "    \n",
    "    for key, word in enumerate(words):\n",
    "        # unknown words from backoff_tagger\n",
    "        if word not in V:            \n",
    "            unk_word_tag=backoff_tagger.tag([word])[0][1]\n",
    "            state.append(unk_word_tag)\n",
    "        # rest remains same            \n",
    "        else:            \n",
    "            p = [] \n",
    "            for tag in T:\n",
    "                if key == 0:\n",
    "                    transition_p = tags_df.loc['.', tag]\n",
    "                else:\n",
    "                    transition_p = tags_df.loc[state[-1], tag]\n",
    "                \n",
    "            # compute emission and state probabilities\n",
    "                emission_p = word_given_tag(words[key], tag)[0]/word_given_tag(words[key], tag)[1]\n",
    "                state_probability = emission_p * transition_p    \n",
    "                p.append(state_probability)\n",
    "            \n",
    "            pmax = max(p)\n",
    "            # getting state for which probability is maximum\n",
    "            state_max = T[p.index(pmax)] \n",
    "            state.append(state_max)\n",
    "            \n",
    "    return list(zip(words, state))\n"
   ]
  },
  {
   "cell_type": "markdown",
   "metadata": {},
   "source": [
    "#### Evaluating tagging accuracy"
   ]
  },
  {
   "cell_type": "code",
   "execution_count": 37,
   "metadata": {},
   "outputs": [
    {
     "output_type": "stream",
     "name": "stdout",
     "text": [
      "ViterbiWithBackoffTaggers processsing finished in 13.964256286621094 seconds\nAccuracy using Viterbi Algorithm with Backoff Tagger on Test Set: 96.77%\n"
     ]
    }
   ],
   "source": [
    "tagged_seq = ViterbiWithBackoffTaggers(test_tagged_words,com_tagger)\n",
    "\n",
    "# accuracy\n",
    "check = [i for i, j in zip(tagged_seq, test_run_base) if i == j] \n",
    "backoff_accuracy = len(check)/len(tagged_seq)\n",
    "print(f'Accuracy using Viterbi Algorithm with Backoff Tagger on Test Set: {backoff_accuracy*100:.2f}%')"
   ]
  },
  {
   "cell_type": "code",
   "execution_count": 38,
   "metadata": {},
   "outputs": [
    {
     "output_type": "stream",
     "name": "stderr",
     "text": [
      "Tagging using Viterbi with Backoff Taggers: 100%|██████████| 11/11 [00:18<00:00,  1.69s/it]\n"
     ]
    }
   ],
   "source": [
    "tqdm.pandas(desc='Tagging using Viterbi with Backoff Taggers')\n",
    "test_sentences_df['tagged_backoff_viterbi'] = test_sentences_df.tokenized.progress_apply(ViterbiWithBackoffTaggers._original)"
   ]
  },
  {
   "cell_type": "code",
   "execution_count": 39,
   "metadata": {},
   "outputs": [
    {
     "output_type": "execute_result",
     "data": {
      "text/plain": [
       "[('Android', 'NOUN'),\n",
       " ('Google', 'NOUN'),\n",
       " ('Android', 'NOUN'),\n",
       " ('OS', 'NOUN'),\n",
       " ('worldwide', 'NOUN'),\n",
       " ('smartphones', 'VERB'),\n",
       " ('2011', 'NUM'),\n",
       " ('2013', 'NUM'),\n",
       " ('Google', 'NOUN'),\n",
       " ('Twitter', 'NOUN'),\n",
       " ('2015', 'NUM'),\n",
       " ('Google', 'NOUN'),\n",
       " ('Twitter', 'NOUN'),\n",
       " ('firehose', 'NOUN'),\n",
       " ('Twitter', 'NOUN'),\n",
       " ('online', 'NOUN'),\n",
       " ('interact', 'NOUN'),\n",
       " ('messages', 'VERB'),\n",
       " ('tweets', 'NOUN'),\n",
       " ('domineering', 'VERB'),\n",
       " ('personality', 'NOUN'),\n",
       " ('2018', 'NUM'),\n",
       " ('FIFA', 'NOUN'),\n",
       " ('Cup', 'NOUN'),\n",
       " ('21st', 'NOUN'),\n",
       " ('FIFA', 'NOUN'),\n",
       " ('Cup', 'NOUN'),\n",
       " ('tournament', 'NOUN'),\n",
       " ('contested', 'VERB'),\n",
       " ('Cup', 'NOUN'),\n",
       " ('trips', 'NOUN'),\n",
       " ('arriving', 'VERB'),\n",
       " ('NASA', 'NOUN'),\n",
       " ('invited', 'VERB'),\n",
       " ('ICESAT-2', 'NOUN'),\n",
       " ('Satellite', 'NOUN')]"
      ]
     },
     "metadata": {},
     "execution_count": 39
    }
   ],
   "source": [
    "# Check how the unknown words are being tagged by the Vanilla Viterbi Algorithm\n",
    "\n",
    "tagged_unknown_words_backoff =  [ word for word in test_sentences_df.tagged_backoff_viterbi.sum() if word[0] in unknown_words]\n",
    "tagged_unknown_words_backoff"
   ]
  },
  {
   "source": [
    "### Viterbi with Probability based switch"
   ],
   "cell_type": "markdown",
   "metadata": {}
  },
  {
   "cell_type": "code",
   "execution_count": 40,
   "metadata": {},
   "outputs": [],
   "source": [
    "@timer\n",
    "def ViterbiWithProbabilitySwitch(words,train_bag = train_tagged_words):\n",
    "    state = []\n",
    "    T = list(set([pair[1] for pair in train_bag]))\n",
    "    \n",
    "    for key, word in enumerate(words):\n",
    "        p = [] \n",
    "        for tag in T:\n",
    "            if key == 0:\n",
    "                transition_p = tags_df.loc['.', tag]\n",
    "            else:\n",
    "                transition_p = tags_df.loc[state[-1], tag]\n",
    "            \n",
    "            # compute emission and state probabilities\n",
    "            emission_p = word_given_tag(words[key], tag)[0]/word_given_tag(words[key], tag)[1]\n",
    "            # Handle out of Vocabulary words by only considering the transition probabilty when emission probability is 0.\n",
    "            if word not in V: \n",
    "                state_probability = transition_p\n",
    "            else:\n",
    "                state_probability = emission_p * transition_p    \n",
    "            p.append(state_probability)\n",
    "        \n",
    "        pmax = max(p)\n",
    "        # getting state for which probability is maximum\n",
    "        state_max = T[p.index(pmax)] \n",
    "        state.append(state_max)\n",
    "            \n",
    "    return list(zip(words, state))\n"
   ]
  },
  {
   "cell_type": "code",
   "execution_count": 41,
   "metadata": {},
   "outputs": [
    {
     "output_type": "stream",
     "name": "stdout",
     "text": [
      "ViterbiWithProbabilitySwitch processsing finished in 14.406476259231567 seconds\nAccuracy using Viterbi Algorithm with Probability based Switch on Test Set: 92.74%\n"
     ]
    }
   ],
   "source": [
    "tagged_seq = ViterbiWithProbabilitySwitch(test_tagged_words)\n",
    "\n",
    "# accuracy\n",
    "check = [i for i, j in zip(tagged_seq, test_run_base) if i == j]\n",
    "prob_based_accuracy = len(check)/len(tagged_seq) \n",
    "print(f'Accuracy using Viterbi Algorithm with Probability based Switch on Test Set: {prob_based_accuracy*100:.2f}%')"
   ]
  },
  {
   "cell_type": "code",
   "execution_count": 42,
   "metadata": {},
   "outputs": [
    {
     "output_type": "stream",
     "name": "stderr",
     "text": [
      "Tagging using Viterbi with Backoff Taggers: 100%|██████████| 11/11 [00:23<00:00,  2.10s/it]\n"
     ]
    }
   ],
   "source": [
    "tqdm.pandas(desc='Tagging using Viterbi with Backoff Taggers')\n",
    "test_sentences_df['tagged_prob_viterbi'] = test_sentences_df.tokenized.progress_apply(ViterbiWithProbabilitySwitch._original)"
   ]
  },
  {
   "cell_type": "code",
   "execution_count": 43,
   "metadata": {},
   "outputs": [
    {
     "output_type": "execute_result",
     "data": {
      "text/plain": [
       "[('Android', 'NOUN'),\n",
       " ('Google', 'DET'),\n",
       " ('Android', 'NOUN'),\n",
       " ('OS', 'NOUN'),\n",
       " ('worldwide', 'NOUN'),\n",
       " ('smartphones', 'DET'),\n",
       " ('2011', 'DET'),\n",
       " ('2013', 'DET'),\n",
       " ('Google', 'NOUN'),\n",
       " ('Twitter', 'NOUN'),\n",
       " ('2015', 'DET'),\n",
       " ('Google', 'X'),\n",
       " ('Twitter', 'VERB'),\n",
       " ('firehose', 'VERB'),\n",
       " ('Twitter', 'NOUN'),\n",
       " ('online', 'NOUN'),\n",
       " ('interact', 'NOUN'),\n",
       " ('messages', 'DET'),\n",
       " ('tweets', 'DET'),\n",
       " ('domineering', 'NOUN'),\n",
       " ('personality', 'NOUN'),\n",
       " ('2018', 'NOUN'),\n",
       " ('FIFA', 'NOUN'),\n",
       " ('Cup', 'NOUN'),\n",
       " ('21st', 'NOUN'),\n",
       " ('FIFA', 'NOUN'),\n",
       " ('Cup', 'NOUN'),\n",
       " ('tournament', 'NOUN'),\n",
       " ('contested', 'NOUN'),\n",
       " ('Cup', 'NOUN'),\n",
       " ('trips', 'NOUN'),\n",
       " ('arriving', 'NOUN'),\n",
       " ('NASA', 'NOUN'),\n",
       " ('invited', 'NOUN'),\n",
       " ('ICESAT-2', 'DET'),\n",
       " ('Satellite', 'NOUN')]"
      ]
     },
     "metadata": {},
     "execution_count": 43
    }
   ],
   "source": [
    "# Check how the unknown words are being tagged by the Vanilla Viterbi Algorithm\n",
    "\n",
    "tagged_unknown_words_prob =  [ word for word in test_sentences_df.tagged_prob_viterbi.sum() if word[0] in unknown_words]\n",
    "tagged_unknown_words_prob"
   ]
  },
  {
   "source": [
    "https://www.kaggle.com/deepanshusinha/hmms-and-viterbi-algorithm-for-pos-tagging"
   ],
   "cell_type": "markdown",
   "metadata": {}
  },
  {
   "cell_type": "markdown",
   "metadata": {},
   "source": [
    "### Compare the tagging accuracies of the modifications with the vanilla Viterbi algorithm"
   ]
  },
  {
   "cell_type": "code",
   "execution_count": 44,
   "metadata": {},
   "outputs": [],
   "source": [
    "accuracies_df = pd.DataFrame([vanilla_accuracy,backoff_accuracy,prob_based_accuracy],\n",
    "                            index = ['Vanilla Viterbi','Viterbi with Backoff Tagger','Viterbi with Probability Based Tagging'],\n",
    "                            columns = ['accuracy'])"
   ]
  },
  {
   "cell_type": "code",
   "execution_count": 45,
   "metadata": {},
   "outputs": [
    {
     "output_type": "execute_result",
     "data": {
      "text/plain": [
       "                                        accuracy\n",
       "Vanilla Viterbi                         0.903226\n",
       "Viterbi with Backoff Tagger             0.967742\n",
       "Viterbi with Probability Based Tagging  0.927419"
      ],
      "text/html": "<div>\n<style scoped>\n    .dataframe tbody tr th:only-of-type {\n        vertical-align: middle;\n    }\n\n    .dataframe tbody tr th {\n        vertical-align: top;\n    }\n\n    .dataframe thead th {\n        text-align: right;\n    }\n</style>\n<table border=\"1\" class=\"dataframe\">\n  <thead>\n    <tr style=\"text-align: right;\">\n      <th></th>\n      <th>accuracy</th>\n    </tr>\n  </thead>\n  <tbody>\n    <tr>\n      <th>Vanilla Viterbi</th>\n      <td>0.903226</td>\n    </tr>\n    <tr>\n      <th>Viterbi with Backoff Tagger</th>\n      <td>0.967742</td>\n    </tr>\n    <tr>\n      <th>Viterbi with Probability Based Tagging</th>\n      <td>0.927419</td>\n    </tr>\n  </tbody>\n</table>\n</div>"
     },
     "metadata": {},
     "execution_count": 45
    }
   ],
   "source": [
    "accuracies_df"
   ]
  },
  {
   "cell_type": "markdown",
   "metadata": {},
   "source": [
    "### List down cases which were incorrectly tagged by original POS tagger and got corrected by your modifications"
   ]
  },
  {
   "cell_type": "code",
   "execution_count": 46,
   "metadata": {},
   "outputs": [
    {
     "output_type": "execute_result",
     "data": {
      "text/plain": [
       "                                            sentences  \\\n",
       "0   Android is a mobile operating system developed...   \n",
       "1   Android has been the best-selling OS worldwide...   \n",
       "2   Google and Twitter made a deal in 2015 that ga...   \n",
       "3   Twitter is an online news and social networkin...   \n",
       "4   Before entering politics, Donald Trump was a d...   \n",
       "5   The 2018 FIFA World Cup is the 21st FIFA World...   \n",
       "6   This is the first World Cup to be held in East...   \n",
       "7   Show me the cheapest round trips from Dallas t...   \n",
       "8   I would like to see flights from Denver to Phi...   \n",
       "9   Show me the price of the flights leaving Atlan...   \n",
       "10  NASA invited social media users to experience ...   \n",
       "\n",
       "                                            tokenized  \\\n",
       "0   [Android, is, a, mobile, operating, system, de...   \n",
       "1   [Android, has, been, the, best-selling, OS, wo...   \n",
       "2   [Google, and, Twitter, made, a, deal, in, 2015...   \n",
       "3   [Twitter, is, an, online, news, and, social, n...   \n",
       "4   [Before, entering, politics, ,, Donald, Trump,...   \n",
       "5   [The, 2018, FIFA, World, Cup, is, the, 21st, F...   \n",
       "6   [This, is, the, first, World, Cup, to, be, hel...   \n",
       "7   [Show, me, the, cheapest, round, trips, from, ...   \n",
       "8   [I, would, like, to, see, flights, from, Denve...   \n",
       "9   [Show, me, the, price, of, the, flights, leavi...   \n",
       "10  [NASA, invited, social, media, users, to, expe...   \n",
       "\n",
       "                               tagged_vanilla_viterbi  \\\n",
       "0   [(Android, VERB), (is, VERB), (a, DET), (mobil...   \n",
       "1   [(Android, VERB), (has, VERB), (been, VERB), (...   \n",
       "2   [(Google, VERB), (and, CONJ), (Twitter, VERB),...   \n",
       "3   [(Twitter, VERB), (is, VERB), (an, DET), (onli...   \n",
       "4   [(Before, ADP), (entering, VERB), (politics, N...   \n",
       "5   [(The, DET), (2018, VERB), (FIFA, VERB), (Worl...   \n",
       "6   [(This, DET), (is, VERB), (the, DET), (first, ...   \n",
       "7   [(Show, NOUN), (me, PRON), (the, DET), (cheape...   \n",
       "8   [(I, PRON), (would, VERB), (like, ADP), (to, P...   \n",
       "9   [(Show, NOUN), (me, PRON), (the, DET), (price,...   \n",
       "10  [(NASA, VERB), (invited, VERB), (social, ADJ),...   \n",
       "\n",
       "                               tagged_backoff_viterbi  \\\n",
       "0   [(Android, NOUN), (is, VERB), (a, DET), (mobil...   \n",
       "1   [(Android, NOUN), (has, VERB), (been, VERB), (...   \n",
       "2   [(Google, NOUN), (and, CONJ), (Twitter, NOUN),...   \n",
       "3   [(Twitter, NOUN), (is, VERB), (an, DET), (onli...   \n",
       "4   [(Before, ADP), (entering, VERB), (politics, N...   \n",
       "5   [(The, DET), (2018, NUM), (FIFA, NOUN), (World...   \n",
       "6   [(This, DET), (is, VERB), (the, DET), (first, ...   \n",
       "7   [(Show, NOUN), (me, PRON), (the, DET), (cheape...   \n",
       "8   [(I, PRON), (would, VERB), (like, ADP), (to, P...   \n",
       "9   [(Show, NOUN), (me, PRON), (the, DET), (price,...   \n",
       "10  [(NASA, NOUN), (invited, VERB), (social, ADJ),...   \n",
       "\n",
       "                                  tagged_prob_viterbi  \n",
       "0   [(Android, NOUN), (is, VERB), (a, DET), (mobil...  \n",
       "1   [(Android, NOUN), (has, VERB), (been, VERB), (...  \n",
       "2   [(Google, NOUN), (and, CONJ), (Twitter, NOUN),...  \n",
       "3   [(Twitter, NOUN), (is, VERB), (an, DET), (onli...  \n",
       "4   [(Before, ADP), (entering, VERB), (politics, N...  \n",
       "5   [(The, DET), (2018, NOUN), (FIFA, NOUN), (Worl...  \n",
       "6   [(This, DET), (is, VERB), (the, DET), (first, ...  \n",
       "7   [(Show, NOUN), (me, PRON), (the, DET), (cheape...  \n",
       "8   [(I, PRON), (would, VERB), (like, ADP), (to, P...  \n",
       "9   [(Show, NOUN), (me, PRON), (the, DET), (price,...  \n",
       "10  [(NASA, NOUN), (invited, NOUN), (social, ADJ),...  "
      ],
      "text/html": "<div>\n<style scoped>\n    .dataframe tbody tr th:only-of-type {\n        vertical-align: middle;\n    }\n\n    .dataframe tbody tr th {\n        vertical-align: top;\n    }\n\n    .dataframe thead th {\n        text-align: right;\n    }\n</style>\n<table border=\"1\" class=\"dataframe\">\n  <thead>\n    <tr style=\"text-align: right;\">\n      <th></th>\n      <th>sentences</th>\n      <th>tokenized</th>\n      <th>tagged_vanilla_viterbi</th>\n      <th>tagged_backoff_viterbi</th>\n      <th>tagged_prob_viterbi</th>\n    </tr>\n  </thead>\n  <tbody>\n    <tr>\n      <th>0</th>\n      <td>Android is a mobile operating system developed...</td>\n      <td>[Android, is, a, mobile, operating, system, de...</td>\n      <td>[(Android, VERB), (is, VERB), (a, DET), (mobil...</td>\n      <td>[(Android, NOUN), (is, VERB), (a, DET), (mobil...</td>\n      <td>[(Android, NOUN), (is, VERB), (a, DET), (mobil...</td>\n    </tr>\n    <tr>\n      <th>1</th>\n      <td>Android has been the best-selling OS worldwide...</td>\n      <td>[Android, has, been, the, best-selling, OS, wo...</td>\n      <td>[(Android, VERB), (has, VERB), (been, VERB), (...</td>\n      <td>[(Android, NOUN), (has, VERB), (been, VERB), (...</td>\n      <td>[(Android, NOUN), (has, VERB), (been, VERB), (...</td>\n    </tr>\n    <tr>\n      <th>2</th>\n      <td>Google and Twitter made a deal in 2015 that ga...</td>\n      <td>[Google, and, Twitter, made, a, deal, in, 2015...</td>\n      <td>[(Google, VERB), (and, CONJ), (Twitter, VERB),...</td>\n      <td>[(Google, NOUN), (and, CONJ), (Twitter, NOUN),...</td>\n      <td>[(Google, NOUN), (and, CONJ), (Twitter, NOUN),...</td>\n    </tr>\n    <tr>\n      <th>3</th>\n      <td>Twitter is an online news and social networkin...</td>\n      <td>[Twitter, is, an, online, news, and, social, n...</td>\n      <td>[(Twitter, VERB), (is, VERB), (an, DET), (onli...</td>\n      <td>[(Twitter, NOUN), (is, VERB), (an, DET), (onli...</td>\n      <td>[(Twitter, NOUN), (is, VERB), (an, DET), (onli...</td>\n    </tr>\n    <tr>\n      <th>4</th>\n      <td>Before entering politics, Donald Trump was a d...</td>\n      <td>[Before, entering, politics, ,, Donald, Trump,...</td>\n      <td>[(Before, ADP), (entering, VERB), (politics, N...</td>\n      <td>[(Before, ADP), (entering, VERB), (politics, N...</td>\n      <td>[(Before, ADP), (entering, VERB), (politics, N...</td>\n    </tr>\n    <tr>\n      <th>5</th>\n      <td>The 2018 FIFA World Cup is the 21st FIFA World...</td>\n      <td>[The, 2018, FIFA, World, Cup, is, the, 21st, F...</td>\n      <td>[(The, DET), (2018, VERB), (FIFA, VERB), (Worl...</td>\n      <td>[(The, DET), (2018, NUM), (FIFA, NOUN), (World...</td>\n      <td>[(The, DET), (2018, NOUN), (FIFA, NOUN), (Worl...</td>\n    </tr>\n    <tr>\n      <th>6</th>\n      <td>This is the first World Cup to be held in East...</td>\n      <td>[This, is, the, first, World, Cup, to, be, hel...</td>\n      <td>[(This, DET), (is, VERB), (the, DET), (first, ...</td>\n      <td>[(This, DET), (is, VERB), (the, DET), (first, ...</td>\n      <td>[(This, DET), (is, VERB), (the, DET), (first, ...</td>\n    </tr>\n    <tr>\n      <th>7</th>\n      <td>Show me the cheapest round trips from Dallas t...</td>\n      <td>[Show, me, the, cheapest, round, trips, from, ...</td>\n      <td>[(Show, NOUN), (me, PRON), (the, DET), (cheape...</td>\n      <td>[(Show, NOUN), (me, PRON), (the, DET), (cheape...</td>\n      <td>[(Show, NOUN), (me, PRON), (the, DET), (cheape...</td>\n    </tr>\n    <tr>\n      <th>8</th>\n      <td>I would like to see flights from Denver to Phi...</td>\n      <td>[I, would, like, to, see, flights, from, Denve...</td>\n      <td>[(I, PRON), (would, VERB), (like, ADP), (to, P...</td>\n      <td>[(I, PRON), (would, VERB), (like, ADP), (to, P...</td>\n      <td>[(I, PRON), (would, VERB), (like, ADP), (to, P...</td>\n    </tr>\n    <tr>\n      <th>9</th>\n      <td>Show me the price of the flights leaving Atlan...</td>\n      <td>[Show, me, the, price, of, the, flights, leavi...</td>\n      <td>[(Show, NOUN), (me, PRON), (the, DET), (price,...</td>\n      <td>[(Show, NOUN), (me, PRON), (the, DET), (price,...</td>\n      <td>[(Show, NOUN), (me, PRON), (the, DET), (price,...</td>\n    </tr>\n    <tr>\n      <th>10</th>\n      <td>NASA invited social media users to experience ...</td>\n      <td>[NASA, invited, social, media, users, to, expe...</td>\n      <td>[(NASA, VERB), (invited, VERB), (social, ADJ),...</td>\n      <td>[(NASA, NOUN), (invited, VERB), (social, ADJ),...</td>\n      <td>[(NASA, NOUN), (invited, NOUN), (social, ADJ),...</td>\n    </tr>\n  </tbody>\n</table>\n</div>"
     },
     "metadata": {},
     "execution_count": 46
    }
   ],
   "source": [
    "test_sentences_df"
   ]
  },
  {
   "cell_type": "code",
   "execution_count": 47,
   "metadata": {},
   "outputs": [],
   "source": [
    "def print_tagger_results(row):\n",
    "    print()\n",
    "    print('Original Sentence:')\n",
    "    print('------------------')\n",
    "    print(row.sentences,'\\n')\n",
    "\n",
    "    print('Tagged with Vanilla Viterbi')\n",
    "    print('---------------------------')\n",
    "    print(*row.tagged_vanilla_viterbi,'\\n')\n",
    "\n",
    "    print('Tagged with Viterbi with Backoff')\n",
    "    print('--------------------------------')\n",
    "    print(*row.tagged_backoff_viterbi,'\\n')\n",
    "\n",
    "    print('Tagged with Viterbi with Probability Based Switch')\n",
    "    print('-------------------------------------------------')\n",
    "    print(*row.tagged_prob_viterbi,'\\n')\n",
    "    print()\n",
    "  "
   ]
  },
  {
   "cell_type": "code",
   "execution_count": 48,
   "metadata": {},
   "outputs": [
    {
     "output_type": "stream",
     "name": "stderr",
     "text": [
      "Compare the Taggers: 100%|██████████| 11/11 [00:00<00:00, 200.02it/s]\n",
      "Original Sentence:\n",
      "------------------\n",
      "Android is a mobile operating system developed by Google. \n",
      "\n",
      "Tagged with Vanilla Viterbi\n",
      "---------------------------\n",
      "('Android', 'VERB') ('is', 'VERB') ('a', 'DET') ('mobile', 'ADJ') ('operating', 'NOUN') ('system', 'NOUN') ('developed', 'VERB') ('by', 'ADP') ('Google', 'VERB') ('.', '.') \n",
      "\n",
      "Tagged with Viterbi with Backoff\n",
      "--------------------------------\n",
      "('Android', 'NOUN') ('is', 'VERB') ('a', 'DET') ('mobile', 'ADJ') ('operating', 'NOUN') ('system', 'NOUN') ('developed', 'VERB') ('by', 'ADP') ('Google', 'NOUN') ('.', '.') \n",
      "\n",
      "Tagged with Viterbi with Probability Based Switch\n",
      "-------------------------------------------------\n",
      "('Android', 'NOUN') ('is', 'VERB') ('a', 'DET') ('mobile', 'ADJ') ('operating', 'NOUN') ('system', 'NOUN') ('developed', 'VERB') ('by', 'ADP') ('Google', 'DET') ('.', '.') \n",
      "\n",
      "\n",
      "\n",
      "Original Sentence:\n",
      "------------------\n",
      "Android has been the best-selling OS worldwide on smartphones since 2011 and on tablets since 2013. \n",
      "\n",
      "Tagged with Vanilla Viterbi\n",
      "---------------------------\n",
      "('Android', 'VERB') ('has', 'VERB') ('been', 'VERB') ('the', 'DET') ('best-selling', 'ADJ') ('OS', 'VERB') ('worldwide', 'VERB') ('on', 'ADP') ('smartphones', 'VERB') ('since', 'ADP') ('2011', 'VERB') ('and', 'CONJ') ('on', 'ADP') ('tablets', 'NOUN') ('since', 'ADP') ('2013', 'VERB') ('.', '.') \n",
      "\n",
      "Tagged with Viterbi with Backoff\n",
      "--------------------------------\n",
      "('Android', 'NOUN') ('has', 'VERB') ('been', 'VERB') ('the', 'DET') ('best-selling', 'ADJ') ('OS', 'NOUN') ('worldwide', 'NOUN') ('on', 'ADP') ('smartphones', 'VERB') ('since', 'ADP') ('2011', 'NUM') ('and', 'CONJ') ('on', 'ADP') ('tablets', 'NOUN') ('since', 'ADP') ('2013', 'NUM') ('.', '.') \n",
      "\n",
      "Tagged with Viterbi with Probability Based Switch\n",
      "-------------------------------------------------\n",
      "('Android', 'NOUN') ('has', 'VERB') ('been', 'VERB') ('the', 'DET') ('best-selling', 'ADJ') ('OS', 'NOUN') ('worldwide', 'NOUN') ('on', 'ADP') ('smartphones', 'DET') ('since', 'ADP') ('2011', 'DET') ('and', 'CONJ') ('on', 'ADP') ('tablets', 'NOUN') ('since', 'ADP') ('2013', 'DET') ('.', '.') \n",
      "\n",
      "\n",
      "\n",
      "Original Sentence:\n",
      "------------------\n",
      "Google and Twitter made a deal in 2015 that gave Google access to Twitter's firehose. \n",
      "\n",
      "Tagged with Vanilla Viterbi\n",
      "---------------------------\n",
      "('Google', 'VERB') ('and', 'CONJ') ('Twitter', 'VERB') ('made', 'VERB') ('a', 'DET') ('deal', 'NOUN') ('in', 'ADP') ('2015', 'VERB') ('that', 'ADP') ('gave', 'VERB') ('Google', 'VERB') ('access', 'NOUN') ('to', 'PRT') ('Twitter', 'VERB') (\"'s\", 'PRT') ('firehose', 'VERB') ('.', '.') \n",
      "\n",
      "Tagged with Viterbi with Backoff\n",
      "--------------------------------\n",
      "('Google', 'NOUN') ('and', 'CONJ') ('Twitter', 'NOUN') ('made', 'VERB') ('a', 'DET') ('deal', 'NOUN') ('in', 'ADP') ('2015', 'NUM') ('that', 'ADP') ('gave', 'VERB') ('Google', 'NOUN') ('access', 'NOUN') ('to', 'PRT') ('Twitter', 'NOUN') (\"'s\", 'PRT') ('firehose', 'NOUN') ('.', '.') \n",
      "\n",
      "Tagged with Viterbi with Probability Based Switch\n",
      "-------------------------------------------------\n",
      "('Google', 'NOUN') ('and', 'CONJ') ('Twitter', 'NOUN') ('made', 'VERB') ('a', 'DET') ('deal', 'NOUN') ('in', 'ADP') ('2015', 'DET') ('that', 'ADP') ('gave', 'VERB') ('Google', 'X') ('access', 'NOUN') ('to', 'PRT') ('Twitter', 'VERB') (\"'s\", 'PRT') ('firehose', 'VERB') ('.', '.') \n",
      "\n",
      "\n",
      "\n",
      "Original Sentence:\n",
      "------------------\n",
      "Twitter is an online news and social networking service on which users post and interact with messages known as tweets. \n",
      "\n",
      "Tagged with Vanilla Viterbi\n",
      "---------------------------\n",
      "('Twitter', 'VERB') ('is', 'VERB') ('an', 'DET') ('online', 'VERB') ('news', 'NOUN') ('and', 'CONJ') ('social', 'ADJ') ('networking', 'NOUN') ('service', 'NOUN') ('on', 'ADP') ('which', 'DET') ('users', 'NOUN') ('post', 'NOUN') ('and', 'CONJ') ('interact', 'VERB') ('with', 'ADP') ('messages', 'VERB') ('known', 'VERB') ('as', 'ADP') ('tweets', 'VERB') ('.', '.') \n",
      "\n",
      "Tagged with Viterbi with Backoff\n",
      "--------------------------------\n",
      "('Twitter', 'NOUN') ('is', 'VERB') ('an', 'DET') ('online', 'NOUN') ('news', 'NOUN') ('and', 'CONJ') ('social', 'ADJ') ('networking', 'NOUN') ('service', 'NOUN') ('on', 'ADP') ('which', 'DET') ('users', 'NOUN') ('post', 'NOUN') ('and', 'CONJ') ('interact', 'NOUN') ('with', 'ADP') ('messages', 'VERB') ('known', 'VERB') ('as', 'ADP') ('tweets', 'NOUN') ('.', '.') \n",
      "\n",
      "Tagged with Viterbi with Probability Based Switch\n",
      "-------------------------------------------------\n",
      "('Twitter', 'NOUN') ('is', 'VERB') ('an', 'DET') ('online', 'NOUN') ('news', 'NOUN') ('and', 'CONJ') ('social', 'ADJ') ('networking', 'NOUN') ('service', 'NOUN') ('on', 'ADP') ('which', 'DET') ('users', 'NOUN') ('post', 'NOUN') ('and', 'CONJ') ('interact', 'NOUN') ('with', 'ADP') ('messages', 'DET') ('known', 'VERB') ('as', 'ADP') ('tweets', 'DET') ('.', '.') \n",
      "\n",
      "\n",
      "\n",
      "Original Sentence:\n",
      "------------------\n",
      "Before entering politics, Donald Trump was a domineering businessman and a television personality. \n",
      "\n",
      "Tagged with Vanilla Viterbi\n",
      "---------------------------\n",
      "('Before', 'ADP') ('entering', 'VERB') ('politics', 'NOUN') (',', '.') ('Donald', 'NOUN') ('Trump', 'NOUN') ('was', 'VERB') ('a', 'DET') ('domineering', 'VERB') ('businessman', 'NOUN') ('and', 'CONJ') ('a', 'DET') ('television', 'NOUN') ('personality', 'VERB') ('.', '.') \n",
      "\n",
      "Tagged with Viterbi with Backoff\n",
      "--------------------------------\n",
      "('Before', 'ADP') ('entering', 'VERB') ('politics', 'NOUN') (',', '.') ('Donald', 'NOUN') ('Trump', 'NOUN') ('was', 'VERB') ('a', 'DET') ('domineering', 'VERB') ('businessman', 'NOUN') ('and', 'CONJ') ('a', 'DET') ('television', 'NOUN') ('personality', 'NOUN') ('.', '.') \n",
      "\n",
      "Tagged with Viterbi with Probability Based Switch\n",
      "-------------------------------------------------\n",
      "('Before', 'ADP') ('entering', 'VERB') ('politics', 'NOUN') (',', '.') ('Donald', 'NOUN') ('Trump', 'NOUN') ('was', 'VERB') ('a', 'DET') ('domineering', 'NOUN') ('businessman', 'NOUN') ('and', 'CONJ') ('a', 'DET') ('television', 'NOUN') ('personality', 'NOUN') ('.', '.') \n",
      "\n",
      "\n",
      "\n",
      "Original Sentence:\n",
      "------------------\n",
      "The 2018 FIFA World Cup is the 21st FIFA World Cup, an international football tournament contested once every four years. \n",
      "\n",
      "Tagged with Vanilla Viterbi\n",
      "---------------------------\n",
      "('The', 'DET') ('2018', 'VERB') ('FIFA', 'VERB') ('World', 'NOUN') ('Cup', 'VERB') ('is', 'VERB') ('the', 'DET') ('21st', 'VERB') ('FIFA', 'VERB') ('World', 'NOUN') ('Cup', 'VERB') (',', '.') ('an', 'DET') ('international', 'ADJ') ('football', 'NOUN') ('tournament', 'VERB') ('contested', 'VERB') ('once', 'ADV') ('every', 'DET') ('four', 'NUM') ('years', 'NOUN') ('.', '.') \n",
      "\n",
      "Tagged with Viterbi with Backoff\n",
      "--------------------------------\n",
      "('The', 'DET') ('2018', 'NUM') ('FIFA', 'NOUN') ('World', 'NOUN') ('Cup', 'NOUN') ('is', 'VERB') ('the', 'DET') ('21st', 'NOUN') ('FIFA', 'NOUN') ('World', 'NOUN') ('Cup', 'NOUN') (',', '.') ('an', 'DET') ('international', 'ADJ') ('football', 'NOUN') ('tournament', 'NOUN') ('contested', 'VERB') ('once', 'ADV') ('every', 'DET') ('four', 'NUM') ('years', 'NOUN') ('.', '.') \n",
      "\n",
      "Tagged with Viterbi with Probability Based Switch\n",
      "-------------------------------------------------\n",
      "('The', 'DET') ('2018', 'NOUN') ('FIFA', 'NOUN') ('World', 'NOUN') ('Cup', 'NOUN') ('is', 'VERB') ('the', 'DET') ('21st', 'NOUN') ('FIFA', 'NOUN') ('World', 'NOUN') ('Cup', 'NOUN') (',', '.') ('an', 'DET') ('international', 'ADJ') ('football', 'NOUN') ('tournament', 'NOUN') ('contested', 'NOUN') ('once', 'ADV') ('every', 'DET') ('four', 'NUM') ('years', 'NOUN') ('.', '.') \n",
      "\n",
      "\n",
      "\n",
      "Original Sentence:\n",
      "------------------\n",
      "This is the first World Cup to be held in Eastern Europe and the 11th time that it has been held in Europe. \n",
      "\n",
      "Tagged with Vanilla Viterbi\n",
      "---------------------------\n",
      "('This', 'DET') ('is', 'VERB') ('the', 'DET') ('first', 'ADJ') ('World', 'NOUN') ('Cup', 'VERB') ('to', 'PRT') ('be', 'VERB') ('held', 'VERB') ('in', 'ADP') ('Eastern', 'NOUN') ('Europe', 'NOUN') ('and', 'CONJ') ('the', 'DET') ('11th', 'ADJ') ('time', 'NOUN') ('that', 'ADP') ('it', 'PRON') ('has', 'VERB') ('been', 'VERB') ('held', 'VERB') ('in', 'ADP') ('Europe', 'NOUN') ('.', '.') \n",
      "\n",
      "Tagged with Viterbi with Backoff\n",
      "--------------------------------\n",
      "('This', 'DET') ('is', 'VERB') ('the', 'DET') ('first', 'ADJ') ('World', 'NOUN') ('Cup', 'NOUN') ('to', 'PRT') ('be', 'VERB') ('held', 'VERB') ('in', 'ADP') ('Eastern', 'NOUN') ('Europe', 'NOUN') ('and', 'CONJ') ('the', 'DET') ('11th', 'ADJ') ('time', 'NOUN') ('that', 'ADP') ('it', 'PRON') ('has', 'VERB') ('been', 'VERB') ('held', 'VERB') ('in', 'ADP') ('Europe', 'NOUN') ('.', '.') \n",
      "\n",
      "Tagged with Viterbi with Probability Based Switch\n",
      "-------------------------------------------------\n",
      "('This', 'DET') ('is', 'VERB') ('the', 'DET') ('first', 'ADJ') ('World', 'NOUN') ('Cup', 'NOUN') ('to', 'PRT') ('be', 'VERB') ('held', 'VERB') ('in', 'ADP') ('Eastern', 'NOUN') ('Europe', 'NOUN') ('and', 'CONJ') ('the', 'DET') ('11th', 'ADJ') ('time', 'NOUN') ('that', 'ADP') ('it', 'PRON') ('has', 'VERB') ('been', 'VERB') ('held', 'VERB') ('in', 'ADP') ('Europe', 'NOUN') ('.', '.') \n",
      "\n",
      "\n",
      "\n",
      "Original Sentence:\n",
      "------------------\n",
      "Show me the cheapest round trips from Dallas to Atlanta \n",
      "\n",
      "Tagged with Vanilla Viterbi\n",
      "---------------------------\n",
      "('Show', 'NOUN') ('me', 'PRON') ('the', 'DET') ('cheapest', 'ADJ') ('round', 'NOUN') ('trips', 'VERB') ('from', 'ADP') ('Dallas', 'NOUN') ('to', 'PRT') ('Atlanta', 'NOUN') \n",
      "\n",
      "Tagged with Viterbi with Backoff\n",
      "--------------------------------\n",
      "('Show', 'NOUN') ('me', 'PRON') ('the', 'DET') ('cheapest', 'ADJ') ('round', 'NOUN') ('trips', 'NOUN') ('from', 'ADP') ('Dallas', 'NOUN') ('to', 'PRT') ('Atlanta', 'NOUN') \n",
      "\n",
      "Tagged with Viterbi with Probability Based Switch\n",
      "-------------------------------------------------\n",
      "('Show', 'NOUN') ('me', 'PRON') ('the', 'DET') ('cheapest', 'ADJ') ('round', 'NOUN') ('trips', 'NOUN') ('from', 'ADP') ('Dallas', 'NOUN') ('to', 'PRT') ('Atlanta', 'NOUN') \n",
      "\n",
      "\n",
      "\n",
      "Original Sentence:\n",
      "------------------\n",
      "I would like to see flights from Denver to Philadelphia. \n",
      "\n",
      "Tagged with Vanilla Viterbi\n",
      "---------------------------\n",
      "('I', 'PRON') ('would', 'VERB') ('like', 'ADP') ('to', 'PRT') ('see', 'VERB') ('flights', 'NOUN') ('from', 'ADP') ('Denver', 'NOUN') ('to', 'PRT') ('Philadelphia', 'NOUN') ('.', '.') \n",
      "\n",
      "Tagged with Viterbi with Backoff\n",
      "--------------------------------\n",
      "('I', 'PRON') ('would', 'VERB') ('like', 'ADP') ('to', 'PRT') ('see', 'VERB') ('flights', 'NOUN') ('from', 'ADP') ('Denver', 'NOUN') ('to', 'PRT') ('Philadelphia', 'NOUN') ('.', '.') \n",
      "\n",
      "Tagged with Viterbi with Probability Based Switch\n",
      "-------------------------------------------------\n",
      "('I', 'PRON') ('would', 'VERB') ('like', 'ADP') ('to', 'PRT') ('see', 'VERB') ('flights', 'NOUN') ('from', 'ADP') ('Denver', 'NOUN') ('to', 'PRT') ('Philadelphia', 'NOUN') ('.', '.') \n",
      "\n",
      "\n",
      "\n",
      "Original Sentence:\n",
      "------------------\n",
      "Show me the price of the flights leaving Atlanta at about 3 in the afternoon and arriving in San Francisco. \n",
      "\n",
      "Tagged with Vanilla Viterbi\n",
      "---------------------------\n",
      "('Show', 'NOUN') ('me', 'PRON') ('the', 'DET') ('price', 'NOUN') ('of', 'ADP') ('the', 'DET') ('flights', 'NOUN') ('leaving', 'VERB') ('Atlanta', 'NOUN') ('at', 'ADP') ('about', 'ADP') ('3', 'NUM') ('in', 'ADP') ('the', 'DET') ('afternoon', 'NOUN') ('and', 'CONJ') ('arriving', 'VERB') ('in', 'ADP') ('San', 'NOUN') ('Francisco', 'NOUN') ('.', '.') \n",
      "\n",
      "Tagged with Viterbi with Backoff\n",
      "--------------------------------\n",
      "('Show', 'NOUN') ('me', 'PRON') ('the', 'DET') ('price', 'NOUN') ('of', 'ADP') ('the', 'DET') ('flights', 'NOUN') ('leaving', 'VERB') ('Atlanta', 'NOUN') ('at', 'ADP') ('about', 'ADP') ('3', 'NUM') ('in', 'ADP') ('the', 'DET') ('afternoon', 'NOUN') ('and', 'CONJ') ('arriving', 'VERB') ('in', 'ADP') ('San', 'NOUN') ('Francisco', 'NOUN') ('.', '.') \n",
      "\n",
      "Tagged with Viterbi with Probability Based Switch\n",
      "-------------------------------------------------\n",
      "('Show', 'NOUN') ('me', 'PRON') ('the', 'DET') ('price', 'NOUN') ('of', 'ADP') ('the', 'DET') ('flights', 'NOUN') ('leaving', 'VERB') ('Atlanta', 'NOUN') ('at', 'ADP') ('about', 'ADP') ('3', 'NUM') ('in', 'ADP') ('the', 'DET') ('afternoon', 'NOUN') ('and', 'CONJ') ('arriving', 'NOUN') ('in', 'ADP') ('San', 'NOUN') ('Francisco', 'NOUN') ('.', '.') \n",
      "\n",
      "\n",
      "\n",
      "Original Sentence:\n",
      "------------------\n",
      "NASA invited social media users to experience the launch of ICESAT-2 Satellite. \n",
      "\n",
      "Tagged with Vanilla Viterbi\n",
      "---------------------------\n",
      "('NASA', 'VERB') ('invited', 'VERB') ('social', 'ADJ') ('media', 'NOUN') ('users', 'NOUN') ('to', 'PRT') ('experience', 'NOUN') ('the', 'DET') ('launch', 'NOUN') ('of', 'ADP') ('ICESAT-2', 'VERB') ('Satellite', 'VERB') ('.', '.') \n",
      "\n",
      "Tagged with Viterbi with Backoff\n",
      "--------------------------------\n",
      "('NASA', 'NOUN') ('invited', 'VERB') ('social', 'ADJ') ('media', 'NOUN') ('users', 'NOUN') ('to', 'PRT') ('experience', 'NOUN') ('the', 'DET') ('launch', 'NOUN') ('of', 'ADP') ('ICESAT-2', 'NOUN') ('Satellite', 'NOUN') ('.', '.') \n",
      "\n",
      "Tagged with Viterbi with Probability Based Switch\n",
      "-------------------------------------------------\n",
      "('NASA', 'NOUN') ('invited', 'NOUN') ('social', 'ADJ') ('media', 'NOUN') ('users', 'NOUN') ('to', 'PRT') ('experience', 'NOUN') ('the', 'DET') ('launch', 'NOUN') ('of', 'ADP') ('ICESAT-2', 'DET') ('Satellite', 'NOUN') ('.', '.') \n",
      "\n",
      "\n",
      "\n"
     ]
    },
    {
     "output_type": "execute_result",
     "data": {
      "text/plain": [
       "0     None\n",
       "1     None\n",
       "2     None\n",
       "3     None\n",
       "4     None\n",
       "5     None\n",
       "6     None\n",
       "7     None\n",
       "8     None\n",
       "9     None\n",
       "10    None\n",
       "dtype: object"
      ]
     },
     "metadata": {},
     "execution_count": 48
    }
   ],
   "source": [
    "# test_sentences_df.apply(lambda row: print_tagger_results(row),axis=1)\n",
    "tqdm.pandas(desc = 'Compare the Taggers')\n",
    "test_sentences_df.progress_apply(print_tagger_results,axis=1)"
   ]
  },
  {
   "cell_type": "code",
   "execution_count": 49,
   "metadata": {},
   "outputs": [],
   "source": [
    "tagged_unknown_words_df = pd.DataFrame(tagged_unknown_words_vanilla,columns=['word','vanilla_tag'])\n",
    "tagged_unknown_words_backoff_df = pd.DataFrame(tagged_unknown_words_backoff,columns=['word','backoff_tag'])\n",
    "tagged_unknown_words_prob_df = pd.DataFrame(tagged_unknown_words_prob,columns=['word','probabilty_based_tag'])"
   ]
  },
  {
   "cell_type": "code",
   "execution_count": 50,
   "metadata": {},
   "outputs": [
    {
     "output_type": "display_data",
     "data": {
      "text/html": "<style  type=\"text/css\" >\n</style><table id=\"T_a8277_\" style='display:inline'><caption>tagged_unknown_words_df</caption><thead>    <tr>        <th class=\"blank level0\" ></th>        <th class=\"col_heading level0 col0\" >word</th>        <th class=\"col_heading level0 col1\" >vanilla_tag</th>    </tr></thead><tbody>\n                <tr>\n                        <th id=\"T_a8277_level0_row0\" class=\"row_heading level0 row0\" >0</th>\n                        <td id=\"T_a8277_row0_col0\" class=\"data row0 col0\" >Android</td>\n                        <td id=\"T_a8277_row0_col1\" class=\"data row0 col1\" >VERB</td>\n            </tr>\n            <tr>\n                        <th id=\"T_a8277_level0_row1\" class=\"row_heading level0 row1\" >1</th>\n                        <td id=\"T_a8277_row1_col0\" class=\"data row1 col0\" >Google</td>\n                        <td id=\"T_a8277_row1_col1\" class=\"data row1 col1\" >VERB</td>\n            </tr>\n            <tr>\n                        <th id=\"T_a8277_level0_row2\" class=\"row_heading level0 row2\" >2</th>\n                        <td id=\"T_a8277_row2_col0\" class=\"data row2 col0\" >Android</td>\n                        <td id=\"T_a8277_row2_col1\" class=\"data row2 col1\" >VERB</td>\n            </tr>\n            <tr>\n                        <th id=\"T_a8277_level0_row3\" class=\"row_heading level0 row3\" >3</th>\n                        <td id=\"T_a8277_row3_col0\" class=\"data row3 col0\" >OS</td>\n                        <td id=\"T_a8277_row3_col1\" class=\"data row3 col1\" >VERB</td>\n            </tr>\n            <tr>\n                        <th id=\"T_a8277_level0_row4\" class=\"row_heading level0 row4\" >4</th>\n                        <td id=\"T_a8277_row4_col0\" class=\"data row4 col0\" >worldwide</td>\n                        <td id=\"T_a8277_row4_col1\" class=\"data row4 col1\" >VERB</td>\n            </tr>\n            <tr>\n                        <th id=\"T_a8277_level0_row5\" class=\"row_heading level0 row5\" >5</th>\n                        <td id=\"T_a8277_row5_col0\" class=\"data row5 col0\" >smartphones</td>\n                        <td id=\"T_a8277_row5_col1\" class=\"data row5 col1\" >VERB</td>\n            </tr>\n            <tr>\n                        <th id=\"T_a8277_level0_row6\" class=\"row_heading level0 row6\" >6</th>\n                        <td id=\"T_a8277_row6_col0\" class=\"data row6 col0\" >2011</td>\n                        <td id=\"T_a8277_row6_col1\" class=\"data row6 col1\" >VERB</td>\n            </tr>\n            <tr>\n                        <th id=\"T_a8277_level0_row7\" class=\"row_heading level0 row7\" >7</th>\n                        <td id=\"T_a8277_row7_col0\" class=\"data row7 col0\" >2013</td>\n                        <td id=\"T_a8277_row7_col1\" class=\"data row7 col1\" >VERB</td>\n            </tr>\n            <tr>\n                        <th id=\"T_a8277_level0_row8\" class=\"row_heading level0 row8\" >8</th>\n                        <td id=\"T_a8277_row8_col0\" class=\"data row8 col0\" >Google</td>\n                        <td id=\"T_a8277_row8_col1\" class=\"data row8 col1\" >VERB</td>\n            </tr>\n            <tr>\n                        <th id=\"T_a8277_level0_row9\" class=\"row_heading level0 row9\" >9</th>\n                        <td id=\"T_a8277_row9_col0\" class=\"data row9 col0\" >Twitter</td>\n                        <td id=\"T_a8277_row9_col1\" class=\"data row9 col1\" >VERB</td>\n            </tr>\n            <tr>\n                        <th id=\"T_a8277_level0_row10\" class=\"row_heading level0 row10\" >10</th>\n                        <td id=\"T_a8277_row10_col0\" class=\"data row10 col0\" >2015</td>\n                        <td id=\"T_a8277_row10_col1\" class=\"data row10 col1\" >VERB</td>\n            </tr>\n            <tr>\n                        <th id=\"T_a8277_level0_row11\" class=\"row_heading level0 row11\" >11</th>\n                        <td id=\"T_a8277_row11_col0\" class=\"data row11 col0\" >Google</td>\n                        <td id=\"T_a8277_row11_col1\" class=\"data row11 col1\" >VERB</td>\n            </tr>\n            <tr>\n                        <th id=\"T_a8277_level0_row12\" class=\"row_heading level0 row12\" >12</th>\n                        <td id=\"T_a8277_row12_col0\" class=\"data row12 col0\" >Twitter</td>\n                        <td id=\"T_a8277_row12_col1\" class=\"data row12 col1\" >VERB</td>\n            </tr>\n            <tr>\n                        <th id=\"T_a8277_level0_row13\" class=\"row_heading level0 row13\" >13</th>\n                        <td id=\"T_a8277_row13_col0\" class=\"data row13 col0\" >firehose</td>\n                        <td id=\"T_a8277_row13_col1\" class=\"data row13 col1\" >VERB</td>\n            </tr>\n            <tr>\n                        <th id=\"T_a8277_level0_row14\" class=\"row_heading level0 row14\" >14</th>\n                        <td id=\"T_a8277_row14_col0\" class=\"data row14 col0\" >Twitter</td>\n                        <td id=\"T_a8277_row14_col1\" class=\"data row14 col1\" >VERB</td>\n            </tr>\n            <tr>\n                        <th id=\"T_a8277_level0_row15\" class=\"row_heading level0 row15\" >15</th>\n                        <td id=\"T_a8277_row15_col0\" class=\"data row15 col0\" >online</td>\n                        <td id=\"T_a8277_row15_col1\" class=\"data row15 col1\" >VERB</td>\n            </tr>\n            <tr>\n                        <th id=\"T_a8277_level0_row16\" class=\"row_heading level0 row16\" >16</th>\n                        <td id=\"T_a8277_row16_col0\" class=\"data row16 col0\" >interact</td>\n                        <td id=\"T_a8277_row16_col1\" class=\"data row16 col1\" >VERB</td>\n            </tr>\n            <tr>\n                        <th id=\"T_a8277_level0_row17\" class=\"row_heading level0 row17\" >17</th>\n                        <td id=\"T_a8277_row17_col0\" class=\"data row17 col0\" >messages</td>\n                        <td id=\"T_a8277_row17_col1\" class=\"data row17 col1\" >VERB</td>\n            </tr>\n            <tr>\n                        <th id=\"T_a8277_level0_row18\" class=\"row_heading level0 row18\" >18</th>\n                        <td id=\"T_a8277_row18_col0\" class=\"data row18 col0\" >tweets</td>\n                        <td id=\"T_a8277_row18_col1\" class=\"data row18 col1\" >VERB</td>\n            </tr>\n            <tr>\n                        <th id=\"T_a8277_level0_row19\" class=\"row_heading level0 row19\" >19</th>\n                        <td id=\"T_a8277_row19_col0\" class=\"data row19 col0\" >domineering</td>\n                        <td id=\"T_a8277_row19_col1\" class=\"data row19 col1\" >VERB</td>\n            </tr>\n            <tr>\n                        <th id=\"T_a8277_level0_row20\" class=\"row_heading level0 row20\" >20</th>\n                        <td id=\"T_a8277_row20_col0\" class=\"data row20 col0\" >personality</td>\n                        <td id=\"T_a8277_row20_col1\" class=\"data row20 col1\" >VERB</td>\n            </tr>\n            <tr>\n                        <th id=\"T_a8277_level0_row21\" class=\"row_heading level0 row21\" >21</th>\n                        <td id=\"T_a8277_row21_col0\" class=\"data row21 col0\" >2018</td>\n                        <td id=\"T_a8277_row21_col1\" class=\"data row21 col1\" >VERB</td>\n            </tr>\n            <tr>\n                        <th id=\"T_a8277_level0_row22\" class=\"row_heading level0 row22\" >22</th>\n                        <td id=\"T_a8277_row22_col0\" class=\"data row22 col0\" >FIFA</td>\n                        <td id=\"T_a8277_row22_col1\" class=\"data row22 col1\" >VERB</td>\n            </tr>\n            <tr>\n                        <th id=\"T_a8277_level0_row23\" class=\"row_heading level0 row23\" >23</th>\n                        <td id=\"T_a8277_row23_col0\" class=\"data row23 col0\" >Cup</td>\n                        <td id=\"T_a8277_row23_col1\" class=\"data row23 col1\" >VERB</td>\n            </tr>\n            <tr>\n                        <th id=\"T_a8277_level0_row24\" class=\"row_heading level0 row24\" >24</th>\n                        <td id=\"T_a8277_row24_col0\" class=\"data row24 col0\" >21st</td>\n                        <td id=\"T_a8277_row24_col1\" class=\"data row24 col1\" >VERB</td>\n            </tr>\n            <tr>\n                        <th id=\"T_a8277_level0_row25\" class=\"row_heading level0 row25\" >25</th>\n                        <td id=\"T_a8277_row25_col0\" class=\"data row25 col0\" >FIFA</td>\n                        <td id=\"T_a8277_row25_col1\" class=\"data row25 col1\" >VERB</td>\n            </tr>\n            <tr>\n                        <th id=\"T_a8277_level0_row26\" class=\"row_heading level0 row26\" >26</th>\n                        <td id=\"T_a8277_row26_col0\" class=\"data row26 col0\" >Cup</td>\n                        <td id=\"T_a8277_row26_col1\" class=\"data row26 col1\" >VERB</td>\n            </tr>\n            <tr>\n                        <th id=\"T_a8277_level0_row27\" class=\"row_heading level0 row27\" >27</th>\n                        <td id=\"T_a8277_row27_col0\" class=\"data row27 col0\" >tournament</td>\n                        <td id=\"T_a8277_row27_col1\" class=\"data row27 col1\" >VERB</td>\n            </tr>\n            <tr>\n                        <th id=\"T_a8277_level0_row28\" class=\"row_heading level0 row28\" >28</th>\n                        <td id=\"T_a8277_row28_col0\" class=\"data row28 col0\" >contested</td>\n                        <td id=\"T_a8277_row28_col1\" class=\"data row28 col1\" >VERB</td>\n            </tr>\n            <tr>\n                        <th id=\"T_a8277_level0_row29\" class=\"row_heading level0 row29\" >29</th>\n                        <td id=\"T_a8277_row29_col0\" class=\"data row29 col0\" >Cup</td>\n                        <td id=\"T_a8277_row29_col1\" class=\"data row29 col1\" >VERB</td>\n            </tr>\n            <tr>\n                        <th id=\"T_a8277_level0_row30\" class=\"row_heading level0 row30\" >30</th>\n                        <td id=\"T_a8277_row30_col0\" class=\"data row30 col0\" >trips</td>\n                        <td id=\"T_a8277_row30_col1\" class=\"data row30 col1\" >VERB</td>\n            </tr>\n            <tr>\n                        <th id=\"T_a8277_level0_row31\" class=\"row_heading level0 row31\" >31</th>\n                        <td id=\"T_a8277_row31_col0\" class=\"data row31 col0\" >arriving</td>\n                        <td id=\"T_a8277_row31_col1\" class=\"data row31 col1\" >VERB</td>\n            </tr>\n            <tr>\n                        <th id=\"T_a8277_level0_row32\" class=\"row_heading level0 row32\" >32</th>\n                        <td id=\"T_a8277_row32_col0\" class=\"data row32 col0\" >NASA</td>\n                        <td id=\"T_a8277_row32_col1\" class=\"data row32 col1\" >VERB</td>\n            </tr>\n            <tr>\n                        <th id=\"T_a8277_level0_row33\" class=\"row_heading level0 row33\" >33</th>\n                        <td id=\"T_a8277_row33_col0\" class=\"data row33 col0\" >invited</td>\n                        <td id=\"T_a8277_row33_col1\" class=\"data row33 col1\" >VERB</td>\n            </tr>\n            <tr>\n                        <th id=\"T_a8277_level0_row34\" class=\"row_heading level0 row34\" >34</th>\n                        <td id=\"T_a8277_row34_col0\" class=\"data row34 col0\" >ICESAT-2</td>\n                        <td id=\"T_a8277_row34_col1\" class=\"data row34 col1\" >VERB</td>\n            </tr>\n            <tr>\n                        <th id=\"T_a8277_level0_row35\" class=\"row_heading level0 row35\" >35</th>\n                        <td id=\"T_a8277_row35_col0\" class=\"data row35 col0\" >Satellite</td>\n                        <td id=\"T_a8277_row35_col1\" class=\"data row35 col1\" >VERB</td>\n            </tr>\n    </tbody></table>          <style  type=\"text/css\" >\n</style><table id=\"T_55066_\" style='display:inline'><caption>tagged_unknown_words_backoff_df</caption><thead>    <tr>        <th class=\"blank level0\" ></th>        <th class=\"col_heading level0 col0\" >word</th>        <th class=\"col_heading level0 col1\" >backoff_tag</th>    </tr></thead><tbody>\n                <tr>\n                        <th id=\"T_55066_level0_row0\" class=\"row_heading level0 row0\" >0</th>\n                        <td id=\"T_55066_row0_col0\" class=\"data row0 col0\" >Android</td>\n                        <td id=\"T_55066_row0_col1\" class=\"data row0 col1\" >NOUN</td>\n            </tr>\n            <tr>\n                        <th id=\"T_55066_level0_row1\" class=\"row_heading level0 row1\" >1</th>\n                        <td id=\"T_55066_row1_col0\" class=\"data row1 col0\" >Google</td>\n                        <td id=\"T_55066_row1_col1\" class=\"data row1 col1\" >NOUN</td>\n            </tr>\n            <tr>\n                        <th id=\"T_55066_level0_row2\" class=\"row_heading level0 row2\" >2</th>\n                        <td id=\"T_55066_row2_col0\" class=\"data row2 col0\" >Android</td>\n                        <td id=\"T_55066_row2_col1\" class=\"data row2 col1\" >NOUN</td>\n            </tr>\n            <tr>\n                        <th id=\"T_55066_level0_row3\" class=\"row_heading level0 row3\" >3</th>\n                        <td id=\"T_55066_row3_col0\" class=\"data row3 col0\" >OS</td>\n                        <td id=\"T_55066_row3_col1\" class=\"data row3 col1\" >NOUN</td>\n            </tr>\n            <tr>\n                        <th id=\"T_55066_level0_row4\" class=\"row_heading level0 row4\" >4</th>\n                        <td id=\"T_55066_row4_col0\" class=\"data row4 col0\" >worldwide</td>\n                        <td id=\"T_55066_row4_col1\" class=\"data row4 col1\" >NOUN</td>\n            </tr>\n            <tr>\n                        <th id=\"T_55066_level0_row5\" class=\"row_heading level0 row5\" >5</th>\n                        <td id=\"T_55066_row5_col0\" class=\"data row5 col0\" >smartphones</td>\n                        <td id=\"T_55066_row5_col1\" class=\"data row5 col1\" >VERB</td>\n            </tr>\n            <tr>\n                        <th id=\"T_55066_level0_row6\" class=\"row_heading level0 row6\" >6</th>\n                        <td id=\"T_55066_row6_col0\" class=\"data row6 col0\" >2011</td>\n                        <td id=\"T_55066_row6_col1\" class=\"data row6 col1\" >NUM</td>\n            </tr>\n            <tr>\n                        <th id=\"T_55066_level0_row7\" class=\"row_heading level0 row7\" >7</th>\n                        <td id=\"T_55066_row7_col0\" class=\"data row7 col0\" >2013</td>\n                        <td id=\"T_55066_row7_col1\" class=\"data row7 col1\" >NUM</td>\n            </tr>\n            <tr>\n                        <th id=\"T_55066_level0_row8\" class=\"row_heading level0 row8\" >8</th>\n                        <td id=\"T_55066_row8_col0\" class=\"data row8 col0\" >Google</td>\n                        <td id=\"T_55066_row8_col1\" class=\"data row8 col1\" >NOUN</td>\n            </tr>\n            <tr>\n                        <th id=\"T_55066_level0_row9\" class=\"row_heading level0 row9\" >9</th>\n                        <td id=\"T_55066_row9_col0\" class=\"data row9 col0\" >Twitter</td>\n                        <td id=\"T_55066_row9_col1\" class=\"data row9 col1\" >NOUN</td>\n            </tr>\n            <tr>\n                        <th id=\"T_55066_level0_row10\" class=\"row_heading level0 row10\" >10</th>\n                        <td id=\"T_55066_row10_col0\" class=\"data row10 col0\" >2015</td>\n                        <td id=\"T_55066_row10_col1\" class=\"data row10 col1\" >NUM</td>\n            </tr>\n            <tr>\n                        <th id=\"T_55066_level0_row11\" class=\"row_heading level0 row11\" >11</th>\n                        <td id=\"T_55066_row11_col0\" class=\"data row11 col0\" >Google</td>\n                        <td id=\"T_55066_row11_col1\" class=\"data row11 col1\" >NOUN</td>\n            </tr>\n            <tr>\n                        <th id=\"T_55066_level0_row12\" class=\"row_heading level0 row12\" >12</th>\n                        <td id=\"T_55066_row12_col0\" class=\"data row12 col0\" >Twitter</td>\n                        <td id=\"T_55066_row12_col1\" class=\"data row12 col1\" >NOUN</td>\n            </tr>\n            <tr>\n                        <th id=\"T_55066_level0_row13\" class=\"row_heading level0 row13\" >13</th>\n                        <td id=\"T_55066_row13_col0\" class=\"data row13 col0\" >firehose</td>\n                        <td id=\"T_55066_row13_col1\" class=\"data row13 col1\" >NOUN</td>\n            </tr>\n            <tr>\n                        <th id=\"T_55066_level0_row14\" class=\"row_heading level0 row14\" >14</th>\n                        <td id=\"T_55066_row14_col0\" class=\"data row14 col0\" >Twitter</td>\n                        <td id=\"T_55066_row14_col1\" class=\"data row14 col1\" >NOUN</td>\n            </tr>\n            <tr>\n                        <th id=\"T_55066_level0_row15\" class=\"row_heading level0 row15\" >15</th>\n                        <td id=\"T_55066_row15_col0\" class=\"data row15 col0\" >online</td>\n                        <td id=\"T_55066_row15_col1\" class=\"data row15 col1\" >NOUN</td>\n            </tr>\n            <tr>\n                        <th id=\"T_55066_level0_row16\" class=\"row_heading level0 row16\" >16</th>\n                        <td id=\"T_55066_row16_col0\" class=\"data row16 col0\" >interact</td>\n                        <td id=\"T_55066_row16_col1\" class=\"data row16 col1\" >NOUN</td>\n            </tr>\n            <tr>\n                        <th id=\"T_55066_level0_row17\" class=\"row_heading level0 row17\" >17</th>\n                        <td id=\"T_55066_row17_col0\" class=\"data row17 col0\" >messages</td>\n                        <td id=\"T_55066_row17_col1\" class=\"data row17 col1\" >VERB</td>\n            </tr>\n            <tr>\n                        <th id=\"T_55066_level0_row18\" class=\"row_heading level0 row18\" >18</th>\n                        <td id=\"T_55066_row18_col0\" class=\"data row18 col0\" >tweets</td>\n                        <td id=\"T_55066_row18_col1\" class=\"data row18 col1\" >NOUN</td>\n            </tr>\n            <tr>\n                        <th id=\"T_55066_level0_row19\" class=\"row_heading level0 row19\" >19</th>\n                        <td id=\"T_55066_row19_col0\" class=\"data row19 col0\" >domineering</td>\n                        <td id=\"T_55066_row19_col1\" class=\"data row19 col1\" >VERB</td>\n            </tr>\n            <tr>\n                        <th id=\"T_55066_level0_row20\" class=\"row_heading level0 row20\" >20</th>\n                        <td id=\"T_55066_row20_col0\" class=\"data row20 col0\" >personality</td>\n                        <td id=\"T_55066_row20_col1\" class=\"data row20 col1\" >NOUN</td>\n            </tr>\n            <tr>\n                        <th id=\"T_55066_level0_row21\" class=\"row_heading level0 row21\" >21</th>\n                        <td id=\"T_55066_row21_col0\" class=\"data row21 col0\" >2018</td>\n                        <td id=\"T_55066_row21_col1\" class=\"data row21 col1\" >NUM</td>\n            </tr>\n            <tr>\n                        <th id=\"T_55066_level0_row22\" class=\"row_heading level0 row22\" >22</th>\n                        <td id=\"T_55066_row22_col0\" class=\"data row22 col0\" >FIFA</td>\n                        <td id=\"T_55066_row22_col1\" class=\"data row22 col1\" >NOUN</td>\n            </tr>\n            <tr>\n                        <th id=\"T_55066_level0_row23\" class=\"row_heading level0 row23\" >23</th>\n                        <td id=\"T_55066_row23_col0\" class=\"data row23 col0\" >Cup</td>\n                        <td id=\"T_55066_row23_col1\" class=\"data row23 col1\" >NOUN</td>\n            </tr>\n            <tr>\n                        <th id=\"T_55066_level0_row24\" class=\"row_heading level0 row24\" >24</th>\n                        <td id=\"T_55066_row24_col0\" class=\"data row24 col0\" >21st</td>\n                        <td id=\"T_55066_row24_col1\" class=\"data row24 col1\" >NOUN</td>\n            </tr>\n            <tr>\n                        <th id=\"T_55066_level0_row25\" class=\"row_heading level0 row25\" >25</th>\n                        <td id=\"T_55066_row25_col0\" class=\"data row25 col0\" >FIFA</td>\n                        <td id=\"T_55066_row25_col1\" class=\"data row25 col1\" >NOUN</td>\n            </tr>\n            <tr>\n                        <th id=\"T_55066_level0_row26\" class=\"row_heading level0 row26\" >26</th>\n                        <td id=\"T_55066_row26_col0\" class=\"data row26 col0\" >Cup</td>\n                        <td id=\"T_55066_row26_col1\" class=\"data row26 col1\" >NOUN</td>\n            </tr>\n            <tr>\n                        <th id=\"T_55066_level0_row27\" class=\"row_heading level0 row27\" >27</th>\n                        <td id=\"T_55066_row27_col0\" class=\"data row27 col0\" >tournament</td>\n                        <td id=\"T_55066_row27_col1\" class=\"data row27 col1\" >NOUN</td>\n            </tr>\n            <tr>\n                        <th id=\"T_55066_level0_row28\" class=\"row_heading level0 row28\" >28</th>\n                        <td id=\"T_55066_row28_col0\" class=\"data row28 col0\" >contested</td>\n                        <td id=\"T_55066_row28_col1\" class=\"data row28 col1\" >VERB</td>\n            </tr>\n            <tr>\n                        <th id=\"T_55066_level0_row29\" class=\"row_heading level0 row29\" >29</th>\n                        <td id=\"T_55066_row29_col0\" class=\"data row29 col0\" >Cup</td>\n                        <td id=\"T_55066_row29_col1\" class=\"data row29 col1\" >NOUN</td>\n            </tr>\n            <tr>\n                        <th id=\"T_55066_level0_row30\" class=\"row_heading level0 row30\" >30</th>\n                        <td id=\"T_55066_row30_col0\" class=\"data row30 col0\" >trips</td>\n                        <td id=\"T_55066_row30_col1\" class=\"data row30 col1\" >NOUN</td>\n            </tr>\n            <tr>\n                        <th id=\"T_55066_level0_row31\" class=\"row_heading level0 row31\" >31</th>\n                        <td id=\"T_55066_row31_col0\" class=\"data row31 col0\" >arriving</td>\n                        <td id=\"T_55066_row31_col1\" class=\"data row31 col1\" >VERB</td>\n            </tr>\n            <tr>\n                        <th id=\"T_55066_level0_row32\" class=\"row_heading level0 row32\" >32</th>\n                        <td id=\"T_55066_row32_col0\" class=\"data row32 col0\" >NASA</td>\n                        <td id=\"T_55066_row32_col1\" class=\"data row32 col1\" >NOUN</td>\n            </tr>\n            <tr>\n                        <th id=\"T_55066_level0_row33\" class=\"row_heading level0 row33\" >33</th>\n                        <td id=\"T_55066_row33_col0\" class=\"data row33 col0\" >invited</td>\n                        <td id=\"T_55066_row33_col1\" class=\"data row33 col1\" >VERB</td>\n            </tr>\n            <tr>\n                        <th id=\"T_55066_level0_row34\" class=\"row_heading level0 row34\" >34</th>\n                        <td id=\"T_55066_row34_col0\" class=\"data row34 col0\" >ICESAT-2</td>\n                        <td id=\"T_55066_row34_col1\" class=\"data row34 col1\" >NOUN</td>\n            </tr>\n            <tr>\n                        <th id=\"T_55066_level0_row35\" class=\"row_heading level0 row35\" >35</th>\n                        <td id=\"T_55066_row35_col0\" class=\"data row35 col0\" >Satellite</td>\n                        <td id=\"T_55066_row35_col1\" class=\"data row35 col1\" >NOUN</td>\n            </tr>\n    </tbody></table>          <style  type=\"text/css\" >\n</style><table id=\"T_10b89_\" style='display:inline'><caption>tagged_unknown_words_prob_df</caption><thead>    <tr>        <th class=\"blank level0\" ></th>        <th class=\"col_heading level0 col0\" >word</th>        <th class=\"col_heading level0 col1\" >probabilty_based_tag</th>    </tr></thead><tbody>\n                <tr>\n                        <th id=\"T_10b89_level0_row0\" class=\"row_heading level0 row0\" >0</th>\n                        <td id=\"T_10b89_row0_col0\" class=\"data row0 col0\" >Android</td>\n                        <td id=\"T_10b89_row0_col1\" class=\"data row0 col1\" >NOUN</td>\n            </tr>\n            <tr>\n                        <th id=\"T_10b89_level0_row1\" class=\"row_heading level0 row1\" >1</th>\n                        <td id=\"T_10b89_row1_col0\" class=\"data row1 col0\" >Google</td>\n                        <td id=\"T_10b89_row1_col1\" class=\"data row1 col1\" >DET</td>\n            </tr>\n            <tr>\n                        <th id=\"T_10b89_level0_row2\" class=\"row_heading level0 row2\" >2</th>\n                        <td id=\"T_10b89_row2_col0\" class=\"data row2 col0\" >Android</td>\n                        <td id=\"T_10b89_row2_col1\" class=\"data row2 col1\" >NOUN</td>\n            </tr>\n            <tr>\n                        <th id=\"T_10b89_level0_row3\" class=\"row_heading level0 row3\" >3</th>\n                        <td id=\"T_10b89_row3_col0\" class=\"data row3 col0\" >OS</td>\n                        <td id=\"T_10b89_row3_col1\" class=\"data row3 col1\" >NOUN</td>\n            </tr>\n            <tr>\n                        <th id=\"T_10b89_level0_row4\" class=\"row_heading level0 row4\" >4</th>\n                        <td id=\"T_10b89_row4_col0\" class=\"data row4 col0\" >worldwide</td>\n                        <td id=\"T_10b89_row4_col1\" class=\"data row4 col1\" >NOUN</td>\n            </tr>\n            <tr>\n                        <th id=\"T_10b89_level0_row5\" class=\"row_heading level0 row5\" >5</th>\n                        <td id=\"T_10b89_row5_col0\" class=\"data row5 col0\" >smartphones</td>\n                        <td id=\"T_10b89_row5_col1\" class=\"data row5 col1\" >DET</td>\n            </tr>\n            <tr>\n                        <th id=\"T_10b89_level0_row6\" class=\"row_heading level0 row6\" >6</th>\n                        <td id=\"T_10b89_row6_col0\" class=\"data row6 col0\" >2011</td>\n                        <td id=\"T_10b89_row6_col1\" class=\"data row6 col1\" >DET</td>\n            </tr>\n            <tr>\n                        <th id=\"T_10b89_level0_row7\" class=\"row_heading level0 row7\" >7</th>\n                        <td id=\"T_10b89_row7_col0\" class=\"data row7 col0\" >2013</td>\n                        <td id=\"T_10b89_row7_col1\" class=\"data row7 col1\" >DET</td>\n            </tr>\n            <tr>\n                        <th id=\"T_10b89_level0_row8\" class=\"row_heading level0 row8\" >8</th>\n                        <td id=\"T_10b89_row8_col0\" class=\"data row8 col0\" >Google</td>\n                        <td id=\"T_10b89_row8_col1\" class=\"data row8 col1\" >NOUN</td>\n            </tr>\n            <tr>\n                        <th id=\"T_10b89_level0_row9\" class=\"row_heading level0 row9\" >9</th>\n                        <td id=\"T_10b89_row9_col0\" class=\"data row9 col0\" >Twitter</td>\n                        <td id=\"T_10b89_row9_col1\" class=\"data row9 col1\" >NOUN</td>\n            </tr>\n            <tr>\n                        <th id=\"T_10b89_level0_row10\" class=\"row_heading level0 row10\" >10</th>\n                        <td id=\"T_10b89_row10_col0\" class=\"data row10 col0\" >2015</td>\n                        <td id=\"T_10b89_row10_col1\" class=\"data row10 col1\" >DET</td>\n            </tr>\n            <tr>\n                        <th id=\"T_10b89_level0_row11\" class=\"row_heading level0 row11\" >11</th>\n                        <td id=\"T_10b89_row11_col0\" class=\"data row11 col0\" >Google</td>\n                        <td id=\"T_10b89_row11_col1\" class=\"data row11 col1\" >X</td>\n            </tr>\n            <tr>\n                        <th id=\"T_10b89_level0_row12\" class=\"row_heading level0 row12\" >12</th>\n                        <td id=\"T_10b89_row12_col0\" class=\"data row12 col0\" >Twitter</td>\n                        <td id=\"T_10b89_row12_col1\" class=\"data row12 col1\" >VERB</td>\n            </tr>\n            <tr>\n                        <th id=\"T_10b89_level0_row13\" class=\"row_heading level0 row13\" >13</th>\n                        <td id=\"T_10b89_row13_col0\" class=\"data row13 col0\" >firehose</td>\n                        <td id=\"T_10b89_row13_col1\" class=\"data row13 col1\" >VERB</td>\n            </tr>\n            <tr>\n                        <th id=\"T_10b89_level0_row14\" class=\"row_heading level0 row14\" >14</th>\n                        <td id=\"T_10b89_row14_col0\" class=\"data row14 col0\" >Twitter</td>\n                        <td id=\"T_10b89_row14_col1\" class=\"data row14 col1\" >NOUN</td>\n            </tr>\n            <tr>\n                        <th id=\"T_10b89_level0_row15\" class=\"row_heading level0 row15\" >15</th>\n                        <td id=\"T_10b89_row15_col0\" class=\"data row15 col0\" >online</td>\n                        <td id=\"T_10b89_row15_col1\" class=\"data row15 col1\" >NOUN</td>\n            </tr>\n            <tr>\n                        <th id=\"T_10b89_level0_row16\" class=\"row_heading level0 row16\" >16</th>\n                        <td id=\"T_10b89_row16_col0\" class=\"data row16 col0\" >interact</td>\n                        <td id=\"T_10b89_row16_col1\" class=\"data row16 col1\" >NOUN</td>\n            </tr>\n            <tr>\n                        <th id=\"T_10b89_level0_row17\" class=\"row_heading level0 row17\" >17</th>\n                        <td id=\"T_10b89_row17_col0\" class=\"data row17 col0\" >messages</td>\n                        <td id=\"T_10b89_row17_col1\" class=\"data row17 col1\" >DET</td>\n            </tr>\n            <tr>\n                        <th id=\"T_10b89_level0_row18\" class=\"row_heading level0 row18\" >18</th>\n                        <td id=\"T_10b89_row18_col0\" class=\"data row18 col0\" >tweets</td>\n                        <td id=\"T_10b89_row18_col1\" class=\"data row18 col1\" >DET</td>\n            </tr>\n            <tr>\n                        <th id=\"T_10b89_level0_row19\" class=\"row_heading level0 row19\" >19</th>\n                        <td id=\"T_10b89_row19_col0\" class=\"data row19 col0\" >domineering</td>\n                        <td id=\"T_10b89_row19_col1\" class=\"data row19 col1\" >NOUN</td>\n            </tr>\n            <tr>\n                        <th id=\"T_10b89_level0_row20\" class=\"row_heading level0 row20\" >20</th>\n                        <td id=\"T_10b89_row20_col0\" class=\"data row20 col0\" >personality</td>\n                        <td id=\"T_10b89_row20_col1\" class=\"data row20 col1\" >NOUN</td>\n            </tr>\n            <tr>\n                        <th id=\"T_10b89_level0_row21\" class=\"row_heading level0 row21\" >21</th>\n                        <td id=\"T_10b89_row21_col0\" class=\"data row21 col0\" >2018</td>\n                        <td id=\"T_10b89_row21_col1\" class=\"data row21 col1\" >NOUN</td>\n            </tr>\n            <tr>\n                        <th id=\"T_10b89_level0_row22\" class=\"row_heading level0 row22\" >22</th>\n                        <td id=\"T_10b89_row22_col0\" class=\"data row22 col0\" >FIFA</td>\n                        <td id=\"T_10b89_row22_col1\" class=\"data row22 col1\" >NOUN</td>\n            </tr>\n            <tr>\n                        <th id=\"T_10b89_level0_row23\" class=\"row_heading level0 row23\" >23</th>\n                        <td id=\"T_10b89_row23_col0\" class=\"data row23 col0\" >Cup</td>\n                        <td id=\"T_10b89_row23_col1\" class=\"data row23 col1\" >NOUN</td>\n            </tr>\n            <tr>\n                        <th id=\"T_10b89_level0_row24\" class=\"row_heading level0 row24\" >24</th>\n                        <td id=\"T_10b89_row24_col0\" class=\"data row24 col0\" >21st</td>\n                        <td id=\"T_10b89_row24_col1\" class=\"data row24 col1\" >NOUN</td>\n            </tr>\n            <tr>\n                        <th id=\"T_10b89_level0_row25\" class=\"row_heading level0 row25\" >25</th>\n                        <td id=\"T_10b89_row25_col0\" class=\"data row25 col0\" >FIFA</td>\n                        <td id=\"T_10b89_row25_col1\" class=\"data row25 col1\" >NOUN</td>\n            </tr>\n            <tr>\n                        <th id=\"T_10b89_level0_row26\" class=\"row_heading level0 row26\" >26</th>\n                        <td id=\"T_10b89_row26_col0\" class=\"data row26 col0\" >Cup</td>\n                        <td id=\"T_10b89_row26_col1\" class=\"data row26 col1\" >NOUN</td>\n            </tr>\n            <tr>\n                        <th id=\"T_10b89_level0_row27\" class=\"row_heading level0 row27\" >27</th>\n                        <td id=\"T_10b89_row27_col0\" class=\"data row27 col0\" >tournament</td>\n                        <td id=\"T_10b89_row27_col1\" class=\"data row27 col1\" >NOUN</td>\n            </tr>\n            <tr>\n                        <th id=\"T_10b89_level0_row28\" class=\"row_heading level0 row28\" >28</th>\n                        <td id=\"T_10b89_row28_col0\" class=\"data row28 col0\" >contested</td>\n                        <td id=\"T_10b89_row28_col1\" class=\"data row28 col1\" >NOUN</td>\n            </tr>\n            <tr>\n                        <th id=\"T_10b89_level0_row29\" class=\"row_heading level0 row29\" >29</th>\n                        <td id=\"T_10b89_row29_col0\" class=\"data row29 col0\" >Cup</td>\n                        <td id=\"T_10b89_row29_col1\" class=\"data row29 col1\" >NOUN</td>\n            </tr>\n            <tr>\n                        <th id=\"T_10b89_level0_row30\" class=\"row_heading level0 row30\" >30</th>\n                        <td id=\"T_10b89_row30_col0\" class=\"data row30 col0\" >trips</td>\n                        <td id=\"T_10b89_row30_col1\" class=\"data row30 col1\" >NOUN</td>\n            </tr>\n            <tr>\n                        <th id=\"T_10b89_level0_row31\" class=\"row_heading level0 row31\" >31</th>\n                        <td id=\"T_10b89_row31_col0\" class=\"data row31 col0\" >arriving</td>\n                        <td id=\"T_10b89_row31_col1\" class=\"data row31 col1\" >NOUN</td>\n            </tr>\n            <tr>\n                        <th id=\"T_10b89_level0_row32\" class=\"row_heading level0 row32\" >32</th>\n                        <td id=\"T_10b89_row32_col0\" class=\"data row32 col0\" >NASA</td>\n                        <td id=\"T_10b89_row32_col1\" class=\"data row32 col1\" >NOUN</td>\n            </tr>\n            <tr>\n                        <th id=\"T_10b89_level0_row33\" class=\"row_heading level0 row33\" >33</th>\n                        <td id=\"T_10b89_row33_col0\" class=\"data row33 col0\" >invited</td>\n                        <td id=\"T_10b89_row33_col1\" class=\"data row33 col1\" >NOUN</td>\n            </tr>\n            <tr>\n                        <th id=\"T_10b89_level0_row34\" class=\"row_heading level0 row34\" >34</th>\n                        <td id=\"T_10b89_row34_col0\" class=\"data row34 col0\" >ICESAT-2</td>\n                        <td id=\"T_10b89_row34_col1\" class=\"data row34 col1\" >DET</td>\n            </tr>\n            <tr>\n                        <th id=\"T_10b89_level0_row35\" class=\"row_heading level0 row35\" >35</th>\n                        <td id=\"T_10b89_row35_col0\" class=\"data row35 col0\" >Satellite</td>\n                        <td id=\"T_10b89_row35_col1\" class=\"data row35 col1\" >NOUN</td>\n            </tr>\n    </tbody></table>"
     },
     "metadata": {}
    }
   ],
   "source": [
    "from IPython.display import display_html \n",
    "\n",
    "\n",
    "tagged_unknown_words_df_styler = tagged_unknown_words_df.style.set_table_attributes(\"style='display:inline'\").set_caption('tagged_unknown_words_df')\n",
    "tagged_unknown_words_backoff_df_styler = tagged_unknown_words_backoff_df.style.set_table_attributes(\"style='display:inline'\").set_caption('tagged_unknown_words_backoff_df')\n",
    "tagged_unknown_words_prob_df_styler = tagged_unknown_words_prob_df.style.set_table_attributes(\"style='display:inline'\").set_caption('tagged_unknown_words_prob_df')\n",
    "\n",
    "space = \"\\xa0\" * 10\n",
    "\n",
    "display_html(tagged_unknown_words_df_styler._repr_html_()+space+tagged_unknown_words_backoff_df_styler._repr_html_()+space+tagged_unknown_words_prob_df_styler._repr_html_(), raw=True)"
   ]
  },
  {
   "cell_type": "code",
   "execution_count": null,
   "metadata": {},
   "outputs": [],
   "source": []
  }
 ],
 "metadata": {
  "kernelspec": {
   "name": "python3",
   "display_name": "Python 3.8.6 64-bit ('env': venv)",
   "metadata": {
    "interpreter": {
     "hash": "fc5490c528836e1ddd0af3c74a60760eb1bf71c4669a2afabea412d5c4b2abd1"
    }
   }
  },
  "language_info": {
   "codemirror_mode": {
    "name": "ipython",
    "version": 3
   },
   "file_extension": ".py",
   "mimetype": "text/x-python",
   "name": "python",
   "nbconvert_exporter": "python",
   "pygments_lexer": "ipython3",
   "version": "3.8.6"
  }
 },
 "nbformat": 4,
 "nbformat_minor": 2
}