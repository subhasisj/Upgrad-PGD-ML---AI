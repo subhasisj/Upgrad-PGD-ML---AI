{
 "cells": [
  {
   "cell_type": "markdown",
   "metadata": {},
   "source": [
    "## POS tagging using modified Viterbi"
   ]
  },
  {
   "cell_type": "markdown",
   "metadata": {},
   "source": [
    "### Data Preparation"
   ]
  },
  {
   "cell_type": "code",
   "execution_count": 1,
   "metadata": {},
   "outputs": [
    {
     "output_type": "stream",
     "name": "stderr",
     "text": [
      "[nltk_data] Downloading package universal_tagset to\n[nltk_data]     C:\\Users\\U6083443\\AppData\\Roaming\\nltk_data...\n[nltk_data]   Package universal_tagset is already up-to-date!\n"
     ]
    },
    {
     "output_type": "execute_result",
     "data": {
      "text/plain": [
       "True"
      ]
     },
     "metadata": {},
     "execution_count": 1
    }
   ],
   "source": [
    "#Importing libraries\n",
    "import nltk\n",
    "import random\n",
    "import numpy as np\n",
    "import pandas as pd\n",
    "import matplotlib.pyplot as plt\n",
    "import seaborn as sns\n",
    "import collections\n",
    "from sklearn.model_selection import train_test_split\n",
    "\n",
    "nltk.download('universal_tagset')"
   ]
  },
  {
   "cell_type": "code",
   "execution_count": 2,
   "metadata": {},
   "outputs": [],
   "source": [
    "# reading the Treebank tagged sentences\n",
    "nltk_data = list(nltk.corpus.treebank.tagged_sents(tagset='universal'))"
   ]
  },
  {
   "cell_type": "code",
   "execution_count": 3,
   "metadata": {},
   "outputs": [
    {
     "output_type": "stream",
     "name": "stdout",
     "text": [
      "[[('Pierre', 'NOUN'), ('Vinken', 'NOUN'), (',', '.'), ('61', 'NUM'), ('years', 'NOUN'), ('old', 'ADJ'), (',', '.'), ('will', 'VERB'), ('join', 'VERB'), ('the', 'DET'), ('board', 'NOUN'), ('as', 'ADP'), ('a', 'DET'), ('nonexecutive', 'ADJ'), ('director', 'NOUN'), ('Nov.', 'NOUN'), ('29', 'NUM'), ('.', '.')], [('Mr.', 'NOUN'), ('Vinken', 'NOUN'), ('is', 'VERB'), ('chairman', 'NOUN'), ('of', 'ADP'), ('Elsevier', 'NOUN'), ('N.V.', 'NOUN'), (',', '.'), ('the', 'DET'), ('Dutch', 'NOUN'), ('publishing', 'VERB'), ('group', 'NOUN'), ('.', '.')], [('Rudolph', 'NOUN'), ('Agnew', 'NOUN'), (',', '.'), ('55', 'NUM'), ('years', 'NOUN'), ('old', 'ADJ'), ('and', 'CONJ'), ('former', 'ADJ'), ('chairman', 'NOUN'), ('of', 'ADP'), ('Consolidated', 'NOUN'), ('Gold', 'NOUN'), ('Fields', 'NOUN'), ('PLC', 'NOUN'), (',', '.'), ('was', 'VERB'), ('named', 'VERB'), ('*-1', 'X'), ('a', 'DET'), ('nonexecutive', 'ADJ'), ('director', 'NOUN'), ('of', 'ADP'), ('this', 'DET'), ('British', 'ADJ'), ('industrial', 'ADJ'), ('conglomerate', 'NOUN'), ('.', '.')], [('A', 'DET'), ('form', 'NOUN'), ('of', 'ADP'), ('asbestos', 'NOUN'), ('once', 'ADV'), ('used', 'VERB'), ('*', 'X'), ('*', 'X'), ('to', 'PRT'), ('make', 'VERB'), ('Kent', 'NOUN'), ('cigarette', 'NOUN'), ('filters', 'NOUN'), ('has', 'VERB'), ('caused', 'VERB'), ('a', 'DET'), ('high', 'ADJ'), ('percentage', 'NOUN'), ('of', 'ADP'), ('cancer', 'NOUN'), ('deaths', 'NOUN'), ('among', 'ADP'), ('a', 'DET'), ('group', 'NOUN'), ('of', 'ADP'), ('workers', 'NOUN'), ('exposed', 'VERB'), ('*', 'X'), ('to', 'PRT'), ('it', 'PRON'), ('more', 'ADV'), ('than', 'ADP'), ('30', 'NUM'), ('years', 'NOUN'), ('ago', 'ADP'), (',', '.'), ('researchers', 'NOUN'), ('reported', 'VERB'), ('0', 'X'), ('*T*-1', 'X'), ('.', '.')], [('The', 'DET'), ('asbestos', 'NOUN'), ('fiber', 'NOUN'), (',', '.'), ('crocidolite', 'NOUN'), (',', '.'), ('is', 'VERB'), ('unusually', 'ADV'), ('resilient', 'ADJ'), ('once', 'ADP'), ('it', 'PRON'), ('enters', 'VERB'), ('the', 'DET'), ('lungs', 'NOUN'), (',', '.'), ('with', 'ADP'), ('even', 'ADV'), ('brief', 'ADJ'), ('exposures', 'NOUN'), ('to', 'PRT'), ('it', 'PRON'), ('causing', 'VERB'), ('symptoms', 'NOUN'), ('that', 'DET'), ('*T*-1', 'X'), ('show', 'VERB'), ('up', 'PRT'), ('decades', 'NOUN'), ('later', 'ADJ'), (',', '.'), ('researchers', 'NOUN'), ('said', 'VERB'), ('0', 'X'), ('*T*-2', 'X'), ('.', '.')], [('Lorillard', 'NOUN'), ('Inc.', 'NOUN'), (',', '.'), ('the', 'DET'), ('unit', 'NOUN'), ('of', 'ADP'), ('New', 'ADJ'), ('York-based', 'ADJ'), ('Loews', 'NOUN'), ('Corp.', 'NOUN'), ('that', 'DET'), ('*T*-2', 'X'), ('makes', 'VERB'), ('Kent', 'NOUN'), ('cigarettes', 'NOUN'), (',', '.'), ('stopped', 'VERB'), ('using', 'VERB'), ('crocidolite', 'NOUN'), ('in', 'ADP'), ('its', 'PRON'), ('Micronite', 'NOUN'), ('cigarette', 'NOUN'), ('filters', 'NOUN'), ('in', 'ADP'), ('1956', 'NUM'), ('.', '.')], [('Although', 'ADP'), ('preliminary', 'ADJ'), ('findings', 'NOUN'), ('were', 'VERB'), ('reported', 'VERB'), ('*-2', 'X'), ('more', 'ADV'), ('than', 'ADP'), ('a', 'DET'), ('year', 'NOUN'), ('ago', 'ADP'), (',', '.'), ('the', 'DET'), ('latest', 'ADJ'), ('results', 'NOUN'), ('appear', 'VERB'), ('in', 'ADP'), ('today', 'NOUN'), (\"'s\", 'PRT'), ('New', 'NOUN'), ('England', 'NOUN'), ('Journal', 'NOUN'), ('of', 'ADP'), ('Medicine', 'NOUN'), (',', '.'), ('a', 'DET'), ('forum', 'NOUN'), ('likely', 'ADJ'), ('*', 'X'), ('to', 'PRT'), ('bring', 'VERB'), ('new', 'ADJ'), ('attention', 'NOUN'), ('to', 'PRT'), ('the', 'DET'), ('problem', 'NOUN'), ('.', '.')], [('A', 'DET'), ('Lorillard', 'NOUN'), ('spokewoman', 'NOUN'), ('said', 'VERB'), (',', '.'), ('``', '.'), ('This', 'DET'), ('is', 'VERB'), ('an', 'DET'), ('old', 'ADJ'), ('story', 'NOUN'), ('.', '.')], [('We', 'PRON'), (\"'re\", 'VERB'), ('talking', 'VERB'), ('about', 'ADP'), ('years', 'NOUN'), ('ago', 'ADP'), ('before', 'ADP'), ('anyone', 'NOUN'), ('heard', 'VERB'), ('of', 'ADP'), ('asbestos', 'NOUN'), ('having', 'VERB'), ('any', 'DET'), ('questionable', 'ADJ'), ('properties', 'NOUN'), ('.', '.')], [('There', 'DET'), ('is', 'VERB'), ('no', 'DET'), ('asbestos', 'NOUN'), ('in', 'ADP'), ('our', 'PRON'), ('products', 'NOUN'), ('now', 'ADV'), ('.', '.'), (\"''\", '.')], [('Neither', 'DET'), ('Lorillard', 'NOUN'), ('nor', 'CONJ'), ('the', 'DET'), ('researchers', 'NOUN'), ('who', 'PRON'), ('*T*-3', 'X'), ('studied', 'VERB'), ('the', 'DET'), ('workers', 'NOUN'), ('were', 'VERB'), ('aware', 'ADJ'), ('of', 'ADP'), ('any', 'DET'), ('research', 'NOUN'), ('on', 'ADP'), ('smokers', 'NOUN'), ('of', 'ADP'), ('the', 'DET'), ('Kent', 'NOUN'), ('cigarettes', 'NOUN'), ('.', '.')], [('``', '.'), ('We', 'PRON'), ('have', 'VERB'), ('no', 'DET'), ('useful', 'ADJ'), ('information', 'NOUN'), ('on', 'ADP'), ('whether', 'ADP'), ('users', 'NOUN'), ('are', 'VERB'), ('at', 'ADP'), ('risk', 'NOUN'), (',', '.'), (\"''\", '.'), ('said', 'VERB'), ('*T*-1', 'X'), ('James', 'NOUN'), ('A.', 'NOUN'), ('Talcott', 'NOUN'), ('of', 'ADP'), ('Boston', 'NOUN'), (\"'s\", 'PRT'), ('Dana-Farber', 'NOUN'), ('Cancer', 'NOUN'), ('Institute', 'NOUN'), ('.', '.')], [('Dr.', 'NOUN'), ('Talcott', 'NOUN'), ('led', 'VERB'), ('a', 'DET'), ('team', 'NOUN'), ('of', 'ADP'), ('researchers', 'NOUN'), ('from', 'ADP'), ('the', 'DET'), ('National', 'NOUN'), ('Cancer', 'NOUN'), ('Institute', 'NOUN'), ('and', 'CONJ'), ('the', 'DET'), ('medical', 'ADJ'), ('schools', 'NOUN'), ('of', 'ADP'), ('Harvard', 'NOUN'), ('University', 'NOUN'), ('and', 'CONJ'), ('Boston', 'NOUN'), ('University', 'NOUN'), ('.', '.')], [('The', 'DET'), ('Lorillard', 'NOUN'), ('spokeswoman', 'NOUN'), ('said', 'VERB'), ('0', 'X'), ('asbestos', 'NOUN'), ('was', 'VERB'), ('used', 'VERB'), ('*-1', 'X'), ('in', 'ADP'), ('``', '.'), ('very', 'ADV'), ('modest', 'ADJ'), ('amounts', 'NOUN'), (\"''\", '.'), ('in', 'ADP'), ('*', 'X'), ('making', 'VERB'), ('paper', 'NOUN'), ('for', 'ADP'), ('the', 'DET'), ('filters', 'NOUN'), ('in', 'ADP'), ('the', 'DET'), ('early', 'ADJ'), ('1950s', 'NUM'), ('and', 'CONJ'), ('replaced', 'VERB'), ('*-1', 'X'), ('with', 'ADP'), ('a', 'DET'), ('different', 'ADJ'), ('type', 'NOUN'), ('of', 'ADP'), ('filter', 'NOUN'), ('in', 'ADP'), ('1956', 'NUM'), ('.', '.')], [('From', 'ADP'), ('1953', 'NUM'), ('to', 'PRT'), ('1955', 'NUM'), (',', '.'), ('9.8', 'NUM'), ('billion', 'NUM'), ('Kent', 'NOUN'), ('cigarettes', 'NOUN'), ('with', 'ADP'), ('the', 'DET'), ('filters', 'NOUN'), ('were', 'VERB'), ('sold', 'VERB'), ('*-3', 'X'), (',', '.'), ('the', 'DET'), ('company', 'NOUN'), ('said', 'VERB'), ('0', 'X'), ('*T*-1', 'X'), ('.', '.')], [('Among', 'ADP'), ('33', 'NUM'), ('men', 'NOUN'), ('who', 'PRON'), ('*T*-4', 'X'), ('worked', 'VERB'), ('closely', 'ADV'), ('with', 'ADP'), ('the', 'DET'), ('substance', 'NOUN'), (',', '.'), ('28', 'NUM'), ('*ICH*-1', 'X'), ('have', 'VERB'), ('died', 'VERB'), ('--', '.'), ('more', 'ADJ'), ('than', 'ADP'), ('three', 'NUM'), ('times', 'NOUN'), ('the', 'DET'), ('expected', 'VERB'), ('number', 'NOUN'), ('.', '.')], [('Four', 'NUM'), ('of', 'ADP'), ('the', 'DET'), ('five', 'NUM'), ('surviving', 'VERB'), ('workers', 'NOUN'), ('have', 'VERB'), ('asbestos-related', 'ADJ'), ('diseases', 'NOUN'), (',', '.'), ('including', 'VERB'), ('three', 'NUM'), ('with', 'ADP'), ('recently', 'ADV'), ('diagnosed', 'VERB'), ('cancer', 'NOUN'), ('.', '.')], [('The', 'DET'), ('total', 'NOUN'), ('of', 'ADP'), ('18', 'NUM'), ('deaths', 'NOUN'), ('from', 'ADP'), ('malignant', 'ADJ'), ('mesothelioma', 'NOUN'), (',', '.'), ('lung', 'NOUN'), ('cancer', 'NOUN'), ('and', 'CONJ'), ('asbestosis', 'NOUN'), ('was', 'VERB'), ('far', 'ADV'), ('higher', 'ADJ'), ('than', 'ADP'), ('*', 'X'), ('expected', 'VERB'), ('*?*', 'X'), (',', '.'), ('the', 'DET'), ('researchers', 'NOUN'), ('said', 'VERB'), ('0', 'X'), ('*T*-1', 'X'), ('.', '.')], [('``', '.'), ('The', 'DET'), ('morbidity', 'NOUN'), ('rate', 'NOUN'), ('is', 'VERB'), ('a', 'DET'), ('striking', 'ADJ'), ('finding', 'NOUN'), ('among', 'ADP'), ('those', 'DET'), ('of', 'ADP'), ('us', 'PRON'), ('who', 'PRON'), ('*T*-5', 'X'), ('study', 'VERB'), ('asbestos-related', 'ADJ'), ('diseases', 'NOUN'), (',', '.'), (\"''\", '.'), ('said', 'VERB'), ('*T*-1', 'X'), ('Dr.', 'NOUN'), ('Talcott', 'NOUN'), ('.', '.')], [('The', 'DET'), ('percentage', 'NOUN'), ('of', 'ADP'), ('lung', 'NOUN'), ('cancer', 'NOUN'), ('deaths', 'NOUN'), ('among', 'ADP'), ('the', 'DET'), ('workers', 'NOUN'), ('at', 'ADP'), ('the', 'DET'), ('West', 'NOUN'), ('Groton', 'NOUN'), (',', '.'), ('Mass.', 'NOUN'), (',', '.'), ('paper', 'NOUN'), ('factory', 'NOUN'), ('appears', 'VERB'), ('*-1', 'X'), ('to', 'PRT'), ('be', 'VERB'), ('the', 'DET'), ('highest', 'ADJ'), ('for', 'ADP'), ('any', 'DET'), ('asbestos', 'NOUN'), ('workers', 'NOUN'), ('studied', 'VERB'), ('*', 'X'), ('in', 'ADP'), ('Western', 'ADJ'), ('industrialized', 'VERB'), ('countries', 'NOUN'), (',', '.'), ('he', 'PRON'), ('said', 'VERB'), ('0', 'X'), ('*T*-2', 'X'), ('.', '.')], [('The', 'DET'), ('plant', 'NOUN'), (',', '.'), ('which', 'DET'), ('*T*-1', 'X'), ('is', 'VERB'), ('owned', 'VERB'), ('*-4', 'X'), ('by', 'ADP'), ('Hollingsworth', 'NOUN'), ('&', 'CONJ'), ('Vose', 'NOUN'), ('Co.', 'NOUN'), (',', '.'), ('was', 'VERB'), ('under', 'ADP'), ('contract', 'NOUN'), ('*ICH*-2', 'X'), ('with', 'ADP'), ('Lorillard', 'NOUN'), ('*', 'X'), ('to', 'PRT'), ('make', 'VERB'), ('the', 'DET'), ('cigarette', 'NOUN'), ('filters', 'NOUN'), ('.', '.')], [('The', 'DET'), ('finding', 'NOUN'), ('probably', 'ADV'), ('will', 'VERB'), ('support', 'VERB'), ('those', 'DET'), ('who', 'PRON'), ('*T*-6', 'X'), ('argue', 'VERB'), ('that', 'ADP'), ('the', 'DET'), ('U.S.', 'NOUN'), ('should', 'VERB'), ('regulate', 'VERB'), ('the', 'DET'), ('class', 'NOUN'), ('of', 'ADP'), ('asbestos', 'NOUN'), ('including', 'VERB'), ('crocidolite', 'NOUN'), ('more', 'ADV'), ('stringently', 'ADV'), ('than', 'ADP'), ('the', 'DET'), ('common', 'ADJ'), ('kind', 'NOUN'), ('of', 'ADP'), ('asbestos', 'NOUN'), (',', '.'), ('chrysotile', 'NOUN'), (',', '.'), ('found', 'VERB'), ('*', 'X'), ('in', 'ADP'), ('most', 'ADJ'), ('schools', 'NOUN'), ('and', 'CONJ'), ('other', 'ADJ'), ('buildings', 'NOUN'), (',', '.'), ('Dr.', 'NOUN'), ('Talcott', 'NOUN'), ('said', 'VERB'), ('0', 'X'), ('*T*-1', 'X'), ('.', '.')], [('The', 'DET'), ('U.S.', 'NOUN'), ('is', 'VERB'), ('one', 'NUM'), ('of', 'ADP'), ('the', 'DET'), ('few', 'ADJ'), ('industrialized', 'VERB'), ('nations', 'NOUN'), ('that', 'DET'), ('*T*-7', 'X'), ('does', 'VERB'), (\"n't\", 'ADV'), ('have', 'VERB'), ('a', 'DET'), ('higher', 'ADJ'), ('standard', 'NOUN'), ('of', 'ADP'), ('regulation', 'NOUN'), ('for', 'ADP'), ('the', 'DET'), ('smooth', 'ADJ'), (',', '.'), ('needle-like', 'ADJ'), ('fibers', 'NOUN'), ('such', 'ADJ'), ('as', 'ADP'), ('crocidolite', 'NOUN'), ('that', 'DET'), ('*T*-1', 'X'), ('are', 'VERB'), ('classified', 'VERB'), ('*-5', 'X'), ('as', 'ADP'), ('amphobiles', 'NOUN'), (',', '.'), ('according', 'VERB'), ('to', 'PRT'), ('Brooke', 'NOUN'), ('T.', 'NOUN'), ('Mossman', 'NOUN'), (',', '.'), ('a', 'DET'), ('professor', 'NOUN'), ('of', 'ADP'), ('pathlogy', 'NOUN'), ('at', 'ADP'), ('the', 'DET'), ('University', 'NOUN'), ('of', 'ADP'), ('Vermont', 'NOUN'), ('College', 'NOUN'), ('of', 'ADP'), ('Medicine', 'NOUN'), ('.', '.')], [('More', 'ADV'), ('common', 'ADJ'), ('chrysotile', 'NOUN'), ('fibers', 'NOUN'), ('are', 'VERB'), ('curly', 'ADJ'), ('and', 'CONJ'), ('are', 'VERB'), ('more', 'ADV'), ('easily', 'ADV'), ('rejected', 'VERB'), ('*-1', 'X'), ('by', 'ADP'), ('the', 'DET'), ('body', 'NOUN'), (',', '.'), ('Dr.', 'NOUN'), ('Mossman', 'NOUN'), ('explained', 'VERB'), ('0', 'X'), ('*T*-2', 'X'), ('.', '.')], [('In', 'ADP'), ('July', 'NOUN'), (',', '.'), ('the', 'DET'), ('Environmental', 'NOUN'), ('Protection', 'NOUN'), ('Agency', 'NOUN'), ('imposed', 'VERB'), ('a', 'DET'), ('gradual', 'ADJ'), ('ban', 'NOUN'), ('on', 'ADP'), ('virtually', 'ADV'), ('all', 'DET'), ('uses', 'NOUN'), ('of', 'ADP'), ('asbestos', 'NOUN'), ('.', '.')], [('By', 'ADP'), ('1997', 'NUM'), (',', '.'), ('almost', 'ADV'), ('all', 'DET'), ('remaining', 'VERB'), ('uses', 'NOUN'), ('of', 'ADP'), ('cancer-causing', 'ADJ'), ('asbestos', 'NOUN'), ('will', 'VERB'), ('be', 'VERB'), ('outlawed', 'VERB'), ('*-6', 'X'), ('.', '.')], [('About', 'ADP'), ('160', 'NUM'), ('workers', 'NOUN'), ('at', 'ADP'), ('a', 'DET'), ('factory', 'NOUN'), ('that', 'DET'), ('*T*-8', 'X'), ('made', 'VERB'), ('paper', 'NOUN'), ('for', 'ADP'), ('the', 'DET'), ('Kent', 'NOUN'), ('filters', 'NOUN'), ('were', 'VERB'), ('exposed', 'VERB'), ('*-7', 'X'), ('to', 'PRT'), ('asbestos', 'NOUN'), ('in', 'ADP'), ('the', 'DET'), ('1950s', 'NUM'), ('.', '.')], [('Areas', 'NOUN'), ('of', 'ADP'), ('the', 'DET'), ('factory', 'NOUN'), ('*ICH*-2', 'X'), ('were', 'VERB'), ('particularly', 'ADV'), ('dusty', 'ADJ'), ('where', 'ADV'), ('the', 'DET'), ('crocidolite', 'NOUN'), ('was', 'VERB'), ('used', 'VERB'), ('*-8', 'X'), ('*T*-1', 'X'), ('.', '.')], [('Workers', 'NOUN'), ('dumped', 'VERB'), ('large', 'ADJ'), ('burlap', 'NOUN'), ('sacks', 'NOUN'), ('of', 'ADP'), ('the', 'DET'), ('imported', 'VERB'), ('material', 'NOUN'), ('into', 'ADP'), ('a', 'DET'), ('huge', 'ADJ'), ('bin', 'NOUN'), (',', '.'), ('poured', 'VERB'), ('in', 'PRT'), ('cotton', 'NOUN'), ('and', 'CONJ'), ('acetate', 'NOUN'), ('fibers', 'NOUN'), ('and', 'CONJ'), ('mechanically', 'ADV'), ('mixed', 'VERB'), ('the', 'DET'), ('dry', 'ADJ'), ('fibers', 'NOUN'), ('in', 'ADP'), ('a', 'DET'), ('process', 'NOUN'), ('used', 'VERB'), ('*', 'X'), ('*', 'X'), ('to', 'PRT'), ('make', 'VERB'), ('filters', 'NOUN'), ('.', '.')], [('Workers', 'NOUN'), ('described', 'VERB'), ('``', '.'), ('clouds', 'NOUN'), ('of', 'ADP'), ('blue', 'ADJ'), ('dust', 'NOUN'), (\"''\", '.'), ('that', 'DET'), ('*T*-1', 'X'), ('hung', 'VERB'), ('over', 'ADP'), ('parts', 'NOUN'), ('of', 'ADP'), ('the', 'DET'), ('factory', 'NOUN'), (',', '.'), ('even', 'ADV'), ('though', 'ADP'), ('exhaust', 'NOUN'), ('fans', 'NOUN'), ('ventilated', 'VERB'), ('the', 'DET'), ('area', 'NOUN'), ('.', '.')], [('``', '.'), ('There', 'DET'), (\"'s\", 'VERB'), ('no', 'DET'), ('question', 'NOUN'), ('that', 'ADP'), ('some', 'DET'), ('of', 'ADP'), ('those', 'DET'), ('workers', 'NOUN'), ('and', 'CONJ'), ('managers', 'NOUN'), ('contracted', 'VERB'), ('asbestos-related', 'ADJ'), ('diseases', 'NOUN'), (',', '.'), (\"''\", '.'), ('said', 'VERB'), ('*T*-1', 'X'), ('Darrell', 'NOUN'), ('Phillips', 'NOUN'), (',', '.'), ('vice', 'NOUN'), ('president', 'NOUN'), ('of', 'ADP'), ('human', 'ADJ'), ('resources', 'NOUN'), ('for', 'ADP'), ('Hollingsworth', 'NOUN'), ('&', 'CONJ'), ('Vose', 'NOUN'), ('.', '.')], [('``', '.'), ('But', 'CONJ'), ('you', 'PRON'), ('have', 'VERB'), ('*-1', 'X'), ('to', 'PRT'), ('recognize', 'VERB'), ('that', 'ADP'), ('these', 'DET'), ('events', 'NOUN'), ('took', 'VERB'), ('place', 'NOUN'), ('35', 'NUM'), ('years', 'NOUN'), ('ago', 'ADP'), ('.', '.')], [('It', 'PRON'), ('has', 'VERB'), ('no', 'DET'), ('bearing', 'NOUN'), ('on', 'ADP'), ('our', 'PRON'), ('work', 'NOUN'), ('force', 'NOUN'), ('today', 'NOUN'), ('.', '.')], [('Yields', 'NOUN'), ('on', 'ADP'), ('money-market', 'ADJ'), ('mutual', 'ADJ'), ('funds', 'NOUN'), ('continued', 'VERB'), ('*-1', 'X'), ('to', 'PRT'), ('slide', 'VERB'), (',', '.'), ('amid', 'ADP'), ('signs', 'NOUN'), ('that', 'ADP'), ('portfolio', 'NOUN'), ('managers', 'NOUN'), ('expect', 'VERB'), ('further', 'ADJ'), ('declines', 'NOUN'), ('in', 'ADP'), ('interest', 'NOUN'), ('rates', 'NOUN'), ('.', '.')], [('The', 'DET'), ('average', 'ADJ'), ('seven-day', 'ADJ'), ('compound', 'NOUN'), ('yield', 'NOUN'), ('of', 'ADP'), ('the', 'DET'), ('400', 'NUM'), ('taxable', 'ADJ'), ('funds', 'NOUN'), ('tracked', 'VERB'), ('*', 'X'), ('by', 'ADP'), ('IBC', 'NOUN'), (\"'s\", 'PRT'), ('Money', 'NOUN'), ('Fund', 'NOUN'), ('Report', 'NOUN'), ('eased', 'VERB'), ('a', 'DET'), ('fraction', 'NOUN'), ('of', 'ADP'), ('a', 'DET'), ('percentage', 'NOUN'), ('point', 'NOUN'), ('to', 'PRT'), ('8.45', 'NUM'), ('%', 'NOUN'), ('from', 'ADP'), ('8.47', 'NUM'), ('%', 'NOUN'), ('for', 'ADP'), ('the', 'DET'), ('week', 'NOUN'), ('ended', 'VERB'), ('Tuesday', 'NOUN'), ('.', '.')], [('Compound', 'NOUN'), ('yields', 'NOUN'), ('assume', 'VERB'), ('reinvestment', 'NOUN'), ('of', 'ADP'), ('dividends', 'NOUN'), ('and', 'CONJ'), ('that', 'ADP'), ('the', 'DET'), ('current', 'ADJ'), ('yield', 'NOUN'), ('continues', 'VERB'), ('for', 'ADP'), ('a', 'DET'), ('year', 'NOUN'), ('.', '.')], [('Average', 'ADJ'), ('maturity', 'NOUN'), ('of', 'ADP'), ('the', 'DET'), ('funds', 'NOUN'), (\"'\", 'PRT'), ('investments', 'NOUN'), ('lengthened', 'VERB'), ('by', 'ADP'), ('a', 'DET'), ('day', 'NOUN'), ('to', 'PRT'), ('41', 'NUM'), ('days', 'NOUN'), (',', '.'), ('the', 'DET'), ('longest', 'ADJ'), ('since', 'ADP'), ('early', 'ADJ'), ('August', 'NOUN'), (',', '.'), ('according', 'VERB'), ('to', 'PRT'), ('Donoghue', 'NOUN'), (\"'s\", 'PRT'), ('.', '.')], [('Longer', 'ADJ'), ('maturities', 'NOUN'), ('are', 'VERB'), ('thought', 'VERB'), ('*-1', 'X'), ('to', 'PRT'), ('indicate', 'VERB'), ('declining', 'VERB'), ('interest', 'NOUN'), ('rates', 'NOUN'), ('because', 'ADP'), ('they', 'PRON'), ('permit', 'VERB'), ('portfolio', 'NOUN'), ('managers', 'NOUN'), ('to', 'PRT'), ('retain', 'VERB'), ('relatively', 'ADV'), ('higher', 'ADJ'), ('rates', 'NOUN'), ('for', 'ADP'), ('a', 'DET'), ('longer', 'ADJ'), ('period', 'NOUN'), ('.', '.')], [('Shorter', 'ADJ'), ('maturities', 'NOUN'), ('are', 'VERB'), ('considered', 'VERB'), ('*-9', 'X'), ('a', 'DET'), ('sign', 'NOUN'), ('of', 'ADP'), ('rising', 'VERB'), ('rates', 'NOUN'), ('because', 'ADP'), ('portfolio', 'NOUN'), ('managers', 'NOUN'), ('can', 'VERB'), ('capture', 'VERB'), ('higher', 'ADJ'), ('rates', 'NOUN'), ('sooner', 'ADV'), ('.', '.')], [('The', 'DET'), ('average', 'ADJ'), ('maturity', 'NOUN'), ('for', 'ADP'), ('funds', 'NOUN'), ('open', 'ADJ'), ('only', 'ADV'), ('to', 'PRT'), ('institutions', 'NOUN'), (',', '.'), ('considered', 'VERB'), ('by', 'ADP'), ('some', 'DET'), ('*', 'X'), ('to', 'PRT'), ('be', 'VERB'), ('a', 'DET'), ('stronger', 'ADJ'), ('indicator', 'NOUN'), ('because', 'ADP'), ('those', 'DET'), ('managers', 'NOUN'), ('watch', 'VERB'), ('the', 'DET'), ('market', 'NOUN'), ('closely', 'ADV'), (',', '.'), ('reached', 'VERB'), ('a', 'DET'), ('high', 'ADJ'), ('point', 'NOUN'), ('for', 'ADP'), ('the', 'DET'), ('year', 'NOUN'), ('--', '.'), ('33', 'NUM'), ('days', 'NOUN'), ('.', '.')]]\n"
     ]
    }
   ],
   "source": [
    "# first few tagged sentences\n",
    "print(nltk_data[:40])"
   ]
  },
  {
   "cell_type": "code",
   "execution_count": 4,
   "metadata": {},
   "outputs": [
    {
     "output_type": "stream",
     "name": "stdout",
     "text": [
      "Length of Training Set: 3718\nLength of Test Set: 196\n[[('She', 'PRON'), ('gives', 'VERB'), ('the', 'DET'), ('Artist', 'NOUN'), ('a', 'DET'), ('sense', 'NOUN'), ('of', 'ADP'), ('purpose', 'NOUN'), (',', '.'), ('but', 'CONJ'), ('also', 'ADV'), ('alerts', 'VERB'), ('him', 'PRON'), ('to', 'PRT'), ('the', 'DET'), ('serious', 'ADJ'), ('inadequacy', 'NOUN'), ('of', 'ADP'), ('his', 'PRON'), ('vagrant', 'ADJ'), ('life', 'NOUN'), ('.', '.')], [('The', 'DET'), ('fact', 'NOUN'), ('that', 'ADP'), ('a', 'DET'), ('vast', 'ADJ'), ('majority', 'NOUN'), ('of', 'ADP'), ('fundamentalist', 'ADJ'), ('money', 'NOUN'), ('managers', 'NOUN'), ('fail', 'VERB'), ('*-1', 'X'), ('to', 'PRT'), ('beat', 'VERB'), ('the', 'DET'), ('S&P', 'NOUN'), ('500', 'NUM'), ('may', 'VERB'), ('contribute', 'VERB'), ('to', 'PRT'), ('the', 'DET'), ('hysteria', 'NOUN'), ('surrounding', 'VERB'), ('the', 'DET'), ('issue', 'NOUN'), ('.', '.')], [('Spirit', 'NOUN'), ('of', 'ADP'), ('Perestroika', 'X'), ('Touches', 'VERB'), ('Design', 'NOUN'), ('World', 'NOUN')], [('The', 'DET'), ('filing', 'NOUN'), ('adds', 'VERB'), ('a', 'DET'), ('new', 'ADJ'), ('twist', 'NOUN'), ('to', 'PRT'), ('market', 'NOUN'), ('speculation', 'NOUN'), ('that', 'ADP'), ('Coniston', 'NOUN'), ('Partners', 'NOUN'), (',', '.'), ('a', 'DET'), ('New', 'NOUN'), ('York', 'NOUN'), ('money', 'NOUN'), ('manager', 'NOUN'), (',', '.'), ('has', 'VERB'), ('bought', 'VERB'), ('more', 'ADJ'), ('than', 'ADP'), ('5', 'NUM'), ('%', 'NOUN'), ('of', 'ADP'), ('UAL', 'NOUN'), ('stock', 'NOUN'), ('and', 'CONJ'), ('may', 'VERB'), ('challenge', 'VERB'), ('the', 'DET'), ('UAL', 'NOUN'), ('board', 'NOUN'), (\"'s\", 'PRT'), ('decision', 'NOUN'), ('*ICH*-1', 'X'), ('last', 'ADJ'), ('week', 'NOUN'), ('*', 'X'), ('to', 'PRT'), ('remain', 'VERB'), ('independent', 'ADJ'), ('.', '.')], [('He', 'PRON'), ('had', 'VERB'), ('been', 'VERB'), ('a', 'DET'), ('sales', 'NOUN'), ('and', 'CONJ'), ('marketing', 'NOUN'), ('executive', 'NOUN'), ('with', 'ADP'), ('Chrysler', 'NOUN'), ('for', 'ADP'), ('20', 'NUM'), ('years', 'NOUN'), ('.', '.')], [('``', '.'), ('The', 'DET'), ('Herald', 'NOUN'), ('was', 'VERB'), ('a', 'DET'), ('survivor', 'NOUN'), ('from', 'ADP'), ('a', 'DET'), ('bygone', 'ADJ'), ('age', 'NOUN'), (',', '.'), (\"''\", '.'), ('said', 'VERB'), ('*T*-1', 'X'), ('J.', 'NOUN'), ('Kendrick', 'NOUN'), ('Noble', 'NOUN'), (',', '.'), ('a', 'DET'), ('media', 'NOUN'), ('analyst', 'NOUN'), ('with', 'ADP'), ('PaineWebber', 'NOUN'), ('Inc', 'NOUN'), ('.', '.')], [('Mr.', 'NOUN'), ('Wolf', 'NOUN'), (\"'s\", 'PRT'), ('success', 'NOUN'), ('in', 'ADP'), ('that', 'DET'), ('job', 'NOUN'), ('helped', 'VERB'), ('him', 'PRON'), ('land', 'VERB'), ('the', 'DET'), ('top', 'ADJ'), ('job', 'NOUN'), ('with', 'ADP'), ('UAL', 'NOUN'), ('in', 'ADP'), ('December', 'NOUN'), ('1987', 'NUM'), ('.', '.')], [('Sea', 'NOUN'), ('Containers', 'NOUN'), (',', '.'), ('a', 'DET'), ('Hamilton', 'NOUN'), (',', '.'), ('Bermuda-based', 'ADJ'), ('shipping', 'NOUN'), ('concern', 'NOUN'), (',', '.'), ('said', 'VERB'), ('Tuesday', 'NOUN'), ('that', 'ADP'), ('it', 'PRON'), ('would', 'VERB'), ('sell', 'VERB'), ('$', '.'), ('1.1', 'NUM'), ('billion', 'NUM'), ('*U*', 'X'), ('of', 'ADP'), ('assets', 'NOUN'), ('and', 'CONJ'), ('use', 'VERB'), ('some', 'DET'), ('of', 'ADP'), ('the', 'DET'), ('proceeds', 'NOUN'), ('*-2', 'X'), ('to', 'PRT'), ('buy', 'VERB'), ('about', 'ADP'), ('50', 'NUM'), ('%', 'NOUN'), ('of', 'ADP'), ('its', 'PRON'), ('common', 'ADJ'), ('shares', 'NOUN'), ('for', 'ADP'), ('$', '.'), ('70', 'NUM'), ('*U*', 'X'), ('apiece', 'ADV'), ('.', '.')], [('USX', 'NOUN'), ('was', 'VERB'), ('cited', 'VERB'), ('*-1', 'X'), ('by', 'ADP'), ('OSHA', 'NOUN'), ('for', 'ADP'), ('several', 'ADJ'), ('health', 'NOUN'), ('and', 'CONJ'), ('safety', 'NOUN'), ('violations', 'NOUN'), ('at', 'ADP'), ('two', 'NUM'), ('Pennsylvania', 'NOUN'), ('plants', 'NOUN'), ('and', 'CONJ'), ('may', 'VERB'), ('face', 'VERB'), ('a', 'DET'), ('record', 'NOUN'), ('fine', 'NOUN'), ('of', 'ADP'), ('$', '.'), ('7.3', 'NUM'), ('million', 'NUM'), ('*U*', 'X'), ('.', '.')], [('Japan', 'NOUN'), (\"'s\", 'PRT'), ('commitment', 'NOUN'), ('in', 'ADP'), ('Southeast', 'NOUN'), ('Asia', 'NOUN'), ('also', 'ADV'), ('includes', 'VERB'), ('steep', 'ADJ'), ('increases', 'NOUN'), ('in', 'ADP'), ('foreign', 'ADJ'), ('assistance', 'NOUN'), ('and', 'CONJ'), ('trade', 'NOUN'), ('.', '.')], [('-LRB-', '.'), ('Fewer', 'ADJ'), ('said', 'VERB'), ('0', 'X'), ('conditions', 'NOUN'), ('wo', 'VERB'), (\"n't\", 'ADV'), ('change', 'VERB'), ('.', '.'), ('-RRB-', '.')], [('American', 'NOUN'), ('Express', 'NOUN'), ('Co.', 'NOUN'), ('and', 'CONJ'), ('General', 'NOUN'), ('Motors', 'NOUN'), ('Corp.', 'NOUN'), (\"'s\", 'PRT'), ('beleaguered', 'VERB'), ('Buick', 'NOUN'), ('division', 'NOUN'), ('are', 'VERB'), ('joining', 'VERB'), ('forces', 'NOUN'), ('in', 'ADP'), ('a', 'DET'), ('promotion', 'NOUN'), ('aimed', 'VERB'), ('*', 'X'), ('at', 'ADP'), ('*', 'X'), ('boosting', 'VERB'), ('Buick', 'NOUN'), (\"'s\", 'PRT'), ('sales', 'NOUN'), ('while', 'ADP'), ('*', 'X'), ('encouraging', 'VERB'), ('broader', 'ADJ'), ('use', 'NOUN'), ('of', 'ADP'), ('the', 'DET'), ('American', 'NOUN'), ('Express', 'NOUN'), ('card', 'NOUN'), ('.', '.')], [('The', 'DET'), ('company', 'NOUN'), (\"'s\", 'PRT'), ('proposal', 'NOUN'), ('*', 'X'), ('to', 'PRT'), ('sell', 'VERB'), ('a', 'DET'), ('20', 'NUM'), ('%', 'NOUN'), ('stake', 'NOUN'), ('in', 'ADP'), ('its', 'PRON'), ('real-estate', 'NOUN'), ('unit', 'NOUN'), ('for', 'ADP'), ('around', 'ADP'), ('$', '.'), ('400', 'NUM'), ('million', 'NUM'), ('*U*', 'X'), ('has', 'VERB'), ('caused', 'VERB'), ('analysts', 'NOUN'), ('to', 'PRT'), ('consider', 'VERB'), ('whether', 'ADP'), ('*-1', 'X'), ('to', 'PRT'), ('cut', 'VERB'), ('their', 'PRON'), ('estimates', 'NOUN'), ('of', 'ADP'), ('Santa', 'NOUN'), ('Fe', 'NOUN'), (\"'s\", 'PRT'), ('asset', 'NOUN'), ('value', 'NOUN'), ('.', '.')], [('SEC', 'NOUN'), ('Chairman', 'NOUN'), ('Richard', 'NOUN'), ('Breeden', 'NOUN'), ('has', 'VERB'), ('said', 'VERB'), ('0', 'X'), ('he', 'PRON'), ('would', 'VERB'), ('be', 'VERB'), ('willing', 'ADJ'), ('*-1', 'X'), ('to', 'PRT'), ('consider', 'VERB'), ('circuit', 'NOUN'), ('breakers', 'NOUN'), ('that', 'DET'), ('*T*-215', 'X'), ('have', 'VERB'), ('preset', 'ADJ'), ('trigger', 'NOUN'), ('points', 'NOUN'), (',', '.'), ('but', 'CONJ'), ('he', 'PRON'), ('does', 'VERB'), (\"n't\", 'ADV'), ('want', 'VERB'), ('discretionary', 'ADJ'), ('power', 'NOUN'), ('*', 'X'), ('to', 'PRT'), ('stop', 'VERB'), ('programs', 'NOUN'), ('.', '.')], [('Then', 'ADV'), (',', '.'), ('at', 'ADP'), ('a', 'DET'), ('signal', 'NOUN'), (',', '.'), ('the', 'DET'), ('ringers', 'NOUN'), ('begin', 'VERB'), ('*-1', 'X'), ('varying', 'VERB'), ('the', 'DET'), ('order', 'NOUN'), ('in', 'ADP'), ('which', 'DET'), ('the', 'DET'), ('bells', 'NOUN'), ('sound', 'VERB'), ('*T*-2', 'X'), ('without', 'ADP'), ('*', 'X'), ('altering', 'VERB'), ('the', 'DET'), ('steady', 'ADJ'), ('rhythm', 'NOUN'), ('of', 'ADP'), ('the', 'DET'), ('striking', 'ADJ'), ('.', '.')], [('Many', 'ADJ'), ('attorneys', 'NOUN'), ('have', 'VERB'), ('returned', 'VERB'), ('incomplete', 'ADJ'), ('forms', 'NOUN'), ('to', 'PRT'), ('the', 'DET'), ('IRS', 'NOUN'), ('in', 'ADP'), ('recent', 'ADJ'), ('years', 'NOUN'), (',', '.'), ('*-1', 'X'), ('citing', 'VERB'), ('attorney-client', 'ADJ'), ('privilege', 'NOUN'), ('.', '.')], [('Currently', 'ADV'), (',', '.'), ('both', 'DET'), ('Massachusetts', 'NOUN'), ('and', 'CONJ'), ('Connecticut', 'NOUN'), (',', '.'), ('where', 'ADV'), ('most', 'ADV'), ('of', 'ADP'), ('Bank', 'NOUN'), ('of', 'ADP'), ('New', 'NOUN'), ('England', 'NOUN'), (\"'s\", 'PRT'), ('operations', 'NOUN'), ('are', 'VERB'), ('*T*-1', 'X'), (',', '.'), ('allow', 'VERB'), ('interstate', 'ADJ'), ('banking', 'NOUN'), ('only', 'ADV'), ('within', 'ADP'), ('New', 'NOUN'), ('England', 'NOUN'), ('.', '.')], [('``', '.'), ('I', 'PRON'), ('do', 'VERB'), (\"n't\", 'ADV'), ('want', 'VERB'), ('*-1', 'X'), ('to', 'PRT'), ('denounce', 'VERB'), ('it', 'PRON'), ('because', 'ADP'), ('*', 'X'), ('denouncing', 'VERB'), ('it', 'PRON'), ('would', 'VERB'), ('be', 'VERB'), ('like', 'ADP'), ('*', 'X'), ('denouncing', 'VERB'), ('capitalism', 'NOUN'), (',', '.'), (\"''\", '.'), ('he', 'PRON'), ('explains', 'VERB'), ('*T*-2', 'X'), ('.', '.')], [('``', '.'), ('No', 'DET'), ('consideration', 'NOUN'), ('is', 'VERB'), ('more', 'ADV'), ('important', 'ADJ'), ('than', 'ADP'), ('the', 'DET'), ('health', 'NOUN'), ('and', 'CONJ'), ('safety', 'NOUN'), ('of', 'ADP'), ('our', 'PRON'), ('employees', 'NOUN'), ('.', '.'), (\"''\", '.')], [('IBM', 'NOUN'), (',', '.'), ('the', 'DET'), ('world', 'NOUN'), ('leader', 'NOUN'), ('in', 'ADP'), ('computers', 'NOUN'), (',', '.'), ('did', 'VERB'), (\"n't\", 'ADV'), ('offer', 'VERB'), ('its', 'PRON'), ('first', 'ADJ'), ('PC', 'NOUN'), ('until', 'ADP'), ('August', 'NOUN'), ('1981', 'NUM'), ('as', 'ADP'), ('many', 'ADJ'), ('other', 'ADJ'), ('companies', 'NOUN'), ('entered', 'VERB'), ('the', 'DET'), ('market', 'NOUN'), ('.', '.')], [('``', '.'), ('Funny', 'NOUN'), ('Business', 'NOUN'), (\"''\", '.'), ('-LRB-', '.'), ('Soho', 'NOUN'), (',', '.'), ('228', 'NUM'), ('pages', 'NOUN'), (',', '.'), ('$', '.'), ('17.95', 'NUM'), ('*U*', 'X'), ('-RRB-', '.'), ('by', 'ADP'), ('Gary', 'NOUN'), ('Katzenstein', 'NOUN'), ('is', 'VERB'), ('anything', 'NOUN'), ('but', 'ADV'), ('*?*', 'X'), ('.', '.')], [('Many', 'ADJ'), ('of', 'ADP'), ('them', 'PRON'), ('recently', 'ADV'), ('have', 'VERB'), ('been', 'VERB'), ('spending', 'VERB'), ('a', 'DET'), ('lot', 'NOUN'), ('of', 'ADP'), ('money', 'NOUN'), ('on', 'ADP'), ('public', 'ADJ'), ('relations', 'NOUN'), ('and', 'CONJ'), ('advertising', 'NOUN'), ('*-1', 'X'), ('to', 'PRT'), ('improve', 'VERB'), ('their', 'PRON'), ('images', 'NOUN'), (',', '.'), ('but', 'CONJ'), ('they', 'PRON'), ('should', 'VERB'), ('realize', 'VERB'), ('that', 'ADP'), ('the', 'DET'), ('most', 'ADV'), ('important', 'ADJ'), ('thing', 'NOUN'), ('is', 'VERB'), ('real', 'ADJ'), ('change', 'NOUN'), (',', '.'), ('not', 'ADV'), ('*', 'X'), ('changing', 'VERB'), ('people', 'NOUN'), (\"'s\", 'PRT'), ('perceptions', 'NOUN'), ('.', '.')], [('The', 'DET'), ('insurance', 'NOUN'), ('and', 'CONJ'), ('financial', 'ADJ'), ('services', 'NOUN'), ('concern', 'NOUN'), ('said', 'VERB'), ('0', 'X'), ('profit', 'NOUN'), ('for', 'ADP'), ('the', 'DET'), ('quarter', 'NOUN'), ('rose', 'VERB'), ('1.1', 'NUM'), ('%', 'NOUN'), ('to', 'PRT'), ('$', '.'), ('93.9', 'NUM'), ('million', 'NUM'), ('*U*', 'X'), (',', '.'), ('or', 'CONJ'), ('$', '.'), ('1.19', 'NUM'), ('*U*', 'X'), ('a', 'DET'), ('share', 'NOUN'), (',', '.'), ('compared', 'VERB'), ('with', 'ADP'), ('$', '.'), ('92.9', 'NUM'), ('million', 'NUM'), ('*U*', 'X'), (',', '.'), ('or', 'CONJ'), ('$', '.'), ('1.18', 'NUM'), ('*U*', 'X'), ('a', 'DET'), ('share', 'NOUN'), (',', '.'), ('the', 'DET'), ('year', 'NOUN'), ('earlier', 'ADJ'), ('.', '.')], [('The', 'DET'), ('earnings', 'NOUN'), ('growth', 'NOUN'), ('also', 'ADV'), ('was', 'VERB'), ('fueled', 'VERB'), ('*-1', 'X'), ('by', 'ADP'), ('the', 'DET'), ('company', 'NOUN'), (\"'s\", 'PRT'), ('ability', 'NOUN'), ('*', 'X'), ('to', 'PRT'), ('cut', 'VERB'), ('net', 'ADJ'), ('financing', 'NOUN'), ('spending', 'NOUN'), ('by', 'ADP'), ('half', 'NOUN'), ('to', 'PRT'), ('around', 'ADP'), ('15', 'NUM'), ('million', 'NUM'), ('guilders', 'NOUN'), ('.', '.')], [('``', '.'), ('I', 'PRON'), ('live', 'VERB'), ('in', 'ADP'), ('hopes', 'NOUN'), ('that', 'ADP'), ('the', 'DET'), ('ringers', 'NOUN'), ('themselves', 'PRON'), ('will', 'VERB'), ('be', 'VERB'), ('drawn', 'VERB'), ('*-139', 'X'), ('into', 'ADP'), ('that', 'DET'), ('fuller', 'ADJ'), ('life', 'NOUN'), ('.', '.'), (\"''\", '.')], [('Free', 'NOUN'), ('State', 'NOUN'), ('Glass', 'NOUN'), ('Industries', 'NOUN'), ('of', 'ADP'), ('Warrenton', 'NOUN'), (',', '.'), ('Va.', 'NOUN'), (',', '.'), ('a', 'DET'), ('small', 'ADJ'), ('fabricator', 'NOUN'), ('of', 'ADP'), ('architectural', 'ADJ'), ('glass', 'NOUN'), (',', '.'), ('was', 'VERB'), ('foundering', 'VERB'), ('under', 'ADP'), ('its', 'PRON'), ('original', 'ADJ'), ('management', 'NOUN'), ('.', '.')], [('Although', 'ADP'), ('much', 'ADJ'), ('of', 'ADP'), ('this', 'DET'), ('country', 'NOUN'), (\"'s\", 'PRT'), ('export', 'NOUN'), ('corn', 'NOUN'), ('goes', 'VERB'), ('to', 'PRT'), ('New', 'NOUN'), ('Orleans', 'NOUN'), ('by', 'ADP'), ('barge', 'NOUN'), (',', '.'), ('it', 'PRON'), ('*EXP*-1', 'X'), ('is', 'VERB'), ('possible', 'ADJ'), ('for', 'ADP'), ('exporters', 'NOUN'), ('to', 'PRT'), ('sidestep', 'VERB'), ('the', 'DET'), ('Mississippi', 'NOUN'), ('River', 'NOUN'), ('by', 'ADP'), ('*-2', 'X'), ('shipping', 'VERB'), ('a', 'DET'), ('larger-than-normal', 'ADJ'), ('amount', 'NOUN'), ('of', 'ADP'), ('corn', 'NOUN'), ('by', 'ADP'), ('train', 'NOUN'), ('to', 'PRT'), ('the', 'DET'), ('port', 'NOUN'), ('.', '.')], [('There', 'DET'), ('is', 'VERB'), ('$', '.'), ('81.8', 'NUM'), ('million', 'NUM'), ('*U*', 'X'), ('of', 'ADP'), ('7.20', 'NUM'), ('%', 'NOUN'), ('term', 'NOUN'), ('bonds', 'NOUN'), ('due', 'ADJ'), ('2009', 'NUM'), ('priced', 'VERB'), ('*', 'X'), ('at', 'ADP'), ('99', 'NUM'), ('1\\\\/4', 'NUM'), ('*', 'X'), ('to', 'PRT'), ('yield', 'VERB'), ('7.272', 'NUM'), ('%', 'NOUN'), ('.', '.')], [('``', '.'), ('Professional', 'ADJ'), ('sugar', 'NOUN'), ('people', 'NOUN'), ('here', 'ADV'), ('who', 'PRON'), ('*T*-1', 'X'), ('have', 'VERB'), ('strong', 'ADJ'), ('contacts', 'NOUN'), ('with', 'ADP'), ('the', 'DET'), ('Brazilian', 'ADJ'), ('sugar', 'NOUN'), ('industry', 'NOUN'), ('have', 'VERB'), ('been', 'VERB'), ('unable', 'ADJ'), ('*-3', 'X'), ('to', 'PRT'), ('confirm', 'VERB'), ('the', 'DET'), ('reports', 'NOUN'), ('or', 'CONJ'), ('get', 'VERB'), ('enough', 'ADJ'), ('information', 'NOUN'), ('0', 'X'), ('*', 'X'), ('to', 'PRT'), ('clarify', 'VERB'), ('the', 'DET'), ('situation', 'NOUN'), ('*T*-4', 'X'), (',', '.'), (\"''\", '.'), ('he', 'PRON'), ('said', 'VERB'), ('*T*-2', 'X'), ('.', '.')], [('In', 'ADP'), ('addition', 'NOUN'), (',', '.'), ('the', 'DET'), ('Apple', 'NOUN'), ('II', 'NOUN'), ('was', 'VERB'), ('an', 'DET'), ('affordable', 'ADJ'), ('$', '.'), ('1,298', 'NUM'), ('*U*', 'X'), ('.', '.')], [('Another', 'DET'), ('small', 'ADJ'), ('Burgundy', 'NOUN'), ('estate', 'NOUN'), (',', '.'), ('Coche-Dury', 'NOUN'), (',', '.'), ('has', 'VERB'), ('just', 'ADV'), ('offered', 'VERB'), ('its', 'PRON'), ('1987', 'NUM'), ('Corton-Charlemagne', 'NOUN'), ('for', 'ADP'), ('$', '.'), ('155', 'NUM'), ('*U*', 'X'), ('.', '.')], [('Several', 'ADJ'), ('traders', 'NOUN'), ('maintained', 'VERB'), ('that', 'ADP'), ('the', 'DET'), ('Merc', 'NOUN'), (\"'s\", 'PRT'), ('12-point', 'ADJ'), ('circuit-breaker', 'NOUN'), ('aggravated', 'VERB'), ('the', 'DET'), ('market', 'NOUN'), ('slide', 'NOUN'), ('Oct.', 'NOUN'), ('13', 'NUM'), ('by', 'ADP'), ('*-1', 'X'), ('directing', 'VERB'), ('additional', 'ADJ'), ('selling', 'VERB'), ('pressure', 'NOUN'), ('to', 'PRT'), ('the', 'DET'), ('floor', 'NOUN'), ('of', 'ADP'), ('the', 'DET'), ('New', 'NOUN'), ('York', 'NOUN'), ('Stock', 'NOUN'), ('Exchange', 'NOUN'), ('.', '.')], [('Other', 'ADJ'), ('paper', 'NOUN'), ('and', 'CONJ'), ('forest-products', 'NOUN'), ('stocks', 'NOUN'), ('closed', 'VERB'), ('*-1', 'X'), ('mixed', 'VERB'), ('.', '.')], [('South', 'NOUN'), ('Korea', 'NOUN'), ('has', 'VERB'), ('different', 'ADJ'), ('concerns', 'NOUN'), ('.', '.')], [('It', 'PRON'), (\"'s\", 'VERB'), ('the', 'DET'), ('latest', 'ADJ'), ('investment', 'NOUN'), ('craze', 'NOUN'), ('sweeping', 'VERB'), ('Wall', 'NOUN'), ('Street', 'NOUN'), (':', '.'), ('a', 'DET'), ('rash', 'NOUN'), ('of', 'ADP'), ('new', 'ADJ'), ('closed-end', 'ADJ'), ('country', 'NOUN'), ('funds', 'NOUN'), (',', '.'), ('those', 'DET'), ('publicly', 'ADV'), ('traded', 'VERB'), ('portfolios', 'NOUN'), ('that', 'DET'), ('*T*-37', 'X'), ('invest', 'VERB'), ('in', 'ADP'), ('stocks', 'NOUN'), ('of', 'ADP'), ('a', 'DET'), ('single', 'ADJ'), ('foreign', 'ADJ'), ('country', 'NOUN'), ('.', '.')], [('Farmers', 'NOUN'), ('are', 'VERB'), ('in', 'ADP'), ('the', 'DET'), ('best', 'ADJ'), ('position', 'NOUN'), ('of', 'ADP'), ('many', 'ADJ'), ('years', 'NOUN'), ('0', 'X'), ('*', 'X'), ('to', 'PRT'), ('push', 'VERB'), ('up', 'ADP'), ('corn', 'NOUN'), ('prices', 'NOUN'), ('*T*-1', 'X'), ('.', '.')], [('A', 'DET'), ('stadium', 'NOUN'), ('craze', 'NOUN'), ('is', 'VERB'), ('sweeping', 'VERB'), ('the', 'DET'), ('country', 'NOUN'), ('.', '.')], [('The', 'DET'), ('Treasury', 'NOUN'), ('said', 'VERB'), ('0', 'X'), ('the', 'DET'), ('refunding', 'NOUN'), ('is', 'VERB'), ('contingent', 'NOUN'), ('upon', 'ADP'), ('congressional', 'ADJ'), ('and', 'CONJ'), ('presidential', 'ADJ'), ('passage', 'NOUN'), ('of', 'ADP'), ('an', 'DET'), ('increase', 'NOUN'), ('in', 'ADP'), ('the', 'DET'), ('federal', 'ADJ'), ('debt', 'NOUN'), ('ceiling', 'NOUN'), ('.', '.')], [('Second', 'ADJ'), (',', '.'), ('it', 'PRON'), ('can', 'VERB'), ('be', 'VERB'), ('used', 'VERB'), ('*-1', 'X'), ('*', 'X'), ('to', 'PRT'), ('unwind', 'VERB'), ('positions', 'NOUN'), ('before', 'ADP'), ('U.S.', 'NOUN'), ('trading', 'NOUN'), ('begins', 'VERB'), (',', '.'), ('but', 'CONJ'), ('at', 'ADP'), ('prices', 'NOUN'), ('pegged', 'VERB'), ('*', 'X'), ('to', 'PRT'), ('the', 'DET'), ('previous', 'ADJ'), ('session', 'NOUN'), (\"'s\", 'PRT'), ('Big', 'NOUN'), ('Board', 'NOUN'), ('close', 'NOUN'), ('.', '.')], [('Fees', 'NOUN'), ('1', 'NUM'), ('3\\\\/4', 'NUM'), ('.', '.')]]\n"
     ]
    }
   ],
   "source": [
    "# Splitting into train and test\n",
    "random.seed(42)\n",
    "train_set, test_set = train_test_split(nltk_data,test_size=0.05)\n",
    "\n",
    "print(f'Length of Training Set: {len(train_set)}')\n",
    "print(f'Length of Test Set: {len(test_set)}')\n",
    "print(train_set[:40])"
   ]
  },
  {
   "cell_type": "code",
   "execution_count": 5,
   "metadata": {},
   "outputs": [],
   "source": [
    " train_tagged_words = [tup for sent in train_set for tup in sent]"
   ]
  },
  {
   "cell_type": "code",
   "execution_count": 6,
   "metadata": {},
   "outputs": [
    {
     "output_type": "execute_result",
     "data": {
      "text/plain": [
       "95855"
      ]
     },
     "metadata": {},
     "execution_count": 6
    }
   ],
   "source": [
    "len(train_tagged_words)"
   ]
  },
  {
   "cell_type": "code",
   "execution_count": 60,
   "metadata": {},
   "outputs": [
    {
     "output_type": "stream",
     "name": "stdout",
     "text": [
      "The five most common tags are [('NOUN', 27470), ('VERB', 12930), ('.', 11091), ('ADP', 9397), ('DET', 8350)]\n"
     ]
    }
   ],
   "source": [
    "pos_counts = collections.Counter((subl[1] for subl in train_tagged_words))\n",
    "print(\"The five most common tags are\", pos_counts.most_common(5))"
   ]
  },
  {
   "cell_type": "code",
   "execution_count": 7,
   "metadata": {},
   "outputs": [
    {
     "output_type": "execute_result",
     "data": {
      "text/plain": [
       "['She', 'gives', 'the', 'Artist', 'a', 'sense', 'of', 'purpose', ',', 'but']"
      ]
     },
     "metadata": {},
     "execution_count": 7
    }
   ],
   "source": [
    "# tokens \n",
    "tokens = [pair[0] for pair in train_tagged_words]\n",
    "tokens[:10]"
   ]
  },
  {
   "cell_type": "code",
   "execution_count": 8,
   "metadata": {},
   "outputs": [
    {
     "output_type": "stream",
     "name": "stdout",
     "text": [
      "Total Words in Vocabulary: 12071\n"
     ]
    }
   ],
   "source": [
    "# vocabulary\n",
    "V = set(tokens)\n",
    "print(f'Total Words in Vocabulary: {len(V)}')"
   ]
  },
  {
   "cell_type": "code",
   "execution_count": 9,
   "metadata": {},
   "outputs": [
    {
     "output_type": "stream",
     "name": "stdout",
     "text": [
      "Total Tags : 12\n"
     ]
    }
   ],
   "source": [
    "# number of tags\n",
    "T = set([pair[1] for pair in train_tagged_words])\n",
    "print(f'Total Tags : {len(T)}')"
   ]
  },
  {
   "cell_type": "markdown",
   "metadata": {},
   "source": [
    "### Build the vanilla Viterbi based POS tagger"
   ]
  },
  {
   "source": [
    "#### Emission Probabilities"
   ],
   "cell_type": "markdown",
   "metadata": {}
  },
  {
   "cell_type": "code",
   "execution_count": 10,
   "metadata": {},
   "outputs": [],
   "source": [
    "# computing P(w/t) and storing in T x V matrix\n",
    "t = len(T)\n",
    "v = len(V)\n",
    "w_given_t = np.zeros((t, v))"
   ]
  },
  {
   "cell_type": "code",
   "execution_count": 11,
   "metadata": {},
   "outputs": [],
   "source": [
    "# compute word given tag: Emission Probability\n",
    "def word_given_tag(word, tag, train_bag = train_tagged_words):\n",
    "    tag_list = [pair for pair in train_bag if pair[1]==tag]\n",
    "    count_tag = len(tag_list)\n",
    "    w_given_tag_list = [pair[0] for pair in tag_list if pair[0]==word]\n",
    "    count_w_given_tag = len(w_given_tag_list)\n",
    "    \n",
    "    return (count_w_given_tag, count_tag)"
   ]
  },
  {
   "cell_type": "code",
   "execution_count": 12,
   "metadata": {},
   "outputs": [
    {
     "output_type": "stream",
     "name": "stdout",
     "text": [
      "(76, 6148)\n(4, 27470)\n\n book\n(7, 27470)\n(1, 12930)\n"
     ]
    }
   ],
   "source": [
    "print(word_given_tag('Japanese','ADJ'))\n",
    "print(word_given_tag('Minister','NOUN'))\n",
    "\n",
    "# book\n",
    "print(\"\\n\", \"book\")\n",
    "print(word_given_tag('book', 'NOUN'))\n",
    "print(word_given_tag('book', 'VERB'))"
   ]
  },
  {
   "cell_type": "code",
   "execution_count": 13,
   "metadata": {},
   "outputs": [],
   "source": [
    "def t2_given_t1(t2, t1, train_bag = train_tagged_words):\n",
    "    tags = [pair[1] for pair in train_bag]\n",
    "    count_t1 = len([t for t in tags if t==t1])\n",
    "    count_t2_t1 = 0\n",
    "    for index in range(len(tags)-1):\n",
    "        if tags[index]==t1 and tags[index+1] == t2:\n",
    "            count_t2_t1 += 1\n",
    "    return (count_t2_t1, count_t1)"
   ]
  },
  {
   "cell_type": "code",
   "execution_count": 14,
   "metadata": {},
   "outputs": [
    {
     "output_type": "stream",
     "name": "stdout",
     "text": [
      "(4296, 6148)\n(1419, 12930)\n(464, 12930)\n"
     ]
    }
   ],
   "source": [
    "print(t2_given_t1(t2='NOUN', t1='ADJ'))\n",
    "print(t2_given_t1(t2='NOUN', t1='VERB'))\n",
    "print(t2_given_t1(t2='PRON', t1='VERB'))"
   ]
  },
  {
   "cell_type": "code",
   "execution_count": 15,
   "metadata": {},
   "outputs": [],
   "source": [
    "# creating t x t transition matrix of tags\n",
    "# each column is t2, each row is t1\n",
    "# thus M(i, j) represents P(tj given ti)\n",
    "\n",
    "tags_matrix = np.zeros((len(T), len(T)), dtype='float32')\n",
    "for i, t1 in enumerate(list(T)):\n",
    "    for j, t2 in enumerate(list(T)): \n",
    "        tags_matrix[i, j] = t2_given_t1(t2, t1)[0]/t2_given_t1(t2, t1)[1]"
   ]
  },
  {
   "cell_type": "code",
   "execution_count": 16,
   "metadata": {},
   "outputs": [
    {
     "output_type": "execute_result",
     "data": {
      "text/plain": [
       "           NUM       PRT       ADP         X      VERB      PRON         .  \\\n",
       "NUM   0.184864  0.028118  0.035298  0.207000  0.017649  0.001496  0.117858   \n",
       "PRT   0.057674  0.001629  0.020854  0.013034  0.400456  0.018247  0.042685   \n",
       "ADP   0.062786  0.001490  0.017133  0.034905  0.008194  0.068958  0.038842   \n",
       "X     0.002714  0.185026  0.144317  0.073755  0.206897  0.056354  0.161079   \n",
       "VERB  0.022738  0.032019  0.091106  0.216937  0.169142  0.035886  0.034725   \n",
       "PRON  0.007271  0.011864  0.022579  0.093762  0.487179  0.008037  0.041332   \n",
       ".     0.079344  0.002525  0.092237  0.027139  0.090163  0.066270  0.092057   \n",
       "ADJ   0.020657  0.010898  0.077586  0.020982  0.012362  0.000651  0.064411   \n",
       "NOUN  0.009246  0.043793  0.176993  0.028941  0.146414  0.004769  0.239607   \n",
       "DET   0.022395  0.000240  0.009581  0.045509  0.039401  0.003593  0.017725   \n",
       "\n",
       "           ADJ      NOUN       DET       ADV      CONJ  \n",
       "NUM   0.034400  0.352378  0.003590  0.002991  0.014358  \n",
       "PRT   0.084718  0.246008  0.102313  0.010101  0.002281  \n",
       "ADP   0.106843  0.321166  0.325104  0.013728  0.000851  \n",
       "X     0.017720  0.062261  0.055077  0.025223  0.009579  \n",
       "VERB  0.065584  0.109745  0.134803  0.081825  0.005491  \n",
       "PRON  0.075392  0.204746  0.009568  0.033678  0.004592  \n",
       ".     0.045532  0.219457  0.175097  0.052565  0.057524  \n",
       "ADJ   0.067176  0.698764  0.005042  0.004554  0.016916  \n",
       "NOUN  0.012304  0.264543  0.013360  0.017328  0.042701  \n",
       "DET   0.204431  0.638323  0.005509  0.012814  0.000479  "
      ],
      "text/html": "<div>\n<style scoped>\n    .dataframe tbody tr th:only-of-type {\n        vertical-align: middle;\n    }\n\n    .dataframe tbody tr th {\n        vertical-align: top;\n    }\n\n    .dataframe thead th {\n        text-align: right;\n    }\n</style>\n<table border=\"1\" class=\"dataframe\">\n  <thead>\n    <tr style=\"text-align: right;\">\n      <th></th>\n      <th>NUM</th>\n      <th>PRT</th>\n      <th>ADP</th>\n      <th>X</th>\n      <th>VERB</th>\n      <th>PRON</th>\n      <th>.</th>\n      <th>ADJ</th>\n      <th>NOUN</th>\n      <th>DET</th>\n      <th>ADV</th>\n      <th>CONJ</th>\n    </tr>\n  </thead>\n  <tbody>\n    <tr>\n      <th>NUM</th>\n      <td>0.184864</td>\n      <td>0.028118</td>\n      <td>0.035298</td>\n      <td>0.207000</td>\n      <td>0.017649</td>\n      <td>0.001496</td>\n      <td>0.117858</td>\n      <td>0.034400</td>\n      <td>0.352378</td>\n      <td>0.003590</td>\n      <td>0.002991</td>\n      <td>0.014358</td>\n    </tr>\n    <tr>\n      <th>PRT</th>\n      <td>0.057674</td>\n      <td>0.001629</td>\n      <td>0.020854</td>\n      <td>0.013034</td>\n      <td>0.400456</td>\n      <td>0.018247</td>\n      <td>0.042685</td>\n      <td>0.084718</td>\n      <td>0.246008</td>\n      <td>0.102313</td>\n      <td>0.010101</td>\n      <td>0.002281</td>\n    </tr>\n    <tr>\n      <th>ADP</th>\n      <td>0.062786</td>\n      <td>0.001490</td>\n      <td>0.017133</td>\n      <td>0.034905</td>\n      <td>0.008194</td>\n      <td>0.068958</td>\n      <td>0.038842</td>\n      <td>0.106843</td>\n      <td>0.321166</td>\n      <td>0.325104</td>\n      <td>0.013728</td>\n      <td>0.000851</td>\n    </tr>\n    <tr>\n      <th>X</th>\n      <td>0.002714</td>\n      <td>0.185026</td>\n      <td>0.144317</td>\n      <td>0.073755</td>\n      <td>0.206897</td>\n      <td>0.056354</td>\n      <td>0.161079</td>\n      <td>0.017720</td>\n      <td>0.062261</td>\n      <td>0.055077</td>\n      <td>0.025223</td>\n      <td>0.009579</td>\n    </tr>\n    <tr>\n      <th>VERB</th>\n      <td>0.022738</td>\n      <td>0.032019</td>\n      <td>0.091106</td>\n      <td>0.216937</td>\n      <td>0.169142</td>\n      <td>0.035886</td>\n      <td>0.034725</td>\n      <td>0.065584</td>\n      <td>0.109745</td>\n      <td>0.134803</td>\n      <td>0.081825</td>\n      <td>0.005491</td>\n    </tr>\n    <tr>\n      <th>PRON</th>\n      <td>0.007271</td>\n      <td>0.011864</td>\n      <td>0.022579</td>\n      <td>0.093762</td>\n      <td>0.487179</td>\n      <td>0.008037</td>\n      <td>0.041332</td>\n      <td>0.075392</td>\n      <td>0.204746</td>\n      <td>0.009568</td>\n      <td>0.033678</td>\n      <td>0.004592</td>\n    </tr>\n    <tr>\n      <th>.</th>\n      <td>0.079344</td>\n      <td>0.002525</td>\n      <td>0.092237</td>\n      <td>0.027139</td>\n      <td>0.090163</td>\n      <td>0.066270</td>\n      <td>0.092057</td>\n      <td>0.045532</td>\n      <td>0.219457</td>\n      <td>0.175097</td>\n      <td>0.052565</td>\n      <td>0.057524</td>\n    </tr>\n    <tr>\n      <th>ADJ</th>\n      <td>0.020657</td>\n      <td>0.010898</td>\n      <td>0.077586</td>\n      <td>0.020982</td>\n      <td>0.012362</td>\n      <td>0.000651</td>\n      <td>0.064411</td>\n      <td>0.067176</td>\n      <td>0.698764</td>\n      <td>0.005042</td>\n      <td>0.004554</td>\n      <td>0.016916</td>\n    </tr>\n    <tr>\n      <th>NOUN</th>\n      <td>0.009246</td>\n      <td>0.043793</td>\n      <td>0.176993</td>\n      <td>0.028941</td>\n      <td>0.146414</td>\n      <td>0.004769</td>\n      <td>0.239607</td>\n      <td>0.012304</td>\n      <td>0.264543</td>\n      <td>0.013360</td>\n      <td>0.017328</td>\n      <td>0.042701</td>\n    </tr>\n    <tr>\n      <th>DET</th>\n      <td>0.022395</td>\n      <td>0.000240</td>\n      <td>0.009581</td>\n      <td>0.045509</td>\n      <td>0.039401</td>\n      <td>0.003593</td>\n      <td>0.017725</td>\n      <td>0.204431</td>\n      <td>0.638323</td>\n      <td>0.005509</td>\n      <td>0.012814</td>\n      <td>0.000479</td>\n    </tr>\n  </tbody>\n</table>\n</div>"
     },
     "metadata": {},
     "execution_count": 16
    }
   ],
   "source": [
    "# convert the matrix to a df for better readability\n",
    "tags_df = pd.DataFrame(tags_matrix, columns = list(T), index=list(T))\n",
    "tags_df.head(10)"
   ]
  },
  {
   "cell_type": "code",
   "execution_count": 17,
   "metadata": {},
   "outputs": [
    {
     "output_type": "display_data",
     "data": {
      "text/plain": "<Figure size 1296x864 with 2 Axes>",
      "image/svg+xml": "<?xml version=\"1.0\" encoding=\"utf-8\" standalone=\"no\"?>\r\n<!DOCTYPE svg PUBLIC \"-//W3C//DTD SVG 1.1//EN\"\r\n  \"http://www.w3.org/Graphics/SVG/1.1/DTD/svg11.dtd\">\r\n<!-- Created with matplotlib (https://matplotlib.org/) -->\r\n<svg height=\"683.398125pt\" version=\"1.1\" viewBox=\"0 0 940.33725 683.398125\" width=\"940.33725pt\" xmlns=\"http://www.w3.org/2000/svg\" xmlns:xlink=\"http://www.w3.org/1999/xlink\">\r\n <metadata>\r\n  <rdf:RDF xmlns:cc=\"http://creativecommons.org/ns#\" xmlns:dc=\"http://purl.org/dc/elements/1.1/\" xmlns:rdf=\"http://www.w3.org/1999/02/22-rdf-syntax-ns#\">\r\n   <cc:Work>\r\n    <dc:type rdf:resource=\"http://purl.org/dc/dcmitype/StillImage\"/>\r\n    <dc:date>2021-02-23T23:11:00.909617</dc:date>\r\n    <dc:format>image/svg+xml</dc:format>\r\n    <dc:creator>\r\n     <cc:Agent>\r\n      <dc:title>Matplotlib v3.3.4, https://matplotlib.org/</dc:title>\r\n     </cc:Agent>\r\n    </dc:creator>\r\n   </cc:Work>\r\n  </rdf:RDF>\r\n </metadata>\r\n <defs>\r\n  <style type=\"text/css\">*{stroke-linecap:butt;stroke-linejoin:round;}</style>\r\n </defs>\r\n <g id=\"figure_1\">\r\n  <g id=\"patch_1\">\r\n   <path d=\"M 0 683.398125 \r\nL 940.33725 683.398125 \r\nL 940.33725 0 \r\nL 0 0 \r\nz\r\n\" style=\"fill:none;\"/>\r\n  </g>\r\n  <g id=\"axes_1\">\r\n   <g id=\"patch_2\">\r\n    <path d=\"M 23.878125 659.52 \r\nL 827.398125 659.52 \r\nL 827.398125 7.2 \r\nL 23.878125 7.2 \r\nz\r\n\" style=\"fill:#ffffff;\"/>\r\n   </g>\r\n   <g id=\"QuadMesh_1\">\r\n    <path clip-path=\"url(#pda1dacea06)\" d=\"M 23.878125 7.2 \r\nL 90.838125 7.2 \r\nL 90.838125 61.56 \r\nL 23.878125 61.56 \r\nL 23.878125 7.2 \r\n\" style=\"fill:#661f54;\"/>\r\n    <path clip-path=\"url(#pda1dacea06)\" d=\"M 90.838125 7.2 \r\nL 157.798125 7.2 \r\nL 157.798125 61.56 \r\nL 90.838125 61.56 \r\nL 90.838125 7.2 \r\n\" style=\"fill:#100b23;\"/>\r\n    <path clip-path=\"url(#pda1dacea06)\" d=\"M 157.798125 7.2 \r\nL 224.758125 7.2 \r\nL 224.758125 61.56 \r\nL 157.798125 61.56 \r\nL 157.798125 7.2 \r\n\" style=\"fill:#130d25;\"/>\r\n    <path clip-path=\"url(#pda1dacea06)\" d=\"M 224.758125 7.2 \r\nL 291.718125 7.2 \r\nL 291.718125 61.56 \r\nL 224.758125 61.56 \r\nL 224.758125 7.2 \r\n\" style=\"fill:#731f58;\"/>\r\n    <path clip-path=\"url(#pda1dacea06)\" d=\"M 291.718125 7.2 \r\nL 358.678125 7.2 \r\nL 358.678125 61.56 \r\nL 291.718125 61.56 \r\nL 291.718125 7.2 \r\n\" style=\"fill:#0a091f;\"/>\r\n    <path clip-path=\"url(#pda1dacea06)\" d=\"M 358.678125 7.2 \r\nL 425.638125 7.2 \r\nL 425.638125 61.56 \r\nL 358.678125 61.56 \r\nL 358.678125 7.2 \r\n\" style=\"fill:#03051a;\"/>\r\n    <path clip-path=\"url(#pda1dacea06)\" d=\"M 425.638125 7.2 \r\nL 492.598125 7.2 \r\nL 492.598125 61.56 \r\nL 425.638125 61.56 \r\nL 425.638125 7.2 \r\n\" style=\"fill:#401b44;\"/>\r\n    <path clip-path=\"url(#pda1dacea06)\" d=\"M 492.598125 7.2 \r\nL 559.558125 7.2 \r\nL 559.558125 61.56 \r\nL 492.598125 61.56 \r\nL 492.598125 7.2 \r\n\" style=\"fill:#130d25;\"/>\r\n    <path clip-path=\"url(#pda1dacea06)\" d=\"M 559.558125 7.2 \r\nL 626.518125 7.2 \r\nL 626.518125 61.56 \r\nL 559.558125 61.56 \r\nL 559.558125 7.2 \r\n\" style=\"fill:#cd1c4e;\"/>\r\n    <path clip-path=\"url(#pda1dacea06)\" d=\"M 626.518125 7.2 \r\nL 693.478125 7.2 \r\nL 693.478125 61.56 \r\nL 626.518125 61.56 \r\nL 626.518125 7.2 \r\n\" style=\"fill:#04051a;\"/>\r\n    <path clip-path=\"url(#pda1dacea06)\" d=\"M 693.478125 7.2 \r\nL 760.438125 7.2 \r\nL 760.438125 61.56 \r\nL 693.478125 61.56 \r\nL 693.478125 7.2 \r\n\" style=\"fill:#04051a;\"/>\r\n    <path clip-path=\"url(#pda1dacea06)\" d=\"M 760.438125 7.2 \r\nL 827.398125 7.2 \r\nL 827.398125 61.56 \r\nL 760.438125 61.56 \r\nL 760.438125 7.2 \r\n\" style=\"fill:#08081e;\"/>\r\n    <path clip-path=\"url(#pda1dacea06)\" d=\"M 23.878125 61.56 \r\nL 90.838125 61.56 \r\nL 90.838125 115.92 \r\nL 23.878125 115.92 \r\nL 23.878125 61.56 \r\n\" style=\"fill:#20122e;\"/>\r\n    <path clip-path=\"url(#pda1dacea06)\" d=\"M 90.838125 61.56 \r\nL 157.798125 61.56 \r\nL 157.798125 115.92 \r\nL 90.838125 115.92 \r\nL 90.838125 61.56 \r\n\" style=\"fill:#03051a;\"/>\r\n    <path clip-path=\"url(#pda1dacea06)\" d=\"M 157.798125 61.56 \r\nL 224.758125 61.56 \r\nL 224.758125 115.92 \r\nL 157.798125 115.92 \r\nL 157.798125 61.56 \r\n\" style=\"fill:#0b0920;\"/>\r\n    <path clip-path=\"url(#pda1dacea06)\" d=\"M 224.758125 61.56 \r\nL 291.718125 61.56 \r\nL 291.718125 115.92 \r\nL 224.758125 115.92 \r\nL 224.758125 61.56 \r\n\" style=\"fill:#07071d;\"/>\r\n    <path clip-path=\"url(#pda1dacea06)\" d=\"M 291.718125 61.56 \r\nL 358.678125 61.56 \r\nL 358.678125 115.92 \r\nL 291.718125 115.92 \r\nL 291.718125 61.56 \r\n\" style=\"fill:#e13342;\"/>\r\n    <path clip-path=\"url(#pda1dacea06)\" d=\"M 358.678125 61.56 \r\nL 425.638125 61.56 \r\nL 425.638125 115.92 \r\nL 358.678125 115.92 \r\nL 358.678125 61.56 \r\n\" style=\"fill:#0a091f;\"/>\r\n    <path clip-path=\"url(#pda1dacea06)\" d=\"M 425.638125 61.56 \r\nL 492.598125 61.56 \r\nL 492.598125 115.92 \r\nL 425.638125 115.92 \r\nL 425.638125 61.56 \r\n\" style=\"fill:#170f28;\"/>\r\n    <path clip-path=\"url(#pda1dacea06)\" d=\"M 492.598125 61.56 \r\nL 559.558125 61.56 \r\nL 559.558125 115.92 \r\nL 492.598125 115.92 \r\nL 492.598125 61.56 \r\n\" style=\"fill:#2d1738;\"/>\r\n    <path clip-path=\"url(#pda1dacea06)\" d=\"M 559.558125 61.56 \r\nL 626.518125 61.56 \r\nL 626.518125 115.92 \r\nL 559.558125 115.92 \r\nL 559.558125 61.56 \r\n\" style=\"fill:#8c1d5b;\"/>\r\n    <path clip-path=\"url(#pda1dacea06)\" d=\"M 626.518125 61.56 \r\nL 693.478125 61.56 \r\nL 693.478125 115.92 \r\nL 626.518125 115.92 \r\nL 626.518125 61.56 \r\n\" style=\"fill:#37193f;\"/>\r\n    <path clip-path=\"url(#pda1dacea06)\" d=\"M 693.478125 61.56 \r\nL 760.438125 61.56 \r\nL 760.438125 115.92 \r\nL 693.478125 115.92 \r\nL 693.478125 61.56 \r\n\" style=\"fill:#06071c;\"/>\r\n    <path clip-path=\"url(#pda1dacea06)\" d=\"M 760.438125 61.56 \r\nL 827.398125 61.56 \r\nL 827.398125 115.92 \r\nL 760.438125 115.92 \r\nL 760.438125 61.56 \r\n\" style=\"fill:#03051a;\"/>\r\n    <path clip-path=\"url(#pda1dacea06)\" d=\"M 23.878125 115.92 \r\nL 90.838125 115.92 \r\nL 90.838125 170.28 \r\nL 23.878125 170.28 \r\nL 23.878125 115.92 \r\n\" style=\"fill:#211330;\"/>\r\n    <path clip-path=\"url(#pda1dacea06)\" d=\"M 90.838125 115.92 \r\nL 157.798125 115.92 \r\nL 157.798125 170.28 \r\nL 90.838125 170.28 \r\nL 90.838125 115.92 \r\n\" style=\"fill:#03051a;\"/>\r\n    <path clip-path=\"url(#pda1dacea06)\" d=\"M 157.798125 115.92 \r\nL 224.758125 115.92 \r\nL 224.758125 170.28 \r\nL 157.798125 170.28 \r\nL 157.798125 115.92 \r\n\" style=\"fill:#0a091f;\"/>\r\n    <path clip-path=\"url(#pda1dacea06)\" d=\"M 224.758125 115.92 \r\nL 291.718125 115.92 \r\nL 291.718125 170.28 \r\nL 224.758125 170.28 \r\nL 224.758125 115.92 \r\n\" style=\"fill:#130d25;\"/>\r\n    <path clip-path=\"url(#pda1dacea06)\" d=\"M 291.718125 115.92 \r\nL 358.678125 115.92 \r\nL 358.678125 170.28 \r\nL 291.718125 170.28 \r\nL 291.718125 115.92 \r\n\" style=\"fill:#05061b;\"/>\r\n    <path clip-path=\"url(#pda1dacea06)\" d=\"M 358.678125 115.92 \r\nL 425.638125 115.92 \r\nL 425.638125 170.28 \r\nL 358.678125 170.28 \r\nL 358.678125 115.92 \r\n\" style=\"fill:#251433;\"/>\r\n    <path clip-path=\"url(#pda1dacea06)\" d=\"M 425.638125 115.92 \r\nL 492.598125 115.92 \r\nL 492.598125 170.28 \r\nL 425.638125 170.28 \r\nL 425.638125 115.92 \r\n\" style=\"fill:#160e27;\"/>\r\n    <path clip-path=\"url(#pda1dacea06)\" d=\"M 492.598125 115.92 \r\nL 559.558125 115.92 \r\nL 559.558125 170.28 \r\nL 492.598125 170.28 \r\nL 492.598125 115.92 \r\n\" style=\"fill:#3a1a41;\"/>\r\n    <path clip-path=\"url(#pda1dacea06)\" d=\"M 559.558125 115.92 \r\nL 626.518125 115.92 \r\nL 626.518125 170.28 \r\nL 559.558125 170.28 \r\nL 559.558125 115.92 \r\n\" style=\"fill:#ba1656;\"/>\r\n    <path clip-path=\"url(#pda1dacea06)\" d=\"M 626.518125 115.92 \r\nL 693.478125 115.92 \r\nL 693.478125 170.28 \r\nL 626.518125 170.28 \r\nL 626.518125 115.92 \r\n\" style=\"fill:#bd1655;\"/>\r\n    <path clip-path=\"url(#pda1dacea06)\" d=\"M 693.478125 115.92 \r\nL 760.438125 115.92 \r\nL 760.438125 170.28 \r\nL 693.478125 170.28 \r\nL 693.478125 115.92 \r\n\" style=\"fill:#07071d;\"/>\r\n    <path clip-path=\"url(#pda1dacea06)\" d=\"M 760.438125 115.92 \r\nL 827.398125 115.92 \r\nL 827.398125 170.28 \r\nL 760.438125 170.28 \r\nL 760.438125 115.92 \r\n\" style=\"fill:#03051a;\"/>\r\n    <path clip-path=\"url(#pda1dacea06)\" d=\"M 23.878125 170.28 \r\nL 90.838125 170.28 \r\nL 90.838125 224.64 \r\nL 23.878125 224.64 \r\nL 23.878125 170.28 \r\n\" style=\"fill:#03051a;\"/>\r\n    <path clip-path=\"url(#pda1dacea06)\" d=\"M 90.838125 170.28 \r\nL 157.798125 170.28 \r\nL 157.798125 224.64 \r\nL 90.838125 224.64 \r\nL 90.838125 170.28 \r\n\" style=\"fill:#661f54;\"/>\r\n    <path clip-path=\"url(#pda1dacea06)\" d=\"M 157.798125 170.28 \r\nL 224.758125 170.28 \r\nL 224.758125 224.64 \r\nL 157.798125 224.64 \r\nL 157.798125 170.28 \r\n\" style=\"fill:#4e1d4b;\"/>\r\n    <path clip-path=\"url(#pda1dacea06)\" d=\"M 224.758125 170.28 \r\nL 291.718125 170.28 \r\nL 291.718125 224.64 \r\nL 224.758125 224.64 \r\nL 224.758125 170.28 \r\n\" style=\"fill:#271534;\"/>\r\n    <path clip-path=\"url(#pda1dacea06)\" d=\"M 291.718125 170.28 \r\nL 358.678125 170.28 \r\nL 358.678125 224.64 \r\nL 291.718125 224.64 \r\nL 291.718125 170.28 \r\n\" style=\"fill:#731f58;\"/>\r\n    <path clip-path=\"url(#pda1dacea06)\" d=\"M 358.678125 170.28 \r\nL 425.638125 170.28 \r\nL 425.638125 224.64 \r\nL 358.678125 224.64 \r\nL 358.678125 170.28 \r\n\" style=\"fill:#1e122d;\"/>\r\n    <path clip-path=\"url(#pda1dacea06)\" d=\"M 425.638125 170.28 \r\nL 492.598125 170.28 \r\nL 492.598125 224.64 \r\nL 425.638125 224.64 \r\nL 425.638125 170.28 \r\n\" style=\"fill:#581e4f;\"/>\r\n    <path clip-path=\"url(#pda1dacea06)\" d=\"M 492.598125 170.28 \r\nL 559.558125 170.28 \r\nL 559.558125 224.64 \r\nL 492.598125 224.64 \r\nL 492.598125 170.28 \r\n\" style=\"fill:#0a091f;\"/>\r\n    <path clip-path=\"url(#pda1dacea06)\" d=\"M 559.558125 170.28 \r\nL 626.518125 170.28 \r\nL 626.518125 224.64 \r\nL 559.558125 224.64 \r\nL 559.558125 170.28 \r\n\" style=\"fill:#211330;\"/>\r\n    <path clip-path=\"url(#pda1dacea06)\" d=\"M 626.518125 170.28 \r\nL 693.478125 170.28 \r\nL 693.478125 224.64 \r\nL 626.518125 224.64 \r\nL 626.518125 170.28 \r\n\" style=\"fill:#1e122d;\"/>\r\n    <path clip-path=\"url(#pda1dacea06)\" d=\"M 693.478125 170.28 \r\nL 760.438125 170.28 \r\nL 760.438125 224.64 \r\nL 693.478125 224.64 \r\nL 693.478125 170.28 \r\n\" style=\"fill:#0e0b22;\"/>\r\n    <path clip-path=\"url(#pda1dacea06)\" d=\"M 760.438125 170.28 \r\nL 827.398125 170.28 \r\nL 827.398125 224.64 \r\nL 760.438125 224.64 \r\nL 760.438125 170.28 \r\n\" style=\"fill:#06071c;\"/>\r\n    <path clip-path=\"url(#pda1dacea06)\" d=\"M 23.878125 224.64 \r\nL 90.838125 224.64 \r\nL 90.838125 279 \r\nL 23.878125 279 \r\nL 23.878125 224.64 \r\n\" style=\"fill:#0d0a21;\"/>\r\n    <path clip-path=\"url(#pda1dacea06)\" d=\"M 90.838125 224.64 \r\nL 157.798125 224.64 \r\nL 157.798125 279 \r\nL 90.838125 279 \r\nL 90.838125 224.64 \r\n\" style=\"fill:#110c24;\"/>\r\n    <path clip-path=\"url(#pda1dacea06)\" d=\"M 157.798125 224.64 \r\nL 224.758125 224.64 \r\nL 224.758125 279 \r\nL 157.798125 279 \r\nL 157.798125 224.64 \r\n\" style=\"fill:#31183b;\"/>\r\n    <path clip-path=\"url(#pda1dacea06)\" d=\"M 224.758125 224.64 \r\nL 291.718125 224.64 \r\nL 291.718125 279 \r\nL 224.758125 279 \r\nL 224.758125 224.64 \r\n\" style=\"fill:#7a1f59;\"/>\r\n    <path clip-path=\"url(#pda1dacea06)\" d=\"M 291.718125 224.64 \r\nL 358.678125 224.64 \r\nL 358.678125 279 \r\nL 291.718125 279 \r\nL 291.718125 224.64 \r\n\" style=\"fill:#5c1e51;\"/>\r\n    <path clip-path=\"url(#pda1dacea06)\" d=\"M 358.678125 224.64 \r\nL 425.638125 224.64 \r\nL 425.638125 279 \r\nL 358.678125 279 \r\nL 358.678125 224.64 \r\n\" style=\"fill:#140e26;\"/>\r\n    <path clip-path=\"url(#pda1dacea06)\" d=\"M 425.638125 224.64 \r\nL 492.598125 224.64 \r\nL 492.598125 279 \r\nL 425.638125 279 \r\nL 425.638125 224.64 \r\n\" style=\"fill:#130d25;\"/>\r\n    <path clip-path=\"url(#pda1dacea06)\" d=\"M 492.598125 224.64 \r\nL 559.558125 224.64 \r\nL 559.558125 279 \r\nL 492.598125 279 \r\nL 492.598125 224.64 \r\n\" style=\"fill:#221331;\"/>\r\n    <path clip-path=\"url(#pda1dacea06)\" d=\"M 559.558125 224.64 \r\nL 626.518125 224.64 \r\nL 626.518125 279 \r\nL 559.558125 279 \r\nL 559.558125 224.64 \r\n\" style=\"fill:#3c1a42;\"/>\r\n    <path clip-path=\"url(#pda1dacea06)\" d=\"M 626.518125 224.64 \r\nL 693.478125 224.64 \r\nL 693.478125 279 \r\nL 626.518125 279 \r\nL 626.518125 224.64 \r\n\" style=\"fill:#491d49;\"/>\r\n    <path clip-path=\"url(#pda1dacea06)\" d=\"M 693.478125 224.64 \r\nL 760.438125 224.64 \r\nL 760.438125 279 \r\nL 693.478125 279 \r\nL 693.478125 224.64 \r\n\" style=\"fill:#2b1637;\"/>\r\n    <path clip-path=\"url(#pda1dacea06)\" d=\"M 760.438125 224.64 \r\nL 827.398125 224.64 \r\nL 827.398125 279 \r\nL 760.438125 279 \r\nL 760.438125 224.64 \r\n\" style=\"fill:#04051a;\"/>\r\n    <path clip-path=\"url(#pda1dacea06)\" d=\"M 23.878125 279 \r\nL 90.838125 279 \r\nL 90.838125 333.36 \r\nL 23.878125 333.36 \r\nL 23.878125 279 \r\n\" style=\"fill:#05061b;\"/>\r\n    <path clip-path=\"url(#pda1dacea06)\" d=\"M 90.838125 279 \r\nL 157.798125 279 \r\nL 157.798125 333.36 \r\nL 90.838125 333.36 \r\nL 90.838125 279 \r\n\" style=\"fill:#07071d;\"/>\r\n    <path clip-path=\"url(#pda1dacea06)\" d=\"M 157.798125 279 \r\nL 224.758125 279 \r\nL 224.758125 333.36 \r\nL 157.798125 333.36 \r\nL 157.798125 279 \r\n\" style=\"fill:#0d0a21;\"/>\r\n    <path clip-path=\"url(#pda1dacea06)\" d=\"M 224.758125 279 \r\nL 291.718125 279 \r\nL 291.718125 333.36 \r\nL 224.758125 333.36 \r\nL 224.758125 279 \r\n\" style=\"fill:#33183c;\"/>\r\n    <path clip-path=\"url(#pda1dacea06)\" d=\"M 291.718125 279 \r\nL 358.678125 279 \r\nL 358.678125 333.36 \r\nL 291.718125 333.36 \r\nL 291.718125 279 \r\n\" style=\"fill:#f26f4c;\"/>\r\n    <path clip-path=\"url(#pda1dacea06)\" d=\"M 358.678125 279 \r\nL 425.638125 279 \r\nL 425.638125 333.36 \r\nL 358.678125 333.36 \r\nL 358.678125 279 \r\n\" style=\"fill:#05061b;\"/>\r\n    <path clip-path=\"url(#pda1dacea06)\" d=\"M 425.638125 279 \r\nL 492.598125 279 \r\nL 492.598125 333.36 \r\nL 425.638125 333.36 \r\nL 425.638125 279 \r\n\" style=\"fill:#170f28;\"/>\r\n    <path clip-path=\"url(#pda1dacea06)\" d=\"M 492.598125 279 \r\nL 559.558125 279 \r\nL 559.558125 333.36 \r\nL 492.598125 333.36 \r\nL 492.598125 279 \r\n\" style=\"fill:#281535;\"/>\r\n    <path clip-path=\"url(#pda1dacea06)\" d=\"M 559.558125 279 \r\nL 626.518125 279 \r\nL 626.518125 333.36 \r\nL 559.558125 333.36 \r\nL 559.558125 279 \r\n\" style=\"fill:#711f57;\"/>\r\n    <path clip-path=\"url(#pda1dacea06)\" d=\"M 626.518125 279 \r\nL 693.478125 279 \r\nL 693.478125 333.36 \r\nL 626.518125 333.36 \r\nL 626.518125 279 \r\n\" style=\"fill:#06071c;\"/>\r\n    <path clip-path=\"url(#pda1dacea06)\" d=\"M 693.478125 279 \r\nL 760.438125 279 \r\nL 760.438125 333.36 \r\nL 693.478125 333.36 \r\nL 693.478125 279 \r\n\" style=\"fill:#130d25;\"/>\r\n    <path clip-path=\"url(#pda1dacea06)\" d=\"M 760.438125 279 \r\nL 827.398125 279 \r\nL 827.398125 333.36 \r\nL 760.438125 333.36 \r\nL 760.438125 279 \r\n\" style=\"fill:#04051a;\"/>\r\n    <path clip-path=\"url(#pda1dacea06)\" d=\"M 23.878125 333.36 \r\nL 90.838125 333.36 \r\nL 90.838125 387.72 \r\nL 23.878125 387.72 \r\nL 23.878125 333.36 \r\n\" style=\"fill:#2a1636;\"/>\r\n    <path clip-path=\"url(#pda1dacea06)\" d=\"M 90.838125 333.36 \r\nL 157.798125 333.36 \r\nL 157.798125 387.72 \r\nL 90.838125 387.72 \r\nL 90.838125 333.36 \r\n\" style=\"fill:#03051a;\"/>\r\n    <path clip-path=\"url(#pda1dacea06)\" d=\"M 157.798125 333.36 \r\nL 224.758125 333.36 \r\nL 224.758125 387.72 \r\nL 157.798125 387.72 \r\nL 157.798125 333.36 \r\n\" style=\"fill:#31183b;\"/>\r\n    <path clip-path=\"url(#pda1dacea06)\" d=\"M 224.758125 333.36 \r\nL 291.718125 333.36 \r\nL 291.718125 387.72 \r\nL 224.758125 387.72 \r\nL 224.758125 333.36 \r\n\" style=\"fill:#0e0b22;\"/>\r\n    <path clip-path=\"url(#pda1dacea06)\" d=\"M 291.718125 333.36 \r\nL 358.678125 333.36 \r\nL 358.678125 387.72 \r\nL 291.718125 387.72 \r\nL 291.718125 333.36 \r\n\" style=\"fill:#30173a;\"/>\r\n    <path clip-path=\"url(#pda1dacea06)\" d=\"M 358.678125 333.36 \r\nL 425.638125 333.36 \r\nL 425.638125 387.72 \r\nL 358.678125 387.72 \r\nL 358.678125 333.36 \r\n\" style=\"fill:#241432;\"/>\r\n    <path clip-path=\"url(#pda1dacea06)\" d=\"M 425.638125 333.36 \r\nL 492.598125 333.36 \r\nL 492.598125 387.72 \r\nL 425.638125 387.72 \r\nL 425.638125 333.36 \r\n\" style=\"fill:#31183b;\"/>\r\n    <path clip-path=\"url(#pda1dacea06)\" d=\"M 492.598125 333.36 \r\nL 559.558125 333.36 \r\nL 559.558125 387.72 \r\nL 492.598125 387.72 \r\nL 492.598125 333.36 \r\n\" style=\"fill:#180f29;\"/>\r\n    <path clip-path=\"url(#pda1dacea06)\" d=\"M 559.558125 333.36 \r\nL 626.518125 333.36 \r\nL 626.518125 387.72 \r\nL 559.558125 387.72 \r\nL 559.558125 333.36 \r\n\" style=\"fill:#7b1f59;\"/>\r\n    <path clip-path=\"url(#pda1dacea06)\" d=\"M 626.518125 333.36 \r\nL 693.478125 333.36 \r\nL 693.478125 387.72 \r\nL 626.518125 387.72 \r\nL 626.518125 333.36 \r\n\" style=\"fill:#611f53;\"/>\r\n    <path clip-path=\"url(#pda1dacea06)\" d=\"M 693.478125 333.36 \r\nL 760.438125 333.36 \r\nL 760.438125 387.72 \r\nL 693.478125 387.72 \r\nL 693.478125 333.36 \r\n\" style=\"fill:#1d112c;\"/>\r\n    <path clip-path=\"url(#pda1dacea06)\" d=\"M 760.438125 333.36 \r\nL 827.398125 333.36 \r\nL 827.398125 387.72 \r\nL 760.438125 387.72 \r\nL 760.438125 333.36 \r\n\" style=\"fill:#1e122d;\"/>\r\n    <path clip-path=\"url(#pda1dacea06)\" d=\"M 23.878125 387.72 \r\nL 90.838125 387.72 \r\nL 90.838125 442.08 \r\nL 23.878125 442.08 \r\nL 23.878125 387.72 \r\n\" style=\"fill:#0b0920;\"/>\r\n    <path clip-path=\"url(#pda1dacea06)\" d=\"M 90.838125 387.72 \r\nL 157.798125 387.72 \r\nL 157.798125 442.08 \r\nL 90.838125 442.08 \r\nL 90.838125 387.72 \r\n\" style=\"fill:#06071c;\"/>\r\n    <path clip-path=\"url(#pda1dacea06)\" d=\"M 157.798125 387.72 \r\nL 224.758125 387.72 \r\nL 224.758125 442.08 \r\nL 157.798125 442.08 \r\nL 157.798125 387.72 \r\n\" style=\"fill:#2a1636;\"/>\r\n    <path clip-path=\"url(#pda1dacea06)\" d=\"M 224.758125 387.72 \r\nL 291.718125 387.72 \r\nL 291.718125 442.08 \r\nL 224.758125 442.08 \r\nL 224.758125 387.72 \r\n\" style=\"fill:#0b0920;\"/>\r\n    <path clip-path=\"url(#pda1dacea06)\" d=\"M 291.718125 387.72 \r\nL 358.678125 387.72 \r\nL 358.678125 442.08 \r\nL 291.718125 442.08 \r\nL 291.718125 387.72 \r\n\" style=\"fill:#07071d;\"/>\r\n    <path clip-path=\"url(#pda1dacea06)\" d=\"M 358.678125 387.72 \r\nL 425.638125 387.72 \r\nL 425.638125 442.08 \r\nL 358.678125 442.08 \r\nL 358.678125 387.72 \r\n\" style=\"fill:#03051a;\"/>\r\n    <path clip-path=\"url(#pda1dacea06)\" d=\"M 425.638125 387.72 \r\nL 492.598125 387.72 \r\nL 492.598125 442.08 \r\nL 425.638125 442.08 \r\nL 425.638125 387.72 \r\n\" style=\"fill:#221331;\"/>\r\n    <path clip-path=\"url(#pda1dacea06)\" d=\"M 492.598125 387.72 \r\nL 559.558125 387.72 \r\nL 559.558125 442.08 \r\nL 492.598125 442.08 \r\nL 492.598125 387.72 \r\n\" style=\"fill:#241432;\"/>\r\n    <path clip-path=\"url(#pda1dacea06)\" d=\"M 559.558125 387.72 \r\nL 626.518125 387.72 \r\nL 626.518125 442.08 \r\nL 559.558125 442.08 \r\nL 559.558125 387.72 \r\n\" style=\"fill:#faebdd;\"/>\r\n    <path clip-path=\"url(#pda1dacea06)\" d=\"M 626.518125 387.72 \r\nL 693.478125 387.72 \r\nL 693.478125 442.08 \r\nL 626.518125 442.08 \r\nL 626.518125 387.72 \r\n\" style=\"fill:#04051a;\"/>\r\n    <path clip-path=\"url(#pda1dacea06)\" d=\"M 693.478125 387.72 \r\nL 760.438125 387.72 \r\nL 760.438125 442.08 \r\nL 693.478125 442.08 \r\nL 693.478125 387.72 \r\n\" style=\"fill:#04051a;\"/>\r\n    <path clip-path=\"url(#pda1dacea06)\" d=\"M 760.438125 387.72 \r\nL 827.398125 387.72 \r\nL 827.398125 442.08 \r\nL 760.438125 442.08 \r\nL 760.438125 387.72 \r\n\" style=\"fill:#0a091f;\"/>\r\n    <path clip-path=\"url(#pda1dacea06)\" d=\"M 23.878125 442.08 \r\nL 90.838125 442.08 \r\nL 90.838125 496.44 \r\nL 23.878125 496.44 \r\nL 23.878125 442.08 \r\n\" style=\"fill:#06071c;\"/>\r\n    <path clip-path=\"url(#pda1dacea06)\" d=\"M 90.838125 442.08 \r\nL 157.798125 442.08 \r\nL 157.798125 496.44 \r\nL 90.838125 496.44 \r\nL 90.838125 442.08 \r\n\" style=\"fill:#170f28;\"/>\r\n    <path clip-path=\"url(#pda1dacea06)\" d=\"M 157.798125 442.08 \r\nL 224.758125 442.08 \r\nL 224.758125 496.44 \r\nL 157.798125 496.44 \r\nL 157.798125 442.08 \r\n\" style=\"fill:#611f53;\"/>\r\n    <path clip-path=\"url(#pda1dacea06)\" d=\"M 224.758125 442.08 \r\nL 291.718125 442.08 \r\nL 291.718125 496.44 \r\nL 224.758125 496.44 \r\nL 224.758125 442.08 \r\n\" style=\"fill:#100b23;\"/>\r\n    <path clip-path=\"url(#pda1dacea06)\" d=\"M 291.718125 442.08 \r\nL 358.678125 442.08 \r\nL 358.678125 496.44 \r\nL 291.718125 496.44 \r\nL 291.718125 442.08 \r\n\" style=\"fill:#501d4c;\"/>\r\n    <path clip-path=\"url(#pda1dacea06)\" d=\"M 358.678125 442.08 \r\nL 425.638125 442.08 \r\nL 425.638125 496.44 \r\nL 358.678125 496.44 \r\nL 358.678125 442.08 \r\n\" style=\"fill:#04051a;\"/>\r\n    <path clip-path=\"url(#pda1dacea06)\" d=\"M 425.638125 442.08 \r\nL 492.598125 442.08 \r\nL 492.598125 496.44 \r\nL 425.638125 496.44 \r\nL 425.638125 442.08 \r\n\" style=\"fill:#871e5b;\"/>\r\n    <path clip-path=\"url(#pda1dacea06)\" d=\"M 492.598125 442.08 \r\nL 559.558125 442.08 \r\nL 559.558125 496.44 \r\nL 492.598125 496.44 \r\nL 492.598125 442.08 \r\n\" style=\"fill:#07071d;\"/>\r\n    <path clip-path=\"url(#pda1dacea06)\" d=\"M 559.558125 442.08 \r\nL 626.518125 442.08 \r\nL 626.518125 496.44 \r\nL 559.558125 496.44 \r\nL 559.558125 442.08 \r\n\" style=\"fill:#971c5b;\"/>\r\n    <path clip-path=\"url(#pda1dacea06)\" d=\"M 626.518125 442.08 \r\nL 693.478125 442.08 \r\nL 693.478125 496.44 \r\nL 626.518125 496.44 \r\nL 626.518125 442.08 \r\n\" style=\"fill:#07071d;\"/>\r\n    <path clip-path=\"url(#pda1dacea06)\" d=\"M 693.478125 442.08 \r\nL 760.438125 442.08 \r\nL 760.438125 496.44 \r\nL 693.478125 496.44 \r\nL 693.478125 442.08 \r\n\" style=\"fill:#0a091f;\"/>\r\n    <path clip-path=\"url(#pda1dacea06)\" d=\"M 760.438125 442.08 \r\nL 827.398125 442.08 \r\nL 827.398125 496.44 \r\nL 760.438125 496.44 \r\nL 760.438125 442.08 \r\n\" style=\"fill:#170f28;\"/>\r\n    <path clip-path=\"url(#pda1dacea06)\" d=\"M 23.878125 496.44 \r\nL 90.838125 496.44 \r\nL 90.838125 550.8 \r\nL 23.878125 550.8 \r\nL 23.878125 496.44 \r\n\" style=\"fill:#0d0a21;\"/>\r\n    <path clip-path=\"url(#pda1dacea06)\" d=\"M 90.838125 496.44 \r\nL 157.798125 496.44 \r\nL 157.798125 550.8 \r\nL 90.838125 550.8 \r\nL 90.838125 496.44 \r\n\" style=\"fill:#03051a;\"/>\r\n    <path clip-path=\"url(#pda1dacea06)\" d=\"M 157.798125 496.44 \r\nL 224.758125 496.44 \r\nL 224.758125 550.8 \r\nL 157.798125 550.8 \r\nL 157.798125 496.44 \r\n\" style=\"fill:#06071c;\"/>\r\n    <path clip-path=\"url(#pda1dacea06)\" d=\"M 224.758125 496.44 \r\nL 291.718125 496.44 \r\nL 291.718125 550.8 \r\nL 224.758125 550.8 \r\nL 224.758125 496.44 \r\n\" style=\"fill:#180f29;\"/>\r\n    <path clip-path=\"url(#pda1dacea06)\" d=\"M 291.718125 496.44 \r\nL 358.678125 496.44 \r\nL 358.678125 550.8 \r\nL 291.718125 550.8 \r\nL 291.718125 496.44 \r\n\" style=\"fill:#160e27;\"/>\r\n    <path clip-path=\"url(#pda1dacea06)\" d=\"M 358.678125 496.44 \r\nL 425.638125 496.44 \r\nL 425.638125 550.8 \r\nL 358.678125 550.8 \r\nL 358.678125 496.44 \r\n\" style=\"fill:#04051a;\"/>\r\n    <path clip-path=\"url(#pda1dacea06)\" d=\"M 425.638125 496.44 \r\nL 492.598125 496.44 \r\nL 492.598125 550.8 \r\nL 425.638125 550.8 \r\nL 425.638125 496.44 \r\n\" style=\"fill:#0a091f;\"/>\r\n    <path clip-path=\"url(#pda1dacea06)\" d=\"M 492.598125 496.44 \r\nL 559.558125 496.44 \r\nL 559.558125 550.8 \r\nL 492.598125 550.8 \r\nL 492.598125 496.44 \r\n\" style=\"fill:#711f57;\"/>\r\n    <path clip-path=\"url(#pda1dacea06)\" d=\"M 559.558125 496.44 \r\nL 626.518125 496.44 \r\nL 626.518125 550.8 \r\nL 559.558125 550.8 \r\nL 559.558125 496.44 \r\n\" style=\"fill:#f7caac;\"/>\r\n    <path clip-path=\"url(#pda1dacea06)\" d=\"M 626.518125 496.44 \r\nL 693.478125 496.44 \r\nL 693.478125 550.8 \r\nL 626.518125 550.8 \r\nL 626.518125 496.44 \r\n\" style=\"fill:#04051a;\"/>\r\n    <path clip-path=\"url(#pda1dacea06)\" d=\"M 693.478125 496.44 \r\nL 760.438125 496.44 \r\nL 760.438125 550.8 \r\nL 693.478125 550.8 \r\nL 693.478125 496.44 \r\n\" style=\"fill:#07071d;\"/>\r\n    <path clip-path=\"url(#pda1dacea06)\" d=\"M 760.438125 496.44 \r\nL 827.398125 496.44 \r\nL 827.398125 550.8 \r\nL 760.438125 550.8 \r\nL 760.438125 496.44 \r\n\" style=\"fill:#03051a;\"/>\r\n    <path clip-path=\"url(#pda1dacea06)\" d=\"M 23.878125 550.8 \r\nL 90.838125 550.8 \r\nL 90.838125 605.16 \r\nL 23.878125 605.16 \r\nL 23.878125 550.8 \r\n\" style=\"fill:#110c24;\"/>\r\n    <path clip-path=\"url(#pda1dacea06)\" d=\"M 90.838125 550.8 \r\nL 157.798125 550.8 \r\nL 157.798125 605.16 \r\nL 90.838125 605.16 \r\nL 90.838125 550.8 \r\n\" style=\"fill:#08081e;\"/>\r\n    <path clip-path=\"url(#pda1dacea06)\" d=\"M 157.798125 550.8 \r\nL 224.758125 550.8 \r\nL 224.758125 605.16 \r\nL 157.798125 605.16 \r\nL 157.798125 550.8 \r\n\" style=\"fill:#3f1b43;\"/>\r\n    <path clip-path=\"url(#pda1dacea06)\" d=\"M 224.758125 550.8 \r\nL 291.718125 550.8 \r\nL 291.718125 605.16 \r\nL 224.758125 605.16 \r\nL 224.758125 550.8 \r\n\" style=\"fill:#0d0a21;\"/>\r\n    <path clip-path=\"url(#pda1dacea06)\" d=\"M 291.718125 550.8 \r\nL 358.678125 550.8 \r\nL 358.678125 605.16 \r\nL 291.718125 605.16 \r\nL 291.718125 550.8 \r\n\" style=\"fill:#c71951;\"/>\r\n    <path clip-path=\"url(#pda1dacea06)\" d=\"M 358.678125 550.8 \r\nL 425.638125 550.8 \r\nL 425.638125 605.16 \r\nL 358.678125 605.16 \r\nL 358.678125 550.8 \r\n\" style=\"fill:#08081e;\"/>\r\n    <path clip-path=\"url(#pda1dacea06)\" d=\"M 425.638125 550.8 \r\nL 492.598125 550.8 \r\nL 492.598125 605.16 \r\nL 425.638125 605.16 \r\nL 425.638125 550.8 \r\n\" style=\"fill:#491d49;\"/>\r\n    <path clip-path=\"url(#pda1dacea06)\" d=\"M 492.598125 550.8 \r\nL 559.558125 550.8 \r\nL 559.558125 605.16 \r\nL 492.598125 605.16 \r\nL 492.598125 550.8 \r\n\" style=\"fill:#461c48;\"/>\r\n    <path clip-path=\"url(#pda1dacea06)\" d=\"M 559.558125 550.8 \r\nL 626.518125 550.8 \r\nL 626.518125 605.16 \r\nL 559.558125 605.16 \r\nL 559.558125 550.8 \r\n\" style=\"fill:#110c24;\"/>\r\n    <path clip-path=\"url(#pda1dacea06)\" d=\"M 626.518125 550.8 \r\nL 693.478125 550.8 \r\nL 693.478125 605.16 \r\nL 626.518125 605.16 \r\nL 626.518125 550.8 \r\n\" style=\"fill:#251433;\"/>\r\n    <path clip-path=\"url(#pda1dacea06)\" d=\"M 693.478125 550.8 \r\nL 760.438125 550.8 \r\nL 760.438125 605.16 \r\nL 693.478125 605.16 \r\nL 693.478125 550.8 \r\n\" style=\"fill:#2b1637;\"/>\r\n    <path clip-path=\"url(#pda1dacea06)\" d=\"M 760.438125 550.8 \r\nL 827.398125 550.8 \r\nL 827.398125 605.16 \r\nL 760.438125 605.16 \r\nL 760.438125 550.8 \r\n\" style=\"fill:#05061b;\"/>\r\n    <path clip-path=\"url(#pda1dacea06)\" d=\"M 23.878125 605.16 \r\nL 90.838125 605.16 \r\nL 90.838125 659.52 \r\nL 23.878125 659.52 \r\nL 23.878125 605.16 \r\n\" style=\"fill:#160e27;\"/>\r\n    <path clip-path=\"url(#pda1dacea06)\" d=\"M 90.838125 605.16 \r\nL 157.798125 605.16 \r\nL 157.798125 659.52 \r\nL 90.838125 659.52 \r\nL 90.838125 605.16 \r\n\" style=\"fill:#04051a;\"/>\r\n    <path clip-path=\"url(#pda1dacea06)\" d=\"M 157.798125 605.16 \r\nL 224.758125 605.16 \r\nL 224.758125 659.52 \r\nL 157.798125 659.52 \r\nL 157.798125 605.16 \r\n\" style=\"fill:#1d112c;\"/>\r\n    <path clip-path=\"url(#pda1dacea06)\" d=\"M 224.758125 605.16 \r\nL 291.718125 605.16 \r\nL 291.718125 659.52 \r\nL 224.758125 659.52 \r\nL 224.758125 605.16 \r\n\" style=\"fill:#05061b;\"/>\r\n    <path clip-path=\"url(#pda1dacea06)\" d=\"M 291.718125 605.16 \r\nL 358.678125 605.16 \r\nL 358.678125 659.52 \r\nL 291.718125 659.52 \r\nL 291.718125 605.16 \r\n\" style=\"fill:#581e4f;\"/>\r\n    <path clip-path=\"url(#pda1dacea06)\" d=\"M 358.678125 605.16 \r\nL 425.638125 605.16 \r\nL 425.638125 659.52 \r\nL 358.678125 659.52 \r\nL 358.678125 605.16 \r\n\" style=\"fill:#1e122d;\"/>\r\n    <path clip-path=\"url(#pda1dacea06)\" d=\"M 425.638125 605.16 \r\nL 492.598125 605.16 \r\nL 492.598125 659.52 \r\nL 425.638125 659.52 \r\nL 425.638125 605.16 \r\n\" style=\"fill:#130d25;\"/>\r\n    <path clip-path=\"url(#pda1dacea06)\" d=\"M 492.598125 605.16 \r\nL 559.558125 605.16 \r\nL 559.558125 659.52 \r\nL 492.598125 659.52 \r\nL 492.598125 605.16 \r\n\" style=\"fill:#401b44;\"/>\r\n    <path clip-path=\"url(#pda1dacea06)\" d=\"M 559.558125 605.16 \r\nL 626.518125 605.16 \r\nL 626.518125 659.52 \r\nL 559.558125 659.52 \r\nL 559.558125 605.16 \r\n\" style=\"fill:#ca1a50;\"/>\r\n    <path clip-path=\"url(#pda1dacea06)\" d=\"M 626.518125 605.16 \r\nL 693.478125 605.16 \r\nL 693.478125 659.52 \r\nL 626.518125 659.52 \r\nL 626.518125 605.16 \r\n\" style=\"fill:#401b44;\"/>\r\n    <path clip-path=\"url(#pda1dacea06)\" d=\"M 693.478125 605.16 \r\nL 760.438125 605.16 \r\nL 760.438125 659.52 \r\nL 693.478125 659.52 \r\nL 693.478125 605.16 \r\n\" style=\"fill:#1e122d;\"/>\r\n    <path clip-path=\"url(#pda1dacea06)\" d=\"M 760.438125 605.16 \r\nL 827.398125 605.16 \r\nL 827.398125 659.52 \r\nL 760.438125 659.52 \r\nL 760.438125 605.16 \r\n\" style=\"fill:#03051a;\"/>\r\n   </g>\r\n   <g id=\"matplotlib.axis_1\">\r\n    <g id=\"xtick_1\">\r\n     <g id=\"line2d_1\">\r\n      <defs>\r\n       <path d=\"M 0 0 \r\nL 0 3.5 \r\n\" id=\"md17e2385cd\" style=\"stroke:#000000;stroke-width:0.8;\"/>\r\n      </defs>\r\n      <g>\r\n       <use style=\"stroke:#000000;stroke-width:0.8;\" x=\"57.358125\" xlink:href=\"#md17e2385cd\" y=\"659.52\"/>\r\n      </g>\r\n     </g>\r\n     <g id=\"text_1\">\r\n      <!-- NUM -->\r\n      <g transform=\"translate(45.644062 674.118438)scale(0.1 -0.1)\">\r\n       <defs>\r\n        <path d=\"M 9.8125 72.90625 \r\nL 23.09375 72.90625 \r\nL 55.421875 11.921875 \r\nL 55.421875 72.90625 \r\nL 64.984375 72.90625 \r\nL 64.984375 0 \r\nL 51.703125 0 \r\nL 19.390625 60.984375 \r\nL 19.390625 0 \r\nL 9.8125 0 \r\nz\r\n\" id=\"DejaVuSans-78\"/>\r\n        <path d=\"M 8.6875 72.90625 \r\nL 18.609375 72.90625 \r\nL 18.609375 28.609375 \r\nQ 18.609375 16.890625 22.84375 11.734375 \r\nQ 27.09375 6.59375 36.625 6.59375 \r\nQ 46.09375 6.59375 50.34375 11.734375 \r\nQ 54.59375 16.890625 54.59375 28.609375 \r\nL 54.59375 72.90625 \r\nL 64.5 72.90625 \r\nL 64.5 27.390625 \r\nQ 64.5 13.140625 57.4375 5.859375 \r\nQ 50.390625 -1.421875 36.625 -1.421875 \r\nQ 22.796875 -1.421875 15.734375 5.859375 \r\nQ 8.6875 13.140625 8.6875 27.390625 \r\nz\r\n\" id=\"DejaVuSans-85\"/>\r\n        <path d=\"M 9.8125 72.90625 \r\nL 24.515625 72.90625 \r\nL 43.109375 23.296875 \r\nL 61.8125 72.90625 \r\nL 76.515625 72.90625 \r\nL 76.515625 0 \r\nL 66.890625 0 \r\nL 66.890625 64.015625 \r\nL 48.09375 14.015625 \r\nL 38.1875 14.015625 \r\nL 19.390625 64.015625 \r\nL 19.390625 0 \r\nL 9.8125 0 \r\nz\r\n\" id=\"DejaVuSans-77\"/>\r\n       </defs>\r\n       <use xlink:href=\"#DejaVuSans-78\"/>\r\n       <use x=\"74.804688\" xlink:href=\"#DejaVuSans-85\"/>\r\n       <use x=\"147.998047\" xlink:href=\"#DejaVuSans-77\"/>\r\n      </g>\r\n     </g>\r\n    </g>\r\n    <g id=\"xtick_2\">\r\n     <g id=\"line2d_2\">\r\n      <g>\r\n       <use style=\"stroke:#000000;stroke-width:0.8;\" x=\"124.318125\" xlink:href=\"#md17e2385cd\" y=\"659.52\"/>\r\n      </g>\r\n     </g>\r\n     <g id=\"text_2\">\r\n      <!-- PRT -->\r\n      <g transform=\"translate(115.137656 674.118438)scale(0.1 -0.1)\">\r\n       <defs>\r\n        <path d=\"M 19.671875 64.796875 \r\nL 19.671875 37.40625 \r\nL 32.078125 37.40625 \r\nQ 38.96875 37.40625 42.71875 40.96875 \r\nQ 46.484375 44.53125 46.484375 51.125 \r\nQ 46.484375 57.671875 42.71875 61.234375 \r\nQ 38.96875 64.796875 32.078125 64.796875 \r\nz\r\nM 9.8125 72.90625 \r\nL 32.078125 72.90625 \r\nQ 44.34375 72.90625 50.609375 67.359375 \r\nQ 56.890625 61.8125 56.890625 51.125 \r\nQ 56.890625 40.328125 50.609375 34.8125 \r\nQ 44.34375 29.296875 32.078125 29.296875 \r\nL 19.671875 29.296875 \r\nL 19.671875 0 \r\nL 9.8125 0 \r\nz\r\n\" id=\"DejaVuSans-80\"/>\r\n        <path d=\"M 44.390625 34.1875 \r\nQ 47.5625 33.109375 50.5625 29.59375 \r\nQ 53.5625 26.078125 56.59375 19.921875 \r\nL 66.609375 0 \r\nL 56 0 \r\nL 46.6875 18.703125 \r\nQ 43.0625 26.03125 39.671875 28.421875 \r\nQ 36.28125 30.8125 30.421875 30.8125 \r\nL 19.671875 30.8125 \r\nL 19.671875 0 \r\nL 9.8125 0 \r\nL 9.8125 72.90625 \r\nL 32.078125 72.90625 \r\nQ 44.578125 72.90625 50.734375 67.671875 \r\nQ 56.890625 62.453125 56.890625 51.90625 \r\nQ 56.890625 45.015625 53.6875 40.46875 \r\nQ 50.484375 35.9375 44.390625 34.1875 \r\nz\r\nM 19.671875 64.796875 \r\nL 19.671875 38.921875 \r\nL 32.078125 38.921875 \r\nQ 39.203125 38.921875 42.84375 42.21875 \r\nQ 46.484375 45.515625 46.484375 51.90625 \r\nQ 46.484375 58.296875 42.84375 61.546875 \r\nQ 39.203125 64.796875 32.078125 64.796875 \r\nz\r\n\" id=\"DejaVuSans-82\"/>\r\n        <path d=\"M -0.296875 72.90625 \r\nL 61.375 72.90625 \r\nL 61.375 64.59375 \r\nL 35.5 64.59375 \r\nL 35.5 0 \r\nL 25.59375 0 \r\nL 25.59375 64.59375 \r\nL -0.296875 64.59375 \r\nz\r\n\" id=\"DejaVuSans-84\"/>\r\n       </defs>\r\n       <use xlink:href=\"#DejaVuSans-80\"/>\r\n       <use x=\"60.302734\" xlink:href=\"#DejaVuSans-82\"/>\r\n       <use x=\"122.535156\" xlink:href=\"#DejaVuSans-84\"/>\r\n      </g>\r\n     </g>\r\n    </g>\r\n    <g id=\"xtick_3\">\r\n     <g id=\"line2d_3\">\r\n      <g>\r\n       <use style=\"stroke:#000000;stroke-width:0.8;\" x=\"191.278125\" xlink:href=\"#md17e2385cd\" y=\"659.52\"/>\r\n      </g>\r\n     </g>\r\n     <g id=\"text_3\">\r\n      <!-- ADP -->\r\n      <g transform=\"translate(180.992969 674.118438)scale(0.1 -0.1)\">\r\n       <defs>\r\n        <path d=\"M 34.1875 63.1875 \r\nL 20.796875 26.90625 \r\nL 47.609375 26.90625 \r\nz\r\nM 28.609375 72.90625 \r\nL 39.796875 72.90625 \r\nL 67.578125 0 \r\nL 57.328125 0 \r\nL 50.6875 18.703125 \r\nL 17.828125 18.703125 \r\nL 11.1875 0 \r\nL 0.78125 0 \r\nz\r\n\" id=\"DejaVuSans-65\"/>\r\n        <path d=\"M 19.671875 64.796875 \r\nL 19.671875 8.109375 \r\nL 31.59375 8.109375 \r\nQ 46.6875 8.109375 53.6875 14.9375 \r\nQ 60.6875 21.78125 60.6875 36.53125 \r\nQ 60.6875 51.171875 53.6875 57.984375 \r\nQ 46.6875 64.796875 31.59375 64.796875 \r\nz\r\nM 9.8125 72.90625 \r\nL 30.078125 72.90625 \r\nQ 51.265625 72.90625 61.171875 64.09375 \r\nQ 71.09375 55.28125 71.09375 36.53125 \r\nQ 71.09375 17.671875 61.125 8.828125 \r\nQ 51.171875 0 30.078125 0 \r\nL 9.8125 0 \r\nz\r\n\" id=\"DejaVuSans-68\"/>\r\n       </defs>\r\n       <use xlink:href=\"#DejaVuSans-65\"/>\r\n       <use x=\"68.408203\" xlink:href=\"#DejaVuSans-68\"/>\r\n       <use x=\"145.410156\" xlink:href=\"#DejaVuSans-80\"/>\r\n      </g>\r\n     </g>\r\n    </g>\r\n    <g id=\"xtick_4\">\r\n     <g id=\"line2d_4\">\r\n      <g>\r\n       <use style=\"stroke:#000000;stroke-width:0.8;\" x=\"258.238125\" xlink:href=\"#md17e2385cd\" y=\"659.52\"/>\r\n      </g>\r\n     </g>\r\n     <g id=\"text_4\">\r\n      <!-- X -->\r\n      <g transform=\"translate(254.813125 674.118438)scale(0.1 -0.1)\">\r\n       <defs>\r\n        <path d=\"M 6.296875 72.90625 \r\nL 16.890625 72.90625 \r\nL 35.015625 45.796875 \r\nL 53.21875 72.90625 \r\nL 63.8125 72.90625 \r\nL 40.375 37.890625 \r\nL 65.375 0 \r\nL 54.78125 0 \r\nL 34.28125 31 \r\nL 13.625 0 \r\nL 2.984375 0 \r\nL 29 38.921875 \r\nz\r\n\" id=\"DejaVuSans-88\"/>\r\n       </defs>\r\n       <use xlink:href=\"#DejaVuSans-88\"/>\r\n      </g>\r\n     </g>\r\n    </g>\r\n    <g id=\"xtick_5\">\r\n     <g id=\"line2d_5\">\r\n      <g>\r\n       <use style=\"stroke:#000000;stroke-width:0.8;\" x=\"325.198125\" xlink:href=\"#md17e2385cd\" y=\"659.52\"/>\r\n      </g>\r\n     </g>\r\n     <g id=\"text_5\">\r\n      <!-- VERB -->\r\n      <g transform=\"translate(311.71375 674.118438)scale(0.1 -0.1)\">\r\n       <defs>\r\n        <path d=\"M 28.609375 0 \r\nL 0.78125 72.90625 \r\nL 11.078125 72.90625 \r\nL 34.1875 11.53125 \r\nL 57.328125 72.90625 \r\nL 67.578125 72.90625 \r\nL 39.796875 0 \r\nz\r\n\" id=\"DejaVuSans-86\"/>\r\n        <path d=\"M 9.8125 72.90625 \r\nL 55.90625 72.90625 \r\nL 55.90625 64.59375 \r\nL 19.671875 64.59375 \r\nL 19.671875 43.015625 \r\nL 54.390625 43.015625 \r\nL 54.390625 34.71875 \r\nL 19.671875 34.71875 \r\nL 19.671875 8.296875 \r\nL 56.78125 8.296875 \r\nL 56.78125 0 \r\nL 9.8125 0 \r\nz\r\n\" id=\"DejaVuSans-69\"/>\r\n        <path d=\"M 19.671875 34.8125 \r\nL 19.671875 8.109375 \r\nL 35.5 8.109375 \r\nQ 43.453125 8.109375 47.28125 11.40625 \r\nQ 51.125 14.703125 51.125 21.484375 \r\nQ 51.125 28.328125 47.28125 31.5625 \r\nQ 43.453125 34.8125 35.5 34.8125 \r\nz\r\nM 19.671875 64.796875 \r\nL 19.671875 42.828125 \r\nL 34.28125 42.828125 \r\nQ 41.5 42.828125 45.03125 45.53125 \r\nQ 48.578125 48.25 48.578125 53.8125 \r\nQ 48.578125 59.328125 45.03125 62.0625 \r\nQ 41.5 64.796875 34.28125 64.796875 \r\nz\r\nM 9.8125 72.90625 \r\nL 35.015625 72.90625 \r\nQ 46.296875 72.90625 52.390625 68.21875 \r\nQ 58.5 63.53125 58.5 54.890625 \r\nQ 58.5 48.1875 55.375 44.234375 \r\nQ 52.25 40.28125 46.1875 39.3125 \r\nQ 53.46875 37.75 57.5 32.78125 \r\nQ 61.53125 27.828125 61.53125 20.40625 \r\nQ 61.53125 10.640625 54.890625 5.3125 \r\nQ 48.25 0 35.984375 0 \r\nL 9.8125 0 \r\nz\r\n\" id=\"DejaVuSans-66\"/>\r\n       </defs>\r\n       <use xlink:href=\"#DejaVuSans-86\"/>\r\n       <use x=\"68.408203\" xlink:href=\"#DejaVuSans-69\"/>\r\n       <use x=\"131.591797\" xlink:href=\"#DejaVuSans-82\"/>\r\n       <use x=\"201.074219\" xlink:href=\"#DejaVuSans-66\"/>\r\n      </g>\r\n     </g>\r\n    </g>\r\n    <g id=\"xtick_6\">\r\n     <g id=\"line2d_6\">\r\n      <g>\r\n       <use style=\"stroke:#000000;stroke-width:0.8;\" x=\"392.158125\" xlink:href=\"#md17e2385cd\" y=\"659.52\"/>\r\n      </g>\r\n     </g>\r\n     <g id=\"text_6\">\r\n      <!-- PRON -->\r\n      <g transform=\"translate(377.9925 674.118438)scale(0.1 -0.1)\">\r\n       <defs>\r\n        <path d=\"M 39.40625 66.21875 \r\nQ 28.65625 66.21875 22.328125 58.203125 \r\nQ 16.015625 50.203125 16.015625 36.375 \r\nQ 16.015625 22.609375 22.328125 14.59375 \r\nQ 28.65625 6.59375 39.40625 6.59375 \r\nQ 50.140625 6.59375 56.421875 14.59375 \r\nQ 62.703125 22.609375 62.703125 36.375 \r\nQ 62.703125 50.203125 56.421875 58.203125 \r\nQ 50.140625 66.21875 39.40625 66.21875 \r\nz\r\nM 39.40625 74.21875 \r\nQ 54.734375 74.21875 63.90625 63.9375 \r\nQ 73.09375 53.65625 73.09375 36.375 \r\nQ 73.09375 19.140625 63.90625 8.859375 \r\nQ 54.734375 -1.421875 39.40625 -1.421875 \r\nQ 24.03125 -1.421875 14.8125 8.828125 \r\nQ 5.609375 19.09375 5.609375 36.375 \r\nQ 5.609375 53.65625 14.8125 63.9375 \r\nQ 24.03125 74.21875 39.40625 74.21875 \r\nz\r\n\" id=\"DejaVuSans-79\"/>\r\n       </defs>\r\n       <use xlink:href=\"#DejaVuSans-80\"/>\r\n       <use x=\"60.302734\" xlink:href=\"#DejaVuSans-82\"/>\r\n       <use x=\"129.785156\" xlink:href=\"#DejaVuSans-79\"/>\r\n       <use x=\"208.496094\" xlink:href=\"#DejaVuSans-78\"/>\r\n      </g>\r\n     </g>\r\n    </g>\r\n    <g id=\"xtick_7\">\r\n     <g id=\"line2d_7\">\r\n      <g>\r\n       <use style=\"stroke:#000000;stroke-width:0.8;\" x=\"459.118125\" xlink:href=\"#md17e2385cd\" y=\"659.52\"/>\r\n      </g>\r\n     </g>\r\n     <g id=\"text_7\">\r\n      <!-- . -->\r\n      <g transform=\"translate(457.529063 674.118438)scale(0.1 -0.1)\">\r\n       <defs>\r\n        <path d=\"M 10.6875 12.40625 \r\nL 21 12.40625 \r\nL 21 0 \r\nL 10.6875 0 \r\nz\r\n\" id=\"DejaVuSans-46\"/>\r\n       </defs>\r\n       <use xlink:href=\"#DejaVuSans-46\"/>\r\n      </g>\r\n     </g>\r\n    </g>\r\n    <g id=\"xtick_8\">\r\n     <g id=\"line2d_8\">\r\n      <g>\r\n       <use style=\"stroke:#000000;stroke-width:0.8;\" x=\"526.078125\" xlink:href=\"#md17e2385cd\" y=\"659.52\"/>\r\n      </g>\r\n     </g>\r\n     <g id=\"text_8\">\r\n      <!-- ADJ -->\r\n      <g transform=\"translate(517.332813 674.118438)scale(0.1 -0.1)\">\r\n       <defs>\r\n        <path d=\"M 9.8125 72.90625 \r\nL 19.671875 72.90625 \r\nL 19.671875 5.078125 \r\nQ 19.671875 -8.109375 14.671875 -14.0625 \r\nQ 9.671875 -20.015625 -1.421875 -20.015625 \r\nL -5.171875 -20.015625 \r\nL -5.171875 -11.71875 \r\nL -2.09375 -11.71875 \r\nQ 4.4375 -11.71875 7.125 -8.046875 \r\nQ 9.8125 -4.390625 9.8125 5.078125 \r\nz\r\n\" id=\"DejaVuSans-74\"/>\r\n       </defs>\r\n       <use xlink:href=\"#DejaVuSans-65\"/>\r\n       <use x=\"68.408203\" xlink:href=\"#DejaVuSans-68\"/>\r\n       <use x=\"145.410156\" xlink:href=\"#DejaVuSans-74\"/>\r\n      </g>\r\n     </g>\r\n    </g>\r\n    <g id=\"xtick_9\">\r\n     <g id=\"line2d_9\">\r\n      <g>\r\n       <use style=\"stroke:#000000;stroke-width:0.8;\" x=\"593.038125\" xlink:href=\"#md17e2385cd\" y=\"659.52\"/>\r\n      </g>\r\n     </g>\r\n     <g id=\"text_9\">\r\n      <!-- NOUN -->\r\n      <g transform=\"translate(577.961563 674.118438)scale(0.1 -0.1)\">\r\n       <use xlink:href=\"#DejaVuSans-78\"/>\r\n       <use x=\"74.804688\" xlink:href=\"#DejaVuSans-79\"/>\r\n       <use x=\"153.515625\" xlink:href=\"#DejaVuSans-85\"/>\r\n       <use x=\"226.708984\" xlink:href=\"#DejaVuSans-78\"/>\r\n      </g>\r\n     </g>\r\n    </g>\r\n    <g id=\"xtick_10\">\r\n     <g id=\"line2d_10\">\r\n      <g>\r\n       <use style=\"stroke:#000000;stroke-width:0.8;\" x=\"659.998125\" xlink:href=\"#md17e2385cd\" y=\"659.52\"/>\r\n      </g>\r\n     </g>\r\n     <g id=\"text_10\">\r\n      <!-- DET -->\r\n      <g transform=\"translate(649.934844 674.118438)scale(0.1 -0.1)\">\r\n       <use xlink:href=\"#DejaVuSans-68\"/>\r\n       <use x=\"77.001953\" xlink:href=\"#DejaVuSans-69\"/>\r\n       <use x=\"140.185547\" xlink:href=\"#DejaVuSans-84\"/>\r\n      </g>\r\n     </g>\r\n    </g>\r\n    <g id=\"xtick_11\">\r\n     <g id=\"line2d_11\">\r\n      <g>\r\n       <use style=\"stroke:#000000;stroke-width:0.8;\" x=\"726.958125\" xlink:href=\"#md17e2385cd\" y=\"659.52\"/>\r\n      </g>\r\n     </g>\r\n     <g id=\"text_11\">\r\n      <!-- ADV -->\r\n      <g transform=\"translate(716.355 674.118438)scale(0.1 -0.1)\">\r\n       <use xlink:href=\"#DejaVuSans-65\"/>\r\n       <use x=\"68.408203\" xlink:href=\"#DejaVuSans-68\"/>\r\n       <use x=\"143.660156\" xlink:href=\"#DejaVuSans-86\"/>\r\n      </g>\r\n     </g>\r\n    </g>\r\n    <g id=\"xtick_12\">\r\n     <g id=\"line2d_12\">\r\n      <g>\r\n       <use style=\"stroke:#000000;stroke-width:0.8;\" x=\"793.918125\" xlink:href=\"#md17e2385cd\" y=\"659.52\"/>\r\n      </g>\r\n     </g>\r\n     <g id=\"text_12\">\r\n      <!-- CONJ -->\r\n      <g transform=\"translate(781.275156 674.118438)scale(0.1 -0.1)\">\r\n       <defs>\r\n        <path d=\"M 64.40625 67.28125 \r\nL 64.40625 56.890625 \r\nQ 59.421875 61.53125 53.78125 63.8125 \r\nQ 48.140625 66.109375 41.796875 66.109375 \r\nQ 29.296875 66.109375 22.65625 58.46875 \r\nQ 16.015625 50.828125 16.015625 36.375 \r\nQ 16.015625 21.96875 22.65625 14.328125 \r\nQ 29.296875 6.6875 41.796875 6.6875 \r\nQ 48.140625 6.6875 53.78125 8.984375 \r\nQ 59.421875 11.28125 64.40625 15.921875 \r\nL 64.40625 5.609375 \r\nQ 59.234375 2.09375 53.4375 0.328125 \r\nQ 47.65625 -1.421875 41.21875 -1.421875 \r\nQ 24.65625 -1.421875 15.125 8.703125 \r\nQ 5.609375 18.84375 5.609375 36.375 \r\nQ 5.609375 53.953125 15.125 64.078125 \r\nQ 24.65625 74.21875 41.21875 74.21875 \r\nQ 47.75 74.21875 53.53125 72.484375 \r\nQ 59.328125 70.75 64.40625 67.28125 \r\nz\r\n\" id=\"DejaVuSans-67\"/>\r\n       </defs>\r\n       <use xlink:href=\"#DejaVuSans-67\"/>\r\n       <use x=\"69.824219\" xlink:href=\"#DejaVuSans-79\"/>\r\n       <use x=\"148.535156\" xlink:href=\"#DejaVuSans-78\"/>\r\n       <use x=\"223.339844\" xlink:href=\"#DejaVuSans-74\"/>\r\n      </g>\r\n     </g>\r\n    </g>\r\n   </g>\r\n   <g id=\"matplotlib.axis_2\">\r\n    <g id=\"ytick_1\">\r\n     <g id=\"line2d_13\">\r\n      <defs>\r\n       <path d=\"M 0 0 \r\nL -3.5 0 \r\n\" id=\"mf3752b4ae1\" style=\"stroke:#000000;stroke-width:0.8;\"/>\r\n      </defs>\r\n      <g>\r\n       <use style=\"stroke:#000000;stroke-width:0.8;\" x=\"23.878125\" xlink:href=\"#mf3752b4ae1\" y=\"34.38\"/>\r\n      </g>\r\n     </g>\r\n     <g id=\"text_13\">\r\n      <!-- NUM -->\r\n      <g transform=\"translate(14.798437 54.008906)rotate(-90)scale(0.1 -0.1)\">\r\n       <use xlink:href=\"#DejaVuSans-78\"/>\r\n       <use x=\"74.804688\" xlink:href=\"#DejaVuSans-85\"/>\r\n       <use x=\"147.998047\" xlink:href=\"#DejaVuSans-77\"/>\r\n      </g>\r\n     </g>\r\n    </g>\r\n    <g id=\"ytick_2\">\r\n     <g id=\"line2d_14\">\r\n      <g>\r\n       <use style=\"stroke:#000000;stroke-width:0.8;\" x=\"23.878125\" xlink:href=\"#mf3752b4ae1\" y=\"88.74\"/>\r\n      </g>\r\n     </g>\r\n     <g id=\"text_14\">\r\n      <!-- PRT -->\r\n      <g transform=\"translate(14.798437 103.301719)rotate(-90)scale(0.1 -0.1)\">\r\n       <use xlink:href=\"#DejaVuSans-80\"/>\r\n       <use x=\"60.302734\" xlink:href=\"#DejaVuSans-82\"/>\r\n       <use x=\"122.535156\" xlink:href=\"#DejaVuSans-84\"/>\r\n      </g>\r\n     </g>\r\n    </g>\r\n    <g id=\"ytick_3\">\r\n     <g id=\"line2d_15\">\r\n      <g>\r\n       <use style=\"stroke:#000000;stroke-width:0.8;\" x=\"23.878125\" xlink:href=\"#mf3752b4ae1\" y=\"143.1\"/>\r\n      </g>\r\n     </g>\r\n     <g id=\"text_15\">\r\n      <!-- ADP -->\r\n      <g transform=\"translate(14.798437 159.871094)rotate(-90)scale(0.1 -0.1)\">\r\n       <use xlink:href=\"#DejaVuSans-65\"/>\r\n       <use x=\"68.408203\" xlink:href=\"#DejaVuSans-68\"/>\r\n       <use x=\"145.410156\" xlink:href=\"#DejaVuSans-80\"/>\r\n      </g>\r\n     </g>\r\n    </g>\r\n    <g id=\"ytick_4\">\r\n     <g id=\"line2d_16\">\r\n      <g>\r\n       <use style=\"stroke:#000000;stroke-width:0.8;\" x=\"23.878125\" xlink:href=\"#mf3752b4ae1\" y=\"197.46\"/>\r\n      </g>\r\n     </g>\r\n     <g id=\"text_16\">\r\n      <!-- X -->\r\n      <g transform=\"translate(14.798437 200.510781)rotate(-90)scale(0.1 -0.1)\">\r\n       <use xlink:href=\"#DejaVuSans-88\"/>\r\n      </g>\r\n     </g>\r\n    </g>\r\n    <g id=\"ytick_5\">\r\n     <g id=\"line2d_17\">\r\n      <g>\r\n       <use style=\"stroke:#000000;stroke-width:0.8;\" x=\"23.878125\" xlink:href=\"#mf3752b4ae1\" y=\"251.82\"/>\r\n      </g>\r\n     </g>\r\n     <g id=\"text_17\">\r\n      <!-- VERB -->\r\n      <g transform=\"translate(14.798437 274.989531)rotate(-90)scale(0.1 -0.1)\">\r\n       <use xlink:href=\"#DejaVuSans-86\"/>\r\n       <use x=\"68.408203\" xlink:href=\"#DejaVuSans-69\"/>\r\n       <use x=\"131.591797\" xlink:href=\"#DejaVuSans-82\"/>\r\n       <use x=\"201.074219\" xlink:href=\"#DejaVuSans-66\"/>\r\n      </g>\r\n     </g>\r\n    </g>\r\n    <g id=\"ytick_6\">\r\n     <g id=\"line2d_18\">\r\n      <g>\r\n       <use style=\"stroke:#000000;stroke-width:0.8;\" x=\"23.878125\" xlink:href=\"#mf3752b4ae1\" y=\"306.18\"/>\r\n      </g>\r\n     </g>\r\n     <g id=\"text_18\">\r\n      <!-- PRON -->\r\n      <g transform=\"translate(14.798437 330.712031)rotate(-90)scale(0.1 -0.1)\">\r\n       <use xlink:href=\"#DejaVuSans-80\"/>\r\n       <use x=\"60.302734\" xlink:href=\"#DejaVuSans-82\"/>\r\n       <use x=\"129.785156\" xlink:href=\"#DejaVuSans-79\"/>\r\n       <use x=\"208.496094\" xlink:href=\"#DejaVuSans-78\"/>\r\n      </g>\r\n     </g>\r\n    </g>\r\n    <g id=\"ytick_7\">\r\n     <g id=\"line2d_19\">\r\n      <g>\r\n       <use style=\"stroke:#000000;stroke-width:0.8;\" x=\"23.878125\" xlink:href=\"#mf3752b4ae1\" y=\"360.54\"/>\r\n      </g>\r\n     </g>\r\n     <g id=\"text_19\">\r\n      <!-- . -->\r\n      <g transform=\"translate(14.798437 359.918906)rotate(-90)scale(0.1 -0.1)\">\r\n       <use xlink:href=\"#DejaVuSans-46\"/>\r\n      </g>\r\n     </g>\r\n    </g>\r\n    <g id=\"ytick_8\">\r\n     <g id=\"line2d_20\">\r\n      <g>\r\n       <use style=\"stroke:#000000;stroke-width:0.8;\" x=\"23.878125\" xlink:href=\"#mf3752b4ae1\" y=\"414.9\"/>\r\n      </g>\r\n     </g>\r\n     <g id=\"text_20\">\r\n      <!-- ADJ -->\r\n      <g transform=\"translate(14.798437 428.591406)rotate(-90)scale(0.1 -0.1)\">\r\n       <use xlink:href=\"#DejaVuSans-65\"/>\r\n       <use x=\"68.408203\" xlink:href=\"#DejaVuSans-68\"/>\r\n       <use x=\"145.410156\" xlink:href=\"#DejaVuSans-74\"/>\r\n      </g>\r\n     </g>\r\n    </g>\r\n    <g id=\"ytick_9\">\r\n     <g id=\"line2d_21\">\r\n      <g>\r\n       <use style=\"stroke:#000000;stroke-width:0.8;\" x=\"23.878125\" xlink:href=\"#mf3752b4ae1\" y=\"469.26\"/>\r\n      </g>\r\n     </g>\r\n     <g id=\"text_21\">\r\n      <!-- NOUN -->\r\n      <g transform=\"translate(14.798437 495.613906)rotate(-90)scale(0.1 -0.1)\">\r\n       <use xlink:href=\"#DejaVuSans-78\"/>\r\n       <use x=\"74.804688\" xlink:href=\"#DejaVuSans-79\"/>\r\n       <use x=\"153.515625\" xlink:href=\"#DejaVuSans-85\"/>\r\n       <use x=\"226.708984\" xlink:href=\"#DejaVuSans-78\"/>\r\n      </g>\r\n     </g>\r\n    </g>\r\n    <g id=\"ytick_10\">\r\n     <g id=\"line2d_22\">\r\n      <g>\r\n       <use style=\"stroke:#000000;stroke-width:0.8;\" x=\"23.878125\" xlink:href=\"#mf3752b4ae1\" y=\"523.62\"/>\r\n      </g>\r\n     </g>\r\n     <g id=\"text_22\">\r\n      <!-- DET -->\r\n      <g transform=\"translate(14.798437 539.947344)rotate(-90)scale(0.1 -0.1)\">\r\n       <use xlink:href=\"#DejaVuSans-68\"/>\r\n       <use x=\"77.001953\" xlink:href=\"#DejaVuSans-69\"/>\r\n       <use x=\"140.185547\" xlink:href=\"#DejaVuSans-84\"/>\r\n      </g>\r\n     </g>\r\n    </g>\r\n    <g id=\"ytick_11\">\r\n     <g id=\"line2d_23\">\r\n      <g>\r\n       <use style=\"stroke:#000000;stroke-width:0.8;\" x=\"23.878125\" xlink:href=\"#mf3752b4ae1\" y=\"577.98\"/>\r\n      </g>\r\n     </g>\r\n     <g id=\"text_23\">\r\n      <!-- ADV -->\r\n      <g transform=\"translate(14.798437 595.387031)rotate(-90)scale(0.1 -0.1)\">\r\n       <use xlink:href=\"#DejaVuSans-65\"/>\r\n       <use x=\"68.408203\" xlink:href=\"#DejaVuSans-68\"/>\r\n       <use x=\"143.660156\" xlink:href=\"#DejaVuSans-86\"/>\r\n      </g>\r\n     </g>\r\n    </g>\r\n    <g id=\"ytick_12\">\r\n     <g id=\"line2d_24\">\r\n      <g>\r\n       <use style=\"stroke:#000000;stroke-width:0.8;\" x=\"23.878125\" xlink:href=\"#mf3752b4ae1\" y=\"632.34\"/>\r\n      </g>\r\n     </g>\r\n     <g id=\"text_24\">\r\n      <!-- CONJ -->\r\n      <g transform=\"translate(14.798437 653.826719)rotate(-90)scale(0.1 -0.1)\">\r\n       <use xlink:href=\"#DejaVuSans-67\"/>\r\n       <use x=\"69.824219\" xlink:href=\"#DejaVuSans-79\"/>\r\n       <use x=\"148.535156\" xlink:href=\"#DejaVuSans-78\"/>\r\n       <use x=\"223.339844\" xlink:href=\"#DejaVuSans-74\"/>\r\n      </g>\r\n     </g>\r\n    </g>\r\n   </g>\r\n  </g>\r\n  <g id=\"axes_2\">\r\n   <g id=\"patch_3\">\r\n    <path clip-path=\"url(#pfb8d860c2f)\" d=\"M 877.618125 659.52 \r\nL 877.618125 656.971875 \r\nL 877.618125 9.748125 \r\nL 877.618125 7.2 \r\nL 910.234125 7.2 \r\nL 910.234125 9.748125 \r\nL 910.234125 656.971875 \r\nL 910.234125 659.52 \r\nz\r\n\" style=\"fill:#ffffff;stroke:#ffffff;stroke-linejoin:miter;stroke-width:0.01;\"/>\r\n   </g>\r\n   <image height=\"652\" id=\"image8e9222fecb\" transform=\"scale(1 -1)translate(0 -652)\" width=\"32\" x=\"878\" xlink:href=\"data:image/png;base64,\r\niVBORw0KGgoAAAANSUhEUgAAACAAAAKMCAYAAACKO7pIAAADKklEQVR4nO3di20kMQwEUVHmJXH552mHUQPoKYEtUMUmZ8ef+fn3//eE55Yffs45OzHAByowbQ3yCuQAriAH2DmPXwEJc4C9r1+BNswBSCgJc4C9r+cACXMASZgD6AJJmAOQ0FqeAxhG2jAHMIxImAOQcGdahrwCOYCNKAewEZEwByAhCXMAEpIwByAhCXMAz4a+oMgBSJgD6ALDKAeQA9owByChCuQAfsvG03EOYCOShDmAjSgH0AWSMAfYmqD+fEnYA0hCSZgDSEJtmAMYRjmAHDCMcgBRrA1zADmgDXMAr2y8sskBDCOzIAcgYQ6gC0iYA1hK7YQ5AAklYQ5gHJMwBzCMzIIcQA7kAHJADuQAckAb5gByYG/634w+UIEcQBJKwhyAhDmAYSQHcgA5YCPKAeSANswBXIEkzAEkoTbMAVxBDrDzehSTMAdwBTaiHMBGpA1zADmgDXOAvae18AMVeL0NcwDDKAcQxXt/H0/CHEAOaMMcwEZkI8oBdkgYA9Sf3wO4ghxADpAwByChnTAH2Bs/GvUVeL4NcwDDaCf+IZK8AjnA3tevwLdkOQAJcwBRTMIcYOM/1vuJCpCwPXJAG+YAckAb5gA78bvbD1RAEsaHhDmAYWQY5QA7McIHKkDC+BhGNqIcgIQqkAPIgRxAF9gJcwBLKQlzAElIwhxgjyQkYXxcgQrkAFsj5BXIAXQBCXMAEpIwB9iJf9err0CNkFcgByAhCXOAPc9L+Hwb5gByIAeQA3IgByChCuQAO/FPsfQVIGEN4Ar23JYhr0AOQEI7YQ5AwhxgT/zO5gMVIGF8XMGOjSg+JDQLcgASejbMAUiYA4hiEuYAllIS5gCSkIQ5gKV0z+tvTnMAEqpADmAY5QA2IjmQA3h7rg1zADmgAjmAJyMS5gCGEQlzAFeQAxhGJMwBXIFxnAOQkIQ5AAlJmAOQMAdwBXIgByAhCXMAEpIwByDhzvykAHkFcgASqkAOYBjlALqAhDnAnvv4PkDCHEASkjAH8GSkDXMAOUDCHICEOYC1nIQ5gCjeIWF8SCgJcwDjmIQ5gCTMAewDJMwBRLFxnAP8AaqnMNcomXVLAAAAAElFTkSuQmCC\" y=\"-7\"/>\r\n   <g id=\"matplotlib.axis_3\"/>\r\n   <g id=\"matplotlib.axis_4\">\r\n    <g id=\"ytick_13\">\r\n     <g id=\"line2d_25\">\r\n      <defs>\r\n       <path d=\"M 0 0 \r\nL 3.5 0 \r\n\" id=\"m27be6a5729\" style=\"stroke:#000000;stroke-width:0.8;\"/>\r\n      </defs>\r\n      <g>\r\n       <use style=\"stroke:#000000;stroke-width:0.8;\" x=\"910.234125\" xlink:href=\"#m27be6a5729\" y=\"566.35824\"/>\r\n      </g>\r\n     </g>\r\n     <g id=\"text_25\">\r\n      <!-- 0.1 -->\r\n      <g transform=\"translate(917.234125 570.157459)scale(0.1 -0.1)\">\r\n       <defs>\r\n        <path d=\"M 31.78125 66.40625 \r\nQ 24.171875 66.40625 20.328125 58.90625 \r\nQ 16.5 51.421875 16.5 36.375 \r\nQ 16.5 21.390625 20.328125 13.890625 \r\nQ 24.171875 6.390625 31.78125 6.390625 \r\nQ 39.453125 6.390625 43.28125 13.890625 \r\nQ 47.125 21.390625 47.125 36.375 \r\nQ 47.125 51.421875 43.28125 58.90625 \r\nQ 39.453125 66.40625 31.78125 66.40625 \r\nz\r\nM 31.78125 74.21875 \r\nQ 44.046875 74.21875 50.515625 64.515625 \r\nQ 56.984375 54.828125 56.984375 36.375 \r\nQ 56.984375 17.96875 50.515625 8.265625 \r\nQ 44.046875 -1.421875 31.78125 -1.421875 \r\nQ 19.53125 -1.421875 13.0625 8.265625 \r\nQ 6.59375 17.96875 6.59375 36.375 \r\nQ 6.59375 54.828125 13.0625 64.515625 \r\nQ 19.53125 74.21875 31.78125 74.21875 \r\nz\r\n\" id=\"DejaVuSans-48\"/>\r\n        <path d=\"M 12.40625 8.296875 \r\nL 28.515625 8.296875 \r\nL 28.515625 63.921875 \r\nL 10.984375 60.40625 \r\nL 10.984375 69.390625 \r\nL 28.421875 72.90625 \r\nL 38.28125 72.90625 \r\nL 38.28125 8.296875 \r\nL 54.390625 8.296875 \r\nL 54.390625 0 \r\nL 12.40625 0 \r\nz\r\n\" id=\"DejaVuSans-49\"/>\r\n       </defs>\r\n       <use xlink:href=\"#DejaVuSans-48\"/>\r\n       <use x=\"63.623047\" xlink:href=\"#DejaVuSans-46\"/>\r\n       <use x=\"95.410156\" xlink:href=\"#DejaVuSans-49\"/>\r\n      </g>\r\n     </g>\r\n    </g>\r\n    <g id=\"ytick_14\">\r\n     <g id=\"line2d_26\">\r\n      <g>\r\n       <use style=\"stroke:#000000;stroke-width:0.8;\" x=\"910.234125\" xlink:href=\"#m27be6a5729\" y=\"472.972802\"/>\r\n      </g>\r\n     </g>\r\n     <g id=\"text_26\">\r\n      <!-- 0.2 -->\r\n      <g transform=\"translate(917.234125 476.772021)scale(0.1 -0.1)\">\r\n       <defs>\r\n        <path d=\"M 19.1875 8.296875 \r\nL 53.609375 8.296875 \r\nL 53.609375 0 \r\nL 7.328125 0 \r\nL 7.328125 8.296875 \r\nQ 12.9375 14.109375 22.625 23.890625 \r\nQ 32.328125 33.6875 34.8125 36.53125 \r\nQ 39.546875 41.84375 41.421875 45.53125 \r\nQ 43.3125 49.21875 43.3125 52.78125 \r\nQ 43.3125 58.59375 39.234375 62.25 \r\nQ 35.15625 65.921875 28.609375 65.921875 \r\nQ 23.96875 65.921875 18.8125 64.3125 \r\nQ 13.671875 62.703125 7.8125 59.421875 \r\nL 7.8125 69.390625 \r\nQ 13.765625 71.78125 18.9375 73 \r\nQ 24.125 74.21875 28.421875 74.21875 \r\nQ 39.75 74.21875 46.484375 68.546875 \r\nQ 53.21875 62.890625 53.21875 53.421875 \r\nQ 53.21875 48.921875 51.53125 44.890625 \r\nQ 49.859375 40.875 45.40625 35.40625 \r\nQ 44.1875 33.984375 37.640625 27.21875 \r\nQ 31.109375 20.453125 19.1875 8.296875 \r\nz\r\n\" id=\"DejaVuSans-50\"/>\r\n       </defs>\r\n       <use xlink:href=\"#DejaVuSans-48\"/>\r\n       <use x=\"63.623047\" xlink:href=\"#DejaVuSans-46\"/>\r\n       <use x=\"95.410156\" xlink:href=\"#DejaVuSans-50\"/>\r\n      </g>\r\n     </g>\r\n    </g>\r\n    <g id=\"ytick_15\">\r\n     <g id=\"line2d_27\">\r\n      <g>\r\n       <use style=\"stroke:#000000;stroke-width:0.8;\" x=\"910.234125\" xlink:href=\"#m27be6a5729\" y=\"379.587364\"/>\r\n      </g>\r\n     </g>\r\n     <g id=\"text_27\">\r\n      <!-- 0.3 -->\r\n      <g transform=\"translate(917.234125 383.386583)scale(0.1 -0.1)\">\r\n       <defs>\r\n        <path d=\"M 40.578125 39.3125 \r\nQ 47.65625 37.796875 51.625 33 \r\nQ 55.609375 28.21875 55.609375 21.1875 \r\nQ 55.609375 10.40625 48.1875 4.484375 \r\nQ 40.765625 -1.421875 27.09375 -1.421875 \r\nQ 22.515625 -1.421875 17.65625 -0.515625 \r\nQ 12.796875 0.390625 7.625 2.203125 \r\nL 7.625 11.71875 \r\nQ 11.71875 9.328125 16.59375 8.109375 \r\nQ 21.484375 6.890625 26.8125 6.890625 \r\nQ 36.078125 6.890625 40.9375 10.546875 \r\nQ 45.796875 14.203125 45.796875 21.1875 \r\nQ 45.796875 27.640625 41.28125 31.265625 \r\nQ 36.765625 34.90625 28.71875 34.90625 \r\nL 20.21875 34.90625 \r\nL 20.21875 43.015625 \r\nL 29.109375 43.015625 \r\nQ 36.375 43.015625 40.234375 45.921875 \r\nQ 44.09375 48.828125 44.09375 54.296875 \r\nQ 44.09375 59.90625 40.109375 62.90625 \r\nQ 36.140625 65.921875 28.71875 65.921875 \r\nQ 24.65625 65.921875 20.015625 65.03125 \r\nQ 15.375 64.15625 9.8125 62.3125 \r\nL 9.8125 71.09375 \r\nQ 15.4375 72.65625 20.34375 73.4375 \r\nQ 25.25 74.21875 29.59375 74.21875 \r\nQ 40.828125 74.21875 47.359375 69.109375 \r\nQ 53.90625 64.015625 53.90625 55.328125 \r\nQ 53.90625 49.265625 50.4375 45.09375 \r\nQ 46.96875 40.921875 40.578125 39.3125 \r\nz\r\n\" id=\"DejaVuSans-51\"/>\r\n       </defs>\r\n       <use xlink:href=\"#DejaVuSans-48\"/>\r\n       <use x=\"63.623047\" xlink:href=\"#DejaVuSans-46\"/>\r\n       <use x=\"95.410156\" xlink:href=\"#DejaVuSans-51\"/>\r\n      </g>\r\n     </g>\r\n    </g>\r\n    <g id=\"ytick_16\">\r\n     <g id=\"line2d_28\">\r\n      <g>\r\n       <use style=\"stroke:#000000;stroke-width:0.8;\" x=\"910.234125\" xlink:href=\"#m27be6a5729\" y=\"286.201927\"/>\r\n      </g>\r\n     </g>\r\n     <g id=\"text_28\">\r\n      <!-- 0.4 -->\r\n      <g transform=\"translate(917.234125 290.001145)scale(0.1 -0.1)\">\r\n       <defs>\r\n        <path d=\"M 37.796875 64.3125 \r\nL 12.890625 25.390625 \r\nL 37.796875 25.390625 \r\nz\r\nM 35.203125 72.90625 \r\nL 47.609375 72.90625 \r\nL 47.609375 25.390625 \r\nL 58.015625 25.390625 \r\nL 58.015625 17.1875 \r\nL 47.609375 17.1875 \r\nL 47.609375 0 \r\nL 37.796875 0 \r\nL 37.796875 17.1875 \r\nL 4.890625 17.1875 \r\nL 4.890625 26.703125 \r\nz\r\n\" id=\"DejaVuSans-52\"/>\r\n       </defs>\r\n       <use xlink:href=\"#DejaVuSans-48\"/>\r\n       <use x=\"63.623047\" xlink:href=\"#DejaVuSans-46\"/>\r\n       <use x=\"95.410156\" xlink:href=\"#DejaVuSans-52\"/>\r\n      </g>\r\n     </g>\r\n    </g>\r\n    <g id=\"ytick_17\">\r\n     <g id=\"line2d_29\">\r\n      <g>\r\n       <use style=\"stroke:#000000;stroke-width:0.8;\" x=\"910.234125\" xlink:href=\"#m27be6a5729\" y=\"192.816489\"/>\r\n      </g>\r\n     </g>\r\n     <g id=\"text_29\">\r\n      <!-- 0.5 -->\r\n      <g transform=\"translate(917.234125 196.615708)scale(0.1 -0.1)\">\r\n       <defs>\r\n        <path d=\"M 10.796875 72.90625 \r\nL 49.515625 72.90625 \r\nL 49.515625 64.59375 \r\nL 19.828125 64.59375 \r\nL 19.828125 46.734375 \r\nQ 21.96875 47.46875 24.109375 47.828125 \r\nQ 26.265625 48.1875 28.421875 48.1875 \r\nQ 40.625 48.1875 47.75 41.5 \r\nQ 54.890625 34.8125 54.890625 23.390625 \r\nQ 54.890625 11.625 47.5625 5.09375 \r\nQ 40.234375 -1.421875 26.90625 -1.421875 \r\nQ 22.3125 -1.421875 17.546875 -0.640625 \r\nQ 12.796875 0.140625 7.71875 1.703125 \r\nL 7.71875 11.625 \r\nQ 12.109375 9.234375 16.796875 8.0625 \r\nQ 21.484375 6.890625 26.703125 6.890625 \r\nQ 35.15625 6.890625 40.078125 11.328125 \r\nQ 45.015625 15.765625 45.015625 23.390625 \r\nQ 45.015625 31 40.078125 35.4375 \r\nQ 35.15625 39.890625 26.703125 39.890625 \r\nQ 22.75 39.890625 18.8125 39.015625 \r\nQ 14.890625 38.140625 10.796875 36.28125 \r\nz\r\n\" id=\"DejaVuSans-53\"/>\r\n       </defs>\r\n       <use xlink:href=\"#DejaVuSans-48\"/>\r\n       <use x=\"63.623047\" xlink:href=\"#DejaVuSans-46\"/>\r\n       <use x=\"95.410156\" xlink:href=\"#DejaVuSans-53\"/>\r\n      </g>\r\n     </g>\r\n    </g>\r\n    <g id=\"ytick_18\">\r\n     <g id=\"line2d_30\">\r\n      <g>\r\n       <use style=\"stroke:#000000;stroke-width:0.8;\" x=\"910.234125\" xlink:href=\"#m27be6a5729\" y=\"99.431051\"/>\r\n      </g>\r\n     </g>\r\n     <g id=\"text_30\">\r\n      <!-- 0.6 -->\r\n      <g transform=\"translate(917.234125 103.23027)scale(0.1 -0.1)\">\r\n       <defs>\r\n        <path d=\"M 33.015625 40.375 \r\nQ 26.375 40.375 22.484375 35.828125 \r\nQ 18.609375 31.296875 18.609375 23.390625 \r\nQ 18.609375 15.53125 22.484375 10.953125 \r\nQ 26.375 6.390625 33.015625 6.390625 \r\nQ 39.65625 6.390625 43.53125 10.953125 \r\nQ 47.40625 15.53125 47.40625 23.390625 \r\nQ 47.40625 31.296875 43.53125 35.828125 \r\nQ 39.65625 40.375 33.015625 40.375 \r\nz\r\nM 52.59375 71.296875 \r\nL 52.59375 62.3125 \r\nQ 48.875 64.0625 45.09375 64.984375 \r\nQ 41.3125 65.921875 37.59375 65.921875 \r\nQ 27.828125 65.921875 22.671875 59.328125 \r\nQ 17.53125 52.734375 16.796875 39.40625 \r\nQ 19.671875 43.65625 24.015625 45.921875 \r\nQ 28.375 48.1875 33.59375 48.1875 \r\nQ 44.578125 48.1875 50.953125 41.515625 \r\nQ 57.328125 34.859375 57.328125 23.390625 \r\nQ 57.328125 12.15625 50.6875 5.359375 \r\nQ 44.046875 -1.421875 33.015625 -1.421875 \r\nQ 20.359375 -1.421875 13.671875 8.265625 \r\nQ 6.984375 17.96875 6.984375 36.375 \r\nQ 6.984375 53.65625 15.1875 63.9375 \r\nQ 23.390625 74.21875 37.203125 74.21875 \r\nQ 40.921875 74.21875 44.703125 73.484375 \r\nQ 48.484375 72.75 52.59375 71.296875 \r\nz\r\n\" id=\"DejaVuSans-54\"/>\r\n       </defs>\r\n       <use xlink:href=\"#DejaVuSans-48\"/>\r\n       <use x=\"63.623047\" xlink:href=\"#DejaVuSans-46\"/>\r\n       <use x=\"95.410156\" xlink:href=\"#DejaVuSans-54\"/>\r\n      </g>\r\n     </g>\r\n    </g>\r\n   </g>\r\n   <g id=\"patch_4\">\r\n    <path d=\"M 877.618125 659.52 \r\nL 877.618125 656.971875 \r\nL 877.618125 9.748125 \r\nL 877.618125 7.2 \r\nL 910.234125 7.2 \r\nL 910.234125 9.748125 \r\nL 910.234125 656.971875 \r\nL 910.234125 659.52 \r\nz\r\n\" style=\"fill:none;\"/>\r\n   </g>\r\n  </g>\r\n </g>\r\n <defs>\r\n  <clipPath id=\"pda1dacea06\">\r\n   <rect height=\"652.32\" width=\"803.52\" x=\"23.878125\" y=\"7.2\"/>\r\n  </clipPath>\r\n  <clipPath id=\"pfb8d860c2f\">\r\n   <rect height=\"652.32\" width=\"32.616\" x=\"877.618125\" y=\"7.2\"/>\r\n  </clipPath>\r\n </defs>\r\n</svg>\r\n",
      "image/png": "[encoded data removed]"
     },
     "metadata": {
      "needs_background": "light"
     }
    }
   ],
   "source": [
    "# heatmap of tags matrix\n",
    "# T(i, j) means P(tag j given tag i)\n",
    "plt.figure(figsize=(18, 12))\n",
    "sns.heatmap(tags_df)\n",
    "plt.show()"
   ]
  },
  {
   "cell_type": "code",
   "execution_count": 18,
   "metadata": {},
   "outputs": [
    {
     "output_type": "display_data",
     "data": {
      "text/plain": "<Figure size 1296x864 with 2 Axes>",
      "image/svg+xml": "<?xml version=\"1.0\" encoding=\"utf-8\" standalone=\"no\"?>\r\n<!DOCTYPE svg PUBLIC \"-//W3C//DTD SVG 1.1//EN\"\r\n  \"http://www.w3.org/Graphics/SVG/1.1/DTD/svg11.dtd\">\r\n<!-- Created with matplotlib (https://matplotlib.org/) -->\r\n<svg height=\"683.398125pt\" version=\"1.1\" viewBox=\"0 0 946.69975 683.398125\" width=\"946.69975pt\" xmlns=\"http://www.w3.org/2000/svg\" xmlns:xlink=\"http://www.w3.org/1999/xlink\">\r\n <metadata>\r\n  <rdf:RDF xmlns:cc=\"http://creativecommons.org/ns#\" xmlns:dc=\"http://purl.org/dc/elements/1.1/\" xmlns:rdf=\"http://www.w3.org/1999/02/22-rdf-syntax-ns#\">\r\n   <cc:Work>\r\n    <dc:type rdf:resource=\"http://purl.org/dc/dcmitype/StillImage\"/>\r\n    <dc:date>2021-02-23T23:11:01.400625</dc:date>\r\n    <dc:format>image/svg+xml</dc:format>\r\n    <dc:creator>\r\n     <cc:Agent>\r\n      <dc:title>Matplotlib v3.3.4, https://matplotlib.org/</dc:title>\r\n     </cc:Agent>\r\n    </dc:creator>\r\n   </cc:Work>\r\n  </rdf:RDF>\r\n </metadata>\r\n <defs>\r\n  <style type=\"text/css\">*{stroke-linecap:butt;stroke-linejoin:round;}</style>\r\n </defs>\r\n <g id=\"figure_1\">\r\n  <g id=\"patch_1\">\r\n   <path d=\"M 0 683.398125 \r\nL 946.69975 683.398125 \r\nL 946.69975 0 \r\nL 0 0 \r\nz\r\n\" style=\"fill:none;\"/>\r\n  </g>\r\n  <g id=\"axes_1\">\r\n   <g id=\"patch_2\">\r\n    <path d=\"M 23.878125 659.52 \r\nL 827.398125 659.52 \r\nL 827.398125 7.2 \r\nL 23.878125 7.2 \r\nz\r\n\" style=\"fill:#ffffff;\"/>\r\n   </g>\r\n   <g id=\"QuadMesh_1\">\r\n    <path clip-path=\"url(#pc86e80bbe4)\" d=\"M 23.878125 7.2 \r\nL 90.838125 7.2 \r\nL 90.838125 61.56 \r\nL 23.878125 61.56 \r\nL 23.878125 7.2 \r\n\" style=\"fill:none;\"/>\r\n    <path clip-path=\"url(#pc86e80bbe4)\" d=\"M 90.838125 7.2 \r\nL 157.798125 7.2 \r\nL 157.798125 61.56 \r\nL 90.838125 61.56 \r\nL 90.838125 7.2 \r\n\" style=\"fill:none;\"/>\r\n    <path clip-path=\"url(#pc86e80bbe4)\" d=\"M 157.798125 7.2 \r\nL 224.758125 7.2 \r\nL 224.758125 61.56 \r\nL 157.798125 61.56 \r\nL 157.798125 7.2 \r\n\" style=\"fill:none;\"/>\r\n    <path clip-path=\"url(#pc86e80bbe4)\" d=\"M 224.758125 7.2 \r\nL 291.718125 7.2 \r\nL 291.718125 61.56 \r\nL 224.758125 61.56 \r\nL 224.758125 7.2 \r\n\" style=\"fill:none;\"/>\r\n    <path clip-path=\"url(#pc86e80bbe4)\" d=\"M 291.718125 7.2 \r\nL 358.678125 7.2 \r\nL 358.678125 61.56 \r\nL 291.718125 61.56 \r\nL 291.718125 7.2 \r\n\" style=\"fill:none;\"/>\r\n    <path clip-path=\"url(#pc86e80bbe4)\" d=\"M 358.678125 7.2 \r\nL 425.638125 7.2 \r\nL 425.638125 61.56 \r\nL 358.678125 61.56 \r\nL 358.678125 7.2 \r\n\" style=\"fill:none;\"/>\r\n    <path clip-path=\"url(#pc86e80bbe4)\" d=\"M 425.638125 7.2 \r\nL 492.598125 7.2 \r\nL 492.598125 61.56 \r\nL 425.638125 61.56 \r\nL 425.638125 7.2 \r\n\" style=\"fill:none;\"/>\r\n    <path clip-path=\"url(#pc86e80bbe4)\" d=\"M 492.598125 7.2 \r\nL 559.558125 7.2 \r\nL 559.558125 61.56 \r\nL 492.598125 61.56 \r\nL 492.598125 7.2 \r\n\" style=\"fill:none;\"/>\r\n    <path clip-path=\"url(#pc86e80bbe4)\" d=\"M 559.558125 7.2 \r\nL 626.518125 7.2 \r\nL 626.518125 61.56 \r\nL 559.558125 61.56 \r\nL 559.558125 7.2 \r\n\" style=\"fill:none;\"/>\r\n    <path clip-path=\"url(#pc86e80bbe4)\" d=\"M 626.518125 7.2 \r\nL 693.478125 7.2 \r\nL 693.478125 61.56 \r\nL 626.518125 61.56 \r\nL 626.518125 7.2 \r\n\" style=\"fill:none;\"/>\r\n    <path clip-path=\"url(#pc86e80bbe4)\" d=\"M 693.478125 7.2 \r\nL 760.438125 7.2 \r\nL 760.438125 61.56 \r\nL 693.478125 61.56 \r\nL 693.478125 7.2 \r\n\" style=\"fill:none;\"/>\r\n    <path clip-path=\"url(#pc86e80bbe4)\" d=\"M 760.438125 7.2 \r\nL 827.398125 7.2 \r\nL 827.398125 61.56 \r\nL 760.438125 61.56 \r\nL 760.438125 7.2 \r\n\" style=\"fill:none;\"/>\r\n    <path clip-path=\"url(#pc86e80bbe4)\" d=\"M 23.878125 61.56 \r\nL 90.838125 61.56 \r\nL 90.838125 115.92 \r\nL 23.878125 115.92 \r\nL 23.878125 61.56 \r\n\" style=\"fill:none;\"/>\r\n    <path clip-path=\"url(#pc86e80bbe4)\" d=\"M 90.838125 61.56 \r\nL 157.798125 61.56 \r\nL 157.798125 115.92 \r\nL 90.838125 115.92 \r\nL 90.838125 61.56 \r\n\" style=\"fill:none;\"/>\r\n    <path clip-path=\"url(#pc86e80bbe4)\" d=\"M 157.798125 61.56 \r\nL 224.758125 61.56 \r\nL 224.758125 115.92 \r\nL 157.798125 115.92 \r\nL 157.798125 61.56 \r\n\" style=\"fill:none;\"/>\r\n    <path clip-path=\"url(#pc86e80bbe4)\" d=\"M 224.758125 61.56 \r\nL 291.718125 61.56 \r\nL 291.718125 115.92 \r\nL 224.758125 115.92 \r\nL 224.758125 61.56 \r\n\" style=\"fill:none;\"/>\r\n    <path clip-path=\"url(#pc86e80bbe4)\" d=\"M 291.718125 61.56 \r\nL 358.678125 61.56 \r\nL 358.678125 115.92 \r\nL 291.718125 115.92 \r\nL 291.718125 61.56 \r\n\" style=\"fill:none;\"/>\r\n    <path clip-path=\"url(#pc86e80bbe4)\" d=\"M 358.678125 61.56 \r\nL 425.638125 61.56 \r\nL 425.638125 115.92 \r\nL 358.678125 115.92 \r\nL 358.678125 61.56 \r\n\" style=\"fill:none;\"/>\r\n    <path clip-path=\"url(#pc86e80bbe4)\" d=\"M 425.638125 61.56 \r\nL 492.598125 61.56 \r\nL 492.598125 115.92 \r\nL 425.638125 115.92 \r\nL 425.638125 61.56 \r\n\" style=\"fill:none;\"/>\r\n    <path clip-path=\"url(#pc86e80bbe4)\" d=\"M 492.598125 61.56 \r\nL 559.558125 61.56 \r\nL 559.558125 115.92 \r\nL 492.598125 115.92 \r\nL 492.598125 61.56 \r\n\" style=\"fill:none;\"/>\r\n    <path clip-path=\"url(#pc86e80bbe4)\" d=\"M 559.558125 61.56 \r\nL 626.518125 61.56 \r\nL 626.518125 115.92 \r\nL 559.558125 115.92 \r\nL 559.558125 61.56 \r\n\" style=\"fill:none;\"/>\r\n    <path clip-path=\"url(#pc86e80bbe4)\" d=\"M 626.518125 61.56 \r\nL 693.478125 61.56 \r\nL 693.478125 115.92 \r\nL 626.518125 115.92 \r\nL 626.518125 61.56 \r\n\" style=\"fill:none;\"/>\r\n    <path clip-path=\"url(#pc86e80bbe4)\" d=\"M 693.478125 61.56 \r\nL 760.438125 61.56 \r\nL 760.438125 115.92 \r\nL 693.478125 115.92 \r\nL 693.478125 61.56 \r\n\" style=\"fill:none;\"/>\r\n    <path clip-path=\"url(#pc86e80bbe4)\" d=\"M 760.438125 61.56 \r\nL 827.398125 61.56 \r\nL 827.398125 115.92 \r\nL 760.438125 115.92 \r\nL 760.438125 61.56 \r\n\" style=\"fill:none;\"/>\r\n    <path clip-path=\"url(#pc86e80bbe4)\" d=\"M 23.878125 115.92 \r\nL 90.838125 115.92 \r\nL 90.838125 170.28 \r\nL 23.878125 170.28 \r\nL 23.878125 115.92 \r\n\" style=\"fill:none;\"/>\r\n    <path clip-path=\"url(#pc86e80bbe4)\" d=\"M 90.838125 115.92 \r\nL 157.798125 115.92 \r\nL 157.798125 170.28 \r\nL 90.838125 170.28 \r\nL 90.838125 115.92 \r\n\" style=\"fill:none;\"/>\r\n    <path clip-path=\"url(#pc86e80bbe4)\" d=\"M 157.798125 115.92 \r\nL 224.758125 115.92 \r\nL 224.758125 170.28 \r\nL 157.798125 170.28 \r\nL 157.798125 115.92 \r\n\" style=\"fill:none;\"/>\r\n    <path clip-path=\"url(#pc86e80bbe4)\" d=\"M 224.758125 115.92 \r\nL 291.718125 115.92 \r\nL 291.718125 170.28 \r\nL 224.758125 170.28 \r\nL 224.758125 115.92 \r\n\" style=\"fill:none;\"/>\r\n    <path clip-path=\"url(#pc86e80bbe4)\" d=\"M 291.718125 115.92 \r\nL 358.678125 115.92 \r\nL 358.678125 170.28 \r\nL 291.718125 170.28 \r\nL 291.718125 115.92 \r\n\" style=\"fill:none;\"/>\r\n    <path clip-path=\"url(#pc86e80bbe4)\" d=\"M 358.678125 115.92 \r\nL 425.638125 115.92 \r\nL 425.638125 170.28 \r\nL 358.678125 170.28 \r\nL 358.678125 115.92 \r\n\" style=\"fill:none;\"/>\r\n    <path clip-path=\"url(#pc86e80bbe4)\" d=\"M 425.638125 115.92 \r\nL 492.598125 115.92 \r\nL 492.598125 170.28 \r\nL 425.638125 170.28 \r\nL 425.638125 115.92 \r\n\" style=\"fill:none;\"/>\r\n    <path clip-path=\"url(#pc86e80bbe4)\" d=\"M 492.598125 115.92 \r\nL 559.558125 115.92 \r\nL 559.558125 170.28 \r\nL 492.598125 170.28 \r\nL 492.598125 115.92 \r\n\" style=\"fill:none;\"/>\r\n    <path clip-path=\"url(#pc86e80bbe4)\" d=\"M 559.558125 115.92 \r\nL 626.518125 115.92 \r\nL 626.518125 170.28 \r\nL 559.558125 170.28 \r\nL 559.558125 115.92 \r\n\" style=\"fill:none;\"/>\r\n    <path clip-path=\"url(#pc86e80bbe4)\" d=\"M 626.518125 115.92 \r\nL 693.478125 115.92 \r\nL 693.478125 170.28 \r\nL 626.518125 170.28 \r\nL 626.518125 115.92 \r\n\" style=\"fill:none;\"/>\r\n    <path clip-path=\"url(#pc86e80bbe4)\" d=\"M 693.478125 115.92 \r\nL 760.438125 115.92 \r\nL 760.438125 170.28 \r\nL 693.478125 170.28 \r\nL 693.478125 115.92 \r\n\" style=\"fill:none;\"/>\r\n    <path clip-path=\"url(#pc86e80bbe4)\" d=\"M 760.438125 115.92 \r\nL 827.398125 115.92 \r\nL 827.398125 170.28 \r\nL 760.438125 170.28 \r\nL 760.438125 115.92 \r\n\" style=\"fill:none;\"/>\r\n    <path clip-path=\"url(#pc86e80bbe4)\" d=\"M 23.878125 170.28 \r\nL 90.838125 170.28 \r\nL 90.838125 224.64 \r\nL 23.878125 224.64 \r\nL 23.878125 170.28 \r\n\" style=\"fill:none;\"/>\r\n    <path clip-path=\"url(#pc86e80bbe4)\" d=\"M 90.838125 170.28 \r\nL 157.798125 170.28 \r\nL 157.798125 224.64 \r\nL 90.838125 224.64 \r\nL 90.838125 170.28 \r\n\" style=\"fill:none;\"/>\r\n    <path clip-path=\"url(#pc86e80bbe4)\" d=\"M 157.798125 170.28 \r\nL 224.758125 170.28 \r\nL 224.758125 224.64 \r\nL 157.798125 224.64 \r\nL 157.798125 170.28 \r\n\" style=\"fill:none;\"/>\r\n    <path clip-path=\"url(#pc86e80bbe4)\" d=\"M 224.758125 170.28 \r\nL 291.718125 170.28 \r\nL 291.718125 224.64 \r\nL 224.758125 224.64 \r\nL 224.758125 170.28 \r\n\" style=\"fill:none;\"/>\r\n    <path clip-path=\"url(#pc86e80bbe4)\" d=\"M 291.718125 170.28 \r\nL 358.678125 170.28 \r\nL 358.678125 224.64 \r\nL 291.718125 224.64 \r\nL 291.718125 170.28 \r\n\" style=\"fill:none;\"/>\r\n    <path clip-path=\"url(#pc86e80bbe4)\" d=\"M 358.678125 170.28 \r\nL 425.638125 170.28 \r\nL 425.638125 224.64 \r\nL 358.678125 224.64 \r\nL 358.678125 170.28 \r\n\" style=\"fill:none;\"/>\r\n    <path clip-path=\"url(#pc86e80bbe4)\" d=\"M 425.638125 170.28 \r\nL 492.598125 170.28 \r\nL 492.598125 224.64 \r\nL 425.638125 224.64 \r\nL 425.638125 170.28 \r\n\" style=\"fill:none;\"/>\r\n    <path clip-path=\"url(#pc86e80bbe4)\" d=\"M 492.598125 170.28 \r\nL 559.558125 170.28 \r\nL 559.558125 224.64 \r\nL 492.598125 224.64 \r\nL 492.598125 170.28 \r\n\" style=\"fill:none;\"/>\r\n    <path clip-path=\"url(#pc86e80bbe4)\" d=\"M 559.558125 170.28 \r\nL 626.518125 170.28 \r\nL 626.518125 224.64 \r\nL 559.558125 224.64 \r\nL 559.558125 170.28 \r\n\" style=\"fill:none;\"/>\r\n    <path clip-path=\"url(#pc86e80bbe4)\" d=\"M 626.518125 170.28 \r\nL 693.478125 170.28 \r\nL 693.478125 224.64 \r\nL 626.518125 224.64 \r\nL 626.518125 170.28 \r\n\" style=\"fill:none;\"/>\r\n    <path clip-path=\"url(#pc86e80bbe4)\" d=\"M 693.478125 170.28 \r\nL 760.438125 170.28 \r\nL 760.438125 224.64 \r\nL 693.478125 224.64 \r\nL 693.478125 170.28 \r\n\" style=\"fill:none;\"/>\r\n    <path clip-path=\"url(#pc86e80bbe4)\" d=\"M 760.438125 170.28 \r\nL 827.398125 170.28 \r\nL 827.398125 224.64 \r\nL 760.438125 224.64 \r\nL 760.438125 170.28 \r\n\" style=\"fill:none;\"/>\r\n    <path clip-path=\"url(#pc86e80bbe4)\" d=\"M 23.878125 224.64 \r\nL 90.838125 224.64 \r\nL 90.838125 279 \r\nL 23.878125 279 \r\nL 23.878125 224.64 \r\n\" style=\"fill:none;\"/>\r\n    <path clip-path=\"url(#pc86e80bbe4)\" d=\"M 90.838125 224.64 \r\nL 157.798125 224.64 \r\nL 157.798125 279 \r\nL 90.838125 279 \r\nL 90.838125 224.64 \r\n\" style=\"fill:none;\"/>\r\n    <path clip-path=\"url(#pc86e80bbe4)\" d=\"M 157.798125 224.64 \r\nL 224.758125 224.64 \r\nL 224.758125 279 \r\nL 157.798125 279 \r\nL 157.798125 224.64 \r\n\" style=\"fill:none;\"/>\r\n    <path clip-path=\"url(#pc86e80bbe4)\" d=\"M 224.758125 224.64 \r\nL 291.718125 224.64 \r\nL 291.718125 279 \r\nL 224.758125 279 \r\nL 224.758125 224.64 \r\n\" style=\"fill:none;\"/>\r\n    <path clip-path=\"url(#pc86e80bbe4)\" d=\"M 291.718125 224.64 \r\nL 358.678125 224.64 \r\nL 358.678125 279 \r\nL 291.718125 279 \r\nL 291.718125 224.64 \r\n\" style=\"fill:none;\"/>\r\n    <path clip-path=\"url(#pc86e80bbe4)\" d=\"M 358.678125 224.64 \r\nL 425.638125 224.64 \r\nL 425.638125 279 \r\nL 358.678125 279 \r\nL 358.678125 224.64 \r\n\" style=\"fill:none;\"/>\r\n    <path clip-path=\"url(#pc86e80bbe4)\" d=\"M 425.638125 224.64 \r\nL 492.598125 224.64 \r\nL 492.598125 279 \r\nL 425.638125 279 \r\nL 425.638125 224.64 \r\n\" style=\"fill:none;\"/>\r\n    <path clip-path=\"url(#pc86e80bbe4)\" d=\"M 492.598125 224.64 \r\nL 559.558125 224.64 \r\nL 559.558125 279 \r\nL 492.598125 279 \r\nL 492.598125 224.64 \r\n\" style=\"fill:none;\"/>\r\n    <path clip-path=\"url(#pc86e80bbe4)\" d=\"M 559.558125 224.64 \r\nL 626.518125 224.64 \r\nL 626.518125 279 \r\nL 559.558125 279 \r\nL 559.558125 224.64 \r\n\" style=\"fill:none;\"/>\r\n    <path clip-path=\"url(#pc86e80bbe4)\" d=\"M 626.518125 224.64 \r\nL 693.478125 224.64 \r\nL 693.478125 279 \r\nL 626.518125 279 \r\nL 626.518125 224.64 \r\n\" style=\"fill:none;\"/>\r\n    <path clip-path=\"url(#pc86e80bbe4)\" d=\"M 693.478125 224.64 \r\nL 760.438125 224.64 \r\nL 760.438125 279 \r\nL 693.478125 279 \r\nL 693.478125 224.64 \r\n\" style=\"fill:none;\"/>\r\n    <path clip-path=\"url(#pc86e80bbe4)\" d=\"M 760.438125 224.64 \r\nL 827.398125 224.64 \r\nL 827.398125 279 \r\nL 760.438125 279 \r\nL 760.438125 224.64 \r\n\" style=\"fill:none;\"/>\r\n    <path clip-path=\"url(#pc86e80bbe4)\" d=\"M 23.878125 279 \r\nL 90.838125 279 \r\nL 90.838125 333.36 \r\nL 23.878125 333.36 \r\nL 23.878125 279 \r\n\" style=\"fill:none;\"/>\r\n    <path clip-path=\"url(#pc86e80bbe4)\" d=\"M 90.838125 279 \r\nL 157.798125 279 \r\nL 157.798125 333.36 \r\nL 90.838125 333.36 \r\nL 90.838125 279 \r\n\" style=\"fill:none;\"/>\r\n    <path clip-path=\"url(#pc86e80bbe4)\" d=\"M 157.798125 279 \r\nL 224.758125 279 \r\nL 224.758125 333.36 \r\nL 157.798125 333.36 \r\nL 157.798125 279 \r\n\" style=\"fill:none;\"/>\r\n    <path clip-path=\"url(#pc86e80bbe4)\" d=\"M 224.758125 279 \r\nL 291.718125 279 \r\nL 291.718125 333.36 \r\nL 224.758125 333.36 \r\nL 224.758125 279 \r\n\" style=\"fill:none;\"/>\r\n    <path clip-path=\"url(#pc86e80bbe4)\" d=\"M 291.718125 279 \r\nL 358.678125 279 \r\nL 358.678125 333.36 \r\nL 291.718125 333.36 \r\nL 291.718125 279 \r\n\" style=\"fill:none;\"/>\r\n    <path clip-path=\"url(#pc86e80bbe4)\" d=\"M 358.678125 279 \r\nL 425.638125 279 \r\nL 425.638125 333.36 \r\nL 358.678125 333.36 \r\nL 358.678125 279 \r\n\" style=\"fill:none;\"/>\r\n    <path clip-path=\"url(#pc86e80bbe4)\" d=\"M 425.638125 279 \r\nL 492.598125 279 \r\nL 492.598125 333.36 \r\nL 425.638125 333.36 \r\nL 425.638125 279 \r\n\" style=\"fill:none;\"/>\r\n    <path clip-path=\"url(#pc86e80bbe4)\" d=\"M 492.598125 279 \r\nL 559.558125 279 \r\nL 559.558125 333.36 \r\nL 492.598125 333.36 \r\nL 492.598125 279 \r\n\" style=\"fill:none;\"/>\r\n    <path clip-path=\"url(#pc86e80bbe4)\" d=\"M 559.558125 279 \r\nL 626.518125 279 \r\nL 626.518125 333.36 \r\nL 559.558125 333.36 \r\nL 559.558125 279 \r\n\" style=\"fill:none;\"/>\r\n    <path clip-path=\"url(#pc86e80bbe4)\" d=\"M 626.518125 279 \r\nL 693.478125 279 \r\nL 693.478125 333.36 \r\nL 626.518125 333.36 \r\nL 626.518125 279 \r\n\" style=\"fill:none;\"/>\r\n    <path clip-path=\"url(#pc86e80bbe4)\" d=\"M 693.478125 279 \r\nL 760.438125 279 \r\nL 760.438125 333.36 \r\nL 693.478125 333.36 \r\nL 693.478125 279 \r\n\" style=\"fill:none;\"/>\r\n    <path clip-path=\"url(#pc86e80bbe4)\" d=\"M 760.438125 279 \r\nL 827.398125 279 \r\nL 827.398125 333.36 \r\nL 760.438125 333.36 \r\nL 760.438125 279 \r\n\" style=\"fill:none;\"/>\r\n    <path clip-path=\"url(#pc86e80bbe4)\" d=\"M 23.878125 333.36 \r\nL 90.838125 333.36 \r\nL 90.838125 387.72 \r\nL 23.878125 387.72 \r\nL 23.878125 333.36 \r\n\" style=\"fill:none;\"/>\r\n    <path clip-path=\"url(#pc86e80bbe4)\" d=\"M 90.838125 333.36 \r\nL 157.798125 333.36 \r\nL 157.798125 387.72 \r\nL 90.838125 387.72 \r\nL 90.838125 333.36 \r\n\" style=\"fill:none;\"/>\r\n    <path clip-path=\"url(#pc86e80bbe4)\" d=\"M 157.798125 333.36 \r\nL 224.758125 333.36 \r\nL 224.758125 387.72 \r\nL 157.798125 387.72 \r\nL 157.798125 333.36 \r\n\" style=\"fill:none;\"/>\r\n    <path clip-path=\"url(#pc86e80bbe4)\" d=\"M 224.758125 333.36 \r\nL 291.718125 333.36 \r\nL 291.718125 387.72 \r\nL 224.758125 387.72 \r\nL 224.758125 333.36 \r\n\" style=\"fill:none;\"/>\r\n    <path clip-path=\"url(#pc86e80bbe4)\" d=\"M 291.718125 333.36 \r\nL 358.678125 333.36 \r\nL 358.678125 387.72 \r\nL 291.718125 387.72 \r\nL 291.718125 333.36 \r\n\" style=\"fill:none;\"/>\r\n    <path clip-path=\"url(#pc86e80bbe4)\" d=\"M 358.678125 333.36 \r\nL 425.638125 333.36 \r\nL 425.638125 387.72 \r\nL 358.678125 387.72 \r\nL 358.678125 333.36 \r\n\" style=\"fill:none;\"/>\r\n    <path clip-path=\"url(#pc86e80bbe4)\" d=\"M 425.638125 333.36 \r\nL 492.598125 333.36 \r\nL 492.598125 387.72 \r\nL 425.638125 387.72 \r\nL 425.638125 333.36 \r\n\" style=\"fill:none;\"/>\r\n    <path clip-path=\"url(#pc86e80bbe4)\" d=\"M 492.598125 333.36 \r\nL 559.558125 333.36 \r\nL 559.558125 387.72 \r\nL 492.598125 387.72 \r\nL 492.598125 333.36 \r\n\" style=\"fill:none;\"/>\r\n    <path clip-path=\"url(#pc86e80bbe4)\" d=\"M 559.558125 333.36 \r\nL 626.518125 333.36 \r\nL 626.518125 387.72 \r\nL 559.558125 387.72 \r\nL 559.558125 333.36 \r\n\" style=\"fill:none;\"/>\r\n    <path clip-path=\"url(#pc86e80bbe4)\" d=\"M 626.518125 333.36 \r\nL 693.478125 333.36 \r\nL 693.478125 387.72 \r\nL 626.518125 387.72 \r\nL 626.518125 333.36 \r\n\" style=\"fill:none;\"/>\r\n    <path clip-path=\"url(#pc86e80bbe4)\" d=\"M 693.478125 333.36 \r\nL 760.438125 333.36 \r\nL 760.438125 387.72 \r\nL 693.478125 387.72 \r\nL 693.478125 333.36 \r\n\" style=\"fill:none;\"/>\r\n    <path clip-path=\"url(#pc86e80bbe4)\" d=\"M 760.438125 333.36 \r\nL 827.398125 333.36 \r\nL 827.398125 387.72 \r\nL 760.438125 387.72 \r\nL 760.438125 333.36 \r\n\" style=\"fill:none;\"/>\r\n    <path clip-path=\"url(#pc86e80bbe4)\" d=\"M 23.878125 387.72 \r\nL 90.838125 387.72 \r\nL 90.838125 442.08 \r\nL 23.878125 442.08 \r\nL 23.878125 387.72 \r\n\" style=\"fill:none;\"/>\r\n    <path clip-path=\"url(#pc86e80bbe4)\" d=\"M 90.838125 387.72 \r\nL 157.798125 387.72 \r\nL 157.798125 442.08 \r\nL 90.838125 442.08 \r\nL 90.838125 387.72 \r\n\" style=\"fill:none;\"/>\r\n    <path clip-path=\"url(#pc86e80bbe4)\" d=\"M 157.798125 387.72 \r\nL 224.758125 387.72 \r\nL 224.758125 442.08 \r\nL 157.798125 442.08 \r\nL 157.798125 387.72 \r\n\" style=\"fill:none;\"/>\r\n    <path clip-path=\"url(#pc86e80bbe4)\" d=\"M 224.758125 387.72 \r\nL 291.718125 387.72 \r\nL 291.718125 442.08 \r\nL 224.758125 442.08 \r\nL 224.758125 387.72 \r\n\" style=\"fill:none;\"/>\r\n    <path clip-path=\"url(#pc86e80bbe4)\" d=\"M 291.718125 387.72 \r\nL 358.678125 387.72 \r\nL 358.678125 442.08 \r\nL 291.718125 442.08 \r\nL 291.718125 387.72 \r\n\" style=\"fill:none;\"/>\r\n    <path clip-path=\"url(#pc86e80bbe4)\" d=\"M 358.678125 387.72 \r\nL 425.638125 387.72 \r\nL 425.638125 442.08 \r\nL 358.678125 442.08 \r\nL 358.678125 387.72 \r\n\" style=\"fill:none;\"/>\r\n    <path clip-path=\"url(#pc86e80bbe4)\" d=\"M 425.638125 387.72 \r\nL 492.598125 387.72 \r\nL 492.598125 442.08 \r\nL 425.638125 442.08 \r\nL 425.638125 387.72 \r\n\" style=\"fill:none;\"/>\r\n    <path clip-path=\"url(#pc86e80bbe4)\" d=\"M 492.598125 387.72 \r\nL 559.558125 387.72 \r\nL 559.558125 442.08 \r\nL 492.598125 442.08 \r\nL 492.598125 387.72 \r\n\" style=\"fill:none;\"/>\r\n    <path clip-path=\"url(#pc86e80bbe4)\" d=\"M 559.558125 387.72 \r\nL 626.518125 387.72 \r\nL 626.518125 442.08 \r\nL 559.558125 442.08 \r\nL 559.558125 387.72 \r\n\" style=\"fill:#faebdd;\"/>\r\n    <path clip-path=\"url(#pc86e80bbe4)\" d=\"M 626.518125 387.72 \r\nL 693.478125 387.72 \r\nL 693.478125 442.08 \r\nL 626.518125 442.08 \r\nL 626.518125 387.72 \r\n\" style=\"fill:none;\"/>\r\n    <path clip-path=\"url(#pc86e80bbe4)\" d=\"M 693.478125 387.72 \r\nL 760.438125 387.72 \r\nL 760.438125 442.08 \r\nL 693.478125 442.08 \r\nL 693.478125 387.72 \r\n\" style=\"fill:none;\"/>\r\n    <path clip-path=\"url(#pc86e80bbe4)\" d=\"M 760.438125 387.72 \r\nL 827.398125 387.72 \r\nL 827.398125 442.08 \r\nL 760.438125 442.08 \r\nL 760.438125 387.72 \r\n\" style=\"fill:none;\"/>\r\n    <path clip-path=\"url(#pc86e80bbe4)\" d=\"M 23.878125 442.08 \r\nL 90.838125 442.08 \r\nL 90.838125 496.44 \r\nL 23.878125 496.44 \r\nL 23.878125 442.08 \r\n\" style=\"fill:none;\"/>\r\n    <path clip-path=\"url(#pc86e80bbe4)\" d=\"M 90.838125 442.08 \r\nL 157.798125 442.08 \r\nL 157.798125 496.44 \r\nL 90.838125 496.44 \r\nL 90.838125 442.08 \r\n\" style=\"fill:none;\"/>\r\n    <path clip-path=\"url(#pc86e80bbe4)\" d=\"M 157.798125 442.08 \r\nL 224.758125 442.08 \r\nL 224.758125 496.44 \r\nL 157.798125 496.44 \r\nL 157.798125 442.08 \r\n\" style=\"fill:none;\"/>\r\n    <path clip-path=\"url(#pc86e80bbe4)\" d=\"M 224.758125 442.08 \r\nL 291.718125 442.08 \r\nL 291.718125 496.44 \r\nL 224.758125 496.44 \r\nL 224.758125 442.08 \r\n\" style=\"fill:none;\"/>\r\n    <path clip-path=\"url(#pc86e80bbe4)\" d=\"M 291.718125 442.08 \r\nL 358.678125 442.08 \r\nL 358.678125 496.44 \r\nL 291.718125 496.44 \r\nL 291.718125 442.08 \r\n\" style=\"fill:none;\"/>\r\n    <path clip-path=\"url(#pc86e80bbe4)\" d=\"M 358.678125 442.08 \r\nL 425.638125 442.08 \r\nL 425.638125 496.44 \r\nL 358.678125 496.44 \r\nL 358.678125 442.08 \r\n\" style=\"fill:none;\"/>\r\n    <path clip-path=\"url(#pc86e80bbe4)\" d=\"M 425.638125 442.08 \r\nL 492.598125 442.08 \r\nL 492.598125 496.44 \r\nL 425.638125 496.44 \r\nL 425.638125 442.08 \r\n\" style=\"fill:none;\"/>\r\n    <path clip-path=\"url(#pc86e80bbe4)\" d=\"M 492.598125 442.08 \r\nL 559.558125 442.08 \r\nL 559.558125 496.44 \r\nL 492.598125 496.44 \r\nL 492.598125 442.08 \r\n\" style=\"fill:none;\"/>\r\n    <path clip-path=\"url(#pc86e80bbe4)\" d=\"M 559.558125 442.08 \r\nL 626.518125 442.08 \r\nL 626.518125 496.44 \r\nL 559.558125 496.44 \r\nL 559.558125 442.08 \r\n\" style=\"fill:none;\"/>\r\n    <path clip-path=\"url(#pc86e80bbe4)\" d=\"M 626.518125 442.08 \r\nL 693.478125 442.08 \r\nL 693.478125 496.44 \r\nL 626.518125 496.44 \r\nL 626.518125 442.08 \r\n\" style=\"fill:none;\"/>\r\n    <path clip-path=\"url(#pc86e80bbe4)\" d=\"M 693.478125 442.08 \r\nL 760.438125 442.08 \r\nL 760.438125 496.44 \r\nL 693.478125 496.44 \r\nL 693.478125 442.08 \r\n\" style=\"fill:none;\"/>\r\n    <path clip-path=\"url(#pc86e80bbe4)\" d=\"M 760.438125 442.08 \r\nL 827.398125 442.08 \r\nL 827.398125 496.44 \r\nL 760.438125 496.44 \r\nL 760.438125 442.08 \r\n\" style=\"fill:none;\"/>\r\n    <path clip-path=\"url(#pc86e80bbe4)\" d=\"M 23.878125 496.44 \r\nL 90.838125 496.44 \r\nL 90.838125 550.8 \r\nL 23.878125 550.8 \r\nL 23.878125 496.44 \r\n\" style=\"fill:none;\"/>\r\n    <path clip-path=\"url(#pc86e80bbe4)\" d=\"M 90.838125 496.44 \r\nL 157.798125 496.44 \r\nL 157.798125 550.8 \r\nL 90.838125 550.8 \r\nL 90.838125 496.44 \r\n\" style=\"fill:none;\"/>\r\n    <path clip-path=\"url(#pc86e80bbe4)\" d=\"M 157.798125 496.44 \r\nL 224.758125 496.44 \r\nL 224.758125 550.8 \r\nL 157.798125 550.8 \r\nL 157.798125 496.44 \r\n\" style=\"fill:none;\"/>\r\n    <path clip-path=\"url(#pc86e80bbe4)\" d=\"M 224.758125 496.44 \r\nL 291.718125 496.44 \r\nL 291.718125 550.8 \r\nL 224.758125 550.8 \r\nL 224.758125 496.44 \r\n\" style=\"fill:none;\"/>\r\n    <path clip-path=\"url(#pc86e80bbe4)\" d=\"M 291.718125 496.44 \r\nL 358.678125 496.44 \r\nL 358.678125 550.8 \r\nL 291.718125 550.8 \r\nL 291.718125 496.44 \r\n\" style=\"fill:none;\"/>\r\n    <path clip-path=\"url(#pc86e80bbe4)\" d=\"M 358.678125 496.44 \r\nL 425.638125 496.44 \r\nL 425.638125 550.8 \r\nL 358.678125 550.8 \r\nL 358.678125 496.44 \r\n\" style=\"fill:none;\"/>\r\n    <path clip-path=\"url(#pc86e80bbe4)\" d=\"M 425.638125 496.44 \r\nL 492.598125 496.44 \r\nL 492.598125 550.8 \r\nL 425.638125 550.8 \r\nL 425.638125 496.44 \r\n\" style=\"fill:none;\"/>\r\n    <path clip-path=\"url(#pc86e80bbe4)\" d=\"M 492.598125 496.44 \r\nL 559.558125 496.44 \r\nL 559.558125 550.8 \r\nL 492.598125 550.8 \r\nL 492.598125 496.44 \r\n\" style=\"fill:none;\"/>\r\n    <path clip-path=\"url(#pc86e80bbe4)\" d=\"M 559.558125 496.44 \r\nL 626.518125 496.44 \r\nL 626.518125 550.8 \r\nL 559.558125 550.8 \r\nL 559.558125 496.44 \r\n\" style=\"fill:#03051a;\"/>\r\n    <path clip-path=\"url(#pc86e80bbe4)\" d=\"M 626.518125 496.44 \r\nL 693.478125 496.44 \r\nL 693.478125 550.8 \r\nL 626.518125 550.8 \r\nL 626.518125 496.44 \r\n\" style=\"fill:none;\"/>\r\n    <path clip-path=\"url(#pc86e80bbe4)\" d=\"M 693.478125 496.44 \r\nL 760.438125 496.44 \r\nL 760.438125 550.8 \r\nL 693.478125 550.8 \r\nL 693.478125 496.44 \r\n\" style=\"fill:none;\"/>\r\n    <path clip-path=\"url(#pc86e80bbe4)\" d=\"M 760.438125 496.44 \r\nL 827.398125 496.44 \r\nL 827.398125 550.8 \r\nL 760.438125 550.8 \r\nL 760.438125 496.44 \r\n\" style=\"fill:none;\"/>\r\n    <path clip-path=\"url(#pc86e80bbe4)\" d=\"M 23.878125 550.8 \r\nL 90.838125 550.8 \r\nL 90.838125 605.16 \r\nL 23.878125 605.16 \r\nL 23.878125 550.8 \r\n\" style=\"fill:none;\"/>\r\n    <path clip-path=\"url(#pc86e80bbe4)\" d=\"M 90.838125 550.8 \r\nL 157.798125 550.8 \r\nL 157.798125 605.16 \r\nL 90.838125 605.16 \r\nL 90.838125 550.8 \r\n\" style=\"fill:none;\"/>\r\n    <path clip-path=\"url(#pc86e80bbe4)\" d=\"M 157.798125 550.8 \r\nL 224.758125 550.8 \r\nL 224.758125 605.16 \r\nL 157.798125 605.16 \r\nL 157.798125 550.8 \r\n\" style=\"fill:none;\"/>\r\n    <path clip-path=\"url(#pc86e80bbe4)\" d=\"M 224.758125 550.8 \r\nL 291.718125 550.8 \r\nL 291.718125 605.16 \r\nL 224.758125 605.16 \r\nL 224.758125 550.8 \r\n\" style=\"fill:none;\"/>\r\n    <path clip-path=\"url(#pc86e80bbe4)\" d=\"M 291.718125 550.8 \r\nL 358.678125 550.8 \r\nL 358.678125 605.16 \r\nL 291.718125 605.16 \r\nL 291.718125 550.8 \r\n\" style=\"fill:none;\"/>\r\n    <path clip-path=\"url(#pc86e80bbe4)\" d=\"M 358.678125 550.8 \r\nL 425.638125 550.8 \r\nL 425.638125 605.16 \r\nL 358.678125 605.16 \r\nL 358.678125 550.8 \r\n\" style=\"fill:none;\"/>\r\n    <path clip-path=\"url(#pc86e80bbe4)\" d=\"M 425.638125 550.8 \r\nL 492.598125 550.8 \r\nL 492.598125 605.16 \r\nL 425.638125 605.16 \r\nL 425.638125 550.8 \r\n\" style=\"fill:none;\"/>\r\n    <path clip-path=\"url(#pc86e80bbe4)\" d=\"M 492.598125 550.8 \r\nL 559.558125 550.8 \r\nL 559.558125 605.16 \r\nL 492.598125 605.16 \r\nL 492.598125 550.8 \r\n\" style=\"fill:none;\"/>\r\n    <path clip-path=\"url(#pc86e80bbe4)\" d=\"M 559.558125 550.8 \r\nL 626.518125 550.8 \r\nL 626.518125 605.16 \r\nL 559.558125 605.16 \r\nL 559.558125 550.8 \r\n\" style=\"fill:none;\"/>\r\n    <path clip-path=\"url(#pc86e80bbe4)\" d=\"M 626.518125 550.8 \r\nL 693.478125 550.8 \r\nL 693.478125 605.16 \r\nL 626.518125 605.16 \r\nL 626.518125 550.8 \r\n\" style=\"fill:none;\"/>\r\n    <path clip-path=\"url(#pc86e80bbe4)\" d=\"M 693.478125 550.8 \r\nL 760.438125 550.8 \r\nL 760.438125 605.16 \r\nL 693.478125 605.16 \r\nL 693.478125 550.8 \r\n\" style=\"fill:none;\"/>\r\n    <path clip-path=\"url(#pc86e80bbe4)\" d=\"M 760.438125 550.8 \r\nL 827.398125 550.8 \r\nL 827.398125 605.16 \r\nL 760.438125 605.16 \r\nL 760.438125 550.8 \r\n\" style=\"fill:none;\"/>\r\n    <path clip-path=\"url(#pc86e80bbe4)\" d=\"M 23.878125 605.16 \r\nL 90.838125 605.16 \r\nL 90.838125 659.52 \r\nL 23.878125 659.52 \r\nL 23.878125 605.16 \r\n\" style=\"fill:none;\"/>\r\n    <path clip-path=\"url(#pc86e80bbe4)\" d=\"M 90.838125 605.16 \r\nL 157.798125 605.16 \r\nL 157.798125 659.52 \r\nL 90.838125 659.52 \r\nL 90.838125 605.16 \r\n\" style=\"fill:none;\"/>\r\n    <path clip-path=\"url(#pc86e80bbe4)\" d=\"M 157.798125 605.16 \r\nL 224.758125 605.16 \r\nL 224.758125 659.52 \r\nL 157.798125 659.52 \r\nL 157.798125 605.16 \r\n\" style=\"fill:none;\"/>\r\n    <path clip-path=\"url(#pc86e80bbe4)\" d=\"M 224.758125 605.16 \r\nL 291.718125 605.16 \r\nL 291.718125 659.52 \r\nL 224.758125 659.52 \r\nL 224.758125 605.16 \r\n\" style=\"fill:none;\"/>\r\n    <path clip-path=\"url(#pc86e80bbe4)\" d=\"M 291.718125 605.16 \r\nL 358.678125 605.16 \r\nL 358.678125 659.52 \r\nL 291.718125 659.52 \r\nL 291.718125 605.16 \r\n\" style=\"fill:none;\"/>\r\n    <path clip-path=\"url(#pc86e80bbe4)\" d=\"M 358.678125 605.16 \r\nL 425.638125 605.16 \r\nL 425.638125 659.52 \r\nL 358.678125 659.52 \r\nL 358.678125 605.16 \r\n\" style=\"fill:none;\"/>\r\n    <path clip-path=\"url(#pc86e80bbe4)\" d=\"M 425.638125 605.16 \r\nL 492.598125 605.16 \r\nL 492.598125 659.52 \r\nL 425.638125 659.52 \r\nL 425.638125 605.16 \r\n\" style=\"fill:none;\"/>\r\n    <path clip-path=\"url(#pc86e80bbe4)\" d=\"M 492.598125 605.16 \r\nL 559.558125 605.16 \r\nL 559.558125 659.52 \r\nL 492.598125 659.52 \r\nL 492.598125 605.16 \r\n\" style=\"fill:none;\"/>\r\n    <path clip-path=\"url(#pc86e80bbe4)\" d=\"M 559.558125 605.16 \r\nL 626.518125 605.16 \r\nL 626.518125 659.52 \r\nL 559.558125 659.52 \r\nL 559.558125 605.16 \r\n\" style=\"fill:none;\"/>\r\n    <path clip-path=\"url(#pc86e80bbe4)\" d=\"M 626.518125 605.16 \r\nL 693.478125 605.16 \r\nL 693.478125 659.52 \r\nL 626.518125 659.52 \r\nL 626.518125 605.16 \r\n\" style=\"fill:none;\"/>\r\n    <path clip-path=\"url(#pc86e80bbe4)\" d=\"M 693.478125 605.16 \r\nL 760.438125 605.16 \r\nL 760.438125 659.52 \r\nL 693.478125 659.52 \r\nL 693.478125 605.16 \r\n\" style=\"fill:none;\"/>\r\n    <path clip-path=\"url(#pc86e80bbe4)\" d=\"M 760.438125 605.16 \r\nL 827.398125 605.16 \r\nL 827.398125 659.52 \r\nL 760.438125 659.52 \r\nL 760.438125 605.16 \r\n\" style=\"fill:none;\"/>\r\n   </g>\r\n   <g id=\"matplotlib.axis_1\">\r\n    <g id=\"xtick_1\">\r\n     <g id=\"line2d_1\">\r\n      <defs>\r\n       <path d=\"M 0 0 \r\nL 0 3.5 \r\n\" id=\"md28a319547\" style=\"stroke:#000000;stroke-width:0.8;\"/>\r\n      </defs>\r\n      <g>\r\n       <use style=\"stroke:#000000;stroke-width:0.8;\" x=\"57.358125\" xlink:href=\"#md28a319547\" y=\"659.52\"/>\r\n      </g>\r\n     </g>\r\n     <g id=\"text_1\">\r\n      <!-- NUM -->\r\n      <g transform=\"translate(45.644062 674.118438)scale(0.1 -0.1)\">\r\n       <defs>\r\n        <path d=\"M 9.8125 72.90625 \r\nL 23.09375 72.90625 \r\nL 55.421875 11.921875 \r\nL 55.421875 72.90625 \r\nL 64.984375 72.90625 \r\nL 64.984375 0 \r\nL 51.703125 0 \r\nL 19.390625 60.984375 \r\nL 19.390625 0 \r\nL 9.8125 0 \r\nz\r\n\" id=\"DejaVuSans-78\"/>\r\n        <path d=\"M 8.6875 72.90625 \r\nL 18.609375 72.90625 \r\nL 18.609375 28.609375 \r\nQ 18.609375 16.890625 22.84375 11.734375 \r\nQ 27.09375 6.59375 36.625 6.59375 \r\nQ 46.09375 6.59375 50.34375 11.734375 \r\nQ 54.59375 16.890625 54.59375 28.609375 \r\nL 54.59375 72.90625 \r\nL 64.5 72.90625 \r\nL 64.5 27.390625 \r\nQ 64.5 13.140625 57.4375 5.859375 \r\nQ 50.390625 -1.421875 36.625 -1.421875 \r\nQ 22.796875 -1.421875 15.734375 5.859375 \r\nQ 8.6875 13.140625 8.6875 27.390625 \r\nz\r\n\" id=\"DejaVuSans-85\"/>\r\n        <path d=\"M 9.8125 72.90625 \r\nL 24.515625 72.90625 \r\nL 43.109375 23.296875 \r\nL 61.8125 72.90625 \r\nL 76.515625 72.90625 \r\nL 76.515625 0 \r\nL 66.890625 0 \r\nL 66.890625 64.015625 \r\nL 48.09375 14.015625 \r\nL 38.1875 14.015625 \r\nL 19.390625 64.015625 \r\nL 19.390625 0 \r\nL 9.8125 0 \r\nz\r\n\" id=\"DejaVuSans-77\"/>\r\n       </defs>\r\n       <use xlink:href=\"#DejaVuSans-78\"/>\r\n       <use x=\"74.804688\" xlink:href=\"#DejaVuSans-85\"/>\r\n       <use x=\"147.998047\" xlink:href=\"#DejaVuSans-77\"/>\r\n      </g>\r\n     </g>\r\n    </g>\r\n    <g id=\"xtick_2\">\r\n     <g id=\"line2d_2\">\r\n      <g>\r\n       <use style=\"stroke:#000000;stroke-width:0.8;\" x=\"124.318125\" xlink:href=\"#md28a319547\" y=\"659.52\"/>\r\n      </g>\r\n     </g>\r\n     <g id=\"text_2\">\r\n      <!-- PRT -->\r\n      <g transform=\"translate(115.137656 674.118438)scale(0.1 -0.1)\">\r\n       <defs>\r\n        <path d=\"M 19.671875 64.796875 \r\nL 19.671875 37.40625 \r\nL 32.078125 37.40625 \r\nQ 38.96875 37.40625 42.71875 40.96875 \r\nQ 46.484375 44.53125 46.484375 51.125 \r\nQ 46.484375 57.671875 42.71875 61.234375 \r\nQ 38.96875 64.796875 32.078125 64.796875 \r\nz\r\nM 9.8125 72.90625 \r\nL 32.078125 72.90625 \r\nQ 44.34375 72.90625 50.609375 67.359375 \r\nQ 56.890625 61.8125 56.890625 51.125 \r\nQ 56.890625 40.328125 50.609375 34.8125 \r\nQ 44.34375 29.296875 32.078125 29.296875 \r\nL 19.671875 29.296875 \r\nL 19.671875 0 \r\nL 9.8125 0 \r\nz\r\n\" id=\"DejaVuSans-80\"/>\r\n        <path d=\"M 44.390625 34.1875 \r\nQ 47.5625 33.109375 50.5625 29.59375 \r\nQ 53.5625 26.078125 56.59375 19.921875 \r\nL 66.609375 0 \r\nL 56 0 \r\nL 46.6875 18.703125 \r\nQ 43.0625 26.03125 39.671875 28.421875 \r\nQ 36.28125 30.8125 30.421875 30.8125 \r\nL 19.671875 30.8125 \r\nL 19.671875 0 \r\nL 9.8125 0 \r\nL 9.8125 72.90625 \r\nL 32.078125 72.90625 \r\nQ 44.578125 72.90625 50.734375 67.671875 \r\nQ 56.890625 62.453125 56.890625 51.90625 \r\nQ 56.890625 45.015625 53.6875 40.46875 \r\nQ 50.484375 35.9375 44.390625 34.1875 \r\nz\r\nM 19.671875 64.796875 \r\nL 19.671875 38.921875 \r\nL 32.078125 38.921875 \r\nQ 39.203125 38.921875 42.84375 42.21875 \r\nQ 46.484375 45.515625 46.484375 51.90625 \r\nQ 46.484375 58.296875 42.84375 61.546875 \r\nQ 39.203125 64.796875 32.078125 64.796875 \r\nz\r\n\" id=\"DejaVuSans-82\"/>\r\n        <path d=\"M -0.296875 72.90625 \r\nL 61.375 72.90625 \r\nL 61.375 64.59375 \r\nL 35.5 64.59375 \r\nL 35.5 0 \r\nL 25.59375 0 \r\nL 25.59375 64.59375 \r\nL -0.296875 64.59375 \r\nz\r\n\" id=\"DejaVuSans-84\"/>\r\n       </defs>\r\n       <use xlink:href=\"#DejaVuSans-80\"/>\r\n       <use x=\"60.302734\" xlink:href=\"#DejaVuSans-82\"/>\r\n       <use x=\"122.535156\" xlink:href=\"#DejaVuSans-84\"/>\r\n      </g>\r\n     </g>\r\n    </g>\r\n    <g id=\"xtick_3\">\r\n     <g id=\"line2d_3\">\r\n      <g>\r\n       <use style=\"stroke:#000000;stroke-width:0.8;\" x=\"191.278125\" xlink:href=\"#md28a319547\" y=\"659.52\"/>\r\n      </g>\r\n     </g>\r\n     <g id=\"text_3\">\r\n      <!-- ADP -->\r\n      <g transform=\"translate(180.992969 674.118438)scale(0.1 -0.1)\">\r\n       <defs>\r\n        <path d=\"M 34.1875 63.1875 \r\nL 20.796875 26.90625 \r\nL 47.609375 26.90625 \r\nz\r\nM 28.609375 72.90625 \r\nL 39.796875 72.90625 \r\nL 67.578125 0 \r\nL 57.328125 0 \r\nL 50.6875 18.703125 \r\nL 17.828125 18.703125 \r\nL 11.1875 0 \r\nL 0.78125 0 \r\nz\r\n\" id=\"DejaVuSans-65\"/>\r\n        <path d=\"M 19.671875 64.796875 \r\nL 19.671875 8.109375 \r\nL 31.59375 8.109375 \r\nQ 46.6875 8.109375 53.6875 14.9375 \r\nQ 60.6875 21.78125 60.6875 36.53125 \r\nQ 60.6875 51.171875 53.6875 57.984375 \r\nQ 46.6875 64.796875 31.59375 64.796875 \r\nz\r\nM 9.8125 72.90625 \r\nL 30.078125 72.90625 \r\nQ 51.265625 72.90625 61.171875 64.09375 \r\nQ 71.09375 55.28125 71.09375 36.53125 \r\nQ 71.09375 17.671875 61.125 8.828125 \r\nQ 51.171875 0 30.078125 0 \r\nL 9.8125 0 \r\nz\r\n\" id=\"DejaVuSans-68\"/>\r\n       </defs>\r\n       <use xlink:href=\"#DejaVuSans-65\"/>\r\n       <use x=\"68.408203\" xlink:href=\"#DejaVuSans-68\"/>\r\n       <use x=\"145.410156\" xlink:href=\"#DejaVuSans-80\"/>\r\n      </g>\r\n     </g>\r\n    </g>\r\n    <g id=\"xtick_4\">\r\n     <g id=\"line2d_4\">\r\n      <g>\r\n       <use style=\"stroke:#000000;stroke-width:0.8;\" x=\"258.238125\" xlink:href=\"#md28a319547\" y=\"659.52\"/>\r\n      </g>\r\n     </g>\r\n     <g id=\"text_4\">\r\n      <!-- X -->\r\n      <g transform=\"translate(254.813125 674.118438)scale(0.1 -0.1)\">\r\n       <defs>\r\n        <path d=\"M 6.296875 72.90625 \r\nL 16.890625 72.90625 \r\nL 35.015625 45.796875 \r\nL 53.21875 72.90625 \r\nL 63.8125 72.90625 \r\nL 40.375 37.890625 \r\nL 65.375 0 \r\nL 54.78125 0 \r\nL 34.28125 31 \r\nL 13.625 0 \r\nL 2.984375 0 \r\nL 29 38.921875 \r\nz\r\n\" id=\"DejaVuSans-88\"/>\r\n       </defs>\r\n       <use xlink:href=\"#DejaVuSans-88\"/>\r\n      </g>\r\n     </g>\r\n    </g>\r\n    <g id=\"xtick_5\">\r\n     <g id=\"line2d_5\">\r\n      <g>\r\n       <use style=\"stroke:#000000;stroke-width:0.8;\" x=\"325.198125\" xlink:href=\"#md28a319547\" y=\"659.52\"/>\r\n      </g>\r\n     </g>\r\n     <g id=\"text_5\">\r\n      <!-- VERB -->\r\n      <g transform=\"translate(311.71375 674.118438)scale(0.1 -0.1)\">\r\n       <defs>\r\n        <path d=\"M 28.609375 0 \r\nL 0.78125 72.90625 \r\nL 11.078125 72.90625 \r\nL 34.1875 11.53125 \r\nL 57.328125 72.90625 \r\nL 67.578125 72.90625 \r\nL 39.796875 0 \r\nz\r\n\" id=\"DejaVuSans-86\"/>\r\n        <path d=\"M 9.8125 72.90625 \r\nL 55.90625 72.90625 \r\nL 55.90625 64.59375 \r\nL 19.671875 64.59375 \r\nL 19.671875 43.015625 \r\nL 54.390625 43.015625 \r\nL 54.390625 34.71875 \r\nL 19.671875 34.71875 \r\nL 19.671875 8.296875 \r\nL 56.78125 8.296875 \r\nL 56.78125 0 \r\nL 9.8125 0 \r\nz\r\n\" id=\"DejaVuSans-69\"/>\r\n        <path d=\"M 19.671875 34.8125 \r\nL 19.671875 8.109375 \r\nL 35.5 8.109375 \r\nQ 43.453125 8.109375 47.28125 11.40625 \r\nQ 51.125 14.703125 51.125 21.484375 \r\nQ 51.125 28.328125 47.28125 31.5625 \r\nQ 43.453125 34.8125 35.5 34.8125 \r\nz\r\nM 19.671875 64.796875 \r\nL 19.671875 42.828125 \r\nL 34.28125 42.828125 \r\nQ 41.5 42.828125 45.03125 45.53125 \r\nQ 48.578125 48.25 48.578125 53.8125 \r\nQ 48.578125 59.328125 45.03125 62.0625 \r\nQ 41.5 64.796875 34.28125 64.796875 \r\nz\r\nM 9.8125 72.90625 \r\nL 35.015625 72.90625 \r\nQ 46.296875 72.90625 52.390625 68.21875 \r\nQ 58.5 63.53125 58.5 54.890625 \r\nQ 58.5 48.1875 55.375 44.234375 \r\nQ 52.25 40.28125 46.1875 39.3125 \r\nQ 53.46875 37.75 57.5 32.78125 \r\nQ 61.53125 27.828125 61.53125 20.40625 \r\nQ 61.53125 10.640625 54.890625 5.3125 \r\nQ 48.25 0 35.984375 0 \r\nL 9.8125 0 \r\nz\r\n\" id=\"DejaVuSans-66\"/>\r\n       </defs>\r\n       <use xlink:href=\"#DejaVuSans-86\"/>\r\n       <use x=\"68.408203\" xlink:href=\"#DejaVuSans-69\"/>\r\n       <use x=\"131.591797\" xlink:href=\"#DejaVuSans-82\"/>\r\n       <use x=\"201.074219\" xlink:href=\"#DejaVuSans-66\"/>\r\n      </g>\r\n     </g>\r\n    </g>\r\n    <g id=\"xtick_6\">\r\n     <g id=\"line2d_6\">\r\n      <g>\r\n       <use style=\"stroke:#000000;stroke-width:0.8;\" x=\"392.158125\" xlink:href=\"#md28a319547\" y=\"659.52\"/>\r\n      </g>\r\n     </g>\r\n     <g id=\"text_6\">\r\n      <!-- PRON -->\r\n      <g transform=\"translate(377.9925 674.118438)scale(0.1 -0.1)\">\r\n       <defs>\r\n        <path d=\"M 39.40625 66.21875 \r\nQ 28.65625 66.21875 22.328125 58.203125 \r\nQ 16.015625 50.203125 16.015625 36.375 \r\nQ 16.015625 22.609375 22.328125 14.59375 \r\nQ 28.65625 6.59375 39.40625 6.59375 \r\nQ 50.140625 6.59375 56.421875 14.59375 \r\nQ 62.703125 22.609375 62.703125 36.375 \r\nQ 62.703125 50.203125 56.421875 58.203125 \r\nQ 50.140625 66.21875 39.40625 66.21875 \r\nz\r\nM 39.40625 74.21875 \r\nQ 54.734375 74.21875 63.90625 63.9375 \r\nQ 73.09375 53.65625 73.09375 36.375 \r\nQ 73.09375 19.140625 63.90625 8.859375 \r\nQ 54.734375 -1.421875 39.40625 -1.421875 \r\nQ 24.03125 -1.421875 14.8125 8.828125 \r\nQ 5.609375 19.09375 5.609375 36.375 \r\nQ 5.609375 53.65625 14.8125 63.9375 \r\nQ 24.03125 74.21875 39.40625 74.21875 \r\nz\r\n\" id=\"DejaVuSans-79\"/>\r\n       </defs>\r\n       <use xlink:href=\"#DejaVuSans-80\"/>\r\n       <use x=\"60.302734\" xlink:href=\"#DejaVuSans-82\"/>\r\n       <use x=\"129.785156\" xlink:href=\"#DejaVuSans-79\"/>\r\n       <use x=\"208.496094\" xlink:href=\"#DejaVuSans-78\"/>\r\n      </g>\r\n     </g>\r\n    </g>\r\n    <g id=\"xtick_7\">\r\n     <g id=\"line2d_7\">\r\n      <g>\r\n       <use style=\"stroke:#000000;stroke-width:0.8;\" x=\"459.118125\" xlink:href=\"#md28a319547\" y=\"659.52\"/>\r\n      </g>\r\n     </g>\r\n     <g id=\"text_7\">\r\n      <!-- . -->\r\n      <g transform=\"translate(457.529063 674.118438)scale(0.1 -0.1)\">\r\n       <defs>\r\n        <path d=\"M 10.6875 12.40625 \r\nL 21 12.40625 \r\nL 21 0 \r\nL 10.6875 0 \r\nz\r\n\" id=\"DejaVuSans-46\"/>\r\n       </defs>\r\n       <use xlink:href=\"#DejaVuSans-46\"/>\r\n      </g>\r\n     </g>\r\n    </g>\r\n    <g id=\"xtick_8\">\r\n     <g id=\"line2d_8\">\r\n      <g>\r\n       <use style=\"stroke:#000000;stroke-width:0.8;\" x=\"526.078125\" xlink:href=\"#md28a319547\" y=\"659.52\"/>\r\n      </g>\r\n     </g>\r\n     <g id=\"text_8\">\r\n      <!-- ADJ -->\r\n      <g transform=\"translate(517.332813 674.118438)scale(0.1 -0.1)\">\r\n       <defs>\r\n        <path d=\"M 9.8125 72.90625 \r\nL 19.671875 72.90625 \r\nL 19.671875 5.078125 \r\nQ 19.671875 -8.109375 14.671875 -14.0625 \r\nQ 9.671875 -20.015625 -1.421875 -20.015625 \r\nL -5.171875 -20.015625 \r\nL -5.171875 -11.71875 \r\nL -2.09375 -11.71875 \r\nQ 4.4375 -11.71875 7.125 -8.046875 \r\nQ 9.8125 -4.390625 9.8125 5.078125 \r\nz\r\n\" id=\"DejaVuSans-74\"/>\r\n       </defs>\r\n       <use xlink:href=\"#DejaVuSans-65\"/>\r\n       <use x=\"68.408203\" xlink:href=\"#DejaVuSans-68\"/>\r\n       <use x=\"145.410156\" xlink:href=\"#DejaVuSans-74\"/>\r\n      </g>\r\n     </g>\r\n    </g>\r\n    <g id=\"xtick_9\">\r\n     <g id=\"line2d_9\">\r\n      <g>\r\n       <use style=\"stroke:#000000;stroke-width:0.8;\" x=\"593.038125\" xlink:href=\"#md28a319547\" y=\"659.52\"/>\r\n      </g>\r\n     </g>\r\n     <g id=\"text_9\">\r\n      <!-- NOUN -->\r\n      <g transform=\"translate(577.961563 674.118438)scale(0.1 -0.1)\">\r\n       <use xlink:href=\"#DejaVuSans-78\"/>\r\n       <use x=\"74.804688\" xlink:href=\"#DejaVuSans-79\"/>\r\n       <use x=\"153.515625\" xlink:href=\"#DejaVuSans-85\"/>\r\n       <use x=\"226.708984\" xlink:href=\"#DejaVuSans-78\"/>\r\n      </g>\r\n     </g>\r\n    </g>\r\n    <g id=\"xtick_10\">\r\n     <g id=\"line2d_10\">\r\n      <g>\r\n       <use style=\"stroke:#000000;stroke-width:0.8;\" x=\"659.998125\" xlink:href=\"#md28a319547\" y=\"659.52\"/>\r\n      </g>\r\n     </g>\r\n     <g id=\"text_10\">\r\n      <!-- DET -->\r\n      <g transform=\"translate(649.934844 674.118438)scale(0.1 -0.1)\">\r\n       <use xlink:href=\"#DejaVuSans-68\"/>\r\n       <use x=\"77.001953\" xlink:href=\"#DejaVuSans-69\"/>\r\n       <use x=\"140.185547\" xlink:href=\"#DejaVuSans-84\"/>\r\n      </g>\r\n     </g>\r\n    </g>\r\n    <g id=\"xtick_11\">\r\n     <g id=\"line2d_11\">\r\n      <g>\r\n       <use style=\"stroke:#000000;stroke-width:0.8;\" x=\"726.958125\" xlink:href=\"#md28a319547\" y=\"659.52\"/>\r\n      </g>\r\n     </g>\r\n     <g id=\"text_11\">\r\n      <!-- ADV -->\r\n      <g transform=\"translate(716.355 674.118438)scale(0.1 -0.1)\">\r\n       <use xlink:href=\"#DejaVuSans-65\"/>\r\n       <use x=\"68.408203\" xlink:href=\"#DejaVuSans-68\"/>\r\n       <use x=\"143.660156\" xlink:href=\"#DejaVuSans-86\"/>\r\n      </g>\r\n     </g>\r\n    </g>\r\n    <g id=\"xtick_12\">\r\n     <g id=\"line2d_12\">\r\n      <g>\r\n       <use style=\"stroke:#000000;stroke-width:0.8;\" x=\"793.918125\" xlink:href=\"#md28a319547\" y=\"659.52\"/>\r\n      </g>\r\n     </g>\r\n     <g id=\"text_12\">\r\n      <!-- CONJ -->\r\n      <g transform=\"translate(781.275156 674.118438)scale(0.1 -0.1)\">\r\n       <defs>\r\n        <path d=\"M 64.40625 67.28125 \r\nL 64.40625 56.890625 \r\nQ 59.421875 61.53125 53.78125 63.8125 \r\nQ 48.140625 66.109375 41.796875 66.109375 \r\nQ 29.296875 66.109375 22.65625 58.46875 \r\nQ 16.015625 50.828125 16.015625 36.375 \r\nQ 16.015625 21.96875 22.65625 14.328125 \r\nQ 29.296875 6.6875 41.796875 6.6875 \r\nQ 48.140625 6.6875 53.78125 8.984375 \r\nQ 59.421875 11.28125 64.40625 15.921875 \r\nL 64.40625 5.609375 \r\nQ 59.234375 2.09375 53.4375 0.328125 \r\nQ 47.65625 -1.421875 41.21875 -1.421875 \r\nQ 24.65625 -1.421875 15.125 8.703125 \r\nQ 5.609375 18.84375 5.609375 36.375 \r\nQ 5.609375 53.953125 15.125 64.078125 \r\nQ 24.65625 74.21875 41.21875 74.21875 \r\nQ 47.75 74.21875 53.53125 72.484375 \r\nQ 59.328125 70.75 64.40625 67.28125 \r\nz\r\n\" id=\"DejaVuSans-67\"/>\r\n       </defs>\r\n       <use xlink:href=\"#DejaVuSans-67\"/>\r\n       <use x=\"69.824219\" xlink:href=\"#DejaVuSans-79\"/>\r\n       <use x=\"148.535156\" xlink:href=\"#DejaVuSans-78\"/>\r\n       <use x=\"223.339844\" xlink:href=\"#DejaVuSans-74\"/>\r\n      </g>\r\n     </g>\r\n    </g>\r\n   </g>\r\n   <g id=\"matplotlib.axis_2\">\r\n    <g id=\"ytick_1\">\r\n     <g id=\"line2d_13\">\r\n      <defs>\r\n       <path d=\"M 0 0 \r\nL -3.5 0 \r\n\" id=\"me385110dc1\" style=\"stroke:#000000;stroke-width:0.8;\"/>\r\n      </defs>\r\n      <g>\r\n       <use style=\"stroke:#000000;stroke-width:0.8;\" x=\"23.878125\" xlink:href=\"#me385110dc1\" y=\"34.38\"/>\r\n      </g>\r\n     </g>\r\n     <g id=\"text_13\">\r\n      <!-- NUM -->\r\n      <g transform=\"translate(14.798437 54.008906)rotate(-90)scale(0.1 -0.1)\">\r\n       <use xlink:href=\"#DejaVuSans-78\"/>\r\n       <use x=\"74.804688\" xlink:href=\"#DejaVuSans-85\"/>\r\n       <use x=\"147.998047\" xlink:href=\"#DejaVuSans-77\"/>\r\n      </g>\r\n     </g>\r\n    </g>\r\n    <g id=\"ytick_2\">\r\n     <g id=\"line2d_14\">\r\n      <g>\r\n       <use style=\"stroke:#000000;stroke-width:0.8;\" x=\"23.878125\" xlink:href=\"#me385110dc1\" y=\"88.74\"/>\r\n      </g>\r\n     </g>\r\n     <g id=\"text_14\">\r\n      <!-- PRT -->\r\n      <g transform=\"translate(14.798437 103.301719)rotate(-90)scale(0.1 -0.1)\">\r\n       <use xlink:href=\"#DejaVuSans-80\"/>\r\n       <use x=\"60.302734\" xlink:href=\"#DejaVuSans-82\"/>\r\n       <use x=\"122.535156\" xlink:href=\"#DejaVuSans-84\"/>\r\n      </g>\r\n     </g>\r\n    </g>\r\n    <g id=\"ytick_3\">\r\n     <g id=\"line2d_15\">\r\n      <g>\r\n       <use style=\"stroke:#000000;stroke-width:0.8;\" x=\"23.878125\" xlink:href=\"#me385110dc1\" y=\"143.1\"/>\r\n      </g>\r\n     </g>\r\n     <g id=\"text_15\">\r\n      <!-- ADP -->\r\n      <g transform=\"translate(14.798437 159.871094)rotate(-90)scale(0.1 -0.1)\">\r\n       <use xlink:href=\"#DejaVuSans-65\"/>\r\n       <use x=\"68.408203\" xlink:href=\"#DejaVuSans-68\"/>\r\n       <use x=\"145.410156\" xlink:href=\"#DejaVuSans-80\"/>\r\n      </g>\r\n     </g>\r\n    </g>\r\n    <g id=\"ytick_4\">\r\n     <g id=\"line2d_16\">\r\n      <g>\r\n       <use style=\"stroke:#000000;stroke-width:0.8;\" x=\"23.878125\" xlink:href=\"#me385110dc1\" y=\"197.46\"/>\r\n      </g>\r\n     </g>\r\n     <g id=\"text_16\">\r\n      <!-- X -->\r\n      <g transform=\"translate(14.798437 200.510781)rotate(-90)scale(0.1 -0.1)\">\r\n       <use xlink:href=\"#DejaVuSans-88\"/>\r\n      </g>\r\n     </g>\r\n    </g>\r\n    <g id=\"ytick_5\">\r\n     <g id=\"line2d_17\">\r\n      <g>\r\n       <use style=\"stroke:#000000;stroke-width:0.8;\" x=\"23.878125\" xlink:href=\"#me385110dc1\" y=\"251.82\"/>\r\n      </g>\r\n     </g>\r\n     <g id=\"text_17\">\r\n      <!-- VERB -->\r\n      <g transform=\"translate(14.798437 274.989531)rotate(-90)scale(0.1 -0.1)\">\r\n       <use xlink:href=\"#DejaVuSans-86\"/>\r\n       <use x=\"68.408203\" xlink:href=\"#DejaVuSans-69\"/>\r\n       <use x=\"131.591797\" xlink:href=\"#DejaVuSans-82\"/>\r\n       <use x=\"201.074219\" xlink:href=\"#DejaVuSans-66\"/>\r\n      </g>\r\n     </g>\r\n    </g>\r\n    <g id=\"ytick_6\">\r\n     <g id=\"line2d_18\">\r\n      <g>\r\n       <use style=\"stroke:#000000;stroke-width:0.8;\" x=\"23.878125\" xlink:href=\"#me385110dc1\" y=\"306.18\"/>\r\n      </g>\r\n     </g>\r\n     <g id=\"text_18\">\r\n      <!-- PRON -->\r\n      <g transform=\"translate(14.798437 330.712031)rotate(-90)scale(0.1 -0.1)\">\r\n       <use xlink:href=\"#DejaVuSans-80\"/>\r\n       <use x=\"60.302734\" xlink:href=\"#DejaVuSans-82\"/>\r\n       <use x=\"129.785156\" xlink:href=\"#DejaVuSans-79\"/>\r\n       <use x=\"208.496094\" xlink:href=\"#DejaVuSans-78\"/>\r\n      </g>\r\n     </g>\r\n    </g>\r\n    <g id=\"ytick_7\">\r\n     <g id=\"line2d_19\">\r\n      <g>\r\n       <use style=\"stroke:#000000;stroke-width:0.8;\" x=\"23.878125\" xlink:href=\"#me385110dc1\" y=\"360.54\"/>\r\n      </g>\r\n     </g>\r\n     <g id=\"text_19\">\r\n      <!-- . -->\r\n      <g transform=\"translate(14.798437 359.918906)rotate(-90)scale(0.1 -0.1)\">\r\n       <use xlink:href=\"#DejaVuSans-46\"/>\r\n      </g>\r\n     </g>\r\n    </g>\r\n    <g id=\"ytick_8\">\r\n     <g id=\"line2d_20\">\r\n      <g>\r\n       <use style=\"stroke:#000000;stroke-width:0.8;\" x=\"23.878125\" xlink:href=\"#me385110dc1\" y=\"414.9\"/>\r\n      </g>\r\n     </g>\r\n     <g id=\"text_20\">\r\n      <!-- ADJ -->\r\n      <g transform=\"translate(14.798437 428.591406)rotate(-90)scale(0.1 -0.1)\">\r\n       <use xlink:href=\"#DejaVuSans-65\"/>\r\n       <use x=\"68.408203\" xlink:href=\"#DejaVuSans-68\"/>\r\n       <use x=\"145.410156\" xlink:href=\"#DejaVuSans-74\"/>\r\n      </g>\r\n     </g>\r\n    </g>\r\n    <g id=\"ytick_9\">\r\n     <g id=\"line2d_21\">\r\n      <g>\r\n       <use style=\"stroke:#000000;stroke-width:0.8;\" x=\"23.878125\" xlink:href=\"#me385110dc1\" y=\"469.26\"/>\r\n      </g>\r\n     </g>\r\n     <g id=\"text_21\">\r\n      <!-- NOUN -->\r\n      <g transform=\"translate(14.798437 495.613906)rotate(-90)scale(0.1 -0.1)\">\r\n       <use xlink:href=\"#DejaVuSans-78\"/>\r\n       <use x=\"74.804688\" xlink:href=\"#DejaVuSans-79\"/>\r\n       <use x=\"153.515625\" xlink:href=\"#DejaVuSans-85\"/>\r\n       <use x=\"226.708984\" xlink:href=\"#DejaVuSans-78\"/>\r\n      </g>\r\n     </g>\r\n    </g>\r\n    <g id=\"ytick_10\">\r\n     <g id=\"line2d_22\">\r\n      <g>\r\n       <use style=\"stroke:#000000;stroke-width:0.8;\" x=\"23.878125\" xlink:href=\"#me385110dc1\" y=\"523.62\"/>\r\n      </g>\r\n     </g>\r\n     <g id=\"text_22\">\r\n      <!-- DET -->\r\n      <g transform=\"translate(14.798437 539.947344)rotate(-90)scale(0.1 -0.1)\">\r\n       <use xlink:href=\"#DejaVuSans-68\"/>\r\n       <use x=\"77.001953\" xlink:href=\"#DejaVuSans-69\"/>\r\n       <use x=\"140.185547\" xlink:href=\"#DejaVuSans-84\"/>\r\n      </g>\r\n     </g>\r\n    </g>\r\n    <g id=\"ytick_11\">\r\n     <g id=\"line2d_23\">\r\n      <g>\r\n       <use style=\"stroke:#000000;stroke-width:0.8;\" x=\"23.878125\" xlink:href=\"#me385110dc1\" y=\"577.98\"/>\r\n      </g>\r\n     </g>\r\n     <g id=\"text_23\">\r\n      <!-- ADV -->\r\n      <g transform=\"translate(14.798437 595.387031)rotate(-90)scale(0.1 -0.1)\">\r\n       <use xlink:href=\"#DejaVuSans-65\"/>\r\n       <use x=\"68.408203\" xlink:href=\"#DejaVuSans-68\"/>\r\n       <use x=\"143.660156\" xlink:href=\"#DejaVuSans-86\"/>\r\n      </g>\r\n     </g>\r\n    </g>\r\n    <g id=\"ytick_12\">\r\n     <g id=\"line2d_24\">\r\n      <g>\r\n       <use style=\"stroke:#000000;stroke-width:0.8;\" x=\"23.878125\" xlink:href=\"#me385110dc1\" y=\"632.34\"/>\r\n      </g>\r\n     </g>\r\n     <g id=\"text_24\">\r\n      <!-- CONJ -->\r\n      <g transform=\"translate(14.798437 653.826719)rotate(-90)scale(0.1 -0.1)\">\r\n       <use xlink:href=\"#DejaVuSans-67\"/>\r\n       <use x=\"69.824219\" xlink:href=\"#DejaVuSans-79\"/>\r\n       <use x=\"148.535156\" xlink:href=\"#DejaVuSans-78\"/>\r\n       <use x=\"223.339844\" xlink:href=\"#DejaVuSans-74\"/>\r\n      </g>\r\n     </g>\r\n    </g>\r\n   </g>\r\n  </g>\r\n  <g id=\"axes_2\">\r\n   <g id=\"patch_3\">\r\n    <path clip-path=\"url(#p415c57aff1)\" d=\"M 877.618125 659.52 \r\nL 877.618125 656.971875 \r\nL 877.618125 9.748125 \r\nL 877.618125 7.2 \r\nL 910.234125 7.2 \r\nL 910.234125 9.748125 \r\nL 910.234125 656.971875 \r\nL 910.234125 659.52 \r\nz\r\n\" style=\"fill:#ffffff;stroke:#ffffff;stroke-linejoin:miter;stroke-width:0.01;\"/>\r\n   </g>\r\n   <image height=\"652\" id=\"imagebc3762ac67\" transform=\"scale(1 -1)translate(0 -652)\" width=\"32\" x=\"878\" xlink:href=\"data:image/png;base64,\r\niVBORw0KGgoAAAANSUhEUgAAACAAAAKMCAYAAACKO7pIAAADKklEQVR4nO3di20kMQwEUVHmJXH552mHUQPoKYEtUMUmZ8ef+fn3//eE55Yffs45OzHAByowbQ3yCuQAriAH2DmPXwEJc4C9r1+BNswBSCgJc4C9r+cACXMASZgD6AJJmAOQ0FqeAxhG2jAHMIxImAOQcGdahrwCOYCNKAewEZEwByAhCXMAEpIwByAhCXMAz4a+oMgBSJgD6ALDKAeQA9owByChCuQAfsvG03EOYCOShDmAjSgH0AWSMAfYmqD+fEnYA0hCSZgDSEJtmAMYRjmAHDCMcgBRrA1zADmgDXMAr2y8sskBDCOzIAcgYQ6gC0iYA1hK7YQ5AAklYQ5gHJMwBzCMzIIcQA7kAHJADuQAckAb5gByYG/634w+UIEcQBJKwhyAhDmAYSQHcgA5YCPKAeSANswBXIEkzAEkoTbMAVxBDrDzehSTMAdwBTaiHMBGpA1zADmgDXOAvae18AMVeL0NcwDDKAcQxXt/H0/CHEAOaMMcwEZkI8oBdkgYA9Sf3wO4ghxADpAwByChnTAH2Bs/GvUVeL4NcwDDaCf+IZK8AjnA3tevwLdkOQAJcwBRTMIcYOM/1vuJCpCwPXJAG+YAckAb5gA78bvbD1RAEsaHhDmAYWQY5QA7McIHKkDC+BhGNqIcgIQqkAPIgRxAF9gJcwBLKQlzAElIwhxgjyQkYXxcgQrkAFsj5BXIAXQBCXMAEpIwB9iJf9err0CNkFcgByAhCXOAPc9L+Hwb5gByIAeQA3IgByChCuQAO/FPsfQVIGEN4Ar23JYhr0AOQEI7YQ5AwhxgT/zO5gMVIGF8XMGOjSg+JDQLcgASejbMAUiYA4hiEuYAllIS5gCSkIQ5gKV0z+tvTnMAEqpADmAY5QA2IjmQA3h7rg1zADmgAjmAJyMS5gCGEQlzAFeQAxhGJMwBXIFxnAOQkIQ5AAlJmAOQMAdwBXIgByAhCXMAEpIwByDhzvykAHkFcgASqkAOYBjlALqAhDnAnvv4PkDCHEASkjAH8GSkDXMAOUDCHICEOYC1nIQ5gCjeIWF8SCgJcwDjmIQ5gCTMAewDJMwBRLFxnAP8AaqnMNcomXVLAAAAAElFTkSuQmCC\" y=\"-7\"/>\r\n   <g id=\"matplotlib.axis_3\"/>\r\n   <g id=\"matplotlib.axis_4\">\r\n    <g id=\"ytick_13\">\r\n     <g id=\"line2d_25\">\r\n      <defs>\r\n       <path d=\"M 0 0 \r\nL 3.5 0 \r\n\" id=\"md6faef05c6\" style=\"stroke:#000000;stroke-width:0.8;\"/>\r\n      </defs>\r\n      <g>\r\n       <use style=\"stroke:#000000;stroke-width:0.8;\" x=\"910.234125\" xlink:href=\"#md6faef05c6\" y=\"641.424488\"/>\r\n      </g>\r\n     </g>\r\n     <g id=\"text_25\">\r\n      <!-- 0.64 -->\r\n      <g transform=\"translate(917.234125 645.223706)scale(0.1 -0.1)\">\r\n       <defs>\r\n        <path d=\"M 31.78125 66.40625 \r\nQ 24.171875 66.40625 20.328125 58.90625 \r\nQ 16.5 51.421875 16.5 36.375 \r\nQ 16.5 21.390625 20.328125 13.890625 \r\nQ 24.171875 6.390625 31.78125 6.390625 \r\nQ 39.453125 6.390625 43.28125 13.890625 \r\nQ 47.125 21.390625 47.125 36.375 \r\nQ 47.125 51.421875 43.28125 58.90625 \r\nQ 39.453125 66.40625 31.78125 66.40625 \r\nz\r\nM 31.78125 74.21875 \r\nQ 44.046875 74.21875 50.515625 64.515625 \r\nQ 56.984375 54.828125 56.984375 36.375 \r\nQ 56.984375 17.96875 50.515625 8.265625 \r\nQ 44.046875 -1.421875 31.78125 -1.421875 \r\nQ 19.53125 -1.421875 13.0625 8.265625 \r\nQ 6.59375 17.96875 6.59375 36.375 \r\nQ 6.59375 54.828125 13.0625 64.515625 \r\nQ 19.53125 74.21875 31.78125 74.21875 \r\nz\r\n\" id=\"DejaVuSans-48\"/>\r\n        <path d=\"M 33.015625 40.375 \r\nQ 26.375 40.375 22.484375 35.828125 \r\nQ 18.609375 31.296875 18.609375 23.390625 \r\nQ 18.609375 15.53125 22.484375 10.953125 \r\nQ 26.375 6.390625 33.015625 6.390625 \r\nQ 39.65625 6.390625 43.53125 10.953125 \r\nQ 47.40625 15.53125 47.40625 23.390625 \r\nQ 47.40625 31.296875 43.53125 35.828125 \r\nQ 39.65625 40.375 33.015625 40.375 \r\nz\r\nM 52.59375 71.296875 \r\nL 52.59375 62.3125 \r\nQ 48.875 64.0625 45.09375 64.984375 \r\nQ 41.3125 65.921875 37.59375 65.921875 \r\nQ 27.828125 65.921875 22.671875 59.328125 \r\nQ 17.53125 52.734375 16.796875 39.40625 \r\nQ 19.671875 43.65625 24.015625 45.921875 \r\nQ 28.375 48.1875 33.59375 48.1875 \r\nQ 44.578125 48.1875 50.953125 41.515625 \r\nQ 57.328125 34.859375 57.328125 23.390625 \r\nQ 57.328125 12.15625 50.6875 5.359375 \r\nQ 44.046875 -1.421875 33.015625 -1.421875 \r\nQ 20.359375 -1.421875 13.671875 8.265625 \r\nQ 6.984375 17.96875 6.984375 36.375 \r\nQ 6.984375 53.65625 15.1875 63.9375 \r\nQ 23.390625 74.21875 37.203125 74.21875 \r\nQ 40.921875 74.21875 44.703125 73.484375 \r\nQ 48.484375 72.75 52.59375 71.296875 \r\nz\r\n\" id=\"DejaVuSans-54\"/>\r\n        <path d=\"M 37.796875 64.3125 \r\nL 12.890625 25.390625 \r\nL 37.796875 25.390625 \r\nz\r\nM 35.203125 72.90625 \r\nL 47.609375 72.90625 \r\nL 47.609375 25.390625 \r\nL 58.015625 25.390625 \r\nL 58.015625 17.1875 \r\nL 47.609375 17.1875 \r\nL 47.609375 0 \r\nL 37.796875 0 \r\nL 37.796875 17.1875 \r\nL 4.890625 17.1875 \r\nL 4.890625 26.703125 \r\nz\r\n\" id=\"DejaVuSans-52\"/>\r\n       </defs>\r\n       <use xlink:href=\"#DejaVuSans-48\"/>\r\n       <use x=\"63.623047\" xlink:href=\"#DejaVuSans-46\"/>\r\n       <use x=\"95.410156\" xlink:href=\"#DejaVuSans-54\"/>\r\n       <use x=\"159.033203\" xlink:href=\"#DejaVuSans-52\"/>\r\n      </g>\r\n     </g>\r\n    </g>\r\n    <g id=\"ytick_14\">\r\n     <g id=\"line2d_26\">\r\n      <g>\r\n       <use style=\"stroke:#000000;stroke-width:0.8;\" x=\"910.234125\" xlink:href=\"#md6faef05c6\" y=\"533.496822\"/>\r\n      </g>\r\n     </g>\r\n     <g id=\"text_26\">\r\n      <!-- 0.65 -->\r\n      <g transform=\"translate(917.234125 537.296041)scale(0.1 -0.1)\">\r\n       <defs>\r\n        <path d=\"M 10.796875 72.90625 \r\nL 49.515625 72.90625 \r\nL 49.515625 64.59375 \r\nL 19.828125 64.59375 \r\nL 19.828125 46.734375 \r\nQ 21.96875 47.46875 24.109375 47.828125 \r\nQ 26.265625 48.1875 28.421875 48.1875 \r\nQ 40.625 48.1875 47.75 41.5 \r\nQ 54.890625 34.8125 54.890625 23.390625 \r\nQ 54.890625 11.625 47.5625 5.09375 \r\nQ 40.234375 -1.421875 26.90625 -1.421875 \r\nQ 22.3125 -1.421875 17.546875 -0.640625 \r\nQ 12.796875 0.140625 7.71875 1.703125 \r\nL 7.71875 11.625 \r\nQ 12.109375 9.234375 16.796875 8.0625 \r\nQ 21.484375 6.890625 26.703125 6.890625 \r\nQ 35.15625 6.890625 40.078125 11.328125 \r\nQ 45.015625 15.765625 45.015625 23.390625 \r\nQ 45.015625 31 40.078125 35.4375 \r\nQ 35.15625 39.890625 26.703125 39.890625 \r\nQ 22.75 39.890625 18.8125 39.015625 \r\nQ 14.890625 38.140625 10.796875 36.28125 \r\nz\r\n\" id=\"DejaVuSans-53\"/>\r\n       </defs>\r\n       <use xlink:href=\"#DejaVuSans-48\"/>\r\n       <use x=\"63.623047\" xlink:href=\"#DejaVuSans-46\"/>\r\n       <use x=\"95.410156\" xlink:href=\"#DejaVuSans-54\"/>\r\n       <use x=\"159.033203\" xlink:href=\"#DejaVuSans-53\"/>\r\n      </g>\r\n     </g>\r\n    </g>\r\n    <g id=\"ytick_15\">\r\n     <g id=\"line2d_27\">\r\n      <g>\r\n       <use style=\"stroke:#000000;stroke-width:0.8;\" x=\"910.234125\" xlink:href=\"#md6faef05c6\" y=\"425.569156\"/>\r\n      </g>\r\n     </g>\r\n     <g id=\"text_27\">\r\n      <!-- 0.66 -->\r\n      <g transform=\"translate(917.234125 429.368375)scale(0.1 -0.1)\">\r\n       <use xlink:href=\"#DejaVuSans-48\"/>\r\n       <use x=\"63.623047\" xlink:href=\"#DejaVuSans-46\"/>\r\n       <use x=\"95.410156\" xlink:href=\"#DejaVuSans-54\"/>\r\n       <use x=\"159.033203\" xlink:href=\"#DejaVuSans-54\"/>\r\n      </g>\r\n     </g>\r\n    </g>\r\n    <g id=\"ytick_16\">\r\n     <g id=\"line2d_28\">\r\n      <g>\r\n       <use style=\"stroke:#000000;stroke-width:0.8;\" x=\"910.234125\" xlink:href=\"#md6faef05c6\" y=\"317.64149\"/>\r\n      </g>\r\n     </g>\r\n     <g id=\"text_28\">\r\n      <!-- 0.67 -->\r\n      <g transform=\"translate(917.234125 321.440709)scale(0.1 -0.1)\">\r\n       <defs>\r\n        <path d=\"M 8.203125 72.90625 \r\nL 55.078125 72.90625 \r\nL 55.078125 68.703125 \r\nL 28.609375 0 \r\nL 18.3125 0 \r\nL 43.21875 64.59375 \r\nL 8.203125 64.59375 \r\nz\r\n\" id=\"DejaVuSans-55\"/>\r\n       </defs>\r\n       <use xlink:href=\"#DejaVuSans-48\"/>\r\n       <use x=\"63.623047\" xlink:href=\"#DejaVuSans-46\"/>\r\n       <use x=\"95.410156\" xlink:href=\"#DejaVuSans-54\"/>\r\n       <use x=\"159.033203\" xlink:href=\"#DejaVuSans-55\"/>\r\n      </g>\r\n     </g>\r\n    </g>\r\n    <g id=\"ytick_17\">\r\n     <g id=\"line2d_29\">\r\n      <g>\r\n       <use style=\"stroke:#000000;stroke-width:0.8;\" x=\"910.234125\" xlink:href=\"#md6faef05c6\" y=\"209.713825\"/>\r\n      </g>\r\n     </g>\r\n     <g id=\"text_29\">\r\n      <!-- 0.68 -->\r\n      <g transform=\"translate(917.234125 213.513043)scale(0.1 -0.1)\">\r\n       <defs>\r\n        <path d=\"M 31.78125 34.625 \r\nQ 24.75 34.625 20.71875 30.859375 \r\nQ 16.703125 27.09375 16.703125 20.515625 \r\nQ 16.703125 13.921875 20.71875 10.15625 \r\nQ 24.75 6.390625 31.78125 6.390625 \r\nQ 38.8125 6.390625 42.859375 10.171875 \r\nQ 46.921875 13.96875 46.921875 20.515625 \r\nQ 46.921875 27.09375 42.890625 30.859375 \r\nQ 38.875 34.625 31.78125 34.625 \r\nz\r\nM 21.921875 38.8125 \r\nQ 15.578125 40.375 12.03125 44.71875 \r\nQ 8.5 49.078125 8.5 55.328125 \r\nQ 8.5 64.0625 14.71875 69.140625 \r\nQ 20.953125 74.21875 31.78125 74.21875 \r\nQ 42.671875 74.21875 48.875 69.140625 \r\nQ 55.078125 64.0625 55.078125 55.328125 \r\nQ 55.078125 49.078125 51.53125 44.71875 \r\nQ 48 40.375 41.703125 38.8125 \r\nQ 48.828125 37.15625 52.796875 32.3125 \r\nQ 56.78125 27.484375 56.78125 20.515625 \r\nQ 56.78125 9.90625 50.3125 4.234375 \r\nQ 43.84375 -1.421875 31.78125 -1.421875 \r\nQ 19.734375 -1.421875 13.25 4.234375 \r\nQ 6.78125 9.90625 6.78125 20.515625 \r\nQ 6.78125 27.484375 10.78125 32.3125 \r\nQ 14.796875 37.15625 21.921875 38.8125 \r\nz\r\nM 18.3125 54.390625 \r\nQ 18.3125 48.734375 21.84375 45.5625 \r\nQ 25.390625 42.390625 31.78125 42.390625 \r\nQ 38.140625 42.390625 41.71875 45.5625 \r\nQ 45.3125 48.734375 45.3125 54.390625 \r\nQ 45.3125 60.0625 41.71875 63.234375 \r\nQ 38.140625 66.40625 31.78125 66.40625 \r\nQ 25.390625 66.40625 21.84375 63.234375 \r\nQ 18.3125 60.0625 18.3125 54.390625 \r\nz\r\n\" id=\"DejaVuSans-56\"/>\r\n       </defs>\r\n       <use xlink:href=\"#DejaVuSans-48\"/>\r\n       <use x=\"63.623047\" xlink:href=\"#DejaVuSans-46\"/>\r\n       <use x=\"95.410156\" xlink:href=\"#DejaVuSans-54\"/>\r\n       <use x=\"159.033203\" xlink:href=\"#DejaVuSans-56\"/>\r\n      </g>\r\n     </g>\r\n    </g>\r\n    <g id=\"ytick_18\">\r\n     <g id=\"line2d_30\">\r\n      <g>\r\n       <use style=\"stroke:#000000;stroke-width:0.8;\" x=\"910.234125\" xlink:href=\"#md6faef05c6\" y=\"101.786159\"/>\r\n      </g>\r\n     </g>\r\n     <g id=\"text_30\">\r\n      <!-- 0.69 -->\r\n      <g transform=\"translate(917.234125 105.585378)scale(0.1 -0.1)\">\r\n       <defs>\r\n        <path d=\"M 10.984375 1.515625 \r\nL 10.984375 10.5 \r\nQ 14.703125 8.734375 18.5 7.8125 \r\nQ 22.3125 6.890625 25.984375 6.890625 \r\nQ 35.75 6.890625 40.890625 13.453125 \r\nQ 46.046875 20.015625 46.78125 33.40625 \r\nQ 43.953125 29.203125 39.59375 26.953125 \r\nQ 35.25 24.703125 29.984375 24.703125 \r\nQ 19.046875 24.703125 12.671875 31.3125 \r\nQ 6.296875 37.9375 6.296875 49.421875 \r\nQ 6.296875 60.640625 12.9375 67.421875 \r\nQ 19.578125 74.21875 30.609375 74.21875 \r\nQ 43.265625 74.21875 49.921875 64.515625 \r\nQ 56.59375 54.828125 56.59375 36.375 \r\nQ 56.59375 19.140625 48.40625 8.859375 \r\nQ 40.234375 -1.421875 26.421875 -1.421875 \r\nQ 22.703125 -1.421875 18.890625 -0.6875 \r\nQ 15.09375 0.046875 10.984375 1.515625 \r\nz\r\nM 30.609375 32.421875 \r\nQ 37.25 32.421875 41.125 36.953125 \r\nQ 45.015625 41.5 45.015625 49.421875 \r\nQ 45.015625 57.28125 41.125 61.84375 \r\nQ 37.25 66.40625 30.609375 66.40625 \r\nQ 23.96875 66.40625 20.09375 61.84375 \r\nQ 16.21875 57.28125 16.21875 49.421875 \r\nQ 16.21875 41.5 20.09375 36.953125 \r\nQ 23.96875 32.421875 30.609375 32.421875 \r\nz\r\n\" id=\"DejaVuSans-57\"/>\r\n       </defs>\r\n       <use xlink:href=\"#DejaVuSans-48\"/>\r\n       <use x=\"63.623047\" xlink:href=\"#DejaVuSans-46\"/>\r\n       <use x=\"95.410156\" xlink:href=\"#DejaVuSans-54\"/>\r\n       <use x=\"159.033203\" xlink:href=\"#DejaVuSans-57\"/>\r\n      </g>\r\n     </g>\r\n    </g>\r\n   </g>\r\n   <g id=\"patch_4\">\r\n    <path d=\"M 877.618125 659.52 \r\nL 877.618125 656.971875 \r\nL 877.618125 9.748125 \r\nL 877.618125 7.2 \r\nL 910.234125 7.2 \r\nL 910.234125 9.748125 \r\nL 910.234125 656.971875 \r\nL 910.234125 659.52 \r\nz\r\n\" style=\"fill:none;\"/>\r\n   </g>\r\n  </g>\r\n </g>\r\n <defs>\r\n  <clipPath id=\"pc86e80bbe4\">\r\n   <rect height=\"652.32\" width=\"803.52\" x=\"23.878125\" y=\"7.2\"/>\r\n  </clipPath>\r\n  <clipPath id=\"p415c57aff1\">\r\n   <rect height=\"652.32\" width=\"32.616\" x=\"877.618125\" y=\"7.2\"/>\r\n  </clipPath>\r\n </defs>\r\n</svg>\r\n",
      "image/png": "[encoded data removed]"
     },
     "metadata": {
      "needs_background": "light"
     }
    }
   ],
   "source": [
    "# frequent tags\n",
    "# filter the df to get P(t2, t1) > 0.5\n",
    "tags_frequent = tags_df[tags_df>0.5]\n",
    "plt.figure(figsize=(18, 12))\n",
    "sns.heatmap(tags_frequent)\n",
    "plt.show()"
   ]
  },
  {
   "cell_type": "code",
   "execution_count": 19,
   "metadata": {},
   "outputs": [],
   "source": [
    "import functools\n",
    "import time\n",
    "def timer(func):\n",
    "    @functools.wraps(func)\n",
    "    def wrapper_timer(*args, **kwargs):\n",
    "        start = time.time()\n",
    "        value = func(*args, **kwargs)\n",
    "        print(f'{func.__name__} processsing finished in {time.time()-start} seconds')\n",
    "        return value \n",
    "    wrapper_timer._original = func\n",
    "    return wrapper_timer\n",
    "\n",
    "# Viterbi Heuristic\n",
    "@timer\n",
    "def Viterbi(words, train_bag = train_tagged_words):\n",
    "    state = []\n",
    "    T = list(set([pair[1] for pair in train_bag]))\n",
    "    \n",
    "    for key, word in enumerate(words):\n",
    "        #initialise list of probability column for a given observation\n",
    "        p = [] \n",
    "        for tag in T:\n",
    "            if key == 0:\n",
    "                transition_p = tags_df.loc['.', tag]\n",
    "            else:\n",
    "                transition_p = tags_df.loc[state[-1], tag]\n",
    "                \n",
    "            # compute emission and state probabilities\n",
    "            emission_p = word_given_tag(words[key], tag)[0]/word_given_tag(words[key], tag)[1]\n",
    "            state_probability = emission_p * transition_p    \n",
    "            p.append(state_probability)\n",
    "            \n",
    "        pmax = max(p)\n",
    "        # getting state for which probability is maximum\n",
    "        state_max = T[p.index(pmax)] \n",
    "        state.append(state_max)\n",
    "    return list(zip(words, state))"
   ]
  },
  {
   "cell_type": "code",
   "execution_count": 20,
   "metadata": {},
   "outputs": [
    {
     "output_type": "execute_result",
     "data": {
      "text/plain": [
       "[[('Payments', 'NOUN'),\n",
       "  ('are', 'VERB'),\n",
       "  ('expected', 'VERB'),\n",
       "  ('*-1', 'X'),\n",
       "  ('to', 'PRT'),\n",
       "  ('range', 'VERB'),\n",
       "  ('between', 'ADP'),\n",
       "  ('$', '.'),\n",
       "  ('9', 'NUM'),\n",
       "  ('billion', 'NUM'),\n",
       "  ('*U*', 'X'),\n",
       "  ('and', 'CONJ'),\n",
       "  ('$', '.'),\n",
       "  ('12', 'NUM'),\n",
       "  ('billion', 'NUM'),\n",
       "  ('*U*', 'X'),\n",
       "  ('this', 'DET'),\n",
       "  ('year', 'NOUN'),\n",
       "  ('.', '.')],\n",
       " [('The', 'DET'),\n",
       "  ('board', 'NOUN'),\n",
       "  ('is', 'VERB'),\n",
       "  ('dominated', 'VERB'),\n",
       "  ('*-41', 'X'),\n",
       "  ('by', 'ADP'),\n",
       "  ('the', 'DET'),\n",
       "  ('heirs', 'NOUN'),\n",
       "  ('of', 'ADP'),\n",
       "  ('the', 'DET'),\n",
       "  ('late', 'ADJ'),\n",
       "  ('John', 'NOUN'),\n",
       "  ('T.', 'NOUN'),\n",
       "  ('Dorrance', 'NOUN'),\n",
       "  ('Jr.', 'NOUN'),\n",
       "  (',', '.'),\n",
       "  ('who', 'PRON'),\n",
       "  ('*T*-31', 'X'),\n",
       "  ('controlled', 'VERB'),\n",
       "  ('about', 'ADP'),\n",
       "  ('58', 'NUM'),\n",
       "  ('%', 'NOUN'),\n",
       "  ('of', 'ADP'),\n",
       "  ('Campbell', 'NOUN'),\n",
       "  (\"'s\", 'PRT'),\n",
       "  ('stock', 'NOUN'),\n",
       "  ('when', 'ADV'),\n",
       "  ('he', 'PRON'),\n",
       "  ('died', 'VERB'),\n",
       "  ('in', 'ADP'),\n",
       "  ('April', 'NOUN'),\n",
       "  ('*T*-1', 'X'),\n",
       "  ('.', '.')],\n",
       " [('Heating', 'NOUN'),\n",
       "  ('oil', 'NOUN'),\n",
       "  ('for', 'ADP'),\n",
       "  ('November', 'NOUN'),\n",
       "  ('delivery', 'NOUN'),\n",
       "  ('ended', 'VERB'),\n",
       "  ('at', 'ADP'),\n",
       "  ('58.64', 'NUM'),\n",
       "  ('cents', 'NOUN'),\n",
       "  ('a', 'DET'),\n",
       "  ('gallon', 'NOUN'),\n",
       "  (',', '.'),\n",
       "  ('up', 'ADV'),\n",
       "  ('one', 'NUM'),\n",
       "  ('cent', 'NOUN'),\n",
       "  ('on', 'ADP'),\n",
       "  ('the', 'DET'),\n",
       "  ('New', 'NOUN'),\n",
       "  ('York', 'NOUN'),\n",
       "  ('Mercantile', 'NOUN'),\n",
       "  ('Exchange', 'NOUN'),\n",
       "  ('.', '.')],\n",
       " [('Video', 'NOUN'),\n",
       "  ('Tip', 'NOUN'),\n",
       "  (':', '.'),\n",
       "  ('Before', 'ADP'),\n",
       "  ('*-1', 'X'),\n",
       "  ('seeing', 'VERB'),\n",
       "  ('``', '.'),\n",
       "  ('Sidewalk', 'NOUN'),\n",
       "  ('Stories', 'NOUN'),\n",
       "  (',', '.'),\n",
       "  (\"''\", '.'),\n",
       "  ('*', 'X'),\n",
       "  ('take', 'VERB'),\n",
       "  ('a', 'DET'),\n",
       "  ('look', 'NOUN'),\n",
       "  ('at', 'ADP'),\n",
       "  ('``', '.'),\n",
       "  ('City', 'NOUN'),\n",
       "  ('Lights', 'NOUN'),\n",
       "  (',', '.'),\n",
       "  (\"''\", '.'),\n",
       "  ('Chaplin', 'NOUN'),\n",
       "  (\"'s\", 'PRT'),\n",
       "  ('Tramp', 'NOUN'),\n",
       "  ('at', 'ADP'),\n",
       "  ('his', 'PRON'),\n",
       "  ('finest', 'ADJ'),\n",
       "  ('.', '.')],\n",
       " [('The', 'DET'),\n",
       "  ('El', 'NOUN'),\n",
       "  ('Paso', 'NOUN'),\n",
       "  (',', '.'),\n",
       "  ('Texas', 'NOUN'),\n",
       "  (',', '.'),\n",
       "  ('maker', 'NOUN'),\n",
       "  ('of', 'ADP'),\n",
       "  ('Western', 'ADJ'),\n",
       "  ('boots', 'NOUN'),\n",
       "  ('and', 'CONJ'),\n",
       "  ('leather', 'NOUN'),\n",
       "  ('accessories', 'NOUN'),\n",
       "  ('said', 'VERB'),\n",
       "  ('0', 'X'),\n",
       "  ('the', 'DET'),\n",
       "  ('preferred', 'VERB'),\n",
       "  ('stock', 'NOUN'),\n",
       "  ('would', 'VERB'),\n",
       "  ('accrue', 'VERB'),\n",
       "  ('dividends', 'NOUN'),\n",
       "  ('at', 'ADP'),\n",
       "  ('a', 'DET'),\n",
       "  ('12', 'NUM'),\n",
       "  ('%', 'NOUN'),\n",
       "  ('rate', 'NOUN'),\n",
       "  (',', '.'),\n",
       "  ('but', 'CONJ'),\n",
       "  ('would', 'VERB'),\n",
       "  (\"n't\", 'ADV'),\n",
       "  ('be', 'VERB'),\n",
       "  ('paid', 'VERB'),\n",
       "  ('*-1', 'X'),\n",
       "  ('for', 'ADP'),\n",
       "  ('the', 'DET'),\n",
       "  ('first', 'ADJ'),\n",
       "  ('two', 'NUM'),\n",
       "  ('years', 'NOUN'),\n",
       "  ('.', '.')]]"
      ]
     },
     "metadata": {},
     "execution_count": 20
    }
   ],
   "source": [
    "# Running on entire test dataset would take more than 3-4hrs. \n",
    "# Let's test our Viterbi algorithm on a few sample sentences of test dataset\n",
    "\n",
    "random.seed(42)\n",
    "\n",
    "# choose random 5 sents\n",
    "rndom = [random.randint(1,len(test_set)) for x in range(5)]\n",
    "\n",
    "# list of sents\n",
    "test_run = [test_set[i] for i in rndom]\n",
    "\n",
    "# list of tagged words\n",
    "test_run_base = [tup for sent in test_run for tup in sent]\n",
    "\n",
    "# list of untagged words\n",
    "test_tagged_words = [tup[0] for sent in test_run for tup in sent]\n",
    "test_run"
   ]
  },
  {
   "cell_type": "code",
   "execution_count": 21,
   "metadata": {},
   "outputs": [
    {
     "output_type": "stream",
     "name": "stdout",
     "text": [
      "Viterbi processsing finished in 15.084974765777588 seconds\n"
     ]
    }
   ],
   "source": [
    "# tagging the test sentences\n",
    "tagged_seq = Viterbi(test_tagged_words)"
   ]
  },
  {
   "cell_type": "code",
   "execution_count": 22,
   "metadata": {},
   "outputs": [
    {
     "output_type": "execute_result",
     "data": {
      "text/plain": [
       "[('Payments', 'NUM'),\n",
       " ('are', 'VERB'),\n",
       " ('expected', 'VERB'),\n",
       " ('*-1', 'X'),\n",
       " ('to', 'PRT'),\n",
       " ('range', 'NOUN'),\n",
       " ('between', 'ADP'),\n",
       " ('$', '.'),\n",
       " ('9', 'NUM'),\n",
       " ('billion', 'NUM')]"
      ]
     },
     "metadata": {},
     "execution_count": 22
    }
   ],
   "source": [
    "tagged_seq[:10]"
   ]
  },
  {
   "cell_type": "code",
   "execution_count": 23,
   "metadata": {},
   "outputs": [
    {
     "output_type": "stream",
     "name": "stdout",
     "text": [
      "Accuracy using Vanilla Viterbi Algorithm on Test Set: 0.9148936170212766\n"
     ]
    }
   ],
   "source": [
    "# accuracy\n",
    "check = [i for i, j in zip(tagged_seq, test_run_base) if i == j] \n",
    "print(f'Accuracy using Vanilla Viterbi Algorithm on Test Set: {len(check)/len(tagged_seq)}')"
   ]
  },
  {
   "cell_type": "code",
   "execution_count": 24,
   "metadata": {},
   "outputs": [
    {
     "output_type": "execute_result",
     "data": {
      "text/plain": [
       "[[('.', '.'), (('Payments', 'NUM'), ('Payments', 'NOUN'))],\n",
       " [('to', 'PRT'), (('range', 'NOUN'), ('range', 'VERB'))],\n",
       " [('the', 'DET'), (('heirs', 'NUM'), ('heirs', 'NOUN'))],\n",
       " [('.', '.'), (('Heating', 'NUM'), ('Heating', 'NOUN'))],\n",
       " [('.', '.'), (('Video', 'NUM'), ('Video', 'NOUN'))],\n",
       " [('Video', 'NOUN'), (('Tip', 'NUM'), ('Tip', 'NOUN'))],\n",
       " [('his', 'PRON'), (('finest', 'NUM'), ('finest', 'ADJ'))],\n",
       " [('El', 'NOUN'), (('Paso', 'NUM'), ('Paso', 'NOUN'))],\n",
       " [('Western', 'ADJ'), (('boots', 'NUM'), ('boots', 'NOUN'))],\n",
       " [('and', 'CONJ'), (('leather', 'NUM'), ('leather', 'NOUN'))],\n",
       " [('the', 'DET'), (('preferred', 'ADJ'), ('preferred', 'VERB'))],\n",
       " [('would', 'VERB'), (('accrue', 'NUM'), ('accrue', 'VERB'))]]"
      ]
     },
     "metadata": {},
     "execution_count": 24
    }
   ],
   "source": [
    "incorrect_tagged_cases = [[test_run_base[i-1],j] for i, j in enumerate(zip(tagged_seq, test_run_base)) if j[0]!=j[1]]\n",
    "incorrect_tagged_cases"
   ]
  },
  {
   "cell_type": "code",
   "execution_count": 25,
   "metadata": {},
   "outputs": [
    {
     "output_type": "execute_result",
     "data": {
      "text/plain": [
       "['Payments',\n",
       " 'range',\n",
       " 'heirs',\n",
       " 'Heating',\n",
       " 'Video',\n",
       " 'Tip',\n",
       " 'finest',\n",
       " 'Paso',\n",
       " 'boots',\n",
       " 'leather',\n",
       " 'preferred',\n",
       " 'accrue']"
      ]
     },
     "metadata": {},
     "execution_count": 25
    }
   ],
   "source": [
    "wrong_tagged_words = [j[0][0] for i, j in enumerate(zip(tagged_seq, test_run_base)) if j[0] != j[1]]\n",
    "wrong_tagged_words"
   ]
  },
  {
   "source": [
    "## Test Sentences"
   ],
   "cell_type": "markdown",
   "metadata": {}
  },
  {
   "cell_type": "code",
   "execution_count": 26,
   "metadata": {},
   "outputs": [
    {
     "output_type": "execute_result",
     "data": {
      "text/plain": [
       "                                            sentences\n",
       "0   Android is a mobile operating system developed...\n",
       "1   Android has been the best-selling OS worldwide...\n",
       "2   Google and Twitter made a deal in 2015 that ga...\n",
       "3   Twitter is an online news and social networkin...\n",
       "4   Before entering politics, Donald Trump was a d...\n",
       "5   The 2018 FIFA World Cup is the 21st FIFA World...\n",
       "6   This is the first World Cup to be held in East...\n",
       "7   Show me the cheapest round trips from Dallas t...\n",
       "8   I would like to see flights from Denver to Phi...\n",
       "9   Show me the price of the flights leaving Atlan...\n",
       "10  NASA invited social media users to experience ..."
      ],
      "text/html": "<div>\n<style scoped>\n    .dataframe tbody tr th:only-of-type {\n        vertical-align: middle;\n    }\n\n    .dataframe tbody tr th {\n        vertical-align: top;\n    }\n\n    .dataframe thead th {\n        text-align: right;\n    }\n</style>\n<table border=\"1\" class=\"dataframe\">\n  <thead>\n    <tr style=\"text-align: right;\">\n      <th></th>\n      <th>sentences</th>\n    </tr>\n  </thead>\n  <tbody>\n    <tr>\n      <th>0</th>\n      <td>Android is a mobile operating system developed...</td>\n    </tr>\n    <tr>\n      <th>1</th>\n      <td>Android has been the best-selling OS worldwide...</td>\n    </tr>\n    <tr>\n      <th>2</th>\n      <td>Google and Twitter made a deal in 2015 that ga...</td>\n    </tr>\n    <tr>\n      <th>3</th>\n      <td>Twitter is an online news and social networkin...</td>\n    </tr>\n    <tr>\n      <th>4</th>\n      <td>Before entering politics, Donald Trump was a d...</td>\n    </tr>\n    <tr>\n      <th>5</th>\n      <td>The 2018 FIFA World Cup is the 21st FIFA World...</td>\n    </tr>\n    <tr>\n      <th>6</th>\n      <td>This is the first World Cup to be held in East...</td>\n    </tr>\n    <tr>\n      <th>7</th>\n      <td>Show me the cheapest round trips from Dallas t...</td>\n    </tr>\n    <tr>\n      <th>8</th>\n      <td>I would like to see flights from Denver to Phi...</td>\n    </tr>\n    <tr>\n      <th>9</th>\n      <td>Show me the price of the flights leaving Atlan...</td>\n    </tr>\n    <tr>\n      <th>10</th>\n      <td>NASA invited social media users to experience ...</td>\n    </tr>\n  </tbody>\n</table>\n</div>"
     },
     "metadata": {},
     "execution_count": 26
    }
   ],
   "source": [
    "# load test sentences\n",
    "test_sentences_df = pd.read_csv('https://cdn.upgrad.com/UpGrad/temp/9dca5f3b-53c3-47e1-86d5-5ec5dafad6f0/Test_sentences.txt',header=None, delimiter='\\n',names=  ['sentences'])\n",
    "test_sentences_df"
   ]
  },
  {
   "cell_type": "code",
   "execution_count": 27,
   "metadata": {},
   "outputs": [],
   "source": [
    "test_sentences_df['tokenized'] = test_sentences_df.sentences.apply(nltk.word_tokenize)"
   ]
  },
  {
   "cell_type": "code",
   "execution_count": 28,
   "metadata": {},
   "outputs": [],
   "source": [
    "test_sentences_df['tagged'] = test_sentences_df.tokenized.apply(Viterbi._original)"
   ]
  },
  {
   "cell_type": "code",
   "execution_count": 29,
   "metadata": {},
   "outputs": [
    {
     "output_type": "execute_result",
     "data": {
      "text/plain": [
       "                                            sentences  \\\n",
       "0   Android is a mobile operating system developed...   \n",
       "1   Android has been the best-selling OS worldwide...   \n",
       "2   Google and Twitter made a deal in 2015 that ga...   \n",
       "3   Twitter is an online news and social networkin...   \n",
       "4   Before entering politics, Donald Trump was a d...   \n",
       "5   The 2018 FIFA World Cup is the 21st FIFA World...   \n",
       "6   This is the first World Cup to be held in East...   \n",
       "7   Show me the cheapest round trips from Dallas t...   \n",
       "8   I would like to see flights from Denver to Phi...   \n",
       "9   Show me the price of the flights leaving Atlan...   \n",
       "10  NASA invited social media users to experience ...   \n",
       "\n",
       "                                            tokenized  \\\n",
       "0   [Android, is, a, mobile, operating, system, de...   \n",
       "1   [Android, has, been, the, best-selling, OS, wo...   \n",
       "2   [Google, and, Twitter, made, a, deal, in, 2015...   \n",
       "3   [Twitter, is, an, online, news, and, social, n...   \n",
       "4   [Before, entering, politics, ,, Donald, Trump,...   \n",
       "5   [The, 2018, FIFA, World, Cup, is, the, 21st, F...   \n",
       "6   [This, is, the, first, World, Cup, to, be, hel...   \n",
       "7   [Show, me, the, cheapest, round, trips, from, ...   \n",
       "8   [I, would, like, to, see, flights, from, Denve...   \n",
       "9   [Show, me, the, price, of, the, flights, leavi...   \n",
       "10  [NASA, invited, social, media, users, to, expe...   \n",
       "\n",
       "                                               tagged  \n",
       "0   [(Android, NUM), (is, VERB), (a, DET), (mobile...  \n",
       "1   [(Android, NUM), (has, VERB), (been, VERB), (t...  \n",
       "2   [(Google, NUM), (and, CONJ), (Twitter, NUM), (...  \n",
       "3   [(Twitter, NUM), (is, VERB), (an, DET), (onlin...  \n",
       "4   [(Before, ADP), (entering, VERB), (politics, N...  \n",
       "5   [(The, DET), (2018, NUM), (FIFA, NUM), (World,...  \n",
       "6   [(This, DET), (is, VERB), (the, DET), (first, ...  \n",
       "7   [(Show, NOUN), (me, PRON), (the, DET), (cheape...  \n",
       "8   [(I, PRON), (would, VERB), (like, ADP), (to, P...  \n",
       "9   [(Show, NOUN), (me, PRON), (the, DET), (price,...  \n",
       "10  [(NASA, NUM), (invited, NUM), (social, ADJ), (...  "
      ],
      "text/html": "<div>\n<style scoped>\n    .dataframe tbody tr th:only-of-type {\n        vertical-align: middle;\n    }\n\n    .dataframe tbody tr th {\n        vertical-align: top;\n    }\n\n    .dataframe thead th {\n        text-align: right;\n    }\n</style>\n<table border=\"1\" class=\"dataframe\">\n  <thead>\n    <tr style=\"text-align: right;\">\n      <th></th>\n      <th>sentences</th>\n      <th>tokenized</th>\n      <th>tagged</th>\n    </tr>\n  </thead>\n  <tbody>\n    <tr>\n      <th>0</th>\n      <td>Android is a mobile operating system developed...</td>\n      <td>[Android, is, a, mobile, operating, system, de...</td>\n      <td>[(Android, NUM), (is, VERB), (a, DET), (mobile...</td>\n    </tr>\n    <tr>\n      <th>1</th>\n      <td>Android has been the best-selling OS worldwide...</td>\n      <td>[Android, has, been, the, best-selling, OS, wo...</td>\n      <td>[(Android, NUM), (has, VERB), (been, VERB), (t...</td>\n    </tr>\n    <tr>\n      <th>2</th>\n      <td>Google and Twitter made a deal in 2015 that ga...</td>\n      <td>[Google, and, Twitter, made, a, deal, in, 2015...</td>\n      <td>[(Google, NUM), (and, CONJ), (Twitter, NUM), (...</td>\n    </tr>\n    <tr>\n      <th>3</th>\n      <td>Twitter is an online news and social networkin...</td>\n      <td>[Twitter, is, an, online, news, and, social, n...</td>\n      <td>[(Twitter, NUM), (is, VERB), (an, DET), (onlin...</td>\n    </tr>\n    <tr>\n      <th>4</th>\n      <td>Before entering politics, Donald Trump was a d...</td>\n      <td>[Before, entering, politics, ,, Donald, Trump,...</td>\n      <td>[(Before, ADP), (entering, VERB), (politics, N...</td>\n    </tr>\n    <tr>\n      <th>5</th>\n      <td>The 2018 FIFA World Cup is the 21st FIFA World...</td>\n      <td>[The, 2018, FIFA, World, Cup, is, the, 21st, F...</td>\n      <td>[(The, DET), (2018, NUM), (FIFA, NUM), (World,...</td>\n    </tr>\n    <tr>\n      <th>6</th>\n      <td>This is the first World Cup to be held in East...</td>\n      <td>[This, is, the, first, World, Cup, to, be, hel...</td>\n      <td>[(This, DET), (is, VERB), (the, DET), (first, ...</td>\n    </tr>\n    <tr>\n      <th>7</th>\n      <td>Show me the cheapest round trips from Dallas t...</td>\n      <td>[Show, me, the, cheapest, round, trips, from, ...</td>\n      <td>[(Show, NOUN), (me, PRON), (the, DET), (cheape...</td>\n    </tr>\n    <tr>\n      <th>8</th>\n      <td>I would like to see flights from Denver to Phi...</td>\n      <td>[I, would, like, to, see, flights, from, Denve...</td>\n      <td>[(I, PRON), (would, VERB), (like, ADP), (to, P...</td>\n    </tr>\n    <tr>\n      <th>9</th>\n      <td>Show me the price of the flights leaving Atlan...</td>\n      <td>[Show, me, the, price, of, the, flights, leavi...</td>\n      <td>[(Show, NOUN), (me, PRON), (the, DET), (price,...</td>\n    </tr>\n    <tr>\n      <th>10</th>\n      <td>NASA invited social media users to experience ...</td>\n      <td>[NASA, invited, social, media, users, to, expe...</td>\n      <td>[(NASA, NUM), (invited, NUM), (social, ADJ), (...</td>\n    </tr>\n  </tbody>\n</table>\n</div>"
     },
     "metadata": {},
     "execution_count": 29
    }
   ],
   "source": [
    "test_sentences_df"
   ]
  },
  {
   "cell_type": "code",
   "execution_count": 34,
   "metadata": {},
   "outputs": [],
   "source": [
    "# set(np.concatenate(test_sentences_df.tokenized))\n",
    "# set(test_sentences_df.tokenized.sum())"
   ]
  },
  {
   "cell_type": "code",
   "execution_count": 39,
   "metadata": {},
   "outputs": [
    {
     "output_type": "execute_result",
     "data": {
      "text/plain": [
       "{'.',\n",
       " 'ADJ',\n",
       " 'ADP',\n",
       " 'ADV',\n",
       " 'CONJ',\n",
       " 'DET',\n",
       " 'NOUN',\n",
       " 'NUM',\n",
       " 'PRON',\n",
       " 'PRT',\n",
       " 'VERB',\n",
       " 'X'}"
      ]
     },
     "metadata": {},
     "execution_count": 39
    }
   ],
   "source": []
  },
  {
   "cell_type": "code",
   "execution_count": 47,
   "metadata": {},
   "outputs": [
    {
     "output_type": "execute_result",
     "data": {
      "text/plain": [
       "          word     .  ADJ  ADP  ADV  CONJ  DET  NOUN  NUM  PRON  PRT  VERB  X\n",
       "0           's     0    0    0    0     0    0     0    0     0  726    99  0\n",
       "1            ,  4645    0    0    0     0    0     0    0     0    0     0  0\n",
       "2            .  3638    0    0    0     0    0     0    0     0    0     0  0\n",
       "3         11th     0    1    0    0     0    0     0    0     0    0     0  0\n",
       "4         2011     0    0    0    0     0    0     0    0     0    0     0  0\n",
       "..         ...   ...  ...  ...  ...   ...  ...   ...  ...   ...  ...   ... ..\n",
       "110      which     0    0    1    0     0  213     0    0     0    0     0  0\n",
       "111       with     0    0  367    0     0    0     0    0     0    0     0  0\n",
       "112  worldwide     0    0    0    0     0    0     0    0     0    0     0  0\n",
       "113      would     0    0    0    0     0    0     0    0     0    0   200  0\n",
       "114      years     0    0    0    0     0    0   112    0     0    0     0  0\n",
       "\n",
       "[115 rows x 13 columns]"
      ],
      "text/html": "<div>\n<style scoped>\n    .dataframe tbody tr th:only-of-type {\n        vertical-align: middle;\n    }\n\n    .dataframe tbody tr th {\n        vertical-align: top;\n    }\n\n    .dataframe thead th {\n        text-align: right;\n    }\n</style>\n<table border=\"1\" class=\"dataframe\">\n  <thead>\n    <tr style=\"text-align: right;\">\n      <th></th>\n      <th>word</th>\n      <th>.</th>\n      <th>ADJ</th>\n      <th>ADP</th>\n      <th>ADV</th>\n      <th>CONJ</th>\n      <th>DET</th>\n      <th>NOUN</th>\n      <th>NUM</th>\n      <th>PRON</th>\n      <th>PRT</th>\n      <th>VERB</th>\n      <th>X</th>\n    </tr>\n  </thead>\n  <tbody>\n    <tr>\n      <th>0</th>\n      <td>'s</td>\n      <td>0</td>\n      <td>0</td>\n      <td>0</td>\n      <td>0</td>\n      <td>0</td>\n      <td>0</td>\n      <td>0</td>\n      <td>0</td>\n      <td>0</td>\n      <td>726</td>\n      <td>99</td>\n      <td>0</td>\n    </tr>\n    <tr>\n      <th>1</th>\n      <td>,</td>\n      <td>4645</td>\n      <td>0</td>\n      <td>0</td>\n      <td>0</td>\n      <td>0</td>\n      <td>0</td>\n      <td>0</td>\n      <td>0</td>\n      <td>0</td>\n      <td>0</td>\n      <td>0</td>\n      <td>0</td>\n    </tr>\n    <tr>\n      <th>2</th>\n      <td>.</td>\n      <td>3638</td>\n      <td>0</td>\n      <td>0</td>\n      <td>0</td>\n      <td>0</td>\n      <td>0</td>\n      <td>0</td>\n      <td>0</td>\n      <td>0</td>\n      <td>0</td>\n      <td>0</td>\n      <td>0</td>\n    </tr>\n    <tr>\n      <th>3</th>\n      <td>11th</td>\n      <td>0</td>\n      <td>1</td>\n      <td>0</td>\n      <td>0</td>\n      <td>0</td>\n      <td>0</td>\n      <td>0</td>\n      <td>0</td>\n      <td>0</td>\n      <td>0</td>\n      <td>0</td>\n      <td>0</td>\n    </tr>\n    <tr>\n      <th>4</th>\n      <td>2011</td>\n      <td>0</td>\n      <td>0</td>\n      <td>0</td>\n      <td>0</td>\n      <td>0</td>\n      <td>0</td>\n      <td>0</td>\n      <td>0</td>\n      <td>0</td>\n      <td>0</td>\n      <td>0</td>\n      <td>0</td>\n    </tr>\n    <tr>\n      <th>...</th>\n      <td>...</td>\n      <td>...</td>\n      <td>...</td>\n      <td>...</td>\n      <td>...</td>\n      <td>...</td>\n      <td>...</td>\n      <td>...</td>\n      <td>...</td>\n      <td>...</td>\n      <td>...</td>\n      <td>...</td>\n      <td>...</td>\n    </tr>\n    <tr>\n      <th>110</th>\n      <td>which</td>\n      <td>0</td>\n      <td>0</td>\n      <td>1</td>\n      <td>0</td>\n      <td>0</td>\n      <td>213</td>\n      <td>0</td>\n      <td>0</td>\n      <td>0</td>\n      <td>0</td>\n      <td>0</td>\n      <td>0</td>\n    </tr>\n    <tr>\n      <th>111</th>\n      <td>with</td>\n      <td>0</td>\n      <td>0</td>\n      <td>367</td>\n      <td>0</td>\n      <td>0</td>\n      <td>0</td>\n      <td>0</td>\n      <td>0</td>\n      <td>0</td>\n      <td>0</td>\n      <td>0</td>\n      <td>0</td>\n    </tr>\n    <tr>\n      <th>112</th>\n      <td>worldwide</td>\n      <td>0</td>\n      <td>0</td>\n      <td>0</td>\n      <td>0</td>\n      <td>0</td>\n      <td>0</td>\n      <td>0</td>\n      <td>0</td>\n      <td>0</td>\n      <td>0</td>\n      <td>0</td>\n      <td>0</td>\n    </tr>\n    <tr>\n      <th>113</th>\n      <td>would</td>\n      <td>0</td>\n      <td>0</td>\n      <td>0</td>\n      <td>0</td>\n      <td>0</td>\n      <td>0</td>\n      <td>0</td>\n      <td>0</td>\n      <td>0</td>\n      <td>0</td>\n      <td>200</td>\n      <td>0</td>\n    </tr>\n    <tr>\n      <th>114</th>\n      <td>years</td>\n      <td>0</td>\n      <td>0</td>\n      <td>0</td>\n      <td>0</td>\n      <td>0</td>\n      <td>0</td>\n      <td>112</td>\n      <td>0</td>\n      <td>0</td>\n      <td>0</td>\n      <td>0</td>\n      <td>0</td>\n    </tr>\n  </tbody>\n</table>\n<p>115 rows × 13 columns</p>\n</div>"
     },
     "metadata": {},
     "execution_count": 47
    }
   ],
   "source": [
    "# count of words vs tags from test file\n",
    "test_words = set(np.concatenate(test_sentences_df.tokenized))\n",
    "word_tag_count = [(word, tag, word_given_tag(word, tag)[0]) for word in test_words for tag in T]\n",
    "word_tag_count_df = pd.DataFrame.from_records(word_tag_count, columns=['word','tag','count'])\n",
    "word_tag_count_df = word_tag_count_df.pivot(index='word', columns='tag', values=['count']).reset_index()\n",
    "word_tag_count_df.columns = [col[1] if col[0] != 'word' else col[0] for col in word_tag_count_df.columns.values]\n",
    "word_tag_count_df"
   ]
  },
  {
   "cell_type": "code",
   "execution_count": 48,
   "metadata": {},
   "outputs": [],
   "source": [
    "word_tag_count_df.set_index('word',inplace=True,drop=True)\n",
    "unknown_words = word_tag_count_df.loc[(word_tag_count_df==0).all(axis=1)].index"
   ]
  },
  {
   "cell_type": "code",
   "execution_count": 53,
   "metadata": {},
   "outputs": [
    {
     "output_type": "stream",
     "name": "stdout",
     "text": [
      "There are 29 unknown words in the Test Sentences. And they are: \n2011\n2013\n2015\n2018\n21st\nAndroid\nCup\nFIFA\nGoogle\nICESAT-2\nNASA\nOS\nSatellite\nTwitter\narriving\nbest-selling\ncontested\ndomineering\nfirehose\ninteract\ninvited\nmessages\nonline\npersonality\nsmartphones\ntournament\ntrips\ntweets\nworldwide\n"
     ]
    }
   ],
   "source": [
    "print(f'There are {len(unknown_words)} unknown words in the Test Sentences. And they are: \\n{os.linesep.join(unknown_words)}')"
   ]
  },
  {
   "cell_type": "code",
   "execution_count": 56,
   "metadata": {},
   "outputs": [
    {
     "output_type": "execute_result",
     "data": {
      "text/plain": [
       "[('Android', 'NUM'),\n",
       " ('Google', 'NUM'),\n",
       " ('Android', 'NUM'),\n",
       " ('best-selling', 'NUM'),\n",
       " ('OS', 'NUM'),\n",
       " ('worldwide', 'NUM'),\n",
       " ('smartphones', 'NUM'),\n",
       " ('2011', 'NUM'),\n",
       " ('2013', 'NUM'),\n",
       " ('Google', 'NUM'),\n",
       " ('Twitter', 'NUM'),\n",
       " ('2015', 'NUM'),\n",
       " ('Google', 'NUM'),\n",
       " ('Twitter', 'NUM'),\n",
       " ('firehose', 'NUM'),\n",
       " ('Twitter', 'NUM'),\n",
       " ('online', 'NUM'),\n",
       " ('interact', 'NUM'),\n",
       " ('messages', 'NUM'),\n",
       " ('tweets', 'NUM'),\n",
       " ('domineering', 'NUM'),\n",
       " ('personality', 'NUM'),\n",
       " ('2018', 'NUM'),\n",
       " ('FIFA', 'NUM'),\n",
       " ('Cup', 'NUM'),\n",
       " ('21st', 'NUM'),\n",
       " ('FIFA', 'NUM'),\n",
       " ('Cup', 'NUM'),\n",
       " ('tournament', 'NUM'),\n",
       " ('contested', 'NUM'),\n",
       " ('Cup', 'NUM'),\n",
       " ('trips', 'NUM'),\n",
       " ('arriving', 'NUM'),\n",
       " ('NASA', 'NUM'),\n",
       " ('invited', 'NUM'),\n",
       " ('ICESAT-2', 'NUM'),\n",
       " ('Satellite', 'NUM')]"
      ]
     },
     "metadata": {},
     "execution_count": 56
    }
   ],
   "source": [
    "# Check what how are the unknown words are tagged by the Vanilla Viterbi Algorithm\n",
    "\n",
    "tagged_unknown_words =  [ word for word in test_sentences_df.tagged.sum() if word[0] in unknown_words]\n",
    "tagged_unknown_words"
   ]
  },
  {
   "source": [
    "_All of the unknown words have been tagged as NUM_"
   ],
   "cell_type": "markdown",
   "metadata": {}
  },
  {
   "source": [
    "https://nbviewer.jupyter.org/github/keensam04/upgrad_pgdmlai/blob/master/HMM-based_POS_tagger/Syntactic_Analysis_Assignment.ipynb\n",
    "\n",
    "https://github.com/iamurali/upgrad_ml_ai/blob/master/NLP/HMM%2B-based%2BPOS%2Btagging-%2BAssignment.ipynb"
   ],
   "cell_type": "markdown",
   "metadata": {}
  },
  {
   "cell_type": "markdown",
   "metadata": {},
   "source": [
    "### Solve the problem of unknown words"
   ]
  },
  {
   "source": [
    "We can take two approaches in solving the problem of unknown words.\n",
    "\n",
    "1.  Rule Based:\n",
    "    -   By assigning the most frequent tag in the corpus\n",
    "    -   By using a Combined tagger Based on Morphological Features (such as words ending with `-ED` are VERB usually), Unigram and Bigram Taggers\n",
    "2.  Probability Based\n",
    "    -   For all words in the corpus, State Probability = Transition Probability * Emission Probability\n",
    "    -   For words not in the corpus, State Probability = Transition Probability"
   ],
   "cell_type": "markdown",
   "metadata": {}
  },
  {
   "source": [
    "### Viterbi with Rule Based Tagging"
   ],
   "cell_type": "markdown",
   "metadata": {}
  },
  {
   "cell_type": "code",
   "execution_count": 76,
   "metadata": {},
   "outputs": [],
   "source": [
    "# Define Regex tag patterns\n",
    "patterns = [\n",
    "    (r'.*ing$', 'VERB'),              # gerund\n",
    "    (r'.*ed$', 'VERB'),               # past tense\n",
    "    (r'.*es$', 'VERB'),               # 3rd singular present\n",
    "    (r'.*ould$', 'VERB'),              # modals\n",
    "    (r'.*\\'s$', 'NOUN'),              # possessive nouns\n",
    "    (r'.*s$', 'NOUN'),                # plural nouns\n",
    "    (r'^-?[0-9]+(.[0-9]+)?$', 'NUM'), # cardinal numbers\n",
    "    (r'.*', 'NOUN')                    # nouns\n",
    "]\n",
    "\n",
    "regex_tagger = nltk.RegexpTagger(patterns)\n",
    "# Build a combined tagger Regex Tagging, Unigram and Bigram Tagging\n",
    "def combined_tagger(train_data,taggers,backoff=None):\n",
    "    for tagger in taggers:\n",
    "        backoff = tagger(train_data,backoff=backoff)\n",
    "    return backoff\n",
    "\n",
    "com_tagger = combined_tagger(train_set,\n",
    "                            taggers = [nltk.UnigramTagger,nltk.BigramTagger],\n",
    "                            backoff = regex_tagger\n",
    "                )"
   ]
  },
  {
   "cell_type": "code",
   "execution_count": 101,
   "metadata": {},
   "outputs": [],
   "source": [
    "@timer\n",
    "# def ViterbiWithBackoffTaggers(words,backoff_tagger,train_bag = train_tagged_words):\n",
    "#     state = []\n",
    "#     T = list(set([pair[1] for pair in train_bag]))\n",
    "    \n",
    "#     for key, word in enumerate(words):\n",
    "#         #initialise list of probability column for a given observation\n",
    "#         p = [] \n",
    "#         for tag in T:\n",
    "#             if key == 0:\n",
    "#                 transition_p = tags_df.loc['.', tag]\n",
    "#             else:\n",
    "#                 transition_p = tags_df.loc[state[-1], tag]\n",
    "                \n",
    "#             # compute emission and state probabilities\n",
    "#             emission_p = word_given_tag(words[key], tag)[0]/word_given_tag(words[key], tag)[1]\n",
    "#             state_probability = emission_p * transition_p    \n",
    "#             p.append(state_probability)\n",
    "            \n",
    "#         pmax = max(p)\n",
    "#         if(pmax == 0):\n",
    "#             state_max = backoff_tagger.tag([word])[0][1]\n",
    "#         else:\n",
    "#             state_max = T[p.index(pmax)]\n",
    "         \n",
    "#         state.append(state_max)\n",
    "#     return list(zip(words, state))\n",
    "\n",
    "def ViterbiWithBackoffTaggers(words,backoff_tagger,train_bag = train_tagged_words):\n",
    "    state = []\n",
    "    T = list(set([pair[1] for pair in train_bag]))\n",
    "    \n",
    "    for key, word in enumerate(words):\n",
    "        # unknown words from backoff_tagger\n",
    "        if word not in V:\n",
    "            print(word)\n",
    "            unk_word_tag=backoff_tagger.tag([word])[0][1]\n",
    "            state.append(unk_word_tag)\n",
    "        # rest remains same            \n",
    "        else:            \n",
    "            p = [] \n",
    "            for tag in T:\n",
    "                if key == 0:\n",
    "                    transition_p = tags_df.loc['.', tag]\n",
    "                else:\n",
    "                    transition_p = tags_df.loc[state[-1], tag]\n",
    "                \n",
    "            # compute emission and state probabilities\n",
    "                emission_p = word_given_tag(words[key], tag)[0]/word_given_tag(words[key], tag)[1]\n",
    "                state_probability = emission_p * transition_p    \n",
    "                p.append(state_probability)\n",
    "            \n",
    "            pmax = max(p)\n",
    "            # getting state for which probability is maximum\n",
    "            state_max = T[p.index(pmax)] \n",
    "            state.append(state_max)\n",
    "            \n",
    "    return list(zip(words, state))\n"
   ]
  },
  {
   "cell_type": "markdown",
   "metadata": {},
   "source": [
    "#### Evaluating tagging accuracy"
   ]
  },
  {
   "cell_type": "code",
   "execution_count": 102,
   "metadata": {},
   "outputs": [
    {
     "output_type": "stream",
     "name": "stdout",
     "text": [
      "Payments\n",
      "heirs\n",
      "Heating\n",
      "58.64\n",
      "Video\n",
      "Tip\n",
      "finest\n",
      "Paso\n",
      "boots\n",
      "leather\n",
      "accrue\n",
      "ViterbiWithBackoffTaggers processsing finished in 16.305351495742798 seconds\n",
      "Accuracy using Viterbi Algorithm with Backoff Tagger on Test Set: 0.9645390070921985\n"
     ]
    }
   ],
   "source": [
    "tagged_seq = ViterbiWithBackoffTaggers(test_tagged_words,com_tagger)\n",
    "\n",
    "# accuracy\n",
    "check = [i for i, j in zip(tagged_seq, test_run_base) if i == j] \n",
    "print(f'Accuracy using Viterbi Algorithm with Backoff Tagger on Test Set: {len(check)/len(tagged_seq)}')"
   ]
  },
  {
   "source": [
    "https://www.kaggle.com/deepanshusinha/hmms-and-viterbi-algorithm-for-pos-tagging"
   ],
   "cell_type": "markdown",
   "metadata": {}
  },
  {
   "cell_type": "code",
   "execution_count": null,
   "metadata": {},
   "outputs": [],
   "source": []
  },
  {
   "cell_type": "code",
   "execution_count": null,
   "metadata": {},
   "outputs": [],
   "source": []
  },
  {
   "cell_type": "markdown",
   "metadata": {},
   "source": [
    "### Compare the tagging accuracies of the modifications with the vanilla Viterbi algorithm"
   ]
  },
  {
   "cell_type": "code",
   "execution_count": null,
   "metadata": {},
   "outputs": [],
   "source": []
  },
  {
   "cell_type": "code",
   "execution_count": null,
   "metadata": {},
   "outputs": [],
   "source": []
  },
  {
   "cell_type": "code",
   "execution_count": null,
   "metadata": {},
   "outputs": [],
   "source": []
  },
  {
   "cell_type": "markdown",
   "metadata": {},
   "source": [
    "### List down cases which were incorrectly tagged by original POS tagger and got corrected by your modifications"
   ]
  },
  {
   "cell_type": "code",
   "execution_count": null,
   "metadata": {},
   "outputs": [],
   "source": []
  },
  {
   "cell_type": "code",
   "execution_count": null,
   "metadata": {},
   "outputs": [],
   "source": []
  },
  {
   "cell_type": "code",
   "execution_count": null,
   "metadata": {},
   "outputs": [],
   "source": []
  }
 ],
 "metadata": {
  "kernelspec": {
   "name": "python3",
   "display_name": "Python 3.8.6 64-bit ('env': venv)",
   "metadata": {
    "interpreter": {
     "hash": "fc5490c528836e1ddd0af3c74a60760eb1bf71c4669a2afabea412d5c4b2abd1"
    }
   }
  },
  "language_info": {
   "codemirror_mode": {
    "name": "ipython",
    "version": 3
   },
   "file_extension": ".py",
   "mimetype": "text/x-python",
   "name": "python",
   "nbconvert_exporter": "python",
   "pygments_lexer": "ipython3",
   "version": "3.8.6"
  }
 },
 "nbformat": 4,
 "nbformat_minor": 2
}