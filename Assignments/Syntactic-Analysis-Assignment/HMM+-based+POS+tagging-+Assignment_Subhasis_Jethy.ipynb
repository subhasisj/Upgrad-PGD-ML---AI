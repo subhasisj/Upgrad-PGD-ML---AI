{
 "cells": [
  {
   "cell_type": "markdown",
   "metadata": {},
   "source": [
    "## POS tagging using modified Viterbi\n",
    "\n",
    "\n",
    "The vanilla Viterbi algorithm written had resulted in ~87% accuracy. The approx. 13% loss of accuracy was majorly due to the fact that when the algorithm encountered an unknown word (i.e. not present in the training set, such as 'Twitter'), it assigned an incorrect tag arbitrarily. This is because, for unknown words, the emission probabilities for all candidate tags are 0, so the algorithm arbitrarily chooses (the first) tag.\n",
    "\n",
    "-Subhasis Jethy"
   ]
  },
  {
   "cell_type": "markdown",
   "metadata": {},
   "source": [
    "### Data Preparation\n",
    "\n",
    "For this assignment, you’ll use the Treebank dataset of NLTK with the 'universal' tagset. The Universal tagset of NLTK comprises only 12 coarse tag classes as follows: Verb, Noun, Pronouns, Adjectives, Adverbs, Adpositions, Conjunctions, Determiners, Cardinal Numbers, Particles, Other/ Foreign words, Punctuations.\n",
    "\n",
    " Note that using only 12 coarse classes (compared to the 46 fine classes such as NNP, VBD etc.) will make the Viterbi algorithm faster as well."
   ]
  },
  {
   "cell_type": "code",
   "execution_count": 1,
   "metadata": {},
   "outputs": [
    {
     "output_type": "stream",
     "name": "stdout",
     "text": [
      "Requirement already satisfied: Jinja2 in c:\\users\\u6083443\\documents\\repositories\\personal\\upgrad-pgd-ml---ai\\env\\lib\\site-packages (2.11.3)\n",
      "Requirement already satisfied: MarkupSafe>=0.23 in c:\\users\\u6083443\\documents\\repositories\\personal\\upgrad-pgd-ml---ai\\env\\lib\\site-packages (from Jinja2) (1.1.1)\n",
      "[nltk_data] Downloading package universal_tagset to\n",
      "[nltk_data]     C:\\Users\\U6083443\\AppData\\Roaming\\nltk_data...\n",
      "[nltk_data]   Package universal_tagset is already up-to-date!\n"
     ]
    },
    {
     "output_type": "execute_result",
     "data": {
      "text/plain": [
       "True"
      ]
     },
     "metadata": {},
     "execution_count": 1
    }
   ],
   "source": [
    "!pip install Jinja2\n",
    "\n",
    "#Importing libraries\n",
    "import nltk\n",
    "import random\n",
    "import numpy as np\n",
    "import pandas as pd\n",
    "import matplotlib.pyplot as plt\n",
    "import seaborn as sns\n",
    "import collections\n",
    "from tqdm import tqdm\n",
    "\n",
    "from sklearn.model_selection import train_test_split\n",
    "import warnings\n",
    "warnings.filterwarnings('ignore')\n",
    "\n",
    "nltk.download('universal_tagset')"
   ]
  },
  {
   "cell_type": "code",
   "execution_count": 2,
   "metadata": {},
   "outputs": [],
   "source": [
    "# reading the Treebank tagged sentences\n",
    "nltk_data = list(nltk.corpus.treebank.tagged_sents(tagset='universal'))"
   ]
  },
  {
   "cell_type": "code",
   "execution_count": 3,
   "metadata": {},
   "outputs": [
    {
     "output_type": "stream",
     "name": "stdout",
     "text": [
      "[[('Pierre', 'NOUN'), ('Vinken', 'NOUN'), (',', '.'), ('61', 'NUM'), ('years', 'NOUN'), ('old', 'ADJ'), (',', '.'), ('will', 'VERB'), ('join', 'VERB'), ('the', 'DET'), ('board', 'NOUN'), ('as', 'ADP'), ('a', 'DET'), ('nonexecutive', 'ADJ'), ('director', 'NOUN'), ('Nov.', 'NOUN'), ('29', 'NUM'), ('.', '.')], [('Mr.', 'NOUN'), ('Vinken', 'NOUN'), ('is', 'VERB'), ('chairman', 'NOUN'), ('of', 'ADP'), ('Elsevier', 'NOUN'), ('N.V.', 'NOUN'), (',', '.'), ('the', 'DET'), ('Dutch', 'NOUN'), ('publishing', 'VERB'), ('group', 'NOUN'), ('.', '.')], [('Rudolph', 'NOUN'), ('Agnew', 'NOUN'), (',', '.'), ('55', 'NUM'), ('years', 'NOUN'), ('old', 'ADJ'), ('and', 'CONJ'), ('former', 'ADJ'), ('chairman', 'NOUN'), ('of', 'ADP'), ('Consolidated', 'NOUN'), ('Gold', 'NOUN'), ('Fields', 'NOUN'), ('PLC', 'NOUN'), (',', '.'), ('was', 'VERB'), ('named', 'VERB'), ('*-1', 'X'), ('a', 'DET'), ('nonexecutive', 'ADJ'), ('director', 'NOUN'), ('of', 'ADP'), ('this', 'DET'), ('British', 'ADJ'), ('industrial', 'ADJ'), ('conglomerate', 'NOUN'), ('.', '.')], [('A', 'DET'), ('form', 'NOUN'), ('of', 'ADP'), ('asbestos', 'NOUN'), ('once', 'ADV'), ('used', 'VERB'), ('*', 'X'), ('*', 'X'), ('to', 'PRT'), ('make', 'VERB'), ('Kent', 'NOUN'), ('cigarette', 'NOUN'), ('filters', 'NOUN'), ('has', 'VERB'), ('caused', 'VERB'), ('a', 'DET'), ('high', 'ADJ'), ('percentage', 'NOUN'), ('of', 'ADP'), ('cancer', 'NOUN'), ('deaths', 'NOUN'), ('among', 'ADP'), ('a', 'DET'), ('group', 'NOUN'), ('of', 'ADP'), ('workers', 'NOUN'), ('exposed', 'VERB'), ('*', 'X'), ('to', 'PRT'), ('it', 'PRON'), ('more', 'ADV'), ('than', 'ADP'), ('30', 'NUM'), ('years', 'NOUN'), ('ago', 'ADP'), (',', '.'), ('researchers', 'NOUN'), ('reported', 'VERB'), ('0', 'X'), ('*T*-1', 'X'), ('.', '.')], [('The', 'DET'), ('asbestos', 'NOUN'), ('fiber', 'NOUN'), (',', '.'), ('crocidolite', 'NOUN'), (',', '.'), ('is', 'VERB'), ('unusually', 'ADV'), ('resilient', 'ADJ'), ('once', 'ADP'), ('it', 'PRON'), ('enters', 'VERB'), ('the', 'DET'), ('lungs', 'NOUN'), (',', '.'), ('with', 'ADP'), ('even', 'ADV'), ('brief', 'ADJ'), ('exposures', 'NOUN'), ('to', 'PRT'), ('it', 'PRON'), ('causing', 'VERB'), ('symptoms', 'NOUN'), ('that', 'DET'), ('*T*-1', 'X'), ('show', 'VERB'), ('up', 'PRT'), ('decades', 'NOUN'), ('later', 'ADJ'), (',', '.'), ('researchers', 'NOUN'), ('said', 'VERB'), ('0', 'X'), ('*T*-2', 'X'), ('.', '.')], [('Lorillard', 'NOUN'), ('Inc.', 'NOUN'), (',', '.'), ('the', 'DET'), ('unit', 'NOUN'), ('of', 'ADP'), ('New', 'ADJ'), ('York-based', 'ADJ'), ('Loews', 'NOUN'), ('Corp.', 'NOUN'), ('that', 'DET'), ('*T*-2', 'X'), ('makes', 'VERB'), ('Kent', 'NOUN'), ('cigarettes', 'NOUN'), (',', '.'), ('stopped', 'VERB'), ('using', 'VERB'), ('crocidolite', 'NOUN'), ('in', 'ADP'), ('its', 'PRON'), ('Micronite', 'NOUN'), ('cigarette', 'NOUN'), ('filters', 'NOUN'), ('in', 'ADP'), ('1956', 'NUM'), ('.', '.')], [('Although', 'ADP'), ('preliminary', 'ADJ'), ('findings', 'NOUN'), ('were', 'VERB'), ('reported', 'VERB'), ('*-2', 'X'), ('more', 'ADV'), ('than', 'ADP'), ('a', 'DET'), ('year', 'NOUN'), ('ago', 'ADP'), (',', '.'), ('the', 'DET'), ('latest', 'ADJ'), ('results', 'NOUN'), ('appear', 'VERB'), ('in', 'ADP'), ('today', 'NOUN'), (\"'s\", 'PRT'), ('New', 'NOUN'), ('England', 'NOUN'), ('Journal', 'NOUN'), ('of', 'ADP'), ('Medicine', 'NOUN'), (',', '.'), ('a', 'DET'), ('forum', 'NOUN'), ('likely', 'ADJ'), ('*', 'X'), ('to', 'PRT'), ('bring', 'VERB'), ('new', 'ADJ'), ('attention', 'NOUN'), ('to', 'PRT'), ('the', 'DET'), ('problem', 'NOUN'), ('.', '.')], [('A', 'DET'), ('Lorillard', 'NOUN'), ('spokewoman', 'NOUN'), ('said', 'VERB'), (',', '.'), ('``', '.'), ('This', 'DET'), ('is', 'VERB'), ('an', 'DET'), ('old', 'ADJ'), ('story', 'NOUN'), ('.', '.')], [('We', 'PRON'), (\"'re\", 'VERB'), ('talking', 'VERB'), ('about', 'ADP'), ('years', 'NOUN'), ('ago', 'ADP'), ('before', 'ADP'), ('anyone', 'NOUN'), ('heard', 'VERB'), ('of', 'ADP'), ('asbestos', 'NOUN'), ('having', 'VERB'), ('any', 'DET'), ('questionable', 'ADJ'), ('properties', 'NOUN'), ('.', '.')], [('There', 'DET'), ('is', 'VERB'), ('no', 'DET'), ('asbestos', 'NOUN'), ('in', 'ADP'), ('our', 'PRON'), ('products', 'NOUN'), ('now', 'ADV'), ('.', '.'), (\"''\", '.')], [('Neither', 'DET'), ('Lorillard', 'NOUN'), ('nor', 'CONJ'), ('the', 'DET'), ('researchers', 'NOUN'), ('who', 'PRON'), ('*T*-3', 'X'), ('studied', 'VERB'), ('the', 'DET'), ('workers', 'NOUN'), ('were', 'VERB'), ('aware', 'ADJ'), ('of', 'ADP'), ('any', 'DET'), ('research', 'NOUN'), ('on', 'ADP'), ('smokers', 'NOUN'), ('of', 'ADP'), ('the', 'DET'), ('Kent', 'NOUN'), ('cigarettes', 'NOUN'), ('.', '.')], [('``', '.'), ('We', 'PRON'), ('have', 'VERB'), ('no', 'DET'), ('useful', 'ADJ'), ('information', 'NOUN'), ('on', 'ADP'), ('whether', 'ADP'), ('users', 'NOUN'), ('are', 'VERB'), ('at', 'ADP'), ('risk', 'NOUN'), (',', '.'), (\"''\", '.'), ('said', 'VERB'), ('*T*-1', 'X'), ('James', 'NOUN'), ('A.', 'NOUN'), ('Talcott', 'NOUN'), ('of', 'ADP'), ('Boston', 'NOUN'), (\"'s\", 'PRT'), ('Dana-Farber', 'NOUN'), ('Cancer', 'NOUN'), ('Institute', 'NOUN'), ('.', '.')], [('Dr.', 'NOUN'), ('Talcott', 'NOUN'), ('led', 'VERB'), ('a', 'DET'), ('team', 'NOUN'), ('of', 'ADP'), ('researchers', 'NOUN'), ('from', 'ADP'), ('the', 'DET'), ('National', 'NOUN'), ('Cancer', 'NOUN'), ('Institute', 'NOUN'), ('and', 'CONJ'), ('the', 'DET'), ('medical', 'ADJ'), ('schools', 'NOUN'), ('of', 'ADP'), ('Harvard', 'NOUN'), ('University', 'NOUN'), ('and', 'CONJ'), ('Boston', 'NOUN'), ('University', 'NOUN'), ('.', '.')], [('The', 'DET'), ('Lorillard', 'NOUN'), ('spokeswoman', 'NOUN'), ('said', 'VERB'), ('0', 'X'), ('asbestos', 'NOUN'), ('was', 'VERB'), ('used', 'VERB'), ('*-1', 'X'), ('in', 'ADP'), ('``', '.'), ('very', 'ADV'), ('modest', 'ADJ'), ('amounts', 'NOUN'), (\"''\", '.'), ('in', 'ADP'), ('*', 'X'), ('making', 'VERB'), ('paper', 'NOUN'), ('for', 'ADP'), ('the', 'DET'), ('filters', 'NOUN'), ('in', 'ADP'), ('the', 'DET'), ('early', 'ADJ'), ('1950s', 'NUM'), ('and', 'CONJ'), ('replaced', 'VERB'), ('*-1', 'X'), ('with', 'ADP'), ('a', 'DET'), ('different', 'ADJ'), ('type', 'NOUN'), ('of', 'ADP'), ('filter', 'NOUN'), ('in', 'ADP'), ('1956', 'NUM'), ('.', '.')], [('From', 'ADP'), ('1953', 'NUM'), ('to', 'PRT'), ('1955', 'NUM'), (',', '.'), ('9.8', 'NUM'), ('billion', 'NUM'), ('Kent', 'NOUN'), ('cigarettes', 'NOUN'), ('with', 'ADP'), ('the', 'DET'), ('filters', 'NOUN'), ('were', 'VERB'), ('sold', 'VERB'), ('*-3', 'X'), (',', '.'), ('the', 'DET'), ('company', 'NOUN'), ('said', 'VERB'), ('0', 'X'), ('*T*-1', 'X'), ('.', '.')], [('Among', 'ADP'), ('33', 'NUM'), ('men', 'NOUN'), ('who', 'PRON'), ('*T*-4', 'X'), ('worked', 'VERB'), ('closely', 'ADV'), ('with', 'ADP'), ('the', 'DET'), ('substance', 'NOUN'), (',', '.'), ('28', 'NUM'), ('*ICH*-1', 'X'), ('have', 'VERB'), ('died', 'VERB'), ('--', '.'), ('more', 'ADJ'), ('than', 'ADP'), ('three', 'NUM'), ('times', 'NOUN'), ('the', 'DET'), ('expected', 'VERB'), ('number', 'NOUN'), ('.', '.')], [('Four', 'NUM'), ('of', 'ADP'), ('the', 'DET'), ('five', 'NUM'), ('surviving', 'VERB'), ('workers', 'NOUN'), ('have', 'VERB'), ('asbestos-related', 'ADJ'), ('diseases', 'NOUN'), (',', '.'), ('including', 'VERB'), ('three', 'NUM'), ('with', 'ADP'), ('recently', 'ADV'), ('diagnosed', 'VERB'), ('cancer', 'NOUN'), ('.', '.')], [('The', 'DET'), ('total', 'NOUN'), ('of', 'ADP'), ('18', 'NUM'), ('deaths', 'NOUN'), ('from', 'ADP'), ('malignant', 'ADJ'), ('mesothelioma', 'NOUN'), (',', '.'), ('lung', 'NOUN'), ('cancer', 'NOUN'), ('and', 'CONJ'), ('asbestosis', 'NOUN'), ('was', 'VERB'), ('far', 'ADV'), ('higher', 'ADJ'), ('than', 'ADP'), ('*', 'X'), ('expected', 'VERB'), ('*?*', 'X'), (',', '.'), ('the', 'DET'), ('researchers', 'NOUN'), ('said', 'VERB'), ('0', 'X'), ('*T*-1', 'X'), ('.', '.')], [('``', '.'), ('The', 'DET'), ('morbidity', 'NOUN'), ('rate', 'NOUN'), ('is', 'VERB'), ('a', 'DET'), ('striking', 'ADJ'), ('finding', 'NOUN'), ('among', 'ADP'), ('those', 'DET'), ('of', 'ADP'), ('us', 'PRON'), ('who', 'PRON'), ('*T*-5', 'X'), ('study', 'VERB'), ('asbestos-related', 'ADJ'), ('diseases', 'NOUN'), (',', '.'), (\"''\", '.'), ('said', 'VERB'), ('*T*-1', 'X'), ('Dr.', 'NOUN'), ('Talcott', 'NOUN'), ('.', '.')], [('The', 'DET'), ('percentage', 'NOUN'), ('of', 'ADP'), ('lung', 'NOUN'), ('cancer', 'NOUN'), ('deaths', 'NOUN'), ('among', 'ADP'), ('the', 'DET'), ('workers', 'NOUN'), ('at', 'ADP'), ('the', 'DET'), ('West', 'NOUN'), ('Groton', 'NOUN'), (',', '.'), ('Mass.', 'NOUN'), (',', '.'), ('paper', 'NOUN'), ('factory', 'NOUN'), ('appears', 'VERB'), ('*-1', 'X'), ('to', 'PRT'), ('be', 'VERB'), ('the', 'DET'), ('highest', 'ADJ'), ('for', 'ADP'), ('any', 'DET'), ('asbestos', 'NOUN'), ('workers', 'NOUN'), ('studied', 'VERB'), ('*', 'X'), ('in', 'ADP'), ('Western', 'ADJ'), ('industrialized', 'VERB'), ('countries', 'NOUN'), (',', '.'), ('he', 'PRON'), ('said', 'VERB'), ('0', 'X'), ('*T*-2', 'X'), ('.', '.')], [('The', 'DET'), ('plant', 'NOUN'), (',', '.'), ('which', 'DET'), ('*T*-1', 'X'), ('is', 'VERB'), ('owned', 'VERB'), ('*-4', 'X'), ('by', 'ADP'), ('Hollingsworth', 'NOUN'), ('&', 'CONJ'), ('Vose', 'NOUN'), ('Co.', 'NOUN'), (',', '.'), ('was', 'VERB'), ('under', 'ADP'), ('contract', 'NOUN'), ('*ICH*-2', 'X'), ('with', 'ADP'), ('Lorillard', 'NOUN'), ('*', 'X'), ('to', 'PRT'), ('make', 'VERB'), ('the', 'DET'), ('cigarette', 'NOUN'), ('filters', 'NOUN'), ('.', '.')], [('The', 'DET'), ('finding', 'NOUN'), ('probably', 'ADV'), ('will', 'VERB'), ('support', 'VERB'), ('those', 'DET'), ('who', 'PRON'), ('*T*-6', 'X'), ('argue', 'VERB'), ('that', 'ADP'), ('the', 'DET'), ('U.S.', 'NOUN'), ('should', 'VERB'), ('regulate', 'VERB'), ('the', 'DET'), ('class', 'NOUN'), ('of', 'ADP'), ('asbestos', 'NOUN'), ('including', 'VERB'), ('crocidolite', 'NOUN'), ('more', 'ADV'), ('stringently', 'ADV'), ('than', 'ADP'), ('the', 'DET'), ('common', 'ADJ'), ('kind', 'NOUN'), ('of', 'ADP'), ('asbestos', 'NOUN'), (',', '.'), ('chrysotile', 'NOUN'), (',', '.'), ('found', 'VERB'), ('*', 'X'), ('in', 'ADP'), ('most', 'ADJ'), ('schools', 'NOUN'), ('and', 'CONJ'), ('other', 'ADJ'), ('buildings', 'NOUN'), (',', '.'), ('Dr.', 'NOUN'), ('Talcott', 'NOUN'), ('said', 'VERB'), ('0', 'X'), ('*T*-1', 'X'), ('.', '.')], [('The', 'DET'), ('U.S.', 'NOUN'), ('is', 'VERB'), ('one', 'NUM'), ('of', 'ADP'), ('the', 'DET'), ('few', 'ADJ'), ('industrialized', 'VERB'), ('nations', 'NOUN'), ('that', 'DET'), ('*T*-7', 'X'), ('does', 'VERB'), (\"n't\", 'ADV'), ('have', 'VERB'), ('a', 'DET'), ('higher', 'ADJ'), ('standard', 'NOUN'), ('of', 'ADP'), ('regulation', 'NOUN'), ('for', 'ADP'), ('the', 'DET'), ('smooth', 'ADJ'), (',', '.'), ('needle-like', 'ADJ'), ('fibers', 'NOUN'), ('such', 'ADJ'), ('as', 'ADP'), ('crocidolite', 'NOUN'), ('that', 'DET'), ('*T*-1', 'X'), ('are', 'VERB'), ('classified', 'VERB'), ('*-5', 'X'), ('as', 'ADP'), ('amphobiles', 'NOUN'), (',', '.'), ('according', 'VERB'), ('to', 'PRT'), ('Brooke', 'NOUN'), ('T.', 'NOUN'), ('Mossman', 'NOUN'), (',', '.'), ('a', 'DET'), ('professor', 'NOUN'), ('of', 'ADP'), ('pathlogy', 'NOUN'), ('at', 'ADP'), ('the', 'DET'), ('University', 'NOUN'), ('of', 'ADP'), ('Vermont', 'NOUN'), ('College', 'NOUN'), ('of', 'ADP'), ('Medicine', 'NOUN'), ('.', '.')], [('More', 'ADV'), ('common', 'ADJ'), ('chrysotile', 'NOUN'), ('fibers', 'NOUN'), ('are', 'VERB'), ('curly', 'ADJ'), ('and', 'CONJ'), ('are', 'VERB'), ('more', 'ADV'), ('easily', 'ADV'), ('rejected', 'VERB'), ('*-1', 'X'), ('by', 'ADP'), ('the', 'DET'), ('body', 'NOUN'), (',', '.'), ('Dr.', 'NOUN'), ('Mossman', 'NOUN'), ('explained', 'VERB'), ('0', 'X'), ('*T*-2', 'X'), ('.', '.')], [('In', 'ADP'), ('July', 'NOUN'), (',', '.'), ('the', 'DET'), ('Environmental', 'NOUN'), ('Protection', 'NOUN'), ('Agency', 'NOUN'), ('imposed', 'VERB'), ('a', 'DET'), ('gradual', 'ADJ'), ('ban', 'NOUN'), ('on', 'ADP'), ('virtually', 'ADV'), ('all', 'DET'), ('uses', 'NOUN'), ('of', 'ADP'), ('asbestos', 'NOUN'), ('.', '.')], [('By', 'ADP'), ('1997', 'NUM'), (',', '.'), ('almost', 'ADV'), ('all', 'DET'), ('remaining', 'VERB'), ('uses', 'NOUN'), ('of', 'ADP'), ('cancer-causing', 'ADJ'), ('asbestos', 'NOUN'), ('will', 'VERB'), ('be', 'VERB'), ('outlawed', 'VERB'), ('*-6', 'X'), ('.', '.')], [('About', 'ADP'), ('160', 'NUM'), ('workers', 'NOUN'), ('at', 'ADP'), ('a', 'DET'), ('factory', 'NOUN'), ('that', 'DET'), ('*T*-8', 'X'), ('made', 'VERB'), ('paper', 'NOUN'), ('for', 'ADP'), ('the', 'DET'), ('Kent', 'NOUN'), ('filters', 'NOUN'), ('were', 'VERB'), ('exposed', 'VERB'), ('*-7', 'X'), ('to', 'PRT'), ('asbestos', 'NOUN'), ('in', 'ADP'), ('the', 'DET'), ('1950s', 'NUM'), ('.', '.')], [('Areas', 'NOUN'), ('of', 'ADP'), ('the', 'DET'), ('factory', 'NOUN'), ('*ICH*-2', 'X'), ('were', 'VERB'), ('particularly', 'ADV'), ('dusty', 'ADJ'), ('where', 'ADV'), ('the', 'DET'), ('crocidolite', 'NOUN'), ('was', 'VERB'), ('used', 'VERB'), ('*-8', 'X'), ('*T*-1', 'X'), ('.', '.')], [('Workers', 'NOUN'), ('dumped', 'VERB'), ('large', 'ADJ'), ('burlap', 'NOUN'), ('sacks', 'NOUN'), ('of', 'ADP'), ('the', 'DET'), ('imported', 'VERB'), ('material', 'NOUN'), ('into', 'ADP'), ('a', 'DET'), ('huge', 'ADJ'), ('bin', 'NOUN'), (',', '.'), ('poured', 'VERB'), ('in', 'PRT'), ('cotton', 'NOUN'), ('and', 'CONJ'), ('acetate', 'NOUN'), ('fibers', 'NOUN'), ('and', 'CONJ'), ('mechanically', 'ADV'), ('mixed', 'VERB'), ('the', 'DET'), ('dry', 'ADJ'), ('fibers', 'NOUN'), ('in', 'ADP'), ('a', 'DET'), ('process', 'NOUN'), ('used', 'VERB'), ('*', 'X'), ('*', 'X'), ('to', 'PRT'), ('make', 'VERB'), ('filters', 'NOUN'), ('.', '.')], [('Workers', 'NOUN'), ('described', 'VERB'), ('``', '.'), ('clouds', 'NOUN'), ('of', 'ADP'), ('blue', 'ADJ'), ('dust', 'NOUN'), (\"''\", '.'), ('that', 'DET'), ('*T*-1', 'X'), ('hung', 'VERB'), ('over', 'ADP'), ('parts', 'NOUN'), ('of', 'ADP'), ('the', 'DET'), ('factory', 'NOUN'), (',', '.'), ('even', 'ADV'), ('though', 'ADP'), ('exhaust', 'NOUN'), ('fans', 'NOUN'), ('ventilated', 'VERB'), ('the', 'DET'), ('area', 'NOUN'), ('.', '.')], [('``', '.'), ('There', 'DET'), (\"'s\", 'VERB'), ('no', 'DET'), ('question', 'NOUN'), ('that', 'ADP'), ('some', 'DET'), ('of', 'ADP'), ('those', 'DET'), ('workers', 'NOUN'), ('and', 'CONJ'), ('managers', 'NOUN'), ('contracted', 'VERB'), ('asbestos-related', 'ADJ'), ('diseases', 'NOUN'), (',', '.'), (\"''\", '.'), ('said', 'VERB'), ('*T*-1', 'X'), ('Darrell', 'NOUN'), ('Phillips', 'NOUN'), (',', '.'), ('vice', 'NOUN'), ('president', 'NOUN'), ('of', 'ADP'), ('human', 'ADJ'), ('resources', 'NOUN'), ('for', 'ADP'), ('Hollingsworth', 'NOUN'), ('&', 'CONJ'), ('Vose', 'NOUN'), ('.', '.')], [('``', '.'), ('But', 'CONJ'), ('you', 'PRON'), ('have', 'VERB'), ('*-1', 'X'), ('to', 'PRT'), ('recognize', 'VERB'), ('that', 'ADP'), ('these', 'DET'), ('events', 'NOUN'), ('took', 'VERB'), ('place', 'NOUN'), ('35', 'NUM'), ('years', 'NOUN'), ('ago', 'ADP'), ('.', '.')], [('It', 'PRON'), ('has', 'VERB'), ('no', 'DET'), ('bearing', 'NOUN'), ('on', 'ADP'), ('our', 'PRON'), ('work', 'NOUN'), ('force', 'NOUN'), ('today', 'NOUN'), ('.', '.')], [('Yields', 'NOUN'), ('on', 'ADP'), ('money-market', 'ADJ'), ('mutual', 'ADJ'), ('funds', 'NOUN'), ('continued', 'VERB'), ('*-1', 'X'), ('to', 'PRT'), ('slide', 'VERB'), (',', '.'), ('amid', 'ADP'), ('signs', 'NOUN'), ('that', 'ADP'), ('portfolio', 'NOUN'), ('managers', 'NOUN'), ('expect', 'VERB'), ('further', 'ADJ'), ('declines', 'NOUN'), ('in', 'ADP'), ('interest', 'NOUN'), ('rates', 'NOUN'), ('.', '.')], [('The', 'DET'), ('average', 'ADJ'), ('seven-day', 'ADJ'), ('compound', 'NOUN'), ('yield', 'NOUN'), ('of', 'ADP'), ('the', 'DET'), ('400', 'NUM'), ('taxable', 'ADJ'), ('funds', 'NOUN'), ('tracked', 'VERB'), ('*', 'X'), ('by', 'ADP'), ('IBC', 'NOUN'), (\"'s\", 'PRT'), ('Money', 'NOUN'), ('Fund', 'NOUN'), ('Report', 'NOUN'), ('eased', 'VERB'), ('a', 'DET'), ('fraction', 'NOUN'), ('of', 'ADP'), ('a', 'DET'), ('percentage', 'NOUN'), ('point', 'NOUN'), ('to', 'PRT'), ('8.45', 'NUM'), ('%', 'NOUN'), ('from', 'ADP'), ('8.47', 'NUM'), ('%', 'NOUN'), ('for', 'ADP'), ('the', 'DET'), ('week', 'NOUN'), ('ended', 'VERB'), ('Tuesday', 'NOUN'), ('.', '.')], [('Compound', 'NOUN'), ('yields', 'NOUN'), ('assume', 'VERB'), ('reinvestment', 'NOUN'), ('of', 'ADP'), ('dividends', 'NOUN'), ('and', 'CONJ'), ('that', 'ADP'), ('the', 'DET'), ('current', 'ADJ'), ('yield', 'NOUN'), ('continues', 'VERB'), ('for', 'ADP'), ('a', 'DET'), ('year', 'NOUN'), ('.', '.')], [('Average', 'ADJ'), ('maturity', 'NOUN'), ('of', 'ADP'), ('the', 'DET'), ('funds', 'NOUN'), (\"'\", 'PRT'), ('investments', 'NOUN'), ('lengthened', 'VERB'), ('by', 'ADP'), ('a', 'DET'), ('day', 'NOUN'), ('to', 'PRT'), ('41', 'NUM'), ('days', 'NOUN'), (',', '.'), ('the', 'DET'), ('longest', 'ADJ'), ('since', 'ADP'), ('early', 'ADJ'), ('August', 'NOUN'), (',', '.'), ('according', 'VERB'), ('to', 'PRT'), ('Donoghue', 'NOUN'), (\"'s\", 'PRT'), ('.', '.')], [('Longer', 'ADJ'), ('maturities', 'NOUN'), ('are', 'VERB'), ('thought', 'VERB'), ('*-1', 'X'), ('to', 'PRT'), ('indicate', 'VERB'), ('declining', 'VERB'), ('interest', 'NOUN'), ('rates', 'NOUN'), ('because', 'ADP'), ('they', 'PRON'), ('permit', 'VERB'), ('portfolio', 'NOUN'), ('managers', 'NOUN'), ('to', 'PRT'), ('retain', 'VERB'), ('relatively', 'ADV'), ('higher', 'ADJ'), ('rates', 'NOUN'), ('for', 'ADP'), ('a', 'DET'), ('longer', 'ADJ'), ('period', 'NOUN'), ('.', '.')], [('Shorter', 'ADJ'), ('maturities', 'NOUN'), ('are', 'VERB'), ('considered', 'VERB'), ('*-9', 'X'), ('a', 'DET'), ('sign', 'NOUN'), ('of', 'ADP'), ('rising', 'VERB'), ('rates', 'NOUN'), ('because', 'ADP'), ('portfolio', 'NOUN'), ('managers', 'NOUN'), ('can', 'VERB'), ('capture', 'VERB'), ('higher', 'ADJ'), ('rates', 'NOUN'), ('sooner', 'ADV'), ('.', '.')], [('The', 'DET'), ('average', 'ADJ'), ('maturity', 'NOUN'), ('for', 'ADP'), ('funds', 'NOUN'), ('open', 'ADJ'), ('only', 'ADV'), ('to', 'PRT'), ('institutions', 'NOUN'), (',', '.'), ('considered', 'VERB'), ('by', 'ADP'), ('some', 'DET'), ('*', 'X'), ('to', 'PRT'), ('be', 'VERB'), ('a', 'DET'), ('stronger', 'ADJ'), ('indicator', 'NOUN'), ('because', 'ADP'), ('those', 'DET'), ('managers', 'NOUN'), ('watch', 'VERB'), ('the', 'DET'), ('market', 'NOUN'), ('closely', 'ADV'), (',', '.'), ('reached', 'VERB'), ('a', 'DET'), ('high', 'ADJ'), ('point', 'NOUN'), ('for', 'ADP'), ('the', 'DET'), ('year', 'NOUN'), ('--', '.'), ('33', 'NUM'), ('days', 'NOUN'), ('.', '.')]]\n"
     ]
    }
   ],
   "source": [
    "# first few tagged sentences\n",
    "print(nltk_data[:40])"
   ]
  },
  {
   "cell_type": "code",
   "execution_count": 4,
   "metadata": {
    "tags": []
   },
   "outputs": [
    {
     "output_type": "stream",
     "name": "stdout",
     "text": [
      "Length of Training Set: 3718\nLength of Test Set: 196\n[[('This', 'DET'), ('year', 'NOUN'), (',', '.'), ('the', 'DET'), ('average', 'NOUN'), ('of', 'ADP'), ('daily', 'ADJ'), ('contracts', 'NOUN'), ('traded', 'VERB'), ('*', 'X'), ('totaled', 'VERB'), ('9,118', 'NUM'), (',', '.'), ('up', 'ADP'), ('from', 'ADP'), ('4,645', 'NUM'), ('a', 'DET'), ('year', 'NOUN'), ('earlier', 'ADJ'), ('and', 'CONJ'), ('from', 'ADP'), ('917', 'NUM'), ('in', 'ADP'), ('1984', 'NUM'), ('.', '.')], [('First', 'NOUN'), ('of', 'ADP'), ('America', 'NOUN'), (',', '.'), ('which', 'DET'), ('*T*-1', 'X'), ('now', 'ADV'), ('has', 'VERB'), ('45', 'NUM'), ('banks', 'NOUN'), ('and', 'CONJ'), ('$', '.'), ('12.5', 'NUM'), ('billion', 'NUM'), ('*U*', 'X'), ('in', 'ADP'), ('assets', 'NOUN'), (',', '.'), ('announced', 'VERB'), ('an', 'DET'), ('agreement', 'NOUN'), ('*', 'X'), ('to', 'PRT'), ('acquire', 'VERB'), ('the', 'DET'), ('Peoria', 'NOUN'), (',', '.'), ('Ill.', 'NOUN'), (',', '.'), ('bank', 'NOUN'), ('holding', 'VERB'), ('company', 'NOUN'), ('in', 'ADP'), ('January', 'NOUN'), ('.', '.')], [('Meanwhile', 'ADV'), (',', '.'), ('traders', 'NOUN'), ('in', 'ADP'), ('Tokyo', 'NOUN'), ('say', 'VERB'), ('that', 'ADP'), ('the', 'DET'), ('prospect', 'NOUN'), ('of', 'ADP'), ('lower', 'ADJ'), ('U.S.', 'NOUN'), ('interest', 'NOUN'), ('rates', 'NOUN'), ('has', 'VERB'), ('spurred', 'VERB'), ('dollar', 'NOUN'), ('buying', 'VERB'), ('by', 'ADP'), ('Japanese', 'ADJ'), ('institutions', 'NOUN'), ('.', '.')], [('Although', 'ADP'), ('she', 'PRON'), ('was', 'VERB'), ('kind', 'ADJ'), ('and', 'CONJ'), ('playful', 'ADJ'), ('to', 'PRT'), ('her', 'PRON'), ('children', 'NOUN'), (',', '.'), ('she', 'PRON'), ('was', 'VERB'), ('dreadful', 'ADJ'), ('to', 'PRT'), ('her', 'PRON'), ('war-damaged', 'ADJ'), ('husband', 'NOUN'), (';', '.'), ('she', 'PRON'), ('openly', 'ADV'), ('brought', 'VERB'), ('her', 'PRON'), ('lover', 'NOUN'), ('into', 'ADP'), ('their', 'PRON'), ('home', 'NOUN'), ('.', '.')], [('Mr.', 'NOUN'), ('Sidak', 'NOUN'), ('served', 'VERB'), ('as', 'ADP'), ('an', 'DET'), ('attorney', 'NOUN'), ('in', 'ADP'), ('the', 'DET'), ('Reagan', 'NOUN'), ('administration', 'NOUN'), ('.', '.')], [('And', 'CONJ'), ('because', 'ADP'), ('of', 'ADP'), ('the', 'DET'), ('time', 'NOUN'), ('difference', 'NOUN'), (',', '.'), ('the', 'DET'), ('Japanese', 'ADJ'), ('*RNR*-1', 'X'), ('and', 'CONJ'), ('the', 'DET'), ('U.S.', 'NOUN'), ('*RNR*-1', 'X'), ('markets', 'NOUN'), (\"'\", 'PRT'), ('trading', 'NOUN'), ('hours', 'NOUN'), ('do', 'VERB'), (\"n't\", 'ADV'), ('overlap', 'VERB'), ('.', '.')], [('The', 'DET'), ('record', 'NOUN'), ('corn-buying', 'ADJ'), ('binge', 'NOUN'), ('by', 'ADP'), ('the', 'DET'), ('Soviet', 'NOUN'), ('Union', 'NOUN'), ('is', 'VERB'), ('causing', 'VERB'), ('serious', 'ADJ'), ('bottlenecks', 'NOUN'), ('in', 'ADP'), ('the', 'DET'), ('U.S.', 'NOUN'), ('grain', 'NOUN'), ('pipeline', 'NOUN'), ('.', '.')], [('Neither', 'DET'), ('they', 'PRON'), ('nor', 'CONJ'), ('Mr.', 'NOUN'), ('McAlpine', 'NOUN'), ('could', 'VERB'), ('be', 'VERB'), ('reached', 'VERB'), ('*-38', 'X'), ('for', 'ADP'), ('comment', 'NOUN'), ('.', '.')], [('I', 'PRON'), ('was', 'VERB'), ('dumbfounded', 'ADJ'), (',', '.'), (\"''\", '.'), ('Mrs.', 'NOUN'), ('Ward', 'NOUN'), ('recalls', 'VERB'), ('*T*-1', 'X'), ('.', '.')], [('Santa', 'NOUN'), ('Fe', 'NOUN'), ('Pacific', 'NOUN'), ('dropped', 'VERB'), ('1', 'NUM'), ('1\\\\/8', 'NUM'), ('to', 'PRT'), ('17', 'NUM'), ('3\\\\/4', 'NUM'), ('.', '.')], [('The', 'DET'), ('senior', 'NOUN'), ('of', 'ADP'), ('the', 'DET'), ('three', 'NUM'), ('executives', 'NOUN'), ('who', 'PRON'), ('*T*-1', 'X'), ('will', 'VERB'), ('assume', 'VERB'), ('Mr.', 'NOUN'), ('Reupke', 'NOUN'), (\"'s\", 'PRT'), ('duties', 'NOUN'), ('is', 'VERB'), ('Nigel', 'NOUN'), ('Judah', 'NOUN'), (',', '.'), ('58', 'NUM'), (',', '.'), ('finance', 'NOUN'), ('director', 'NOUN'), ('and', 'CONJ'), ('a', 'DET'), ('Reuters', 'NOUN'), ('board', 'NOUN'), ('director', 'NOUN'), ('.', '.')], [('Such', 'ADJ'), ('problems', 'NOUN'), ('will', 'VERB'), ('require', 'VERB'), ('considerable', 'ADJ'), ('skill', 'NOUN'), ('*', 'X'), ('to', 'PRT'), ('resolve', 'VERB'), ('.', '.')], [('That', 'DET'), (\"'s\", 'VERB'), ('why', 'ADV'), ('Columbia', 'NOUN'), ('just', 'ADV'), ('wrote', 'VERB'), ('off', 'PRT'), ('$', '.'), ('130', 'NUM'), ('million', 'NUM'), ('*U*', 'X'), ('of', 'ADP'), ('its', 'PRON'), ('junk', 'NOUN'), ('and', 'CONJ'), ('reserved', 'VERB'), ('$', '.'), ('227', 'NUM'), ('million', 'NUM'), ('*U*', 'X'), ('for', 'ADP'), ('future', 'ADJ'), ('junk', 'NOUN'), ('losses', 'NOUN'), ('*T*-1', 'X'), ('.', '.')], [('Magna', 'NOUN'), ('International', 'NOUN'), ('Inc.', 'NOUN'), (\"'s\", 'PRT'), ('chief', 'ADJ'), ('financial', 'ADJ'), ('officer', 'NOUN'), (',', '.'), ('James', 'NOUN'), ('McAlpine', 'NOUN'), (',', '.'), ('resigned', 'ADJ'), ('and', 'CONJ'), ('its', 'PRON'), ('chairman', 'NOUN'), (',', '.'), ('Frank', 'NOUN'), ('Stronach', 'NOUN'), (',', '.'), ('is', 'VERB'), ('stepping', 'VERB'), ('in', 'ADV'), ('*-1', 'X'), ('to', 'PRT'), ('help', 'VERB'), ('turn', 'VERB'), ('the', 'DET'), ('automotive-parts', 'ADJ'), ('manufacturer', 'NOUN'), ('around', 'ADV'), (',', '.'), ('the', 'DET'), ('company', 'NOUN'), ('said', 'VERB'), ('0', 'X'), ('*T*-2', 'X'), ('.', '.')], [('Mr.', 'NOUN'), ('Oxnard', 'NOUN'), ('observed', 'VERB'), ('that', 'ADP'), ('the', 'DET'), ('situation', 'NOUN'), ('in', 'ADP'), ('Brazil', 'NOUN'), ('is', 'VERB'), ('also', 'ADV'), ('very', 'ADV'), ('complicated', 'VERB'), ('.', '.')], [('Few', 'ADJ'), ('people', 'NOUN'), ('think', 'VERB'), ('0', 'X'), ('Mr.', 'NOUN'), ('Spiegel', 'NOUN'), ('wants', 'VERB'), ('*-1', 'X'), ('to', 'PRT'), ('run', 'VERB'), ('a', 'DET'), ('bread-and-butter', 'ADJ'), ('thrift', 'NOUN'), (',', '.'), ('which', 'DET'), ('current', 'ADJ'), ('rules', 'NOUN'), ('would', 'VERB'), ('force', 'VERB'), ('Columbia', 'NOUN'), ('to', 'PRT'), ('become', 'VERB'), ('*T*-2', 'X'), ('.', '.')], [('ASLACTON', 'NOUN'), (',', '.'), ('England', 'NOUN')], [('During', 'ADP'), ('Mr.', 'NOUN'), ('McGovern', 'NOUN'), (\"'s\", 'PRT'), ('nine-year', 'ADJ'), ('term', 'NOUN'), ('as', 'ADP'), ('president', 'NOUN'), (',', '.'), ('the', 'DET'), ('company', 'NOUN'), (\"'s\", 'PRT'), ('sales', 'NOUN'), ('rose', 'VERB'), ('to', 'PRT'), ('$', '.'), ('5.7', 'NUM'), ('billion', 'NUM'), ('*U*', 'X'), ('from', 'ADP'), ('$', '.'), ('2.8', 'NUM'), ('billion', 'NUM'), ('*U*', 'X'), ('and', 'CONJ'), ('net', 'ADJ'), ('income', 'NOUN'), ('increased', 'VERB'), ('to', 'PRT'), ('$', '.'), ('274', 'NUM'), ('million', 'NUM'), ('*U*', 'X'), ('from', 'ADP'), ('$', '.'), ('130', 'NUM'), ('million', 'NUM'), ('*U*', 'X'), (',', '.'), ('the', 'DET'), ('statement', 'NOUN'), ('said', 'VERB'), ('0', 'X'), ('*T*-1', 'X'), ('.', '.')], [('Despite', 'ADP'), ('recent', 'ADJ'), ('declines', 'NOUN'), ('in', 'ADP'), ('yields', 'NOUN'), (',', '.'), ('investors', 'NOUN'), ('continue', 'VERB'), ('*-1', 'X'), ('to', 'PRT'), ('pour', 'VERB'), ('cash', 'NOUN'), ('into', 'ADP'), ('money', 'NOUN'), ('funds', 'NOUN'), ('.', '.')], [('*-1', 'X'), ('To', 'PRT'), ('profit', 'VERB'), ('from', 'ADP'), ('an', 'DET'), ('index-arbitrage', 'ADJ'), ('opportunity', 'NOUN'), (',', '.'), ('someone', 'NOUN'), ('who', 'PRON'), ('*T*-75', 'X'), ('owns', 'VERB'), ('the', 'DET'), ('S&P', 'NOUN'), ('500', 'NUM'), ('widget', 'NOUN'), ('in', 'ADP'), ('New', 'NOUN'), ('York', 'NOUN'), ('must', 'VERB'), ('sell', 'VERB'), ('it', 'PRON'), ('and', 'CONJ'), ('replace', 'VERB'), ('it', 'PRON'), ('with', 'ADP'), ('a', 'DET'), ('cheaper', 'ADJ'), ('S&P', 'NOUN'), ('500', 'NUM'), ('widget', 'NOUN'), ('in', 'ADP'), ('Chicago', 'NOUN'), ('.', '.')], [('Edward', 'NOUN'), ('L.', 'NOUN'), ('Kane', 'NOUN'), ('succeeded', 'VERB'), ('Mr.', 'NOUN'), ('Taylor', 'NOUN'), ('as', 'ADP'), ('chairman', 'NOUN'), ('.', '.')], [('As', 'ADP'), ('a', 'DET'), ('result', 'NOUN'), (',', '.'), ('Upjohn', 'NOUN'), ('will', 'VERB'), ('likely', 'ADV'), ('trim', 'VERB'), ('only', 'ADV'), ('about', 'ADP'), ('275', 'NUM'), ('to', 'PRT'), ('350', 'NUM'), ('of', 'ADP'), ('its', 'PRON'), ('more', 'ADJ'), ('than', 'ADP'), ('21,000', 'NUM'), ('jobs', 'NOUN'), ('world-wide', 'ADJ'), ('.', '.')], [('Midwesco', 'NOUN'), ('Filter', 'NOUN'), ('Resources', 'NOUN'), ('Inc.', 'NOUN'), (',', '.'), ('initial', 'ADJ'), ('offering', 'NOUN'), ('of', 'ADP'), ('830,000', 'NUM'), ('common', 'ADJ'), ('shares', 'NOUN'), ('*PPA*-3', 'X'), (',', '.'), ('0', 'X'), ('*T*-2', 'X'), ('to', 'PRT'), ('be', 'VERB'), ('offered', 'VERB'), ('*-1', 'X'), ('by', 'ADP'), ('the', 'DET'), ('company', 'NOUN'), (',', '.'), ('via', 'ADP'), ('Chicago', 'NOUN'), ('Corp', 'NOUN'), ('.', '.')], [('The', 'DET'), ('Rockford', 'NOUN'), (',', '.'), ('Ill.', 'NOUN'), (',', '.'), ('maker', 'NOUN'), ('of', 'ADP'), ('fasteners', 'NOUN'), ('also', 'ADV'), ('said', 'VERB'), ('0', 'X'), ('it', 'PRON'), ('expects', 'VERB'), ('*-2', 'X'), ('to', 'PRT'), ('post', 'VERB'), ('sales', 'NOUN'), ('in', 'ADP'), ('the', 'DET'), ('current', 'ADJ'), ('fiscal', 'ADJ'), ('year', 'NOUN'), ('that', 'DET'), ('*T*-1', 'X'), ('are', 'VERB'), ('``', '.'), ('slightly', 'ADV'), ('above', 'ADJ'), (\"''\", '.'), ('fiscal', 'ADJ'), ('1989', 'NUM'), ('sales', 'NOUN'), ('of', 'ADP'), ('$', '.'), ('155', 'NUM'), ('million', 'NUM'), ('*U*', 'X'), ('.', '.')], [('The', 'DET'), ('average', 'NOUN'), ('of', 'ADP'), ('interbank', 'NOUN'), ('offered', 'VERB'), ('rates', 'NOUN'), ('for', 'ADP'), ('dollar', 'NOUN'), ('deposits', 'NOUN'), ('in', 'ADP'), ('the', 'DET'), ('London', 'NOUN'), ('market', 'NOUN'), ('based', 'VERB'), ('*', 'X'), ('on', 'ADP'), ('quotations', 'NOUN'), ('at', 'ADP'), ('five', 'NUM'), ('major', 'ADJ'), ('banks', 'NOUN'), ('.', '.')], [('Several', 'ADJ'), ('moves', 'NOUN'), ('were', 'VERB'), ('taken', 'VERB'), ('*-1', 'X'), ('following', 'VERB'), ('the', 'DET'), ('October', 'NOUN'), ('1987', 'NUM'), ('crash', 'NOUN'), ('*', 'X'), ('to', 'PRT'), ('coordinate', 'VERB'), ('--', '.'), ('and', 'CONJ'), ('sometimes', 'ADV'), ('deliberately', 'ADV'), ('disconnect', 'VERB'), ('*PPA*-2', 'X'), ('--', '.'), ('the', 'DET'), ('stock', 'NOUN'), ('and', 'CONJ'), ('futures', 'NOUN'), ('markets', 'NOUN'), ('in', 'ADP'), ('times', 'NOUN'), ('of', 'ADP'), ('heightened', 'VERB'), ('volatility', 'NOUN'), ('.', '.')], [('Last', 'ADJ'), ('month', 'NOUN'), (',', '.'), ('Phoenix', 'NOUN'), ('voters', 'NOUN'), ('turned', 'VERB'), ('thumbs', 'NOUN'), ('down', 'PRT'), ('on', 'ADP'), ('a', 'DET'), ('$', '.'), ('100', 'NUM'), ('million', 'NUM'), ('*U*', 'X'), ('stadium', 'NOUN'), ('bond', 'NOUN'), ('and', 'CONJ'), ('tax', 'NOUN'), ('proposition', 'NOUN'), ('.', '.')], [('The', 'DET'), ('company', 'NOUN'), ('said', 'VERB'), ('0', 'X'), ('the', 'DET'), ('restructuring', 'NOUN'), ('is', 'VERB'), (\"n't\", 'ADV'), ('expected', 'VERB'), ('*-1', 'X'), ('to', 'PRT'), ('have', 'VERB'), ('any', 'DET'), ('impact', 'NOUN'), (',', '.'), ('adverse', 'ADJ'), ('or', 'CONJ'), ('otherwise', 'ADV'), (',', '.'), ('on', 'ADP'), ('its', 'PRON'), ('financial', 'ADJ'), ('results', 'NOUN'), ('.', '.')], [('But', 'CONJ'), ('Dr.', 'NOUN'), ('Genel', 'NOUN'), ('warns', 'VERB'), ('that', 'ADP'), ('Dr.', 'NOUN'), ('Mason', 'NOUN'), (\"'s\", 'PRT'), ('ruling', 'NOUN'), ('may', 'VERB'), ('discourage', 'VERB'), ('private', 'ADJ'), ('funding', 'NOUN'), ('.', '.')], [('-LRB-', '.'), ('It', 'PRON'), ('is', 'VERB'), (',', '.'), ('of', 'ADP'), ('course', 'NOUN'), (',', '.'), ('printed', 'VERB'), ('*-1', 'X'), ('on', 'ADP'), ('recycled', 'VERB'), ('paper', 'NOUN'), ('.', '.'), ('-RRB-', '.')], [('That', 'DET'), ('year', 'NOUN'), ('the', 'DET'), ('Apple', 'NOUN'), ('II', 'NOUN'), (',', '.'), ('Commodore', 'NOUN'), ('Pet', 'NOUN'), ('and', 'CONJ'), ('Tandy', 'NOUN'), ('TRS-80', 'NOUN'), ('came', 'VERB'), ('to', 'PRT'), ('market', 'NOUN'), ('.', '.')], [('As', 'ADP'), ('an', 'DET'), ('indicator', 'NOUN'), ('of', 'ADP'), ('the', 'DET'), ('tight', 'ADJ'), ('grain', 'NOUN'), ('supply', 'NOUN'), ('situation', 'NOUN'), ('in', 'ADP'), ('the', 'DET'), ('U.S.', 'NOUN'), (',', '.'), ('market', 'NOUN'), ('analysts', 'NOUN'), ('said', 'VERB'), ('that', 'ADP'), ('late', 'ADJ'), ('Tuesday', 'NOUN'), ('the', 'DET'), ('Chinese', 'ADJ'), ('government', 'NOUN'), (',', '.'), ('which', 'DET'), ('*T*-1', 'X'), ('often', 'ADV'), ('buys', 'VERB'), ('U.S.', 'NOUN'), ('grains', 'NOUN'), ('in', 'ADP'), ('quantity', 'NOUN'), (',', '.'), ('turned', 'VERB'), ('instead', 'ADV'), ('to', 'PRT'), ('Britain', 'NOUN'), ('*-2', 'X'), ('to', 'PRT'), ('buy', 'VERB'), ('500,000', 'NUM'), ('metric', 'ADJ'), ('tons', 'NOUN'), ('of', 'ADP'), ('wheat', 'NOUN'), ('.', '.')], [('Standardized', 'ADJ'), ('achievement', 'NOUN'), ('tests', 'NOUN'), ('are', 'VERB'), ('given', 'VERB'), ('*-1', 'X'), ('about', 'ADP'), ('10', 'NUM'), ('million', 'NUM'), ('times', 'NOUN'), ('a', 'DET'), ('year', 'NOUN'), ('across', 'ADP'), ('the', 'DET'), ('country', 'NOUN'), ('to', 'PRT'), ('students', 'NOUN'), ('generally', 'ADV'), ('from', 'ADP'), ('kindergarten', 'NOUN'), ('through', 'ADP'), ('eighth', 'ADJ'), ('grade', 'NOUN'), ('.', '.')], [('We', 'PRON'), ('have', 'VERB'), (',', '.'), ('and', 'CONJ'), ('I', 'PRON'), (\"'m\", 'VERB'), ('sure', 'ADJ'), ('0', 'X'), ('others', 'NOUN'), ('have', 'VERB'), ('*?*', 'X'), (',', '.'), ('considered', 'VERB'), ('what', 'PRON'), ('our', 'PRON'), ('options', 'NOUN'), ('are', 'VERB'), ('*T*-160', 'X'), (',', '.'), ('and', 'CONJ'), ('we', 'PRON'), (\"'ve\", 'VERB'), ('had', 'VERB'), ('conversations', 'NOUN'), ('with', 'ADP'), ('people', 'NOUN'), ('who', 'PRON'), ('in', 'ADP'), ('the', 'DET'), ('future', 'NOUN'), ('*T*-1', 'X'), ('might', 'VERB'), ('prove', 'VERB'), ('*-2', 'X'), ('to', 'PRT'), ('be', 'VERB'), ('interesting', 'ADJ'), ('partners', 'NOUN'), ('.', '.'), (\"''\", '.')], [('-LRB-', '.'), ('Few', 'ADJ'), (',', '.'), ('if', 'ADP'), ('any', 'DET'), (',', '.'), ('index-fund', 'ADJ'), ('managers', 'NOUN'), ('will', 'VERB'), ('risk', 'VERB'), ('*-1', 'X'), ('leveraging', 'VERB'), ('performance', 'NOUN'), ('by', 'ADP'), ('*-1', 'X'), ('owning', 'VERB'), ('more', 'ADJ'), ('than', 'ADP'), ('100', 'NUM'), ('%', 'NOUN'), ('exposure', 'NOUN'), ('to', 'PRT'), ('stocks', 'NOUN'), (',', '.'), ('and', 'CONJ'), ('equally', 'ADV'), ('few', 'ADJ'), ('will', 'VERB'), ('want', 'VERB'), ('*-2', 'X'), ('to', 'PRT'), ('own', 'VERB'), ('less', 'ADJ'), ('than', 'ADP'), ('a', 'DET'), ('100', 'NUM'), ('%', 'NOUN'), ('position', 'NOUN'), ('should', 'VERB'), ('stocks', 'NOUN'), ('rise', 'VERB'), ('.', '.'), ('-RRB-', '.')], [('With', 'ADP'), ('prices', 'NOUN'), ('soaring', 'VERB'), (',', '.'), ('they', 'PRON'), ('were', 'VERB'), ('able', 'ADJ'), ('*-1', 'X'), ('to', 'PRT'), ('sell', 'VERB'), ('the', 'DET'), ('reclaimed', 'VERB'), ('commodities', 'NOUN'), ('at', 'ADP'), ('``', '.'), ('considerable', 'ADJ'), ('profit', 'NOUN'), (',', '.'), (\"''\", '.'), ('the', 'DET'), ('agency', 'NOUN'), (\"'s\", 'PRT'), ('240-page', 'ADJ'), ('report', 'NOUN'), ('said', 'VERB'), ('0', 'X'), ('*T*-2', 'X'), ('.', '.')], [('He', 'PRON'), ('added', 'VERB'), (',', '.'), ('``', '.'), ('There', 'DET'), (\"'s\", 'VERB'), ('nothing', 'NOUN'), ('very', 'ADV'), ('hot', 'ADJ'), ('.', '.'), (\"''\", '.')], [('That', 'DET'), ('process', 'NOUN'), ('of', 'ADP'), ('*', 'X'), ('sorting', 'VERB'), ('out', 'PRT'), ('specifics', 'NOUN'), ('is', 'VERB'), ('likely', 'ADJ'), ('*-1', 'X'), ('to', 'PRT'), ('take', 'VERB'), ('time', 'NOUN'), (',', '.'), ('the', 'DET'), ('Japanese', 'NOUN'), ('say', 'VERB'), ('0', 'X'), ('*T*-2', 'X'), (',', '.'), ('no', 'DET'), ('matter', 'NOUN'), ('how', 'ADV'), ('badly', 'ADV'), ('the', 'DET'), ('U.S.', 'NOUN'), ('wants', 'VERB'), ('quick', 'ADJ'), ('results', 'NOUN'), ('*T*-3', 'X'), ('.', '.')], [('To', 'PRT'), ('that', 'DET'), ('end', 'NOUN'), (',', '.'), ('American', 'NOUN'), ('Express', 'NOUN'), ('has', 'VERB'), ('been', 'VERB'), ('signing', 'VERB'), ('up', 'PRT'), ('gasoline', 'NOUN'), ('companies', 'NOUN'), (',', '.'), ('car', 'NOUN'), ('repair', 'NOUN'), ('shops', 'NOUN'), (',', '.'), ('tire', 'NOUN'), ('companies', 'NOUN'), ('and', 'CONJ'), ('car', 'NOUN'), ('dealers', 'NOUN'), ('*-1', 'X'), ('to', 'PRT'), ('accept', 'VERB'), ('the', 'DET'), ('card', 'NOUN'), ('.', '.')], [('Bonds', 'NOUN'), ('due', 'ADJ'), ('in', 'ADP'), ('2005', 'NUM'), ('have', 'VERB'), ('a', 'DET'), ('7', 'NUM'), ('1\\\\/2', 'NUM'), ('%', 'NOUN'), ('coupon', 'NOUN'), ('and', 'CONJ'), ('are', 'VERB'), ('priced', 'VERB'), ('*-1', 'X'), ('at', 'ADP'), ('par', 'NOUN'), ('.', '.')]]\n"
     ]
    }
   ],
   "source": [
    "# Splitting into train and test\n",
    "random.seed(1234)\n",
    "train_set, test_set = train_test_split(nltk_data,test_size=0.05,random_state=1234)\n",
    "\n",
    "print(f'Length of Training Set: {len(train_set)}')\n",
    "print(f'Length of Test Set: {len(test_set)}')\n",
    "print(train_set[:40])"
   ]
  },
  {
   "cell_type": "code",
   "execution_count": 5,
   "metadata": {},
   "outputs": [],
   "source": [
    " train_tagged_words = [tup for sent in train_set for tup in sent]"
   ]
  },
  {
   "cell_type": "code",
   "execution_count": 6,
   "metadata": {},
   "outputs": [
    {
     "output_type": "execute_result",
     "data": {
      "text/plain": [
       "95799"
      ]
     },
     "metadata": {},
     "execution_count": 6
    }
   ],
   "source": [
    "len(train_tagged_words)"
   ]
  },
  {
   "cell_type": "code",
   "execution_count": 7,
   "metadata": {},
   "outputs": [
    {
     "output_type": "stream",
     "name": "stdout",
     "text": [
      "The five most common tags are [('NOUN', 27471), ('VERB', 12910), ('.', 11130), ('ADP', 9387), ('DET', 8269)]\n"
     ]
    }
   ],
   "source": [
    "pos_counts = collections.Counter((subl[1] for subl in train_tagged_words))\n",
    "print(\"The five most common tags are\", pos_counts.most_common(5))"
   ]
  },
  {
   "cell_type": "code",
   "execution_count": 8,
   "metadata": {},
   "outputs": [
    {
     "output_type": "execute_result",
     "data": {
      "text/plain": [
       "['This',\n",
       " 'year',\n",
       " ',',\n",
       " 'the',\n",
       " 'average',\n",
       " 'of',\n",
       " 'daily',\n",
       " 'contracts',\n",
       " 'traded',\n",
       " '*']"
      ]
     },
     "metadata": {},
     "execution_count": 8
    }
   ],
   "source": [
    "# tokens \n",
    "tokens = [pair[0] for pair in train_tagged_words]\n",
    "tokens[:10]"
   ]
  },
  {
   "cell_type": "code",
   "execution_count": 9,
   "metadata": {},
   "outputs": [
    {
     "output_type": "stream",
     "name": "stdout",
     "text": [
      "Total Words in Vocabulary: 12073\n"
     ]
    }
   ],
   "source": [
    "# vocabulary\n",
    "V = set(tokens)\n",
    "print(f'Total Words in Vocabulary: {len(V)}')"
   ]
  },
  {
   "cell_type": "code",
   "execution_count": 10,
   "metadata": {},
   "outputs": [
    {
     "output_type": "stream",
     "name": "stdout",
     "text": [
      "Total Tags : 12\n"
     ]
    }
   ],
   "source": [
    "# number of tags\n",
    "T = set([pair[1] for pair in train_tagged_words])\n",
    "print(f'Total Tags : {len(T)}')"
   ]
  },
  {
   "cell_type": "markdown",
   "metadata": {},
   "source": [
    "### Build the vanilla Viterbi based POS tagger"
   ]
  },
  {
   "source": [
    "#### Emission Probabilities"
   ],
   "cell_type": "markdown",
   "metadata": {}
  },
  {
   "cell_type": "code",
   "execution_count": 11,
   "metadata": {},
   "outputs": [],
   "source": [
    "# computing P(w/t) and storing in T x V matrix\n",
    "t = len(T)\n",
    "v = len(V)\n",
    "w_given_t = np.zeros((t, v))"
   ]
  },
  {
   "cell_type": "code",
   "execution_count": 12,
   "metadata": {},
   "outputs": [],
   "source": [
    "# compute word given tag: Emission Probability\n",
    "def word_given_tag(word, tag, train_bag = train_tagged_words):\n",
    "    tag_list = [pair for pair in train_bag if pair[1]==tag]\n",
    "    count_tag = len(tag_list)\n",
    "    w_given_tag_list = [pair[0] for pair in tag_list if pair[0]==word]\n",
    "    count_w_given_tag = len(w_given_tag_list)\n",
    "    \n",
    "    return (count_w_given_tag, count_tag)"
   ]
  },
  {
   "cell_type": "code",
   "execution_count": 13,
   "metadata": {},
   "outputs": [
    {
     "output_type": "stream",
     "name": "stdout",
     "text": [
      "(72, 6063)\n",
      "(4, 27471)\n",
      "\n",
      " book\n",
      "(7, 27471)\n",
      "(1, 12910)\n"
     ]
    }
   ],
   "source": [
    "print(word_given_tag('Japanese','ADJ'))\n",
    "print(word_given_tag('Minister','NOUN'))\n",
    "\n",
    "# book\n",
    "print(\"\\n\", \"book\")\n",
    "print(word_given_tag('book', 'NOUN'))\n",
    "print(word_given_tag('book', 'VERB'))"
   ]
  },
  {
   "cell_type": "code",
   "execution_count": 14,
   "metadata": {},
   "outputs": [],
   "source": [
    "def t2_given_t1(t2, t1, train_bag = train_tagged_words):\n",
    "    tags = [pair[1] for pair in train_bag]\n",
    "    count_t1 = len([t for t in tags if t==t1])\n",
    "    count_t2_t1 = 0\n",
    "    for index in range(len(tags)-1):\n",
    "        if tags[index]==t1 and tags[index+1] == t2:\n",
    "            count_t2_t1 += 1\n",
    "    return (count_t2_t1, count_t1)"
   ]
  },
  {
   "cell_type": "code",
   "execution_count": 15,
   "metadata": {},
   "outputs": [
    {
     "output_type": "stream",
     "name": "stdout",
     "text": [
      "(4235, 6063)\n(1431, 12910)\n(456, 12910)\n"
     ]
    }
   ],
   "source": [
    "print(t2_given_t1(t2='NOUN', t1='ADJ'))\n",
    "print(t2_given_t1(t2='NOUN', t1='VERB'))\n",
    "print(t2_given_t1(t2='PRON', t1='VERB'))"
   ]
  },
  {
   "cell_type": "code",
   "execution_count": 16,
   "metadata": {},
   "outputs": [],
   "source": [
    "# creating t x t transition matrix of tags\n",
    "# each column is t2, each row is t1\n",
    "# thus M(i, j) represents P(tj given ti)\n",
    "\n",
    "tags_matrix = np.zeros((len(T), len(T)), dtype='float32')\n",
    "for i, t1 in enumerate(list(T)):\n",
    "    for j, t2 in enumerate(list(T)): \n",
    "        tags_matrix[i, j] = t2_given_t1(t2, t1)[0]/t2_given_t1(t2, t1)[1]"
   ]
  },
  {
   "cell_type": "code",
   "execution_count": 17,
   "metadata": {},
   "outputs": [
    {
     "output_type": "execute_result",
     "data": {
      "text/plain": [
       "           ADV      PRON         X       DET       PRT       ADP      VERB  \\\n",
       "ADV   0.081258  0.015400  0.023263  0.068480  0.014744  0.118611  0.344364   \n",
       "PRON  0.032837  0.007637  0.093929  0.009164  0.011837  0.023291  0.487972   \n",
       "X     0.026108  0.056329  0.074842  0.054114  0.184652  0.144937  0.204114   \n",
       "DET   0.012698  0.003749  0.046197  0.005442  0.000242  0.009191  0.039545   \n",
       "PRT   0.009772  0.017915  0.014007  0.099674  0.001954  0.021173  0.402932   \n",
       "ADP   0.013849  0.070203  0.035048  0.322893  0.001491  0.016512  0.008522   \n",
       "VERB  0.083501  0.035321  0.217816  0.133617  0.031216  0.091402  0.167622   \n",
       "NUM   0.002973  0.001486  0.210464  0.002973  0.027051  0.035672  0.018133   \n",
       "NOUN  0.017182  0.004769  0.029231  0.013250  0.043974  0.177023  0.146336   \n",
       "CONJ  0.055970  0.057369  0.008862  0.118470  0.005131  0.052705  0.158582   \n",
       "\n",
       "           NUM      NOUN      CONJ       ADJ         .  \n",
       "ADV   0.031455  0.031127  0.006881  0.129751  0.134666  \n",
       "PRON  0.007255  0.207331  0.004582  0.073692  0.040473  \n",
       "X     0.002690  0.062184  0.010759  0.016456  0.162816  \n",
       "DET   0.022373  0.638650  0.000484  0.203652  0.017777  \n",
       "PRT   0.056678  0.247883  0.002280  0.084039  0.041694  \n",
       "ADP   0.062001  0.322893  0.000959  0.105785  0.039842  \n",
       "VERB  0.022696  0.110844  0.005577  0.065221  0.035167  \n",
       "NUM   0.184899  0.354637  0.013377  0.032402  0.115933  \n",
       "NOUN  0.009537  0.264898  0.042263  0.012231  0.239307  \n",
       "CONJ  0.041511  0.348881  0.000466  0.118937  0.033116  "
      ],
      "text/html": "<div>\n<style scoped>\n    .dataframe tbody tr th:only-of-type {\n        vertical-align: middle;\n    }\n\n    .dataframe tbody tr th {\n        vertical-align: top;\n    }\n\n    .dataframe thead th {\n        text-align: right;\n    }\n</style>\n<table border=\"1\" class=\"dataframe\">\n  <thead>\n    <tr style=\"text-align: right;\">\n      <th></th>\n      <th>ADV</th>\n      <th>PRON</th>\n      <th>X</th>\n      <th>DET</th>\n      <th>PRT</th>\n      <th>ADP</th>\n      <th>VERB</th>\n      <th>NUM</th>\n      <th>NOUN</th>\n      <th>CONJ</th>\n      <th>ADJ</th>\n      <th>.</th>\n    </tr>\n  </thead>\n  <tbody>\n    <tr>\n      <th>ADV</th>\n      <td>0.081258</td>\n      <td>0.015400</td>\n      <td>0.023263</td>\n      <td>0.068480</td>\n      <td>0.014744</td>\n      <td>0.118611</td>\n      <td>0.344364</td>\n      <td>0.031455</td>\n      <td>0.031127</td>\n      <td>0.006881</td>\n      <td>0.129751</td>\n      <td>0.134666</td>\n    </tr>\n    <tr>\n      <th>PRON</th>\n      <td>0.032837</td>\n      <td>0.007637</td>\n      <td>0.093929</td>\n      <td>0.009164</td>\n      <td>0.011837</td>\n      <td>0.023291</td>\n      <td>0.487972</td>\n      <td>0.007255</td>\n      <td>0.207331</td>\n      <td>0.004582</td>\n      <td>0.073692</td>\n      <td>0.040473</td>\n    </tr>\n    <tr>\n      <th>X</th>\n      <td>0.026108</td>\n      <td>0.056329</td>\n      <td>0.074842</td>\n      <td>0.054114</td>\n      <td>0.184652</td>\n      <td>0.144937</td>\n      <td>0.204114</td>\n      <td>0.002690</td>\n      <td>0.062184</td>\n      <td>0.010759</td>\n      <td>0.016456</td>\n      <td>0.162816</td>\n    </tr>\n    <tr>\n      <th>DET</th>\n      <td>0.012698</td>\n      <td>0.003749</td>\n      <td>0.046197</td>\n      <td>0.005442</td>\n      <td>0.000242</td>\n      <td>0.009191</td>\n      <td>0.039545</td>\n      <td>0.022373</td>\n      <td>0.638650</td>\n      <td>0.000484</td>\n      <td>0.203652</td>\n      <td>0.017777</td>\n    </tr>\n    <tr>\n      <th>PRT</th>\n      <td>0.009772</td>\n      <td>0.017915</td>\n      <td>0.014007</td>\n      <td>0.099674</td>\n      <td>0.001954</td>\n      <td>0.021173</td>\n      <td>0.402932</td>\n      <td>0.056678</td>\n      <td>0.247883</td>\n      <td>0.002280</td>\n      <td>0.084039</td>\n      <td>0.041694</td>\n    </tr>\n    <tr>\n      <th>ADP</th>\n      <td>0.013849</td>\n      <td>0.070203</td>\n      <td>0.035048</td>\n      <td>0.322893</td>\n      <td>0.001491</td>\n      <td>0.016512</td>\n      <td>0.008522</td>\n      <td>0.062001</td>\n      <td>0.322893</td>\n      <td>0.000959</td>\n      <td>0.105785</td>\n      <td>0.039842</td>\n    </tr>\n    <tr>\n      <th>VERB</th>\n      <td>0.083501</td>\n      <td>0.035321</td>\n      <td>0.217816</td>\n      <td>0.133617</td>\n      <td>0.031216</td>\n      <td>0.091402</td>\n      <td>0.167622</td>\n      <td>0.022696</td>\n      <td>0.110844</td>\n      <td>0.005577</td>\n      <td>0.065221</td>\n      <td>0.035167</td>\n    </tr>\n    <tr>\n      <th>NUM</th>\n      <td>0.002973</td>\n      <td>0.001486</td>\n      <td>0.210464</td>\n      <td>0.002973</td>\n      <td>0.027051</td>\n      <td>0.035672</td>\n      <td>0.018133</td>\n      <td>0.184899</td>\n      <td>0.354637</td>\n      <td>0.013377</td>\n      <td>0.032402</td>\n      <td>0.115933</td>\n    </tr>\n    <tr>\n      <th>NOUN</th>\n      <td>0.017182</td>\n      <td>0.004769</td>\n      <td>0.029231</td>\n      <td>0.013250</td>\n      <td>0.043974</td>\n      <td>0.177023</td>\n      <td>0.146336</td>\n      <td>0.009537</td>\n      <td>0.264898</td>\n      <td>0.042263</td>\n      <td>0.012231</td>\n      <td>0.239307</td>\n    </tr>\n    <tr>\n      <th>CONJ</th>\n      <td>0.055970</td>\n      <td>0.057369</td>\n      <td>0.008862</td>\n      <td>0.118470</td>\n      <td>0.005131</td>\n      <td>0.052705</td>\n      <td>0.158582</td>\n      <td>0.041511</td>\n      <td>0.348881</td>\n      <td>0.000466</td>\n      <td>0.118937</td>\n      <td>0.033116</td>\n    </tr>\n  </tbody>\n</table>\n</div>"
     },
     "metadata": {},
     "execution_count": 17
    }
   ],
   "source": [
    "# convert the matrix to a df for better readability\n",
    "tags_df = pd.DataFrame(tags_matrix, columns = list(T), index=list(T))\n",
    "tags_df.head(10)"
   ]
  },
  {
   "cell_type": "code",
   "execution_count": 18,
   "metadata": {},
   "outputs": [
    {
     "output_type": "display_data",
     "data": {
      "text/plain": "<Figure size 1296x864 with 2 Axes>",
      "image/svg+xml": "<?xml version=\"1.0\" encoding=\"utf-8\" standalone=\"no\"?>\r\n<!DOCTYPE svg PUBLIC \"-//W3C//DTD SVG 1.1//EN\"\r\n  \"http://www.w3.org/Graphics/SVG/1.1/DTD/svg11.dtd\">\r\n<!-- Created with matplotlib (https://matplotlib.org/) -->\r\n<svg height=\"683.398125pt\" version=\"1.1\" viewBox=\"0 0 940.33725 683.398125\" width=\"940.33725pt\" xmlns=\"http://www.w3.org/2000/svg\" xmlns:xlink=\"http://www.w3.org/1999/xlink\">\r\n <metadata>\r\n  <rdf:RDF xmlns:cc=\"http://creativecommons.org/ns#\" xmlns:dc=\"http://purl.org/dc/elements/1.1/\" xmlns:rdf=\"http://www.w3.org/1999/02/22-rdf-syntax-ns#\">\r\n   <cc:Work>\r\n    <dc:type rdf:resource=\"http://purl.org/dc/dcmitype/StillImage\"/>\r\n    <dc:date>2021-02-26T01:30:24.925930</dc:date>\r\n    <dc:format>image/svg+xml</dc:format>\r\n    <dc:creator>\r\n     <cc:Agent>\r\n      <dc:title>Matplotlib v3.3.4, https://matplotlib.org/</dc:title>\r\n     </cc:Agent>\r\n    </dc:creator>\r\n   </cc:Work>\r\n  </rdf:RDF>\r\n </metadata>\r\n <defs>\r\n  <style type=\"text/css\">*{stroke-linecap:butt;stroke-linejoin:round;}</style>\r\n </defs>\r\n <g id=\"figure_1\">\r\n  <g id=\"patch_1\">\r\n   <path d=\"M 0 683.398125 \r\nL 940.33725 683.398125 \r\nL 940.33725 0 \r\nL 0 0 \r\nz\r\n\" style=\"fill:none;\"/>\r\n  </g>\r\n  <g id=\"axes_1\">\r\n   <g id=\"patch_2\">\r\n    <path d=\"M 23.878125 659.52 \r\nL 827.398125 659.52 \r\nL 827.398125 7.2 \r\nL 23.878125 7.2 \r\nz\r\n\" style=\"fill:#ffffff;\"/>\r\n   </g>\r\n   <g id=\"QuadMesh_1\">\r\n    <path clip-path=\"url(#p0ee056f200)\" d=\"M 23.878125 7.2 \r\nL 90.838125 7.2 \r\nL 90.838125 61.56 \r\nL 23.878125 61.56 \r\nL 23.878125 7.2 \r\n\" style=\"fill:#2b1637;\"/>\r\n    <path clip-path=\"url(#p0ee056f200)\" d=\"M 90.838125 7.2 \r\nL 157.798125 7.2 \r\nL 157.798125 61.56 \r\nL 90.838125 61.56 \r\nL 90.838125 7.2 \r\n\" style=\"fill:#08081e;\"/>\r\n    <path clip-path=\"url(#p0ee056f200)\" d=\"M 157.798125 7.2 \r\nL 224.758125 7.2 \r\nL 224.758125 61.56 \r\nL 157.798125 61.56 \r\nL 157.798125 7.2 \r\n\" style=\"fill:#0d0a21;\"/>\r\n    <path clip-path=\"url(#p0ee056f200)\" d=\"M 224.758125 7.2 \r\nL 291.718125 7.2 \r\nL 291.718125 61.56 \r\nL 224.758125 61.56 \r\nL 224.758125 7.2 \r\n\" style=\"fill:#251433;\"/>\r\n    <path clip-path=\"url(#p0ee056f200)\" d=\"M 291.718125 7.2 \r\nL 358.678125 7.2 \r\nL 358.678125 61.56 \r\nL 291.718125 61.56 \r\nL 291.718125 7.2 \r\n\" style=\"fill:#08081e;\"/>\r\n    <path clip-path=\"url(#p0ee056f200)\" d=\"M 358.678125 7.2 \r\nL 425.638125 7.2 \r\nL 425.638125 61.56 \r\nL 358.678125 61.56 \r\nL 358.678125 7.2 \r\n\" style=\"fill:#401b44;\"/>\r\n    <path clip-path=\"url(#p0ee056f200)\" d=\"M 425.638125 7.2 \r\nL 492.598125 7.2 \r\nL 492.598125 61.56 \r\nL 425.638125 61.56 \r\nL 425.638125 7.2 \r\n\" style=\"fill:#c81951;\"/>\r\n    <path clip-path=\"url(#p0ee056f200)\" d=\"M 492.598125 7.2 \r\nL 559.558125 7.2 \r\nL 559.558125 61.56 \r\nL 492.598125 61.56 \r\nL 492.598125 7.2 \r\n\" style=\"fill:#110c24;\"/>\r\n    <path clip-path=\"url(#p0ee056f200)\" d=\"M 559.558125 7.2 \r\nL 626.518125 7.2 \r\nL 626.518125 61.56 \r\nL 559.558125 61.56 \r\nL 559.558125 7.2 \r\n\" style=\"fill:#110c24;\"/>\r\n    <path clip-path=\"url(#p0ee056f200)\" d=\"M 626.518125 7.2 \r\nL 693.478125 7.2 \r\nL 693.478125 61.56 \r\nL 626.518125 61.56 \r\nL 626.518125 7.2 \r\n\" style=\"fill:#05061b;\"/>\r\n    <path clip-path=\"url(#p0ee056f200)\" d=\"M 693.478125 7.2 \r\nL 760.438125 7.2 \r\nL 760.438125 61.56 \r\nL 693.478125 61.56 \r\nL 693.478125 7.2 \r\n\" style=\"fill:#461c48;\"/>\r\n    <path clip-path=\"url(#p0ee056f200)\" d=\"M 760.438125 7.2 \r\nL 827.398125 7.2 \r\nL 827.398125 61.56 \r\nL 760.438125 61.56 \r\nL 760.438125 7.2 \r\n\" style=\"fill:#491d49;\"/>\r\n    <path clip-path=\"url(#p0ee056f200)\" d=\"M 23.878125 61.56 \r\nL 90.838125 61.56 \r\nL 90.838125 115.92 \r\nL 23.878125 115.92 \r\nL 23.878125 61.56 \r\n\" style=\"fill:#110c24;\"/>\r\n    <path clip-path=\"url(#p0ee056f200)\" d=\"M 90.838125 61.56 \r\nL 157.798125 61.56 \r\nL 157.798125 115.92 \r\nL 90.838125 115.92 \r\nL 90.838125 61.56 \r\n\" style=\"fill:#05061b;\"/>\r\n    <path clip-path=\"url(#p0ee056f200)\" d=\"M 157.798125 61.56 \r\nL 224.758125 61.56 \r\nL 224.758125 115.92 \r\nL 157.798125 115.92 \r\nL 157.798125 61.56 \r\n\" style=\"fill:#33183c;\"/>\r\n    <path clip-path=\"url(#p0ee056f200)\" d=\"M 224.758125 61.56 \r\nL 291.718125 61.56 \r\nL 291.718125 115.92 \r\nL 224.758125 115.92 \r\nL 224.758125 61.56 \r\n\" style=\"fill:#06071c;\"/>\r\n    <path clip-path=\"url(#p0ee056f200)\" d=\"M 291.718125 61.56 \r\nL 358.678125 61.56 \r\nL 358.678125 115.92 \r\nL 291.718125 115.92 \r\nL 291.718125 61.56 \r\n\" style=\"fill:#07071d;\"/>\r\n    <path clip-path=\"url(#p0ee056f200)\" d=\"M 358.678125 61.56 \r\nL 425.638125 61.56 \r\nL 425.638125 115.92 \r\nL 358.678125 115.92 \r\nL 358.678125 61.56 \r\n\" style=\"fill:#0d0a21;\"/>\r\n    <path clip-path=\"url(#p0ee056f200)\" d=\"M 425.638125 61.56 \r\nL 492.598125 61.56 \r\nL 492.598125 115.92 \r\nL 425.638125 115.92 \r\nL 425.638125 61.56 \r\n\" style=\"fill:#f26f4c;\"/>\r\n    <path clip-path=\"url(#p0ee056f200)\" d=\"M 492.598125 61.56 \r\nL 559.558125 61.56 \r\nL 559.558125 115.92 \r\nL 492.598125 115.92 \r\nL 492.598125 61.56 \r\n\" style=\"fill:#05061b;\"/>\r\n    <path clip-path=\"url(#p0ee056f200)\" d=\"M 559.558125 61.56 \r\nL 626.518125 61.56 \r\nL 626.518125 115.92 \r\nL 559.558125 115.92 \r\nL 559.558125 61.56 \r\n\" style=\"fill:#731f58;\"/>\r\n    <path clip-path=\"url(#p0ee056f200)\" d=\"M 626.518125 61.56 \r\nL 693.478125 61.56 \r\nL 693.478125 115.92 \r\nL 626.518125 115.92 \r\nL 626.518125 61.56 \r\n\" style=\"fill:#04051a;\"/>\r\n    <path clip-path=\"url(#p0ee056f200)\" d=\"M 693.478125 61.56 \r\nL 760.438125 61.56 \r\nL 760.438125 115.92 \r\nL 693.478125 115.92 \r\nL 693.478125 61.56 \r\n\" style=\"fill:#271534;\"/>\r\n    <path clip-path=\"url(#p0ee056f200)\" d=\"M 760.438125 61.56 \r\nL 827.398125 61.56 \r\nL 827.398125 115.92 \r\nL 760.438125 115.92 \r\nL 760.438125 61.56 \r\n\" style=\"fill:#160e27;\"/>\r\n    <path clip-path=\"url(#p0ee056f200)\" d=\"M 23.878125 115.92 \r\nL 90.838125 115.92 \r\nL 90.838125 170.28 \r\nL 23.878125 170.28 \r\nL 23.878125 115.92 \r\n\" style=\"fill:#0e0b22;\"/>\r\n    <path clip-path=\"url(#p0ee056f200)\" d=\"M 90.838125 115.92 \r\nL 157.798125 115.92 \r\nL 157.798125 170.28 \r\nL 90.838125 170.28 \r\nL 90.838125 115.92 \r\n\" style=\"fill:#1e122d;\"/>\r\n    <path clip-path=\"url(#p0ee056f200)\" d=\"M 157.798125 115.92 \r\nL 224.758125 115.92 \r\nL 224.758125 170.28 \r\nL 157.798125 170.28 \r\nL 157.798125 115.92 \r\n\" style=\"fill:#281535;\"/>\r\n    <path clip-path=\"url(#p0ee056f200)\" d=\"M 224.758125 115.92 \r\nL 291.718125 115.92 \r\nL 291.718125 170.28 \r\nL 224.758125 170.28 \r\nL 224.758125 115.92 \r\n\" style=\"fill:#1d112c;\"/>\r\n    <path clip-path=\"url(#p0ee056f200)\" d=\"M 291.718125 115.92 \r\nL 358.678125 115.92 \r\nL 358.678125 170.28 \r\nL 291.718125 170.28 \r\nL 291.718125 115.92 \r\n\" style=\"fill:#661f54;\"/>\r\n    <path clip-path=\"url(#p0ee056f200)\" d=\"M 358.678125 115.92 \r\nL 425.638125 115.92 \r\nL 425.638125 170.28 \r\nL 358.678125 170.28 \r\nL 358.678125 115.92 \r\n\" style=\"fill:#501d4c;\"/>\r\n    <path clip-path=\"url(#p0ee056f200)\" d=\"M 425.638125 115.92 \r\nL 492.598125 115.92 \r\nL 492.598125 170.28 \r\nL 425.638125 170.28 \r\nL 425.638125 115.92 \r\n\" style=\"fill:#711f57;\"/>\r\n    <path clip-path=\"url(#p0ee056f200)\" d=\"M 492.598125 115.92 \r\nL 559.558125 115.92 \r\nL 559.558125 170.28 \r\nL 492.598125 170.28 \r\nL 492.598125 115.92 \r\n\" style=\"fill:#03051a;\"/>\r\n    <path clip-path=\"url(#p0ee056f200)\" d=\"M 559.558125 115.92 \r\nL 626.518125 115.92 \r\nL 626.518125 170.28 \r\nL 559.558125 170.28 \r\nL 559.558125 115.92 \r\n\" style=\"fill:#211330;\"/>\r\n    <path clip-path=\"url(#p0ee056f200)\" d=\"M 626.518125 115.92 \r\nL 693.478125 115.92 \r\nL 693.478125 170.28 \r\nL 626.518125 170.28 \r\nL 626.518125 115.92 \r\n\" style=\"fill:#06071c;\"/>\r\n    <path clip-path=\"url(#p0ee056f200)\" d=\"M 693.478125 115.92 \r\nL 760.438125 115.92 \r\nL 760.438125 170.28 \r\nL 693.478125 170.28 \r\nL 693.478125 115.92 \r\n\" style=\"fill:#08081e;\"/>\r\n    <path clip-path=\"url(#p0ee056f200)\" d=\"M 760.438125 115.92 \r\nL 827.398125 115.92 \r\nL 827.398125 170.28 \r\nL 760.438125 170.28 \r\nL 760.438125 115.92 \r\n\" style=\"fill:#591e50;\"/>\r\n    <path clip-path=\"url(#p0ee056f200)\" d=\"M 23.878125 170.28 \r\nL 90.838125 170.28 \r\nL 90.838125 224.64 \r\nL 23.878125 224.64 \r\nL 23.878125 170.28 \r\n\" style=\"fill:#07071d;\"/>\r\n    <path clip-path=\"url(#p0ee056f200)\" d=\"M 90.838125 170.28 \r\nL 157.798125 170.28 \r\nL 157.798125 224.64 \r\nL 90.838125 224.64 \r\nL 90.838125 170.28 \r\n\" style=\"fill:#04051a;\"/>\r\n    <path clip-path=\"url(#p0ee056f200)\" d=\"M 157.798125 170.28 \r\nL 224.758125 170.28 \r\nL 224.758125 224.64 \r\nL 157.798125 224.64 \r\nL 157.798125 170.28 \r\n\" style=\"fill:#180f29;\"/>\r\n    <path clip-path=\"url(#p0ee056f200)\" d=\"M 224.758125 170.28 \r\nL 291.718125 170.28 \r\nL 291.718125 224.64 \r\nL 224.758125 224.64 \r\nL 224.758125 170.28 \r\n\" style=\"fill:#04051a;\"/>\r\n    <path clip-path=\"url(#p0ee056f200)\" d=\"M 291.718125 170.28 \r\nL 358.678125 170.28 \r\nL 358.678125 224.64 \r\nL 291.718125 224.64 \r\nL 291.718125 170.28 \r\n\" style=\"fill:#03051a;\"/>\r\n    <path clip-path=\"url(#p0ee056f200)\" d=\"M 358.678125 170.28 \r\nL 425.638125 170.28 \r\nL 425.638125 224.64 \r\nL 358.678125 224.64 \r\nL 358.678125 170.28 \r\n\" style=\"fill:#06071c;\"/>\r\n    <path clip-path=\"url(#p0ee056f200)\" d=\"M 425.638125 170.28 \r\nL 492.598125 170.28 \r\nL 492.598125 224.64 \r\nL 425.638125 224.64 \r\nL 425.638125 170.28 \r\n\" style=\"fill:#160e27;\"/>\r\n    <path clip-path=\"url(#p0ee056f200)\" d=\"M 492.598125 170.28 \r\nL 559.558125 170.28 \r\nL 559.558125 224.64 \r\nL 492.598125 224.64 \r\nL 492.598125 170.28 \r\n\" style=\"fill:#0d0a21;\"/>\r\n    <path clip-path=\"url(#p0ee056f200)\" d=\"M 559.558125 170.28 \r\nL 626.518125 170.28 \r\nL 626.518125 224.64 \r\nL 559.558125 224.64 \r\nL 559.558125 170.28 \r\n\" style=\"fill:#f7ccaf;\"/>\r\n    <path clip-path=\"url(#p0ee056f200)\" d=\"M 626.518125 170.28 \r\nL 693.478125 170.28 \r\nL 693.478125 224.64 \r\nL 626.518125 224.64 \r\nL 626.518125 170.28 \r\n\" style=\"fill:#03051a;\"/>\r\n    <path clip-path=\"url(#p0ee056f200)\" d=\"M 693.478125 170.28 \r\nL 760.438125 170.28 \r\nL 760.438125 224.64 \r\nL 693.478125 224.64 \r\nL 693.478125 170.28 \r\n\" style=\"fill:#711f57;\"/>\r\n    <path clip-path=\"url(#p0ee056f200)\" d=\"M 760.438125 170.28 \r\nL 827.398125 170.28 \r\nL 827.398125 224.64 \r\nL 760.438125 224.64 \r\nL 760.438125 170.28 \r\n\" style=\"fill:#0a091f;\"/>\r\n    <path clip-path=\"url(#p0ee056f200)\" d=\"M 23.878125 224.64 \r\nL 90.838125 224.64 \r\nL 90.838125 279 \r\nL 23.878125 279 \r\nL 23.878125 224.64 \r\n\" style=\"fill:#06071c;\"/>\r\n    <path clip-path=\"url(#p0ee056f200)\" d=\"M 90.838125 224.64 \r\nL 157.798125 224.64 \r\nL 157.798125 279 \r\nL 90.838125 279 \r\nL 90.838125 224.64 \r\n\" style=\"fill:#0a091f;\"/>\r\n    <path clip-path=\"url(#p0ee056f200)\" d=\"M 157.798125 224.64 \r\nL 224.758125 224.64 \r\nL 224.758125 279 \r\nL 157.798125 279 \r\nL 157.798125 224.64 \r\n\" style=\"fill:#08081e;\"/>\r\n    <path clip-path=\"url(#p0ee056f200)\" d=\"M 224.758125 224.64 \r\nL 291.718125 224.64 \r\nL 291.718125 279 \r\nL 224.758125 279 \r\nL 224.758125 224.64 \r\n\" style=\"fill:#35193e;\"/>\r\n    <path clip-path=\"url(#p0ee056f200)\" d=\"M 291.718125 224.64 \r\nL 358.678125 224.64 \r\nL 358.678125 279 \r\nL 291.718125 279 \r\nL 291.718125 224.64 \r\n\" style=\"fill:#03051a;\"/>\r\n    <path clip-path=\"url(#p0ee056f200)\" d=\"M 358.678125 224.64 \r\nL 425.638125 224.64 \r\nL 425.638125 279 \r\nL 358.678125 279 \r\nL 358.678125 224.64 \r\n\" style=\"fill:#0b0920;\"/>\r\n    <path clip-path=\"url(#p0ee056f200)\" d=\"M 425.638125 224.64 \r\nL 492.598125 224.64 \r\nL 492.598125 279 \r\nL 425.638125 279 \r\nL 425.638125 224.64 \r\n\" style=\"fill:#e23442;\"/>\r\n    <path clip-path=\"url(#p0ee056f200)\" d=\"M 492.598125 224.64 \r\nL 559.558125 224.64 \r\nL 559.558125 279 \r\nL 492.598125 279 \r\nL 492.598125 224.64 \r\n\" style=\"fill:#1e122d;\"/>\r\n    <path clip-path=\"url(#p0ee056f200)\" d=\"M 559.558125 224.64 \r\nL 626.518125 224.64 \r\nL 626.518125 279 \r\nL 559.558125 279 \r\nL 559.558125 224.64 \r\n\" style=\"fill:#8c1d5b;\"/>\r\n    <path clip-path=\"url(#p0ee056f200)\" d=\"M 626.518125 224.64 \r\nL 693.478125 224.64 \r\nL 693.478125 279 \r\nL 626.518125 279 \r\nL 626.518125 224.64 \r\n\" style=\"fill:#03051a;\"/>\r\n    <path clip-path=\"url(#p0ee056f200)\" d=\"M 693.478125 224.64 \r\nL 760.438125 224.64 \r\nL 760.438125 279 \r\nL 693.478125 279 \r\nL 693.478125 224.64 \r\n\" style=\"fill:#2d1738;\"/>\r\n    <path clip-path=\"url(#p0ee056f200)\" d=\"M 760.438125 224.64 \r\nL 827.398125 224.64 \r\nL 827.398125 279 \r\nL 760.438125 279 \r\nL 760.438125 224.64 \r\n\" style=\"fill:#170f28;\"/>\r\n    <path clip-path=\"url(#p0ee056f200)\" d=\"M 23.878125 279 \r\nL 90.838125 279 \r\nL 90.838125 333.36 \r\nL 23.878125 333.36 \r\nL 23.878125 279 \r\n\" style=\"fill:#07071d;\"/>\r\n    <path clip-path=\"url(#p0ee056f200)\" d=\"M 90.838125 279 \r\nL 157.798125 279 \r\nL 157.798125 333.36 \r\nL 90.838125 333.36 \r\nL 90.838125 279 \r\n\" style=\"fill:#251433;\"/>\r\n    <path clip-path=\"url(#p0ee056f200)\" d=\"M 157.798125 279 \r\nL 224.758125 279 \r\nL 224.758125 333.36 \r\nL 157.798125 333.36 \r\nL 157.798125 279 \r\n\" style=\"fill:#130d25;\"/>\r\n    <path clip-path=\"url(#p0ee056f200)\" d=\"M 224.758125 279 \r\nL 291.718125 279 \r\nL 291.718125 333.36 \r\nL 224.758125 333.36 \r\nL 224.758125 279 \r\n\" style=\"fill:#bc1656;\"/>\r\n    <path clip-path=\"url(#p0ee056f200)\" d=\"M 291.718125 279 \r\nL 358.678125 279 \r\nL 358.678125 333.36 \r\nL 291.718125 333.36 \r\nL 291.718125 279 \r\n\" style=\"fill:#03051a;\"/>\r\n    <path clip-path=\"url(#p0ee056f200)\" d=\"M 358.678125 279 \r\nL 425.638125 279 \r\nL 425.638125 333.36 \r\nL 358.678125 333.36 \r\nL 358.678125 279 \r\n\" style=\"fill:#08081e;\"/>\r\n    <path clip-path=\"url(#p0ee056f200)\" d=\"M 425.638125 279 \r\nL 492.598125 279 \r\nL 492.598125 333.36 \r\nL 425.638125 333.36 \r\nL 425.638125 279 \r\n\" style=\"fill:#06071c;\"/>\r\n    <path clip-path=\"url(#p0ee056f200)\" d=\"M 492.598125 279 \r\nL 559.558125 279 \r\nL 559.558125 333.36 \r\nL 492.598125 333.36 \r\nL 492.598125 279 \r\n\" style=\"fill:#211330;\"/>\r\n    <path clip-path=\"url(#p0ee056f200)\" d=\"M 559.558125 279 \r\nL 626.518125 279 \r\nL 626.518125 333.36 \r\nL 559.558125 333.36 \r\nL 559.558125 279 \r\n\" style=\"fill:#bc1656;\"/>\r\n    <path clip-path=\"url(#p0ee056f200)\" d=\"M 626.518125 279 \r\nL 693.478125 279 \r\nL 693.478125 333.36 \r\nL 626.518125 333.36 \r\nL 626.518125 279 \r\n\" style=\"fill:#03051a;\"/>\r\n    <path clip-path=\"url(#p0ee056f200)\" d=\"M 693.478125 279 \r\nL 760.438125 279 \r\nL 760.438125 333.36 \r\nL 693.478125 333.36 \r\nL 693.478125 279 \r\n\" style=\"fill:#381a40;\"/>\r\n    <path clip-path=\"url(#p0ee056f200)\" d=\"M 760.438125 279 \r\nL 827.398125 279 \r\nL 827.398125 333.36 \r\nL 760.438125 333.36 \r\nL 760.438125 279 \r\n\" style=\"fill:#160e27;\"/>\r\n    <path clip-path=\"url(#p0ee056f200)\" d=\"M 23.878125 333.36 \r\nL 90.838125 333.36 \r\nL 90.838125 387.72 \r\nL 23.878125 387.72 \r\nL 23.878125 333.36 \r\n\" style=\"fill:#2d1738;\"/>\r\n    <path clip-path=\"url(#p0ee056f200)\" d=\"M 90.838125 333.36 \r\nL 157.798125 333.36 \r\nL 157.798125 387.72 \r\nL 90.838125 387.72 \r\nL 90.838125 333.36 \r\n\" style=\"fill:#130d25;\"/>\r\n    <path clip-path=\"url(#p0ee056f200)\" d=\"M 157.798125 333.36 \r\nL 224.758125 333.36 \r\nL 224.758125 387.72 \r\nL 157.798125 387.72 \r\nL 157.798125 333.36 \r\n\" style=\"fill:#7a1f59;\"/>\r\n    <path clip-path=\"url(#p0ee056f200)\" d=\"M 224.758125 333.36 \r\nL 291.718125 333.36 \r\nL 291.718125 387.72 \r\nL 224.758125 387.72 \r\nL 224.758125 333.36 \r\n\" style=\"fill:#481c48;\"/>\r\n    <path clip-path=\"url(#p0ee056f200)\" d=\"M 291.718125 333.36 \r\nL 358.678125 333.36 \r\nL 358.678125 387.72 \r\nL 291.718125 387.72 \r\nL 291.718125 333.36 \r\n\" style=\"fill:#110c24;\"/>\r\n    <path clip-path=\"url(#p0ee056f200)\" d=\"M 358.678125 333.36 \r\nL 425.638125 333.36 \r\nL 425.638125 387.72 \r\nL 358.678125 387.72 \r\nL 358.678125 333.36 \r\n\" style=\"fill:#31183b;\"/>\r\n    <path clip-path=\"url(#p0ee056f200)\" d=\"M 425.638125 333.36 \r\nL 492.598125 333.36 \r\nL 492.598125 387.72 \r\nL 425.638125 387.72 \r\nL 425.638125 333.36 \r\n\" style=\"fill:#5c1e51;\"/>\r\n    <path clip-path=\"url(#p0ee056f200)\" d=\"M 492.598125 333.36 \r\nL 559.558125 333.36 \r\nL 559.558125 387.72 \r\nL 492.598125 387.72 \r\nL 492.598125 333.36 \r\n\" style=\"fill:#0d0a21;\"/>\r\n    <path clip-path=\"url(#p0ee056f200)\" d=\"M 559.558125 333.36 \r\nL 626.518125 333.36 \r\nL 626.518125 387.72 \r\nL 559.558125 387.72 \r\nL 559.558125 333.36 \r\n\" style=\"fill:#3c1a42;\"/>\r\n    <path clip-path=\"url(#p0ee056f200)\" d=\"M 626.518125 333.36 \r\nL 693.478125 333.36 \r\nL 693.478125 387.72 \r\nL 626.518125 387.72 \r\nL 626.518125 333.36 \r\n\" style=\"fill:#04051a;\"/>\r\n    <path clip-path=\"url(#p0ee056f200)\" d=\"M 693.478125 333.36 \r\nL 760.438125 333.36 \r\nL 760.438125 387.72 \r\nL 693.478125 387.72 \r\nL 693.478125 333.36 \r\n\" style=\"fill:#221331;\"/>\r\n    <path clip-path=\"url(#p0ee056f200)\" d=\"M 760.438125 333.36 \r\nL 827.398125 333.36 \r\nL 827.398125 387.72 \r\nL 760.438125 387.72 \r\nL 760.438125 333.36 \r\n\" style=\"fill:#130d25;\"/>\r\n    <path clip-path=\"url(#p0ee056f200)\" d=\"M 23.878125 387.72 \r\nL 90.838125 387.72 \r\nL 90.838125 442.08 \r\nL 23.878125 442.08 \r\nL 23.878125 387.72 \r\n\" style=\"fill:#04051a;\"/>\r\n    <path clip-path=\"url(#p0ee056f200)\" d=\"M 90.838125 387.72 \r\nL 157.798125 387.72 \r\nL 157.798125 442.08 \r\nL 90.838125 442.08 \r\nL 90.838125 387.72 \r\n\" style=\"fill:#03051a;\"/>\r\n    <path clip-path=\"url(#p0ee056f200)\" d=\"M 157.798125 387.72 \r\nL 224.758125 387.72 \r\nL 224.758125 442.08 \r\nL 157.798125 442.08 \r\nL 157.798125 387.72 \r\n\" style=\"fill:#761f58;\"/>\r\n    <path clip-path=\"url(#p0ee056f200)\" d=\"M 224.758125 387.72 \r\nL 291.718125 387.72 \r\nL 291.718125 442.08 \r\nL 224.758125 442.08 \r\nL 224.758125 387.72 \r\n\" style=\"fill:#04051a;\"/>\r\n    <path clip-path=\"url(#p0ee056f200)\" d=\"M 291.718125 387.72 \r\nL 358.678125 387.72 \r\nL 358.678125 442.08 \r\nL 291.718125 442.08 \r\nL 291.718125 387.72 \r\n\" style=\"fill:#0e0b22;\"/>\r\n    <path clip-path=\"url(#p0ee056f200)\" d=\"M 358.678125 387.72 \r\nL 425.638125 387.72 \r\nL 425.638125 442.08 \r\nL 358.678125 442.08 \r\nL 358.678125 387.72 \r\n\" style=\"fill:#130d25;\"/>\r\n    <path clip-path=\"url(#p0ee056f200)\" d=\"M 425.638125 387.72 \r\nL 492.598125 387.72 \r\nL 492.598125 442.08 \r\nL 425.638125 442.08 \r\nL 425.638125 387.72 \r\n\" style=\"fill:#0a091f;\"/>\r\n    <path clip-path=\"url(#p0ee056f200)\" d=\"M 492.598125 387.72 \r\nL 559.558125 387.72 \r\nL 559.558125 442.08 \r\nL 492.598125 442.08 \r\nL 492.598125 387.72 \r\n\" style=\"fill:#661f54;\"/>\r\n    <path clip-path=\"url(#p0ee056f200)\" d=\"M 559.558125 387.72 \r\nL 626.518125 387.72 \r\nL 626.518125 442.08 \r\nL 559.558125 442.08 \r\nL 559.558125 387.72 \r\n\" style=\"fill:#cd1c4e;\"/>\r\n    <path clip-path=\"url(#p0ee056f200)\" d=\"M 626.518125 387.72 \r\nL 693.478125 387.72 \r\nL 693.478125 442.08 \r\nL 626.518125 442.08 \r\nL 626.518125 387.72 \r\n\" style=\"fill:#07071d;\"/>\r\n    <path clip-path=\"url(#p0ee056f200)\" d=\"M 693.478125 387.72 \r\nL 760.438125 387.72 \r\nL 760.438125 442.08 \r\nL 693.478125 442.08 \r\nL 693.478125 387.72 \r\n\" style=\"fill:#110c24;\"/>\r\n    <path clip-path=\"url(#p0ee056f200)\" d=\"M 760.438125 387.72 \r\nL 827.398125 387.72 \r\nL 827.398125 442.08 \r\nL 760.438125 442.08 \r\nL 760.438125 387.72 \r\n\" style=\"fill:#3f1b43;\"/>\r\n    <path clip-path=\"url(#p0ee056f200)\" d=\"M 23.878125 442.08 \r\nL 90.838125 442.08 \r\nL 90.838125 496.44 \r\nL 23.878125 496.44 \r\nL 23.878125 442.08 \r\n\" style=\"fill:#0a091f;\"/>\r\n    <path clip-path=\"url(#p0ee056f200)\" d=\"M 90.838125 442.08 \r\nL 157.798125 442.08 \r\nL 157.798125 496.44 \r\nL 90.838125 496.44 \r\nL 90.838125 442.08 \r\n\" style=\"fill:#04051a;\"/>\r\n    <path clip-path=\"url(#p0ee056f200)\" d=\"M 157.798125 442.08 \r\nL 224.758125 442.08 \r\nL 224.758125 496.44 \r\nL 157.798125 496.44 \r\nL 157.798125 442.08 \r\n\" style=\"fill:#100b23;\"/>\r\n    <path clip-path=\"url(#p0ee056f200)\" d=\"M 224.758125 442.08 \r\nL 291.718125 442.08 \r\nL 291.718125 496.44 \r\nL 224.758125 496.44 \r\nL 224.758125 442.08 \r\n\" style=\"fill:#07071d;\"/>\r\n    <path clip-path=\"url(#p0ee056f200)\" d=\"M 291.718125 442.08 \r\nL 358.678125 442.08 \r\nL 358.678125 496.44 \r\nL 291.718125 496.44 \r\nL 291.718125 442.08 \r\n\" style=\"fill:#180f29;\"/>\r\n    <path clip-path=\"url(#p0ee056f200)\" d=\"M 358.678125 442.08 \r\nL 425.638125 442.08 \r\nL 425.638125 496.44 \r\nL 358.678125 496.44 \r\nL 358.678125 442.08 \r\n\" style=\"fill:#611f53;\"/>\r\n    <path clip-path=\"url(#p0ee056f200)\" d=\"M 425.638125 442.08 \r\nL 492.598125 442.08 \r\nL 492.598125 496.44 \r\nL 425.638125 496.44 \r\nL 425.638125 442.08 \r\n\" style=\"fill:#501d4c;\"/>\r\n    <path clip-path=\"url(#p0ee056f200)\" d=\"M 492.598125 442.08 \r\nL 559.558125 442.08 \r\nL 559.558125 496.44 \r\nL 492.598125 496.44 \r\nL 492.598125 442.08 \r\n\" style=\"fill:#06071c;\"/>\r\n    <path clip-path=\"url(#p0ee056f200)\" d=\"M 559.558125 442.08 \r\nL 626.518125 442.08 \r\nL 626.518125 496.44 \r\nL 559.558125 496.44 \r\nL 559.558125 442.08 \r\n\" style=\"fill:#981b5b;\"/>\r\n    <path clip-path=\"url(#p0ee056f200)\" d=\"M 626.518125 442.08 \r\nL 693.478125 442.08 \r\nL 693.478125 496.44 \r\nL 626.518125 496.44 \r\nL 626.518125 442.08 \r\n\" style=\"fill:#170f28;\"/>\r\n    <path clip-path=\"url(#p0ee056f200)\" d=\"M 693.478125 442.08 \r\nL 760.438125 442.08 \r\nL 760.438125 496.44 \r\nL 693.478125 496.44 \r\nL 693.478125 442.08 \r\n\" style=\"fill:#07071d;\"/>\r\n    <path clip-path=\"url(#p0ee056f200)\" d=\"M 760.438125 442.08 \r\nL 827.398125 442.08 \r\nL 827.398125 496.44 \r\nL 760.438125 496.44 \r\nL 760.438125 442.08 \r\n\" style=\"fill:#871e5b;\"/>\r\n    <path clip-path=\"url(#p0ee056f200)\" d=\"M 23.878125 496.44 \r\nL 90.838125 496.44 \r\nL 90.838125 550.8 \r\nL 23.878125 550.8 \r\nL 23.878125 496.44 \r\n\" style=\"fill:#1e122d;\"/>\r\n    <path clip-path=\"url(#p0ee056f200)\" d=\"M 90.838125 496.44 \r\nL 157.798125 496.44 \r\nL 157.798125 550.8 \r\nL 90.838125 550.8 \r\nL 90.838125 496.44 \r\n\" style=\"fill:#1e122d;\"/>\r\n    <path clip-path=\"url(#p0ee056f200)\" d=\"M 157.798125 496.44 \r\nL 224.758125 496.44 \r\nL 224.758125 550.8 \r\nL 157.798125 550.8 \r\nL 157.798125 496.44 \r\n\" style=\"fill:#06071c;\"/>\r\n    <path clip-path=\"url(#p0ee056f200)\" d=\"M 224.758125 496.44 \r\nL 291.718125 496.44 \r\nL 291.718125 550.8 \r\nL 224.758125 550.8 \r\nL 224.758125 496.44 \r\n\" style=\"fill:#401b44;\"/>\r\n    <path clip-path=\"url(#p0ee056f200)\" d=\"M 291.718125 496.44 \r\nL 358.678125 496.44 \r\nL 358.678125 550.8 \r\nL 291.718125 550.8 \r\nL 291.718125 496.44 \r\n\" style=\"fill:#04051a;\"/>\r\n    <path clip-path=\"url(#p0ee056f200)\" d=\"M 358.678125 496.44 \r\nL 425.638125 496.44 \r\nL 425.638125 550.8 \r\nL 358.678125 550.8 \r\nL 358.678125 496.44 \r\n\" style=\"fill:#1d112c;\"/>\r\n    <path clip-path=\"url(#p0ee056f200)\" d=\"M 425.638125 496.44 \r\nL 492.598125 496.44 \r\nL 492.598125 550.8 \r\nL 425.638125 550.8 \r\nL 425.638125 496.44 \r\n\" style=\"fill:#581e4f;\"/>\r\n    <path clip-path=\"url(#p0ee056f200)\" d=\"M 492.598125 496.44 \r\nL 559.558125 496.44 \r\nL 559.558125 550.8 \r\nL 492.598125 550.8 \r\nL 492.598125 496.44 \r\n\" style=\"fill:#170f28;\"/>\r\n    <path clip-path=\"url(#p0ee056f200)\" d=\"M 559.558125 496.44 \r\nL 626.518125 496.44 \r\nL 626.518125 550.8 \r\nL 559.558125 550.8 \r\nL 559.558125 496.44 \r\n\" style=\"fill:#ca1a50;\"/>\r\n    <path clip-path=\"url(#p0ee056f200)\" d=\"M 626.518125 496.44 \r\nL 693.478125 496.44 \r\nL 693.478125 550.8 \r\nL 626.518125 550.8 \r\nL 626.518125 496.44 \r\n\" style=\"fill:#03051a;\"/>\r\n    <path clip-path=\"url(#p0ee056f200)\" d=\"M 693.478125 496.44 \r\nL 760.438125 496.44 \r\nL 760.438125 550.8 \r\nL 693.478125 550.8 \r\nL 693.478125 496.44 \r\n\" style=\"fill:#401b44;\"/>\r\n    <path clip-path=\"url(#p0ee056f200)\" d=\"M 760.438125 496.44 \r\nL 827.398125 496.44 \r\nL 827.398125 550.8 \r\nL 760.438125 550.8 \r\nL 760.438125 496.44 \r\n\" style=\"fill:#130d25;\"/>\r\n    <path clip-path=\"url(#p0ee056f200)\" d=\"M 23.878125 550.8 \r\nL 90.838125 550.8 \r\nL 90.838125 605.16 \r\nL 23.878125 605.16 \r\nL 23.878125 550.8 \r\n\" style=\"fill:#04051a;\"/>\r\n    <path clip-path=\"url(#p0ee056f200)\" d=\"M 90.838125 550.8 \r\nL 157.798125 550.8 \r\nL 157.798125 605.16 \r\nL 90.838125 605.16 \r\nL 90.838125 550.8 \r\n\" style=\"fill:#03051a;\"/>\r\n    <path clip-path=\"url(#p0ee056f200)\" d=\"M 157.798125 550.8 \r\nL 224.758125 550.8 \r\nL 224.758125 605.16 \r\nL 157.798125 605.16 \r\nL 157.798125 550.8 \r\n\" style=\"fill:#0b0920;\"/>\r\n    <path clip-path=\"url(#p0ee056f200)\" d=\"M 224.758125 550.8 \r\nL 291.718125 550.8 \r\nL 291.718125 605.16 \r\nL 224.758125 605.16 \r\nL 224.758125 550.8 \r\n\" style=\"fill:#04051a;\"/>\r\n    <path clip-path=\"url(#p0ee056f200)\" d=\"M 291.718125 550.8 \r\nL 358.678125 550.8 \r\nL 358.678125 605.16 \r\nL 291.718125 605.16 \r\nL 291.718125 550.8 \r\n\" style=\"fill:#06071c;\"/>\r\n    <path clip-path=\"url(#p0ee056f200)\" d=\"M 358.678125 550.8 \r\nL 425.638125 550.8 \r\nL 425.638125 605.16 \r\nL 358.678125 605.16 \r\nL 358.678125 550.8 \r\n\" style=\"fill:#2a1636;\"/>\r\n    <path clip-path=\"url(#p0ee056f200)\" d=\"M 425.638125 550.8 \r\nL 492.598125 550.8 \r\nL 492.598125 605.16 \r\nL 425.638125 605.16 \r\nL 425.638125 550.8 \r\n\" style=\"fill:#07071d;\"/>\r\n    <path clip-path=\"url(#p0ee056f200)\" d=\"M 492.598125 550.8 \r\nL 559.558125 550.8 \r\nL 559.558125 605.16 \r\nL 492.598125 605.16 \r\nL 492.598125 550.8 \r\n\" style=\"fill:#0b0920;\"/>\r\n    <path clip-path=\"url(#p0ee056f200)\" d=\"M 559.558125 550.8 \r\nL 626.518125 550.8 \r\nL 626.518125 605.16 \r\nL 559.558125 605.16 \r\nL 559.558125 550.8 \r\n\" style=\"fill:#faebdd;\"/>\r\n    <path clip-path=\"url(#p0ee056f200)\" d=\"M 626.518125 550.8 \r\nL 693.478125 550.8 \r\nL 693.478125 605.16 \r\nL 626.518125 605.16 \r\nL 626.518125 550.8 \r\n\" style=\"fill:#0a091f;\"/>\r\n    <path clip-path=\"url(#p0ee056f200)\" d=\"M 693.478125 550.8 \r\nL 760.438125 550.8 \r\nL 760.438125 605.16 \r\nL 693.478125 605.16 \r\nL 693.478125 550.8 \r\n\" style=\"fill:#221331;\"/>\r\n    <path clip-path=\"url(#p0ee056f200)\" d=\"M 760.438125 550.8 \r\nL 827.398125 550.8 \r\nL 827.398125 605.16 \r\nL 760.438125 605.16 \r\nL 760.438125 550.8 \r\n\" style=\"fill:#241432;\"/>\r\n    <path clip-path=\"url(#p0ee056f200)\" d=\"M 23.878125 605.16 \r\nL 90.838125 605.16 \r\nL 90.838125 659.52 \r\nL 23.878125 659.52 \r\nL 23.878125 605.16 \r\n\" style=\"fill:#1b112b;\"/>\r\n    <path clip-path=\"url(#p0ee056f200)\" d=\"M 90.838125 605.16 \r\nL 157.798125 605.16 \r\nL 157.798125 659.52 \r\nL 90.838125 659.52 \r\nL 90.838125 605.16 \r\n\" style=\"fill:#241432;\"/>\r\n    <path clip-path=\"url(#p0ee056f200)\" d=\"M 157.798125 605.16 \r\nL 224.758125 605.16 \r\nL 224.758125 659.52 \r\nL 157.798125 659.52 \r\nL 157.798125 605.16 \r\n\" style=\"fill:#0e0b22;\"/>\r\n    <path clip-path=\"url(#p0ee056f200)\" d=\"M 224.758125 605.16 \r\nL 291.718125 605.16 \r\nL 291.718125 659.52 \r\nL 224.758125 659.52 \r\nL 224.758125 605.16 \r\n\" style=\"fill:#601f52;\"/>\r\n    <path clip-path=\"url(#p0ee056f200)\" d=\"M 291.718125 605.16 \r\nL 358.678125 605.16 \r\nL 358.678125 659.52 \r\nL 291.718125 659.52 \r\nL 291.718125 605.16 \r\n\" style=\"fill:#03051a;\"/>\r\n    <path clip-path=\"url(#p0ee056f200)\" d=\"M 358.678125 605.16 \r\nL 425.638125 605.16 \r\nL 425.638125 659.52 \r\nL 358.678125 659.52 \r\nL 358.678125 605.16 \r\n\" style=\"fill:#31183b;\"/>\r\n    <path clip-path=\"url(#p0ee056f200)\" d=\"M 425.638125 605.16 \r\nL 492.598125 605.16 \r\nL 492.598125 659.52 \r\nL 425.638125 659.52 \r\nL 425.638125 605.16 \r\n\" style=\"fill:#30173a;\"/>\r\n    <path clip-path=\"url(#p0ee056f200)\" d=\"M 492.598125 605.16 \r\nL 559.558125 605.16 \r\nL 559.558125 659.52 \r\nL 492.598125 659.52 \r\nL 492.598125 605.16 \r\n\" style=\"fill:#2b1637;\"/>\r\n    <path clip-path=\"url(#p0ee056f200)\" d=\"M 559.558125 605.16 \r\nL 626.518125 605.16 \r\nL 626.518125 659.52 \r\nL 559.558125 659.52 \r\nL 559.558125 605.16 \r\n\" style=\"fill:#7d1f5a;\"/>\r\n    <path clip-path=\"url(#p0ee056f200)\" d=\"M 626.518125 605.16 \r\nL 693.478125 605.16 \r\nL 693.478125 659.52 \r\nL 626.518125 659.52 \r\nL 626.518125 605.16 \r\n\" style=\"fill:#20122e;\"/>\r\n    <path clip-path=\"url(#p0ee056f200)\" d=\"M 693.478125 605.16 \r\nL 760.438125 605.16 \r\nL 760.438125 659.52 \r\nL 693.478125 659.52 \r\nL 693.478125 605.16 \r\n\" style=\"fill:#180f29;\"/>\r\n    <path clip-path=\"url(#p0ee056f200)\" d=\"M 760.438125 605.16 \r\nL 827.398125 605.16 \r\nL 827.398125 659.52 \r\nL 760.438125 659.52 \r\nL 760.438125 605.16 \r\n\" style=\"fill:#33183c;\"/>\r\n   </g>\r\n   <g id=\"matplotlib.axis_1\">\r\n    <g id=\"xtick_1\">\r\n     <g id=\"line2d_1\">\r\n      <defs>\r\n       <path d=\"M 0 0 \r\nL 0 3.5 \r\n\" id=\"m2e83784c35\" style=\"stroke:#000000;stroke-width:0.8;\"/>\r\n      </defs>\r\n      <g>\r\n       <use style=\"stroke:#000000;stroke-width:0.8;\" x=\"57.358125\" xlink:href=\"#m2e83784c35\" y=\"659.52\"/>\r\n      </g>\r\n     </g>\r\n     <g id=\"text_1\">\r\n      <!-- ADV -->\r\n      <g transform=\"translate(46.755 674.118438)scale(0.1 -0.1)\">\r\n       <defs>\r\n        <path d=\"M 34.1875 63.1875 \r\nL 20.796875 26.90625 \r\nL 47.609375 26.90625 \r\nz\r\nM 28.609375 72.90625 \r\nL 39.796875 72.90625 \r\nL 67.578125 0 \r\nL 57.328125 0 \r\nL 50.6875 18.703125 \r\nL 17.828125 18.703125 \r\nL 11.1875 0 \r\nL 0.78125 0 \r\nz\r\n\" id=\"DejaVuSans-65\"/>\r\n        <path d=\"M 19.671875 64.796875 \r\nL 19.671875 8.109375 \r\nL 31.59375 8.109375 \r\nQ 46.6875 8.109375 53.6875 14.9375 \r\nQ 60.6875 21.78125 60.6875 36.53125 \r\nQ 60.6875 51.171875 53.6875 57.984375 \r\nQ 46.6875 64.796875 31.59375 64.796875 \r\nz\r\nM 9.8125 72.90625 \r\nL 30.078125 72.90625 \r\nQ 51.265625 72.90625 61.171875 64.09375 \r\nQ 71.09375 55.28125 71.09375 36.53125 \r\nQ 71.09375 17.671875 61.125 8.828125 \r\nQ 51.171875 0 30.078125 0 \r\nL 9.8125 0 \r\nz\r\n\" id=\"DejaVuSans-68\"/>\r\n        <path d=\"M 28.609375 0 \r\nL 0.78125 72.90625 \r\nL 11.078125 72.90625 \r\nL 34.1875 11.53125 \r\nL 57.328125 72.90625 \r\nL 67.578125 72.90625 \r\nL 39.796875 0 \r\nz\r\n\" id=\"DejaVuSans-86\"/>\r\n       </defs>\r\n       <use xlink:href=\"#DejaVuSans-65\"/>\r\n       <use x=\"68.408203\" xlink:href=\"#DejaVuSans-68\"/>\r\n       <use x=\"143.660156\" xlink:href=\"#DejaVuSans-86\"/>\r\n      </g>\r\n     </g>\r\n    </g>\r\n    <g id=\"xtick_2\">\r\n     <g id=\"line2d_2\">\r\n      <g>\r\n       <use style=\"stroke:#000000;stroke-width:0.8;\" x=\"124.318125\" xlink:href=\"#m2e83784c35\" y=\"659.52\"/>\r\n      </g>\r\n     </g>\r\n     <g id=\"text_2\">\r\n      <!-- PRON -->\r\n      <g transform=\"translate(110.1525 674.118438)scale(0.1 -0.1)\">\r\n       <defs>\r\n        <path d=\"M 19.671875 64.796875 \r\nL 19.671875 37.40625 \r\nL 32.078125 37.40625 \r\nQ 38.96875 37.40625 42.71875 40.96875 \r\nQ 46.484375 44.53125 46.484375 51.125 \r\nQ 46.484375 57.671875 42.71875 61.234375 \r\nQ 38.96875 64.796875 32.078125 64.796875 \r\nz\r\nM 9.8125 72.90625 \r\nL 32.078125 72.90625 \r\nQ 44.34375 72.90625 50.609375 67.359375 \r\nQ 56.890625 61.8125 56.890625 51.125 \r\nQ 56.890625 40.328125 50.609375 34.8125 \r\nQ 44.34375 29.296875 32.078125 29.296875 \r\nL 19.671875 29.296875 \r\nL 19.671875 0 \r\nL 9.8125 0 \r\nz\r\n\" id=\"DejaVuSans-80\"/>\r\n        <path d=\"M 44.390625 34.1875 \r\nQ 47.5625 33.109375 50.5625 29.59375 \r\nQ 53.5625 26.078125 56.59375 19.921875 \r\nL 66.609375 0 \r\nL 56 0 \r\nL 46.6875 18.703125 \r\nQ 43.0625 26.03125 39.671875 28.421875 \r\nQ 36.28125 30.8125 30.421875 30.8125 \r\nL 19.671875 30.8125 \r\nL 19.671875 0 \r\nL 9.8125 0 \r\nL 9.8125 72.90625 \r\nL 32.078125 72.90625 \r\nQ 44.578125 72.90625 50.734375 67.671875 \r\nQ 56.890625 62.453125 56.890625 51.90625 \r\nQ 56.890625 45.015625 53.6875 40.46875 \r\nQ 50.484375 35.9375 44.390625 34.1875 \r\nz\r\nM 19.671875 64.796875 \r\nL 19.671875 38.921875 \r\nL 32.078125 38.921875 \r\nQ 39.203125 38.921875 42.84375 42.21875 \r\nQ 46.484375 45.515625 46.484375 51.90625 \r\nQ 46.484375 58.296875 42.84375 61.546875 \r\nQ 39.203125 64.796875 32.078125 64.796875 \r\nz\r\n\" id=\"DejaVuSans-82\"/>\r\n        <path d=\"M 39.40625 66.21875 \r\nQ 28.65625 66.21875 22.328125 58.203125 \r\nQ 16.015625 50.203125 16.015625 36.375 \r\nQ 16.015625 22.609375 22.328125 14.59375 \r\nQ 28.65625 6.59375 39.40625 6.59375 \r\nQ 50.140625 6.59375 56.421875 14.59375 \r\nQ 62.703125 22.609375 62.703125 36.375 \r\nQ 62.703125 50.203125 56.421875 58.203125 \r\nQ 50.140625 66.21875 39.40625 66.21875 \r\nz\r\nM 39.40625 74.21875 \r\nQ 54.734375 74.21875 63.90625 63.9375 \r\nQ 73.09375 53.65625 73.09375 36.375 \r\nQ 73.09375 19.140625 63.90625 8.859375 \r\nQ 54.734375 -1.421875 39.40625 -1.421875 \r\nQ 24.03125 -1.421875 14.8125 8.828125 \r\nQ 5.609375 19.09375 5.609375 36.375 \r\nQ 5.609375 53.65625 14.8125 63.9375 \r\nQ 24.03125 74.21875 39.40625 74.21875 \r\nz\r\n\" id=\"DejaVuSans-79\"/>\r\n        <path d=\"M 9.8125 72.90625 \r\nL 23.09375 72.90625 \r\nL 55.421875 11.921875 \r\nL 55.421875 72.90625 \r\nL 64.984375 72.90625 \r\nL 64.984375 0 \r\nL 51.703125 0 \r\nL 19.390625 60.984375 \r\nL 19.390625 0 \r\nL 9.8125 0 \r\nz\r\n\" id=\"DejaVuSans-78\"/>\r\n       </defs>\r\n       <use xlink:href=\"#DejaVuSans-80\"/>\r\n       <use x=\"60.302734\" xlink:href=\"#DejaVuSans-82\"/>\r\n       <use x=\"129.785156\" xlink:href=\"#DejaVuSans-79\"/>\r\n       <use x=\"208.496094\" xlink:href=\"#DejaVuSans-78\"/>\r\n      </g>\r\n     </g>\r\n    </g>\r\n    <g id=\"xtick_3\">\r\n     <g id=\"line2d_3\">\r\n      <g>\r\n       <use style=\"stroke:#000000;stroke-width:0.8;\" x=\"191.278125\" xlink:href=\"#m2e83784c35\" y=\"659.52\"/>\r\n      </g>\r\n     </g>\r\n     <g id=\"text_3\">\r\n      <!-- X -->\r\n      <g transform=\"translate(187.853125 674.118438)scale(0.1 -0.1)\">\r\n       <defs>\r\n        <path d=\"M 6.296875 72.90625 \r\nL 16.890625 72.90625 \r\nL 35.015625 45.796875 \r\nL 53.21875 72.90625 \r\nL 63.8125 72.90625 \r\nL 40.375 37.890625 \r\nL 65.375 0 \r\nL 54.78125 0 \r\nL 34.28125 31 \r\nL 13.625 0 \r\nL 2.984375 0 \r\nL 29 38.921875 \r\nz\r\n\" id=\"DejaVuSans-88\"/>\r\n       </defs>\r\n       <use xlink:href=\"#DejaVuSans-88\"/>\r\n      </g>\r\n     </g>\r\n    </g>\r\n    <g id=\"xtick_4\">\r\n     <g id=\"line2d_4\">\r\n      <g>\r\n       <use style=\"stroke:#000000;stroke-width:0.8;\" x=\"258.238125\" xlink:href=\"#m2e83784c35\" y=\"659.52\"/>\r\n      </g>\r\n     </g>\r\n     <g id=\"text_4\">\r\n      <!-- DET -->\r\n      <g transform=\"translate(248.174844 674.118438)scale(0.1 -0.1)\">\r\n       <defs>\r\n        <path d=\"M 9.8125 72.90625 \r\nL 55.90625 72.90625 \r\nL 55.90625 64.59375 \r\nL 19.671875 64.59375 \r\nL 19.671875 43.015625 \r\nL 54.390625 43.015625 \r\nL 54.390625 34.71875 \r\nL 19.671875 34.71875 \r\nL 19.671875 8.296875 \r\nL 56.78125 8.296875 \r\nL 56.78125 0 \r\nL 9.8125 0 \r\nz\r\n\" id=\"DejaVuSans-69\"/>\r\n        <path d=\"M -0.296875 72.90625 \r\nL 61.375 72.90625 \r\nL 61.375 64.59375 \r\nL 35.5 64.59375 \r\nL 35.5 0 \r\nL 25.59375 0 \r\nL 25.59375 64.59375 \r\nL -0.296875 64.59375 \r\nz\r\n\" id=\"DejaVuSans-84\"/>\r\n       </defs>\r\n       <use xlink:href=\"#DejaVuSans-68\"/>\r\n       <use x=\"77.001953\" xlink:href=\"#DejaVuSans-69\"/>\r\n       <use x=\"140.185547\" xlink:href=\"#DejaVuSans-84\"/>\r\n      </g>\r\n     </g>\r\n    </g>\r\n    <g id=\"xtick_5\">\r\n     <g id=\"line2d_5\">\r\n      <g>\r\n       <use style=\"stroke:#000000;stroke-width:0.8;\" x=\"325.198125\" xlink:href=\"#m2e83784c35\" y=\"659.52\"/>\r\n      </g>\r\n     </g>\r\n     <g id=\"text_5\">\r\n      <!-- PRT -->\r\n      <g transform=\"translate(316.017656 674.118438)scale(0.1 -0.1)\">\r\n       <use xlink:href=\"#DejaVuSans-80\"/>\r\n       <use x=\"60.302734\" xlink:href=\"#DejaVuSans-82\"/>\r\n       <use x=\"122.535156\" xlink:href=\"#DejaVuSans-84\"/>\r\n      </g>\r\n     </g>\r\n    </g>\r\n    <g id=\"xtick_6\">\r\n     <g id=\"line2d_6\">\r\n      <g>\r\n       <use style=\"stroke:#000000;stroke-width:0.8;\" x=\"392.158125\" xlink:href=\"#m2e83784c35\" y=\"659.52\"/>\r\n      </g>\r\n     </g>\r\n     <g id=\"text_6\">\r\n      <!-- ADP -->\r\n      <g transform=\"translate(381.872969 674.118438)scale(0.1 -0.1)\">\r\n       <use xlink:href=\"#DejaVuSans-65\"/>\r\n       <use x=\"68.408203\" xlink:href=\"#DejaVuSans-68\"/>\r\n       <use x=\"145.410156\" xlink:href=\"#DejaVuSans-80\"/>\r\n      </g>\r\n     </g>\r\n    </g>\r\n    <g id=\"xtick_7\">\r\n     <g id=\"line2d_7\">\r\n      <g>\r\n       <use style=\"stroke:#000000;stroke-width:0.8;\" x=\"459.118125\" xlink:href=\"#m2e83784c35\" y=\"659.52\"/>\r\n      </g>\r\n     </g>\r\n     <g id=\"text_7\">\r\n      <!-- VERB -->\r\n      <g transform=\"translate(445.63375 674.118438)scale(0.1 -0.1)\">\r\n       <defs>\r\n        <path d=\"M 19.671875 34.8125 \r\nL 19.671875 8.109375 \r\nL 35.5 8.109375 \r\nQ 43.453125 8.109375 47.28125 11.40625 \r\nQ 51.125 14.703125 51.125 21.484375 \r\nQ 51.125 28.328125 47.28125 31.5625 \r\nQ 43.453125 34.8125 35.5 34.8125 \r\nz\r\nM 19.671875 64.796875 \r\nL 19.671875 42.828125 \r\nL 34.28125 42.828125 \r\nQ 41.5 42.828125 45.03125 45.53125 \r\nQ 48.578125 48.25 48.578125 53.8125 \r\nQ 48.578125 59.328125 45.03125 62.0625 \r\nQ 41.5 64.796875 34.28125 64.796875 \r\nz\r\nM 9.8125 72.90625 \r\nL 35.015625 72.90625 \r\nQ 46.296875 72.90625 52.390625 68.21875 \r\nQ 58.5 63.53125 58.5 54.890625 \r\nQ 58.5 48.1875 55.375 44.234375 \r\nQ 52.25 40.28125 46.1875 39.3125 \r\nQ 53.46875 37.75 57.5 32.78125 \r\nQ 61.53125 27.828125 61.53125 20.40625 \r\nQ 61.53125 10.640625 54.890625 5.3125 \r\nQ 48.25 0 35.984375 0 \r\nL 9.8125 0 \r\nz\r\n\" id=\"DejaVuSans-66\"/>\r\n       </defs>\r\n       <use xlink:href=\"#DejaVuSans-86\"/>\r\n       <use x=\"68.408203\" xlink:href=\"#DejaVuSans-69\"/>\r\n       <use x=\"131.591797\" xlink:href=\"#DejaVuSans-82\"/>\r\n       <use x=\"201.074219\" xlink:href=\"#DejaVuSans-66\"/>\r\n      </g>\r\n     </g>\r\n    </g>\r\n    <g id=\"xtick_8\">\r\n     <g id=\"line2d_8\">\r\n      <g>\r\n       <use style=\"stroke:#000000;stroke-width:0.8;\" x=\"526.078125\" xlink:href=\"#m2e83784c35\" y=\"659.52\"/>\r\n      </g>\r\n     </g>\r\n     <g id=\"text_8\">\r\n      <!-- NUM -->\r\n      <g transform=\"translate(514.364063 674.118438)scale(0.1 -0.1)\">\r\n       <defs>\r\n        <path d=\"M 8.6875 72.90625 \r\nL 18.609375 72.90625 \r\nL 18.609375 28.609375 \r\nQ 18.609375 16.890625 22.84375 11.734375 \r\nQ 27.09375 6.59375 36.625 6.59375 \r\nQ 46.09375 6.59375 50.34375 11.734375 \r\nQ 54.59375 16.890625 54.59375 28.609375 \r\nL 54.59375 72.90625 \r\nL 64.5 72.90625 \r\nL 64.5 27.390625 \r\nQ 64.5 13.140625 57.4375 5.859375 \r\nQ 50.390625 -1.421875 36.625 -1.421875 \r\nQ 22.796875 -1.421875 15.734375 5.859375 \r\nQ 8.6875 13.140625 8.6875 27.390625 \r\nz\r\n\" id=\"DejaVuSans-85\"/>\r\n        <path d=\"M 9.8125 72.90625 \r\nL 24.515625 72.90625 \r\nL 43.109375 23.296875 \r\nL 61.8125 72.90625 \r\nL 76.515625 72.90625 \r\nL 76.515625 0 \r\nL 66.890625 0 \r\nL 66.890625 64.015625 \r\nL 48.09375 14.015625 \r\nL 38.1875 14.015625 \r\nL 19.390625 64.015625 \r\nL 19.390625 0 \r\nL 9.8125 0 \r\nz\r\n\" id=\"DejaVuSans-77\"/>\r\n       </defs>\r\n       <use xlink:href=\"#DejaVuSans-78\"/>\r\n       <use x=\"74.804688\" xlink:href=\"#DejaVuSans-85\"/>\r\n       <use x=\"147.998047\" xlink:href=\"#DejaVuSans-77\"/>\r\n      </g>\r\n     </g>\r\n    </g>\r\n    <g id=\"xtick_9\">\r\n     <g id=\"line2d_9\">\r\n      <g>\r\n       <use style=\"stroke:#000000;stroke-width:0.8;\" x=\"593.038125\" xlink:href=\"#m2e83784c35\" y=\"659.52\"/>\r\n      </g>\r\n     </g>\r\n     <g id=\"text_9\">\r\n      <!-- NOUN -->\r\n      <g transform=\"translate(577.961563 674.118438)scale(0.1 -0.1)\">\r\n       <use xlink:href=\"#DejaVuSans-78\"/>\r\n       <use x=\"74.804688\" xlink:href=\"#DejaVuSans-79\"/>\r\n       <use x=\"153.515625\" xlink:href=\"#DejaVuSans-85\"/>\r\n       <use x=\"226.708984\" xlink:href=\"#DejaVuSans-78\"/>\r\n      </g>\r\n     </g>\r\n    </g>\r\n    <g id=\"xtick_10\">\r\n     <g id=\"line2d_10\">\r\n      <g>\r\n       <use style=\"stroke:#000000;stroke-width:0.8;\" x=\"659.998125\" xlink:href=\"#m2e83784c35\" y=\"659.52\"/>\r\n      </g>\r\n     </g>\r\n     <g id=\"text_10\">\r\n      <!-- CONJ -->\r\n      <g transform=\"translate(647.355156 674.118438)scale(0.1 -0.1)\">\r\n       <defs>\r\n        <path d=\"M 64.40625 67.28125 \r\nL 64.40625 56.890625 \r\nQ 59.421875 61.53125 53.78125 63.8125 \r\nQ 48.140625 66.109375 41.796875 66.109375 \r\nQ 29.296875 66.109375 22.65625 58.46875 \r\nQ 16.015625 50.828125 16.015625 36.375 \r\nQ 16.015625 21.96875 22.65625 14.328125 \r\nQ 29.296875 6.6875 41.796875 6.6875 \r\nQ 48.140625 6.6875 53.78125 8.984375 \r\nQ 59.421875 11.28125 64.40625 15.921875 \r\nL 64.40625 5.609375 \r\nQ 59.234375 2.09375 53.4375 0.328125 \r\nQ 47.65625 -1.421875 41.21875 -1.421875 \r\nQ 24.65625 -1.421875 15.125 8.703125 \r\nQ 5.609375 18.84375 5.609375 36.375 \r\nQ 5.609375 53.953125 15.125 64.078125 \r\nQ 24.65625 74.21875 41.21875 74.21875 \r\nQ 47.75 74.21875 53.53125 72.484375 \r\nQ 59.328125 70.75 64.40625 67.28125 \r\nz\r\n\" id=\"DejaVuSans-67\"/>\r\n        <path d=\"M 9.8125 72.90625 \r\nL 19.671875 72.90625 \r\nL 19.671875 5.078125 \r\nQ 19.671875 -8.109375 14.671875 -14.0625 \r\nQ 9.671875 -20.015625 -1.421875 -20.015625 \r\nL -5.171875 -20.015625 \r\nL -5.171875 -11.71875 \r\nL -2.09375 -11.71875 \r\nQ 4.4375 -11.71875 7.125 -8.046875 \r\nQ 9.8125 -4.390625 9.8125 5.078125 \r\nz\r\n\" id=\"DejaVuSans-74\"/>\r\n       </defs>\r\n       <use xlink:href=\"#DejaVuSans-67\"/>\r\n       <use x=\"69.824219\" xlink:href=\"#DejaVuSans-79\"/>\r\n       <use x=\"148.535156\" xlink:href=\"#DejaVuSans-78\"/>\r\n       <use x=\"223.339844\" xlink:href=\"#DejaVuSans-74\"/>\r\n      </g>\r\n     </g>\r\n    </g>\r\n    <g id=\"xtick_11\">\r\n     <g id=\"line2d_11\">\r\n      <g>\r\n       <use style=\"stroke:#000000;stroke-width:0.8;\" x=\"726.958125\" xlink:href=\"#m2e83784c35\" y=\"659.52\"/>\r\n      </g>\r\n     </g>\r\n     <g id=\"text_11\">\r\n      <!-- ADJ -->\r\n      <g transform=\"translate(718.212813 674.118438)scale(0.1 -0.1)\">\r\n       <use xlink:href=\"#DejaVuSans-65\"/>\r\n       <use x=\"68.408203\" xlink:href=\"#DejaVuSans-68\"/>\r\n       <use x=\"145.410156\" xlink:href=\"#DejaVuSans-74\"/>\r\n      </g>\r\n     </g>\r\n    </g>\r\n    <g id=\"xtick_12\">\r\n     <g id=\"line2d_12\">\r\n      <g>\r\n       <use style=\"stroke:#000000;stroke-width:0.8;\" x=\"793.918125\" xlink:href=\"#m2e83784c35\" y=\"659.52\"/>\r\n      </g>\r\n     </g>\r\n     <g id=\"text_12\">\r\n      <!-- . -->\r\n      <g transform=\"translate(792.329063 674.118438)scale(0.1 -0.1)\">\r\n       <defs>\r\n        <path d=\"M 10.6875 12.40625 \r\nL 21 12.40625 \r\nL 21 0 \r\nL 10.6875 0 \r\nz\r\n\" id=\"DejaVuSans-46\"/>\r\n       </defs>\r\n       <use xlink:href=\"#DejaVuSans-46\"/>\r\n      </g>\r\n     </g>\r\n    </g>\r\n   </g>\r\n   <g id=\"matplotlib.axis_2\">\r\n    <g id=\"ytick_1\">\r\n     <g id=\"line2d_13\">\r\n      <defs>\r\n       <path d=\"M 0 0 \r\nL -3.5 0 \r\n\" id=\"m7d56efd783\" style=\"stroke:#000000;stroke-width:0.8;\"/>\r\n      </defs>\r\n      <g>\r\n       <use style=\"stroke:#000000;stroke-width:0.8;\" x=\"23.878125\" xlink:href=\"#m7d56efd783\" y=\"34.38\"/>\r\n      </g>\r\n     </g>\r\n     <g id=\"text_13\">\r\n      <!-- ADV -->\r\n      <g transform=\"translate(14.798437 51.787031)rotate(-90)scale(0.1 -0.1)\">\r\n       <use xlink:href=\"#DejaVuSans-65\"/>\r\n       <use x=\"68.408203\" xlink:href=\"#DejaVuSans-68\"/>\r\n       <use x=\"143.660156\" xlink:href=\"#DejaVuSans-86\"/>\r\n      </g>\r\n     </g>\r\n    </g>\r\n    <g id=\"ytick_2\">\r\n     <g id=\"line2d_14\">\r\n      <g>\r\n       <use style=\"stroke:#000000;stroke-width:0.8;\" x=\"23.878125\" xlink:href=\"#m7d56efd783\" y=\"88.74\"/>\r\n      </g>\r\n     </g>\r\n     <g id=\"text_14\">\r\n      <!-- PRON -->\r\n      <g transform=\"translate(14.798437 113.272031)rotate(-90)scale(0.1 -0.1)\">\r\n       <use xlink:href=\"#DejaVuSans-80\"/>\r\n       <use x=\"60.302734\" xlink:href=\"#DejaVuSans-82\"/>\r\n       <use x=\"129.785156\" xlink:href=\"#DejaVuSans-79\"/>\r\n       <use x=\"208.496094\" xlink:href=\"#DejaVuSans-78\"/>\r\n      </g>\r\n     </g>\r\n    </g>\r\n    <g id=\"ytick_3\">\r\n     <g id=\"line2d_15\">\r\n      <g>\r\n       <use style=\"stroke:#000000;stroke-width:0.8;\" x=\"23.878125\" xlink:href=\"#m7d56efd783\" y=\"143.1\"/>\r\n      </g>\r\n     </g>\r\n     <g id=\"text_15\">\r\n      <!-- X -->\r\n      <g transform=\"translate(14.798437 146.150781)rotate(-90)scale(0.1 -0.1)\">\r\n       <use xlink:href=\"#DejaVuSans-88\"/>\r\n      </g>\r\n     </g>\r\n    </g>\r\n    <g id=\"ytick_4\">\r\n     <g id=\"line2d_16\">\r\n      <g>\r\n       <use style=\"stroke:#000000;stroke-width:0.8;\" x=\"23.878125\" xlink:href=\"#m7d56efd783\" y=\"197.46\"/>\r\n      </g>\r\n     </g>\r\n     <g id=\"text_16\">\r\n      <!-- DET -->\r\n      <g transform=\"translate(14.798437 213.787344)rotate(-90)scale(0.1 -0.1)\">\r\n       <use xlink:href=\"#DejaVuSans-68\"/>\r\n       <use x=\"77.001953\" xlink:href=\"#DejaVuSans-69\"/>\r\n       <use x=\"140.185547\" xlink:href=\"#DejaVuSans-84\"/>\r\n      </g>\r\n     </g>\r\n    </g>\r\n    <g id=\"ytick_5\">\r\n     <g id=\"line2d_17\">\r\n      <g>\r\n       <use style=\"stroke:#000000;stroke-width:0.8;\" x=\"23.878125\" xlink:href=\"#m7d56efd783\" y=\"251.82\"/>\r\n      </g>\r\n     </g>\r\n     <g id=\"text_17\">\r\n      <!-- PRT -->\r\n      <g transform=\"translate(14.798437 266.381719)rotate(-90)scale(0.1 -0.1)\">\r\n       <use xlink:href=\"#DejaVuSans-80\"/>\r\n       <use x=\"60.302734\" xlink:href=\"#DejaVuSans-82\"/>\r\n       <use x=\"122.535156\" xlink:href=\"#DejaVuSans-84\"/>\r\n      </g>\r\n     </g>\r\n    </g>\r\n    <g id=\"ytick_6\">\r\n     <g id=\"line2d_18\">\r\n      <g>\r\n       <use style=\"stroke:#000000;stroke-width:0.8;\" x=\"23.878125\" xlink:href=\"#m7d56efd783\" y=\"306.18\"/>\r\n      </g>\r\n     </g>\r\n     <g id=\"text_18\">\r\n      <!-- ADP -->\r\n      <g transform=\"translate(14.798437 322.951094)rotate(-90)scale(0.1 -0.1)\">\r\n       <use xlink:href=\"#DejaVuSans-65\"/>\r\n       <use x=\"68.408203\" xlink:href=\"#DejaVuSans-68\"/>\r\n       <use x=\"145.410156\" xlink:href=\"#DejaVuSans-80\"/>\r\n      </g>\r\n     </g>\r\n    </g>\r\n    <g id=\"ytick_7\">\r\n     <g id=\"line2d_19\">\r\n      <g>\r\n       <use style=\"stroke:#000000;stroke-width:0.8;\" x=\"23.878125\" xlink:href=\"#m7d56efd783\" y=\"360.54\"/>\r\n      </g>\r\n     </g>\r\n     <g id=\"text_19\">\r\n      <!-- VERB -->\r\n      <g transform=\"translate(14.798437 383.709531)rotate(-90)scale(0.1 -0.1)\">\r\n       <use xlink:href=\"#DejaVuSans-86\"/>\r\n       <use x=\"68.408203\" xlink:href=\"#DejaVuSans-69\"/>\r\n       <use x=\"131.591797\" xlink:href=\"#DejaVuSans-82\"/>\r\n       <use x=\"201.074219\" xlink:href=\"#DejaVuSans-66\"/>\r\n      </g>\r\n     </g>\r\n    </g>\r\n    <g id=\"ytick_8\">\r\n     <g id=\"line2d_20\">\r\n      <g>\r\n       <use style=\"stroke:#000000;stroke-width:0.8;\" x=\"23.878125\" xlink:href=\"#m7d56efd783\" y=\"414.9\"/>\r\n      </g>\r\n     </g>\r\n     <g id=\"text_20\">\r\n      <!-- NUM -->\r\n      <g transform=\"translate(14.798437 434.528906)rotate(-90)scale(0.1 -0.1)\">\r\n       <use xlink:href=\"#DejaVuSans-78\"/>\r\n       <use x=\"74.804688\" xlink:href=\"#DejaVuSans-85\"/>\r\n       <use x=\"147.998047\" xlink:href=\"#DejaVuSans-77\"/>\r\n      </g>\r\n     </g>\r\n    </g>\r\n    <g id=\"ytick_9\">\r\n     <g id=\"line2d_21\">\r\n      <g>\r\n       <use style=\"stroke:#000000;stroke-width:0.8;\" x=\"23.878125\" xlink:href=\"#m7d56efd783\" y=\"469.26\"/>\r\n      </g>\r\n     </g>\r\n     <g id=\"text_21\">\r\n      <!-- NOUN -->\r\n      <g transform=\"translate(14.798437 495.613906)rotate(-90)scale(0.1 -0.1)\">\r\n       <use xlink:href=\"#DejaVuSans-78\"/>\r\n       <use x=\"74.804688\" xlink:href=\"#DejaVuSans-79\"/>\r\n       <use x=\"153.515625\" xlink:href=\"#DejaVuSans-85\"/>\r\n       <use x=\"226.708984\" xlink:href=\"#DejaVuSans-78\"/>\r\n      </g>\r\n     </g>\r\n    </g>\r\n    <g id=\"ytick_10\">\r\n     <g id=\"line2d_22\">\r\n      <g>\r\n       <use style=\"stroke:#000000;stroke-width:0.8;\" x=\"23.878125\" xlink:href=\"#m7d56efd783\" y=\"523.62\"/>\r\n      </g>\r\n     </g>\r\n     <g id=\"text_22\">\r\n      <!-- CONJ -->\r\n      <g transform=\"translate(14.798437 545.106719)rotate(-90)scale(0.1 -0.1)\">\r\n       <use xlink:href=\"#DejaVuSans-67\"/>\r\n       <use x=\"69.824219\" xlink:href=\"#DejaVuSans-79\"/>\r\n       <use x=\"148.535156\" xlink:href=\"#DejaVuSans-78\"/>\r\n       <use x=\"223.339844\" xlink:href=\"#DejaVuSans-74\"/>\r\n      </g>\r\n     </g>\r\n    </g>\r\n    <g id=\"ytick_11\">\r\n     <g id=\"line2d_23\">\r\n      <g>\r\n       <use style=\"stroke:#000000;stroke-width:0.8;\" x=\"23.878125\" xlink:href=\"#m7d56efd783\" y=\"577.98\"/>\r\n      </g>\r\n     </g>\r\n     <g id=\"text_23\">\r\n      <!-- ADJ -->\r\n      <g transform=\"translate(14.798437 591.671406)rotate(-90)scale(0.1 -0.1)\">\r\n       <use xlink:href=\"#DejaVuSans-65\"/>\r\n       <use x=\"68.408203\" xlink:href=\"#DejaVuSans-68\"/>\r\n       <use x=\"145.410156\" xlink:href=\"#DejaVuSans-74\"/>\r\n      </g>\r\n     </g>\r\n    </g>\r\n    <g id=\"ytick_12\">\r\n     <g id=\"line2d_24\">\r\n      <g>\r\n       <use style=\"stroke:#000000;stroke-width:0.8;\" x=\"23.878125\" xlink:href=\"#m7d56efd783\" y=\"632.34\"/>\r\n      </g>\r\n     </g>\r\n     <g id=\"text_24\">\r\n      <!-- . -->\r\n      <g transform=\"translate(14.798437 631.718906)rotate(-90)scale(0.1 -0.1)\">\r\n       <use xlink:href=\"#DejaVuSans-46\"/>\r\n      </g>\r\n     </g>\r\n    </g>\r\n   </g>\r\n  </g>\r\n  <g id=\"axes_2\">\r\n   <g id=\"patch_3\">\r\n    <path clip-path=\"url(#p3f03e8cfe6)\" d=\"M 877.618125 659.52 \r\nL 877.618125 656.971875 \r\nL 877.618125 9.748125 \r\nL 877.618125 7.2 \r\nL 910.234125 7.2 \r\nL 910.234125 9.748125 \r\nL 910.234125 656.971875 \r\nL 910.234125 659.52 \r\nz\r\n\" style=\"fill:#ffffff;stroke:#ffffff;stroke-linejoin:miter;stroke-width:0.01;\"/>\r\n   </g>\r\n   <image height=\"652\" id=\"imaged73fedef2a\" transform=\"scale(1 -1)translate(0 -652)\" width=\"32\" x=\"878\" xlink:href=\"data:image/png;base64,\r\niVBORw0KGgoAAAANSUhEUgAAACAAAAKMCAYAAACKO7pIAAADKklEQVR4nO3di20kMQwEUVHmJXH552mHUQPoKYEtUMUmZ8ef+fn3//eE55Yffs45OzHAByowbQ3yCuQAriAH2DmPXwEJc4C9r1+BNswBSCgJc4C9r+cACXMASZgD6AJJmAOQ0FqeAxhG2jAHMIxImAOQcGdahrwCOYCNKAewEZEwByAhCXMAEpIwByAhCXMAz4a+oMgBSJgD6ALDKAeQA9owByChCuQAfsvG03EOYCOShDmAjSgH0AWSMAfYmqD+fEnYA0hCSZgDSEJtmAMYRjmAHDCMcgBRrA1zADmgDXMAr2y8sskBDCOzIAcgYQ6gC0iYA1hK7YQ5AAklYQ5gHJMwBzCMzIIcQA7kAHJADuQAckAb5gByYG/634w+UIEcQBJKwhyAhDmAYSQHcgA5YCPKAeSANswBXIEkzAEkoTbMAVxBDrDzehSTMAdwBTaiHMBGpA1zADmgDXOAvae18AMVeL0NcwDDKAcQxXt/H0/CHEAOaMMcwEZkI8oBdkgYA9Sf3wO4ghxADpAwByChnTAH2Bs/GvUVeL4NcwDDaCf+IZK8AjnA3tevwLdkOQAJcwBRTMIcYOM/1vuJCpCwPXJAG+YAckAb5gA78bvbD1RAEsaHhDmAYWQY5QA7McIHKkDC+BhGNqIcgIQqkAPIgRxAF9gJcwBLKQlzAElIwhxgjyQkYXxcgQrkAFsj5BXIAXQBCXMAEpIwB9iJf9err0CNkFcgByAhCXOAPc9L+Hwb5gByIAeQA3IgByChCuQAO/FPsfQVIGEN4Ar23JYhr0AOQEI7YQ5AwhxgT/zO5gMVIGF8XMGOjSg+JDQLcgASejbMAUiYA4hiEuYAllIS5gCSkIQ5gKV0z+tvTnMAEqpADmAY5QA2IjmQA3h7rg1zADmgAjmAJyMS5gCGEQlzAFeQAxhGJMwBXIFxnAOQkIQ5AAlJmAOQMAdwBXIgByAhCXMAEpIwByDhzvykAHkFcgASqkAOYBjlALqAhDnAnvv4PkDCHEASkjAH8GSkDXMAOUDCHICEOYC1nIQ5gCjeIWF8SCgJcwDjmIQ5gCTMAewDJMwBRLFxnAP8AaqnMNcomXVLAAAAAElFTkSuQmCC\" y=\"-7\"/>\r\n   <g id=\"matplotlib.axis_3\"/>\r\n   <g id=\"matplotlib.axis_4\">\r\n    <g id=\"ytick_13\">\r\n     <g id=\"line2d_25\">\r\n      <defs>\r\n       <path d=\"M 0 0 \r\nL 3.5 0 \r\n\" id=\"mc4eea8f1c3\" style=\"stroke:#000000;stroke-width:0.8;\"/>\r\n      </defs>\r\n      <g>\r\n       <use style=\"stroke:#000000;stroke-width:0.8;\" x=\"910.234125\" xlink:href=\"#mc4eea8f1c3\" y=\"566.324794\"/>\r\n      </g>\r\n     </g>\r\n     <g id=\"text_25\">\r\n      <!-- 0.1 -->\r\n      <g transform=\"translate(917.234125 570.124013)scale(0.1 -0.1)\">\r\n       <defs>\r\n        <path d=\"M 31.78125 66.40625 \r\nQ 24.171875 66.40625 20.328125 58.90625 \r\nQ 16.5 51.421875 16.5 36.375 \r\nQ 16.5 21.390625 20.328125 13.890625 \r\nQ 24.171875 6.390625 31.78125 6.390625 \r\nQ 39.453125 6.390625 43.28125 13.890625 \r\nQ 47.125 21.390625 47.125 36.375 \r\nQ 47.125 51.421875 43.28125 58.90625 \r\nQ 39.453125 66.40625 31.78125 66.40625 \r\nz\r\nM 31.78125 74.21875 \r\nQ 44.046875 74.21875 50.515625 64.515625 \r\nQ 56.984375 54.828125 56.984375 36.375 \r\nQ 56.984375 17.96875 50.515625 8.265625 \r\nQ 44.046875 -1.421875 31.78125 -1.421875 \r\nQ 19.53125 -1.421875 13.0625 8.265625 \r\nQ 6.59375 17.96875 6.59375 36.375 \r\nQ 6.59375 54.828125 13.0625 64.515625 \r\nQ 19.53125 74.21875 31.78125 74.21875 \r\nz\r\n\" id=\"DejaVuSans-48\"/>\r\n        <path d=\"M 12.40625 8.296875 \r\nL 28.515625 8.296875 \r\nL 28.515625 63.921875 \r\nL 10.984375 60.40625 \r\nL 10.984375 69.390625 \r\nL 28.421875 72.90625 \r\nL 38.28125 72.90625 \r\nL 38.28125 8.296875 \r\nL 54.390625 8.296875 \r\nL 54.390625 0 \r\nL 12.40625 0 \r\nz\r\n\" id=\"DejaVuSans-49\"/>\r\n       </defs>\r\n       <use xlink:href=\"#DejaVuSans-48\"/>\r\n       <use x=\"63.623047\" xlink:href=\"#DejaVuSans-46\"/>\r\n       <use x=\"95.410156\" xlink:href=\"#DejaVuSans-49\"/>\r\n      </g>\r\n     </g>\r\n    </g>\r\n    <g id=\"ytick_14\">\r\n     <g id=\"line2d_26\">\r\n      <g>\r\n       <use style=\"stroke:#000000;stroke-width:0.8;\" x=\"910.234125\" xlink:href=\"#mc4eea8f1c3\" y=\"472.903633\"/>\r\n      </g>\r\n     </g>\r\n     <g id=\"text_26\">\r\n      <!-- 0.2 -->\r\n      <g transform=\"translate(917.234125 476.702851)scale(0.1 -0.1)\">\r\n       <defs>\r\n        <path d=\"M 19.1875 8.296875 \r\nL 53.609375 8.296875 \r\nL 53.609375 0 \r\nL 7.328125 0 \r\nL 7.328125 8.296875 \r\nQ 12.9375 14.109375 22.625 23.890625 \r\nQ 32.328125 33.6875 34.8125 36.53125 \r\nQ 39.546875 41.84375 41.421875 45.53125 \r\nQ 43.3125 49.21875 43.3125 52.78125 \r\nQ 43.3125 58.59375 39.234375 62.25 \r\nQ 35.15625 65.921875 28.609375 65.921875 \r\nQ 23.96875 65.921875 18.8125 64.3125 \r\nQ 13.671875 62.703125 7.8125 59.421875 \r\nL 7.8125 69.390625 \r\nQ 13.765625 71.78125 18.9375 73 \r\nQ 24.125 74.21875 28.421875 74.21875 \r\nQ 39.75 74.21875 46.484375 68.546875 \r\nQ 53.21875 62.890625 53.21875 53.421875 \r\nQ 53.21875 48.921875 51.53125 44.890625 \r\nQ 49.859375 40.875 45.40625 35.40625 \r\nQ 44.1875 33.984375 37.640625 27.21875 \r\nQ 31.109375 20.453125 19.1875 8.296875 \r\nz\r\n\" id=\"DejaVuSans-50\"/>\r\n       </defs>\r\n       <use xlink:href=\"#DejaVuSans-48\"/>\r\n       <use x=\"63.623047\" xlink:href=\"#DejaVuSans-46\"/>\r\n       <use x=\"95.410156\" xlink:href=\"#DejaVuSans-50\"/>\r\n      </g>\r\n     </g>\r\n    </g>\r\n    <g id=\"ytick_15\">\r\n     <g id=\"line2d_27\">\r\n      <g>\r\n       <use style=\"stroke:#000000;stroke-width:0.8;\" x=\"910.234125\" xlink:href=\"#mc4eea8f1c3\" y=\"379.482471\"/>\r\n      </g>\r\n     </g>\r\n     <g id=\"text_27\">\r\n      <!-- 0.3 -->\r\n      <g transform=\"translate(917.234125 383.28169)scale(0.1 -0.1)\">\r\n       <defs>\r\n        <path d=\"M 40.578125 39.3125 \r\nQ 47.65625 37.796875 51.625 33 \r\nQ 55.609375 28.21875 55.609375 21.1875 \r\nQ 55.609375 10.40625 48.1875 4.484375 \r\nQ 40.765625 -1.421875 27.09375 -1.421875 \r\nQ 22.515625 -1.421875 17.65625 -0.515625 \r\nQ 12.796875 0.390625 7.625 2.203125 \r\nL 7.625 11.71875 \r\nQ 11.71875 9.328125 16.59375 8.109375 \r\nQ 21.484375 6.890625 26.8125 6.890625 \r\nQ 36.078125 6.890625 40.9375 10.546875 \r\nQ 45.796875 14.203125 45.796875 21.1875 \r\nQ 45.796875 27.640625 41.28125 31.265625 \r\nQ 36.765625 34.90625 28.71875 34.90625 \r\nL 20.21875 34.90625 \r\nL 20.21875 43.015625 \r\nL 29.109375 43.015625 \r\nQ 36.375 43.015625 40.234375 45.921875 \r\nQ 44.09375 48.828125 44.09375 54.296875 \r\nQ 44.09375 59.90625 40.109375 62.90625 \r\nQ 36.140625 65.921875 28.71875 65.921875 \r\nQ 24.65625 65.921875 20.015625 65.03125 \r\nQ 15.375 64.15625 9.8125 62.3125 \r\nL 9.8125 71.09375 \r\nQ 15.4375 72.65625 20.34375 73.4375 \r\nQ 25.25 74.21875 29.59375 74.21875 \r\nQ 40.828125 74.21875 47.359375 69.109375 \r\nQ 53.90625 64.015625 53.90625 55.328125 \r\nQ 53.90625 49.265625 50.4375 45.09375 \r\nQ 46.96875 40.921875 40.578125 39.3125 \r\nz\r\n\" id=\"DejaVuSans-51\"/>\r\n       </defs>\r\n       <use xlink:href=\"#DejaVuSans-48\"/>\r\n       <use x=\"63.623047\" xlink:href=\"#DejaVuSans-46\"/>\r\n       <use x=\"95.410156\" xlink:href=\"#DejaVuSans-51\"/>\r\n      </g>\r\n     </g>\r\n    </g>\r\n    <g id=\"ytick_16\">\r\n     <g id=\"line2d_28\">\r\n      <g>\r\n       <use style=\"stroke:#000000;stroke-width:0.8;\" x=\"910.234125\" xlink:href=\"#mc4eea8f1c3\" y=\"286.06131\"/>\r\n      </g>\r\n     </g>\r\n     <g id=\"text_28\">\r\n      <!-- 0.4 -->\r\n      <g transform=\"translate(917.234125 289.860529)scale(0.1 -0.1)\">\r\n       <defs>\r\n        <path d=\"M 37.796875 64.3125 \r\nL 12.890625 25.390625 \r\nL 37.796875 25.390625 \r\nz\r\nM 35.203125 72.90625 \r\nL 47.609375 72.90625 \r\nL 47.609375 25.390625 \r\nL 58.015625 25.390625 \r\nL 58.015625 17.1875 \r\nL 47.609375 17.1875 \r\nL 47.609375 0 \r\nL 37.796875 0 \r\nL 37.796875 17.1875 \r\nL 4.890625 17.1875 \r\nL 4.890625 26.703125 \r\nz\r\n\" id=\"DejaVuSans-52\"/>\r\n       </defs>\r\n       <use xlink:href=\"#DejaVuSans-48\"/>\r\n       <use x=\"63.623047\" xlink:href=\"#DejaVuSans-46\"/>\r\n       <use x=\"95.410156\" xlink:href=\"#DejaVuSans-52\"/>\r\n      </g>\r\n     </g>\r\n    </g>\r\n    <g id=\"ytick_17\">\r\n     <g id=\"line2d_29\">\r\n      <g>\r\n       <use style=\"stroke:#000000;stroke-width:0.8;\" x=\"910.234125\" xlink:href=\"#mc4eea8f1c3\" y=\"192.640149\"/>\r\n      </g>\r\n     </g>\r\n     <g id=\"text_29\">\r\n      <!-- 0.5 -->\r\n      <g transform=\"translate(917.234125 196.439368)scale(0.1 -0.1)\">\r\n       <defs>\r\n        <path d=\"M 10.796875 72.90625 \r\nL 49.515625 72.90625 \r\nL 49.515625 64.59375 \r\nL 19.828125 64.59375 \r\nL 19.828125 46.734375 \r\nQ 21.96875 47.46875 24.109375 47.828125 \r\nQ 26.265625 48.1875 28.421875 48.1875 \r\nQ 40.625 48.1875 47.75 41.5 \r\nQ 54.890625 34.8125 54.890625 23.390625 \r\nQ 54.890625 11.625 47.5625 5.09375 \r\nQ 40.234375 -1.421875 26.90625 -1.421875 \r\nQ 22.3125 -1.421875 17.546875 -0.640625 \r\nQ 12.796875 0.140625 7.71875 1.703125 \r\nL 7.71875 11.625 \r\nQ 12.109375 9.234375 16.796875 8.0625 \r\nQ 21.484375 6.890625 26.703125 6.890625 \r\nQ 35.15625 6.890625 40.078125 11.328125 \r\nQ 45.015625 15.765625 45.015625 23.390625 \r\nQ 45.015625 31 40.078125 35.4375 \r\nQ 35.15625 39.890625 26.703125 39.890625 \r\nQ 22.75 39.890625 18.8125 39.015625 \r\nQ 14.890625 38.140625 10.796875 36.28125 \r\nz\r\n\" id=\"DejaVuSans-53\"/>\r\n       </defs>\r\n       <use xlink:href=\"#DejaVuSans-48\"/>\r\n       <use x=\"63.623047\" xlink:href=\"#DejaVuSans-46\"/>\r\n       <use x=\"95.410156\" xlink:href=\"#DejaVuSans-53\"/>\r\n      </g>\r\n     </g>\r\n    </g>\r\n    <g id=\"ytick_18\">\r\n     <g id=\"line2d_30\">\r\n      <g>\r\n       <use style=\"stroke:#000000;stroke-width:0.8;\" x=\"910.234125\" xlink:href=\"#mc4eea8f1c3\" y=\"99.218988\"/>\r\n      </g>\r\n     </g>\r\n     <g id=\"text_30\">\r\n      <!-- 0.6 -->\r\n      <g transform=\"translate(917.234125 103.018206)scale(0.1 -0.1)\">\r\n       <defs>\r\n        <path d=\"M 33.015625 40.375 \r\nQ 26.375 40.375 22.484375 35.828125 \r\nQ 18.609375 31.296875 18.609375 23.390625 \r\nQ 18.609375 15.53125 22.484375 10.953125 \r\nQ 26.375 6.390625 33.015625 6.390625 \r\nQ 39.65625 6.390625 43.53125 10.953125 \r\nQ 47.40625 15.53125 47.40625 23.390625 \r\nQ 47.40625 31.296875 43.53125 35.828125 \r\nQ 39.65625 40.375 33.015625 40.375 \r\nz\r\nM 52.59375 71.296875 \r\nL 52.59375 62.3125 \r\nQ 48.875 64.0625 45.09375 64.984375 \r\nQ 41.3125 65.921875 37.59375 65.921875 \r\nQ 27.828125 65.921875 22.671875 59.328125 \r\nQ 17.53125 52.734375 16.796875 39.40625 \r\nQ 19.671875 43.65625 24.015625 45.921875 \r\nQ 28.375 48.1875 33.59375 48.1875 \r\nQ 44.578125 48.1875 50.953125 41.515625 \r\nQ 57.328125 34.859375 57.328125 23.390625 \r\nQ 57.328125 12.15625 50.6875 5.359375 \r\nQ 44.046875 -1.421875 33.015625 -1.421875 \r\nQ 20.359375 -1.421875 13.671875 8.265625 \r\nQ 6.984375 17.96875 6.984375 36.375 \r\nQ 6.984375 53.65625 15.1875 63.9375 \r\nQ 23.390625 74.21875 37.203125 74.21875 \r\nQ 40.921875 74.21875 44.703125 73.484375 \r\nQ 48.484375 72.75 52.59375 71.296875 \r\nz\r\n\" id=\"DejaVuSans-54\"/>\r\n       </defs>\r\n       <use xlink:href=\"#DejaVuSans-48\"/>\r\n       <use x=\"63.623047\" xlink:href=\"#DejaVuSans-46\"/>\r\n       <use x=\"95.410156\" xlink:href=\"#DejaVuSans-54\"/>\r\n      </g>\r\n     </g>\r\n    </g>\r\n   </g>\r\n   <g id=\"patch_4\">\r\n    <path d=\"M 877.618125 659.52 \r\nL 877.618125 656.971875 \r\nL 877.618125 9.748125 \r\nL 877.618125 7.2 \r\nL 910.234125 7.2 \r\nL 910.234125 9.748125 \r\nL 910.234125 656.971875 \r\nL 910.234125 659.52 \r\nz\r\n\" style=\"fill:none;\"/>\r\n   </g>\r\n  </g>\r\n </g>\r\n <defs>\r\n  <clipPath id=\"p0ee056f200\">\r\n   <rect height=\"652.32\" width=\"803.52\" x=\"23.878125\" y=\"7.2\"/>\r\n  </clipPath>\r\n  <clipPath id=\"p3f03e8cfe6\">\r\n   <rect height=\"652.32\" width=\"32.616\" x=\"877.618125\" y=\"7.2\"/>\r\n  </clipPath>\r\n </defs>\r\n</svg>\r\n",
      "image/png": "[encoded data removed]"
     },
     "metadata": {
      "needs_background": "light"
     }
    }
   ],
   "source": [
    "# heatmap of tags matrix\n",
    "# T(i, j) means P(tag j given tag i)\n",
    "plt.figure(figsize=(18, 12))\n",
    "sns.heatmap(tags_df)\n",
    "plt.show()"
   ]
  },
  {
   "cell_type": "code",
   "execution_count": 19,
   "metadata": {},
   "outputs": [
    {
     "output_type": "display_data",
     "data": {
      "text/plain": "<Figure size 1296x864 with 2 Axes>",
      "image/svg+xml": "<?xml version=\"1.0\" encoding=\"utf-8\" standalone=\"no\"?>\r\n<!DOCTYPE svg PUBLIC \"-//W3C//DTD SVG 1.1//EN\"\r\n  \"http://www.w3.org/Graphics/SVG/1.1/DTD/svg11.dtd\">\r\n<!-- Created with matplotlib (https://matplotlib.org/) -->\r\n<svg height=\"683.398125pt\" version=\"1.1\" viewBox=\"0 0 946.69975 683.398125\" width=\"946.69975pt\" xmlns=\"http://www.w3.org/2000/svg\" xmlns:xlink=\"http://www.w3.org/1999/xlink\">\r\n <metadata>\r\n  <rdf:RDF xmlns:cc=\"http://creativecommons.org/ns#\" xmlns:dc=\"http://purl.org/dc/elements/1.1/\" xmlns:rdf=\"http://www.w3.org/1999/02/22-rdf-syntax-ns#\">\r\n   <cc:Work>\r\n    <dc:type rdf:resource=\"http://purl.org/dc/dcmitype/StillImage\"/>\r\n    <dc:date>2021-02-26T01:30:25.430930</dc:date>\r\n    <dc:format>image/svg+xml</dc:format>\r\n    <dc:creator>\r\n     <cc:Agent>\r\n      <dc:title>Matplotlib v3.3.4, https://matplotlib.org/</dc:title>\r\n     </cc:Agent>\r\n    </dc:creator>\r\n   </cc:Work>\r\n  </rdf:RDF>\r\n </metadata>\r\n <defs>\r\n  <style type=\"text/css\">*{stroke-linecap:butt;stroke-linejoin:round;}</style>\r\n </defs>\r\n <g id=\"figure_1\">\r\n  <g id=\"patch_1\">\r\n   <path d=\"M 0 683.398125 \r\nL 946.69975 683.398125 \r\nL 946.69975 0 \r\nL 0 0 \r\nz\r\n\" style=\"fill:none;\"/>\r\n  </g>\r\n  <g id=\"axes_1\">\r\n   <g id=\"patch_2\">\r\n    <path d=\"M 23.878125 659.52 \r\nL 827.398125 659.52 \r\nL 827.398125 7.2 \r\nL 23.878125 7.2 \r\nz\r\n\" style=\"fill:#ffffff;\"/>\r\n   </g>\r\n   <g id=\"QuadMesh_1\">\r\n    <path clip-path=\"url(#pcb754f007c)\" d=\"M 23.878125 7.2 \r\nL 90.838125 7.2 \r\nL 90.838125 61.56 \r\nL 23.878125 61.56 \r\nL 23.878125 7.2 \r\n\" style=\"fill:none;\"/>\r\n    <path clip-path=\"url(#pcb754f007c)\" d=\"M 90.838125 7.2 \r\nL 157.798125 7.2 \r\nL 157.798125 61.56 \r\nL 90.838125 61.56 \r\nL 90.838125 7.2 \r\n\" style=\"fill:none;\"/>\r\n    <path clip-path=\"url(#pcb754f007c)\" d=\"M 157.798125 7.2 \r\nL 224.758125 7.2 \r\nL 224.758125 61.56 \r\nL 157.798125 61.56 \r\nL 157.798125 7.2 \r\n\" style=\"fill:none;\"/>\r\n    <path clip-path=\"url(#pcb754f007c)\" d=\"M 224.758125 7.2 \r\nL 291.718125 7.2 \r\nL 291.718125 61.56 \r\nL 224.758125 61.56 \r\nL 224.758125 7.2 \r\n\" style=\"fill:none;\"/>\r\n    <path clip-path=\"url(#pcb754f007c)\" d=\"M 291.718125 7.2 \r\nL 358.678125 7.2 \r\nL 358.678125 61.56 \r\nL 291.718125 61.56 \r\nL 291.718125 7.2 \r\n\" style=\"fill:none;\"/>\r\n    <path clip-path=\"url(#pcb754f007c)\" d=\"M 358.678125 7.2 \r\nL 425.638125 7.2 \r\nL 425.638125 61.56 \r\nL 358.678125 61.56 \r\nL 358.678125 7.2 \r\n\" style=\"fill:none;\"/>\r\n    <path clip-path=\"url(#pcb754f007c)\" d=\"M 425.638125 7.2 \r\nL 492.598125 7.2 \r\nL 492.598125 61.56 \r\nL 425.638125 61.56 \r\nL 425.638125 7.2 \r\n\" style=\"fill:none;\"/>\r\n    <path clip-path=\"url(#pcb754f007c)\" d=\"M 492.598125 7.2 \r\nL 559.558125 7.2 \r\nL 559.558125 61.56 \r\nL 492.598125 61.56 \r\nL 492.598125 7.2 \r\n\" style=\"fill:none;\"/>\r\n    <path clip-path=\"url(#pcb754f007c)\" d=\"M 559.558125 7.2 \r\nL 626.518125 7.2 \r\nL 626.518125 61.56 \r\nL 559.558125 61.56 \r\nL 559.558125 7.2 \r\n\" style=\"fill:none;\"/>\r\n    <path clip-path=\"url(#pcb754f007c)\" d=\"M 626.518125 7.2 \r\nL 693.478125 7.2 \r\nL 693.478125 61.56 \r\nL 626.518125 61.56 \r\nL 626.518125 7.2 \r\n\" style=\"fill:none;\"/>\r\n    <path clip-path=\"url(#pcb754f007c)\" d=\"M 693.478125 7.2 \r\nL 760.438125 7.2 \r\nL 760.438125 61.56 \r\nL 693.478125 61.56 \r\nL 693.478125 7.2 \r\n\" style=\"fill:none;\"/>\r\n    <path clip-path=\"url(#pcb754f007c)\" d=\"M 760.438125 7.2 \r\nL 827.398125 7.2 \r\nL 827.398125 61.56 \r\nL 760.438125 61.56 \r\nL 760.438125 7.2 \r\n\" style=\"fill:none;\"/>\r\n    <path clip-path=\"url(#pcb754f007c)\" d=\"M 23.878125 61.56 \r\nL 90.838125 61.56 \r\nL 90.838125 115.92 \r\nL 23.878125 115.92 \r\nL 23.878125 61.56 \r\n\" style=\"fill:none;\"/>\r\n    <path clip-path=\"url(#pcb754f007c)\" d=\"M 90.838125 61.56 \r\nL 157.798125 61.56 \r\nL 157.798125 115.92 \r\nL 90.838125 115.92 \r\nL 90.838125 61.56 \r\n\" style=\"fill:none;\"/>\r\n    <path clip-path=\"url(#pcb754f007c)\" d=\"M 157.798125 61.56 \r\nL 224.758125 61.56 \r\nL 224.758125 115.92 \r\nL 157.798125 115.92 \r\nL 157.798125 61.56 \r\n\" style=\"fill:none;\"/>\r\n    <path clip-path=\"url(#pcb754f007c)\" d=\"M 224.758125 61.56 \r\nL 291.718125 61.56 \r\nL 291.718125 115.92 \r\nL 224.758125 115.92 \r\nL 224.758125 61.56 \r\n\" style=\"fill:none;\"/>\r\n    <path clip-path=\"url(#pcb754f007c)\" d=\"M 291.718125 61.56 \r\nL 358.678125 61.56 \r\nL 358.678125 115.92 \r\nL 291.718125 115.92 \r\nL 291.718125 61.56 \r\n\" style=\"fill:none;\"/>\r\n    <path clip-path=\"url(#pcb754f007c)\" d=\"M 358.678125 61.56 \r\nL 425.638125 61.56 \r\nL 425.638125 115.92 \r\nL 358.678125 115.92 \r\nL 358.678125 61.56 \r\n\" style=\"fill:none;\"/>\r\n    <path clip-path=\"url(#pcb754f007c)\" d=\"M 425.638125 61.56 \r\nL 492.598125 61.56 \r\nL 492.598125 115.92 \r\nL 425.638125 115.92 \r\nL 425.638125 61.56 \r\n\" style=\"fill:none;\"/>\r\n    <path clip-path=\"url(#pcb754f007c)\" d=\"M 492.598125 61.56 \r\nL 559.558125 61.56 \r\nL 559.558125 115.92 \r\nL 492.598125 115.92 \r\nL 492.598125 61.56 \r\n\" style=\"fill:none;\"/>\r\n    <path clip-path=\"url(#pcb754f007c)\" d=\"M 559.558125 61.56 \r\nL 626.518125 61.56 \r\nL 626.518125 115.92 \r\nL 559.558125 115.92 \r\nL 559.558125 61.56 \r\n\" style=\"fill:none;\"/>\r\n    <path clip-path=\"url(#pcb754f007c)\" d=\"M 626.518125 61.56 \r\nL 693.478125 61.56 \r\nL 693.478125 115.92 \r\nL 626.518125 115.92 \r\nL 626.518125 61.56 \r\n\" style=\"fill:none;\"/>\r\n    <path clip-path=\"url(#pcb754f007c)\" d=\"M 693.478125 61.56 \r\nL 760.438125 61.56 \r\nL 760.438125 115.92 \r\nL 693.478125 115.92 \r\nL 693.478125 61.56 \r\n\" style=\"fill:none;\"/>\r\n    <path clip-path=\"url(#pcb754f007c)\" d=\"M 760.438125 61.56 \r\nL 827.398125 61.56 \r\nL 827.398125 115.92 \r\nL 760.438125 115.92 \r\nL 760.438125 61.56 \r\n\" style=\"fill:none;\"/>\r\n    <path clip-path=\"url(#pcb754f007c)\" d=\"M 23.878125 115.92 \r\nL 90.838125 115.92 \r\nL 90.838125 170.28 \r\nL 23.878125 170.28 \r\nL 23.878125 115.92 \r\n\" style=\"fill:none;\"/>\r\n    <path clip-path=\"url(#pcb754f007c)\" d=\"M 90.838125 115.92 \r\nL 157.798125 115.92 \r\nL 157.798125 170.28 \r\nL 90.838125 170.28 \r\nL 90.838125 115.92 \r\n\" style=\"fill:none;\"/>\r\n    <path clip-path=\"url(#pcb754f007c)\" d=\"M 157.798125 115.92 \r\nL 224.758125 115.92 \r\nL 224.758125 170.28 \r\nL 157.798125 170.28 \r\nL 157.798125 115.92 \r\n\" style=\"fill:none;\"/>\r\n    <path clip-path=\"url(#pcb754f007c)\" d=\"M 224.758125 115.92 \r\nL 291.718125 115.92 \r\nL 291.718125 170.28 \r\nL 224.758125 170.28 \r\nL 224.758125 115.92 \r\n\" style=\"fill:none;\"/>\r\n    <path clip-path=\"url(#pcb754f007c)\" d=\"M 291.718125 115.92 \r\nL 358.678125 115.92 \r\nL 358.678125 170.28 \r\nL 291.718125 170.28 \r\nL 291.718125 115.92 \r\n\" style=\"fill:none;\"/>\r\n    <path clip-path=\"url(#pcb754f007c)\" d=\"M 358.678125 115.92 \r\nL 425.638125 115.92 \r\nL 425.638125 170.28 \r\nL 358.678125 170.28 \r\nL 358.678125 115.92 \r\n\" style=\"fill:none;\"/>\r\n    <path clip-path=\"url(#pcb754f007c)\" d=\"M 425.638125 115.92 \r\nL 492.598125 115.92 \r\nL 492.598125 170.28 \r\nL 425.638125 170.28 \r\nL 425.638125 115.92 \r\n\" style=\"fill:none;\"/>\r\n    <path clip-path=\"url(#pcb754f007c)\" d=\"M 492.598125 115.92 \r\nL 559.558125 115.92 \r\nL 559.558125 170.28 \r\nL 492.598125 170.28 \r\nL 492.598125 115.92 \r\n\" style=\"fill:none;\"/>\r\n    <path clip-path=\"url(#pcb754f007c)\" d=\"M 559.558125 115.92 \r\nL 626.518125 115.92 \r\nL 626.518125 170.28 \r\nL 559.558125 170.28 \r\nL 559.558125 115.92 \r\n\" style=\"fill:none;\"/>\r\n    <path clip-path=\"url(#pcb754f007c)\" d=\"M 626.518125 115.92 \r\nL 693.478125 115.92 \r\nL 693.478125 170.28 \r\nL 626.518125 170.28 \r\nL 626.518125 115.92 \r\n\" style=\"fill:none;\"/>\r\n    <path clip-path=\"url(#pcb754f007c)\" d=\"M 693.478125 115.92 \r\nL 760.438125 115.92 \r\nL 760.438125 170.28 \r\nL 693.478125 170.28 \r\nL 693.478125 115.92 \r\n\" style=\"fill:none;\"/>\r\n    <path clip-path=\"url(#pcb754f007c)\" d=\"M 760.438125 115.92 \r\nL 827.398125 115.92 \r\nL 827.398125 170.28 \r\nL 760.438125 170.28 \r\nL 760.438125 115.92 \r\n\" style=\"fill:none;\"/>\r\n    <path clip-path=\"url(#pcb754f007c)\" d=\"M 23.878125 170.28 \r\nL 90.838125 170.28 \r\nL 90.838125 224.64 \r\nL 23.878125 224.64 \r\nL 23.878125 170.28 \r\n\" style=\"fill:none;\"/>\r\n    <path clip-path=\"url(#pcb754f007c)\" d=\"M 90.838125 170.28 \r\nL 157.798125 170.28 \r\nL 157.798125 224.64 \r\nL 90.838125 224.64 \r\nL 90.838125 170.28 \r\n\" style=\"fill:none;\"/>\r\n    <path clip-path=\"url(#pcb754f007c)\" d=\"M 157.798125 170.28 \r\nL 224.758125 170.28 \r\nL 224.758125 224.64 \r\nL 157.798125 224.64 \r\nL 157.798125 170.28 \r\n\" style=\"fill:none;\"/>\r\n    <path clip-path=\"url(#pcb754f007c)\" d=\"M 224.758125 170.28 \r\nL 291.718125 170.28 \r\nL 291.718125 224.64 \r\nL 224.758125 224.64 \r\nL 224.758125 170.28 \r\n\" style=\"fill:none;\"/>\r\n    <path clip-path=\"url(#pcb754f007c)\" d=\"M 291.718125 170.28 \r\nL 358.678125 170.28 \r\nL 358.678125 224.64 \r\nL 291.718125 224.64 \r\nL 291.718125 170.28 \r\n\" style=\"fill:none;\"/>\r\n    <path clip-path=\"url(#pcb754f007c)\" d=\"M 358.678125 170.28 \r\nL 425.638125 170.28 \r\nL 425.638125 224.64 \r\nL 358.678125 224.64 \r\nL 358.678125 170.28 \r\n\" style=\"fill:none;\"/>\r\n    <path clip-path=\"url(#pcb754f007c)\" d=\"M 425.638125 170.28 \r\nL 492.598125 170.28 \r\nL 492.598125 224.64 \r\nL 425.638125 224.64 \r\nL 425.638125 170.28 \r\n\" style=\"fill:none;\"/>\r\n    <path clip-path=\"url(#pcb754f007c)\" d=\"M 492.598125 170.28 \r\nL 559.558125 170.28 \r\nL 559.558125 224.64 \r\nL 492.598125 224.64 \r\nL 492.598125 170.28 \r\n\" style=\"fill:none;\"/>\r\n    <path clip-path=\"url(#pcb754f007c)\" d=\"M 559.558125 170.28 \r\nL 626.518125 170.28 \r\nL 626.518125 224.64 \r\nL 559.558125 224.64 \r\nL 559.558125 170.28 \r\n\" style=\"fill:#03051a;\"/>\r\n    <path clip-path=\"url(#pcb754f007c)\" d=\"M 626.518125 170.28 \r\nL 693.478125 170.28 \r\nL 693.478125 224.64 \r\nL 626.518125 224.64 \r\nL 626.518125 170.28 \r\n\" style=\"fill:none;\"/>\r\n    <path clip-path=\"url(#pcb754f007c)\" d=\"M 693.478125 170.28 \r\nL 760.438125 170.28 \r\nL 760.438125 224.64 \r\nL 693.478125 224.64 \r\nL 693.478125 170.28 \r\n\" style=\"fill:none;\"/>\r\n    <path clip-path=\"url(#pcb754f007c)\" d=\"M 760.438125 170.28 \r\nL 827.398125 170.28 \r\nL 827.398125 224.64 \r\nL 760.438125 224.64 \r\nL 760.438125 170.28 \r\n\" style=\"fill:none;\"/>\r\n    <path clip-path=\"url(#pcb754f007c)\" d=\"M 23.878125 224.64 \r\nL 90.838125 224.64 \r\nL 90.838125 279 \r\nL 23.878125 279 \r\nL 23.878125 224.64 \r\n\" style=\"fill:none;\"/>\r\n    <path clip-path=\"url(#pcb754f007c)\" d=\"M 90.838125 224.64 \r\nL 157.798125 224.64 \r\nL 157.798125 279 \r\nL 90.838125 279 \r\nL 90.838125 224.64 \r\n\" style=\"fill:none;\"/>\r\n    <path clip-path=\"url(#pcb754f007c)\" d=\"M 157.798125 224.64 \r\nL 224.758125 224.64 \r\nL 224.758125 279 \r\nL 157.798125 279 \r\nL 157.798125 224.64 \r\n\" style=\"fill:none;\"/>\r\n    <path clip-path=\"url(#pcb754f007c)\" d=\"M 224.758125 224.64 \r\nL 291.718125 224.64 \r\nL 291.718125 279 \r\nL 224.758125 279 \r\nL 224.758125 224.64 \r\n\" style=\"fill:none;\"/>\r\n    <path clip-path=\"url(#pcb754f007c)\" d=\"M 291.718125 224.64 \r\nL 358.678125 224.64 \r\nL 358.678125 279 \r\nL 291.718125 279 \r\nL 291.718125 224.64 \r\n\" style=\"fill:none;\"/>\r\n    <path clip-path=\"url(#pcb754f007c)\" d=\"M 358.678125 224.64 \r\nL 425.638125 224.64 \r\nL 425.638125 279 \r\nL 358.678125 279 \r\nL 358.678125 224.64 \r\n\" style=\"fill:none;\"/>\r\n    <path clip-path=\"url(#pcb754f007c)\" d=\"M 425.638125 224.64 \r\nL 492.598125 224.64 \r\nL 492.598125 279 \r\nL 425.638125 279 \r\nL 425.638125 224.64 \r\n\" style=\"fill:none;\"/>\r\n    <path clip-path=\"url(#pcb754f007c)\" d=\"M 492.598125 224.64 \r\nL 559.558125 224.64 \r\nL 559.558125 279 \r\nL 492.598125 279 \r\nL 492.598125 224.64 \r\n\" style=\"fill:none;\"/>\r\n    <path clip-path=\"url(#pcb754f007c)\" d=\"M 559.558125 224.64 \r\nL 626.518125 224.64 \r\nL 626.518125 279 \r\nL 559.558125 279 \r\nL 559.558125 224.64 \r\n\" style=\"fill:none;\"/>\r\n    <path clip-path=\"url(#pcb754f007c)\" d=\"M 626.518125 224.64 \r\nL 693.478125 224.64 \r\nL 693.478125 279 \r\nL 626.518125 279 \r\nL 626.518125 224.64 \r\n\" style=\"fill:none;\"/>\r\n    <path clip-path=\"url(#pcb754f007c)\" d=\"M 693.478125 224.64 \r\nL 760.438125 224.64 \r\nL 760.438125 279 \r\nL 693.478125 279 \r\nL 693.478125 224.64 \r\n\" style=\"fill:none;\"/>\r\n    <path clip-path=\"url(#pcb754f007c)\" d=\"M 760.438125 224.64 \r\nL 827.398125 224.64 \r\nL 827.398125 279 \r\nL 760.438125 279 \r\nL 760.438125 224.64 \r\n\" style=\"fill:none;\"/>\r\n    <path clip-path=\"url(#pcb754f007c)\" d=\"M 23.878125 279 \r\nL 90.838125 279 \r\nL 90.838125 333.36 \r\nL 23.878125 333.36 \r\nL 23.878125 279 \r\n\" style=\"fill:none;\"/>\r\n    <path clip-path=\"url(#pcb754f007c)\" d=\"M 90.838125 279 \r\nL 157.798125 279 \r\nL 157.798125 333.36 \r\nL 90.838125 333.36 \r\nL 90.838125 279 \r\n\" style=\"fill:none;\"/>\r\n    <path clip-path=\"url(#pcb754f007c)\" d=\"M 157.798125 279 \r\nL 224.758125 279 \r\nL 224.758125 333.36 \r\nL 157.798125 333.36 \r\nL 157.798125 279 \r\n\" style=\"fill:none;\"/>\r\n    <path clip-path=\"url(#pcb754f007c)\" d=\"M 224.758125 279 \r\nL 291.718125 279 \r\nL 291.718125 333.36 \r\nL 224.758125 333.36 \r\nL 224.758125 279 \r\n\" style=\"fill:none;\"/>\r\n    <path clip-path=\"url(#pcb754f007c)\" d=\"M 291.718125 279 \r\nL 358.678125 279 \r\nL 358.678125 333.36 \r\nL 291.718125 333.36 \r\nL 291.718125 279 \r\n\" style=\"fill:none;\"/>\r\n    <path clip-path=\"url(#pcb754f007c)\" d=\"M 358.678125 279 \r\nL 425.638125 279 \r\nL 425.638125 333.36 \r\nL 358.678125 333.36 \r\nL 358.678125 279 \r\n\" style=\"fill:none;\"/>\r\n    <path clip-path=\"url(#pcb754f007c)\" d=\"M 425.638125 279 \r\nL 492.598125 279 \r\nL 492.598125 333.36 \r\nL 425.638125 333.36 \r\nL 425.638125 279 \r\n\" style=\"fill:none;\"/>\r\n    <path clip-path=\"url(#pcb754f007c)\" d=\"M 492.598125 279 \r\nL 559.558125 279 \r\nL 559.558125 333.36 \r\nL 492.598125 333.36 \r\nL 492.598125 279 \r\n\" style=\"fill:none;\"/>\r\n    <path clip-path=\"url(#pcb754f007c)\" d=\"M 559.558125 279 \r\nL 626.518125 279 \r\nL 626.518125 333.36 \r\nL 559.558125 333.36 \r\nL 559.558125 279 \r\n\" style=\"fill:none;\"/>\r\n    <path clip-path=\"url(#pcb754f007c)\" d=\"M 626.518125 279 \r\nL 693.478125 279 \r\nL 693.478125 333.36 \r\nL 626.518125 333.36 \r\nL 626.518125 279 \r\n\" style=\"fill:none;\"/>\r\n    <path clip-path=\"url(#pcb754f007c)\" d=\"M 693.478125 279 \r\nL 760.438125 279 \r\nL 760.438125 333.36 \r\nL 693.478125 333.36 \r\nL 693.478125 279 \r\n\" style=\"fill:none;\"/>\r\n    <path clip-path=\"url(#pcb754f007c)\" d=\"M 760.438125 279 \r\nL 827.398125 279 \r\nL 827.398125 333.36 \r\nL 760.438125 333.36 \r\nL 760.438125 279 \r\n\" style=\"fill:none;\"/>\r\n    <path clip-path=\"url(#pcb754f007c)\" d=\"M 23.878125 333.36 \r\nL 90.838125 333.36 \r\nL 90.838125 387.72 \r\nL 23.878125 387.72 \r\nL 23.878125 333.36 \r\n\" style=\"fill:none;\"/>\r\n    <path clip-path=\"url(#pcb754f007c)\" d=\"M 90.838125 333.36 \r\nL 157.798125 333.36 \r\nL 157.798125 387.72 \r\nL 90.838125 387.72 \r\nL 90.838125 333.36 \r\n\" style=\"fill:none;\"/>\r\n    <path clip-path=\"url(#pcb754f007c)\" d=\"M 157.798125 333.36 \r\nL 224.758125 333.36 \r\nL 224.758125 387.72 \r\nL 157.798125 387.72 \r\nL 157.798125 333.36 \r\n\" style=\"fill:none;\"/>\r\n    <path clip-path=\"url(#pcb754f007c)\" d=\"M 224.758125 333.36 \r\nL 291.718125 333.36 \r\nL 291.718125 387.72 \r\nL 224.758125 387.72 \r\nL 224.758125 333.36 \r\n\" style=\"fill:none;\"/>\r\n    <path clip-path=\"url(#pcb754f007c)\" d=\"M 291.718125 333.36 \r\nL 358.678125 333.36 \r\nL 358.678125 387.72 \r\nL 291.718125 387.72 \r\nL 291.718125 333.36 \r\n\" style=\"fill:none;\"/>\r\n    <path clip-path=\"url(#pcb754f007c)\" d=\"M 358.678125 333.36 \r\nL 425.638125 333.36 \r\nL 425.638125 387.72 \r\nL 358.678125 387.72 \r\nL 358.678125 333.36 \r\n\" style=\"fill:none;\"/>\r\n    <path clip-path=\"url(#pcb754f007c)\" d=\"M 425.638125 333.36 \r\nL 492.598125 333.36 \r\nL 492.598125 387.72 \r\nL 425.638125 387.72 \r\nL 425.638125 333.36 \r\n\" style=\"fill:none;\"/>\r\n    <path clip-path=\"url(#pcb754f007c)\" d=\"M 492.598125 333.36 \r\nL 559.558125 333.36 \r\nL 559.558125 387.72 \r\nL 492.598125 387.72 \r\nL 492.598125 333.36 \r\n\" style=\"fill:none;\"/>\r\n    <path clip-path=\"url(#pcb754f007c)\" d=\"M 559.558125 333.36 \r\nL 626.518125 333.36 \r\nL 626.518125 387.72 \r\nL 559.558125 387.72 \r\nL 559.558125 333.36 \r\n\" style=\"fill:none;\"/>\r\n    <path clip-path=\"url(#pcb754f007c)\" d=\"M 626.518125 333.36 \r\nL 693.478125 333.36 \r\nL 693.478125 387.72 \r\nL 626.518125 387.72 \r\nL 626.518125 333.36 \r\n\" style=\"fill:none;\"/>\r\n    <path clip-path=\"url(#pcb754f007c)\" d=\"M 693.478125 333.36 \r\nL 760.438125 333.36 \r\nL 760.438125 387.72 \r\nL 693.478125 387.72 \r\nL 693.478125 333.36 \r\n\" style=\"fill:none;\"/>\r\n    <path clip-path=\"url(#pcb754f007c)\" d=\"M 760.438125 333.36 \r\nL 827.398125 333.36 \r\nL 827.398125 387.72 \r\nL 760.438125 387.72 \r\nL 760.438125 333.36 \r\n\" style=\"fill:none;\"/>\r\n    <path clip-path=\"url(#pcb754f007c)\" d=\"M 23.878125 387.72 \r\nL 90.838125 387.72 \r\nL 90.838125 442.08 \r\nL 23.878125 442.08 \r\nL 23.878125 387.72 \r\n\" style=\"fill:none;\"/>\r\n    <path clip-path=\"url(#pcb754f007c)\" d=\"M 90.838125 387.72 \r\nL 157.798125 387.72 \r\nL 157.798125 442.08 \r\nL 90.838125 442.08 \r\nL 90.838125 387.72 \r\n\" style=\"fill:none;\"/>\r\n    <path clip-path=\"url(#pcb754f007c)\" d=\"M 157.798125 387.72 \r\nL 224.758125 387.72 \r\nL 224.758125 442.08 \r\nL 157.798125 442.08 \r\nL 157.798125 387.72 \r\n\" style=\"fill:none;\"/>\r\n    <path clip-path=\"url(#pcb754f007c)\" d=\"M 224.758125 387.72 \r\nL 291.718125 387.72 \r\nL 291.718125 442.08 \r\nL 224.758125 442.08 \r\nL 224.758125 387.72 \r\n\" style=\"fill:none;\"/>\r\n    <path clip-path=\"url(#pcb754f007c)\" d=\"M 291.718125 387.72 \r\nL 358.678125 387.72 \r\nL 358.678125 442.08 \r\nL 291.718125 442.08 \r\nL 291.718125 387.72 \r\n\" style=\"fill:none;\"/>\r\n    <path clip-path=\"url(#pcb754f007c)\" d=\"M 358.678125 387.72 \r\nL 425.638125 387.72 \r\nL 425.638125 442.08 \r\nL 358.678125 442.08 \r\nL 358.678125 387.72 \r\n\" style=\"fill:none;\"/>\r\n    <path clip-path=\"url(#pcb754f007c)\" d=\"M 425.638125 387.72 \r\nL 492.598125 387.72 \r\nL 492.598125 442.08 \r\nL 425.638125 442.08 \r\nL 425.638125 387.72 \r\n\" style=\"fill:none;\"/>\r\n    <path clip-path=\"url(#pcb754f007c)\" d=\"M 492.598125 387.72 \r\nL 559.558125 387.72 \r\nL 559.558125 442.08 \r\nL 492.598125 442.08 \r\nL 492.598125 387.72 \r\n\" style=\"fill:none;\"/>\r\n    <path clip-path=\"url(#pcb754f007c)\" d=\"M 559.558125 387.72 \r\nL 626.518125 387.72 \r\nL 626.518125 442.08 \r\nL 559.558125 442.08 \r\nL 559.558125 387.72 \r\n\" style=\"fill:none;\"/>\r\n    <path clip-path=\"url(#pcb754f007c)\" d=\"M 626.518125 387.72 \r\nL 693.478125 387.72 \r\nL 693.478125 442.08 \r\nL 626.518125 442.08 \r\nL 626.518125 387.72 \r\n\" style=\"fill:none;\"/>\r\n    <path clip-path=\"url(#pcb754f007c)\" d=\"M 693.478125 387.72 \r\nL 760.438125 387.72 \r\nL 760.438125 442.08 \r\nL 693.478125 442.08 \r\nL 693.478125 387.72 \r\n\" style=\"fill:none;\"/>\r\n    <path clip-path=\"url(#pcb754f007c)\" d=\"M 760.438125 387.72 \r\nL 827.398125 387.72 \r\nL 827.398125 442.08 \r\nL 760.438125 442.08 \r\nL 760.438125 387.72 \r\n\" style=\"fill:none;\"/>\r\n    <path clip-path=\"url(#pcb754f007c)\" d=\"M 23.878125 442.08 \r\nL 90.838125 442.08 \r\nL 90.838125 496.44 \r\nL 23.878125 496.44 \r\nL 23.878125 442.08 \r\n\" style=\"fill:none;\"/>\r\n    <path clip-path=\"url(#pcb754f007c)\" d=\"M 90.838125 442.08 \r\nL 157.798125 442.08 \r\nL 157.798125 496.44 \r\nL 90.838125 496.44 \r\nL 90.838125 442.08 \r\n\" style=\"fill:none;\"/>\r\n    <path clip-path=\"url(#pcb754f007c)\" d=\"M 157.798125 442.08 \r\nL 224.758125 442.08 \r\nL 224.758125 496.44 \r\nL 157.798125 496.44 \r\nL 157.798125 442.08 \r\n\" style=\"fill:none;\"/>\r\n    <path clip-path=\"url(#pcb754f007c)\" d=\"M 224.758125 442.08 \r\nL 291.718125 442.08 \r\nL 291.718125 496.44 \r\nL 224.758125 496.44 \r\nL 224.758125 442.08 \r\n\" style=\"fill:none;\"/>\r\n    <path clip-path=\"url(#pcb754f007c)\" d=\"M 291.718125 442.08 \r\nL 358.678125 442.08 \r\nL 358.678125 496.44 \r\nL 291.718125 496.44 \r\nL 291.718125 442.08 \r\n\" style=\"fill:none;\"/>\r\n    <path clip-path=\"url(#pcb754f007c)\" d=\"M 358.678125 442.08 \r\nL 425.638125 442.08 \r\nL 425.638125 496.44 \r\nL 358.678125 496.44 \r\nL 358.678125 442.08 \r\n\" style=\"fill:none;\"/>\r\n    <path clip-path=\"url(#pcb754f007c)\" d=\"M 425.638125 442.08 \r\nL 492.598125 442.08 \r\nL 492.598125 496.44 \r\nL 425.638125 496.44 \r\nL 425.638125 442.08 \r\n\" style=\"fill:none;\"/>\r\n    <path clip-path=\"url(#pcb754f007c)\" d=\"M 492.598125 442.08 \r\nL 559.558125 442.08 \r\nL 559.558125 496.44 \r\nL 492.598125 496.44 \r\nL 492.598125 442.08 \r\n\" style=\"fill:none;\"/>\r\n    <path clip-path=\"url(#pcb754f007c)\" d=\"M 559.558125 442.08 \r\nL 626.518125 442.08 \r\nL 626.518125 496.44 \r\nL 559.558125 496.44 \r\nL 559.558125 442.08 \r\n\" style=\"fill:none;\"/>\r\n    <path clip-path=\"url(#pcb754f007c)\" d=\"M 626.518125 442.08 \r\nL 693.478125 442.08 \r\nL 693.478125 496.44 \r\nL 626.518125 496.44 \r\nL 626.518125 442.08 \r\n\" style=\"fill:none;\"/>\r\n    <path clip-path=\"url(#pcb754f007c)\" d=\"M 693.478125 442.08 \r\nL 760.438125 442.08 \r\nL 760.438125 496.44 \r\nL 693.478125 496.44 \r\nL 693.478125 442.08 \r\n\" style=\"fill:none;\"/>\r\n    <path clip-path=\"url(#pcb754f007c)\" d=\"M 760.438125 442.08 \r\nL 827.398125 442.08 \r\nL 827.398125 496.44 \r\nL 760.438125 496.44 \r\nL 760.438125 442.08 \r\n\" style=\"fill:none;\"/>\r\n    <path clip-path=\"url(#pcb754f007c)\" d=\"M 23.878125 496.44 \r\nL 90.838125 496.44 \r\nL 90.838125 550.8 \r\nL 23.878125 550.8 \r\nL 23.878125 496.44 \r\n\" style=\"fill:none;\"/>\r\n    <path clip-path=\"url(#pcb754f007c)\" d=\"M 90.838125 496.44 \r\nL 157.798125 496.44 \r\nL 157.798125 550.8 \r\nL 90.838125 550.8 \r\nL 90.838125 496.44 \r\n\" style=\"fill:none;\"/>\r\n    <path clip-path=\"url(#pcb754f007c)\" d=\"M 157.798125 496.44 \r\nL 224.758125 496.44 \r\nL 224.758125 550.8 \r\nL 157.798125 550.8 \r\nL 157.798125 496.44 \r\n\" style=\"fill:none;\"/>\r\n    <path clip-path=\"url(#pcb754f007c)\" d=\"M 224.758125 496.44 \r\nL 291.718125 496.44 \r\nL 291.718125 550.8 \r\nL 224.758125 550.8 \r\nL 224.758125 496.44 \r\n\" style=\"fill:none;\"/>\r\n    <path clip-path=\"url(#pcb754f007c)\" d=\"M 291.718125 496.44 \r\nL 358.678125 496.44 \r\nL 358.678125 550.8 \r\nL 291.718125 550.8 \r\nL 291.718125 496.44 \r\n\" style=\"fill:none;\"/>\r\n    <path clip-path=\"url(#pcb754f007c)\" d=\"M 358.678125 496.44 \r\nL 425.638125 496.44 \r\nL 425.638125 550.8 \r\nL 358.678125 550.8 \r\nL 358.678125 496.44 \r\n\" style=\"fill:none;\"/>\r\n    <path clip-path=\"url(#pcb754f007c)\" d=\"M 425.638125 496.44 \r\nL 492.598125 496.44 \r\nL 492.598125 550.8 \r\nL 425.638125 550.8 \r\nL 425.638125 496.44 \r\n\" style=\"fill:none;\"/>\r\n    <path clip-path=\"url(#pcb754f007c)\" d=\"M 492.598125 496.44 \r\nL 559.558125 496.44 \r\nL 559.558125 550.8 \r\nL 492.598125 550.8 \r\nL 492.598125 496.44 \r\n\" style=\"fill:none;\"/>\r\n    <path clip-path=\"url(#pcb754f007c)\" d=\"M 559.558125 496.44 \r\nL 626.518125 496.44 \r\nL 626.518125 550.8 \r\nL 559.558125 550.8 \r\nL 559.558125 496.44 \r\n\" style=\"fill:none;\"/>\r\n    <path clip-path=\"url(#pcb754f007c)\" d=\"M 626.518125 496.44 \r\nL 693.478125 496.44 \r\nL 693.478125 550.8 \r\nL 626.518125 550.8 \r\nL 626.518125 496.44 \r\n\" style=\"fill:none;\"/>\r\n    <path clip-path=\"url(#pcb754f007c)\" d=\"M 693.478125 496.44 \r\nL 760.438125 496.44 \r\nL 760.438125 550.8 \r\nL 693.478125 550.8 \r\nL 693.478125 496.44 \r\n\" style=\"fill:none;\"/>\r\n    <path clip-path=\"url(#pcb754f007c)\" d=\"M 760.438125 496.44 \r\nL 827.398125 496.44 \r\nL 827.398125 550.8 \r\nL 760.438125 550.8 \r\nL 760.438125 496.44 \r\n\" style=\"fill:none;\"/>\r\n    <path clip-path=\"url(#pcb754f007c)\" d=\"M 23.878125 550.8 \r\nL 90.838125 550.8 \r\nL 90.838125 605.16 \r\nL 23.878125 605.16 \r\nL 23.878125 550.8 \r\n\" style=\"fill:none;\"/>\r\n    <path clip-path=\"url(#pcb754f007c)\" d=\"M 90.838125 550.8 \r\nL 157.798125 550.8 \r\nL 157.798125 605.16 \r\nL 90.838125 605.16 \r\nL 90.838125 550.8 \r\n\" style=\"fill:none;\"/>\r\n    <path clip-path=\"url(#pcb754f007c)\" d=\"M 157.798125 550.8 \r\nL 224.758125 550.8 \r\nL 224.758125 605.16 \r\nL 157.798125 605.16 \r\nL 157.798125 550.8 \r\n\" style=\"fill:none;\"/>\r\n    <path clip-path=\"url(#pcb754f007c)\" d=\"M 224.758125 550.8 \r\nL 291.718125 550.8 \r\nL 291.718125 605.16 \r\nL 224.758125 605.16 \r\nL 224.758125 550.8 \r\n\" style=\"fill:none;\"/>\r\n    <path clip-path=\"url(#pcb754f007c)\" d=\"M 291.718125 550.8 \r\nL 358.678125 550.8 \r\nL 358.678125 605.16 \r\nL 291.718125 605.16 \r\nL 291.718125 550.8 \r\n\" style=\"fill:none;\"/>\r\n    <path clip-path=\"url(#pcb754f007c)\" d=\"M 358.678125 550.8 \r\nL 425.638125 550.8 \r\nL 425.638125 605.16 \r\nL 358.678125 605.16 \r\nL 358.678125 550.8 \r\n\" style=\"fill:none;\"/>\r\n    <path clip-path=\"url(#pcb754f007c)\" d=\"M 425.638125 550.8 \r\nL 492.598125 550.8 \r\nL 492.598125 605.16 \r\nL 425.638125 605.16 \r\nL 425.638125 550.8 \r\n\" style=\"fill:none;\"/>\r\n    <path clip-path=\"url(#pcb754f007c)\" d=\"M 492.598125 550.8 \r\nL 559.558125 550.8 \r\nL 559.558125 605.16 \r\nL 492.598125 605.16 \r\nL 492.598125 550.8 \r\n\" style=\"fill:none;\"/>\r\n    <path clip-path=\"url(#pcb754f007c)\" d=\"M 559.558125 550.8 \r\nL 626.518125 550.8 \r\nL 626.518125 605.16 \r\nL 559.558125 605.16 \r\nL 559.558125 550.8 \r\n\" style=\"fill:#faebdd;\"/>\r\n    <path clip-path=\"url(#pcb754f007c)\" d=\"M 626.518125 550.8 \r\nL 693.478125 550.8 \r\nL 693.478125 605.16 \r\nL 626.518125 605.16 \r\nL 626.518125 550.8 \r\n\" style=\"fill:none;\"/>\r\n    <path clip-path=\"url(#pcb754f007c)\" d=\"M 693.478125 550.8 \r\nL 760.438125 550.8 \r\nL 760.438125 605.16 \r\nL 693.478125 605.16 \r\nL 693.478125 550.8 \r\n\" style=\"fill:none;\"/>\r\n    <path clip-path=\"url(#pcb754f007c)\" d=\"M 760.438125 550.8 \r\nL 827.398125 550.8 \r\nL 827.398125 605.16 \r\nL 760.438125 605.16 \r\nL 760.438125 550.8 \r\n\" style=\"fill:none;\"/>\r\n    <path clip-path=\"url(#pcb754f007c)\" d=\"M 23.878125 605.16 \r\nL 90.838125 605.16 \r\nL 90.838125 659.52 \r\nL 23.878125 659.52 \r\nL 23.878125 605.16 \r\n\" style=\"fill:none;\"/>\r\n    <path clip-path=\"url(#pcb754f007c)\" d=\"M 90.838125 605.16 \r\nL 157.798125 605.16 \r\nL 157.798125 659.52 \r\nL 90.838125 659.52 \r\nL 90.838125 605.16 \r\n\" style=\"fill:none;\"/>\r\n    <path clip-path=\"url(#pcb754f007c)\" d=\"M 157.798125 605.16 \r\nL 224.758125 605.16 \r\nL 224.758125 659.52 \r\nL 157.798125 659.52 \r\nL 157.798125 605.16 \r\n\" style=\"fill:none;\"/>\r\n    <path clip-path=\"url(#pcb754f007c)\" d=\"M 224.758125 605.16 \r\nL 291.718125 605.16 \r\nL 291.718125 659.52 \r\nL 224.758125 659.52 \r\nL 224.758125 605.16 \r\n\" style=\"fill:none;\"/>\r\n    <path clip-path=\"url(#pcb754f007c)\" d=\"M 291.718125 605.16 \r\nL 358.678125 605.16 \r\nL 358.678125 659.52 \r\nL 291.718125 659.52 \r\nL 291.718125 605.16 \r\n\" style=\"fill:none;\"/>\r\n    <path clip-path=\"url(#pcb754f007c)\" d=\"M 358.678125 605.16 \r\nL 425.638125 605.16 \r\nL 425.638125 659.52 \r\nL 358.678125 659.52 \r\nL 358.678125 605.16 \r\n\" style=\"fill:none;\"/>\r\n    <path clip-path=\"url(#pcb754f007c)\" d=\"M 425.638125 605.16 \r\nL 492.598125 605.16 \r\nL 492.598125 659.52 \r\nL 425.638125 659.52 \r\nL 425.638125 605.16 \r\n\" style=\"fill:none;\"/>\r\n    <path clip-path=\"url(#pcb754f007c)\" d=\"M 492.598125 605.16 \r\nL 559.558125 605.16 \r\nL 559.558125 659.52 \r\nL 492.598125 659.52 \r\nL 492.598125 605.16 \r\n\" style=\"fill:none;\"/>\r\n    <path clip-path=\"url(#pcb754f007c)\" d=\"M 559.558125 605.16 \r\nL 626.518125 605.16 \r\nL 626.518125 659.52 \r\nL 559.558125 659.52 \r\nL 559.558125 605.16 \r\n\" style=\"fill:none;\"/>\r\n    <path clip-path=\"url(#pcb754f007c)\" d=\"M 626.518125 605.16 \r\nL 693.478125 605.16 \r\nL 693.478125 659.52 \r\nL 626.518125 659.52 \r\nL 626.518125 605.16 \r\n\" style=\"fill:none;\"/>\r\n    <path clip-path=\"url(#pcb754f007c)\" d=\"M 693.478125 605.16 \r\nL 760.438125 605.16 \r\nL 760.438125 659.52 \r\nL 693.478125 659.52 \r\nL 693.478125 605.16 \r\n\" style=\"fill:none;\"/>\r\n    <path clip-path=\"url(#pcb754f007c)\" d=\"M 760.438125 605.16 \r\nL 827.398125 605.16 \r\nL 827.398125 659.52 \r\nL 760.438125 659.52 \r\nL 760.438125 605.16 \r\n\" style=\"fill:none;\"/>\r\n   </g>\r\n   <g id=\"matplotlib.axis_1\">\r\n    <g id=\"xtick_1\">\r\n     <g id=\"line2d_1\">\r\n      <defs>\r\n       <path d=\"M 0 0 \r\nL 0 3.5 \r\n\" id=\"m850a6f051f\" style=\"stroke:#000000;stroke-width:0.8;\"/>\r\n      </defs>\r\n      <g>\r\n       <use style=\"stroke:#000000;stroke-width:0.8;\" x=\"57.358125\" xlink:href=\"#m850a6f051f\" y=\"659.52\"/>\r\n      </g>\r\n     </g>\r\n     <g id=\"text_1\">\r\n      <!-- ADV -->\r\n      <g transform=\"translate(46.755 674.118438)scale(0.1 -0.1)\">\r\n       <defs>\r\n        <path d=\"M 34.1875 63.1875 \r\nL 20.796875 26.90625 \r\nL 47.609375 26.90625 \r\nz\r\nM 28.609375 72.90625 \r\nL 39.796875 72.90625 \r\nL 67.578125 0 \r\nL 57.328125 0 \r\nL 50.6875 18.703125 \r\nL 17.828125 18.703125 \r\nL 11.1875 0 \r\nL 0.78125 0 \r\nz\r\n\" id=\"DejaVuSans-65\"/>\r\n        <path d=\"M 19.671875 64.796875 \r\nL 19.671875 8.109375 \r\nL 31.59375 8.109375 \r\nQ 46.6875 8.109375 53.6875 14.9375 \r\nQ 60.6875 21.78125 60.6875 36.53125 \r\nQ 60.6875 51.171875 53.6875 57.984375 \r\nQ 46.6875 64.796875 31.59375 64.796875 \r\nz\r\nM 9.8125 72.90625 \r\nL 30.078125 72.90625 \r\nQ 51.265625 72.90625 61.171875 64.09375 \r\nQ 71.09375 55.28125 71.09375 36.53125 \r\nQ 71.09375 17.671875 61.125 8.828125 \r\nQ 51.171875 0 30.078125 0 \r\nL 9.8125 0 \r\nz\r\n\" id=\"DejaVuSans-68\"/>\r\n        <path d=\"M 28.609375 0 \r\nL 0.78125 72.90625 \r\nL 11.078125 72.90625 \r\nL 34.1875 11.53125 \r\nL 57.328125 72.90625 \r\nL 67.578125 72.90625 \r\nL 39.796875 0 \r\nz\r\n\" id=\"DejaVuSans-86\"/>\r\n       </defs>\r\n       <use xlink:href=\"#DejaVuSans-65\"/>\r\n       <use x=\"68.408203\" xlink:href=\"#DejaVuSans-68\"/>\r\n       <use x=\"143.660156\" xlink:href=\"#DejaVuSans-86\"/>\r\n      </g>\r\n     </g>\r\n    </g>\r\n    <g id=\"xtick_2\">\r\n     <g id=\"line2d_2\">\r\n      <g>\r\n       <use style=\"stroke:#000000;stroke-width:0.8;\" x=\"124.318125\" xlink:href=\"#m850a6f051f\" y=\"659.52\"/>\r\n      </g>\r\n     </g>\r\n     <g id=\"text_2\">\r\n      <!-- PRON -->\r\n      <g transform=\"translate(110.1525 674.118438)scale(0.1 -0.1)\">\r\n       <defs>\r\n        <path d=\"M 19.671875 64.796875 \r\nL 19.671875 37.40625 \r\nL 32.078125 37.40625 \r\nQ 38.96875 37.40625 42.71875 40.96875 \r\nQ 46.484375 44.53125 46.484375 51.125 \r\nQ 46.484375 57.671875 42.71875 61.234375 \r\nQ 38.96875 64.796875 32.078125 64.796875 \r\nz\r\nM 9.8125 72.90625 \r\nL 32.078125 72.90625 \r\nQ 44.34375 72.90625 50.609375 67.359375 \r\nQ 56.890625 61.8125 56.890625 51.125 \r\nQ 56.890625 40.328125 50.609375 34.8125 \r\nQ 44.34375 29.296875 32.078125 29.296875 \r\nL 19.671875 29.296875 \r\nL 19.671875 0 \r\nL 9.8125 0 \r\nz\r\n\" id=\"DejaVuSans-80\"/>\r\n        <path d=\"M 44.390625 34.1875 \r\nQ 47.5625 33.109375 50.5625 29.59375 \r\nQ 53.5625 26.078125 56.59375 19.921875 \r\nL 66.609375 0 \r\nL 56 0 \r\nL 46.6875 18.703125 \r\nQ 43.0625 26.03125 39.671875 28.421875 \r\nQ 36.28125 30.8125 30.421875 30.8125 \r\nL 19.671875 30.8125 \r\nL 19.671875 0 \r\nL 9.8125 0 \r\nL 9.8125 72.90625 \r\nL 32.078125 72.90625 \r\nQ 44.578125 72.90625 50.734375 67.671875 \r\nQ 56.890625 62.453125 56.890625 51.90625 \r\nQ 56.890625 45.015625 53.6875 40.46875 \r\nQ 50.484375 35.9375 44.390625 34.1875 \r\nz\r\nM 19.671875 64.796875 \r\nL 19.671875 38.921875 \r\nL 32.078125 38.921875 \r\nQ 39.203125 38.921875 42.84375 42.21875 \r\nQ 46.484375 45.515625 46.484375 51.90625 \r\nQ 46.484375 58.296875 42.84375 61.546875 \r\nQ 39.203125 64.796875 32.078125 64.796875 \r\nz\r\n\" id=\"DejaVuSans-82\"/>\r\n        <path d=\"M 39.40625 66.21875 \r\nQ 28.65625 66.21875 22.328125 58.203125 \r\nQ 16.015625 50.203125 16.015625 36.375 \r\nQ 16.015625 22.609375 22.328125 14.59375 \r\nQ 28.65625 6.59375 39.40625 6.59375 \r\nQ 50.140625 6.59375 56.421875 14.59375 \r\nQ 62.703125 22.609375 62.703125 36.375 \r\nQ 62.703125 50.203125 56.421875 58.203125 \r\nQ 50.140625 66.21875 39.40625 66.21875 \r\nz\r\nM 39.40625 74.21875 \r\nQ 54.734375 74.21875 63.90625 63.9375 \r\nQ 73.09375 53.65625 73.09375 36.375 \r\nQ 73.09375 19.140625 63.90625 8.859375 \r\nQ 54.734375 -1.421875 39.40625 -1.421875 \r\nQ 24.03125 -1.421875 14.8125 8.828125 \r\nQ 5.609375 19.09375 5.609375 36.375 \r\nQ 5.609375 53.65625 14.8125 63.9375 \r\nQ 24.03125 74.21875 39.40625 74.21875 \r\nz\r\n\" id=\"DejaVuSans-79\"/>\r\n        <path d=\"M 9.8125 72.90625 \r\nL 23.09375 72.90625 \r\nL 55.421875 11.921875 \r\nL 55.421875 72.90625 \r\nL 64.984375 72.90625 \r\nL 64.984375 0 \r\nL 51.703125 0 \r\nL 19.390625 60.984375 \r\nL 19.390625 0 \r\nL 9.8125 0 \r\nz\r\n\" id=\"DejaVuSans-78\"/>\r\n       </defs>\r\n       <use xlink:href=\"#DejaVuSans-80\"/>\r\n       <use x=\"60.302734\" xlink:href=\"#DejaVuSans-82\"/>\r\n       <use x=\"129.785156\" xlink:href=\"#DejaVuSans-79\"/>\r\n       <use x=\"208.496094\" xlink:href=\"#DejaVuSans-78\"/>\r\n      </g>\r\n     </g>\r\n    </g>\r\n    <g id=\"xtick_3\">\r\n     <g id=\"line2d_3\">\r\n      <g>\r\n       <use style=\"stroke:#000000;stroke-width:0.8;\" x=\"191.278125\" xlink:href=\"#m850a6f051f\" y=\"659.52\"/>\r\n      </g>\r\n     </g>\r\n     <g id=\"text_3\">\r\n      <!-- X -->\r\n      <g transform=\"translate(187.853125 674.118438)scale(0.1 -0.1)\">\r\n       <defs>\r\n        <path d=\"M 6.296875 72.90625 \r\nL 16.890625 72.90625 \r\nL 35.015625 45.796875 \r\nL 53.21875 72.90625 \r\nL 63.8125 72.90625 \r\nL 40.375 37.890625 \r\nL 65.375 0 \r\nL 54.78125 0 \r\nL 34.28125 31 \r\nL 13.625 0 \r\nL 2.984375 0 \r\nL 29 38.921875 \r\nz\r\n\" id=\"DejaVuSans-88\"/>\r\n       </defs>\r\n       <use xlink:href=\"#DejaVuSans-88\"/>\r\n      </g>\r\n     </g>\r\n    </g>\r\n    <g id=\"xtick_4\">\r\n     <g id=\"line2d_4\">\r\n      <g>\r\n       <use style=\"stroke:#000000;stroke-width:0.8;\" x=\"258.238125\" xlink:href=\"#m850a6f051f\" y=\"659.52\"/>\r\n      </g>\r\n     </g>\r\n     <g id=\"text_4\">\r\n      <!-- DET -->\r\n      <g transform=\"translate(248.174844 674.118438)scale(0.1 -0.1)\">\r\n       <defs>\r\n        <path d=\"M 9.8125 72.90625 \r\nL 55.90625 72.90625 \r\nL 55.90625 64.59375 \r\nL 19.671875 64.59375 \r\nL 19.671875 43.015625 \r\nL 54.390625 43.015625 \r\nL 54.390625 34.71875 \r\nL 19.671875 34.71875 \r\nL 19.671875 8.296875 \r\nL 56.78125 8.296875 \r\nL 56.78125 0 \r\nL 9.8125 0 \r\nz\r\n\" id=\"DejaVuSans-69\"/>\r\n        <path d=\"M -0.296875 72.90625 \r\nL 61.375 72.90625 \r\nL 61.375 64.59375 \r\nL 35.5 64.59375 \r\nL 35.5 0 \r\nL 25.59375 0 \r\nL 25.59375 64.59375 \r\nL -0.296875 64.59375 \r\nz\r\n\" id=\"DejaVuSans-84\"/>\r\n       </defs>\r\n       <use xlink:href=\"#DejaVuSans-68\"/>\r\n       <use x=\"77.001953\" xlink:href=\"#DejaVuSans-69\"/>\r\n       <use x=\"140.185547\" xlink:href=\"#DejaVuSans-84\"/>\r\n      </g>\r\n     </g>\r\n    </g>\r\n    <g id=\"xtick_5\">\r\n     <g id=\"line2d_5\">\r\n      <g>\r\n       <use style=\"stroke:#000000;stroke-width:0.8;\" x=\"325.198125\" xlink:href=\"#m850a6f051f\" y=\"659.52\"/>\r\n      </g>\r\n     </g>\r\n     <g id=\"text_5\">\r\n      <!-- PRT -->\r\n      <g transform=\"translate(316.017656 674.118438)scale(0.1 -0.1)\">\r\n       <use xlink:href=\"#DejaVuSans-80\"/>\r\n       <use x=\"60.302734\" xlink:href=\"#DejaVuSans-82\"/>\r\n       <use x=\"122.535156\" xlink:href=\"#DejaVuSans-84\"/>\r\n      </g>\r\n     </g>\r\n    </g>\r\n    <g id=\"xtick_6\">\r\n     <g id=\"line2d_6\">\r\n      <g>\r\n       <use style=\"stroke:#000000;stroke-width:0.8;\" x=\"392.158125\" xlink:href=\"#m850a6f051f\" y=\"659.52\"/>\r\n      </g>\r\n     </g>\r\n     <g id=\"text_6\">\r\n      <!-- ADP -->\r\n      <g transform=\"translate(381.872969 674.118438)scale(0.1 -0.1)\">\r\n       <use xlink:href=\"#DejaVuSans-65\"/>\r\n       <use x=\"68.408203\" xlink:href=\"#DejaVuSans-68\"/>\r\n       <use x=\"145.410156\" xlink:href=\"#DejaVuSans-80\"/>\r\n      </g>\r\n     </g>\r\n    </g>\r\n    <g id=\"xtick_7\">\r\n     <g id=\"line2d_7\">\r\n      <g>\r\n       <use style=\"stroke:#000000;stroke-width:0.8;\" x=\"459.118125\" xlink:href=\"#m850a6f051f\" y=\"659.52\"/>\r\n      </g>\r\n     </g>\r\n     <g id=\"text_7\">\r\n      <!-- VERB -->\r\n      <g transform=\"translate(445.63375 674.118438)scale(0.1 -0.1)\">\r\n       <defs>\r\n        <path d=\"M 19.671875 34.8125 \r\nL 19.671875 8.109375 \r\nL 35.5 8.109375 \r\nQ 43.453125 8.109375 47.28125 11.40625 \r\nQ 51.125 14.703125 51.125 21.484375 \r\nQ 51.125 28.328125 47.28125 31.5625 \r\nQ 43.453125 34.8125 35.5 34.8125 \r\nz\r\nM 19.671875 64.796875 \r\nL 19.671875 42.828125 \r\nL 34.28125 42.828125 \r\nQ 41.5 42.828125 45.03125 45.53125 \r\nQ 48.578125 48.25 48.578125 53.8125 \r\nQ 48.578125 59.328125 45.03125 62.0625 \r\nQ 41.5 64.796875 34.28125 64.796875 \r\nz\r\nM 9.8125 72.90625 \r\nL 35.015625 72.90625 \r\nQ 46.296875 72.90625 52.390625 68.21875 \r\nQ 58.5 63.53125 58.5 54.890625 \r\nQ 58.5 48.1875 55.375 44.234375 \r\nQ 52.25 40.28125 46.1875 39.3125 \r\nQ 53.46875 37.75 57.5 32.78125 \r\nQ 61.53125 27.828125 61.53125 20.40625 \r\nQ 61.53125 10.640625 54.890625 5.3125 \r\nQ 48.25 0 35.984375 0 \r\nL 9.8125 0 \r\nz\r\n\" id=\"DejaVuSans-66\"/>\r\n       </defs>\r\n       <use xlink:href=\"#DejaVuSans-86\"/>\r\n       <use x=\"68.408203\" xlink:href=\"#DejaVuSans-69\"/>\r\n       <use x=\"131.591797\" xlink:href=\"#DejaVuSans-82\"/>\r\n       <use x=\"201.074219\" xlink:href=\"#DejaVuSans-66\"/>\r\n      </g>\r\n     </g>\r\n    </g>\r\n    <g id=\"xtick_8\">\r\n     <g id=\"line2d_8\">\r\n      <g>\r\n       <use style=\"stroke:#000000;stroke-width:0.8;\" x=\"526.078125\" xlink:href=\"#m850a6f051f\" y=\"659.52\"/>\r\n      </g>\r\n     </g>\r\n     <g id=\"text_8\">\r\n      <!-- NUM -->\r\n      <g transform=\"translate(514.364063 674.118438)scale(0.1 -0.1)\">\r\n       <defs>\r\n        <path d=\"M 8.6875 72.90625 \r\nL 18.609375 72.90625 \r\nL 18.609375 28.609375 \r\nQ 18.609375 16.890625 22.84375 11.734375 \r\nQ 27.09375 6.59375 36.625 6.59375 \r\nQ 46.09375 6.59375 50.34375 11.734375 \r\nQ 54.59375 16.890625 54.59375 28.609375 \r\nL 54.59375 72.90625 \r\nL 64.5 72.90625 \r\nL 64.5 27.390625 \r\nQ 64.5 13.140625 57.4375 5.859375 \r\nQ 50.390625 -1.421875 36.625 -1.421875 \r\nQ 22.796875 -1.421875 15.734375 5.859375 \r\nQ 8.6875 13.140625 8.6875 27.390625 \r\nz\r\n\" id=\"DejaVuSans-85\"/>\r\n        <path d=\"M 9.8125 72.90625 \r\nL 24.515625 72.90625 \r\nL 43.109375 23.296875 \r\nL 61.8125 72.90625 \r\nL 76.515625 72.90625 \r\nL 76.515625 0 \r\nL 66.890625 0 \r\nL 66.890625 64.015625 \r\nL 48.09375 14.015625 \r\nL 38.1875 14.015625 \r\nL 19.390625 64.015625 \r\nL 19.390625 0 \r\nL 9.8125 0 \r\nz\r\n\" id=\"DejaVuSans-77\"/>\r\n       </defs>\r\n       <use xlink:href=\"#DejaVuSans-78\"/>\r\n       <use x=\"74.804688\" xlink:href=\"#DejaVuSans-85\"/>\r\n       <use x=\"147.998047\" xlink:href=\"#DejaVuSans-77\"/>\r\n      </g>\r\n     </g>\r\n    </g>\r\n    <g id=\"xtick_9\">\r\n     <g id=\"line2d_9\">\r\n      <g>\r\n       <use style=\"stroke:#000000;stroke-width:0.8;\" x=\"593.038125\" xlink:href=\"#m850a6f051f\" y=\"659.52\"/>\r\n      </g>\r\n     </g>\r\n     <g id=\"text_9\">\r\n      <!-- NOUN -->\r\n      <g transform=\"translate(577.961563 674.118438)scale(0.1 -0.1)\">\r\n       <use xlink:href=\"#DejaVuSans-78\"/>\r\n       <use x=\"74.804688\" xlink:href=\"#DejaVuSans-79\"/>\r\n       <use x=\"153.515625\" xlink:href=\"#DejaVuSans-85\"/>\r\n       <use x=\"226.708984\" xlink:href=\"#DejaVuSans-78\"/>\r\n      </g>\r\n     </g>\r\n    </g>\r\n    <g id=\"xtick_10\">\r\n     <g id=\"line2d_10\">\r\n      <g>\r\n       <use style=\"stroke:#000000;stroke-width:0.8;\" x=\"659.998125\" xlink:href=\"#m850a6f051f\" y=\"659.52\"/>\r\n      </g>\r\n     </g>\r\n     <g id=\"text_10\">\r\n      <!-- CONJ -->\r\n      <g transform=\"translate(647.355156 674.118438)scale(0.1 -0.1)\">\r\n       <defs>\r\n        <path d=\"M 64.40625 67.28125 \r\nL 64.40625 56.890625 \r\nQ 59.421875 61.53125 53.78125 63.8125 \r\nQ 48.140625 66.109375 41.796875 66.109375 \r\nQ 29.296875 66.109375 22.65625 58.46875 \r\nQ 16.015625 50.828125 16.015625 36.375 \r\nQ 16.015625 21.96875 22.65625 14.328125 \r\nQ 29.296875 6.6875 41.796875 6.6875 \r\nQ 48.140625 6.6875 53.78125 8.984375 \r\nQ 59.421875 11.28125 64.40625 15.921875 \r\nL 64.40625 5.609375 \r\nQ 59.234375 2.09375 53.4375 0.328125 \r\nQ 47.65625 -1.421875 41.21875 -1.421875 \r\nQ 24.65625 -1.421875 15.125 8.703125 \r\nQ 5.609375 18.84375 5.609375 36.375 \r\nQ 5.609375 53.953125 15.125 64.078125 \r\nQ 24.65625 74.21875 41.21875 74.21875 \r\nQ 47.75 74.21875 53.53125 72.484375 \r\nQ 59.328125 70.75 64.40625 67.28125 \r\nz\r\n\" id=\"DejaVuSans-67\"/>\r\n        <path d=\"M 9.8125 72.90625 \r\nL 19.671875 72.90625 \r\nL 19.671875 5.078125 \r\nQ 19.671875 -8.109375 14.671875 -14.0625 \r\nQ 9.671875 -20.015625 -1.421875 -20.015625 \r\nL -5.171875 -20.015625 \r\nL -5.171875 -11.71875 \r\nL -2.09375 -11.71875 \r\nQ 4.4375 -11.71875 7.125 -8.046875 \r\nQ 9.8125 -4.390625 9.8125 5.078125 \r\nz\r\n\" id=\"DejaVuSans-74\"/>\r\n       </defs>\r\n       <use xlink:href=\"#DejaVuSans-67\"/>\r\n       <use x=\"69.824219\" xlink:href=\"#DejaVuSans-79\"/>\r\n       <use x=\"148.535156\" xlink:href=\"#DejaVuSans-78\"/>\r\n       <use x=\"223.339844\" xlink:href=\"#DejaVuSans-74\"/>\r\n      </g>\r\n     </g>\r\n    </g>\r\n    <g id=\"xtick_11\">\r\n     <g id=\"line2d_11\">\r\n      <g>\r\n       <use style=\"stroke:#000000;stroke-width:0.8;\" x=\"726.958125\" xlink:href=\"#m850a6f051f\" y=\"659.52\"/>\r\n      </g>\r\n     </g>\r\n     <g id=\"text_11\">\r\n      <!-- ADJ -->\r\n      <g transform=\"translate(718.212813 674.118438)scale(0.1 -0.1)\">\r\n       <use xlink:href=\"#DejaVuSans-65\"/>\r\n       <use x=\"68.408203\" xlink:href=\"#DejaVuSans-68\"/>\r\n       <use x=\"145.410156\" xlink:href=\"#DejaVuSans-74\"/>\r\n      </g>\r\n     </g>\r\n    </g>\r\n    <g id=\"xtick_12\">\r\n     <g id=\"line2d_12\">\r\n      <g>\r\n       <use style=\"stroke:#000000;stroke-width:0.8;\" x=\"793.918125\" xlink:href=\"#m850a6f051f\" y=\"659.52\"/>\r\n      </g>\r\n     </g>\r\n     <g id=\"text_12\">\r\n      <!-- . -->\r\n      <g transform=\"translate(792.329063 674.118438)scale(0.1 -0.1)\">\r\n       <defs>\r\n        <path d=\"M 10.6875 12.40625 \r\nL 21 12.40625 \r\nL 21 0 \r\nL 10.6875 0 \r\nz\r\n\" id=\"DejaVuSans-46\"/>\r\n       </defs>\r\n       <use xlink:href=\"#DejaVuSans-46\"/>\r\n      </g>\r\n     </g>\r\n    </g>\r\n   </g>\r\n   <g id=\"matplotlib.axis_2\">\r\n    <g id=\"ytick_1\">\r\n     <g id=\"line2d_13\">\r\n      <defs>\r\n       <path d=\"M 0 0 \r\nL -3.5 0 \r\n\" id=\"m6e418b98ad\" style=\"stroke:#000000;stroke-width:0.8;\"/>\r\n      </defs>\r\n      <g>\r\n       <use style=\"stroke:#000000;stroke-width:0.8;\" x=\"23.878125\" xlink:href=\"#m6e418b98ad\" y=\"34.38\"/>\r\n      </g>\r\n     </g>\r\n     <g id=\"text_13\">\r\n      <!-- ADV -->\r\n      <g transform=\"translate(14.798437 51.787031)rotate(-90)scale(0.1 -0.1)\">\r\n       <use xlink:href=\"#DejaVuSans-65\"/>\r\n       <use x=\"68.408203\" xlink:href=\"#DejaVuSans-68\"/>\r\n       <use x=\"143.660156\" xlink:href=\"#DejaVuSans-86\"/>\r\n      </g>\r\n     </g>\r\n    </g>\r\n    <g id=\"ytick_2\">\r\n     <g id=\"line2d_14\">\r\n      <g>\r\n       <use style=\"stroke:#000000;stroke-width:0.8;\" x=\"23.878125\" xlink:href=\"#m6e418b98ad\" y=\"88.74\"/>\r\n      </g>\r\n     </g>\r\n     <g id=\"text_14\">\r\n      <!-- PRON -->\r\n      <g transform=\"translate(14.798437 113.272031)rotate(-90)scale(0.1 -0.1)\">\r\n       <use xlink:href=\"#DejaVuSans-80\"/>\r\n       <use x=\"60.302734\" xlink:href=\"#DejaVuSans-82\"/>\r\n       <use x=\"129.785156\" xlink:href=\"#DejaVuSans-79\"/>\r\n       <use x=\"208.496094\" xlink:href=\"#DejaVuSans-78\"/>\r\n      </g>\r\n     </g>\r\n    </g>\r\n    <g id=\"ytick_3\">\r\n     <g id=\"line2d_15\">\r\n      <g>\r\n       <use style=\"stroke:#000000;stroke-width:0.8;\" x=\"23.878125\" xlink:href=\"#m6e418b98ad\" y=\"143.1\"/>\r\n      </g>\r\n     </g>\r\n     <g id=\"text_15\">\r\n      <!-- X -->\r\n      <g transform=\"translate(14.798437 146.150781)rotate(-90)scale(0.1 -0.1)\">\r\n       <use xlink:href=\"#DejaVuSans-88\"/>\r\n      </g>\r\n     </g>\r\n    </g>\r\n    <g id=\"ytick_4\">\r\n     <g id=\"line2d_16\">\r\n      <g>\r\n       <use style=\"stroke:#000000;stroke-width:0.8;\" x=\"23.878125\" xlink:href=\"#m6e418b98ad\" y=\"197.46\"/>\r\n      </g>\r\n     </g>\r\n     <g id=\"text_16\">\r\n      <!-- DET -->\r\n      <g transform=\"translate(14.798437 213.787344)rotate(-90)scale(0.1 -0.1)\">\r\n       <use xlink:href=\"#DejaVuSans-68\"/>\r\n       <use x=\"77.001953\" xlink:href=\"#DejaVuSans-69\"/>\r\n       <use x=\"140.185547\" xlink:href=\"#DejaVuSans-84\"/>\r\n      </g>\r\n     </g>\r\n    </g>\r\n    <g id=\"ytick_5\">\r\n     <g id=\"line2d_17\">\r\n      <g>\r\n       <use style=\"stroke:#000000;stroke-width:0.8;\" x=\"23.878125\" xlink:href=\"#m6e418b98ad\" y=\"251.82\"/>\r\n      </g>\r\n     </g>\r\n     <g id=\"text_17\">\r\n      <!-- PRT -->\r\n      <g transform=\"translate(14.798437 266.381719)rotate(-90)scale(0.1 -0.1)\">\r\n       <use xlink:href=\"#DejaVuSans-80\"/>\r\n       <use x=\"60.302734\" xlink:href=\"#DejaVuSans-82\"/>\r\n       <use x=\"122.535156\" xlink:href=\"#DejaVuSans-84\"/>\r\n      </g>\r\n     </g>\r\n    </g>\r\n    <g id=\"ytick_6\">\r\n     <g id=\"line2d_18\">\r\n      <g>\r\n       <use style=\"stroke:#000000;stroke-width:0.8;\" x=\"23.878125\" xlink:href=\"#m6e418b98ad\" y=\"306.18\"/>\r\n      </g>\r\n     </g>\r\n     <g id=\"text_18\">\r\n      <!-- ADP -->\r\n      <g transform=\"translate(14.798437 322.951094)rotate(-90)scale(0.1 -0.1)\">\r\n       <use xlink:href=\"#DejaVuSans-65\"/>\r\n       <use x=\"68.408203\" xlink:href=\"#DejaVuSans-68\"/>\r\n       <use x=\"145.410156\" xlink:href=\"#DejaVuSans-80\"/>\r\n      </g>\r\n     </g>\r\n    </g>\r\n    <g id=\"ytick_7\">\r\n     <g id=\"line2d_19\">\r\n      <g>\r\n       <use style=\"stroke:#000000;stroke-width:0.8;\" x=\"23.878125\" xlink:href=\"#m6e418b98ad\" y=\"360.54\"/>\r\n      </g>\r\n     </g>\r\n     <g id=\"text_19\">\r\n      <!-- VERB -->\r\n      <g transform=\"translate(14.798437 383.709531)rotate(-90)scale(0.1 -0.1)\">\r\n       <use xlink:href=\"#DejaVuSans-86\"/>\r\n       <use x=\"68.408203\" xlink:href=\"#DejaVuSans-69\"/>\r\n       <use x=\"131.591797\" xlink:href=\"#DejaVuSans-82\"/>\r\n       <use x=\"201.074219\" xlink:href=\"#DejaVuSans-66\"/>\r\n      </g>\r\n     </g>\r\n    </g>\r\n    <g id=\"ytick_8\">\r\n     <g id=\"line2d_20\">\r\n      <g>\r\n       <use style=\"stroke:#000000;stroke-width:0.8;\" x=\"23.878125\" xlink:href=\"#m6e418b98ad\" y=\"414.9\"/>\r\n      </g>\r\n     </g>\r\n     <g id=\"text_20\">\r\n      <!-- NUM -->\r\n      <g transform=\"translate(14.798437 434.528906)rotate(-90)scale(0.1 -0.1)\">\r\n       <use xlink:href=\"#DejaVuSans-78\"/>\r\n       <use x=\"74.804688\" xlink:href=\"#DejaVuSans-85\"/>\r\n       <use x=\"147.998047\" xlink:href=\"#DejaVuSans-77\"/>\r\n      </g>\r\n     </g>\r\n    </g>\r\n    <g id=\"ytick_9\">\r\n     <g id=\"line2d_21\">\r\n      <g>\r\n       <use style=\"stroke:#000000;stroke-width:0.8;\" x=\"23.878125\" xlink:href=\"#m6e418b98ad\" y=\"469.26\"/>\r\n      </g>\r\n     </g>\r\n     <g id=\"text_21\">\r\n      <!-- NOUN -->\r\n      <g transform=\"translate(14.798437 495.613906)rotate(-90)scale(0.1 -0.1)\">\r\n       <use xlink:href=\"#DejaVuSans-78\"/>\r\n       <use x=\"74.804688\" xlink:href=\"#DejaVuSans-79\"/>\r\n       <use x=\"153.515625\" xlink:href=\"#DejaVuSans-85\"/>\r\n       <use x=\"226.708984\" xlink:href=\"#DejaVuSans-78\"/>\r\n      </g>\r\n     </g>\r\n    </g>\r\n    <g id=\"ytick_10\">\r\n     <g id=\"line2d_22\">\r\n      <g>\r\n       <use style=\"stroke:#000000;stroke-width:0.8;\" x=\"23.878125\" xlink:href=\"#m6e418b98ad\" y=\"523.62\"/>\r\n      </g>\r\n     </g>\r\n     <g id=\"text_22\">\r\n      <!-- CONJ -->\r\n      <g transform=\"translate(14.798437 545.106719)rotate(-90)scale(0.1 -0.1)\">\r\n       <use xlink:href=\"#DejaVuSans-67\"/>\r\n       <use x=\"69.824219\" xlink:href=\"#DejaVuSans-79\"/>\r\n       <use x=\"148.535156\" xlink:href=\"#DejaVuSans-78\"/>\r\n       <use x=\"223.339844\" xlink:href=\"#DejaVuSans-74\"/>\r\n      </g>\r\n     </g>\r\n    </g>\r\n    <g id=\"ytick_11\">\r\n     <g id=\"line2d_23\">\r\n      <g>\r\n       <use style=\"stroke:#000000;stroke-width:0.8;\" x=\"23.878125\" xlink:href=\"#m6e418b98ad\" y=\"577.98\"/>\r\n      </g>\r\n     </g>\r\n     <g id=\"text_23\">\r\n      <!-- ADJ -->\r\n      <g transform=\"translate(14.798437 591.671406)rotate(-90)scale(0.1 -0.1)\">\r\n       <use xlink:href=\"#DejaVuSans-65\"/>\r\n       <use x=\"68.408203\" xlink:href=\"#DejaVuSans-68\"/>\r\n       <use x=\"145.410156\" xlink:href=\"#DejaVuSans-74\"/>\r\n      </g>\r\n     </g>\r\n    </g>\r\n    <g id=\"ytick_12\">\r\n     <g id=\"line2d_24\">\r\n      <g>\r\n       <use style=\"stroke:#000000;stroke-width:0.8;\" x=\"23.878125\" xlink:href=\"#m6e418b98ad\" y=\"632.34\"/>\r\n      </g>\r\n     </g>\r\n     <g id=\"text_24\">\r\n      <!-- . -->\r\n      <g transform=\"translate(14.798437 631.718906)rotate(-90)scale(0.1 -0.1)\">\r\n       <use xlink:href=\"#DejaVuSans-46\"/>\r\n      </g>\r\n     </g>\r\n    </g>\r\n   </g>\r\n  </g>\r\n  <g id=\"axes_2\">\r\n   <g id=\"patch_3\">\r\n    <path clip-path=\"url(#p07609b1886)\" d=\"M 877.618125 659.52 \r\nL 877.618125 656.971875 \r\nL 877.618125 9.748125 \r\nL 877.618125 7.2 \r\nL 910.234125 7.2 \r\nL 910.234125 9.748125 \r\nL 910.234125 656.971875 \r\nL 910.234125 659.52 \r\nz\r\n\" style=\"fill:#ffffff;stroke:#ffffff;stroke-linejoin:miter;stroke-width:0.01;\"/>\r\n   </g>\r\n   <image height=\"652\" id=\"image8776688da7\" transform=\"scale(1 -1)translate(0 -652)\" width=\"32\" x=\"878\" xlink:href=\"data:image/png;base64,\r\niVBORw0KGgoAAAANSUhEUgAAACAAAAKMCAYAAACKO7pIAAADKklEQVR4nO3di20kMQwEUVHmJXH552mHUQPoKYEtUMUmZ8ef+fn3//eE55Yffs45OzHAByowbQ3yCuQAriAH2DmPXwEJc4C9r1+BNswBSCgJc4C9r+cACXMASZgD6AJJmAOQ0FqeAxhG2jAHMIxImAOQcGdahrwCOYCNKAewEZEwByAhCXMAEpIwByAhCXMAz4a+oMgBSJgD6ALDKAeQA9owByChCuQAfsvG03EOYCOShDmAjSgH0AWSMAfYmqD+fEnYA0hCSZgDSEJtmAMYRjmAHDCMcgBRrA1zADmgDXMAr2y8sskBDCOzIAcgYQ6gC0iYA1hK7YQ5AAklYQ5gHJMwBzCMzIIcQA7kAHJADuQAckAb5gByYG/634w+UIEcQBJKwhyAhDmAYSQHcgA5YCPKAeSANswBXIEkzAEkoTbMAVxBDrDzehSTMAdwBTaiHMBGpA1zADmgDXOAvae18AMVeL0NcwDDKAcQxXt/H0/CHEAOaMMcwEZkI8oBdkgYA9Sf3wO4ghxADpAwByChnTAH2Bs/GvUVeL4NcwDDaCf+IZK8AjnA3tevwLdkOQAJcwBRTMIcYOM/1vuJCpCwPXJAG+YAckAb5gA78bvbD1RAEsaHhDmAYWQY5QA7McIHKkDC+BhGNqIcgIQqkAPIgRxAF9gJcwBLKQlzAElIwhxgjyQkYXxcgQrkAFsj5BXIAXQBCXMAEpIwB9iJf9err0CNkFcgByAhCXOAPc9L+Hwb5gByIAeQA3IgByChCuQAO/FPsfQVIGEN4Ar23JYhr0AOQEI7YQ5AwhxgT/zO5gMVIGF8XMGOjSg+JDQLcgASejbMAUiYA4hiEuYAllIS5gCSkIQ5gKV0z+tvTnMAEqpADmAY5QA2IjmQA3h7rg1zADmgAjmAJyMS5gCGEQlzAFeQAxhGJMwBXIFxnAOQkIQ5AAlJmAOQMAdwBXIgByAhCXMAEpIwByDhzvykAHkFcgASqkAOYBjlALqAhDnAnvv4PkDCHEASkjAH8GSkDXMAOUDCHICEOYC1nIQ5gCjeIWF8SCgJcwDjmIQ5gCTMAewDJMwBRLFxnAP8AaqnMNcomXVLAAAAAElFTkSuQmCC\" y=\"-7\"/>\r\n   <g id=\"matplotlib.axis_3\"/>\r\n   <g id=\"matplotlib.axis_4\">\r\n    <g id=\"ytick_13\">\r\n     <g id=\"line2d_25\">\r\n      <defs>\r\n       <path d=\"M 0 0 \r\nL 3.5 0 \r\n\" id=\"mbe6df1b2f6\" style=\"stroke:#000000;stroke-width:0.8;\"/>\r\n      </defs>\r\n      <g>\r\n       <use style=\"stroke:#000000;stroke-width:0.8;\" x=\"910.234125\" xlink:href=\"#mbe6df1b2f6\" y=\"644.809601\"/>\r\n      </g>\r\n     </g>\r\n     <g id=\"text_25\">\r\n      <!-- 0.64 -->\r\n      <g transform=\"translate(917.234125 648.60882)scale(0.1 -0.1)\">\r\n       <defs>\r\n        <path d=\"M 31.78125 66.40625 \r\nQ 24.171875 66.40625 20.328125 58.90625 \r\nQ 16.5 51.421875 16.5 36.375 \r\nQ 16.5 21.390625 20.328125 13.890625 \r\nQ 24.171875 6.390625 31.78125 6.390625 \r\nQ 39.453125 6.390625 43.28125 13.890625 \r\nQ 47.125 21.390625 47.125 36.375 \r\nQ 47.125 51.421875 43.28125 58.90625 \r\nQ 39.453125 66.40625 31.78125 66.40625 \r\nz\r\nM 31.78125 74.21875 \r\nQ 44.046875 74.21875 50.515625 64.515625 \r\nQ 56.984375 54.828125 56.984375 36.375 \r\nQ 56.984375 17.96875 50.515625 8.265625 \r\nQ 44.046875 -1.421875 31.78125 -1.421875 \r\nQ 19.53125 -1.421875 13.0625 8.265625 \r\nQ 6.59375 17.96875 6.59375 36.375 \r\nQ 6.59375 54.828125 13.0625 64.515625 \r\nQ 19.53125 74.21875 31.78125 74.21875 \r\nz\r\n\" id=\"DejaVuSans-48\"/>\r\n        <path d=\"M 33.015625 40.375 \r\nQ 26.375 40.375 22.484375 35.828125 \r\nQ 18.609375 31.296875 18.609375 23.390625 \r\nQ 18.609375 15.53125 22.484375 10.953125 \r\nQ 26.375 6.390625 33.015625 6.390625 \r\nQ 39.65625 6.390625 43.53125 10.953125 \r\nQ 47.40625 15.53125 47.40625 23.390625 \r\nQ 47.40625 31.296875 43.53125 35.828125 \r\nQ 39.65625 40.375 33.015625 40.375 \r\nz\r\nM 52.59375 71.296875 \r\nL 52.59375 62.3125 \r\nQ 48.875 64.0625 45.09375 64.984375 \r\nQ 41.3125 65.921875 37.59375 65.921875 \r\nQ 27.828125 65.921875 22.671875 59.328125 \r\nQ 17.53125 52.734375 16.796875 39.40625 \r\nQ 19.671875 43.65625 24.015625 45.921875 \r\nQ 28.375 48.1875 33.59375 48.1875 \r\nQ 44.578125 48.1875 50.953125 41.515625 \r\nQ 57.328125 34.859375 57.328125 23.390625 \r\nQ 57.328125 12.15625 50.6875 5.359375 \r\nQ 44.046875 -1.421875 33.015625 -1.421875 \r\nQ 20.359375 -1.421875 13.671875 8.265625 \r\nQ 6.984375 17.96875 6.984375 36.375 \r\nQ 6.984375 53.65625 15.1875 63.9375 \r\nQ 23.390625 74.21875 37.203125 74.21875 \r\nQ 40.921875 74.21875 44.703125 73.484375 \r\nQ 48.484375 72.75 52.59375 71.296875 \r\nz\r\n\" id=\"DejaVuSans-54\"/>\r\n        <path d=\"M 37.796875 64.3125 \r\nL 12.890625 25.390625 \r\nL 37.796875 25.390625 \r\nz\r\nM 35.203125 72.90625 \r\nL 47.609375 72.90625 \r\nL 47.609375 25.390625 \r\nL 58.015625 25.390625 \r\nL 58.015625 17.1875 \r\nL 47.609375 17.1875 \r\nL 47.609375 0 \r\nL 37.796875 0 \r\nL 37.796875 17.1875 \r\nL 4.890625 17.1875 \r\nL 4.890625 26.703125 \r\nz\r\n\" id=\"DejaVuSans-52\"/>\r\n       </defs>\r\n       <use xlink:href=\"#DejaVuSans-48\"/>\r\n       <use x=\"63.623047\" xlink:href=\"#DejaVuSans-46\"/>\r\n       <use x=\"95.410156\" xlink:href=\"#DejaVuSans-54\"/>\r\n       <use x=\"159.033203\" xlink:href=\"#DejaVuSans-52\"/>\r\n      </g>\r\n     </g>\r\n    </g>\r\n    <g id=\"ytick_14\">\r\n     <g id=\"line2d_26\">\r\n      <g>\r\n       <use style=\"stroke:#000000;stroke-width:0.8;\" x=\"910.234125\" xlink:href=\"#mbe6df1b2f6\" y=\"535.814799\"/>\r\n      </g>\r\n     </g>\r\n     <g id=\"text_26\">\r\n      <!-- 0.65 -->\r\n      <g transform=\"translate(917.234125 539.614018)scale(0.1 -0.1)\">\r\n       <defs>\r\n        <path d=\"M 10.796875 72.90625 \r\nL 49.515625 72.90625 \r\nL 49.515625 64.59375 \r\nL 19.828125 64.59375 \r\nL 19.828125 46.734375 \r\nQ 21.96875 47.46875 24.109375 47.828125 \r\nQ 26.265625 48.1875 28.421875 48.1875 \r\nQ 40.625 48.1875 47.75 41.5 \r\nQ 54.890625 34.8125 54.890625 23.390625 \r\nQ 54.890625 11.625 47.5625 5.09375 \r\nQ 40.234375 -1.421875 26.90625 -1.421875 \r\nQ 22.3125 -1.421875 17.546875 -0.640625 \r\nQ 12.796875 0.140625 7.71875 1.703125 \r\nL 7.71875 11.625 \r\nQ 12.109375 9.234375 16.796875 8.0625 \r\nQ 21.484375 6.890625 26.703125 6.890625 \r\nQ 35.15625 6.890625 40.078125 11.328125 \r\nQ 45.015625 15.765625 45.015625 23.390625 \r\nQ 45.015625 31 40.078125 35.4375 \r\nQ 35.15625 39.890625 26.703125 39.890625 \r\nQ 22.75 39.890625 18.8125 39.015625 \r\nQ 14.890625 38.140625 10.796875 36.28125 \r\nz\r\n\" id=\"DejaVuSans-53\"/>\r\n       </defs>\r\n       <use xlink:href=\"#DejaVuSans-48\"/>\r\n       <use x=\"63.623047\" xlink:href=\"#DejaVuSans-46\"/>\r\n       <use x=\"95.410156\" xlink:href=\"#DejaVuSans-54\"/>\r\n       <use x=\"159.033203\" xlink:href=\"#DejaVuSans-53\"/>\r\n      </g>\r\n     </g>\r\n    </g>\r\n    <g id=\"ytick_15\">\r\n     <g id=\"line2d_27\">\r\n      <g>\r\n       <use style=\"stroke:#000000;stroke-width:0.8;\" x=\"910.234125\" xlink:href=\"#mbe6df1b2f6\" y=\"426.819997\"/>\r\n      </g>\r\n     </g>\r\n     <g id=\"text_27\">\r\n      <!-- 0.66 -->\r\n      <g transform=\"translate(917.234125 430.619216)scale(0.1 -0.1)\">\r\n       <use xlink:href=\"#DejaVuSans-48\"/>\r\n       <use x=\"63.623047\" xlink:href=\"#DejaVuSans-46\"/>\r\n       <use x=\"95.410156\" xlink:href=\"#DejaVuSans-54\"/>\r\n       <use x=\"159.033203\" xlink:href=\"#DejaVuSans-54\"/>\r\n      </g>\r\n     </g>\r\n    </g>\r\n    <g id=\"ytick_16\">\r\n     <g id=\"line2d_28\">\r\n      <g>\r\n       <use style=\"stroke:#000000;stroke-width:0.8;\" x=\"910.234125\" xlink:href=\"#mbe6df1b2f6\" y=\"317.825196\"/>\r\n      </g>\r\n     </g>\r\n     <g id=\"text_28\">\r\n      <!-- 0.67 -->\r\n      <g transform=\"translate(917.234125 321.624414)scale(0.1 -0.1)\">\r\n       <defs>\r\n        <path d=\"M 8.203125 72.90625 \r\nL 55.078125 72.90625 \r\nL 55.078125 68.703125 \r\nL 28.609375 0 \r\nL 18.3125 0 \r\nL 43.21875 64.59375 \r\nL 8.203125 64.59375 \r\nz\r\n\" id=\"DejaVuSans-55\"/>\r\n       </defs>\r\n       <use xlink:href=\"#DejaVuSans-48\"/>\r\n       <use x=\"63.623047\" xlink:href=\"#DejaVuSans-46\"/>\r\n       <use x=\"95.410156\" xlink:href=\"#DejaVuSans-54\"/>\r\n       <use x=\"159.033203\" xlink:href=\"#DejaVuSans-55\"/>\r\n      </g>\r\n     </g>\r\n    </g>\r\n    <g id=\"ytick_17\">\r\n     <g id=\"line2d_29\">\r\n      <g>\r\n       <use style=\"stroke:#000000;stroke-width:0.8;\" x=\"910.234125\" xlink:href=\"#mbe6df1b2f6\" y=\"208.830394\"/>\r\n      </g>\r\n     </g>\r\n     <g id=\"text_29\">\r\n      <!-- 0.68 -->\r\n      <g transform=\"translate(917.234125 212.629613)scale(0.1 -0.1)\">\r\n       <defs>\r\n        <path d=\"M 31.78125 34.625 \r\nQ 24.75 34.625 20.71875 30.859375 \r\nQ 16.703125 27.09375 16.703125 20.515625 \r\nQ 16.703125 13.921875 20.71875 10.15625 \r\nQ 24.75 6.390625 31.78125 6.390625 \r\nQ 38.8125 6.390625 42.859375 10.171875 \r\nQ 46.921875 13.96875 46.921875 20.515625 \r\nQ 46.921875 27.09375 42.890625 30.859375 \r\nQ 38.875 34.625 31.78125 34.625 \r\nz\r\nM 21.921875 38.8125 \r\nQ 15.578125 40.375 12.03125 44.71875 \r\nQ 8.5 49.078125 8.5 55.328125 \r\nQ 8.5 64.0625 14.71875 69.140625 \r\nQ 20.953125 74.21875 31.78125 74.21875 \r\nQ 42.671875 74.21875 48.875 69.140625 \r\nQ 55.078125 64.0625 55.078125 55.328125 \r\nQ 55.078125 49.078125 51.53125 44.71875 \r\nQ 48 40.375 41.703125 38.8125 \r\nQ 48.828125 37.15625 52.796875 32.3125 \r\nQ 56.78125 27.484375 56.78125 20.515625 \r\nQ 56.78125 9.90625 50.3125 4.234375 \r\nQ 43.84375 -1.421875 31.78125 -1.421875 \r\nQ 19.734375 -1.421875 13.25 4.234375 \r\nQ 6.78125 9.90625 6.78125 20.515625 \r\nQ 6.78125 27.484375 10.78125 32.3125 \r\nQ 14.796875 37.15625 21.921875 38.8125 \r\nz\r\nM 18.3125 54.390625 \r\nQ 18.3125 48.734375 21.84375 45.5625 \r\nQ 25.390625 42.390625 31.78125 42.390625 \r\nQ 38.140625 42.390625 41.71875 45.5625 \r\nQ 45.3125 48.734375 45.3125 54.390625 \r\nQ 45.3125 60.0625 41.71875 63.234375 \r\nQ 38.140625 66.40625 31.78125 66.40625 \r\nQ 25.390625 66.40625 21.84375 63.234375 \r\nQ 18.3125 60.0625 18.3125 54.390625 \r\nz\r\n\" id=\"DejaVuSans-56\"/>\r\n       </defs>\r\n       <use xlink:href=\"#DejaVuSans-48\"/>\r\n       <use x=\"63.623047\" xlink:href=\"#DejaVuSans-46\"/>\r\n       <use x=\"95.410156\" xlink:href=\"#DejaVuSans-54\"/>\r\n       <use x=\"159.033203\" xlink:href=\"#DejaVuSans-56\"/>\r\n      </g>\r\n     </g>\r\n    </g>\r\n    <g id=\"ytick_18\">\r\n     <g id=\"line2d_30\">\r\n      <g>\r\n       <use style=\"stroke:#000000;stroke-width:0.8;\" x=\"910.234125\" xlink:href=\"#mbe6df1b2f6\" y=\"99.835592\"/>\r\n      </g>\r\n     </g>\r\n     <g id=\"text_30\">\r\n      <!-- 0.69 -->\r\n      <g transform=\"translate(917.234125 103.634811)scale(0.1 -0.1)\">\r\n       <defs>\r\n        <path d=\"M 10.984375 1.515625 \r\nL 10.984375 10.5 \r\nQ 14.703125 8.734375 18.5 7.8125 \r\nQ 22.3125 6.890625 25.984375 6.890625 \r\nQ 35.75 6.890625 40.890625 13.453125 \r\nQ 46.046875 20.015625 46.78125 33.40625 \r\nQ 43.953125 29.203125 39.59375 26.953125 \r\nQ 35.25 24.703125 29.984375 24.703125 \r\nQ 19.046875 24.703125 12.671875 31.3125 \r\nQ 6.296875 37.9375 6.296875 49.421875 \r\nQ 6.296875 60.640625 12.9375 67.421875 \r\nQ 19.578125 74.21875 30.609375 74.21875 \r\nQ 43.265625 74.21875 49.921875 64.515625 \r\nQ 56.59375 54.828125 56.59375 36.375 \r\nQ 56.59375 19.140625 48.40625 8.859375 \r\nQ 40.234375 -1.421875 26.421875 -1.421875 \r\nQ 22.703125 -1.421875 18.890625 -0.6875 \r\nQ 15.09375 0.046875 10.984375 1.515625 \r\nz\r\nM 30.609375 32.421875 \r\nQ 37.25 32.421875 41.125 36.953125 \r\nQ 45.015625 41.5 45.015625 49.421875 \r\nQ 45.015625 57.28125 41.125 61.84375 \r\nQ 37.25 66.40625 30.609375 66.40625 \r\nQ 23.96875 66.40625 20.09375 61.84375 \r\nQ 16.21875 57.28125 16.21875 49.421875 \r\nQ 16.21875 41.5 20.09375 36.953125 \r\nQ 23.96875 32.421875 30.609375 32.421875 \r\nz\r\n\" id=\"DejaVuSans-57\"/>\r\n       </defs>\r\n       <use xlink:href=\"#DejaVuSans-48\"/>\r\n       <use x=\"63.623047\" xlink:href=\"#DejaVuSans-46\"/>\r\n       <use x=\"95.410156\" xlink:href=\"#DejaVuSans-54\"/>\r\n       <use x=\"159.033203\" xlink:href=\"#DejaVuSans-57\"/>\r\n      </g>\r\n     </g>\r\n    </g>\r\n   </g>\r\n   <g id=\"patch_4\">\r\n    <path d=\"M 877.618125 659.52 \r\nL 877.618125 656.971875 \r\nL 877.618125 9.748125 \r\nL 877.618125 7.2 \r\nL 910.234125 7.2 \r\nL 910.234125 9.748125 \r\nL 910.234125 656.971875 \r\nL 910.234125 659.52 \r\nz\r\n\" style=\"fill:none;\"/>\r\n   </g>\r\n  </g>\r\n </g>\r\n <defs>\r\n  <clipPath id=\"pcb754f007c\">\r\n   <rect height=\"652.32\" width=\"803.52\" x=\"23.878125\" y=\"7.2\"/>\r\n  </clipPath>\r\n  <clipPath id=\"p07609b1886\">\r\n   <rect height=\"652.32\" width=\"32.616\" x=\"877.618125\" y=\"7.2\"/>\r\n  </clipPath>\r\n </defs>\r\n</svg>\r\n",
      "image/png": "[encoded data removed]"
     },
     "metadata": {
      "needs_background": "light"
     }
    }
   ],
   "source": [
    "# frequent tags\n",
    "# filter the df to get P(t2, t1) > 0.5\n",
    "tags_frequent = tags_df[tags_df>0.5]\n",
    "plt.figure(figsize=(18, 12))\n",
    "sns.heatmap(tags_frequent)\n",
    "plt.show()"
   ]
  },
  {
   "source": [
    "## Viterbi Algorithm\n",
    "\n",
    "We will use the vanilla Viterbi Algorithm using the emission and transition probability to calculate the tag of a word."
   ],
   "cell_type": "markdown",
   "metadata": {}
  },
  {
   "cell_type": "code",
   "execution_count": 20,
   "metadata": {},
   "outputs": [],
   "source": [
    "import functools\n",
    "import time\n",
    "\n",
    "def timer(func):\n",
    "    \"\"\"\n",
    "    A Decorator to log the execution time of a particular function \n",
    "    \"\"\"\n",
    "    @functools.wraps(func)\n",
    "    def wrapper_timer(*args, **kwargs):\n",
    "        start = time.time()\n",
    "        value = func(*args, **kwargs)\n",
    "        print(f'{func.__name__} processsing finished in {time.time()-start} seconds')\n",
    "        return value \n",
    "    wrapper_timer._original = func\n",
    "    return wrapper_timer\n",
    "\n",
    "# Viterbi Heuristic\n",
    "@timer\n",
    "def Viterbi(words, train_bag = train_tagged_words):\n",
    "    state = []\n",
    "    T = list(set([pair[1] for pair in train_bag]))\n",
    "    \n",
    "    for key, word in enumerate(words):\n",
    "        #initialise list of probability column for a given observation\n",
    "        p = [] \n",
    "        for tag in T:\n",
    "            if key == 0:\n",
    "                transition_p = tags_df.loc['.', tag]\n",
    "            else:\n",
    "                transition_p = tags_df.loc[state[-1], tag]\n",
    "                \n",
    "            # compute emission and state probabilities\n",
    "            emission_p = word_given_tag(words[key], tag)[0]/word_given_tag(words[key], tag)[1]\n",
    "            state_probability = emission_p * transition_p    \n",
    "            p.append(state_probability)\n",
    "            \n",
    "        pmax = max(p)\n",
    "        # getting state for which probability is maximum\n",
    "        state_max = T[p.index(pmax)] \n",
    "        state.append(state_max)\n",
    "    return list(zip(words, state))"
   ]
  },
  {
   "cell_type": "code",
   "execution_count": 21,
   "metadata": {},
   "outputs": [
    {
     "output_type": "execute_result",
     "data": {
      "text/plain": [
       "[[('``', '.'),\n",
       "  ('When', 'ADV'),\n",
       "  ('the', 'DET'),\n",
       "  ('sell', 'NOUN'),\n",
       "  ('programs', 'NOUN'),\n",
       "  ('hit', 'VERB'),\n",
       "  ('*T*-1', 'X'),\n",
       "  (',', '.'),\n",
       "  ('you', 'PRON'),\n",
       "  ('can', 'VERB'),\n",
       "  ('hear', 'VERB'),\n",
       "  ('the', 'DET'),\n",
       "  ('order', 'NOUN'),\n",
       "  ('printers', 'NOUN'),\n",
       "  ('start', 'VERB'),\n",
       "  ('*-2', 'X'),\n",
       "  ('to', 'PRT'),\n",
       "  ('go', 'VERB'),\n",
       "  (\"''\", '.'),\n",
       "  ('on', 'ADP'),\n",
       "  ('the', 'DET'),\n",
       "  ('Big', 'NOUN'),\n",
       "  ('Board', 'NOUN'),\n",
       "  ('trading', 'NOUN'),\n",
       "  ('floor', 'NOUN'),\n",
       "  (',', '.'),\n",
       "  ('says', 'VERB'),\n",
       "  ('0', 'X'),\n",
       "  ('*T*-3', 'X'),\n",
       "  ('one', 'NUM'),\n",
       "  ('specialist', 'NOUN'),\n",
       "  ('there', 'ADV'),\n",
       "  ('.', '.')],\n",
       " [('Gunmen', 'NOUN'),\n",
       "  ('in', 'ADP'),\n",
       "  ('Lebanon', 'NOUN'),\n",
       "  ('assassinated', 'VERB'),\n",
       "  ('a', 'DET'),\n",
       "  ('Saudi', 'NOUN'),\n",
       "  ('Arabian', 'NOUN'),\n",
       "  ('Embassy', 'NOUN'),\n",
       "  ('employee', 'NOUN'),\n",
       "  (',', '.'),\n",
       "  ('and', 'CONJ'),\n",
       "  ('the', 'DET'),\n",
       "  ('pro-Iranian', 'ADJ'),\n",
       "  ('Islamic', 'NOUN'),\n",
       "  ('Jihad', 'NOUN'),\n",
       "  ('took', 'VERB'),\n",
       "  ('responsibility', 'NOUN'),\n",
       "  ('for', 'ADP'),\n",
       "  ('the', 'DET'),\n",
       "  ('slaying', 'NOUN'),\n",
       "  ('0', 'X'),\n",
       "  ('*T*-1', 'X'),\n",
       "  ('to', 'PRT'),\n",
       "  ('avenge', 'VERB'),\n",
       "  ('the', 'DET'),\n",
       "  ('beheading', 'NOUN'),\n",
       "  ('of', 'ADP'),\n",
       "  ('16', 'NUM'),\n",
       "  ('terrorists', 'NOUN'),\n",
       "  ('by', 'ADP'),\n",
       "  ('Riyadh', 'NOUN'),\n",
       "  (\"'s\", 'PRT'),\n",
       "  ('government', 'NOUN'),\n",
       "  ('in', 'ADP'),\n",
       "  ('September', 'NOUN'),\n",
       "  ('.', '.')],\n",
       " [('Card', 'NOUN'),\n",
       "  ('holders', 'NOUN'),\n",
       "  ('who', 'PRON'),\n",
       "  ('*T*-59', 'X'),\n",
       "  ('receive', 'VERB'),\n",
       "  ('the', 'DET'),\n",
       "  ('letter', 'NOUN'),\n",
       "  ('also', 'ADV'),\n",
       "  ('are', 'VERB'),\n",
       "  ('eligible', 'ADJ'),\n",
       "  ('for', 'ADP'),\n",
       "  ('a', 'DET'),\n",
       "  ('sweepstakes', 'NOUN'),\n",
       "  ('with', 'ADP'),\n",
       "  ('Buick', 'NOUN'),\n",
       "  ('cars', 'NOUN'),\n",
       "  ('or', 'CONJ'),\n",
       "  ('a', 'DET'),\n",
       "  ('Hawaii', 'NOUN'),\n",
       "  ('vacation', 'NOUN'),\n",
       "  ('as', 'ADP'),\n",
       "  ('prizes', 'NOUN'),\n",
       "  ('.', '.')],\n",
       " [('The', 'DET'),\n",
       "  ('forthcoming', 'ADJ'),\n",
       "  ('maturity', 'NOUN'),\n",
       "  ('in', 'ADP'),\n",
       "  ('November', 'NOUN'),\n",
       "  ('of', 'ADP'),\n",
       "  ('a', 'DET'),\n",
       "  ('10-year', 'NUM'),\n",
       "  ('Japanese', 'ADJ'),\n",
       "  ('government', 'NOUN'),\n",
       "  ('yen-denominated', 'ADJ'),\n",
       "  ('bond', 'NOUN'),\n",
       "  ('issue', 'NOUN'),\n",
       "  ('valued', 'VERB'),\n",
       "  ('*', 'X'),\n",
       "  ('at', 'ADP'),\n",
       "  ('about', 'ADV'),\n",
       "  ('$', '.'),\n",
       "  ('16', 'NUM'),\n",
       "  ('billion', 'NUM'),\n",
       "  ('*U*', 'X'),\n",
       "  ('has', 'VERB'),\n",
       "  ('prompted', 'VERB'),\n",
       "  ('speculation', 'NOUN'),\n",
       "  ('*ICH*-2', 'X'),\n",
       "  ('in', 'ADP'),\n",
       "  ('the', 'DET'),\n",
       "  ('market', 'NOUN'),\n",
       "  ('that', 'ADP'),\n",
       "  ('investors', 'NOUN'),\n",
       "  ('redeeming', 'VERB'),\n",
       "  ('the', 'DET'),\n",
       "  ('bonds', 'NOUN'),\n",
       "  ('will', 'VERB'),\n",
       "  ('diversify', 'VERB'),\n",
       "  ('into', 'ADP'),\n",
       "  ('dollar-denominated', 'ADJ'),\n",
       "  ('instruments', 'NOUN'),\n",
       "  (',', '.'),\n",
       "  ('according', 'VERB'),\n",
       "  ('to', 'PRT'),\n",
       "  ('Mr.', 'NOUN'),\n",
       "  ('Madison', 'NOUN'),\n",
       "  ('.', '.')],\n",
       " [('Freeport-McMoRan', 'NOUN'),\n",
       "  ('Inc.', 'NOUN'),\n",
       "  ('said', 'VERB'),\n",
       "  ('0', 'X'),\n",
       "  ('it', 'PRON'),\n",
       "  ('will', 'VERB'),\n",
       "  ('convert', 'VERB'),\n",
       "  ('its', 'PRON'),\n",
       "  ('Freeport-McMoRan', 'NOUN'),\n",
       "  ('Energy', 'NOUN'),\n",
       "  ('Partners', 'NOUN'),\n",
       "  ('Ltd.', 'NOUN'),\n",
       "  ('partnership', 'NOUN'),\n",
       "  ('into', 'ADP'),\n",
       "  ('a', 'DET'),\n",
       "  ('publicly', 'ADV'),\n",
       "  ('traded', 'VERB'),\n",
       "  ('company', 'NOUN'),\n",
       "  ('through', 'ADP'),\n",
       "  ('the', 'DET'),\n",
       "  ('exchange', 'NOUN'),\n",
       "  ('of', 'ADP'),\n",
       "  ('units', 'NOUN'),\n",
       "  ('of', 'ADP'),\n",
       "  ('the', 'DET'),\n",
       "  ('partnership', 'NOUN'),\n",
       "  ('for', 'ADP'),\n",
       "  ('common', 'ADJ'),\n",
       "  ('shares', 'NOUN'),\n",
       "  ('.', '.')]]"
      ]
     },
     "metadata": {},
     "execution_count": 21
    }
   ],
   "source": [
    "# Running on entire test dataset would take more than 3-4hrs. \n",
    "# Let's test our Viterbi algorithm on a few sample sentences of test dataset\n",
    "\n",
    "random.seed(1234)\n",
    "\n",
    "# choose random 5 sents\n",
    "rndom = [random.randint(1,len(test_set)) for x in range(5)]\n",
    "\n",
    "# list of sents\n",
    "test_run = [test_set[i] for i in rndom]\n",
    "\n",
    "# list of tagged words\n",
    "test_run_base = [tup for sent in test_run for tup in sent]\n",
    "\n",
    "# list of untagged words\n",
    "test_tagged_words = [tup[0] for sent in test_run for tup in sent]\n",
    "test_run"
   ]
  },
  {
   "cell_type": "code",
   "execution_count": 22,
   "metadata": {},
   "outputs": [
    {
     "output_type": "stream",
     "name": "stdout",
     "text": [
      "Viterbi processsing finished in 20.037139654159546 seconds\n"
     ]
    }
   ],
   "source": [
    "# tagging the test sentences\n",
    "tagged_seq = Viterbi(test_tagged_words)"
   ]
  },
  {
   "cell_type": "code",
   "execution_count": 23,
   "metadata": {},
   "outputs": [
    {
     "output_type": "execute_result",
     "data": {
      "text/plain": [
       "[('``', '.'),\n",
       " ('When', 'ADV'),\n",
       " ('the', 'DET'),\n",
       " ('sell', 'VERB'),\n",
       " ('programs', 'NOUN'),\n",
       " ('hit', 'VERB'),\n",
       " ('*T*-1', 'X'),\n",
       " (',', '.'),\n",
       " ('you', 'PRON'),\n",
       " ('can', 'VERB')]"
      ]
     },
     "metadata": {},
     "execution_count": 23
    }
   ],
   "source": [
    "tagged_seq[:10]"
   ]
  },
  {
   "cell_type": "code",
   "execution_count": 24,
   "metadata": {},
   "outputs": [
    {
     "output_type": "stream",
     "name": "stdout",
     "text": [
      "Accuracy using Vanilla Viterbi Algorithm on Test Set: 86.75%\n"
     ]
    }
   ],
   "source": [
    "# accuracy\n",
    "check = [i for i, j in zip(tagged_seq, test_run_base) if i == j] \n",
    "vanilla_accuracy = len(check)/len(tagged_seq)\n",
    "print(f'Accuracy using Vanilla Viterbi Algorithm on Test Set: {vanilla_accuracy*100:.2f}%')"
   ]
  },
  {
   "source": [
    "The accuracy of the Vanilla Viterbi algorithm is limited by its vocabulary."
   ],
   "cell_type": "markdown",
   "metadata": {}
  },
  {
   "source": [
    "Lets check some incorrectly tagged cases."
   ],
   "cell_type": "markdown",
   "metadata": {}
  },
  {
   "cell_type": "code",
   "execution_count": 25,
   "metadata": {},
   "outputs": [
    {
     "output_type": "execute_result",
     "data": {
      "text/plain": [
       "[[('the', 'DET'), (('sell', 'VERB'), ('sell', 'NOUN'))],\n",
       " [('order', 'NOUN'), (('printers', 'ADV'), ('printers', 'NOUN'))],\n",
       " [('specialist', 'NOUN'), (('there', 'DET'), ('there', 'ADV'))],\n",
       " [('.', '.'), (('Gunmen', 'ADV'), ('Gunmen', 'NOUN'))],\n",
       " [('in', 'ADP'), (('Lebanon', 'ADV'), ('Lebanon', 'NOUN'))],\n",
       " [('Lebanon', 'NOUN'), (('assassinated', 'ADV'), ('assassinated', 'VERB'))],\n",
       " [('Saudi', 'NOUN'), (('Arabian', 'ADV'), ('Arabian', 'NOUN'))],\n",
       " [('the', 'DET'), (('pro-Iranian', 'ADV'), ('pro-Iranian', 'ADJ'))],\n",
       " [('pro-Iranian', 'ADJ'), (('Islamic', 'ADV'), ('Islamic', 'NOUN'))],\n",
       " [('the', 'DET'), (('slaying', 'ADV'), ('slaying', 'NOUN'))],\n",
       " [('to', 'PRT'), (('avenge', 'ADV'), ('avenge', 'VERB'))],\n",
       " [('the', 'DET'), (('beheading', 'ADV'), ('beheading', 'NOUN'))],\n",
       " [('16', 'NUM'), (('terrorists', 'ADV'), ('terrorists', 'NOUN'))],\n",
       " [('by', 'ADP'), (('Riyadh', 'ADV'), ('Riyadh', 'NOUN'))],\n",
       " [('.', '.'), (('Card', 'ADV'), ('Card', 'NOUN'))],\n",
       " [('a', 'DET'), (('sweepstakes', 'ADV'), ('sweepstakes', 'NOUN'))],\n",
       " [('The', 'DET'), (('forthcoming', 'ADV'), ('forthcoming', 'ADJ'))],\n",
       " [('a', 'DET'), (('10-year', 'ADJ'), ('10-year', 'NUM'))],\n",
       " [('government', 'NOUN'),\n",
       "  (('yen-denominated', 'ADV'), ('yen-denominated', 'ADJ'))],\n",
       " [('at', 'ADP'), (('about', 'ADP'), ('about', 'ADV'))],\n",
       " [('investors', 'NOUN'), (('redeeming', 'ADV'), ('redeeming', 'VERB'))],\n",
       " [('will', 'VERB'), (('convert', 'ADV'), ('convert', 'VERB'))]]"
      ]
     },
     "metadata": {},
     "execution_count": 25
    }
   ],
   "source": [
    "incorrect_tagged_cases = [[test_run_base[i-1],j] for i, j in enumerate(zip(tagged_seq, test_run_base)) if j[0]!=j[1]]\n",
    "incorrect_tagged_cases"
   ]
  },
  {
   "cell_type": "code",
   "execution_count": 26,
   "metadata": {},
   "outputs": [
    {
     "output_type": "execute_result",
     "data": {
      "text/plain": [
       "['sell',\n",
       " 'printers',\n",
       " 'there',\n",
       " 'Gunmen',\n",
       " 'Lebanon',\n",
       " 'assassinated',\n",
       " 'Arabian',\n",
       " 'pro-Iranian',\n",
       " 'Islamic',\n",
       " 'slaying',\n",
       " 'avenge',\n",
       " 'beheading',\n",
       " 'terrorists',\n",
       " 'Riyadh',\n",
       " 'Card',\n",
       " 'sweepstakes',\n",
       " 'forthcoming',\n",
       " '10-year',\n",
       " 'yen-denominated',\n",
       " 'about',\n",
       " 'redeeming',\n",
       " 'convert']"
      ]
     },
     "metadata": {},
     "execution_count": 26
    }
   ],
   "source": [
    "wrong_tagged_words_vanilla_vit = [j[0][0] for i, j in enumerate(zip(tagged_seq, test_run_base)) if j[0] != j[1]]\n",
    "wrong_tagged_words_vanilla_vit"
   ]
  },
  {
   "source": [
    "## Test Sentences"
   ],
   "cell_type": "markdown",
   "metadata": {}
  },
  {
   "source": [
    "We will now analyze the performance of the Vanilla Viterbi algorithm on the sample test sentences."
   ],
   "cell_type": "markdown",
   "metadata": {}
  },
  {
   "cell_type": "code",
   "execution_count": 27,
   "metadata": {},
   "outputs": [
    {
     "output_type": "execute_result",
     "data": {
      "text/plain": [
       "                                            sentences\n",
       "0   Android is a mobile operating system developed...\n",
       "1   Android has been the best-selling OS worldwide...\n",
       "2   Google and Twitter made a deal in 2015 that ga...\n",
       "3   Twitter is an online news and social networkin...\n",
       "4   Before entering politics, Donald Trump was a d...\n",
       "5   The 2018 FIFA World Cup is the 21st FIFA World...\n",
       "6   This is the first World Cup to be held in East...\n",
       "7   Show me the cheapest round trips from Dallas t...\n",
       "8   I would like to see flights from Denver to Phi...\n",
       "9   Show me the price of the flights leaving Atlan...\n",
       "10  NASA invited social media users to experience ..."
      ],
      "text/html": "<div>\n<style scoped>\n    .dataframe tbody tr th:only-of-type {\n        vertical-align: middle;\n    }\n\n    .dataframe tbody tr th {\n        vertical-align: top;\n    }\n\n    .dataframe thead th {\n        text-align: right;\n    }\n</style>\n<table border=\"1\" class=\"dataframe\">\n  <thead>\n    <tr style=\"text-align: right;\">\n      <th></th>\n      <th>sentences</th>\n    </tr>\n  </thead>\n  <tbody>\n    <tr>\n      <th>0</th>\n      <td>Android is a mobile operating system developed...</td>\n    </tr>\n    <tr>\n      <th>1</th>\n      <td>Android has been the best-selling OS worldwide...</td>\n    </tr>\n    <tr>\n      <th>2</th>\n      <td>Google and Twitter made a deal in 2015 that ga...</td>\n    </tr>\n    <tr>\n      <th>3</th>\n      <td>Twitter is an online news and social networkin...</td>\n    </tr>\n    <tr>\n      <th>4</th>\n      <td>Before entering politics, Donald Trump was a d...</td>\n    </tr>\n    <tr>\n      <th>5</th>\n      <td>The 2018 FIFA World Cup is the 21st FIFA World...</td>\n    </tr>\n    <tr>\n      <th>6</th>\n      <td>This is the first World Cup to be held in East...</td>\n    </tr>\n    <tr>\n      <th>7</th>\n      <td>Show me the cheapest round trips from Dallas t...</td>\n    </tr>\n    <tr>\n      <th>8</th>\n      <td>I would like to see flights from Denver to Phi...</td>\n    </tr>\n    <tr>\n      <th>9</th>\n      <td>Show me the price of the flights leaving Atlan...</td>\n    </tr>\n    <tr>\n      <th>10</th>\n      <td>NASA invited social media users to experience ...</td>\n    </tr>\n  </tbody>\n</table>\n</div>"
     },
     "metadata": {},
     "execution_count": 27
    }
   ],
   "source": [
    "# load test sentences\n",
    "test_sentences_df = pd.read_csv('https://cdn.upgrad.com/UpGrad/temp/9dca5f3b-53c3-47e1-86d5-5ec5dafad6f0/Test_sentences.txt',header=None, delimiter='\\n',names=  ['sentences'])\n",
    "test_sentences_df"
   ]
  },
  {
   "cell_type": "code",
   "execution_count": 28,
   "metadata": {},
   "outputs": [],
   "source": [
    "test_sentences_df['tokenized'] = test_sentences_df.sentences.apply(nltk.word_tokenize)"
   ]
  },
  {
   "cell_type": "code",
   "execution_count": 29,
   "metadata": {},
   "outputs": [
    {
     "output_type": "stream",
     "name": "stderr",
     "text": [
      "Tagging using Vanilla Viterbi: 100%|██████████| 11/11 [00:22<00:00,  2.06s/it]\n"
     ]
    }
   ],
   "source": [
    "tqdm.pandas(desc='Tagging using Vanilla Viterbi')\n",
    "test_sentences_df['tagged_vanilla_viterbi'] = test_sentences_df.tokenized.progress_apply(Viterbi._original)"
   ]
  },
  {
   "cell_type": "code",
   "execution_count": 30,
   "metadata": {},
   "outputs": [
    {
     "output_type": "execute_result",
     "data": {
      "text/plain": [
       "                                            sentences  \\\n",
       "0   Android is a mobile operating system developed...   \n",
       "1   Android has been the best-selling OS worldwide...   \n",
       "2   Google and Twitter made a deal in 2015 that ga...   \n",
       "3   Twitter is an online news and social networkin...   \n",
       "4   Before entering politics, Donald Trump was a d...   \n",
       "5   The 2018 FIFA World Cup is the 21st FIFA World...   \n",
       "6   This is the first World Cup to be held in East...   \n",
       "7   Show me the cheapest round trips from Dallas t...   \n",
       "8   I would like to see flights from Denver to Phi...   \n",
       "9   Show me the price of the flights leaving Atlan...   \n",
       "10  NASA invited social media users to experience ...   \n",
       "\n",
       "                                            tokenized  \\\n",
       "0   [Android, is, a, mobile, operating, system, de...   \n",
       "1   [Android, has, been, the, best-selling, OS, wo...   \n",
       "2   [Google, and, Twitter, made, a, deal, in, 2015...   \n",
       "3   [Twitter, is, an, online, news, and, social, n...   \n",
       "4   [Before, entering, politics, ,, Donald, Trump,...   \n",
       "5   [The, 2018, FIFA, World, Cup, is, the, 21st, F...   \n",
       "6   [This, is, the, first, World, Cup, to, be, hel...   \n",
       "7   [Show, me, the, cheapest, round, trips, from, ...   \n",
       "8   [I, would, like, to, see, flights, from, Denve...   \n",
       "9   [Show, me, the, price, of, the, flights, leavi...   \n",
       "10  [NASA, invited, social, media, users, to, expe...   \n",
       "\n",
       "                               tagged_vanilla_viterbi  \n",
       "0   [(Android, ADV), (is, VERB), (a, DET), (mobile...  \n",
       "1   [(Android, ADV), (has, VERB), (been, VERB), (t...  \n",
       "2   [(Google, ADV), (and, CONJ), (Twitter, ADV), (...  \n",
       "3   [(Twitter, ADV), (is, VERB), (an, DET), (onlin...  \n",
       "4   [(Before, ADP), (entering, VERB), (politics, N...  \n",
       "5   [(The, DET), (2018, ADV), (FIFA, ADV), (World,...  \n",
       "6   [(This, DET), (is, VERB), (the, DET), (first, ...  \n",
       "7   [(Show, NOUN), (me, PRON), (the, DET), (cheape...  \n",
       "8   [(I, PRON), (would, VERB), (like, ADP), (to, P...  \n",
       "9   [(Show, NOUN), (me, PRON), (the, DET), (price,...  \n",
       "10  [(NASA, ADV), (invited, ADV), (social, ADJ), (...  "
      ],
      "text/html": "<div>\n<style scoped>\n    .dataframe tbody tr th:only-of-type {\n        vertical-align: middle;\n    }\n\n    .dataframe tbody tr th {\n        vertical-align: top;\n    }\n\n    .dataframe thead th {\n        text-align: right;\n    }\n</style>\n<table border=\"1\" class=\"dataframe\">\n  <thead>\n    <tr style=\"text-align: right;\">\n      <th></th>\n      <th>sentences</th>\n      <th>tokenized</th>\n      <th>tagged_vanilla_viterbi</th>\n    </tr>\n  </thead>\n  <tbody>\n    <tr>\n      <th>0</th>\n      <td>Android is a mobile operating system developed...</td>\n      <td>[Android, is, a, mobile, operating, system, de...</td>\n      <td>[(Android, ADV), (is, VERB), (a, DET), (mobile...</td>\n    </tr>\n    <tr>\n      <th>1</th>\n      <td>Android has been the best-selling OS worldwide...</td>\n      <td>[Android, has, been, the, best-selling, OS, wo...</td>\n      <td>[(Android, ADV), (has, VERB), (been, VERB), (t...</td>\n    </tr>\n    <tr>\n      <th>2</th>\n      <td>Google and Twitter made a deal in 2015 that ga...</td>\n      <td>[Google, and, Twitter, made, a, deal, in, 2015...</td>\n      <td>[(Google, ADV), (and, CONJ), (Twitter, ADV), (...</td>\n    </tr>\n    <tr>\n      <th>3</th>\n      <td>Twitter is an online news and social networkin...</td>\n      <td>[Twitter, is, an, online, news, and, social, n...</td>\n      <td>[(Twitter, ADV), (is, VERB), (an, DET), (onlin...</td>\n    </tr>\n    <tr>\n      <th>4</th>\n      <td>Before entering politics, Donald Trump was a d...</td>\n      <td>[Before, entering, politics, ,, Donald, Trump,...</td>\n      <td>[(Before, ADP), (entering, VERB), (politics, N...</td>\n    </tr>\n    <tr>\n      <th>5</th>\n      <td>The 2018 FIFA World Cup is the 21st FIFA World...</td>\n      <td>[The, 2018, FIFA, World, Cup, is, the, 21st, F...</td>\n      <td>[(The, DET), (2018, ADV), (FIFA, ADV), (World,...</td>\n    </tr>\n    <tr>\n      <th>6</th>\n      <td>This is the first World Cup to be held in East...</td>\n      <td>[This, is, the, first, World, Cup, to, be, hel...</td>\n      <td>[(This, DET), (is, VERB), (the, DET), (first, ...</td>\n    </tr>\n    <tr>\n      <th>7</th>\n      <td>Show me the cheapest round trips from Dallas t...</td>\n      <td>[Show, me, the, cheapest, round, trips, from, ...</td>\n      <td>[(Show, NOUN), (me, PRON), (the, DET), (cheape...</td>\n    </tr>\n    <tr>\n      <th>8</th>\n      <td>I would like to see flights from Denver to Phi...</td>\n      <td>[I, would, like, to, see, flights, from, Denve...</td>\n      <td>[(I, PRON), (would, VERB), (like, ADP), (to, P...</td>\n    </tr>\n    <tr>\n      <th>9</th>\n      <td>Show me the price of the flights leaving Atlan...</td>\n      <td>[Show, me, the, price, of, the, flights, leavi...</td>\n      <td>[(Show, NOUN), (me, PRON), (the, DET), (price,...</td>\n    </tr>\n    <tr>\n      <th>10</th>\n      <td>NASA invited social media users to experience ...</td>\n      <td>[NASA, invited, social, media, users, to, expe...</td>\n      <td>[(NASA, ADV), (invited, ADV), (social, ADJ), (...</td>\n    </tr>\n  </tbody>\n</table>\n</div>"
     },
     "metadata": {},
     "execution_count": 30
    }
   ],
   "source": [
    "test_sentences_df"
   ]
  },
  {
   "cell_type": "code",
   "execution_count": 31,
   "metadata": {},
   "outputs": [
    {
     "output_type": "execute_result",
     "data": {
      "text/plain": [
       "          word     .  ADJ  ADP  ADV  CONJ  DET  NOUN  NUM  PRON  PRT  VERB  X\n",
       "0           's     0    0    0    0     0    0     0    0     0  726    98  0\n",
       "1            ,  4632    0    0    0     0    0     0    0     0    0     0  0\n",
       "2            .  3637    0    0    0     0    0     0    0     0    0     0  0\n",
       "3         11th     0    1    0    0     0    0     0    0     0    0     0  0\n",
       "4         2011     0    0    0    0     0    0     0    0     0    0     0  0\n",
       "..         ...   ...  ...  ...  ...   ...  ...   ...  ...   ...  ...   ... ..\n",
       "110      which     0    0    1    0     0  215     0    0     0    0     0  0\n",
       "111       with     0    0  366    0     0    0     0    0     0    0     0  0\n",
       "112  worldwide     0    0    0    0     0    0     0    0     0    0     0  0\n",
       "113      would     0    0    0    0     0    0     0    0     0    0   199  0\n",
       "114      years     0    0    0    0     0    0   106    0     0    0     0  0\n",
       "\n",
       "[115 rows x 13 columns]"
      ],
      "text/html": "<div>\n<style scoped>\n    .dataframe tbody tr th:only-of-type {\n        vertical-align: middle;\n    }\n\n    .dataframe tbody tr th {\n        vertical-align: top;\n    }\n\n    .dataframe thead th {\n        text-align: right;\n    }\n</style>\n<table border=\"1\" class=\"dataframe\">\n  <thead>\n    <tr style=\"text-align: right;\">\n      <th></th>\n      <th>word</th>\n      <th>.</th>\n      <th>ADJ</th>\n      <th>ADP</th>\n      <th>ADV</th>\n      <th>CONJ</th>\n      <th>DET</th>\n      <th>NOUN</th>\n      <th>NUM</th>\n      <th>PRON</th>\n      <th>PRT</th>\n      <th>VERB</th>\n      <th>X</th>\n    </tr>\n  </thead>\n  <tbody>\n    <tr>\n      <th>0</th>\n      <td>'s</td>\n      <td>0</td>\n      <td>0</td>\n      <td>0</td>\n      <td>0</td>\n      <td>0</td>\n      <td>0</td>\n      <td>0</td>\n      <td>0</td>\n      <td>0</td>\n      <td>726</td>\n      <td>98</td>\n      <td>0</td>\n    </tr>\n    <tr>\n      <th>1</th>\n      <td>,</td>\n      <td>4632</td>\n      <td>0</td>\n      <td>0</td>\n      <td>0</td>\n      <td>0</td>\n      <td>0</td>\n      <td>0</td>\n      <td>0</td>\n      <td>0</td>\n      <td>0</td>\n      <td>0</td>\n      <td>0</td>\n    </tr>\n    <tr>\n      <th>2</th>\n      <td>.</td>\n      <td>3637</td>\n      <td>0</td>\n      <td>0</td>\n      <td>0</td>\n      <td>0</td>\n      <td>0</td>\n      <td>0</td>\n      <td>0</td>\n      <td>0</td>\n      <td>0</td>\n      <td>0</td>\n      <td>0</td>\n    </tr>\n    <tr>\n      <th>3</th>\n      <td>11th</td>\n      <td>0</td>\n      <td>1</td>\n      <td>0</td>\n      <td>0</td>\n      <td>0</td>\n      <td>0</td>\n      <td>0</td>\n      <td>0</td>\n      <td>0</td>\n      <td>0</td>\n      <td>0</td>\n      <td>0</td>\n    </tr>\n    <tr>\n      <th>4</th>\n      <td>2011</td>\n      <td>0</td>\n      <td>0</td>\n      <td>0</td>\n      <td>0</td>\n      <td>0</td>\n      <td>0</td>\n      <td>0</td>\n      <td>0</td>\n      <td>0</td>\n      <td>0</td>\n      <td>0</td>\n      <td>0</td>\n    </tr>\n    <tr>\n      <th>...</th>\n      <td>...</td>\n      <td>...</td>\n      <td>...</td>\n      <td>...</td>\n      <td>...</td>\n      <td>...</td>\n      <td>...</td>\n      <td>...</td>\n      <td>...</td>\n      <td>...</td>\n      <td>...</td>\n      <td>...</td>\n      <td>...</td>\n    </tr>\n    <tr>\n      <th>110</th>\n      <td>which</td>\n      <td>0</td>\n      <td>0</td>\n      <td>1</td>\n      <td>0</td>\n      <td>0</td>\n      <td>215</td>\n      <td>0</td>\n      <td>0</td>\n      <td>0</td>\n      <td>0</td>\n      <td>0</td>\n      <td>0</td>\n    </tr>\n    <tr>\n      <th>111</th>\n      <td>with</td>\n      <td>0</td>\n      <td>0</td>\n      <td>366</td>\n      <td>0</td>\n      <td>0</td>\n      <td>0</td>\n      <td>0</td>\n      <td>0</td>\n      <td>0</td>\n      <td>0</td>\n      <td>0</td>\n      <td>0</td>\n    </tr>\n    <tr>\n      <th>112</th>\n      <td>worldwide</td>\n      <td>0</td>\n      <td>0</td>\n      <td>0</td>\n      <td>0</td>\n      <td>0</td>\n      <td>0</td>\n      <td>0</td>\n      <td>0</td>\n      <td>0</td>\n      <td>0</td>\n      <td>0</td>\n      <td>0</td>\n    </tr>\n    <tr>\n      <th>113</th>\n      <td>would</td>\n      <td>0</td>\n      <td>0</td>\n      <td>0</td>\n      <td>0</td>\n      <td>0</td>\n      <td>0</td>\n      <td>0</td>\n      <td>0</td>\n      <td>0</td>\n      <td>0</td>\n      <td>199</td>\n      <td>0</td>\n    </tr>\n    <tr>\n      <th>114</th>\n      <td>years</td>\n      <td>0</td>\n      <td>0</td>\n      <td>0</td>\n      <td>0</td>\n      <td>0</td>\n      <td>0</td>\n      <td>106</td>\n      <td>0</td>\n      <td>0</td>\n      <td>0</td>\n      <td>0</td>\n      <td>0</td>\n    </tr>\n  </tbody>\n</table>\n<p>115 rows × 13 columns</p>\n</div>"
     },
     "metadata": {},
     "execution_count": 31
    }
   ],
   "source": [
    "# count of words vs tags from test file\n",
    "test_words = set(np.concatenate(test_sentences_df.tokenized))\n",
    "word_tag_count = [(word, tag, word_given_tag(word, tag)[0]) for word in test_words for tag in T]\n",
    "word_tag_count_df = pd.DataFrame.from_records(word_tag_count, columns=['word','tag','count'])\n",
    "word_tag_count_df = word_tag_count_df.pivot(index='word', columns='tag', values=['count']).reset_index()\n",
    "word_tag_count_df.columns = [col[1] if col[0] != 'word' else col[0] for col in word_tag_count_df.columns.values]\n",
    "word_tag_count_df"
   ]
  },
  {
   "source": [
    "We will now identify the unknown words in comparison to the vocabulary of the Viterbi algorithm."
   ],
   "cell_type": "markdown",
   "metadata": {}
  },
  {
   "cell_type": "code",
   "execution_count": 32,
   "metadata": {},
   "outputs": [],
   "source": [
    "word_tag_count_df.set_index('word',inplace=True,drop=True)\n",
    "unknown_words = word_tag_count_df.loc[(word_tag_count_df==0).all(axis=1)].index"
   ]
  },
  {
   "cell_type": "code",
   "execution_count": 33,
   "metadata": {},
   "outputs": [
    {
     "output_type": "stream",
     "name": "stdout",
     "text": [
      "There are 28 unknown words in the Test Sentences. And they are: \n2011\n2013\n2015\n2018\n21st\nAndroid\nCup\nFIFA\nGoogle\nICESAT-2\nNASA\nOS\nSatellite\nTwitter\narriving\ncontested\ndomineering\nfirehose\ninteract\ninvited\nmessages\nonline\npersonality\nsmartphones\ntournament\ntrips\ntweets\nworldwide\n"
     ]
    }
   ],
   "source": [
    "print(f'There are {len(unknown_words)} unknown words in the Test Sentences. And they are: \\n{os.linesep.join(unknown_words)}')"
   ]
  },
  {
   "cell_type": "code",
   "execution_count": 34,
   "metadata": {},
   "outputs": [
    {
     "output_type": "execute_result",
     "data": {
      "text/plain": [
       "[('Android', 'ADV'),\n",
       " ('Google', 'ADV'),\n",
       " ('Android', 'ADV'),\n",
       " ('OS', 'ADV'),\n",
       " ('worldwide', 'ADV'),\n",
       " ('smartphones', 'ADV'),\n",
       " ('2011', 'ADV'),\n",
       " ('2013', 'ADV'),\n",
       " ('Google', 'ADV'),\n",
       " ('Twitter', 'ADV'),\n",
       " ('2015', 'ADV'),\n",
       " ('Google', 'ADV'),\n",
       " ('Twitter', 'ADV'),\n",
       " ('firehose', 'ADV'),\n",
       " ('Twitter', 'ADV'),\n",
       " ('online', 'ADV'),\n",
       " ('interact', 'ADV'),\n",
       " ('messages', 'ADV'),\n",
       " ('tweets', 'ADV'),\n",
       " ('domineering', 'ADV'),\n",
       " ('personality', 'ADV'),\n",
       " ('2018', 'ADV'),\n",
       " ('FIFA', 'ADV'),\n",
       " ('Cup', 'ADV'),\n",
       " ('21st', 'ADV'),\n",
       " ('FIFA', 'ADV'),\n",
       " ('Cup', 'ADV'),\n",
       " ('tournament', 'ADV'),\n",
       " ('contested', 'ADV'),\n",
       " ('Cup', 'ADV'),\n",
       " ('trips', 'ADV'),\n",
       " ('arriving', 'ADV'),\n",
       " ('NASA', 'ADV'),\n",
       " ('invited', 'ADV'),\n",
       " ('ICESAT-2', 'ADV'),\n",
       " ('Satellite', 'ADV')]"
      ]
     },
     "metadata": {},
     "execution_count": 34
    }
   ],
   "source": [
    "# Check how the unknown words are being tagged by the Vanilla Viterbi Algorithm\n",
    "\n",
    "tagged_unknown_words_vanilla =  [ word for word in test_sentences_df.tagged_vanilla_viterbi.sum() if word[0] in unknown_words]\n",
    "tagged_unknown_words_vanilla"
   ]
  },
  {
   "source": [
    "_All of the unknown words have been tagged arbitarily. In most of the cases the 1st occuring tag in the list._\n",
    "\n",
    "This affects the performance of the Algorithm."
   ],
   "cell_type": "markdown",
   "metadata": {}
  },
  {
   "cell_type": "markdown",
   "metadata": {},
   "source": [
    "### Solve the problem of unknown words"
   ]
  },
  {
   "source": [
    "We can take two approaches in solving the problem of unknown words.\n",
    "\n",
    "1.  Rule Based:\n",
    "    -   By assigning the most frequent tag in the corpus\n",
    "    -   By using a Combined tagger Based on Morphological Features (such as words ending with `-ed / -ing` are VERB usually), Unigram and Bigram Taggers\n",
    "2.  Probability Based\n",
    "    -   For all words in the corpus, State Probability = Transition Probability * Emission Probability\n",
    "    -   For words not in the corpus, State Probability = Transition Probability"
   ],
   "cell_type": "markdown",
   "metadata": {}
  },
  {
   "source": [
    "## Viterbi with Rule Based Tagging\n",
    "\n",
    "We will use Unigram and Bigram Taggers along with Regex Tagger with some morphological features to tag the unknown / out of vocabulary tokens.   "
   ],
   "cell_type": "markdown",
   "metadata": {}
  },
  {
   "cell_type": "code",
   "execution_count": 35,
   "metadata": {},
   "outputs": [],
   "source": [
    "# Define Regex tag patterns\n",
    "patterns = [\n",
    "    (r'.*ing$', 'VERB'),              # gerund\n",
    "    (r'.*ed$', 'VERB'),               # past tense\n",
    "    (r'.*es$', 'VERB'),               # 3rd singular present\n",
    "    (r'.*ould$', 'VERB'),              # modals\n",
    "    (r'.*\\'s$', 'NOUN'),              # possessive nouns\n",
    "    (r'.*s$', 'NOUN'),                # plural nouns\n",
    "    (r'\\*T?\\*?-[0-9]+$', 'X'),        # X\n",
    "    (r'^-?[0-9]+(.[0-9]+)?$', 'NUM'), # cardinal numbers\n",
    "    (r'.*', 'NOUN')                    # nouns\n",
    "]\n",
    "\n",
    "regex_tagger = nltk.RegexpTagger(patterns)\n",
    "# Build a combined tagger Regex Tagging, Unigram and Bigram Tagging\n",
    "def combined_tagger(train_data,taggers,backoff=None):\n",
    "    for tagger in taggers:\n",
    "        backoff = tagger(train_data,backoff=backoff)\n",
    "    return backoff\n",
    "\n",
    "com_tagger = combined_tagger(train_set,\n",
    "                            taggers = [nltk.UnigramTagger,nltk.BigramTagger],\n",
    "                            backoff = regex_tagger\n",
    "                )"
   ]
  },
  {
   "cell_type": "code",
   "execution_count": 36,
   "metadata": {},
   "outputs": [],
   "source": [
    "@timer\n",
    "def ViterbiWithBackoffTaggers(words,backoff_tagger = com_tagger,train_bag = train_tagged_words):\n",
    "    state = []\n",
    "    T = list(set([pair[1] for pair in train_bag]))\n",
    "    \n",
    "    for key, word in enumerate(words):\n",
    "        # unknown words from backoff_tagger\n",
    "        if word not in V:            \n",
    "            unk_word_tag=backoff_tagger.tag([word])[0][1]\n",
    "            state.append(unk_word_tag)\n",
    "        # rest remains same            \n",
    "        else:            \n",
    "            p = [] \n",
    "            for tag in T:\n",
    "                if key == 0:\n",
    "                    transition_p = tags_df.loc['.', tag]\n",
    "                else:\n",
    "                    transition_p = tags_df.loc[state[-1], tag]\n",
    "                \n",
    "            # compute emission and state probabilities\n",
    "                emission_p = word_given_tag(words[key], tag)[0]/word_given_tag(words[key], tag)[1]\n",
    "                state_probability = emission_p * transition_p    \n",
    "                p.append(state_probability)\n",
    "            \n",
    "            pmax = max(p)\n",
    "            # getting state for which probability is maximum\n",
    "            state_max = T[p.index(pmax)] \n",
    "            state.append(state_max)\n",
    "            \n",
    "    return list(zip(words, state))\n"
   ]
  },
  {
   "cell_type": "markdown",
   "metadata": {},
   "source": [
    "#### Evaluating tagging accuracy"
   ]
  },
  {
   "cell_type": "code",
   "execution_count": 37,
   "metadata": {},
   "outputs": [
    {
     "output_type": "stream",
     "name": "stdout",
     "text": [
      "ViterbiWithBackoffTaggers processsing finished in 18.179633617401123 seconds\nAccuracy using Viterbi Algorithm with Backoff Tagger on Test Set: 92.77%\n"
     ]
    }
   ],
   "source": [
    "tagged_seq = ViterbiWithBackoffTaggers(test_tagged_words,com_tagger)\n",
    "\n",
    "# accuracy\n",
    "check = [i for i, j in zip(tagged_seq, test_run_base) if i == j] \n",
    "backoff_accuracy = len(check)/len(tagged_seq)\n",
    "print(f'Accuracy using Viterbi Algorithm with Backoff Tagger on Test Set: {backoff_accuracy*100:.2f}%')"
   ]
  },
  {
   "source": [
    "Lets check the incorrectly tagged cases by the Backoff Tagger."
   ],
   "cell_type": "markdown",
   "metadata": {}
  },
  {
   "cell_type": "code",
   "execution_count": 38,
   "metadata": {},
   "outputs": [
    {
     "output_type": "execute_result",
     "data": {
      "text/plain": [
       "[[('the', 'DET'), (('sell', 'VERB'), ('sell', 'NOUN'))],\n",
       " [('specialist', 'NOUN'), (('there', 'DET'), ('there', 'ADV'))],\n",
       " [('the', 'DET'), (('pro-Iranian', 'NOUN'), ('pro-Iranian', 'ADJ'))],\n",
       " [('the', 'DET'), (('slaying', 'VERB'), ('slaying', 'NOUN'))],\n",
       " [('to', 'PRT'), (('avenge', 'NOUN'), ('avenge', 'VERB'))],\n",
       " [('the', 'DET'), (('beheading', 'VERB'), ('beheading', 'NOUN'))],\n",
       " [('a', 'DET'), (('sweepstakes', 'VERB'), ('sweepstakes', 'NOUN'))],\n",
       " [('The', 'DET'), (('forthcoming', 'VERB'), ('forthcoming', 'ADJ'))],\n",
       " [('a', 'DET'), (('10-year', 'ADJ'), ('10-year', 'NUM'))],\n",
       " [('government', 'NOUN'),\n",
       "  (('yen-denominated', 'VERB'), ('yen-denominated', 'ADJ'))],\n",
       " [('at', 'ADP'), (('about', 'ADP'), ('about', 'ADV'))],\n",
       " [('will', 'VERB'), (('convert', 'NOUN'), ('convert', 'VERB'))]]"
      ]
     },
     "metadata": {},
     "execution_count": 38
    }
   ],
   "source": [
    "incorrect_tagged_cases = [[test_run_base[i-1],j] for i, j in enumerate(zip(tagged_seq, test_run_base)) if j[0]!=j[1]]\n",
    "incorrect_tagged_cases"
   ]
  },
  {
   "cell_type": "code",
   "execution_count": 39,
   "metadata": {},
   "outputs": [
    {
     "output_type": "execute_result",
     "data": {
      "text/plain": [
       "['sell',\n",
       " 'there',\n",
       " 'pro-Iranian',\n",
       " 'slaying',\n",
       " 'avenge',\n",
       " 'beheading',\n",
       " 'sweepstakes',\n",
       " 'forthcoming',\n",
       " '10-year',\n",
       " 'yen-denominated',\n",
       " 'about',\n",
       " 'convert']"
      ]
     },
     "metadata": {},
     "execution_count": 39
    }
   ],
   "source": [
    "wrong_tagged_words_backoff = [j[0][0] for i, j in enumerate(zip(tagged_seq, test_run_base)) if j[0] != j[1]]\n",
    "wrong_tagged_words_backoff"
   ]
  },
  {
   "cell_type": "code",
   "execution_count": 40,
   "metadata": {},
   "outputs": [
    {
     "output_type": "stream",
     "name": "stderr",
     "text": [
      "Tagging using Viterbi with Backoff Taggers: 100%|██████████| 11/11 [00:18<00:00,  1.67s/it]\n"
     ]
    }
   ],
   "source": [
    "tqdm.pandas(desc='Tagging using Viterbi with Backoff Taggers')\n",
    "test_sentences_df['tagged_backoff_viterbi'] = test_sentences_df.tokenized.progress_apply(ViterbiWithBackoffTaggers._original)"
   ]
  },
  {
   "cell_type": "code",
   "execution_count": 41,
   "metadata": {},
   "outputs": [
    {
     "output_type": "execute_result",
     "data": {
      "text/plain": [
       "[('Android', 'NOUN'),\n",
       " ('Google', 'NOUN'),\n",
       " ('Android', 'NOUN'),\n",
       " ('OS', 'NOUN'),\n",
       " ('worldwide', 'NOUN'),\n",
       " ('smartphones', 'VERB'),\n",
       " ('2011', 'NUM'),\n",
       " ('2013', 'NUM'),\n",
       " ('Google', 'NOUN'),\n",
       " ('Twitter', 'NOUN'),\n",
       " ('2015', 'NUM'),\n",
       " ('Google', 'NOUN'),\n",
       " ('Twitter', 'NOUN'),\n",
       " ('firehose', 'NOUN'),\n",
       " ('Twitter', 'NOUN'),\n",
       " ('online', 'NOUN'),\n",
       " ('interact', 'NOUN'),\n",
       " ('messages', 'VERB'),\n",
       " ('tweets', 'NOUN'),\n",
       " ('domineering', 'VERB'),\n",
       " ('personality', 'NOUN'),\n",
       " ('2018', 'NUM'),\n",
       " ('FIFA', 'NOUN'),\n",
       " ('Cup', 'NOUN'),\n",
       " ('21st', 'NOUN'),\n",
       " ('FIFA', 'NOUN'),\n",
       " ('Cup', 'NOUN'),\n",
       " ('tournament', 'NOUN'),\n",
       " ('contested', 'VERB'),\n",
       " ('Cup', 'NOUN'),\n",
       " ('trips', 'NOUN'),\n",
       " ('arriving', 'VERB'),\n",
       " ('NASA', 'NOUN'),\n",
       " ('invited', 'VERB'),\n",
       " ('ICESAT-2', 'NOUN'),\n",
       " ('Satellite', 'NOUN')]"
      ]
     },
     "metadata": {},
     "execution_count": 41
    }
   ],
   "source": [
    "# Check how the unknown words are being tagged by the Vanilla Viterbi Algorithm\n",
    "\n",
    "tagged_unknown_words_backoff =  [ word for word in test_sentences_df.tagged_backoff_viterbi.sum() if word[0] in unknown_words]\n",
    "tagged_unknown_words_backoff"
   ]
  },
  {
   "source": [
    "## Viterbi with Probability based switch\n",
    "\n",
    "-   For all words in the corpus, State Probability = Transition Probability * Emission Probability\n",
    "-   For words not in the corpus, State Probability = Transition Probability"
   ],
   "cell_type": "markdown",
   "metadata": {}
  },
  {
   "cell_type": "code",
   "execution_count": 42,
   "metadata": {},
   "outputs": [],
   "source": [
    "@timer\n",
    "def ViterbiWithProbabilitySwitch(words,train_bag = train_tagged_words):\n",
    "    state = []\n",
    "    T = list(set([pair[1] for pair in train_bag]))\n",
    "    \n",
    "    for key, word in enumerate(words):\n",
    "        p = [] \n",
    "        for tag in T:\n",
    "            if key == 0:\n",
    "                transition_p = tags_df.loc['.', tag]\n",
    "            else:\n",
    "                transition_p = tags_df.loc[state[-1], tag]\n",
    "            \n",
    "            # compute emission and state probabilities\n",
    "            emission_p = word_given_tag(words[key], tag)[0]/word_given_tag(words[key], tag)[1]\n",
    "            # Handle out of Vocabulary words by only considering the transition probabilty when emission probability is 0.\n",
    "            if word not in V: \n",
    "                state_probability = transition_p\n",
    "            else:\n",
    "                state_probability = emission_p * transition_p    \n",
    "            p.append(state_probability)\n",
    "        \n",
    "        pmax = max(p)\n",
    "        # getting state for which probability is maximum\n",
    "        state_max = T[p.index(pmax)] \n",
    "        state.append(state_max)\n",
    "            \n",
    "    return list(zip(words, state))\n"
   ]
  },
  {
   "cell_type": "code",
   "execution_count": 43,
   "metadata": {},
   "outputs": [
    {
     "output_type": "stream",
     "name": "stdout",
     "text": [
      "ViterbiWithProbabilitySwitch processsing finished in 20.953309535980225 seconds\nAccuracy using Viterbi Algorithm with Probability based Switch on Test Set: 92.17%\n"
     ]
    }
   ],
   "source": [
    "tagged_seq = ViterbiWithProbabilitySwitch(test_tagged_words)\n",
    "\n",
    "# accuracy\n",
    "check = [i for i, j in zip(tagged_seq, test_run_base) if i == j]\n",
    "prob_based_accuracy = len(check)/len(tagged_seq) \n",
    "print(f'Accuracy using Viterbi Algorithm with Probability based Switch on Test Set: {prob_based_accuracy*100:.2f}%')"
   ]
  },
  {
   "cell_type": "code",
   "execution_count": 44,
   "metadata": {},
   "outputs": [
    {
     "output_type": "execute_result",
     "data": {
      "text/plain": [
       "[[('the', 'DET'), (('sell', 'VERB'), ('sell', 'NOUN'))],\n",
       " [('specialist', 'NOUN'), (('there', 'DET'), ('there', 'ADV'))],\n",
       " [('in', 'ADP'), (('Lebanon', 'DET'), ('Lebanon', 'NOUN'))],\n",
       " [('Lebanon', 'NOUN'), (('assassinated', 'NOUN'), ('assassinated', 'VERB'))],\n",
       " [('the', 'DET'), (('pro-Iranian', 'NOUN'), ('pro-Iranian', 'ADJ'))],\n",
       " [('by', 'ADP'), (('Riyadh', 'DET'), ('Riyadh', 'NOUN'))],\n",
       " [('Riyadh', 'NOUN'), ((\"'s\", 'VERB'), (\"'s\", 'PRT'))],\n",
       " [('The', 'DET'), (('forthcoming', 'NOUN'), ('forthcoming', 'ADJ'))],\n",
       " [('a', 'DET'), (('10-year', 'ADJ'), ('10-year', 'NUM'))],\n",
       " [('government', 'NOUN'),\n",
       "  (('yen-denominated', 'NOUN'), ('yen-denominated', 'ADJ'))],\n",
       " [('at', 'ADP'), (('about', 'ADP'), ('about', 'ADV'))],\n",
       " [('investors', 'NOUN'), (('redeeming', 'NOUN'), ('redeeming', 'VERB'))],\n",
       " [('will', 'VERB'), (('convert', 'X'), ('convert', 'VERB'))]]"
      ]
     },
     "metadata": {},
     "execution_count": 44
    }
   ],
   "source": [
    "incorrect_tagged_cases = [[test_run_base[i-1],j] for i, j in enumerate(zip(tagged_seq, test_run_base)) if j[0]!=j[1]]\n",
    "incorrect_tagged_cases"
   ]
  },
  {
   "cell_type": "code",
   "execution_count": 45,
   "metadata": {},
   "outputs": [
    {
     "output_type": "execute_result",
     "data": {
      "text/plain": [
       "['sell',\n",
       " 'there',\n",
       " 'Lebanon',\n",
       " 'assassinated',\n",
       " 'pro-Iranian',\n",
       " 'Riyadh',\n",
       " \"'s\",\n",
       " 'forthcoming',\n",
       " '10-year',\n",
       " 'yen-denominated',\n",
       " 'about',\n",
       " 'redeeming',\n",
       " 'convert']"
      ]
     },
     "metadata": {},
     "execution_count": 45
    }
   ],
   "source": [
    "wrong_tagged_words_prob_based = [j[0][0] for i, j in enumerate(zip(tagged_seq, test_run_base)) if j[0] != j[1]]\n",
    "wrong_tagged_words_prob_based"
   ]
  },
  {
   "cell_type": "code",
   "execution_count": 46,
   "metadata": {},
   "outputs": [
    {
     "output_type": "stream",
     "name": "stderr",
     "text": [
      "Tagging using Viterbi with Backoff Taggers: 100%|██████████| 11/11 [00:23<00:00,  2.12s/it]\n"
     ]
    }
   ],
   "source": [
    "tqdm.pandas(desc='Tagging using Viterbi with Backoff Taggers')\n",
    "test_sentences_df['tagged_prob_viterbi'] = test_sentences_df.tokenized.progress_apply(ViterbiWithProbabilitySwitch._original)"
   ]
  },
  {
   "cell_type": "code",
   "execution_count": 47,
   "metadata": {},
   "outputs": [
    {
     "output_type": "execute_result",
     "data": {
      "text/plain": [
       "[('Android', 'NOUN'),\n",
       " ('Google', 'DET'),\n",
       " ('Android', 'NOUN'),\n",
       " ('OS', 'NOUN'),\n",
       " ('worldwide', 'NOUN'),\n",
       " ('smartphones', 'DET'),\n",
       " ('2011', 'DET'),\n",
       " ('2013', 'DET'),\n",
       " ('Google', 'NOUN'),\n",
       " ('Twitter', 'NOUN'),\n",
       " ('2015', 'DET'),\n",
       " ('Google', 'X'),\n",
       " ('Twitter', 'VERB'),\n",
       " ('firehose', 'VERB'),\n",
       " ('Twitter', 'NOUN'),\n",
       " ('online', 'NOUN'),\n",
       " ('interact', 'NOUN'),\n",
       " ('messages', 'DET'),\n",
       " ('tweets', 'DET'),\n",
       " ('domineering', 'NOUN'),\n",
       " ('personality', 'NOUN'),\n",
       " ('2018', 'NOUN'),\n",
       " ('FIFA', 'NOUN'),\n",
       " ('Cup', 'NOUN'),\n",
       " ('21st', 'NOUN'),\n",
       " ('FIFA', 'NOUN'),\n",
       " ('Cup', 'NOUN'),\n",
       " ('tournament', 'NOUN'),\n",
       " ('contested', 'NOUN'),\n",
       " ('Cup', 'NOUN'),\n",
       " ('trips', 'NOUN'),\n",
       " ('arriving', 'NOUN'),\n",
       " ('NASA', 'NOUN'),\n",
       " ('invited', 'NOUN'),\n",
       " ('ICESAT-2', 'DET'),\n",
       " ('Satellite', 'NOUN')]"
      ]
     },
     "metadata": {},
     "execution_count": 47
    }
   ],
   "source": [
    "# Check how the unknown words are being tagged by the Vanilla Viterbi Algorithm\n",
    "\n",
    "tagged_unknown_words_prob =  [ word for word in test_sentences_df.tagged_prob_viterbi.sum() if word[0] in unknown_words]\n",
    "tagged_unknown_words_prob"
   ]
  },
  {
   "source": [
    "## Analysis of incorrect tagged words\n",
    "\n",
    "by the Vanilla Viterbi, Back off Tagging Method and Probability based Tagging Method "
   ],
   "cell_type": "markdown",
   "metadata": {}
  },
  {
   "cell_type": "code",
   "execution_count": 48,
   "metadata": {},
   "outputs": [
    {
     "output_type": "stream",
     "name": "stdout",
     "text": [
      "No. of wrong taggings by Vanilla Viterbi Algorithm: 22\nNo. of wrong taggings by Viterbi Algorithm with Backoff: 12\nNo. of wrong taggings by Viterbi Algorithm with probability based approach: 13\n"
     ]
    }
   ],
   "source": [
    "print(f'No. of wrong taggings by Vanilla Viterbi Algorithm: {len(wrong_tagged_words_vanilla_vit)}')\n",
    "print(f'No. of wrong taggings by Viterbi Algorithm with Backoff: {len(wrong_tagged_words_backoff)}')\n",
    "print(f'No. of wrong taggings by Viterbi Algorithm with probability based approach: {len(wrong_tagged_words_prob_based)}')"
   ]
  },
  {
   "cell_type": "code",
   "execution_count": null,
   "metadata": {},
   "outputs": [],
   "source": []
  },
  {
   "cell_type": "markdown",
   "metadata": {},
   "source": [
    "### Compare the tagging accuracies of the modifications with the vanilla Viterbi algorithm"
   ]
  },
  {
   "cell_type": "code",
   "execution_count": 49,
   "metadata": {},
   "outputs": [],
   "source": [
    "accuracies_df = pd.DataFrame([vanilla_accuracy,backoff_accuracy,prob_based_accuracy],\n",
    "                            index = ['Vanilla Viterbi','Viterbi with Backoff Tagger','Viterbi with Probability Based Tagging'],\n",
    "                            columns = ['accuracy'])"
   ]
  },
  {
   "cell_type": "code",
   "execution_count": 56,
   "metadata": {},
   "outputs": [
    {
     "output_type": "execute_result",
     "data": {
      "text/plain": [
       "                                        accuracy\n",
       "Vanilla Viterbi                         0.867470\n",
       "Viterbi with Probability Based Tagging  0.921687\n",
       "Viterbi with Backoff Tagger             0.927711"
      ],
      "text/html": "<div>\n<style scoped>\n    .dataframe tbody tr th:only-of-type {\n        vertical-align: middle;\n    }\n\n    .dataframe tbody tr th {\n        vertical-align: top;\n    }\n\n    .dataframe thead th {\n        text-align: right;\n    }\n</style>\n<table border=\"1\" class=\"dataframe\">\n  <thead>\n    <tr style=\"text-align: right;\">\n      <th></th>\n      <th>accuracy</th>\n    </tr>\n  </thead>\n  <tbody>\n    <tr>\n      <th>Vanilla Viterbi</th>\n      <td>0.867470</td>\n    </tr>\n    <tr>\n      <th>Viterbi with Probability Based Tagging</th>\n      <td>0.921687</td>\n    </tr>\n    <tr>\n      <th>Viterbi with Backoff Tagger</th>\n      <td>0.927711</td>\n    </tr>\n  </tbody>\n</table>\n</div>"
     },
     "metadata": {},
     "execution_count": 56
    }
   ],
   "source": [
    "accuracies_df.sort_values(by='accuracy')"
   ]
  },
  {
   "source": [
    "With the two implemented modifications to the Vanilla Viterbi Algorithm, we see a considerable jump in accuracy.\n",
    "-   Using the Viterbi with backoff taggers, we were able to achieve `92.77 %` accuracy from 86.14% using Vanilla Viterbi.\n",
    "-   Using the Viterbi with probability based tagging, we were able to achieve `92.17 %` accuracy."
   ],
   "cell_type": "markdown",
   "metadata": {}
  },
  {
   "cell_type": "markdown",
   "metadata": {},
   "source": [
    "### List down cases which were incorrectly tagged by original POS tagger and got corrected by your modifications"
   ]
  },
  {
   "cell_type": "code",
   "execution_count": 51,
   "metadata": {},
   "outputs": [
    {
     "output_type": "execute_result",
     "data": {
      "text/plain": [
       "                                            sentences  \\\n",
       "0   Android is a mobile operating system developed...   \n",
       "1   Android has been the best-selling OS worldwide...   \n",
       "2   Google and Twitter made a deal in 2015 that ga...   \n",
       "3   Twitter is an online news and social networkin...   \n",
       "4   Before entering politics, Donald Trump was a d...   \n",
       "5   The 2018 FIFA World Cup is the 21st FIFA World...   \n",
       "6   This is the first World Cup to be held in East...   \n",
       "7   Show me the cheapest round trips from Dallas t...   \n",
       "8   I would like to see flights from Denver to Phi...   \n",
       "9   Show me the price of the flights leaving Atlan...   \n",
       "10  NASA invited social media users to experience ...   \n",
       "\n",
       "                                            tokenized  \\\n",
       "0   [Android, is, a, mobile, operating, system, de...   \n",
       "1   [Android, has, been, the, best-selling, OS, wo...   \n",
       "2   [Google, and, Twitter, made, a, deal, in, 2015...   \n",
       "3   [Twitter, is, an, online, news, and, social, n...   \n",
       "4   [Before, entering, politics, ,, Donald, Trump,...   \n",
       "5   [The, 2018, FIFA, World, Cup, is, the, 21st, F...   \n",
       "6   [This, is, the, first, World, Cup, to, be, hel...   \n",
       "7   [Show, me, the, cheapest, round, trips, from, ...   \n",
       "8   [I, would, like, to, see, flights, from, Denve...   \n",
       "9   [Show, me, the, price, of, the, flights, leavi...   \n",
       "10  [NASA, invited, social, media, users, to, expe...   \n",
       "\n",
       "                               tagged_vanilla_viterbi  \\\n",
       "0   [(Android, ADV), (is, VERB), (a, DET), (mobile...   \n",
       "1   [(Android, ADV), (has, VERB), (been, VERB), (t...   \n",
       "2   [(Google, ADV), (and, CONJ), (Twitter, ADV), (...   \n",
       "3   [(Twitter, ADV), (is, VERB), (an, DET), (onlin...   \n",
       "4   [(Before, ADP), (entering, VERB), (politics, N...   \n",
       "5   [(The, DET), (2018, ADV), (FIFA, ADV), (World,...   \n",
       "6   [(This, DET), (is, VERB), (the, DET), (first, ...   \n",
       "7   [(Show, NOUN), (me, PRON), (the, DET), (cheape...   \n",
       "8   [(I, PRON), (would, VERB), (like, ADP), (to, P...   \n",
       "9   [(Show, NOUN), (me, PRON), (the, DET), (price,...   \n",
       "10  [(NASA, ADV), (invited, ADV), (social, ADJ), (...   \n",
       "\n",
       "                               tagged_backoff_viterbi  \\\n",
       "0   [(Android, NOUN), (is, VERB), (a, DET), (mobil...   \n",
       "1   [(Android, NOUN), (has, VERB), (been, VERB), (...   \n",
       "2   [(Google, NOUN), (and, CONJ), (Twitter, NOUN),...   \n",
       "3   [(Twitter, NOUN), (is, VERB), (an, DET), (onli...   \n",
       "4   [(Before, ADP), (entering, VERB), (politics, N...   \n",
       "5   [(The, DET), (2018, NUM), (FIFA, NOUN), (World...   \n",
       "6   [(This, DET), (is, VERB), (the, DET), (first, ...   \n",
       "7   [(Show, NOUN), (me, PRON), (the, DET), (cheape...   \n",
       "8   [(I, PRON), (would, VERB), (like, ADP), (to, P...   \n",
       "9   [(Show, NOUN), (me, PRON), (the, DET), (price,...   \n",
       "10  [(NASA, NOUN), (invited, VERB), (social, ADJ),...   \n",
       "\n",
       "                                  tagged_prob_viterbi  \n",
       "0   [(Android, NOUN), (is, VERB), (a, DET), (mobil...  \n",
       "1   [(Android, NOUN), (has, VERB), (been, VERB), (...  \n",
       "2   [(Google, NOUN), (and, CONJ), (Twitter, NOUN),...  \n",
       "3   [(Twitter, NOUN), (is, VERB), (an, DET), (onli...  \n",
       "4   [(Before, ADP), (entering, VERB), (politics, N...  \n",
       "5   [(The, DET), (2018, NOUN), (FIFA, NOUN), (Worl...  \n",
       "6   [(This, DET), (is, VERB), (the, DET), (first, ...  \n",
       "7   [(Show, NOUN), (me, PRON), (the, DET), (cheape...  \n",
       "8   [(I, PRON), (would, VERB), (like, ADP), (to, P...  \n",
       "9   [(Show, NOUN), (me, PRON), (the, DET), (price,...  \n",
       "10  [(NASA, NOUN), (invited, NOUN), (social, ADJ),...  "
      ],
      "text/html": "<div>\n<style scoped>\n    .dataframe tbody tr th:only-of-type {\n        vertical-align: middle;\n    }\n\n    .dataframe tbody tr th {\n        vertical-align: top;\n    }\n\n    .dataframe thead th {\n        text-align: right;\n    }\n</style>\n<table border=\"1\" class=\"dataframe\">\n  <thead>\n    <tr style=\"text-align: right;\">\n      <th></th>\n      <th>sentences</th>\n      <th>tokenized</th>\n      <th>tagged_vanilla_viterbi</th>\n      <th>tagged_backoff_viterbi</th>\n      <th>tagged_prob_viterbi</th>\n    </tr>\n  </thead>\n  <tbody>\n    <tr>\n      <th>0</th>\n      <td>Android is a mobile operating system developed...</td>\n      <td>[Android, is, a, mobile, operating, system, de...</td>\n      <td>[(Android, ADV), (is, VERB), (a, DET), (mobile...</td>\n      <td>[(Android, NOUN), (is, VERB), (a, DET), (mobil...</td>\n      <td>[(Android, NOUN), (is, VERB), (a, DET), (mobil...</td>\n    </tr>\n    <tr>\n      <th>1</th>\n      <td>Android has been the best-selling OS worldwide...</td>\n      <td>[Android, has, been, the, best-selling, OS, wo...</td>\n      <td>[(Android, ADV), (has, VERB), (been, VERB), (t...</td>\n      <td>[(Android, NOUN), (has, VERB), (been, VERB), (...</td>\n      <td>[(Android, NOUN), (has, VERB), (been, VERB), (...</td>\n    </tr>\n    <tr>\n      <th>2</th>\n      <td>Google and Twitter made a deal in 2015 that ga...</td>\n      <td>[Google, and, Twitter, made, a, deal, in, 2015...</td>\n      <td>[(Google, ADV), (and, CONJ), (Twitter, ADV), (...</td>\n      <td>[(Google, NOUN), (and, CONJ), (Twitter, NOUN),...</td>\n      <td>[(Google, NOUN), (and, CONJ), (Twitter, NOUN),...</td>\n    </tr>\n    <tr>\n      <th>3</th>\n      <td>Twitter is an online news and social networkin...</td>\n      <td>[Twitter, is, an, online, news, and, social, n...</td>\n      <td>[(Twitter, ADV), (is, VERB), (an, DET), (onlin...</td>\n      <td>[(Twitter, NOUN), (is, VERB), (an, DET), (onli...</td>\n      <td>[(Twitter, NOUN), (is, VERB), (an, DET), (onli...</td>\n    </tr>\n    <tr>\n      <th>4</th>\n      <td>Before entering politics, Donald Trump was a d...</td>\n      <td>[Before, entering, politics, ,, Donald, Trump,...</td>\n      <td>[(Before, ADP), (entering, VERB), (politics, N...</td>\n      <td>[(Before, ADP), (entering, VERB), (politics, N...</td>\n      <td>[(Before, ADP), (entering, VERB), (politics, N...</td>\n    </tr>\n    <tr>\n      <th>5</th>\n      <td>The 2018 FIFA World Cup is the 21st FIFA World...</td>\n      <td>[The, 2018, FIFA, World, Cup, is, the, 21st, F...</td>\n      <td>[(The, DET), (2018, ADV), (FIFA, ADV), (World,...</td>\n      <td>[(The, DET), (2018, NUM), (FIFA, NOUN), (World...</td>\n      <td>[(The, DET), (2018, NOUN), (FIFA, NOUN), (Worl...</td>\n    </tr>\n    <tr>\n      <th>6</th>\n      <td>This is the first World Cup to be held in East...</td>\n      <td>[This, is, the, first, World, Cup, to, be, hel...</td>\n      <td>[(This, DET), (is, VERB), (the, DET), (first, ...</td>\n      <td>[(This, DET), (is, VERB), (the, DET), (first, ...</td>\n      <td>[(This, DET), (is, VERB), (the, DET), (first, ...</td>\n    </tr>\n    <tr>\n      <th>7</th>\n      <td>Show me the cheapest round trips from Dallas t...</td>\n      <td>[Show, me, the, cheapest, round, trips, from, ...</td>\n      <td>[(Show, NOUN), (me, PRON), (the, DET), (cheape...</td>\n      <td>[(Show, NOUN), (me, PRON), (the, DET), (cheape...</td>\n      <td>[(Show, NOUN), (me, PRON), (the, DET), (cheape...</td>\n    </tr>\n    <tr>\n      <th>8</th>\n      <td>I would like to see flights from Denver to Phi...</td>\n      <td>[I, would, like, to, see, flights, from, Denve...</td>\n      <td>[(I, PRON), (would, VERB), (like, ADP), (to, P...</td>\n      <td>[(I, PRON), (would, VERB), (like, ADP), (to, P...</td>\n      <td>[(I, PRON), (would, VERB), (like, ADP), (to, P...</td>\n    </tr>\n    <tr>\n      <th>9</th>\n      <td>Show me the price of the flights leaving Atlan...</td>\n      <td>[Show, me, the, price, of, the, flights, leavi...</td>\n      <td>[(Show, NOUN), (me, PRON), (the, DET), (price,...</td>\n      <td>[(Show, NOUN), (me, PRON), (the, DET), (price,...</td>\n      <td>[(Show, NOUN), (me, PRON), (the, DET), (price,...</td>\n    </tr>\n    <tr>\n      <th>10</th>\n      <td>NASA invited social media users to experience ...</td>\n      <td>[NASA, invited, social, media, users, to, expe...</td>\n      <td>[(NASA, ADV), (invited, ADV), (social, ADJ), (...</td>\n      <td>[(NASA, NOUN), (invited, VERB), (social, ADJ),...</td>\n      <td>[(NASA, NOUN), (invited, NOUN), (social, ADJ),...</td>\n    </tr>\n  </tbody>\n</table>\n</div>"
     },
     "metadata": {},
     "execution_count": 51
    }
   ],
   "source": [
    "test_sentences_df"
   ]
  },
  {
   "source": [
    "We will print and compare the original sentence along with the tagging results from the different taggers."
   ],
   "cell_type": "markdown",
   "metadata": {}
  },
  {
   "cell_type": "code",
   "execution_count": 52,
   "metadata": {},
   "outputs": [],
   "source": [
    "def print_tagger_results(row):\n",
    "    print()\n",
    "    print('Original Sentence:')\n",
    "    print('------------------')\n",
    "    print(row.sentences,'\\n')\n",
    "\n",
    "    print('Tagged with Vanilla Viterbi')\n",
    "    print('---------------------------')\n",
    "    print(*row.tagged_vanilla_viterbi,'\\n')\n",
    "\n",
    "    print('Tagged with Viterbi with Backoff')\n",
    "    print('--------------------------------')\n",
    "    print(*row.tagged_backoff_viterbi,'\\n')\n",
    "\n",
    "    print('Tagged with Viterbi with Probability Based Switch')\n",
    "    print('-------------------------------------------------')\n",
    "    print(*row.tagged_prob_viterbi,'\\n')\n",
    "    print()\n",
    "  "
   ]
  },
  {
   "cell_type": "code",
   "execution_count": 53,
   "metadata": {},
   "outputs": [
    {
     "output_type": "stream",
     "name": "stderr",
     "text": [
      "Compare the Taggers:   0%|          | 0/11 [00:00<?, ?it/s]\n",
      "Original Sentence:\n",
      "------------------\n",
      "Android is a mobile operating system developed by Google. \n",
      "\n",
      "Tagged with Vanilla Viterbi\n",
      "---------------------------\n",
      "('Android', 'ADV') ('is', 'VERB') ('a', 'DET') ('mobile', 'ADJ') ('operating', 'NOUN') ('system', 'NOUN') ('developed', 'VERB') ('by', 'ADP') ('Google', 'ADV') ('.', '.') \n",
      "\n",
      "Tagged with Viterbi with Backoff\n",
      "--------------------------------\n",
      "('Android', 'NOUN') ('is', 'VERB') ('a', 'DET') ('mobile', 'ADJ') ('operating', 'NOUN') ('system', 'NOUN') ('developed', 'VERB') ('by', 'ADP') ('Google', 'NOUN') ('.', '.') \n",
      "\n",
      "Tagged with Viterbi with Probability Based Switch\n",
      "-------------------------------------------------\n",
      "('Android', 'NOUN') ('is', 'VERB') ('a', 'DET') ('mobile', 'ADJ') ('operating', 'NOUN') ('system', 'NOUN') ('developed', 'VERB') ('by', 'ADP') ('Google', 'DET') ('.', '.') \n",
      "\n",
      "\n",
      "\n",
      "Original Sentence:\n",
      "------------------\n",
      "Android has been the best-selling OS worldwide on smartphones since 2011 and on tablets since 2013. \n",
      "\n",
      "Tagged with Vanilla Viterbi\n",
      "---------------------------\n",
      "('Android', 'ADV') ('has', 'VERB') ('been', 'VERB') ('the', 'DET') ('best-selling', 'ADJ') ('OS', 'ADV') ('worldwide', 'ADV') ('on', 'ADP') ('smartphones', 'ADV') ('since', 'ADP') ('2011', 'ADV') ('and', 'CONJ') ('on', 'ADP') ('tablets', 'NOUN') ('since', 'ADP') ('2013', 'ADV') ('.', '.') \n",
      "\n",
      "Tagged with Viterbi with Backoff\n",
      "--------------------------------\n",
      "('Android', 'NOUN') ('has', 'VERB') ('been', 'VERB') ('the', 'DET') ('best-selling', 'ADJ') ('OS', 'NOUN') ('worldwide', 'NOUN') ('on', 'ADP') ('smartphones', 'VERB') ('since', 'ADP') ('2011', 'NUM') ('and', 'CONJ') ('on', 'ADP') ('tablets', 'NOUN') ('since', 'ADP') ('2013', 'NUM') ('.', '.') \n",
      "\n",
      "Tagged with Viterbi with Probability Based Switch\n",
      "-------------------------------------------------\n",
      "('Android', 'NOUN') ('has', 'VERB') ('been', 'VERB') ('the', 'DET') ('best-selling', 'ADJ') ('OS', 'NOUN') ('worldwide', 'NOUN') ('on', 'ADP') ('smartphones', 'DET') ('since', 'ADP') ('2011', 'DET') ('and', 'CONJ') ('on', 'ADP') ('tablets', 'NOUN') ('since', 'ADP') ('2013', 'DET') ('.', '.') \n",
      "\n",
      "\n",
      "\n",
      "Original Sentence:\n",
      "------------------\n",
      "Google and Twitter made a deal in 2015 that gave Google access to Twitter's firehose. \n",
      "\n",
      "Tagged with Vanilla Viterbi\n",
      "---------------------------\n",
      "('Google', 'ADV') ('and', 'CONJ') ('Twitter', 'ADV') ('made', 'VERB') ('a', 'DET') ('deal', 'NOUN') ('in', 'ADP') ('2015', 'ADV') ('that', 'ADP') ('gave', 'VERB') ('Google', 'ADV') ('access', 'NOUN') ('to', 'PRT') ('Twitter', 'ADV') (\"'s\", 'PRT') ('firehose', 'ADV') ('.', '.') \n",
      "\n",
      "Tagged with Viterbi with Backoff\n",
      "Compare the Taggers: 100%|██████████| 11/11 [00:00<00:00, 220.02it/s]--------------------------------\n",
      "('Google', 'NOUN') ('and', 'CONJ') ('Twitter', 'NOUN') ('made', 'VERB') ('a', 'DET') ('deal', 'NOUN') ('in', 'ADP') ('2015', 'NUM') ('that', 'ADP') ('gave', 'VERB') ('Google', 'NOUN') ('access', 'NOUN') ('to', 'PRT') ('Twitter', 'NOUN') (\"'s\", 'PRT') ('firehose', 'NOUN') ('.', '.') \n",
      "\n",
      "Tagged with Viterbi with Probability Based Switch\n",
      "-------------------------------------------------\n",
      "('Google', 'NOUN') ('and', 'CONJ') ('Twitter', 'NOUN') ('made', 'VERB') ('a', 'DET') ('deal', 'NOUN') ('in', 'ADP') ('2015', 'DET') ('that', 'ADP') ('gave', 'VERB') ('Google', 'X') ('access', 'NOUN') ('to', 'PRT') ('Twitter', 'VERB') (\"'s\", 'PRT') ('firehose', 'VERB') ('.', '.') \n",
      "\n",
      "\n",
      "\n",
      "Original Sentence:\n",
      "------------------\n",
      "Twitter is an online news and social networking service on which users post and interact with messages known as tweets. \n",
      "\n",
      "Tagged with Vanilla Viterbi\n",
      "---------------------------\n",
      "('Twitter', 'ADV') ('is', 'VERB') ('an', 'DET') ('online', 'ADV') ('news', 'NOUN') ('and', 'CONJ') ('social', 'ADJ') ('networking', 'NOUN') ('service', 'NOUN') ('on', 'ADP') ('which', 'DET') ('users', 'NOUN') ('post', 'NOUN') ('and', 'CONJ') ('interact', 'ADV') ('with', 'ADP') ('messages', 'ADV') ('known', 'VERB') ('as', 'ADP') ('tweets', 'ADV') ('.', '.') \n",
      "\n",
      "Tagged with Viterbi with Backoff\n",
      "--------------------------------\n",
      "('Twitter', 'NOUN') ('is', 'VERB') ('an', 'DET') ('online', 'NOUN') ('news', 'NOUN') ('and', 'CONJ') ('social', 'ADJ') ('networking', 'NOUN') ('service', 'NOUN') ('on', 'ADP') ('which', 'DET') ('users', 'NOUN') ('post', 'NOUN') ('and', 'CONJ') ('interact', 'NOUN') ('with', 'ADP') ('messages', 'VERB') ('known', 'VERB') ('as', 'ADP') ('tweets', 'NOUN') ('.', '.') \n",
      "\n",
      "Tagged with Viterbi with Probability Based Switch\n",
      "-------------------------------------------------\n",
      "('Twitter', 'NOUN') ('is', 'VERB') ('an', 'DET') ('online', 'NOUN') ('news', 'NOUN') ('and', 'CONJ') ('social', 'ADJ') ('networking', 'NOUN') ('service', 'NOUN') ('on', 'ADP') ('which', 'DET') ('users', 'NOUN') ('post', 'NOUN') ('and', 'CONJ') ('interact', 'NOUN') ('with', 'ADP') ('messages', 'DET') ('known', 'VERB') ('as', 'ADP') ('tweets', 'DET') ('.', '.') \n",
      "\n",
      "\n",
      "\n",
      "Original Sentence:\n",
      "------------------\n",
      "Before entering politics, Donald Trump was a domineering businessman and a television personality. \n",
      "\n",
      "Tagged with Vanilla Viterbi\n",
      "---------------------------\n",
      "('Before', 'ADP') ('entering', 'VERB') ('politics', 'NOUN') (',', '.') ('Donald', 'NOUN') ('Trump', 'NOUN') ('was', 'VERB') ('a', 'DET') ('domineering', 'ADV') ('businessman', 'NOUN') ('and', 'CONJ') ('a', 'DET') ('television', 'NOUN') ('personality', 'ADV') ('.', '.') \n",
      "\n",
      "Tagged with Viterbi with Backoff\n",
      "--------------------------------\n",
      "('Before', 'ADP') ('entering', 'VERB') ('politics', 'NOUN') (',', '.') ('Donald', 'NOUN') ('Trump', 'NOUN') ('was', 'VERB') ('a', 'DET') ('domineering', 'VERB') ('businessman', 'NOUN') ('and', 'CONJ') ('a', 'DET') ('television', 'NOUN') ('personality', 'NOUN') ('.', '.') \n",
      "\n",
      "Tagged with Viterbi with Probability Based Switch\n",
      "-------------------------------------------------\n",
      "('Before', 'ADP') ('entering', 'VERB') ('politics', 'NOUN') (',', '.') ('Donald', 'NOUN') ('Trump', 'NOUN') ('was', 'VERB') ('a', 'DET') ('domineering', 'NOUN') ('businessman', 'NOUN') ('and', 'CONJ') ('a', 'DET') ('television', 'NOUN') ('personality', 'NOUN') ('.', '.') \n",
      "\n",
      "\n",
      "\n",
      "Original Sentence:\n",
      "------------------\n",
      "The 2018 FIFA World Cup is the 21st FIFA World Cup, an international football tournament contested once every four years. \n",
      "\n",
      "Tagged with Vanilla Viterbi\n",
      "---------------------------\n",
      "('The', 'DET') ('2018', 'ADV') ('FIFA', 'ADV') ('World', 'NOUN') ('Cup', 'ADV') ('is', 'VERB') ('the', 'DET') ('21st', 'ADV') ('FIFA', 'ADV') ('World', 'NOUN') ('Cup', 'ADV') (',', '.') ('an', 'DET') ('international', 'ADJ') ('football', 'NOUN') ('tournament', 'ADV') ('contested', 'ADV') ('once', 'ADV') ('every', 'DET') ('four', 'NUM') ('years', 'NOUN') ('.', '.') \n",
      "\n",
      "Tagged with Viterbi with Backoff\n",
      "--------------------------------\n",
      "('The', 'DET') ('2018', 'NUM') ('FIFA', 'NOUN') ('World', 'NOUN') ('Cup', 'NOUN') ('is', 'VERB') ('the', 'DET') ('21st', 'NOUN') ('FIFA', 'NOUN') ('World', 'NOUN') ('Cup', 'NOUN') (',', '.') ('an', 'DET') ('international', 'ADJ') ('football', 'NOUN') ('tournament', 'NOUN') ('contested', 'VERB') ('once', 'ADV') ('every', 'DET') ('four', 'NUM') ('years', 'NOUN') ('.', '.') \n",
      "\n",
      "Tagged with Viterbi with Probability Based Switch\n",
      "-------------------------------------------------\n",
      "('The', 'DET') ('2018', 'NOUN') ('FIFA', 'NOUN') ('World', 'NOUN') ('Cup', 'NOUN') ('is', 'VERB') ('the', 'DET') ('21st', 'NOUN') ('FIFA', 'NOUN') ('World', 'NOUN') ('Cup', 'NOUN') (',', '.') ('an', 'DET') ('international', 'ADJ') ('football', 'NOUN') ('tournament', 'NOUN') ('contested', 'NOUN') ('once', 'ADV') ('every', 'DET') ('four', 'NUM') ('years', 'NOUN') ('.', '.') \n",
      "\n",
      "\n",
      "\n",
      "Original Sentence:\n",
      "------------------\n",
      "This is the first World Cup to be held in Eastern Europe and the 11th time that it has been held in Europe. \n",
      "\n",
      "Tagged with Vanilla Viterbi\n",
      "---------------------------\n",
      "('This', 'DET') ('is', 'VERB') ('the', 'DET') ('first', 'ADJ') ('World', 'NOUN') ('Cup', 'ADV') ('to', 'PRT') ('be', 'VERB') ('held', 'VERB') ('in', 'ADP') ('Eastern', 'NOUN') ('Europe', 'NOUN') ('and', 'CONJ') ('the', 'DET') ('11th', 'ADJ') ('time', 'NOUN') ('that', 'ADP') ('it', 'PRON') ('has', 'VERB') ('been', 'VERB') ('held', 'VERB') ('in', 'ADP') ('Europe', 'NOUN') ('.', '.') \n",
      "\n",
      "Tagged with Viterbi with Backoff\n",
      "--------------------------------\n",
      "('This', 'DET') ('is', 'VERB') ('the', 'DET') ('first', 'ADJ') ('World', 'NOUN') ('Cup', 'NOUN') ('to', 'PRT') ('be', 'VERB') ('held', 'VERB') ('in', 'ADP') ('Eastern', 'NOUN') ('Europe', 'NOUN') ('and', 'CONJ') ('the', 'DET') ('11th', 'ADJ') ('time', 'NOUN') ('that', 'ADP') ('it', 'PRON') ('has', 'VERB') ('been', 'VERB') ('held', 'VERB') ('in', 'ADP') ('Europe', 'NOUN') ('.', '.') \n",
      "\n",
      "Tagged with Viterbi with Probability Based Switch\n",
      "-------------------------------------------------\n",
      "('This', 'DET') ('is', 'VERB') ('the', 'DET') ('first', 'ADJ') ('World', 'NOUN') ('Cup', 'NOUN') ('to', 'PRT') ('be', 'VERB') ('held', 'VERB') ('in', 'ADP') ('Eastern', 'NOUN') ('Europe', 'NOUN') ('and', 'CONJ') ('the', 'DET') ('11th', 'ADJ') ('time', 'NOUN') ('that', 'ADP') ('it', 'PRON') ('has', 'VERB') ('been', 'VERB') ('held', 'VERB') ('in', 'ADP') ('Europe', 'NOUN') ('.', '.') \n",
      "\n",
      "\n",
      "\n",
      "Original Sentence:\n",
      "------------------\n",
      "Show me the cheapest round trips from Dallas to Atlanta \n",
      "\n",
      "Tagged with Vanilla Viterbi\n",
      "---------------------------\n",
      "('Show', 'NOUN') ('me', 'PRON') ('the', 'DET') ('cheapest', 'ADJ') ('round', 'NOUN') ('trips', 'ADV') ('from', 'ADP') ('Dallas', 'NOUN') ('to', 'PRT') ('Atlanta', 'NOUN') \n",
      "\n",
      "Tagged with Viterbi with Backoff\n",
      "--------------------------------\n",
      "('Show', 'NOUN') ('me', 'PRON') ('the', 'DET') ('cheapest', 'ADJ') ('round', 'NOUN') ('trips', 'NOUN') ('from', 'ADP') ('Dallas', 'NOUN') ('to', 'PRT') ('Atlanta', 'NOUN') \n",
      "\n",
      "Tagged with Viterbi with Probability Based Switch\n",
      "-------------------------------------------------\n",
      "('Show', 'NOUN') ('me', 'PRON') ('the', 'DET') ('cheapest', 'ADJ') ('round', 'NOUN') ('trips', 'NOUN') ('from', 'ADP') ('Dallas', 'NOUN') ('to', 'PRT') ('Atlanta', 'NOUN') \n",
      "\n",
      "\n",
      "\n",
      "Original Sentence:\n",
      "------------------\n",
      "I would like to see flights from Denver to Philadelphia. \n",
      "\n",
      "Tagged with Vanilla Viterbi\n",
      "---------------------------\n",
      "('I', 'PRON') ('would', 'VERB') ('like', 'ADP') ('to', 'PRT') ('see', 'VERB') ('flights', 'NOUN') ('from', 'ADP') ('Denver', 'NOUN') ('to', 'PRT') ('Philadelphia', 'NOUN') ('.', '.') \n",
      "\n",
      "Tagged with Viterbi with Backoff\n",
      "--------------------------------\n",
      "('I', 'PRON') ('would', 'VERB') ('like', 'ADP') ('to', 'PRT') ('see', 'VERB') ('flights', 'NOUN') ('from', 'ADP') ('Denver', 'NOUN') ('to', 'PRT') ('Philadelphia', 'NOUN') ('.', '.') \n",
      "\n",
      "Tagged with Viterbi with Probability Based Switch\n",
      "-------------------------------------------------\n",
      "('I', 'PRON') ('would', 'VERB') ('like', 'ADP') ('to', 'PRT') ('see', 'VERB') ('flights', 'NOUN') ('from', 'ADP') ('Denver', 'NOUN') ('to', 'PRT') ('Philadelphia', 'NOUN') ('.', '.') \n",
      "\n",
      "\n",
      "\n",
      "Original Sentence:\n",
      "------------------\n",
      "Show me the price of the flights leaving Atlanta at about 3 in the afternoon and arriving in San Francisco. \n",
      "\n",
      "Tagged with Vanilla Viterbi\n",
      "---------------------------\n",
      "('Show', 'NOUN') ('me', 'PRON') ('the', 'DET') ('price', 'NOUN') ('of', 'ADP') ('the', 'DET') ('flights', 'NOUN') ('leaving', 'VERB') ('Atlanta', 'NOUN') ('at', 'ADP') ('about', 'ADP') ('3', 'NUM') ('in', 'ADP') ('the', 'DET') ('afternoon', 'NOUN') ('and', 'CONJ') ('arriving', 'ADV') ('in', 'ADP') ('San', 'NOUN') ('Francisco', 'NOUN') ('.', '.') \n",
      "\n",
      "Tagged with Viterbi with Backoff\n",
      "--------------------------------\n",
      "('Show', 'NOUN') ('me', 'PRON') ('the', 'DET') ('price', 'NOUN') ('of', 'ADP') ('the', 'DET') ('flights', 'NOUN') ('leaving', 'VERB') ('Atlanta', 'NOUN') ('at', 'ADP') ('about', 'ADP') ('3', 'NUM') ('in', 'ADP') ('the', 'DET') ('afternoon', 'NOUN') ('and', 'CONJ') ('arriving', 'VERB') ('in', 'ADP') ('San', 'NOUN') ('Francisco', 'NOUN') ('.', '.') \n",
      "\n",
      "Tagged with Viterbi with Probability Based Switch\n",
      "-------------------------------------------------\n",
      "('Show', 'NOUN') ('me', 'PRON') ('the', 'DET') ('price', 'NOUN') ('of', 'ADP') ('the', 'DET') ('flights', 'NOUN') ('leaving', 'VERB') ('Atlanta', 'NOUN') ('at', 'ADP') ('about', 'ADP') ('3', 'NUM') ('in', 'ADP') ('the', 'DET') ('afternoon', 'NOUN') ('and', 'CONJ') ('arriving', 'NOUN') ('in', 'ADP') ('San', 'NOUN') ('Francisco', 'NOUN') ('.', '.') \n",
      "\n",
      "\n",
      "\n",
      "Original Sentence:\n",
      "------------------\n",
      "NASA invited social media users to experience the launch of ICESAT-2 Satellite. \n",
      "\n",
      "Tagged with Vanilla Viterbi\n",
      "---------------------------\n",
      "('NASA', 'ADV') ('invited', 'ADV') ('social', 'ADJ') ('media', 'NOUN') ('users', 'NOUN') ('to', 'PRT') ('experience', 'NOUN') ('the', 'DET') ('launch', 'NOUN') ('of', 'ADP') ('ICESAT-2', 'ADV') ('Satellite', 'ADV') ('.', '.') \n",
      "\n",
      "Tagged with Viterbi with Backoff\n",
      "--------------------------------\n",
      "('NASA', 'NOUN') ('invited', 'VERB') ('social', 'ADJ') ('media', 'NOUN') ('users', 'NOUN') ('to', 'PRT') ('experience', 'NOUN') ('the', 'DET') ('launch', 'NOUN') ('of', 'ADP') ('ICESAT-2', 'NOUN') ('Satellite', 'NOUN') ('.', '.') \n",
      "\n",
      "Tagged with Viterbi with Probability Based Switch\n",
      "-------------------------------------------------\n",
      "('NASA', 'NOUN') ('invited', 'NOUN') ('social', 'ADJ') ('media', 'NOUN') ('users', 'NOUN') ('to', 'PRT') ('experience', 'NOUN') ('the', 'DET') ('launch', 'NOUN') ('of', 'ADP') ('ICESAT-2', 'DET') ('Satellite', 'NOUN') ('.', '.') \n",
      "\n",
      "\n",
      "\n"
     ]
    },
    {
     "output_type": "execute_result",
     "data": {
      "text/plain": [
       "0     None\n",
       "1     None\n",
       "2     None\n",
       "3     None\n",
       "4     None\n",
       "5     None\n",
       "6     None\n",
       "7     None\n",
       "8     None\n",
       "9     None\n",
       "10    None\n",
       "dtype: object"
      ]
     },
     "metadata": {},
     "execution_count": 53
    }
   ],
   "source": [
    "# test_sentences_df.apply(lambda row: print_tagger_results(row),axis=1)\n",
    "tqdm.pandas(desc = 'Compare the Taggers')\n",
    "test_sentences_df.progress_apply(print_tagger_results,axis=1)"
   ]
  },
  {
   "source": [
    "### Compare unknown words tagging\n",
    "\n",
    "Compare the tagging side by side"
   ],
   "cell_type": "markdown",
   "metadata": {}
  },
  {
   "cell_type": "code",
   "execution_count": null,
   "metadata": {},
   "outputs": [],
   "source": []
  },
  {
   "cell_type": "code",
   "execution_count": 54,
   "metadata": {},
   "outputs": [],
   "source": [
    "tagged_unknown_words_df = pd.DataFrame(tagged_unknown_words_vanilla,columns=['word','vanilla_tag'])\n",
    "tagged_unknown_words_backoff_df = pd.DataFrame(tagged_unknown_words_backoff,columns=['word','backoff_tag'])\n",
    "tagged_unknown_words_prob_df = pd.DataFrame(tagged_unknown_words_prob,columns=['word','probabilty_based_tag'])"
   ]
  },
  {
   "cell_type": "code",
   "execution_count": 55,
   "metadata": {},
   "outputs": [
    {
     "output_type": "display_data",
     "data": {
      "text/html": "<style  type=\"text/css\" >\n</style><table id=\"T_405f3_\" style='display:inline'><caption>tagged_unknown_words_df</caption><thead>    <tr>        <th class=\"blank level0\" ></th>        <th class=\"col_heading level0 col0\" >word</th>        <th class=\"col_heading level0 col1\" >vanilla_tag</th>    </tr></thead><tbody>\n                <tr>\n                        <th id=\"T_405f3_level0_row0\" class=\"row_heading level0 row0\" >0</th>\n                        <td id=\"T_405f3_row0_col0\" class=\"data row0 col0\" >Android</td>\n                        <td id=\"T_405f3_row0_col1\" class=\"data row0 col1\" >ADV</td>\n            </tr>\n            <tr>\n                        <th id=\"T_405f3_level0_row1\" class=\"row_heading level0 row1\" >1</th>\n                        <td id=\"T_405f3_row1_col0\" class=\"data row1 col0\" >Google</td>\n                        <td id=\"T_405f3_row1_col1\" class=\"data row1 col1\" >ADV</td>\n            </tr>\n            <tr>\n                        <th id=\"T_405f3_level0_row2\" class=\"row_heading level0 row2\" >2</th>\n                        <td id=\"T_405f3_row2_col0\" class=\"data row2 col0\" >Android</td>\n                        <td id=\"T_405f3_row2_col1\" class=\"data row2 col1\" >ADV</td>\n            </tr>\n            <tr>\n                        <th id=\"T_405f3_level0_row3\" class=\"row_heading level0 row3\" >3</th>\n                        <td id=\"T_405f3_row3_col0\" class=\"data row3 col0\" >OS</td>\n                        <td id=\"T_405f3_row3_col1\" class=\"data row3 col1\" >ADV</td>\n            </tr>\n            <tr>\n                        <th id=\"T_405f3_level0_row4\" class=\"row_heading level0 row4\" >4</th>\n                        <td id=\"T_405f3_row4_col0\" class=\"data row4 col0\" >worldwide</td>\n                        <td id=\"T_405f3_row4_col1\" class=\"data row4 col1\" >ADV</td>\n            </tr>\n            <tr>\n                        <th id=\"T_405f3_level0_row5\" class=\"row_heading level0 row5\" >5</th>\n                        <td id=\"T_405f3_row5_col0\" class=\"data row5 col0\" >smartphones</td>\n                        <td id=\"T_405f3_row5_col1\" class=\"data row5 col1\" >ADV</td>\n            </tr>\n            <tr>\n                        <th id=\"T_405f3_level0_row6\" class=\"row_heading level0 row6\" >6</th>\n                        <td id=\"T_405f3_row6_col0\" class=\"data row6 col0\" >2011</td>\n                        <td id=\"T_405f3_row6_col1\" class=\"data row6 col1\" >ADV</td>\n            </tr>\n            <tr>\n                        <th id=\"T_405f3_level0_row7\" class=\"row_heading level0 row7\" >7</th>\n                        <td id=\"T_405f3_row7_col0\" class=\"data row7 col0\" >2013</td>\n                        <td id=\"T_405f3_row7_col1\" class=\"data row7 col1\" >ADV</td>\n            </tr>\n            <tr>\n                        <th id=\"T_405f3_level0_row8\" class=\"row_heading level0 row8\" >8</th>\n                        <td id=\"T_405f3_row8_col0\" class=\"data row8 col0\" >Google</td>\n                        <td id=\"T_405f3_row8_col1\" class=\"data row8 col1\" >ADV</td>\n            </tr>\n            <tr>\n                        <th id=\"T_405f3_level0_row9\" class=\"row_heading level0 row9\" >9</th>\n                        <td id=\"T_405f3_row9_col0\" class=\"data row9 col0\" >Twitter</td>\n                        <td id=\"T_405f3_row9_col1\" class=\"data row9 col1\" >ADV</td>\n            </tr>\n            <tr>\n                        <th id=\"T_405f3_level0_row10\" class=\"row_heading level0 row10\" >10</th>\n                        <td id=\"T_405f3_row10_col0\" class=\"data row10 col0\" >2015</td>\n                        <td id=\"T_405f3_row10_col1\" class=\"data row10 col1\" >ADV</td>\n            </tr>\n            <tr>\n                        <th id=\"T_405f3_level0_row11\" class=\"row_heading level0 row11\" >11</th>\n                        <td id=\"T_405f3_row11_col0\" class=\"data row11 col0\" >Google</td>\n                        <td id=\"T_405f3_row11_col1\" class=\"data row11 col1\" >ADV</td>\n            </tr>\n            <tr>\n                        <th id=\"T_405f3_level0_row12\" class=\"row_heading level0 row12\" >12</th>\n                        <td id=\"T_405f3_row12_col0\" class=\"data row12 col0\" >Twitter</td>\n                        <td id=\"T_405f3_row12_col1\" class=\"data row12 col1\" >ADV</td>\n            </tr>\n            <tr>\n                        <th id=\"T_405f3_level0_row13\" class=\"row_heading level0 row13\" >13</th>\n                        <td id=\"T_405f3_row13_col0\" class=\"data row13 col0\" >firehose</td>\n                        <td id=\"T_405f3_row13_col1\" class=\"data row13 col1\" >ADV</td>\n            </tr>\n            <tr>\n                        <th id=\"T_405f3_level0_row14\" class=\"row_heading level0 row14\" >14</th>\n                        <td id=\"T_405f3_row14_col0\" class=\"data row14 col0\" >Twitter</td>\n                        <td id=\"T_405f3_row14_col1\" class=\"data row14 col1\" >ADV</td>\n            </tr>\n            <tr>\n                        <th id=\"T_405f3_level0_row15\" class=\"row_heading level0 row15\" >15</th>\n                        <td id=\"T_405f3_row15_col0\" class=\"data row15 col0\" >online</td>\n                        <td id=\"T_405f3_row15_col1\" class=\"data row15 col1\" >ADV</td>\n            </tr>\n            <tr>\n                        <th id=\"T_405f3_level0_row16\" class=\"row_heading level0 row16\" >16</th>\n                        <td id=\"T_405f3_row16_col0\" class=\"data row16 col0\" >interact</td>\n                        <td id=\"T_405f3_row16_col1\" class=\"data row16 col1\" >ADV</td>\n            </tr>\n            <tr>\n                        <th id=\"T_405f3_level0_row17\" class=\"row_heading level0 row17\" >17</th>\n                        <td id=\"T_405f3_row17_col0\" class=\"data row17 col0\" >messages</td>\n                        <td id=\"T_405f3_row17_col1\" class=\"data row17 col1\" >ADV</td>\n            </tr>\n            <tr>\n                        <th id=\"T_405f3_level0_row18\" class=\"row_heading level0 row18\" >18</th>\n                        <td id=\"T_405f3_row18_col0\" class=\"data row18 col0\" >tweets</td>\n                        <td id=\"T_405f3_row18_col1\" class=\"data row18 col1\" >ADV</td>\n            </tr>\n            <tr>\n                        <th id=\"T_405f3_level0_row19\" class=\"row_heading level0 row19\" >19</th>\n                        <td id=\"T_405f3_row19_col0\" class=\"data row19 col0\" >domineering</td>\n                        <td id=\"T_405f3_row19_col1\" class=\"data row19 col1\" >ADV</td>\n            </tr>\n            <tr>\n                        <th id=\"T_405f3_level0_row20\" class=\"row_heading level0 row20\" >20</th>\n                        <td id=\"T_405f3_row20_col0\" class=\"data row20 col0\" >personality</td>\n                        <td id=\"T_405f3_row20_col1\" class=\"data row20 col1\" >ADV</td>\n            </tr>\n            <tr>\n                        <th id=\"T_405f3_level0_row21\" class=\"row_heading level0 row21\" >21</th>\n                        <td id=\"T_405f3_row21_col0\" class=\"data row21 col0\" >2018</td>\n                        <td id=\"T_405f3_row21_col1\" class=\"data row21 col1\" >ADV</td>\n            </tr>\n            <tr>\n                        <th id=\"T_405f3_level0_row22\" class=\"row_heading level0 row22\" >22</th>\n                        <td id=\"T_405f3_row22_col0\" class=\"data row22 col0\" >FIFA</td>\n                        <td id=\"T_405f3_row22_col1\" class=\"data row22 col1\" >ADV</td>\n            </tr>\n            <tr>\n                        <th id=\"T_405f3_level0_row23\" class=\"row_heading level0 row23\" >23</th>\n                        <td id=\"T_405f3_row23_col0\" class=\"data row23 col0\" >Cup</td>\n                        <td id=\"T_405f3_row23_col1\" class=\"data row23 col1\" >ADV</td>\n            </tr>\n            <tr>\n                        <th id=\"T_405f3_level0_row24\" class=\"row_heading level0 row24\" >24</th>\n                        <td id=\"T_405f3_row24_col0\" class=\"data row24 col0\" >21st</td>\n                        <td id=\"T_405f3_row24_col1\" class=\"data row24 col1\" >ADV</td>\n            </tr>\n            <tr>\n                        <th id=\"T_405f3_level0_row25\" class=\"row_heading level0 row25\" >25</th>\n                        <td id=\"T_405f3_row25_col0\" class=\"data row25 col0\" >FIFA</td>\n                        <td id=\"T_405f3_row25_col1\" class=\"data row25 col1\" >ADV</td>\n            </tr>\n            <tr>\n                        <th id=\"T_405f3_level0_row26\" class=\"row_heading level0 row26\" >26</th>\n                        <td id=\"T_405f3_row26_col0\" class=\"data row26 col0\" >Cup</td>\n                        <td id=\"T_405f3_row26_col1\" class=\"data row26 col1\" >ADV</td>\n            </tr>\n            <tr>\n                        <th id=\"T_405f3_level0_row27\" class=\"row_heading level0 row27\" >27</th>\n                        <td id=\"T_405f3_row27_col0\" class=\"data row27 col0\" >tournament</td>\n                        <td id=\"T_405f3_row27_col1\" class=\"data row27 col1\" >ADV</td>\n            </tr>\n            <tr>\n                        <th id=\"T_405f3_level0_row28\" class=\"row_heading level0 row28\" >28</th>\n                        <td id=\"T_405f3_row28_col0\" class=\"data row28 col0\" >contested</td>\n                        <td id=\"T_405f3_row28_col1\" class=\"data row28 col1\" >ADV</td>\n            </tr>\n            <tr>\n                        <th id=\"T_405f3_level0_row29\" class=\"row_heading level0 row29\" >29</th>\n                        <td id=\"T_405f3_row29_col0\" class=\"data row29 col0\" >Cup</td>\n                        <td id=\"T_405f3_row29_col1\" class=\"data row29 col1\" >ADV</td>\n            </tr>\n            <tr>\n                        <th id=\"T_405f3_level0_row30\" class=\"row_heading level0 row30\" >30</th>\n                        <td id=\"T_405f3_row30_col0\" class=\"data row30 col0\" >trips</td>\n                        <td id=\"T_405f3_row30_col1\" class=\"data row30 col1\" >ADV</td>\n            </tr>\n            <tr>\n                        <th id=\"T_405f3_level0_row31\" class=\"row_heading level0 row31\" >31</th>\n                        <td id=\"T_405f3_row31_col0\" class=\"data row31 col0\" >arriving</td>\n                        <td id=\"T_405f3_row31_col1\" class=\"data row31 col1\" >ADV</td>\n            </tr>\n            <tr>\n                        <th id=\"T_405f3_level0_row32\" class=\"row_heading level0 row32\" >32</th>\n                        <td id=\"T_405f3_row32_col0\" class=\"data row32 col0\" >NASA</td>\n                        <td id=\"T_405f3_row32_col1\" class=\"data row32 col1\" >ADV</td>\n            </tr>\n            <tr>\n                        <th id=\"T_405f3_level0_row33\" class=\"row_heading level0 row33\" >33</th>\n                        <td id=\"T_405f3_row33_col0\" class=\"data row33 col0\" >invited</td>\n                        <td id=\"T_405f3_row33_col1\" class=\"data row33 col1\" >ADV</td>\n            </tr>\n            <tr>\n                        <th id=\"T_405f3_level0_row34\" class=\"row_heading level0 row34\" >34</th>\n                        <td id=\"T_405f3_row34_col0\" class=\"data row34 col0\" >ICESAT-2</td>\n                        <td id=\"T_405f3_row34_col1\" class=\"data row34 col1\" >ADV</td>\n            </tr>\n            <tr>\n                        <th id=\"T_405f3_level0_row35\" class=\"row_heading level0 row35\" >35</th>\n                        <td id=\"T_405f3_row35_col0\" class=\"data row35 col0\" >Satellite</td>\n                        <td id=\"T_405f3_row35_col1\" class=\"data row35 col1\" >ADV</td>\n            </tr>\n    </tbody></table>          <style  type=\"text/css\" >\n</style><table id=\"T_1e5e8_\" style='display:inline'><caption>tagged_unknown_words_backoff_df</caption><thead>    <tr>        <th class=\"blank level0\" ></th>        <th class=\"col_heading level0 col0\" >word</th>        <th class=\"col_heading level0 col1\" >backoff_tag</th>    </tr></thead><tbody>\n                <tr>\n                        <th id=\"T_1e5e8_level0_row0\" class=\"row_heading level0 row0\" >0</th>\n                        <td id=\"T_1e5e8_row0_col0\" class=\"data row0 col0\" >Android</td>\n                        <td id=\"T_1e5e8_row0_col1\" class=\"data row0 col1\" >NOUN</td>\n            </tr>\n            <tr>\n                        <th id=\"T_1e5e8_level0_row1\" class=\"row_heading level0 row1\" >1</th>\n                        <td id=\"T_1e5e8_row1_col0\" class=\"data row1 col0\" >Google</td>\n                        <td id=\"T_1e5e8_row1_col1\" class=\"data row1 col1\" >NOUN</td>\n            </tr>\n            <tr>\n                        <th id=\"T_1e5e8_level0_row2\" class=\"row_heading level0 row2\" >2</th>\n                        <td id=\"T_1e5e8_row2_col0\" class=\"data row2 col0\" >Android</td>\n                        <td id=\"T_1e5e8_row2_col1\" class=\"data row2 col1\" >NOUN</td>\n            </tr>\n            <tr>\n                        <th id=\"T_1e5e8_level0_row3\" class=\"row_heading level0 row3\" >3</th>\n                        <td id=\"T_1e5e8_row3_col0\" class=\"data row3 col0\" >OS</td>\n                        <td id=\"T_1e5e8_row3_col1\" class=\"data row3 col1\" >NOUN</td>\n            </tr>\n            <tr>\n                        <th id=\"T_1e5e8_level0_row4\" class=\"row_heading level0 row4\" >4</th>\n                        <td id=\"T_1e5e8_row4_col0\" class=\"data row4 col0\" >worldwide</td>\n                        <td id=\"T_1e5e8_row4_col1\" class=\"data row4 col1\" >NOUN</td>\n            </tr>\n            <tr>\n                        <th id=\"T_1e5e8_level0_row5\" class=\"row_heading level0 row5\" >5</th>\n                        <td id=\"T_1e5e8_row5_col0\" class=\"data row5 col0\" >smartphones</td>\n                        <td id=\"T_1e5e8_row5_col1\" class=\"data row5 col1\" >VERB</td>\n            </tr>\n            <tr>\n                        <th id=\"T_1e5e8_level0_row6\" class=\"row_heading level0 row6\" >6</th>\n                        <td id=\"T_1e5e8_row6_col0\" class=\"data row6 col0\" >2011</td>\n                        <td id=\"T_1e5e8_row6_col1\" class=\"data row6 col1\" >NUM</td>\n            </tr>\n            <tr>\n                        <th id=\"T_1e5e8_level0_row7\" class=\"row_heading level0 row7\" >7</th>\n                        <td id=\"T_1e5e8_row7_col0\" class=\"data row7 col0\" >2013</td>\n                        <td id=\"T_1e5e8_row7_col1\" class=\"data row7 col1\" >NUM</td>\n            </tr>\n            <tr>\n                        <th id=\"T_1e5e8_level0_row8\" class=\"row_heading level0 row8\" >8</th>\n                        <td id=\"T_1e5e8_row8_col0\" class=\"data row8 col0\" >Google</td>\n                        <td id=\"T_1e5e8_row8_col1\" class=\"data row8 col1\" >NOUN</td>\n            </tr>\n            <tr>\n                        <th id=\"T_1e5e8_level0_row9\" class=\"row_heading level0 row9\" >9</th>\n                        <td id=\"T_1e5e8_row9_col0\" class=\"data row9 col0\" >Twitter</td>\n                        <td id=\"T_1e5e8_row9_col1\" class=\"data row9 col1\" >NOUN</td>\n            </tr>\n            <tr>\n                        <th id=\"T_1e5e8_level0_row10\" class=\"row_heading level0 row10\" >10</th>\n                        <td id=\"T_1e5e8_row10_col0\" class=\"data row10 col0\" >2015</td>\n                        <td id=\"T_1e5e8_row10_col1\" class=\"data row10 col1\" >NUM</td>\n            </tr>\n            <tr>\n                        <th id=\"T_1e5e8_level0_row11\" class=\"row_heading level0 row11\" >11</th>\n                        <td id=\"T_1e5e8_row11_col0\" class=\"data row11 col0\" >Google</td>\n                        <td id=\"T_1e5e8_row11_col1\" class=\"data row11 col1\" >NOUN</td>\n            </tr>\n            <tr>\n                        <th id=\"T_1e5e8_level0_row12\" class=\"row_heading level0 row12\" >12</th>\n                        <td id=\"T_1e5e8_row12_col0\" class=\"data row12 col0\" >Twitter</td>\n                        <td id=\"T_1e5e8_row12_col1\" class=\"data row12 col1\" >NOUN</td>\n            </tr>\n            <tr>\n                        <th id=\"T_1e5e8_level0_row13\" class=\"row_heading level0 row13\" >13</th>\n                        <td id=\"T_1e5e8_row13_col0\" class=\"data row13 col0\" >firehose</td>\n                        <td id=\"T_1e5e8_row13_col1\" class=\"data row13 col1\" >NOUN</td>\n            </tr>\n            <tr>\n                        <th id=\"T_1e5e8_level0_row14\" class=\"row_heading level0 row14\" >14</th>\n                        <td id=\"T_1e5e8_row14_col0\" class=\"data row14 col0\" >Twitter</td>\n                        <td id=\"T_1e5e8_row14_col1\" class=\"data row14 col1\" >NOUN</td>\n            </tr>\n            <tr>\n                        <th id=\"T_1e5e8_level0_row15\" class=\"row_heading level0 row15\" >15</th>\n                        <td id=\"T_1e5e8_row15_col0\" class=\"data row15 col0\" >online</td>\n                        <td id=\"T_1e5e8_row15_col1\" class=\"data row15 col1\" >NOUN</td>\n            </tr>\n            <tr>\n                        <th id=\"T_1e5e8_level0_row16\" class=\"row_heading level0 row16\" >16</th>\n                        <td id=\"T_1e5e8_row16_col0\" class=\"data row16 col0\" >interact</td>\n                        <td id=\"T_1e5e8_row16_col1\" class=\"data row16 col1\" >NOUN</td>\n            </tr>\n            <tr>\n                        <th id=\"T_1e5e8_level0_row17\" class=\"row_heading level0 row17\" >17</th>\n                        <td id=\"T_1e5e8_row17_col0\" class=\"data row17 col0\" >messages</td>\n                        <td id=\"T_1e5e8_row17_col1\" class=\"data row17 col1\" >VERB</td>\n            </tr>\n            <tr>\n                        <th id=\"T_1e5e8_level0_row18\" class=\"row_heading level0 row18\" >18</th>\n                        <td id=\"T_1e5e8_row18_col0\" class=\"data row18 col0\" >tweets</td>\n                        <td id=\"T_1e5e8_row18_col1\" class=\"data row18 col1\" >NOUN</td>\n            </tr>\n            <tr>\n                        <th id=\"T_1e5e8_level0_row19\" class=\"row_heading level0 row19\" >19</th>\n                        <td id=\"T_1e5e8_row19_col0\" class=\"data row19 col0\" >domineering</td>\n                        <td id=\"T_1e5e8_row19_col1\" class=\"data row19 col1\" >VERB</td>\n            </tr>\n            <tr>\n                        <th id=\"T_1e5e8_level0_row20\" class=\"row_heading level0 row20\" >20</th>\n                        <td id=\"T_1e5e8_row20_col0\" class=\"data row20 col0\" >personality</td>\n                        <td id=\"T_1e5e8_row20_col1\" class=\"data row20 col1\" >NOUN</td>\n            </tr>\n            <tr>\n                        <th id=\"T_1e5e8_level0_row21\" class=\"row_heading level0 row21\" >21</th>\n                        <td id=\"T_1e5e8_row21_col0\" class=\"data row21 col0\" >2018</td>\n                        <td id=\"T_1e5e8_row21_col1\" class=\"data row21 col1\" >NUM</td>\n            </tr>\n            <tr>\n                        <th id=\"T_1e5e8_level0_row22\" class=\"row_heading level0 row22\" >22</th>\n                        <td id=\"T_1e5e8_row22_col0\" class=\"data row22 col0\" >FIFA</td>\n                        <td id=\"T_1e5e8_row22_col1\" class=\"data row22 col1\" >NOUN</td>\n            </tr>\n            <tr>\n                        <th id=\"T_1e5e8_level0_row23\" class=\"row_heading level0 row23\" >23</th>\n                        <td id=\"T_1e5e8_row23_col0\" class=\"data row23 col0\" >Cup</td>\n                        <td id=\"T_1e5e8_row23_col1\" class=\"data row23 col1\" >NOUN</td>\n            </tr>\n            <tr>\n                        <th id=\"T_1e5e8_level0_row24\" class=\"row_heading level0 row24\" >24</th>\n                        <td id=\"T_1e5e8_row24_col0\" class=\"data row24 col0\" >21st</td>\n                        <td id=\"T_1e5e8_row24_col1\" class=\"data row24 col1\" >NOUN</td>\n            </tr>\n            <tr>\n                        <th id=\"T_1e5e8_level0_row25\" class=\"row_heading level0 row25\" >25</th>\n                        <td id=\"T_1e5e8_row25_col0\" class=\"data row25 col0\" >FIFA</td>\n                        <td id=\"T_1e5e8_row25_col1\" class=\"data row25 col1\" >NOUN</td>\n            </tr>\n            <tr>\n                        <th id=\"T_1e5e8_level0_row26\" class=\"row_heading level0 row26\" >26</th>\n                        <td id=\"T_1e5e8_row26_col0\" class=\"data row26 col0\" >Cup</td>\n                        <td id=\"T_1e5e8_row26_col1\" class=\"data row26 col1\" >NOUN</td>\n            </tr>\n            <tr>\n                        <th id=\"T_1e5e8_level0_row27\" class=\"row_heading level0 row27\" >27</th>\n                        <td id=\"T_1e5e8_row27_col0\" class=\"data row27 col0\" >tournament</td>\n                        <td id=\"T_1e5e8_row27_col1\" class=\"data row27 col1\" >NOUN</td>\n            </tr>\n            <tr>\n                        <th id=\"T_1e5e8_level0_row28\" class=\"row_heading level0 row28\" >28</th>\n                        <td id=\"T_1e5e8_row28_col0\" class=\"data row28 col0\" >contested</td>\n                        <td id=\"T_1e5e8_row28_col1\" class=\"data row28 col1\" >VERB</td>\n            </tr>\n            <tr>\n                        <th id=\"T_1e5e8_level0_row29\" class=\"row_heading level0 row29\" >29</th>\n                        <td id=\"T_1e5e8_row29_col0\" class=\"data row29 col0\" >Cup</td>\n                        <td id=\"T_1e5e8_row29_col1\" class=\"data row29 col1\" >NOUN</td>\n            </tr>\n            <tr>\n                        <th id=\"T_1e5e8_level0_row30\" class=\"row_heading level0 row30\" >30</th>\n                        <td id=\"T_1e5e8_row30_col0\" class=\"data row30 col0\" >trips</td>\n                        <td id=\"T_1e5e8_row30_col1\" class=\"data row30 col1\" >NOUN</td>\n            </tr>\n            <tr>\n                        <th id=\"T_1e5e8_level0_row31\" class=\"row_heading level0 row31\" >31</th>\n                        <td id=\"T_1e5e8_row31_col0\" class=\"data row31 col0\" >arriving</td>\n                        <td id=\"T_1e5e8_row31_col1\" class=\"data row31 col1\" >VERB</td>\n            </tr>\n            <tr>\n                        <th id=\"T_1e5e8_level0_row32\" class=\"row_heading level0 row32\" >32</th>\n                        <td id=\"T_1e5e8_row32_col0\" class=\"data row32 col0\" >NASA</td>\n                        <td id=\"T_1e5e8_row32_col1\" class=\"data row32 col1\" >NOUN</td>\n            </tr>\n            <tr>\n                        <th id=\"T_1e5e8_level0_row33\" class=\"row_heading level0 row33\" >33</th>\n                        <td id=\"T_1e5e8_row33_col0\" class=\"data row33 col0\" >invited</td>\n                        <td id=\"T_1e5e8_row33_col1\" class=\"data row33 col1\" >VERB</td>\n            </tr>\n            <tr>\n                        <th id=\"T_1e5e8_level0_row34\" class=\"row_heading level0 row34\" >34</th>\n                        <td id=\"T_1e5e8_row34_col0\" class=\"data row34 col0\" >ICESAT-2</td>\n                        <td id=\"T_1e5e8_row34_col1\" class=\"data row34 col1\" >NOUN</td>\n            </tr>\n            <tr>\n                        <th id=\"T_1e5e8_level0_row35\" class=\"row_heading level0 row35\" >35</th>\n                        <td id=\"T_1e5e8_row35_col0\" class=\"data row35 col0\" >Satellite</td>\n                        <td id=\"T_1e5e8_row35_col1\" class=\"data row35 col1\" >NOUN</td>\n            </tr>\n    </tbody></table>          <style  type=\"text/css\" >\n</style><table id=\"T_f3bb1_\" style='display:inline'><caption>tagged_unknown_words_prob_df</caption><thead>    <tr>        <th class=\"blank level0\" ></th>        <th class=\"col_heading level0 col0\" >word</th>        <th class=\"col_heading level0 col1\" >probabilty_based_tag</th>    </tr></thead><tbody>\n                <tr>\n                        <th id=\"T_f3bb1_level0_row0\" class=\"row_heading level0 row0\" >0</th>\n                        <td id=\"T_f3bb1_row0_col0\" class=\"data row0 col0\" >Android</td>\n                        <td id=\"T_f3bb1_row0_col1\" class=\"data row0 col1\" >NOUN</td>\n            </tr>\n            <tr>\n                        <th id=\"T_f3bb1_level0_row1\" class=\"row_heading level0 row1\" >1</th>\n                        <td id=\"T_f3bb1_row1_col0\" class=\"data row1 col0\" >Google</td>\n                        <td id=\"T_f3bb1_row1_col1\" class=\"data row1 col1\" >DET</td>\n            </tr>\n            <tr>\n                        <th id=\"T_f3bb1_level0_row2\" class=\"row_heading level0 row2\" >2</th>\n                        <td id=\"T_f3bb1_row2_col0\" class=\"data row2 col0\" >Android</td>\n                        <td id=\"T_f3bb1_row2_col1\" class=\"data row2 col1\" >NOUN</td>\n            </tr>\n            <tr>\n                        <th id=\"T_f3bb1_level0_row3\" class=\"row_heading level0 row3\" >3</th>\n                        <td id=\"T_f3bb1_row3_col0\" class=\"data row3 col0\" >OS</td>\n                        <td id=\"T_f3bb1_row3_col1\" class=\"data row3 col1\" >NOUN</td>\n            </tr>\n            <tr>\n                        <th id=\"T_f3bb1_level0_row4\" class=\"row_heading level0 row4\" >4</th>\n                        <td id=\"T_f3bb1_row4_col0\" class=\"data row4 col0\" >worldwide</td>\n                        <td id=\"T_f3bb1_row4_col1\" class=\"data row4 col1\" >NOUN</td>\n            </tr>\n            <tr>\n                        <th id=\"T_f3bb1_level0_row5\" class=\"row_heading level0 row5\" >5</th>\n                        <td id=\"T_f3bb1_row5_col0\" class=\"data row5 col0\" >smartphones</td>\n                        <td id=\"T_f3bb1_row5_col1\" class=\"data row5 col1\" >DET</td>\n            </tr>\n            <tr>\n                        <th id=\"T_f3bb1_level0_row6\" class=\"row_heading level0 row6\" >6</th>\n                        <td id=\"T_f3bb1_row6_col0\" class=\"data row6 col0\" >2011</td>\n                        <td id=\"T_f3bb1_row6_col1\" class=\"data row6 col1\" >DET</td>\n            </tr>\n            <tr>\n                        <th id=\"T_f3bb1_level0_row7\" class=\"row_heading level0 row7\" >7</th>\n                        <td id=\"T_f3bb1_row7_col0\" class=\"data row7 col0\" >2013</td>\n                        <td id=\"T_f3bb1_row7_col1\" class=\"data row7 col1\" >DET</td>\n            </tr>\n            <tr>\n                        <th id=\"T_f3bb1_level0_row8\" class=\"row_heading level0 row8\" >8</th>\n                        <td id=\"T_f3bb1_row8_col0\" class=\"data row8 col0\" >Google</td>\n                        <td id=\"T_f3bb1_row8_col1\" class=\"data row8 col1\" >NOUN</td>\n            </tr>\n            <tr>\n                        <th id=\"T_f3bb1_level0_row9\" class=\"row_heading level0 row9\" >9</th>\n                        <td id=\"T_f3bb1_row9_col0\" class=\"data row9 col0\" >Twitter</td>\n                        <td id=\"T_f3bb1_row9_col1\" class=\"data row9 col1\" >NOUN</td>\n            </tr>\n            <tr>\n                        <th id=\"T_f3bb1_level0_row10\" class=\"row_heading level0 row10\" >10</th>\n                        <td id=\"T_f3bb1_row10_col0\" class=\"data row10 col0\" >2015</td>\n                        <td id=\"T_f3bb1_row10_col1\" class=\"data row10 col1\" >DET</td>\n            </tr>\n            <tr>\n                        <th id=\"T_f3bb1_level0_row11\" class=\"row_heading level0 row11\" >11</th>\n                        <td id=\"T_f3bb1_row11_col0\" class=\"data row11 col0\" >Google</td>\n                        <td id=\"T_f3bb1_row11_col1\" class=\"data row11 col1\" >X</td>\n            </tr>\n            <tr>\n                        <th id=\"T_f3bb1_level0_row12\" class=\"row_heading level0 row12\" >12</th>\n                        <td id=\"T_f3bb1_row12_col0\" class=\"data row12 col0\" >Twitter</td>\n                        <td id=\"T_f3bb1_row12_col1\" class=\"data row12 col1\" >VERB</td>\n            </tr>\n            <tr>\n                        <th id=\"T_f3bb1_level0_row13\" class=\"row_heading level0 row13\" >13</th>\n                        <td id=\"T_f3bb1_row13_col0\" class=\"data row13 col0\" >firehose</td>\n                        <td id=\"T_f3bb1_row13_col1\" class=\"data row13 col1\" >VERB</td>\n            </tr>\n            <tr>\n                        <th id=\"T_f3bb1_level0_row14\" class=\"row_heading level0 row14\" >14</th>\n                        <td id=\"T_f3bb1_row14_col0\" class=\"data row14 col0\" >Twitter</td>\n                        <td id=\"T_f3bb1_row14_col1\" class=\"data row14 col1\" >NOUN</td>\n            </tr>\n            <tr>\n                        <th id=\"T_f3bb1_level0_row15\" class=\"row_heading level0 row15\" >15</th>\n                        <td id=\"T_f3bb1_row15_col0\" class=\"data row15 col0\" >online</td>\n                        <td id=\"T_f3bb1_row15_col1\" class=\"data row15 col1\" >NOUN</td>\n            </tr>\n            <tr>\n                        <th id=\"T_f3bb1_level0_row16\" class=\"row_heading level0 row16\" >16</th>\n                        <td id=\"T_f3bb1_row16_col0\" class=\"data row16 col0\" >interact</td>\n                        <td id=\"T_f3bb1_row16_col1\" class=\"data row16 col1\" >NOUN</td>\n            </tr>\n            <tr>\n                        <th id=\"T_f3bb1_level0_row17\" class=\"row_heading level0 row17\" >17</th>\n                        <td id=\"T_f3bb1_row17_col0\" class=\"data row17 col0\" >messages</td>\n                        <td id=\"T_f3bb1_row17_col1\" class=\"data row17 col1\" >DET</td>\n            </tr>\n            <tr>\n                        <th id=\"T_f3bb1_level0_row18\" class=\"row_heading level0 row18\" >18</th>\n                        <td id=\"T_f3bb1_row18_col0\" class=\"data row18 col0\" >tweets</td>\n                        <td id=\"T_f3bb1_row18_col1\" class=\"data row18 col1\" >DET</td>\n            </tr>\n            <tr>\n                        <th id=\"T_f3bb1_level0_row19\" class=\"row_heading level0 row19\" >19</th>\n                        <td id=\"T_f3bb1_row19_col0\" class=\"data row19 col0\" >domineering</td>\n                        <td id=\"T_f3bb1_row19_col1\" class=\"data row19 col1\" >NOUN</td>\n            </tr>\n            <tr>\n                        <th id=\"T_f3bb1_level0_row20\" class=\"row_heading level0 row20\" >20</th>\n                        <td id=\"T_f3bb1_row20_col0\" class=\"data row20 col0\" >personality</td>\n                        <td id=\"T_f3bb1_row20_col1\" class=\"data row20 col1\" >NOUN</td>\n            </tr>\n            <tr>\n                        <th id=\"T_f3bb1_level0_row21\" class=\"row_heading level0 row21\" >21</th>\n                        <td id=\"T_f3bb1_row21_col0\" class=\"data row21 col0\" >2018</td>\n                        <td id=\"T_f3bb1_row21_col1\" class=\"data row21 col1\" >NOUN</td>\n            </tr>\n            <tr>\n                        <th id=\"T_f3bb1_level0_row22\" class=\"row_heading level0 row22\" >22</th>\n                        <td id=\"T_f3bb1_row22_col0\" class=\"data row22 col0\" >FIFA</td>\n                        <td id=\"T_f3bb1_row22_col1\" class=\"data row22 col1\" >NOUN</td>\n            </tr>\n            <tr>\n                        <th id=\"T_f3bb1_level0_row23\" class=\"row_heading level0 row23\" >23</th>\n                        <td id=\"T_f3bb1_row23_col0\" class=\"data row23 col0\" >Cup</td>\n                        <td id=\"T_f3bb1_row23_col1\" class=\"data row23 col1\" >NOUN</td>\n            </tr>\n            <tr>\n                        <th id=\"T_f3bb1_level0_row24\" class=\"row_heading level0 row24\" >24</th>\n                        <td id=\"T_f3bb1_row24_col0\" class=\"data row24 col0\" >21st</td>\n                        <td id=\"T_f3bb1_row24_col1\" class=\"data row24 col1\" >NOUN</td>\n            </tr>\n            <tr>\n                        <th id=\"T_f3bb1_level0_row25\" class=\"row_heading level0 row25\" >25</th>\n                        <td id=\"T_f3bb1_row25_col0\" class=\"data row25 col0\" >FIFA</td>\n                        <td id=\"T_f3bb1_row25_col1\" class=\"data row25 col1\" >NOUN</td>\n            </tr>\n            <tr>\n                        <th id=\"T_f3bb1_level0_row26\" class=\"row_heading level0 row26\" >26</th>\n                        <td id=\"T_f3bb1_row26_col0\" class=\"data row26 col0\" >Cup</td>\n                        <td id=\"T_f3bb1_row26_col1\" class=\"data row26 col1\" >NOUN</td>\n            </tr>\n            <tr>\n                        <th id=\"T_f3bb1_level0_row27\" class=\"row_heading level0 row27\" >27</th>\n                        <td id=\"T_f3bb1_row27_col0\" class=\"data row27 col0\" >tournament</td>\n                        <td id=\"T_f3bb1_row27_col1\" class=\"data row27 col1\" >NOUN</td>\n            </tr>\n            <tr>\n                        <th id=\"T_f3bb1_level0_row28\" class=\"row_heading level0 row28\" >28</th>\n                        <td id=\"T_f3bb1_row28_col0\" class=\"data row28 col0\" >contested</td>\n                        <td id=\"T_f3bb1_row28_col1\" class=\"data row28 col1\" >NOUN</td>\n            </tr>\n            <tr>\n                        <th id=\"T_f3bb1_level0_row29\" class=\"row_heading level0 row29\" >29</th>\n                        <td id=\"T_f3bb1_row29_col0\" class=\"data row29 col0\" >Cup</td>\n                        <td id=\"T_f3bb1_row29_col1\" class=\"data row29 col1\" >NOUN</td>\n            </tr>\n            <tr>\n                        <th id=\"T_f3bb1_level0_row30\" class=\"row_heading level0 row30\" >30</th>\n                        <td id=\"T_f3bb1_row30_col0\" class=\"data row30 col0\" >trips</td>\n                        <td id=\"T_f3bb1_row30_col1\" class=\"data row30 col1\" >NOUN</td>\n            </tr>\n            <tr>\n                        <th id=\"T_f3bb1_level0_row31\" class=\"row_heading level0 row31\" >31</th>\n                        <td id=\"T_f3bb1_row31_col0\" class=\"data row31 col0\" >arriving</td>\n                        <td id=\"T_f3bb1_row31_col1\" class=\"data row31 col1\" >NOUN</td>\n            </tr>\n            <tr>\n                        <th id=\"T_f3bb1_level0_row32\" class=\"row_heading level0 row32\" >32</th>\n                        <td id=\"T_f3bb1_row32_col0\" class=\"data row32 col0\" >NASA</td>\n                        <td id=\"T_f3bb1_row32_col1\" class=\"data row32 col1\" >NOUN</td>\n            </tr>\n            <tr>\n                        <th id=\"T_f3bb1_level0_row33\" class=\"row_heading level0 row33\" >33</th>\n                        <td id=\"T_f3bb1_row33_col0\" class=\"data row33 col0\" >invited</td>\n                        <td id=\"T_f3bb1_row33_col1\" class=\"data row33 col1\" >NOUN</td>\n            </tr>\n            <tr>\n                        <th id=\"T_f3bb1_level0_row34\" class=\"row_heading level0 row34\" >34</th>\n                        <td id=\"T_f3bb1_row34_col0\" class=\"data row34 col0\" >ICESAT-2</td>\n                        <td id=\"T_f3bb1_row34_col1\" class=\"data row34 col1\" >DET</td>\n            </tr>\n            <tr>\n                        <th id=\"T_f3bb1_level0_row35\" class=\"row_heading level0 row35\" >35</th>\n                        <td id=\"T_f3bb1_row35_col0\" class=\"data row35 col0\" >Satellite</td>\n                        <td id=\"T_f3bb1_row35_col1\" class=\"data row35 col1\" >NOUN</td>\n            </tr>\n    </tbody></table>"
     },
     "metadata": {}
    }
   ],
   "source": [
    "# Set Pandas style attribute to display the dataframes side by side\n",
    "from IPython.display import display_html \n",
    "\n",
    "\n",
    "tagged_unknown_words_df_styler = tagged_unknown_words_df.style.set_table_attributes(\"style='display:inline'\").set_caption('tagged_unknown_words_df')\n",
    "tagged_unknown_words_backoff_df_styler = tagged_unknown_words_backoff_df.style.set_table_attributes(\"style='display:inline'\").set_caption('tagged_unknown_words_backoff_df')\n",
    "tagged_unknown_words_prob_df_styler = tagged_unknown_words_prob_df.style.set_table_attributes(\"style='display:inline'\").set_caption('tagged_unknown_words_prob_df')\n",
    "\n",
    "space = \"\\xa0\" * 10\n",
    "\n",
    "display_html(tagged_unknown_words_df_styler._repr_html_()+space+tagged_unknown_words_backoff_df_styler._repr_html_()+space+tagged_unknown_words_prob_df_styler._repr_html_(), raw=True)"
   ]
  },
  {
   "source": [
    "Some sample corrections using our modifications that standout are:\n",
    "\n",
    "1. `Android` are now being being tagged as `NOUN` (originally tagged arbitrarily).\n",
    "2. `arriving` are now being being tagged as `VERB` (originally tagged arbitrarily).\n",
    "3. `2011`, `2013` are now being tagged as `NUM`. (originally tagged arbitrarily)\n",
    "\n",
    "\n",
    "The modifications clearly help the vanilla viterbi algorithm to tag the unknown words in a better way."
   ],
   "cell_type": "markdown",
   "metadata": {}
  }
 ],
 "metadata": {
  "kernelspec": {
   "name": "python3",
   "display_name": "Python 3",
   "language": "python"
  },
  "language_info": {
   "codemirror_mode": {
    "name": "ipython",
    "version": 3
   },
   "file_extension": ".py",
   "mimetype": "text/x-python",
   "name": "python",
   "nbconvert_exporter": "python",
   "pygments_lexer": "ipython3",
   "version": "3.8.6"
  }
 },
 "nbformat": 4,
 "nbformat_minor": 2
}