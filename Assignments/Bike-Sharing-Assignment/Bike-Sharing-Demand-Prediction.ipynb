{
 "metadata": {
  "language_info": {
   "codemirror_mode": {
    "name": "ipython",
    "version": 3
   },
   "file_extension": ".py",
   "mimetype": "text/x-python",
   "name": "python",
   "nbconvert_exporter": "python",
   "pygments_lexer": "ipython3",
   "version": "3.8.3-final"
  },
  "orig_nbformat": 2,
  "kernelspec": {
   "name": "Python 3.8.3 64-bit ('.venv')",
   "display_name": "Python 3.8.3 64-bit ('.venv')",
   "metadata": {
    "interpreter": {
     "hash": "b507fa764e1ac951ac859d6b36c0c5568f99e59d793d9909ca5bc1fcdae82b50"
    }
   }
  }
 },
 "nbformat": 4,
 "nbformat_minor": 2,
 "cells": [
  {
   "source": [
    "# Bike Sharing Demand Prediction"
   ],
   "cell_type": "markdown",
   "metadata": {}
  },
  {
   "source": [
    "## Problem Statement\n",
    "\n",
    "A bike-sharing system is a service in which bikes are made available for shared use to individuals on a short term basis for a price or free. Many bike share systems allow people to borrow a bike from a \"dock\" which is usually computer-controlled wherein the user enters the payment information, and the system unlocks it. This bike can then be returned to another dock belonging to the same system. <br>\n",
    "\n",
    "A US bike-sharing provider BoomBikes has recently suffered considerable dips in their revenues due to the ongoing Corona pandemic. The company is finding it very difficult to sustain in the current market scenario. So, it has decided to come up with a mindful business plan to be able to accelerate its revenue as soon as the ongoing lockdown comes to an end, and the economy restores to a healthy state. \n",
    "\n",
    "In such an attempt, BoomBikes aspires to understand the demand for shared bikes among the people after this ongoing quarantine situation ends across the nation due to Covid-19. They have planned this to prepare themselves to cater to the people's needs once the situation gets better all around and stand out from other service providers and make huge profits.\n",
    "\n",
    "They have contracted a consulting company to understand the factors on which the demand for these shared bikes depends. Specifically, they want to understand the factors affecting the demand for these shared bikes in the American market. The company wants to know:\n",
    "\n",
    "- Which variables are significant in predicting the demand for shared bikes.\n",
    "- How well those variables describe the bike demands\n",
    "\n",
    "Based on various meteorological surveys and people's styles, the service provider firm has gathered a large dataset on daily bike demands across the American market based on some \n",
    "factors. \n",
    "\n",
    "## Business Goal\n",
    "\n",
    "Model the demand for shared bikes with the available independent variables. <br>\n",
    "It will be used by the management to understand how exactly the demands vary with different features.\n",
    "\n"
   ],
   "cell_type": "markdown",
   "metadata": {}
  },
  {
   "source": [
    "### Libraries"
   ],
   "cell_type": "markdown",
   "metadata": {}
  },
  {
   "cell_type": "code",
   "execution_count": 1,
   "metadata": {},
   "outputs": [],
   "source": [
    "import pandas as pd \n",
    "import numpy as np \n",
    "import matplotlib.pyplot as plt \n",
    "import seaborn as sns \n",
    "\n",
    "from sklearn.model_selection import train_test_split\n",
    "from sklearn.metrics import r2_score"
   ]
  },
  {
   "source": [
    "### Load Dataset and Data Dictionary"
   ],
   "cell_type": "markdown",
   "metadata": {}
  },
  {
   "cell_type": "code",
   "execution_count": 2,
   "metadata": {},
   "outputs": [
    {
     "output_type": "execute_result",
     "data": {
      "text/plain": [
       "   instant      dteday  season  yr  mnth  holiday  weekday  workingday  \\\n",
       "0        1  01-01-2018       1   0     1        0        6           0   \n",
       "1        2  02-01-2018       1   0     1        0        0           0   \n",
       "2        3  03-01-2018       1   0     1        0        1           1   \n",
       "3        4  04-01-2018       1   0     1        0        2           1   \n",
       "4        5  05-01-2018       1   0     1        0        3           1   \n",
       "\n",
       "   weathersit       temp     atemp      hum  windspeed  casual  registered  \\\n",
       "0           2  14.110847  18.18125  80.5833  10.749882     331         654   \n",
       "1           2  14.902598  17.68695  69.6087  16.652113     131         670   \n",
       "2           1   8.050924   9.47025  43.7273  16.636703     120        1229   \n",
       "3           1   8.200000  10.60610  59.0435  10.739832     108        1454   \n",
       "4           1   9.305237  11.46350  43.6957  12.522300      82        1518   \n",
       "\n",
       "    cnt  \n",
       "0   985  \n",
       "1   801  \n",
       "2  1349  \n",
       "3  1562  \n",
       "4  1600  "
      ],
      "text/html": "<div>\n<style scoped>\n    .dataframe tbody tr th:only-of-type {\n        vertical-align: middle;\n    }\n\n    .dataframe tbody tr th {\n        vertical-align: top;\n    }\n\n    .dataframe thead th {\n        text-align: right;\n    }\n</style>\n<table border=\"1\" class=\"dataframe\">\n  <thead>\n    <tr style=\"text-align: right;\">\n      <th></th>\n      <th>instant</th>\n      <th>dteday</th>\n      <th>season</th>\n      <th>yr</th>\n      <th>mnth</th>\n      <th>holiday</th>\n      <th>weekday</th>\n      <th>workingday</th>\n      <th>weathersit</th>\n      <th>temp</th>\n      <th>atemp</th>\n      <th>hum</th>\n      <th>windspeed</th>\n      <th>casual</th>\n      <th>registered</th>\n      <th>cnt</th>\n    </tr>\n  </thead>\n  <tbody>\n    <tr>\n      <th>0</th>\n      <td>1</td>\n      <td>01-01-2018</td>\n      <td>1</td>\n      <td>0</td>\n      <td>1</td>\n      <td>0</td>\n      <td>6</td>\n      <td>0</td>\n      <td>2</td>\n      <td>14.110847</td>\n      <td>18.18125</td>\n      <td>80.5833</td>\n      <td>10.749882</td>\n      <td>331</td>\n      <td>654</td>\n      <td>985</td>\n    </tr>\n    <tr>\n      <th>1</th>\n      <td>2</td>\n      <td>02-01-2018</td>\n      <td>1</td>\n      <td>0</td>\n      <td>1</td>\n      <td>0</td>\n      <td>0</td>\n      <td>0</td>\n      <td>2</td>\n      <td>14.902598</td>\n      <td>17.68695</td>\n      <td>69.6087</td>\n      <td>16.652113</td>\n      <td>131</td>\n      <td>670</td>\n      <td>801</td>\n    </tr>\n    <tr>\n      <th>2</th>\n      <td>3</td>\n      <td>03-01-2018</td>\n      <td>1</td>\n      <td>0</td>\n      <td>1</td>\n      <td>0</td>\n      <td>1</td>\n      <td>1</td>\n      <td>1</td>\n      <td>8.050924</td>\n      <td>9.47025</td>\n      <td>43.7273</td>\n      <td>16.636703</td>\n      <td>120</td>\n      <td>1229</td>\n      <td>1349</td>\n    </tr>\n    <tr>\n      <th>3</th>\n      <td>4</td>\n      <td>04-01-2018</td>\n      <td>1</td>\n      <td>0</td>\n      <td>1</td>\n      <td>0</td>\n      <td>2</td>\n      <td>1</td>\n      <td>1</td>\n      <td>8.200000</td>\n      <td>10.60610</td>\n      <td>59.0435</td>\n      <td>10.739832</td>\n      <td>108</td>\n      <td>1454</td>\n      <td>1562</td>\n    </tr>\n    <tr>\n      <th>4</th>\n      <td>5</td>\n      <td>05-01-2018</td>\n      <td>1</td>\n      <td>0</td>\n      <td>1</td>\n      <td>0</td>\n      <td>3</td>\n      <td>1</td>\n      <td>1</td>\n      <td>9.305237</td>\n      <td>11.46350</td>\n      <td>43.6957</td>\n      <td>12.522300</td>\n      <td>82</td>\n      <td>1518</td>\n      <td>1600</td>\n    </tr>\n  </tbody>\n</table>\n</div>"
     },
     "metadata": {},
     "execution_count": 2
    }
   ],
   "source": [
    "# Load Dataset\n",
    "bikes_df = pd.read_csv('day.csv')\n",
    "bikes_df.head()"
   ]
  },
  {
   "cell_type": "code",
   "execution_count": 3,
   "metadata": {},
   "outputs": [
    {
     "output_type": "stream",
     "name": "stdout",
     "text": [
      "=========================================\nDataset characteristics\n=========================================\t\nday.csv have the following fields:\n\t\n\t- instant: record index\n\t- dteday : date\n\t- season : season (1:spring, 2:summer, 3:fall, 4:winter)\n\t- yr : year (0: 2018, 1:2019)\n\t- mnth : month ( 1 to 12)\n\t- holiday : weather day is a holiday or not (extracted from http://dchr.dc.gov/page/holiday-schedule)\n\t- weekday : day of the week\n\t- workingday : if day is neither weekend nor holiday is 1, otherwise is 0.\n\t+ weathersit : \n\t\t- 1: Clear, Few clouds, Partly cloudy, Partly cloudy\n\t\t- 2: Mist + Cloudy, Mist + Broken clouds, Mist + Few clouds, Mist\n\t\t- 3: Light Snow, Light Rain + Thunderstorm + Scattered clouds, Light Rain + Scattered clouds\n\t\t- 4: Heavy Rain + Ice Pallets + Thunderstorm + Mist, Snow + Fog\n\t- temp : temperature in Celsius\n\t- atemp: feeling temperature in Celsius\n\t- hum: humidity\n\t- windspeed: wind speed\n\t- casual: count of casual users\n\t- registered: count of registered users\n\t- cnt: count of total rental bikes including both casual and registered\n\t\n=========================================\nLicense\n=========================================\nUse of this dataset in publications must be cited to the following publication:\n\n[1] Fanaee-T, Hadi, and Gama, Joao, \"Event labeling combining ensemble detectors and background knowledge\", Progress in Artificial Intelligence (2013): pp. 1-15, Springer Berlin Heidelberg, doi:10.1007/s13748-013-0040-3.\n\n@article{\n\tyear={2013},\n\tissn={2192-6352},\n\tjournal={Progress in Artificial Intelligence},\n\tdoi={10.1007/s13748-013-0040-3},\n\ttitle={Event labeling combining ensemble detectors and background knowledge},\n\turl={http://dx.doi.org/10.1007/s13748-013-0040-3},\n\tpublisher={Springer Berlin Heidelberg},\n\tkeywords={Event labeling; Event detection; Ensemble learning; Background knowledge},\n\tauthor={Fanaee-T, Hadi and Gama, Joao},\n\tpages={1-15}\n}\n\n=========================================\nContact\n=========================================\n\t\nFor further information about this dataset please contact Hadi Fanaee-T (hadi.fanaee@fe.up.pt)\n\n"
     ]
    }
   ],
   "source": [
    "# Load Dictionary\n",
    "\n",
    "with open('Readme.txt') as file:\n",
    "    print(file.read())"
   ]
  },
  {
   "source": [
    "On understanding the dataset and the meaning of the features, we can intially drop a few features from our analysis as \n",
    "they will not add any value to the model building. <br>\n",
    "\n",
    "1.  __instant__: Can be removed as it is just the record index.\n",
    "2.  __casual__ and __registered__: Can be removed as they are jointly the Target Variabel cnt "
   ],
   "cell_type": "markdown",
   "metadata": {}
  },
  {
   "cell_type": "code",
   "execution_count": 4,
   "metadata": {},
   "outputs": [],
   "source": [
    "bikes_df.drop(columns=['instant','casual','registered'],inplace=True)"
   ]
  },
  {
   "cell_type": "code",
   "execution_count": 5,
   "metadata": {},
   "outputs": [
    {
     "output_type": "stream",
     "name": "stdout",
     "text": [
      "<class 'pandas.core.frame.DataFrame'>\nRangeIndex: 730 entries, 0 to 729\nData columns (total 13 columns):\n #   Column      Non-Null Count  Dtype  \n---  ------      --------------  -----  \n 0   dteday      730 non-null    object \n 1   season      730 non-null    int64  \n 2   yr          730 non-null    int64  \n 3   mnth        730 non-null    int64  \n 4   holiday     730 non-null    int64  \n 5   weekday     730 non-null    int64  \n 6   workingday  730 non-null    int64  \n 7   weathersit  730 non-null    int64  \n 8   temp        730 non-null    float64\n 9   atemp       730 non-null    float64\n 10  hum         730 non-null    float64\n 11  windspeed   730 non-null    float64\n 12  cnt         730 non-null    int64  \ndtypes: float64(4), int64(8), object(1)\nmemory usage: 74.3+ KB\n"
     ]
    }
   ],
   "source": [
    "bikes_df.info()"
   ]
  },
  {
   "source": [
    "It appears to be the case that there are no missing values in the dataset."
   ],
   "cell_type": "markdown",
   "metadata": {}
  },
  {
   "source": [
    "### Descriptive Statistics"
   ],
   "cell_type": "markdown",
   "metadata": {}
  },
  {
   "cell_type": "code",
   "execution_count": 6,
   "metadata": {},
   "outputs": [
    {
     "output_type": "execute_result",
     "data": {
      "text/plain": [
       "           season          yr        mnth     holiday     weekday  workingday  \\\n",
       "count  730.000000  730.000000  730.000000  730.000000  730.000000  730.000000   \n",
       "mean     2.498630    0.500000    6.526027    0.028767    2.997260    0.683562   \n",
       "std      1.110184    0.500343    3.450215    0.167266    2.006161    0.465405   \n",
       "min      1.000000    0.000000    1.000000    0.000000    0.000000    0.000000   \n",
       "25%      2.000000    0.000000    4.000000    0.000000    1.000000    0.000000   \n",
       "50%      3.000000    0.500000    7.000000    0.000000    3.000000    1.000000   \n",
       "75%      3.000000    1.000000   10.000000    0.000000    5.000000    1.000000   \n",
       "max      4.000000    1.000000   12.000000    1.000000    6.000000    1.000000   \n",
       "\n",
       "       weathersit        temp       atemp         hum   windspeed          cnt  \n",
       "count  730.000000  730.000000  730.000000  730.000000  730.000000   730.000000  \n",
       "mean     1.394521   20.319259   23.726322   62.765175   12.763620  4508.006849  \n",
       "std      0.544807    7.506729    8.150308   14.237589    5.195841  1936.011647  \n",
       "min      1.000000    2.424346    3.953480    0.000000    1.500244    22.000000  \n",
       "25%      1.000000   13.811885   16.889713   52.000000    9.041650  3169.750000  \n",
       "50%      1.000000   20.465826   24.368225   62.625000   12.125325  4548.500000  \n",
       "75%      2.000000   26.880615   30.445775   72.989575   15.625589  5966.000000  \n",
       "max      3.000000   35.328347   42.044800   97.250000   34.000021  8714.000000  "
      ],
      "text/html": "<div>\n<style scoped>\n    .dataframe tbody tr th:only-of-type {\n        vertical-align: middle;\n    }\n\n    .dataframe tbody tr th {\n        vertical-align: top;\n    }\n\n    .dataframe thead th {\n        text-align: right;\n    }\n</style>\n<table border=\"1\" class=\"dataframe\">\n  <thead>\n    <tr style=\"text-align: right;\">\n      <th></th>\n      <th>season</th>\n      <th>yr</th>\n      <th>mnth</th>\n      <th>holiday</th>\n      <th>weekday</th>\n      <th>workingday</th>\n      <th>weathersit</th>\n      <th>temp</th>\n      <th>atemp</th>\n      <th>hum</th>\n      <th>windspeed</th>\n      <th>cnt</th>\n    </tr>\n  </thead>\n  <tbody>\n    <tr>\n      <th>count</th>\n      <td>730.000000</td>\n      <td>730.000000</td>\n      <td>730.000000</td>\n      <td>730.000000</td>\n      <td>730.000000</td>\n      <td>730.000000</td>\n      <td>730.000000</td>\n      <td>730.000000</td>\n      <td>730.000000</td>\n      <td>730.000000</td>\n      <td>730.000000</td>\n      <td>730.000000</td>\n    </tr>\n    <tr>\n      <th>mean</th>\n      <td>2.498630</td>\n      <td>0.500000</td>\n      <td>6.526027</td>\n      <td>0.028767</td>\n      <td>2.997260</td>\n      <td>0.683562</td>\n      <td>1.394521</td>\n      <td>20.319259</td>\n      <td>23.726322</td>\n      <td>62.765175</td>\n      <td>12.763620</td>\n      <td>4508.006849</td>\n    </tr>\n    <tr>\n      <th>std</th>\n      <td>1.110184</td>\n      <td>0.500343</td>\n      <td>3.450215</td>\n      <td>0.167266</td>\n      <td>2.006161</td>\n      <td>0.465405</td>\n      <td>0.544807</td>\n      <td>7.506729</td>\n      <td>8.150308</td>\n      <td>14.237589</td>\n      <td>5.195841</td>\n      <td>1936.011647</td>\n    </tr>\n    <tr>\n      <th>min</th>\n      <td>1.000000</td>\n      <td>0.000000</td>\n      <td>1.000000</td>\n      <td>0.000000</td>\n      <td>0.000000</td>\n      <td>0.000000</td>\n      <td>1.000000</td>\n      <td>2.424346</td>\n      <td>3.953480</td>\n      <td>0.000000</td>\n      <td>1.500244</td>\n      <td>22.000000</td>\n    </tr>\n    <tr>\n      <th>25%</th>\n      <td>2.000000</td>\n      <td>0.000000</td>\n      <td>4.000000</td>\n      <td>0.000000</td>\n      <td>1.000000</td>\n      <td>0.000000</td>\n      <td>1.000000</td>\n      <td>13.811885</td>\n      <td>16.889713</td>\n      <td>52.000000</td>\n      <td>9.041650</td>\n      <td>3169.750000</td>\n    </tr>\n    <tr>\n      <th>50%</th>\n      <td>3.000000</td>\n      <td>0.500000</td>\n      <td>7.000000</td>\n      <td>0.000000</td>\n      <td>3.000000</td>\n      <td>1.000000</td>\n      <td>1.000000</td>\n      <td>20.465826</td>\n      <td>24.368225</td>\n      <td>62.625000</td>\n      <td>12.125325</td>\n      <td>4548.500000</td>\n    </tr>\n    <tr>\n      <th>75%</th>\n      <td>3.000000</td>\n      <td>1.000000</td>\n      <td>10.000000</td>\n      <td>0.000000</td>\n      <td>5.000000</td>\n      <td>1.000000</td>\n      <td>2.000000</td>\n      <td>26.880615</td>\n      <td>30.445775</td>\n      <td>72.989575</td>\n      <td>15.625589</td>\n      <td>5966.000000</td>\n    </tr>\n    <tr>\n      <th>max</th>\n      <td>4.000000</td>\n      <td>1.000000</td>\n      <td>12.000000</td>\n      <td>1.000000</td>\n      <td>6.000000</td>\n      <td>1.000000</td>\n      <td>3.000000</td>\n      <td>35.328347</td>\n      <td>42.044800</td>\n      <td>97.250000</td>\n      <td>34.000021</td>\n      <td>8714.000000</td>\n    </tr>\n  </tbody>\n</table>\n</div>"
     },
     "metadata": {},
     "execution_count": 6
    }
   ],
   "source": [
    "bikes_df.describe()"
   ]
  },
  {
   "cell_type": "code",
   "execution_count": 7,
   "metadata": {},
   "outputs": [
    {
     "output_type": "execute_result",
     "data": {
      "text/plain": [
       "dteday         object\n",
       "season          int64\n",
       "yr              int64\n",
       "mnth            int64\n",
       "holiday         int64\n",
       "weekday         int64\n",
       "workingday      int64\n",
       "weathersit      int64\n",
       "temp          float64\n",
       "atemp         float64\n",
       "hum           float64\n",
       "windspeed     float64\n",
       "cnt             int64\n",
       "dtype: object"
      ]
     },
     "metadata": {},
     "execution_count": 7
    }
   ],
   "source": [
    "bikes_df.dtypes"
   ]
  },
  {
   "cell_type": "code",
   "execution_count": 8,
   "metadata": {},
   "outputs": [],
   "source": [
    "# Extract day of the month from Dates\n",
    "bikes_df['dates'] = pd.to_datetime(bikes_df.dteday,format = '%d-%m-%Y').dt.day"
   ]
  },
  {
   "cell_type": "code",
   "execution_count": 9,
   "metadata": {},
   "outputs": [],
   "source": [
    "# drop dteday\n",
    "bikes_df.drop(columns=['dteday'],inplace=True)"
   ]
  },
  {
   "cell_type": "code",
   "execution_count": 10,
   "metadata": {},
   "outputs": [
    {
     "output_type": "execute_result",
     "data": {
      "text/plain": [
       "   season  yr  mnth  holiday  weekday  workingday  weathersit       temp  \\\n",
       "0       1   0     1        0        6           0           2  14.110847   \n",
       "1       1   0     1        0        0           0           2  14.902598   \n",
       "2       1   0     1        0        1           1           1   8.050924   \n",
       "3       1   0     1        0        2           1           1   8.200000   \n",
       "4       1   0     1        0        3           1           1   9.305237   \n",
       "\n",
       "      atemp      hum  windspeed   cnt  dates  \n",
       "0  18.18125  80.5833  10.749882   985      1  \n",
       "1  17.68695  69.6087  16.652113   801      2  \n",
       "2   9.47025  43.7273  16.636703  1349      3  \n",
       "3  10.60610  59.0435  10.739832  1562      4  \n",
       "4  11.46350  43.6957  12.522300  1600      5  "
      ],
      "text/html": "<div>\n<style scoped>\n    .dataframe tbody tr th:only-of-type {\n        vertical-align: middle;\n    }\n\n    .dataframe tbody tr th {\n        vertical-align: top;\n    }\n\n    .dataframe thead th {\n        text-align: right;\n    }\n</style>\n<table border=\"1\" class=\"dataframe\">\n  <thead>\n    <tr style=\"text-align: right;\">\n      <th></th>\n      <th>season</th>\n      <th>yr</th>\n      <th>mnth</th>\n      <th>holiday</th>\n      <th>weekday</th>\n      <th>workingday</th>\n      <th>weathersit</th>\n      <th>temp</th>\n      <th>atemp</th>\n      <th>hum</th>\n      <th>windspeed</th>\n      <th>cnt</th>\n      <th>dates</th>\n    </tr>\n  </thead>\n  <tbody>\n    <tr>\n      <th>0</th>\n      <td>1</td>\n      <td>0</td>\n      <td>1</td>\n      <td>0</td>\n      <td>6</td>\n      <td>0</td>\n      <td>2</td>\n      <td>14.110847</td>\n      <td>18.18125</td>\n      <td>80.5833</td>\n      <td>10.749882</td>\n      <td>985</td>\n      <td>1</td>\n    </tr>\n    <tr>\n      <th>1</th>\n      <td>1</td>\n      <td>0</td>\n      <td>1</td>\n      <td>0</td>\n      <td>0</td>\n      <td>0</td>\n      <td>2</td>\n      <td>14.902598</td>\n      <td>17.68695</td>\n      <td>69.6087</td>\n      <td>16.652113</td>\n      <td>801</td>\n      <td>2</td>\n    </tr>\n    <tr>\n      <th>2</th>\n      <td>1</td>\n      <td>0</td>\n      <td>1</td>\n      <td>0</td>\n      <td>1</td>\n      <td>1</td>\n      <td>1</td>\n      <td>8.050924</td>\n      <td>9.47025</td>\n      <td>43.7273</td>\n      <td>16.636703</td>\n      <td>1349</td>\n      <td>3</td>\n    </tr>\n    <tr>\n      <th>3</th>\n      <td>1</td>\n      <td>0</td>\n      <td>1</td>\n      <td>0</td>\n      <td>2</td>\n      <td>1</td>\n      <td>1</td>\n      <td>8.200000</td>\n      <td>10.60610</td>\n      <td>59.0435</td>\n      <td>10.739832</td>\n      <td>1562</td>\n      <td>4</td>\n    </tr>\n    <tr>\n      <th>4</th>\n      <td>1</td>\n      <td>0</td>\n      <td>1</td>\n      <td>0</td>\n      <td>3</td>\n      <td>1</td>\n      <td>1</td>\n      <td>9.305237</td>\n      <td>11.46350</td>\n      <td>43.6957</td>\n      <td>12.522300</td>\n      <td>1600</td>\n      <td>5</td>\n    </tr>\n  </tbody>\n</table>\n</div>"
     },
     "metadata": {},
     "execution_count": 10
    }
   ],
   "source": [
    "bikes_df.head()"
   ]
  },
  {
   "source": [
    "Now the continous features as per the dictionary are __temp, atemp, hum, windspeed__. <br/>\n",
    "And as seen from above, we do not need to make any changes to the data types for these columns."
   ],
   "cell_type": "markdown",
   "metadata": {}
  },
  {
   "source": [
    "### Handling Categorical Features\n",
    "\n",
    "Before proceeding further we have to handle the categorical features.\n",
    "\n",
    "1.  Replace values in categorical columns with more interpretable values rather than numerical values.\n",
    "2.  Convert data type of dates column to categorical.\n",
    "3.  One-Hot Encode the categorical variables."
   ],
   "cell_type": "markdown",
   "metadata": {}
  },
  {
   "cell_type": "code",
   "execution_count": 11,
   "metadata": {},
   "outputs": [],
   "source": [
    "bikes_df['season'] = bikes_df.season.map({1:'spring', 2:'summer', 3:'fall', 4:'winter'})"
   ]
  },
  {
   "cell_type": "code",
   "execution_count": 12,
   "metadata": {},
   "outputs": [],
   "source": [
    "bikes_df['mnth'] = bikes_df.mnth.map({1:'Jan', 2:'Feb', 3:'Mar', 4:'Apr', 5:'May', 6:'Jun', 7:'Jul', 8:'Aug', 9:'Sep', 10:'Oct', 11:'Nov', 12:'Dec'}\n",
    ")"
   ]
  },
  {
   "cell_type": "code",
   "execution_count": 13,
   "metadata": {},
   "outputs": [],
   "source": [
    "bikes_df['weekday'] = bikes_df.weekday.map({0:'sunday',1:'monday',2:'tuesday',3:'wednesday',4:'thursday',5:'friday',6:'saturday'})"
   ]
  },
  {
   "cell_type": "code",
   "execution_count": 14,
   "metadata": {},
   "outputs": [],
   "source": [
    "bikes_df['holiday'] = bikes_df.holiday.map({0:'not_holiday',1:'holiday'})"
   ]
  },
  {
   "cell_type": "code",
   "execution_count": 15,
   "metadata": {},
   "outputs": [],
   "source": [
    "bikes_df['workingday'] = bikes_df.workingday.map({0:'non_working_day',1:'working_day'})"
   ]
  },
  {
   "cell_type": "code",
   "execution_count": 16,
   "metadata": {},
   "outputs": [],
   "source": [
    "# Lets decode the weathersit as follows:\n",
    "# 1. Clear, Few clouds, Partly cloudy, Partly cloudy : almost_clear\n",
    "# 2. Mist + Cloudy, Mist + Broken clouds, Mist + Few clouds, Mist : misty\n",
    "# 3. Light Snow, Light Rain + Thunderstorm + Scattered clouds, Light Rain + Scattered clouds : lighy_rain_snow\n",
    "# 4. Heavy Rain + Ice Pallets + Thunderstorm + Mist, Snow + Fog: extreme\n",
    "\n",
    "\n",
    "bikes_df['weathersit'] = bikes_df.weathersit.map({1: 'almost_clear', 2: 'misty', 3: 'lighy_rain_snow',4: 'extreme'})"
   ]
  },
  {
   "cell_type": "code",
   "execution_count": 17,
   "metadata": {},
   "outputs": [
    {
     "output_type": "execute_result",
     "data": {
      "text/plain": [
       "   season  yr mnth      holiday    weekday       workingday    weathersit  \\\n",
       "0  spring   0  Jan  not_holiday   saturday  non_working_day         misty   \n",
       "1  spring   0  Jan  not_holiday     sunday  non_working_day         misty   \n",
       "2  spring   0  Jan  not_holiday     monday      working_day  almost_clear   \n",
       "3  spring   0  Jan  not_holiday    tuesday      working_day  almost_clear   \n",
       "4  spring   0  Jan  not_holiday  wednesday      working_day  almost_clear   \n",
       "\n",
       "        temp     atemp      hum  windspeed   cnt  dates  \n",
       "0  14.110847  18.18125  80.5833  10.749882   985      1  \n",
       "1  14.902598  17.68695  69.6087  16.652113   801      2  \n",
       "2   8.050924   9.47025  43.7273  16.636703  1349      3  \n",
       "3   8.200000  10.60610  59.0435  10.739832  1562      4  \n",
       "4   9.305237  11.46350  43.6957  12.522300  1600      5  "
      ],
      "text/html": "<div>\n<style scoped>\n    .dataframe tbody tr th:only-of-type {\n        vertical-align: middle;\n    }\n\n    .dataframe tbody tr th {\n        vertical-align: top;\n    }\n\n    .dataframe thead th {\n        text-align: right;\n    }\n</style>\n<table border=\"1\" class=\"dataframe\">\n  <thead>\n    <tr style=\"text-align: right;\">\n      <th></th>\n      <th>season</th>\n      <th>yr</th>\n      <th>mnth</th>\n      <th>holiday</th>\n      <th>weekday</th>\n      <th>workingday</th>\n      <th>weathersit</th>\n      <th>temp</th>\n      <th>atemp</th>\n      <th>hum</th>\n      <th>windspeed</th>\n      <th>cnt</th>\n      <th>dates</th>\n    </tr>\n  </thead>\n  <tbody>\n    <tr>\n      <th>0</th>\n      <td>spring</td>\n      <td>0</td>\n      <td>Jan</td>\n      <td>not_holiday</td>\n      <td>saturday</td>\n      <td>non_working_day</td>\n      <td>misty</td>\n      <td>14.110847</td>\n      <td>18.18125</td>\n      <td>80.5833</td>\n      <td>10.749882</td>\n      <td>985</td>\n      <td>1</td>\n    </tr>\n    <tr>\n      <th>1</th>\n      <td>spring</td>\n      <td>0</td>\n      <td>Jan</td>\n      <td>not_holiday</td>\n      <td>sunday</td>\n      <td>non_working_day</td>\n      <td>misty</td>\n      <td>14.902598</td>\n      <td>17.68695</td>\n      <td>69.6087</td>\n      <td>16.652113</td>\n      <td>801</td>\n      <td>2</td>\n    </tr>\n    <tr>\n      <th>2</th>\n      <td>spring</td>\n      <td>0</td>\n      <td>Jan</td>\n      <td>not_holiday</td>\n      <td>monday</td>\n      <td>working_day</td>\n      <td>almost_clear</td>\n      <td>8.050924</td>\n      <td>9.47025</td>\n      <td>43.7273</td>\n      <td>16.636703</td>\n      <td>1349</td>\n      <td>3</td>\n    </tr>\n    <tr>\n      <th>3</th>\n      <td>spring</td>\n      <td>0</td>\n      <td>Jan</td>\n      <td>not_holiday</td>\n      <td>tuesday</td>\n      <td>working_day</td>\n      <td>almost_clear</td>\n      <td>8.200000</td>\n      <td>10.60610</td>\n      <td>59.0435</td>\n      <td>10.739832</td>\n      <td>1562</td>\n      <td>4</td>\n    </tr>\n    <tr>\n      <th>4</th>\n      <td>spring</td>\n      <td>0</td>\n      <td>Jan</td>\n      <td>not_holiday</td>\n      <td>wednesday</td>\n      <td>working_day</td>\n      <td>almost_clear</td>\n      <td>9.305237</td>\n      <td>11.46350</td>\n      <td>43.6957</td>\n      <td>12.522300</td>\n      <td>1600</td>\n      <td>5</td>\n    </tr>\n  </tbody>\n</table>\n</div>"
     },
     "metadata": {},
     "execution_count": 17
    }
   ],
   "source": [
    "bikes_df.head()"
   ]
  },
  {
   "cell_type": "code",
   "execution_count": 22,
   "metadata": {},
   "outputs": [],
   "source": [
    "bikes_df['dates'] = bikes_df.dates.astype('category')"
   ]
  },
  {
   "cell_type": "code",
   "execution_count": 23,
   "metadata": {},
   "outputs": [
    {
     "output_type": "stream",
     "name": "stdout",
     "text": [
      "<class 'pandas.core.frame.DataFrame'>\nRangeIndex: 730 entries, 0 to 729\nData columns (total 13 columns):\n #   Column      Non-Null Count  Dtype   \n---  ------      --------------  -----   \n 0   season      730 non-null    object  \n 1   yr          730 non-null    int64   \n 2   mnth        730 non-null    object  \n 3   holiday     730 non-null    object  \n 4   weekday     730 non-null    object  \n 5   workingday  730 non-null    object  \n 6   weathersit  730 non-null    object  \n 7   temp        730 non-null    float64 \n 8   atemp       730 non-null    float64 \n 9   hum         730 non-null    float64 \n 10  windspeed   730 non-null    float64 \n 11  cnt         730 non-null    int64   \n 12  dates       730 non-null    category\ndtypes: category(1), float64(4), int64(2), object(6)\nmemory usage: 70.8+ KB\n"
     ]
    }
   ],
   "source": [
    "bikes_df.info()"
   ]
  },
  {
   "source": [
    "We have mapped all categories respectively, now we will convert them into one-hot encoded format."
   ],
   "cell_type": "markdown",
   "metadata": {}
  },
  {
   "cell_type": "code",
   "execution_count": null,
   "metadata": {},
   "outputs": [],
   "source": []
  }
 ]
}