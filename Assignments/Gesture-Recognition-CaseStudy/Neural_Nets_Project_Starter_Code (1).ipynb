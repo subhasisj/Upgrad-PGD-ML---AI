{
 "cells": [
  {
   "cell_type": "markdown",
   "metadata": {},
   "source": [
    "# Gesture Recognition\n",
    "In this group project, you are going to build a 3D Conv model that will be able to predict the 5 gestures correctly. Please import the following libraries to get started."
   ]
  },
  {
   "cell_type": "code",
   "execution_count": 1,
   "metadata": {},
   "outputs": [],
   "source": [
    "# https://github.com/prateekralhan/Gesture-Recognition-Case-study-IIITB-Assignment-"
   ]
  },
  {
   "cell_type": "code",
   "execution_count": 2,
   "metadata": {},
   "outputs": [],
   "source": [
    "import numpy as np\r\n",
    "import os\r\n",
    "# from scipy.misc import imread, imresize\r\n",
    "from skimage.io import imread\r\n",
    "from skimage.transform import resize as imresize\r\n",
    "import datetime\r\n",
    "import os"
   ]
  },
  {
   "cell_type": "markdown",
   "metadata": {},
   "source": [
    "We set the random seed so that the results don't vary drastically."
   ]
  },
  {
   "cell_type": "code",
   "execution_count": 3,
   "metadata": {},
   "outputs": [],
   "source": [
    "np.random.seed(30)\r\n",
    "import random as rn\r\n",
    "rn.seed(30)\r\n",
    "from tensorflow.keras import backend as K\r\n",
    "import tensorflow as tf\r\n",
    "tf.random.set_seed(30)"
   ]
  },
  {
   "cell_type": "markdown",
   "metadata": {},
   "source": [
    "In this block, you read the folder names for training and validation. You also set the `batch_size` here. Note that you set the batch size in such a way that you are able to use the GPU in full capacity. You keep increasing the batch size until the machine throws an error."
   ]
  },
  {
   "cell_type": "code",
   "execution_count": 4,
   "metadata": {},
   "outputs": [],
   "source": [
    "train_doc = np.random.permutation(open('./Project_data/train.csv').readlines())\r\n",
    "val_doc = np.random.permutation(open('./Project_data/val.csv').readlines())\r\n",
    "batch_size = 32#experiment with the batch size"
   ]
  },
  {
   "cell_type": "markdown",
   "metadata": {},
   "source": [
    "## Generator\n",
    "This is one of the most important part of the code. The overall structure of the generator has been given. In the generator, you are going to preprocess the images as you have images of 2 different dimensions as well as create a batch of video frames. You have to experiment with `img_idx`, `y`,`z` and normalization such that you get high accuracy."
   ]
  },
  {
   "cell_type": "code",
   "execution_count": 9,
   "metadata": {},
   "outputs": [],
   "source": [
    "img_idx =  [5,7,11,13,14,16,18,19,20,21,22,23,24,25,26,27,28]#create a list of image numbers you want to use for a particular video\r\n",
    "def generator(source_path, folder_list, batch_size):\r\n",
    "    print( 'Source path = ', source_path, '; batch size =', batch_size)\r\n",
    "    \r\n",
    "    y = 100\r\n",
    "    z = 100\r\n",
    "    while True:\r\n",
    "        t = np.random.permutation(folder_list)\r\n",
    "        num_batches = len(source_path)//batch_size# calculate the number of batches\r\n",
    "        for batch in range(num_batches): # we iterate over the number of batches\r\n",
    "            batch_data = np.zeros((batch_size,len(img_idx),y,z,3)) # x is the number of images you use for each video, (y,z) is the final size of the input images and 3 is the number of channels RGB\r\n",
    "            batch_labels = np.zeros((batch_size,5)) # batch_labels is the one hot representation of the output\r\n",
    "            for folder in range(batch_size): # iterate over the batch_size\r\n",
    "                imgs = os.listdir(source_path+'/'+ t[folder + (batch*batch_size)].split(';')[0]) # read all the images in the folder\r\n",
    "                for idx,item in enumerate(img_idx): #  Iterate iver the frames/images of a folder to read them in\r\n",
    "                    image = imread(source_path+'/'+ t[folder + (batch*batch_size)].strip().split(';')[0]+'/'+imgs[item]).astype(np.float32)\r\n",
    "                    \r\n",
    "                    #crop the images and resize them. Note that the images are of 2 different shape \r\n",
    "                    #and the conv3D will throw error if the inputs in a batch have different shapes\r\n",
    "                    image = image.resize(100, 100)\r\n",
    "                    \r\n",
    "                    batch_data[folder,idx,:,:,0] /= 255#normalise and feed in the image\r\n",
    "                    batch_data[folder,idx,:,:,1] /= 255 #normalise and feed in the image\r\n",
    "                    batch_data[folder,idx,:,:,2] /= 255 #normalise and feed in the image\r\n",
    "                    \r\n",
    "                batch_labels[folder, int(t[folder + (batch*batch_size)].strip().split(';')[2])] = 1\r\n",
    "            yield batch_data, batch_labels #you yield the batch_data and the batch_labels, remember what does yield do\r\n",
    "\r\n",
    "        \r\n",
    "        # write the code for the remaining data points which are left after full batches\r\n",
    "        if len(folder_list)%batch_size != 0:\r\n",
    "            # updated the batch size and yield\r\n",
    "            batch_size = len(folder_list)%batch_size\r\n",
    "            num_batches = len(source_path)//batch_size# calculate the number of batches\r\n",
    "            for batch in range(num_batches): # we iterate over the number of batches\r\n",
    "                batch_data = np.zeros((batch_size,len(img_idx),y,z,3)) # x is the number of images you use for each video, (y,z) is the final size of the input images and 3 is the number of channels RGB\r\n",
    "                batch_labels = np.zeros((batch_size,5)) # batch_labels is the one hot representation of the output\r\n",
    "                for folder in range(batch_size): # iterate over the batch_size\r\n",
    "                    imgs = os.listdir(source_path+'/'+ t[folder + (batch*batch_size)].split(';')[0]) # read all the images in the folder\r\n",
    "                    for idx,item in enumerate(img_idx): #  Iterate iver the frames/images of a folder to read them in\r\n",
    "                        image = imread(source_path+'/'+ t[folder + (batch*batch_size)].strip().split(';')[0]+'/'+imgs[item]).astype(np.float32)\r\n",
    "                        \r\n",
    "                        #crop the images and resize them. Note that the images are of 2 different shape \r\n",
    "                        #and the conv3D will throw error if the inputs in a batch have different shapes\r\n",
    "                        image = image.resize(100, 100)\r\n",
    "                        \r\n",
    "                        batch_data[folder,idx,:,:,0] /= 255#normalise and feed in the image\r\n",
    "                        batch_data[folder,idx,:,:,1] /= 255 #normalise and feed in the image\r\n",
    "                        batch_data[folder,idx,:,:,2] /= 255 #normalise and feed in the image\r\n",
    "                        \r\n",
    "                    batch_labels[folder, int(t[folder + (batch*batch_size)].strip().split(';')[2])] = 1\r\n",
    "                yield batch_data, batch_labels #you yield the batch_data and the batch_labels, remember what does yield do\r\n"
   ]
  },
  {
   "cell_type": "markdown",
   "metadata": {},
   "source": [
    "Note here that a video is represented above in the generator as (number of images, height, width, number of channels). Take this into consideration while creating the model architecture."
   ]
  },
  {
   "cell_type": "code",
   "execution_count": 10,
   "metadata": {},
   "outputs": [
    {
     "name": "stdout",
     "output_type": "stream",
     "text": [
      "# training sequences = 663\n",
      "# validation sequences = 100\n",
      "# epochs = 10\n"
     ]
    }
   ],
   "source": [
    "curr_dt_time = datetime.datetime.now()\r\n",
    "train_path = './Project_data/train'\r\n",
    "val_path = './Project_data/val'\r\n",
    "num_train_sequences = len(train_doc)\r\n",
    "print('# training sequences =', num_train_sequences)\r\n",
    "num_val_sequences = len(val_doc)\r\n",
    "print('# validation sequences =', num_val_sequences)\r\n",
    "num_epochs = 10# choose the number of epochs\r\n",
    "print ('# epochs =', num_epochs)"
   ]
  },
  {
   "cell_type": "markdown",
   "metadata": {},
   "source": [
    "## Model\n",
    "Here you make the model using different functionalities that Keras provides. Remember to use `Conv3D` and `MaxPooling3D` and not `Conv2D` and `Maxpooling2D` for a 3D convolution model. You would want to use `TimeDistributed` while building a Conv2D + RNN model. Also remember that the last layer is the softmax. Design the network in such a way that the model is able to give good accuracy on the least number of parameters so that it can fit in the memory of the webcam."
   ]
  },
  {
   "cell_type": "code",
   "execution_count": 12,
   "metadata": {},
   "outputs": [],
   "source": [
    "from tensorflow.keras.models import Sequential, Model\r\n",
    "from tensorflow.keras.layers import Dense, GRU, Flatten, TimeDistributed, Flatten, BatchNormalization, Activation, Dropout\r\n",
    "from tensorflow.keras.layers import Conv3D, MaxPooling3D\r\n",
    "from tensorflow.keras.callbacks import ModelCheckpoint, ReduceLROnPlateau\r\n",
    "from tensorflow.keras import optimizers\r\n",
    "\r\n",
    "#write your model here\r\n",
    "inputShape = (len(img_idx), 100, 100, 3)\r\n",
    "\r\n",
    "model = Sequential([\r\n",
    "    Conv3D(16, (5, 5, 5), activation='relu', input_shape=inputShape),\r\n",
    "    MaxPooling3D((2,2,2), padding='same'),\r\n",
    "    BatchNormalization(),\r\n",
    "\r\n",
    "    Conv3D(32, (3, 3, 3), activation='relu'),\r\n",
    "    MaxPooling3D(pool_size=(2, 2, 2), padding='same'),\r\n",
    "    BatchNormalization(),\r\n",
    "\r\n",
    "    Conv3D(64, (3, 3, 3), activation='relu'),\r\n",
    "    MaxPooling3D(pool_size=(2, 2, 2), padding='same'),\r\n",
    "    BatchNormalization(),\r\n",
    "\r\n",
    "    Flatten(),\r\n",
    "    Dense(128, activation='relu'),\r\n",
    "    BatchNormalization(),\r\n",
    "    Dropout(0.25),\r\n",
    "\r\n",
    "    Dense(64, activation='relu'),\r\n",
    "    BatchNormalization(),\r\n",
    "    Dropout(0.25),\r\n",
    "\r\n",
    "    Dense(5, activation='softmax')\r\n",
    "])"
   ]
  },
  {
   "cell_type": "markdown",
   "metadata": {},
   "source": [
    "Now that you have written the model, the next step is to `compile` the model. When you print the `summary` of the model, you'll see the total number of parameters you have to train."
   ]
  },
  {
   "cell_type": "code",
   "execution_count": 14,
   "metadata": {
    "scrolled": true
   },
   "outputs": [
    {
     "name": "stdout",
     "output_type": "stream",
     "text": [
      "Model: \"sequential\"\n",
      "_________________________________________________________________\n",
      "Layer (type)                 Output Shape              Param #   \n",
      "=================================================================\n",
      "conv3d (Conv3D)              (None, 13, 96, 96, 16)    6016      \n",
      "_________________________________________________________________\n",
      "max_pooling3d (MaxPooling3D) (None, 7, 48, 48, 16)     0         \n",
      "_________________________________________________________________\n",
      "batch_normalization (BatchNo (None, 7, 48, 48, 16)     64        \n",
      "_________________________________________________________________\n",
      "conv3d_1 (Conv3D)            (None, 5, 46, 46, 32)     13856     \n",
      "_________________________________________________________________\n",
      "max_pooling3d_1 (MaxPooling3 (None, 3, 23, 23, 32)     0         \n",
      "_________________________________________________________________\n",
      "batch_normalization_1 (Batch (None, 3, 23, 23, 32)     128       \n",
      "_________________________________________________________________\n",
      "conv3d_2 (Conv3D)            (None, 1, 21, 21, 64)     55360     \n",
      "_________________________________________________________________\n",
      "max_pooling3d_2 (MaxPooling3 (None, 1, 11, 11, 64)     0         \n",
      "_________________________________________________________________\n",
      "batch_normalization_2 (Batch (None, 1, 11, 11, 64)     256       \n",
      "_________________________________________________________________\n",
      "flatten (Flatten)            (None, 7744)              0         \n",
      "_________________________________________________________________\n",
      "dense (Dense)                (None, 128)               991360    \n",
      "_________________________________________________________________\n",
      "batch_normalization_3 (Batch (None, 128)               512       \n",
      "_________________________________________________________________\n",
      "dropout (Dropout)            (None, 128)               0         \n",
      "_________________________________________________________________\n",
      "dense_1 (Dense)              (None, 64)                8256      \n",
      "_________________________________________________________________\n",
      "batch_normalization_4 (Batch (None, 64)                256       \n",
      "_________________________________________________________________\n",
      "dropout_1 (Dropout)          (None, 64)                0         \n",
      "_________________________________________________________________\n",
      "dense_2 (Dense)              (None, 5)                 325       \n",
      "=================================================================\n",
      "Total params: 1,076,389\n",
      "Trainable params: 1,075,781\n",
      "Non-trainable params: 608\n",
      "_________________________________________________________________\n",
      "None\n"
     ]
    }
   ],
   "source": [
    "optimiser = tf.keras.optimizers.Adam(lr=0.001)\r\n",
    "model.compile(optimizer=optimiser, loss='categorical_crossentropy', metrics=['categorical_accuracy'])\r\n",
    "print (model.summary())"
   ]
  },
  {
   "cell_type": "markdown",
   "metadata": {},
   "source": [
    "Let us create the `train_generator` and the `val_generator` which will be used in `.fit_generator`."
   ]
  },
  {
   "cell_type": "code",
   "execution_count": 15,
   "metadata": {},
   "outputs": [],
   "source": [
    "train_generator = generator(train_path, train_doc, batch_size)\n",
    "val_generator = generator(val_path, val_doc, batch_size)"
   ]
  },
  {
   "cell_type": "code",
   "execution_count": 16,
   "metadata": {},
   "outputs": [
    {
     "name": "stdout",
     "output_type": "stream",
     "text": [
      "WARNING:tensorflow:`period` argument is deprecated. Please use `save_freq` to specify the frequency in number of batches seen.\n",
      "WARNING:tensorflow:`epsilon` argument is deprecated and will be removed, use `min_delta` instead.\n"
     ]
    }
   ],
   "source": [
    "model_name = 'model_init' + '_' + str(curr_dt_time).replace(' ','').replace(':','_') + '/'\r\n",
    "    \r\n",
    "if not os.path.exists(model_name):\r\n",
    "    os.mkdir(model_name)\r\n",
    "        \r\n",
    "filepath = model_name + 'model-{epoch:05d}-{loss:.5f}-{categorical_accuracy:.5f}-{val_loss:.5f}-{val_categorical_accuracy:.5f}.h5'\r\n",
    "\r\n",
    "checkpoint = ModelCheckpoint(filepath, monitor='val_loss', verbose=1, save_best_only=False, save_weights_only=False, mode='auto', period=1)\r\n",
    "\r\n",
    "LR = ReduceLROnPlateau(monitor = \"val_loss\", factor = 0.1, patience = 10,\r\n",
    "  verbose = 0, mode = \"auto\", epsilon = 1e-04, cooldown = 0,\r\n",
    "  min_lr = 0)\r\n",
    "callbacks_list = [checkpoint, LR]"
   ]
  },
  {
   "cell_type": "markdown",
   "metadata": {},
   "source": [
    "The `steps_per_epoch` and `validation_steps` are used by `fit_generator` to decide the number of next() calls it need to make."
   ]
  },
  {
   "cell_type": "code",
   "execution_count": 17,
   "metadata": {},
   "outputs": [],
   "source": [
    "if (num_train_sequences%batch_size) == 0:\n",
    "    steps_per_epoch = int(num_train_sequences/batch_size)\n",
    "else:\n",
    "    steps_per_epoch = (num_train_sequences//batch_size) + 1\n",
    "\n",
    "if (num_val_sequences%batch_size) == 0:\n",
    "    validation_steps = int(num_val_sequences/batch_size)\n",
    "else:\n",
    "    validation_steps = (num_val_sequences//batch_size) + 1"
   ]
  },
  {
   "cell_type": "markdown",
   "metadata": {},
   "source": [
    "Let us now fit the model. This will start training the model and with the help of the checkpoints, you'll be able to save the model at the end of each epoch."
   ]
  },
  {
   "cell_type": "code",
   "execution_count": 18,
   "metadata": {},
   "outputs": [
    {
     "name": "stderr",
     "output_type": "stream",
     "text": [
      "c:\\Users\\U6083443\\Documents\\Repositories\\Personal\\Upgrad-PGD-ML---AI\\env\\lib\\site-packages\\tensorflow\\python\\keras\\engine\\training.py:1844: UserWarning: `Model.fit_generator` is deprecated and will be removed in a future version. Please use `Model.fit`, which supports generators.\n",
      "  warnings.warn('`Model.fit_generator` is deprecated and '\n"
     ]
    },
    {
     "name": "stdout",
     "output_type": "stream",
     "text": [
      "Source path =  ./Project_data/train ; batch size = 32\n",
      "Epoch 1/10\n",
      "21/21 [==============================] - ETA: 0s - loss: 1.6085 - categorical_accuracy: 0.2106Source path =  ./Project_data/val ; batch size = 32\n",
      "21/21 [==============================] - 135s 6s/step - loss: 1.6085 - categorical_accuracy: 0.2106 - val_loss: 1.6119 - val_categorical_accuracy: 0.1250\n",
      "\n",
      "Epoch 00001: saving model to model_init_2021-05-2319_32_53.423896\\model-00001-1.60772-0.21053-1.61193-0.12500.h5\n",
      "Epoch 2/10\n",
      "21/21 [==============================] - 136s 6s/step - loss: 1.6048 - categorical_accuracy: 0.2024 - val_loss: 1.6068 - val_categorical_accuracy: 0.0625\n",
      "\n",
      "Epoch 00002: saving model to model_init_2021-05-2319_32_53.423896\\model-00002-1.60966-0.18768-1.60681-0.06250.h5\n",
      "Epoch 3/10\n",
      "21/21 [==============================] - 147s 7s/step - loss: 1.6069 - categorical_accuracy: 0.2223 - val_loss: 1.6299 - val_categorical_accuracy: 0.1875\n",
      "\n",
      "Epoch 00003: saving model to model_init_2021-05-2319_32_53.423896\\model-00003-1.60648-0.22409-1.62990-0.18750.h5\n",
      "Epoch 4/10\n",
      "21/21 [==============================] - 143s 7s/step - loss: 1.6029 - categorical_accuracy: 0.2446 - val_loss: 1.6044 - val_categorical_accuracy: 0.1875\n",
      "\n",
      "Epoch 00004: saving model to model_init_2021-05-2319_32_53.423896\\model-00004-1.60636-0.21849-1.60438-0.18750.h5\n",
      "Epoch 5/10\n",
      "21/21 [==============================] - 155s 7s/step - loss: 1.6012 - categorical_accuracy: 0.2302 - val_loss: 1.6246 - val_categorical_accuracy: 0.0625\n",
      "\n",
      "Epoch 00005: saving model to model_init_2021-05-2319_32_53.423896\\model-00005-1.60873-0.21008-1.62461-0.06250.h5\n",
      "Epoch 6/10\n",
      "21/21 [==============================] - 213s 10s/step - loss: 1.6114 - categorical_accuracy: 0.1863 - val_loss: 1.6112 - val_categorical_accuracy: 0.2500\n",
      "\n",
      "Epoch 00006: saving model to model_init_2021-05-2319_32_53.423896\\model-00006-1.61053-0.19888-1.61123-0.25000.h5\n",
      "Epoch 7/10\n",
      "21/21 [==============================] - 204s 10s/step - loss: 1.6058 - categorical_accuracy: 0.1973 - val_loss: 1.6302 - val_categorical_accuracy: 0.1250\n",
      "\n",
      "Epoch 00007: saving model to model_init_2021-05-2319_32_53.423896\\model-00007-1.60800-0.19888-1.63018-0.12500.h5\n",
      "Epoch 8/10\n",
      "21/21 [==============================] - 229s 11s/step - loss: 1.6061 - categorical_accuracy: 0.1923 - val_loss: 1.6155 - val_categorical_accuracy: 0.1250\n",
      "\n",
      "Epoch 00008: saving model to model_init_2021-05-2319_32_53.423896\\model-00008-1.60886-0.20728-1.61548-0.12500.h5\n",
      "Epoch 9/10\n",
      "21/21 [==============================] - 182s 9s/step - loss: 1.6090 - categorical_accuracy: 0.1717 - val_loss: 1.5990 - val_categorical_accuracy: 0.4375\n",
      "\n",
      "Epoch 00009: saving model to model_init_2021-05-2319_32_53.423896\\model-00009-1.60815-0.18487-1.59901-0.43750.h5\n",
      "Epoch 10/10\n",
      "21/21 [==============================] - 210s 10s/step - loss: 1.6090 - categorical_accuracy: 0.2277 - val_loss: 1.5675 - val_categorical_accuracy: 0.3750\n",
      "\n",
      "Epoch 00010: saving model to model_init_2021-05-2319_32_53.423896\\model-00010-1.61009-0.20168-1.56751-0.37500.h5\n"
     ]
    },
    {
     "data": {
      "text/plain": "<tensorflow.python.keras.callbacks.History at 0x233891d7370>"
     },
     "execution_count": 18,
     "metadata": {},
     "output_type": "execute_result"
    }
   ],
   "source": [
    "model.fit_generator(train_generator, steps_per_epoch=steps_per_epoch, epochs=num_epochs, verbose=1, \n",
    "                    callbacks=callbacks_list, validation_data=val_generator, \n",
    "                    validation_steps=validation_steps, class_weight=None, workers=1, initial_epoch=0)"
   ]
  },
  {
   "cell_type": "code",
   "execution_count": null,
   "metadata": {},
   "outputs": [],
   "source": [
    "# https://github.com/santhoshpkumar/hand-gesture-recognition-using-neural-networks\r\n",
    "\r\n",
    "# https://www.kaggle.com/imsparsh/gesture-recognition-conv3d-conv2d-rnn\r\n",
    "\r\n",
    "# https://github.com/prateekralhan/Gesture-Recognition-Case-study-IIITB-Assignment-/blob/master/Gesture_Recognition_Case-Study_final.ipynb\r\n",
    "\r\n",
    "# https://github.com/Smitan94/Data-Science/blob/master/Gesture%20recognition%20-%20Neural%20Network.ipynb\r\n",
    "\r\n"
   ]
  }
 ],
 "metadata": {
  "interpreter": {
   "hash": "fc5490c528836e1ddd0af3c74a60760eb1bf71c4669a2afabea412d5c4b2abd1"
  },
  "kernelspec": {
   "display_name": "Python 3.8.6  ('env': venv)",
   "name": "python3"
  },
  "language_info": {
   "codemirror_mode": {
    "name": "ipython",
    "version": 3
   },
   "file_extension": ".py",
   "mimetype": "text/x-python",
   "name": "python",
   "nbconvert_exporter": "python",
   "pygments_lexer": "ipython3",
   "version": "3.8.6"
  }
 },
 "nbformat": 4,
 "nbformat_minor": 2
}