{
 "cells": [
  {
   "cell_type": "markdown",
   "metadata": {},
   "source": [
    "## Model Selection using RFE (Housing Case Study)"
   ]
  },
  {
   "cell_type": "markdown",
   "metadata": {},
   "source": [
    "### Importing and Understanding Data"
   ]
  },
  {
   "cell_type": "code",
   "execution_count": 1,
   "metadata": {},
   "outputs": [],
   "source": [
    "# Supress Warnings\n",
    "\n",
    "import warnings\n",
    "warnings.filterwarnings('ignore')"
   ]
  },
  {
   "cell_type": "code",
   "execution_count": 2,
   "metadata": {},
   "outputs": [],
   "source": [
    "import pandas as pd\n",
    "import numpy as np"
   ]
  },
  {
   "cell_type": "code",
   "execution_count": 4,
   "metadata": {},
   "outputs": [],
   "source": [
    "# Importing Housing.csv\n",
    "housing = pd.read_csv('../Data/Housing.csv')"
   ]
  },
  {
   "cell_type": "code",
   "execution_count": 5,
   "metadata": {},
   "outputs": [
    {
     "output_type": "execute_result",
     "data": {
      "text/plain": [
       "      price  area  bedrooms  bathrooms  stories mainroad guestroom basement  \\\n",
       "0  13300000  7420         4          2        3      yes        no       no   \n",
       "1  12250000  8960         4          4        4      yes        no       no   \n",
       "2  12250000  9960         3          2        2      yes        no      yes   \n",
       "3  12215000  7500         4          2        2      yes        no      yes   \n",
       "4  11410000  7420         4          1        2      yes       yes      yes   \n",
       "\n",
       "  hotwaterheating airconditioning  parking prefarea furnishingstatus  \n",
       "0              no             yes        2      yes        furnished  \n",
       "1              no             yes        3       no        furnished  \n",
       "2              no              no        2      yes   semi-furnished  \n",
       "3              no             yes        3      yes        furnished  \n",
       "4              no             yes        2       no        furnished  "
      ],
      "text/html": "<div>\n<style scoped>\n    .dataframe tbody tr th:only-of-type {\n        vertical-align: middle;\n    }\n\n    .dataframe tbody tr th {\n        vertical-align: top;\n    }\n\n    .dataframe thead th {\n        text-align: right;\n    }\n</style>\n<table border=\"1\" class=\"dataframe\">\n  <thead>\n    <tr style=\"text-align: right;\">\n      <th></th>\n      <th>price</th>\n      <th>area</th>\n      <th>bedrooms</th>\n      <th>bathrooms</th>\n      <th>stories</th>\n      <th>mainroad</th>\n      <th>guestroom</th>\n      <th>basement</th>\n      <th>hotwaterheating</th>\n      <th>airconditioning</th>\n      <th>parking</th>\n      <th>prefarea</th>\n      <th>furnishingstatus</th>\n    </tr>\n  </thead>\n  <tbody>\n    <tr>\n      <th>0</th>\n      <td>13300000</td>\n      <td>7420</td>\n      <td>4</td>\n      <td>2</td>\n      <td>3</td>\n      <td>yes</td>\n      <td>no</td>\n      <td>no</td>\n      <td>no</td>\n      <td>yes</td>\n      <td>2</td>\n      <td>yes</td>\n      <td>furnished</td>\n    </tr>\n    <tr>\n      <th>1</th>\n      <td>12250000</td>\n      <td>8960</td>\n      <td>4</td>\n      <td>4</td>\n      <td>4</td>\n      <td>yes</td>\n      <td>no</td>\n      <td>no</td>\n      <td>no</td>\n      <td>yes</td>\n      <td>3</td>\n      <td>no</td>\n      <td>furnished</td>\n    </tr>\n    <tr>\n      <th>2</th>\n      <td>12250000</td>\n      <td>9960</td>\n      <td>3</td>\n      <td>2</td>\n      <td>2</td>\n      <td>yes</td>\n      <td>no</td>\n      <td>yes</td>\n      <td>no</td>\n      <td>no</td>\n      <td>2</td>\n      <td>yes</td>\n      <td>semi-furnished</td>\n    </tr>\n    <tr>\n      <th>3</th>\n      <td>12215000</td>\n      <td>7500</td>\n      <td>4</td>\n      <td>2</td>\n      <td>2</td>\n      <td>yes</td>\n      <td>no</td>\n      <td>yes</td>\n      <td>no</td>\n      <td>yes</td>\n      <td>3</td>\n      <td>yes</td>\n      <td>furnished</td>\n    </tr>\n    <tr>\n      <th>4</th>\n      <td>11410000</td>\n      <td>7420</td>\n      <td>4</td>\n      <td>1</td>\n      <td>2</td>\n      <td>yes</td>\n      <td>yes</td>\n      <td>yes</td>\n      <td>no</td>\n      <td>yes</td>\n      <td>2</td>\n      <td>no</td>\n      <td>furnished</td>\n    </tr>\n  </tbody>\n</table>\n</div>"
     },
     "metadata": {},
     "execution_count": 5
    }
   ],
   "source": [
    "# Looking at the first five rows\n",
    "housing.head()"
   ]
  },
  {
   "cell_type": "markdown",
   "metadata": {},
   "source": [
    "### Data Preparation"
   ]
  },
  {
   "cell_type": "code",
   "execution_count": 6,
   "metadata": {},
   "outputs": [],
   "source": [
    "# List of variables to map\n",
    "\n",
    "varlist =  ['mainroad', 'guestroom', 'basement', 'hotwaterheating', 'airconditioning', 'prefarea']\n",
    "\n",
    "# Defining the map function\n",
    "def binary_map(x):\n",
    "    return x.map({'yes': 1, \"no\": 0})\n",
    "\n",
    "# Applying the function to the housing list\n",
    "housing[varlist] = housing[varlist].apply(binary_map)"
   ]
  },
  {
   "cell_type": "code",
   "execution_count": 7,
   "metadata": {
    "scrolled": false
   },
   "outputs": [
    {
     "output_type": "execute_result",
     "data": {
      "text/plain": [
       "      price  area  bedrooms  bathrooms  stories  mainroad  guestroom  \\\n",
       "0  13300000  7420         4          2        3         1          0   \n",
       "1  12250000  8960         4          4        4         1          0   \n",
       "2  12250000  9960         3          2        2         1          0   \n",
       "3  12215000  7500         4          2        2         1          0   \n",
       "4  11410000  7420         4          1        2         1          1   \n",
       "\n",
       "   basement  hotwaterheating  airconditioning  parking  prefarea  \\\n",
       "0         0                0                1        2         1   \n",
       "1         0                0                1        3         0   \n",
       "2         1                0                0        2         1   \n",
       "3         1                0                1        3         1   \n",
       "4         1                0                1        2         0   \n",
       "\n",
       "  furnishingstatus  \n",
       "0        furnished  \n",
       "1        furnished  \n",
       "2   semi-furnished  \n",
       "3        furnished  \n",
       "4        furnished  "
      ],
      "text/html": "<div>\n<style scoped>\n    .dataframe tbody tr th:only-of-type {\n        vertical-align: middle;\n    }\n\n    .dataframe tbody tr th {\n        vertical-align: top;\n    }\n\n    .dataframe thead th {\n        text-align: right;\n    }\n</style>\n<table border=\"1\" class=\"dataframe\">\n  <thead>\n    <tr style=\"text-align: right;\">\n      <th></th>\n      <th>price</th>\n      <th>area</th>\n      <th>bedrooms</th>\n      <th>bathrooms</th>\n      <th>stories</th>\n      <th>mainroad</th>\n      <th>guestroom</th>\n      <th>basement</th>\n      <th>hotwaterheating</th>\n      <th>airconditioning</th>\n      <th>parking</th>\n      <th>prefarea</th>\n      <th>furnishingstatus</th>\n    </tr>\n  </thead>\n  <tbody>\n    <tr>\n      <th>0</th>\n      <td>13300000</td>\n      <td>7420</td>\n      <td>4</td>\n      <td>2</td>\n      <td>3</td>\n      <td>1</td>\n      <td>0</td>\n      <td>0</td>\n      <td>0</td>\n      <td>1</td>\n      <td>2</td>\n      <td>1</td>\n      <td>furnished</td>\n    </tr>\n    <tr>\n      <th>1</th>\n      <td>12250000</td>\n      <td>8960</td>\n      <td>4</td>\n      <td>4</td>\n      <td>4</td>\n      <td>1</td>\n      <td>0</td>\n      <td>0</td>\n      <td>0</td>\n      <td>1</td>\n      <td>3</td>\n      <td>0</td>\n      <td>furnished</td>\n    </tr>\n    <tr>\n      <th>2</th>\n      <td>12250000</td>\n      <td>9960</td>\n      <td>3</td>\n      <td>2</td>\n      <td>2</td>\n      <td>1</td>\n      <td>0</td>\n      <td>1</td>\n      <td>0</td>\n      <td>0</td>\n      <td>2</td>\n      <td>1</td>\n      <td>semi-furnished</td>\n    </tr>\n    <tr>\n      <th>3</th>\n      <td>12215000</td>\n      <td>7500</td>\n      <td>4</td>\n      <td>2</td>\n      <td>2</td>\n      <td>1</td>\n      <td>0</td>\n      <td>1</td>\n      <td>0</td>\n      <td>1</td>\n      <td>3</td>\n      <td>1</td>\n      <td>furnished</td>\n    </tr>\n    <tr>\n      <th>4</th>\n      <td>11410000</td>\n      <td>7420</td>\n      <td>4</td>\n      <td>1</td>\n      <td>2</td>\n      <td>1</td>\n      <td>1</td>\n      <td>1</td>\n      <td>0</td>\n      <td>1</td>\n      <td>2</td>\n      <td>0</td>\n      <td>furnished</td>\n    </tr>\n  </tbody>\n</table>\n</div>"
     },
     "metadata": {},
     "execution_count": 7
    }
   ],
   "source": [
    "# Check the housing dataframe now\n",
    "\n",
    "housing.head()"
   ]
  },
  {
   "cell_type": "markdown",
   "metadata": {},
   "source": [
    "### Dummy Variables"
   ]
  },
  {
   "cell_type": "markdown",
   "metadata": {},
   "source": [
    "The variable `furnishingstatus` has three levels. We need to convert these levels into integer as well. For this, we will use something called `dummy variables`."
   ]
  },
  {
   "cell_type": "code",
   "execution_count": 8,
   "metadata": {},
   "outputs": [
    {
     "output_type": "execute_result",
     "data": {
      "text/plain": [
       "   furnished  semi-furnished  unfurnished\n",
       "0          1               0            0\n",
       "1          1               0            0\n",
       "2          0               1            0\n",
       "3          1               0            0\n",
       "4          1               0            0"
      ],
      "text/html": "<div>\n<style scoped>\n    .dataframe tbody tr th:only-of-type {\n        vertical-align: middle;\n    }\n\n    .dataframe tbody tr th {\n        vertical-align: top;\n    }\n\n    .dataframe thead th {\n        text-align: right;\n    }\n</style>\n<table border=\"1\" class=\"dataframe\">\n  <thead>\n    <tr style=\"text-align: right;\">\n      <th></th>\n      <th>furnished</th>\n      <th>semi-furnished</th>\n      <th>unfurnished</th>\n    </tr>\n  </thead>\n  <tbody>\n    <tr>\n      <th>0</th>\n      <td>1</td>\n      <td>0</td>\n      <td>0</td>\n    </tr>\n    <tr>\n      <th>1</th>\n      <td>1</td>\n      <td>0</td>\n      <td>0</td>\n    </tr>\n    <tr>\n      <th>2</th>\n      <td>0</td>\n      <td>1</td>\n      <td>0</td>\n    </tr>\n    <tr>\n      <th>3</th>\n      <td>1</td>\n      <td>0</td>\n      <td>0</td>\n    </tr>\n    <tr>\n      <th>4</th>\n      <td>1</td>\n      <td>0</td>\n      <td>0</td>\n    </tr>\n  </tbody>\n</table>\n</div>"
     },
     "metadata": {},
     "execution_count": 8
    }
   ],
   "source": [
    "# Get the dummy variables for the feature 'furnishingstatus' and store it in a new variable - 'status'\n",
    "\n",
    "status = pd.get_dummies(housing['furnishingstatus'])\n",
    "\n",
    "# Check what the dataset 'status' looks like\n",
    "status.head()"
   ]
  },
  {
   "cell_type": "markdown",
   "metadata": {},
   "source": [
    "Now, you don't need three columns. You can drop the `furnished` column, as the type of furnishing can be identified with just the last two columns where — \n",
    "- `00` will correspond to `furnished`\n",
    "- `01` will correspond to `unfurnished`\n",
    "- `10` will correspond to `semi-furnished`"
   ]
  },
  {
   "cell_type": "code",
   "execution_count": 9,
   "metadata": {},
   "outputs": [
    {
     "output_type": "execute_result",
     "data": {
      "text/plain": [
       "      price  area  bedrooms  bathrooms  stories  mainroad  guestroom  \\\n",
       "0  13300000  7420         4          2        3         1          0   \n",
       "1  12250000  8960         4          4        4         1          0   \n",
       "2  12250000  9960         3          2        2         1          0   \n",
       "3  12215000  7500         4          2        2         1          0   \n",
       "4  11410000  7420         4          1        2         1          1   \n",
       "\n",
       "   basement  hotwaterheating  airconditioning  parking  prefarea  \\\n",
       "0         0                0                1        2         1   \n",
       "1         0                0                1        3         0   \n",
       "2         1                0                0        2         1   \n",
       "3         1                0                1        3         1   \n",
       "4         1                0                1        2         0   \n",
       "\n",
       "  furnishingstatus  semi-furnished  unfurnished  \n",
       "0        furnished               0            0  \n",
       "1        furnished               0            0  \n",
       "2   semi-furnished               1            0  \n",
       "3        furnished               0            0  \n",
       "4        furnished               0            0  "
      ],
      "text/html": "<div>\n<style scoped>\n    .dataframe tbody tr th:only-of-type {\n        vertical-align: middle;\n    }\n\n    .dataframe tbody tr th {\n        vertical-align: top;\n    }\n\n    .dataframe thead th {\n        text-align: right;\n    }\n</style>\n<table border=\"1\" class=\"dataframe\">\n  <thead>\n    <tr style=\"text-align: right;\">\n      <th></th>\n      <th>price</th>\n      <th>area</th>\n      <th>bedrooms</th>\n      <th>bathrooms</th>\n      <th>stories</th>\n      <th>mainroad</th>\n      <th>guestroom</th>\n      <th>basement</th>\n      <th>hotwaterheating</th>\n      <th>airconditioning</th>\n      <th>parking</th>\n      <th>prefarea</th>\n      <th>furnishingstatus</th>\n      <th>semi-furnished</th>\n      <th>unfurnished</th>\n    </tr>\n  </thead>\n  <tbody>\n    <tr>\n      <th>0</th>\n      <td>13300000</td>\n      <td>7420</td>\n      <td>4</td>\n      <td>2</td>\n      <td>3</td>\n      <td>1</td>\n      <td>0</td>\n      <td>0</td>\n      <td>0</td>\n      <td>1</td>\n      <td>2</td>\n      <td>1</td>\n      <td>furnished</td>\n      <td>0</td>\n      <td>0</td>\n    </tr>\n    <tr>\n      <th>1</th>\n      <td>12250000</td>\n      <td>8960</td>\n      <td>4</td>\n      <td>4</td>\n      <td>4</td>\n      <td>1</td>\n      <td>0</td>\n      <td>0</td>\n      <td>0</td>\n      <td>1</td>\n      <td>3</td>\n      <td>0</td>\n      <td>furnished</td>\n      <td>0</td>\n      <td>0</td>\n    </tr>\n    <tr>\n      <th>2</th>\n      <td>12250000</td>\n      <td>9960</td>\n      <td>3</td>\n      <td>2</td>\n      <td>2</td>\n      <td>1</td>\n      <td>0</td>\n      <td>1</td>\n      <td>0</td>\n      <td>0</td>\n      <td>2</td>\n      <td>1</td>\n      <td>semi-furnished</td>\n      <td>1</td>\n      <td>0</td>\n    </tr>\n    <tr>\n      <th>3</th>\n      <td>12215000</td>\n      <td>7500</td>\n      <td>4</td>\n      <td>2</td>\n      <td>2</td>\n      <td>1</td>\n      <td>0</td>\n      <td>1</td>\n      <td>0</td>\n      <td>1</td>\n      <td>3</td>\n      <td>1</td>\n      <td>furnished</td>\n      <td>0</td>\n      <td>0</td>\n    </tr>\n    <tr>\n      <th>4</th>\n      <td>11410000</td>\n      <td>7420</td>\n      <td>4</td>\n      <td>1</td>\n      <td>2</td>\n      <td>1</td>\n      <td>1</td>\n      <td>1</td>\n      <td>0</td>\n      <td>1</td>\n      <td>2</td>\n      <td>0</td>\n      <td>furnished</td>\n      <td>0</td>\n      <td>0</td>\n    </tr>\n  </tbody>\n</table>\n</div>"
     },
     "metadata": {},
     "execution_count": 9
    }
   ],
   "source": [
    "# Let's drop the first column from status df using 'drop_first = True'\n",
    "status = pd.get_dummies(housing['furnishingstatus'], drop_first = True)\n",
    "\n",
    "# Add the results to the original housing dataframe\n",
    "housing = pd.concat([housing, status], axis = 1)\n",
    "\n",
    "# Now let's see the head of our dataframe.\n",
    "housing.head()"
   ]
  },
  {
   "cell_type": "code",
   "execution_count": 10,
   "metadata": {},
   "outputs": [
    {
     "output_type": "execute_result",
     "data": {
      "text/plain": [
       "      price  area  bedrooms  bathrooms  stories  mainroad  guestroom  \\\n",
       "0  13300000  7420         4          2        3         1          0   \n",
       "1  12250000  8960         4          4        4         1          0   \n",
       "2  12250000  9960         3          2        2         1          0   \n",
       "3  12215000  7500         4          2        2         1          0   \n",
       "4  11410000  7420         4          1        2         1          1   \n",
       "\n",
       "   basement  hotwaterheating  airconditioning  parking  prefarea  \\\n",
       "0         0                0                1        2         1   \n",
       "1         0                0                1        3         0   \n",
       "2         1                0                0        2         1   \n",
       "3         1                0                1        3         1   \n",
       "4         1                0                1        2         0   \n",
       "\n",
       "   semi-furnished  unfurnished  \n",
       "0               0            0  \n",
       "1               0            0  \n",
       "2               1            0  \n",
       "3               0            0  \n",
       "4               0            0  "
      ],
      "text/html": "<div>\n<style scoped>\n    .dataframe tbody tr th:only-of-type {\n        vertical-align: middle;\n    }\n\n    .dataframe tbody tr th {\n        vertical-align: top;\n    }\n\n    .dataframe thead th {\n        text-align: right;\n    }\n</style>\n<table border=\"1\" class=\"dataframe\">\n  <thead>\n    <tr style=\"text-align: right;\">\n      <th></th>\n      <th>price</th>\n      <th>area</th>\n      <th>bedrooms</th>\n      <th>bathrooms</th>\n      <th>stories</th>\n      <th>mainroad</th>\n      <th>guestroom</th>\n      <th>basement</th>\n      <th>hotwaterheating</th>\n      <th>airconditioning</th>\n      <th>parking</th>\n      <th>prefarea</th>\n      <th>semi-furnished</th>\n      <th>unfurnished</th>\n    </tr>\n  </thead>\n  <tbody>\n    <tr>\n      <th>0</th>\n      <td>13300000</td>\n      <td>7420</td>\n      <td>4</td>\n      <td>2</td>\n      <td>3</td>\n      <td>1</td>\n      <td>0</td>\n      <td>0</td>\n      <td>0</td>\n      <td>1</td>\n      <td>2</td>\n      <td>1</td>\n      <td>0</td>\n      <td>0</td>\n    </tr>\n    <tr>\n      <th>1</th>\n      <td>12250000</td>\n      <td>8960</td>\n      <td>4</td>\n      <td>4</td>\n      <td>4</td>\n      <td>1</td>\n      <td>0</td>\n      <td>0</td>\n      <td>0</td>\n      <td>1</td>\n      <td>3</td>\n      <td>0</td>\n      <td>0</td>\n      <td>0</td>\n    </tr>\n    <tr>\n      <th>2</th>\n      <td>12250000</td>\n      <td>9960</td>\n      <td>3</td>\n      <td>2</td>\n      <td>2</td>\n      <td>1</td>\n      <td>0</td>\n      <td>1</td>\n      <td>0</td>\n      <td>0</td>\n      <td>2</td>\n      <td>1</td>\n      <td>1</td>\n      <td>0</td>\n    </tr>\n    <tr>\n      <th>3</th>\n      <td>12215000</td>\n      <td>7500</td>\n      <td>4</td>\n      <td>2</td>\n      <td>2</td>\n      <td>1</td>\n      <td>0</td>\n      <td>1</td>\n      <td>0</td>\n      <td>1</td>\n      <td>3</td>\n      <td>1</td>\n      <td>0</td>\n      <td>0</td>\n    </tr>\n    <tr>\n      <th>4</th>\n      <td>11410000</td>\n      <td>7420</td>\n      <td>4</td>\n      <td>1</td>\n      <td>2</td>\n      <td>1</td>\n      <td>1</td>\n      <td>1</td>\n      <td>0</td>\n      <td>1</td>\n      <td>2</td>\n      <td>0</td>\n      <td>0</td>\n      <td>0</td>\n    </tr>\n  </tbody>\n</table>\n</div>"
     },
     "metadata": {},
     "execution_count": 10
    }
   ],
   "source": [
    "# Drop 'furnishingstatus' as we have created the dummies for it\n",
    "housing.drop(['furnishingstatus'], axis = 1, inplace = True)\n",
    "\n",
    "housing.head()"
   ]
  },
  {
   "cell_type": "markdown",
   "metadata": {},
   "source": [
    "## Splitting the Data into Training and Testing Sets"
   ]
  },
  {
   "cell_type": "code",
   "execution_count": 11,
   "metadata": {},
   "outputs": [],
   "source": [
    "from sklearn.model_selection import train_test_split\n",
    "\n",
    "# We specify this so that the train and test data set always have the same rows, respectively\n",
    "\n",
    "df_train, df_test = train_test_split(housing, train_size = 0.7, test_size = 0.3, random_state = 100)"
   ]
  },
  {
   "cell_type": "markdown",
   "metadata": {},
   "source": [
    "### Rescaling the Features \n",
    "\n",
    "We will use MinMax scaling."
   ]
  },
  {
   "cell_type": "code",
   "execution_count": 12,
   "metadata": {},
   "outputs": [],
   "source": [
    "from sklearn.preprocessing import MinMaxScaler\n",
    "scaler = MinMaxScaler()"
   ]
  },
  {
   "cell_type": "code",
   "execution_count": 13,
   "metadata": {},
   "outputs": [
    {
     "output_type": "execute_result",
     "data": {
      "text/plain": [
       "        price      area  bedrooms  bathrooms   stories  mainroad  guestroom  \\\n",
       "359  0.169697  0.155227       0.4        0.0  0.000000         1          0   \n",
       "19   0.615152  0.403379       0.4        0.5  0.333333         1          0   \n",
       "159  0.321212  0.115628       0.4        0.5  0.000000         1          1   \n",
       "35   0.548133  0.454417       0.4        0.5  1.000000         1          0   \n",
       "28   0.575758  0.538015       0.8        0.5  0.333333         1          0   \n",
       "\n",
       "     basement  hotwaterheating  airconditioning   parking  prefarea  \\\n",
       "359         0                0                0  0.333333         0   \n",
       "19          0                0                1  0.333333         1   \n",
       "159         1                0                1  0.000000         0   \n",
       "35          0                0                1  0.666667         0   \n",
       "28          1                1                0  0.666667         0   \n",
       "\n",
       "     semi-furnished  unfurnished  \n",
       "359               0            1  \n",
       "19                1            0  \n",
       "159               0            0  \n",
       "35                0            0  \n",
       "28                0            1  "
      ],
      "text/html": "<div>\n<style scoped>\n    .dataframe tbody tr th:only-of-type {\n        vertical-align: middle;\n    }\n\n    .dataframe tbody tr th {\n        vertical-align: top;\n    }\n\n    .dataframe thead th {\n        text-align: right;\n    }\n</style>\n<table border=\"1\" class=\"dataframe\">\n  <thead>\n    <tr style=\"text-align: right;\">\n      <th></th>\n      <th>price</th>\n      <th>area</th>\n      <th>bedrooms</th>\n      <th>bathrooms</th>\n      <th>stories</th>\n      <th>mainroad</th>\n      <th>guestroom</th>\n      <th>basement</th>\n      <th>hotwaterheating</th>\n      <th>airconditioning</th>\n      <th>parking</th>\n      <th>prefarea</th>\n      <th>semi-furnished</th>\n      <th>unfurnished</th>\n    </tr>\n  </thead>\n  <tbody>\n    <tr>\n      <th>359</th>\n      <td>0.169697</td>\n      <td>0.155227</td>\n      <td>0.4</td>\n      <td>0.0</td>\n      <td>0.000000</td>\n      <td>1</td>\n      <td>0</td>\n      <td>0</td>\n      <td>0</td>\n      <td>0</td>\n      <td>0.333333</td>\n      <td>0</td>\n      <td>0</td>\n      <td>1</td>\n    </tr>\n    <tr>\n      <th>19</th>\n      <td>0.615152</td>\n      <td>0.403379</td>\n      <td>0.4</td>\n      <td>0.5</td>\n      <td>0.333333</td>\n      <td>1</td>\n      <td>0</td>\n      <td>0</td>\n      <td>0</td>\n      <td>1</td>\n      <td>0.333333</td>\n      <td>1</td>\n      <td>1</td>\n      <td>0</td>\n    </tr>\n    <tr>\n      <th>159</th>\n      <td>0.321212</td>\n      <td>0.115628</td>\n      <td>0.4</td>\n      <td>0.5</td>\n      <td>0.000000</td>\n      <td>1</td>\n      <td>1</td>\n      <td>1</td>\n      <td>0</td>\n      <td>1</td>\n      <td>0.000000</td>\n      <td>0</td>\n      <td>0</td>\n      <td>0</td>\n    </tr>\n    <tr>\n      <th>35</th>\n      <td>0.548133</td>\n      <td>0.454417</td>\n      <td>0.4</td>\n      <td>0.5</td>\n      <td>1.000000</td>\n      <td>1</td>\n      <td>0</td>\n      <td>0</td>\n      <td>0</td>\n      <td>1</td>\n      <td>0.666667</td>\n      <td>0</td>\n      <td>0</td>\n      <td>0</td>\n    </tr>\n    <tr>\n      <th>28</th>\n      <td>0.575758</td>\n      <td>0.538015</td>\n      <td>0.8</td>\n      <td>0.5</td>\n      <td>0.333333</td>\n      <td>1</td>\n      <td>0</td>\n      <td>1</td>\n      <td>1</td>\n      <td>0</td>\n      <td>0.666667</td>\n      <td>0</td>\n      <td>0</td>\n      <td>1</td>\n    </tr>\n  </tbody>\n</table>\n</div>"
     },
     "metadata": {},
     "execution_count": 13
    }
   ],
   "source": [
    "# Apply scaler() to all the columns except the 'yes-no' and 'dummy' variables\n",
    "num_vars = ['area', 'bedrooms', 'bathrooms', 'stories', 'parking','price']\n",
    "\n",
    "df_train[num_vars] = scaler.fit_transform(df_train[num_vars])\n",
    "\n",
    "df_train.head()"
   ]
  },
  {
   "cell_type": "markdown",
   "metadata": {},
   "source": [
    "### Dividing into X and Y sets for the model building"
   ]
  },
  {
   "cell_type": "code",
   "execution_count": 14,
   "metadata": {},
   "outputs": [],
   "source": [
    "y_train = df_train.pop('price')\n",
    "X_train = df_train"
   ]
  },
  {
   "cell_type": "markdown",
   "metadata": {},
   "source": [
    "## Building our model\n",
    "\n",
    "This time, we will be using the **LinearRegression function from SciKit Learn** for its compatibility with RFE (which is a utility from sklearn)"
   ]
  },
  {
   "cell_type": "markdown",
   "metadata": {},
   "source": [
    "### RFE\n",
    "Recursive feature elimination"
   ]
  },
  {
   "cell_type": "code",
   "execution_count": 16,
   "metadata": {},
   "outputs": [],
   "source": [
    "# Importing RFE and LinearRegression\n",
    "from sklearn.feature_selection import RFE\n",
    "from sklearn.linear_model import LinearRegression"
   ]
  },
  {
   "cell_type": "code",
   "execution_count": 17,
   "metadata": {},
   "outputs": [],
   "source": [
    "# Running RFE with the output number of the variable equal to 10\n",
    "lm = LinearRegression()\n",
    "lm.fit(X_train, y_train)\n",
    "\n",
    "rfe = RFE(lm, 10)             # running RFE\n",
    "rfe = rfe.fit(X_train, y_train)"
   ]
  },
  {
   "cell_type": "code",
   "execution_count": 18,
   "metadata": {},
   "outputs": [
    {
     "output_type": "execute_result",
     "data": {
      "text/plain": [
       "[('area', True, 1),\n",
       " ('bedrooms', True, 1),\n",
       " ('bathrooms', True, 1),\n",
       " ('stories', True, 1),\n",
       " ('mainroad', True, 1),\n",
       " ('guestroom', True, 1),\n",
       " ('basement', False, 3),\n",
       " ('hotwaterheating', True, 1),\n",
       " ('airconditioning', True, 1),\n",
       " ('parking', True, 1),\n",
       " ('prefarea', True, 1),\n",
       " ('semi-furnished', False, 4),\n",
       " ('unfurnished', False, 2)]"
      ]
     },
     "metadata": {},
     "execution_count": 18
    }
   ],
   "source": [
    "list(zip(X_train.columns,rfe.support_,rfe.ranking_))"
   ]
  },
  {
   "cell_type": "code",
   "execution_count": 23,
   "metadata": {
    "scrolled": false
   },
   "outputs": [
    {
     "output_type": "execute_result",
     "data": {
      "text/plain": [
       "Index(['area', 'bedrooms', 'bathrooms', 'stories', 'mainroad', 'guestroom',\n",
       "       'hotwaterheating', 'airconditioning', 'parking', 'prefarea'],\n",
       "      dtype='object')"
      ]
     },
     "metadata": {},
     "execution_count": 23
    }
   ],
   "source": [
    "col = X_train.columns[rfe.support_]\n",
    "col"
   ]
  },
  {
   "cell_type": "code",
   "execution_count": 24,
   "metadata": {},
   "outputs": [
    {
     "output_type": "execute_result",
     "data": {
      "text/plain": [
       "Index(['basement', 'semi-furnished', 'unfurnished'], dtype='object')"
      ]
     },
     "metadata": {},
     "execution_count": 24
    }
   ],
   "source": [
    "X_train.columns[~rfe.support_]"
   ]
  },
  {
   "cell_type": "markdown",
   "metadata": {},
   "source": [
    "### Building model using statsmodel, for the detailed statistics"
   ]
  },
  {
   "cell_type": "code",
   "execution_count": 25,
   "metadata": {},
   "outputs": [],
   "source": [
    "# Creating X_test dataframe with RFE selected variables\n",
    "X_train_rfe = X_train[col]"
   ]
  },
  {
   "cell_type": "code",
   "execution_count": 26,
   "metadata": {},
   "outputs": [],
   "source": [
    "# Adding a constant variable \n",
    "import statsmodels.api as sm  \n",
    "X_train_rfe = sm.add_constant(X_train_rfe)"
   ]
  },
  {
   "cell_type": "code",
   "execution_count": 27,
   "metadata": {},
   "outputs": [],
   "source": [
    "lm = sm.OLS(y_train,X_train_rfe).fit()   # Running the linear model"
   ]
  },
  {
   "cell_type": "code",
   "execution_count": 28,
   "metadata": {},
   "outputs": [
    {
     "output_type": "stream",
     "name": "stdout",
     "text": [
      "                            OLS Regression Results                            \n==============================================================================\nDep. Variable:                  price   R-squared:                       0.669\nModel:                            OLS   Adj. R-squared:                  0.660\nMethod:                 Least Squares   F-statistic:                     74.89\nDate:                Sun, 25 Oct 2020   Prob (F-statistic):           1.28e-82\nTime:                        00:27:08   Log-Likelihood:                 374.65\nNo. Observations:                 381   AIC:                            -727.3\nDf Residuals:                     370   BIC:                            -683.9\nDf Model:                          10                                         \nCovariance Type:            nonrobust                                         \n===================================================================================\n                      coef    std err          t      P>|t|      [0.025      0.975]\n-----------------------------------------------------------------------------------\nconst               0.0027      0.018      0.151      0.880      -0.033       0.038\narea                0.2363      0.030      7.787      0.000       0.177       0.296\nbedrooms            0.0661      0.037      1.794      0.074      -0.006       0.139\nbathrooms           0.1982      0.022      8.927      0.000       0.155       0.242\nstories             0.0977      0.019      5.251      0.000       0.061       0.134\nmainroad            0.0556      0.014      3.848      0.000       0.027       0.084\nguestroom           0.0381      0.013      2.934      0.004       0.013       0.064\nhotwaterheating     0.0897      0.022      4.104      0.000       0.047       0.133\nairconditioning     0.0711      0.011      6.235      0.000       0.049       0.093\nparking             0.0637      0.018      3.488      0.001       0.028       0.100\nprefarea            0.0643      0.012      5.445      0.000       0.041       0.088\n==============================================================================\nOmnibus:                       86.105   Durbin-Watson:                   2.098\nProb(Omnibus):                  0.000   Jarque-Bera (JB):              286.069\nSkew:                           0.992   Prob(JB):                     7.60e-63\nKurtosis:                       6.753   Cond. No.                         13.2\n==============================================================================\n\nWarnings:\n[1] Standard Errors assume that the covariance matrix of the errors is correctly specified.\n"
     ]
    }
   ],
   "source": [
    "#Let's see the summary of our linear model\n",
    "print(lm.summary())"
   ]
  },
  {
   "cell_type": "markdown",
   "metadata": {},
   "source": [
    "`Bedrooms` is insignificant in presence of other variables; can be dropped"
   ]
  },
  {
   "cell_type": "code",
   "execution_count": 29,
   "metadata": {},
   "outputs": [],
   "source": [
    "X_train_new = X_train_rfe.drop([\"bedrooms\"], axis = 1)"
   ]
  },
  {
   "cell_type": "markdown",
   "metadata": {},
   "source": [
    "Rebuilding the model without `bedrooms`"
   ]
  },
  {
   "cell_type": "code",
   "execution_count": 30,
   "metadata": {},
   "outputs": [],
   "source": [
    "# Adding a constant variable \n",
    "import statsmodels.api as sm  \n",
    "X_train_lm = sm.add_constant(X_train_new)"
   ]
  },
  {
   "cell_type": "code",
   "execution_count": 31,
   "metadata": {},
   "outputs": [],
   "source": [
    "lm = sm.OLS(y_train,X_train_lm).fit()   # Running the linear model"
   ]
  },
  {
   "cell_type": "code",
   "execution_count": 32,
   "metadata": {},
   "outputs": [
    {
     "output_type": "stream",
     "name": "stdout",
     "text": [
      "                            OLS Regression Results                            \n==============================================================================\nDep. Variable:                  price   R-squared:                       0.666\nModel:                            OLS   Adj. R-squared:                  0.658\nMethod:                 Least Squares   F-statistic:                     82.37\nDate:                Sun, 25 Oct 2020   Prob (F-statistic):           6.67e-83\nTime:                        00:28:07   Log-Likelihood:                 373.00\nNo. Observations:                 381   AIC:                            -726.0\nDf Residuals:                     371   BIC:                            -686.6\nDf Model:                           9                                         \nCovariance Type:            nonrobust                                         \n===================================================================================\n                      coef    std err          t      P>|t|      [0.025      0.975]\n-----------------------------------------------------------------------------------\nconst               0.0242      0.013      1.794      0.074      -0.002       0.051\narea                0.2367      0.030      7.779      0.000       0.177       0.297\nbathrooms           0.2070      0.022      9.537      0.000       0.164       0.250\nstories             0.1096      0.017      6.280      0.000       0.075       0.144\nmainroad            0.0536      0.014      3.710      0.000       0.025       0.082\nguestroom           0.0390      0.013      2.991      0.003       0.013       0.065\nhotwaterheating     0.0921      0.022      4.213      0.000       0.049       0.135\nairconditioning     0.0710      0.011      6.212      0.000       0.049       0.094\nparking             0.0669      0.018      3.665      0.000       0.031       0.103\nprefarea            0.0653      0.012      5.513      0.000       0.042       0.089\n==============================================================================\nOmnibus:                       91.542   Durbin-Watson:                   2.107\nProb(Omnibus):                  0.000   Jarque-Bera (JB):              315.402\nSkew:                           1.044   Prob(JB):                     3.25e-69\nKurtosis:                       6.938   Cond. No.                         10.0\n==============================================================================\n\nWarnings:\n[1] Standard Errors assume that the covariance matrix of the errors is correctly specified.\n"
     ]
    }
   ],
   "source": [
    "#Let's see the summary of our linear model\n",
    "print(lm.summary())"
   ]
  },
  {
   "cell_type": "code",
   "execution_count": 33,
   "metadata": {},
   "outputs": [
    {
     "output_type": "execute_result",
     "data": {
      "text/plain": [
       "Index(['const', 'area', 'bathrooms', 'stories', 'mainroad', 'guestroom',\n",
       "       'hotwaterheating', 'airconditioning', 'parking', 'prefarea'],\n",
       "      dtype='object')"
      ]
     },
     "metadata": {},
     "execution_count": 33
    }
   ],
   "source": [
    "X_train_new.columns"
   ]
  },
  {
   "cell_type": "code",
   "execution_count": 34,
   "metadata": {},
   "outputs": [],
   "source": [
    "X_train_new = X_train_new.drop(['const'], axis=1)"
   ]
  },
  {
   "cell_type": "code",
   "execution_count": 35,
   "metadata": {},
   "outputs": [
    {
     "output_type": "execute_result",
     "data": {
      "text/plain": [
       "          Features   VIF\n",
       "0             area  4.52\n",
       "3         mainroad  4.26\n",
       "2          stories  2.12\n",
       "7          parking  2.10\n",
       "6  airconditioning  1.75\n",
       "1        bathrooms  1.58\n",
       "8         prefarea  1.47\n",
       "4        guestroom  1.30\n",
       "5  hotwaterheating  1.12"
      ],
      "text/html": "<div>\n<style scoped>\n    .dataframe tbody tr th:only-of-type {\n        vertical-align: middle;\n    }\n\n    .dataframe tbody tr th {\n        vertical-align: top;\n    }\n\n    .dataframe thead th {\n        text-align: right;\n    }\n</style>\n<table border=\"1\" class=\"dataframe\">\n  <thead>\n    <tr style=\"text-align: right;\">\n      <th></th>\n      <th>Features</th>\n      <th>VIF</th>\n    </tr>\n  </thead>\n  <tbody>\n    <tr>\n      <th>0</th>\n      <td>area</td>\n      <td>4.52</td>\n    </tr>\n    <tr>\n      <th>3</th>\n      <td>mainroad</td>\n      <td>4.26</td>\n    </tr>\n    <tr>\n      <th>2</th>\n      <td>stories</td>\n      <td>2.12</td>\n    </tr>\n    <tr>\n      <th>7</th>\n      <td>parking</td>\n      <td>2.10</td>\n    </tr>\n    <tr>\n      <th>6</th>\n      <td>airconditioning</td>\n      <td>1.75</td>\n    </tr>\n    <tr>\n      <th>1</th>\n      <td>bathrooms</td>\n      <td>1.58</td>\n    </tr>\n    <tr>\n      <th>8</th>\n      <td>prefarea</td>\n      <td>1.47</td>\n    </tr>\n    <tr>\n      <th>4</th>\n      <td>guestroom</td>\n      <td>1.30</td>\n    </tr>\n    <tr>\n      <th>5</th>\n      <td>hotwaterheating</td>\n      <td>1.12</td>\n    </tr>\n  </tbody>\n</table>\n</div>"
     },
     "metadata": {},
     "execution_count": 35
    }
   ],
   "source": [
    "# Calculate the VIFs for the new model\n",
    "from statsmodels.stats.outliers_influence import variance_inflation_factor\n",
    "\n",
    "vif = pd.DataFrame()\n",
    "X = X_train_new\n",
    "vif['Features'] = X.columns\n",
    "vif['VIF'] = [variance_inflation_factor(X.values, i) for i in range(X.shape[1])]\n",
    "vif['VIF'] = round(vif['VIF'], 2)\n",
    "vif = vif.sort_values(by = \"VIF\", ascending = False)\n",
    "vif"
   ]
  },
  {
   "cell_type": "markdown",
   "metadata": {},
   "source": [
    "## Residual Analysis of the train data\n",
    "\n",
    "So, now to check if the error terms are also normally distributed (which is infact, one of the major assumptions of linear regression), let us plot the histogram of the error terms and see what it looks like."
   ]
  },
  {
   "cell_type": "code",
   "execution_count": 36,
   "metadata": {},
   "outputs": [],
   "source": [
    "y_train_price = lm.predict(X_train_lm)"
   ]
  },
  {
   "cell_type": "code",
   "execution_count": 37,
   "metadata": {},
   "outputs": [],
   "source": [
    "# Importing the required libraries for plots.\n",
    "import matplotlib.pyplot as plt\n",
    "import seaborn as sns\n",
    "%matplotlib inline"
   ]
  },
  {
   "cell_type": "code",
   "execution_count": 38,
   "metadata": {},
   "outputs": [
    {
     "output_type": "execute_result",
     "data": {
      "text/plain": [
       "Text(0.5, 0, 'Errors')"
      ]
     },
     "metadata": {},
     "execution_count": 38
    },
    {
     "output_type": "display_data",
     "data": {
      "text/plain": "<Figure size 432x288 with 1 Axes>",
      "image/svg+xml": "<?xml version=\"1.0\" encoding=\"utf-8\" standalone=\"no\"?>\r\n<!DOCTYPE svg PUBLIC \"-//W3C//DTD SVG 1.1//EN\"\r\n  \"http://www.w3.org/Graphics/SVG/1.1/DTD/svg11.dtd\">\r\n<!-- Created with matplotlib (https://matplotlib.org/) -->\r\n<svg height=\"298.73875pt\" version=\"1.1\" viewBox=\"0 0 362.5625 298.73875\" width=\"362.5625pt\" xmlns=\"http://www.w3.org/2000/svg\" xmlns:xlink=\"http://www.w3.org/1999/xlink\">\r\n <defs>\r\n  <style type=\"text/css\">\r\n*{stroke-linecap:butt;stroke-linejoin:round;}\r\n  </style>\r\n </defs>\r\n <g id=\"figure_1\">\r\n  <g id=\"patch_1\">\r\n   <path d=\"M 0 298.73875 \r\nL 362.5625 298.73875 \r\nL 362.5625 0 \r\nL 0 0 \r\nz\r\n\" style=\"fill:none;\"/>\r\n  </g>\r\n  <g id=\"axes_1\">\r\n   <g id=\"patch_2\">\r\n    <path d=\"M 20.5625 253.44 \r\nL 355.3625 253.44 \r\nL 355.3625 36 \r\nL 20.5625 36 \r\nz\r\n\" style=\"fill:#ffffff;\"/>\r\n   </g>\r\n   <g id=\"patch_3\">\r\n    <path clip-path=\"url(#pc18722f93f)\" d=\"M 62.064362 253.44 \r\nL 74.654176 253.44 \r\nL 74.654176 247.687619 \r\nL 62.064362 247.687619 \r\nz\r\n\" style=\"fill:#1f77b4;opacity:0.4;\"/>\r\n   </g>\r\n   <g id=\"patch_4\">\r\n    <path clip-path=\"url(#pc18722f93f)\" d=\"M 74.654176 253.44 \r\nL 87.24399 253.44 \r\nL 87.24399 250.56381 \r\nL 74.654176 250.56381 \r\nz\r\n\" style=\"fill:#1f77b4;opacity:0.4;\"/>\r\n   </g>\r\n   <g id=\"patch_5\">\r\n    <path clip-path=\"url(#pc18722f93f)\" d=\"M 87.24399 253.44 \r\nL 99.833803 253.44 \r\nL 99.833803 233.306667 \r\nL 87.24399 233.306667 \r\nz\r\n\" style=\"fill:#1f77b4;opacity:0.4;\"/>\r\n   </g>\r\n   <g id=\"patch_6\">\r\n    <path clip-path=\"url(#pc18722f93f)\" d=\"M 99.833803 253.44 \r\nL 112.423617 253.44 \r\nL 112.423617 216.049524 \r\nL 99.833803 216.049524 \r\nz\r\n\" style=\"fill:#1f77b4;opacity:0.4;\"/>\r\n   </g>\r\n   <g id=\"patch_7\">\r\n    <path clip-path=\"url(#pc18722f93f)\" d=\"M 112.423617 253.44 \r\nL 125.013431 253.44 \r\nL 125.013431 164.278095 \r\nL 112.423617 164.278095 \r\nz\r\n\" style=\"fill:#1f77b4;opacity:0.4;\"/>\r\n   </g>\r\n   <g id=\"patch_8\">\r\n    <path clip-path=\"url(#pc18722f93f)\" d=\"M 125.013431 253.44 \r\nL 137.603245 253.44 \r\nL 137.603245 106.754286 \r\nL 125.013431 106.754286 \r\nz\r\n\" style=\"fill:#1f77b4;opacity:0.4;\"/>\r\n   </g>\r\n   <g id=\"patch_9\">\r\n    <path clip-path=\"url(#pc18722f93f)\" d=\"M 137.603245 253.44 \r\nL 150.193059 253.44 \r\nL 150.193059 46.354286 \r\nL 137.603245 46.354286 \r\nz\r\n\" style=\"fill:#1f77b4;opacity:0.4;\"/>\r\n   </g>\r\n   <g id=\"patch_10\">\r\n    <path clip-path=\"url(#pc18722f93f)\" d=\"M 150.193059 253.44 \r\nL 162.782872 253.44 \r\nL 162.782872 66.487619 \r\nL 150.193059 66.487619 \r\nz\r\n\" style=\"fill:#1f77b4;opacity:0.4;\"/>\r\n   </g>\r\n   <g id=\"patch_11\">\r\n    <path clip-path=\"url(#pc18722f93f)\" d=\"M 162.782872 253.44 \r\nL 175.372686 253.44 \r\nL 175.372686 92.373333 \r\nL 162.782872 92.373333 \r\nz\r\n\" style=\"fill:#1f77b4;opacity:0.4;\"/>\r\n   </g>\r\n   <g id=\"patch_12\">\r\n    <path clip-path=\"url(#pc18722f93f)\" d=\"M 175.372686 253.44 \r\nL 187.9625 253.44 \r\nL 187.9625 147.020952 \r\nL 175.372686 147.020952 \r\nz\r\n\" style=\"fill:#1f77b4;opacity:0.4;\"/>\r\n   </g>\r\n   <g id=\"patch_13\">\r\n    <path clip-path=\"url(#pc18722f93f)\" d=\"M 187.9625 253.44 \r\nL 200.552314 253.44 \r\nL 200.552314 187.287619 \r\nL 187.9625 187.287619 \r\nz\r\n\" style=\"fill:#1f77b4;opacity:0.4;\"/>\r\n   </g>\r\n   <g id=\"patch_14\">\r\n    <path clip-path=\"url(#pc18722f93f)\" d=\"M 200.552314 253.44 \r\nL 213.142128 253.44 \r\nL 213.142128 230.430476 \r\nL 200.552314 230.430476 \r\nz\r\n\" style=\"fill:#1f77b4;opacity:0.4;\"/>\r\n   </g>\r\n   <g id=\"patch_15\">\r\n    <path clip-path=\"url(#pc18722f93f)\" d=\"M 213.142128 253.44 \r\nL 225.731941 253.44 \r\nL 225.731941 241.935238 \r\nL 213.142128 241.935238 \r\nz\r\n\" style=\"fill:#1f77b4;opacity:0.4;\"/>\r\n   </g>\r\n   <g id=\"patch_16\">\r\n    <path clip-path=\"url(#pc18722f93f)\" d=\"M 225.731941 253.44 \r\nL 238.321755 253.44 \r\nL 238.321755 244.811429 \r\nL 225.731941 244.811429 \r\nz\r\n\" style=\"fill:#1f77b4;opacity:0.4;\"/>\r\n   </g>\r\n   <g id=\"patch_17\">\r\n    <path clip-path=\"url(#pc18722f93f)\" d=\"M 238.321755 253.44 \r\nL 250.911569 253.44 \r\nL 250.911569 241.935238 \r\nL 238.321755 241.935238 \r\nz\r\n\" style=\"fill:#1f77b4;opacity:0.4;\"/>\r\n   </g>\r\n   <g id=\"patch_18\">\r\n    <path clip-path=\"url(#pc18722f93f)\" d=\"M 250.911569 253.44 \r\nL 263.501383 253.44 \r\nL 263.501383 253.44 \r\nL 250.911569 253.44 \r\nz\r\n\" style=\"fill:#1f77b4;opacity:0.4;\"/>\r\n   </g>\r\n   <g id=\"patch_19\">\r\n    <path clip-path=\"url(#pc18722f93f)\" d=\"M 263.501383 253.44 \r\nL 276.091197 253.44 \r\nL 276.091197 250.56381 \r\nL 263.501383 250.56381 \r\nz\r\n\" style=\"fill:#1f77b4;opacity:0.4;\"/>\r\n   </g>\r\n   <g id=\"patch_20\">\r\n    <path clip-path=\"url(#pc18722f93f)\" d=\"M 276.091197 253.44 \r\nL 288.68101 253.44 \r\nL 288.68101 253.44 \r\nL 276.091197 253.44 \r\nz\r\n\" style=\"fill:#1f77b4;opacity:0.4;\"/>\r\n   </g>\r\n   <g id=\"patch_21\">\r\n    <path clip-path=\"url(#pc18722f93f)\" d=\"M 288.68101 253.44 \r\nL 301.270824 253.44 \r\nL 301.270824 250.56381 \r\nL 288.68101 250.56381 \r\nz\r\n\" style=\"fill:#1f77b4;opacity:0.4;\"/>\r\n   </g>\r\n   <g id=\"patch_22\">\r\n    <path clip-path=\"url(#pc18722f93f)\" d=\"M 301.270824 253.44 \r\nL 313.860638 253.44 \r\nL 313.860638 247.687619 \r\nL 301.270824 247.687619 \r\nz\r\n\" style=\"fill:#1f77b4;opacity:0.4;\"/>\r\n   </g>\r\n   <g id=\"matplotlib.axis_1\">\r\n    <g id=\"xtick_1\">\r\n     <g id=\"line2d_1\">\r\n      <defs>\r\n       <path d=\"M 0 0 \r\nL 0 3.5 \r\n\" id=\"mf86012f5f0\" style=\"stroke:#000000;stroke-width:0.8;\"/>\r\n      </defs>\r\n      <g>\r\n       <use style=\"stroke:#000000;stroke-width:0.8;\" x=\"85.025339\" xlink:href=\"#mf86012f5f0\" y=\"253.44\"/>\r\n      </g>\r\n     </g>\r\n     <g id=\"text_1\">\r\n      <!-- −0.2 -->\r\n      <defs>\r\n       <path d=\"M 10.59375 35.5 \r\nL 73.1875 35.5 \r\nL 73.1875 27.203125 \r\nL 10.59375 27.203125 \r\nz\r\n\" id=\"DejaVuSans-8722\"/>\r\n       <path d=\"M 31.78125 66.40625 \r\nQ 24.171875 66.40625 20.328125 58.90625 \r\nQ 16.5 51.421875 16.5 36.375 \r\nQ 16.5 21.390625 20.328125 13.890625 \r\nQ 24.171875 6.390625 31.78125 6.390625 \r\nQ 39.453125 6.390625 43.28125 13.890625 \r\nQ 47.125 21.390625 47.125 36.375 \r\nQ 47.125 51.421875 43.28125 58.90625 \r\nQ 39.453125 66.40625 31.78125 66.40625 \r\nz\r\nM 31.78125 74.21875 \r\nQ 44.046875 74.21875 50.515625 64.515625 \r\nQ 56.984375 54.828125 56.984375 36.375 \r\nQ 56.984375 17.96875 50.515625 8.265625 \r\nQ 44.046875 -1.421875 31.78125 -1.421875 \r\nQ 19.53125 -1.421875 13.0625 8.265625 \r\nQ 6.59375 17.96875 6.59375 36.375 \r\nQ 6.59375 54.828125 13.0625 64.515625 \r\nQ 19.53125 74.21875 31.78125 74.21875 \r\nz\r\n\" id=\"DejaVuSans-48\"/>\r\n       <path d=\"M 10.6875 12.40625 \r\nL 21 12.40625 \r\nL 21 0 \r\nL 10.6875 0 \r\nz\r\n\" id=\"DejaVuSans-46\"/>\r\n       <path d=\"M 19.1875 8.296875 \r\nL 53.609375 8.296875 \r\nL 53.609375 0 \r\nL 7.328125 0 \r\nL 7.328125 8.296875 \r\nQ 12.9375 14.109375 22.625 23.890625 \r\nQ 32.328125 33.6875 34.8125 36.53125 \r\nQ 39.546875 41.84375 41.421875 45.53125 \r\nQ 43.3125 49.21875 43.3125 52.78125 \r\nQ 43.3125 58.59375 39.234375 62.25 \r\nQ 35.15625 65.921875 28.609375 65.921875 \r\nQ 23.96875 65.921875 18.8125 64.3125 \r\nQ 13.671875 62.703125 7.8125 59.421875 \r\nL 7.8125 69.390625 \r\nQ 13.765625 71.78125 18.9375 73 \r\nQ 24.125 74.21875 28.421875 74.21875 \r\nQ 39.75 74.21875 46.484375 68.546875 \r\nQ 53.21875 62.890625 53.21875 53.421875 \r\nQ 53.21875 48.921875 51.53125 44.890625 \r\nQ 49.859375 40.875 45.40625 35.40625 \r\nQ 44.1875 33.984375 37.640625 27.21875 \r\nQ 31.109375 20.453125 19.1875 8.296875 \r\nz\r\n\" id=\"DejaVuSans-50\"/>\r\n      </defs>\r\n      <g transform=\"translate(72.883933 268.038437)scale(0.1 -0.1)\">\r\n       <use xlink:href=\"#DejaVuSans-8722\"/>\r\n       <use x=\"83.789062\" xlink:href=\"#DejaVuSans-48\"/>\r\n       <use x=\"147.412109\" xlink:href=\"#DejaVuSans-46\"/>\r\n       <use x=\"179.199219\" xlink:href=\"#DejaVuSans-50\"/>\r\n      </g>\r\n     </g>\r\n    </g>\r\n    <g id=\"xtick_2\">\r\n     <g id=\"line2d_2\">\r\n      <g>\r\n       <use style=\"stroke:#000000;stroke-width:0.8;\" x=\"155.319224\" xlink:href=\"#mf86012f5f0\" y=\"253.44\"/>\r\n      </g>\r\n     </g>\r\n     <g id=\"text_2\">\r\n      <!-- 0.0 -->\r\n      <g transform=\"translate(147.367661 268.038437)scale(0.1 -0.1)\">\r\n       <use xlink:href=\"#DejaVuSans-48\"/>\r\n       <use x=\"63.623047\" xlink:href=\"#DejaVuSans-46\"/>\r\n       <use x=\"95.410156\" xlink:href=\"#DejaVuSans-48\"/>\r\n      </g>\r\n     </g>\r\n    </g>\r\n    <g id=\"xtick_3\">\r\n     <g id=\"line2d_3\">\r\n      <g>\r\n       <use style=\"stroke:#000000;stroke-width:0.8;\" x=\"225.613108\" xlink:href=\"#mf86012f5f0\" y=\"253.44\"/>\r\n      </g>\r\n     </g>\r\n     <g id=\"text_3\">\r\n      <!-- 0.2 -->\r\n      <g transform=\"translate(217.661546 268.038437)scale(0.1 -0.1)\">\r\n       <use xlink:href=\"#DejaVuSans-48\"/>\r\n       <use x=\"63.623047\" xlink:href=\"#DejaVuSans-46\"/>\r\n       <use x=\"95.410156\" xlink:href=\"#DejaVuSans-50\"/>\r\n      </g>\r\n     </g>\r\n    </g>\r\n    <g id=\"xtick_4\">\r\n     <g id=\"line2d_4\">\r\n      <g>\r\n       <use style=\"stroke:#000000;stroke-width:0.8;\" x=\"295.906993\" xlink:href=\"#mf86012f5f0\" y=\"253.44\"/>\r\n      </g>\r\n     </g>\r\n     <g id=\"text_4\">\r\n      <!-- 0.4 -->\r\n      <defs>\r\n       <path d=\"M 37.796875 64.3125 \r\nL 12.890625 25.390625 \r\nL 37.796875 25.390625 \r\nz\r\nM 35.203125 72.90625 \r\nL 47.609375 72.90625 \r\nL 47.609375 25.390625 \r\nL 58.015625 25.390625 \r\nL 58.015625 17.1875 \r\nL 47.609375 17.1875 \r\nL 47.609375 0 \r\nL 37.796875 0 \r\nL 37.796875 17.1875 \r\nL 4.890625 17.1875 \r\nL 4.890625 26.703125 \r\nz\r\n\" id=\"DejaVuSans-52\"/>\r\n      </defs>\r\n      <g transform=\"translate(287.955431 268.038437)scale(0.1 -0.1)\">\r\n       <use xlink:href=\"#DejaVuSans-48\"/>\r\n       <use x=\"63.623047\" xlink:href=\"#DejaVuSans-46\"/>\r\n       <use x=\"95.410156\" xlink:href=\"#DejaVuSans-52\"/>\r\n      </g>\r\n     </g>\r\n    </g>\r\n    <g id=\"text_5\">\r\n     <!-- Errors -->\r\n     <defs>\r\n      <path d=\"M 9.8125 72.90625 \r\nL 55.90625 72.90625 \r\nL 55.90625 64.59375 \r\nL 19.671875 64.59375 \r\nL 19.671875 43.015625 \r\nL 54.390625 43.015625 \r\nL 54.390625 34.71875 \r\nL 19.671875 34.71875 \r\nL 19.671875 8.296875 \r\nL 56.78125 8.296875 \r\nL 56.78125 0 \r\nL 9.8125 0 \r\nz\r\n\" id=\"DejaVuSans-69\"/>\r\n      <path d=\"M 41.109375 46.296875 \r\nQ 39.59375 47.171875 37.8125 47.578125 \r\nQ 36.03125 48 33.890625 48 \r\nQ 26.265625 48 22.1875 43.046875 \r\nQ 18.109375 38.09375 18.109375 28.8125 \r\nL 18.109375 0 \r\nL 9.078125 0 \r\nL 9.078125 54.6875 \r\nL 18.109375 54.6875 \r\nL 18.109375 46.1875 \r\nQ 20.953125 51.171875 25.484375 53.578125 \r\nQ 30.03125 56 36.53125 56 \r\nQ 37.453125 56 38.578125 55.875 \r\nQ 39.703125 55.765625 41.0625 55.515625 \r\nz\r\n\" id=\"DejaVuSans-114\"/>\r\n      <path d=\"M 30.609375 48.390625 \r\nQ 23.390625 48.390625 19.1875 42.75 \r\nQ 14.984375 37.109375 14.984375 27.296875 \r\nQ 14.984375 17.484375 19.15625 11.84375 \r\nQ 23.34375 6.203125 30.609375 6.203125 \r\nQ 37.796875 6.203125 41.984375 11.859375 \r\nQ 46.1875 17.53125 46.1875 27.296875 \r\nQ 46.1875 37.015625 41.984375 42.703125 \r\nQ 37.796875 48.390625 30.609375 48.390625 \r\nz\r\nM 30.609375 56 \r\nQ 42.328125 56 49.015625 48.375 \r\nQ 55.71875 40.765625 55.71875 27.296875 \r\nQ 55.71875 13.875 49.015625 6.21875 \r\nQ 42.328125 -1.421875 30.609375 -1.421875 \r\nQ 18.84375 -1.421875 12.171875 6.21875 \r\nQ 5.515625 13.875 5.515625 27.296875 \r\nQ 5.515625 40.765625 12.171875 48.375 \r\nQ 18.84375 56 30.609375 56 \r\nz\r\n\" id=\"DejaVuSans-111\"/>\r\n      <path d=\"M 44.28125 53.078125 \r\nL 44.28125 44.578125 \r\nQ 40.484375 46.53125 36.375 47.5 \r\nQ 32.28125 48.484375 27.875 48.484375 \r\nQ 21.1875 48.484375 17.84375 46.4375 \r\nQ 14.5 44.390625 14.5 40.28125 \r\nQ 14.5 37.15625 16.890625 35.375 \r\nQ 19.28125 33.59375 26.515625 31.984375 \r\nL 29.59375 31.296875 \r\nQ 39.15625 29.25 43.1875 25.515625 \r\nQ 47.21875 21.78125 47.21875 15.09375 \r\nQ 47.21875 7.46875 41.1875 3.015625 \r\nQ 35.15625 -1.421875 24.609375 -1.421875 \r\nQ 20.21875 -1.421875 15.453125 -0.5625 \r\nQ 10.6875 0.296875 5.421875 2 \r\nL 5.421875 11.28125 \r\nQ 10.40625 8.6875 15.234375 7.390625 \r\nQ 20.0625 6.109375 24.8125 6.109375 \r\nQ 31.15625 6.109375 34.5625 8.28125 \r\nQ 37.984375 10.453125 37.984375 14.40625 \r\nQ 37.984375 18.0625 35.515625 20.015625 \r\nQ 33.0625 21.96875 24.703125 23.78125 \r\nL 21.578125 24.515625 \r\nQ 13.234375 26.265625 9.515625 29.90625 \r\nQ 5.8125 33.546875 5.8125 39.890625 \r\nQ 5.8125 47.609375 11.28125 51.796875 \r\nQ 16.75 56 26.8125 56 \r\nQ 31.78125 56 36.171875 55.265625 \r\nQ 40.578125 54.546875 44.28125 53.078125 \r\nz\r\n\" id=\"DejaVuSans-115\"/>\r\n     </defs>\r\n     <g transform=\"translate(161.340781 287.795312)scale(0.18 -0.18)\">\r\n      <use xlink:href=\"#DejaVuSans-69\"/>\r\n      <use x=\"63.183594\" xlink:href=\"#DejaVuSans-114\"/>\r\n      <use x=\"102.546875\" xlink:href=\"#DejaVuSans-114\"/>\r\n      <use x=\"141.410156\" xlink:href=\"#DejaVuSans-111\"/>\r\n      <use x=\"202.591797\" xlink:href=\"#DejaVuSans-114\"/>\r\n      <use x=\"243.705078\" xlink:href=\"#DejaVuSans-115\"/>\r\n     </g>\r\n    </g>\r\n   </g>\r\n   <g id=\"matplotlib.axis_2\">\r\n    <g id=\"ytick_1\">\r\n     <g id=\"line2d_5\">\r\n      <defs>\r\n       <path d=\"M 0 0 \r\nL -3.5 0 \r\n\" id=\"m040806b6e7\" style=\"stroke:#000000;stroke-width:0.8;\"/>\r\n      </defs>\r\n      <g>\r\n       <use style=\"stroke:#000000;stroke-width:0.8;\" x=\"20.5625\" xlink:href=\"#m040806b6e7\" y=\"253.44\"/>\r\n      </g>\r\n     </g>\r\n     <g id=\"text_6\">\r\n      <!-- 0 -->\r\n      <g transform=\"translate(7.2 257.239219)scale(0.1 -0.1)\">\r\n       <use xlink:href=\"#DejaVuSans-48\"/>\r\n      </g>\r\n     </g>\r\n    </g>\r\n    <g id=\"ytick_2\">\r\n     <g id=\"line2d_6\">\r\n      <g>\r\n       <use style=\"stroke:#000000;stroke-width:0.8;\" x=\"20.5625\" xlink:href=\"#m040806b6e7\" y=\"214.186862\"/>\r\n      </g>\r\n     </g>\r\n     <g id=\"text_7\">\r\n      <!-- 1 -->\r\n      <defs>\r\n       <path d=\"M 12.40625 8.296875 \r\nL 28.515625 8.296875 \r\nL 28.515625 63.921875 \r\nL 10.984375 60.40625 \r\nL 10.984375 69.390625 \r\nL 28.421875 72.90625 \r\nL 38.28125 72.90625 \r\nL 38.28125 8.296875 \r\nL 54.390625 8.296875 \r\nL 54.390625 0 \r\nL 12.40625 0 \r\nz\r\n\" id=\"DejaVuSans-49\"/>\r\n      </defs>\r\n      <g transform=\"translate(7.2 217.986081)scale(0.1 -0.1)\">\r\n       <use xlink:href=\"#DejaVuSans-49\"/>\r\n      </g>\r\n     </g>\r\n    </g>\r\n    <g id=\"ytick_3\">\r\n     <g id=\"line2d_7\">\r\n      <g>\r\n       <use style=\"stroke:#000000;stroke-width:0.8;\" x=\"20.5625\" xlink:href=\"#m040806b6e7\" y=\"174.933725\"/>\r\n      </g>\r\n     </g>\r\n     <g id=\"text_8\">\r\n      <!-- 2 -->\r\n      <g transform=\"translate(7.2 178.732943)scale(0.1 -0.1)\">\r\n       <use xlink:href=\"#DejaVuSans-50\"/>\r\n      </g>\r\n     </g>\r\n    </g>\r\n    <g id=\"ytick_4\">\r\n     <g id=\"line2d_8\">\r\n      <g>\r\n       <use style=\"stroke:#000000;stroke-width:0.8;\" x=\"20.5625\" xlink:href=\"#m040806b6e7\" y=\"135.680587\"/>\r\n      </g>\r\n     </g>\r\n     <g id=\"text_9\">\r\n      <!-- 3 -->\r\n      <defs>\r\n       <path d=\"M 40.578125 39.3125 \r\nQ 47.65625 37.796875 51.625 33 \r\nQ 55.609375 28.21875 55.609375 21.1875 \r\nQ 55.609375 10.40625 48.1875 4.484375 \r\nQ 40.765625 -1.421875 27.09375 -1.421875 \r\nQ 22.515625 -1.421875 17.65625 -0.515625 \r\nQ 12.796875 0.390625 7.625 2.203125 \r\nL 7.625 11.71875 \r\nQ 11.71875 9.328125 16.59375 8.109375 \r\nQ 21.484375 6.890625 26.8125 6.890625 \r\nQ 36.078125 6.890625 40.9375 10.546875 \r\nQ 45.796875 14.203125 45.796875 21.1875 \r\nQ 45.796875 27.640625 41.28125 31.265625 \r\nQ 36.765625 34.90625 28.71875 34.90625 \r\nL 20.21875 34.90625 \r\nL 20.21875 43.015625 \r\nL 29.109375 43.015625 \r\nQ 36.375 43.015625 40.234375 45.921875 \r\nQ 44.09375 48.828125 44.09375 54.296875 \r\nQ 44.09375 59.90625 40.109375 62.90625 \r\nQ 36.140625 65.921875 28.71875 65.921875 \r\nQ 24.65625 65.921875 20.015625 65.03125 \r\nQ 15.375 64.15625 9.8125 62.3125 \r\nL 9.8125 71.09375 \r\nQ 15.4375 72.65625 20.34375 73.4375 \r\nQ 25.25 74.21875 29.59375 74.21875 \r\nQ 40.828125 74.21875 47.359375 69.109375 \r\nQ 53.90625 64.015625 53.90625 55.328125 \r\nQ 53.90625 49.265625 50.4375 45.09375 \r\nQ 46.96875 40.921875 40.578125 39.3125 \r\nz\r\n\" id=\"DejaVuSans-51\"/>\r\n      </defs>\r\n      <g transform=\"translate(7.2 139.479806)scale(0.1 -0.1)\">\r\n       <use xlink:href=\"#DejaVuSans-51\"/>\r\n      </g>\r\n     </g>\r\n    </g>\r\n    <g id=\"ytick_5\">\r\n     <g id=\"line2d_9\">\r\n      <g>\r\n       <use style=\"stroke:#000000;stroke-width:0.8;\" x=\"20.5625\" xlink:href=\"#m040806b6e7\" y=\"96.427449\"/>\r\n      </g>\r\n     </g>\r\n     <g id=\"text_10\">\r\n      <!-- 4 -->\r\n      <g transform=\"translate(7.2 100.226668)scale(0.1 -0.1)\">\r\n       <use xlink:href=\"#DejaVuSans-52\"/>\r\n      </g>\r\n     </g>\r\n    </g>\r\n    <g id=\"ytick_6\">\r\n     <g id=\"line2d_10\">\r\n      <g>\r\n       <use style=\"stroke:#000000;stroke-width:0.8;\" x=\"20.5625\" xlink:href=\"#m040806b6e7\" y=\"57.174312\"/>\r\n      </g>\r\n     </g>\r\n     <g id=\"text_11\">\r\n      <!-- 5 -->\r\n      <defs>\r\n       <path d=\"M 10.796875 72.90625 \r\nL 49.515625 72.90625 \r\nL 49.515625 64.59375 \r\nL 19.828125 64.59375 \r\nL 19.828125 46.734375 \r\nQ 21.96875 47.46875 24.109375 47.828125 \r\nQ 26.265625 48.1875 28.421875 48.1875 \r\nQ 40.625 48.1875 47.75 41.5 \r\nQ 54.890625 34.8125 54.890625 23.390625 \r\nQ 54.890625 11.625 47.5625 5.09375 \r\nQ 40.234375 -1.421875 26.90625 -1.421875 \r\nQ 22.3125 -1.421875 17.546875 -0.640625 \r\nQ 12.796875 0.140625 7.71875 1.703125 \r\nL 7.71875 11.625 \r\nQ 12.109375 9.234375 16.796875 8.0625 \r\nQ 21.484375 6.890625 26.703125 6.890625 \r\nQ 35.15625 6.890625 40.078125 11.328125 \r\nQ 45.015625 15.765625 45.015625 23.390625 \r\nQ 45.015625 31 40.078125 35.4375 \r\nQ 35.15625 39.890625 26.703125 39.890625 \r\nQ 22.75 39.890625 18.8125 39.015625 \r\nQ 14.890625 38.140625 10.796875 36.28125 \r\nz\r\n\" id=\"DejaVuSans-53\"/>\r\n      </defs>\r\n      <g transform=\"translate(7.2 60.973531)scale(0.1 -0.1)\">\r\n       <use xlink:href=\"#DejaVuSans-53\"/>\r\n      </g>\r\n     </g>\r\n    </g>\r\n   </g>\r\n   <g id=\"line2d_11\">\r\n    <path clip-path=\"url(#pc18722f93f)\" d=\"M 35.780682 253.402008 \r\nL 40.57381 253.327309 \r\nL 45.366938 253.056282 \r\nL 50.160066 252.441682 \r\nL 54.953194 251.483461 \r\nL 59.746322 250.537375 \r\nL 62.142887 250.239846 \r\nL 64.539451 250.116141 \r\nL 69.332579 250.264925 \r\nL 71.729143 250.34053 \r\nL 74.125707 250.228617 \r\nL 76.522271 249.783026 \r\nL 78.918835 248.882146 \r\nL 81.315399 247.44438 \r\nL 83.711963 245.436188 \r\nL 86.108527 242.874771 \r\nL 88.505091 239.825513 \r\nL 90.901655 236.390656 \r\nL 95.694783 228.795986 \r\nL 98.091348 224.746826 \r\nL 100.487912 220.466549 \r\nL 102.884476 215.79858 \r\nL 105.28104 210.54344 \r\nL 107.677604 204.523562 \r\nL 110.074168 197.641189 \r\nL 112.470732 189.901707 \r\nL 114.867296 181.391399 \r\nL 117.26386 172.22243 \r\nL 119.660424 162.476142 \r\nL 122.056988 152.178175 \r\nL 124.453552 141.323279 \r\nL 129.24668 118.174457 \r\nL 134.039809 94.844634 \r\nL 136.436373 84.283825 \r\nL 138.832937 75.179088 \r\nL 141.229501 67.952878 \r\nL 143.626065 62.829813 \r\nL 146.022629 59.801892 \r\nL 148.419193 58.653338 \r\nL 150.815757 59.040164 \r\nL 153.212321 60.59952 \r\nL 155.608885 63.049467 \r\nL 158.005449 66.242324 \r\nL 160.402013 70.157554 \r\nL 162.798577 74.851625 \r\nL 165.195141 80.401774 \r\nL 167.591705 86.874005 \r\nL 169.98827 94.318211 \r\nL 172.384834 102.767318 \r\nL 174.781398 112.214621 \r\nL 177.177962 122.566946 \r\nL 181.97109 144.961937 \r\nL 186.764218 166.95324 \r\nL 189.160782 176.86485 \r\nL 191.557346 185.800008 \r\nL 193.95391 193.748508 \r\nL 196.350474 200.791983 \r\nL 198.747038 207.046601 \r\nL 201.143602 212.621482 \r\nL 203.540166 217.599091 \r\nL 205.93673 222.031859 \r\nL 208.333295 225.947502 \r\nL 210.729859 229.359389 \r\nL 213.126423 232.280667 \r\nL 215.522987 234.738831 \r\nL 217.919551 236.784177 \r\nL 220.316115 238.48611 \r\nL 222.712679 239.917465 \r\nL 225.109243 241.135104 \r\nL 227.505807 242.169139 \r\nL 229.902371 243.029122 \r\nL 232.298935 243.725107 \r\nL 241.885191 245.97318 \r\nL 244.281756 246.775038 \r\nL 249.074884 248.738265 \r\nL 251.471448 249.729655 \r\nL 253.868012 250.591789 \r\nL 256.264576 251.24945 \r\nL 258.66114 251.670774 \r\nL 261.057704 251.870485 \r\nL 265.850832 251.841184 \r\nL 270.64396 251.746202 \r\nL 275.437088 251.958735 \r\nL 282.626781 252.522622 \r\nL 285.023345 252.586325 \r\nL 287.419909 252.532739 \r\nL 292.213037 252.07602 \r\nL 297.006165 251.301917 \r\nL 304.195857 250.064601 \r\nL 306.592421 249.753203 \r\nL 308.988985 249.557528 \r\nL 311.385549 249.520559 \r\nL 313.782113 249.671051 \r\nL 316.178678 250.008658 \r\nL 320.971806 251.072764 \r\nL 325.764934 252.189166 \r\nL 330.558062 252.941239 \r\nL 335.35119 253.289733 \r\nL 340.144318 253.396816 \r\nL 340.144318 253.396816 \r\n\" style=\"fill:none;stroke:#1f77b4;stroke-linecap:square;stroke-width:1.5;\"/>\r\n   </g>\r\n   <g id=\"patch_23\">\r\n    <path d=\"M 20.5625 253.44 \r\nL 20.5625 36 \r\n\" style=\"fill:none;stroke:#000000;stroke-linecap:square;stroke-linejoin:miter;stroke-width:0.8;\"/>\r\n   </g>\r\n   <g id=\"patch_24\">\r\n    <path d=\"M 355.3625 253.44 \r\nL 355.3625 36 \r\n\" style=\"fill:none;stroke:#000000;stroke-linecap:square;stroke-linejoin:miter;stroke-width:0.8;\"/>\r\n   </g>\r\n   <g id=\"patch_25\">\r\n    <path d=\"M 20.5625 253.44 \r\nL 355.3625 253.44 \r\n\" style=\"fill:none;stroke:#000000;stroke-linecap:square;stroke-linejoin:miter;stroke-width:0.8;\"/>\r\n   </g>\r\n   <g id=\"patch_26\">\r\n    <path d=\"M 20.5625 36 \r\nL 355.3625 36 \r\n\" style=\"fill:none;stroke:#000000;stroke-linecap:square;stroke-linejoin:miter;stroke-width:0.8;\"/>\r\n   </g>\r\n  </g>\r\n  <g id=\"text_12\">\r\n   <!-- Error Terms -->\r\n   <defs>\r\n    <path id=\"DejaVuSans-32\"/>\r\n    <path d=\"M -0.296875 72.90625 \r\nL 61.375 72.90625 \r\nL 61.375 64.59375 \r\nL 35.5 64.59375 \r\nL 35.5 0 \r\nL 25.59375 0 \r\nL 25.59375 64.59375 \r\nL -0.296875 64.59375 \r\nz\r\n\" id=\"DejaVuSans-84\"/>\r\n    <path d=\"M 56.203125 29.59375 \r\nL 56.203125 25.203125 \r\nL 14.890625 25.203125 \r\nQ 15.484375 15.921875 20.484375 11.0625 \r\nQ 25.484375 6.203125 34.421875 6.203125 \r\nQ 39.59375 6.203125 44.453125 7.46875 \r\nQ 49.3125 8.734375 54.109375 11.28125 \r\nL 54.109375 2.78125 \r\nQ 49.265625 0.734375 44.1875 -0.34375 \r\nQ 39.109375 -1.421875 33.890625 -1.421875 \r\nQ 20.796875 -1.421875 13.15625 6.1875 \r\nQ 5.515625 13.8125 5.515625 26.8125 \r\nQ 5.515625 40.234375 12.765625 48.109375 \r\nQ 20.015625 56 32.328125 56 \r\nQ 43.359375 56 49.78125 48.890625 \r\nQ 56.203125 41.796875 56.203125 29.59375 \r\nz\r\nM 47.21875 32.234375 \r\nQ 47.125 39.59375 43.09375 43.984375 \r\nQ 39.0625 48.390625 32.421875 48.390625 \r\nQ 24.90625 48.390625 20.390625 44.140625 \r\nQ 15.875 39.890625 15.1875 32.171875 \r\nz\r\n\" id=\"DejaVuSans-101\"/>\r\n    <path d=\"M 52 44.1875 \r\nQ 55.375 50.25 60.0625 53.125 \r\nQ 64.75 56 71.09375 56 \r\nQ 79.640625 56 84.28125 50.015625 \r\nQ 88.921875 44.046875 88.921875 33.015625 \r\nL 88.921875 0 \r\nL 79.890625 0 \r\nL 79.890625 32.71875 \r\nQ 79.890625 40.578125 77.09375 44.375 \r\nQ 74.3125 48.1875 68.609375 48.1875 \r\nQ 61.625 48.1875 57.5625 43.546875 \r\nQ 53.515625 38.921875 53.515625 30.90625 \r\nL 53.515625 0 \r\nL 44.484375 0 \r\nL 44.484375 32.71875 \r\nQ 44.484375 40.625 41.703125 44.40625 \r\nQ 38.921875 48.1875 33.109375 48.1875 \r\nQ 26.21875 48.1875 22.15625 43.53125 \r\nQ 18.109375 38.875 18.109375 30.90625 \r\nL 18.109375 0 \r\nL 9.078125 0 \r\nL 9.078125 54.6875 \r\nL 18.109375 54.6875 \r\nL 18.109375 46.1875 \r\nQ 21.1875 51.21875 25.484375 53.609375 \r\nQ 29.78125 56 35.6875 56 \r\nQ 41.65625 56 45.828125 52.96875 \r\nQ 50 49.953125 52 44.1875 \r\nz\r\n\" id=\"DejaVuSans-109\"/>\r\n   </defs>\r\n   <g transform=\"translate(125.567187 22.396875)scale(0.2 -0.2)\">\r\n    <use xlink:href=\"#DejaVuSans-69\"/>\r\n    <use x=\"63.183594\" xlink:href=\"#DejaVuSans-114\"/>\r\n    <use x=\"102.546875\" xlink:href=\"#DejaVuSans-114\"/>\r\n    <use x=\"141.410156\" xlink:href=\"#DejaVuSans-111\"/>\r\n    <use x=\"202.591797\" xlink:href=\"#DejaVuSans-114\"/>\r\n    <use x=\"243.705078\" xlink:href=\"#DejaVuSans-32\"/>\r\n    <use x=\"275.492188\" xlink:href=\"#DejaVuSans-84\"/>\r\n    <use x=\"319.576172\" xlink:href=\"#DejaVuSans-101\"/>\r\n    <use x=\"381.099609\" xlink:href=\"#DejaVuSans-114\"/>\r\n    <use x=\"420.462891\" xlink:href=\"#DejaVuSans-109\"/>\r\n    <use x=\"517.875\" xlink:href=\"#DejaVuSans-115\"/>\r\n   </g>\r\n  </g>\r\n </g>\r\n <defs>\r\n  <clipPath id=\"pc18722f93f\">\r\n   <rect height=\"217.44\" width=\"334.8\" x=\"20.5625\" y=\"36\"/>\r\n  </clipPath>\r\n </defs>\r\n</svg>\r\n",
      "image/png": "[encoded data removed]"
     },
     "metadata": {
      "needs_background": "light"
     }
    }
   ],
   "source": [
    "# Plot the histogram of the error terms\n",
    "fig = plt.figure()\n",
    "sns.distplot((y_train - y_train_price), bins = 20)\n",
    "fig.suptitle('Error Terms', fontsize = 20)                  # Plot heading \n",
    "plt.xlabel('Errors', fontsize = 18)                         # X-label"
   ]
  },
  {
   "cell_type": "markdown",
   "metadata": {},
   "source": [
    "## Making Predictions"
   ]
  },
  {
   "cell_type": "markdown",
   "metadata": {},
   "source": [
    "#### Applying the scaling on the test sets"
   ]
  },
  {
   "cell_type": "code",
   "execution_count": 39,
   "metadata": {},
   "outputs": [],
   "source": [
    "num_vars = ['area', 'bedrooms', 'bathrooms', 'stories', 'parking','price']\n",
    "\n",
    "df_test[num_vars] = scaler.transform(df_test[num_vars])"
   ]
  },
  {
   "cell_type": "markdown",
   "metadata": {},
   "source": [
    "#### Dividing into X_test and y_test"
   ]
  },
  {
   "cell_type": "code",
   "execution_count": 40,
   "metadata": {},
   "outputs": [],
   "source": [
    "y_test = df_test.pop('price')\n",
    "X_test = df_test"
   ]
  },
  {
   "cell_type": "code",
   "execution_count": 41,
   "metadata": {},
   "outputs": [],
   "source": [
    "# Now let's use our model to make predictions.\n",
    "\n",
    "# Creating X_test_new dataframe by dropping variables from X_test\n",
    "X_test_new = X_test[X_train_new.columns]\n",
    "\n",
    "# Adding a constant variable \n",
    "X_test_new = sm.add_constant(X_test_new)"
   ]
  },
  {
   "cell_type": "code",
   "execution_count": 42,
   "metadata": {},
   "outputs": [],
   "source": [
    "# Making predictions\n",
    "y_pred = lm.predict(X_test_new)"
   ]
  },
  {
   "cell_type": "markdown",
   "metadata": {},
   "source": [
    "## Model Evaluation"
   ]
  },
  {
   "cell_type": "code",
   "execution_count": 43,
   "metadata": {},
   "outputs": [
    {
     "output_type": "execute_result",
     "data": {
      "text/plain": [
       "Text(0, 0.5, 'y_pred')"
      ]
     },
     "metadata": {},
     "execution_count": 43
    },
    {
     "output_type": "display_data",
     "data": {
      "text/plain": "<Figure size 432x288 with 1 Axes>",
      "image/svg+xml": "<?xml version=\"1.0\" encoding=\"utf-8\" standalone=\"no\"?>\r\n<!DOCTYPE svg PUBLIC \"-//W3C//DTD SVG 1.1//EN\"\r\n  \"http://www.w3.org/Graphics/SVG/1.1/DTD/svg11.dtd\">\r\n<!-- Created with matplotlib (https://matplotlib.org/) -->\r\n<svg height=\"298.73875pt\" version=\"1.1\" viewBox=\"0 0 392.033125 298.73875\" width=\"392.033125pt\" xmlns=\"http://www.w3.org/2000/svg\" xmlns:xlink=\"http://www.w3.org/1999/xlink\">\r\n <defs>\r\n  <style type=\"text/css\">\r\n*{stroke-linecap:butt;stroke-linejoin:round;}\r\n  </style>\r\n </defs>\r\n <g id=\"figure_1\">\r\n  <g id=\"patch_1\">\r\n   <path d=\"M 0 298.73875 \r\nL 392.033125 298.73875 \r\nL 392.033125 0 \r\nL 0 0 \r\nz\r\n\" style=\"fill:none;\"/>\r\n  </g>\r\n  <g id=\"axes_1\">\r\n   <g id=\"patch_2\">\r\n    <path d=\"M 50.033125 253.44 \r\nL 384.833125 253.44 \r\nL 384.833125 36 \r\nL 50.033125 36 \r\nz\r\n\" style=\"fill:#ffffff;\"/>\r\n   </g>\r\n   <g id=\"PathCollection_1\">\r\n    <defs>\r\n     <path d=\"M 0 3 \r\nC 0.795609 3 1.55874 2.683901 2.12132 2.12132 \r\nC 2.683901 1.55874 3 0.795609 3 0 \r\nC 3 -0.795609 2.683901 -1.55874 2.12132 -2.12132 \r\nC 1.55874 -2.683901 0.795609 -3 0 -3 \r\nC -0.795609 -3 -1.55874 -2.683901 -2.12132 -2.12132 \r\nC -2.683901 -1.55874 -3 -0.795609 -3 0 \r\nC -3 0.795609 -2.683901 1.55874 -2.12132 2.12132 \r\nC -1.55874 2.683901 -0.795609 3 0 3 \r\nz\r\n\" id=\"me87e145653\" style=\"stroke:#1f77b4;\"/>\r\n    </defs>\r\n    <g clip-path=\"url(#p22be9c318c)\">\r\n     <use style=\"fill:#1f77b4;stroke:#1f77b4;\" x=\"140.627268\" xlink:href=\"#me87e145653\" y=\"202.073179\"/>\r\n     <use style=\"fill:#1f77b4;stroke:#1f77b4;\" x=\"226.625315\" xlink:href=\"#me87e145653\" y=\"138.957662\"/>\r\n     <use style=\"fill:#1f77b4;stroke:#1f77b4;\" x=\"165.344046\" xlink:href=\"#me87e145653\" y=\"164.648944\"/>\r\n     <use style=\"fill:#1f77b4;stroke:#1f77b4;\" x=\"144.916957\" xlink:href=\"#me87e145653\" y=\"178.009778\"/>\r\n     <use style=\"fill:#1f77b4;stroke:#1f77b4;\" x=\"140.014455\" xlink:href=\"#me87e145653\" y=\"188.973848\"/>\r\n     <use style=\"fill:#1f77b4;stroke:#1f77b4;\" x=\"149.002375\" xlink:href=\"#me87e145653\" y=\"203.824739\"/>\r\n     <use style=\"fill:#1f77b4;stroke:#1f77b4;\" x=\"261.351368\" xlink:href=\"#me87e145653\" y=\"112.483598\"/>\r\n     <use style=\"fill:#1f77b4;stroke:#1f77b4;\" x=\"165.344046\" xlink:href=\"#me87e145653\" y=\"166.736531\"/>\r\n     <use style=\"fill:#1f77b4;stroke:#1f77b4;\" x=\"91.806523\" xlink:href=\"#me87e145653\" y=\"207.470518\"/>\r\n     <use style=\"fill:#1f77b4;stroke:#1f77b4;\" x=\"185.771136\" xlink:href=\"#me87e145653\" y=\"169.043458\"/>\r\n     <use style=\"fill:#1f77b4;stroke:#1f77b4;\" x=\"119.383094\" xlink:href=\"#me87e145653\" y=\"228.319524\"/>\r\n     <use style=\"fill:#1f77b4;stroke:#1f77b4;\" x=\"206.198226\" xlink:href=\"#me87e145653\" y=\"154.698289\"/>\r\n     <use style=\"fill:#1f77b4;stroke:#1f77b4;\" x=\"81.592979\" xlink:href=\"#me87e145653\" y=\"192.341682\"/>\r\n     <use style=\"fill:#1f77b4;stroke:#1f77b4;\" x=\"185.566865\" xlink:href=\"#me87e145653\" y=\"127.376246\"/>\r\n     <use style=\"fill:#1f77b4;stroke:#1f77b4;\" x=\"175.557591\" xlink:href=\"#me87e145653\" y=\"160.003303\"/>\r\n     <use style=\"fill:#1f77b4;stroke:#1f77b4;\" x=\"157.17321\" xlink:href=\"#me87e145653\" y=\"143.599682\"/>\r\n     <use style=\"fill:#1f77b4;stroke:#1f77b4;\" x=\"368.593589\" xlink:href=\"#me87e145653\" y=\"111.597837\"/>\r\n     <use style=\"fill:#1f77b4;stroke:#1f77b4;\" x=\"138.78883\" xlink:href=\"#me87e145653\" y=\"200.288568\"/>\r\n     <use style=\"fill:#1f77b4;stroke:#1f77b4;\" x=\"241.945633\" xlink:href=\"#me87e145653\" y=\"162.556528\"/>\r\n     <use style=\"fill:#1f77b4;stroke:#1f77b4;\" x=\"185.771136\" xlink:href=\"#me87e145653\" y=\"185.505297\"/>\r\n     <use style=\"fill:#1f77b4;stroke:#1f77b4;\" x=\"103.858506\" xlink:href=\"#me87e145653\" y=\"191.485415\"/>\r\n     <use style=\"fill:#1f77b4;stroke:#1f77b4;\" x=\"128.575285\" xlink:href=\"#me87e145653\" y=\"236.914664\"/>\r\n     <use style=\"fill:#1f77b4;stroke:#1f77b4;\" x=\"142.669977\" xlink:href=\"#me87e145653\" y=\"192.980263\"/>\r\n     <use style=\"fill:#1f77b4;stroke:#1f77b4;\" x=\"95.891941\" xlink:href=\"#me87e145653\" y=\"211.935526\"/>\r\n     <use style=\"fill:#1f77b4;stroke:#1f77b4;\" x=\"113.254968\" xlink:href=\"#me87e145653\" y=\"228.344431\"/>\r\n     <use style=\"fill:#1f77b4;stroke:#1f77b4;\" x=\"89.559544\" xlink:href=\"#me87e145653\" y=\"208.613347\"/>\r\n     <use style=\"fill:#1f77b4;stroke:#1f77b4;\" x=\"142.874248\" xlink:href=\"#me87e145653\" y=\"179.483845\"/>\r\n     <use style=\"fill:#1f77b4;stroke:#1f77b4;\" x=\"192.920617\" xlink:href=\"#me87e145653\" y=\"147.11011\"/>\r\n     <use style=\"fill:#1f77b4;stroke:#1f77b4;\" x=\"126.532576\" xlink:href=\"#me87e145653\" y=\"148.801518\"/>\r\n     <use style=\"fill:#1f77b4;stroke:#1f77b4;\" x=\"277.69304\" xlink:href=\"#me87e145653\" y=\"190.201195\"/>\r\n     <use style=\"fill:#1f77b4;stroke:#1f77b4;\" x=\"89.763814\" xlink:href=\"#me87e145653\" y=\"224.471992\"/>\r\n     <use style=\"fill:#1f77b4;stroke:#1f77b4;\" x=\"114.276322\" xlink:href=\"#me87e145653\" y=\"192.936543\"/>\r\n     <use style=\"fill:#1f77b4;stroke:#1f77b4;\" x=\"110.190904\" xlink:href=\"#me87e145653\" y=\"218.912101\"/>\r\n     <use style=\"fill:#1f77b4;stroke:#1f77b4;\" x=\"67.294016\" xlink:href=\"#me87e145653\" y=\"225.057069\"/>\r\n     <use style=\"fill:#1f77b4;stroke:#1f77b4;\" x=\"153.087792\" xlink:href=\"#me87e145653\" y=\"182.279214\"/>\r\n     <use style=\"fill:#1f77b4;stroke:#1f77b4;\" x=\"134.703412\" xlink:href=\"#me87e145653\" y=\"188.471535\"/>\r\n     <use style=\"fill:#1f77b4;stroke:#1f77b4;\" x=\"134.703412\" xlink:href=\"#me87e145653\" y=\"187.580867\"/>\r\n     <use style=\"fill:#1f77b4;stroke:#1f77b4;\" x=\"93.849232\" xlink:href=\"#me87e145653\" y=\"223.321297\"/>\r\n     <use style=\"fill:#1f77b4;stroke:#1f77b4;\" x=\"119.383094\" xlink:href=\"#me87e145653\" y=\"225.163113\"/>\r\n     <use style=\"fill:#1f77b4;stroke:#1f77b4;\" x=\"129.085962\" xlink:href=\"#me87e145653\" y=\"205.860159\"/>\r\n     <use style=\"fill:#1f77b4;stroke:#1f77b4;\" x=\"159.215919\" xlink:href=\"#me87e145653\" y=\"229.595043\"/>\r\n     <use style=\"fill:#1f77b4;stroke:#1f77b4;\" x=\"173.514882\" xlink:href=\"#me87e145653\" y=\"161.740638\"/>\r\n     <use style=\"fill:#1f77b4;stroke:#1f77b4;\" x=\"175.557591\" xlink:href=\"#me87e145653\" y=\"163.361608\"/>\r\n     <use style=\"fill:#1f77b4;stroke:#1f77b4;\" x=\"73.422143\" xlink:href=\"#me87e145653\" y=\"222.239488\"/>\r\n     <use style=\"fill:#1f77b4;stroke:#1f77b4;\" x=\"89.763814\" xlink:href=\"#me87e145653\" y=\"229.795558\"/>\r\n     <use style=\"fill:#1f77b4;stroke:#1f77b4;\" x=\"149.002375\" xlink:href=\"#me87e145653\" y=\"188.008403\"/>\r\n     <use style=\"fill:#1f77b4;stroke:#1f77b4;\" x=\"134.703412\" xlink:href=\"#me87e145653\" y=\"185.904155\"/>\r\n     <use style=\"fill:#1f77b4;stroke:#1f77b4;\" x=\"87.721105\" xlink:href=\"#me87e145653\" y=\"181.831239\"/>\r\n     <use style=\"fill:#1f77b4;stroke:#1f77b4;\" x=\"117.340386\" xlink:href=\"#me87e145653\" y=\"220.307416\"/>\r\n     <use style=\"fill:#1f77b4;stroke:#1f77b4;\" x=\"189.856554\" xlink:href=\"#me87e145653\" y=\"148.140445\"/>\r\n     <use style=\"fill:#1f77b4;stroke:#1f77b4;\" x=\"88.129647\" xlink:href=\"#me87e145653\" y=\"243.556364\"/>\r\n     <use style=\"fill:#1f77b4;stroke:#1f77b4;\" x=\"179.643009\" xlink:href=\"#me87e145653\" y=\"136.91477\"/>\r\n     <use style=\"fill:#1f77b4;stroke:#1f77b4;\" x=\"165.344046\" xlink:href=\"#me87e145653\" y=\"151.583819\"/>\r\n     <use style=\"fill:#1f77b4;stroke:#1f77b4;\" x=\"257.26595\" xlink:href=\"#me87e145653\" y=\"146.009359\"/>\r\n     <use style=\"fill:#1f77b4;stroke:#1f77b4;\" x=\"192.920617\" xlink:href=\"#me87e145653\" y=\"133.188525\"/>\r\n     <use style=\"fill:#1f77b4;stroke:#1f77b4;\" x=\"155.130501\" xlink:href=\"#me87e145653\" y=\"183.573225\"/>\r\n     <use style=\"fill:#1f77b4;stroke:#1f77b4;\" x=\"195.984681\" xlink:href=\"#me87e145653\" y=\"156.764286\"/>\r\n     <use style=\"fill:#1f77b4;stroke:#1f77b4;\" x=\"112.029342\" xlink:href=\"#me87e145653\" y=\"222.874796\"/>\r\n     <use style=\"fill:#1f77b4;stroke:#1f77b4;\" x=\"103.041423\" xlink:href=\"#me87e145653\" y=\"225.888676\"/>\r\n     <use style=\"fill:#1f77b4;stroke:#1f77b4;\" x=\"155.130501\" xlink:href=\"#me87e145653\" y=\"205.495708\"/>\r\n     <use style=\"fill:#1f77b4;stroke:#1f77b4;\" x=\"67.294016\" xlink:href=\"#me87e145653\" y=\"226.14637\"/>\r\n     <use style=\"fill:#1f77b4;stroke:#1f77b4;\" x=\"116.319031\" xlink:href=\"#me87e145653\" y=\"218.053543\"/>\r\n     <use style=\"fill:#1f77b4;stroke:#1f77b4;\" x=\"257.26595\" xlink:href=\"#me87e145653\" y=\"134.706114\"/>\r\n     <use style=\"fill:#1f77b4;stroke:#1f77b4;\" x=\"195.78041\" xlink:href=\"#me87e145653\" y=\"124.751032\"/>\r\n     <use style=\"fill:#1f77b4;stroke:#1f77b4;\" x=\"69.336725\" xlink:href=\"#me87e145653\" y=\"230.921347\"/>\r\n     <use style=\"fill:#1f77b4;stroke:#1f77b4;\" x=\"114.276322\" xlink:href=\"#me87e145653\" y=\"218.362556\"/>\r\n     <use style=\"fill:#1f77b4;stroke:#1f77b4;\" x=\"226.421044\" xlink:href=\"#me87e145653\" y=\"148.324714\"/>\r\n     <use style=\"fill:#1f77b4;stroke:#1f77b4;\" x=\"116.319031\" xlink:href=\"#me87e145653\" y=\"234.68216\"/>\r\n     <use style=\"fill:#1f77b4;stroke:#1f77b4;\" x=\"104.062777\" xlink:href=\"#me87e145653\" y=\"240.800177\"/>\r\n     <use style=\"fill:#1f77b4;stroke:#1f77b4;\" x=\"174.536237\" xlink:href=\"#me87e145653\" y=\"158.52985\"/>\r\n     <use style=\"fill:#1f77b4;stroke:#1f77b4;\" x=\"83.635688\" xlink:href=\"#me87e145653\" y=\"225.296543\"/>\r\n     <use style=\"fill:#1f77b4;stroke:#1f77b4;\" x=\"144.712686\" xlink:href=\"#me87e145653\" y=\"152.113736\"/>\r\n     <use style=\"fill:#1f77b4;stroke:#1f77b4;\" x=\"155.334772\" xlink:href=\"#me87e145653\" y=\"206.220341\"/>\r\n     <use style=\"fill:#1f77b4;stroke:#1f77b4;\" x=\"84.657042\" xlink:href=\"#me87e145653\" y=\"211.076968\"/>\r\n     <use style=\"fill:#1f77b4;stroke:#1f77b4;\" x=\"155.130501\" xlink:href=\"#me87e145653\" y=\"179.281964\"/>\r\n     <use style=\"fill:#1f77b4;stroke:#1f77b4;\" x=\"190.367231\" xlink:href=\"#me87e145653\" y=\"201.789776\"/>\r\n     <use style=\"fill:#1f77b4;stroke:#1f77b4;\" x=\"175.557591\" xlink:href=\"#me87e145653\" y=\"143.320545\"/>\r\n     <use style=\"fill:#1f77b4;stroke:#1f77b4;\" x=\"245.009696\" xlink:href=\"#me87e145653\" y=\"107.108981\"/>\r\n     <use style=\"fill:#1f77b4;stroke:#1f77b4;\" x=\"308.333674\" xlink:href=\"#me87e145653\" y=\"64.227947\"/>\r\n     <use style=\"fill:#1f77b4;stroke:#1f77b4;\" x=\"146.959666\" xlink:href=\"#me87e145653\" y=\"168.481523\"/>\r\n     <use style=\"fill:#1f77b4;stroke:#1f77b4;\" x=\"222.539897\" xlink:href=\"#me87e145653\" y=\"110.003996\"/>\r\n     <use style=\"fill:#1f77b4;stroke:#1f77b4;\" x=\"77.507561\" xlink:href=\"#me87e145653\" y=\"224.222694\"/>\r\n     <use style=\"fill:#1f77b4;stroke:#1f77b4;\" x=\"99.977359\" xlink:href=\"#me87e145653\" y=\"229.600214\"/>\r\n     <use style=\"fill:#1f77b4;stroke:#1f77b4;\" x=\"97.93465\" xlink:href=\"#me87e145653\" y=\"229.581844\"/>\r\n     <use style=\"fill:#1f77b4;stroke:#1f77b4;\" x=\"160.237274\" xlink:href=\"#me87e145653\" y=\"167.188974\"/>\r\n     <use style=\"fill:#1f77b4;stroke:#1f77b4;\" x=\"89.763814\" xlink:href=\"#me87e145653\" y=\"223.098046\"/>\r\n     <use style=\"fill:#1f77b4;stroke:#1f77b4;\" x=\"106.105486\" xlink:href=\"#me87e145653\" y=\"211.244406\"/>\r\n     <use style=\"fill:#1f77b4;stroke:#1f77b4;\" x=\"228.668024\" xlink:href=\"#me87e145653\" y=\"155.749588\"/>\r\n     <use style=\"fill:#1f77b4;stroke:#1f77b4;\" x=\"154.926231\" xlink:href=\"#me87e145653\" y=\"189.806835\"/>\r\n     <use style=\"fill:#1f77b4;stroke:#1f77b4;\" x=\"99.977359\" xlink:href=\"#me87e145653\" y=\"231.467354\"/>\r\n     <use style=\"fill:#1f77b4;stroke:#1f77b4;\" x=\"97.93465\" xlink:href=\"#me87e145653\" y=\"198.714477\"/>\r\n     <use style=\"fill:#1f77b4;stroke:#1f77b4;\" x=\"114.072051\" xlink:href=\"#me87e145653\" y=\"222.661082\"/>\r\n     <use style=\"fill:#1f77b4;stroke:#1f77b4;\" x=\"65.251307\" xlink:href=\"#me87e145653\" y=\"216.733549\"/>\r\n     <use style=\"fill:#1f77b4;stroke:#1f77b4;\" x=\"124.489867\" xlink:href=\"#me87e145653\" y=\"187.991064\"/>\r\n     <use style=\"fill:#1f77b4;stroke:#1f77b4;\" x=\"143.895602\" xlink:href=\"#me87e145653\" y=\"190.391863\"/>\r\n     <use style=\"fill:#1f77b4;stroke:#1f77b4;\" x=\"111.212259\" xlink:href=\"#me87e145653\" y=\"225.1073\"/>\r\n     <use style=\"fill:#1f77b4;stroke:#1f77b4;\" x=\"200.070099\" xlink:href=\"#me87e145653\" y=\"188.694785\"/>\r\n     <use style=\"fill:#1f77b4;stroke:#1f77b4;\" x=\"114.276322\" xlink:href=\"#me87e145653\" y=\"215.262913\"/>\r\n     <use style=\"fill:#1f77b4;stroke:#1f77b4;\" x=\"171.472173\" xlink:href=\"#me87e145653\" y=\"151.919185\"/>\r\n     <use style=\"fill:#1f77b4;stroke:#1f77b4;\" x=\"138.78883\" xlink:href=\"#me87e145653\" y=\"239.376956\"/>\r\n     <use style=\"fill:#1f77b4;stroke:#1f77b4;\" x=\"131.741484\" xlink:href=\"#me87e145653\" y=\"188.809819\"/>\r\n     <use style=\"fill:#1f77b4;stroke:#1f77b4;\" x=\"218.454479\" xlink:href=\"#me87e145653\" y=\"148.063286\"/>\r\n     <use style=\"fill:#1f77b4;stroke:#1f77b4;\" x=\"170.450819\" xlink:href=\"#me87e145653\" y=\"160.365129\"/>\r\n     <use style=\"fill:#1f77b4;stroke:#1f77b4;\" x=\"210.283644\" xlink:href=\"#me87e145653\" y=\"110.986158\"/>\r\n     <use style=\"fill:#1f77b4;stroke:#1f77b4;\" x=\"104.062777\" xlink:href=\"#me87e145653\" y=\"207.749581\"/>\r\n     <use style=\"fill:#1f77b4;stroke:#1f77b4;\" x=\"130.617994\" xlink:href=\"#me87e145653\" y=\"182.090407\"/>\r\n     <use style=\"fill:#1f77b4;stroke:#1f77b4;\" x=\"110.190904\" xlink:href=\"#me87e145653\" y=\"232.70735\"/>\r\n     <use style=\"fill:#1f77b4;stroke:#1f77b4;\" x=\"125.511221\" xlink:href=\"#me87e145653\" y=\"204.092223\"/>\r\n     <use style=\"fill:#1f77b4;stroke:#1f77b4;\" x=\"118.36174\" xlink:href=\"#me87e145653\" y=\"199.857305\"/>\r\n     <use style=\"fill:#1f77b4;stroke:#1f77b4;\" x=\"264.415431\" xlink:href=\"#me87e145653\" y=\"165.042512\"/>\r\n     <use style=\"fill:#1f77b4;stroke:#1f77b4;\" x=\"240.924278\" xlink:href=\"#me87e145653\" y=\"116.30196\"/>\r\n     <use style=\"fill:#1f77b4;stroke:#1f77b4;\" x=\"199.457286\" xlink:href=\"#me87e145653\" y=\"167.871393\"/>\r\n     <use style=\"fill:#1f77b4;stroke:#1f77b4;\" x=\"185.771136\" xlink:href=\"#me87e145653\" y=\"173.070666\"/>\r\n     <use style=\"fill:#1f77b4;stroke:#1f77b4;\" x=\"99.977359\" xlink:href=\"#me87e145653\" y=\"197.455902\"/>\r\n     <use style=\"fill:#1f77b4;stroke:#1f77b4;\" x=\"124.489867\" xlink:href=\"#me87e145653\" y=\"223.935235\"/>\r\n     <use style=\"fill:#1f77b4;stroke:#1f77b4;\" x=\"369.614943\" xlink:href=\"#me87e145653\" y=\"45.883636\"/>\r\n     <use style=\"fill:#1f77b4;stroke:#1f77b4;\" x=\"142.874248\" xlink:href=\"#me87e145653\" y=\"199.377691\"/>\r\n     <use style=\"fill:#1f77b4;stroke:#1f77b4;\" x=\"161.258628\" xlink:href=\"#me87e145653\" y=\"180.707747\"/>\r\n     <use style=\"fill:#1f77b4;stroke:#1f77b4;\" x=\"138.176017\" xlink:href=\"#me87e145653\" y=\"222.919446\"/>\r\n     <use style=\"fill:#1f77b4;stroke:#1f77b4;\" x=\"134.703412\" xlink:href=\"#me87e145653\" y=\"179.966451\"/>\r\n     <use style=\"fill:#1f77b4;stroke:#1f77b4;\" x=\"236.83886\" xlink:href=\"#me87e145653\" y=\"142.886188\"/>\r\n     <use style=\"fill:#1f77b4;stroke:#1f77b4;\" x=\"114.276322\" xlink:href=\"#me87e145653\" y=\"212.248102\"/>\r\n     <use style=\"fill:#1f77b4;stroke:#1f77b4;\" x=\"114.276322\" xlink:href=\"#me87e145653\" y=\"210.355408\"/>\r\n     <use style=\"fill:#1f77b4;stroke:#1f77b4;\" x=\"181.685718\" xlink:href=\"#me87e145653\" y=\"180.022463\"/>\r\n     <use style=\"fill:#1f77b4;stroke:#1f77b4;\" x=\"179.643009\" xlink:href=\"#me87e145653\" y=\"146.778666\"/>\r\n     <use style=\"fill:#1f77b4;stroke:#1f77b4;\" x=\"172.493528\" xlink:href=\"#me87e145653\" y=\"190.130983\"/>\r\n     <use style=\"fill:#1f77b4;stroke:#1f77b4;\" x=\"102.020068\" xlink:href=\"#me87e145653\" y=\"198.70661\"/>\r\n     <use style=\"fill:#1f77b4;stroke:#1f77b4;\" x=\"104.062777\" xlink:href=\"#me87e145653\" y=\"216.379165\"/>\r\n     <use style=\"fill:#1f77b4;stroke:#1f77b4;\" x=\"264.415431\" xlink:href=\"#me87e145653\" y=\"146.994677\"/>\r\n     <use style=\"fill:#1f77b4;stroke:#1f77b4;\" x=\"138.78883\" xlink:href=\"#me87e145653\" y=\"142.327852\"/>\r\n     <use style=\"fill:#1f77b4;stroke:#1f77b4;\" x=\"267.479495\" xlink:href=\"#me87e145653\" y=\"174.886033\"/>\r\n     <use style=\"fill:#1f77b4;stroke:#1f77b4;\" x=\"114.276322\" xlink:href=\"#me87e145653\" y=\"212.605278\"/>\r\n     <use style=\"fill:#1f77b4;stroke:#1f77b4;\" x=\"102.020068\" xlink:href=\"#me87e145653\" y=\"237.953734\"/>\r\n     <use style=\"fill:#1f77b4;stroke:#1f77b4;\" x=\"167.386755\" xlink:href=\"#me87e145653\" y=\"153.42277\"/>\r\n     <use style=\"fill:#1f77b4;stroke:#1f77b4;\" x=\"111.212259\" xlink:href=\"#me87e145653\" y=\"214.221982\"/>\r\n     <use style=\"fill:#1f77b4;stroke:#1f77b4;\" x=\"193.941972\" xlink:href=\"#me87e145653\" y=\"144.328181\"/>\r\n     <use style=\"fill:#1f77b4;stroke:#1f77b4;\" x=\"308.333674\" xlink:href=\"#me87e145653\" y=\"89.742384\"/>\r\n     <use style=\"fill:#1f77b4;stroke:#1f77b4;\" x=\"126.532576\" xlink:href=\"#me87e145653\" y=\"218.890732\"/>\r\n     <use style=\"fill:#1f77b4;stroke:#1f77b4;\" x=\"109.16955\" xlink:href=\"#me87e145653\" y=\"208.983995\"/>\r\n     <use style=\"fill:#1f77b4;stroke:#1f77b4;\" x=\"271.564913\" xlink:href=\"#me87e145653\" y=\"140.798547\"/>\r\n     <use style=\"fill:#1f77b4;stroke:#1f77b4;\" x=\"97.93465\" xlink:href=\"#me87e145653\" y=\"224.613592\"/>\r\n     <use style=\"fill:#1f77b4;stroke:#1f77b4;\" x=\"89.559544\" xlink:href=\"#me87e145653\" y=\"194.276045\"/>\r\n     <use style=\"fill:#1f77b4;stroke:#1f77b4;\" x=\"146.959666\" xlink:href=\"#me87e145653\" y=\"191.683865\"/>\r\n     <use style=\"fill:#1f77b4;stroke:#1f77b4;\" x=\"104.062777\" xlink:href=\"#me87e145653\" y=\"173.457414\"/>\r\n     <use style=\"fill:#1f77b4;stroke:#1f77b4;\" x=\"89.763814\" xlink:href=\"#me87e145653\" y=\"220.027423\"/>\r\n     <use style=\"fill:#1f77b4;stroke:#1f77b4;\" x=\"156.151856\" xlink:href=\"#me87e145653\" y=\"183.403751\"/>\r\n     <use style=\"fill:#1f77b4;stroke:#1f77b4;\" x=\"114.276322\" xlink:href=\"#me87e145653\" y=\"202.361518\"/>\r\n     <use style=\"fill:#1f77b4;stroke:#1f77b4;\" x=\"118.36174\" xlink:href=\"#me87e145653\" y=\"151.936161\"/>\r\n     <use style=\"fill:#1f77b4;stroke:#1f77b4;\" x=\"165.344046\" xlink:href=\"#me87e145653\" y=\"130.809422\"/>\r\n     <use style=\"fill:#1f77b4;stroke:#1f77b4;\" x=\"226.625315\" xlink:href=\"#me87e145653\" y=\"177.140647\"/>\r\n     <use style=\"fill:#1f77b4;stroke:#1f77b4;\" x=\"83.635688\" xlink:href=\"#me87e145653\" y=\"208.621214\"/>\r\n     <use style=\"fill:#1f77b4;stroke:#1f77b4;\" x=\"149.002375\" xlink:href=\"#me87e145653\" y=\"137.524608\"/>\r\n     <use style=\"fill:#1f77b4;stroke:#1f77b4;\" x=\"112.233613\" xlink:href=\"#me87e145653\" y=\"223.935235\"/>\r\n     <use style=\"fill:#1f77b4;stroke:#1f77b4;\" x=\"151.249354\" xlink:href=\"#me87e145653\" y=\"188.808745\"/>\r\n     <use style=\"fill:#1f77b4;stroke:#1f77b4;\" x=\"218.454479\" xlink:href=\"#me87e145653\" y=\"170.855192\"/>\r\n     <use style=\"fill:#1f77b4;stroke:#1f77b4;\" x=\"124.489867\" xlink:href=\"#me87e145653\" y=\"206.900969\"/>\r\n     <use style=\"fill:#1f77b4;stroke:#1f77b4;\" x=\"118.157469\" xlink:href=\"#me87e145653\" y=\"196.343989\"/>\r\n     <use style=\"fill:#1f77b4;stroke:#1f77b4;\" x=\"122.242887\" xlink:href=\"#me87e145653\" y=\"187.431934\"/>\r\n     <use style=\"fill:#1f77b4;stroke:#1f77b4;\" x=\"102.020068\" xlink:href=\"#me87e145653\" y=\"179.854284\"/>\r\n     <use style=\"fill:#1f77b4;stroke:#1f77b4;\" x=\"112.233613\" xlink:href=\"#me87e145653\" y=\"179.525892\"/>\r\n     <use style=\"fill:#1f77b4;stroke:#1f77b4;\" x=\"159.215919\" xlink:href=\"#me87e145653\" y=\"165.469903\"/>\r\n     <use style=\"fill:#1f77b4;stroke:#1f77b4;\" x=\"132.660703\" xlink:href=\"#me87e145653\" y=\"212.019245\"/>\r\n     <use style=\"fill:#1f77b4;stroke:#1f77b4;\" x=\"231.732088\" xlink:href=\"#me87e145653\" y=\"129.82564\"/>\r\n     <use style=\"fill:#1f77b4;stroke:#1f77b4;\" x=\"228.668024\" xlink:href=\"#me87e145653\" y=\"123.334747\"/>\r\n    </g>\r\n   </g>\r\n   <g id=\"matplotlib.axis_1\">\r\n    <g id=\"xtick_1\">\r\n     <g id=\"line2d_1\">\r\n      <defs>\r\n       <path d=\"M 0 0 \r\nL 0 3.5 \r\n\" id=\"m14953259ed\" style=\"stroke:#000000;stroke-width:0.8;\"/>\r\n      </defs>\r\n      <g>\r\n       <use style=\"stroke:#000000;stroke-width:0.8;\" x=\"63.208598\" xlink:href=\"#m14953259ed\" y=\"253.44\"/>\r\n      </g>\r\n     </g>\r\n     <g id=\"text_1\">\r\n      <!-- 0.0 -->\r\n      <defs>\r\n       <path d=\"M 31.78125 66.40625 \r\nQ 24.171875 66.40625 20.328125 58.90625 \r\nQ 16.5 51.421875 16.5 36.375 \r\nQ 16.5 21.390625 20.328125 13.890625 \r\nQ 24.171875 6.390625 31.78125 6.390625 \r\nQ 39.453125 6.390625 43.28125 13.890625 \r\nQ 47.125 21.390625 47.125 36.375 \r\nQ 47.125 51.421875 43.28125 58.90625 \r\nQ 39.453125 66.40625 31.78125 66.40625 \r\nz\r\nM 31.78125 74.21875 \r\nQ 44.046875 74.21875 50.515625 64.515625 \r\nQ 56.984375 54.828125 56.984375 36.375 \r\nQ 56.984375 17.96875 50.515625 8.265625 \r\nQ 44.046875 -1.421875 31.78125 -1.421875 \r\nQ 19.53125 -1.421875 13.0625 8.265625 \r\nQ 6.59375 17.96875 6.59375 36.375 \r\nQ 6.59375 54.828125 13.0625 64.515625 \r\nQ 19.53125 74.21875 31.78125 74.21875 \r\nz\r\n\" id=\"DejaVuSans-48\"/>\r\n       <path d=\"M 10.6875 12.40625 \r\nL 21 12.40625 \r\nL 21 0 \r\nL 10.6875 0 \r\nz\r\n\" id=\"DejaVuSans-46\"/>\r\n      </defs>\r\n      <g transform=\"translate(55.257035 268.038437)scale(0.1 -0.1)\">\r\n       <use xlink:href=\"#DejaVuSans-48\"/>\r\n       <use x=\"63.623047\" xlink:href=\"#DejaVuSans-46\"/>\r\n       <use x=\"95.410156\" xlink:href=\"#DejaVuSans-48\"/>\r\n      </g>\r\n     </g>\r\n    </g>\r\n    <g id=\"xtick_2\">\r\n     <g id=\"line2d_2\">\r\n      <g>\r\n       <use style=\"stroke:#000000;stroke-width:0.8;\" x=\"130.617994\" xlink:href=\"#m14953259ed\" y=\"253.44\"/>\r\n      </g>\r\n     </g>\r\n     <g id=\"text_2\">\r\n      <!-- 0.2 -->\r\n      <defs>\r\n       <path d=\"M 19.1875 8.296875 \r\nL 53.609375 8.296875 \r\nL 53.609375 0 \r\nL 7.328125 0 \r\nL 7.328125 8.296875 \r\nQ 12.9375 14.109375 22.625 23.890625 \r\nQ 32.328125 33.6875 34.8125 36.53125 \r\nQ 39.546875 41.84375 41.421875 45.53125 \r\nQ 43.3125 49.21875 43.3125 52.78125 \r\nQ 43.3125 58.59375 39.234375 62.25 \r\nQ 35.15625 65.921875 28.609375 65.921875 \r\nQ 23.96875 65.921875 18.8125 64.3125 \r\nQ 13.671875 62.703125 7.8125 59.421875 \r\nL 7.8125 69.390625 \r\nQ 13.765625 71.78125 18.9375 73 \r\nQ 24.125 74.21875 28.421875 74.21875 \r\nQ 39.75 74.21875 46.484375 68.546875 \r\nQ 53.21875 62.890625 53.21875 53.421875 \r\nQ 53.21875 48.921875 51.53125 44.890625 \r\nQ 49.859375 40.875 45.40625 35.40625 \r\nQ 44.1875 33.984375 37.640625 27.21875 \r\nQ 31.109375 20.453125 19.1875 8.296875 \r\nz\r\n\" id=\"DejaVuSans-50\"/>\r\n      </defs>\r\n      <g transform=\"translate(122.666431 268.038437)scale(0.1 -0.1)\">\r\n       <use xlink:href=\"#DejaVuSans-48\"/>\r\n       <use x=\"63.623047\" xlink:href=\"#DejaVuSans-46\"/>\r\n       <use x=\"95.410156\" xlink:href=\"#DejaVuSans-50\"/>\r\n      </g>\r\n     </g>\r\n    </g>\r\n    <g id=\"xtick_3\">\r\n     <g id=\"line2d_3\">\r\n      <g>\r\n       <use style=\"stroke:#000000;stroke-width:0.8;\" x=\"198.02739\" xlink:href=\"#m14953259ed\" y=\"253.44\"/>\r\n      </g>\r\n     </g>\r\n     <g id=\"text_3\">\r\n      <!-- 0.4 -->\r\n      <defs>\r\n       <path d=\"M 37.796875 64.3125 \r\nL 12.890625 25.390625 \r\nL 37.796875 25.390625 \r\nz\r\nM 35.203125 72.90625 \r\nL 47.609375 72.90625 \r\nL 47.609375 25.390625 \r\nL 58.015625 25.390625 \r\nL 58.015625 17.1875 \r\nL 47.609375 17.1875 \r\nL 47.609375 0 \r\nL 37.796875 0 \r\nL 37.796875 17.1875 \r\nL 4.890625 17.1875 \r\nL 4.890625 26.703125 \r\nz\r\n\" id=\"DejaVuSans-52\"/>\r\n      </defs>\r\n      <g transform=\"translate(190.075827 268.038437)scale(0.1 -0.1)\">\r\n       <use xlink:href=\"#DejaVuSans-48\"/>\r\n       <use x=\"63.623047\" xlink:href=\"#DejaVuSans-46\"/>\r\n       <use x=\"95.410156\" xlink:href=\"#DejaVuSans-52\"/>\r\n      </g>\r\n     </g>\r\n    </g>\r\n    <g id=\"xtick_4\">\r\n     <g id=\"line2d_4\">\r\n      <g>\r\n       <use style=\"stroke:#000000;stroke-width:0.8;\" x=\"265.436786\" xlink:href=\"#m14953259ed\" y=\"253.44\"/>\r\n      </g>\r\n     </g>\r\n     <g id=\"text_4\">\r\n      <!-- 0.6 -->\r\n      <defs>\r\n       <path d=\"M 33.015625 40.375 \r\nQ 26.375 40.375 22.484375 35.828125 \r\nQ 18.609375 31.296875 18.609375 23.390625 \r\nQ 18.609375 15.53125 22.484375 10.953125 \r\nQ 26.375 6.390625 33.015625 6.390625 \r\nQ 39.65625 6.390625 43.53125 10.953125 \r\nQ 47.40625 15.53125 47.40625 23.390625 \r\nQ 47.40625 31.296875 43.53125 35.828125 \r\nQ 39.65625 40.375 33.015625 40.375 \r\nz\r\nM 52.59375 71.296875 \r\nL 52.59375 62.3125 \r\nQ 48.875 64.0625 45.09375 64.984375 \r\nQ 41.3125 65.921875 37.59375 65.921875 \r\nQ 27.828125 65.921875 22.671875 59.328125 \r\nQ 17.53125 52.734375 16.796875 39.40625 \r\nQ 19.671875 43.65625 24.015625 45.921875 \r\nQ 28.375 48.1875 33.59375 48.1875 \r\nQ 44.578125 48.1875 50.953125 41.515625 \r\nQ 57.328125 34.859375 57.328125 23.390625 \r\nQ 57.328125 12.15625 50.6875 5.359375 \r\nQ 44.046875 -1.421875 33.015625 -1.421875 \r\nQ 20.359375 -1.421875 13.671875 8.265625 \r\nQ 6.984375 17.96875 6.984375 36.375 \r\nQ 6.984375 53.65625 15.1875 63.9375 \r\nQ 23.390625 74.21875 37.203125 74.21875 \r\nQ 40.921875 74.21875 44.703125 73.484375 \r\nQ 48.484375 72.75 52.59375 71.296875 \r\nz\r\n\" id=\"DejaVuSans-54\"/>\r\n      </defs>\r\n      <g transform=\"translate(257.485223 268.038437)scale(0.1 -0.1)\">\r\n       <use xlink:href=\"#DejaVuSans-48\"/>\r\n       <use x=\"63.623047\" xlink:href=\"#DejaVuSans-46\"/>\r\n       <use x=\"95.410156\" xlink:href=\"#DejaVuSans-54\"/>\r\n      </g>\r\n     </g>\r\n    </g>\r\n    <g id=\"xtick_5\">\r\n     <g id=\"line2d_5\">\r\n      <g>\r\n       <use style=\"stroke:#000000;stroke-width:0.8;\" x=\"332.846182\" xlink:href=\"#m14953259ed\" y=\"253.44\"/>\r\n      </g>\r\n     </g>\r\n     <g id=\"text_5\">\r\n      <!-- 0.8 -->\r\n      <defs>\r\n       <path d=\"M 31.78125 34.625 \r\nQ 24.75 34.625 20.71875 30.859375 \r\nQ 16.703125 27.09375 16.703125 20.515625 \r\nQ 16.703125 13.921875 20.71875 10.15625 \r\nQ 24.75 6.390625 31.78125 6.390625 \r\nQ 38.8125 6.390625 42.859375 10.171875 \r\nQ 46.921875 13.96875 46.921875 20.515625 \r\nQ 46.921875 27.09375 42.890625 30.859375 \r\nQ 38.875 34.625 31.78125 34.625 \r\nz\r\nM 21.921875 38.8125 \r\nQ 15.578125 40.375 12.03125 44.71875 \r\nQ 8.5 49.078125 8.5 55.328125 \r\nQ 8.5 64.0625 14.71875 69.140625 \r\nQ 20.953125 74.21875 31.78125 74.21875 \r\nQ 42.671875 74.21875 48.875 69.140625 \r\nQ 55.078125 64.0625 55.078125 55.328125 \r\nQ 55.078125 49.078125 51.53125 44.71875 \r\nQ 48 40.375 41.703125 38.8125 \r\nQ 48.828125 37.15625 52.796875 32.3125 \r\nQ 56.78125 27.484375 56.78125 20.515625 \r\nQ 56.78125 9.90625 50.3125 4.234375 \r\nQ 43.84375 -1.421875 31.78125 -1.421875 \r\nQ 19.734375 -1.421875 13.25 4.234375 \r\nQ 6.78125 9.90625 6.78125 20.515625 \r\nQ 6.78125 27.484375 10.78125 32.3125 \r\nQ 14.796875 37.15625 21.921875 38.8125 \r\nz\r\nM 18.3125 54.390625 \r\nQ 18.3125 48.734375 21.84375 45.5625 \r\nQ 25.390625 42.390625 31.78125 42.390625 \r\nQ 38.140625 42.390625 41.71875 45.5625 \r\nQ 45.3125 48.734375 45.3125 54.390625 \r\nQ 45.3125 60.0625 41.71875 63.234375 \r\nQ 38.140625 66.40625 31.78125 66.40625 \r\nQ 25.390625 66.40625 21.84375 63.234375 \r\nQ 18.3125 60.0625 18.3125 54.390625 \r\nz\r\n\" id=\"DejaVuSans-56\"/>\r\n      </defs>\r\n      <g transform=\"translate(324.894619 268.038437)scale(0.1 -0.1)\">\r\n       <use xlink:href=\"#DejaVuSans-48\"/>\r\n       <use x=\"63.623047\" xlink:href=\"#DejaVuSans-46\"/>\r\n       <use x=\"95.410156\" xlink:href=\"#DejaVuSans-56\"/>\r\n      </g>\r\n     </g>\r\n    </g>\r\n    <g id=\"text_6\">\r\n     <!-- y_test -->\r\n     <defs>\r\n      <path d=\"M 32.171875 -5.078125 \r\nQ 28.375 -14.84375 24.75 -17.8125 \r\nQ 21.140625 -20.796875 15.09375 -20.796875 \r\nL 7.90625 -20.796875 \r\nL 7.90625 -13.28125 \r\nL 13.1875 -13.28125 \r\nQ 16.890625 -13.28125 18.9375 -11.515625 \r\nQ 21 -9.765625 23.484375 -3.21875 \r\nL 25.09375 0.875 \r\nL 2.984375 54.6875 \r\nL 12.5 54.6875 \r\nL 29.59375 11.921875 \r\nL 46.6875 54.6875 \r\nL 56.203125 54.6875 \r\nz\r\n\" id=\"DejaVuSans-121\"/>\r\n      <path d=\"M 50.984375 -16.609375 \r\nL 50.984375 -23.578125 \r\nL -0.984375 -23.578125 \r\nL -0.984375 -16.609375 \r\nz\r\n\" id=\"DejaVuSans-95\"/>\r\n      <path d=\"M 18.3125 70.21875 \r\nL 18.3125 54.6875 \r\nL 36.8125 54.6875 \r\nL 36.8125 47.703125 \r\nL 18.3125 47.703125 \r\nL 18.3125 18.015625 \r\nQ 18.3125 11.328125 20.140625 9.421875 \r\nQ 21.96875 7.515625 27.59375 7.515625 \r\nL 36.8125 7.515625 \r\nL 36.8125 0 \r\nL 27.59375 0 \r\nQ 17.1875 0 13.234375 3.875 \r\nQ 9.28125 7.765625 9.28125 18.015625 \r\nL 9.28125 47.703125 \r\nL 2.6875 47.703125 \r\nL 2.6875 54.6875 \r\nL 9.28125 54.6875 \r\nL 9.28125 70.21875 \r\nz\r\n\" id=\"DejaVuSans-116\"/>\r\n      <path d=\"M 56.203125 29.59375 \r\nL 56.203125 25.203125 \r\nL 14.890625 25.203125 \r\nQ 15.484375 15.921875 20.484375 11.0625 \r\nQ 25.484375 6.203125 34.421875 6.203125 \r\nQ 39.59375 6.203125 44.453125 7.46875 \r\nQ 49.3125 8.734375 54.109375 11.28125 \r\nL 54.109375 2.78125 \r\nQ 49.265625 0.734375 44.1875 -0.34375 \r\nQ 39.109375 -1.421875 33.890625 -1.421875 \r\nQ 20.796875 -1.421875 13.15625 6.1875 \r\nQ 5.515625 13.8125 5.515625 26.8125 \r\nQ 5.515625 40.234375 12.765625 48.109375 \r\nQ 20.015625 56 32.328125 56 \r\nQ 43.359375 56 49.78125 48.890625 \r\nQ 56.203125 41.796875 56.203125 29.59375 \r\nz\r\nM 47.21875 32.234375 \r\nQ 47.125 39.59375 43.09375 43.984375 \r\nQ 39.0625 48.390625 32.421875 48.390625 \r\nQ 24.90625 48.390625 20.390625 44.140625 \r\nQ 15.875 39.890625 15.1875 32.171875 \r\nz\r\n\" id=\"DejaVuSans-101\"/>\r\n      <path d=\"M 44.28125 53.078125 \r\nL 44.28125 44.578125 \r\nQ 40.484375 46.53125 36.375 47.5 \r\nQ 32.28125 48.484375 27.875 48.484375 \r\nQ 21.1875 48.484375 17.84375 46.4375 \r\nQ 14.5 44.390625 14.5 40.28125 \r\nQ 14.5 37.15625 16.890625 35.375 \r\nQ 19.28125 33.59375 26.515625 31.984375 \r\nL 29.59375 31.296875 \r\nQ 39.15625 29.25 43.1875 25.515625 \r\nQ 47.21875 21.78125 47.21875 15.09375 \r\nQ 47.21875 7.46875 41.1875 3.015625 \r\nQ 35.15625 -1.421875 24.609375 -1.421875 \r\nQ 20.21875 -1.421875 15.453125 -0.5625 \r\nQ 10.6875 0.296875 5.421875 2 \r\nL 5.421875 11.28125 \r\nQ 10.40625 8.6875 15.234375 7.390625 \r\nQ 20.0625 6.109375 24.8125 6.109375 \r\nQ 31.15625 6.109375 34.5625 8.28125 \r\nQ 37.984375 10.453125 37.984375 14.40625 \r\nQ 37.984375 18.0625 35.515625 20.015625 \r\nQ 33.0625 21.96875 24.703125 23.78125 \r\nL 21.578125 24.515625 \r\nQ 13.234375 26.265625 9.515625 29.90625 \r\nQ 5.8125 33.546875 5.8125 39.890625 \r\nQ 5.8125 47.609375 11.28125 51.796875 \r\nQ 16.75 56 26.8125 56 \r\nQ 31.78125 56 36.171875 55.265625 \r\nQ 40.578125 54.546875 44.28125 53.078125 \r\nz\r\n\" id=\"DejaVuSans-115\"/>\r\n     </defs>\r\n     <g transform=\"translate(190.323438 287.294688)scale(0.18 -0.18)\">\r\n      <use xlink:href=\"#DejaVuSans-121\"/>\r\n      <use x=\"59.179688\" xlink:href=\"#DejaVuSans-95\"/>\r\n      <use x=\"109.179688\" xlink:href=\"#DejaVuSans-116\"/>\r\n      <use x=\"148.388672\" xlink:href=\"#DejaVuSans-101\"/>\r\n      <use x=\"209.912109\" xlink:href=\"#DejaVuSans-115\"/>\r\n      <use x=\"262.011719\" xlink:href=\"#DejaVuSans-116\"/>\r\n     </g>\r\n    </g>\r\n   </g>\r\n   <g id=\"matplotlib.axis_2\">\r\n    <g id=\"ytick_1\">\r\n     <g id=\"line2d_6\">\r\n      <defs>\r\n       <path d=\"M 0 0 \r\nL -3.5 0 \r\n\" id=\"madf50e8dd6\" style=\"stroke:#000000;stroke-width:0.8;\"/>\r\n      </defs>\r\n      <g>\r\n       <use style=\"stroke:#000000;stroke-width:0.8;\" x=\"50.033125\" xlink:href=\"#madf50e8dd6\" y=\"229.244603\"/>\r\n      </g>\r\n     </g>\r\n     <g id=\"text_7\">\r\n      <!-- 0.1 -->\r\n      <defs>\r\n       <path d=\"M 12.40625 8.296875 \r\nL 28.515625 8.296875 \r\nL 28.515625 63.921875 \r\nL 10.984375 60.40625 \r\nL 10.984375 69.390625 \r\nL 28.421875 72.90625 \r\nL 38.28125 72.90625 \r\nL 38.28125 8.296875 \r\nL 54.390625 8.296875 \r\nL 54.390625 0 \r\nL 12.40625 0 \r\nz\r\n\" id=\"DejaVuSans-49\"/>\r\n      </defs>\r\n      <g transform=\"translate(27.13 233.043822)scale(0.1 -0.1)\">\r\n       <use xlink:href=\"#DejaVuSans-48\"/>\r\n       <use x=\"63.623047\" xlink:href=\"#DejaVuSans-46\"/>\r\n       <use x=\"95.410156\" xlink:href=\"#DejaVuSans-49\"/>\r\n      </g>\r\n     </g>\r\n    </g>\r\n    <g id=\"ytick_2\">\r\n     <g id=\"line2d_7\">\r\n      <g>\r\n       <use style=\"stroke:#000000;stroke-width:0.8;\" x=\"50.033125\" xlink:href=\"#madf50e8dd6\" y=\"202.447483\"/>\r\n      </g>\r\n     </g>\r\n     <g id=\"text_8\">\r\n      <!-- 0.2 -->\r\n      <g transform=\"translate(27.13 206.246702)scale(0.1 -0.1)\">\r\n       <use xlink:href=\"#DejaVuSans-48\"/>\r\n       <use x=\"63.623047\" xlink:href=\"#DejaVuSans-46\"/>\r\n       <use x=\"95.410156\" xlink:href=\"#DejaVuSans-50\"/>\r\n      </g>\r\n     </g>\r\n    </g>\r\n    <g id=\"ytick_3\">\r\n     <g id=\"line2d_8\">\r\n      <g>\r\n       <use style=\"stroke:#000000;stroke-width:0.8;\" x=\"50.033125\" xlink:href=\"#madf50e8dd6\" y=\"175.650363\"/>\r\n      </g>\r\n     </g>\r\n     <g id=\"text_9\">\r\n      <!-- 0.3 -->\r\n      <defs>\r\n       <path d=\"M 40.578125 39.3125 \r\nQ 47.65625 37.796875 51.625 33 \r\nQ 55.609375 28.21875 55.609375 21.1875 \r\nQ 55.609375 10.40625 48.1875 4.484375 \r\nQ 40.765625 -1.421875 27.09375 -1.421875 \r\nQ 22.515625 -1.421875 17.65625 -0.515625 \r\nQ 12.796875 0.390625 7.625 2.203125 \r\nL 7.625 11.71875 \r\nQ 11.71875 9.328125 16.59375 8.109375 \r\nQ 21.484375 6.890625 26.8125 6.890625 \r\nQ 36.078125 6.890625 40.9375 10.546875 \r\nQ 45.796875 14.203125 45.796875 21.1875 \r\nQ 45.796875 27.640625 41.28125 31.265625 \r\nQ 36.765625 34.90625 28.71875 34.90625 \r\nL 20.21875 34.90625 \r\nL 20.21875 43.015625 \r\nL 29.109375 43.015625 \r\nQ 36.375 43.015625 40.234375 45.921875 \r\nQ 44.09375 48.828125 44.09375 54.296875 \r\nQ 44.09375 59.90625 40.109375 62.90625 \r\nQ 36.140625 65.921875 28.71875 65.921875 \r\nQ 24.65625 65.921875 20.015625 65.03125 \r\nQ 15.375 64.15625 9.8125 62.3125 \r\nL 9.8125 71.09375 \r\nQ 15.4375 72.65625 20.34375 73.4375 \r\nQ 25.25 74.21875 29.59375 74.21875 \r\nQ 40.828125 74.21875 47.359375 69.109375 \r\nQ 53.90625 64.015625 53.90625 55.328125 \r\nQ 53.90625 49.265625 50.4375 45.09375 \r\nQ 46.96875 40.921875 40.578125 39.3125 \r\nz\r\n\" id=\"DejaVuSans-51\"/>\r\n      </defs>\r\n      <g transform=\"translate(27.13 179.449582)scale(0.1 -0.1)\">\r\n       <use xlink:href=\"#DejaVuSans-48\"/>\r\n       <use x=\"63.623047\" xlink:href=\"#DejaVuSans-46\"/>\r\n       <use x=\"95.410156\" xlink:href=\"#DejaVuSans-51\"/>\r\n      </g>\r\n     </g>\r\n    </g>\r\n    <g id=\"ytick_4\">\r\n     <g id=\"line2d_9\">\r\n      <g>\r\n       <use style=\"stroke:#000000;stroke-width:0.8;\" x=\"50.033125\" xlink:href=\"#madf50e8dd6\" y=\"148.853243\"/>\r\n      </g>\r\n     </g>\r\n     <g id=\"text_10\">\r\n      <!-- 0.4 -->\r\n      <g transform=\"translate(27.13 152.652462)scale(0.1 -0.1)\">\r\n       <use xlink:href=\"#DejaVuSans-48\"/>\r\n       <use x=\"63.623047\" xlink:href=\"#DejaVuSans-46\"/>\r\n       <use x=\"95.410156\" xlink:href=\"#DejaVuSans-52\"/>\r\n      </g>\r\n     </g>\r\n    </g>\r\n    <g id=\"ytick_5\">\r\n     <g id=\"line2d_10\">\r\n      <g>\r\n       <use style=\"stroke:#000000;stroke-width:0.8;\" x=\"50.033125\" xlink:href=\"#madf50e8dd6\" y=\"122.056123\"/>\r\n      </g>\r\n     </g>\r\n     <g id=\"text_11\">\r\n      <!-- 0.5 -->\r\n      <defs>\r\n       <path d=\"M 10.796875 72.90625 \r\nL 49.515625 72.90625 \r\nL 49.515625 64.59375 \r\nL 19.828125 64.59375 \r\nL 19.828125 46.734375 \r\nQ 21.96875 47.46875 24.109375 47.828125 \r\nQ 26.265625 48.1875 28.421875 48.1875 \r\nQ 40.625 48.1875 47.75 41.5 \r\nQ 54.890625 34.8125 54.890625 23.390625 \r\nQ 54.890625 11.625 47.5625 5.09375 \r\nQ 40.234375 -1.421875 26.90625 -1.421875 \r\nQ 22.3125 -1.421875 17.546875 -0.640625 \r\nQ 12.796875 0.140625 7.71875 1.703125 \r\nL 7.71875 11.625 \r\nQ 12.109375 9.234375 16.796875 8.0625 \r\nQ 21.484375 6.890625 26.703125 6.890625 \r\nQ 35.15625 6.890625 40.078125 11.328125 \r\nQ 45.015625 15.765625 45.015625 23.390625 \r\nQ 45.015625 31 40.078125 35.4375 \r\nQ 35.15625 39.890625 26.703125 39.890625 \r\nQ 22.75 39.890625 18.8125 39.015625 \r\nQ 14.890625 38.140625 10.796875 36.28125 \r\nz\r\n\" id=\"DejaVuSans-53\"/>\r\n      </defs>\r\n      <g transform=\"translate(27.13 125.855342)scale(0.1 -0.1)\">\r\n       <use xlink:href=\"#DejaVuSans-48\"/>\r\n       <use x=\"63.623047\" xlink:href=\"#DejaVuSans-46\"/>\r\n       <use x=\"95.410156\" xlink:href=\"#DejaVuSans-53\"/>\r\n      </g>\r\n     </g>\r\n    </g>\r\n    <g id=\"ytick_6\">\r\n     <g id=\"line2d_11\">\r\n      <g>\r\n       <use style=\"stroke:#000000;stroke-width:0.8;\" x=\"50.033125\" xlink:href=\"#madf50e8dd6\" y=\"95.259004\"/>\r\n      </g>\r\n     </g>\r\n     <g id=\"text_12\">\r\n      <!-- 0.6 -->\r\n      <g transform=\"translate(27.13 99.058222)scale(0.1 -0.1)\">\r\n       <use xlink:href=\"#DejaVuSans-48\"/>\r\n       <use x=\"63.623047\" xlink:href=\"#DejaVuSans-46\"/>\r\n       <use x=\"95.410156\" xlink:href=\"#DejaVuSans-54\"/>\r\n      </g>\r\n     </g>\r\n    </g>\r\n    <g id=\"ytick_7\">\r\n     <g id=\"line2d_12\">\r\n      <g>\r\n       <use style=\"stroke:#000000;stroke-width:0.8;\" x=\"50.033125\" xlink:href=\"#madf50e8dd6\" y=\"68.461884\"/>\r\n      </g>\r\n     </g>\r\n     <g id=\"text_13\">\r\n      <!-- 0.7 -->\r\n      <defs>\r\n       <path d=\"M 8.203125 72.90625 \r\nL 55.078125 72.90625 \r\nL 55.078125 68.703125 \r\nL 28.609375 0 \r\nL 18.3125 0 \r\nL 43.21875 64.59375 \r\nL 8.203125 64.59375 \r\nz\r\n\" id=\"DejaVuSans-55\"/>\r\n      </defs>\r\n      <g transform=\"translate(27.13 72.261102)scale(0.1 -0.1)\">\r\n       <use xlink:href=\"#DejaVuSans-48\"/>\r\n       <use x=\"63.623047\" xlink:href=\"#DejaVuSans-46\"/>\r\n       <use x=\"95.410156\" xlink:href=\"#DejaVuSans-55\"/>\r\n      </g>\r\n     </g>\r\n    </g>\r\n    <g id=\"ytick_8\">\r\n     <g id=\"line2d_13\">\r\n      <g>\r\n       <use style=\"stroke:#000000;stroke-width:0.8;\" x=\"50.033125\" xlink:href=\"#madf50e8dd6\" y=\"41.664764\"/>\r\n      </g>\r\n     </g>\r\n     <g id=\"text_14\">\r\n      <!-- 0.8 -->\r\n      <g transform=\"translate(27.13 45.463982)scale(0.1 -0.1)\">\r\n       <use xlink:href=\"#DejaVuSans-48\"/>\r\n       <use x=\"63.623047\" xlink:href=\"#DejaVuSans-46\"/>\r\n       <use x=\"95.410156\" xlink:href=\"#DejaVuSans-56\"/>\r\n      </g>\r\n     </g>\r\n    </g>\r\n    <g id=\"text_15\">\r\n     <!-- y_pred -->\r\n     <defs>\r\n      <path d=\"M 18.109375 8.203125 \r\nL 18.109375 -20.796875 \r\nL 9.078125 -20.796875 \r\nL 9.078125 54.6875 \r\nL 18.109375 54.6875 \r\nL 18.109375 46.390625 \r\nQ 20.953125 51.265625 25.265625 53.625 \r\nQ 29.59375 56 35.59375 56 \r\nQ 45.5625 56 51.78125 48.09375 \r\nQ 58.015625 40.1875 58.015625 27.296875 \r\nQ 58.015625 14.40625 51.78125 6.484375 \r\nQ 45.5625 -1.421875 35.59375 -1.421875 \r\nQ 29.59375 -1.421875 25.265625 0.953125 \r\nQ 20.953125 3.328125 18.109375 8.203125 \r\nz\r\nM 48.6875 27.296875 \r\nQ 48.6875 37.203125 44.609375 42.84375 \r\nQ 40.53125 48.484375 33.40625 48.484375 \r\nQ 26.265625 48.484375 22.1875 42.84375 \r\nQ 18.109375 37.203125 18.109375 27.296875 \r\nQ 18.109375 17.390625 22.1875 11.75 \r\nQ 26.265625 6.109375 33.40625 6.109375 \r\nQ 40.53125 6.109375 44.609375 11.75 \r\nQ 48.6875 17.390625 48.6875 27.296875 \r\nz\r\n\" id=\"DejaVuSans-112\"/>\r\n      <path d=\"M 41.109375 46.296875 \r\nQ 39.59375 47.171875 37.8125 47.578125 \r\nQ 36.03125 48 33.890625 48 \r\nQ 26.265625 48 22.1875 43.046875 \r\nQ 18.109375 38.09375 18.109375 28.8125 \r\nL 18.109375 0 \r\nL 9.078125 0 \r\nL 9.078125 54.6875 \r\nL 18.109375 54.6875 \r\nL 18.109375 46.1875 \r\nQ 20.953125 51.171875 25.484375 53.578125 \r\nQ 30.03125 56 36.53125 56 \r\nQ 37.453125 56 38.578125 55.875 \r\nQ 39.703125 55.765625 41.0625 55.515625 \r\nz\r\n\" id=\"DejaVuSans-114\"/>\r\n      <path d=\"M 45.40625 46.390625 \r\nL 45.40625 75.984375 \r\nL 54.390625 75.984375 \r\nL 54.390625 0 \r\nL 45.40625 0 \r\nL 45.40625 8.203125 \r\nQ 42.578125 3.328125 38.25 0.953125 \r\nQ 33.9375 -1.421875 27.875 -1.421875 \r\nQ 17.96875 -1.421875 11.734375 6.484375 \r\nQ 5.515625 14.40625 5.515625 27.296875 \r\nQ 5.515625 40.1875 11.734375 48.09375 \r\nQ 17.96875 56 27.875 56 \r\nQ 33.9375 56 38.25 53.625 \r\nQ 42.578125 51.265625 45.40625 46.390625 \r\nz\r\nM 14.796875 27.296875 \r\nQ 14.796875 17.390625 18.875 11.75 \r\nQ 22.953125 6.109375 30.078125 6.109375 \r\nQ 37.203125 6.109375 41.296875 11.75 \r\nQ 45.40625 17.390625 45.40625 27.296875 \r\nQ 45.40625 37.203125 41.296875 42.84375 \r\nQ 37.203125 48.484375 30.078125 48.484375 \r\nQ 22.953125 48.484375 18.875 42.84375 \r\nQ 14.796875 37.203125 14.796875 27.296875 \r\nz\r\n\" id=\"DejaVuSans-100\"/>\r\n     </defs>\r\n     <g transform=\"translate(19.3575 171.64375)rotate(-90)scale(0.16 -0.16)\">\r\n      <use xlink:href=\"#DejaVuSans-121\"/>\r\n      <use x=\"59.179688\" xlink:href=\"#DejaVuSans-95\"/>\r\n      <use x=\"109.179688\" xlink:href=\"#DejaVuSans-112\"/>\r\n      <use x=\"172.65625\" xlink:href=\"#DejaVuSans-114\"/>\r\n      <use x=\"211.519531\" xlink:href=\"#DejaVuSans-101\"/>\r\n      <use x=\"273.042969\" xlink:href=\"#DejaVuSans-100\"/>\r\n     </g>\r\n    </g>\r\n   </g>\r\n   <g id=\"patch_3\">\r\n    <path d=\"M 50.033125 253.44 \r\nL 50.033125 36 \r\n\" style=\"fill:none;stroke:#000000;stroke-linecap:square;stroke-linejoin:miter;stroke-width:0.8;\"/>\r\n   </g>\r\n   <g id=\"patch_4\">\r\n    <path d=\"M 384.833125 253.44 \r\nL 384.833125 36 \r\n\" style=\"fill:none;stroke:#000000;stroke-linecap:square;stroke-linejoin:miter;stroke-width:0.8;\"/>\r\n   </g>\r\n   <g id=\"patch_5\">\r\n    <path d=\"M 50.033125 253.44 \r\nL 384.833125 253.44 \r\n\" style=\"fill:none;stroke:#000000;stroke-linecap:square;stroke-linejoin:miter;stroke-width:0.8;\"/>\r\n   </g>\r\n   <g id=\"patch_6\">\r\n    <path d=\"M 50.033125 36 \r\nL 384.833125 36 \r\n\" style=\"fill:none;stroke:#000000;stroke-linecap:square;stroke-linejoin:miter;stroke-width:0.8;\"/>\r\n   </g>\r\n  </g>\r\n  <g id=\"text_16\">\r\n   <!-- y_test vs y_pred -->\r\n   <defs>\r\n    <path id=\"DejaVuSans-32\"/>\r\n    <path d=\"M 2.984375 54.6875 \r\nL 12.5 54.6875 \r\nL 29.59375 8.796875 \r\nL 46.6875 54.6875 \r\nL 56.203125 54.6875 \r\nL 35.6875 0 \r\nL 23.484375 0 \r\nz\r\n\" id=\"DejaVuSans-118\"/>\r\n   </defs>\r\n   <g transform=\"translate(130.772188 22.396875)scale(0.2 -0.2)\">\r\n    <use xlink:href=\"#DejaVuSans-121\"/>\r\n    <use x=\"59.179688\" xlink:href=\"#DejaVuSans-95\"/>\r\n    <use x=\"109.179688\" xlink:href=\"#DejaVuSans-116\"/>\r\n    <use x=\"148.388672\" xlink:href=\"#DejaVuSans-101\"/>\r\n    <use x=\"209.912109\" xlink:href=\"#DejaVuSans-115\"/>\r\n    <use x=\"262.011719\" xlink:href=\"#DejaVuSans-116\"/>\r\n    <use x=\"301.220703\" xlink:href=\"#DejaVuSans-32\"/>\r\n    <use x=\"333.007812\" xlink:href=\"#DejaVuSans-118\"/>\r\n    <use x=\"392.1875\" xlink:href=\"#DejaVuSans-115\"/>\r\n    <use x=\"444.287109\" xlink:href=\"#DejaVuSans-32\"/>\r\n    <use x=\"476.074219\" xlink:href=\"#DejaVuSans-121\"/>\r\n    <use x=\"535.253906\" xlink:href=\"#DejaVuSans-95\"/>\r\n    <use x=\"585.253906\" xlink:href=\"#DejaVuSans-112\"/>\r\n    <use x=\"648.730469\" xlink:href=\"#DejaVuSans-114\"/>\r\n    <use x=\"687.59375\" xlink:href=\"#DejaVuSans-101\"/>\r\n    <use x=\"749.117188\" xlink:href=\"#DejaVuSans-100\"/>\r\n   </g>\r\n  </g>\r\n </g>\r\n <defs>\r\n  <clipPath id=\"p22be9c318c\">\r\n   <rect height=\"217.44\" width=\"334.8\" x=\"50.033125\" y=\"36\"/>\r\n  </clipPath>\r\n </defs>\r\n</svg>\r\n",
      "image/png": "[encoded data removed]"
     },
     "metadata": {
      "needs_background": "light"
     }
    }
   ],
   "source": [
    "# Plotting y_test and y_pred to understand the spread.\n",
    "fig = plt.figure()\n",
    "plt.scatter(y_test,y_pred)\n",
    "fig.suptitle('y_test vs y_pred', fontsize=20)              # Plot heading \n",
    "plt.xlabel('y_test', fontsize=18)                          # X-label\n",
    "plt.ylabel('y_pred', fontsize=16)                          # Y-label"
   ]
  },
  {
   "cell_type": "code",
   "execution_count": null,
   "metadata": {},
   "outputs": [],
   "source": []
  }
 ],
 "metadata": {
  "kernelspec": {
   "display_name": "Python 3",
   "language": "python",
   "name": "python3"
  },
  "language_info": {
   "codemirror_mode": {
    "name": "ipython",
    "version": 3
   },
   "file_extension": ".py",
   "mimetype": "text/x-python",
   "name": "python",
   "nbconvert_exporter": "python",
   "pygments_lexer": "ipython3",
   "version": "3.8.3-final"
  }
 },
 "nbformat": 4,
 "nbformat_minor": 2
}