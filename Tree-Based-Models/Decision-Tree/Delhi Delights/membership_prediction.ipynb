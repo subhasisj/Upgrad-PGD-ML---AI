{
 "metadata": {
  "language_info": {
   "codemirror_mode": {
    "name": "ipython",
    "version": 3
   },
   "file_extension": ".py",
   "mimetype": "text/x-python",
   "name": "python",
   "nbconvert_exporter": "python",
   "pygments_lexer": "ipython3",
   "version": "3.8.5-final"
  },
  "orig_nbformat": 2,
  "kernelspec": {
   "name": "python3",
   "display_name": "Python 3",
   "language": "python"
  }
 },
 "nbformat": 4,
 "nbformat_minor": 2,
 "cells": [
  {
   "cell_type": "code",
   "execution_count": 1,
   "metadata": {},
   "outputs": [],
   "source": [
    "import pandas as pd \n",
    "import numpy as np \n"
   ]
  },
  {
   "cell_type": "code",
   "execution_count": 2,
   "metadata": {},
   "outputs": [],
   "source": [
    "df = pd.read_csv('./Delhi+Delights+Data.csv')"
   ]
  },
  {
   "cell_type": "code",
   "execution_count": 18,
   "metadata": {},
   "outputs": [
    {
     "output_type": "execute_result",
     "data": {
      "text/plain": [
       "    Average Delivery Rating (a1)  Average Orders per month (a2)  \\\n",
       "3                            3.5                             11   \n",
       "4                            3.5                             11   \n",
       "5                            4.5                             11   \n",
       "9                            3.5                             13   \n",
       "10                           3.5                             13   \n",
       "11                           4.5                             13   \n",
       "15                           3.5                             15   \n",
       "16                           3.5                             15   \n",
       "17                           4.5                             15   \n",
       "21                           3.5                             27   \n",
       "22                           4.5                             27   \n",
       "23                           4.5                             27   \n",
       "27                           3.5                             39   \n",
       "28                           4.5                             39   \n",
       "29                           4.5                             39   \n",
       "\n",
       "   \"Delighted Members\" Purchase  \n",
       "3                            No  \n",
       "4                            No  \n",
       "5                           Yes  \n",
       "9                            No  \n",
       "10                           No  \n",
       "11                           No  \n",
       "15                           No  \n",
       "16                           No  \n",
       "17                          Yes  \n",
       "21                          Yes  \n",
       "22                          Yes  \n",
       "23                          Yes  \n",
       "27                          Yes  \n",
       "28                          Yes  \n",
       "29                          Yes  "
      ],
      "text/html": "<div>\n<style scoped>\n    .dataframe tbody tr th:only-of-type {\n        vertical-align: middle;\n    }\n\n    .dataframe tbody tr th {\n        vertical-align: top;\n    }\n\n    .dataframe thead th {\n        text-align: right;\n    }\n</style>\n<table border=\"1\" class=\"dataframe\">\n  <thead>\n    <tr style=\"text-align: right;\">\n      <th></th>\n      <th>Average Delivery Rating (a1)</th>\n      <th>Average Orders per month (a2)</th>\n      <th>\"Delighted Members\" Purchase</th>\n    </tr>\n  </thead>\n  <tbody>\n    <tr>\n      <th>3</th>\n      <td>3.5</td>\n      <td>11</td>\n      <td>No</td>\n    </tr>\n    <tr>\n      <th>4</th>\n      <td>3.5</td>\n      <td>11</td>\n      <td>No</td>\n    </tr>\n    <tr>\n      <th>5</th>\n      <td>4.5</td>\n      <td>11</td>\n      <td>Yes</td>\n    </tr>\n    <tr>\n      <th>9</th>\n      <td>3.5</td>\n      <td>13</td>\n      <td>No</td>\n    </tr>\n    <tr>\n      <th>10</th>\n      <td>3.5</td>\n      <td>13</td>\n      <td>No</td>\n    </tr>\n    <tr>\n      <th>11</th>\n      <td>4.5</td>\n      <td>13</td>\n      <td>No</td>\n    </tr>\n    <tr>\n      <th>15</th>\n      <td>3.5</td>\n      <td>15</td>\n      <td>No</td>\n    </tr>\n    <tr>\n      <th>16</th>\n      <td>3.5</td>\n      <td>15</td>\n      <td>No</td>\n    </tr>\n    <tr>\n      <th>17</th>\n      <td>4.5</td>\n      <td>15</td>\n      <td>Yes</td>\n    </tr>\n    <tr>\n      <th>21</th>\n      <td>3.5</td>\n      <td>27</td>\n      <td>Yes</td>\n    </tr>\n    <tr>\n      <th>22</th>\n      <td>4.5</td>\n      <td>27</td>\n      <td>Yes</td>\n    </tr>\n    <tr>\n      <th>23</th>\n      <td>4.5</td>\n      <td>27</td>\n      <td>Yes</td>\n    </tr>\n    <tr>\n      <th>27</th>\n      <td>3.5</td>\n      <td>39</td>\n      <td>Yes</td>\n    </tr>\n    <tr>\n      <th>28</th>\n      <td>4.5</td>\n      <td>39</td>\n      <td>Yes</td>\n    </tr>\n    <tr>\n      <th>29</th>\n      <td>4.5</td>\n      <td>39</td>\n      <td>Yes</td>\n    </tr>\n  </tbody>\n</table>\n</div>"
     },
     "metadata": {},
     "execution_count": 18
    }
   ],
   "source": [
    "df[df['Average Delivery Rating (a1)'] >3 ]"
   ]
  },
  {
   "cell_type": "code",
   "execution_count": 4,
   "metadata": {},
   "outputs": [
    {
     "output_type": "execute_result",
     "data": {
      "text/plain": [
       "No     15\n",
       "Yes    15\n",
       "Name: \"Delighted Members\" Purchase, dtype: int64"
      ]
     },
     "metadata": {},
     "execution_count": 4
    }
   ],
   "source": [
    "df['\"Delighted Members\" Purchase'].value_counts()"
   ]
  },
  {
   "cell_type": "code",
   "execution_count": 23,
   "metadata": {},
   "outputs": [
    {
     "output_type": "execute_result",
     "data": {
      "text/plain": [
       "    Average Delivery Rating (a1)  Average Orders per month (a2)  \\\n",
       "0                            1.5                             11   \n",
       "1                            2.5                             11   \n",
       "2                            2.5                             11   \n",
       "3                            3.5                             11   \n",
       "4                            3.5                             11   \n",
       "5                            4.5                             11   \n",
       "6                            1.5                             13   \n",
       "7                            2.5                             13   \n",
       "8                            2.5                             13   \n",
       "9                            3.5                             13   \n",
       "10                           3.5                             13   \n",
       "11                           4.5                             13   \n",
       "12                           1.5                             15   \n",
       "13                           2.5                             15   \n",
       "14                           2.5                             15   \n",
       "15                           3.5                             15   \n",
       "16                           3.5                             15   \n",
       "17                           4.5                             15   \n",
       "\n",
       "   \"Delighted Members\" Purchase  \n",
       "0                           Yes  \n",
       "1                            No  \n",
       "2                            No  \n",
       "3                            No  \n",
       "4                            No  \n",
       "5                           Yes  \n",
       "6                           Yes  \n",
       "7                            No  \n",
       "8                            No  \n",
       "9                            No  \n",
       "10                           No  \n",
       "11                           No  \n",
       "12                          Yes  \n",
       "13                           No  \n",
       "14                           No  \n",
       "15                           No  \n",
       "16                           No  \n",
       "17                          Yes  "
      ],
      "text/html": "<div>\n<style scoped>\n    .dataframe tbody tr th:only-of-type {\n        vertical-align: middle;\n    }\n\n    .dataframe tbody tr th {\n        vertical-align: top;\n    }\n\n    .dataframe thead th {\n        text-align: right;\n    }\n</style>\n<table border=\"1\" class=\"dataframe\">\n  <thead>\n    <tr style=\"text-align: right;\">\n      <th></th>\n      <th>Average Delivery Rating (a1)</th>\n      <th>Average Orders per month (a2)</th>\n      <th>\"Delighted Members\" Purchase</th>\n    </tr>\n  </thead>\n  <tbody>\n    <tr>\n      <th>0</th>\n      <td>1.5</td>\n      <td>11</td>\n      <td>Yes</td>\n    </tr>\n    <tr>\n      <th>1</th>\n      <td>2.5</td>\n      <td>11</td>\n      <td>No</td>\n    </tr>\n    <tr>\n      <th>2</th>\n      <td>2.5</td>\n      <td>11</td>\n      <td>No</td>\n    </tr>\n    <tr>\n      <th>3</th>\n      <td>3.5</td>\n      <td>11</td>\n      <td>No</td>\n    </tr>\n    <tr>\n      <th>4</th>\n      <td>3.5</td>\n      <td>11</td>\n      <td>No</td>\n    </tr>\n    <tr>\n      <th>5</th>\n      <td>4.5</td>\n      <td>11</td>\n      <td>Yes</td>\n    </tr>\n    <tr>\n      <th>6</th>\n      <td>1.5</td>\n      <td>13</td>\n      <td>Yes</td>\n    </tr>\n    <tr>\n      <th>7</th>\n      <td>2.5</td>\n      <td>13</td>\n      <td>No</td>\n    </tr>\n    <tr>\n      <th>8</th>\n      <td>2.5</td>\n      <td>13</td>\n      <td>No</td>\n    </tr>\n    <tr>\n      <th>9</th>\n      <td>3.5</td>\n      <td>13</td>\n      <td>No</td>\n    </tr>\n    <tr>\n      <th>10</th>\n      <td>3.5</td>\n      <td>13</td>\n      <td>No</td>\n    </tr>\n    <tr>\n      <th>11</th>\n      <td>4.5</td>\n      <td>13</td>\n      <td>No</td>\n    </tr>\n    <tr>\n      <th>12</th>\n      <td>1.5</td>\n      <td>15</td>\n      <td>Yes</td>\n    </tr>\n    <tr>\n      <th>13</th>\n      <td>2.5</td>\n      <td>15</td>\n      <td>No</td>\n    </tr>\n    <tr>\n      <th>14</th>\n      <td>2.5</td>\n      <td>15</td>\n      <td>No</td>\n    </tr>\n    <tr>\n      <th>15</th>\n      <td>3.5</td>\n      <td>15</td>\n      <td>No</td>\n    </tr>\n    <tr>\n      <th>16</th>\n      <td>3.5</td>\n      <td>15</td>\n      <td>No</td>\n    </tr>\n    <tr>\n      <th>17</th>\n      <td>4.5</td>\n      <td>15</td>\n      <td>Yes</td>\n    </tr>\n  </tbody>\n</table>\n</div>"
     },
     "metadata": {},
     "execution_count": 23
    }
   ],
   "source": [
    "df[df['Average Orders per month (a2)']< 20 ]"
   ]
  },
  {
   "cell_type": "code",
   "execution_count": null,
   "metadata": {},
   "outputs": [],
   "source": []
  }
 ]
}