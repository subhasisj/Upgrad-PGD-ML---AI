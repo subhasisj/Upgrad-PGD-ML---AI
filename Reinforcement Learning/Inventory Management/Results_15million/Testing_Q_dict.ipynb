{
 "cells": [
  {
   "cell_type": "code",
   "execution_count": 1,
   "metadata": {
    "collapsed": true
   },
   "outputs": [],
   "source": [
    "import numpy as np\n",
    "import collections\n",
    "import pickle\n",
    "import matplotlib.pyplot as plt\n",
    "%matplotlib inline"
   ]
  },
  {
   "cell_type": "code",
   "execution_count": 2,
   "metadata": {},
   "outputs": [
    {
     "name": "stdout",
     "output_type": "stream",
     "text": [
      "357\n"
     ]
    }
   ],
   "source": [
    "with open('Policy.pkl', 'rb') as handle:\n",
    "    Q_dict = pickle.load(handle)\n",
    "\n",
    "print(len(Q_dict))"
   ]
  },
  {
   "cell_type": "code",
   "execution_count": null,
   "metadata": {},
   "outputs": [],
   "source": [
    "m=50    \t#max capacity of warehouse\n",
    "K=3      \t#constant part of order cost (K in document), can be cost of fuel\n",
    "c=4      \t#variable part of order cost (c(a_t) in document)\n",
    "h=0.0025    #holding cost \n",
    "p=4.5      \t#selling price of product is such that PROFIT = 5%\n",
    "R=K\t\t \t#return cost = K because cost of fuel is same for to and fro journeys\n",
    "lamda_mon=16    #lambda for poisson distribution\n",
    "lamda_tue=31\n",
    "lamda_wed=15\n",
    "lamda_thu=32\n",
    "lamda_fri=30\n",
    "lamda_sat=8\n",
    "lamda_sun=42"
   ]
  },
  {
   "cell_type": "code",
   "execution_count": 3,
   "metadata": {
    "scrolled": true
   },
   "outputs": [
    {
     "data": {
      "text/plain": [
       "{0: 2.5675037816684534,\n",
       " 1: 0.03551005004787801,\n",
       " 2: 0.8458306027539818,\n",
       " 3: 1.3065519531124223,\n",
       " 4: 1.6571091311604669,\n",
       " 5: 2.3506211345459587,\n",
       " 6: 2.901705286821783,\n",
       " 7: 3.3567595431727297,\n",
       " 8: 3.7936473018551418,\n",
       " 9: 4.375336758035313,\n",
       " 10: 4.946708395467556,\n",
       " 11: 5.68193118087359,\n",
       " 12: 6.273514056507478,\n",
       " 13: 6.887940284693635,\n",
       " 14: 7.402069496248025,\n",
       " 15: 7.8470829227800625,\n",
       " 16: 8.146850061713437,\n",
       " 17: 8.996758712750893,\n",
       " 18: 9.352932411619026,\n",
       " 19: 10.107492227714507,\n",
       " 20: 10.410872998045324,\n",
       " 21: 11.074374153934405,\n",
       " 22: 11.433167417073971,\n",
       " 23: 12.132484895531874,\n",
       " 24: 12.44404735936121,\n",
       " 25: 12.936181063548448,\n",
       " 26: 13.174604477651101,\n",
       " 27: 13.686213260578917,\n",
       " 28: 13.565072117197051,\n",
       " 29: 13.697500807161864,\n",
       " 30: 13.662034176206959,\n",
       " 31: 13.875340045032635,\n",
       " 32: 13.663471585680925,\n",
       " 33: 13.66394552209442,\n",
       " 34: 13.707053474157535,\n",
       " 35: 13.593063784921744,\n",
       " 36: 13.669210705809833,\n",
       " 37: 13.567352959670238,\n",
       " 38: 13.63007798308706,\n",
       " 39: 13.670739291239194,\n",
       " 40: 13.728094067200942,\n",
       " 41: 13.646746507157012,\n",
       " 42: 13.475796381478466,\n",
       " 43: 13.46312510656539,\n",
       " 44: 13.447055157645854,\n",
       " 45: 13.078231487200117,\n",
       " 46: 12.703937586277666,\n",
       " 47: 12.313272414836979,\n",
       " 48: 12.190267284474503,\n",
       " 49: 11.69986581359357,\n",
       " 50: 11.099477545675722}"
      ]
     },
     "execution_count": 3,
     "metadata": {},
     "output_type": "execute_result"
    }
   ],
   "source": [
    "Q_dict[(10,6)]"
   ]
  },
  {
   "cell_type": "code",
   "execution_count": 12,
   "metadata": {
    "scrolled": true
   },
   "outputs": [
    {
     "data": {
      "text/plain": [
       "{0: 182.79190650371706,\n",
       " 1: 179.67991508332702,\n",
       " 2: 179.5631470064498,\n",
       " 3: 179.85613071375573,\n",
       " 4: 179.53362327339525,\n",
       " 5: 179.92022812788812,\n",
       " 6: 179.41241999464225,\n",
       " 7: 179.46200198030937,\n",
       " 8: 178.87721367379152,\n",
       " 9: 179.11539132904312,\n",
       " 10: 178.88272662879675,\n",
       " 11: 178.34832443728362,\n",
       " 12: 178.11212024009828,\n",
       " 13: 177.62959009549223,\n",
       " 14: 177.2585950841611,\n",
       " 15: 176.5896978952273,\n",
       " 16: 176.9710151737181,\n",
       " 17: 175.5434296234515,\n",
       " 18: 175.9547382422744,\n",
       " 19: 175.09251932622942,\n",
       " 20: 174.842497278005,\n",
       " 21: 174.50536062056938,\n",
       " 22: 174.43731834741456,\n",
       " 23: 174.44236999890916,\n",
       " 24: 174.0209005913403,\n",
       " 25: 174.3187328380905,\n",
       " 26: 174.4536009450438,\n",
       " 27: 174.404355152344,\n",
       " 28: 174.22392291446292,\n",
       " 29: 174.32390106011283,\n",
       " 30: 173.8837544999787,\n",
       " 31: 174.4387816449255,\n",
       " 32: 174.33669525285825,\n",
       " 33: 174.1904298152558,\n",
       " 34: 174.02667295064632,\n",
       " 35: 174.11654187521052,\n",
       " 36: 174.11095352326242,\n",
       " 37: 174.20802730174083,\n",
       " 38: 174.01960395116927,\n",
       " 39: 174.4442632995385,\n",
       " 40: 174.24902393778905,\n",
       " 41: 173.96732423779034,\n",
       " 42: 174.143779977313,\n",
       " 43: 174.23426548814143,\n",
       " 44: 174.29211499481085,\n",
       " 45: 174.14956121117982,\n",
       " 46: 174.0655545981325,\n",
       " 47: 174.26185102771117,\n",
       " 48: 174.36004716576903,\n",
       " 49: 173.992470885846,\n",
       " 50: 173.97918422425798}"
      ]
     },
     "execution_count": 12,
     "metadata": {},
     "output_type": "execute_result"
    }
   ],
   "source": [
    "Q_dict[(50,6)]"
   ]
  },
  {
   "cell_type": "markdown",
   "metadata": {},
   "source": [
    "### Monday predicts demand of Wednesday (mean = 15) Tuesday (mean = 31) "
   ]
  },
  {
   "cell_type": "code",
   "execution_count": 5,
   "metadata": {
    "scrolled": true
   },
   "outputs": [
    {
     "name": "stdout",
     "output_type": "stream",
     "text": [
      "0 : 16\n",
      "1 : 15\n",
      "2 : 14\n",
      "3 : 13\n",
      "4 : 15\n",
      "5 : 15\n",
      "6 : 15\n",
      "7 : 14\n",
      "8 : 14\n",
      "9 : 16\n",
      "10 : 15\n",
      "11 : 13\n",
      "12 : 15\n",
      "13 : 16\n",
      "14 : 15\n",
      "15 : 15\n",
      "16 : 18\n",
      "17 : 16\n",
      "18 : 16\n",
      "19 : 15\n",
      "20 : 15\n",
      "21 : 14\n",
      "22 : 15\n",
      "23 : 15\n",
      "24 : 14\n",
      "25 : 15\n",
      "26 : 15\n",
      "27 : 13\n",
      "28 : 14\n",
      "29 : 15\n",
      "30 : 15\n",
      "31 : 12\n",
      "32 : 11\n",
      "33 : 14\n",
      "34 : 12\n",
      "35 : 10\n",
      "36 : 0\n",
      "37 : 0\n",
      "38 : 0\n",
      "39 : 0\n",
      "40 : 0\n",
      "41 : 0\n",
      "42 : 0\n",
      "43 : 0\n",
      "44 : 0\n",
      "45 : 0\n",
      "46 : 0\n",
      "47 : 0\n",
      "48 : 0\n",
      "49 : 0\n",
      "50 : 0\n"
     ]
    }
   ],
   "source": [
    "for ix in range(0,51):\n",
    "    print(ix, ':', max(Q_dict[(ix,0)],key=Q_dict[(ix,0)].get))"
   ]
  },
  {
   "cell_type": "markdown",
   "metadata": {},
   "source": [
    "### Tuesday predicts demand of Thursday (mean = 32) Wednesday (mean = 15)"
   ]
  },
  {
   "cell_type": "code",
   "execution_count": 6,
   "metadata": {
    "scrolled": true
   },
   "outputs": [
    {
     "name": "stdout",
     "output_type": "stream",
     "text": [
      "0 : 34\n",
      "1 : 32\n",
      "2 : 34\n",
      "3 : 33\n",
      "4 : 32\n",
      "5 : 33\n",
      "6 : 32\n",
      "7 : 31\n",
      "8 : 32\n",
      "9 : 32\n",
      "10 : 33\n",
      "11 : 32\n",
      "12 : 31\n",
      "13 : 32\n",
      "14 : 32\n",
      "15 : 30\n",
      "16 : 30\n",
      "17 : 29\n",
      "18 : 28\n",
      "19 : 28\n",
      "20 : 26\n",
      "21 : 25\n",
      "22 : 24\n",
      "23 : 23\n",
      "24 : 23\n",
      "25 : 25\n",
      "26 : 21\n",
      "27 : 18\n",
      "28 : 20\n",
      "29 : 17\n",
      "30 : 17\n",
      "31 : 14\n",
      "32 : 15\n",
      "33 : 13\n",
      "34 : 11\n",
      "35 : 12\n",
      "36 : 10\n",
      "37 : 0\n",
      "38 : 0\n",
      "39 : 0\n",
      "40 : 0\n",
      "41 : 0\n",
      "42 : 0\n",
      "43 : 0\n",
      "44 : 0\n",
      "45 : 0\n",
      "46 : 0\n",
      "47 : 0\n",
      "48 : 0\n",
      "49 : 0\n",
      "50 : 0\n"
     ]
    }
   ],
   "source": [
    "for ix in range(0,51):\n",
    "    print(ix, ':', max(Q_dict[(ix,1)],key=Q_dict[(ix,1)].get))"
   ]
  },
  {
   "cell_type": "markdown",
   "metadata": {},
   "source": [
    "### Wednesday predicts demand of Friday (mean = 30), Thursday (mean = 32)"
   ]
  },
  {
   "cell_type": "code",
   "execution_count": 7,
   "metadata": {
    "scrolled": true
   },
   "outputs": [
    {
     "name": "stdout",
     "output_type": "stream",
     "text": [
      "0 : 33\n",
      "1 : 35\n",
      "2 : 34\n",
      "3 : 33\n",
      "4 : 35\n",
      "5 : 35\n",
      "6 : 32\n",
      "7 : 35\n",
      "8 : 36\n",
      "9 : 34\n",
      "10 : 34\n",
      "11 : 33\n",
      "12 : 36\n",
      "13 : 34\n",
      "14 : 32\n",
      "15 : 35\n",
      "16 : 35\n",
      "17 : 34\n",
      "18 : 34\n",
      "19 : 33\n",
      "20 : 34\n",
      "21 : 33\n",
      "22 : 34\n",
      "23 : 33\n",
      "24 : 33\n",
      "25 : 33\n",
      "26 : 33\n",
      "27 : 33\n",
      "28 : 35\n",
      "29 : 35\n",
      "30 : 32\n",
      "31 : 34\n",
      "32 : 31\n",
      "33 : 32\n",
      "34 : 32\n",
      "35 : 28\n",
      "36 : 28\n",
      "37 : 27\n",
      "38 : 27\n",
      "39 : 25\n",
      "40 : 26\n",
      "41 : 23\n",
      "42 : 23\n",
      "43 : 22\n",
      "44 : 21\n",
      "45 : 18\n",
      "46 : 19\n",
      "47 : 18\n",
      "48 : 15\n",
      "49 : 13\n",
      "50 : 15\n"
     ]
    }
   ],
   "source": [
    "for ix in range(0,51):\n",
    "    print(ix, ':', max(Q_dict[(ix,2)],key=Q_dict[(ix,2)].get))"
   ]
  },
  {
   "cell_type": "markdown",
   "metadata": {},
   "source": [
    "### Thursday predicts demand of Saturday (mean = 8),  Friday (mean = 30)"
   ]
  },
  {
   "cell_type": "code",
   "execution_count": 8,
   "metadata": {
    "scrolled": true
   },
   "outputs": [
    {
     "name": "stdout",
     "output_type": "stream",
     "text": [
      "0 : 10\n",
      "1 : 8\n",
      "2 : 8\n",
      "3 : 8\n",
      "4 : 10\n",
      "5 : 8\n",
      "6 : 8\n",
      "7 : 9\n",
      "8 : 8\n",
      "9 : 8\n",
      "10 : 9\n",
      "11 : 8\n",
      "12 : 8\n",
      "13 : 9\n",
      "14 : 7\n",
      "15 : 8\n",
      "16 : 8\n",
      "17 : 8\n",
      "18 : 9\n",
      "19 : 8\n",
      "20 : 9\n",
      "21 : 9\n",
      "22 : 8\n",
      "23 : 8\n",
      "24 : 8\n",
      "25 : 7\n",
      "26 : 9\n",
      "27 : 0\n",
      "28 : 0\n",
      "29 : 0\n",
      "30 : 0\n",
      "31 : 0\n",
      "32 : 0\n",
      "33 : 0\n",
      "34 : 0\n",
      "35 : 0\n",
      "36 : 0\n",
      "37 : 0\n",
      "38 : 0\n",
      "39 : 0\n",
      "40 : 0\n",
      "41 : 0\n",
      "42 : 0\n",
      "43 : 0\n",
      "44 : 0\n",
      "45 : 0\n",
      "46 : 0\n",
      "47 : 0\n",
      "48 : 0\n",
      "49 : 0\n",
      "50 : 0\n"
     ]
    }
   ],
   "source": [
    "for ix in range(0,51):\n",
    "    print(ix, ':', max(Q_dict[(ix,3)],key=Q_dict[(ix,3)].get))"
   ]
  },
  {
   "cell_type": "markdown",
   "metadata": {},
   "source": [
    "### Friday predicts demand of Sunday (mean = 42), Saturday (mean = 8)"
   ]
  },
  {
   "cell_type": "code",
   "execution_count": 9,
   "metadata": {
    "scrolled": true
   },
   "outputs": [
    {
     "name": "stdout",
     "output_type": "stream",
     "text": [
      "0 : 41\n",
      "1 : 41\n",
      "2 : 42\n",
      "3 : 42\n",
      "4 : 42\n",
      "5 : 42\n",
      "6 : 42\n",
      "7 : 42\n",
      "8 : 41\n",
      "9 : 42\n",
      "10 : 39\n",
      "11 : 38\n",
      "12 : 38\n",
      "13 : 37\n",
      "14 : 35\n",
      "15 : 34\n",
      "16 : 35\n",
      "17 : 32\n",
      "18 : 32\n",
      "19 : 30\n",
      "20 : 29\n",
      "21 : 30\n",
      "22 : 28\n",
      "23 : 27\n",
      "24 : 28\n",
      "25 : 24\n",
      "26 : 25\n",
      "27 : 23\n",
      "28 : 21\n",
      "29 : 20\n",
      "30 : 21\n",
      "31 : 20\n",
      "32 : 18\n",
      "33 : 15\n",
      "34 : 16\n",
      "35 : 16\n",
      "36 : 13\n",
      "37 : 12\n",
      "38 : 11\n",
      "39 : 10\n",
      "40 : 0\n",
      "41 : 0\n",
      "42 : 0\n",
      "43 : 0\n",
      "44 : 0\n",
      "45 : 0\n",
      "46 : 0\n",
      "47 : 0\n",
      "48 : 0\n",
      "49 : 0\n",
      "50 : 0\n"
     ]
    }
   ],
   "source": [
    "for ix in range(0,51):\n",
    "    print(ix, ':', max(Q_dict[(ix,4)],key=Q_dict[(ix,4)].get))"
   ]
  },
  {
   "cell_type": "markdown",
   "metadata": {},
   "source": [
    "### Saturday predicts demand of Monday (mean = 16), Sunday (mean = 42)"
   ]
  },
  {
   "cell_type": "code",
   "execution_count": 10,
   "metadata": {
    "scrolled": true
   },
   "outputs": [
    {
     "name": "stdout",
     "output_type": "stream",
     "text": [
      "0 : 18\n",
      "1 : 18\n",
      "2 : 17\n",
      "3 : 14\n",
      "4 : 17\n",
      "5 : 17\n",
      "6 : 17\n",
      "7 : 17\n",
      "8 : 17\n",
      "9 : 16\n",
      "10 : 15\n",
      "11 : 16\n",
      "12 : 18\n",
      "13 : 16\n",
      "14 : 16\n",
      "15 : 16\n",
      "16 : 16\n",
      "17 : 17\n",
      "18 : 16\n",
      "19 : 16\n",
      "20 : 16\n",
      "21 : 18\n",
      "22 : 16\n",
      "23 : 18\n",
      "24 : 17\n",
      "25 : 15\n",
      "26 : 15\n",
      "27 : 18\n",
      "28 : 16\n",
      "29 : 14\n",
      "30 : 18\n",
      "31 : 18\n",
      "32 : 17\n",
      "33 : 17\n",
      "34 : 17\n",
      "35 : 14\n",
      "36 : 16\n",
      "37 : 16\n",
      "38 : 16\n",
      "39 : 16\n",
      "40 : 16\n",
      "41 : 16\n",
      "42 : 14\n",
      "43 : 12\n",
      "44 : 12\n",
      "45 : 13\n",
      "46 : 14\n",
      "47 : 9\n",
      "48 : 0\n",
      "49 : 0\n",
      "50 : 0\n"
     ]
    }
   ],
   "source": [
    "for ix in range(0,51):\n",
    "    print(ix, ':', max(Q_dict[(ix,5)],key=Q_dict[(ix,5)].get))"
   ]
  },
  {
   "cell_type": "markdown",
   "metadata": {},
   "source": [
    "### Sunday predicts demand of Tuesday (mean = 31), Monday (mean = 16)"
   ]
  },
  {
   "cell_type": "code",
   "execution_count": 13,
   "metadata": {
    "scrolled": true
   },
   "outputs": [
    {
     "name": "stdout",
     "output_type": "stream",
     "text": [
      "0 : 33\n",
      "1 : 31\n",
      "2 : 31\n",
      "3 : 29\n",
      "4 : 30\n",
      "5 : 30\n",
      "6 : 31\n",
      "7 : 32\n",
      "8 : 30\n",
      "9 : 32\n",
      "10 : 31\n",
      "11 : 30\n",
      "12 : 31\n",
      "13 : 29\n",
      "14 : 33\n",
      "15 : 30\n",
      "16 : 31\n",
      "17 : 29\n",
      "18 : 29\n",
      "19 : 28\n",
      "20 : 28\n",
      "21 : 28\n",
      "22 : 30\n",
      "23 : 25\n",
      "24 : 24\n",
      "25 : 23\n",
      "26 : 23\n",
      "27 : 25\n",
      "28 : 21\n",
      "29 : 17\n",
      "30 : 16\n",
      "31 : 17\n",
      "32 : 20\n",
      "33 : 16\n",
      "34 : 14\n",
      "35 : 18\n",
      "36 : 12\n",
      "37 : 0\n",
      "38 : 0\n",
      "39 : 0\n",
      "40 : 0\n",
      "41 : 0\n",
      "42 : 0\n",
      "43 : 0\n",
      "44 : 0\n",
      "45 : 0\n",
      "46 : 0\n",
      "47 : 0\n",
      "48 : 0\n",
      "49 : 0\n",
      "50 : 0\n"
     ]
    }
   ],
   "source": [
    "for ix in range(0,51):\n",
    "    print(ix, ':', max(Q_dict[(ix,6)],key=Q_dict[(ix,6)].get))"
   ]
  },
  {
   "cell_type": "code",
   "execution_count": null,
   "metadata": {
    "collapsed": true
   },
   "outputs": [],
   "source": []
  },
  {
   "cell_type": "code",
   "execution_count": null,
   "metadata": {
    "collapsed": true
   },
   "outputs": [],
   "source": []
  }
 ],
 "metadata": {
  "kernelspec": {
   "display_name": "Python 3",
   "language": "python",
   "name": "python3"
  },
  "language_info": {
   "codemirror_mode": {
    "name": "ipython",
    "version": 3
   },
   "file_extension": ".py",
   "mimetype": "text/x-python",
   "name": "python",
   "nbconvert_exporter": "python",
   "pygments_lexer": "ipython3",
   "version": "3.6.5"
  }
 },
 "nbformat": 4,
 "nbformat_minor": 2
}
