{
 "cells": [
  {
   "cell_type": "code",
   "execution_count": 1,
   "source": [
    "import sys\r\n",
    "import gym\r\n",
    "import pylab\r\n",
    "import random\r\n",
    "import numpy as np\r\n",
    "import pyglet\r\n",
    "import matplotlib.pyplot as plt\r\n",
    "from IPython import display\r\n",
    "from collections import deque\r\n",
    "from tensorflow.keras.layers import Dense\r\n",
    "from tensorflow.keras.optimizers import Adam\r\n",
    "from tensorflow.keras.models import Sequential\r\n",
    "from tensorflow.keras.models import model_from_json\r\n"
   ],
   "outputs": [
    {
     "output_type": "stream",
     "name": "stderr",
     "text": [
      "C:\\ProgramData\\Anaconda3\\lib\\site-packages\\h5py\\__init__.py:36: FutureWarning: Conversion of the second argument of issubdtype from `float` to `np.floating` is deprecated. In future, it will be treated as `np.float64 == np.dtype(float).type`.\n",
      "  from ._conv import register_converters as _register_converters\n",
      "Using TensorFlow backend.\n"
     ]
    }
   ],
   "metadata": {}
  },
  {
   "cell_type": "code",
   "execution_count": 2,
   "source": [
    "import os\r\n",
    "directory_model = 'save_model'\r\n",
    "directory_graph = 'save_graph'\r\n",
    "\r\n",
    "# #directory = 'save_graph'\r\n",
    "# if not os.path.exists(directory_model):\r\n",
    "#     os.makedirs(directory_model)\r\n",
    "\r\n",
    "# if not os.path.exists(directory_graph):\r\n",
    "#     os.makedirs(directory_graph)  "
   ],
   "outputs": [],
   "metadata": {}
  },
  {
   "cell_type": "markdown",
   "source": [
    "# Testing the model\n",
    "Please make the value of epsilon to 0 while testing the model. "
   ],
   "metadata": {}
  },
  {
   "cell_type": "code",
   "execution_count": 3,
   "source": [
    "class DQNAgent:\r\n",
    "    def __init__(self, state_size, action_size):\r\n",
    "        \r\n",
    "        # If you want to see Cartpole learning, then change to True\r\n",
    "        self.render = False\r\n",
    "        self.load_model = False\r\n",
    "\r\n",
    "        # Define size of state and action\r\n",
    "        self.state_size = state_size\r\n",
    "        self.action_size = action_size\r\n",
    "\r\n",
    "        # These are hyper parameters for the DQN\r\n",
    "        self.discount_factor = 0.99\r\n",
    "        self.learning_rate = 0.001\r\n",
    "        \r\n",
    "    \r\n",
    "        \r\n",
    "        self.batch_size = 32\r\n",
    "        self.train_start = 500\r\n",
    "\r\n",
    "        # create main model and target model\r\n",
    "        self.model = self.build_model()\r\n",
    "\r\n",
    "\r\n",
    "        #if self.load_model:\r\n",
    "        self.model.load_weights(\"./save_model/cartpole_dqn.h5\")\r\n",
    "        \r\n",
    "        # make the epsilon value 0 when testing the model\r\n",
    "        self.epsilon = 0.0\r\n",
    "\r\n",
    "    # approximate Q function using Neural Network\r\n",
    "    # state is input and Q Value of each action is output of network\r\n",
    "    def build_model(self):\r\n",
    "        \r\n",
    "        \r\n",
    "        model = Sequential()\r\n",
    "        model.add(Dense(32, input_dim=self.state_size, activation='relu',\r\n",
    "                        kernel_initializer='he_uniform'))\r\n",
    "        model.add(Dense(32, activation='relu',\r\n",
    "                        kernel_initializer='he_uniform'))\r\n",
    "        model.add(Dense(self.action_size, activation='linear',\r\n",
    "                        kernel_initializer='he_uniform'))\r\n",
    "        model.summary()\r\n",
    "        model.compile(loss='mse', optimizer=Adam(lr=self.learning_rate))\r\n",
    "        return model\r\n",
    "    \r\n",
    "\r\n",
    "\r\n",
    "            \r\n",
    "    # get action from model using epsilon-greedy policy\r\n",
    "    def get_action(self, state):\r\n",
    "\r\n",
    "        if np.random.rand() <= self.epsilon:\r\n",
    "            return random.randrange(self.action_size)\r\n",
    "\r\n",
    "        else:\r\n",
    "            q_value = self.model.predict(state)\r\n",
    "            return np.argmax(q_value[0])\r\n",
    "\r\n",
    "    "
   ],
   "outputs": [],
   "metadata": {}
  },
  {
   "cell_type": "markdown",
   "source": [
    "# Test the model\n",
    "Test the model by running only for one episode. Most of the time, the score will be 500, sometimes, but sometimes it may be less. "
   ],
   "metadata": {}
  },
  {
   "cell_type": "code",
   "execution_count": 7,
   "source": [
    "env = gym.make('CartPole-v1')\n",
    "state_size = env.observation_space.shape[0]\n",
    "action_size = env.action_space.n\n",
    "\n",
    "agent = DQNAgent(state_size, action_size)\n",
    "done = False\n",
    "score = 0\n",
    "state = env.reset()\n",
    "state = np.reshape(state, [1, state_size])\n",
    "\n",
    "while not done:\n",
    "    env.render() # To show the environment\n",
    "    action = agent.get_action(state)\n",
    "    next_state, reward, done, info = env.step(action)\n",
    "    next_state = np.reshape(next_state, [1, state_size])\n",
    "    score += reward\n",
    "    state = next_state\n",
    "\n",
    "    if done:\n",
    "        print('The score is:', score)\n",
    "\n",
    "env.close()\n",
    "       "
   ],
   "outputs": [
    {
     "output_type": "stream",
     "name": "stdout",
     "text": [
      "\u001b[33mWARN: gym.spaces.Box autodetected dtype as <class 'numpy.float32'>. Please provide explicit dtype.\u001b[0m\n",
      "_________________________________________________________________\n",
      "Layer (type)                 Output Shape              Param #   \n",
      "=================================================================\n",
      "dense_10 (Dense)             (None, 32)                160       \n",
      "_________________________________________________________________\n",
      "dense_11 (Dense)             (None, 32)                1056      \n",
      "_________________________________________________________________\n",
      "dense_12 (Dense)             (None, 2)                 66        \n",
      "=================================================================\n",
      "Total params: 1,282\n",
      "Trainable params: 1,282\n",
      "Non-trainable params: 0\n",
      "_________________________________________________________________\n",
      "The score is: 500.0\n"
     ]
    }
   ],
   "metadata": {}
  },
  {
   "cell_type": "code",
   "execution_count": null,
   "source": [],
   "outputs": [],
   "metadata": {}
  }
 ],
 "metadata": {
  "kernelspec": {
   "display_name": "Python 3",
   "language": "python",
   "name": "python3"
  },
  "language_info": {
   "codemirror_mode": {
    "name": "ipython",
    "version": 3
   },
   "file_extension": ".py",
   "mimetype": "text/x-python",
   "name": "python",
   "nbconvert_exporter": "python",
   "pygments_lexer": "ipython3",
   "version": "3.6.3"
  }
 },
 "nbformat": 4,
 "nbformat_minor": 2
}