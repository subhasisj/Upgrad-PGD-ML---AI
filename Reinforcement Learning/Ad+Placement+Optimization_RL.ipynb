{
 "cells": [
  {
   "cell_type": "markdown",
   "metadata": {},
   "source": [
    "## Predicting ad positioning using Q-Learning"
   ]
  },
  {
   "cell_type": "markdown",
   "metadata": {},
   "source": [
    "Placement of ads on website is the primary problem for companies that operate on ad revenue. The position where the ad is placed plays pivotal role on whether or not the ad will be clicked. Here we have the following choices:\n",
    "1. Place them randomly, or\n",
    "2. Place the ad on the same position\n",
    "\n",
    "The problem with placing the ad on the same position is the user, after a certain time, will start ignoring the space since he's used to seeing ad at the place, he will end up ignoring that particular position hereafter. Hence, this will reduce the number of clicks on ads. The problem with the former option, placing them randomly, is it wouldn't take optimal positions into consideration. For instance, text beside images are viewed higher number of times than those text which are placed at a distance. It is infeasible to go through every website and repeat the procedure. \n",
    "\n",
    "Solution: Reinforcement Learning\n",
    "\n",
    "Using Reinforcement Learning we can approximate the human behavior. \n",
    "\n",
    "### Why Reinforcement Learning? \n",
    "We cannot use traditional Machine Learning here, since it requires:\n",
    "1. Huge data\n",
    "2. Features\n",
    "3. Tuning of many hyperparameters\n",
    "\n",
    "And we neither have huge data, nor features. The only data we have is the position of the banner/ad and whether or not it was clicked. We will use this dataset from Kaggle: https://www.kaggle.com/akram24/ads-ctr-optimisation. We will solve this problem using both model-based (Policy iteration) and model-free methods(Q-Learning & Monte-Carlo). We'll simplify some assumptions for model-based technique. \n",
    "\n",
    "### Notebook Layout\n",
    "1. MDP environment - Understanding the dataset\n",
    "2. Random Policy - placing the ads randomly on different webpages\n",
    "3. Max policy - placing the ad where it is clicked maximum number of times\n",
    "4. Model-based Method - Policy Iteration\n",
    "5. Model-free Method - Q-learning & Monte Carlo"
   ]
  },
  {
   "cell_type": "markdown",
   "metadata": {},
   "source": [
    "#### Importing Libraries"
   ]
  },
  {
   "cell_type": "code",
   "execution_count": 2,
   "metadata": {},
   "outputs": [],
   "source": [
    "# import routines\n",
    "import numpy as np\n",
    "import pandas as pd\n",
    "import matplotlib.pyplot as plt\n",
    "import random\n",
    "import time"
   ]
  },
  {
   "cell_type": "markdown",
   "metadata": {},
   "source": [
    "#### Dataset\n",
    "\n",
    "Our environment will be the dataset. It contains 10 ads position per row having values either 1, when the ad is clicked, or 0 when it is not. Every row can be considered as a state in the space, considering it kind of a navigation across multiple pages (on website, for instance) Lets load the dataset and visualize the first few rows.\n",
    "\n",
    "1. state = webpage\n",
    "2. action = placing the ad at any of the 10 positions on a webpage\n",
    "3. reward = +1 if the ad was clicked at the position; else 0\n",
    "4. Transition Probability: next webpage that user will end up in is random; therefore, it is 1/(total_webpages -1)"
   ]
  },
  {
   "cell_type": "code",
   "execution_count": 3,
   "metadata": {},
   "outputs": [
    {
     "data": {
      "text/html": [
       "<div>\n",
       "<style scoped>\n",
       "    .dataframe tbody tr th:only-of-type {\n",
       "        vertical-align: middle;\n",
       "    }\n",
       "\n",
       "    .dataframe tbody tr th {\n",
       "        vertical-align: top;\n",
       "    }\n",
       "\n",
       "    .dataframe thead th {\n",
       "        text-align: right;\n",
       "    }\n",
       "</style>\n",
       "<table border=\"1\" class=\"dataframe\">\n",
       "  <thead>\n",
       "    <tr style=\"text-align: right;\">\n",
       "      <th></th>\n",
       "      <th>Ad 1</th>\n",
       "      <th>Ad 2</th>\n",
       "      <th>Ad 3</th>\n",
       "      <th>Ad 4</th>\n",
       "      <th>Ad 5</th>\n",
       "      <th>Ad 6</th>\n",
       "      <th>Ad 7</th>\n",
       "      <th>Ad 8</th>\n",
       "      <th>Ad 9</th>\n",
       "      <th>Ad 10</th>\n",
       "    </tr>\n",
       "  </thead>\n",
       "  <tbody>\n",
       "    <tr>\n",
       "      <th>0</th>\n",
       "      <td>1</td>\n",
       "      <td>0</td>\n",
       "      <td>0</td>\n",
       "      <td>0</td>\n",
       "      <td>1</td>\n",
       "      <td>0</td>\n",
       "      <td>0</td>\n",
       "      <td>0</td>\n",
       "      <td>1</td>\n",
       "      <td>0</td>\n",
       "    </tr>\n",
       "    <tr>\n",
       "      <th>1</th>\n",
       "      <td>0</td>\n",
       "      <td>0</td>\n",
       "      <td>0</td>\n",
       "      <td>0</td>\n",
       "      <td>0</td>\n",
       "      <td>0</td>\n",
       "      <td>0</td>\n",
       "      <td>0</td>\n",
       "      <td>1</td>\n",
       "      <td>0</td>\n",
       "    </tr>\n",
       "    <tr>\n",
       "      <th>2</th>\n",
       "      <td>0</td>\n",
       "      <td>0</td>\n",
       "      <td>0</td>\n",
       "      <td>0</td>\n",
       "      <td>0</td>\n",
       "      <td>0</td>\n",
       "      <td>0</td>\n",
       "      <td>0</td>\n",
       "      <td>0</td>\n",
       "      <td>0</td>\n",
       "    </tr>\n",
       "    <tr>\n",
       "      <th>3</th>\n",
       "      <td>0</td>\n",
       "      <td>1</td>\n",
       "      <td>0</td>\n",
       "      <td>0</td>\n",
       "      <td>0</td>\n",
       "      <td>0</td>\n",
       "      <td>0</td>\n",
       "      <td>1</td>\n",
       "      <td>0</td>\n",
       "      <td>0</td>\n",
       "    </tr>\n",
       "    <tr>\n",
       "      <th>4</th>\n",
       "      <td>0</td>\n",
       "      <td>0</td>\n",
       "      <td>0</td>\n",
       "      <td>0</td>\n",
       "      <td>0</td>\n",
       "      <td>0</td>\n",
       "      <td>0</td>\n",
       "      <td>0</td>\n",
       "      <td>0</td>\n",
       "      <td>0</td>\n",
       "    </tr>\n",
       "  </tbody>\n",
       "</table>\n",
       "</div>"
      ],
      "text/plain": [
       "   Ad 1  Ad 2  Ad 3  Ad 4  Ad 5  Ad 6  Ad 7  Ad 8  Ad 9  Ad 10\n",
       "0     1     0     0     0     1     0     0     0     1      0\n",
       "1     0     0     0     0     0     0     0     0     1      0\n",
       "2     0     0     0     0     0     0     0     0     0      0\n",
       "3     0     1     0     0     0     0     0     1     0      0\n",
       "4     0     0     0     0     0     0     0     0     0      0"
      ]
     },
     "execution_count": 3,
     "metadata": {},
     "output_type": "execute_result"
    }
   ],
   "source": [
    "env = pd.read_csv('Ads_CTR_Optimisation.csv')\n",
    "env.head()"
   ]
  },
  {
   "cell_type": "markdown",
   "metadata": {},
   "source": [
    "## Random policy\n",
    "\n",
    "If we were to not have Reinforcement Learning, we would place the ads randomly at given positions. We will now simulate the same.  "
   ]
  },
  {
   "cell_type": "code",
   "execution_count": 7,
   "metadata": {},
   "outputs": [
    {
     "name": "stdout",
     "output_type": "stream",
     "text": [
      "Reward collected: 1277\n"
     ]
    }
   ],
   "source": [
    "# total rewards earned\n",
    "reward = 0\n",
    "# random policy: for every state, choose a random\n",
    "# position for displaying the ad\n",
    "for x in range(len(env)):\n",
    "    action = np.random.randint(0, 10)\n",
    "    # if the guess was correct, increase the reward\n",
    "    if env.values[x][action] == 1:\n",
    "        reward += 1\n",
    "print(\"Reward collected: {}\".format(reward))"
   ]
  },
  {
   "cell_type": "markdown",
   "metadata": {},
   "source": [
    "## Using Max Policy\n",
    "Another question we might ask: is it right to display the ad where it is clicked the most number of times. For instance, there might be a certain position where the ad clicked with a higher probability. Since the values of the rows is either 1 or 0, we can sum across the columns and count the number of times ad in the position was clicked. "
   ]
  },
  {
   "cell_type": "code",
   "execution_count": 8,
   "metadata": {},
   "outputs": [
    {
     "data": {
      "text/html": [
       "<div>\n",
       "<style scoped>\n",
       "    .dataframe tbody tr th:only-of-type {\n",
       "        vertical-align: middle;\n",
       "    }\n",
       "\n",
       "    .dataframe tbody tr th {\n",
       "        vertical-align: top;\n",
       "    }\n",
       "\n",
       "    .dataframe thead th {\n",
       "        text-align: right;\n",
       "    }\n",
       "</style>\n",
       "<table border=\"1\" class=\"dataframe\">\n",
       "  <thead>\n",
       "    <tr style=\"text-align: right;\">\n",
       "      <th></th>\n",
       "      <th>counts</th>\n",
       "    </tr>\n",
       "    <tr>\n",
       "      <th>ad</th>\n",
       "      <th></th>\n",
       "    </tr>\n",
       "  </thead>\n",
       "  <tbody>\n",
       "    <tr>\n",
       "      <th>1</th>\n",
       "      <td>1703</td>\n",
       "    </tr>\n",
       "    <tr>\n",
       "      <th>2</th>\n",
       "      <td>1295</td>\n",
       "    </tr>\n",
       "    <tr>\n",
       "      <th>3</th>\n",
       "      <td>728</td>\n",
       "    </tr>\n",
       "    <tr>\n",
       "      <th>4</th>\n",
       "      <td>1196</td>\n",
       "    </tr>\n",
       "    <tr>\n",
       "      <th>5</th>\n",
       "      <td>2695</td>\n",
       "    </tr>\n",
       "    <tr>\n",
       "      <th>6</th>\n",
       "      <td>126</td>\n",
       "    </tr>\n",
       "    <tr>\n",
       "      <th>7</th>\n",
       "      <td>1112</td>\n",
       "    </tr>\n",
       "    <tr>\n",
       "      <th>8</th>\n",
       "      <td>2091</td>\n",
       "    </tr>\n",
       "    <tr>\n",
       "      <th>9</th>\n",
       "      <td>952</td>\n",
       "    </tr>\n",
       "    <tr>\n",
       "      <th>10</th>\n",
       "      <td>489</td>\n",
       "    </tr>\n",
       "  </tbody>\n",
       "</table>\n",
       "</div>"
      ],
      "text/plain": [
       "    counts\n",
       "ad        \n",
       "1     1703\n",
       "2     1295\n",
       "3      728\n",
       "4     1196\n",
       "5     2695\n",
       "6      126\n",
       "7     1112\n",
       "8     2091\n",
       "9      952\n",
       "10     489"
      ]
     },
     "execution_count": 8,
     "metadata": {},
     "output_type": "execute_result"
    }
   ],
   "source": [
    "clicked_counts = env.values.sum(axis=0)\n",
    "counts = pd.DataFrame({\"ad\": np.arange(1, 11), \"counts\": clicked_counts})\n",
    "counts.set_index(\"ad\")"
   ]
  },
  {
   "cell_type": "markdown",
   "metadata": {},
   "source": [
    "Which indicates ad 5 was clicked 2695 times. So if we were to always place an ad on position 5, it would be click around 2695 times. But can we do better? "
   ]
  },
  {
   "cell_type": "markdown",
   "metadata": {},
   "source": [
    "## Dynamic Programming (Policy Iteration) "
   ]
  },
  {
   "cell_type": "code",
   "execution_count": 9,
   "metadata": {},
   "outputs": [
    {
     "data": {
      "text/plain": [
       "10000"
      ]
     },
     "execution_count": 9,
     "metadata": {},
     "output_type": "execute_result"
    }
   ],
   "source": [
    "len(env)"
   ]
  },
  {
   "cell_type": "code",
   "execution_count": 10,
   "metadata": {},
   "outputs": [],
   "source": [
    "# starting with random policy, choose a random choice for every state in the environment\n",
    "state_size = len(env)\n",
    "\n",
    "state_list = []\n",
    "for state in range(state_size):\n",
    "    state_list.append(state)"
   ]
  },
  {
   "cell_type": "code",
   "execution_count": 7,
   "metadata": {},
   "outputs": [
    {
     "name": "stdout",
     "output_type": "stream",
     "text": [
      "Current episode: 100\n",
      "Current episode: 200\n",
      "Current episode: 300\n",
      "Current episode: 400\n",
      "Current episode: 500\n",
      "Time taken in seconds:  1304.556524515152\n",
      "Total episodes trained: 501\n"
     ]
    }
   ],
   "source": [
    "start = time.time()\r\n",
    "# action could be placing the ad on any of the 10 positions\r\n",
    "action_space = np.arange(0, 10)\r\n",
    "\r\n",
    "policy = [random.choice(action_space) for x in range(state_size)]\r\n",
    "# will take random action for the first time\r\n",
    "first_time = True\r\n",
    "\r\n",
    "# delta\r\n",
    "small_change = 1e-20\r\n",
    "# discount factor\r\n",
    "gamma = 0.9\r\n",
    "episodes = 0\r\n",
    "max_episodes = 500\r\n",
    "\r\n",
    "V = dict()\r\n",
    "# last positions reward will be 1 - terminal state\r\n",
    "V[10000] = 1\r\n",
    "\r\n",
    "# initially the value function for all states will be random values close to zero\r\n",
    "for i in range(state_size):\r\n",
    "    V[i] = np.random.random()\r\n",
    "deltas = []\r\n",
    "while episodes < max_episodes:\r\n",
    "    # policy evaluation (until convergence of state value function)\r\n",
    "    while True:\r\n",
    "        if episodes > max_episodes:\r\n",
    "            break\r\n",
    "        episodes += 1\r\n",
    "        if episodes % 100 == 0:\r\n",
    "            print(\"Current episode: {}\".format(episodes))\r\n",
    "        biggest_change = 0\r\n",
    "        # loop through every state present\r\n",
    "        for state in range(state_size):\r\n",
    "            old_V = V[state]\r\n",
    "            # take random action according to policy\r\n",
    "            action = policy[state]\r\n",
    "            #print(action)\r\n",
    "            new_state = random.choice(list(set(state_list) - set([state])))\r\n",
    "            #print(new_state)\r\n",
    "            reward = env.values[state][action]\r\n",
    "            #\r\n",
    "            V[state] = (reward + gamma * V[new_state])/9999\r\n",
    "            # We're calculating biggest change to have an idea on convergence. \r\n",
    "            # Initially, the changes will be huge, but as \r\n",
    "            # we update the values, they will tend towards a convergence point\r\n",
    "            biggest_change = max(biggest_change, abs(V[state] - old_V))\r\n",
    "        deltas.append(biggest_change)\r\n",
    "        if biggest_change < small_change:\r\n",
    "            break\r\n",
    "            \r\n",
    "    # policy improvement\r\n",
    "    policy_changed = False\r\n",
    "    for state in range(state_size):\r\n",
    "        best_val = -np.inf\r\n",
    "        best_action = -1\r\n",
    "        for action in action_space:\r\n",
    "            new_state = random.choice(list(set(state_list) - set([state])))\r\n",
    "            reward = env.values[state][action]\r\n",
    "            # calculate the action with the best\r\n",
    "            # future reward\r\n",
    "            future_reward = (reward + gamma * V[new_state])/9999\r\n",
    "            if future_reward > best_val:\r\n",
    "                best_val = future_reward\r\n",
    "                best_action = action\r\n",
    "        assert best_action != -1\r\n",
    "        # After convergence, the policy will not change since we would have already reached\r\n",
    "        # the optimum policy. So check if the policy is not updated, if not then stop. \r\n",
    "        if policy[state] != best_action:\r\n",
    "            policy_changed = True\r\n",
    "        policy[state] = best_action\r\n",
    "\r\n",
    "    if not policy_changed:\r\n",
    "        break\r\n",
    "\r\n",
    "end = time.time()\r\n",
    "print(\"Time taken in seconds: \", end-start)\r\n",
    "print(\"Total episodes trained: {}\".format(episodes))"
   ]
  },
  {
   "cell_type": "code",
   "execution_count": 8,
   "metadata": {},
   "outputs": [
    {
     "data": {
      "image/png": "[encoded data removed]",
      "text/plain": [
       "<Figure size 576x288 with 1 Axes>"
      ]
     },
     "metadata": {
      "needs_background": "light"
     },
     "output_type": "display_data"
    }
   ],
   "source": [
    "plt.rcParams[\"figure.figsize\"] = (8, 4)\n",
    "plt.plot(deltas, label=\"deltas\")\n",
    "plt.legend()\n",
    "plt.title(\"Convergence Plot - Dynamic Programming (Policy Iteration)\")\n",
    "plt.tight_layout()"
   ]
  },
  {
   "cell_type": "code",
   "execution_count": 9,
   "metadata": {},
   "outputs": [
    {
     "name": "stdout",
     "output_type": "stream",
     "text": [
      "Reward collected: 7424\n"
     ]
    }
   ],
   "source": [
    "# total rewards earned\n",
    "reward = 0\n",
    "# random policy: for every state, choose a random\n",
    "# position for displaying the ad\n",
    "for x in range(len(env)):\n",
    "    action = policy[x]\n",
    "    # if the guess was correct, increase the reward\n",
    "    if env.values[x][action] == 1:\n",
    "        reward += 1\n",
    "print(\"Reward collected: {}\".format(reward))"
   ]
  },
  {
   "cell_type": "markdown",
   "metadata": {},
   "source": [
    "## Using Q-Learning\n",
    "\n",
    "The reason for using Q-Learning here is :\n",
    "1. It is model free, so it doesn't require to know all the states.\n",
    "2. Intuitive to understand, and converges faster. \n",
    "\n",
    "We will use Q-Learning with Epsilon Decay. Initially, we will start with a very high epsilon value. Which would make the model explore, instead of exploit. After a few iterations, we will reduce this \"exploration probability\" so the model will exploit, instead of exploring. After many iterations, the model would have high confidence and no more exploration is necessary. \n",
    "\n",
    "This strategy is called as \"epsilon greedy\". We will use a decay rate to change the epsilon value such that it becomes lower after many iterations. \n"
   ]
  },
  {
   "cell_type": "code",
   "execution_count": 4,
   "metadata": {},
   "outputs": [],
   "source": [
    "# using q-learning\n",
    "states = len(env)\n",
    "actions = 10\n",
    "# initialize q-table with zeros. Initially all the q-values will be zero\n",
    "q_table = np.zeros((states + 1, actions))\n",
    "\n",
    "learning_rate = 0.7\n",
    "gamma = 0.618\n",
    "\n",
    "# set the exploration probability to be very high initially. \n",
    "epsilon = 1.0\n",
    "max_epsilon = 1.0\n",
    "min_epsilon = 0.01\n",
    "decay_rate = 0.01\n",
    "max_episodes = 500"
   ]
  },
  {
   "cell_type": "code",
   "execution_count": 5,
   "metadata": {},
   "outputs": [],
   "source": [
    "def exploit(eps):\n",
    "    \"\"\"Randomizes a number to select\n",
    "    whether or not to expolit\"\"\"\n",
    "    return np.random.uniform() > eps\n",
    "\n",
    "def random_action():\n",
    "    return np.random.randint(0, 10)"
   ]
  },
  {
   "cell_type": "code",
   "execution_count": 11,
   "metadata": {},
   "outputs": [
    {
     "name": "stdout",
     "output_type": "stream",
     "text": [
      "Episode: 0\n",
      "Episode: 50\n",
      "Episode: 100\n",
      "Episode: 150\n",
      "Episode: 200\n",
      "Episode: 250\n",
      "Episode: 300\n",
      "Episode: 350\n",
      "Episode: 400\n",
      "Episode: 450\n",
      "Episode: 500\n"
     ]
    }
   ],
   "source": [
    "deltas = []\n",
    "reward = 0\n",
    "for episode in range(max_episodes + 1):\n",
    "    if episode % 50 == 0:\n",
    "        print(\"Episode: {}\".format(episode))\n",
    "    biggest_change = 0\n",
    "    for state in range(states):\n",
    "        if exploit(epsilon):\n",
    "            action = random_action()\n",
    "        else:\n",
    "            action = np.argmax(q_table[state])\n",
    "        r = env.values[state][action]\n",
    "        reward += r\n",
    "        old_q = q_table[state][action]\n",
    "        new_state = random.choice(list(set(state_list) - set([state])))\n",
    "        q_table[state][action] += learning_rate*(r + gamma*np.max(q_table[new_state, :]) - \n",
    "                                                 q_table[state][action])\n",
    "        biggest_change = max(biggest_change, np.abs(q_table[state][action] - old_q))\n",
    "    # keep track of biggest changes\n",
    "    deltas.append(biggest_change)\n",
    "    # epsilon decay to reduce exploration and increase exploitation\n",
    "    epsilon = min_epsilon + (max_epsilon - min_epsilon) * np.exp(-decay_rate*episode)"
   ]
  },
  {
   "cell_type": "code",
   "execution_count": null,
   "metadata": {},
   "outputs": [],
   "source": [
    "plt.plot(deltas, label=\"deltas\")\n",
    "plt.legend()\n",
    "plt.title(\"Convergence Plot - Q-Learning\")\n",
    "plt.tight_layout()"
   ]
  },
  {
   "cell_type": "code",
   "execution_count": null,
   "metadata": {},
   "outputs": [],
   "source": [
    "# test\n",
    "rewards = 0\n",
    "for state in range(states):\n",
    "    best_action = np.argmax(q_table[state, :])\n",
    "    r = env.values[state][best_action]\n",
    "    rewards += r\n",
    "print(\"Reward collected: {}\".format(rewards))"
   ]
  },
  {
   "cell_type": "markdown",
   "metadata": {},
   "source": [
    "## Monte Carlo\n"
   ]
  },
  {
   "cell_type": "code",
   "execution_count": null,
   "metadata": {},
   "outputs": [],
   "source": [
    "def random_policy(state):\n",
    "    \"\"\"Returns a random available choice\"\"\"\n",
    "    return np.random.randint(0, 10)\n",
    "\n",
    "def simulate(policy):\n",
    "    # store the reward-state-action triple\n",
    "    rsa = []\n",
    "    for s in range(env.shape[0]):\n",
    "        # 10% probability that the agent will act randomly\n",
    "        if np.random.uniform() < 0.1:\n",
    "            action = np.random.randint(0, 10)\n",
    "        else:\n",
    "            action = policy[s]\n",
    "        reward = env.values[s][action]\n",
    "        rsa.append((reward, s, action))\n",
    "        \n",
    "    # go reverse and distribute rewards\n",
    "    G = 0\n",
    "    gamma = 0.3\n",
    "    first = True\n",
    "    state_returns = []\n",
    "    for reward, s , a in reversed(rsa):\n",
    "        G = G + gamma * reward\n",
    "        if first:\n",
    "            first = False\n",
    "            continue\n",
    "        else:\n",
    "            state_returns.append((s, a, G))\n",
    "    # we want the rewards to be the way they were distributed\n",
    "    state_returns.reverse()\n",
    "    return state_returns"
   ]
  },
  {
   "cell_type": "code",
   "execution_count": null,
   "metadata": {},
   "outputs": [],
   "source": [
    "from collections import defaultdict\n",
    "\n",
    "# creates a random policy for every timestep\n",
    "policy = {s: np.random.randint(0, 10) for s in range(10000)}\n",
    "Q = np.zeros(env.values.shape)\n",
    "returns = defaultdict(list)\n",
    "deltas = []\n",
    "max_iterations = 2000\n",
    "for x in range(max_iterations):\n",
    "    if x % 100 == 0:\n",
    "        print(x)\n",
    "    # simulate an episode, and get the\n",
    "    # reward-state-action triple\n",
    "    state_returns = simulate(policy)\n",
    "    change = 0.0\n",
    "    for state, action, G in state_returns:\n",
    "        old_q = Q[state][action]\n",
    "        returns[(state, action)].append(G)\n",
    "        # calculates the average returns of being in this state\n",
    "        Q[state][action] = np.mean(returns[(state, action)])\n",
    "        # save the change so we can later on visualize the rate of convergence\n",
    "        change = np.maximum(change, np.abs(Q[state][action] - old_q).astype(np.int))\n",
    "    deltas.append(change)\n",
    "    for s in range(10000):\n",
    "        policy[s] = np.argmax(Q[s, :])"
   ]
  },
  {
   "cell_type": "code",
   "execution_count": null,
   "metadata": {},
   "outputs": [],
   "source": [
    "plt.plot(deltas, label=\"deltas\")\n",
    "plt.legend()\n",
    "plt.title(\"Convergence Plot - Monte Carlo\")\n",
    "plt.tight_layout()"
   ]
  },
  {
   "cell_type": "code",
   "execution_count": null,
   "metadata": {},
   "outputs": [],
   "source": [
    "# once the policy is learnt, we will test it on the actual environment\n",
    "reward = 0\n",
    "for s in range(10000 - 1):\n",
    "    a = np.argmax(Q[s, :])\n",
    "    reward += env.values[s][a]\n",
    "print(reward)"
   ]
  },
  {
   "cell_type": "code",
   "execution_count": null,
   "metadata": {},
   "outputs": [],
   "source": []
  }
 ],
 "metadata": {
  "interpreter": {
   "hash": "c0820f791f01ee903193bd2368737a2812e34ecd4c9a46712bc02fd0a198af90"
  },
  "kernelspec": {
   "display_name": "Python 3.8.3  ('tensorflow_env': venv)",
   "name": "python3"
  },
  "language_info": {
   "codemirror_mode": {
    "name": "ipython",
    "version": 3
   },
   "file_extension": ".py",
   "mimetype": "text/x-python",
   "name": "python",
   "nbconvert_exporter": "python",
   "pygments_lexer": "ipython3",
   "version": "3.8.3"
  }
 },
 "nbformat": 4,
 "nbformat_minor": 2
}