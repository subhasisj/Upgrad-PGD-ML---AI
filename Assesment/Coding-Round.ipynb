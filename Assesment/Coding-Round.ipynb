{
 "cells": [
  {
   "cell_type": "code",
   "execution_count": 9,
   "metadata": {},
   "outputs": [
    {
     "name": "stdout",
     "output_type": "stream",
     "text": [
      "19.9 µs ± 6.02 µs per loop (mean ± std. dev. of 7 runs, 100000 loops each)\n"
     ]
    }
   ],
   "source": [
    "%%timeit\n",
    "import numpy as np\n",
    "list_to_be_sorted = [7, 11, 5, 9, 2, 8, 11, 9, 17, 17, 12, 6, 13, 10, 5]\n",
    "\n",
    "def plain_sorting(list_to_be_sorted):\n",
    "    \"\"\"Sort in Asceding order\n",
    "    Args:\n",
    "        list_to_be_sorted :\n",
    "\n",
    "    # \"\"\"\n",
    "    # sorted_list = []\n",
    "    # size = len(list_to_be_sorted)-1\n",
    "    for i in range(len(list_to_be_sorted)):\n",
    "        temp = None\n",
    "        for j in range(i+1,len(list_to_be_sorted)):\n",
    "            if list_to_be_sorted[i] > list_to_be_sorted[j]:\n",
    "                temp = list_to_be_sorted[i]\n",
    "                list_to_be_sorted[i] = list_to_be_sorted[j]\n",
    "                list_to_be_sorted[j] = temp\n",
    "    \n",
    "    return list_to_be_sorted\n",
    "plain_sorting(list_to_be_sorted)"
   ]
  },
  {
   "cell_type": "code",
   "execution_count": 27,
   "metadata": {},
   "outputs": [
    {
     "name": "stdout",
     "output_type": "stream",
     "text": [
      "\n"
     ]
    },
    {
     "data": {
      "text/plain": [
       "array([[19],\n",
       "       [29],\n",
       "       [26],\n",
       "       [28],\n",
       "       [15],\n",
       "       [11],\n",
       "       [20],\n",
       "       [24],\n",
       "       [12],\n",
       "       [10],\n",
       "       [17],\n",
       "       [25],\n",
       "       [21],\n",
       "       [18],\n",
       "       [22],\n",
       "       [23],\n",
       "       [14],\n",
       "       [13],\n",
       "       [27],\n",
       "       [16]])"
      ]
     },
     "execution_count": 27,
     "metadata": {},
     "output_type": "execute_result"
    }
   ],
   "source": [
    "import random\n",
    "randomlist = random.sample(range(10, 30), 20)\n",
    "\n",
    "print()\n",
    "randomlist = np.reshape(randomlist ,(-1,1))\n",
    "# from sklearn.cluster import KMeans\n",
    "randomlist\n",
    "# km = KMeans\n",
    "# km.fit()"
   ]
  },
  {
   "cell_type": "code",
   "execution_count": 28,
   "metadata": {},
   "outputs": [
    {
     "name": "stdout",
     "output_type": "stream",
     "text": [
      "[2 0 0 0 1 1 2 0 1 1 2 0 2 2 2 0 1 1 0 1]\n"
     ]
    }
   ],
   "source": [
    "from sklearn.cluster import KMeans\n",
    "\n",
    "km = KMeans(n_clusters=3)\n",
    "km.fit(randomlist)\n",
    "\n",
    "clusters = km.predict(randomlist)\n",
    "\n",
    "print(clusters)"
   ]
  },
  {
   "cell_type": "code",
   "execution_count": null,
   "metadata": {},
   "outputs": [],
   "source": []
  }
 ],
 "metadata": {
  "interpreter": {
   "hash": "fc5490c528836e1ddd0af3c74a60760eb1bf71c4669a2afabea412d5c4b2abd1"
  },
  "kernelspec": {
   "display_name": "Python 3.8.6 64-bit ('env': venv)",
   "name": "python3"
  },
  "language_info": {
   "codemirror_mode": {
    "name": "ipython",
    "version": 3
   },
   "file_extension": ".py",
   "mimetype": "text/x-python",
   "name": "python",
   "nbconvert_exporter": "python",
   "pygments_lexer": "ipython3",
   "version": "3.8.6"
  },
  "orig_nbformat": 4
 },
 "nbformat": 4,
 "nbformat_minor": 2
}
