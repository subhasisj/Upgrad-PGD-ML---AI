{
 "cells": [
  {
   "cell_type": "code",
   "execution_count": 3,
   "metadata": {},
   "outputs": [
    {
     "data": {
      "text/plain": [
       "[['How', 'are'], ['are', 'you'], ['you', 'doing'], ['doing', 'man']]"
      ]
     },
     "execution_count": 3,
     "metadata": {},
     "output_type": "execute_result"
    }
   ],
   "source": [
    "def ngrams_func(text,ngrams):\n",
    "\n",
    "    words = text.split()\n",
    "    ngrams = [words[i:i+ngrams] for i in range(len(words)-ngrams +1) ]\n",
    "    return ngrams\n",
    "\n",
    "\n",
    "ngrams_func(\"How are you doing man\", 2)\n"
   ]
  },
  {
   "cell_type": "code",
   "execution_count": null,
   "metadata": {},
   "outputs": [],
   "source": []
  },
  {
   "cell_type": "markdown",
   "metadata": {},
   "source": [
    "1. Ask details for all columns\n",
    "2. NaN Values , missing values \n",
    "    df.isna().sum() --> 2% - 80%\n",
    "    Trend of missing values / patterns\n",
    "    Intended or not\n",
    "3. Deal with NaN: \n",
    "    Delete the NaN columsn > 50%\n",
    "    Impute\n",
    "        mean / median -- no outliers\n",
    "        outliers -> mean will not be good candiate\n",
    "        Impute with fixed value   \n",
    "        KNN Imputer \n",
    "        Model to predict NaN values\n",
    "4. Cleaning Percentages 20% , 30% --> 20, 30\n",
    "5. Scaling / Normalization \n",
    "6. Correlation\n",
    "7. Outlier -  Handle (Zscore, IQR)\n",
    "8. Feature Selection - Lasso /  Wrapper Methods -> RFE (Backward / Forward)\n",
    "9. Dimensionality Reduction - PCA , UMAP\n",
    "10. Try out with Models"
   ]
  }
 ],
 "metadata": {
  "interpreter": {
   "hash": "fc5490c528836e1ddd0af3c74a60760eb1bf71c4669a2afabea412d5c4b2abd1"
  },
  "kernelspec": {
   "display_name": "Python 3.8.6 64-bit ('env': venv)",
   "name": "python3"
  },
  "language_info": {
   "codemirror_mode": {
    "name": "ipython",
    "version": 3
   },
   "file_extension": ".py",
   "mimetype": "text/x-python",
   "name": "python",
   "nbconvert_exporter": "python",
   "pygments_lexer": "ipython3",
   "version": "3.8.6"
  },
  "orig_nbformat": 4
 },
 "nbformat": 4,
 "nbformat_minor": 2
}
