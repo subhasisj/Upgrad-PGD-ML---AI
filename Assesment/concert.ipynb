{
 "cells": [
  {
   "cell_type": "code",
   "execution_count": 13,
   "metadata": {},
   "outputs": [],
   "source": [
    "# Take two strings and retrn true if they are anagrams\n",
    "def check_anagrams(string1, string2):\n",
    "    count_1 = {}\n",
    "    count_2 = {}\n",
    "\n",
    "    if len(string1.split())!=len(string2.split()):\n",
    "        return\n",
    "\n",
    "    for i in range(len(list(string1))):\n",
    "        count_1[string1[i]] = 1 + count_1.get(string1[i], 0)\n",
    "        count_2[string2[i]] = 1 + count_2.get(string2[i], 0)\n",
    "        \n",
    "    if count_1 == count_2:\n",
    "        return True\n",
    "    else:\n",
    "        return False"
   ]
  },
  {
   "cell_type": "code",
   "execution_count": 14,
   "metadata": {},
   "outputs": [
    {
     "name": "stdout",
     "output_type": "stream",
     "text": [
      "True\n"
     ]
    }
   ],
   "source": [
    "print(check_anagrams(\"APPLE\",\"PPALE\"))"
   ]
  },
  {
   "cell_type": "code",
   "execution_count": 1,
   "metadata": {},
   "outputs": [],
   "source": [
    "array = [1, 2, 3, 5, 6, 7, 8]\n",
    "target = 0\n"
   ]
  },
  {
   "cell_type": "code",
   "execution_count": 2,
   "metadata": {},
   "outputs": [
    {
     "data": {
      "text/plain": [
       "(1, -4)"
      ]
     },
     "execution_count": 2,
     "metadata": {},
     "output_type": "execute_result"
    }
   ],
   "source": [
    "def check_sum_close_to_zero(array): #[-1,100,-4,2,-5]\n",
    "    pair = {}\n",
    "    min_dist = 1000000000000000000\n",
    "    curr_min_dist = 0\n",
    "    array = sorted(array) #[-5,-4,-1,2,100]\n",
    "    l =0\n",
    "    for r in range(1,len(array)):\n",
    "        curr_sum = array[r]+array[l]\n",
    "        curr_min_dist = abs(0 - curr_sum)\n",
    "        min_dist = min(min_dist,curr_min_dist)\n",
    "        pair[curr_min_dist] = array[r],array[l]\n",
    "        l += 1\n",
    "        # max_sum = max(max_sum,curr_sum])\n",
    "        # if min_dist > 0:\n",
    "        #     return array[r],array[l]\n",
    "        \n",
    "        # else:\n",
    "        #     l +=1\n",
    "    return pair[min_dist]\n",
    "    # print(pair)\n",
    "    # print(f'Elementrst close to zero:{pair[min_dist]}')\n",
    "array = [100,-4,14,-5,1]\n",
    "check_sum_close_to_zero(array)\n",
    "\n",
    "    \n",
    "\n",
    "\n"
   ]
  },
  {
   "cell_type": "code",
   "execution_count": null,
   "metadata": {},
   "outputs": [],
   "source": []
  }
 ],
 "metadata": {
  "interpreter": {
   "hash": "fc5490c528836e1ddd0af3c74a60760eb1bf71c4669a2afabea412d5c4b2abd1"
  },
  "kernelspec": {
   "display_name": "Python 3.8.6 64-bit ('env': venv)",
   "language": "python",
   "name": "python3"
  },
  "language_info": {
   "codemirror_mode": {
    "name": "ipython",
    "version": 3
   },
   "file_extension": ".py",
   "mimetype": "text/x-python",
   "name": "python",
   "nbconvert_exporter": "python",
   "pygments_lexer": "ipython3",
   "version": "3.8.6"
  },
  "orig_nbformat": 4
 },
 "nbformat": 4,
 "nbformat_minor": 2
}
