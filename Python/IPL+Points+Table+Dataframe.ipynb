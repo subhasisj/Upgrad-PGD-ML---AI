{
 "cells": [
  {
   "cell_type": "code",
   "execution_count": 1,
   "metadata": {},
   "outputs": [],
   "source": [
    "import numpy as np\n",
    "import pandas as pd"
   ]
  },
  {
   "cell_type": "code",
   "execution_count": 2,
   "metadata": {},
   "outputs": [
    {
     "output_type": "execute_result",
     "data": {
      "text/plain": "   Team  Matches  Won  Lost  Tied  N/R  Points    NRR   For  Against\n1   SRH       14    9     5     0    0      18  0.284  2230     2193\n2   CSK       14    9     5     0    0      18  0.253  2488     2433\n3   KKR       14    8     6     0    0      16 -0.070  2363     2425\n4    RR       14    7     7     0    0      14 -0.250  2130     2141\n5    MI       14    6     8     0    0      12  0.317  2380     2282\n6   RCB       14    6     8     0    0      12  0.129  2322     2383\n7  KXIP       14    6     8     0    0      12 -0.502  2210     2259\n8    DD       14    5     9     0    0      10 -0.222  2297     2304",
      "text/html": "<div>\n<style scoped>\n    .dataframe tbody tr th:only-of-type {\n        vertical-align: middle;\n    }\n\n    .dataframe tbody tr th {\n        vertical-align: top;\n    }\n\n    .dataframe thead th {\n        text-align: right;\n    }\n</style>\n<table border=\"1\" class=\"dataframe\">\n  <thead>\n    <tr style=\"text-align: right;\">\n      <th></th>\n      <th>Team</th>\n      <th>Matches</th>\n      <th>Won</th>\n      <th>Lost</th>\n      <th>Tied</th>\n      <th>N/R</th>\n      <th>Points</th>\n      <th>NRR</th>\n      <th>For</th>\n      <th>Against</th>\n    </tr>\n  </thead>\n  <tbody>\n    <tr>\n      <th>1</th>\n      <td>SRH</td>\n      <td>14</td>\n      <td>9</td>\n      <td>5</td>\n      <td>0</td>\n      <td>0</td>\n      <td>18</td>\n      <td>0.284</td>\n      <td>2230</td>\n      <td>2193</td>\n    </tr>\n    <tr>\n      <th>2</th>\n      <td>CSK</td>\n      <td>14</td>\n      <td>9</td>\n      <td>5</td>\n      <td>0</td>\n      <td>0</td>\n      <td>18</td>\n      <td>0.253</td>\n      <td>2488</td>\n      <td>2433</td>\n    </tr>\n    <tr>\n      <th>3</th>\n      <td>KKR</td>\n      <td>14</td>\n      <td>8</td>\n      <td>6</td>\n      <td>0</td>\n      <td>0</td>\n      <td>16</td>\n      <td>-0.070</td>\n      <td>2363</td>\n      <td>2425</td>\n    </tr>\n    <tr>\n      <th>4</th>\n      <td>RR</td>\n      <td>14</td>\n      <td>7</td>\n      <td>7</td>\n      <td>0</td>\n      <td>0</td>\n      <td>14</td>\n      <td>-0.250</td>\n      <td>2130</td>\n      <td>2141</td>\n    </tr>\n    <tr>\n      <th>5</th>\n      <td>MI</td>\n      <td>14</td>\n      <td>6</td>\n      <td>8</td>\n      <td>0</td>\n      <td>0</td>\n      <td>12</td>\n      <td>0.317</td>\n      <td>2380</td>\n      <td>2282</td>\n    </tr>\n    <tr>\n      <th>6</th>\n      <td>RCB</td>\n      <td>14</td>\n      <td>6</td>\n      <td>8</td>\n      <td>0</td>\n      <td>0</td>\n      <td>12</td>\n      <td>0.129</td>\n      <td>2322</td>\n      <td>2383</td>\n    </tr>\n    <tr>\n      <th>7</th>\n      <td>KXIP</td>\n      <td>14</td>\n      <td>6</td>\n      <td>8</td>\n      <td>0</td>\n      <td>0</td>\n      <td>12</td>\n      <td>-0.502</td>\n      <td>2210</td>\n      <td>2259</td>\n    </tr>\n    <tr>\n      <th>8</th>\n      <td>DD</td>\n      <td>14</td>\n      <td>5</td>\n      <td>9</td>\n      <td>0</td>\n      <td>0</td>\n      <td>10</td>\n      <td>-0.222</td>\n      <td>2297</td>\n      <td>2304</td>\n    </tr>\n  </tbody>\n</table>\n</div>"
     },
     "metadata": {},
     "execution_count": 2
    }
   ],
   "source": [
    "ipl18 = pd.DataFrame({'Team': ['SRH', 'CSK', 'KKR', 'RR', 'MI', 'RCB', 'KXIP', 'DD'],\n",
    "                         'Matches': [14, 14, 14, 14, 14, 14, 14, 14],\n",
    "                         'Won': [9, 9, 8, 7, 6, 6, 6, 5],\n",
    "                         'Lost': [5, 5, 6, 7, 8, 8, 8, 9],\n",
    "                         'Tied': [0, 0, 0, 0, 0, 0, 0, 0],\n",
    "                         'N/R': [0, 0, 0, 0, 0, 0, 0, 0],\n",
    "                         'Points': [18, 18, 16, 14, 12, 12, 12, 10],\n",
    "                         'NRR': [0.284, 0.253, -0.070, -0.250, 0.317, 0.129, -0.502, -0.222],\n",
    "                         'For': [2230, 2488, 2363, 2130, 2380, 2322, 2210, 2297],\n",
    "                         'Against': [2193, 2433, 2425, 2141, 2282, 2383, 2259, 2304]},\n",
    "                         index = range(1,9)\n",
    "                    )\n",
    "\n",
    "ipl18"
   ]
  },
  {
   "cell_type": "code",
   "execution_count": 3,
   "metadata": {},
   "outputs": [
    {
     "output_type": "execute_result",
     "data": {
      "text/plain": "   Team  Matches  Won  Lost  Tied  N/R  Points    NRR   For  Against\n1    MI       14   10     4     0    0      20  0.784  2407     2242\n2   RPS       14    9     5     0    0      18  0.176  2180     2165\n3   SRH       14    8     5     0    1      17  0.469  2221     2118\n4   KKR       14    8     6     0    0      16  0.641  2329     2300\n5  KXIP       14    7     7     0    0      14  0.123  2207     2229\n6    DD       14    6     8     0    0      12 -0.512  2219     2255\n7    GL       14    4    10     0    0       8 -0.412  2406     2472\n8   RCB       14    3    10     0    1       7 -1.299  1845     2033",
      "text/html": "<div>\n<style scoped>\n    .dataframe tbody tr th:only-of-type {\n        vertical-align: middle;\n    }\n\n    .dataframe tbody tr th {\n        vertical-align: top;\n    }\n\n    .dataframe thead th {\n        text-align: right;\n    }\n</style>\n<table border=\"1\" class=\"dataframe\">\n  <thead>\n    <tr style=\"text-align: right;\">\n      <th></th>\n      <th>Team</th>\n      <th>Matches</th>\n      <th>Won</th>\n      <th>Lost</th>\n      <th>Tied</th>\n      <th>N/R</th>\n      <th>Points</th>\n      <th>NRR</th>\n      <th>For</th>\n      <th>Against</th>\n    </tr>\n  </thead>\n  <tbody>\n    <tr>\n      <th>1</th>\n      <td>MI</td>\n      <td>14</td>\n      <td>10</td>\n      <td>4</td>\n      <td>0</td>\n      <td>0</td>\n      <td>20</td>\n      <td>0.784</td>\n      <td>2407</td>\n      <td>2242</td>\n    </tr>\n    <tr>\n      <th>2</th>\n      <td>RPS</td>\n      <td>14</td>\n      <td>9</td>\n      <td>5</td>\n      <td>0</td>\n      <td>0</td>\n      <td>18</td>\n      <td>0.176</td>\n      <td>2180</td>\n      <td>2165</td>\n    </tr>\n    <tr>\n      <th>3</th>\n      <td>SRH</td>\n      <td>14</td>\n      <td>8</td>\n      <td>5</td>\n      <td>0</td>\n      <td>1</td>\n      <td>17</td>\n      <td>0.469</td>\n      <td>2221</td>\n      <td>2118</td>\n    </tr>\n    <tr>\n      <th>4</th>\n      <td>KKR</td>\n      <td>14</td>\n      <td>8</td>\n      <td>6</td>\n      <td>0</td>\n      <td>0</td>\n      <td>16</td>\n      <td>0.641</td>\n      <td>2329</td>\n      <td>2300</td>\n    </tr>\n    <tr>\n      <th>5</th>\n      <td>KXIP</td>\n      <td>14</td>\n      <td>7</td>\n      <td>7</td>\n      <td>0</td>\n      <td>0</td>\n      <td>14</td>\n      <td>0.123</td>\n      <td>2207</td>\n      <td>2229</td>\n    </tr>\n    <tr>\n      <th>6</th>\n      <td>DD</td>\n      <td>14</td>\n      <td>6</td>\n      <td>8</td>\n      <td>0</td>\n      <td>0</td>\n      <td>12</td>\n      <td>-0.512</td>\n      <td>2219</td>\n      <td>2255</td>\n    </tr>\n    <tr>\n      <th>7</th>\n      <td>GL</td>\n      <td>14</td>\n      <td>4</td>\n      <td>10</td>\n      <td>0</td>\n      <td>0</td>\n      <td>8</td>\n      <td>-0.412</td>\n      <td>2406</td>\n      <td>2472</td>\n    </tr>\n    <tr>\n      <th>8</th>\n      <td>RCB</td>\n      <td>14</td>\n      <td>3</td>\n      <td>10</td>\n      <td>0</td>\n      <td>1</td>\n      <td>7</td>\n      <td>-1.299</td>\n      <td>1845</td>\n      <td>2033</td>\n    </tr>\n  </tbody>\n</table>\n</div>"
     },
     "metadata": {},
     "execution_count": 3
    }
   ],
   "source": [
    "ipl17 = pd.DataFrame({'Team': ['MI', 'RPS', 'SRH', 'KKR', 'KXIP', 'DD', 'GL', 'RCB'],\n",
    "                         'Matches': [14, 14, 14, 14, 14, 14, 14, 14],\n",
    "                         'Won': [10, 9, 8, 8, 7, 6, 4, 3],\n",
    "                         'Lost': [4, 5, 5, 6, 7, 8, 10, 10],\n",
    "                         'Tied': [0, 0, 0, 0, 0, 0, 0, 0],\n",
    "                         'N/R': [0, 0, 1, 0, 0, 0, 0, 1],\n",
    "                         'Points': [20, 18, 17, 16, 14, 12, 8, 7],\n",
    "                         'NRR': [0.784, 0.176, 0.469, 0.641, 0.123, -0.512, -0.412, -1.299],\n",
    "                         'For': [2407, 2180, 2221, 2329, 2207, 2219, 2406, 1845],\n",
    "                         'Against': [2242, 2165, 2118, 2300, 2229, 2255, 2472, 2033]},\n",
    "                         index = range(1,9)\n",
    "                    )\n",
    "\n",
    "ipl17"
   ]
  },
  {
   "cell_type": "code",
   "execution_count": 11,
   "metadata": {},
   "outputs": [
    {
     "output_type": "execute_result",
     "data": {
      "text/plain": "  Team  Points\n1  SRH      18\n2  CSK      18\n3  KKR      16\n4   RR      14",
      "text/html": "<div>\n<style scoped>\n    .dataframe tbody tr th:only-of-type {\n        vertical-align: middle;\n    }\n\n    .dataframe tbody tr th {\n        vertical-align: top;\n    }\n\n    .dataframe thead th {\n        text-align: right;\n    }\n</style>\n<table border=\"1\" class=\"dataframe\">\n  <thead>\n    <tr style=\"text-align: right;\">\n      <th></th>\n      <th>Team</th>\n      <th>Points</th>\n    </tr>\n  </thead>\n  <tbody>\n    <tr>\n      <th>1</th>\n      <td>SRH</td>\n      <td>18</td>\n    </tr>\n    <tr>\n      <th>2</th>\n      <td>CSK</td>\n      <td>18</td>\n    </tr>\n    <tr>\n      <th>3</th>\n      <td>KKR</td>\n      <td>16</td>\n    </tr>\n    <tr>\n      <th>4</th>\n      <td>RR</td>\n      <td>14</td>\n    </tr>\n  </tbody>\n</table>\n</div>"
     },
     "metadata": {},
     "execution_count": 11
    }
   ],
   "source": [
    "ipl18.loc[1:4, ['Team', 'Points']]"
   ]
  },
  {
   "cell_type": "code",
   "execution_count": 12,
   "metadata": {},
   "outputs": [
    {
     "output_type": "execute_result",
     "data": {
      "text/plain": "  Team  Points\n1  SRH      18\n2  CSK      18\n3  KKR      16\n4   RR      14",
      "text/html": "<div>\n<style scoped>\n    .dataframe tbody tr th:only-of-type {\n        vertical-align: middle;\n    }\n\n    .dataframe tbody tr th {\n        vertical-align: top;\n    }\n\n    .dataframe thead th {\n        text-align: right;\n    }\n</style>\n<table border=\"1\" class=\"dataframe\">\n  <thead>\n    <tr style=\"text-align: right;\">\n      <th></th>\n      <th>Team</th>\n      <th>Points</th>\n    </tr>\n  </thead>\n  <tbody>\n    <tr>\n      <th>1</th>\n      <td>SRH</td>\n      <td>18</td>\n    </tr>\n    <tr>\n      <th>2</th>\n      <td>CSK</td>\n      <td>18</td>\n    </tr>\n    <tr>\n      <th>3</th>\n      <td>KKR</td>\n      <td>16</td>\n    </tr>\n    <tr>\n      <th>4</th>\n      <td>RR</td>\n      <td>14</td>\n    </tr>\n  </tbody>\n</table>\n</div>"
     },
     "metadata": {},
     "execution_count": 12
    }
   ],
   "source": [
    "ipl18.iloc[0:4, [0, 6]]"
   ]
  },
  {
   "cell_type": "code",
   "execution_count": 13,
   "metadata": {},
   "outputs": [
    {
     "output_type": "execute_result",
     "data": {
      "text/plain": "   Team  Matches  Won  Lost  Tied  N/R  Points    NRR   For  Against\n1   SRH       14    9     5     0    0      18  0.284  2230     2193\n2   CSK       14    9     5     0    0      18  0.253  2488     2433\n3   KKR       14    8     6     0    0      16 -0.070  2363     2425\n4    RR       14    7     7     0    0      14 -0.250  2130     2141\n5    MI       14    6     8     0    0      12  0.317  2380     2282\n6   RCB       14    6     8     0    0      12  0.129  2322     2383\n7  KXIP       14    6     8     0    0      12 -0.502  2210     2259\n8    DD       14    5     9     0    0      10 -0.222  2297     2304",
      "text/html": "<div>\n<style scoped>\n    .dataframe tbody tr th:only-of-type {\n        vertical-align: middle;\n    }\n\n    .dataframe tbody tr th {\n        vertical-align: top;\n    }\n\n    .dataframe thead th {\n        text-align: right;\n    }\n</style>\n<table border=\"1\" class=\"dataframe\">\n  <thead>\n    <tr style=\"text-align: right;\">\n      <th></th>\n      <th>Team</th>\n      <th>Matches</th>\n      <th>Won</th>\n      <th>Lost</th>\n      <th>Tied</th>\n      <th>N/R</th>\n      <th>Points</th>\n      <th>NRR</th>\n      <th>For</th>\n      <th>Against</th>\n    </tr>\n  </thead>\n  <tbody>\n    <tr>\n      <th>1</th>\n      <td>SRH</td>\n      <td>14</td>\n      <td>9</td>\n      <td>5</td>\n      <td>0</td>\n      <td>0</td>\n      <td>18</td>\n      <td>0.284</td>\n      <td>2230</td>\n      <td>2193</td>\n    </tr>\n    <tr>\n      <th>2</th>\n      <td>CSK</td>\n      <td>14</td>\n      <td>9</td>\n      <td>5</td>\n      <td>0</td>\n      <td>0</td>\n      <td>18</td>\n      <td>0.253</td>\n      <td>2488</td>\n      <td>2433</td>\n    </tr>\n    <tr>\n      <th>3</th>\n      <td>KKR</td>\n      <td>14</td>\n      <td>8</td>\n      <td>6</td>\n      <td>0</td>\n      <td>0</td>\n      <td>16</td>\n      <td>-0.070</td>\n      <td>2363</td>\n      <td>2425</td>\n    </tr>\n    <tr>\n      <th>4</th>\n      <td>RR</td>\n      <td>14</td>\n      <td>7</td>\n      <td>7</td>\n      <td>0</td>\n      <td>0</td>\n      <td>14</td>\n      <td>-0.250</td>\n      <td>2130</td>\n      <td>2141</td>\n    </tr>\n    <tr>\n      <th>5</th>\n      <td>MI</td>\n      <td>14</td>\n      <td>6</td>\n      <td>8</td>\n      <td>0</td>\n      <td>0</td>\n      <td>12</td>\n      <td>0.317</td>\n      <td>2380</td>\n      <td>2282</td>\n    </tr>\n    <tr>\n      <th>6</th>\n      <td>RCB</td>\n      <td>14</td>\n      <td>6</td>\n      <td>8</td>\n      <td>0</td>\n      <td>0</td>\n      <td>12</td>\n      <td>0.129</td>\n      <td>2322</td>\n      <td>2383</td>\n    </tr>\n    <tr>\n      <th>7</th>\n      <td>KXIP</td>\n      <td>14</td>\n      <td>6</td>\n      <td>8</td>\n      <td>0</td>\n      <td>0</td>\n      <td>12</td>\n      <td>-0.502</td>\n      <td>2210</td>\n      <td>2259</td>\n    </tr>\n    <tr>\n      <th>8</th>\n      <td>DD</td>\n      <td>14</td>\n      <td>5</td>\n      <td>9</td>\n      <td>0</td>\n      <td>0</td>\n      <td>10</td>\n      <td>-0.222</td>\n      <td>2297</td>\n      <td>2304</td>\n    </tr>\n  </tbody>\n</table>\n</div>"
     },
     "metadata": {},
     "execution_count": 13
    }
   ],
   "source": [
    "ipl18"
   ]
  },
  {
   "cell_type": "code",
   "execution_count": 38,
   "metadata": {},
   "outputs": [],
   "source": [
    "indices = ipl18.loc[(ipl18.NRR > 0) & (ipl18.For > ipl18.Against),:].index"
   ]
  },
  {
   "cell_type": "code",
   "execution_count": 39,
   "metadata": {},
   "outputs": [
    {
     "output_type": "execute_result",
     "data": {
      "text/plain": "  Team  Matches  Won  Lost  Tied  N/R  Points    NRR   For  Against\n1  SRH       14    9     5     0    0      18  0.284  2230     2193\n2  CSK       14    9     5     0    0      18  0.253  2488     2433\n5   MI       14    6     8     0    0      12  0.317  2380     2282",
      "text/html": "<div>\n<style scoped>\n    .dataframe tbody tr th:only-of-type {\n        vertical-align: middle;\n    }\n\n    .dataframe tbody tr th {\n        vertical-align: top;\n    }\n\n    .dataframe thead th {\n        text-align: right;\n    }\n</style>\n<table border=\"1\" class=\"dataframe\">\n  <thead>\n    <tr style=\"text-align: right;\">\n      <th></th>\n      <th>Team</th>\n      <th>Matches</th>\n      <th>Won</th>\n      <th>Lost</th>\n      <th>Tied</th>\n      <th>N/R</th>\n      <th>Points</th>\n      <th>NRR</th>\n      <th>For</th>\n      <th>Against</th>\n    </tr>\n  </thead>\n  <tbody>\n    <tr>\n      <th>1</th>\n      <td>SRH</td>\n      <td>14</td>\n      <td>9</td>\n      <td>5</td>\n      <td>0</td>\n      <td>0</td>\n      <td>18</td>\n      <td>0.284</td>\n      <td>2230</td>\n      <td>2193</td>\n    </tr>\n    <tr>\n      <th>2</th>\n      <td>CSK</td>\n      <td>14</td>\n      <td>9</td>\n      <td>5</td>\n      <td>0</td>\n      <td>0</td>\n      <td>18</td>\n      <td>0.253</td>\n      <td>2488</td>\n      <td>2433</td>\n    </tr>\n    <tr>\n      <th>5</th>\n      <td>MI</td>\n      <td>14</td>\n      <td>6</td>\n      <td>8</td>\n      <td>0</td>\n      <td>0</td>\n      <td>12</td>\n      <td>0.317</td>\n      <td>2380</td>\n      <td>2282</td>\n    </tr>\n  </tbody>\n</table>\n</div>"
     },
     "metadata": {},
     "execution_count": 39
    }
   ],
   "source": [
    "ipl18.loc[indices,:]"
   ]
  },
  {
   "cell_type": "code",
   "execution_count": 37,
   "metadata": {},
   "outputs": [
    {
     "output_type": "execute_result",
     "data": {
      "text/plain": "  Team  Matches  Won  Lost  Tied  N/R  Points    NRR   For  Against\n1  SRH       14    9     5     0    0      18  0.284  2230     2193\n2  CSK       14    9     5     0    0      18  0.253  2488     2433\n5   MI       14    6     8     0    0      12  0.317  2380     2282",
      "text/html": "<div>\n<style scoped>\n    .dataframe tbody tr th:only-of-type {\n        vertical-align: middle;\n    }\n\n    .dataframe tbody tr th {\n        vertical-align: top;\n    }\n\n    .dataframe thead th {\n        text-align: right;\n    }\n</style>\n<table border=\"1\" class=\"dataframe\">\n  <thead>\n    <tr style=\"text-align: right;\">\n      <th></th>\n      <th>Team</th>\n      <th>Matches</th>\n      <th>Won</th>\n      <th>Lost</th>\n      <th>Tied</th>\n      <th>N/R</th>\n      <th>Points</th>\n      <th>NRR</th>\n      <th>For</th>\n      <th>Against</th>\n    </tr>\n  </thead>\n  <tbody>\n    <tr>\n      <th>1</th>\n      <td>SRH</td>\n      <td>14</td>\n      <td>9</td>\n      <td>5</td>\n      <td>0</td>\n      <td>0</td>\n      <td>18</td>\n      <td>0.284</td>\n      <td>2230</td>\n      <td>2193</td>\n    </tr>\n    <tr>\n      <th>2</th>\n      <td>CSK</td>\n      <td>14</td>\n      <td>9</td>\n      <td>5</td>\n      <td>0</td>\n      <td>0</td>\n      <td>18</td>\n      <td>0.253</td>\n      <td>2488</td>\n      <td>2433</td>\n    </tr>\n    <tr>\n      <th>5</th>\n      <td>MI</td>\n      <td>14</td>\n      <td>6</td>\n      <td>8</td>\n      <td>0</td>\n      <td>0</td>\n      <td>12</td>\n      <td>0.317</td>\n      <td>2380</td>\n      <td>2282</td>\n    </tr>\n  </tbody>\n</table>\n</div>"
     },
     "metadata": {},
     "execution_count": 37
    }
   ],
   "source": [
    "ipl18.loc[(ipl18.NRR > 0) & (ipl18.For > ipl18.Against), ]"
   ]
  },
  {
   "cell_type": "code",
   "execution_count": 40,
   "metadata": {},
   "outputs": [],
   "source": [
    "all_teams = ipl17.append(ipl18)"
   ]
  },
  {
   "cell_type": "code",
   "execution_count": 42,
   "metadata": {},
   "outputs": [],
   "source": [
    "all_teams_agg = all_teams.groupby('Team').sum()"
   ]
  },
  {
   "cell_type": "code",
   "execution_count": 44,
   "metadata": {},
   "outputs": [],
   "source": [
    "all_teams_agg = all_teams_agg.loc[all_teams_agg.Points > 25,:]"
   ]
  },
  {
   "cell_type": "code",
   "execution_count": 47,
   "metadata": {},
   "outputs": [],
   "source": [
    "all_teams_agg['win_pct'] = all_teams_agg.Won / all_teams_agg.Matches"
   ]
  },
  {
   "cell_type": "code",
   "execution_count": 48,
   "metadata": {},
   "outputs": [
    {
     "output_type": "execute_result",
     "data": {
      "text/plain": "      Matches  Won  Lost  Tied  N/R  Points    NRR   For  Against   win_pct\nTeam                                                                       \nKKR        28   16    12     0    0      32  0.571  4692     4725  0.571429\nKXIP       28   13    15     0    0      26 -0.379  4417     4488  0.464286\nMI         28   16    12     0    0      32  1.101  4787     4524  0.571429\nSRH        28   17    10     0    1      35  0.753  4451     4311  0.607143",
      "text/html": "<div>\n<style scoped>\n    .dataframe tbody tr th:only-of-type {\n        vertical-align: middle;\n    }\n\n    .dataframe tbody tr th {\n        vertical-align: top;\n    }\n\n    .dataframe thead th {\n        text-align: right;\n    }\n</style>\n<table border=\"1\" class=\"dataframe\">\n  <thead>\n    <tr style=\"text-align: right;\">\n      <th></th>\n      <th>Matches</th>\n      <th>Won</th>\n      <th>Lost</th>\n      <th>Tied</th>\n      <th>N/R</th>\n      <th>Points</th>\n      <th>NRR</th>\n      <th>For</th>\n      <th>Against</th>\n      <th>win_pct</th>\n    </tr>\n    <tr>\n      <th>Team</th>\n      <th></th>\n      <th></th>\n      <th></th>\n      <th></th>\n      <th></th>\n      <th></th>\n      <th></th>\n      <th></th>\n      <th></th>\n      <th></th>\n    </tr>\n  </thead>\n  <tbody>\n    <tr>\n      <th>KKR</th>\n      <td>28</td>\n      <td>16</td>\n      <td>12</td>\n      <td>0</td>\n      <td>0</td>\n      <td>32</td>\n      <td>0.571</td>\n      <td>4692</td>\n      <td>4725</td>\n      <td>0.571429</td>\n    </tr>\n    <tr>\n      <th>KXIP</th>\n      <td>28</td>\n      <td>13</td>\n      <td>15</td>\n      <td>0</td>\n      <td>0</td>\n      <td>26</td>\n      <td>-0.379</td>\n      <td>4417</td>\n      <td>4488</td>\n      <td>0.464286</td>\n    </tr>\n    <tr>\n      <th>MI</th>\n      <td>28</td>\n      <td>16</td>\n      <td>12</td>\n      <td>0</td>\n      <td>0</td>\n      <td>32</td>\n      <td>1.101</td>\n      <td>4787</td>\n      <td>4524</td>\n      <td>0.571429</td>\n    </tr>\n    <tr>\n      <th>SRH</th>\n      <td>28</td>\n      <td>17</td>\n      <td>10</td>\n      <td>0</td>\n      <td>1</td>\n      <td>35</td>\n      <td>0.753</td>\n      <td>4451</td>\n      <td>4311</td>\n      <td>0.607143</td>\n    </tr>\n  </tbody>\n</table>\n</div>"
     },
     "metadata": {},
     "execution_count": 48
    }
   ],
   "source": [
    "all_teams_agg"
   ]
  },
  {
   "cell_type": "code",
   "execution_count": null,
   "metadata": {},
   "outputs": [],
   "source": []
  }
 ],
 "metadata": {
  "kernelspec": {
   "display_name": "Python 3",
   "language": "python",
   "name": "python3"
  },
  "language_info": {
   "codemirror_mode": {
    "name": "ipython",
    "version": 3
   },
   "file_extension": ".py",
   "mimetype": "text/x-python",
   "name": "python",
   "nbconvert_exporter": "python",
   "pygments_lexer": "ipython3",
   "version": "3.8.3-final"
  }
 },
 "nbformat": 4,
 "nbformat_minor": 2
}