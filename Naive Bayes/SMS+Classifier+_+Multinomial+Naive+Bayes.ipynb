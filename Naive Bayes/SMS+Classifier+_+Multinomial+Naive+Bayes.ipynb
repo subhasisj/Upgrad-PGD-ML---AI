{
 "cells": [
  {
   "cell_type": "markdown",
   "metadata": {},
   "source": [
    "## SMS Spam Classifier: Multinomial Naive Bayes\n",
    "\n",
    "The notebook is divided into the following sections:\n",
    "1. Importing and preprocessing data\n",
    "2. Building the model: Multinomial Naive Bayes\n",
    "    - Model building \n",
    "    - Model evaluation"
   ]
  },
  {
   "cell_type": "markdown",
   "metadata": {},
   "source": [
    "### 1. Importing and Preprocessing Data"
   ]
  },
  {
   "cell_type": "code",
   "execution_count": 1,
   "metadata": {
    "scrolled": true
   },
   "outputs": [
    {
     "output_type": "execute_result",
     "data": {
      "text/plain": [
       "  Class                                                sms\n",
       "0   ham  Go until jurong point, crazy.. Available only ...\n",
       "1   ham                      Ok lar... Joking wif u oni...\n",
       "2  spam  Free entry in 2 a wkly comp to win FA Cup fina...\n",
       "3   ham  U dun say so early hor... U c already then say...\n",
       "4   ham  Nah I don't think he goes to usf, he lives aro..."
      ],
      "text/html": "<div>\n<style scoped>\n    .dataframe tbody tr th:only-of-type {\n        vertical-align: middle;\n    }\n\n    .dataframe tbody tr th {\n        vertical-align: top;\n    }\n\n    .dataframe thead th {\n        text-align: right;\n    }\n</style>\n<table border=\"1\" class=\"dataframe\">\n  <thead>\n    <tr style=\"text-align: right;\">\n      <th></th>\n      <th>Class</th>\n      <th>sms</th>\n    </tr>\n  </thead>\n  <tbody>\n    <tr>\n      <th>0</th>\n      <td>ham</td>\n      <td>Go until jurong point, crazy.. Available only ...</td>\n    </tr>\n    <tr>\n      <th>1</th>\n      <td>ham</td>\n      <td>Ok lar... Joking wif u oni...</td>\n    </tr>\n    <tr>\n      <th>2</th>\n      <td>spam</td>\n      <td>Free entry in 2 a wkly comp to win FA Cup fina...</td>\n    </tr>\n    <tr>\n      <th>3</th>\n      <td>ham</td>\n      <td>U dun say so early hor... U c already then say...</td>\n    </tr>\n    <tr>\n      <th>4</th>\n      <td>ham</td>\n      <td>Nah I don't think he goes to usf, he lives aro...</td>\n    </tr>\n  </tbody>\n</table>\n</div>"
     },
     "metadata": {},
     "execution_count": 1
    }
   ],
   "source": [
    "import pandas as pd\n",
    "\n",
    "# reading the training data\n",
    "docs = pd.read_table('SMSSpamCollection', header=None, names=['Class', 'sms'])\n",
    "docs.head()"
   ]
  },
  {
   "cell_type": "code",
   "execution_count": 2,
   "metadata": {},
   "outputs": [
    {
     "output_type": "execute_result",
     "data": {
      "text/plain": [
       "5572"
      ]
     },
     "metadata": {},
     "execution_count": 2
    }
   ],
   "source": [
    "# number of SMSes / documents\n",
    "len(docs)"
   ]
  },
  {
   "cell_type": "code",
   "execution_count": 3,
   "metadata": {},
   "outputs": [
    {
     "output_type": "execute_result",
     "data": {
      "text/plain": [
       "ham     4825\n",
       "spam     747\n",
       "Name: Class, dtype: int64"
      ]
     },
     "metadata": {},
     "execution_count": 3
    }
   ],
   "source": [
    "# counting spam and ham instances\n",
    "ham_spam = docs.Class.value_counts()\n",
    "ham_spam"
   ]
  },
  {
   "cell_type": "code",
   "execution_count": 5,
   "metadata": {},
   "outputs": [
    {
     "output_type": "execute_result",
     "data": {
      "text/plain": [
       "ham     86.593683\n",
       "spam    13.406317\n",
       "Name: Class, dtype: float64"
      ]
     },
     "metadata": {},
     "execution_count": 5
    }
   ],
   "source": [
    "# counting spam and ham instances\n",
    "ham_spam = docs.Class.value_counts(normalize=True)*100\n",
    "ham_spam"
   ]
  },
  {
   "cell_type": "code",
   "execution_count": 6,
   "metadata": {},
   "outputs": [
    {
     "output_type": "stream",
     "name": "stdout",
     "text": [
      "spam rate is about 13.0%\n"
     ]
    }
   ],
   "source": [
    "print(\"spam rate is about {0}%\".format(\n",
    "    round((ham_spam[1]/float(ham_spam[0]+ham_spam[1]))*100), 2))"
   ]
  },
  {
   "cell_type": "code",
   "execution_count": 7,
   "metadata": {},
   "outputs": [],
   "source": [
    "# mapping labels to 0 and 1\n",
    "docs['label'] = docs.Class.map({'ham':0, 'spam':1})"
   ]
  },
  {
   "cell_type": "code",
   "execution_count": 8,
   "metadata": {
    "scrolled": true
   },
   "outputs": [
    {
     "output_type": "execute_result",
     "data": {
      "text/plain": [
       "  Class                                                sms  label\n",
       "0   ham  Go until jurong point, crazy.. Available only ...      0\n",
       "1   ham                      Ok lar... Joking wif u oni...      0\n",
       "2  spam  Free entry in 2 a wkly comp to win FA Cup fina...      1\n",
       "3   ham  U dun say so early hor... U c already then say...      0\n",
       "4   ham  Nah I don't think he goes to usf, he lives aro...      0"
      ],
      "text/html": "<div>\n<style scoped>\n    .dataframe tbody tr th:only-of-type {\n        vertical-align: middle;\n    }\n\n    .dataframe tbody tr th {\n        vertical-align: top;\n    }\n\n    .dataframe thead th {\n        text-align: right;\n    }\n</style>\n<table border=\"1\" class=\"dataframe\">\n  <thead>\n    <tr style=\"text-align: right;\">\n      <th></th>\n      <th>Class</th>\n      <th>sms</th>\n      <th>label</th>\n    </tr>\n  </thead>\n  <tbody>\n    <tr>\n      <th>0</th>\n      <td>ham</td>\n      <td>Go until jurong point, crazy.. Available only ...</td>\n      <td>0</td>\n    </tr>\n    <tr>\n      <th>1</th>\n      <td>ham</td>\n      <td>Ok lar... Joking wif u oni...</td>\n      <td>0</td>\n    </tr>\n    <tr>\n      <th>2</th>\n      <td>spam</td>\n      <td>Free entry in 2 a wkly comp to win FA Cup fina...</td>\n      <td>1</td>\n    </tr>\n    <tr>\n      <th>3</th>\n      <td>ham</td>\n      <td>U dun say so early hor... U c already then say...</td>\n      <td>0</td>\n    </tr>\n    <tr>\n      <th>4</th>\n      <td>ham</td>\n      <td>Nah I don't think he goes to usf, he lives aro...</td>\n      <td>0</td>\n    </tr>\n  </tbody>\n</table>\n</div>"
     },
     "metadata": {},
     "execution_count": 8
    }
   ],
   "source": [
    "docs.head()"
   ]
  },
  {
   "cell_type": "code",
   "execution_count": 9,
   "metadata": {},
   "outputs": [
    {
     "output_type": "execute_result",
     "data": {
      "text/plain": [
       "                                                 sms  label\n",
       "0  Go until jurong point, crazy.. Available only ...      0\n",
       "1                      Ok lar... Joking wif u oni...      0\n",
       "2  Free entry in 2 a wkly comp to win FA Cup fina...      1\n",
       "3  U dun say so early hor... U c already then say...      0\n",
       "4  Nah I don't think he goes to usf, he lives aro...      0"
      ],
      "text/html": "<div>\n<style scoped>\n    .dataframe tbody tr th:only-of-type {\n        vertical-align: middle;\n    }\n\n    .dataframe tbody tr th {\n        vertical-align: top;\n    }\n\n    .dataframe thead th {\n        text-align: right;\n    }\n</style>\n<table border=\"1\" class=\"dataframe\">\n  <thead>\n    <tr style=\"text-align: right;\">\n      <th></th>\n      <th>sms</th>\n      <th>label</th>\n    </tr>\n  </thead>\n  <tbody>\n    <tr>\n      <th>0</th>\n      <td>Go until jurong point, crazy.. Available only ...</td>\n      <td>0</td>\n    </tr>\n    <tr>\n      <th>1</th>\n      <td>Ok lar... Joking wif u oni...</td>\n      <td>0</td>\n    </tr>\n    <tr>\n      <th>2</th>\n      <td>Free entry in 2 a wkly comp to win FA Cup fina...</td>\n      <td>1</td>\n    </tr>\n    <tr>\n      <th>3</th>\n      <td>U dun say so early hor... U c already then say...</td>\n      <td>0</td>\n    </tr>\n    <tr>\n      <th>4</th>\n      <td>Nah I don't think he goes to usf, he lives aro...</td>\n      <td>0</td>\n    </tr>\n  </tbody>\n</table>\n</div>"
     },
     "metadata": {},
     "execution_count": 9
    }
   ],
   "source": [
    "# we can now drop the column 'Class'\n",
    "docs = docs.drop('Class', axis=1)\n",
    "docs.head()"
   ]
  },
  {
   "cell_type": "code",
   "execution_count": 10,
   "metadata": {},
   "outputs": [
    {
     "output_type": "stream",
     "name": "stdout",
     "text": [
      "(5572,)\n(5572,)\n"
     ]
    }
   ],
   "source": [
    "# convert to X and y\n",
    "X = docs.sms\n",
    "y = docs.label\n",
    "print(X.shape)\n",
    "print(y.shape)"
   ]
  },
  {
   "cell_type": "code",
   "execution_count": 11,
   "metadata": {},
   "outputs": [],
   "source": [
    "# splitting into test and train\n",
    "from sklearn.model_selection  import train_test_split\n",
    "X_train, X_test, y_train, y_test = train_test_split(X, y, random_state=1)"
   ]
  },
  {
   "cell_type": "code",
   "execution_count": 12,
   "metadata": {},
   "outputs": [
    {
     "output_type": "execute_result",
     "data": {
      "text/plain": [
       "710     4mths half price Orange line rental & latest c...\n",
       "3740                           Did you stitch his trouser\n",
       "2711    Hope you enjoyed your new content. text stop t...\n",
       "3155    Not heard from U4 a while. Call 4 rude chat pr...\n",
       "3748    Ü neva tell me how i noe... I'm not at home in...\n",
       "Name: sms, dtype: object"
      ]
     },
     "metadata": {},
     "execution_count": 12
    }
   ],
   "source": [
    "X_train.head()"
   ]
  },
  {
   "cell_type": "code",
   "execution_count": 13,
   "metadata": {},
   "outputs": [
    {
     "output_type": "execute_result",
     "data": {
      "text/plain": [
       "710     1\n",
       "3740    0\n",
       "2711    1\n",
       "3155    1\n",
       "3748    0\n",
       "Name: label, dtype: int64"
      ]
     },
     "metadata": {},
     "execution_count": 13
    }
   ],
   "source": [
    "y_train.head()"
   ]
  },
  {
   "cell_type": "code",
   "execution_count": 14,
   "metadata": {},
   "outputs": [],
   "source": [
    "# vectorizing the sentences; removing stop words\n",
    "from sklearn.feature_extraction.text import CountVectorizer\n",
    "vect = CountVectorizer(stop_words='english')"
   ]
  },
  {
   "cell_type": "code",
   "execution_count": 15,
   "metadata": {
    "scrolled": true
   },
   "outputs": [
    {
     "output_type": "execute_result",
     "data": {
      "text/plain": [
       "CountVectorizer(stop_words='english')"
      ]
     },
     "metadata": {},
     "execution_count": 15
    }
   ],
   "source": [
    "vect.fit(X_train)"
   ]
  },
  {
   "cell_type": "code",
   "execution_count": 16,
   "metadata": {},
   "outputs": [
    {
     "output_type": "execute_result",
     "data": {
      "text/plain": [
       "{'4mths': 509,\n",
       " 'half': 3089,\n",
       " 'price': 5027,\n",
       " 'orange': 4626,\n",
       " 'line': 3852,\n",
       " 'rental': 5310,\n",
       " 'latest': 3763,\n",
       " 'camera': 1527,\n",
       " 'phones': 4822,\n",
       " 'free': 2780,\n",
       " 'phone': 4818,\n",
       " '11mths': 264,\n",
       " 'mobilesdirect': 4248,\n",
       " '08000938767': 50,\n",
       " 'update': 6673,\n",
       " 'or2stoptxt': 4624,\n",
       " 'cs': 1971,\n",
       " 'did': 2169,\n",
       " 'stitch': 6028,\n",
       " 'trouser': 6545,\n",
       " 'hope': 3260,\n",
       " 'enjoyed': 2436,\n",
       " 'new': 4442,\n",
       " 'content': 1867,\n",
       " 'text': 6321,\n",
       " 'stop': 6038,\n",
       " '61610': 563,\n",
       " 'unsubscribe': 6665,\n",
       " 'help': 3180,\n",
       " '08712400602450p': 98,\n",
       " 'provided': 5089,\n",
       " 'tones2you': 6473,\n",
       " 'uk': 6614,\n",
       " 'heard': 3159,\n",
       " 'u4': 6608,\n",
       " 'rude': 5443,\n",
       " 'chat': 1643,\n",
       " 'private': 5040,\n",
       " '01223585334': 5,\n",
       " 'cum': 1989,\n",
       " 'wan': 6852,\n",
       " '2c': 374,\n",
       " 'pics': 4837,\n",
       " 'gettin': 2913,\n",
       " 'shagged': 5628,\n",
       " 'pix': 4858,\n",
       " '8552': 660,\n",
       " '2end': 378,\n",
       " 'send': 5590,\n",
       " 'sam': 5487,\n",
       " 'xxx': 7127,\n",
       " 'neva': 4438,\n",
       " 'tell': 6289,\n",
       " 'noe': 4477,\n",
       " 'home': 3244,\n",
       " 'da': 2015,\n",
       " 'aft': 826,\n",
       " 'wat': 6876,\n",
       " 'wiskey': 7012,\n",
       " 'brandy': 1389,\n",
       " 'rum': 5450,\n",
       " 'gin': 2927,\n",
       " 'beer': 1209,\n",
       " 'vodka': 6798,\n",
       " 'scotch': 5535,\n",
       " 'shampain': 5637,\n",
       " 'wine': 6993,\n",
       " 'kudi': 3715,\n",
       " 'yarasu': 7142,\n",
       " 'dhina': 2156,\n",
       " 'vaazhthukkal': 6720,\n",
       " 'seeking': 5573,\n",
       " 'lady': 3732,\n",
       " 'street': 6056,\n",
       " 'freak': 2776,\n",
       " 'sheets': 5649,\n",
       " 'lol': 3910,\n",
       " 'drunkard': 2327,\n",
       " 'just': 3623,\n",
       " 'doing': 2259,\n",
       " 'hair': 3085,\n",
       " 'moment': 4265,\n",
       " 'yeah': 7149,\n",
       " 'tonight': 6475,\n",
       " 'wats': 6887,\n",
       " 'plan': 4867,\n",
       " 'turning': 6579,\n",
       " 'moms': 4267,\n",
       " 'telling': 6290,\n",
       " 'cancer': 1535,\n",
       " 'sister': 5745,\n",
       " 'won': 7041,\n",
       " 'calling': 1519,\n",
       " 'hurts': 3323,\n",
       " 'talk': 6234,\n",
       " 'love': 3953,\n",
       " 'coming': 1800,\n",
       " 'dinner': 2193,\n",
       " 'rite': 5396,\n",
       " 'dad': 2018,\n",
       " 'ask': 1032,\n",
       " 'confirm': 1843,\n",
       " 'wif': 6977,\n",
       " 'ah': 842,\n",
       " 'poor': 4931,\n",
       " 'baby': 1121,\n",
       " 'urfeeling': 6687,\n",
       " 'bettersn': 1243,\n",
       " 'luv': 3988,\n",
       " 'probthat': 5052,\n",
       " 'overdose': 4667,\n",
       " 'work': 7058,\n",
       " 'hey': 3198,\n",
       " 'careful': 1556,\n",
       " 'spk': 5938,\n",
       " 'sn': 5822,\n",
       " 'lots': 3942,\n",
       " 'lovejen': 3955,\n",
       " 'gam': 2856,\n",
       " 'gone': 2968,\n",
       " 'outstanding': 4664,\n",
       " 'innings': 3438,\n",
       " 'nice': 4453,\n",
       " 'working': 7062,\n",
       " 'haha': 3081,\n",
       " 'kidding': 3672,\n",
       " 'papa': 4705,\n",
       " 'needs': 4417,\n",
       " 'drugs': 2325,\n",
       " 'chief': 1677,\n",
       " 'bell': 1223,\n",
       " 'need': 4412,\n",
       " 'royal': 5432,\n",
       " 'visit': 6789,\n",
       " '1st': 324,\n",
       " 'june': 3618,\n",
       " 'ugh': 6610,\n",
       " 'long': 3917,\n",
       " 'day': 2054,\n",
       " 'exhausted': 2523,\n",
       " 'want': 6857,\n",
       " 'cuddle': 1984,\n",
       " 'nap': 4381,\n",
       " 'awesome': 1103,\n",
       " 'time': 6418,\n",
       " 'like': 3840,\n",
       " 'lt': 3974,\n",
       " 'gt': 3044,\n",
       " 'll': 3887,\n",
       " 'details': 2143,\n",
       " 'wee': 6916,\n",
       " 'bit': 1277,\n",
       " 'ok': 4578,\n",
       " 'lor': 3932,\n",
       " 'thk': 6376,\n",
       " 'tickets': 6407,\n",
       " 'cos': 1901,\n",
       " 'quite': 5149,\n",
       " 'late': 3760,\n",
       " 'look': 3921,\n",
       " 'ur': 6684,\n",
       " 'frens': 2791,\n",
       " 'darren': 2041,\n",
       " 'dont': 2269,\n",
       " 'know': 3700,\n",
       " 'bring': 1414,\n",
       " 'food': 2730,\n",
       " 'reason': 5224,\n",
       " 've': 6744,\n",
       " 'spoken': 5948,\n",
       " 'year': 7150,\n",
       " 'anyways': 947,\n",
       " 'great': 3020,\n",
       " 'week': 6918,\n",
       " 'best': 1237,\n",
       " 'exam': 2511,\n",
       " 'make': 4042,\n",
       " 'fucks': 2825,\n",
       " 'sake': 5476,\n",
       " 'yes': 7160,\n",
       " 'place': 4862,\n",
       " 'town': 6504,\n",
       " 'meet': 4130,\n",
       " 'exciting': 2515,\n",
       " 'adult': 806,\n",
       " 'singles': 5739,\n",
       " 'txt': 6590,\n",
       " '86688': 664,\n",
       " '150p': 293,\n",
       " 'msg': 4315,\n",
       " 'man': 4052,\n",
       " 'print': 5035,\n",
       " 'outs': 4660,\n",
       " 'room': 5418,\n",
       " 'think': 6368,\n",
       " 'saying': 5517,\n",
       " 'clearly': 1734,\n",
       " 'leave': 3793,\n",
       " 'come': 1794,\n",
       " 'st': 5972,\n",
       " 'andre': 912,\n",
       " 'virgil': 6783,\n",
       " 'cream': 1947,\n",
       " 'yoyyooo': 7179,\n",
       " 'change': 1623,\n",
       " 'permissions': 4789,\n",
       " 'drive': 2313,\n",
       " 'mac': 4013,\n",
       " 'usb': 6699,\n",
       " 'flash': 2692,\n",
       " 'sunshine': 6148,\n",
       " 'quiz': 5151,\n",
       " 'wkly': 7024,\n",
       " 'win': 6987,\n",
       " 'sony': 5865,\n",
       " 'dvd': 2350,\n",
       " 'player': 4875,\n",
       " 'country': 1914,\n",
       " 'algarve': 875,\n",
       " 'ansr': 927,\n",
       " '82277': 637,\n",
       " '50': 520,\n",
       " 'sp': 5898,\n",
       " 'tyrone': 6606,\n",
       " 'dear': 2066,\n",
       " 'th': 6333,\n",
       " 'birthday': 1275,\n",
       " 'loving': 3963,\n",
       " 'gopalettan': 2984,\n",
       " 'planning': 4871,\n",
       " 'small': 5796,\n",
       " 'gift': 2921,\n",
       " 'participate': 4724,\n",
       " 'welcome': 6933,\n",
       " 'contact': 1863,\n",
       " 'admin': 793,\n",
       " 'team': 6274,\n",
       " 'class': 1724,\n",
       " 'hours': 3282,\n",
       " 'sorry': 5877,\n",
       " 'okay': 4579,\n",
       " 'wait': 6834,\n",
       " 'rushing': 5458,\n",
       " 'school': 5527,\n",
       " 'rush': 5457,\n",
       " 'hungry': 3314,\n",
       " 'usually': 6712,\n",
       " 'stops': 6044,\n",
       " 'hella': 3177,\n",
       " 'weed': 6917,\n",
       " 'smoke': 5811,\n",
       " 'awarded': 1101,\n",
       " 'city': 1715,\n",
       " 'break': 1396,\n",
       " '200': 335,\n",
       " 'summer': 6139,\n",
       " 'shopping': 5681,\n",
       " 'spree': 5961,\n",
       " 'wk': 7020,\n",
       " 'store': 6046,\n",
       " '88039': 675,\n",
       " 'skilgme': 5759,\n",
       " 'tscs087147403231winawk': 6562,\n",
       " 'age16': 832,\n",
       " '50perwksub': 528,\n",
       " 'shall': 5635,\n",
       " 'pickle': 4836,\n",
       " 'isn': 3506,\n",
       " 'frnd': 2809,\n",
       " 'necesity': 4407,\n",
       " 'life': 3830,\n",
       " 'imagine': 3376,\n",
       " 'urself': 6697,\n",
       " 'witout': 7017,\n",
       " 'hw': 3328,\n",
       " 'feel': 2620,\n",
       " 'colleg': 1786,\n",
       " 'wth': 7102,\n",
       " 'cell': 1605,\n",
       " 'abt': 742,\n",
       " 'functions': 2833,\n",
       " 'thnk': 6378,\n",
       " 'events': 2491,\n",
       " 'espe': 2474,\n",
       " 'cared': 1553,\n",
       " 'missed': 4215,\n",
       " 'amp': 903,\n",
       " 'irritated': 3496,\n",
       " '4wrd': 517,\n",
       " 'frnds': 2810,\n",
       " 'wthout': 7103,\n",
       " 'live': 3880,\n",
       " 'jst': 3605,\n",
       " 'takecare': 6228,\n",
       " 'goodmorning': 2977,\n",
       " 'brum': 1437,\n",
       " 'thanks': 6337,\n",
       " 'putting': 5126,\n",
       " 'keeping': 3651,\n",
       " 'happy': 3120,\n",
       " 'soon': 5868,\n",
       " 'im': 3373,\n",
       " 'tellmiss': 6291,\n",
       " 'way': 6891,\n",
       " 'bloomberg': 1310,\n",
       " 'message': 4163,\n",
       " 'center': 1607,\n",
       " '447797706009': 482,\n",
       " 'apply': 969,\n",
       " 'future': 2842,\n",
       " 'http': 3298,\n",
       " 'careers': 1555,\n",
       " 'com': 1791,\n",
       " 'enjoy': 2435,\n",
       " 'plural': 4892,\n",
       " 'noun': 4515,\n",
       " 'research': 5331,\n",
       " 'sure': 6165,\n",
       " 'checking': 1656,\n",
       " 'happening': 3114,\n",
       " 'area': 991,\n",
       " 'aight': 850,\n",
       " 'sleeping': 5774,\n",
       " 'surfing': 6168,\n",
       " 'cool': 1888,\n",
       " 'breeze': 1406,\n",
       " 'bright': 1410,\n",
       " 'sun': 6142,\n",
       " 'fresh': 2793,\n",
       " 'flower': 2711,\n",
       " 'twittering': 6588,\n",
       " 'birds': 1270,\n",
       " 'waiting': 6837,\n",
       " 'wish': 7006,\n",
       " 'ringtone': 5389,\n",
       " 'order': 4630,\n",
       " 'reference': 5261,\n",
       " 'number': 4526,\n",
       " 'x49': 7114,\n",
       " 'mobile': 4246,\n",
       " 'charged': 1633,\n",
       " 'tone': 6470,\n",
       " 'arrive': 1016,\n",
       " 'customer': 2002,\n",
       " 'services': 5609,\n",
       " '09065989182': 214,\n",
       " 'colour': 1789,\n",
       " 'red': 5257,\n",
       " 'txtstar': 6598,\n",
       " 'does': 2245,\n",
       " 'uncle': 6626,\n",
       " 'timi': 6420,\n",
       " 'clearing': 1733,\n",
       " 'cars': 1569,\n",
       " 'getting': 2914,\n",
       " 'really': 5219,\n",
       " 'bad': 1128,\n",
       " 'totally': 6498,\n",
       " 'rejected': 5281,\n",
       " 'kinda': 3682,\n",
       " 'thing': 6366,\n",
       " 'sent': 5598,\n",
       " 'prices': 5028,\n",
       " 'mean': 4116,\n",
       " 'hi': 3202,\n",
       " 'darlin': 2038,\n",
       " 'london': 3914,\n",
       " 'smashed': 5801,\n",
       " 'driver': 2314,\n",
       " 'big': 1257,\n",
       " 'dent': 2118,\n",
       " 'missing': 4217,\n",
       " 'took': 6479,\n",
       " 'tablets': 6217,\n",
       " 'reaction': 5205,\n",
       " 'morning': 4289,\n",
       " 'going': 2959,\n",
       " 'intention': 3459,\n",
       " 'run': 5453,\n",
       " 'choose': 1700,\n",
       " 'clean': 1728,\n",
       " 'don': 2266,\n",
       " 'say': 5516,\n",
       " 'visitors': 6791,\n",
       " 'maybe': 4111,\n",
       " 'choice': 1698,\n",
       " 'wanted': 6859,\n",
       " 'embarassed': 2413,\n",
       " 'friend': 2800,\n",
       " 'wants': 6861,\n",
       " 'drop': 2319,\n",
       " 'buy': 1483,\n",
       " 'happened': 3113,\n",
       " 'tried': 6537,\n",
       " 'picking': 4835,\n",
       " 'various': 6735,\n",
       " 'points': 4914,\n",
       " 'yeovil': 7157,\n",
       " 'motor': 4298,\n",
       " 'project': 5064,\n",
       " '12': 266,\n",
       " '30': 412,\n",
       " 'max': 4106,\n",
       " 'easy': 2368,\n",
       " 'test': 6316,\n",
       " 'rd': 5199,\n",
       " 'fret': 2794,\n",
       " 'ovulation': 4673,\n",
       " 'strips': 6066,\n",
       " 'wont': 7048,\n",
       " 'til': 6416,\n",
       " 'march': 4072,\n",
       " 'postal': 4953,\n",
       " 'address': 790,\n",
       " 'alright': 887,\n",
       " 'loyalty': 3970,\n",
       " 'offer': 4560,\n",
       " 'nokia6650': 4485,\n",
       " '10': 244,\n",
       " 'txtauction': 6593,\n",
       " 'word': 7056,\n",
       " 'start': 5993,\n",
       " '81151': 632,\n",
       " '4t': 511,\n",
       " 'ctxt': 1982,\n",
       " 'tc': 6266,\n",
       " 'mtmsg': 4325,\n",
       " 'remember': 5295,\n",
       " 'alex': 873,\n",
       " 'pizza': 4860,\n",
       " 'av': 1084,\n",
       " 'wil': 6982,\n",
       " 'use': 6701,\n",
       " 'ta': 6214,\n",
       " 'urgent': 6688,\n",
       " 'trying': 6558,\n",
       " 'todays': 6454,\n",
       " 'draw': 2301,\n",
       " 'shows': 5701,\n",
       " '800': 617,\n",
       " 'prize': 5043,\n",
       " 'guaranteed': 3048,\n",
       " '09050001808': 158,\n",
       " 'land': 3740,\n",
       " 'claim': 1718,\n",
       " 'm95': 4008,\n",
       " 'valid12hrs': 6727,\n",
       " 'babe': 1119,\n",
       " 'lost': 3939,\n",
       " 'painful': 4690,\n",
       " 'personal': 4795,\n",
       " 'thought': 6384,\n",
       " 'try': 6556,\n",
       " 'everybody': 2492,\n",
       " 'recognises': 5250,\n",
       " 'subscribed': 6105,\n",
       " 'service': 5608,\n",
       " 'days': 2055,\n",
       " '82324': 638,\n",
       " 'helpline': 3185,\n",
       " '08706091795': 83,\n",
       " 'basket': 1164,\n",
       " 'mum': 4336,\n",
       " 'messages': 4165,\n",
       " 'got': 2988,\n",
       " 'actually': 781,\n",
       " 'rest': 5351,\n",
       " 'january': 3541,\n",
       " 'male': 4049,\n",
       " 'sale': 5480,\n",
       " 'hot': 3276,\n",
       " 'gay': 2877,\n",
       " 'cheaper': 1649,\n",
       " '08709222922': 88,\n",
       " 'national': 4391,\n",
       " 'rate': 5187,\n",
       " '5p': 548,\n",
       " 'min': 4187,\n",
       " 'cheap': 1648,\n",
       " '8p': 695,\n",
       " 'peak': 4765,\n",
       " 'texts': 6331,\n",
       " '08712460324': 108,\n",
       " '10p': 254,\n",
       " 'honesty': 3249,\n",
       " 'road': 5399,\n",
       " 'bank': 1146,\n",
       " 'tomorrow': 6469,\n",
       " 'tough': 6502,\n",
       " 'decisions': 2080,\n",
       " 'people': 4776,\n",
       " 'womdarfull': 7039,\n",
       " 'actor': 779,\n",
       " 'congrats': 1847,\n",
       " 'special': 5910,\n",
       " 'cinema': 1713,\n",
       " 'pass': 4731,\n",
       " '09061209465': 180,\n",
       " 'suprman': 6163,\n",
       " 'matrix3': 4101,\n",
       " 'starwars3': 5997,\n",
       " 'bx420': 1493,\n",
       " 'ip4': 3484,\n",
       " '5we': 552,\n",
       " '150pm': 295,\n",
       " 'miss': 4213,\n",
       " 'movie': 4304,\n",
       " 'juz': 3626,\n",
       " 'minute': 4202,\n",
       " 'decision': 2079,\n",
       " 'mah': 4031,\n",
       " 'watch': 6877,\n",
       " 'lar': 3751,\n",
       " 'tot': 6496,\n",
       " 'interested': 3460,\n",
       " 'care': 1551,\n",
       " 'sweet': 6191,\n",
       " 'dreams': 2305,\n",
       " 'ummifying': 6620,\n",
       " 'bye': 1495,\n",
       " 'gud': 3050,\n",
       " 'ni8': 4451,\n",
       " 'slp': 5794,\n",
       " 'swt': 6203,\n",
       " 'muah': 4330,\n",
       " 'youdoing': 7172,\n",
       " 'later': 3762,\n",
       " 'sar': 5495,\n",
       " 'money': 4270,\n",
       " '09050000460': 153,\n",
       " 'j89': 3526,\n",
       " 'po': 4897,\n",
       " 'box245c2150pm': 1364,\n",
       " 'issue': 3508,\n",
       " 'weigh': 6924,\n",
       " 'breathe': 1403,\n",
       " 'easier': 2363,\n",
       " 'regret': 5278,\n",
       " 'gr8': 3000,\n",
       " 'leaving': 3795,\n",
       " 'plans': 4872,\n",
       " 'havent': 3142,\n",
       " 'sir': 5742,\n",
       " 'group': 3034,\n",
       " 'mail': 4034,\n",
       " 'check': 1653,\n",
       " 'hit': 3216,\n",
       " 'cash': 1573,\n",
       " 'girl': 2928,\n",
       " '2004': 338,\n",
       " 'account': 760,\n",
       " 'statement': 5998,\n",
       " '07742676969': 27,\n",
       " '786': 608,\n",
       " 'unredeemed': 6661,\n",
       " 'bonus': 1332,\n",
       " '08719180248': 144,\n",
       " 'identifier': 3355,\n",
       " 'code': 1770,\n",
       " '45239': 489,\n",
       " 'expires': 2538,\n",
       " 'mins': 4200,\n",
       " 'busy': 1479,\n",
       " 'finish': 2670,\n",
       " 'looking': 3924,\n",
       " 'forward': 2761,\n",
       " 'finally': 2663,\n",
       " 'meeting': 4132,\n",
       " 'hmv': 3230,\n",
       " '500': 521,\n",
       " 'pounds': 4965,\n",
       " 'genuine': 2901,\n",
       " 'vouchers': 6808,\n",
       " 'answer': 928,\n",
       " 'questions': 5144,\n",
       " 'play': 4873,\n",
       " 'info': 3425,\n",
       " 'www': 7110,\n",
       " '100percent': 249,\n",
       " 'real': 5210,\n",
       " 'accidentally': 754,\n",
       " 'left': 3798,\n",
       " 'silent': 5726,\n",
       " 'night': 4460,\n",
       " 'didn': 2170,\n",
       " 'ya': 7134,\n",
       " 'tht': 6398,\n",
       " 'incident': 3399,\n",
       " 'good': 2972,\n",
       " 'problem': 5047,\n",
       " 'little': 3879,\n",
       " 'experience': 2534,\n",
       " 'understand': 6633,\n",
       " 'american': 895,\n",
       " 'voice': 6799,\n",
       " 'used': 6702,\n",
       " 'agents': 836,\n",
       " 'booked': 1336,\n",
       " 'things': 6367,\n",
       " 'boston': 1350,\n",
       " 'nyc': 4539,\n",
       " 'experiment': 2535,\n",
       " 'online': 4599,\n",
       " 'transaction': 6515,\n",
       " 'came': 1526,\n",
       " 'hostel': 3274,\n",
       " 'sleep': 5772,\n",
       " 'plz': 4895,\n",
       " 'hrishi': 3295,\n",
       " 'fuuuuck': 2843,\n",
       " 'sleepin': 5773,\n",
       " 'sup': 6150,\n",
       " 'dude': 2337,\n",
       " 'makin': 4045,\n",
       " 'weirdy': 6931,\n",
       " 'brownies': 1433,\n",
       " 'cookies': 1886,\n",
       " 'secret': 5560,\n",
       " 'admirer': 795,\n",
       " 'reveal': 5368,\n",
       " 'thinks': 6372,\n",
       " '09058094599': 175,\n",
       " 'oh': 4573,\n",
       " 'training': 6512,\n",
       " 'manual': 4066,\n",
       " 'tech': 6279,\n",
       " 'process': 5053,\n",
       " 'password': 4737,\n",
       " 'reset': 5337,\n",
       " 'troubleshooting': 6544,\n",
       " 'computerless': 1831,\n",
       " 'oreo': 4633,\n",
       " 'truffles': 6550,\n",
       " 'watching': 6880,\n",
       " 'tv': 6582,\n",
       " 'job': 3580,\n",
       " 'hoping': 3264,\n",
       " 'game': 2858,\n",
       " 'yesterday': 7162,\n",
       " 'touch': 6500,\n",
       " 'pls': 4888,\n",
       " 'fondly': 2725,\n",
       " 'bein': 1220,\n",
       " 'thot': 6382,\n",
       " 'abiola': 732,\n",
       " 'nite': 4470,\n",
       " 'pocay': 4907,\n",
       " 'wocay': 7035,\n",
       " '4eva': 502,\n",
       " 'promise': 5068,\n",
       " 'ring': 5387,\n",
       " '2morrowxxxx': 393,\n",
       " 'yup': 7189,\n",
       " 'thanx': 6342,\n",
       " 'reply': 5321,\n",
       " 'pick': 4833,\n",
       " 'heart': 3162,\n",
       " 'mind': 4190,\n",
       " 'wisdom': 7004,\n",
       " 'eyes': 2555,\n",
       " 'alwys': 891,\n",
       " 'panren': 4700,\n",
       " 'paru': 4729,\n",
       " 'wife': 6978,\n",
       " 'relax': 5286,\n",
       " 'wkend': 7021,\n",
       " 'fun': 2831,\n",
       " 'truly': 6551,\n",
       " 'forget': 2746,\n",
       " 'gbp': 2881,\n",
       " 'sms': 5817,\n",
       " 'approve': 975,\n",
       " 'panalam': 4695,\n",
       " 'posts': 4959,\n",
       " 'paid': 4688,\n",
       " 'commercial': 1804,\n",
       " 'hasbro': 3129,\n",
       " 'august': 1075,\n",
       " 'jump': 3616,\n",
       " 'hoops': 3258,\n",
       " 'shut': 5711,\n",
       " 'omg': 4592,\n",
       " 'dream': 2304,\n",
       " 'kids': 3673,\n",
       " 'boys': 1381,\n",
       " 'pissed': 4855,\n",
       " 'told': 6460,\n",
       " 'mark': 4076,\n",
       " 'changing': 1626,\n",
       " 'diapers': 2164,\n",
       " 'cause': 1588,\n",
       " 'owed': 4676,\n",
       " 'face': 2559,\n",
       " 'ey': 2553,\n",
       " 'calm': 1523,\n",
       " 'downon': 2292,\n",
       " 'theacusations': 6347,\n",
       " 'itxt': 3517,\n",
       " 'iwana': 3520,\n",
       " 'wotu': 7077,\n",
       " 'doin': 2257,\n",
       " 'thew': 6362,\n",
       " 'end': 2422,\n",
       " 'haventcn': 3143,\n",
       " 'ages': 837,\n",
       " 'up4': 6669,\n",
       " 'nething': 4432,\n",
       " 'sat': 5502,\n",
       " 'dramatic': 2299,\n",
       " 'schools': 5528,\n",
       " 'closed': 1742,\n",
       " 'apparently': 961,\n",
       " 'inch': 3397,\n",
       " 'snow': 5832,\n",
       " 'supposed': 6161,\n",
       " 'woke': 7036,\n",
       " 'blur': 1319,\n",
       " 'went': 6940,\n",
       " 'liao': 3821,\n",
       " 'oso': 4645,\n",
       " 'helloooo': 3179,\n",
       " 'wake': 6838,\n",
       " 'welcomes': 6934,\n",
       " 'joy': 3600,\n",
       " 'mrng': 4312,\n",
       " 'jason': 3546,\n",
       " 'says': 5518,\n",
       " 'gonna': 2970,\n",
       " 'mallika': 4051,\n",
       " 'sherawat': 5652,\n",
       " 'url': 6694,\n",
       " 'wa': 6823,\n",
       " 'openin': 4608,\n",
       " 'sentence': 5599,\n",
       " 'formal': 2753,\n",
       " 'fine': 2667,\n",
       " 'tt': 6565,\n",
       " 'eatin': 2371,\n",
       " 'puttin': 5125,\n",
       " 'weight': 6926,\n",
       " 'anythin': 944,\n",
       " 'tyler': 6602,\n",
       " 'minor': 4199,\n",
       " 'crisis': 1960,\n",
       " 'sooner': 5869,\n",
       " 'asap': 1024,\n",
       " 'erm': 2460,\n",
       " 'ill': 3369,\n",
       " '45pm': 490,\n",
       " 'park': 4720,\n",
       " 'treat': 6529,\n",
       " 'pending': 4773,\n",
       " 'respect': 5343,\n",
       " 'mother': 4293,\n",
       " 'mails': 4037,\n",
       " 'alrite': 888,\n",
       " 'hunny': 3316,\n",
       " 'wot': 7076,\n",
       " '2nite': 398,\n",
       " 'didnt': 2171,\n",
       " 'goin': 2958,\n",
       " 'jus': 3622,\n",
       " 'pub': 5101,\n",
       " 'instead': 3453,\n",
       " 'chillin': 1686,\n",
       " 'mo': 4242,\n",
       " 'bedroom': 1206,\n",
       " 'jen': 3559,\n",
       " 'aiyo': 860,\n",
       " 'meh': 4137,\n",
       " 'princess': 5034,\n",
       " 'times': 6419,\n",
       " 'thats': 6346,\n",
       " 'ew': 2507,\n",
       " 'friendship': 2803,\n",
       " 'poem': 4911,\n",
       " 'near': 4405,\n",
       " 'hear': 3158,\n",
       " 'fear': 2613,\n",
       " 'cheer': 1660,\n",
       " 'tear': 6275,\n",
       " 'added': 786,\n",
       " 'list': 3868,\n",
       " 'fullonsms': 2829,\n",
       " 'ignoring': 3363,\n",
       " 'dating': 2049,\n",
       " 'started': 5994,\n",
       " 'sport': 5954,\n",
       " 'radio': 5160,\n",
       " 'connection': 1851,\n",
       " 'coincidence': 1774,\n",
       " 'hook': 3257,\n",
       " 'means': 4120,\n",
       " 'right': 5383,\n",
       " 'valuable': 6728,\n",
       " 'situations': 5752,\n",
       " 'second': 5557,\n",
       " 'loosing': 3930,\n",
       " 'si': 5713,\n",
       " 'como': 1808,\n",
       " 'listened2the': 3871,\n",
       " 'plaid': 4866,\n",
       " 'album': 867,\n",
       " 'gd': 2884,\n",
       " 'air1': 854,\n",
       " 'hilarious': 3207,\n",
       " 'bought': 1354,\n",
       " 'braindance': 1386,\n",
       " 'comp': 1809,\n",
       " 'ofstuff': 4570,\n",
       " 'aphex': 953,\n",
       " 'abel': 728,\n",
       " 'hav2hear': 3139,\n",
       " 'xxxx': 7129,\n",
       " 'wana': 6854,\n",
       " 'praps': 4988,\n",
       " 'meant': 4121,\n",
       " 'goodo': 2981,\n",
       " 'stay': 6001,\n",
       " 'england': 2433,\n",
       " 'official': 4566,\n",
       " 'poly': 4918,\n",
       " 'flag': 2688,\n",
       " 'yer': 7159,\n",
       " '84199': 653,\n",
       " 'opt': 4618,\n",
       " 'eng': 2430,\n",
       " 'box39822': 1369,\n",
       " 'w111wx': 6814,\n",
       " 'honeybee': 3251,\n",
       " 'said': 5475,\n",
       " 'sweetest': 6192,\n",
       " 'world': 7065,\n",
       " 'god': 2954,\n",
       " 'laughed': 3767,\n",
       " 'havnt': 3147,\n",
       " 'met': 4170,\n",
       " 'person': 4794,\n",
       " 'reading': 5208,\n",
       " 'moral': 4285,\n",
       " 'crack': 1934,\n",
       " 'jokes': 3590,\n",
       " 'gm': 2943,\n",
       " 'gn': 2945,\n",
       " 'ge': 2886,\n",
       " 'study': 6082,\n",
       " 'tap': 6247,\n",
       " 'spile': 5931,\n",
       " 'seven': 5616,\n",
       " 'gas': 2870,\n",
       " 'broad': 1422,\n",
       " 'canal': 1530,\n",
       " 'wan2': 6853,\n",
       " 'greet': 3023,\n",
       " 'westlife': 6950,\n",
       " 'm8': 4006,\n",
       " 'currently': 1997,\n",
       " 'tour': 6503,\n",
       " 'unbreakable': 6625,\n",
       " 'untamed': 6667,\n",
       " 'unkempt': 6652,\n",
       " '83049': 640,\n",
       " 'cost': 1903,\n",
       " '50p': 526,\n",
       " 'std': 6006,\n",
       " 'drunk': 2326,\n",
       " 'motherfucker': 4294,\n",
       " 'textbuddy': 6324,\n",
       " 'horny': 3266,\n",
       " 'guys': 3068,\n",
       " '25p': 362,\n",
       " 'receive': 5237,\n",
       " 'search': 5552,\n",
       " 'postcode': 4955,\n",
       " 'gaytextbuddy': 2880,\n",
       " '89693': 690,\n",
       " '08715500022': 122,\n",
       " 'rpl': 5434,\n",
       " 'cnl': 1759,\n",
       " 'hiya': 3220,\n",
       " 'weekend': 6920,\n",
       " 'usual': 6711,\n",
       " 'ard': 990,\n",
       " 'smth': 5821,\n",
       " 'doc': 2239,\n",
       " 'gave': 2876,\n",
       " 'pain': 4689,\n",
       " 'meds': 4128,\n",
       " 'mahal': 4032,\n",
       " 'bus': 1473,\n",
       " 'decimal': 2078,\n",
       " 'cooking': 1887,\n",
       " 'oops': 4604,\n",
       " 'tomo': 6467,\n",
       " 'station': 5999,\n",
       " 'dhoni': 2157,\n",
       " 'luck': 3978,\n",
       " 'title': 6433,\n",
       " 'waking': 6839,\n",
       " 'afternoon': 828,\n",
       " 'church': 1710,\n",
       " 'holla': 3240,\n",
       " 'let': 3815,\n",
       " 'salad': 5477,\n",
       " 'desert': 2132,\n",
       " 'beers': 1210,\n",
       " 'news': 4447,\n",
       " 'freefone': 2784,\n",
       " '08006344447': 56,\n",
       " '1000': 246,\n",
       " '2000': 336,\n",
       " 'speak': 5908,\n",
       " 'operator': 4612,\n",
       " 'hr': 3294,\n",
       " 'trip': 6538,\n",
       " 'audition': 1072,\n",
       " 'wednesday': 6914,\n",
       " 'whats': 6955,\n",
       " 'printed': 5036,\n",
       " 'upstairs': 6682,\n",
       " 'wasnt': 6872,\n",
       " 'phoned': 4821,\n",
       " 'voda': 6796,\n",
       " 'numbers': 4527,\n",
       " 'ending': 2424,\n",
       " '1225': 270,\n",
       " 'selected': 5579,\n",
       " '50award': 523,\n",
       " 'match': 4094,\n",
       " '08712300220': 95,\n",
       " 'quoting': 5155,\n",
       " '3100': 424,\n",
       " 'standard': 5984,\n",
       " 'rates': 5188,\n",
       " 'app': 960,\n",
       " 'today': 6453,\n",
       " 'accept': 749,\n",
       " 'brother': 1429,\n",
       " 'lover': 3958,\n",
       " 'dear1': 2067,\n",
       " 'best1': 1238,\n",
       " 'clos1': 1740,\n",
       " 'lvblefrnd': 3993,\n",
       " 'jstfrnd': 3606,\n",
       " 'cutefrnd': 2007,\n",
       " 'lifpartnr': 3833,\n",
       " 'belovd': 1228,\n",
       " 'swtheart': 6204,\n",
       " 'bstfrnd': 1442,\n",
       " 'rply': 5435,\n",
       " 'enemy': 2428,\n",
       " 'bloo': 1307,\n",
       " 'bowl': 1358,\n",
       " 'urgnt': 6691,\n",
       " 'wating': 6885,\n",
       " 'difficult': 2181,\n",
       " 'girls': 2931,\n",
       " 'companion': 1811,\n",
       " 'chef': 1666,\n",
       " 'listener': 3872,\n",
       " 'organizer': 4636,\n",
       " 'boyfriend': 1380,\n",
       " 'sympathetic': 6207,\n",
       " 'athletic': 1054,\n",
       " 'warm': 6864,\n",
       " 'courageous': 1919,\n",
       " 'determined': 2145,\n",
       " 'true': 6548,\n",
       " 'dependable': 2125,\n",
       " 'intelligent': 3457,\n",
       " 'psychologist': 5098,\n",
       " 'pest': 4802,\n",
       " 'exterminator': 2550,\n",
       " 'psychiatrist': 5096,\n",
       " 'healer': 3156,\n",
       " 'stylist': 6094,\n",
       " 'aaniye': 722,\n",
       " 'pudunga': 5105,\n",
       " 'venaam': 6749,\n",
       " 'request': 5326,\n",
       " 'maangalyam': 4011,\n",
       " 'alaipayuthe': 866,\n",
       " 'set': 5611,\n",
       " 'callertune': 1516,\n",
       " 'callers': 1515,\n",
       " 'press': 5017,\n",
       " 'copy': 1893,\n",
       " 'friends': 2801,\n",
       " 'tirunelvai': 6428,\n",
       " 'lick': 3825,\n",
       " 'pussy': 5123,\n",
       " 'inside': 3447,\n",
       " 'office': 4564,\n",
       " 'filling': 2654,\n",
       " 'forms': 2757,\n",
       " 'textin': 6327,\n",
       " 'bout': 1356,\n",
       " 'worries': 7069,\n",
       " 'photo': 4824,\n",
       " 'shoot': 5678,\n",
       " ...}"
      ]
     },
     "metadata": {},
     "execution_count": 16
    }
   ],
   "source": [
    "# printing the vocabulary\n",
    "vect.vocabulary_"
   ]
  },
  {
   "cell_type": "code",
   "execution_count": 17,
   "metadata": {},
   "outputs": [
    {
     "output_type": "execute_result",
     "data": {
      "text/plain": [
       "7204"
      ]
     },
     "metadata": {},
     "execution_count": 17
    }
   ],
   "source": [
    "# vocab size\n",
    "len(vect.vocabulary_.keys())"
   ]
  },
  {
   "cell_type": "code",
   "execution_count": 18,
   "metadata": {},
   "outputs": [],
   "source": [
    "# transforming the train and test datasets\n",
    "X_train_transformed = vect.transform(X_train)\n",
    "X_test_transformed = vect.transform(X_test)"
   ]
  },
  {
   "cell_type": "code",
   "execution_count": 19,
   "metadata": {},
   "outputs": [
    {
     "output_type": "stream",
     "name": "stdout",
     "text": [
      "<class 'scipy.sparse.csr.csr_matrix'>\n  (0, 50)\t1\n  (0, 264)\t1\n  (0, 509)\t1\n  (0, 1527)\t1\n  (0, 1971)\t1\n  (0, 2780)\t2\n  (0, 3089)\t1\n  (0, 3763)\t1\n  (0, 3852)\t1\n  (0, 4248)\t1\n  (0, 4624)\t1\n  (0, 4626)\t1\n  (0, 4818)\t1\n  (0, 4822)\t1\n  (0, 5027)\t1\n  (0, 5310)\t1\n  (0, 6673)\t1\n  (1, 2169)\t1\n  (1, 6028)\t1\n  (1, 6545)\t1\n  (2, 98)\t1\n  (2, 563)\t1\n  (2, 1867)\t1\n  (2, 2436)\t1\n  (2, 3180)\t1\n  :\t:\n  (4176, 3879)\t1\n  (4176, 4417)\t1\n  (4176, 5229)\t1\n  (4176, 6191)\t1\n  (4176, 7134)\t1\n  (4177, 254)\t1\n  (4177, 307)\t1\n  (4177, 358)\t1\n  (4177, 831)\t1\n  (4177, 2046)\t1\n  (4177, 2704)\t1\n  (4177, 3585)\t1\n  (4177, 3623)\t1\n  (4177, 4130)\t1\n  (4177, 4315)\t1\n  (4177, 4771)\t1\n  (4177, 5234)\t1\n  (4177, 5321)\t1\n  (4177, 5487)\t1\n  (4177, 5620)\t1\n  (4177, 6321)\t1\n  (4177, 6374)\t1\n  (4177, 6453)\t1\n  (4178, 1643)\t1\n  (4178, 5817)\t1\n"
     ]
    }
   ],
   "source": [
    "# note that the type is transformed (sparse) matrix\n",
    "print(type(X_train_transformed))\n",
    "print(X_train_transformed)"
   ]
  },
  {
   "cell_type": "markdown",
   "metadata": {},
   "source": [
    "### 2. Building and Evaluating the Model"
   ]
  },
  {
   "cell_type": "code",
   "execution_count": 20,
   "metadata": {},
   "outputs": [],
   "source": [
    "# training the NB model and making predictions\n",
    "from sklearn.naive_bayes import MultinomialNB\n",
    "mnb = MultinomialNB()\n",
    "\n",
    "# fit\n",
    "mnb.fit(X_train_transformed,y_train)\n",
    "\n",
    "# predict class\n",
    "y_pred_class = mnb.predict(X_test_transformed)\n",
    "\n",
    "# predict probabilities\n",
    "y_pred_proba = mnb.predict_proba(X_test_transformed)\n"
   ]
  },
  {
   "cell_type": "code",
   "execution_count": 21,
   "metadata": {},
   "outputs": [
    {
     "output_type": "execute_result",
     "data": {
      "text/plain": [
       "MultinomialNB()"
      ]
     },
     "metadata": {},
     "execution_count": 21
    }
   ],
   "source": [
    "# note that alpha=1 is used by default for smoothing\n",
    "mnb"
   ]
  },
  {
   "cell_type": "markdown",
   "metadata": {},
   "source": [
    "### Model Evaluation"
   ]
  },
  {
   "cell_type": "code",
   "execution_count": 22,
   "metadata": {},
   "outputs": [
    {
     "output_type": "execute_result",
     "data": {
      "text/plain": [
       "0.9877961234745154"
      ]
     },
     "metadata": {},
     "execution_count": 22
    }
   ],
   "source": [
    "# printing the overall accuracy\n",
    "from sklearn import metrics\n",
    "metrics.accuracy_score(y_test, y_pred_class)"
   ]
  },
  {
   "cell_type": "code",
   "execution_count": 23,
   "metadata": {},
   "outputs": [
    {
     "output_type": "execute_result",
     "data": {
      "text/plain": [
       "array([[1201,    7],\n",
       "       [  10,  175]], dtype=int64)"
      ]
     },
     "metadata": {},
     "execution_count": 23
    }
   ],
   "source": [
    "# confusion matrix\n",
    "metrics.confusion_matrix(y_test, y_pred_class)\n",
    "# help(metrics.confusion_matrix)"
   ]
  },
  {
   "cell_type": "code",
   "execution_count": 24,
   "metadata": {},
   "outputs": [
    {
     "output_type": "stream",
     "name": "stdout",
     "text": [
      "[[1201    7]\n [  10  175]]\n"
     ]
    }
   ],
   "source": [
    "confusion = metrics.confusion_matrix(y_test, y_pred_class)\n",
    "print(confusion)\n",
    "TN = confusion[0, 0]\n",
    "FP = confusion[0, 1]\n",
    "FN = confusion[1, 0]\n",
    "TP = confusion[1, 1]"
   ]
  },
  {
   "cell_type": "code",
   "execution_count": 25,
   "metadata": {},
   "outputs": [
    {
     "output_type": "stream",
     "name": "stdout",
     "text": [
      "sensitivity 0.9459459459459459\n"
     ]
    }
   ],
   "source": [
    "sensitivity = TP / float(FN + TP)\n",
    "print(\"sensitivity\",sensitivity)"
   ]
  },
  {
   "cell_type": "code",
   "execution_count": 26,
   "metadata": {},
   "outputs": [
    {
     "output_type": "stream",
     "name": "stdout",
     "text": [
      "specificity 0.9942052980132451\n"
     ]
    }
   ],
   "source": [
    "specificity = TN / float(TN + FP)\n",
    "print(\"specificity\",specificity)"
   ]
  },
  {
   "cell_type": "code",
   "execution_count": 27,
   "metadata": {},
   "outputs": [
    {
     "output_type": "stream",
     "name": "stdout",
     "text": [
      "precision 0.9615384615384616\n0.9615384615384616\n"
     ]
    }
   ],
   "source": [
    "precision = TP / float(TP + FP)\n",
    "print(\"precision\",precision)\n",
    "print(metrics.precision_score(y_test, y_pred_class))"
   ]
  },
  {
   "cell_type": "code",
   "execution_count": 29,
   "metadata": {},
   "outputs": [
    {
     "output_type": "stream",
     "name": "stdout",
     "text": [
      "precision 0.9615384615384616\nPRECISION SCORE : 0.9615384615384616\nRECALL SCORE : 0.9459459459459459\nF1 SCORE : 0.9536784741144414\n"
     ]
    }
   ],
   "source": [
    "print(\"precision\",precision)\n",
    "print(\"PRECISION SCORE :\",metrics.precision_score(y_test, y_pred_class))\n",
    "print(\"RECALL SCORE :\", metrics.recall_score(y_test, y_pred_class))\n",
    "print(\"F1 SCORE :\",metrics.f1_score(y_test, y_pred_class))"
   ]
  },
  {
   "cell_type": "code",
   "execution_count": 30,
   "metadata": {},
   "outputs": [
    {
     "output_type": "execute_result",
     "data": {
      "text/plain": [
       "array([0, 0, 0, ..., 0, 1, 0], dtype=int64)"
      ]
     },
     "metadata": {},
     "execution_count": 30
    }
   ],
   "source": [
    "y_pred_class"
   ]
  },
  {
   "cell_type": "code",
   "execution_count": 31,
   "metadata": {
    "scrolled": true
   },
   "outputs": [
    {
     "output_type": "execute_result",
     "data": {
      "text/plain": [
       "array([[9.95239557e-01, 4.76044325e-03],\n",
       "       [9.99852357e-01, 1.47642544e-04],\n",
       "       [9.27878579e-01, 7.21214213e-02],\n",
       "       ...,\n",
       "       [9.99999671e-01, 3.28799076e-07],\n",
       "       [3.72703622e-09, 9.99999996e-01],\n",
       "       [9.99999985e-01, 1.46852511e-08]])"
      ]
     },
     "metadata": {},
     "execution_count": 31
    }
   ],
   "source": [
    "y_pred_proba"
   ]
  },
  {
   "cell_type": "code",
   "execution_count": 32,
   "metadata": {},
   "outputs": [],
   "source": [
    "# creating an ROC curve\n",
    "from sklearn.metrics import confusion_matrix as sk_confusion_matrix\n",
    "from sklearn.metrics import roc_curve, auc\n",
    "import matplotlib.pyplot as plt\n",
    "\n",
    "false_positive_rate, true_positive_rate, thresholds = roc_curve(y_test, y_pred_proba[:,1])\n",
    "roc_auc = auc(false_positive_rate, true_positive_rate)"
   ]
  },
  {
   "cell_type": "code",
   "execution_count": 33,
   "metadata": {},
   "outputs": [
    {
     "output_type": "stream",
     "name": "stdout",
     "text": [
      "0.9921872203329157\n"
     ]
    }
   ],
   "source": [
    "# area under the curve\n",
    "print (roc_auc)"
   ]
  },
  {
   "cell_type": "code",
   "execution_count": 34,
   "metadata": {},
   "outputs": [
    {
     "output_type": "execute_result",
     "data": {
      "text/plain": [
       "        Threshold       TPR       FPR\n",
       "0    2.000000e+00  0.000000  0.000000\n",
       "1    1.000000e+00  0.308108  0.000000\n",
       "2    1.000000e+00  0.313514  0.000000\n",
       "3    1.000000e+00  0.335135  0.000000\n",
       "4    1.000000e+00  0.340541  0.000000\n",
       "..            ...       ...       ...\n",
       "105  6.325596e-13  1.000000  0.959437\n",
       "106  6.086604e-13  1.000000  0.961093\n",
       "107  4.174215e-14  1.000000  0.970199\n",
       "108  3.968331e-14  1.000000  0.972682\n",
       "109  6.227131e-41  1.000000  1.000000\n",
       "\n",
       "[110 rows x 3 columns]"
      ],
      "text/html": "<div>\n<style scoped>\n    .dataframe tbody tr th:only-of-type {\n        vertical-align: middle;\n    }\n\n    .dataframe tbody tr th {\n        vertical-align: top;\n    }\n\n    .dataframe thead th {\n        text-align: right;\n    }\n</style>\n<table border=\"1\" class=\"dataframe\">\n  <thead>\n    <tr style=\"text-align: right;\">\n      <th></th>\n      <th>Threshold</th>\n      <th>TPR</th>\n      <th>FPR</th>\n    </tr>\n  </thead>\n  <tbody>\n    <tr>\n      <th>0</th>\n      <td>2.000000e+00</td>\n      <td>0.000000</td>\n      <td>0.000000</td>\n    </tr>\n    <tr>\n      <th>1</th>\n      <td>1.000000e+00</td>\n      <td>0.308108</td>\n      <td>0.000000</td>\n    </tr>\n    <tr>\n      <th>2</th>\n      <td>1.000000e+00</td>\n      <td>0.313514</td>\n      <td>0.000000</td>\n    </tr>\n    <tr>\n      <th>3</th>\n      <td>1.000000e+00</td>\n      <td>0.335135</td>\n      <td>0.000000</td>\n    </tr>\n    <tr>\n      <th>4</th>\n      <td>1.000000e+00</td>\n      <td>0.340541</td>\n      <td>0.000000</td>\n    </tr>\n    <tr>\n      <th>...</th>\n      <td>...</td>\n      <td>...</td>\n      <td>...</td>\n    </tr>\n    <tr>\n      <th>105</th>\n      <td>6.325596e-13</td>\n      <td>1.000000</td>\n      <td>0.959437</td>\n    </tr>\n    <tr>\n      <th>106</th>\n      <td>6.086604e-13</td>\n      <td>1.000000</td>\n      <td>0.961093</td>\n    </tr>\n    <tr>\n      <th>107</th>\n      <td>4.174215e-14</td>\n      <td>1.000000</td>\n      <td>0.970199</td>\n    </tr>\n    <tr>\n      <th>108</th>\n      <td>3.968331e-14</td>\n      <td>1.000000</td>\n      <td>0.972682</td>\n    </tr>\n    <tr>\n      <th>109</th>\n      <td>6.227131e-41</td>\n      <td>1.000000</td>\n      <td>1.000000</td>\n    </tr>\n  </tbody>\n</table>\n<p>110 rows × 3 columns</p>\n</div>"
     },
     "metadata": {},
     "execution_count": 34
    }
   ],
   "source": [
    "# matrix of thresholds, tpr, fpr\n",
    "pd.DataFrame({'Threshold': thresholds, \n",
    "              'TPR': true_positive_rate, \n",
    "              'FPR':false_positive_rate\n",
    "             })"
   ]
  },
  {
   "cell_type": "code",
   "execution_count": 35,
   "metadata": {},
   "outputs": [
    {
     "output_type": "execute_result",
     "data": {
      "text/plain": [
       "[<matplotlib.lines.Line2D at 0x1f2a618eb20>]"
      ]
     },
     "metadata": {},
     "execution_count": 35
    },
    {
     "output_type": "display_data",
     "data": {
      "text/plain": "<Figure size 432x288 with 1 Axes>",
      "image/svg+xml": "<?xml version=\"1.0\" encoding=\"utf-8\" standalone=\"no\"?>\r\n<!DOCTYPE svg PUBLIC \"-//W3C//DTD SVG 1.1//EN\"\r\n  \"http://www.w3.org/Graphics/SVG/1.1/DTD/svg11.dtd\">\r\n<!-- Created with matplotlib (https://matplotlib.org/) -->\r\n<svg height=\"277.314375pt\" version=\"1.1\" viewBox=\"0 0 385.78125 277.314375\" width=\"385.78125pt\" xmlns=\"http://www.w3.org/2000/svg\" xmlns:xlink=\"http://www.w3.org/1999/xlink\">\r\n <defs>\r\n  <style type=\"text/css\">\r\n*{stroke-linecap:butt;stroke-linejoin:round;}\r\n  </style>\r\n </defs>\r\n <g id=\"figure_1\">\r\n  <g id=\"patch_1\">\r\n   <path d=\"M 0 277.314375 \r\nL 385.78125 277.314375 \r\nL 385.78125 0 \r\nL 0 0 \r\nz\r\n\" style=\"fill:none;\"/>\r\n  </g>\r\n  <g id=\"axes_1\">\r\n   <g id=\"patch_2\">\r\n    <path d=\"M 43.78125 239.758125 \r\nL 378.58125 239.758125 \r\nL 378.58125 22.318125 \r\nL 43.78125 22.318125 \r\nz\r\n\" style=\"fill:#ffffff;\"/>\r\n   </g>\r\n   <g id=\"matplotlib.axis_1\">\r\n    <g id=\"xtick_1\">\r\n     <g id=\"line2d_1\">\r\n      <defs>\r\n       <path d=\"M 0 0 \r\nL 0 3.5 \r\n\" id=\"mdb12713d06\" style=\"stroke:#000000;stroke-width:0.8;\"/>\r\n      </defs>\r\n      <g>\r\n       <use style=\"stroke:#000000;stroke-width:0.8;\" x=\"58.999432\" xlink:href=\"#mdb12713d06\" y=\"239.758125\"/>\r\n      </g>\r\n     </g>\r\n     <g id=\"text_1\">\r\n      <!-- 0.0 -->\r\n      <defs>\r\n       <path d=\"M 31.78125 66.40625 \r\nQ 24.171875 66.40625 20.328125 58.90625 \r\nQ 16.5 51.421875 16.5 36.375 \r\nQ 16.5 21.390625 20.328125 13.890625 \r\nQ 24.171875 6.390625 31.78125 6.390625 \r\nQ 39.453125 6.390625 43.28125 13.890625 \r\nQ 47.125 21.390625 47.125 36.375 \r\nQ 47.125 51.421875 43.28125 58.90625 \r\nQ 39.453125 66.40625 31.78125 66.40625 \r\nz\r\nM 31.78125 74.21875 \r\nQ 44.046875 74.21875 50.515625 64.515625 \r\nQ 56.984375 54.828125 56.984375 36.375 \r\nQ 56.984375 17.96875 50.515625 8.265625 \r\nQ 44.046875 -1.421875 31.78125 -1.421875 \r\nQ 19.53125 -1.421875 13.0625 8.265625 \r\nQ 6.59375 17.96875 6.59375 36.375 \r\nQ 6.59375 54.828125 13.0625 64.515625 \r\nQ 19.53125 74.21875 31.78125 74.21875 \r\nz\r\n\" id=\"DejaVuSans-48\"/>\r\n       <path d=\"M 10.6875 12.40625 \r\nL 21 12.40625 \r\nL 21 0 \r\nL 10.6875 0 \r\nz\r\n\" id=\"DejaVuSans-46\"/>\r\n      </defs>\r\n      <g transform=\"translate(51.047869 254.356562)scale(0.1 -0.1)\">\r\n       <use xlink:href=\"#DejaVuSans-48\"/>\r\n       <use x=\"63.623047\" xlink:href=\"#DejaVuSans-46\"/>\r\n       <use x=\"95.410156\" xlink:href=\"#DejaVuSans-48\"/>\r\n      </g>\r\n     </g>\r\n    </g>\r\n    <g id=\"xtick_2\">\r\n     <g id=\"line2d_2\">\r\n      <g>\r\n       <use style=\"stroke:#000000;stroke-width:0.8;\" x=\"119.872159\" xlink:href=\"#mdb12713d06\" y=\"239.758125\"/>\r\n      </g>\r\n     </g>\r\n     <g id=\"text_2\">\r\n      <!-- 0.2 -->\r\n      <defs>\r\n       <path d=\"M 19.1875 8.296875 \r\nL 53.609375 8.296875 \r\nL 53.609375 0 \r\nL 7.328125 0 \r\nL 7.328125 8.296875 \r\nQ 12.9375 14.109375 22.625 23.890625 \r\nQ 32.328125 33.6875 34.8125 36.53125 \r\nQ 39.546875 41.84375 41.421875 45.53125 \r\nQ 43.3125 49.21875 43.3125 52.78125 \r\nQ 43.3125 58.59375 39.234375 62.25 \r\nQ 35.15625 65.921875 28.609375 65.921875 \r\nQ 23.96875 65.921875 18.8125 64.3125 \r\nQ 13.671875 62.703125 7.8125 59.421875 \r\nL 7.8125 69.390625 \r\nQ 13.765625 71.78125 18.9375 73 \r\nQ 24.125 74.21875 28.421875 74.21875 \r\nQ 39.75 74.21875 46.484375 68.546875 \r\nQ 53.21875 62.890625 53.21875 53.421875 \r\nQ 53.21875 48.921875 51.53125 44.890625 \r\nQ 49.859375 40.875 45.40625 35.40625 \r\nQ 44.1875 33.984375 37.640625 27.21875 \r\nQ 31.109375 20.453125 19.1875 8.296875 \r\nz\r\n\" id=\"DejaVuSans-50\"/>\r\n      </defs>\r\n      <g transform=\"translate(111.920597 254.356562)scale(0.1 -0.1)\">\r\n       <use xlink:href=\"#DejaVuSans-48\"/>\r\n       <use x=\"63.623047\" xlink:href=\"#DejaVuSans-46\"/>\r\n       <use x=\"95.410156\" xlink:href=\"#DejaVuSans-50\"/>\r\n      </g>\r\n     </g>\r\n    </g>\r\n    <g id=\"xtick_3\">\r\n     <g id=\"line2d_3\">\r\n      <g>\r\n       <use style=\"stroke:#000000;stroke-width:0.8;\" x=\"180.744886\" xlink:href=\"#mdb12713d06\" y=\"239.758125\"/>\r\n      </g>\r\n     </g>\r\n     <g id=\"text_3\">\r\n      <!-- 0.4 -->\r\n      <defs>\r\n       <path d=\"M 37.796875 64.3125 \r\nL 12.890625 25.390625 \r\nL 37.796875 25.390625 \r\nz\r\nM 35.203125 72.90625 \r\nL 47.609375 72.90625 \r\nL 47.609375 25.390625 \r\nL 58.015625 25.390625 \r\nL 58.015625 17.1875 \r\nL 47.609375 17.1875 \r\nL 47.609375 0 \r\nL 37.796875 0 \r\nL 37.796875 17.1875 \r\nL 4.890625 17.1875 \r\nL 4.890625 26.703125 \r\nz\r\n\" id=\"DejaVuSans-52\"/>\r\n      </defs>\r\n      <g transform=\"translate(172.793324 254.356562)scale(0.1 -0.1)\">\r\n       <use xlink:href=\"#DejaVuSans-48\"/>\r\n       <use x=\"63.623047\" xlink:href=\"#DejaVuSans-46\"/>\r\n       <use x=\"95.410156\" xlink:href=\"#DejaVuSans-52\"/>\r\n      </g>\r\n     </g>\r\n    </g>\r\n    <g id=\"xtick_4\">\r\n     <g id=\"line2d_4\">\r\n      <g>\r\n       <use style=\"stroke:#000000;stroke-width:0.8;\" x=\"241.617614\" xlink:href=\"#mdb12713d06\" y=\"239.758125\"/>\r\n      </g>\r\n     </g>\r\n     <g id=\"text_4\">\r\n      <!-- 0.6 -->\r\n      <defs>\r\n       <path d=\"M 33.015625 40.375 \r\nQ 26.375 40.375 22.484375 35.828125 \r\nQ 18.609375 31.296875 18.609375 23.390625 \r\nQ 18.609375 15.53125 22.484375 10.953125 \r\nQ 26.375 6.390625 33.015625 6.390625 \r\nQ 39.65625 6.390625 43.53125 10.953125 \r\nQ 47.40625 15.53125 47.40625 23.390625 \r\nQ 47.40625 31.296875 43.53125 35.828125 \r\nQ 39.65625 40.375 33.015625 40.375 \r\nz\r\nM 52.59375 71.296875 \r\nL 52.59375 62.3125 \r\nQ 48.875 64.0625 45.09375 64.984375 \r\nQ 41.3125 65.921875 37.59375 65.921875 \r\nQ 27.828125 65.921875 22.671875 59.328125 \r\nQ 17.53125 52.734375 16.796875 39.40625 \r\nQ 19.671875 43.65625 24.015625 45.921875 \r\nQ 28.375 48.1875 33.59375 48.1875 \r\nQ 44.578125 48.1875 50.953125 41.515625 \r\nQ 57.328125 34.859375 57.328125 23.390625 \r\nQ 57.328125 12.15625 50.6875 5.359375 \r\nQ 44.046875 -1.421875 33.015625 -1.421875 \r\nQ 20.359375 -1.421875 13.671875 8.265625 \r\nQ 6.984375 17.96875 6.984375 36.375 \r\nQ 6.984375 53.65625 15.1875 63.9375 \r\nQ 23.390625 74.21875 37.203125 74.21875 \r\nQ 40.921875 74.21875 44.703125 73.484375 \r\nQ 48.484375 72.75 52.59375 71.296875 \r\nz\r\n\" id=\"DejaVuSans-54\"/>\r\n      </defs>\r\n      <g transform=\"translate(233.666051 254.356562)scale(0.1 -0.1)\">\r\n       <use xlink:href=\"#DejaVuSans-48\"/>\r\n       <use x=\"63.623047\" xlink:href=\"#DejaVuSans-46\"/>\r\n       <use x=\"95.410156\" xlink:href=\"#DejaVuSans-54\"/>\r\n      </g>\r\n     </g>\r\n    </g>\r\n    <g id=\"xtick_5\">\r\n     <g id=\"line2d_5\">\r\n      <g>\r\n       <use style=\"stroke:#000000;stroke-width:0.8;\" x=\"302.490341\" xlink:href=\"#mdb12713d06\" y=\"239.758125\"/>\r\n      </g>\r\n     </g>\r\n     <g id=\"text_5\">\r\n      <!-- 0.8 -->\r\n      <defs>\r\n       <path d=\"M 31.78125 34.625 \r\nQ 24.75 34.625 20.71875 30.859375 \r\nQ 16.703125 27.09375 16.703125 20.515625 \r\nQ 16.703125 13.921875 20.71875 10.15625 \r\nQ 24.75 6.390625 31.78125 6.390625 \r\nQ 38.8125 6.390625 42.859375 10.171875 \r\nQ 46.921875 13.96875 46.921875 20.515625 \r\nQ 46.921875 27.09375 42.890625 30.859375 \r\nQ 38.875 34.625 31.78125 34.625 \r\nz\r\nM 21.921875 38.8125 \r\nQ 15.578125 40.375 12.03125 44.71875 \r\nQ 8.5 49.078125 8.5 55.328125 \r\nQ 8.5 64.0625 14.71875 69.140625 \r\nQ 20.953125 74.21875 31.78125 74.21875 \r\nQ 42.671875 74.21875 48.875 69.140625 \r\nQ 55.078125 64.0625 55.078125 55.328125 \r\nQ 55.078125 49.078125 51.53125 44.71875 \r\nQ 48 40.375 41.703125 38.8125 \r\nQ 48.828125 37.15625 52.796875 32.3125 \r\nQ 56.78125 27.484375 56.78125 20.515625 \r\nQ 56.78125 9.90625 50.3125 4.234375 \r\nQ 43.84375 -1.421875 31.78125 -1.421875 \r\nQ 19.734375 -1.421875 13.25 4.234375 \r\nQ 6.78125 9.90625 6.78125 20.515625 \r\nQ 6.78125 27.484375 10.78125 32.3125 \r\nQ 14.796875 37.15625 21.921875 38.8125 \r\nz\r\nM 18.3125 54.390625 \r\nQ 18.3125 48.734375 21.84375 45.5625 \r\nQ 25.390625 42.390625 31.78125 42.390625 \r\nQ 38.140625 42.390625 41.71875 45.5625 \r\nQ 45.3125 48.734375 45.3125 54.390625 \r\nQ 45.3125 60.0625 41.71875 63.234375 \r\nQ 38.140625 66.40625 31.78125 66.40625 \r\nQ 25.390625 66.40625 21.84375 63.234375 \r\nQ 18.3125 60.0625 18.3125 54.390625 \r\nz\r\n\" id=\"DejaVuSans-56\"/>\r\n      </defs>\r\n      <g transform=\"translate(294.538778 254.356562)scale(0.1 -0.1)\">\r\n       <use xlink:href=\"#DejaVuSans-48\"/>\r\n       <use x=\"63.623047\" xlink:href=\"#DejaVuSans-46\"/>\r\n       <use x=\"95.410156\" xlink:href=\"#DejaVuSans-56\"/>\r\n      </g>\r\n     </g>\r\n    </g>\r\n    <g id=\"xtick_6\">\r\n     <g id=\"line2d_6\">\r\n      <g>\r\n       <use style=\"stroke:#000000;stroke-width:0.8;\" x=\"363.363068\" xlink:href=\"#mdb12713d06\" y=\"239.758125\"/>\r\n      </g>\r\n     </g>\r\n     <g id=\"text_6\">\r\n      <!-- 1.0 -->\r\n      <defs>\r\n       <path d=\"M 12.40625 8.296875 \r\nL 28.515625 8.296875 \r\nL 28.515625 63.921875 \r\nL 10.984375 60.40625 \r\nL 10.984375 69.390625 \r\nL 28.421875 72.90625 \r\nL 38.28125 72.90625 \r\nL 38.28125 8.296875 \r\nL 54.390625 8.296875 \r\nL 54.390625 0 \r\nL 12.40625 0 \r\nz\r\n\" id=\"DejaVuSans-49\"/>\r\n      </defs>\r\n      <g transform=\"translate(355.411506 254.356562)scale(0.1 -0.1)\">\r\n       <use xlink:href=\"#DejaVuSans-49\"/>\r\n       <use x=\"63.623047\" xlink:href=\"#DejaVuSans-46\"/>\r\n       <use x=\"95.410156\" xlink:href=\"#DejaVuSans-48\"/>\r\n      </g>\r\n     </g>\r\n    </g>\r\n    <g id=\"text_7\">\r\n     <!-- False Positive Rate -->\r\n     <defs>\r\n      <path d=\"M 9.8125 72.90625 \r\nL 51.703125 72.90625 \r\nL 51.703125 64.59375 \r\nL 19.671875 64.59375 \r\nL 19.671875 43.109375 \r\nL 48.578125 43.109375 \r\nL 48.578125 34.8125 \r\nL 19.671875 34.8125 \r\nL 19.671875 0 \r\nL 9.8125 0 \r\nz\r\n\" id=\"DejaVuSans-70\"/>\r\n      <path d=\"M 34.28125 27.484375 \r\nQ 23.390625 27.484375 19.1875 25 \r\nQ 14.984375 22.515625 14.984375 16.5 \r\nQ 14.984375 11.71875 18.140625 8.90625 \r\nQ 21.296875 6.109375 26.703125 6.109375 \r\nQ 34.1875 6.109375 38.703125 11.40625 \r\nQ 43.21875 16.703125 43.21875 25.484375 \r\nL 43.21875 27.484375 \r\nz\r\nM 52.203125 31.203125 \r\nL 52.203125 0 \r\nL 43.21875 0 \r\nL 43.21875 8.296875 \r\nQ 40.140625 3.328125 35.546875 0.953125 \r\nQ 30.953125 -1.421875 24.3125 -1.421875 \r\nQ 15.921875 -1.421875 10.953125 3.296875 \r\nQ 6 8.015625 6 15.921875 \r\nQ 6 25.140625 12.171875 29.828125 \r\nQ 18.359375 34.515625 30.609375 34.515625 \r\nL 43.21875 34.515625 \r\nL 43.21875 35.40625 \r\nQ 43.21875 41.609375 39.140625 45 \r\nQ 35.0625 48.390625 27.6875 48.390625 \r\nQ 23 48.390625 18.546875 47.265625 \r\nQ 14.109375 46.140625 10.015625 43.890625 \r\nL 10.015625 52.203125 \r\nQ 14.9375 54.109375 19.578125 55.046875 \r\nQ 24.21875 56 28.609375 56 \r\nQ 40.484375 56 46.34375 49.84375 \r\nQ 52.203125 43.703125 52.203125 31.203125 \r\nz\r\n\" id=\"DejaVuSans-97\"/>\r\n      <path d=\"M 9.421875 75.984375 \r\nL 18.40625 75.984375 \r\nL 18.40625 0 \r\nL 9.421875 0 \r\nz\r\n\" id=\"DejaVuSans-108\"/>\r\n      <path d=\"M 44.28125 53.078125 \r\nL 44.28125 44.578125 \r\nQ 40.484375 46.53125 36.375 47.5 \r\nQ 32.28125 48.484375 27.875 48.484375 \r\nQ 21.1875 48.484375 17.84375 46.4375 \r\nQ 14.5 44.390625 14.5 40.28125 \r\nQ 14.5 37.15625 16.890625 35.375 \r\nQ 19.28125 33.59375 26.515625 31.984375 \r\nL 29.59375 31.296875 \r\nQ 39.15625 29.25 43.1875 25.515625 \r\nQ 47.21875 21.78125 47.21875 15.09375 \r\nQ 47.21875 7.46875 41.1875 3.015625 \r\nQ 35.15625 -1.421875 24.609375 -1.421875 \r\nQ 20.21875 -1.421875 15.453125 -0.5625 \r\nQ 10.6875 0.296875 5.421875 2 \r\nL 5.421875 11.28125 \r\nQ 10.40625 8.6875 15.234375 7.390625 \r\nQ 20.0625 6.109375 24.8125 6.109375 \r\nQ 31.15625 6.109375 34.5625 8.28125 \r\nQ 37.984375 10.453125 37.984375 14.40625 \r\nQ 37.984375 18.0625 35.515625 20.015625 \r\nQ 33.0625 21.96875 24.703125 23.78125 \r\nL 21.578125 24.515625 \r\nQ 13.234375 26.265625 9.515625 29.90625 \r\nQ 5.8125 33.546875 5.8125 39.890625 \r\nQ 5.8125 47.609375 11.28125 51.796875 \r\nQ 16.75 56 26.8125 56 \r\nQ 31.78125 56 36.171875 55.265625 \r\nQ 40.578125 54.546875 44.28125 53.078125 \r\nz\r\n\" id=\"DejaVuSans-115\"/>\r\n      <path d=\"M 56.203125 29.59375 \r\nL 56.203125 25.203125 \r\nL 14.890625 25.203125 \r\nQ 15.484375 15.921875 20.484375 11.0625 \r\nQ 25.484375 6.203125 34.421875 6.203125 \r\nQ 39.59375 6.203125 44.453125 7.46875 \r\nQ 49.3125 8.734375 54.109375 11.28125 \r\nL 54.109375 2.78125 \r\nQ 49.265625 0.734375 44.1875 -0.34375 \r\nQ 39.109375 -1.421875 33.890625 -1.421875 \r\nQ 20.796875 -1.421875 13.15625 6.1875 \r\nQ 5.515625 13.8125 5.515625 26.8125 \r\nQ 5.515625 40.234375 12.765625 48.109375 \r\nQ 20.015625 56 32.328125 56 \r\nQ 43.359375 56 49.78125 48.890625 \r\nQ 56.203125 41.796875 56.203125 29.59375 \r\nz\r\nM 47.21875 32.234375 \r\nQ 47.125 39.59375 43.09375 43.984375 \r\nQ 39.0625 48.390625 32.421875 48.390625 \r\nQ 24.90625 48.390625 20.390625 44.140625 \r\nQ 15.875 39.890625 15.1875 32.171875 \r\nz\r\n\" id=\"DejaVuSans-101\"/>\r\n      <path id=\"DejaVuSans-32\"/>\r\n      <path d=\"M 19.671875 64.796875 \r\nL 19.671875 37.40625 \r\nL 32.078125 37.40625 \r\nQ 38.96875 37.40625 42.71875 40.96875 \r\nQ 46.484375 44.53125 46.484375 51.125 \r\nQ 46.484375 57.671875 42.71875 61.234375 \r\nQ 38.96875 64.796875 32.078125 64.796875 \r\nz\r\nM 9.8125 72.90625 \r\nL 32.078125 72.90625 \r\nQ 44.34375 72.90625 50.609375 67.359375 \r\nQ 56.890625 61.8125 56.890625 51.125 \r\nQ 56.890625 40.328125 50.609375 34.8125 \r\nQ 44.34375 29.296875 32.078125 29.296875 \r\nL 19.671875 29.296875 \r\nL 19.671875 0 \r\nL 9.8125 0 \r\nz\r\n\" id=\"DejaVuSans-80\"/>\r\n      <path d=\"M 30.609375 48.390625 \r\nQ 23.390625 48.390625 19.1875 42.75 \r\nQ 14.984375 37.109375 14.984375 27.296875 \r\nQ 14.984375 17.484375 19.15625 11.84375 \r\nQ 23.34375 6.203125 30.609375 6.203125 \r\nQ 37.796875 6.203125 41.984375 11.859375 \r\nQ 46.1875 17.53125 46.1875 27.296875 \r\nQ 46.1875 37.015625 41.984375 42.703125 \r\nQ 37.796875 48.390625 30.609375 48.390625 \r\nz\r\nM 30.609375 56 \r\nQ 42.328125 56 49.015625 48.375 \r\nQ 55.71875 40.765625 55.71875 27.296875 \r\nQ 55.71875 13.875 49.015625 6.21875 \r\nQ 42.328125 -1.421875 30.609375 -1.421875 \r\nQ 18.84375 -1.421875 12.171875 6.21875 \r\nQ 5.515625 13.875 5.515625 27.296875 \r\nQ 5.515625 40.765625 12.171875 48.375 \r\nQ 18.84375 56 30.609375 56 \r\nz\r\n\" id=\"DejaVuSans-111\"/>\r\n      <path d=\"M 9.421875 54.6875 \r\nL 18.40625 54.6875 \r\nL 18.40625 0 \r\nL 9.421875 0 \r\nz\r\nM 9.421875 75.984375 \r\nL 18.40625 75.984375 \r\nL 18.40625 64.59375 \r\nL 9.421875 64.59375 \r\nz\r\n\" id=\"DejaVuSans-105\"/>\r\n      <path d=\"M 18.3125 70.21875 \r\nL 18.3125 54.6875 \r\nL 36.8125 54.6875 \r\nL 36.8125 47.703125 \r\nL 18.3125 47.703125 \r\nL 18.3125 18.015625 \r\nQ 18.3125 11.328125 20.140625 9.421875 \r\nQ 21.96875 7.515625 27.59375 7.515625 \r\nL 36.8125 7.515625 \r\nL 36.8125 0 \r\nL 27.59375 0 \r\nQ 17.1875 0 13.234375 3.875 \r\nQ 9.28125 7.765625 9.28125 18.015625 \r\nL 9.28125 47.703125 \r\nL 2.6875 47.703125 \r\nL 2.6875 54.6875 \r\nL 9.28125 54.6875 \r\nL 9.28125 70.21875 \r\nz\r\n\" id=\"DejaVuSans-116\"/>\r\n      <path d=\"M 2.984375 54.6875 \r\nL 12.5 54.6875 \r\nL 29.59375 8.796875 \r\nL 46.6875 54.6875 \r\nL 56.203125 54.6875 \r\nL 35.6875 0 \r\nL 23.484375 0 \r\nz\r\n\" id=\"DejaVuSans-118\"/>\r\n      <path d=\"M 44.390625 34.1875 \r\nQ 47.5625 33.109375 50.5625 29.59375 \r\nQ 53.5625 26.078125 56.59375 19.921875 \r\nL 66.609375 0 \r\nL 56 0 \r\nL 46.6875 18.703125 \r\nQ 43.0625 26.03125 39.671875 28.421875 \r\nQ 36.28125 30.8125 30.421875 30.8125 \r\nL 19.671875 30.8125 \r\nL 19.671875 0 \r\nL 9.8125 0 \r\nL 9.8125 72.90625 \r\nL 32.078125 72.90625 \r\nQ 44.578125 72.90625 50.734375 67.671875 \r\nQ 56.890625 62.453125 56.890625 51.90625 \r\nQ 56.890625 45.015625 53.6875 40.46875 \r\nQ 50.484375 35.9375 44.390625 34.1875 \r\nz\r\nM 19.671875 64.796875 \r\nL 19.671875 38.921875 \r\nL 32.078125 38.921875 \r\nQ 39.203125 38.921875 42.84375 42.21875 \r\nQ 46.484375 45.515625 46.484375 51.90625 \r\nQ 46.484375 58.296875 42.84375 61.546875 \r\nQ 39.203125 64.796875 32.078125 64.796875 \r\nz\r\n\" id=\"DejaVuSans-82\"/>\r\n     </defs>\r\n     <g transform=\"translate(164.714844 268.034687)scale(0.1 -0.1)\">\r\n      <use xlink:href=\"#DejaVuSans-70\"/>\r\n      <use x=\"48.394531\" xlink:href=\"#DejaVuSans-97\"/>\r\n      <use x=\"109.673828\" xlink:href=\"#DejaVuSans-108\"/>\r\n      <use x=\"137.457031\" xlink:href=\"#DejaVuSans-115\"/>\r\n      <use x=\"189.556641\" xlink:href=\"#DejaVuSans-101\"/>\r\n      <use x=\"251.080078\" xlink:href=\"#DejaVuSans-32\"/>\r\n      <use x=\"282.867188\" xlink:href=\"#DejaVuSans-80\"/>\r\n      <use x=\"339.544922\" xlink:href=\"#DejaVuSans-111\"/>\r\n      <use x=\"400.726562\" xlink:href=\"#DejaVuSans-115\"/>\r\n      <use x=\"452.826172\" xlink:href=\"#DejaVuSans-105\"/>\r\n      <use x=\"480.609375\" xlink:href=\"#DejaVuSans-116\"/>\r\n      <use x=\"519.818359\" xlink:href=\"#DejaVuSans-105\"/>\r\n      <use x=\"547.601562\" xlink:href=\"#DejaVuSans-118\"/>\r\n      <use x=\"606.78125\" xlink:href=\"#DejaVuSans-101\"/>\r\n      <use x=\"668.304688\" xlink:href=\"#DejaVuSans-32\"/>\r\n      <use x=\"700.091797\" xlink:href=\"#DejaVuSans-82\"/>\r\n      <use x=\"767.324219\" xlink:href=\"#DejaVuSans-97\"/>\r\n      <use x=\"828.603516\" xlink:href=\"#DejaVuSans-116\"/>\r\n      <use x=\"867.8125\" xlink:href=\"#DejaVuSans-101\"/>\r\n     </g>\r\n    </g>\r\n   </g>\r\n   <g id=\"matplotlib.axis_2\">\r\n    <g id=\"ytick_1\">\r\n     <g id=\"line2d_7\">\r\n      <defs>\r\n       <path d=\"M 0 0 \r\nL -3.5 0 \r\n\" id=\"m223a291333\" style=\"stroke:#000000;stroke-width:0.8;\"/>\r\n      </defs>\r\n      <g>\r\n       <use style=\"stroke:#000000;stroke-width:0.8;\" x=\"43.78125\" xlink:href=\"#m223a291333\" y=\"229.874489\"/>\r\n      </g>\r\n     </g>\r\n     <g id=\"text_8\">\r\n      <!-- 0.0 -->\r\n      <g transform=\"translate(20.878125 233.673707)scale(0.1 -0.1)\">\r\n       <use xlink:href=\"#DejaVuSans-48\"/>\r\n       <use x=\"63.623047\" xlink:href=\"#DejaVuSans-46\"/>\r\n       <use x=\"95.410156\" xlink:href=\"#DejaVuSans-48\"/>\r\n      </g>\r\n     </g>\r\n    </g>\r\n    <g id=\"ytick_2\">\r\n     <g id=\"line2d_8\">\r\n      <g>\r\n       <use style=\"stroke:#000000;stroke-width:0.8;\" x=\"43.78125\" xlink:href=\"#m223a291333\" y=\"190.339943\"/>\r\n      </g>\r\n     </g>\r\n     <g id=\"text_9\">\r\n      <!-- 0.2 -->\r\n      <g transform=\"translate(20.878125 194.139162)scale(0.1 -0.1)\">\r\n       <use xlink:href=\"#DejaVuSans-48\"/>\r\n       <use x=\"63.623047\" xlink:href=\"#DejaVuSans-46\"/>\r\n       <use x=\"95.410156\" xlink:href=\"#DejaVuSans-50\"/>\r\n      </g>\r\n     </g>\r\n    </g>\r\n    <g id=\"ytick_3\">\r\n     <g id=\"line2d_9\">\r\n      <g>\r\n       <use style=\"stroke:#000000;stroke-width:0.8;\" x=\"43.78125\" xlink:href=\"#m223a291333\" y=\"150.805398\"/>\r\n      </g>\r\n     </g>\r\n     <g id=\"text_10\">\r\n      <!-- 0.4 -->\r\n      <g transform=\"translate(20.878125 154.604616)scale(0.1 -0.1)\">\r\n       <use xlink:href=\"#DejaVuSans-48\"/>\r\n       <use x=\"63.623047\" xlink:href=\"#DejaVuSans-46\"/>\r\n       <use x=\"95.410156\" xlink:href=\"#DejaVuSans-52\"/>\r\n      </g>\r\n     </g>\r\n    </g>\r\n    <g id=\"ytick_4\">\r\n     <g id=\"line2d_10\">\r\n      <g>\r\n       <use style=\"stroke:#000000;stroke-width:0.8;\" x=\"43.78125\" xlink:href=\"#m223a291333\" y=\"111.270852\"/>\r\n      </g>\r\n     </g>\r\n     <g id=\"text_11\">\r\n      <!-- 0.6 -->\r\n      <g transform=\"translate(20.878125 115.070071)scale(0.1 -0.1)\">\r\n       <use xlink:href=\"#DejaVuSans-48\"/>\r\n       <use x=\"63.623047\" xlink:href=\"#DejaVuSans-46\"/>\r\n       <use x=\"95.410156\" xlink:href=\"#DejaVuSans-54\"/>\r\n      </g>\r\n     </g>\r\n    </g>\r\n    <g id=\"ytick_5\">\r\n     <g id=\"line2d_11\">\r\n      <g>\r\n       <use style=\"stroke:#000000;stroke-width:0.8;\" x=\"43.78125\" xlink:href=\"#m223a291333\" y=\"71.736307\"/>\r\n      </g>\r\n     </g>\r\n     <g id=\"text_12\">\r\n      <!-- 0.8 -->\r\n      <g transform=\"translate(20.878125 75.535526)scale(0.1 -0.1)\">\r\n       <use xlink:href=\"#DejaVuSans-48\"/>\r\n       <use x=\"63.623047\" xlink:href=\"#DejaVuSans-46\"/>\r\n       <use x=\"95.410156\" xlink:href=\"#DejaVuSans-56\"/>\r\n      </g>\r\n     </g>\r\n    </g>\r\n    <g id=\"ytick_6\">\r\n     <g id=\"line2d_12\">\r\n      <g>\r\n       <use style=\"stroke:#000000;stroke-width:0.8;\" x=\"43.78125\" xlink:href=\"#m223a291333\" y=\"32.201761\"/>\r\n      </g>\r\n     </g>\r\n     <g id=\"text_13\">\r\n      <!-- 1.0 -->\r\n      <g transform=\"translate(20.878125 36.00098)scale(0.1 -0.1)\">\r\n       <use xlink:href=\"#DejaVuSans-49\"/>\r\n       <use x=\"63.623047\" xlink:href=\"#DejaVuSans-46\"/>\r\n       <use x=\"95.410156\" xlink:href=\"#DejaVuSans-48\"/>\r\n      </g>\r\n     </g>\r\n    </g>\r\n    <g id=\"text_14\">\r\n     <!-- True Positive Rate -->\r\n     <defs>\r\n      <path d=\"M -0.296875 72.90625 \r\nL 61.375 72.90625 \r\nL 61.375 64.59375 \r\nL 35.5 64.59375 \r\nL 35.5 0 \r\nL 25.59375 0 \r\nL 25.59375 64.59375 \r\nL -0.296875 64.59375 \r\nz\r\n\" id=\"DejaVuSans-84\"/>\r\n      <path d=\"M 41.109375 46.296875 \r\nQ 39.59375 47.171875 37.8125 47.578125 \r\nQ 36.03125 48 33.890625 48 \r\nQ 26.265625 48 22.1875 43.046875 \r\nQ 18.109375 38.09375 18.109375 28.8125 \r\nL 18.109375 0 \r\nL 9.078125 0 \r\nL 9.078125 54.6875 \r\nL 18.109375 54.6875 \r\nL 18.109375 46.1875 \r\nQ 20.953125 51.171875 25.484375 53.578125 \r\nQ 30.03125 56 36.53125 56 \r\nQ 37.453125 56 38.578125 55.875 \r\nQ 39.703125 55.765625 41.0625 55.515625 \r\nz\r\n\" id=\"DejaVuSans-114\"/>\r\n      <path d=\"M 8.5 21.578125 \r\nL 8.5 54.6875 \r\nL 17.484375 54.6875 \r\nL 17.484375 21.921875 \r\nQ 17.484375 14.15625 20.5 10.265625 \r\nQ 23.53125 6.390625 29.59375 6.390625 \r\nQ 36.859375 6.390625 41.078125 11.03125 \r\nQ 45.3125 15.671875 45.3125 23.6875 \r\nL 45.3125 54.6875 \r\nL 54.296875 54.6875 \r\nL 54.296875 0 \r\nL 45.3125 0 \r\nL 45.3125 8.40625 \r\nQ 42.046875 3.421875 37.71875 1 \r\nQ 33.40625 -1.421875 27.6875 -1.421875 \r\nQ 18.265625 -1.421875 13.375 4.4375 \r\nQ 8.5 10.296875 8.5 21.578125 \r\nz\r\nM 31.109375 56 \r\nz\r\n\" id=\"DejaVuSans-117\"/>\r\n     </defs>\r\n     <g transform=\"translate(14.798438 175.567812)rotate(-90)scale(0.1 -0.1)\">\r\n      <use xlink:href=\"#DejaVuSans-84\"/>\r\n      <use x=\"46.333984\" xlink:href=\"#DejaVuSans-114\"/>\r\n      <use x=\"87.447266\" xlink:href=\"#DejaVuSans-117\"/>\r\n      <use x=\"150.826172\" xlink:href=\"#DejaVuSans-101\"/>\r\n      <use x=\"212.349609\" xlink:href=\"#DejaVuSans-32\"/>\r\n      <use x=\"244.136719\" xlink:href=\"#DejaVuSans-80\"/>\r\n      <use x=\"300.814453\" xlink:href=\"#DejaVuSans-111\"/>\r\n      <use x=\"361.996094\" xlink:href=\"#DejaVuSans-115\"/>\r\n      <use x=\"414.095703\" xlink:href=\"#DejaVuSans-105\"/>\r\n      <use x=\"441.878906\" xlink:href=\"#DejaVuSans-116\"/>\r\n      <use x=\"481.087891\" xlink:href=\"#DejaVuSans-105\"/>\r\n      <use x=\"508.871094\" xlink:href=\"#DejaVuSans-118\"/>\r\n      <use x=\"568.050781\" xlink:href=\"#DejaVuSans-101\"/>\r\n      <use x=\"629.574219\" xlink:href=\"#DejaVuSans-32\"/>\r\n      <use x=\"661.361328\" xlink:href=\"#DejaVuSans-82\"/>\r\n      <use x=\"728.59375\" xlink:href=\"#DejaVuSans-97\"/>\r\n      <use x=\"789.873047\" xlink:href=\"#DejaVuSans-116\"/>\r\n      <use x=\"829.082031\" xlink:href=\"#DejaVuSans-101\"/>\r\n     </g>\r\n    </g>\r\n   </g>\r\n   <g id=\"line2d_13\">\r\n    <path clip-path=\"url(#pd5cddb840c)\" d=\"M 58.999432 229.874489 \r\nL 58.999432 168.969919 \r\nL 58.999432 167.901417 \r\nL 58.999432 163.627412 \r\nL 58.999432 162.558911 \r\nL 58.999432 160.421909 \r\nL 58.999432 157.216405 \r\nL 58.999432 150.805398 \r\nL 58.999432 148.668395 \r\nL 58.999432 112.339354 \r\nL 58.999432 110.202351 \r\nL 58.999432 108.065349 \r\nL 58.999432 105.928346 \r\nL 58.999432 96.311835 \r\nL 58.999432 94.174833 \r\nL 58.999432 87.763825 \r\nL 58.999432 85.626823 \r\nL 58.999432 42.886774 \r\nL 59.503345 42.886774 \r\nL 60.007258 42.886774 \r\nL 62.526825 42.886774 \r\nL 62.526825 41.818272 \r\nL 63.030738 41.818272 \r\nL 63.030738 38.612769 \r\nL 65.802261 38.612769 \r\nL 66.306175 38.612769 \r\nL 67.565958 38.612769 \r\nL 70.841394 38.612769 \r\nL 72.605091 38.612769 \r\nL 73.109004 38.612769 \r\nL 74.116831 38.612769 \r\nL 76.384441 38.612769 \r\nL 77.392267 38.612769 \r\nL 77.644224 38.612769 \r\nL 77.644224 37.544268 \r\nL 78.400094 37.544268 \r\nL 79.911834 37.544268 \r\nL 80.415747 37.544268 \r\nL 81.423574 37.544268 \r\nL 81.927487 37.544268 \r\nL 84.447054 37.544268 \r\nL 85.958794 37.544268 \r\nL 87.974447 37.544268 \r\nL 88.47836 37.544268 \r\nL 89.738143 37.544268 \r\nL 90.242057 37.544268 \r\nL 94.52532 37.544268 \r\nL 95.029233 37.544268 \r\nL 97.5488 37.544268 \r\nL 98.052713 37.544268 \r\nL 99.06054 37.544268 \r\nL 99.564453 37.544268 \r\nL 101.832063 37.544268 \r\nL 102.335976 37.544268 \r\nL 103.595759 37.544268 \r\nL 105.611413 37.544268 \r\nL 105.611413 36.475766 \r\nL 107.375109 36.475766 \r\nL 107.879022 36.475766 \r\nL 108.634892 36.475766 \r\nL 109.138806 36.475766 \r\nL 122.744465 36.475766 \r\nL 123.248378 36.475766 \r\nL 128.791425 36.475766 \r\nL 129.295338 36.475766 \r\nL 130.807078 36.475766 \r\nL 131.562948 36.475766 \r\nL 140.129474 36.475766 \r\nL 140.129474 35.407265 \r\nL 142.397084 35.407265 \r\nL 142.900997 35.407265 \r\nL 148.192087 35.407265 \r\nL 148.192087 34.338764 \r\nL 150.96361 34.338764 \r\nL 151.467523 34.338764 \r\nL 152.47535 34.338764 \r\nL 152.47535 33.270263 \r\nL 154.239047 33.270263 \r\nL 154.239047 32.201761 \r\nL 156.506656 32.201761 \r\nL 157.01057 32.201761 \r\nL 171.876012 32.201761 \r\nL 172.379925 32.201761 \r\nL 176.159275 32.201761 \r\nL 176.663189 32.201761 \r\nL 192.032544 32.201761 \r\nL 192.788414 32.201761 \r\nL 201.606897 32.201761 \r\nL 202.110811 32.201761 \r\nL 239.400395 32.201761 \r\nL 239.904308 32.201761 \r\nL 255.021708 32.201761 \r\nL 257.541274 32.201761 \r\nL 271.650847 32.201761 \r\nL 272.15476 32.201761 \r\nL 296.594555 32.201761 \r\nL 297.098469 32.201761 \r\nL 303.397385 32.201761 \r\nL 303.901298 32.201761 \r\nL 318.766741 32.201761 \r\nL 319.270654 32.201761 \r\nL 322.54609 32.201761 \r\nL 323.050004 32.201761 \r\nL 345.222189 32.201761 \r\nL 345.726102 32.201761 \r\nL 351.017192 32.201761 \r\nL 351.521106 32.201761 \r\nL 354.292629 32.201761 \r\nL 355.048499 32.201761 \r\nL 363.363068 32.201761 \r\n\" style=\"fill:none;stroke:#1f77b4;stroke-linecap:square;stroke-width:1.5;\"/>\r\n   </g>\r\n   <g id=\"patch_3\">\r\n    <path d=\"M 43.78125 239.758125 \r\nL 43.78125 22.318125 \r\n\" style=\"fill:none;stroke:#000000;stroke-linecap:square;stroke-linejoin:miter;stroke-width:0.8;\"/>\r\n   </g>\r\n   <g id=\"patch_4\">\r\n    <path d=\"M 378.58125 239.758125 \r\nL 378.58125 22.318125 \r\n\" style=\"fill:none;stroke:#000000;stroke-linecap:square;stroke-linejoin:miter;stroke-width:0.8;\"/>\r\n   </g>\r\n   <g id=\"patch_5\">\r\n    <path d=\"M 43.78125 239.758125 \r\nL 378.58125 239.758125 \r\n\" style=\"fill:none;stroke:#000000;stroke-linecap:square;stroke-linejoin:miter;stroke-width:0.8;\"/>\r\n   </g>\r\n   <g id=\"patch_6\">\r\n    <path d=\"M 43.78125 22.318125 \r\nL 378.58125 22.318125 \r\n\" style=\"fill:none;stroke:#000000;stroke-linecap:square;stroke-linejoin:miter;stroke-width:0.8;\"/>\r\n   </g>\r\n   <g id=\"text_15\">\r\n    <!-- ROC -->\r\n    <defs>\r\n     <path d=\"M 39.40625 66.21875 \r\nQ 28.65625 66.21875 22.328125 58.203125 \r\nQ 16.015625 50.203125 16.015625 36.375 \r\nQ 16.015625 22.609375 22.328125 14.59375 \r\nQ 28.65625 6.59375 39.40625 6.59375 \r\nQ 50.140625 6.59375 56.421875 14.59375 \r\nQ 62.703125 22.609375 62.703125 36.375 \r\nQ 62.703125 50.203125 56.421875 58.203125 \r\nQ 50.140625 66.21875 39.40625 66.21875 \r\nz\r\nM 39.40625 74.21875 \r\nQ 54.734375 74.21875 63.90625 63.9375 \r\nQ 73.09375 53.65625 73.09375 36.375 \r\nQ 73.09375 19.140625 63.90625 8.859375 \r\nQ 54.734375 -1.421875 39.40625 -1.421875 \r\nQ 24.03125 -1.421875 14.8125 8.828125 \r\nQ 5.609375 19.09375 5.609375 36.375 \r\nQ 5.609375 53.65625 14.8125 63.9375 \r\nQ 24.03125 74.21875 39.40625 74.21875 \r\nz\r\n\" id=\"DejaVuSans-79\"/>\r\n     <path d=\"M 64.40625 67.28125 \r\nL 64.40625 56.890625 \r\nQ 59.421875 61.53125 53.78125 63.8125 \r\nQ 48.140625 66.109375 41.796875 66.109375 \r\nQ 29.296875 66.109375 22.65625 58.46875 \r\nQ 16.015625 50.828125 16.015625 36.375 \r\nQ 16.015625 21.96875 22.65625 14.328125 \r\nQ 29.296875 6.6875 41.796875 6.6875 \r\nQ 48.140625 6.6875 53.78125 8.984375 \r\nQ 59.421875 11.28125 64.40625 15.921875 \r\nL 64.40625 5.609375 \r\nQ 59.234375 2.09375 53.4375 0.328125 \r\nQ 47.65625 -1.421875 41.21875 -1.421875 \r\nQ 24.65625 -1.421875 15.125 8.703125 \r\nQ 5.609375 18.84375 5.609375 36.375 \r\nQ 5.609375 53.953125 15.125 64.078125 \r\nQ 24.65625 74.21875 41.21875 74.21875 \r\nQ 47.75 74.21875 53.53125 72.484375 \r\nQ 59.328125 70.75 64.40625 67.28125 \r\nz\r\n\" id=\"DejaVuSans-67\"/>\r\n    </defs>\r\n    <g transform=\"translate(198.099375 16.318125)scale(0.12 -0.12)\">\r\n     <use xlink:href=\"#DejaVuSans-82\"/>\r\n     <use x=\"69.482422\" xlink:href=\"#DejaVuSans-79\"/>\r\n     <use x=\"148.193359\" xlink:href=\"#DejaVuSans-67\"/>\r\n    </g>\r\n   </g>\r\n  </g>\r\n </g>\r\n <defs>\r\n  <clipPath id=\"pd5cddb840c\">\r\n   <rect height=\"217.44\" width=\"334.8\" x=\"43.78125\" y=\"22.318125\"/>\r\n  </clipPath>\r\n </defs>\r\n</svg>\r\n",
      "image/png": "[encoded data removed]"
     },
     "metadata": {
      "needs_background": "light"
     }
    }
   ],
   "source": [
    "# plotting the ROC curve\n",
    "%matplotlib inline  \n",
    "plt.ylabel('True Positive Rate')\n",
    "plt.xlabel('False Positive Rate')\n",
    "plt.title('ROC')\n",
    "plt.plot(false_positive_rate, true_positive_rate)"
   ]
  },
  {
   "cell_type": "code",
   "execution_count": null,
   "metadata": {},
   "outputs": [],
   "source": []
  }
 ],
 "metadata": {
  "anaconda-cloud": {},
  "kernelspec": {
   "name": "python3",
   "display_name": "Python 3.8.3 64-bit ('.venv')",
   "metadata": {
    "interpreter": {
     "hash": "b507fa764e1ac951ac859d6b36c0c5568f99e59d793d9909ca5bc1fcdae82b50"
    }
   }
  },
  "language_info": {
   "codemirror_mode": {
    "name": "ipython",
    "version": 3
   },
   "file_extension": ".py",
   "mimetype": "text/x-python",
   "name": "python",
   "nbconvert_exporter": "python",
   "pygments_lexer": "ipython3",
   "version": "3.8.3-final"
  }
 },
 "nbformat": 4,
 "nbformat_minor": 1
}