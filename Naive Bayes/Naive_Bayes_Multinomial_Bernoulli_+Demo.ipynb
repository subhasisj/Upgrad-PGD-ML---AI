{
 "cells": [
  {
   "cell_type": "markdown",
   "metadata": {},
   "source": [
    "## Multinomial and Bernoulli Naive Bayes"
   ]
  },
  {
   "cell_type": "markdown",
   "metadata": {},
   "source": [
    "For understanding Multinomial and Bernoulli Naive Bayes, we will start with a small example and understand the end to end process. In another notebook, we will build a full-fledged email spam classifier.\n",
    "\n",
    "To start with, let's take a few sentences and classify them in two different classes - *education* or *cinema*. Each sentence will represent one document. In real-world cases, a document be any piece of text such as an email, a news article, a book review, a tweet etc.\n",
    "The analysis and the algorithm involved doesn’t depend on the type of document we use."
   ]
  },
  {
   "cell_type": "markdown",
   "metadata": {},
   "source": [
    "The notebook is divided into the following sections:\n",
    "1. Importing and preprocessing data\n",
    "2. Building the model: Multinomial Naive Bayes\n",
    "3. Building the model: Bernoulli Naive Bayes"
   ]
  },
  {
   "cell_type": "markdown",
   "metadata": {},
   "source": [
    "### 1. Importing and Preprocessing Data\n",
    "\n",
    "Let us first look at the sentences and their classes. We have kept the training sentences in file example_train.csv. Test sentences have been put in the file example_test.csv."
   ]
  },
  {
   "cell_type": "code",
   "execution_count": 1,
   "metadata": {},
   "outputs": [
    {
     "output_type": "execute_result",
     "data": {
      "text/plain": [
       "                                            Document      Class\n",
       "0         Upgrad is a great educational institution.  education\n",
       "1            Educational greatness depends on ethics  education\n",
       "2  A story of great ethics and educational greatness  education\n",
       "3                           Sholey is a great cinema     cinema\n",
       "4                   good movie depends on good story     cinema"
      ],
      "text/html": "<div>\n<style scoped>\n    .dataframe tbody tr th:only-of-type {\n        vertical-align: middle;\n    }\n\n    .dataframe tbody tr th {\n        vertical-align: top;\n    }\n\n    .dataframe thead th {\n        text-align: right;\n    }\n</style>\n<table border=\"1\" class=\"dataframe\">\n  <thead>\n    <tr style=\"text-align: right;\">\n      <th></th>\n      <th>Document</th>\n      <th>Class</th>\n    </tr>\n  </thead>\n  <tbody>\n    <tr>\n      <th>0</th>\n      <td>Upgrad is a great educational institution.</td>\n      <td>education</td>\n    </tr>\n    <tr>\n      <th>1</th>\n      <td>Educational greatness depends on ethics</td>\n      <td>education</td>\n    </tr>\n    <tr>\n      <th>2</th>\n      <td>A story of great ethics and educational greatness</td>\n      <td>education</td>\n    </tr>\n    <tr>\n      <th>3</th>\n      <td>Sholey is a great cinema</td>\n      <td>cinema</td>\n    </tr>\n    <tr>\n      <th>4</th>\n      <td>good movie depends on good story</td>\n      <td>cinema</td>\n    </tr>\n  </tbody>\n</table>\n</div>"
     },
     "metadata": {},
     "execution_count": 1
    }
   ],
   "source": [
    "import numpy as np\n",
    "import pandas as pd\n",
    "import sklearn\n",
    "\n",
    "# training data\n",
    "train_docs = pd.read_csv('example_train.csv') \n",
    "train_docs"
   ]
  },
  {
   "cell_type": "markdown",
   "metadata": {},
   "source": [
    "So as you can see there are 5 documents (sentences) , 3 are of \"education\" class and 2 are of \"cinema\" class."
   ]
  },
  {
   "cell_type": "code",
   "execution_count": 2,
   "metadata": {},
   "outputs": [
    {
     "output_type": "execute_result",
     "data": {
      "text/plain": [
       "                                            Document  Class\n",
       "0         Upgrad is a great educational institution.      1\n",
       "1            Educational greatness depends on ethics      1\n",
       "2  A story of great ethics and educational greatness      1\n",
       "3                           Sholey is a great cinema      0\n",
       "4                   good movie depends on good story      0"
      ],
      "text/html": "<div>\n<style scoped>\n    .dataframe tbody tr th:only-of-type {\n        vertical-align: middle;\n    }\n\n    .dataframe tbody tr th {\n        vertical-align: top;\n    }\n\n    .dataframe thead th {\n        text-align: right;\n    }\n</style>\n<table border=\"1\" class=\"dataframe\">\n  <thead>\n    <tr style=\"text-align: right;\">\n      <th></th>\n      <th>Document</th>\n      <th>Class</th>\n    </tr>\n  </thead>\n  <tbody>\n    <tr>\n      <th>0</th>\n      <td>Upgrad is a great educational institution.</td>\n      <td>1</td>\n    </tr>\n    <tr>\n      <th>1</th>\n      <td>Educational greatness depends on ethics</td>\n      <td>1</td>\n    </tr>\n    <tr>\n      <th>2</th>\n      <td>A story of great ethics and educational greatness</td>\n      <td>1</td>\n    </tr>\n    <tr>\n      <th>3</th>\n      <td>Sholey is a great cinema</td>\n      <td>0</td>\n    </tr>\n    <tr>\n      <th>4</th>\n      <td>good movie depends on good story</td>\n      <td>0</td>\n    </tr>\n  </tbody>\n</table>\n</div>"
     },
     "metadata": {},
     "execution_count": 2
    }
   ],
   "source": [
    "# convert label to a numerical variable\n",
    "train_docs['Class'] = train_docs.Class.map({'cinema':0, 'education':1})\n",
    "train_docs"
   ]
  },
  {
   "cell_type": "markdown",
   "metadata": {},
   "source": [
    "Let's now split the dataframe into X and y labels."
   ]
  },
  {
   "cell_type": "code",
   "execution_count": 3,
   "metadata": {},
   "outputs": [
    {
     "output_type": "stream",
     "name": "stdout",
     "text": [
      "X_train\n['Upgrad is a great educational institution.'\n 'Educational greatness depends on ethics'\n 'A story of great ethics and educational greatness'\n 'Sholey is a great cinema' 'good movie depends on good story']\ny_train\n[1 1 1 0 0]\n"
     ]
    }
   ],
   "source": [
    "# convert the df to a numpy array \n",
    "train_array = train_docs.values\n",
    "\n",
    "# split X and y\n",
    "X_train = train_array[:,0]\n",
    "y_train = train_array[:,1]\n",
    "y_train = y_train.astype('int') # sklearn needs y as integers\n",
    "\n",
    "print(\"X_train\")\n",
    "print(X_train)\n",
    "print(\"y_train\")\n",
    "print(y_train)"
   ]
  },
  {
   "cell_type": "markdown",
   "metadata": {},
   "source": [
    "### Creating the Bag of Words Representation\n",
    "\n",
    "We now have to convert the data into a format which can be used for training the model. We'll use the **bag of words representation** for each sentence (document).\n",
    "\n",
    "Imagine breaking X in individual words and putting them all in a bag. Then we pick all the unique words from the bag one by one and make a dictionary of unique words. \n",
    "\n",
    "This is called **vectorization of words**. We have the class ```CountVectorizer()``` in scikit learn to vectorize the words. \n"
   ]
  },
  {
   "cell_type": "code",
   "execution_count": 4,
   "metadata": {},
   "outputs": [
    {
     "output_type": "stream",
     "name": "stdout",
     "text": [
      "Help on class CountVectorizer in module sklearn.feature_extraction.text:\n\nclass CountVectorizer(_VectorizerMixin, sklearn.base.BaseEstimator)\n |  CountVectorizer(*, input='content', encoding='utf-8', decode_error='strict', strip_accents=None, lowercase=True, preprocessor=None, tokenizer=None, stop_words=None, token_pattern='(?u)\\\\b\\\\w\\\\w+\\\\b', ngram_range=(1, 1), analyzer='word', max_df=1.0, min_df=1, max_features=None, vocabulary=None, binary=False, dtype=<class 'numpy.int64'>)\n |  \n |  Convert a collection of text documents to a matrix of token counts\n |  \n |  This implementation produces a sparse representation of the counts using\n |  scipy.sparse.csr_matrix.\n |  \n |  If you do not provide an a-priori dictionary and you do not use an analyzer\n |  that does some kind of feature selection then the number of features will\n |  be equal to the vocabulary size found by analyzing the data.\n |  \n |  Read more in the :ref:`User Guide <text_feature_extraction>`.\n |  \n |  Parameters\n |  ----------\n |  input : string {'filename', 'file', 'content'}, default='content'\n |      If 'filename', the sequence passed as an argument to fit is\n |      expected to be a list of filenames that need reading to fetch\n |      the raw content to analyze.\n |  \n |      If 'file', the sequence items must have a 'read' method (file-like\n |      object) that is called to fetch the bytes in memory.\n |  \n |      Otherwise the input is expected to be a sequence of items that\n |      can be of type string or byte.\n |  \n |  encoding : string, default='utf-8'\n |      If bytes or files are given to analyze, this encoding is used to\n |      decode.\n |  \n |  decode_error : {'strict', 'ignore', 'replace'}, default='strict'\n |      Instruction on what to do if a byte sequence is given to analyze that\n |      contains characters not of the given `encoding`. By default, it is\n |      'strict', meaning that a UnicodeDecodeError will be raised. Other\n |      values are 'ignore' and 'replace'.\n |  \n |  strip_accents : {'ascii', 'unicode'}, default=None\n |      Remove accents and perform other character normalization\n |      during the preprocessing step.\n |      'ascii' is a fast method that only works on characters that have\n |      an direct ASCII mapping.\n |      'unicode' is a slightly slower method that works on any characters.\n |      None (default) does nothing.\n |  \n |      Both 'ascii' and 'unicode' use NFKD normalization from\n |      :func:`unicodedata.normalize`.\n |  \n |  lowercase : bool, default=True\n |      Convert all characters to lowercase before tokenizing.\n |  \n |  preprocessor : callable, default=None\n |      Override the preprocessing (string transformation) stage while\n |      preserving the tokenizing and n-grams generation steps.\n |      Only applies if ``analyzer is not callable``.\n |  \n |  tokenizer : callable, default=None\n |      Override the string tokenization step while preserving the\n |      preprocessing and n-grams generation steps.\n |      Only applies if ``analyzer == 'word'``.\n |  \n |  stop_words : string {'english'}, list, default=None\n |      If 'english', a built-in stop word list for English is used.\n |      There are several known issues with 'english' and you should\n |      consider an alternative (see :ref:`stop_words`).\n |  \n |      If a list, that list is assumed to contain stop words, all of which\n |      will be removed from the resulting tokens.\n |      Only applies if ``analyzer == 'word'``.\n |  \n |      If None, no stop words will be used. max_df can be set to a value\n |      in the range [0.7, 1.0) to automatically detect and filter stop\n |      words based on intra corpus document frequency of terms.\n |  \n |  token_pattern : string\n |      Regular expression denoting what constitutes a \"token\", only used\n |      if ``analyzer == 'word'``. The default regexp select tokens of 2\n |      or more alphanumeric characters (punctuation is completely ignored\n |      and always treated as a token separator).\n |  \n |  ngram_range : tuple (min_n, max_n), default=(1, 1)\n |      The lower and upper boundary of the range of n-values for different\n |      word n-grams or char n-grams to be extracted. All values of n such\n |      such that min_n <= n <= max_n will be used. For example an\n |      ``ngram_range`` of ``(1, 1)`` means only unigrams, ``(1, 2)`` means\n |      unigrams and bigrams, and ``(2, 2)`` means only bigrams.\n |      Only applies if ``analyzer is not callable``.\n |  \n |  analyzer : string, {'word', 'char', 'char_wb'} or callable,             default='word'\n |      Whether the feature should be made of word n-gram or character\n |      n-grams.\n |      Option 'char_wb' creates character n-grams only from text inside\n |      word boundaries; n-grams at the edges of words are padded with space.\n |  \n |      If a callable is passed it is used to extract the sequence of features\n |      out of the raw, unprocessed input.\n |  \n |      .. versionchanged:: 0.21\n |  \n |      Since v0.21, if ``input`` is ``filename`` or ``file``, the data is\n |      first read from the file and then passed to the given callable\n |      analyzer.\n |  \n |  max_df : float in range [0.0, 1.0] or int, default=1.0\n |      When building the vocabulary ignore terms that have a document\n |      frequency strictly higher than the given threshold (corpus-specific\n |      stop words).\n |      If float, the parameter represents a proportion of documents, integer\n |      absolute counts.\n |      This parameter is ignored if vocabulary is not None.\n |  \n |  min_df : float in range [0.0, 1.0] or int, default=1\n |      When building the vocabulary ignore terms that have a document\n |      frequency strictly lower than the given threshold. This value is also\n |      called cut-off in the literature.\n |      If float, the parameter represents a proportion of documents, integer\n |      absolute counts.\n |      This parameter is ignored if vocabulary is not None.\n |  \n |  max_features : int, default=None\n |      If not None, build a vocabulary that only consider the top\n |      max_features ordered by term frequency across the corpus.\n |  \n |      This parameter is ignored if vocabulary is not None.\n |  \n |  vocabulary : Mapping or iterable, default=None\n |      Either a Mapping (e.g., a dict) where keys are terms and values are\n |      indices in the feature matrix, or an iterable over terms. If not\n |      given, a vocabulary is determined from the input documents. Indices\n |      in the mapping should not be repeated and should not have any gap\n |      between 0 and the largest index.\n |  \n |  binary : bool, default=False\n |      If True, all non zero counts are set to 1. This is useful for discrete\n |      probabilistic models that model binary events rather than integer\n |      counts.\n |  \n |  dtype : type, default=np.int64\n |      Type of the matrix returned by fit_transform() or transform().\n |  \n |  Attributes\n |  ----------\n |  vocabulary_ : dict\n |      A mapping of terms to feature indices.\n |  \n |  fixed_vocabulary_: boolean\n |      True if a fixed vocabulary of term to indices mapping\n |      is provided by the user\n |  \n |  stop_words_ : set\n |      Terms that were ignored because they either:\n |  \n |        - occurred in too many documents (`max_df`)\n |        - occurred in too few documents (`min_df`)\n |        - were cut off by feature selection (`max_features`).\n |  \n |      This is only available if no vocabulary was given.\n |  \n |  Examples\n |  --------\n |  >>> from sklearn.feature_extraction.text import CountVectorizer\n |  >>> corpus = [\n |  ...     'This is the first document.',\n |  ...     'This document is the second document.',\n |  ...     'And this is the third one.',\n |  ...     'Is this the first document?',\n |  ... ]\n |  >>> vectorizer = CountVectorizer()\n |  >>> X = vectorizer.fit_transform(corpus)\n |  >>> print(vectorizer.get_feature_names())\n |  ['and', 'document', 'first', 'is', 'one', 'second', 'the', 'third', 'this']\n |  >>> print(X.toarray())\n |  [[0 1 1 1 0 0 1 0 1]\n |   [0 2 0 1 0 1 1 0 1]\n |   [1 0 0 1 1 0 1 1 1]\n |   [0 1 1 1 0 0 1 0 1]]\n |  >>> vectorizer2 = CountVectorizer(analyzer='word', ngram_range=(2, 2))\n |  >>> X2 = vectorizer2.fit_transform(corpus)\n |  >>> print(vectorizer2.get_feature_names())\n |  ['and this', 'document is', 'first document', 'is the', 'is this',\n |  'second document', 'the first', 'the second', 'the third', 'third one',\n |   'this document', 'this is', 'this the']\n |   >>> print(X2.toarray())\n |   [[0 0 1 1 0 0 1 0 0 0 0 1 0]\n |   [0 1 0 1 0 1 0 1 0 0 1 0 0]\n |   [1 0 0 1 0 0 0 0 1 1 0 1 0]\n |   [0 0 1 0 1 0 1 0 0 0 0 0 1]]\n |  \n |  See Also\n |  --------\n |  HashingVectorizer, TfidfVectorizer\n |  \n |  Notes\n |  -----\n |  The ``stop_words_`` attribute can get large and increase the model size\n |  when pickling. This attribute is provided only for introspection and can\n |  be safely removed using delattr or set to None before pickling.\n |  \n |  Method resolution order:\n |      CountVectorizer\n |      _VectorizerMixin\n |      sklearn.base.BaseEstimator\n |      builtins.object\n |  \n |  Methods defined here:\n |  \n |  __init__(self, *, input='content', encoding='utf-8', decode_error='strict', strip_accents=None, lowercase=True, preprocessor=None, tokenizer=None, stop_words=None, token_pattern='(?u)\\\\b\\\\w\\\\w+\\\\b', ngram_range=(1, 1), analyzer='word', max_df=1.0, min_df=1, max_features=None, vocabulary=None, binary=False, dtype=<class 'numpy.int64'>)\n |      Initialize self.  See help(type(self)) for accurate signature.\n |  \n |  fit(self, raw_documents, y=None)\n |      Learn a vocabulary dictionary of all tokens in the raw documents.\n |      \n |      Parameters\n |      ----------\n |      raw_documents : iterable\n |          An iterable which yields either str, unicode or file objects.\n |      \n |      Returns\n |      -------\n |      self\n |  \n |  fit_transform(self, raw_documents, y=None)\n |      Learn the vocabulary dictionary and return document-term matrix.\n |      \n |      This is equivalent to fit followed by transform, but more efficiently\n |      implemented.\n |      \n |      Parameters\n |      ----------\n |      raw_documents : iterable\n |          An iterable which yields either str, unicode or file objects.\n |      \n |      Returns\n |      -------\n |      X : array of shape (n_samples, n_features)\n |          Document-term matrix.\n |  \n |  get_feature_names(self)\n |      Array mapping from feature integer indices to feature name.\n |      \n |      Returns\n |      -------\n |      feature_names : list\n |          A list of feature names.\n |  \n |  inverse_transform(self, X)\n |      Return terms per document with nonzero entries in X.\n |      \n |      Parameters\n |      ----------\n |      X : {array-like, sparse matrix} of shape (n_samples, n_features)\n |          Document-term matrix.\n |      \n |      Returns\n |      -------\n |      X_inv : list of arrays of shape (n_samples,)\n |          List of arrays of terms.\n |  \n |  transform(self, raw_documents)\n |      Transform documents to document-term matrix.\n |      \n |      Extract token counts out of raw text documents using the vocabulary\n |      fitted with fit or the one provided to the constructor.\n |      \n |      Parameters\n |      ----------\n |      raw_documents : iterable\n |          An iterable which yields either str, unicode or file objects.\n |      \n |      Returns\n |      -------\n |      X : sparse matrix of shape (n_samples, n_features)\n |          Document-term matrix.\n |  \n |  ----------------------------------------------------------------------\n |  Methods inherited from _VectorizerMixin:\n |  \n |  build_analyzer(self)\n |      Return a callable that handles preprocessing, tokenization\n |      and n-grams generation.\n |      \n |      Returns\n |      -------\n |      analyzer: callable\n |          A function to handle preprocessing, tokenization\n |          and n-grams generation.\n |  \n |  build_preprocessor(self)\n |      Return a function to preprocess the text before tokenization.\n |      \n |      Returns\n |      -------\n |      preprocessor: callable\n |            A function to preprocess the text before tokenization.\n |  \n |  build_tokenizer(self)\n |      Return a function that splits a string into a sequence of tokens.\n |      \n |      Returns\n |      -------\n |      tokenizer: callable\n |            A function to split a string into a sequence of tokens.\n |  \n |  decode(self, doc)\n |      Decode the input into a string of unicode symbols.\n |      \n |      The decoding strategy depends on the vectorizer parameters.\n |      \n |      Parameters\n |      ----------\n |      doc : str\n |          The string to decode.\n |      \n |      Returns\n |      -------\n |      doc: str\n |          A string of unicode symbols.\n |  \n |  get_stop_words(self)\n |      Build or fetch the effective stop words list.\n |      \n |      Returns\n |      -------\n |      stop_words: list or None\n |              A list of stop words.\n |  \n |  ----------------------------------------------------------------------\n |  Data descriptors inherited from _VectorizerMixin:\n |  \n |  __dict__\n |      dictionary for instance variables (if defined)\n |  \n |  __weakref__\n |      list of weak references to the object (if defined)\n |  \n |  ----------------------------------------------------------------------\n |  Methods inherited from sklearn.base.BaseEstimator:\n |  \n |  __getstate__(self)\n |  \n |  __repr__(self, N_CHAR_MAX=700)\n |      Return repr(self).\n |  \n |  __setstate__(self, state)\n |  \n |  get_params(self, deep=True)\n |      Get parameters for this estimator.\n |      \n |      Parameters\n |      ----------\n |      deep : bool, default=True\n |          If True, will return the parameters for this estimator and\n |          contained subobjects that are estimators.\n |      \n |      Returns\n |      -------\n |      params : mapping of string to any\n |          Parameter names mapped to their values.\n |  \n |  set_params(self, **params)\n |      Set the parameters of this estimator.\n |      \n |      The method works on simple estimators as well as on nested objects\n |      (such as pipelines). The latter have parameters of the form\n |      ``<component>__<parameter>`` so that it's possible to update each\n |      component of a nested object.\n |      \n |      Parameters\n |      ----------\n |      **params : dict\n |          Estimator parameters.\n |      \n |      Returns\n |      -------\n |      self : object\n |          Estimator instance.\n\n"
     ]
    }
   ],
   "source": [
    "# create an object of CountVectorizer() class \n",
    "from sklearn.feature_extraction.text import CountVectorizer \n",
    "help(CountVectorizer)"
   ]
  },
  {
   "cell_type": "code",
   "execution_count": 5,
   "metadata": {},
   "outputs": [],
   "source": [
    "vec = CountVectorizer()"
   ]
  },
  {
   "cell_type": "markdown",
   "metadata": {},
   "source": [
    "Here ```vec``` is an object of class ```CountVectorizer()```. This has a method called  ```fit()``` which converts a corpus of documents to a matrix of 'tokens'."
   ]
  },
  {
   "cell_type": "code",
   "execution_count": 6,
   "metadata": {},
   "outputs": [
    {
     "output_type": "execute_result",
     "data": {
      "text/plain": [
       "{'upgrad': 15,\n",
       " 'is': 9,\n",
       " 'great': 6,\n",
       " 'educational': 3,\n",
       " 'institution': 8,\n",
       " 'greatness': 7,\n",
       " 'depends': 2,\n",
       " 'on': 12,\n",
       " 'ethics': 4,\n",
       " 'story': 14,\n",
       " 'of': 11,\n",
       " 'and': 0,\n",
       " 'sholey': 13,\n",
       " 'cinema': 1,\n",
       " 'good': 5,\n",
       " 'movie': 10}"
      ]
     },
     "metadata": {},
     "execution_count": 6
    }
   ],
   "source": [
    "# fit the vectorizer on training data \n",
    "vec.fit(X_train)\n",
    "vec.vocabulary_"
   ]
  },
  {
   "cell_type": "markdown",
   "metadata": {},
   "source": [
    "```Countvectorizer()``` has converted the documents into a set of unique words alphabetically sorted and indexed.\n",
    "\n",
    "\n",
    "**Stop Words**\n",
    "\n",
    "We can see a few trivial words such as  'and','is','of', etc. These words don't really make any difference in classyfying a document. These are called **stop words**. So we would like to get rid of them. \n",
    "\n",
    "We can remove them by passing a parameter stop_words='english' while instantiating ```Countvectorizer()``` as follows: "
   ]
  },
  {
   "cell_type": "code",
   "execution_count": 7,
   "metadata": {},
   "outputs": [
    {
     "output_type": "execute_result",
     "data": {
      "text/plain": [
       "{'upgrad': 11,\n",
       " 'great': 5,\n",
       " 'educational': 2,\n",
       " 'institution': 7,\n",
       " 'greatness': 6,\n",
       " 'depends': 1,\n",
       " 'ethics': 3,\n",
       " 'story': 10,\n",
       " 'sholey': 9,\n",
       " 'cinema': 0,\n",
       " 'good': 4,\n",
       " 'movie': 8}"
      ]
     },
     "metadata": {},
     "execution_count": 7
    }
   ],
   "source": [
    "# fitting the vectorizer on training data again\n",
    "# removing the stop words this time\n",
    "vec = CountVectorizer(stop_words='english')\n",
    "vec.fit(X_train)\n",
    "vec.vocabulary_"
   ]
  },
  {
   "cell_type": "markdown",
   "metadata": {},
   "source": [
    "Notice that the vocabulary has reduced to 12 from 15. Another way of printing the 'vocabulary' is as follows:"
   ]
  },
  {
   "cell_type": "code",
   "execution_count": 8,
   "metadata": {},
   "outputs": [
    {
     "output_type": "stream",
     "name": "stdout",
     "text": [
      "['cinema', 'depends', 'educational', 'ethics', 'good', 'great', 'greatness', 'institution', 'movie', 'sholey', 'story', 'upgrad']\n12\n"
     ]
    }
   ],
   "source": [
    "# printing feature names\n",
    "print(vec.get_feature_names())\n",
    "print(len(vec.get_feature_names()))"
   ]
  },
  {
   "cell_type": "markdown",
   "metadata": {},
   "source": [
    "So our final dictionary is made of 12 words (after discarding the stop words). Now, to do classification, we need to represent all the documents with these words (or tokens) as features. \n",
    "\n",
    "Every document will be converted into a *feature vector* representing presence of these words in that document. Let's convert each of our training documents in to a feature vector."
   ]
  },
  {
   "cell_type": "code",
   "execution_count": 9,
   "metadata": {},
   "outputs": [
    {
     "output_type": "execute_result",
     "data": {
      "text/plain": [
       "<5x12 sparse matrix of type '<class 'numpy.int64'>'\n",
       "\twith 20 stored elements in Compressed Sparse Row format>"
      ]
     },
     "metadata": {},
     "execution_count": 9
    }
   ],
   "source": [
    "# another way of representing the features\n",
    "X_transformed = vec.transform(X_train)\n",
    "X_transformed"
   ]
  },
  {
   "cell_type": "markdown",
   "metadata": {},
   "source": [
    "You can see X_tranformed is a 5 x 12 **sparse matrix**. It has 5 rows for each of our 5 documents and 12 columns each \n",
    "for one word of the dictionary which we just created. Let us print X_transformed."
   ]
  },
  {
   "cell_type": "code",
   "execution_count": 10,
   "metadata": {
    "scrolled": true
   },
   "outputs": [
    {
     "output_type": "stream",
     "name": "stdout",
     "text": [
      "  (0, 2)\t1\n  (0, 5)\t1\n  (0, 7)\t1\n  (0, 11)\t1\n  (1, 1)\t1\n  (1, 2)\t1\n  (1, 3)\t1\n  (1, 6)\t1\n  (2, 2)\t1\n  (2, 3)\t1\n  (2, 5)\t1\n  (2, 6)\t1\n  (2, 10)\t1\n  (3, 0)\t1\n  (3, 5)\t1\n  (3, 9)\t1\n  (4, 1)\t1\n  (4, 4)\t2\n  (4, 8)\t1\n  (4, 10)\t1\n"
     ]
    }
   ],
   "source": [
    "print(X_transformed)"
   ]
  },
  {
   "cell_type": "markdown",
   "metadata": {},
   "source": [
    "This representation can be understood as follows:\n",
    "\n",
    "Consider first 4 rows of the output: (0,2), (0,5), (0,7) and (0,11). It says that the first document (index 0) has \n",
    "7th , 2nd , 5th and 11th 'word' present in the document, and that they appear only\n",
    "once in the document- indicated by the right hand column entry. \n",
    "\n",
    "Similarly, consider the entry (4,4) (third from bottom). It says that the fifth document has the fifth word present twice. Indeed, the 5th word('good') appears twice in the 5th document. \n",
    "\n",
    "In real problems, you often work with large documents and vocabularies, and each document contains only a few words in the vocabulary. So it would be a waste of space to store the vocabulary in a typical dataframe, since most entries would be zero. Also, matrix products, additions etc. are much faster with sparse matrices. That's why we use sparse matrices to store the data.\n",
    "\n",
    "\n",
    "Let us convert this sparse matrix into a more easily interpretable array:"
   ]
  },
  {
   "cell_type": "code",
   "execution_count": 11,
   "metadata": {},
   "outputs": [
    {
     "output_type": "execute_result",
     "data": {
      "text/plain": [
       "array([[0, 0, 1, 0, 0, 1, 0, 1, 0, 0, 0, 1],\n",
       "       [0, 1, 1, 1, 0, 0, 1, 0, 0, 0, 0, 0],\n",
       "       [0, 0, 1, 1, 0, 1, 1, 0, 0, 0, 1, 0],\n",
       "       [1, 0, 0, 0, 0, 1, 0, 0, 0, 1, 0, 0],\n",
       "       [0, 1, 0, 0, 2, 0, 0, 0, 1, 0, 1, 0]], dtype=int64)"
      ]
     },
     "metadata": {},
     "execution_count": 11
    }
   ],
   "source": [
    "# converting transformed matrix back to an array\n",
    "# note the high number of zeros\n",
    "X_transformed.toarray()"
   ]
  },
  {
   "cell_type": "markdown",
   "metadata": {},
   "source": [
    "To make the dataset more readable, let us examine the vocabulary and the document-term matrix together in a pandas dataframe. The way to convert a matrix into a dataframe is ```pd.DataFrame(matrix, columns=columns)```.\n"
   ]
  },
  {
   "cell_type": "code",
   "execution_count": 12,
   "metadata": {},
   "outputs": [
    {
     "output_type": "execute_result",
     "data": {
      "text/plain": [
       "   cinema  depends  educational  ethics  good  great  greatness  institution  \\\n",
       "0       0        0            1       0     0      1          0            1   \n",
       "1       0        1            1       1     0      0          1            0   \n",
       "2       0        0            1       1     0      1          1            0   \n",
       "3       1        0            0       0     0      1          0            0   \n",
       "4       0        1            0       0     2      0          0            0   \n",
       "\n",
       "   movie  sholey  story  upgrad  \n",
       "0      0       0      0       1  \n",
       "1      0       0      0       0  \n",
       "2      0       0      1       0  \n",
       "3      0       1      0       0  \n",
       "4      1       0      1       0  "
      ],
      "text/html": "<div>\n<style scoped>\n    .dataframe tbody tr th:only-of-type {\n        vertical-align: middle;\n    }\n\n    .dataframe tbody tr th {\n        vertical-align: top;\n    }\n\n    .dataframe thead th {\n        text-align: right;\n    }\n</style>\n<table border=\"1\" class=\"dataframe\">\n  <thead>\n    <tr style=\"text-align: right;\">\n      <th></th>\n      <th>cinema</th>\n      <th>depends</th>\n      <th>educational</th>\n      <th>ethics</th>\n      <th>good</th>\n      <th>great</th>\n      <th>greatness</th>\n      <th>institution</th>\n      <th>movie</th>\n      <th>sholey</th>\n      <th>story</th>\n      <th>upgrad</th>\n    </tr>\n  </thead>\n  <tbody>\n    <tr>\n      <th>0</th>\n      <td>0</td>\n      <td>0</td>\n      <td>1</td>\n      <td>0</td>\n      <td>0</td>\n      <td>1</td>\n      <td>0</td>\n      <td>1</td>\n      <td>0</td>\n      <td>0</td>\n      <td>0</td>\n      <td>1</td>\n    </tr>\n    <tr>\n      <th>1</th>\n      <td>0</td>\n      <td>1</td>\n      <td>1</td>\n      <td>1</td>\n      <td>0</td>\n      <td>0</td>\n      <td>1</td>\n      <td>0</td>\n      <td>0</td>\n      <td>0</td>\n      <td>0</td>\n      <td>0</td>\n    </tr>\n    <tr>\n      <th>2</th>\n      <td>0</td>\n      <td>0</td>\n      <td>1</td>\n      <td>1</td>\n      <td>0</td>\n      <td>1</td>\n      <td>1</td>\n      <td>0</td>\n      <td>0</td>\n      <td>0</td>\n      <td>1</td>\n      <td>0</td>\n    </tr>\n    <tr>\n      <th>3</th>\n      <td>1</td>\n      <td>0</td>\n      <td>0</td>\n      <td>0</td>\n      <td>0</td>\n      <td>1</td>\n      <td>0</td>\n      <td>0</td>\n      <td>0</td>\n      <td>1</td>\n      <td>0</td>\n      <td>0</td>\n    </tr>\n    <tr>\n      <th>4</th>\n      <td>0</td>\n      <td>1</td>\n      <td>0</td>\n      <td>0</td>\n      <td>2</td>\n      <td>0</td>\n      <td>0</td>\n      <td>0</td>\n      <td>1</td>\n      <td>0</td>\n      <td>1</td>\n      <td>0</td>\n    </tr>\n  </tbody>\n</table>\n</div>"
     },
     "metadata": {},
     "execution_count": 12
    }
   ],
   "source": [
    "# converting matrix to dataframe\n",
    "pd.DataFrame(X_transformed.toarray(), \n",
    "             columns=vec.get_feature_names())"
   ]
  },
  {
   "cell_type": "markdown",
   "metadata": {},
   "source": [
    "This table shows how many times a particular word occurs in document. In other words, this is a frequency table of the words."
   ]
  },
  {
   "cell_type": "markdown",
   "metadata": {},
   "source": [
    "A corpus of documents can thus be represented by a matrix with one row per document and one column per\n",
    "token (e.g. word) occurring in the corpus."
   ]
  },
  {
   "cell_type": "markdown",
   "metadata": {},
   "source": [
    "Let's now import and transform the test data as well."
   ]
  },
  {
   "cell_type": "code",
   "execution_count": 13,
   "metadata": {},
   "outputs": [
    {
     "output_type": "execute_result",
     "data": {
      "text/plain": [
       "                            Document      Class\n",
       "0  very good educational institution  education"
      ],
      "text/html": "<div>\n<style scoped>\n    .dataframe tbody tr th:only-of-type {\n        vertical-align: middle;\n    }\n\n    .dataframe tbody tr th {\n        vertical-align: top;\n    }\n\n    .dataframe thead th {\n        text-align: right;\n    }\n</style>\n<table border=\"1\" class=\"dataframe\">\n  <thead>\n    <tr style=\"text-align: right;\">\n      <th></th>\n      <th>Document</th>\n      <th>Class</th>\n    </tr>\n  </thead>\n  <tbody>\n    <tr>\n      <th>0</th>\n      <td>very good educational institution</td>\n      <td>education</td>\n    </tr>\n  </tbody>\n</table>\n</div>"
     },
     "metadata": {},
     "execution_count": 13
    }
   ],
   "source": [
    "# test data\n",
    "test_docs = pd.read_csv('example_test.csv') \n",
    "test_docs"
   ]
  },
  {
   "cell_type": "code",
   "execution_count": 14,
   "metadata": {},
   "outputs": [
    {
     "output_type": "execute_result",
     "data": {
      "text/plain": [
       "                            Document  Class\n",
       "0  very good educational institution      1"
      ],
      "text/html": "<div>\n<style scoped>\n    .dataframe tbody tr th:only-of-type {\n        vertical-align: middle;\n    }\n\n    .dataframe tbody tr th {\n        vertical-align: top;\n    }\n\n    .dataframe thead th {\n        text-align: right;\n    }\n</style>\n<table border=\"1\" class=\"dataframe\">\n  <thead>\n    <tr style=\"text-align: right;\">\n      <th></th>\n      <th>Document</th>\n      <th>Class</th>\n    </tr>\n  </thead>\n  <tbody>\n    <tr>\n      <th>0</th>\n      <td>very good educational institution</td>\n      <td>1</td>\n    </tr>\n  </tbody>\n</table>\n</div>"
     },
     "metadata": {},
     "execution_count": 14
    }
   ],
   "source": [
    "# convert label to a numerical variable\n",
    "test_docs['Class'] = test_docs.Class.map({'cinema':0, 'education':1})\n",
    "test_docs"
   ]
  },
  {
   "cell_type": "code",
   "execution_count": 15,
   "metadata": {},
   "outputs": [
    {
     "output_type": "stream",
     "name": "stdout",
     "text": [
      "X_test\n['very good educational institution']\ny_test\n[1]\n"
     ]
    }
   ],
   "source": [
    "# convert to numpy array\n",
    "test_numpy_array = test_docs.values\n",
    "\n",
    "# split into X and y\n",
    "X_test = test_numpy_array[:,0]\n",
    "y_test = test_numpy_array[:,1]\n",
    "\n",
    "print(\"X_test\")\n",
    "print(X_test)\n",
    "print(\"y_test\")\n",
    "print(y_test)"
   ]
  },
  {
   "cell_type": "code",
   "execution_count": 16,
   "metadata": {},
   "outputs": [
    {
     "output_type": "execute_result",
     "data": {
      "text/plain": [
       "<1x12 sparse matrix of type '<class 'numpy.int64'>'\n",
       "\twith 3 stored elements in Compressed Sparse Row format>"
      ]
     },
     "metadata": {},
     "execution_count": 16
    }
   ],
   "source": [
    "# transform the test data\n",
    "# note that you *never* fit on test data, only on training data\n",
    "# and only transform the test data\n",
    "X_test_transformed = vec.transform(X_test)\n",
    "X_test_transformed"
   ]
  },
  {
   "cell_type": "code",
   "execution_count": 17,
   "metadata": {},
   "outputs": [
    {
     "output_type": "execute_result",
     "data": {
      "text/plain": [
       "array([[0, 0, 1, 0, 1, 0, 0, 1, 0, 0, 0, 0]], dtype=int64)"
      ]
     },
     "metadata": {},
     "execution_count": 17
    }
   ],
   "source": [
    "# convert to non-sparse array\n",
    "X_test=X_test_transformed.toarray()\n",
    "X_test"
   ]
  },
  {
   "cell_type": "markdown",
   "metadata": {},
   "source": [
    "Let us summarise all we have done till now:\n",
    "\n",
    "- ```vect.fit(train)``` learns the vocabulary of the training data\n",
    "- ```vect.transform(train)``` uses the fitted vocabulary to build a document-term matrix from the training data\n",
    "- ```vect.transform(test)``` uses the fitted vocabulary to build a document-term matrix from the testing data (and ignores tokens it hasn't seen before)"
   ]
  },
  {
   "cell_type": "markdown",
   "metadata": {},
   "source": [
    "### 2. Building the Model: Multinomial Naive Bayes"
   ]
  },
  {
   "cell_type": "code",
   "execution_count": 18,
   "metadata": {},
   "outputs": [],
   "source": [
    "# building a multinomial NB model\n",
    "from sklearn.naive_bayes import MultinomialNB\n",
    "\n",
    "# instantiate NB class\n",
    "mnb=MultinomialNB()\n",
    "\n",
    "# fitting the model on training data\n",
    "mnb.fit(X_transformed, y_train)\n",
    "\n",
    "# note that we are using the sparse matrix X_transformed, \n",
    "# though you can also use the non-sparse version\n",
    "# mnb.fit(X_transformed.toarray(), y_train) \n",
    "\n",
    "# predicting probabilities of test data\n",
    "proba = mnb.predict_proba(X_test)\n"
   ]
  },
  {
   "cell_type": "code",
   "execution_count": 19,
   "metadata": {},
   "outputs": [
    {
     "output_type": "stream",
     "name": "stdout",
     "text": [
      "probability of test document belonging to class CINEMA [0.32808399]\nprobability of test document belonging to class EDUCATION [0.67191601]\n"
     ]
    }
   ],
   "source": [
    "# probability of each class (test data)\n",
    "print(\"probability of test document belonging to class CINEMA\" , proba[:,0])\n",
    "print(\"probability of test document belonging to class EDUCATION\" , proba[:,1])"
   ]
  },
  {
   "cell_type": "markdown",
   "metadata": {},
   "source": [
    "### 3. Building the Model: Bernoulli Naive Bayes"
   ]
  },
  {
   "cell_type": "code",
   "execution_count": 20,
   "metadata": {},
   "outputs": [
    {
     "output_type": "execute_result",
     "data": {
      "text/plain": [
       "array([[0.2326374, 0.7673626]])"
      ]
     },
     "metadata": {},
     "execution_count": 20
    }
   ],
   "source": [
    "from sklearn.naive_bayes import BernoulliNB\n",
    "\n",
    "# instantiating bernoulli NB class\n",
    "bnb=BernoulliNB()\n",
    "\n",
    "# fitting the model\n",
    "bnb.fit(X_transformed, y_train)\n",
    "\n",
    "# also works\n",
    "# bnb.fit(X_transformed.toarray(), y_train)\n",
    "\n",
    "# predicting probability of test data\n",
    "bnb.predict_proba(X_test)\n",
    "prob_bnb = bnb.predict_proba(X_test)\n",
    "prob_bnb"
   ]
  },
  {
   "cell_type": "markdown",
   "metadata": {},
   "source": [
    "In the next notebook, we will use Multinomial and Bernoulli Naive Bayes to solve an interesting real problem - classifying SMSes as spam or ham. We'll also see how to decide the optimal cutoff probability and evaluate the model.\n"
   ]
  }
 ],
 "metadata": {
  "anaconda-cloud": {},
  "kernelspec": {
   "name": "python3",
   "display_name": "Python 3.8.3 64-bit ('.venv')",
   "metadata": {
    "interpreter": {
     "hash": "b507fa764e1ac951ac859d6b36c0c5568f99e59d793d9909ca5bc1fcdae82b50"
    }
   }
  },
  "language_info": {
   "codemirror_mode": {
    "name": "ipython",
    "version": 3
   },
   "file_extension": ".py",
   "mimetype": "text/x-python",
   "name": "python",
   "nbconvert_exporter": "python",
   "pygments_lexer": "ipython3",
   "version": "3.8.3-final"
  }
 },
 "nbformat": 4,
 "nbformat_minor": 1
}