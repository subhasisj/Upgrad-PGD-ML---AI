{
 "cells": [
  {
   "cell_type": "markdown",
   "metadata": {},
   "source": [
    "# Building a Basic CNN: The MNIST Dataset\n",
    "\n",
    "In this notebook, we will build a simple CNN-based architecture to classify the 10 digits (0-9) of the MNIST dataset. The objective of this notebook is to become familiar with the process of building CNNs in Keras.\n",
    "\n",
    "We will go through the following steps:\n",
    "1. Importing libraries and the dataset\n",
    "2. Data preparation: Train-test split, specifying the shape of the input data etc.\n",
    "3. Building and understanding the CNN architecture \n",
    "4. Fitting and evaluating the model\n",
    "\n",
    "Let's dive in."
   ]
  },
  {
   "cell_type": "markdown",
   "metadata": {},
   "source": [
    "## 1. Importing Libraries and the Dataset\n",
    "\n",
    "Let's load the required libraries. From Keras, we need to import two main components:\n",
    "1. `Sequential` from `keras.models`: `Sequential` is the keras abstraction for creating models with a stack of layers (MLP has multiple hidden layers, CNNs have convolutional layers, etc.). \n",
    "2. Various types of layers from `keras.layers`: These layers are added (one after the other) to the `Sequential` model\n",
    "\n",
    "The keras `backend` is needed for keras to know that you are using tensorflow (not Theano) at the backend (the backend is <a href=\"https://keras.io/backend/\">specified in a JSON file</a>). \n"
   ]
  },
  {
   "cell_type": "code",
   "execution_count": 3,
   "metadata": {},
   "outputs": [],
   "source": [
    "import numpy as np\r\n",
    "import random\r\n",
    "import tensorflow as tf\r\n",
    "from tensorflow.keras.datasets import mnist\r\n",
    "from tensorflow.keras import Sequential\r\n",
    "from tensorflow.keras.layers import Dense, Dropout, Flatten, Conv2D, MaxPooling2D"
   ]
  },
  {
   "cell_type": "markdown",
   "metadata": {},
   "source": [
    "Let's load the MNIST dataset from `keras.datasets`. The download may take a few minutes."
   ]
  },
  {
   "cell_type": "code",
   "execution_count": 4,
   "metadata": {},
   "outputs": [
    {
     "name": "stdout",
     "output_type": "stream",
     "text": [
      "Downloading data from https://storage.googleapis.com/tensorflow/tf-keras-datasets/mnist.npz\n",
      "11493376/11490434 [==============================] - 1s 0us/step\n"
     ]
    }
   ],
   "source": [
    "# load the dataset into train and test sets\n",
    "(x_train, y_train), (x_test, y_test) = mnist.load_data()"
   ]
  },
  {
   "cell_type": "code",
   "execution_count": 5,
   "metadata": {
    "scrolled": false
   },
   "outputs": [
    {
     "name": "stdout",
     "output_type": "stream",
     "text": [
      "train data\n",
      "(60000, 28, 28)\n",
      "(60000,)\n",
      "\n",
      " test data\n",
      "(10000, 28, 28)\n",
      "(10000,)\n"
     ]
    }
   ],
   "source": [
    "print(\"train data\")\n",
    "print(x_train.shape)\n",
    "print(y_train.shape)\n",
    "print(\"\\n test data\")\n",
    "print(x_test.shape)\n",
    "print(y_test.shape)"
   ]
  },
  {
   "cell_type": "markdown",
   "metadata": {},
   "source": [
    "So we have 60,000 training and 10,000 test images each of size 28 x 28. Note that the images are grayscale and thus are stored as 2D arrays.<br> \n",
    "\n",
    "Also, let's sample only 20k images for training (just to speed up the training a bit)."
   ]
  },
  {
   "cell_type": "code",
   "execution_count": 6,
   "metadata": {},
   "outputs": [
    {
     "name": "stdout",
     "output_type": "stream",
     "text": [
      "(20000, 28, 28)\n",
      "(20000,)\n"
     ]
    }
   ],
   "source": [
    "# sample only 20k images for training\n",
    "idx = np.random.randint(x_train.shape[0], size=20000) # sample 20k indices from 0-60,000\n",
    "x_train = x_train[idx, :]\n",
    "y_train = y_train[idx]\n",
    "print(x_train.shape)\n",
    "print(y_train.shape)"
   ]
  },
  {
   "cell_type": "markdown",
   "metadata": {},
   "source": [
    "## 2. Data Preparation\n",
    "\n",
    "Let's prepare the dataset for feeding to the network. We will do the following three main steps:<br>\n",
    "\n",
    "#### 2.1 Reshape the Data\n",
    "First, let's understand the shape in which the network expects the training data. \n",
    "Since we have 20,000 training samples each of size (28, 28, 1), the training data (`x_train`) needs to be of the shape `(20000, 28, 28, 1)`. If the images were coloured, the shape would have been `(20000, 28, 28, 3)`.\n",
    "\n",
    "Further, each of the 20,000 images have a 0-9 label, so `y_train` needs to be of the shape `(20000, 10)` where each image's label is represented as a 10-d **one-hot encoded vector**.\n",
    "\n",
    "The shapes of `x_test` and `y_test` will be the same as that of `x_train` and `y_train` respectively.\n",
    "\n",
    "#### 2.2 Rescaling (Normalisation)\n",
    "The value of each pixel is between 0-255, so we will **rescale each pixel** by dividing by 255 so that the range becomes 0-1. Recollect <a href=\"https://stats.stackexchange.com/questions/185853/why-do-we-need-to-normalize-the-images-before-we-put-them-into-cnn\">why normalisation is important for training NNs</a>.\n",
    "\n",
    "#### 2.3 Converting Input Data Type: Int to Float\n",
    "The pixels are originally stored as type `int`, but it is advisable to feed the data as `float`. This is not really compulsory, but advisable. You can read <a href=\"https://datascience.stackexchange.com/questions/13636/neural-network-data-type-conversion-float-from-int\">why conversion from int to float is helpful here</a>.\n"
   ]
  },
  {
   "cell_type": "code",
   "execution_count": 7,
   "metadata": {},
   "outputs": [],
   "source": [
    "# specify input dimensions of each image\n",
    "img_rows, img_cols = 28, 28\n",
    "input_shape = (img_rows, img_cols, 1)\n",
    "\n",
    "# batch size, number of classes, epochs\n",
    "batch_size = 128\n",
    "num_classes = 10\n",
    "epochs = 12"
   ]
  },
  {
   "cell_type": "markdown",
   "metadata": {},
   "source": [
    "Let's now reshape the array `x_train` from shape `(20000, 28, 28)`to `(20000, 28, 28, 1)`. Analogously for `x_test`."
   ]
  },
  {
   "cell_type": "code",
   "execution_count": 8,
   "metadata": {
    "scrolled": true
   },
   "outputs": [
    {
     "name": "stdout",
     "output_type": "stream",
     "text": [
      "(20000, 28, 28, 1)\n",
      "(10000, 28, 28, 1)\n"
     ]
    }
   ],
   "source": [
    "# reshape x_train and x_test\n",
    "x_train = x_train.reshape(x_train.shape[0], img_rows, img_cols, 1)\n",
    "x_test = x_test.reshape(x_test.shape[0], img_rows, img_cols, 1)\n",
    "print(x_train.shape)\n",
    "print(x_test.shape)"
   ]
  },
  {
   "cell_type": "markdown",
   "metadata": {},
   "source": [
    "Now let's reshape `y_train` from `(20000,)` to `(20000, 10)`. This can be conveniently done using the keras' `utils` module."
   ]
  },
  {
   "cell_type": "code",
   "execution_count": 9,
   "metadata": {
    "scrolled": true
   },
   "outputs": [
    {
     "name": "stdout",
     "output_type": "stream",
     "text": [
      "(20000, 10)\n"
     ]
    }
   ],
   "source": [
    "# convert class labels (from digits) to one-hot encoded vectors\n",
    "y_train = tf.keras.utils.to_categorical(y_train, num_classes)\n",
    "y_test = tf.keras.utils.to_categorical(y_test, num_classes)\n",
    "print(y_train.shape)"
   ]
  },
  {
   "cell_type": "markdown",
   "metadata": {},
   "source": [
    "Finally, let's convert the data type of `x_train` and `x_test` from int to float and normalise the images."
   ]
  },
  {
   "cell_type": "code",
   "execution_count": 10,
   "metadata": {},
   "outputs": [
    {
     "data": {
      "text/plain": "dtype('uint8')"
     },
     "execution_count": 10,
     "metadata": {},
     "output_type": "execute_result"
    }
   ],
   "source": [
    "# originally, the pixels are stored as ints\n",
    "x_train.dtype"
   ]
  },
  {
   "cell_type": "code",
   "execution_count": 11,
   "metadata": {},
   "outputs": [],
   "source": [
    "# convert int to float\n",
    "x_train = x_train.astype('float32')\n",
    "x_test = x_test.astype('float32')\n",
    "\n",
    "# normalise\n",
    "x_train /= 255\n",
    "x_test /= 255"
   ]
  },
  {
   "cell_type": "markdown",
   "metadata": {},
   "source": [
    "## 3. Building the Model"
   ]
  },
  {
   "cell_type": "markdown",
   "metadata": {},
   "source": [
    "Let's now build the CNN architecture. For the MNIST dataset, we do not need to build a very sophisticated CNN - a simple shallow-ish CNN would suffice. \n",
    "\n",
    "We will build a network with:\n",
    "- two convolutional layers having 32 and 64 filters respectively, \n",
    "- followed by a max pooling layer, \n",
    "- and then `Flatten` the output of the pooling layer to give us a long vector, \n",
    "- then add a fully connected `Dense` layer with 128 neurons, and finally\n",
    "- add a `softmax` layer with 10 neurons\n",
    "\n",
    "The generic way to build a model in Keras is to instantiate a `Sequential` model and keep adding `keras.layers` to it. We will also use some dropouts."
   ]
  },
  {
   "cell_type": "code",
   "execution_count": 12,
   "metadata": {
    "scrolled": false
   },
   "outputs": [
    {
     "name": "stdout",
     "output_type": "stream",
     "text": [
      "Model: \"sequential\"\n",
      "_________________________________________________________________\n",
      "Layer (type)                 Output Shape              Param #   \n",
      "=================================================================\n",
      "conv2d (Conv2D)              (None, 26, 26, 32)        320       \n",
      "_________________________________________________________________\n",
      "conv2d_1 (Conv2D)            (None, 24, 24, 64)        18496     \n",
      "_________________________________________________________________\n",
      "max_pooling2d (MaxPooling2D) (None, 12, 12, 64)        0         \n",
      "_________________________________________________________________\n",
      "dropout (Dropout)            (None, 12, 12, 64)        0         \n",
      "_________________________________________________________________\n",
      "flatten (Flatten)            (None, 9216)              0         \n",
      "_________________________________________________________________\n",
      "dense (Dense)                (None, 128)               1179776   \n",
      "_________________________________________________________________\n",
      "dropout_1 (Dropout)          (None, 128)               0         \n",
      "_________________________________________________________________\n",
      "dense_1 (Dense)              (None, 10)                1290      \n",
      "=================================================================\n",
      "Total params: 1,199,882\n",
      "Trainable params: 1,199,882\n",
      "Non-trainable params: 0\n",
      "_________________________________________________________________\n"
     ]
    }
   ],
   "source": [
    "# model\n",
    "model = Sequential()\n",
    "\n",
    "# a keras convolutional layer is called Conv2D\n",
    "# help(Conv2D)\n",
    "# note that the first layer needs to be told the input shape explicitly\n",
    "\n",
    "# first conv layer\n",
    "model.add(Conv2D(32, kernel_size=(3, 3),\n",
    "                 activation='relu',\n",
    "                 input_shape=input_shape)) # input shape = (img_rows, img_cols, 1)\n",
    "\n",
    "# second conv layer\n",
    "model.add(Conv2D(64, kernel_size=(3, 3), \n",
    "                 activation='relu'))\n",
    "model.add(MaxPooling2D(pool_size=(2, 2)))\n",
    "model.add(Dropout(0.25))\n",
    "\n",
    "# flatten and put a fully connected layer\n",
    "model.add(Flatten())\n",
    "model.add(Dense(128, activation='relu')) # fully connected\n",
    "model.add(Dropout(0.5))\n",
    "\n",
    "# softmax layer\n",
    "model.add(Dense(num_classes, activation='softmax'))\n",
    "\n",
    "# model summary\n",
    "model.summary()\n"
   ]
  },
  {
   "cell_type": "markdown",
   "metadata": {},
   "source": [
    "#### Understanding Model Summary\n",
    "\n",
    "It is a good practice to spend some time staring at the model summary above and verify the number of parameteres, output sizes etc. Let's do some calculations to verify that we understand the model deeply enough. \n",
    "\n",
    "- Layer-1 (Conv2D): We have used 32 kernels of size (3, 3), and each kernel has a single bias, so we have 32 x 3 x 3 (weights) + 32 (biases) = 320 parameters (all trainable). Note that the kernels have only one channel since the input images are 2D (grayscale). By default, a convolutional layer uses stride of 1 and no padding, so the output from this layer is of shape 26 x 26 x 32, as shown in the summary above (the first element `None` is for the batch size).\n",
    "\n",
    "- Layer-2 (Conv2D): We have used 64 kernels of size (3, 3), but this time, each kernel has to convolve a tensor of size (26, 26, 32) from the previous layer. Thus, the kernels will also have 32 channels, and so the shape of each kernel is (3, 3, 32) (and we have 64 of them). So we have 64 x 3 x 3 x 32 (weights) + 64 (biases) = 18496 parameters (all trainable). The output shape is (24, 24, 64) since each kernel produces a (24, 24) feature map.\n",
    "\n",
    "- Max pooling: The pooling layer gets the (24, 24, 64) input from the previous conv layer and produces a (12, 12, 64) output (the default pooling uses stride of 2). There are no trainable parameters in the pooling layer.\n",
    "\n",
    "- The `Dropout` layer does not alter the output shape and has no trainable parameters.\n",
    "\n",
    "- The `Flatten` layer simply takes in the (12, 12, 64) output from the previous layer and 'flattens' it into a vector of length 12 x 12 x 64 = 9216.\n",
    "\n",
    "- The `Dense` layer is a plain fully connected layer with 128 neurons. It takes the 9216-dimensional output vector from the previous layer (layer l-1) as the input and has 128 x 9216 (weights) + 128 (biases) =  1179776 trainable parameters. The output of this layer is a 128-dimensional vector.\n",
    "\n",
    "- The `Dropout` layer simply drops a few neurons.\n",
    "\n",
    "- Finally, we have a `Dense` softmax layer with 10 neurons which takes the 128-dimensional vector from the previous layer as input. It has 128 x 10 (weights) + 10 (biases) = 1290 trainable parameters.\n",
    "\n",
    "Thus, the total number of parameters are 1,199,882 all of which are trainable."
   ]
  },
  {
   "cell_type": "markdown",
   "metadata": {},
   "source": [
    "## 4. Fitting and Evaluating the Model\n",
    "\n",
    "Let's now compile and train the model."
   ]
  },
  {
   "cell_type": "code",
   "execution_count": 19,
   "metadata": {},
   "outputs": [],
   "source": [
    "# usual cross entropy loss\r\n",
    "# choose any optimiser such as adam, rmsprop etc\r\n",
    "# metric is accuracy\r\n",
    "model.compile(loss=tf.keras.losses.categorical_crossentropy,\r\n",
    "              optimizer=tf.keras.optimizers.Adadelta(),\r\n",
    "              metrics=['accuracy',tf.keras.metrics.Recall()])"
   ]
  },
  {
   "cell_type": "code",
   "execution_count": 20,
   "metadata": {
    "scrolled": false
   },
   "outputs": [
    {
     "name": "stdout",
     "output_type": "stream",
     "text": [
      "Epoch 1/12\n",
      "157/157 [==============================] - 19s 114ms/step - loss: 2.2997 - accuracy: 0.1196 - recall: 0.0000e+00 - val_loss: 2.2814 - val_accuracy: 0.1937 - val_recall: 0.0000e+00\n",
      "Epoch 2/12\n",
      "157/157 [==============================] - 18s 112ms/step - loss: 2.2831 - accuracy: 0.1490 - recall: 0.0000e+00 - val_loss: 2.2610 - val_accuracy: 0.2734 - val_recall: 0.0000e+00\n",
      "Epoch 3/12\n",
      "157/157 [==============================] - 17s 111ms/step - loss: 2.2636 - accuracy: 0.1884 - recall: 0.0000e+00 - val_loss: 2.2395 - val_accuracy: 0.3469 - val_recall: 0.0000e+00\n",
      "Epoch 4/12\n",
      "157/157 [==============================] - 17s 111ms/step - loss: 2.2449 - accuracy: 0.2259 - recall: 0.0000e+00 - val_loss: 2.2165 - val_accuracy: 0.3996 - val_recall: 0.0000e+00\n",
      "Epoch 5/12\n",
      "157/157 [==============================] - 18s 115ms/step - loss: 2.2219 - accuracy: 0.2704 - recall: 0.0000e+00 - val_loss: 2.1912 - val_accuracy: 0.4394 - val_recall: 0.0000e+00\n",
      "Epoch 6/12\n",
      "157/157 [==============================] - 16s 103ms/step - loss: 2.2006 - accuracy: 0.3027 - recall: 0.0000e+00 - val_loss: 2.1633 - val_accuracy: 0.4728 - val_recall: 0.0000e+00\n",
      "Epoch 7/12\n",
      "157/157 [==============================] - 16s 103ms/step - loss: 2.1732 - accuracy: 0.3504 - recall: 0.0000e+00 - val_loss: 2.1321 - val_accuracy: 0.5073 - val_recall: 0.0000e+00\n",
      "Epoch 8/12\n",
      "157/157 [==============================] - 16s 105ms/step - loss: 2.1455 - accuracy: 0.3794 - recall: 0.0000e+00 - val_loss: 2.0978 - val_accuracy: 0.5395 - val_recall: 0.0000e+00\n",
      "Epoch 9/12\n",
      "157/157 [==============================] - 17s 110ms/step - loss: 2.1168 - accuracy: 0.3986 - recall: 0.0000e+00 - val_loss: 2.0597 - val_accuracy: 0.5720 - val_recall: 0.0000e+00\n",
      "Epoch 10/12\n",
      "157/157 [==============================] - 17s 107ms/step - loss: 2.0799 - accuracy: 0.4262 - recall: 0.0000e+00 - val_loss: 2.0177 - val_accuracy: 0.6053 - val_recall: 0.0000e+00\n",
      "Epoch 11/12\n",
      "157/157 [==============================] - 16s 105ms/step - loss: 2.0418 - accuracy: 0.4450 - recall: 0.0000e+00 - val_loss: 1.9708 - val_accuracy: 0.6359 - val_recall: 0.0000e+00\n",
      "Epoch 12/12\n",
      "157/157 [==============================] - 16s 104ms/step - loss: 1.9962 - accuracy: 0.4740 - recall: 0.0000e+00 - val_loss: 1.9197 - val_accuracy: 0.6519 - val_recall: 0.0000e+00\n"
     ]
    },
    {
     "data": {
      "text/plain": "<tensorflow.python.keras.callbacks.History at 0x23673581b80>"
     },
     "execution_count": 20,
     "metadata": {},
     "output_type": "execute_result"
    }
   ],
   "source": [
    "# fit the model\n",
    "# this should take around 10-15 minutes when run locally on a windows/mac PC \n",
    "model.fit(x_train, y_train,\n",
    "          batch_size=batch_size,\n",
    "          epochs=epochs,\n",
    "          verbose=1,\n",
    "          validation_data=(x_test, y_test))"
   ]
  },
  {
   "cell_type": "code",
   "execution_count": 21,
   "metadata": {
    "scrolled": false
   },
   "outputs": [
    {
     "name": "stdout",
     "output_type": "stream",
     "text": [
      "313/313 [==============================] - 2s 6ms/step - loss: 1.9197 - accuracy: 0.6519 - recall: 0.0000e+00\n"
     ]
    },
    {
     "data": {
      "text/plain": "[1.9197347164154053, 0.6518999934196472, 0.0]"
     },
     "execution_count": 21,
     "metadata": {},
     "output_type": "execute_result"
    }
   ],
   "source": [
    "# evaluate the model on test data\n",
    "model.evaluate(x_test, y_test)"
   ]
  },
  {
   "cell_type": "code",
   "execution_count": 22,
   "metadata": {},
   "outputs": [
    {
     "name": "stdout",
     "output_type": "stream",
     "text": [
      "['loss', 'accuracy', 'recall']\n"
     ]
    }
   ],
   "source": [
    "print(model.metrics_names)"
   ]
  },
  {
   "cell_type": "markdown",
   "metadata": {},
   "source": [
    "The final loss (on test data) is about 0.04 and the accuracy is 98.59%."
   ]
  }
 ],
 "metadata": {
  "kernelspec": {
   "display_name": "Python 3.8.3 64-bit ('.venv')",
   "name": "python383jvsc74a57bd0b507fa764e1ac951ac859d6b36c0c5568f99e59d793d9909ca5bc1fcdae82b50"
  },
  "language_info": {
   "codemirror_mode": {
    "name": "ipython",
    "version": 3
   },
   "file_extension": ".py",
   "mimetype": "text/x-python",
   "name": "python",
   "nbconvert_exporter": "python",
   "pygments_lexer": "ipython3",
   "version": "3.8.3"
  }
 },
 "nbformat": 4,
 "nbformat_minor": 2
}