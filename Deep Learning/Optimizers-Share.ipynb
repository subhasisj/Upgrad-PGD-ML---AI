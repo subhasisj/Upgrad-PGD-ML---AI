{
 "cells": [
  {
   "cell_type": "code",
   "execution_count": 1,
   "metadata": {},
   "outputs": [],
   "source": [
    "# List of optimizers\n",
    "# Adadelta\n",
    "# Adagrad\n",
    "# Adam\n",
    "# Adamax\n",
    "# Nadam\n",
    "# RMSprop\n",
    "# SGD\n",
    "#GD\n",
    "# Mini Batch GD\n",
    "\n",
    "\n",
    "# Rmsprop\n",
    "#Adam  - Images and NLP "
   ]
  },
  {
   "cell_type": "code",
   "execution_count": 11,
   "metadata": {},
   "outputs": [],
   "source": [
    "import os, time\n",
    "import numpy as np\n",
    "import tensorflow as tf \n",
    "from tensorflow.keras.models import Sequential\n",
    "from tensorflow.keras.layers import Conv2D, MaxPooling2D, Flatten, Dense\n",
    "from tensorflow.keras.datasets import mnist\n",
    "from tensorflow.keras.callbacks import TensorBoard"
   ]
  },
  {
   "cell_type": "code",
   "execution_count": null,
   "metadata": {},
   "outputs": [],
   "source": [
    "# MNIST - Number - Handwriteen - 0,1,2.9\n",
    "\n",
    "# Fashion MNIST - Fashion , Shirt , Sandals , Shoes etc."
   ]
  },
  {
   "cell_type": "code",
   "execution_count": 12,
   "metadata": {},
   "outputs": [],
   "source": [
    "(X_train, y_train), (X_test, y_test) = mnist.load_data()\n",
    "X_train = np.expand_dims(X_train, 3)\n",
    "X_test = np.expand_dims(X_test, 3)"
   ]
  },
  {
   "cell_type": "code",
   "execution_count": 4,
   "metadata": {},
   "outputs": [],
   "source": [
    "#np.expand_dims : (60000, 28, 28) → (60000, 28, 28, 1) for input_shape in first layer of model"
   ]
  },
  {
   "cell_type": "code",
   "execution_count": 14,
   "metadata": {},
   "outputs": [
    {
     "name": "stdout",
     "output_type": "stream",
     "text": [
      "Epoch 1/3\n",
      "1875/1875 [==============================] - 16s 8ms/step - loss: 3.7150 - accuracy: 0.7853\n",
      "Epoch 2/3\n",
      "1875/1875 [==============================] - 16s 9ms/step - loss: 0.1271 - accuracy: 0.9640\n",
      "Epoch 3/3\n",
      "1875/1875 [==============================] - 17s 9ms/step - loss: 0.0898 - accuracy: 0.9737\n",
      "Epoch 1/3\n",
      "1875/1875 [==============================] - 17s 9ms/step - loss: 2.3720 - accuracy: 0.8310\n",
      "Epoch 2/3\n",
      "1875/1875 [==============================] - 16s 9ms/step - loss: 0.0924 - accuracy: 0.9753\n",
      "Epoch 3/3\n",
      "1875/1875 [==============================] - 16s 9ms/step - loss: 0.0711 - accuracy: 0.9812\n",
      "Epoch 1/3\n",
      "1875/1875 [==============================] - 16s 8ms/step - loss: 2.5363 - accuracy: 0.6579\n",
      "Epoch 2/3\n",
      "1875/1875 [==============================] - 15s 8ms/step - loss: 0.3651 - accuracy: 0.8936\n",
      "Epoch 3/3\n",
      "1875/1875 [==============================] - 16s 9ms/step - loss: 0.3050 - accuracy: 0.9136\n"
     ]
    }
   ],
   "source": [
    "optimizers = [\n",
    "    'Adadelta',\n",
    "    'Adagrad',\n",
    "    'Adam',\n",
    "    'Adamax',\n",
    "    'Nadam',\n",
    "    'RMSprop',\n",
    "    'SGD'\n",
    "]\n",
    "\n",
    "optimizers = [\n",
    "  \n",
    "    'Adam',\n",
    "    'RMSprop',\n",
    "    'SGD'\n",
    "]\n",
    "\n",
    "\n",
    "for optimizer in optimizers:\n",
    "    model = Sequential()\n",
    "    model.add(Conv2D(16, (3,3), activation='relu', input_shape=X_train[0].shape))\n",
    "    model.add(MaxPooling2D())\n",
    "    model.add(Conv2D(16, (3,3), activation='relu'))\n",
    "    model.add(MaxPooling2D())\n",
    "    model.add(Flatten())\n",
    "    model.add(Dense(10, activation='softmax'))\n",
    "    \n",
    "    \n",
    "    model.compile(optimizer=optimizer, loss='sparse_categorical_crossentropy', metrics=['accuracy'])\n",
    "    \n",
    "    \n",
    "    \n",
    "    tensorboard = TensorBoard(os.path.join('log_test4',f'{optimizer}_{time.time()}'))\n",
    "    \n",
    "    \n",
    "    model.fit(X_train, y_train, batch_size=32, epochs=3, callbacks=[tensorboard])"
   ]
  },
  {
   "cell_type": "code",
   "execution_count": 8,
   "metadata": {},
   "outputs": [],
   "source": [
    "#tensorboard --logdir log_test4\n",
    "\n",
    "\n",
    "# tensorboard --logdir log_test4\n",
    "\n",
    "#Adam = Nadam = RMSProp > Adamax > SGD > Adagrad >> Adadelta\n",
    "\n",
    "#Among various types of optimizer, I’ve confirmed RMSprop and Adam is really effective in terms of CNN sequentail model."
   ]
  }
 ],
 "metadata": {
  "kernelspec": {
   "display_name": "Python 3",
   "language": "python",
   "name": "python3"
  },
  "language_info": {
   "codemirror_mode": {
    "name": "ipython",
    "version": 3
   },
   "file_extension": ".py",
   "mimetype": "text/x-python",
   "name": "python",
   "nbconvert_exporter": "python",
   "pygments_lexer": "ipython3",
   "version": "3.7.7"
  }
 },
 "nbformat": 4,
 "nbformat_minor": 4
}
